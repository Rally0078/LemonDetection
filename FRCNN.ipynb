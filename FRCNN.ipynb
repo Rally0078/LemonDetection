{
 "cells": [
  {
   "cell_type": "code",
   "execution_count": 2,
   "metadata": {},
   "outputs": [],
   "source": [
    "import xml"
   ]
  },
  {
   "cell_type": "code",
   "execution_count": 4,
   "metadata": {},
   "outputs": [],
   "source": [
    "import xml.etree.ElementTree as ET"
   ]
  },
  {
   "cell_type": "code",
   "execution_count": 7,
   "metadata": {},
   "outputs": [],
   "source": [
    "result = ET.parse(\"./FRCNNLemons/Annotations/1.xml\")"
   ]
  },
  {
   "cell_type": "code",
   "execution_count": 13,
   "metadata": {},
   "outputs": [],
   "source": [
    "root = result.getroot()"
   ]
  },
  {
   "cell_type": "code",
   "execution_count": 41,
   "metadata": {},
   "outputs": [
    {
     "name": "stdout",
     "output_type": "stream",
     "text": [
      "Unripe\n",
      "Ripe\n",
      "Ripe\n"
     ]
    }
   ],
   "source": [
    "b = root.findall('object')\n",
    "import numpy as np\n",
    "bboxes = np.empty(shape=(len(b), 4))\n",
    "for i, boxes in enumerate(root.iter('object')):\n",
    "    bboxes[i,0] = boxes.find('bndbox/xmin').text\n",
    "    bboxes[i,1] = boxes.find('bndbox/ymin').text\n",
    "\n",
    "    bboxes[i,2] = boxes.find('bndbox/xmin').text\n",
    "    bboxes[i,3] = boxes.find('bndbox/ymin').text\n",
    "    name = boxes.find('name').text\n",
    "    print(name)"
   ]
  },
  {
   "cell_type": "code",
   "execution_count": 1,
   "metadata": {},
   "outputs": [],
   "source": [
    "from utils.VOCLemonDataset import VOCLemon"
   ]
  },
  {
   "cell_type": "code",
   "execution_count": 7,
   "metadata": {},
   "outputs": [],
   "source": [
    "dataset = VOCLemon(image_list_path=\"./FRCNNLemons/ImageSets/Main/Test.txt\", \n",
    "                   image_path=\"./FRCNNLemons/JPEGImages\", \n",
    "                   annot_path=\"./FRCNNLemons/Annotations\")"
   ]
  },
  {
   "cell_type": "code",
   "execution_count": 8,
   "metadata": {},
   "outputs": [],
   "source": [
    "image, bbox = dataset[0]"
   ]
  },
  {
   "cell_type": "code",
   "execution_count": 9,
   "metadata": {},
   "outputs": [
    {
     "data": {
      "text/plain": [
       "{'boxes': array([[  76.51, 1147.08,   76.51, 1147.08],\n",
       "        [ 483.19, 1035.85,  483.19, 1035.85],\n",
       "        [ 629.17,  994.14,  629.17,  994.14],\n",
       "        [1824.87, 1477.29, 1824.87, 1477.29],\n",
       "        [1174.89, 2224.6 , 1174.89, 2224.6 ],\n",
       "        [1817.92, 1202.69, 1817.92, 1202.69],\n",
       "        [2082.09, 1087.99, 2082.09, 1087.99],\n",
       "        [2095.99, 1432.1 , 2095.99, 1432.1 ],\n",
       "        [2182.89,  882.91, 2182.89,  882.91],\n",
       "        [1206.17, 2095.99, 1206.17, 2095.99],\n",
       "        [3277.78,  796.02, 3277.78,  796.02]]),\n",
       " 'labels': array([1, 1, 1, 1, 1, 1, 1, 1, 1, 1, 1])}"
      ]
     },
     "execution_count": 9,
     "metadata": {},
     "output_type": "execute_result"
    }
   ],
   "source": []
  },
  {
   "cell_type": "code",
   "execution_count": 15,
   "metadata": {},
   "outputs": [],
   "source": [
    "from PIL import Image, ImageDraw\n",
    "import torchvision\n",
    "img_pil = torchvision.transforms.functional.to_pil_image(image)"
   ]
  },
  {
   "cell_type": "code",
   "execution_count": 26,
   "metadata": {},
   "outputs": [],
   "source": [
    "img1 = ImageDraw.Draw(img_pil)\n",
    "x1,y1,x2,y2 = bbox['boxes'][0]\n",
    "img1.rectangle(xy=(x1, y1, x2, y2), outline='red')\n",
    "img_pil.show()"
   ]
  },
  {
   "cell_type": "code",
   "execution_count": null,
   "metadata": {},
   "outputs": [],
   "source": []
  }
 ],
 "metadata": {
  "kernelspec": {
   "display_name": "base",
   "language": "python",
   "name": "python3"
  },
  "language_info": {
   "codemirror_mode": {
    "name": "ipython",
    "version": 3
   },
   "file_extension": ".py",
   "mimetype": "text/x-python",
   "name": "python",
   "nbconvert_exporter": "python",
   "pygments_lexer": "ipython3",
   "version": "3.11.5"
  }
 },
 "nbformat": 4,
 "nbformat_minor": 2
}
