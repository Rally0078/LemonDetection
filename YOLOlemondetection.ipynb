{
 "cells": [
  {
   "cell_type": "code",
   "execution_count": null,
   "metadata": {},
   "outputs": [],
   "source": []
  },
  {
   "cell_type": "code",
   "execution_count": 1,
   "metadata": {},
   "outputs": [],
   "source": [
    "from ultralytics import YOLO"
   ]
  },
  {
   "cell_type": "code",
   "execution_count": 2,
   "metadata": {},
   "outputs": [],
   "source": [
    "model = YOLO(model=\"yolo11n.pt\")"
   ]
  },
  {
   "cell_type": "code",
   "execution_count": 3,
   "metadata": {},
   "outputs": [
    {
     "name": "stdout",
     "output_type": "stream",
     "text": [
      "Ultralytics 8.3.29 🚀 Python-3.11.5 torch-2.3.1 CUDA:0 (NVIDIA GeForce RTX 3050 Laptop GPU, 3797MiB)\n",
      "\u001b[34m\u001b[1mengine/trainer: \u001b[0mtask=detect, mode=train, model=yolo11n.pt, data=YOLOv8Lemons/data.yaml, epochs=150, time=None, patience=100, batch=24, imgsz=640, save=True, save_period=-1, cache=False, device=None, workers=8, project=None, name=train, exist_ok=False, pretrained=True, optimizer=auto, verbose=True, seed=0, deterministic=True, single_cls=False, rect=False, cos_lr=False, close_mosaic=10, resume=False, amp=True, fraction=1.0, profile=False, freeze=None, multi_scale=False, overlap_mask=True, mask_ratio=4, dropout=0.0, val=True, split=val, save_json=False, save_hybrid=False, conf=None, iou=0.7, max_det=300, half=False, dnn=False, plots=True, source=None, vid_stride=1, stream_buffer=False, visualize=False, augment=False, agnostic_nms=False, classes=None, retina_masks=False, embed=None, show=False, save_frames=False, save_txt=False, save_conf=False, save_crop=False, show_labels=True, show_conf=True, show_boxes=True, line_width=None, format=torchscript, keras=False, optimize=False, int8=False, dynamic=False, simplify=True, opset=None, workspace=4, nms=False, lr0=0.01, lrf=0.01, momentum=0.937, weight_decay=0.0005, warmup_epochs=3.0, warmup_momentum=0.8, warmup_bias_lr=0.1, box=7.5, cls=0.5, dfl=1.5, pose=12.0, kobj=1.0, label_smoothing=0.0, nbs=64, hsv_h=0.015, hsv_s=0.7, hsv_v=0.4, degrees=0.0, translate=0.1, scale=0.5, shear=0.0, perspective=0.0, flipud=0.0, fliplr=0.5, bgr=0.0, mosaic=1.0, mixup=0.0, copy_paste=0.0, copy_paste_mode=flip, auto_augment=randaugment, erasing=0.4, crop_fraction=1.0, cfg=None, tracker=botsort.yaml, save_dir=runs/detect/train\n",
      "Overriding model.yaml nc=80 with nc=2\n",
      "\n",
      "                   from  n    params  module                                       arguments                     \n",
      "  0                  -1  1       464  ultralytics.nn.modules.conv.Conv             [3, 16, 3, 2]                 \n",
      "  1                  -1  1      4672  ultralytics.nn.modules.conv.Conv             [16, 32, 3, 2]                \n",
      "  2                  -1  1      6640  ultralytics.nn.modules.block.C3k2            [32, 64, 1, False, 0.25]      \n",
      "  3                  -1  1     36992  ultralytics.nn.modules.conv.Conv             [64, 64, 3, 2]                \n",
      "  4                  -1  1     26080  ultralytics.nn.modules.block.C3k2            [64, 128, 1, False, 0.25]     \n",
      "  5                  -1  1    147712  ultralytics.nn.modules.conv.Conv             [128, 128, 3, 2]              \n",
      "  6                  -1  1     87040  ultralytics.nn.modules.block.C3k2            [128, 128, 1, True]           \n",
      "  7                  -1  1    295424  ultralytics.nn.modules.conv.Conv             [128, 256, 3, 2]              \n",
      "  8                  -1  1    346112  ultralytics.nn.modules.block.C3k2            [256, 256, 1, True]           \n",
      "  9                  -1  1    164608  ultralytics.nn.modules.block.SPPF            [256, 256, 5]                 \n",
      " 10                  -1  1    249728  ultralytics.nn.modules.block.C2PSA           [256, 256, 1]                 \n",
      " 11                  -1  1         0  torch.nn.modules.upsampling.Upsample         [None, 2, 'nearest']          \n",
      " 12             [-1, 6]  1         0  ultralytics.nn.modules.conv.Concat           [1]                           \n",
      " 13                  -1  1    111296  ultralytics.nn.modules.block.C3k2            [384, 128, 1, False]          \n",
      " 14                  -1  1         0  torch.nn.modules.upsampling.Upsample         [None, 2, 'nearest']          \n",
      " 15             [-1, 4]  1         0  ultralytics.nn.modules.conv.Concat           [1]                           \n",
      " 16                  -1  1     32096  ultralytics.nn.modules.block.C3k2            [256, 64, 1, False]           \n",
      " 17                  -1  1     36992  ultralytics.nn.modules.conv.Conv             [64, 64, 3, 2]                \n",
      " 18            [-1, 13]  1         0  ultralytics.nn.modules.conv.Concat           [1]                           \n",
      " 19                  -1  1     86720  ultralytics.nn.modules.block.C3k2            [192, 128, 1, False]          \n",
      " 20                  -1  1    147712  ultralytics.nn.modules.conv.Conv             [128, 128, 3, 2]              \n",
      " 21            [-1, 10]  1         0  ultralytics.nn.modules.conv.Concat           [1]                           \n",
      " 22                  -1  1    378880  ultralytics.nn.modules.block.C3k2            [384, 256, 1, True]           \n",
      " 23        [16, 19, 22]  1    431062  ultralytics.nn.modules.head.Detect           [2, [64, 128, 256]]           \n",
      "YOLO11n summary: 319 layers, 2,590,230 parameters, 2,590,214 gradients\n",
      "\n",
      "Transferred 448/499 items from pretrained weights\n",
      "\u001b[34m\u001b[1mTensorBoard: \u001b[0mStart with 'tensorboard --logdir runs/detect/train', view at http://localhost:6006/\n",
      "Freezing layer 'model.23.dfl.conv.weight'\n",
      "\u001b[34m\u001b[1mAMP: \u001b[0mrunning Automatic Mixed Precision (AMP) checks...\n",
      "\u001b[34m\u001b[1mAMP: \u001b[0mchecks passed ✅\n"
     ]
    },
    {
     "name": "stderr",
     "output_type": "stream",
     "text": [
      "\u001b[34m\u001b[1mtrain: \u001b[0mScanning /storage/Programming/PyTorch/LemonDetection/YOLOv8Lemons/data/labels/Train.cache... 47 images, 0 backgrounds, 0 corrupt: 100%|██████████| 47/47 [00:00<?, ?it/s]\n",
      "\u001b[34m\u001b[1mval: \u001b[0mScanning /storage/Programming/PyTorch/LemonDetection/YOLOv8Lemons/data/labels/Validation.cache... 10 images, 0 backgrounds, 0 corrupt: 100%|██████████| 10/10 [00:00<?, ?it/s]\n"
     ]
    },
    {
     "name": "stdout",
     "output_type": "stream",
     "text": [
      "Plotting labels to runs/detect/train/labels.jpg... \n",
      "\u001b[34m\u001b[1moptimizer:\u001b[0m 'optimizer=auto' found, ignoring 'lr0=0.01' and 'momentum=0.937' and determining best 'optimizer', 'lr0' and 'momentum' automatically... \n",
      "\u001b[34m\u001b[1moptimizer:\u001b[0m AdamW(lr=0.001667, momentum=0.9) with parameter groups 81 weight(decay=0.0), 88 weight(decay=0.0005625000000000001), 87 bias(decay=0.0)\n",
      "\u001b[34m\u001b[1mTensorBoard: \u001b[0mmodel graph visualization added ✅\n",
      "Image sizes 640 train, 640 val\n",
      "Using 8 dataloader workers\n",
      "Logging results to \u001b[1mruns/detect/train\u001b[0m\n",
      "Starting training for 150 epochs...\n",
      "\n",
      "      Epoch    GPU_mem   box_loss   cls_loss   dfl_loss  Instances       Size\n"
     ]
    },
    {
     "name": "stderr",
     "output_type": "stream",
     "text": [
      "      1/150      3.51G     0.9727      3.825      1.119         94        640: 100%|██████████| 2/2 [00:01<00:00,  1.96it/s]\n",
      "                 Class     Images  Instances      Box(P          R      mAP50  mAP50-95): 100%|██████████| 1/1 [00:00<00:00,  5.33it/s]\n"
     ]
    },
    {
     "name": "stdout",
     "output_type": "stream",
     "text": [
      "                   all         10         31    0.00739      0.639     0.0739     0.0469\n",
      "\n",
      "      Epoch    GPU_mem   box_loss   cls_loss   dfl_loss  Instances       Size\n"
     ]
    },
    {
     "name": "stderr",
     "output_type": "stream",
     "text": [
      "      2/150      3.49G      1.043      3.797      1.215         83        640: 100%|██████████| 2/2 [00:00<00:00,  3.27it/s]\n",
      "                 Class     Images  Instances      Box(P          R      mAP50  mAP50-95): 100%|██████████| 1/1 [00:00<00:00, 16.07it/s]"
     ]
    },
    {
     "name": "stdout",
     "output_type": "stream",
     "text": [
      "                   all         10         31    0.00759      0.639     0.0645     0.0457\n"
     ]
    },
    {
     "name": "stderr",
     "output_type": "stream",
     "text": [
      "\n"
     ]
    },
    {
     "name": "stdout",
     "output_type": "stream",
     "text": [
      "\n",
      "      Epoch    GPU_mem   box_loss   cls_loss   dfl_loss  Instances       Size\n"
     ]
    },
    {
     "name": "stderr",
     "output_type": "stream",
     "text": [
      "      3/150      3.52G     0.9378      3.743      1.105         92        640: 100%|██████████| 2/2 [00:00<00:00,  3.15it/s]\n",
      "                 Class     Images  Instances      Box(P          R      mAP50  mAP50-95): 100%|██████████| 1/1 [00:00<00:00, 16.53it/s]"
     ]
    },
    {
     "name": "stdout",
     "output_type": "stream",
     "text": [
      "                   all         10         31    0.00807      0.657     0.0601     0.0438\n"
     ]
    },
    {
     "name": "stderr",
     "output_type": "stream",
     "text": [
      "\n"
     ]
    },
    {
     "name": "stdout",
     "output_type": "stream",
     "text": [
      "\n",
      "      Epoch    GPU_mem   box_loss   cls_loss   dfl_loss  Instances       Size\n"
     ]
    },
    {
     "name": "stderr",
     "output_type": "stream",
     "text": [
      "      4/150      3.51G     0.8642      3.654      1.103         71        640: 100%|██████████| 2/2 [00:00<00:00,  3.22it/s]\n",
      "                 Class     Images  Instances      Box(P          R      mAP50  mAP50-95): 100%|██████████| 1/1 [00:00<00:00, 16.37it/s]"
     ]
    },
    {
     "name": "stdout",
     "output_type": "stream",
     "text": [
      "                   all         10         31    0.00667       0.69     0.0577     0.0426\n"
     ]
    },
    {
     "name": "stderr",
     "output_type": "stream",
     "text": [
      "\n"
     ]
    },
    {
     "name": "stdout",
     "output_type": "stream",
     "text": [
      "\n",
      "      Epoch    GPU_mem   box_loss   cls_loss   dfl_loss  Instances       Size\n"
     ]
    },
    {
     "name": "stderr",
     "output_type": "stream",
     "text": [
      "      5/150      3.52G     0.9841      3.454      1.063         92        640: 100%|██████████| 2/2 [00:00<00:00,  3.25it/s]\n",
      "                 Class     Images  Instances      Box(P          R      mAP50  mAP50-95): 100%|██████████| 1/1 [00:00<00:00, 16.50it/s]"
     ]
    },
    {
     "name": "stdout",
     "output_type": "stream",
     "text": [
      "                   all         10         31     0.0063      0.565     0.0764     0.0504\n"
     ]
    },
    {
     "name": "stderr",
     "output_type": "stream",
     "text": [
      "\n"
     ]
    },
    {
     "name": "stdout",
     "output_type": "stream",
     "text": [
      "\n",
      "      Epoch    GPU_mem   box_loss   cls_loss   dfl_loss  Instances       Size\n"
     ]
    },
    {
     "name": "stderr",
     "output_type": "stream",
     "text": [
      "      6/150      3.52G     0.9095      3.083     0.9958         74        640: 100%|██████████| 2/2 [00:00<00:00,  3.25it/s]\n",
      "                 Class     Images  Instances      Box(P          R      mAP50  mAP50-95): 100%|██████████| 1/1 [00:00<00:00, 16.05it/s]"
     ]
    },
    {
     "name": "stdout",
     "output_type": "stream",
     "text": [
      "                   all         10         31    0.00687      0.708       0.13     0.0859\n"
     ]
    },
    {
     "name": "stderr",
     "output_type": "stream",
     "text": [
      "\n"
     ]
    },
    {
     "name": "stdout",
     "output_type": "stream",
     "text": [
      "\n",
      "      Epoch    GPU_mem   box_loss   cls_loss   dfl_loss  Instances       Size\n"
     ]
    },
    {
     "name": "stderr",
     "output_type": "stream",
     "text": [
      "      7/150      3.57G     0.9097      2.795      1.006         80        640: 100%|██████████| 2/2 [00:00<00:00,  3.16it/s]\n",
      "                 Class     Images  Instances      Box(P          R      mAP50  mAP50-95): 100%|██████████| 1/1 [00:00<00:00, 15.28it/s]"
     ]
    },
    {
     "name": "stdout",
     "output_type": "stream",
     "text": [
      "                   all         10         31    0.00772      0.745      0.336      0.239\n"
     ]
    },
    {
     "name": "stderr",
     "output_type": "stream",
     "text": [
      "\n"
     ]
    },
    {
     "name": "stdout",
     "output_type": "stream",
     "text": [
      "\n",
      "      Epoch    GPU_mem   box_loss   cls_loss   dfl_loss  Instances       Size\n"
     ]
    },
    {
     "name": "stderr",
     "output_type": "stream",
     "text": [
      "      8/150      3.51G     0.8981       2.56     0.9749         77        640: 100%|██████████| 2/2 [00:00<00:00,  3.19it/s]\n",
      "                 Class     Images  Instances      Box(P          R      mAP50  mAP50-95): 100%|██████████| 1/1 [00:00<00:00, 15.72it/s]"
     ]
    },
    {
     "name": "stdout",
     "output_type": "stream",
     "text": [
      "                   all         10         31     0.0081      0.657      0.412      0.317\n"
     ]
    },
    {
     "name": "stderr",
     "output_type": "stream",
     "text": [
      "\n"
     ]
    },
    {
     "name": "stdout",
     "output_type": "stream",
     "text": [
      "\n",
      "      Epoch    GPU_mem   box_loss   cls_loss   dfl_loss  Instances       Size\n"
     ]
    },
    {
     "name": "stderr",
     "output_type": "stream",
     "text": [
      "      9/150      3.52G     0.8804      2.391     0.9562        112        640: 100%|██████████| 2/2 [00:00<00:00,  3.18it/s]\n",
      "                 Class     Images  Instances      Box(P          R      mAP50  mAP50-95): 100%|██████████| 1/1 [00:00<00:00, 16.41it/s]"
     ]
    },
    {
     "name": "stdout",
     "output_type": "stream",
     "text": [
      "                   all         10         31    0.00856      0.801      0.368      0.243\n"
     ]
    },
    {
     "name": "stderr",
     "output_type": "stream",
     "text": [
      "\n"
     ]
    },
    {
     "name": "stdout",
     "output_type": "stream",
     "text": [
      "\n",
      "      Epoch    GPU_mem   box_loss   cls_loss   dfl_loss  Instances       Size\n"
     ]
    },
    {
     "name": "stderr",
     "output_type": "stream",
     "text": [
      "     10/150      3.53G     0.8958      2.273     0.9574        128        640: 100%|██████████| 2/2 [00:00<00:00,  3.17it/s]\n",
      "                 Class     Images  Instances      Box(P          R      mAP50  mAP50-95): 100%|██████████| 1/1 [00:00<00:00, 15.90it/s]"
     ]
    },
    {
     "name": "stdout",
     "output_type": "stream",
     "text": [
      "                   all         10         31    0.00833      0.801       0.34      0.231\n"
     ]
    },
    {
     "name": "stderr",
     "output_type": "stream",
     "text": [
      "\n"
     ]
    },
    {
     "name": "stdout",
     "output_type": "stream",
     "text": [
      "\n",
      "      Epoch    GPU_mem   box_loss   cls_loss   dfl_loss  Instances       Size\n"
     ]
    },
    {
     "name": "stderr",
     "output_type": "stream",
     "text": [
      "     11/150      3.51G     0.9669      2.023     0.9647         97        640: 100%|██████████| 2/2 [00:00<00:00,  3.18it/s]\n",
      "                 Class     Images  Instances      Box(P          R      mAP50  mAP50-95): 100%|██████████| 1/1 [00:00<00:00, 14.80it/s]"
     ]
    },
    {
     "name": "stdout",
     "output_type": "stream",
     "text": [
      "                   all         10         31     0.0083      0.782      0.404      0.242\n"
     ]
    },
    {
     "name": "stderr",
     "output_type": "stream",
     "text": [
      "\n"
     ]
    },
    {
     "name": "stdout",
     "output_type": "stream",
     "text": [
      "\n",
      "      Epoch    GPU_mem   box_loss   cls_loss   dfl_loss  Instances       Size\n"
     ]
    },
    {
     "name": "stderr",
     "output_type": "stream",
     "text": [
      "     12/150      3.53G      0.929       1.84     0.9597         74        640: 100%|██████████| 2/2 [00:00<00:00,  3.17it/s]\n",
      "                 Class     Images  Instances      Box(P          R      mAP50  mAP50-95): 100%|██████████| 1/1 [00:00<00:00, 15.45it/s]"
     ]
    },
    {
     "name": "stdout",
     "output_type": "stream",
     "text": [
      "                   all         10         31    0.00898      0.907      0.423      0.268\n"
     ]
    },
    {
     "name": "stderr",
     "output_type": "stream",
     "text": [
      "\n"
     ]
    },
    {
     "name": "stdout",
     "output_type": "stream",
     "text": [
      "\n",
      "      Epoch    GPU_mem   box_loss   cls_loss   dfl_loss  Instances       Size\n"
     ]
    },
    {
     "name": "stderr",
     "output_type": "stream",
     "text": [
      "     13/150      3.53G     0.8656      1.608     0.9669        100        640: 100%|██████████| 2/2 [00:00<00:00,  3.18it/s]\n",
      "                 Class     Images  Instances      Box(P          R      mAP50  mAP50-95): 100%|██████████| 1/1 [00:00<00:00, 16.07it/s]"
     ]
    },
    {
     "name": "stdout",
     "output_type": "stream",
     "text": [
      "                   all         10         31     0.0102      0.819      0.379      0.275\n"
     ]
    },
    {
     "name": "stderr",
     "output_type": "stream",
     "text": [
      "\n"
     ]
    },
    {
     "name": "stdout",
     "output_type": "stream",
     "text": [
      "\n",
      "      Epoch    GPU_mem   box_loss   cls_loss   dfl_loss  Instances       Size\n"
     ]
    },
    {
     "name": "stderr",
     "output_type": "stream",
     "text": [
      "     14/150      3.51G     0.9503       1.47     0.9745         89        640: 100%|██████████| 2/2 [00:00<00:00,  3.16it/s]\n",
      "                 Class     Images  Instances      Box(P          R      mAP50  mAP50-95): 100%|██████████| 1/1 [00:00<00:00, 16.30it/s]"
     ]
    },
    {
     "name": "stdout",
     "output_type": "stream",
     "text": [
      "                   all         10         31     0.0102      0.764      0.222      0.174\n"
     ]
    },
    {
     "name": "stderr",
     "output_type": "stream",
     "text": [
      "\n"
     ]
    },
    {
     "name": "stdout",
     "output_type": "stream",
     "text": [
      "\n",
      "      Epoch    GPU_mem   box_loss   cls_loss   dfl_loss  Instances       Size\n"
     ]
    },
    {
     "name": "stderr",
     "output_type": "stream",
     "text": [
      "     15/150      3.51G     0.8617      1.456     0.9634         82        640: 100%|██████████| 2/2 [00:00<00:00,  3.17it/s]\n",
      "                 Class     Images  Instances      Box(P          R      mAP50  mAP50-95): 100%|██████████| 1/1 [00:00<00:00, 15.97it/s]"
     ]
    },
    {
     "name": "stdout",
     "output_type": "stream",
     "text": [
      "                   all         10         31     0.0106      0.727      0.138       0.11\n"
     ]
    },
    {
     "name": "stderr",
     "output_type": "stream",
     "text": [
      "\n"
     ]
    },
    {
     "name": "stdout",
     "output_type": "stream",
     "text": [
      "\n",
      "      Epoch    GPU_mem   box_loss   cls_loss   dfl_loss  Instances       Size\n"
     ]
    },
    {
     "name": "stderr",
     "output_type": "stream",
     "text": [
      "     16/150      3.51G     0.8333      1.378      0.949         79        640: 100%|██████████| 2/2 [00:00<00:00,  3.24it/s]\n",
      "                 Class     Images  Instances      Box(P          R      mAP50  mAP50-95): 100%|██████████| 1/1 [00:00<00:00, 15.81it/s]"
     ]
    },
    {
     "name": "stdout",
     "output_type": "stream",
     "text": [
      "                   all         10         31    0.00978       0.69      0.132      0.105\n"
     ]
    },
    {
     "name": "stderr",
     "output_type": "stream",
     "text": [
      "\n"
     ]
    },
    {
     "name": "stdout",
     "output_type": "stream",
     "text": [
      "\n",
      "      Epoch    GPU_mem   box_loss   cls_loss   dfl_loss  Instances       Size\n"
     ]
    },
    {
     "name": "stderr",
     "output_type": "stream",
     "text": [
      "     17/150      3.51G     0.8229      1.468     0.9395         49        640: 100%|██████████| 2/2 [00:00<00:00,  3.24it/s]\n",
      "                 Class     Images  Instances      Box(P          R      mAP50  mAP50-95): 100%|██████████| 1/1 [00:00<00:00, 16.02it/s]"
     ]
    },
    {
     "name": "stdout",
     "output_type": "stream",
     "text": [
      "                   all         10         31       0.01       0.69     0.0344     0.0266\n"
     ]
    },
    {
     "name": "stderr",
     "output_type": "stream",
     "text": [
      "\n"
     ]
    },
    {
     "name": "stdout",
     "output_type": "stream",
     "text": [
      "\n",
      "      Epoch    GPU_mem   box_loss   cls_loss   dfl_loss  Instances       Size\n"
     ]
    },
    {
     "name": "stderr",
     "output_type": "stream",
     "text": [
      "     18/150      3.51G     0.8125      1.408     0.9379         71        640: 100%|██████████| 2/2 [00:00<00:00,  3.24it/s]\n",
      "                 Class     Images  Instances      Box(P          R      mAP50  mAP50-95): 100%|██████████| 1/1 [00:00<00:00, 16.01it/s]"
     ]
    },
    {
     "name": "stdout",
     "output_type": "stream",
     "text": [
      "                   all         10         31     0.0108      0.708     0.0314     0.0235\n"
     ]
    },
    {
     "name": "stderr",
     "output_type": "stream",
     "text": [
      "\n"
     ]
    },
    {
     "name": "stdout",
     "output_type": "stream",
     "text": [
      "\n",
      "      Epoch    GPU_mem   box_loss   cls_loss   dfl_loss  Instances       Size\n"
     ]
    },
    {
     "name": "stderr",
     "output_type": "stream",
     "text": [
      "     19/150      3.51G     0.7523      1.211     0.9257        104        640: 100%|██████████| 2/2 [00:00<00:00,  3.22it/s]\n",
      "                 Class     Images  Instances      Box(P          R      mAP50  mAP50-95): 100%|██████████| 1/1 [00:00<00:00, 16.18it/s]"
     ]
    },
    {
     "name": "stdout",
     "output_type": "stream",
     "text": [
      "                   all         10         31     0.0108      0.727     0.0262     0.0199\n"
     ]
    },
    {
     "name": "stderr",
     "output_type": "stream",
     "text": [
      "\n"
     ]
    },
    {
     "name": "stdout",
     "output_type": "stream",
     "text": [
      "\n",
      "      Epoch    GPU_mem   box_loss   cls_loss   dfl_loss  Instances       Size\n"
     ]
    },
    {
     "name": "stderr",
     "output_type": "stream",
     "text": [
      "     20/150      3.53G     0.7898      1.275      0.954         79        640: 100%|██████████| 2/2 [00:00<00:00,  3.22it/s]\n",
      "                 Class     Images  Instances      Box(P          R      mAP50  mAP50-95): 100%|██████████| 1/1 [00:00<00:00, 15.34it/s]"
     ]
    },
    {
     "name": "stdout",
     "output_type": "stream",
     "text": [
      "                   all         10         31     0.0107      0.764     0.0616     0.0338\n"
     ]
    },
    {
     "name": "stderr",
     "output_type": "stream",
     "text": [
      "\n"
     ]
    },
    {
     "name": "stdout",
     "output_type": "stream",
     "text": [
      "\n",
      "      Epoch    GPU_mem   box_loss   cls_loss   dfl_loss  Instances       Size\n"
     ]
    },
    {
     "name": "stderr",
     "output_type": "stream",
     "text": [
      "     21/150      3.53G      0.718      1.255     0.9625         63        640: 100%|██████████| 2/2 [00:00<00:00,  3.23it/s]\n",
      "                 Class     Images  Instances      Box(P          R      mAP50  mAP50-95): 100%|██████████| 1/1 [00:00<00:00, 15.85it/s]"
     ]
    },
    {
     "name": "stdout",
     "output_type": "stream",
     "text": [
      "                   all         10         31    0.00933      0.745     0.0794     0.0425\n"
     ]
    },
    {
     "name": "stderr",
     "output_type": "stream",
     "text": [
      "\n"
     ]
    },
    {
     "name": "stdout",
     "output_type": "stream",
     "text": [
      "\n",
      "      Epoch    GPU_mem   box_loss   cls_loss   dfl_loss  Instances       Size\n"
     ]
    },
    {
     "name": "stderr",
     "output_type": "stream",
     "text": [
      "     22/150      3.51G     0.8181      1.283     0.9292         73        640: 100%|██████████| 2/2 [00:00<00:00,  3.22it/s]\n",
      "                 Class     Images  Instances      Box(P          R      mAP50  mAP50-95): 100%|██████████| 1/1 [00:00<00:00, 15.31it/s]"
     ]
    },
    {
     "name": "stdout",
     "output_type": "stream",
     "text": [
      "                   all         10         31    0.00901      0.764      0.054     0.0298\n"
     ]
    },
    {
     "name": "stderr",
     "output_type": "stream",
     "text": [
      "\n"
     ]
    },
    {
     "name": "stdout",
     "output_type": "stream",
     "text": [
      "\n",
      "      Epoch    GPU_mem   box_loss   cls_loss   dfl_loss  Instances       Size\n"
     ]
    },
    {
     "name": "stderr",
     "output_type": "stream",
     "text": [
      "     23/150      3.53G     0.7387       1.22     0.9255         68        640: 100%|██████████| 2/2 [00:00<00:00,  3.22it/s]\n",
      "                 Class     Images  Instances      Box(P          R      mAP50  mAP50-95): 100%|██████████| 1/1 [00:00<00:00, 15.53it/s]"
     ]
    },
    {
     "name": "stdout",
     "output_type": "stream",
     "text": [
      "                   all         10         31     0.0084      0.745     0.0336     0.0177\n"
     ]
    },
    {
     "name": "stderr",
     "output_type": "stream",
     "text": [
      "\n"
     ]
    },
    {
     "name": "stdout",
     "output_type": "stream",
     "text": [
      "\n",
      "      Epoch    GPU_mem   box_loss   cls_loss   dfl_loss  Instances       Size\n"
     ]
    },
    {
     "name": "stderr",
     "output_type": "stream",
     "text": [
      "     24/150      3.51G     0.7684       1.07     0.9258         81        640: 100%|██████████| 2/2 [00:00<00:00,  3.20it/s]\n",
      "                 Class     Images  Instances      Box(P          R      mAP50  mAP50-95): 100%|██████████| 1/1 [00:00<00:00, 14.35it/s]"
     ]
    },
    {
     "name": "stdout",
     "output_type": "stream",
     "text": [
      "                   all         10         31    0.00778      0.708     0.0246     0.0161\n"
     ]
    },
    {
     "name": "stderr",
     "output_type": "stream",
     "text": [
      "\n"
     ]
    },
    {
     "name": "stdout",
     "output_type": "stream",
     "text": [
      "\n",
      "      Epoch    GPU_mem   box_loss   cls_loss   dfl_loss  Instances       Size\n"
     ]
    },
    {
     "name": "stderr",
     "output_type": "stream",
     "text": [
      "     25/150      3.51G     0.6816          1     0.8909        103        640: 100%|██████████| 2/2 [00:00<00:00,  3.20it/s]\n",
      "                 Class     Images  Instances      Box(P          R      mAP50  mAP50-95): 100%|██████████| 1/1 [00:00<00:00, 15.80it/s]"
     ]
    },
    {
     "name": "stdout",
     "output_type": "stream",
     "text": [
      "                   all         10         31      0.008       0.69     0.0137    0.00754\n"
     ]
    },
    {
     "name": "stderr",
     "output_type": "stream",
     "text": [
      "\n"
     ]
    },
    {
     "name": "stdout",
     "output_type": "stream",
     "text": [
      "\n",
      "      Epoch    GPU_mem   box_loss   cls_loss   dfl_loss  Instances       Size\n"
     ]
    },
    {
     "name": "stderr",
     "output_type": "stream",
     "text": [
      "     26/150      3.51G     0.7474      1.147     0.9325         75        640: 100%|██████████| 2/2 [00:00<00:00,  3.20it/s]\n",
      "                 Class     Images  Instances      Box(P          R      mAP50  mAP50-95): 100%|██████████| 1/1 [00:00<00:00, 16.03it/s]"
     ]
    },
    {
     "name": "stdout",
     "output_type": "stream",
     "text": [
      "                   all         10         31    0.00737      0.528    0.00733    0.00501\n"
     ]
    },
    {
     "name": "stderr",
     "output_type": "stream",
     "text": [
      "\n"
     ]
    },
    {
     "name": "stdout",
     "output_type": "stream",
     "text": [
      "\n",
      "      Epoch    GPU_mem   box_loss   cls_loss   dfl_loss  Instances       Size\n"
     ]
    },
    {
     "name": "stderr",
     "output_type": "stream",
     "text": [
      "     27/150      3.51G     0.7266      1.098     0.9363         65        640: 100%|██████████| 2/2 [00:00<00:00,  3.19it/s]\n",
      "                 Class     Images  Instances      Box(P          R      mAP50  mAP50-95): 100%|██████████| 1/1 [00:00<00:00, 15.35it/s]"
     ]
    },
    {
     "name": "stdout",
     "output_type": "stream",
     "text": [
      "                   all         10         31    0.00616      0.472    0.00514    0.00323\n"
     ]
    },
    {
     "name": "stderr",
     "output_type": "stream",
     "text": [
      "\n"
     ]
    },
    {
     "name": "stdout",
     "output_type": "stream",
     "text": [
      "\n",
      "      Epoch    GPU_mem   box_loss   cls_loss   dfl_loss  Instances       Size\n"
     ]
    },
    {
     "name": "stderr",
     "output_type": "stream",
     "text": [
      "     28/150      3.53G      0.722      1.114     0.9089         69        640: 100%|██████████| 2/2 [00:00<00:00,  3.21it/s]\n",
      "                 Class     Images  Instances      Box(P          R      mAP50  mAP50-95): 100%|██████████| 1/1 [00:00<00:00, 16.32it/s]"
     ]
    },
    {
     "name": "stdout",
     "output_type": "stream",
     "text": [
      "                   all         10         31    0.00645      0.491    0.00549    0.00372\n"
     ]
    },
    {
     "name": "stderr",
     "output_type": "stream",
     "text": [
      "\n"
     ]
    },
    {
     "name": "stdout",
     "output_type": "stream",
     "text": [
      "\n",
      "      Epoch    GPU_mem   box_loss   cls_loss   dfl_loss  Instances       Size\n"
     ]
    },
    {
     "name": "stderr",
     "output_type": "stream",
     "text": [
      "     29/150      3.53G      0.733      1.159     0.9389         60        640: 100%|██████████| 2/2 [00:00<00:00,  3.20it/s]\n",
      "                 Class     Images  Instances      Box(P          R      mAP50  mAP50-95): 100%|██████████| 1/1 [00:00<00:00, 15.30it/s]"
     ]
    },
    {
     "name": "stdout",
     "output_type": "stream",
     "text": [
      "                   all         10         31    0.00707      0.546     0.0128     0.0109\n"
     ]
    },
    {
     "name": "stderr",
     "output_type": "stream",
     "text": [
      "\n"
     ]
    },
    {
     "name": "stdout",
     "output_type": "stream",
     "text": [
      "\n",
      "      Epoch    GPU_mem   box_loss   cls_loss   dfl_loss  Instances       Size\n"
     ]
    },
    {
     "name": "stderr",
     "output_type": "stream",
     "text": [
      "     30/150      3.52G     0.6933      1.069      0.896        109        640: 100%|██████████| 2/2 [00:00<00:00,  3.19it/s]\n",
      "                 Class     Images  Instances      Box(P          R      mAP50  mAP50-95): 100%|██████████| 1/1 [00:00<00:00, 16.10it/s]"
     ]
    },
    {
     "name": "stdout",
     "output_type": "stream",
     "text": [
      "                   all         10         31    0.00739      0.583     0.0452     0.0397\n"
     ]
    },
    {
     "name": "stderr",
     "output_type": "stream",
     "text": [
      "\n"
     ]
    },
    {
     "name": "stdout",
     "output_type": "stream",
     "text": [
      "\n",
      "      Epoch    GPU_mem   box_loss   cls_loss   dfl_loss  Instances       Size\n"
     ]
    },
    {
     "name": "stderr",
     "output_type": "stream",
     "text": [
      "     31/150      3.52G     0.7235      1.064     0.8983         73        640: 100%|██████████| 2/2 [00:00<00:00,  3.15it/s]\n",
      "                 Class     Images  Instances      Box(P          R      mAP50  mAP50-95): 100%|██████████| 1/1 [00:00<00:00, 16.29it/s]"
     ]
    },
    {
     "name": "stdout",
     "output_type": "stream",
     "text": [
      "                   all         10         31    0.00805       0.62     0.0464     0.0407\n"
     ]
    },
    {
     "name": "stderr",
     "output_type": "stream",
     "text": [
      "\n"
     ]
    },
    {
     "name": "stdout",
     "output_type": "stream",
     "text": [
      "\n",
      "      Epoch    GPU_mem   box_loss   cls_loss   dfl_loss  Instances       Size\n"
     ]
    },
    {
     "name": "stderr",
     "output_type": "stream",
     "text": [
      "     32/150      3.51G     0.6592     0.9564     0.8788         82        640: 100%|██████████| 2/2 [00:00<00:00,  3.20it/s]\n",
      "                 Class     Images  Instances      Box(P          R      mAP50  mAP50-95): 100%|██████████| 1/1 [00:00<00:00, 15.98it/s]"
     ]
    },
    {
     "name": "stdout",
     "output_type": "stream",
     "text": [
      "                   all         10         31    0.00804      0.639     0.0457     0.0392\n"
     ]
    },
    {
     "name": "stderr",
     "output_type": "stream",
     "text": [
      "\n"
     ]
    },
    {
     "name": "stdout",
     "output_type": "stream",
     "text": [
      "\n",
      "      Epoch    GPU_mem   box_loss   cls_loss   dfl_loss  Instances       Size\n"
     ]
    },
    {
     "name": "stderr",
     "output_type": "stream",
     "text": [
      "     33/150      3.52G     0.6829     0.9802     0.9043         68        640: 100%|██████████| 2/2 [00:00<00:00,  3.16it/s]\n",
      "                 Class     Images  Instances      Box(P          R      mAP50  mAP50-95): 100%|██████████| 1/1 [00:00<00:00, 16.10it/s]"
     ]
    },
    {
     "name": "stdout",
     "output_type": "stream",
     "text": [
      "                   all         10         31    0.00901      0.713      0.169      0.137\n"
     ]
    },
    {
     "name": "stderr",
     "output_type": "stream",
     "text": [
      "\n"
     ]
    },
    {
     "name": "stdout",
     "output_type": "stream",
     "text": [
      "\n",
      "      Epoch    GPU_mem   box_loss   cls_loss   dfl_loss  Instances       Size\n"
     ]
    },
    {
     "name": "stderr",
     "output_type": "stream",
     "text": [
      "     34/150      3.51G     0.7247      0.973       0.91         96        640: 100%|██████████| 2/2 [00:00<00:00,  3.16it/s]\n",
      "                 Class     Images  Instances      Box(P          R      mAP50  mAP50-95): 100%|██████████| 1/1 [00:00<00:00, 15.38it/s]"
     ]
    },
    {
     "name": "stdout",
     "output_type": "stream",
     "text": [
      "                   all         10         31    0.00835      0.801      0.303      0.235\n"
     ]
    },
    {
     "name": "stderr",
     "output_type": "stream",
     "text": [
      "\n"
     ]
    },
    {
     "name": "stdout",
     "output_type": "stream",
     "text": [
      "\n",
      "      Epoch    GPU_mem   box_loss   cls_loss   dfl_loss  Instances       Size\n"
     ]
    },
    {
     "name": "stderr",
     "output_type": "stream",
     "text": [
      "     35/150      3.53G     0.6961      1.013     0.8971         94        640: 100%|██████████| 2/2 [00:00<00:00,  3.17it/s]\n",
      "                 Class     Images  Instances      Box(P          R      mAP50  mAP50-95): 100%|██████████| 1/1 [00:00<00:00, 14.19it/s]"
     ]
    },
    {
     "name": "stdout",
     "output_type": "stream",
     "text": [
      "                   all         10         31    0.00796      0.782      0.457       0.36\n"
     ]
    },
    {
     "name": "stderr",
     "output_type": "stream",
     "text": [
      "\n"
     ]
    },
    {
     "name": "stdout",
     "output_type": "stream",
     "text": [
      "\n",
      "      Epoch    GPU_mem   box_loss   cls_loss   dfl_loss  Instances       Size\n"
     ]
    },
    {
     "name": "stderr",
     "output_type": "stream",
     "text": [
      "     36/150      3.53G     0.7065     0.9719     0.8891         96        640: 100%|██████████| 2/2 [00:00<00:00,  3.15it/s]\n",
      "                 Class     Images  Instances      Box(P          R      mAP50  mAP50-95): 100%|██████████| 1/1 [00:00<00:00, 15.90it/s]"
     ]
    },
    {
     "name": "stdout",
     "output_type": "stream",
     "text": [
      "                   all         10         31    0.00847      0.801      0.457      0.365\n"
     ]
    },
    {
     "name": "stderr",
     "output_type": "stream",
     "text": [
      "\n"
     ]
    },
    {
     "name": "stdout",
     "output_type": "stream",
     "text": [
      "\n",
      "      Epoch    GPU_mem   box_loss   cls_loss   dfl_loss  Instances       Size\n"
     ]
    },
    {
     "name": "stderr",
     "output_type": "stream",
     "text": [
      "     37/150      3.51G     0.6955     0.9621     0.9127         96        640: 100%|██████████| 2/2 [00:00<00:00,  3.14it/s]\n",
      "                 Class     Images  Instances      Box(P          R      mAP50  mAP50-95): 100%|██████████| 1/1 [00:00<00:00, 15.71it/s]"
     ]
    },
    {
     "name": "stdout",
     "output_type": "stream",
     "text": [
      "                   all         10         31    0.00867      0.694      0.471      0.367\n"
     ]
    },
    {
     "name": "stderr",
     "output_type": "stream",
     "text": [
      "\n"
     ]
    },
    {
     "name": "stdout",
     "output_type": "stream",
     "text": [
      "\n",
      "      Epoch    GPU_mem   box_loss   cls_loss   dfl_loss  Instances       Size\n"
     ]
    },
    {
     "name": "stderr",
     "output_type": "stream",
     "text": [
      "     38/150      3.53G     0.7305     0.9457     0.9441         93        640: 100%|██████████| 2/2 [00:00<00:00,  3.16it/s]\n",
      "                 Class     Images  Instances      Box(P          R      mAP50  mAP50-95): 100%|██████████| 1/1 [00:00<00:00, 15.67it/s]"
     ]
    },
    {
     "name": "stdout",
     "output_type": "stream",
     "text": [
      "                   all         10         31      0.912      0.392       0.43       0.33\n"
     ]
    },
    {
     "name": "stderr",
     "output_type": "stream",
     "text": [
      "\n"
     ]
    },
    {
     "name": "stdout",
     "output_type": "stream",
     "text": [
      "\n",
      "      Epoch    GPU_mem   box_loss   cls_loss   dfl_loss  Instances       Size\n"
     ]
    },
    {
     "name": "stderr",
     "output_type": "stream",
     "text": [
      "     39/150      3.53G     0.6605     0.8978      0.916         77        640: 100%|██████████| 2/2 [00:00<00:00,  3.15it/s]\n",
      "                 Class     Images  Instances      Box(P          R      mAP50  mAP50-95): 100%|██████████| 1/1 [00:00<00:00, 15.34it/s]"
     ]
    },
    {
     "name": "stdout",
     "output_type": "stream",
     "text": [
      "                   all         10         31          1      0.282      0.432      0.358\n"
     ]
    },
    {
     "name": "stderr",
     "output_type": "stream",
     "text": [
      "\n"
     ]
    },
    {
     "name": "stdout",
     "output_type": "stream",
     "text": [
      "\n",
      "      Epoch    GPU_mem   box_loss   cls_loss   dfl_loss  Instances       Size\n"
     ]
    },
    {
     "name": "stderr",
     "output_type": "stream",
     "text": [
      "     40/150      3.51G     0.7973      1.045     0.9706         83        640: 100%|██████████| 2/2 [00:00<00:00,  3.16it/s]\n",
      "                 Class     Images  Instances      Box(P          R      mAP50  mAP50-95): 100%|██████████| 1/1 [00:00<00:00, 15.90it/s]"
     ]
    },
    {
     "name": "stdout",
     "output_type": "stream",
     "text": [
      "                   all         10         31      0.596      0.162      0.207       0.17\n"
     ]
    },
    {
     "name": "stderr",
     "output_type": "stream",
     "text": [
      "\n"
     ]
    },
    {
     "name": "stdout",
     "output_type": "stream",
     "text": [
      "\n",
      "      Epoch    GPU_mem   box_loss   cls_loss   dfl_loss  Instances       Size\n"
     ]
    },
    {
     "name": "stderr",
     "output_type": "stream",
     "text": [
      "     41/150      3.53G     0.7499     0.9756     0.9665         79        640: 100%|██████████| 2/2 [00:00<00:00,  3.16it/s]\n",
      "                 Class     Images  Instances      Box(P          R      mAP50  mAP50-95): 100%|██████████| 1/1 [00:00<00:00, 16.02it/s]"
     ]
    },
    {
     "name": "stdout",
     "output_type": "stream",
     "text": [
      "                   all         10         31    0.00875      0.745       0.15      0.121\n"
     ]
    },
    {
     "name": "stderr",
     "output_type": "stream",
     "text": [
      "\n"
     ]
    },
    {
     "name": "stdout",
     "output_type": "stream",
     "text": [
      "\n",
      "      Epoch    GPU_mem   box_loss   cls_loss   dfl_loss  Instances       Size\n"
     ]
    },
    {
     "name": "stderr",
     "output_type": "stream",
     "text": [
      "     42/150      3.53G     0.7583     0.9862      0.925         84        640: 100%|██████████| 2/2 [00:00<00:00,  3.17it/s]\n",
      "                 Class     Images  Instances      Box(P          R      mAP50  mAP50-95): 100%|██████████| 1/1 [00:00<00:00, 15.69it/s]"
     ]
    },
    {
     "name": "stdout",
     "output_type": "stream",
     "text": [
      "                   all         10         31    0.00942      0.764      0.234      0.171\n"
     ]
    },
    {
     "name": "stderr",
     "output_type": "stream",
     "text": [
      "\n"
     ]
    },
    {
     "name": "stdout",
     "output_type": "stream",
     "text": [
      "\n",
      "      Epoch    GPU_mem   box_loss   cls_loss   dfl_loss  Instances       Size\n"
     ]
    },
    {
     "name": "stderr",
     "output_type": "stream",
     "text": [
      "     43/150      3.51G     0.6877      0.876     0.9072         99        640: 100%|██████████| 2/2 [00:00<00:00,  2.59it/s]\n",
      "                 Class     Images  Instances      Box(P          R      mAP50  mAP50-95): 100%|██████████| 1/1 [00:00<00:00, 13.77it/s]"
     ]
    },
    {
     "name": "stdout",
     "output_type": "stream",
     "text": [
      "                   all         10         31      0.674      0.306      0.317      0.253\n"
     ]
    },
    {
     "name": "stderr",
     "output_type": "stream",
     "text": [
      "\n"
     ]
    },
    {
     "name": "stdout",
     "output_type": "stream",
     "text": [
      "\n",
      "      Epoch    GPU_mem   box_loss   cls_loss   dfl_loss  Instances       Size\n"
     ]
    },
    {
     "name": "stderr",
     "output_type": "stream",
     "text": [
      "     44/150      3.53G     0.7763     0.9289     0.9435         90        640: 100%|██████████| 2/2 [00:00<00:00,  3.12it/s]\n",
      "                 Class     Images  Instances      Box(P          R      mAP50  mAP50-95): 100%|██████████| 1/1 [00:00<00:00, 16.10it/s]"
     ]
    },
    {
     "name": "stdout",
     "output_type": "stream",
     "text": [
      "                   all         10         31      0.934      0.284      0.398      0.282\n"
     ]
    },
    {
     "name": "stderr",
     "output_type": "stream",
     "text": [
      "\n"
     ]
    },
    {
     "name": "stdout",
     "output_type": "stream",
     "text": [
      "\n",
      "      Epoch    GPU_mem   box_loss   cls_loss   dfl_loss  Instances       Size\n"
     ]
    },
    {
     "name": "stderr",
     "output_type": "stream",
     "text": [
      "     45/150      3.53G     0.7241      0.827     0.9151        118        640: 100%|██████████| 2/2 [00:00<00:00,  2.76it/s]\n",
      "                 Class     Images  Instances      Box(P          R      mAP50  mAP50-95): 100%|██████████| 1/1 [00:00<00:00, 14.34it/s]"
     ]
    },
    {
     "name": "stdout",
     "output_type": "stream",
     "text": [
      "                   all         10         31       0.81      0.125      0.325       0.23\n"
     ]
    },
    {
     "name": "stderr",
     "output_type": "stream",
     "text": [
      "\n"
     ]
    },
    {
     "name": "stdout",
     "output_type": "stream",
     "text": [
      "\n",
      "      Epoch    GPU_mem   box_loss   cls_loss   dfl_loss  Instances       Size\n"
     ]
    },
    {
     "name": "stderr",
     "output_type": "stream",
     "text": [
      "     46/150      3.51G     0.6706     0.9096     0.8842         54        640: 100%|██████████| 2/2 [00:00<00:00,  2.71it/s]\n",
      "                 Class     Images  Instances      Box(P          R      mAP50  mAP50-95): 100%|██████████| 1/1 [00:00<00:00, 13.67it/s]"
     ]
    },
    {
     "name": "stdout",
     "output_type": "stream",
     "text": [
      "                   all         10         31       0.81      0.125      0.325       0.23\n"
     ]
    },
    {
     "name": "stderr",
     "output_type": "stream",
     "text": [
      "\n"
     ]
    },
    {
     "name": "stdout",
     "output_type": "stream",
     "text": [
      "\n",
      "      Epoch    GPU_mem   box_loss   cls_loss   dfl_loss  Instances       Size\n"
     ]
    },
    {
     "name": "stderr",
     "output_type": "stream",
     "text": [
      "     47/150      3.55G     0.7212     0.8937     0.9106         68        640: 100%|██████████| 2/2 [00:00<00:00,  2.65it/s]\n",
      "                 Class     Images  Instances      Box(P          R      mAP50  mAP50-95): 100%|██████████| 1/1 [00:00<00:00, 13.75it/s]"
     ]
    },
    {
     "name": "stdout",
     "output_type": "stream",
     "text": [
      "                   all         10         31      0.767      0.125      0.332      0.233\n"
     ]
    },
    {
     "name": "stderr",
     "output_type": "stream",
     "text": [
      "\n"
     ]
    },
    {
     "name": "stdout",
     "output_type": "stream",
     "text": [
      "\n",
      "      Epoch    GPU_mem   box_loss   cls_loss   dfl_loss  Instances       Size\n"
     ]
    },
    {
     "name": "stderr",
     "output_type": "stream",
     "text": [
      "     48/150      3.52G     0.6351     0.8932     0.9278         80        640: 100%|██████████| 2/2 [00:00<00:00,  3.04it/s]\n",
      "                 Class     Images  Instances      Box(P          R      mAP50  mAP50-95): 100%|██████████| 1/1 [00:00<00:00, 13.58it/s]"
     ]
    },
    {
     "name": "stdout",
     "output_type": "stream",
     "text": [
      "                   all         10         31      0.806      0.209      0.377      0.292\n"
     ]
    },
    {
     "name": "stderr",
     "output_type": "stream",
     "text": [
      "\n"
     ]
    },
    {
     "name": "stdout",
     "output_type": "stream",
     "text": [
      "\n",
      "      Epoch    GPU_mem   box_loss   cls_loss   dfl_loss  Instances       Size\n"
     ]
    },
    {
     "name": "stderr",
     "output_type": "stream",
     "text": [
      "     49/150      3.53G     0.7689     0.9458     0.9293         89        640: 100%|██████████| 2/2 [00:00<00:00,  3.10it/s]\n",
      "                 Class     Images  Instances      Box(P          R      mAP50  mAP50-95): 100%|██████████| 1/1 [00:00<00:00, 13.15it/s]"
     ]
    },
    {
     "name": "stdout",
     "output_type": "stream",
     "text": [
      "                   all         10         31      0.806      0.209      0.377      0.292\n"
     ]
    },
    {
     "name": "stderr",
     "output_type": "stream",
     "text": [
      "\n"
     ]
    },
    {
     "name": "stdout",
     "output_type": "stream",
     "text": [
      "\n",
      "      Epoch    GPU_mem   box_loss   cls_loss   dfl_loss  Instances       Size\n"
     ]
    },
    {
     "name": "stderr",
     "output_type": "stream",
     "text": [
      "     50/150      3.53G     0.6601     0.8894     0.8959         77        640: 100%|██████████| 2/2 [00:00<00:00,  2.59it/s]\n",
      "                 Class     Images  Instances      Box(P          R      mAP50  mAP50-95): 100%|██████████| 1/1 [00:00<00:00, 13.19it/s]"
     ]
    },
    {
     "name": "stdout",
     "output_type": "stream",
     "text": [
      "                   all         10         31      0.797      0.301      0.433      0.319\n"
     ]
    },
    {
     "name": "stderr",
     "output_type": "stream",
     "text": [
      "\n"
     ]
    },
    {
     "name": "stdout",
     "output_type": "stream",
     "text": [
      "\n",
      "      Epoch    GPU_mem   box_loss   cls_loss   dfl_loss  Instances       Size\n"
     ]
    },
    {
     "name": "stderr",
     "output_type": "stream",
     "text": [
      "     51/150      3.53G     0.6854     0.8536     0.8925         76        640: 100%|██████████| 2/2 [00:00<00:00,  2.56it/s]\n",
      "                 Class     Images  Instances      Box(P          R      mAP50  mAP50-95): 100%|██████████| 1/1 [00:00<00:00, 14.27it/s]"
     ]
    },
    {
     "name": "stdout",
     "output_type": "stream",
     "text": [
      "                   all         10         31      0.784      0.361       0.42       0.33\n"
     ]
    },
    {
     "name": "stderr",
     "output_type": "stream",
     "text": [
      "\n"
     ]
    },
    {
     "name": "stdout",
     "output_type": "stream",
     "text": [
      "\n",
      "      Epoch    GPU_mem   box_loss   cls_loss   dfl_loss  Instances       Size\n"
     ]
    },
    {
     "name": "stderr",
     "output_type": "stream",
     "text": [
      "     52/150      3.53G     0.6741     0.9259      0.907         95        640: 100%|██████████| 2/2 [00:00<00:00,  2.52it/s]\n",
      "                 Class     Images  Instances      Box(P          R      mAP50  mAP50-95): 100%|██████████| 1/1 [00:00<00:00, 12.43it/s]"
     ]
    },
    {
     "name": "stdout",
     "output_type": "stream",
     "text": [
      "                   all         10         31      0.784      0.361       0.42       0.33\n"
     ]
    },
    {
     "name": "stderr",
     "output_type": "stream",
     "text": [
      "\n"
     ]
    },
    {
     "name": "stdout",
     "output_type": "stream",
     "text": [
      "\n",
      "      Epoch    GPU_mem   box_loss   cls_loss   dfl_loss  Instances       Size\n"
     ]
    },
    {
     "name": "stderr",
     "output_type": "stream",
     "text": [
      "     53/150      3.53G     0.6915     0.8762     0.9067         83        640: 100%|██████████| 2/2 [00:00<00:00,  2.62it/s]\n",
      "                 Class     Images  Instances      Box(P          R      mAP50  mAP50-95): 100%|██████████| 1/1 [00:00<00:00, 12.39it/s]"
     ]
    },
    {
     "name": "stdout",
     "output_type": "stream",
     "text": [
      "                   all         10         31      0.936      0.398      0.488      0.381\n"
     ]
    },
    {
     "name": "stderr",
     "output_type": "stream",
     "text": [
      "\n"
     ]
    },
    {
     "name": "stdout",
     "output_type": "stream",
     "text": [
      "\n",
      "      Epoch    GPU_mem   box_loss   cls_loss   dfl_loss  Instances       Size\n"
     ]
    },
    {
     "name": "stderr",
     "output_type": "stream",
     "text": [
      "     54/150      3.51G     0.6496     0.7947     0.8935         97        640: 100%|██████████| 2/2 [00:00<00:00,  2.48it/s]\n",
      "                 Class     Images  Instances      Box(P          R      mAP50  mAP50-95): 100%|██████████| 1/1 [00:00<00:00, 13.48it/s]"
     ]
    },
    {
     "name": "stdout",
     "output_type": "stream",
     "text": [
      "                   all         10         31      0.851      0.445      0.536      0.437\n"
     ]
    },
    {
     "name": "stderr",
     "output_type": "stream",
     "text": [
      "\n"
     ]
    },
    {
     "name": "stdout",
     "output_type": "stream",
     "text": [
      "\n",
      "      Epoch    GPU_mem   box_loss   cls_loss   dfl_loss  Instances       Size\n"
     ]
    },
    {
     "name": "stderr",
     "output_type": "stream",
     "text": [
      "     55/150      3.51G     0.5964     0.7714     0.8669         84        640: 100%|██████████| 2/2 [00:00<00:00,  2.54it/s]\n",
      "                 Class     Images  Instances      Box(P          R      mAP50  mAP50-95): 100%|██████████| 1/1 [00:00<00:00, 12.36it/s]"
     ]
    },
    {
     "name": "stdout",
     "output_type": "stream",
     "text": [
      "                   all         10         31      0.851      0.445      0.536      0.437\n"
     ]
    },
    {
     "name": "stderr",
     "output_type": "stream",
     "text": [
      "\n"
     ]
    },
    {
     "name": "stdout",
     "output_type": "stream",
     "text": [
      "\n",
      "      Epoch    GPU_mem   box_loss   cls_loss   dfl_loss  Instances       Size\n"
     ]
    },
    {
     "name": "stderr",
     "output_type": "stream",
     "text": [
      "     56/150      3.53G     0.6361     0.8247     0.8852         84        640: 100%|██████████| 2/2 [00:00<00:00,  2.46it/s]\n",
      "                 Class     Images  Instances      Box(P          R      mAP50  mAP50-95): 100%|██████████| 1/1 [00:00<00:00, 12.11it/s]"
     ]
    },
    {
     "name": "stdout",
     "output_type": "stream",
     "text": [
      "                   all         10         31      0.823      0.464      0.571      0.481\n"
     ]
    },
    {
     "name": "stderr",
     "output_type": "stream",
     "text": [
      "\n"
     ]
    },
    {
     "name": "stdout",
     "output_type": "stream",
     "text": [
      "\n",
      "      Epoch    GPU_mem   box_loss   cls_loss   dfl_loss  Instances       Size\n"
     ]
    },
    {
     "name": "stderr",
     "output_type": "stream",
     "text": [
      "     57/150      3.51G     0.6607     0.8891     0.8878        130        640: 100%|██████████| 2/2 [00:00<00:00,  2.46it/s]\n",
      "                 Class     Images  Instances      Box(P          R      mAP50  mAP50-95): 100%|██████████| 1/1 [00:00<00:00, 12.48it/s]"
     ]
    },
    {
     "name": "stdout",
     "output_type": "stream",
     "text": [
      "                   all         10         31      0.746      0.437      0.584      0.499\n"
     ]
    },
    {
     "name": "stderr",
     "output_type": "stream",
     "text": [
      "\n"
     ]
    },
    {
     "name": "stdout",
     "output_type": "stream",
     "text": [
      "\n",
      "      Epoch    GPU_mem   box_loss   cls_loss   dfl_loss  Instances       Size\n"
     ]
    },
    {
     "name": "stderr",
     "output_type": "stream",
     "text": [
      "     58/150      3.52G     0.6046     0.8643      0.889         89        640: 100%|██████████| 2/2 [00:00<00:00,  2.51it/s]\n",
      "                 Class     Images  Instances      Box(P          R      mAP50  mAP50-95): 100%|██████████| 1/1 [00:00<00:00, 12.39it/s]"
     ]
    },
    {
     "name": "stdout",
     "output_type": "stream",
     "text": [
      "                   all         10         31      0.746      0.437      0.584      0.499\n"
     ]
    },
    {
     "name": "stderr",
     "output_type": "stream",
     "text": [
      "\n"
     ]
    },
    {
     "name": "stdout",
     "output_type": "stream",
     "text": [
      "\n",
      "      Epoch    GPU_mem   box_loss   cls_loss   dfl_loss  Instances       Size\n"
     ]
    },
    {
     "name": "stderr",
     "output_type": "stream",
     "text": [
      "     59/150      3.51G     0.5859     0.7712     0.8796         88        640: 100%|██████████| 2/2 [00:00<00:00,  2.43it/s]\n",
      "                 Class     Images  Instances      Box(P          R      mAP50  mAP50-95): 100%|██████████| 1/1 [00:00<00:00, 12.57it/s]"
     ]
    },
    {
     "name": "stdout",
     "output_type": "stream",
     "text": [
      "                   all         10         31      0.901      0.412      0.603      0.517\n"
     ]
    },
    {
     "name": "stderr",
     "output_type": "stream",
     "text": [
      "\n"
     ]
    },
    {
     "name": "stdout",
     "output_type": "stream",
     "text": [
      "\n",
      "      Epoch    GPU_mem   box_loss   cls_loss   dfl_loss  Instances       Size\n"
     ]
    },
    {
     "name": "stderr",
     "output_type": "stream",
     "text": [
      "     60/150      3.57G     0.6142     0.7866     0.8786         85        640: 100%|██████████| 2/2 [00:00<00:00,  2.42it/s]\n",
      "                 Class     Images  Instances      Box(P          R      mAP50  mAP50-95): 100%|██████████| 1/1 [00:00<00:00, 12.46it/s]"
     ]
    },
    {
     "name": "stdout",
     "output_type": "stream",
     "text": [
      "                   all         10         31      0.839      0.452      0.618      0.521\n"
     ]
    },
    {
     "name": "stderr",
     "output_type": "stream",
     "text": [
      "\n"
     ]
    },
    {
     "name": "stdout",
     "output_type": "stream",
     "text": [
      "\n",
      "      Epoch    GPU_mem   box_loss   cls_loss   dfl_loss  Instances       Size\n"
     ]
    },
    {
     "name": "stderr",
     "output_type": "stream",
     "text": [
      "     61/150      3.51G     0.6358     0.8156     0.8838         77        640: 100%|██████████| 2/2 [00:00<00:00,  2.50it/s]\n",
      "                 Class     Images  Instances      Box(P          R      mAP50  mAP50-95): 100%|██████████| 1/1 [00:00<00:00, 12.63it/s]"
     ]
    },
    {
     "name": "stdout",
     "output_type": "stream",
     "text": [
      "                   all         10         31      0.839      0.452      0.618      0.521\n"
     ]
    },
    {
     "name": "stderr",
     "output_type": "stream",
     "text": [
      "\n"
     ]
    },
    {
     "name": "stdout",
     "output_type": "stream",
     "text": [
      "\n",
      "      Epoch    GPU_mem   box_loss   cls_loss   dfl_loss  Instances       Size\n"
     ]
    },
    {
     "name": "stderr",
     "output_type": "stream",
     "text": [
      "     62/150      3.53G     0.6666     0.7825     0.9119         83        640: 100%|██████████| 2/2 [00:00<00:00,  2.39it/s]\n",
      "                 Class     Images  Instances      Box(P          R      mAP50  mAP50-95): 100%|██████████| 1/1 [00:00<00:00, 12.47it/s]"
     ]
    },
    {
     "name": "stdout",
     "output_type": "stream",
     "text": [
      "                   all         10         31       0.83      0.462      0.572      0.482\n"
     ]
    },
    {
     "name": "stderr",
     "output_type": "stream",
     "text": [
      "\n"
     ]
    },
    {
     "name": "stdout",
     "output_type": "stream",
     "text": [
      "\n",
      "      Epoch    GPU_mem   box_loss   cls_loss   dfl_loss  Instances       Size\n"
     ]
    },
    {
     "name": "stderr",
     "output_type": "stream",
     "text": [
      "     63/150      3.52G     0.5691     0.7941     0.8846         50        640: 100%|██████████| 2/2 [00:00<00:00,  2.44it/s]\n",
      "                 Class     Images  Instances      Box(P          R      mAP50  mAP50-95): 100%|██████████| 1/1 [00:00<00:00, 12.34it/s]"
     ]
    },
    {
     "name": "stdout",
     "output_type": "stream",
     "text": [
      "                   all         10         31      0.672      0.307      0.562       0.48\n"
     ]
    },
    {
     "name": "stderr",
     "output_type": "stream",
     "text": [
      "\n"
     ]
    },
    {
     "name": "stdout",
     "output_type": "stream",
     "text": [
      "\n",
      "      Epoch    GPU_mem   box_loss   cls_loss   dfl_loss  Instances       Size\n"
     ]
    },
    {
     "name": "stderr",
     "output_type": "stream",
     "text": [
      "     64/150      3.53G     0.6439     0.7712     0.8838         70        640: 100%|██████████| 2/2 [00:00<00:00,  2.48it/s]\n",
      "                 Class     Images  Instances      Box(P          R      mAP50  mAP50-95): 100%|██████████| 1/1 [00:00<00:00, 12.71it/s]"
     ]
    },
    {
     "name": "stdout",
     "output_type": "stream",
     "text": [
      "                   all         10         31      0.672      0.307      0.562       0.48\n"
     ]
    },
    {
     "name": "stderr",
     "output_type": "stream",
     "text": [
      "\n"
     ]
    },
    {
     "name": "stdout",
     "output_type": "stream",
     "text": [
      "\n",
      "      Epoch    GPU_mem   box_loss   cls_loss   dfl_loss  Instances       Size\n"
     ]
    },
    {
     "name": "stderr",
     "output_type": "stream",
     "text": [
      "     65/150      3.52G     0.6003     0.7718     0.8678        103        640: 100%|██████████| 2/2 [00:00<00:00,  2.40it/s]\n",
      "                 Class     Images  Instances      Box(P          R      mAP50  mAP50-95): 100%|██████████| 1/1 [00:00<00:00, 12.60it/s]"
     ]
    },
    {
     "name": "stdout",
     "output_type": "stream",
     "text": [
      "                   all         10         31      0.615      0.307      0.523      0.438\n"
     ]
    },
    {
     "name": "stderr",
     "output_type": "stream",
     "text": [
      "\n"
     ]
    },
    {
     "name": "stdout",
     "output_type": "stream",
     "text": [
      "\n",
      "      Epoch    GPU_mem   box_loss   cls_loss   dfl_loss  Instances       Size\n"
     ]
    },
    {
     "name": "stderr",
     "output_type": "stream",
     "text": [
      "     66/150      3.52G      0.597     0.8069     0.8893         59        640: 100%|██████████| 2/2 [00:00<00:00,  2.44it/s]\n",
      "                 Class     Images  Instances      Box(P          R      mAP50  mAP50-95): 100%|██████████| 1/1 [00:00<00:00, 12.21it/s]"
     ]
    },
    {
     "name": "stdout",
     "output_type": "stream",
     "text": [
      "                   all         10         31      0.715      0.531       0.56      0.467\n"
     ]
    },
    {
     "name": "stderr",
     "output_type": "stream",
     "text": [
      "\n"
     ]
    },
    {
     "name": "stdout",
     "output_type": "stream",
     "text": [
      "\n",
      "      Epoch    GPU_mem   box_loss   cls_loss   dfl_loss  Instances       Size\n"
     ]
    },
    {
     "name": "stderr",
     "output_type": "stream",
     "text": [
      "     67/150      3.53G     0.6072     0.7618     0.8838         98        640: 100%|██████████| 2/2 [00:00<00:00,  2.47it/s]\n",
      "                 Class     Images  Instances      Box(P          R      mAP50  mAP50-95): 100%|██████████| 1/1 [00:00<00:00, 12.66it/s]"
     ]
    },
    {
     "name": "stdout",
     "output_type": "stream",
     "text": [
      "                   all         10         31      0.715      0.531       0.56      0.467\n"
     ]
    },
    {
     "name": "stderr",
     "output_type": "stream",
     "text": [
      "\n"
     ]
    },
    {
     "name": "stdout",
     "output_type": "stream",
     "text": [
      "\n",
      "      Epoch    GPU_mem   box_loss   cls_loss   dfl_loss  Instances       Size\n"
     ]
    },
    {
     "name": "stderr",
     "output_type": "stream",
     "text": [
      "     68/150      3.51G     0.5677     0.7751     0.8689         84        640: 100%|██████████| 2/2 [00:00<00:00,  2.42it/s]\n",
      "                 Class     Images  Instances      Box(P          R      mAP50  mAP50-95): 100%|██████████| 1/1 [00:00<00:00, 12.28it/s]"
     ]
    },
    {
     "name": "stdout",
     "output_type": "stream",
     "text": [
      "                   all         10         31        0.7      0.546      0.634      0.515\n"
     ]
    },
    {
     "name": "stderr",
     "output_type": "stream",
     "text": [
      "\n"
     ]
    },
    {
     "name": "stdout",
     "output_type": "stream",
     "text": [
      "\n",
      "      Epoch    GPU_mem   box_loss   cls_loss   dfl_loss  Instances       Size\n"
     ]
    },
    {
     "name": "stderr",
     "output_type": "stream",
     "text": [
      "     69/150      3.51G     0.5473     0.7601     0.8812         64        640: 100%|██████████| 2/2 [00:00<00:00,  2.44it/s]\n",
      "                 Class     Images  Instances      Box(P          R      mAP50  mAP50-95): 100%|██████████| 1/1 [00:00<00:00, 12.60it/s]"
     ]
    },
    {
     "name": "stdout",
     "output_type": "stream",
     "text": [
      "                   all         10         31      0.955      0.482      0.632      0.508\n"
     ]
    },
    {
     "name": "stderr",
     "output_type": "stream",
     "text": [
      "\n"
     ]
    },
    {
     "name": "stdout",
     "output_type": "stream",
     "text": [
      "\n",
      "      Epoch    GPU_mem   box_loss   cls_loss   dfl_loss  Instances       Size\n"
     ]
    },
    {
     "name": "stderr",
     "output_type": "stream",
     "text": [
      "     70/150      3.51G     0.6034     0.8029        0.9         66        640: 100%|██████████| 2/2 [00:00<00:00,  2.49it/s]\n",
      "                 Class     Images  Instances      Box(P          R      mAP50  mAP50-95): 100%|██████████| 1/1 [00:00<00:00, 12.41it/s]"
     ]
    },
    {
     "name": "stdout",
     "output_type": "stream",
     "text": [
      "                   all         10         31      0.955      0.482      0.632      0.508\n"
     ]
    },
    {
     "name": "stderr",
     "output_type": "stream",
     "text": [
      "\n"
     ]
    },
    {
     "name": "stdout",
     "output_type": "stream",
     "text": [
      "\n",
      "      Epoch    GPU_mem   box_loss   cls_loss   dfl_loss  Instances       Size\n"
     ]
    },
    {
     "name": "stderr",
     "output_type": "stream",
     "text": [
      "     71/150      3.52G     0.5434     0.6996     0.8824         91        640: 100%|██████████| 2/2 [00:00<00:00,  2.41it/s]\n",
      "                 Class     Images  Instances      Box(P          R      mAP50  mAP50-95): 100%|██████████| 1/1 [00:00<00:00, 12.48it/s]"
     ]
    },
    {
     "name": "stdout",
     "output_type": "stream",
     "text": [
      "                   all         10         31      0.832      0.554      0.628      0.507\n"
     ]
    },
    {
     "name": "stderr",
     "output_type": "stream",
     "text": [
      "\n"
     ]
    },
    {
     "name": "stdout",
     "output_type": "stream",
     "text": [
      "\n",
      "      Epoch    GPU_mem   box_loss   cls_loss   dfl_loss  Instances       Size\n"
     ]
    },
    {
     "name": "stderr",
     "output_type": "stream",
     "text": [
      "     72/150      3.57G     0.5763     0.7337     0.8491         61        640: 100%|██████████| 2/2 [00:00<00:00,  2.41it/s]\n",
      "                 Class     Images  Instances      Box(P          R      mAP50  mAP50-95): 100%|██████████| 1/1 [00:00<00:00, 12.43it/s]"
     ]
    },
    {
     "name": "stdout",
     "output_type": "stream",
     "text": [
      "                   all         10         31      0.974      0.491      0.612      0.493\n"
     ]
    },
    {
     "name": "stderr",
     "output_type": "stream",
     "text": [
      "\n"
     ]
    },
    {
     "name": "stdout",
     "output_type": "stream",
     "text": [
      "\n",
      "      Epoch    GPU_mem   box_loss   cls_loss   dfl_loss  Instances       Size\n"
     ]
    },
    {
     "name": "stderr",
     "output_type": "stream",
     "text": [
      "     73/150      3.51G     0.5915     0.7602     0.8974         95        640: 100%|██████████| 2/2 [00:00<00:00,  2.47it/s]\n",
      "                 Class     Images  Instances      Box(P          R      mAP50  mAP50-95): 100%|██████████| 1/1 [00:00<00:00, 12.76it/s]"
     ]
    },
    {
     "name": "stdout",
     "output_type": "stream",
     "text": [
      "                   all         10         31      0.974      0.491      0.612      0.493\n"
     ]
    },
    {
     "name": "stderr",
     "output_type": "stream",
     "text": [
      "\n"
     ]
    },
    {
     "name": "stdout",
     "output_type": "stream",
     "text": [
      "\n",
      "      Epoch    GPU_mem   box_loss   cls_loss   dfl_loss  Instances       Size\n"
     ]
    },
    {
     "name": "stderr",
     "output_type": "stream",
     "text": [
      "     74/150      3.51G       0.57     0.8461     0.8594         60        640: 100%|██████████| 2/2 [00:00<00:00,  2.43it/s]\n",
      "                 Class     Images  Instances      Box(P          R      mAP50  mAP50-95): 100%|██████████| 1/1 [00:00<00:00, 12.54it/s]"
     ]
    },
    {
     "name": "stdout",
     "output_type": "stream",
     "text": [
      "                   all         10         31       0.85      0.509        0.6      0.474\n"
     ]
    },
    {
     "name": "stderr",
     "output_type": "stream",
     "text": [
      "\n"
     ]
    },
    {
     "name": "stdout",
     "output_type": "stream",
     "text": [
      "\n",
      "      Epoch    GPU_mem   box_loss   cls_loss   dfl_loss  Instances       Size\n"
     ]
    },
    {
     "name": "stderr",
     "output_type": "stream",
     "text": [
      "     75/150      3.51G     0.5542     0.6875     0.8722         62        640: 100%|██████████| 2/2 [00:00<00:00,  2.42it/s]\n",
      "                 Class     Images  Instances      Box(P          R      mAP50  mAP50-95): 100%|██████████| 1/1 [00:00<00:00, 12.56it/s]"
     ]
    },
    {
     "name": "stdout",
     "output_type": "stream",
     "text": [
      "                   all         10         31      0.765      0.476      0.575       0.46\n"
     ]
    },
    {
     "name": "stderr",
     "output_type": "stream",
     "text": [
      "\n"
     ]
    },
    {
     "name": "stdout",
     "output_type": "stream",
     "text": [
      "\n",
      "      Epoch    GPU_mem   box_loss   cls_loss   dfl_loss  Instances       Size\n"
     ]
    },
    {
     "name": "stderr",
     "output_type": "stream",
     "text": [
      "     76/150      3.53G      0.528     0.7239     0.8666         71        640: 100%|██████████| 2/2 [00:00<00:00,  2.49it/s]\n",
      "                 Class     Images  Instances      Box(P          R      mAP50  mAP50-95): 100%|██████████| 1/1 [00:00<00:00, 12.83it/s]"
     ]
    },
    {
     "name": "stdout",
     "output_type": "stream",
     "text": [
      "                   all         10         31      0.765      0.476      0.575       0.46\n"
     ]
    },
    {
     "name": "stderr",
     "output_type": "stream",
     "text": [
      "\n"
     ]
    },
    {
     "name": "stdout",
     "output_type": "stream",
     "text": [
      "\n",
      "      Epoch    GPU_mem   box_loss   cls_loss   dfl_loss  Instances       Size\n"
     ]
    },
    {
     "name": "stderr",
     "output_type": "stream",
     "text": [
      "     77/150      3.51G      0.556     0.6906     0.8345         54        640: 100%|██████████| 2/2 [00:00<00:00,  2.42it/s]\n",
      "                 Class     Images  Instances      Box(P          R      mAP50  mAP50-95): 100%|██████████| 1/1 [00:00<00:00, 12.77it/s]"
     ]
    },
    {
     "name": "stdout",
     "output_type": "stream",
     "text": [
      "                   all         10         31      0.667      0.454      0.556      0.435\n"
     ]
    },
    {
     "name": "stderr",
     "output_type": "stream",
     "text": [
      "\n"
     ]
    },
    {
     "name": "stdout",
     "output_type": "stream",
     "text": [
      "\n",
      "      Epoch    GPU_mem   box_loss   cls_loss   dfl_loss  Instances       Size\n"
     ]
    },
    {
     "name": "stderr",
     "output_type": "stream",
     "text": [
      "     78/150      3.51G     0.5806     0.7099     0.9029         98        640: 100%|██████████| 2/2 [00:00<00:00,  2.42it/s]\n",
      "                 Class     Images  Instances      Box(P          R      mAP50  mAP50-95): 100%|██████████| 1/1 [00:00<00:00, 12.26it/s]"
     ]
    },
    {
     "name": "stdout",
     "output_type": "stream",
     "text": [
      "                   all         10         31      0.565       0.38      0.521      0.409\n"
     ]
    },
    {
     "name": "stderr",
     "output_type": "stream",
     "text": [
      "\n"
     ]
    },
    {
     "name": "stdout",
     "output_type": "stream",
     "text": [
      "\n",
      "      Epoch    GPU_mem   box_loss   cls_loss   dfl_loss  Instances       Size\n"
     ]
    },
    {
     "name": "stderr",
     "output_type": "stream",
     "text": [
      "     79/150      3.53G     0.5204     0.6679     0.8491         73        640: 100%|██████████| 2/2 [00:00<00:00,  2.49it/s]\n",
      "                 Class     Images  Instances      Box(P          R      mAP50  mAP50-95): 100%|██████████| 1/1 [00:00<00:00, 12.60it/s]"
     ]
    },
    {
     "name": "stdout",
     "output_type": "stream",
     "text": [
      "                   all         10         31      0.565       0.38      0.521      0.409\n"
     ]
    },
    {
     "name": "stderr",
     "output_type": "stream",
     "text": [
      "\n"
     ]
    },
    {
     "name": "stdout",
     "output_type": "stream",
     "text": [
      "\n",
      "      Epoch    GPU_mem   box_loss   cls_loss   dfl_loss  Instances       Size\n"
     ]
    },
    {
     "name": "stderr",
     "output_type": "stream",
     "text": [
      "     80/150      3.51G     0.5566     0.7292     0.8687         94        640: 100%|██████████| 2/2 [00:00<00:00,  2.43it/s]\n",
      "                 Class     Images  Instances      Box(P          R      mAP50  mAP50-95): 100%|██████████| 1/1 [00:00<00:00, 12.89it/s]"
     ]
    },
    {
     "name": "stdout",
     "output_type": "stream",
     "text": [
      "                   all         10         31      0.984      0.271      0.474      0.361\n"
     ]
    },
    {
     "name": "stderr",
     "output_type": "stream",
     "text": [
      "\n"
     ]
    },
    {
     "name": "stdout",
     "output_type": "stream",
     "text": [
      "\n",
      "      Epoch    GPU_mem   box_loss   cls_loss   dfl_loss  Instances       Size\n"
     ]
    },
    {
     "name": "stderr",
     "output_type": "stream",
     "text": [
      "     81/150      3.51G     0.5584     0.6754     0.8409         80        640: 100%|██████████| 2/2 [00:00<00:00,  2.43it/s]\n",
      "                 Class     Images  Instances      Box(P          R      mAP50  mAP50-95): 100%|██████████| 1/1 [00:00<00:00, 12.33it/s]"
     ]
    },
    {
     "name": "stdout",
     "output_type": "stream",
     "text": [
      "                   all         10         31      0.974      0.271      0.483      0.386\n"
     ]
    },
    {
     "name": "stderr",
     "output_type": "stream",
     "text": [
      "\n"
     ]
    },
    {
     "name": "stdout",
     "output_type": "stream",
     "text": [
      "\n",
      "      Epoch    GPU_mem   box_loss   cls_loss   dfl_loss  Instances       Size\n"
     ]
    },
    {
     "name": "stderr",
     "output_type": "stream",
     "text": [
      "     82/150      3.51G     0.5297     0.6403     0.8244         78        640: 100%|██████████| 2/2 [00:00<00:00,  2.47it/s]\n",
      "                 Class     Images  Instances      Box(P          R      mAP50  mAP50-95): 100%|██████████| 1/1 [00:00<00:00, 12.73it/s]"
     ]
    },
    {
     "name": "stdout",
     "output_type": "stream",
     "text": [
      "                   all         10         31      0.974      0.271      0.483      0.386\n"
     ]
    },
    {
     "name": "stderr",
     "output_type": "stream",
     "text": [
      "\n"
     ]
    },
    {
     "name": "stdout",
     "output_type": "stream",
     "text": [
      "\n",
      "      Epoch    GPU_mem   box_loss   cls_loss   dfl_loss  Instances       Size\n"
     ]
    },
    {
     "name": "stderr",
     "output_type": "stream",
     "text": [
      "     83/150      3.53G     0.5605     0.6803       0.91         99        640: 100%|██████████| 2/2 [00:00<00:00,  2.42it/s]\n",
      "                 Class     Images  Instances      Box(P          R      mAP50  mAP50-95): 100%|██████████| 1/1 [00:00<00:00, 12.39it/s]"
     ]
    },
    {
     "name": "stdout",
     "output_type": "stream",
     "text": [
      "                   all         10         31      0.501       0.38      0.519      0.423\n"
     ]
    },
    {
     "name": "stderr",
     "output_type": "stream",
     "text": [
      "\n"
     ]
    },
    {
     "name": "stdout",
     "output_type": "stream",
     "text": [
      "\n",
      "      Epoch    GPU_mem   box_loss   cls_loss   dfl_loss  Instances       Size\n"
     ]
    },
    {
     "name": "stderr",
     "output_type": "stream",
     "text": [
      "     84/150      3.53G     0.5984     0.6831      0.852         92        640: 100%|██████████| 2/2 [00:00<00:00,  2.42it/s]\n",
      "                 Class     Images  Instances      Box(P          R      mAP50  mAP50-95): 100%|██████████| 1/1 [00:00<00:00, 12.77it/s]"
     ]
    },
    {
     "name": "stdout",
     "output_type": "stream",
     "text": [
      "                   all         10         31      0.526      0.408      0.529      0.428\n"
     ]
    },
    {
     "name": "stderr",
     "output_type": "stream",
     "text": [
      "\n"
     ]
    },
    {
     "name": "stdout",
     "output_type": "stream",
     "text": [
      "\n",
      "      Epoch    GPU_mem   box_loss   cls_loss   dfl_loss  Instances       Size\n"
     ]
    },
    {
     "name": "stderr",
     "output_type": "stream",
     "text": [
      "     85/150      3.51G      0.504     0.6057     0.8568        103        640: 100%|██████████| 2/2 [00:00<00:00,  2.48it/s]\n",
      "                 Class     Images  Instances      Box(P          R      mAP50  mAP50-95): 100%|██████████| 1/1 [00:00<00:00, 12.38it/s]"
     ]
    },
    {
     "name": "stdout",
     "output_type": "stream",
     "text": [
      "                   all         10         31      0.526      0.408      0.529      0.428\n"
     ]
    },
    {
     "name": "stderr",
     "output_type": "stream",
     "text": [
      "\n"
     ]
    },
    {
     "name": "stdout",
     "output_type": "stream",
     "text": [
      "\n",
      "      Epoch    GPU_mem   box_loss   cls_loss   dfl_loss  Instances       Size\n"
     ]
    },
    {
     "name": "stderr",
     "output_type": "stream",
     "text": [
      "     86/150      3.53G     0.4633     0.6553     0.8502         77        640: 100%|██████████| 2/2 [00:00<00:00,  2.43it/s]\n",
      "                 Class     Images  Instances      Box(P          R      mAP50  mAP50-95): 100%|██████████| 1/1 [00:00<00:00, 12.43it/s]"
     ]
    },
    {
     "name": "stdout",
     "output_type": "stream",
     "text": [
      "                   all         10         31      0.558      0.423      0.502      0.401\n"
     ]
    },
    {
     "name": "stderr",
     "output_type": "stream",
     "text": [
      "\n"
     ]
    },
    {
     "name": "stdout",
     "output_type": "stream",
     "text": [
      "\n",
      "      Epoch    GPU_mem   box_loss   cls_loss   dfl_loss  Instances       Size\n"
     ]
    },
    {
     "name": "stderr",
     "output_type": "stream",
     "text": [
      "     87/150      3.53G     0.5072     0.6517     0.8586         85        640: 100%|██████████| 2/2 [00:00<00:00,  2.41it/s]\n",
      "                 Class     Images  Instances      Box(P          R      mAP50  mAP50-95): 100%|██████████| 1/1 [00:00<00:00, 12.28it/s]"
     ]
    },
    {
     "name": "stdout",
     "output_type": "stream",
     "text": [
      "                   all         10         31      0.631      0.454      0.543      0.438\n"
     ]
    },
    {
     "name": "stderr",
     "output_type": "stream",
     "text": [
      "\n"
     ]
    },
    {
     "name": "stdout",
     "output_type": "stream",
     "text": [
      "\n",
      "      Epoch    GPU_mem   box_loss   cls_loss   dfl_loss  Instances       Size\n"
     ]
    },
    {
     "name": "stderr",
     "output_type": "stream",
     "text": [
      "     88/150      3.51G     0.5368     0.7103      0.874         51        640: 100%|██████████| 2/2 [00:01<00:00,  1.88it/s]\n",
      "                 Class     Images  Instances      Box(P          R      mAP50  mAP50-95): 100%|██████████| 1/1 [00:00<00:00,  5.29it/s]\n"
     ]
    },
    {
     "name": "stdout",
     "output_type": "stream",
     "text": [
      "                   all         10         31      0.631      0.454      0.543      0.438\n",
      "\n",
      "      Epoch    GPU_mem   box_loss   cls_loss   dfl_loss  Instances       Size\n"
     ]
    },
    {
     "name": "stderr",
     "output_type": "stream",
     "text": [
      "     89/150      3.51G     0.5012     0.6043      0.833         74        640: 100%|██████████| 2/2 [00:01<00:00,  1.44it/s]\n",
      "                 Class     Images  Instances      Box(P          R      mAP50  mAP50-95): 100%|██████████| 1/1 [00:00<00:00,  5.38it/s]"
     ]
    },
    {
     "name": "stdout",
     "output_type": "stream",
     "text": [
      "                   all         10         31      0.662      0.472      0.552      0.447\n"
     ]
    },
    {
     "name": "stderr",
     "output_type": "stream",
     "text": [
      "\n"
     ]
    },
    {
     "name": "stdout",
     "output_type": "stream",
     "text": [
      "\n",
      "      Epoch    GPU_mem   box_loss   cls_loss   dfl_loss  Instances       Size\n"
     ]
    },
    {
     "name": "stderr",
     "output_type": "stream",
     "text": [
      "     90/150      3.52G     0.5354     0.6424     0.8896         66        640: 100%|██████████| 2/2 [00:01<00:00,  1.41it/s]\n",
      "                 Class     Images  Instances      Box(P          R      mAP50  mAP50-95): 100%|██████████| 1/1 [00:00<00:00,  5.59it/s]"
     ]
    },
    {
     "name": "stdout",
     "output_type": "stream",
     "text": [
      "                   all         10         31      0.672      0.498      0.583      0.468\n"
     ]
    },
    {
     "name": "stderr",
     "output_type": "stream",
     "text": [
      "\n"
     ]
    },
    {
     "name": "stdout",
     "output_type": "stream",
     "text": [
      "\n",
      "      Epoch    GPU_mem   box_loss   cls_loss   dfl_loss  Instances       Size\n"
     ]
    },
    {
     "name": "stderr",
     "output_type": "stream",
     "text": [
      "     91/150      3.55G     0.4944      0.623     0.8275         64        640: 100%|██████████| 2/2 [00:00<00:00,  2.46it/s]\n",
      "                 Class     Images  Instances      Box(P          R      mAP50  mAP50-95): 100%|██████████| 1/1 [00:00<00:00,  6.90it/s]"
     ]
    },
    {
     "name": "stdout",
     "output_type": "stream",
     "text": [
      "                   all         10         31      0.672      0.498      0.583      0.468\n"
     ]
    },
    {
     "name": "stderr",
     "output_type": "stream",
     "text": [
      "\n"
     ]
    },
    {
     "name": "stdout",
     "output_type": "stream",
     "text": [
      "\n",
      "      Epoch    GPU_mem   box_loss   cls_loss   dfl_loss  Instances       Size\n"
     ]
    },
    {
     "name": "stderr",
     "output_type": "stream",
     "text": [
      "     92/150      3.51G     0.5229     0.6461     0.8953         83        640: 100%|██████████| 2/2 [00:01<00:00,  1.33it/s]\n",
      "                 Class     Images  Instances      Box(P          R      mAP50  mAP50-95): 100%|██████████| 1/1 [00:00<00:00,  8.31it/s]"
     ]
    },
    {
     "name": "stdout",
     "output_type": "stream",
     "text": [
      "                   all         10         31      0.791      0.477      0.608      0.491\n"
     ]
    },
    {
     "name": "stderr",
     "output_type": "stream",
     "text": [
      "\n"
     ]
    },
    {
     "name": "stdout",
     "output_type": "stream",
     "text": [
      "\n",
      "      Epoch    GPU_mem   box_loss   cls_loss   dfl_loss  Instances       Size\n"
     ]
    },
    {
     "name": "stderr",
     "output_type": "stream",
     "text": [
      "     93/150      3.53G     0.5227     0.6362     0.8775         84        640: 100%|██████████| 2/2 [00:01<00:00,  1.40it/s]\n",
      "                 Class     Images  Instances      Box(P          R      mAP50  mAP50-95): 100%|██████████| 1/1 [00:00<00:00,  6.04it/s]"
     ]
    },
    {
     "name": "stdout",
     "output_type": "stream",
     "text": [
      "                   all         10         31      0.764      0.499      0.624      0.521\n"
     ]
    },
    {
     "name": "stderr",
     "output_type": "stream",
     "text": [
      "\n"
     ]
    },
    {
     "name": "stdout",
     "output_type": "stream",
     "text": [
      "\n",
      "      Epoch    GPU_mem   box_loss   cls_loss   dfl_loss  Instances       Size\n"
     ]
    },
    {
     "name": "stderr",
     "output_type": "stream",
     "text": [
      "     94/150      3.52G     0.5632     0.6606     0.8978         90        640: 100%|██████████| 2/2 [00:01<00:00,  1.58it/s]\n",
      "                 Class     Images  Instances      Box(P          R      mAP50  mAP50-95): 100%|██████████| 1/1 [00:00<00:00,  5.41it/s]"
     ]
    },
    {
     "name": "stdout",
     "output_type": "stream",
     "text": [
      "                   all         10         31      0.764      0.499      0.624      0.521\n"
     ]
    },
    {
     "name": "stderr",
     "output_type": "stream",
     "text": [
      "\n"
     ]
    },
    {
     "name": "stdout",
     "output_type": "stream",
     "text": [
      "\n",
      "      Epoch    GPU_mem   box_loss   cls_loss   dfl_loss  Instances       Size\n"
     ]
    },
    {
     "name": "stderr",
     "output_type": "stream",
     "text": [
      "     95/150      3.51G     0.4835      0.591     0.8476         93        640: 100%|██████████| 2/2 [00:01<00:00,  1.61it/s]\n",
      "                 Class     Images  Instances      Box(P          R      mAP50  mAP50-95): 100%|██████████| 1/1 [00:00<00:00,  5.44it/s]"
     ]
    },
    {
     "name": "stdout",
     "output_type": "stream",
     "text": [
      "                   all         10         31      0.657      0.565      0.628      0.533\n"
     ]
    },
    {
     "name": "stderr",
     "output_type": "stream",
     "text": [
      "\n"
     ]
    },
    {
     "name": "stdout",
     "output_type": "stream",
     "text": [
      "\n",
      "      Epoch    GPU_mem   box_loss   cls_loss   dfl_loss  Instances       Size\n"
     ]
    },
    {
     "name": "stderr",
     "output_type": "stream",
     "text": [
      "     96/150      3.52G     0.4746     0.6271     0.8502         64        640: 100%|██████████| 2/2 [00:01<00:00,  1.29it/s]\n",
      "                 Class     Images  Instances      Box(P          R      mAP50  mAP50-95): 100%|██████████| 1/1 [00:00<00:00,  5.40it/s]"
     ]
    },
    {
     "name": "stdout",
     "output_type": "stream",
     "text": [
      "                   all         10         31      0.623      0.583      0.626      0.521\n"
     ]
    },
    {
     "name": "stderr",
     "output_type": "stream",
     "text": [
      "\n"
     ]
    },
    {
     "name": "stdout",
     "output_type": "stream",
     "text": [
      "\n",
      "      Epoch    GPU_mem   box_loss   cls_loss   dfl_loss  Instances       Size\n"
     ]
    },
    {
     "name": "stderr",
     "output_type": "stream",
     "text": [
      "     97/150      3.52G     0.4957     0.6096     0.8434         91        640: 100%|██████████| 2/2 [00:01<00:00,  1.25it/s]\n",
      "                 Class     Images  Instances      Box(P          R      mAP50  mAP50-95): 100%|██████████| 1/1 [00:00<00:00,  5.34it/s]\n"
     ]
    },
    {
     "name": "stdout",
     "output_type": "stream",
     "text": [
      "                   all         10         31      0.623      0.583      0.626      0.521\n",
      "\n",
      "      Epoch    GPU_mem   box_loss   cls_loss   dfl_loss  Instances       Size\n"
     ]
    },
    {
     "name": "stderr",
     "output_type": "stream",
     "text": [
      "     98/150      3.52G     0.4634     0.5902     0.8382         90        640: 100%|██████████| 2/2 [00:01<00:00,  1.39it/s]\n",
      "                 Class     Images  Instances      Box(P          R      mAP50  mAP50-95): 100%|██████████| 1/1 [00:00<00:00,  5.32it/s]\n"
     ]
    },
    {
     "name": "stdout",
     "output_type": "stream",
     "text": [
      "                   all         10         31      0.605      0.588      0.626       0.53\n",
      "\n",
      "      Epoch    GPU_mem   box_loss   cls_loss   dfl_loss  Instances       Size\n"
     ]
    },
    {
     "name": "stderr",
     "output_type": "stream",
     "text": [
      "     99/150      3.51G     0.5134     0.6208     0.8842         68        640: 100%|██████████| 2/2 [00:01<00:00,  1.28it/s]\n",
      "                 Class     Images  Instances      Box(P          R      mAP50  mAP50-95): 100%|██████████| 1/1 [00:00<00:00,  5.33it/s]\n"
     ]
    },
    {
     "name": "stdout",
     "output_type": "stream",
     "text": [
      "                   all         10         31        0.6      0.565       0.62      0.524\n",
      "\n",
      "      Epoch    GPU_mem   box_loss   cls_loss   dfl_loss  Instances       Size\n"
     ]
    },
    {
     "name": "stderr",
     "output_type": "stream",
     "text": [
      "    100/150      3.51G     0.4936     0.6283     0.8425         78        640: 100%|██████████| 2/2 [00:01<00:00,  1.22it/s]\n",
      "                 Class     Images  Instances      Box(P          R      mAP50  mAP50-95): 100%|██████████| 1/1 [00:00<00:00,  5.29it/s]\n"
     ]
    },
    {
     "name": "stdout",
     "output_type": "stream",
     "text": [
      "                   all         10         31        0.6      0.565       0.62      0.524\n",
      "\n",
      "      Epoch    GPU_mem   box_loss   cls_loss   dfl_loss  Instances       Size\n"
     ]
    },
    {
     "name": "stderr",
     "output_type": "stream",
     "text": [
      "    101/150      3.53G     0.4636     0.6018     0.8609         65        640: 100%|██████████| 2/2 [00:01<00:00,  1.73it/s]\n",
      "                 Class     Images  Instances      Box(P          R      mAP50  mAP50-95): 100%|██████████| 1/1 [00:00<00:00,  5.35it/s]"
     ]
    },
    {
     "name": "stdout",
     "output_type": "stream",
     "text": [
      "                   all         10         31      0.604      0.494      0.596      0.487\n"
     ]
    },
    {
     "name": "stderr",
     "output_type": "stream",
     "text": [
      "\n"
     ]
    },
    {
     "name": "stdout",
     "output_type": "stream",
     "text": [
      "\n",
      "      Epoch    GPU_mem   box_loss   cls_loss   dfl_loss  Instances       Size\n"
     ]
    },
    {
     "name": "stderr",
     "output_type": "stream",
     "text": [
      "    102/150      3.51G     0.4459     0.6102     0.8476         64        640: 100%|██████████| 2/2 [00:02<00:00,  1.13s/it]\n",
      "                 Class     Images  Instances      Box(P          R      mAP50  mAP50-95): 100%|██████████| 1/1 [00:00<00:00,  5.43it/s]"
     ]
    },
    {
     "name": "stdout",
     "output_type": "stream",
     "text": [
      "                   all         10         31      0.658      0.437      0.576      0.475\n"
     ]
    },
    {
     "name": "stderr",
     "output_type": "stream",
     "text": [
      "\n"
     ]
    },
    {
     "name": "stdout",
     "output_type": "stream",
     "text": [
      "\n",
      "      Epoch    GPU_mem   box_loss   cls_loss   dfl_loss  Instances       Size\n"
     ]
    },
    {
     "name": "stderr",
     "output_type": "stream",
     "text": [
      "    103/150      3.53G     0.4757     0.5672     0.8728         91        640: 100%|██████████| 2/2 [00:01<00:00,  1.47it/s]\n",
      "                 Class     Images  Instances      Box(P          R      mAP50  mAP50-95): 100%|██████████| 1/1 [00:00<00:00,  5.37it/s]"
     ]
    },
    {
     "name": "stdout",
     "output_type": "stream",
     "text": [
      "                   all         10         31      0.658      0.437      0.576      0.475\n"
     ]
    },
    {
     "name": "stderr",
     "output_type": "stream",
     "text": [
      "\n"
     ]
    },
    {
     "name": "stdout",
     "output_type": "stream",
     "text": [
      "\n",
      "      Epoch    GPU_mem   box_loss   cls_loss   dfl_loss  Instances       Size\n"
     ]
    },
    {
     "name": "stderr",
     "output_type": "stream",
     "text": [
      "    104/150      3.51G     0.4882     0.5772     0.8785         83        640: 100%|██████████| 2/2 [00:01<00:00,  1.40it/s]\n",
      "                 Class     Images  Instances      Box(P          R      mAP50  mAP50-95): 100%|██████████| 1/1 [00:00<00:00,  5.44it/s]"
     ]
    },
    {
     "name": "stdout",
     "output_type": "stream",
     "text": [
      "                   all         10         31      0.572      0.427      0.548      0.468\n"
     ]
    },
    {
     "name": "stderr",
     "output_type": "stream",
     "text": [
      "\n"
     ]
    },
    {
     "name": "stdout",
     "output_type": "stream",
     "text": [
      "\n",
      "      Epoch    GPU_mem   box_loss   cls_loss   dfl_loss  Instances       Size\n"
     ]
    },
    {
     "name": "stderr",
     "output_type": "stream",
     "text": [
      "    105/150      3.53G     0.4552     0.5763     0.8474         77        640: 100%|██████████| 2/2 [00:02<00:00,  1.14s/it]\n",
      "                 Class     Images  Instances      Box(P          R      mAP50  mAP50-95): 100%|██████████| 1/1 [00:00<00:00,  5.54it/s]"
     ]
    },
    {
     "name": "stdout",
     "output_type": "stream",
     "text": [
      "                   all         10         31      0.547      0.361      0.531      0.444\n"
     ]
    },
    {
     "name": "stderr",
     "output_type": "stream",
     "text": [
      "\n"
     ]
    },
    {
     "name": "stdout",
     "output_type": "stream",
     "text": [
      "\n",
      "      Epoch    GPU_mem   box_loss   cls_loss   dfl_loss  Instances       Size\n"
     ]
    },
    {
     "name": "stderr",
     "output_type": "stream",
     "text": [
      "    106/150      3.51G      0.456     0.6013     0.8369         73        640: 100%|██████████| 2/2 [00:02<00:00,  1.12s/it]\n",
      "                 Class     Images  Instances      Box(P          R      mAP50  mAP50-95): 100%|██████████| 1/1 [00:00<00:00,  5.40it/s]"
     ]
    },
    {
     "name": "stdout",
     "output_type": "stream",
     "text": [
      "                   all         10         31      0.547      0.361      0.531      0.444\n"
     ]
    },
    {
     "name": "stderr",
     "output_type": "stream",
     "text": [
      "\n"
     ]
    },
    {
     "name": "stdout",
     "output_type": "stream",
     "text": [
      "\n",
      "      Epoch    GPU_mem   box_loss   cls_loss   dfl_loss  Instances       Size\n"
     ]
    },
    {
     "name": "stderr",
     "output_type": "stream",
     "text": [
      "    107/150      3.53G     0.4968     0.5854     0.8759         86        640: 100%|██████████| 2/2 [00:02<00:00,  1.13s/it]\n",
      "                 Class     Images  Instances      Box(P          R      mAP50  mAP50-95): 100%|██████████| 1/1 [00:00<00:00,  5.37it/s]"
     ]
    },
    {
     "name": "stdout",
     "output_type": "stream",
     "text": [
      "                   all         10         31      0.605      0.378      0.524      0.436\n"
     ]
    },
    {
     "name": "stderr",
     "output_type": "stream",
     "text": [
      "\n"
     ]
    },
    {
     "name": "stdout",
     "output_type": "stream",
     "text": [
      "\n",
      "      Epoch    GPU_mem   box_loss   cls_loss   dfl_loss  Instances       Size\n"
     ]
    },
    {
     "name": "stderr",
     "output_type": "stream",
     "text": [
      "    108/150      3.53G     0.4658     0.5857     0.8339         94        640: 100%|██████████| 2/2 [00:02<00:00,  1.13s/it]\n",
      "                 Class     Images  Instances      Box(P          R      mAP50  mAP50-95): 100%|██████████| 1/1 [00:00<00:00,  5.48it/s]"
     ]
    },
    {
     "name": "stdout",
     "output_type": "stream",
     "text": [
      "                   all         10         31      0.615      0.408       0.47      0.375\n"
     ]
    },
    {
     "name": "stderr",
     "output_type": "stream",
     "text": [
      "\n"
     ]
    },
    {
     "name": "stdout",
     "output_type": "stream",
     "text": [
      "\n",
      "      Epoch    GPU_mem   box_loss   cls_loss   dfl_loss  Instances       Size\n"
     ]
    },
    {
     "name": "stderr",
     "output_type": "stream",
     "text": [
      "    109/150      3.51G     0.4473     0.5624     0.8257         79        640: 100%|██████████| 2/2 [00:02<00:00,  1.13s/it]\n",
      "                 Class     Images  Instances      Box(P          R      mAP50  mAP50-95): 100%|██████████| 1/1 [00:00<00:00,  5.41it/s]"
     ]
    },
    {
     "name": "stdout",
     "output_type": "stream",
     "text": [
      "                   all         10         31      0.615      0.408       0.47      0.375\n"
     ]
    },
    {
     "name": "stderr",
     "output_type": "stream",
     "text": [
      "\n"
     ]
    },
    {
     "name": "stdout",
     "output_type": "stream",
     "text": [
      "\n",
      "      Epoch    GPU_mem   box_loss   cls_loss   dfl_loss  Instances       Size\n"
     ]
    },
    {
     "name": "stderr",
     "output_type": "stream",
     "text": [
      "    110/150      3.53G     0.4708     0.5512     0.8373         91        640: 100%|██████████| 2/2 [00:02<00:00,  1.14s/it]\n",
      "                 Class     Images  Instances      Box(P          R      mAP50  mAP50-95): 100%|██████████| 1/1 [00:00<00:00,  5.48it/s]"
     ]
    },
    {
     "name": "stdout",
     "output_type": "stream",
     "text": [
      "                   all         10         31      0.598      0.417      0.514      0.417\n"
     ]
    },
    {
     "name": "stderr",
     "output_type": "stream",
     "text": [
      "\n"
     ]
    },
    {
     "name": "stdout",
     "output_type": "stream",
     "text": [
      "\n",
      "      Epoch    GPU_mem   box_loss   cls_loss   dfl_loss  Instances       Size\n"
     ]
    },
    {
     "name": "stderr",
     "output_type": "stream",
     "text": [
      "    111/150      3.51G     0.5018     0.5851      0.854         93        640: 100%|██████████| 2/2 [00:02<00:00,  1.15s/it]\n",
      "                 Class     Images  Instances      Box(P          R      mAP50  mAP50-95): 100%|██████████| 1/1 [00:00<00:00,  5.57it/s]"
     ]
    },
    {
     "name": "stdout",
     "output_type": "stream",
     "text": [
      "                   all         10         31      0.626      0.452      0.548      0.463\n"
     ]
    },
    {
     "name": "stderr",
     "output_type": "stream",
     "text": [
      "\n"
     ]
    },
    {
     "name": "stdout",
     "output_type": "stream",
     "text": [
      "\n",
      "      Epoch    GPU_mem   box_loss   cls_loss   dfl_loss  Instances       Size\n"
     ]
    },
    {
     "name": "stderr",
     "output_type": "stream",
     "text": [
      "    112/150      3.53G     0.4737     0.5968     0.8479         91        640: 100%|██████████| 2/2 [00:02<00:00,  1.13s/it]\n",
      "                 Class     Images  Instances      Box(P          R      mAP50  mAP50-95): 100%|██████████| 1/1 [00:00<00:00,  5.36it/s]\n"
     ]
    },
    {
     "name": "stdout",
     "output_type": "stream",
     "text": [
      "                   all         10         31      0.626      0.452      0.548      0.463\n",
      "\n",
      "      Epoch    GPU_mem   box_loss   cls_loss   dfl_loss  Instances       Size\n"
     ]
    },
    {
     "name": "stderr",
     "output_type": "stream",
     "text": [
      "    113/150      3.53G     0.4515     0.5885     0.8478         75        640: 100%|██████████| 2/2 [00:02<00:00,  1.13s/it]\n",
      "                 Class     Images  Instances      Box(P          R      mAP50  mAP50-95): 100%|██████████| 1/1 [00:00<00:00,  5.44it/s]"
     ]
    },
    {
     "name": "stdout",
     "output_type": "stream",
     "text": [
      "                   all         10         31      0.611      0.472      0.571      0.481\n"
     ]
    },
    {
     "name": "stderr",
     "output_type": "stream",
     "text": [
      "\n"
     ]
    },
    {
     "name": "stdout",
     "output_type": "stream",
     "text": [
      "\n",
      "      Epoch    GPU_mem   box_loss   cls_loss   dfl_loss  Instances       Size\n"
     ]
    },
    {
     "name": "stderr",
     "output_type": "stream",
     "text": [
      "    114/150      3.51G      0.455     0.5592     0.8233         94        640: 100%|██████████| 2/2 [00:02<00:00,  1.15s/it]\n",
      "                 Class     Images  Instances      Box(P          R      mAP50  mAP50-95): 100%|██████████| 1/1 [00:00<00:00,  5.59it/s]"
     ]
    },
    {
     "name": "stdout",
     "output_type": "stream",
     "text": [
      "                   all         10         31      0.618      0.491      0.592      0.499\n"
     ]
    },
    {
     "name": "stderr",
     "output_type": "stream",
     "text": [
      "\n"
     ]
    },
    {
     "name": "stdout",
     "output_type": "stream",
     "text": [
      "\n",
      "      Epoch    GPU_mem   box_loss   cls_loss   dfl_loss  Instances       Size\n"
     ]
    },
    {
     "name": "stderr",
     "output_type": "stream",
     "text": [
      "    115/150      3.51G     0.4363     0.5563     0.8299         78        640: 100%|██████████| 2/2 [00:02<00:00,  1.13s/it]\n",
      "                 Class     Images  Instances      Box(P          R      mAP50  mAP50-95): 100%|██████████| 1/1 [00:00<00:00,  5.46it/s]"
     ]
    },
    {
     "name": "stdout",
     "output_type": "stream",
     "text": [
      "                   all         10         31      0.618      0.491      0.592      0.499\n"
     ]
    },
    {
     "name": "stderr",
     "output_type": "stream",
     "text": [
      "\n"
     ]
    },
    {
     "name": "stdout",
     "output_type": "stream",
     "text": [
      "\n",
      "      Epoch    GPU_mem   box_loss   cls_loss   dfl_loss  Instances       Size\n"
     ]
    },
    {
     "name": "stderr",
     "output_type": "stream",
     "text": [
      "    116/150      3.51G      0.441     0.5535     0.8464         71        640: 100%|██████████| 2/2 [00:02<00:00,  1.14s/it]\n",
      "                 Class     Images  Instances      Box(P          R      mAP50  mAP50-95): 100%|██████████| 1/1 [00:00<00:00,  5.46it/s]"
     ]
    },
    {
     "name": "stdout",
     "output_type": "stream",
     "text": [
      "                   all         10         31      0.598      0.493      0.615      0.509\n"
     ]
    },
    {
     "name": "stderr",
     "output_type": "stream",
     "text": [
      "\n"
     ]
    },
    {
     "name": "stdout",
     "output_type": "stream",
     "text": [
      "\n",
      "      Epoch    GPU_mem   box_loss   cls_loss   dfl_loss  Instances       Size\n"
     ]
    },
    {
     "name": "stderr",
     "output_type": "stream",
     "text": [
      "    117/150      3.52G     0.4452     0.5531     0.8415         87        640: 100%|██████████| 2/2 [00:02<00:00,  1.14s/it]\n",
      "                 Class     Images  Instances      Box(P          R      mAP50  mAP50-95): 100%|██████████| 1/1 [00:00<00:00,  5.56it/s]"
     ]
    },
    {
     "name": "stdout",
     "output_type": "stream",
     "text": [
      "                   all         10         31      0.603      0.496      0.621      0.503\n"
     ]
    },
    {
     "name": "stderr",
     "output_type": "stream",
     "text": [
      "\n"
     ]
    },
    {
     "name": "stdout",
     "output_type": "stream",
     "text": [
      "\n",
      "      Epoch    GPU_mem   box_loss   cls_loss   dfl_loss  Instances       Size\n"
     ]
    },
    {
     "name": "stderr",
     "output_type": "stream",
     "text": [
      "    118/150      3.53G     0.4254     0.5758     0.8506         60        640: 100%|██████████| 2/2 [00:02<00:00,  1.12s/it]\n",
      "                 Class     Images  Instances      Box(P          R      mAP50  mAP50-95): 100%|██████████| 1/1 [00:00<00:00,  5.43it/s]"
     ]
    },
    {
     "name": "stdout",
     "output_type": "stream",
     "text": [
      "                   all         10         31      0.603      0.496      0.621      0.503\n"
     ]
    },
    {
     "name": "stderr",
     "output_type": "stream",
     "text": [
      "\n"
     ]
    },
    {
     "name": "stdout",
     "output_type": "stream",
     "text": [
      "\n",
      "      Epoch    GPU_mem   box_loss   cls_loss   dfl_loss  Instances       Size\n"
     ]
    },
    {
     "name": "stderr",
     "output_type": "stream",
     "text": [
      "    119/150      3.51G     0.4117     0.5381     0.8428         72        640: 100%|██████████| 2/2 [00:02<00:00,  1.14s/it]\n",
      "                 Class     Images  Instances      Box(P          R      mAP50  mAP50-95): 100%|██████████| 1/1 [00:00<00:00,  5.38it/s]"
     ]
    },
    {
     "name": "stdout",
     "output_type": "stream",
     "text": [
      "                   all         10         31      0.599      0.509      0.625      0.504\n"
     ]
    },
    {
     "name": "stderr",
     "output_type": "stream",
     "text": [
      "\n"
     ]
    },
    {
     "name": "stdout",
     "output_type": "stream",
     "text": [
      "\n",
      "      Epoch    GPU_mem   box_loss   cls_loss   dfl_loss  Instances       Size\n"
     ]
    },
    {
     "name": "stderr",
     "output_type": "stream",
     "text": [
      "    120/150      3.53G     0.4551     0.5704     0.8549         82        640: 100%|██████████| 2/2 [00:02<00:00,  1.15s/it]\n",
      "                 Class     Images  Instances      Box(P          R      mAP50  mAP50-95): 100%|██████████| 1/1 [00:00<00:00,  5.53it/s]"
     ]
    },
    {
     "name": "stdout",
     "output_type": "stream",
     "text": [
      "                   all         10         31      0.599      0.521      0.636      0.523\n"
     ]
    },
    {
     "name": "stderr",
     "output_type": "stream",
     "text": [
      "\n"
     ]
    },
    {
     "name": "stdout",
     "output_type": "stream",
     "text": [
      "\n",
      "      Epoch    GPU_mem   box_loss   cls_loss   dfl_loss  Instances       Size\n"
     ]
    },
    {
     "name": "stderr",
     "output_type": "stream",
     "text": [
      "    121/150      3.53G     0.4445     0.5469     0.8474        103        640: 100%|██████████| 2/2 [00:02<00:00,  1.13s/it]\n",
      "                 Class     Images  Instances      Box(P          R      mAP50  mAP50-95): 100%|██████████| 1/1 [00:00<00:00,  5.43it/s]"
     ]
    },
    {
     "name": "stdout",
     "output_type": "stream",
     "text": [
      "                   all         10         31      0.599      0.521      0.636      0.523\n"
     ]
    },
    {
     "name": "stderr",
     "output_type": "stream",
     "text": [
      "\n"
     ]
    },
    {
     "name": "stdout",
     "output_type": "stream",
     "text": [
      "\n",
      "      Epoch    GPU_mem   box_loss   cls_loss   dfl_loss  Instances       Size\n"
     ]
    },
    {
     "name": "stderr",
     "output_type": "stream",
     "text": [
      "    122/150      3.51G      0.458     0.5585     0.8442         91        640: 100%|██████████| 2/2 [00:02<00:00,  1.14s/it]\n",
      "                 Class     Images  Instances      Box(P          R      mAP50  mAP50-95): 100%|██████████| 1/1 [00:00<00:00,  5.40it/s]"
     ]
    },
    {
     "name": "stdout",
     "output_type": "stream",
     "text": [
      "                   all         10         31      0.601      0.532      0.636      0.527\n"
     ]
    },
    {
     "name": "stderr",
     "output_type": "stream",
     "text": [
      "\n"
     ]
    },
    {
     "name": "stdout",
     "output_type": "stream",
     "text": [
      "\n",
      "      Epoch    GPU_mem   box_loss   cls_loss   dfl_loss  Instances       Size\n"
     ]
    },
    {
     "name": "stderr",
     "output_type": "stream",
     "text": [
      "    123/150      3.58G     0.4561     0.5563     0.8674         76        640: 100%|██████████| 2/2 [00:02<00:00,  1.16s/it]\n",
      "                 Class     Images  Instances      Box(P          R      mAP50  mAP50-95): 100%|██████████| 1/1 [00:00<00:00,  5.61it/s]"
     ]
    },
    {
     "name": "stdout",
     "output_type": "stream",
     "text": [
      "                   all         10         31      0.591      0.546      0.639      0.522\n"
     ]
    },
    {
     "name": "stderr",
     "output_type": "stream",
     "text": [
      "\n"
     ]
    },
    {
     "name": "stdout",
     "output_type": "stream",
     "text": [
      "\n",
      "      Epoch    GPU_mem   box_loss   cls_loss   dfl_loss  Instances       Size\n"
     ]
    },
    {
     "name": "stderr",
     "output_type": "stream",
     "text": [
      "    124/150      3.51G     0.4671      0.555     0.8575         82        640: 100%|██████████| 2/2 [00:02<00:00,  1.13s/it]\n",
      "                 Class     Images  Instances      Box(P          R      mAP50  mAP50-95): 100%|██████████| 1/1 [00:00<00:00,  5.36it/s]"
     ]
    },
    {
     "name": "stdout",
     "output_type": "stream",
     "text": [
      "                   all         10         31      0.591      0.546      0.639      0.522\n"
     ]
    },
    {
     "name": "stderr",
     "output_type": "stream",
     "text": [
      "\n"
     ]
    },
    {
     "name": "stdout",
     "output_type": "stream",
     "text": [
      "\n",
      "      Epoch    GPU_mem   box_loss   cls_loss   dfl_loss  Instances       Size\n"
     ]
    },
    {
     "name": "stderr",
     "output_type": "stream",
     "text": [
      "    125/150      3.53G     0.4206     0.5281     0.8134        100        640: 100%|██████████| 2/2 [00:02<00:00,  1.16s/it]\n",
      "                 Class     Images  Instances      Box(P          R      mAP50  mAP50-95): 100%|██████████| 1/1 [00:00<00:00,  5.34it/s]"
     ]
    },
    {
     "name": "stdout",
     "output_type": "stream",
     "text": [
      "                   all         10         31      0.604       0.55      0.638      0.521\n"
     ]
    },
    {
     "name": "stderr",
     "output_type": "stream",
     "text": [
      "\n"
     ]
    },
    {
     "name": "stdout",
     "output_type": "stream",
     "text": [
      "\n",
      "      Epoch    GPU_mem   box_loss   cls_loss   dfl_loss  Instances       Size\n"
     ]
    },
    {
     "name": "stderr",
     "output_type": "stream",
     "text": [
      "    126/150      3.51G     0.4264     0.5294     0.8372         81        640: 100%|██████████| 2/2 [00:02<00:00,  1.17s/it]\n",
      "                 Class     Images  Instances      Box(P          R      mAP50  mAP50-95): 100%|██████████| 1/1 [00:00<00:00,  5.39it/s]"
     ]
    },
    {
     "name": "stdout",
     "output_type": "stream",
     "text": [
      "                   all         10         31      0.608      0.552      0.636      0.512\n"
     ]
    },
    {
     "name": "stderr",
     "output_type": "stream",
     "text": [
      "\n"
     ]
    },
    {
     "name": "stdout",
     "output_type": "stream",
     "text": [
      "\n",
      "      Epoch    GPU_mem   box_loss   cls_loss   dfl_loss  Instances       Size\n"
     ]
    },
    {
     "name": "stderr",
     "output_type": "stream",
     "text": [
      "    127/150      3.53G      0.416     0.5041     0.8391         79        640: 100%|██████████| 2/2 [00:02<00:00,  1.15s/it]\n",
      "                 Class     Images  Instances      Box(P          R      mAP50  mAP50-95): 100%|██████████| 1/1 [00:00<00:00,  5.38it/s]"
     ]
    },
    {
     "name": "stdout",
     "output_type": "stream",
     "text": [
      "                   all         10         31      0.608      0.552      0.636      0.512\n"
     ]
    },
    {
     "name": "stderr",
     "output_type": "stream",
     "text": [
      "\n"
     ]
    },
    {
     "name": "stdout",
     "output_type": "stream",
     "text": [
      "\n",
      "      Epoch    GPU_mem   box_loss   cls_loss   dfl_loss  Instances       Size\n"
     ]
    },
    {
     "name": "stderr",
     "output_type": "stream",
     "text": [
      "    128/150      3.66G     0.4315     0.5296      0.836         90        640: 100%|██████████| 2/2 [00:02<00:00,  1.17s/it]\n",
      "                 Class     Images  Instances      Box(P          R      mAP50  mAP50-95): 100%|██████████| 1/1 [00:00<00:00,  5.40it/s]"
     ]
    },
    {
     "name": "stdout",
     "output_type": "stream",
     "text": [
      "                   all         10         31      0.848      0.435      0.637      0.508\n"
     ]
    },
    {
     "name": "stderr",
     "output_type": "stream",
     "text": [
      "\n"
     ]
    },
    {
     "name": "stdout",
     "output_type": "stream",
     "text": [
      "\n",
      "      Epoch    GPU_mem   box_loss   cls_loss   dfl_loss  Instances       Size\n"
     ]
    },
    {
     "name": "stderr",
     "output_type": "stream",
     "text": [
      "    129/150      3.53G     0.4691     0.6021     0.8599         84        640: 100%|██████████| 2/2 [00:02<00:00,  1.17s/it]\n",
      "                 Class     Images  Instances      Box(P          R      mAP50  mAP50-95): 100%|██████████| 1/1 [00:00<00:00,  5.44it/s]"
     ]
    },
    {
     "name": "stdout",
     "output_type": "stream",
     "text": [
      "                   all         10         31      0.608      0.565      0.633      0.507\n"
     ]
    },
    {
     "name": "stderr",
     "output_type": "stream",
     "text": [
      "\n"
     ]
    },
    {
     "name": "stdout",
     "output_type": "stream",
     "text": [
      "\n",
      "      Epoch    GPU_mem   box_loss   cls_loss   dfl_loss  Instances       Size\n"
     ]
    },
    {
     "name": "stderr",
     "output_type": "stream",
     "text": [
      "    130/150      3.53G     0.4685     0.5224     0.8497         83        640: 100%|██████████| 2/2 [00:02<00:00,  1.17s/it]\n",
      "                 Class     Images  Instances      Box(P          R      mAP50  mAP50-95): 100%|██████████| 1/1 [00:00<00:00,  5.40it/s]"
     ]
    },
    {
     "name": "stdout",
     "output_type": "stream",
     "text": [
      "                   all         10         31      0.608      0.565      0.633      0.507\n"
     ]
    },
    {
     "name": "stderr",
     "output_type": "stream",
     "text": [
      "\n"
     ]
    },
    {
     "name": "stdout",
     "output_type": "stream",
     "text": [
      "\n",
      "      Epoch    GPU_mem   box_loss   cls_loss   dfl_loss  Instances       Size\n"
     ]
    },
    {
     "name": "stderr",
     "output_type": "stream",
     "text": [
      "    131/150      3.53G      0.441     0.5536     0.8382         99        640: 100%|██████████| 2/2 [00:02<00:00,  1.17s/it]\n",
      "                 Class     Images  Instances      Box(P          R      mAP50  mAP50-95): 100%|██████████| 1/1 [00:00<00:00,  5.41it/s]"
     ]
    },
    {
     "name": "stdout",
     "output_type": "stream",
     "text": [
      "                   all         10         31      0.852      0.424       0.63      0.506\n"
     ]
    },
    {
     "name": "stderr",
     "output_type": "stream",
     "text": [
      "\n"
     ]
    },
    {
     "name": "stdout",
     "output_type": "stream",
     "text": [
      "\n",
      "      Epoch    GPU_mem   box_loss   cls_loss   dfl_loss  Instances       Size\n"
     ]
    },
    {
     "name": "stderr",
     "output_type": "stream",
     "text": [
      "    132/150      3.53G      0.422     0.5155     0.8481        114        640: 100%|██████████| 2/2 [00:02<00:00,  1.18s/it]\n",
      "                 Class     Images  Instances      Box(P          R      mAP50  mAP50-95): 100%|██████████| 1/1 [00:00<00:00,  5.44it/s]"
     ]
    },
    {
     "name": "stdout",
     "output_type": "stream",
     "text": [
      "                   all         10         31      0.587      0.565      0.623      0.514\n"
     ]
    },
    {
     "name": "stderr",
     "output_type": "stream",
     "text": [
      "\n"
     ]
    },
    {
     "name": "stdout",
     "output_type": "stream",
     "text": [
      "\n",
      "      Epoch    GPU_mem   box_loss   cls_loss   dfl_loss  Instances       Size\n"
     ]
    },
    {
     "name": "stderr",
     "output_type": "stream",
     "text": [
      "    133/150      3.51G     0.4199     0.5145     0.8382         76        640: 100%|██████████| 2/2 [00:02<00:00,  1.16s/it]\n",
      "                 Class     Images  Instances      Box(P          R      mAP50  mAP50-95): 100%|██████████| 1/1 [00:00<00:00,  5.33it/s]\n"
     ]
    },
    {
     "name": "stdout",
     "output_type": "stream",
     "text": [
      "                   all         10         31      0.587      0.565      0.623      0.514\n",
      "\n",
      "      Epoch    GPU_mem   box_loss   cls_loss   dfl_loss  Instances       Size\n"
     ]
    },
    {
     "name": "stderr",
     "output_type": "stream",
     "text": [
      "    134/150      3.53G     0.4306     0.5197     0.8527        102        640: 100%|██████████| 2/2 [00:02<00:00,  1.17s/it]\n",
      "                 Class     Images  Instances      Box(P          R      mAP50  mAP50-95): 100%|██████████| 1/1 [00:00<00:00,  5.40it/s]"
     ]
    },
    {
     "name": "stdout",
     "output_type": "stream",
     "text": [
      "                   all         10         31      0.581      0.567      0.622      0.493\n"
     ]
    },
    {
     "name": "stderr",
     "output_type": "stream",
     "text": [
      "\n"
     ]
    },
    {
     "name": "stdout",
     "output_type": "stream",
     "text": [
      "\n",
      "      Epoch    GPU_mem   box_loss   cls_loss   dfl_loss  Instances       Size\n"
     ]
    },
    {
     "name": "stderr",
     "output_type": "stream",
     "text": [
      "    135/150      3.52G     0.3959      0.492     0.8237         86        640: 100%|██████████| 2/2 [00:02<00:00,  1.17s/it]\n",
      "                 Class     Images  Instances      Box(P          R      mAP50  mAP50-95): 100%|██████████| 1/1 [00:00<00:00,  5.40it/s]"
     ]
    },
    {
     "name": "stdout",
     "output_type": "stream",
     "text": [
      "                   all         10         31      0.602      0.546      0.619      0.495\n"
     ]
    },
    {
     "name": "stderr",
     "output_type": "stream",
     "text": [
      "\n"
     ]
    },
    {
     "name": "stdout",
     "output_type": "stream",
     "text": [
      "\n",
      "      Epoch    GPU_mem   box_loss   cls_loss   dfl_loss  Instances       Size\n"
     ]
    },
    {
     "name": "stderr",
     "output_type": "stream",
     "text": [
      "    136/150      3.51G     0.3831     0.5005     0.8702         64        640: 100%|██████████| 2/2 [00:02<00:00,  1.15s/it]\n",
      "                 Class     Images  Instances      Box(P          R      mAP50  mAP50-95): 100%|██████████| 1/1 [00:00<00:00,  5.43it/s]"
     ]
    },
    {
     "name": "stdout",
     "output_type": "stream",
     "text": [
      "                   all         10         31      0.602      0.546      0.619      0.495\n"
     ]
    },
    {
     "name": "stderr",
     "output_type": "stream",
     "text": [
      "\n"
     ]
    },
    {
     "name": "stdout",
     "output_type": "stream",
     "text": [
      "\n",
      "      Epoch    GPU_mem   box_loss   cls_loss   dfl_loss  Instances       Size\n"
     ]
    },
    {
     "name": "stderr",
     "output_type": "stream",
     "text": [
      "    137/150       3.5G     0.3725     0.5084     0.8245         75        640: 100%|██████████| 2/2 [00:02<00:00,  1.16s/it]\n",
      "                 Class     Images  Instances      Box(P          R      mAP50  mAP50-95): 100%|██████████| 1/1 [00:00<00:00,  5.43it/s]"
     ]
    },
    {
     "name": "stdout",
     "output_type": "stream",
     "text": [
      "                   all         10         31      0.601      0.559      0.614      0.492\n"
     ]
    },
    {
     "name": "stderr",
     "output_type": "stream",
     "text": [
      "\n"
     ]
    },
    {
     "name": "stdout",
     "output_type": "stream",
     "text": [
      "\n",
      "      Epoch    GPU_mem   box_loss   cls_loss   dfl_loss  Instances       Size\n"
     ]
    },
    {
     "name": "stderr",
     "output_type": "stream",
     "text": [
      "    138/150      3.53G     0.4126     0.5267     0.8197         81        640: 100%|██████████| 2/2 [00:02<00:00,  1.18s/it]\n",
      "                 Class     Images  Instances      Box(P          R      mAP50  mAP50-95): 100%|██████████| 1/1 [00:00<00:00,  5.36it/s]"
     ]
    },
    {
     "name": "stdout",
     "output_type": "stream",
     "text": [
      "                   all         10         31      0.602      0.575      0.611      0.498\n"
     ]
    },
    {
     "name": "stderr",
     "output_type": "stream",
     "text": [
      "\n"
     ]
    },
    {
     "name": "stdout",
     "output_type": "stream",
     "text": [
      "\n",
      "      Epoch    GPU_mem   box_loss   cls_loss   dfl_loss  Instances       Size\n"
     ]
    },
    {
     "name": "stderr",
     "output_type": "stream",
     "text": [
      "    139/150      3.51G     0.4181     0.5239     0.8243         72        640: 100%|██████████| 2/2 [00:02<00:00,  1.16s/it]\n",
      "                 Class     Images  Instances      Box(P          R      mAP50  mAP50-95): 100%|██████████| 1/1 [00:00<00:00,  5.42it/s]"
     ]
    },
    {
     "name": "stdout",
     "output_type": "stream",
     "text": [
      "                   all         10         31      0.602      0.575      0.611      0.498\n"
     ]
    },
    {
     "name": "stderr",
     "output_type": "stream",
     "text": [
      "\n"
     ]
    },
    {
     "name": "stdout",
     "output_type": "stream",
     "text": [
      "\n",
      "      Epoch    GPU_mem   box_loss   cls_loss   dfl_loss  Instances       Size\n"
     ]
    },
    {
     "name": "stderr",
     "output_type": "stream",
     "text": [
      "    140/150      3.53G     0.3908     0.4863     0.8258         79        640: 100%|██████████| 2/2 [00:02<00:00,  1.17s/it]\n",
      "                 Class     Images  Instances      Box(P          R      mAP50  mAP50-95): 100%|██████████| 1/1 [00:00<00:00,  5.39it/s]"
     ]
    },
    {
     "name": "stdout",
     "output_type": "stream",
     "text": [
      "                   all         10         31        0.6      0.551      0.609      0.494\n"
     ]
    },
    {
     "name": "stderr",
     "output_type": "stream",
     "text": [
      "\n"
     ]
    },
    {
     "name": "stdout",
     "output_type": "stream",
     "text": [
      "Closing dataloader mosaic\n",
      "\n",
      "      Epoch    GPU_mem   box_loss   cls_loss   dfl_loss  Instances       Size\n"
     ]
    },
    {
     "name": "stderr",
     "output_type": "stream",
     "text": [
      "    141/150      3.51G     0.3888     0.6011      0.795         50        640: 100%|██████████| 2/2 [00:04<00:00,  2.42s/it]\n",
      "                 Class     Images  Instances      Box(P          R      mAP50  mAP50-95): 100%|██████████| 1/1 [00:00<00:00,  4.57it/s]"
     ]
    },
    {
     "name": "stdout",
     "output_type": "stream",
     "text": [
      "                   all         10         31      0.699      0.457      0.603      0.502\n"
     ]
    },
    {
     "name": "stderr",
     "output_type": "stream",
     "text": [
      "\n"
     ]
    },
    {
     "name": "stdout",
     "output_type": "stream",
     "text": [
      "\n",
      "      Epoch    GPU_mem   box_loss   cls_loss   dfl_loss  Instances       Size\n"
     ]
    },
    {
     "name": "stderr",
     "output_type": "stream",
     "text": [
      "    142/150      3.51G     0.4125     0.5916     0.8083         40        640: 100%|██████████| 2/2 [00:02<00:00,  1.16s/it]\n",
      "                 Class     Images  Instances      Box(P          R      mAP50  mAP50-95): 100%|██████████| 1/1 [00:00<00:00,  5.33it/s]\n"
     ]
    },
    {
     "name": "stdout",
     "output_type": "stream",
     "text": [
      "                   all         10         31      0.699      0.457      0.603      0.502\n",
      "\n",
      "      Epoch    GPU_mem   box_loss   cls_loss   dfl_loss  Instances       Size\n"
     ]
    },
    {
     "name": "stderr",
     "output_type": "stream",
     "text": [
      "    143/150      3.51G     0.3719      0.575     0.8188         42        640: 100%|██████████| 2/2 [00:02<00:00,  1.16s/it]\n",
      "                 Class     Images  Instances      Box(P          R      mAP50  mAP50-95): 100%|██████████| 1/1 [00:00<00:00,  5.40it/s]"
     ]
    },
    {
     "name": "stdout",
     "output_type": "stream",
     "text": [
      "                   all         10         31      0.681      0.462      0.597      0.496\n"
     ]
    },
    {
     "name": "stderr",
     "output_type": "stream",
     "text": [
      "\n"
     ]
    },
    {
     "name": "stdout",
     "output_type": "stream",
     "text": [
      "\n",
      "      Epoch    GPU_mem   box_loss   cls_loss   dfl_loss  Instances       Size\n"
     ]
    },
    {
     "name": "stderr",
     "output_type": "stream",
     "text": [
      "    144/150      3.53G     0.3914     0.5817     0.8028         57        640: 100%|██████████| 2/2 [00:02<00:00,  1.16s/it]\n",
      "                 Class     Images  Instances      Box(P          R      mAP50  mAP50-95): 100%|██████████| 1/1 [00:00<00:00,  5.37it/s]\n"
     ]
    },
    {
     "name": "stdout",
     "output_type": "stream",
     "text": [
      "                   all         10         31      0.857      0.387      0.591      0.495\n",
      "\n",
      "      Epoch    GPU_mem   box_loss   cls_loss   dfl_loss  Instances       Size\n"
     ]
    },
    {
     "name": "stderr",
     "output_type": "stream",
     "text": [
      "    145/150      3.51G     0.3834     0.5908     0.7777         49        640: 100%|██████████| 2/2 [00:02<00:00,  1.15s/it]\n",
      "                 Class     Images  Instances      Box(P          R      mAP50  mAP50-95): 100%|██████████| 1/1 [00:00<00:00,  5.38it/s]"
     ]
    },
    {
     "name": "stdout",
     "output_type": "stream",
     "text": [
      "                   all         10         31      0.857      0.387      0.591      0.495\n"
     ]
    },
    {
     "name": "stderr",
     "output_type": "stream",
     "text": [
      "\n"
     ]
    },
    {
     "name": "stdout",
     "output_type": "stream",
     "text": [
      "\n",
      "      Epoch    GPU_mem   box_loss   cls_loss   dfl_loss  Instances       Size\n"
     ]
    },
    {
     "name": "stderr",
     "output_type": "stream",
     "text": [
      "    146/150      3.51G     0.3661     0.5375     0.8093         40        640: 100%|██████████| 2/2 [00:02<00:00,  1.16s/it]\n",
      "                 Class     Images  Instances      Box(P          R      mAP50  mAP50-95): 100%|██████████| 1/1 [00:00<00:00,  5.43it/s]"
     ]
    },
    {
     "name": "stdout",
     "output_type": "stream",
     "text": [
      "                   all         10         31      0.717      0.461      0.584      0.496\n"
     ]
    },
    {
     "name": "stderr",
     "output_type": "stream",
     "text": [
      "\n"
     ]
    },
    {
     "name": "stdout",
     "output_type": "stream",
     "text": [
      "\n",
      "      Epoch    GPU_mem   box_loss   cls_loss   dfl_loss  Instances       Size\n"
     ]
    },
    {
     "name": "stderr",
     "output_type": "stream",
     "text": [
      "    147/150      3.51G     0.3448     0.5394     0.7905         44        640: 100%|██████████| 2/2 [00:02<00:00,  1.16s/it]\n",
      "                 Class     Images  Instances      Box(P          R      mAP50  mAP50-95): 100%|██████████| 1/1 [00:00<00:00,  5.43it/s]"
     ]
    },
    {
     "name": "stdout",
     "output_type": "stream",
     "text": [
      "                   all         10         31      0.715      0.452      0.579       0.49\n"
     ]
    },
    {
     "name": "stderr",
     "output_type": "stream",
     "text": [
      "\n"
     ]
    },
    {
     "name": "stdout",
     "output_type": "stream",
     "text": [
      "\n",
      "      Epoch    GPU_mem   box_loss   cls_loss   dfl_loss  Instances       Size\n"
     ]
    },
    {
     "name": "stderr",
     "output_type": "stream",
     "text": [
      "    148/150      3.53G     0.3637     0.5506     0.8051         53        640: 100%|██████████| 2/2 [00:02<00:00,  1.15s/it]\n",
      "                 Class     Images  Instances      Box(P          R      mAP50  mAP50-95): 100%|██████████| 1/1 [00:00<00:00,  5.43it/s]"
     ]
    },
    {
     "name": "stdout",
     "output_type": "stream",
     "text": [
      "                   all         10         31      0.715      0.452      0.579       0.49\n"
     ]
    },
    {
     "name": "stderr",
     "output_type": "stream",
     "text": [
      "\n"
     ]
    },
    {
     "name": "stdout",
     "output_type": "stream",
     "text": [
      "\n",
      "      Epoch    GPU_mem   box_loss   cls_loss   dfl_loss  Instances       Size\n"
     ]
    },
    {
     "name": "stderr",
     "output_type": "stream",
     "text": [
      "    149/150      3.53G     0.3692     0.5652     0.7998         47        640: 100%|██████████| 2/2 [00:02<00:00,  1.16s/it]\n",
      "                 Class     Images  Instances      Box(P          R      mAP50  mAP50-95): 100%|██████████| 1/1 [00:00<00:00,  5.42it/s]"
     ]
    },
    {
     "name": "stdout",
     "output_type": "stream",
     "text": [
      "                   all         10         31      0.739      0.442       0.57      0.483\n"
     ]
    },
    {
     "name": "stderr",
     "output_type": "stream",
     "text": [
      "\n"
     ]
    },
    {
     "name": "stdout",
     "output_type": "stream",
     "text": [
      "\n",
      "      Epoch    GPU_mem   box_loss   cls_loss   dfl_loss  Instances       Size\n"
     ]
    },
    {
     "name": "stderr",
     "output_type": "stream",
     "text": [
      "    150/150      3.53G     0.3405      0.519     0.7678         51        640: 100%|██████████| 2/2 [00:02<00:00,  1.16s/it]\n",
      "                 Class     Images  Instances      Box(P          R      mAP50  mAP50-95): 100%|██████████| 1/1 [00:00<00:00,  5.41it/s]"
     ]
    },
    {
     "name": "stdout",
     "output_type": "stream",
     "text": [
      "                   all         10         31      0.756      0.441      0.567      0.481\n"
     ]
    },
    {
     "name": "stderr",
     "output_type": "stream",
     "text": [
      "\n"
     ]
    },
    {
     "name": "stdout",
     "output_type": "stream",
     "text": [
      "\n",
      "150 epochs completed in 0.082 hours.\n",
      "Optimizer stripped from runs/detect/train/weights/last.pt, 5.5MB\n",
      "Optimizer stripped from runs/detect/train/weights/best.pt, 5.5MB\n",
      "\n",
      "Validating runs/detect/train/weights/best.pt...\n",
      "Ultralytics 8.3.29 🚀 Python-3.11.5 torch-2.3.1 CUDA:0 (NVIDIA GeForce RTX 3050 Laptop GPU, 3797MiB)\n",
      "YOLO11n summary (fused): 238 layers, 2,582,542 parameters, 0 gradients\n"
     ]
    },
    {
     "name": "stderr",
     "output_type": "stream",
     "text": [
      "                 Class     Images  Instances      Box(P          R      mAP50  mAP50-95): 100%|██████████| 1/1 [00:00<00:00,  5.60it/s]\n"
     ]
    },
    {
     "name": "stdout",
     "output_type": "stream",
     "text": [
      "                   all         10         31      0.656      0.565      0.628      0.533\n",
      "                Unripe          9         27       0.88       0.63      0.759      0.608\n",
      "                  Ripe          3          4      0.432        0.5      0.498      0.458\n",
      "Speed: 0.4ms preprocess, 13.2ms inference, 0.0ms loss, 1.8ms postprocess per image\n",
      "Results saved to \u001b[1mruns/detect/train\u001b[0m\n"
     ]
    }
   ],
   "source": [
    "results = model.train(data=\"YOLOv8Lemons/data.yaml\", epochs=150,batch=24)"
   ]
  },
  {
   "cell_type": "code",
   "execution_count": 2,
   "metadata": {},
   "outputs": [],
   "source": [
    "model_medium = YOLO(model=\"yolo11m.pt\")"
   ]
  },
  {
   "cell_type": "code",
   "execution_count": 3,
   "metadata": {},
   "outputs": [
    {
     "name": "stdout",
     "output_type": "stream",
     "text": [
      "Ultralytics 8.3.29 🚀 Python-3.11.5 torch-2.3.1 CUDA:0 (NVIDIA GeForce RTX 3050 Laptop GPU, 3797MiB)\n",
      "\u001b[34m\u001b[1mengine/trainer: \u001b[0mtask=detect, mode=train, model=yolo11m.pt, data=YOLOv8Lemons/data.yaml, epochs=150, time=None, patience=100, batch=6, imgsz=640, save=True, save_period=-1, cache=False, device=None, workers=8, project=None, name=train5, exist_ok=False, pretrained=True, optimizer=auto, verbose=True, seed=0, deterministic=True, single_cls=False, rect=False, cos_lr=False, close_mosaic=10, resume=False, amp=True, fraction=1.0, profile=False, freeze=None, multi_scale=False, overlap_mask=True, mask_ratio=4, dropout=0.0, val=True, split=val, save_json=False, save_hybrid=False, conf=None, iou=0.7, max_det=300, half=False, dnn=False, plots=True, source=None, vid_stride=1, stream_buffer=False, visualize=False, augment=False, agnostic_nms=False, classes=None, retina_masks=False, embed=None, show=False, save_frames=False, save_txt=False, save_conf=False, save_crop=False, show_labels=True, show_conf=True, show_boxes=True, line_width=None, format=torchscript, keras=False, optimize=False, int8=False, dynamic=False, simplify=True, opset=None, workspace=4, nms=False, lr0=0.01, lrf=0.01, momentum=0.937, weight_decay=0.0005, warmup_epochs=3.0, warmup_momentum=0.8, warmup_bias_lr=0.1, box=7.5, cls=0.5, dfl=1.5, pose=12.0, kobj=1.0, label_smoothing=0.0, nbs=64, hsv_h=0.015, hsv_s=0.7, hsv_v=0.4, degrees=0.0, translate=0.1, scale=0.5, shear=0.0, perspective=0.0, flipud=0.0, fliplr=0.5, bgr=0.0, mosaic=1.0, mixup=0.0, copy_paste=0.0, copy_paste_mode=flip, auto_augment=randaugment, erasing=0.4, crop_fraction=1.0, cfg=None, tracker=botsort.yaml, save_dir=runs/detect/train5\n",
      "Overriding model.yaml nc=80 with nc=2\n",
      "\n",
      "                   from  n    params  module                                       arguments                     \n",
      "  0                  -1  1      1856  ultralytics.nn.modules.conv.Conv             [3, 64, 3, 2]                 \n",
      "  1                  -1  1     73984  ultralytics.nn.modules.conv.Conv             [64, 128, 3, 2]               \n",
      "  2                  -1  1    111872  ultralytics.nn.modules.block.C3k2            [128, 256, 1, True, 0.25]     \n",
      "  3                  -1  1    590336  ultralytics.nn.modules.conv.Conv             [256, 256, 3, 2]              \n",
      "  4                  -1  1    444928  ultralytics.nn.modules.block.C3k2            [256, 512, 1, True, 0.25]     \n",
      "  5                  -1  1   2360320  ultralytics.nn.modules.conv.Conv             [512, 512, 3, 2]              \n",
      "  6                  -1  1   1380352  ultralytics.nn.modules.block.C3k2            [512, 512, 1, True]           \n",
      "  7                  -1  1   2360320  ultralytics.nn.modules.conv.Conv             [512, 512, 3, 2]              \n",
      "  8                  -1  1   1380352  ultralytics.nn.modules.block.C3k2            [512, 512, 1, True]           \n",
      "  9                  -1  1    656896  ultralytics.nn.modules.block.SPPF            [512, 512, 5]                 \n",
      " 10                  -1  1    990976  ultralytics.nn.modules.block.C2PSA           [512, 512, 1]                 \n",
      " 11                  -1  1         0  torch.nn.modules.upsampling.Upsample         [None, 2, 'nearest']          \n",
      " 12             [-1, 6]  1         0  ultralytics.nn.modules.conv.Concat           [1]                           \n",
      " 13                  -1  1   1642496  ultralytics.nn.modules.block.C3k2            [1024, 512, 1, True]          \n",
      " 14                  -1  1         0  torch.nn.modules.upsampling.Upsample         [None, 2, 'nearest']          \n",
      " 15             [-1, 4]  1         0  ultralytics.nn.modules.conv.Concat           [1]                           \n",
      " 16                  -1  1    542720  ultralytics.nn.modules.block.C3k2            [1024, 256, 1, True]          \n",
      " 17                  -1  1    590336  ultralytics.nn.modules.conv.Conv             [256, 256, 3, 2]              \n",
      " 18            [-1, 13]  1         0  ultralytics.nn.modules.conv.Concat           [1]                           \n",
      " 19                  -1  1   1511424  ultralytics.nn.modules.block.C3k2            [768, 512, 1, True]           \n",
      " 20                  -1  1   2360320  ultralytics.nn.modules.conv.Conv             [512, 512, 3, 2]              \n",
      " 21            [-1, 10]  1         0  ultralytics.nn.modules.conv.Concat           [1]                           \n",
      " 22                  -1  1   1642496  ultralytics.nn.modules.block.C3k2            [1024, 512, 1, True]          \n",
      " 23        [16, 19, 22]  1   1412566  ultralytics.nn.modules.head.Detect           [2, [256, 512, 512]]          \n",
      "YOLO11m summary: 409 layers, 20,054,550 parameters, 20,054,534 gradients\n",
      "\n",
      "Transferred 643/649 items from pretrained weights\n",
      "\u001b[34m\u001b[1mTensorBoard: \u001b[0mStart with 'tensorboard --logdir runs/detect/train5', view at http://localhost:6006/\n",
      "Freezing layer 'model.23.dfl.conv.weight'\n",
      "\u001b[34m\u001b[1mAMP: \u001b[0mrunning Automatic Mixed Precision (AMP) checks...\n",
      "\u001b[34m\u001b[1mAMP: \u001b[0mchecks passed ✅\n"
     ]
    },
    {
     "name": "stderr",
     "output_type": "stream",
     "text": [
      "\u001b[34m\u001b[1mtrain: \u001b[0mScanning /storage/Programming/PyTorch/LemonDetection/YOLOv8Lemons/data/labels/Train.cache... 47 images, 0 backgrounds, 0 corrupt: 100%|██████████| 47/47 [00:00<?, ?it/s]\n",
      "\u001b[34m\u001b[1mval: \u001b[0mScanning /storage/Programming/PyTorch/LemonDetection/YOLOv8Lemons/data/labels/Validation.cache... 10 images, 0 backgrounds, 0 corrupt: 100%|██████████| 10/10 [00:00<?, ?it/s]\n"
     ]
    },
    {
     "name": "stdout",
     "output_type": "stream",
     "text": [
      "Plotting labels to runs/detect/train5/labels.jpg... \n",
      "\u001b[34m\u001b[1moptimizer:\u001b[0m 'optimizer=auto' found, ignoring 'lr0=0.01' and 'momentum=0.937' and determining best 'optimizer', 'lr0' and 'momentum' automatically... \n",
      "\u001b[34m\u001b[1moptimizer:\u001b[0m AdamW(lr=0.001667, momentum=0.9) with parameter groups 106 weight(decay=0.0), 113 weight(decay=0.000515625), 112 bias(decay=0.0)\n",
      "\u001b[34m\u001b[1mTensorBoard: \u001b[0mmodel graph visualization added ✅\n",
      "Image sizes 640 train, 640 val\n",
      "Using 8 dataloader workers\n",
      "Logging results to \u001b[1mruns/detect/train5\u001b[0m\n",
      "Starting training for 150 epochs...\n",
      "\n",
      "      Epoch    GPU_mem   box_loss   cls_loss   dfl_loss  Instances       Size\n"
     ]
    },
    {
     "name": "stderr",
     "output_type": "stream",
     "text": [
      "      1/150      3.59G       1.05      3.861      1.269         18        640: 100%|██████████| 8/8 [00:03<00:00,  2.46it/s]\n",
      "                 Class     Images  Instances      Box(P          R      mAP50  mAP50-95): 100%|██████████| 1/1 [00:00<00:00,  4.22it/s]"
     ]
    },
    {
     "name": "stdout",
     "output_type": "stream",
     "text": [
      "                   all         10         31      0.344      0.639      0.355      0.292\n"
     ]
    },
    {
     "name": "stderr",
     "output_type": "stream",
     "text": [
      "\n"
     ]
    },
    {
     "name": "stdout",
     "output_type": "stream",
     "text": [
      "\n",
      "      Epoch    GPU_mem   box_loss   cls_loss   dfl_loss  Instances       Size\n"
     ]
    },
    {
     "name": "stderr",
     "output_type": "stream",
     "text": [
      "      2/150      3.61G     0.8037      2.217     0.9558         18        640: 100%|██████████| 8/8 [00:02<00:00,  2.86it/s]\n",
      "                 Class     Images  Instances      Box(P          R      mAP50  mAP50-95): 100%|██████████| 1/1 [00:00<00:00,  4.19it/s]"
     ]
    },
    {
     "name": "stdout",
     "output_type": "stream",
     "text": [
      "                   all         10         31      0.745      0.125      0.159      0.128\n"
     ]
    },
    {
     "name": "stderr",
     "output_type": "stream",
     "text": [
      "\n"
     ]
    },
    {
     "name": "stdout",
     "output_type": "stream",
     "text": [
      "\n",
      "      Epoch    GPU_mem   box_loss   cls_loss   dfl_loss  Instances       Size\n"
     ]
    },
    {
     "name": "stderr",
     "output_type": "stream",
     "text": [
      "      3/150       3.6G     0.9228      2.087      1.038         12        640: 100%|██████████| 8/8 [00:02<00:00,  2.89it/s]\n",
      "                 Class     Images  Instances      Box(P          R      mAP50  mAP50-95): 100%|██████████| 1/1 [00:00<00:00,  4.54it/s]"
     ]
    },
    {
     "name": "stdout",
     "output_type": "stream",
     "text": [
      "                   all         10         31      0.276      0.401      0.222      0.201\n"
     ]
    },
    {
     "name": "stderr",
     "output_type": "stream",
     "text": [
      "\n"
     ]
    },
    {
     "name": "stdout",
     "output_type": "stream",
     "text": [
      "\n",
      "      Epoch    GPU_mem   box_loss   cls_loss   dfl_loss  Instances       Size\n"
     ]
    },
    {
     "name": "stderr",
     "output_type": "stream",
     "text": [
      "      4/150      3.67G     0.8815      1.656     0.9888         18        640: 100%|██████████| 8/8 [00:02<00:00,  2.87it/s]\n",
      "                 Class     Images  Instances      Box(P          R      mAP50  mAP50-95): 100%|██████████| 1/1 [00:00<00:00,  4.40it/s]"
     ]
    },
    {
     "name": "stdout",
     "output_type": "stream",
     "text": [
      "                   all         10         31      0.399      0.236      0.164      0.141\n"
     ]
    },
    {
     "name": "stderr",
     "output_type": "stream",
     "text": [
      "\n"
     ]
    },
    {
     "name": "stdout",
     "output_type": "stream",
     "text": [
      "\n",
      "      Epoch    GPU_mem   box_loss   cls_loss   dfl_loss  Instances       Size\n"
     ]
    },
    {
     "name": "stderr",
     "output_type": "stream",
     "text": [
      "      5/150      3.67G     0.8753      1.494      1.034         14        640: 100%|██████████| 8/8 [00:02<00:00,  2.86it/s]\n",
      "                 Class     Images  Instances      Box(P          R      mAP50  mAP50-95): 100%|██████████| 1/1 [00:00<00:00,  4.33it/s]"
     ]
    },
    {
     "name": "stdout",
     "output_type": "stream",
     "text": [
      "                   all         10         31     0.0539     0.0926      0.059     0.0401\n"
     ]
    },
    {
     "name": "stderr",
     "output_type": "stream",
     "text": [
      "\n"
     ]
    },
    {
     "name": "stdout",
     "output_type": "stream",
     "text": [
      "\n",
      "      Epoch    GPU_mem   box_loss   cls_loss   dfl_loss  Instances       Size\n"
     ]
    },
    {
     "name": "stderr",
     "output_type": "stream",
     "text": [
      "      6/150      3.64G      1.034       1.41      1.074         17        640: 100%|██████████| 8/8 [00:02<00:00,  2.83it/s]\n",
      "                 Class     Images  Instances      Box(P          R      mAP50  mAP50-95): 100%|██████████| 1/1 [00:00<00:00,  4.64it/s]"
     ]
    },
    {
     "name": "stdout",
     "output_type": "stream",
     "text": [
      "                   all         10         31      0.683      0.347      0.357      0.235\n"
     ]
    },
    {
     "name": "stderr",
     "output_type": "stream",
     "text": [
      "\n"
     ]
    },
    {
     "name": "stdout",
     "output_type": "stream",
     "text": [
      "\n",
      "      Epoch    GPU_mem   box_loss   cls_loss   dfl_loss  Instances       Size\n"
     ]
    },
    {
     "name": "stderr",
     "output_type": "stream",
     "text": [
      "      7/150      3.66G      1.052      1.541      1.067         16        640: 100%|██████████| 8/8 [00:02<00:00,  2.84it/s]\n",
      "                 Class     Images  Instances      Box(P          R      mAP50  mAP50-95): 100%|██████████| 1/1 [00:00<00:00,  4.45it/s]"
     ]
    },
    {
     "name": "stdout",
     "output_type": "stream",
     "text": [
      "                   all         10         31     0.0323      0.204     0.0282     0.0144\n"
     ]
    },
    {
     "name": "stderr",
     "output_type": "stream",
     "text": [
      "\n"
     ]
    },
    {
     "name": "stdout",
     "output_type": "stream",
     "text": [
      "\n",
      "      Epoch    GPU_mem   box_loss   cls_loss   dfl_loss  Instances       Size\n"
     ]
    },
    {
     "name": "stderr",
     "output_type": "stream",
     "text": [
      "      8/150      3.67G     0.9897      1.626       1.03         11        640: 100%|██████████| 8/8 [00:02<00:00,  2.81it/s]\n",
      "                 Class     Images  Instances      Box(P          R      mAP50  mAP50-95): 100%|██████████| 1/1 [00:00<00:00,  4.38it/s]"
     ]
    },
    {
     "name": "stdout",
     "output_type": "stream",
     "text": [
      "                   all         10         31     0.0282      0.148     0.0159    0.00938\n"
     ]
    },
    {
     "name": "stderr",
     "output_type": "stream",
     "text": [
      "\n"
     ]
    },
    {
     "name": "stdout",
     "output_type": "stream",
     "text": [
      "\n",
      "      Epoch    GPU_mem   box_loss   cls_loss   dfl_loss  Instances       Size\n"
     ]
    },
    {
     "name": "stderr",
     "output_type": "stream",
     "text": [
      "      9/150      3.67G     0.9912      1.668      1.025         16        640: 100%|██████████| 8/8 [00:02<00:00,  2.80it/s]\n",
      "                 Class     Images  Instances      Box(P          R      mAP50  mAP50-95): 100%|██████████| 1/1 [00:00<00:00,  4.34it/s]"
     ]
    },
    {
     "name": "stdout",
     "output_type": "stream",
     "text": [
      "                   all         10         31    0.00758      0.222    0.00639    0.00393\n"
     ]
    },
    {
     "name": "stderr",
     "output_type": "stream",
     "text": [
      "\n"
     ]
    },
    {
     "name": "stdout",
     "output_type": "stream",
     "text": [
      "\n",
      "      Epoch    GPU_mem   box_loss   cls_loss   dfl_loss  Instances       Size\n"
     ]
    },
    {
     "name": "stderr",
     "output_type": "stream",
     "text": [
      "     10/150      3.67G     0.9122      1.717      1.089         13        640: 100%|██████████| 8/8 [00:02<00:00,  2.79it/s]\n",
      "                 Class     Images  Instances      Box(P          R      mAP50  mAP50-95): 100%|██████████| 1/1 [00:00<00:00,  4.19it/s]"
     ]
    },
    {
     "name": "stdout",
     "output_type": "stream",
     "text": [
      "                   all         10         31    0.00243      0.185    0.00165   0.000856\n"
     ]
    },
    {
     "name": "stderr",
     "output_type": "stream",
     "text": [
      "\n"
     ]
    },
    {
     "name": "stdout",
     "output_type": "stream",
     "text": [
      "\n",
      "      Epoch    GPU_mem   box_loss   cls_loss   dfl_loss  Instances       Size\n"
     ]
    },
    {
     "name": "stderr",
     "output_type": "stream",
     "text": [
      "     11/150      3.67G      1.059       1.68      1.052         16        640: 100%|██████████| 8/8 [00:02<00:00,  2.77it/s]\n",
      "                 Class     Images  Instances      Box(P          R      mAP50  mAP50-95): 100%|██████████| 1/1 [00:00<00:00,  4.13it/s]"
     ]
    },
    {
     "name": "stdout",
     "output_type": "stream",
     "text": [
      "                   all         10         31    0.00205     0.0926    0.00116   0.000581\n"
     ]
    },
    {
     "name": "stderr",
     "output_type": "stream",
     "text": [
      "\n"
     ]
    },
    {
     "name": "stdout",
     "output_type": "stream",
     "text": [
      "\n",
      "      Epoch    GPU_mem   box_loss   cls_loss   dfl_loss  Instances       Size\n"
     ]
    },
    {
     "name": "stderr",
     "output_type": "stream",
     "text": [
      "     12/150      3.65G      1.038      1.729      1.085         18        640: 100%|██████████| 8/8 [00:02<00:00,  2.76it/s]\n",
      "                 Class     Images  Instances      Box(P          R      mAP50  mAP50-95): 100%|██████████| 1/1 [00:00<00:00,  4.19it/s]"
     ]
    },
    {
     "name": "stdout",
     "output_type": "stream",
     "text": [
      "                   all         10         31    0.00398      0.384    0.00302    0.00199\n"
     ]
    },
    {
     "name": "stderr",
     "output_type": "stream",
     "text": [
      "\n"
     ]
    },
    {
     "name": "stdout",
     "output_type": "stream",
     "text": [
      "\n",
      "      Epoch    GPU_mem   box_loss   cls_loss   dfl_loss  Instances       Size\n"
     ]
    },
    {
     "name": "stderr",
     "output_type": "stream",
     "text": [
      "     13/150      3.67G      0.945      1.317      1.065          7        640: 100%|██████████| 8/8 [00:03<00:00,  2.24it/s]\n",
      "                 Class     Images  Instances      Box(P          R      mAP50  mAP50-95): 100%|██████████| 1/1 [00:00<00:00,  3.85it/s]"
     ]
    },
    {
     "name": "stdout",
     "output_type": "stream",
     "text": [
      "                   all         10         31    0.00398      0.384    0.00302    0.00199\n"
     ]
    },
    {
     "name": "stderr",
     "output_type": "stream",
     "text": [
      "\n"
     ]
    },
    {
     "name": "stdout",
     "output_type": "stream",
     "text": [
      "\n",
      "      Epoch    GPU_mem   box_loss   cls_loss   dfl_loss  Instances       Size\n"
     ]
    },
    {
     "name": "stderr",
     "output_type": "stream",
     "text": [
      "     14/150      3.67G      1.146      1.497      1.144         19        640: 100%|██████████| 8/8 [00:03<00:00,  2.34it/s]\n",
      "                 Class     Images  Instances      Box(P          R      mAP50  mAP50-95): 100%|██████████| 1/1 [00:00<00:00,  3.30it/s]"
     ]
    },
    {
     "name": "stdout",
     "output_type": "stream",
     "text": [
      "                   all         10         31    0.00617       0.31    0.00406    0.00295\n"
     ]
    },
    {
     "name": "stderr",
     "output_type": "stream",
     "text": [
      "\n"
     ]
    },
    {
     "name": "stdout",
     "output_type": "stream",
     "text": [
      "\n",
      "      Epoch    GPU_mem   box_loss   cls_loss   dfl_loss  Instances       Size\n"
     ]
    },
    {
     "name": "stderr",
     "output_type": "stream",
     "text": [
      "     15/150      3.67G      1.125      1.639      1.138         12        640: 100%|██████████| 8/8 [00:03<00:00,  2.19it/s]\n",
      "                 Class     Images  Instances      Box(P          R      mAP50  mAP50-95): 100%|██████████| 1/1 [00:00<00:00,  3.47it/s]"
     ]
    },
    {
     "name": "stdout",
     "output_type": "stream",
     "text": [
      "                   all         10         31    0.00617       0.31    0.00406    0.00295\n"
     ]
    },
    {
     "name": "stderr",
     "output_type": "stream",
     "text": [
      "\n"
     ]
    },
    {
     "name": "stdout",
     "output_type": "stream",
     "text": [
      "\n",
      "      Epoch    GPU_mem   box_loss   cls_loss   dfl_loss  Instances       Size\n"
     ]
    },
    {
     "name": "stderr",
     "output_type": "stream",
     "text": [
      "     16/150      3.65G      1.063      1.349      1.096         11        640: 100%|██████████| 8/8 [00:03<00:00,  2.09it/s]\n",
      "                 Class     Images  Instances      Box(P          R      mAP50  mAP50-95): 100%|██████████| 1/1 [00:00<00:00,  3.22it/s]"
     ]
    },
    {
     "name": "stdout",
     "output_type": "stream",
     "text": [
      "                   all         10         31     0.0156      0.125    0.00921    0.00354\n"
     ]
    },
    {
     "name": "stderr",
     "output_type": "stream",
     "text": [
      "\n"
     ]
    },
    {
     "name": "stdout",
     "output_type": "stream",
     "text": [
      "\n",
      "      Epoch    GPU_mem   box_loss   cls_loss   dfl_loss  Instances       Size\n"
     ]
    },
    {
     "name": "stderr",
     "output_type": "stream",
     "text": [
      "     17/150      3.68G     0.8723      1.243      1.011          8        640: 100%|██████████| 8/8 [00:03<00:00,  2.09it/s]\n",
      "                 Class     Images  Instances      Box(P          R      mAP50  mAP50-95): 100%|██████████| 1/1 [00:00<00:00,  3.22it/s]"
     ]
    },
    {
     "name": "stdout",
     "output_type": "stream",
     "text": [
      "                   all         10         31     0.0156      0.125    0.00921    0.00354\n"
     ]
    },
    {
     "name": "stderr",
     "output_type": "stream",
     "text": [
      "\n"
     ]
    },
    {
     "name": "stdout",
     "output_type": "stream",
     "text": [
      "\n",
      "      Epoch    GPU_mem   box_loss   cls_loss   dfl_loss  Instances       Size\n"
     ]
    },
    {
     "name": "stderr",
     "output_type": "stream",
     "text": [
      "     18/150      3.67G      1.082      1.442      1.095         15        640: 100%|██████████| 8/8 [00:03<00:00,  2.07it/s]\n",
      "                 Class     Images  Instances      Box(P          R      mAP50  mAP50-95): 100%|██████████| 1/1 [00:00<00:00,  3.28it/s]"
     ]
    },
    {
     "name": "stdout",
     "output_type": "stream",
     "text": [
      "                   all         10         31     0.0302      0.269     0.0215     0.0121\n"
     ]
    },
    {
     "name": "stderr",
     "output_type": "stream",
     "text": [
      "\n"
     ]
    },
    {
     "name": "stdout",
     "output_type": "stream",
     "text": [
      "\n",
      "      Epoch    GPU_mem   box_loss   cls_loss   dfl_loss  Instances       Size\n"
     ]
    },
    {
     "name": "stderr",
     "output_type": "stream",
     "text": [
      "     19/150      3.67G     0.9199      1.255      1.014          8        640: 100%|██████████| 8/8 [00:03<00:00,  2.07it/s]\n",
      "                 Class     Images  Instances      Box(P          R      mAP50  mAP50-95): 100%|██████████| 1/1 [00:00<00:00,  3.38it/s]"
     ]
    },
    {
     "name": "stdout",
     "output_type": "stream",
     "text": [
      "                   all         10         31       0.25      0.125      0.255      0.195\n"
     ]
    },
    {
     "name": "stderr",
     "output_type": "stream",
     "text": [
      "\n"
     ]
    },
    {
     "name": "stdout",
     "output_type": "stream",
     "text": [
      "\n",
      "      Epoch    GPU_mem   box_loss   cls_loss   dfl_loss  Instances       Size\n"
     ]
    },
    {
     "name": "stderr",
     "output_type": "stream",
     "text": [
      "     20/150      3.67G     0.8689      1.088      1.014         15        640: 100%|██████████| 8/8 [00:03<00:00,  2.06it/s]\n",
      "                 Class     Images  Instances      Box(P          R      mAP50  mAP50-95): 100%|██████████| 1/1 [00:00<00:00,  3.17it/s]"
     ]
    },
    {
     "name": "stdout",
     "output_type": "stream",
     "text": [
      "                   all         10         31      0.373      0.551      0.469      0.296\n"
     ]
    },
    {
     "name": "stderr",
     "output_type": "stream",
     "text": [
      "\n"
     ]
    },
    {
     "name": "stdout",
     "output_type": "stream",
     "text": [
      "\n",
      "      Epoch    GPU_mem   box_loss   cls_loss   dfl_loss  Instances       Size\n"
     ]
    },
    {
     "name": "stderr",
     "output_type": "stream",
     "text": [
      "     21/150      3.62G     0.9791      1.153      1.099         15        640: 100%|██████████| 8/8 [00:03<00:00,  2.08it/s]\n",
      "                 Class     Images  Instances      Box(P          R      mAP50  mAP50-95): 100%|██████████| 1/1 [00:00<00:00,  3.21it/s]"
     ]
    },
    {
     "name": "stdout",
     "output_type": "stream",
     "text": [
      "                   all         10         31      0.373      0.551      0.469      0.296\n"
     ]
    },
    {
     "name": "stderr",
     "output_type": "stream",
     "text": [
      "\n"
     ]
    },
    {
     "name": "stdout",
     "output_type": "stream",
     "text": [
      "\n",
      "      Epoch    GPU_mem   box_loss   cls_loss   dfl_loss  Instances       Size\n"
     ]
    },
    {
     "name": "stderr",
     "output_type": "stream",
     "text": [
      "     22/150      3.67G      0.937      1.015      1.034         14        640: 100%|██████████| 8/8 [00:03<00:00,  2.07it/s]\n",
      "                 Class     Images  Instances      Box(P          R      mAP50  mAP50-95): 100%|██████████| 1/1 [00:00<00:00,  3.26it/s]"
     ]
    },
    {
     "name": "stdout",
     "output_type": "stream",
     "text": [
      "                   all         10         31      0.495       0.48      0.487      0.351\n"
     ]
    },
    {
     "name": "stderr",
     "output_type": "stream",
     "text": [
      "\n"
     ]
    },
    {
     "name": "stdout",
     "output_type": "stream",
     "text": [
      "\n",
      "      Epoch    GPU_mem   box_loss   cls_loss   dfl_loss  Instances       Size\n"
     ]
    },
    {
     "name": "stderr",
     "output_type": "stream",
     "text": [
      "     23/150      3.66G      1.022     0.9895      1.078         18        640: 100%|██████████| 8/8 [00:03<00:00,  2.06it/s]\n",
      "                 Class     Images  Instances      Box(P          R      mAP50  mAP50-95): 100%|██████████| 1/1 [00:00<00:00,  3.14it/s]"
     ]
    },
    {
     "name": "stdout",
     "output_type": "stream",
     "text": [
      "                   all         10         31      0.569      0.515      0.549      0.374\n"
     ]
    },
    {
     "name": "stderr",
     "output_type": "stream",
     "text": [
      "\n"
     ]
    },
    {
     "name": "stdout",
     "output_type": "stream",
     "text": [
      "\n",
      "      Epoch    GPU_mem   box_loss   cls_loss   dfl_loss  Instances       Size\n"
     ]
    },
    {
     "name": "stderr",
     "output_type": "stream",
     "text": [
      "     24/150      3.66G      1.007      1.014      1.036         27        640: 100%|██████████| 8/8 [00:03<00:00,  2.07it/s]\n",
      "                 Class     Images  Instances      Box(P          R      mAP50  mAP50-95): 100%|██████████| 1/1 [00:00<00:00,  3.26it/s]"
     ]
    },
    {
     "name": "stdout",
     "output_type": "stream",
     "text": [
      "                   all         10         31      0.569      0.515      0.549      0.374\n"
     ]
    },
    {
     "name": "stderr",
     "output_type": "stream",
     "text": [
      "\n"
     ]
    },
    {
     "name": "stdout",
     "output_type": "stream",
     "text": [
      "\n",
      "      Epoch    GPU_mem   box_loss   cls_loss   dfl_loss  Instances       Size\n"
     ]
    },
    {
     "name": "stderr",
     "output_type": "stream",
     "text": [
      "     25/150      3.67G     0.9392      1.066      1.047         18        640: 100%|██████████| 8/8 [00:03<00:00,  2.06it/s]\n",
      "                 Class     Images  Instances      Box(P          R      mAP50  mAP50-95): 100%|██████████| 1/1 [00:00<00:00,  3.24it/s]"
     ]
    },
    {
     "name": "stdout",
     "output_type": "stream",
     "text": [
      "                   all         10         31      0.672      0.574      0.588      0.424\n"
     ]
    },
    {
     "name": "stderr",
     "output_type": "stream",
     "text": [
      "\n"
     ]
    },
    {
     "name": "stdout",
     "output_type": "stream",
     "text": [
      "\n",
      "      Epoch    GPU_mem   box_loss   cls_loss   dfl_loss  Instances       Size\n"
     ]
    },
    {
     "name": "stderr",
     "output_type": "stream",
     "text": [
      "     26/150      3.67G     0.8496      1.052      1.033         16        640: 100%|██████████| 8/8 [00:04<00:00,  1.60it/s]\n",
      "                 Class     Images  Instances      Box(P          R      mAP50  mAP50-95): 100%|██████████| 1/1 [00:00<00:00,  1.32it/s]"
     ]
    },
    {
     "name": "stdout",
     "output_type": "stream",
     "text": [
      "                   all         10         31      0.326      0.645       0.56      0.439\n"
     ]
    },
    {
     "name": "stderr",
     "output_type": "stream",
     "text": [
      "\n"
     ]
    },
    {
     "name": "stdout",
     "output_type": "stream",
     "text": [
      "\n",
      "      Epoch    GPU_mem   box_loss   cls_loss   dfl_loss  Instances       Size\n"
     ]
    },
    {
     "name": "stderr",
     "output_type": "stream",
     "text": [
      "     27/150      3.64G     0.8497      1.006      1.003         10        640: 100%|██████████| 8/8 [00:06<00:00,  1.28it/s]\n",
      "                 Class     Images  Instances      Box(P          R      mAP50  mAP50-95): 100%|██████████| 1/1 [00:00<00:00,  3.28it/s]"
     ]
    },
    {
     "name": "stdout",
     "output_type": "stream",
     "text": [
      "                   all         10         31      0.422      0.471      0.537      0.413\n"
     ]
    },
    {
     "name": "stderr",
     "output_type": "stream",
     "text": [
      "\n"
     ]
    },
    {
     "name": "stdout",
     "output_type": "stream",
     "text": [
      "\n",
      "      Epoch    GPU_mem   box_loss   cls_loss   dfl_loss  Instances       Size\n"
     ]
    },
    {
     "name": "stderr",
     "output_type": "stream",
     "text": [
      "     28/150      3.66G     0.8781     0.9025      1.014         10        640: 100%|██████████| 8/8 [00:07<00:00,  1.14it/s]\n",
      "                 Class     Images  Instances      Box(P          R      mAP50  mAP50-95): 100%|██████████| 1/1 [00:00<00:00,  1.30it/s]"
     ]
    },
    {
     "name": "stdout",
     "output_type": "stream",
     "text": [
      "                   all         10         31      0.422      0.471      0.537      0.413\n"
     ]
    },
    {
     "name": "stderr",
     "output_type": "stream",
     "text": [
      "\n"
     ]
    },
    {
     "name": "stdout",
     "output_type": "stream",
     "text": [
      "\n",
      "      Epoch    GPU_mem   box_loss   cls_loss   dfl_loss  Instances       Size\n"
     ]
    },
    {
     "name": "stderr",
     "output_type": "stream",
     "text": [
      "     29/150      3.66G     0.9459      1.054      1.039          6        640: 100%|██████████| 8/8 [00:08<00:00,  1.07s/it]\n",
      "                 Class     Images  Instances      Box(P          R      mAP50  mAP50-95): 100%|██████████| 1/1 [00:00<00:00,  3.24it/s]"
     ]
    },
    {
     "name": "stdout",
     "output_type": "stream",
     "text": [
      "                   all         10         31     0.0299      0.435      0.018     0.0123\n"
     ]
    },
    {
     "name": "stderr",
     "output_type": "stream",
     "text": [
      "\n"
     ]
    },
    {
     "name": "stdout",
     "output_type": "stream",
     "text": [
      "\n",
      "      Epoch    GPU_mem   box_loss   cls_loss   dfl_loss  Instances       Size\n"
     ]
    },
    {
     "name": "stderr",
     "output_type": "stream",
     "text": [
      "     30/150      3.67G     0.8838     0.8724     0.9949         24        640: 100%|██████████| 8/8 [00:08<00:00,  1.02s/it]\n",
      "                 Class     Images  Instances      Box(P          R      mAP50  mAP50-95): 100%|██████████| 1/1 [00:00<00:00,  3.21it/s]"
     ]
    },
    {
     "name": "stdout",
     "output_type": "stream",
     "text": [
      "                   all         10         31      0.142      0.306      0.178      0.145\n"
     ]
    },
    {
     "name": "stderr",
     "output_type": "stream",
     "text": [
      "\n"
     ]
    },
    {
     "name": "stdout",
     "output_type": "stream",
     "text": [
      "\n",
      "      Epoch    GPU_mem   box_loss   cls_loss   dfl_loss  Instances       Size\n"
     ]
    },
    {
     "name": "stderr",
     "output_type": "stream",
     "text": [
      "     31/150      3.65G     0.7738     0.7565     0.9804         24        640: 100%|██████████| 8/8 [00:07<00:00,  1.01it/s]\n",
      "                 Class     Images  Instances      Box(P          R      mAP50  mAP50-95): 100%|██████████| 1/1 [00:00<00:00,  3.19it/s]"
     ]
    },
    {
     "name": "stdout",
     "output_type": "stream",
     "text": [
      "                   all         10         31     0.0494      0.542      0.181      0.149\n"
     ]
    },
    {
     "name": "stderr",
     "output_type": "stream",
     "text": [
      "\n"
     ]
    },
    {
     "name": "stdout",
     "output_type": "stream",
     "text": [
      "\n",
      "      Epoch    GPU_mem   box_loss   cls_loss   dfl_loss  Instances       Size\n"
     ]
    },
    {
     "name": "stderr",
     "output_type": "stream",
     "text": [
      "     32/150      3.62G      1.032     0.8259      1.042         14        640: 100%|██████████| 8/8 [00:08<00:00,  1.07s/it]\n",
      "                 Class     Images  Instances      Box(P          R      mAP50  mAP50-95): 100%|██████████| 1/1 [00:00<00:00,  1.31it/s]"
     ]
    },
    {
     "name": "stdout",
     "output_type": "stream",
     "text": [
      "                   all         10         31     0.0494      0.542      0.181      0.149\n"
     ]
    },
    {
     "name": "stderr",
     "output_type": "stream",
     "text": [
      "\n"
     ]
    },
    {
     "name": "stdout",
     "output_type": "stream",
     "text": [
      "\n",
      "      Epoch    GPU_mem   box_loss   cls_loss   dfl_loss  Instances       Size\n"
     ]
    },
    {
     "name": "stderr",
     "output_type": "stream",
     "text": [
      "     33/150      3.67G     0.8608     0.8396     0.9809          9        640: 100%|██████████| 8/8 [00:08<00:00,  1.07s/it]\n",
      "                 Class     Images  Instances      Box(P          R      mAP50  mAP50-95): 100%|██████████| 1/1 [00:00<00:00,  1.30it/s]"
     ]
    },
    {
     "name": "stdout",
     "output_type": "stream",
     "text": [
      "                   all         10         31      0.467      0.556      0.551      0.393\n"
     ]
    },
    {
     "name": "stderr",
     "output_type": "stream",
     "text": [
      "\n"
     ]
    },
    {
     "name": "stdout",
     "output_type": "stream",
     "text": [
      "\n",
      "      Epoch    GPU_mem   box_loss   cls_loss   dfl_loss  Instances       Size\n"
     ]
    },
    {
     "name": "stderr",
     "output_type": "stream",
     "text": [
      "     34/150      3.66G     0.8077     0.7625     0.9791         32        640: 100%|██████████| 8/8 [00:08<00:00,  1.05s/it]\n",
      "                 Class     Images  Instances      Box(P          R      mAP50  mAP50-95): 100%|██████████| 1/1 [00:00<00:00,  1.31it/s]"
     ]
    },
    {
     "name": "stdout",
     "output_type": "stream",
     "text": [
      "                   all         10         31      0.481      0.687      0.553      0.402\n"
     ]
    },
    {
     "name": "stderr",
     "output_type": "stream",
     "text": [
      "\n"
     ]
    },
    {
     "name": "stdout",
     "output_type": "stream",
     "text": [
      "\n",
      "      Epoch    GPU_mem   box_loss   cls_loss   dfl_loss  Instances       Size\n"
     ]
    },
    {
     "name": "stderr",
     "output_type": "stream",
     "text": [
      "     35/150      3.65G     0.8585     0.7401      1.014         12        640: 100%|██████████| 8/8 [00:08<00:00,  1.05s/it]\n",
      "                 Class     Images  Instances      Box(P          R      mAP50  mAP50-95): 100%|██████████| 1/1 [00:00<00:00,  1.31it/s]"
     ]
    },
    {
     "name": "stdout",
     "output_type": "stream",
     "text": [
      "                   all         10         31      0.481      0.687      0.553      0.402\n"
     ]
    },
    {
     "name": "stderr",
     "output_type": "stream",
     "text": [
      "\n"
     ]
    },
    {
     "name": "stdout",
     "output_type": "stream",
     "text": [
      "\n",
      "      Epoch    GPU_mem   box_loss   cls_loss   dfl_loss  Instances       Size\n"
     ]
    },
    {
     "name": "stderr",
     "output_type": "stream",
     "text": [
      "     36/150      3.65G      0.809     0.6589     0.9882         16        640: 100%|██████████| 8/8 [00:09<00:00,  1.22s/it]\n",
      "                 Class     Images  Instances      Box(P          R      mAP50  mAP50-95): 100%|██████████| 1/1 [00:00<00:00,  1.34it/s]"
     ]
    },
    {
     "name": "stdout",
     "output_type": "stream",
     "text": [
      "                   all         10         31      0.708       0.38      0.477      0.377\n"
     ]
    },
    {
     "name": "stderr",
     "output_type": "stream",
     "text": [
      "\n"
     ]
    },
    {
     "name": "stdout",
     "output_type": "stream",
     "text": [
      "\n",
      "      Epoch    GPU_mem   box_loss   cls_loss   dfl_loss  Instances       Size\n"
     ]
    },
    {
     "name": "stderr",
     "output_type": "stream",
     "text": [
      "     37/150      3.64G     0.8355      0.728     0.9885         21        640: 100%|██████████| 8/8 [00:10<00:00,  1.32s/it]\n",
      "                 Class     Images  Instances      Box(P          R      mAP50  mAP50-95): 100%|██████████| 1/1 [00:00<00:00,  1.31it/s]"
     ]
    },
    {
     "name": "stdout",
     "output_type": "stream",
     "text": [
      "                   all         10         31       0.45       0.25      0.258      0.239\n"
     ]
    },
    {
     "name": "stderr",
     "output_type": "stream",
     "text": [
      "\n"
     ]
    },
    {
     "name": "stdout",
     "output_type": "stream",
     "text": [
      "\n",
      "      Epoch    GPU_mem   box_loss   cls_loss   dfl_loss  Instances       Size\n"
     ]
    },
    {
     "name": "stderr",
     "output_type": "stream",
     "text": [
      "     38/150      3.62G     0.9146     0.7648     0.9963         15        640: 100%|██████████| 8/8 [00:10<00:00,  1.31s/it]\n",
      "                 Class     Images  Instances      Box(P          R      mAP50  mAP50-95): 100%|██████████| 1/1 [00:00<00:00,  1.32it/s]"
     ]
    },
    {
     "name": "stdout",
     "output_type": "stream",
     "text": [
      "                   all         10         31      0.466       0.25      0.283      0.228\n"
     ]
    },
    {
     "name": "stderr",
     "output_type": "stream",
     "text": [
      "\n"
     ]
    },
    {
     "name": "stdout",
     "output_type": "stream",
     "text": [
      "\n",
      "      Epoch    GPU_mem   box_loss   cls_loss   dfl_loss  Instances       Size\n"
     ]
    },
    {
     "name": "stderr",
     "output_type": "stream",
     "text": [
      "     39/150      3.67G     0.8122     0.7517      0.965         16        640: 100%|██████████| 8/8 [00:10<00:00,  1.33s/it]\n",
      "                 Class     Images  Instances      Box(P          R      mAP50  mAP50-95): 100%|██████████| 1/1 [00:00<00:00,  1.33it/s]"
     ]
    },
    {
     "name": "stdout",
     "output_type": "stream",
     "text": [
      "                   all         10         31      0.466       0.25      0.283      0.228\n"
     ]
    },
    {
     "name": "stderr",
     "output_type": "stream",
     "text": [
      "\n"
     ]
    },
    {
     "name": "stdout",
     "output_type": "stream",
     "text": [
      "\n",
      "      Epoch    GPU_mem   box_loss   cls_loss   dfl_loss  Instances       Size\n"
     ]
    },
    {
     "name": "stderr",
     "output_type": "stream",
     "text": [
      "     40/150      3.67G     0.8195      0.759     0.9854         33        640: 100%|██████████| 8/8 [00:10<00:00,  1.33s/it]\n",
      "                 Class     Images  Instances      Box(P          R      mAP50  mAP50-95): 100%|██████████| 1/1 [00:00<00:00,  1.32it/s]"
     ]
    },
    {
     "name": "stdout",
     "output_type": "stream",
     "text": [
      "                   all         10         31      0.512      0.361      0.428      0.338\n"
     ]
    },
    {
     "name": "stderr",
     "output_type": "stream",
     "text": [
      "\n"
     ]
    },
    {
     "name": "stdout",
     "output_type": "stream",
     "text": [
      "\n",
      "      Epoch    GPU_mem   box_loss   cls_loss   dfl_loss  Instances       Size\n"
     ]
    },
    {
     "name": "stderr",
     "output_type": "stream",
     "text": [
      "     41/150      3.67G     0.8453      0.772      1.003         15        640: 100%|██████████| 8/8 [00:10<00:00,  1.35s/it]\n",
      "                 Class     Images  Instances      Box(P          R      mAP50  mAP50-95): 100%|██████████| 1/1 [00:00<00:00,  1.30it/s]"
     ]
    },
    {
     "name": "stdout",
     "output_type": "stream",
     "text": [
      "                   all         10         31      0.441      0.417      0.467      0.336\n"
     ]
    },
    {
     "name": "stderr",
     "output_type": "stream",
     "text": [
      "\n"
     ]
    },
    {
     "name": "stdout",
     "output_type": "stream",
     "text": [
      "\n",
      "      Epoch    GPU_mem   box_loss   cls_loss   dfl_loss  Instances       Size\n"
     ]
    },
    {
     "name": "stderr",
     "output_type": "stream",
     "text": [
      "     42/150      3.65G     0.8063     0.7497      1.002         25        640: 100%|██████████| 8/8 [00:11<00:00,  1.46s/it]\n",
      "                 Class     Images  Instances      Box(P          R      mAP50  mAP50-95): 100%|██████████| 1/1 [00:00<00:00,  1.29it/s]"
     ]
    },
    {
     "name": "stdout",
     "output_type": "stream",
     "text": [
      "                   all         10         31       0.66      0.306      0.469      0.348\n"
     ]
    },
    {
     "name": "stderr",
     "output_type": "stream",
     "text": [
      "\n"
     ]
    },
    {
     "name": "stdout",
     "output_type": "stream",
     "text": [
      "\n",
      "      Epoch    GPU_mem   box_loss   cls_loss   dfl_loss  Instances       Size\n"
     ]
    },
    {
     "name": "stderr",
     "output_type": "stream",
     "text": [
      "     43/150       3.6G     0.7881     0.6663     0.9933         17        640: 100%|██████████| 8/8 [00:11<00:00,  1.45s/it]\n",
      "                 Class     Images  Instances      Box(P          R      mAP50  mAP50-95): 100%|██████████| 1/1 [00:00<00:00,  1.30it/s]"
     ]
    },
    {
     "name": "stdout",
     "output_type": "stream",
     "text": [
      "                   all         10         31       0.66      0.306      0.469      0.348\n"
     ]
    },
    {
     "name": "stderr",
     "output_type": "stream",
     "text": [
      "\n"
     ]
    },
    {
     "name": "stdout",
     "output_type": "stream",
     "text": [
      "\n",
      "      Epoch    GPU_mem   box_loss   cls_loss   dfl_loss  Instances       Size\n"
     ]
    },
    {
     "name": "stderr",
     "output_type": "stream",
     "text": [
      "     44/150      3.67G     0.7801      0.715       0.97         16        640: 100%|██████████| 8/8 [00:11<00:00,  1.46s/it]\n",
      "                 Class     Images  Instances      Box(P          R      mAP50  mAP50-95): 100%|██████████| 1/1 [00:00<00:00,  1.30it/s]"
     ]
    },
    {
     "name": "stdout",
     "output_type": "stream",
     "text": [
      "                   all         10         31      0.661      0.448      0.515      0.403\n"
     ]
    },
    {
     "name": "stderr",
     "output_type": "stream",
     "text": [
      "\n"
     ]
    },
    {
     "name": "stdout",
     "output_type": "stream",
     "text": [
      "\n",
      "      Epoch    GPU_mem   box_loss   cls_loss   dfl_loss  Instances       Size\n"
     ]
    },
    {
     "name": "stderr",
     "output_type": "stream",
     "text": [
      "     45/150      3.66G     0.6892      0.664      0.932          6        640: 100%|██████████| 8/8 [00:11<00:00,  1.46s/it]\n",
      "                 Class     Images  Instances      Box(P          R      mAP50  mAP50-95): 100%|██████████| 1/1 [00:00<00:00,  1.31it/s]"
     ]
    },
    {
     "name": "stdout",
     "output_type": "stream",
     "text": [
      "                   all         10         31      0.706      0.405      0.523      0.411\n"
     ]
    },
    {
     "name": "stderr",
     "output_type": "stream",
     "text": [
      "\n"
     ]
    },
    {
     "name": "stdout",
     "output_type": "stream",
     "text": [
      "\n",
      "      Epoch    GPU_mem   box_loss   cls_loss   dfl_loss  Instances       Size\n"
     ]
    },
    {
     "name": "stderr",
     "output_type": "stream",
     "text": [
      "     46/150      3.65G     0.6976     0.6079     0.9298         20        640: 100%|██████████| 8/8 [00:11<00:00,  1.45s/it]\n",
      "                 Class     Images  Instances      Box(P          R      mAP50  mAP50-95): 100%|██████████| 1/1 [00:00<00:00,  1.31it/s]"
     ]
    },
    {
     "name": "stdout",
     "output_type": "stream",
     "text": [
      "                   all         10         31      0.706      0.405      0.523      0.411\n"
     ]
    },
    {
     "name": "stderr",
     "output_type": "stream",
     "text": [
      "\n"
     ]
    },
    {
     "name": "stdout",
     "output_type": "stream",
     "text": [
      "\n",
      "      Epoch    GPU_mem   box_loss   cls_loss   dfl_loss  Instances       Size\n"
     ]
    },
    {
     "name": "stderr",
     "output_type": "stream",
     "text": [
      "     47/150      3.65G     0.6819     0.5701     0.9118         23        640: 100%|██████████| 8/8 [00:11<00:00,  1.47s/it]\n",
      "                 Class     Images  Instances      Box(P          R      mAP50  mAP50-95): 100%|██████████| 1/1 [00:00<00:00,  1.28it/s]"
     ]
    },
    {
     "name": "stdout",
     "output_type": "stream",
     "text": [
      "                   all         10         31      0.594      0.472       0.54      0.422\n"
     ]
    },
    {
     "name": "stderr",
     "output_type": "stream",
     "text": [
      "\n"
     ]
    },
    {
     "name": "stdout",
     "output_type": "stream",
     "text": [
      "\n",
      "      Epoch    GPU_mem   box_loss   cls_loss   dfl_loss  Instances       Size\n"
     ]
    },
    {
     "name": "stderr",
     "output_type": "stream",
     "text": [
      "     48/150      3.65G      0.678       0.61      0.898         20        640: 100%|██████████| 8/8 [00:11<00:00,  1.47s/it]\n",
      "                 Class     Images  Instances      Box(P          R      mAP50  mAP50-95): 100%|██████████| 1/1 [00:00<00:00,  1.29it/s]"
     ]
    },
    {
     "name": "stdout",
     "output_type": "stream",
     "text": [
      "                   all         10         31      0.533      0.491      0.532      0.422\n"
     ]
    },
    {
     "name": "stderr",
     "output_type": "stream",
     "text": [
      "\n"
     ]
    },
    {
     "name": "stdout",
     "output_type": "stream",
     "text": [
      "\n",
      "      Epoch    GPU_mem   box_loss   cls_loss   dfl_loss  Instances       Size\n"
     ]
    },
    {
     "name": "stderr",
     "output_type": "stream",
     "text": [
      "     49/150      3.62G     0.7102     0.6116      0.949         23        640: 100%|██████████| 8/8 [00:11<00:00,  1.47s/it]\n",
      "                 Class     Images  Instances      Box(P          R      mAP50  mAP50-95): 100%|██████████| 1/1 [00:00<00:00,  1.34it/s]"
     ]
    },
    {
     "name": "stdout",
     "output_type": "stream",
     "text": [
      "                   all         10         31      0.841      0.472      0.593      0.474\n"
     ]
    },
    {
     "name": "stderr",
     "output_type": "stream",
     "text": [
      "\n"
     ]
    },
    {
     "name": "stdout",
     "output_type": "stream",
     "text": [
      "\n",
      "      Epoch    GPU_mem   box_loss   cls_loss   dfl_loss  Instances       Size\n"
     ]
    },
    {
     "name": "stderr",
     "output_type": "stream",
     "text": [
      "     50/150      3.65G     0.7592     0.6709     0.9633         23        640: 100%|██████████| 8/8 [00:11<00:00,  1.46s/it]\n",
      "                 Class     Images  Instances      Box(P          R      mAP50  mAP50-95): 100%|██████████| 1/1 [00:00<00:00,  1.31it/s]"
     ]
    },
    {
     "name": "stdout",
     "output_type": "stream",
     "text": [
      "                   all         10         31      0.841      0.472      0.593      0.474\n"
     ]
    },
    {
     "name": "stderr",
     "output_type": "stream",
     "text": [
      "\n"
     ]
    },
    {
     "name": "stdout",
     "output_type": "stream",
     "text": [
      "\n",
      "      Epoch    GPU_mem   box_loss   cls_loss   dfl_loss  Instances       Size\n"
     ]
    },
    {
     "name": "stderr",
     "output_type": "stream",
     "text": [
      "     51/150      3.65G     0.7112      0.629     0.9081         17        640: 100%|██████████| 8/8 [00:11<00:00,  1.47s/it]\n",
      "                 Class     Images  Instances      Box(P          R      mAP50  mAP50-95): 100%|██████████| 1/1 [00:00<00:00,  1.30it/s]"
     ]
    },
    {
     "name": "stdout",
     "output_type": "stream",
     "text": [
      "                   all         10         31       0.76      0.509      0.553      0.446\n"
     ]
    },
    {
     "name": "stderr",
     "output_type": "stream",
     "text": [
      "\n"
     ]
    },
    {
     "name": "stdout",
     "output_type": "stream",
     "text": [
      "\n",
      "      Epoch    GPU_mem   box_loss   cls_loss   dfl_loss  Instances       Size\n"
     ]
    },
    {
     "name": "stderr",
     "output_type": "stream",
     "text": [
      "     52/150      3.65G     0.6581     0.5596     0.8949         11        640: 100%|██████████| 8/8 [00:11<00:00,  1.46s/it]\n",
      "                 Class     Images  Instances      Box(P          R      mAP50  mAP50-95): 100%|██████████| 1/1 [00:00<00:00,  1.32it/s]"
     ]
    },
    {
     "name": "stdout",
     "output_type": "stream",
     "text": [
      "                   all         10         31      0.955      0.491      0.607      0.489\n"
     ]
    },
    {
     "name": "stderr",
     "output_type": "stream",
     "text": [
      "\n"
     ]
    },
    {
     "name": "stdout",
     "output_type": "stream",
     "text": [
      "\n",
      "      Epoch    GPU_mem   box_loss   cls_loss   dfl_loss  Instances       Size\n"
     ]
    },
    {
     "name": "stderr",
     "output_type": "stream",
     "text": [
      "     53/150      3.67G     0.6366      0.579     0.9202         21        640: 100%|██████████| 8/8 [00:11<00:00,  1.47s/it]\n",
      "                 Class     Images  Instances      Box(P          R      mAP50  mAP50-95): 100%|██████████| 1/1 [00:00<00:00,  1.28it/s]"
     ]
    },
    {
     "name": "stdout",
     "output_type": "stream",
     "text": [
      "                   all         10         31      0.846      0.385      0.556      0.448\n"
     ]
    },
    {
     "name": "stderr",
     "output_type": "stream",
     "text": [
      "\n"
     ]
    },
    {
     "name": "stdout",
     "output_type": "stream",
     "text": [
      "\n",
      "      Epoch    GPU_mem   box_loss   cls_loss   dfl_loss  Instances       Size\n"
     ]
    },
    {
     "name": "stderr",
     "output_type": "stream",
     "text": [
      "     54/150       3.6G     0.7172     0.7074     0.9707         11        640: 100%|██████████| 8/8 [00:11<00:00,  1.46s/it]\n",
      "                 Class     Images  Instances      Box(P          R      mAP50  mAP50-95): 100%|██████████| 1/1 [00:00<00:00,  1.29it/s]"
     ]
    },
    {
     "name": "stdout",
     "output_type": "stream",
     "text": [
      "                   all         10         31      0.846      0.385      0.556      0.448\n"
     ]
    },
    {
     "name": "stderr",
     "output_type": "stream",
     "text": [
      "\n"
     ]
    },
    {
     "name": "stdout",
     "output_type": "stream",
     "text": [
      "\n",
      "      Epoch    GPU_mem   box_loss   cls_loss   dfl_loss  Instances       Size\n"
     ]
    },
    {
     "name": "stderr",
     "output_type": "stream",
     "text": [
      "     55/150      3.67G      0.722     0.6672     0.9749         16        640: 100%|██████████| 8/8 [00:11<00:00,  1.47s/it]\n",
      "                 Class     Images  Instances      Box(P          R      mAP50  mAP50-95): 100%|██████████| 1/1 [00:00<00:00,  1.29it/s]"
     ]
    },
    {
     "name": "stdout",
     "output_type": "stream",
     "text": [
      "                   all         10         31      0.677      0.347      0.466      0.383\n"
     ]
    },
    {
     "name": "stderr",
     "output_type": "stream",
     "text": [
      "\n"
     ]
    },
    {
     "name": "stdout",
     "output_type": "stream",
     "text": [
      "\n",
      "      Epoch    GPU_mem   box_loss   cls_loss   dfl_loss  Instances       Size\n"
     ]
    },
    {
     "name": "stderr",
     "output_type": "stream",
     "text": [
      "     56/150      3.67G     0.6964      0.738     0.9321         10        640: 100%|██████████| 8/8 [00:11<00:00,  1.47s/it]\n",
      "                 Class     Images  Instances      Box(P          R      mAP50  mAP50-95): 100%|██████████| 1/1 [00:00<00:00,  1.30it/s]"
     ]
    },
    {
     "name": "stdout",
     "output_type": "stream",
     "text": [
      "                   all         10         31       0.52      0.379      0.415      0.331\n"
     ]
    },
    {
     "name": "stderr",
     "output_type": "stream",
     "text": [
      "\n"
     ]
    },
    {
     "name": "stdout",
     "output_type": "stream",
     "text": [
      "\n",
      "      Epoch    GPU_mem   box_loss   cls_loss   dfl_loss  Instances       Size\n"
     ]
    },
    {
     "name": "stderr",
     "output_type": "stream",
     "text": [
      "     57/150      3.66G     0.7091     0.7152     0.9566          7        640: 100%|██████████| 8/8 [00:11<00:00,  1.46s/it]\n",
      "                 Class     Images  Instances      Box(P          R      mAP50  mAP50-95): 100%|██████████| 1/1 [00:00<00:00,  1.31it/s]"
     ]
    },
    {
     "name": "stdout",
     "output_type": "stream",
     "text": [
      "                   all         10         31       0.52      0.379      0.415      0.331\n"
     ]
    },
    {
     "name": "stderr",
     "output_type": "stream",
     "text": [
      "\n"
     ]
    },
    {
     "name": "stdout",
     "output_type": "stream",
     "text": [
      "\n",
      "      Epoch    GPU_mem   box_loss   cls_loss   dfl_loss  Instances       Size\n"
     ]
    },
    {
     "name": "stderr",
     "output_type": "stream",
     "text": [
      "     58/150      3.65G     0.7095     0.6144     0.9245         22        640: 100%|██████████| 8/8 [00:11<00:00,  1.47s/it]\n",
      "                 Class     Images  Instances      Box(P          R      mAP50  mAP50-95): 100%|██████████| 1/1 [00:00<00:00,  1.32it/s]"
     ]
    },
    {
     "name": "stdout",
     "output_type": "stream",
     "text": [
      "                   all         10         31      0.475      0.398      0.439       0.35\n"
     ]
    },
    {
     "name": "stderr",
     "output_type": "stream",
     "text": [
      "\n"
     ]
    },
    {
     "name": "stdout",
     "output_type": "stream",
     "text": [
      "\n",
      "      Epoch    GPU_mem   box_loss   cls_loss   dfl_loss  Instances       Size\n"
     ]
    },
    {
     "name": "stderr",
     "output_type": "stream",
     "text": [
      "     59/150      3.65G     0.7446     0.6725      0.971         12        640: 100%|██████████| 8/8 [00:11<00:00,  1.47s/it]\n",
      "                 Class     Images  Instances      Box(P          R      mAP50  mAP50-95): 100%|██████████| 1/1 [00:00<00:00,  1.29it/s]"
     ]
    },
    {
     "name": "stdout",
     "output_type": "stream",
     "text": [
      "                   all         10         31      0.415      0.382      0.427       0.32\n"
     ]
    },
    {
     "name": "stderr",
     "output_type": "stream",
     "text": [
      "\n"
     ]
    },
    {
     "name": "stdout",
     "output_type": "stream",
     "text": [
      "\n",
      "      Epoch    GPU_mem   box_loss   cls_loss   dfl_loss  Instances       Size\n"
     ]
    },
    {
     "name": "stderr",
     "output_type": "stream",
     "text": [
      "     60/150      3.63G     0.6689     0.6446     0.9723         10        640: 100%|██████████| 8/8 [00:11<00:00,  1.46s/it]\n",
      "                 Class     Images  Instances      Box(P          R      mAP50  mAP50-95): 100%|██████████| 1/1 [00:00<00:00,  1.34it/s]"
     ]
    },
    {
     "name": "stdout",
     "output_type": "stream",
     "text": [
      "                   all         10         31      0.379       0.69      0.523      0.384\n"
     ]
    },
    {
     "name": "stderr",
     "output_type": "stream",
     "text": [
      "\n"
     ]
    },
    {
     "name": "stdout",
     "output_type": "stream",
     "text": [
      "\n",
      "      Epoch    GPU_mem   box_loss   cls_loss   dfl_loss  Instances       Size\n"
     ]
    },
    {
     "name": "stderr",
     "output_type": "stream",
     "text": [
      "     61/150      3.67G      0.643     0.6077     0.9263         14        640: 100%|██████████| 8/8 [00:11<00:00,  1.46s/it]\n",
      "                 Class     Images  Instances      Box(P          R      mAP50  mAP50-95): 100%|██████████| 1/1 [00:00<00:00,  1.31it/s]"
     ]
    },
    {
     "name": "stdout",
     "output_type": "stream",
     "text": [
      "                   all         10         31      0.379       0.69      0.523      0.384\n"
     ]
    },
    {
     "name": "stderr",
     "output_type": "stream",
     "text": [
      "\n"
     ]
    },
    {
     "name": "stdout",
     "output_type": "stream",
     "text": [
      "\n",
      "      Epoch    GPU_mem   box_loss   cls_loss   dfl_loss  Instances       Size\n"
     ]
    },
    {
     "name": "stderr",
     "output_type": "stream",
     "text": [
      "     62/150      3.67G     0.6415     0.6424     0.9302         23        640: 100%|██████████| 8/8 [00:11<00:00,  1.47s/it]\n",
      "                 Class     Images  Instances      Box(P          R      mAP50  mAP50-95): 100%|██████████| 1/1 [00:00<00:00,  1.30it/s]"
     ]
    },
    {
     "name": "stdout",
     "output_type": "stream",
     "text": [
      "                   all         10         31      0.525      0.517       0.59      0.436\n"
     ]
    },
    {
     "name": "stderr",
     "output_type": "stream",
     "text": [
      "\n"
     ]
    },
    {
     "name": "stdout",
     "output_type": "stream",
     "text": [
      "\n",
      "      Epoch    GPU_mem   box_loss   cls_loss   dfl_loss  Instances       Size\n"
     ]
    },
    {
     "name": "stderr",
     "output_type": "stream",
     "text": [
      "     63/150      3.66G     0.7225     0.5991     0.9387         12        640: 100%|██████████| 8/8 [00:11<00:00,  1.47s/it]\n",
      "                 Class     Images  Instances      Box(P          R      mAP50  mAP50-95): 100%|██████████| 1/1 [00:00<00:00,  1.29it/s]"
     ]
    },
    {
     "name": "stdout",
     "output_type": "stream",
     "text": [
      "                   all         10         31       0.49      0.544      0.536      0.436\n"
     ]
    },
    {
     "name": "stderr",
     "output_type": "stream",
     "text": [
      "\n"
     ]
    },
    {
     "name": "stdout",
     "output_type": "stream",
     "text": [
      "\n",
      "      Epoch    GPU_mem   box_loss   cls_loss   dfl_loss  Instances       Size\n"
     ]
    },
    {
     "name": "stderr",
     "output_type": "stream",
     "text": [
      "     64/150      3.67G     0.6111     0.5408     0.9197         25        640: 100%|██████████| 8/8 [00:11<00:00,  1.47s/it]\n",
      "                 Class     Images  Instances      Box(P          R      mAP50  mAP50-95): 100%|██████████| 1/1 [00:00<00:00,  1.28it/s]"
     ]
    },
    {
     "name": "stdout",
     "output_type": "stream",
     "text": [
      "                   all         10         31      0.572      0.404      0.466        0.4\n"
     ]
    },
    {
     "name": "stderr",
     "output_type": "stream",
     "text": [
      "\n"
     ]
    },
    {
     "name": "stdout",
     "output_type": "stream",
     "text": [
      "\n",
      "      Epoch    GPU_mem   box_loss   cls_loss   dfl_loss  Instances       Size\n"
     ]
    },
    {
     "name": "stderr",
     "output_type": "stream",
     "text": [
      "     65/150       3.6G     0.6883     0.6186     0.9379         17        640: 100%|██████████| 8/8 [00:11<00:00,  1.46s/it]\n",
      "                 Class     Images  Instances      Box(P          R      mAP50  mAP50-95): 100%|██████████| 1/1 [00:00<00:00,  1.29it/s]"
     ]
    },
    {
     "name": "stdout",
     "output_type": "stream",
     "text": [
      "                   all         10         31      0.572      0.404      0.466        0.4\n"
     ]
    },
    {
     "name": "stderr",
     "output_type": "stream",
     "text": [
      "\n"
     ]
    },
    {
     "name": "stdout",
     "output_type": "stream",
     "text": [
      "\n",
      "      Epoch    GPU_mem   box_loss   cls_loss   dfl_loss  Instances       Size\n"
     ]
    },
    {
     "name": "stderr",
     "output_type": "stream",
     "text": [
      "     66/150      3.67G      0.671     0.5559     0.9292         19        640: 100%|██████████| 8/8 [00:11<00:00,  1.47s/it]\n",
      "                 Class     Images  Instances      Box(P          R      mAP50  mAP50-95): 100%|██████████| 1/1 [00:00<00:00,  1.29it/s]"
     ]
    },
    {
     "name": "stdout",
     "output_type": "stream",
     "text": [
      "                   all         10         31      0.884       0.38      0.475       0.37\n"
     ]
    },
    {
     "name": "stderr",
     "output_type": "stream",
     "text": [
      "\n"
     ]
    },
    {
     "name": "stdout",
     "output_type": "stream",
     "text": [
      "\n",
      "      Epoch    GPU_mem   box_loss   cls_loss   dfl_loss  Instances       Size\n"
     ]
    },
    {
     "name": "stderr",
     "output_type": "stream",
     "text": [
      "     67/150      3.66G     0.5947       0.54     0.9149         18        640: 100%|██████████| 8/8 [00:11<00:00,  1.47s/it]\n",
      "                 Class     Images  Instances      Box(P          R      mAP50  mAP50-95): 100%|██████████| 1/1 [00:00<00:00,  1.30it/s]"
     ]
    },
    {
     "name": "stdout",
     "output_type": "stream",
     "text": [
      "                   all         10         31      0.643      0.432      0.455      0.377\n"
     ]
    },
    {
     "name": "stderr",
     "output_type": "stream",
     "text": [
      "\n"
     ]
    },
    {
     "name": "stdout",
     "output_type": "stream",
     "text": [
      "\n",
      "      Epoch    GPU_mem   box_loss   cls_loss   dfl_loss  Instances       Size\n"
     ]
    },
    {
     "name": "stderr",
     "output_type": "stream",
     "text": [
      "     68/150      3.67G     0.6366     0.4961     0.9357         13        640: 100%|██████████| 8/8 [00:11<00:00,  1.46s/it]\n",
      "                 Class     Images  Instances      Box(P          R      mAP50  mAP50-95): 100%|██████████| 1/1 [00:00<00:00,  1.30it/s]"
     ]
    },
    {
     "name": "stdout",
     "output_type": "stream",
     "text": [
      "                   all         10         31      0.643      0.432      0.455      0.377\n"
     ]
    },
    {
     "name": "stderr",
     "output_type": "stream",
     "text": [
      "\n"
     ]
    },
    {
     "name": "stdout",
     "output_type": "stream",
     "text": [
      "\n",
      "      Epoch    GPU_mem   box_loss   cls_loss   dfl_loss  Instances       Size\n"
     ]
    },
    {
     "name": "stderr",
     "output_type": "stream",
     "text": [
      "     69/150      3.67G     0.6523     0.5473     0.9329         41        640: 100%|██████████| 8/8 [00:11<00:00,  1.47s/it]\n",
      "                 Class     Images  Instances      Box(P          R      mAP50  mAP50-95): 100%|██████████| 1/1 [00:00<00:00,  1.30it/s]"
     ]
    },
    {
     "name": "stdout",
     "output_type": "stream",
     "text": [
      "                   all         10         31      0.562      0.442      0.468       0.37\n"
     ]
    },
    {
     "name": "stderr",
     "output_type": "stream",
     "text": [
      "\n"
     ]
    },
    {
     "name": "stdout",
     "output_type": "stream",
     "text": [
      "\n",
      "      Epoch    GPU_mem   box_loss   cls_loss   dfl_loss  Instances       Size\n"
     ]
    },
    {
     "name": "stderr",
     "output_type": "stream",
     "text": [
      "     70/150      3.65G     0.6026     0.5084     0.8952         11        640: 100%|██████████| 8/8 [00:11<00:00,  1.47s/it]\n",
      "                 Class     Images  Instances      Box(P          R      mAP50  mAP50-95): 100%|██████████| 1/1 [00:00<00:00,  1.32it/s]"
     ]
    },
    {
     "name": "stdout",
     "output_type": "stream",
     "text": [
      "                   all         10         31        0.7      0.454       0.54      0.421\n"
     ]
    },
    {
     "name": "stderr",
     "output_type": "stream",
     "text": [
      "\n"
     ]
    },
    {
     "name": "stdout",
     "output_type": "stream",
     "text": [
      "\n",
      "      Epoch    GPU_mem   box_loss   cls_loss   dfl_loss  Instances       Size\n"
     ]
    },
    {
     "name": "stderr",
     "output_type": "stream",
     "text": [
      "     71/150      3.63G     0.6186      0.533     0.8883         10        640: 100%|██████████| 8/8 [00:11<00:00,  1.47s/it]\n",
      "                 Class     Images  Instances      Box(P          R      mAP50  mAP50-95): 100%|██████████| 1/1 [00:00<00:00,  1.32it/s]"
     ]
    },
    {
     "name": "stdout",
     "output_type": "stream",
     "text": [
      "                   all         10         31      0.715      0.471        0.6      0.468\n"
     ]
    },
    {
     "name": "stderr",
     "output_type": "stream",
     "text": [
      "\n"
     ]
    },
    {
     "name": "stdout",
     "output_type": "stream",
     "text": [
      "\n",
      "      Epoch    GPU_mem   box_loss   cls_loss   dfl_loss  Instances       Size\n"
     ]
    },
    {
     "name": "stderr",
     "output_type": "stream",
     "text": [
      "     72/150      3.67G     0.6552      0.607     0.9227         31        640: 100%|██████████| 8/8 [00:11<00:00,  1.46s/it]\n",
      "                 Class     Images  Instances      Box(P          R      mAP50  mAP50-95): 100%|██████████| 1/1 [00:00<00:00,  1.31it/s]"
     ]
    },
    {
     "name": "stdout",
     "output_type": "stream",
     "text": [
      "                   all         10         31      0.715      0.471        0.6      0.468\n"
     ]
    },
    {
     "name": "stderr",
     "output_type": "stream",
     "text": [
      "\n"
     ]
    },
    {
     "name": "stdout",
     "output_type": "stream",
     "text": [
      "\n",
      "      Epoch    GPU_mem   box_loss   cls_loss   dfl_loss  Instances       Size\n"
     ]
    },
    {
     "name": "stderr",
     "output_type": "stream",
     "text": [
      "     73/150      3.67G     0.6744     0.6106     0.9397         11        640: 100%|██████████| 8/8 [00:11<00:00,  1.47s/it]\n",
      "                 Class     Images  Instances      Box(P          R      mAP50  mAP50-95): 100%|██████████| 1/1 [00:00<00:00,  1.30it/s]"
     ]
    },
    {
     "name": "stdout",
     "output_type": "stream",
     "text": [
      "                   all         10         31      0.561      0.546      0.629      0.485\n"
     ]
    },
    {
     "name": "stderr",
     "output_type": "stream",
     "text": [
      "\n"
     ]
    },
    {
     "name": "stdout",
     "output_type": "stream",
     "text": [
      "\n",
      "      Epoch    GPU_mem   box_loss   cls_loss   dfl_loss  Instances       Size\n"
     ]
    },
    {
     "name": "stderr",
     "output_type": "stream",
     "text": [
      "     74/150      3.66G     0.6435     0.5686     0.9211         14        640: 100%|██████████| 8/8 [00:11<00:00,  1.47s/it]\n",
      "                 Class     Images  Instances      Box(P          R      mAP50  mAP50-95): 100%|██████████| 1/1 [00:00<00:00,  1.30it/s]"
     ]
    },
    {
     "name": "stdout",
     "output_type": "stream",
     "text": [
      "                   all         10         31      0.857      0.454      0.613       0.47\n"
     ]
    },
    {
     "name": "stderr",
     "output_type": "stream",
     "text": [
      "\n"
     ]
    },
    {
     "name": "stdout",
     "output_type": "stream",
     "text": [
      "\n",
      "      Epoch    GPU_mem   box_loss   cls_loss   dfl_loss  Instances       Size\n"
     ]
    },
    {
     "name": "stderr",
     "output_type": "stream",
     "text": [
      "     75/150      3.66G     0.6123     0.5064     0.9302         14        640: 100%|██████████| 8/8 [00:11<00:00,  1.47s/it]\n",
      "                 Class     Images  Instances      Box(P          R      mAP50  mAP50-95): 100%|██████████| 1/1 [00:00<00:00,  1.28it/s]"
     ]
    },
    {
     "name": "stdout",
     "output_type": "stream",
     "text": [
      "                   all         10         31      0.926      0.444      0.628      0.477\n"
     ]
    },
    {
     "name": "stderr",
     "output_type": "stream",
     "text": [
      "\n"
     ]
    },
    {
     "name": "stdout",
     "output_type": "stream",
     "text": [
      "\n",
      "      Epoch    GPU_mem   box_loss   cls_loss   dfl_loss  Instances       Size\n"
     ]
    },
    {
     "name": "stderr",
     "output_type": "stream",
     "text": [
      "     76/150      3.62G     0.6012     0.4899     0.8992         11        640: 100%|██████████| 8/8 [00:11<00:00,  1.46s/it]\n",
      "                 Class     Images  Instances      Box(P          R      mAP50  mAP50-95): 100%|██████████| 1/1 [00:00<00:00,  1.30it/s]"
     ]
    },
    {
     "name": "stdout",
     "output_type": "stream",
     "text": [
      "                   all         10         31      0.926      0.444      0.628      0.477\n"
     ]
    },
    {
     "name": "stderr",
     "output_type": "stream",
     "text": [
      "\n"
     ]
    },
    {
     "name": "stdout",
     "output_type": "stream",
     "text": [
      "\n",
      "      Epoch    GPU_mem   box_loss   cls_loss   dfl_loss  Instances       Size\n"
     ]
    },
    {
     "name": "stderr",
     "output_type": "stream",
     "text": [
      "     77/150      3.65G     0.6138     0.5164     0.8872         29        640: 100%|██████████| 8/8 [00:11<00:00,  1.47s/it]\n",
      "                 Class     Images  Instances      Box(P          R      mAP50  mAP50-95): 100%|██████████| 1/1 [00:00<00:00,  1.30it/s]"
     ]
    },
    {
     "name": "stdout",
     "output_type": "stream",
     "text": [
      "                   all         10         31      0.822       0.44      0.572      0.459\n"
     ]
    },
    {
     "name": "stderr",
     "output_type": "stream",
     "text": [
      "\n"
     ]
    },
    {
     "name": "stdout",
     "output_type": "stream",
     "text": [
      "\n",
      "      Epoch    GPU_mem   box_loss   cls_loss   dfl_loss  Instances       Size\n"
     ]
    },
    {
     "name": "stderr",
     "output_type": "stream",
     "text": [
      "     78/150      3.67G     0.6392     0.5041     0.9004         28        640: 100%|██████████| 8/8 [00:11<00:00,  1.47s/it]\n",
      "                 Class     Images  Instances      Box(P          R      mAP50  mAP50-95): 100%|██████████| 1/1 [00:00<00:00,  1.30it/s]"
     ]
    },
    {
     "name": "stdout",
     "output_type": "stream",
     "text": [
      "                   all         10         31      0.687      0.472      0.538      0.419\n"
     ]
    },
    {
     "name": "stderr",
     "output_type": "stream",
     "text": [
      "\n"
     ]
    },
    {
     "name": "stdout",
     "output_type": "stream",
     "text": [
      "\n",
      "      Epoch    GPU_mem   box_loss   cls_loss   dfl_loss  Instances       Size\n"
     ]
    },
    {
     "name": "stderr",
     "output_type": "stream",
     "text": [
      "     79/150      3.66G     0.5912     0.4638     0.9182         16        640: 100%|██████████| 8/8 [00:11<00:00,  1.46s/it]\n",
      "                 Class     Images  Instances      Box(P          R      mAP50  mAP50-95): 100%|██████████| 1/1 [00:00<00:00,  1.31it/s]"
     ]
    },
    {
     "name": "stdout",
     "output_type": "stream",
     "text": [
      "                   all         10         31      0.687      0.472      0.538      0.419\n"
     ]
    },
    {
     "name": "stderr",
     "output_type": "stream",
     "text": [
      "\n"
     ]
    },
    {
     "name": "stdout",
     "output_type": "stream",
     "text": [
      "\n",
      "      Epoch    GPU_mem   box_loss   cls_loss   dfl_loss  Instances       Size\n"
     ]
    },
    {
     "name": "stderr",
     "output_type": "stream",
     "text": [
      "     80/150      3.66G     0.5858     0.5265     0.8883         10        640: 100%|██████████| 8/8 [00:11<00:00,  1.47s/it]\n",
      "                 Class     Images  Instances      Box(P          R      mAP50  mAP50-95): 100%|██████████| 1/1 [00:00<00:00,  1.30it/s]"
     ]
    },
    {
     "name": "stdout",
     "output_type": "stream",
     "text": [
      "                   all         10         31      0.735      0.472      0.499      0.399\n"
     ]
    },
    {
     "name": "stderr",
     "output_type": "stream",
     "text": [
      "\n"
     ]
    },
    {
     "name": "stdout",
     "output_type": "stream",
     "text": [
      "\n",
      "      Epoch    GPU_mem   box_loss   cls_loss   dfl_loss  Instances       Size\n"
     ]
    },
    {
     "name": "stderr",
     "output_type": "stream",
     "text": [
      "     81/150      3.66G     0.5981     0.5014       0.89         21        640: 100%|██████████| 8/8 [00:11<00:00,  1.47s/it]\n",
      "                 Class     Images  Instances      Box(P          R      mAP50  mAP50-95): 100%|██████████| 1/1 [00:00<00:00,  1.28it/s]"
     ]
    },
    {
     "name": "stdout",
     "output_type": "stream",
     "text": [
      "                   all         10         31      0.878      0.491      0.555      0.448\n"
     ]
    },
    {
     "name": "stderr",
     "output_type": "stream",
     "text": [
      "\n"
     ]
    },
    {
     "name": "stdout",
     "output_type": "stream",
     "text": [
      "\n",
      "      Epoch    GPU_mem   box_loss   cls_loss   dfl_loss  Instances       Size\n"
     ]
    },
    {
     "name": "stderr",
     "output_type": "stream",
     "text": [
      "     82/150      3.64G     0.6013     0.4734     0.8982         14        640: 100%|██████████| 8/8 [00:11<00:00,  1.47s/it]\n",
      "                 Class     Images  Instances      Box(P          R      mAP50  mAP50-95): 100%|██████████| 1/1 [00:00<00:00,  1.32it/s]"
     ]
    },
    {
     "name": "stdout",
     "output_type": "stream",
     "text": [
      "                   all         10         31      0.734      0.527      0.588      0.467\n"
     ]
    },
    {
     "name": "stderr",
     "output_type": "stream",
     "text": [
      "\n"
     ]
    },
    {
     "name": "stdout",
     "output_type": "stream",
     "text": [
      "\n",
      "      Epoch    GPU_mem   box_loss   cls_loss   dfl_loss  Instances       Size\n"
     ]
    },
    {
     "name": "stderr",
     "output_type": "stream",
     "text": [
      "     83/150      3.68G      0.645     0.5079     0.9172         14        640: 100%|██████████| 8/8 [00:11<00:00,  1.46s/it]\n",
      "                 Class     Images  Instances      Box(P          R      mAP50  mAP50-95): 100%|██████████| 1/1 [00:00<00:00,  1.30it/s]"
     ]
    },
    {
     "name": "stdout",
     "output_type": "stream",
     "text": [
      "                   all         10         31      0.734      0.527      0.588      0.467\n"
     ]
    },
    {
     "name": "stderr",
     "output_type": "stream",
     "text": [
      "\n"
     ]
    },
    {
     "name": "stdout",
     "output_type": "stream",
     "text": [
      "\n",
      "      Epoch    GPU_mem   box_loss   cls_loss   dfl_loss  Instances       Size\n"
     ]
    },
    {
     "name": "stderr",
     "output_type": "stream",
     "text": [
      "     84/150      3.66G     0.5996     0.4667     0.8968         27        640: 100%|██████████| 8/8 [00:11<00:00,  1.47s/it]\n",
      "                 Class     Images  Instances      Box(P          R      mAP50  mAP50-95): 100%|██████████| 1/1 [00:00<00:00,  1.31it/s]"
     ]
    },
    {
     "name": "stdout",
     "output_type": "stream",
     "text": [
      "                   all         10         31       0.64      0.528      0.567      0.442\n"
     ]
    },
    {
     "name": "stderr",
     "output_type": "stream",
     "text": [
      "\n"
     ]
    },
    {
     "name": "stdout",
     "output_type": "stream",
     "text": [
      "\n",
      "      Epoch    GPU_mem   box_loss   cls_loss   dfl_loss  Instances       Size\n"
     ]
    },
    {
     "name": "stderr",
     "output_type": "stream",
     "text": [
      "     85/150      3.66G     0.5978     0.5059     0.9094         22        640: 100%|██████████| 8/8 [00:11<00:00,  1.47s/it]\n",
      "                 Class     Images  Instances      Box(P          R      mAP50  mAP50-95): 100%|██████████| 1/1 [00:00<00:00,  1.30it/s]"
     ]
    },
    {
     "name": "stdout",
     "output_type": "stream",
     "text": [
      "                   all         10         31      0.621      0.453      0.554      0.427\n"
     ]
    },
    {
     "name": "stderr",
     "output_type": "stream",
     "text": [
      "\n"
     ]
    },
    {
     "name": "stdout",
     "output_type": "stream",
     "text": [
      "\n",
      "      Epoch    GPU_mem   box_loss   cls_loss   dfl_loss  Instances       Size\n"
     ]
    },
    {
     "name": "stderr",
     "output_type": "stream",
     "text": [
      "     86/150      3.67G     0.5728     0.4616     0.8882         12        640: 100%|██████████| 8/8 [00:11<00:00,  1.47s/it]\n",
      "                 Class     Images  Instances      Box(P          R      mAP50  mAP50-95): 100%|██████████| 1/1 [00:00<00:00,  1.27it/s]"
     ]
    },
    {
     "name": "stdout",
     "output_type": "stream",
     "text": [
      "                   all         10         31       0.66      0.417      0.539      0.402\n"
     ]
    },
    {
     "name": "stderr",
     "output_type": "stream",
     "text": [
      "\n"
     ]
    },
    {
     "name": "stdout",
     "output_type": "stream",
     "text": [
      "\n",
      "      Epoch    GPU_mem   box_loss   cls_loss   dfl_loss  Instances       Size\n"
     ]
    },
    {
     "name": "stderr",
     "output_type": "stream",
     "text": [
      "     87/150      3.62G     0.5708     0.4359     0.8717         17        640: 100%|██████████| 8/8 [00:11<00:00,  1.46s/it]\n",
      "                 Class     Images  Instances      Box(P          R      mAP50  mAP50-95): 100%|██████████| 1/1 [00:00<00:00,  1.30it/s]"
     ]
    },
    {
     "name": "stdout",
     "output_type": "stream",
     "text": [
      "                   all         10         31       0.66      0.417      0.539      0.402\n"
     ]
    },
    {
     "name": "stderr",
     "output_type": "stream",
     "text": [
      "\n"
     ]
    },
    {
     "name": "stdout",
     "output_type": "stream",
     "text": [
      "\n",
      "      Epoch    GPU_mem   box_loss   cls_loss   dfl_loss  Instances       Size\n"
     ]
    },
    {
     "name": "stderr",
     "output_type": "stream",
     "text": [
      "     88/150      3.65G      0.578     0.4513     0.9077         29        640: 100%|██████████| 8/8 [00:11<00:00,  1.47s/it]\n",
      "                 Class     Images  Instances      Box(P          R      mAP50  mAP50-95): 100%|██████████| 1/1 [00:00<00:00,  1.31it/s]"
     ]
    },
    {
     "name": "stdout",
     "output_type": "stream",
     "text": [
      "                   all         10         31      0.829      0.398      0.565      0.449\n"
     ]
    },
    {
     "name": "stderr",
     "output_type": "stream",
     "text": [
      "\n"
     ]
    },
    {
     "name": "stdout",
     "output_type": "stream",
     "text": [
      "\n",
      "      Epoch    GPU_mem   box_loss   cls_loss   dfl_loss  Instances       Size\n"
     ]
    },
    {
     "name": "stderr",
     "output_type": "stream",
     "text": [
      "     89/150      3.66G     0.5178     0.4405      0.866         20        640: 100%|██████████| 8/8 [00:11<00:00,  1.47s/it]\n",
      "                 Class     Images  Instances      Box(P          R      mAP50  mAP50-95): 100%|██████████| 1/1 [00:00<00:00,  1.31it/s]"
     ]
    },
    {
     "name": "stdout",
     "output_type": "stream",
     "text": [
      "                   all         10         31      0.838      0.417      0.603      0.504\n"
     ]
    },
    {
     "name": "stderr",
     "output_type": "stream",
     "text": [
      "\n"
     ]
    },
    {
     "name": "stdout",
     "output_type": "stream",
     "text": [
      "\n",
      "      Epoch    GPU_mem   box_loss   cls_loss   dfl_loss  Instances       Size\n"
     ]
    },
    {
     "name": "stderr",
     "output_type": "stream",
     "text": [
      "     90/150      3.66G     0.6069     0.4671      0.891         22        640: 100%|██████████| 8/8 [00:11<00:00,  1.46s/it]\n",
      "                 Class     Images  Instances      Box(P          R      mAP50  mAP50-95): 100%|██████████| 1/1 [00:00<00:00,  1.31it/s]"
     ]
    },
    {
     "name": "stdout",
     "output_type": "stream",
     "text": [
      "                   all         10         31      0.838      0.417      0.603      0.504\n"
     ]
    },
    {
     "name": "stderr",
     "output_type": "stream",
     "text": [
      "\n"
     ]
    },
    {
     "name": "stdout",
     "output_type": "stream",
     "text": [
      "\n",
      "      Epoch    GPU_mem   box_loss   cls_loss   dfl_loss  Instances       Size\n"
     ]
    },
    {
     "name": "stderr",
     "output_type": "stream",
     "text": [
      "     91/150      3.67G     0.5838     0.4678     0.9077         21        640: 100%|██████████| 8/8 [00:11<00:00,  1.47s/it]\n",
      "                 Class     Images  Instances      Box(P          R      mAP50  mAP50-95): 100%|██████████| 1/1 [00:00<00:00,  1.31it/s]"
     ]
    },
    {
     "name": "stdout",
     "output_type": "stream",
     "text": [
      "                   all         10         31      0.631      0.528       0.64      0.535\n"
     ]
    },
    {
     "name": "stderr",
     "output_type": "stream",
     "text": [
      "\n"
     ]
    },
    {
     "name": "stdout",
     "output_type": "stream",
     "text": [
      "\n",
      "      Epoch    GPU_mem   box_loss   cls_loss   dfl_loss  Instances       Size\n"
     ]
    },
    {
     "name": "stderr",
     "output_type": "stream",
     "text": [
      "     92/150      3.67G     0.5605     0.4568     0.8698         23        640: 100%|██████████| 8/8 [00:11<00:00,  1.47s/it]\n",
      "                 Class     Images  Instances      Box(P          R      mAP50  mAP50-95): 100%|██████████| 1/1 [00:00<00:00,  1.31it/s]"
     ]
    },
    {
     "name": "stdout",
     "output_type": "stream",
     "text": [
      "                   all         10         31      0.825       0.45      0.651      0.531\n"
     ]
    },
    {
     "name": "stderr",
     "output_type": "stream",
     "text": [
      "\n"
     ]
    },
    {
     "name": "stdout",
     "output_type": "stream",
     "text": [
      "\n",
      "      Epoch    GPU_mem   box_loss   cls_loss   dfl_loss  Instances       Size\n"
     ]
    },
    {
     "name": "stderr",
     "output_type": "stream",
     "text": [
      "     93/150      3.64G     0.5599     0.4513     0.8917         12        640: 100%|██████████| 8/8 [00:11<00:00,  1.47s/it]\n",
      "                 Class     Images  Instances      Box(P          R      mAP50  mAP50-95): 100%|██████████| 1/1 [00:00<00:00,  1.31it/s]"
     ]
    },
    {
     "name": "stdout",
     "output_type": "stream",
     "text": [
      "                   all         10         31      0.709      0.528      0.619      0.485\n"
     ]
    },
    {
     "name": "stderr",
     "output_type": "stream",
     "text": [
      "\n"
     ]
    },
    {
     "name": "stdout",
     "output_type": "stream",
     "text": [
      "\n",
      "      Epoch    GPU_mem   box_loss   cls_loss   dfl_loss  Instances       Size\n"
     ]
    },
    {
     "name": "stderr",
     "output_type": "stream",
     "text": [
      "     94/150      3.66G     0.5729     0.4358     0.8537         28        640: 100%|██████████| 8/8 [00:11<00:00,  1.46s/it]\n",
      "                 Class     Images  Instances      Box(P          R      mAP50  mAP50-95): 100%|██████████| 1/1 [00:00<00:00,  1.30it/s]"
     ]
    },
    {
     "name": "stdout",
     "output_type": "stream",
     "text": [
      "                   all         10         31      0.709      0.528      0.619      0.485\n"
     ]
    },
    {
     "name": "stderr",
     "output_type": "stream",
     "text": [
      "\n"
     ]
    },
    {
     "name": "stdout",
     "output_type": "stream",
     "text": [
      "\n",
      "      Epoch    GPU_mem   box_loss   cls_loss   dfl_loss  Instances       Size\n"
     ]
    },
    {
     "name": "stderr",
     "output_type": "stream",
     "text": [
      "     95/150      3.66G     0.5311      0.455     0.8797         25        640: 100%|██████████| 8/8 [00:11<00:00,  1.47s/it]\n",
      "                 Class     Images  Instances      Box(P          R      mAP50  mAP50-95): 100%|██████████| 1/1 [00:00<00:00,  1.30it/s]"
     ]
    },
    {
     "name": "stdout",
     "output_type": "stream",
     "text": [
      "                   all         10         31      0.768      0.491      0.599      0.464\n"
     ]
    },
    {
     "name": "stderr",
     "output_type": "stream",
     "text": [
      "\n"
     ]
    },
    {
     "name": "stdout",
     "output_type": "stream",
     "text": [
      "\n",
      "      Epoch    GPU_mem   box_loss   cls_loss   dfl_loss  Instances       Size\n"
     ]
    },
    {
     "name": "stderr",
     "output_type": "stream",
     "text": [
      "     96/150      3.67G     0.5254     0.4391     0.8837          8        640: 100%|██████████| 8/8 [00:11<00:00,  1.46s/it]\n",
      "                 Class     Images  Instances      Box(P          R      mAP50  mAP50-95): 100%|██████████| 1/1 [00:00<00:00,  1.31it/s]"
     ]
    },
    {
     "name": "stdout",
     "output_type": "stream",
     "text": [
      "                   all         10         31      0.749        0.5      0.595      0.451\n"
     ]
    },
    {
     "name": "stderr",
     "output_type": "stream",
     "text": [
      "\n"
     ]
    },
    {
     "name": "stdout",
     "output_type": "stream",
     "text": [
      "\n",
      "      Epoch    GPU_mem   box_loss   cls_loss   dfl_loss  Instances       Size\n"
     ]
    },
    {
     "name": "stderr",
     "output_type": "stream",
     "text": [
      "     97/150      3.67G      0.527     0.4094     0.8722          9        640: 100%|██████████| 8/8 [00:11<00:00,  1.47s/it]\n",
      "                 Class     Images  Instances      Box(P          R      mAP50  mAP50-95): 100%|██████████| 1/1 [00:00<00:00,  1.29it/s]"
     ]
    },
    {
     "name": "stdout",
     "output_type": "stream",
     "text": [
      "                   all         10         31      0.799      0.466      0.583      0.432\n"
     ]
    },
    {
     "name": "stderr",
     "output_type": "stream",
     "text": [
      "\n"
     ]
    },
    {
     "name": "stdout",
     "output_type": "stream",
     "text": [
      "\n",
      "      Epoch    GPU_mem   box_loss   cls_loss   dfl_loss  Instances       Size\n"
     ]
    },
    {
     "name": "stderr",
     "output_type": "stream",
     "text": [
      "     98/150      3.61G      0.534      0.444     0.8738          6        640: 100%|██████████| 8/8 [00:11<00:00,  1.46s/it]\n",
      "                 Class     Images  Instances      Box(P          R      mAP50  mAP50-95): 100%|██████████| 1/1 [00:00<00:00,  1.30it/s]"
     ]
    },
    {
     "name": "stdout",
     "output_type": "stream",
     "text": [
      "                   all         10         31      0.799      0.466      0.583      0.432\n"
     ]
    },
    {
     "name": "stderr",
     "output_type": "stream",
     "text": [
      "\n"
     ]
    },
    {
     "name": "stdout",
     "output_type": "stream",
     "text": [
      "\n",
      "      Epoch    GPU_mem   box_loss   cls_loss   dfl_loss  Instances       Size\n"
     ]
    },
    {
     "name": "stderr",
     "output_type": "stream",
     "text": [
      "     99/150      3.67G      0.516     0.4136     0.8695         18        640: 100%|██████████| 8/8 [00:11<00:00,  1.47s/it]\n",
      "                 Class     Images  Instances      Box(P          R      mAP50  mAP50-95): 100%|██████████| 1/1 [00:00<00:00,  1.26it/s]"
     ]
    },
    {
     "name": "stdout",
     "output_type": "stream",
     "text": [
      "                   all         10         31      0.844      0.452      0.563      0.423\n"
     ]
    },
    {
     "name": "stderr",
     "output_type": "stream",
     "text": [
      "\n"
     ]
    },
    {
     "name": "stdout",
     "output_type": "stream",
     "text": [
      "\n",
      "      Epoch    GPU_mem   box_loss   cls_loss   dfl_loss  Instances       Size\n"
     ]
    },
    {
     "name": "stderr",
     "output_type": "stream",
     "text": [
      "    100/150      3.67G     0.5367     0.4178     0.9073         10        640: 100%|██████████| 8/8 [00:11<00:00,  1.47s/it]\n",
      "                 Class     Images  Instances      Box(P          R      mAP50  mAP50-95): 100%|██████████| 1/1 [00:00<00:00,  1.29it/s]"
     ]
    },
    {
     "name": "stdout",
     "output_type": "stream",
     "text": [
      "                   all         10         31      0.799      0.454      0.554      0.422\n"
     ]
    },
    {
     "name": "stderr",
     "output_type": "stream",
     "text": [
      "\n"
     ]
    },
    {
     "name": "stdout",
     "output_type": "stream",
     "text": [
      "\n",
      "      Epoch    GPU_mem   box_loss   cls_loss   dfl_loss  Instances       Size\n"
     ]
    },
    {
     "name": "stderr",
     "output_type": "stream",
     "text": [
      "    101/150      3.67G      0.526     0.4181     0.9029         15        640: 100%|██████████| 8/8 [00:11<00:00,  1.46s/it]\n",
      "                 Class     Images  Instances      Box(P          R      mAP50  mAP50-95): 100%|██████████| 1/1 [00:00<00:00,  1.29it/s]"
     ]
    },
    {
     "name": "stdout",
     "output_type": "stream",
     "text": [
      "                   all         10         31      0.799      0.454      0.554      0.422\n"
     ]
    },
    {
     "name": "stderr",
     "output_type": "stream",
     "text": [
      "\n"
     ]
    },
    {
     "name": "stdout",
     "output_type": "stream",
     "text": [
      "\n",
      "      Epoch    GPU_mem   box_loss   cls_loss   dfl_loss  Instances       Size\n"
     ]
    },
    {
     "name": "stderr",
     "output_type": "stream",
     "text": [
      "    102/150      3.65G     0.5336     0.4509     0.8821         30        640: 100%|██████████| 8/8 [00:11<00:00,  1.47s/it]\n",
      "                 Class     Images  Instances      Box(P          R      mAP50  mAP50-95): 100%|██████████| 1/1 [00:00<00:00,  1.29it/s]"
     ]
    },
    {
     "name": "stdout",
     "output_type": "stream",
     "text": [
      "                   all         10         31      0.771      0.449       0.55      0.437\n"
     ]
    },
    {
     "name": "stderr",
     "output_type": "stream",
     "text": [
      "\n"
     ]
    },
    {
     "name": "stdout",
     "output_type": "stream",
     "text": [
      "\n",
      "      Epoch    GPU_mem   box_loss   cls_loss   dfl_loss  Instances       Size\n"
     ]
    },
    {
     "name": "stderr",
     "output_type": "stream",
     "text": [
      "    103/150      3.66G     0.5342     0.4085     0.8638         22        640: 100%|██████████| 8/8 [00:11<00:00,  1.47s/it]\n",
      "                 Class     Images  Instances      Box(P          R      mAP50  mAP50-95): 100%|██████████| 1/1 [00:00<00:00,  1.31it/s]"
     ]
    },
    {
     "name": "stdout",
     "output_type": "stream",
     "text": [
      "                   all         10         31      0.779      0.438      0.575      0.452\n"
     ]
    },
    {
     "name": "stderr",
     "output_type": "stream",
     "text": [
      "\n"
     ]
    },
    {
     "name": "stdout",
     "output_type": "stream",
     "text": [
      "\n",
      "      Epoch    GPU_mem   box_loss   cls_loss   dfl_loss  Instances       Size\n"
     ]
    },
    {
     "name": "stderr",
     "output_type": "stream",
     "text": [
      "    104/150      3.65G      0.509     0.3823     0.8833         12        640: 100%|██████████| 8/8 [00:11<00:00,  1.47s/it]\n",
      "                 Class     Images  Instances      Box(P          R      mAP50  mAP50-95): 100%|██████████| 1/1 [00:00<00:00,  1.32it/s]"
     ]
    },
    {
     "name": "stdout",
     "output_type": "stream",
     "text": [
      "                   all         10         31      0.674      0.487      0.596      0.474\n"
     ]
    },
    {
     "name": "stderr",
     "output_type": "stream",
     "text": [
      "\n"
     ]
    },
    {
     "name": "stdout",
     "output_type": "stream",
     "text": [
      "\n",
      "      Epoch    GPU_mem   box_loss   cls_loss   dfl_loss  Instances       Size\n"
     ]
    },
    {
     "name": "stderr",
     "output_type": "stream",
     "text": [
      "    105/150      3.65G     0.4772     0.3862     0.8624         24        640: 100%|██████████| 8/8 [00:11<00:00,  1.46s/it]\n",
      "                 Class     Images  Instances      Box(P          R      mAP50  mAP50-95): 100%|██████████| 1/1 [00:00<00:00,  1.31it/s]"
     ]
    },
    {
     "name": "stdout",
     "output_type": "stream",
     "text": [
      "                   all         10         31      0.674      0.487      0.596      0.474\n"
     ]
    },
    {
     "name": "stderr",
     "output_type": "stream",
     "text": [
      "\n"
     ]
    },
    {
     "name": "stdout",
     "output_type": "stream",
     "text": [
      "\n",
      "      Epoch    GPU_mem   box_loss   cls_loss   dfl_loss  Instances       Size\n"
     ]
    },
    {
     "name": "stderr",
     "output_type": "stream",
     "text": [
      "    106/150      3.65G     0.5139     0.4134     0.8775         18        640: 100%|██████████| 8/8 [00:11<00:00,  1.47s/it]\n",
      "                 Class     Images  Instances      Box(P          R      mAP50  mAP50-95): 100%|██████████| 1/1 [00:00<00:00,  1.32it/s]"
     ]
    },
    {
     "name": "stdout",
     "output_type": "stream",
     "text": [
      "                   all         10         31      0.698      0.491      0.592      0.478\n"
     ]
    },
    {
     "name": "stderr",
     "output_type": "stream",
     "text": [
      "\n"
     ]
    },
    {
     "name": "stdout",
     "output_type": "stream",
     "text": [
      "\n",
      "      Epoch    GPU_mem   box_loss   cls_loss   dfl_loss  Instances       Size\n"
     ]
    },
    {
     "name": "stderr",
     "output_type": "stream",
     "text": [
      "    107/150      3.67G     0.4464     0.3758     0.8619         10        640: 100%|██████████| 8/8 [00:11<00:00,  1.47s/it]\n",
      "                 Class     Images  Instances      Box(P          R      mAP50  mAP50-95): 100%|██████████| 1/1 [00:00<00:00,  1.31it/s]"
     ]
    },
    {
     "name": "stdout",
     "output_type": "stream",
     "text": [
      "                   all         10         31      0.733      0.435      0.599      0.464\n"
     ]
    },
    {
     "name": "stderr",
     "output_type": "stream",
     "text": [
      "\n"
     ]
    },
    {
     "name": "stdout",
     "output_type": "stream",
     "text": [
      "\n",
      "      Epoch    GPU_mem   box_loss   cls_loss   dfl_loss  Instances       Size\n"
     ]
    },
    {
     "name": "stderr",
     "output_type": "stream",
     "text": [
      "    108/150      3.64G      0.467     0.3929     0.8527         18        640: 100%|██████████| 8/8 [00:11<00:00,  1.47s/it]\n",
      "                 Class     Images  Instances      Box(P          R      mAP50  mAP50-95): 100%|██████████| 1/1 [00:00<00:00,  1.29it/s]"
     ]
    },
    {
     "name": "stdout",
     "output_type": "stream",
     "text": [
      "                   all         10         31       0.77      0.398      0.534      0.421\n"
     ]
    },
    {
     "name": "stderr",
     "output_type": "stream",
     "text": [
      "\n"
     ]
    },
    {
     "name": "stdout",
     "output_type": "stream",
     "text": [
      "\n",
      "      Epoch    GPU_mem   box_loss   cls_loss   dfl_loss  Instances       Size\n"
     ]
    },
    {
     "name": "stderr",
     "output_type": "stream",
     "text": [
      "    109/150       3.6G     0.5059     0.4212     0.9092          8        640: 100%|██████████| 8/8 [00:11<00:00,  1.46s/it]\n",
      "                 Class     Images  Instances      Box(P          R      mAP50  mAP50-95): 100%|██████████| 1/1 [00:00<00:00,  1.31it/s]"
     ]
    },
    {
     "name": "stdout",
     "output_type": "stream",
     "text": [
      "                   all         10         31       0.77      0.398      0.534      0.421\n"
     ]
    },
    {
     "name": "stderr",
     "output_type": "stream",
     "text": [
      "\n"
     ]
    },
    {
     "name": "stdout",
     "output_type": "stream",
     "text": [
      "\n",
      "      Epoch    GPU_mem   box_loss   cls_loss   dfl_loss  Instances       Size\n"
     ]
    },
    {
     "name": "stderr",
     "output_type": "stream",
     "text": [
      "    110/150      3.68G     0.5086     0.3944       0.88         13        640: 100%|██████████| 8/8 [00:11<00:00,  1.47s/it]\n",
      "                 Class     Images  Instances      Box(P          R      mAP50  mAP50-95): 100%|██████████| 1/1 [00:00<00:00,  1.29it/s]"
     ]
    },
    {
     "name": "stdout",
     "output_type": "stream",
     "text": [
      "                   all         10         31      0.701      0.401      0.544      0.432\n"
     ]
    },
    {
     "name": "stderr",
     "output_type": "stream",
     "text": [
      "\n"
     ]
    },
    {
     "name": "stdout",
     "output_type": "stream",
     "text": [
      "\n",
      "      Epoch    GPU_mem   box_loss   cls_loss   dfl_loss  Instances       Size\n"
     ]
    },
    {
     "name": "stderr",
     "output_type": "stream",
     "text": [
      "    111/150      3.67G     0.4942     0.4106     0.8762         14        640: 100%|██████████| 8/8 [00:11<00:00,  1.47s/it]\n",
      "                 Class     Images  Instances      Box(P          R      mAP50  mAP50-95): 100%|██████████| 1/1 [00:00<00:00,  1.29it/s]"
     ]
    },
    {
     "name": "stdout",
     "output_type": "stream",
     "text": [
      "                   all         10         31      0.701      0.407      0.544      0.434\n"
     ]
    },
    {
     "name": "stderr",
     "output_type": "stream",
     "text": [
      "\n"
     ]
    },
    {
     "name": "stdout",
     "output_type": "stream",
     "text": [
      "\n",
      "      Epoch    GPU_mem   box_loss   cls_loss   dfl_loss  Instances       Size\n"
     ]
    },
    {
     "name": "stderr",
     "output_type": "stream",
     "text": [
      "    112/150      3.67G     0.4757     0.3931     0.8548         27        640: 100%|██████████| 8/8 [00:11<00:00,  1.46s/it]\n",
      "                 Class     Images  Instances      Box(P          R      mAP50  mAP50-95): 100%|██████████| 1/1 [00:00<00:00,  1.29it/s]"
     ]
    },
    {
     "name": "stdout",
     "output_type": "stream",
     "text": [
      "                   all         10         31      0.701      0.407      0.544      0.434\n"
     ]
    },
    {
     "name": "stderr",
     "output_type": "stream",
     "text": [
      "\n"
     ]
    },
    {
     "name": "stdout",
     "output_type": "stream",
     "text": [
      "\n",
      "      Epoch    GPU_mem   box_loss   cls_loss   dfl_loss  Instances       Size\n"
     ]
    },
    {
     "name": "stderr",
     "output_type": "stream",
     "text": [
      "    113/150      3.67G     0.4899     0.3568     0.8585         23        640: 100%|██████████| 8/8 [00:11<00:00,  1.47s/it]\n",
      "                 Class     Images  Instances      Box(P          R      mAP50  mAP50-95): 100%|██████████| 1/1 [00:00<00:00,  1.30it/s]"
     ]
    },
    {
     "name": "stdout",
     "output_type": "stream",
     "text": [
      "                   all         10         31      0.676      0.467      0.612      0.492\n"
     ]
    },
    {
     "name": "stderr",
     "output_type": "stream",
     "text": [
      "\n"
     ]
    },
    {
     "name": "stdout",
     "output_type": "stream",
     "text": [
      "\n",
      "      Epoch    GPU_mem   box_loss   cls_loss   dfl_loss  Instances       Size\n"
     ]
    },
    {
     "name": "stderr",
     "output_type": "stream",
     "text": [
      "    114/150      3.66G     0.4621     0.4045     0.8832          7        640: 100%|██████████| 8/8 [00:11<00:00,  1.46s/it]\n",
      "                 Class     Images  Instances      Box(P          R      mAP50  mAP50-95): 100%|██████████| 1/1 [00:00<00:00,  1.31it/s]"
     ]
    },
    {
     "name": "stdout",
     "output_type": "stream",
     "text": [
      "                   all         10         31      0.723      0.587      0.663      0.523\n"
     ]
    },
    {
     "name": "stderr",
     "output_type": "stream",
     "text": [
      "\n"
     ]
    },
    {
     "name": "stdout",
     "output_type": "stream",
     "text": [
      "\n",
      "      Epoch    GPU_mem   box_loss   cls_loss   dfl_loss  Instances       Size\n"
     ]
    },
    {
     "name": "stderr",
     "output_type": "stream",
     "text": [
      "    115/150      3.64G     0.4495     0.3461     0.8564         17        640: 100%|██████████| 8/8 [00:11<00:00,  1.46s/it]\n",
      "                 Class     Images  Instances      Box(P          R      mAP50  mAP50-95): 100%|██████████| 1/1 [00:00<00:00,  1.33it/s]"
     ]
    },
    {
     "name": "stdout",
     "output_type": "stream",
     "text": [
      "                   all         10         31      0.705      0.586      0.686      0.523\n"
     ]
    },
    {
     "name": "stderr",
     "output_type": "stream",
     "text": [
      "\n"
     ]
    },
    {
     "name": "stdout",
     "output_type": "stream",
     "text": [
      "\n",
      "      Epoch    GPU_mem   box_loss   cls_loss   dfl_loss  Instances       Size\n"
     ]
    },
    {
     "name": "stderr",
     "output_type": "stream",
     "text": [
      "    116/150      3.65G     0.4228     0.3949     0.8641         16        640: 100%|██████████| 8/8 [00:11<00:00,  1.46s/it]\n",
      "                 Class     Images  Instances      Box(P          R      mAP50  mAP50-95): 100%|██████████| 1/1 [00:00<00:00,  1.31it/s]"
     ]
    },
    {
     "name": "stdout",
     "output_type": "stream",
     "text": [
      "                   all         10         31      0.705      0.586      0.686      0.523\n"
     ]
    },
    {
     "name": "stderr",
     "output_type": "stream",
     "text": [
      "\n"
     ]
    },
    {
     "name": "stdout",
     "output_type": "stream",
     "text": [
      "\n",
      "      Epoch    GPU_mem   box_loss   cls_loss   dfl_loss  Instances       Size\n"
     ]
    },
    {
     "name": "stderr",
     "output_type": "stream",
     "text": [
      "    117/150      3.67G     0.4702     0.3955     0.8608         32        640: 100%|██████████| 8/8 [00:11<00:00,  1.47s/it]\n",
      "                 Class     Images  Instances      Box(P          R      mAP50  mAP50-95): 100%|██████████| 1/1 [00:00<00:00,  1.31it/s]"
     ]
    },
    {
     "name": "stdout",
     "output_type": "stream",
     "text": [
      "                   all         10         31      0.706      0.568       0.69      0.533\n"
     ]
    },
    {
     "name": "stderr",
     "output_type": "stream",
     "text": [
      "\n"
     ]
    },
    {
     "name": "stdout",
     "output_type": "stream",
     "text": [
      "\n",
      "      Epoch    GPU_mem   box_loss   cls_loss   dfl_loss  Instances       Size\n"
     ]
    },
    {
     "name": "stderr",
     "output_type": "stream",
     "text": [
      "    118/150      3.67G     0.4536     0.3446     0.8839         13        640: 100%|██████████| 8/8 [00:11<00:00,  1.47s/it]\n",
      "                 Class     Images  Instances      Box(P          R      mAP50  mAP50-95): 100%|██████████| 1/1 [00:00<00:00,  1.32it/s]"
     ]
    },
    {
     "name": "stdout",
     "output_type": "stream",
     "text": [
      "                   all         10         31      0.716      0.578        0.7      0.555\n"
     ]
    },
    {
     "name": "stderr",
     "output_type": "stream",
     "text": [
      "\n"
     ]
    },
    {
     "name": "stdout",
     "output_type": "stream",
     "text": [
      "\n",
      "      Epoch    GPU_mem   box_loss   cls_loss   dfl_loss  Instances       Size\n"
     ]
    },
    {
     "name": "stderr",
     "output_type": "stream",
     "text": [
      "    119/150      3.66G     0.4753     0.3891     0.8493         40        640: 100%|██████████| 8/8 [00:11<00:00,  1.47s/it]\n",
      "                 Class     Images  Instances      Box(P          R      mAP50  mAP50-95): 100%|██████████| 1/1 [00:00<00:00,  1.29it/s]"
     ]
    },
    {
     "name": "stdout",
     "output_type": "stream",
     "text": [
      "                   all         10         31      0.836      0.421      0.687      0.557\n"
     ]
    },
    {
     "name": "stderr",
     "output_type": "stream",
     "text": [
      "\n"
     ]
    },
    {
     "name": "stdout",
     "output_type": "stream",
     "text": [
      "\n",
      "      Epoch    GPU_mem   box_loss   cls_loss   dfl_loss  Instances       Size\n"
     ]
    },
    {
     "name": "stderr",
     "output_type": "stream",
     "text": [
      "    120/150       3.6G     0.4613     0.3543     0.8663         33        640: 100%|██████████| 8/8 [00:11<00:00,  1.46s/it]\n",
      "                 Class     Images  Instances      Box(P          R      mAP50  mAP50-95): 100%|██████████| 1/1 [00:00<00:00,  1.30it/s]"
     ]
    },
    {
     "name": "stdout",
     "output_type": "stream",
     "text": [
      "                   all         10         31      0.836      0.421      0.687      0.557\n"
     ]
    },
    {
     "name": "stderr",
     "output_type": "stream",
     "text": [
      "\n"
     ]
    },
    {
     "name": "stdout",
     "output_type": "stream",
     "text": [
      "\n",
      "      Epoch    GPU_mem   box_loss   cls_loss   dfl_loss  Instances       Size\n"
     ]
    },
    {
     "name": "stderr",
     "output_type": "stream",
     "text": [
      "    121/150      3.66G     0.4486     0.3494     0.8663          9        640: 100%|██████████| 8/8 [00:11<00:00,  1.47s/it]\n",
      "                 Class     Images  Instances      Box(P          R      mAP50  mAP50-95): 100%|██████████| 1/1 [00:00<00:00,  1.29it/s]"
     ]
    },
    {
     "name": "stdout",
     "output_type": "stream",
     "text": [
      "                   all         10         31      0.848      0.421      0.691      0.555\n"
     ]
    },
    {
     "name": "stderr",
     "output_type": "stream",
     "text": [
      "\n"
     ]
    },
    {
     "name": "stdout",
     "output_type": "stream",
     "text": [
      "\n",
      "      Epoch    GPU_mem   box_loss   cls_loss   dfl_loss  Instances       Size\n"
     ]
    },
    {
     "name": "stderr",
     "output_type": "stream",
     "text": [
      "    122/150      3.67G     0.4416     0.3587     0.8904         12        640: 100%|██████████| 8/8 [00:11<00:00,  1.47s/it]\n",
      "                 Class     Images  Instances      Box(P          R      mAP50  mAP50-95): 100%|██████████| 1/1 [00:00<00:00,  1.29it/s]"
     ]
    },
    {
     "name": "stdout",
     "output_type": "stream",
     "text": [
      "                   all         10         31      0.879      0.422      0.667      0.551\n"
     ]
    },
    {
     "name": "stderr",
     "output_type": "stream",
     "text": [
      "\n"
     ]
    },
    {
     "name": "stdout",
     "output_type": "stream",
     "text": [
      "\n",
      "      Epoch    GPU_mem   box_loss   cls_loss   dfl_loss  Instances       Size\n"
     ]
    },
    {
     "name": "stderr",
     "output_type": "stream",
     "text": [
      "    123/150      3.67G     0.4394     0.3768     0.8684         24        640: 100%|██████████| 8/8 [00:11<00:00,  1.46s/it]\n",
      "                 Class     Images  Instances      Box(P          R      mAP50  mAP50-95): 100%|██████████| 1/1 [00:00<00:00,  1.30it/s]"
     ]
    },
    {
     "name": "stdout",
     "output_type": "stream",
     "text": [
      "                   all         10         31      0.879      0.422      0.667      0.551\n"
     ]
    },
    {
     "name": "stderr",
     "output_type": "stream",
     "text": [
      "\n"
     ]
    },
    {
     "name": "stdout",
     "output_type": "stream",
     "text": [
      "\n",
      "      Epoch    GPU_mem   box_loss   cls_loss   dfl_loss  Instances       Size\n"
     ]
    },
    {
     "name": "stderr",
     "output_type": "stream",
     "text": [
      "    124/150      3.67G      0.431     0.3523     0.8298         24        640: 100%|██████████| 8/8 [00:11<00:00,  1.47s/it]\n",
      "                 Class     Images  Instances      Box(P          R      mAP50  mAP50-95): 100%|██████████| 1/1 [00:00<00:00,  1.31it/s]"
     ]
    },
    {
     "name": "stdout",
     "output_type": "stream",
     "text": [
      "                   all         10         31      0.893      0.429       0.63      0.529\n"
     ]
    },
    {
     "name": "stderr",
     "output_type": "stream",
     "text": [
      "\n"
     ]
    },
    {
     "name": "stdout",
     "output_type": "stream",
     "text": [
      "\n",
      "      Epoch    GPU_mem   box_loss   cls_loss   dfl_loss  Instances       Size\n"
     ]
    },
    {
     "name": "stderr",
     "output_type": "stream",
     "text": [
      "    125/150      3.67G     0.4695     0.3949     0.8802         37        640: 100%|██████████| 8/8 [00:11<00:00,  1.47s/it]\n",
      "                 Class     Images  Instances      Box(P          R      mAP50  mAP50-95): 100%|██████████| 1/1 [00:00<00:00,  1.31it/s]"
     ]
    },
    {
     "name": "stdout",
     "output_type": "stream",
     "text": [
      "                   all         10         31      0.918      0.437      0.614      0.513\n"
     ]
    },
    {
     "name": "stderr",
     "output_type": "stream",
     "text": [
      "\n"
     ]
    },
    {
     "name": "stdout",
     "output_type": "stream",
     "text": [
      "\n",
      "      Epoch    GPU_mem   box_loss   cls_loss   dfl_loss  Instances       Size\n"
     ]
    },
    {
     "name": "stderr",
     "output_type": "stream",
     "text": [
      "    126/150      3.65G     0.4162     0.3254     0.8528          9        640: 100%|██████████| 8/8 [00:11<00:00,  1.47s/it]\n",
      "                 Class     Images  Instances      Box(P          R      mAP50  mAP50-95): 100%|██████████| 1/1 [00:00<00:00,  1.33it/s]"
     ]
    },
    {
     "name": "stdout",
     "output_type": "stream",
     "text": [
      "                   all         10         31      0.849      0.435      0.604      0.494\n"
     ]
    },
    {
     "name": "stderr",
     "output_type": "stream",
     "text": [
      "\n"
     ]
    },
    {
     "name": "stdout",
     "output_type": "stream",
     "text": [
      "\n",
      "      Epoch    GPU_mem   box_loss   cls_loss   dfl_loss  Instances       Size\n"
     ]
    },
    {
     "name": "stderr",
     "output_type": "stream",
     "text": [
      "    127/150      3.67G      0.464     0.3409     0.9018         23        640: 100%|██████████| 8/8 [00:11<00:00,  1.46s/it]\n",
      "                 Class     Images  Instances      Box(P          R      mAP50  mAP50-95): 100%|██████████| 1/1 [00:00<00:00,  1.32it/s]"
     ]
    },
    {
     "name": "stdout",
     "output_type": "stream",
     "text": [
      "                   all         10         31      0.849      0.435      0.604      0.494\n"
     ]
    },
    {
     "name": "stderr",
     "output_type": "stream",
     "text": [
      "\n"
     ]
    },
    {
     "name": "stdout",
     "output_type": "stream",
     "text": [
      "\n",
      "      Epoch    GPU_mem   box_loss   cls_loss   dfl_loss  Instances       Size\n"
     ]
    },
    {
     "name": "stderr",
     "output_type": "stream",
     "text": [
      "    128/150      3.67G     0.4307     0.3396     0.8459         13        640: 100%|██████████| 8/8 [00:11<00:00,  1.47s/it]\n",
      "                 Class     Images  Instances      Box(P          R      mAP50  mAP50-95): 100%|██████████| 1/1 [00:00<00:00,  1.31it/s]"
     ]
    },
    {
     "name": "stdout",
     "output_type": "stream",
     "text": [
      "                   all         10         31      0.943      0.401      0.598       0.49\n"
     ]
    },
    {
     "name": "stderr",
     "output_type": "stream",
     "text": [
      "\n"
     ]
    },
    {
     "name": "stdout",
     "output_type": "stream",
     "text": [
      "\n",
      "      Epoch    GPU_mem   box_loss   cls_loss   dfl_loss  Instances       Size\n"
     ]
    },
    {
     "name": "stderr",
     "output_type": "stream",
     "text": [
      "    129/150      3.67G     0.4553     0.3409     0.8508         13        640: 100%|██████████| 8/8 [00:11<00:00,  1.47s/it]\n",
      "                 Class     Images  Instances      Box(P          R      mAP50  mAP50-95): 100%|██████████| 1/1 [00:00<00:00,  1.31it/s]"
     ]
    },
    {
     "name": "stdout",
     "output_type": "stream",
     "text": [
      "                   all         10         31      0.957        0.4       0.59      0.473\n"
     ]
    },
    {
     "name": "stderr",
     "output_type": "stream",
     "text": [
      "\n"
     ]
    },
    {
     "name": "stdout",
     "output_type": "stream",
     "text": [
      "\n",
      "      Epoch    GPU_mem   box_loss   cls_loss   dfl_loss  Instances       Size\n"
     ]
    },
    {
     "name": "stderr",
     "output_type": "stream",
     "text": [
      "    130/150      3.66G     0.3886     0.3415     0.8494         11        640: 100%|██████████| 8/8 [00:11<00:00,  1.47s/it]\n",
      "                 Class     Images  Instances      Box(P          R      mAP50  mAP50-95): 100%|██████████| 1/1 [00:00<00:00,  1.29it/s]"
     ]
    },
    {
     "name": "stdout",
     "output_type": "stream",
     "text": [
      "                   all         10         31      0.958        0.4      0.586      0.474\n"
     ]
    },
    {
     "name": "stderr",
     "output_type": "stream",
     "text": [
      "\n"
     ]
    },
    {
     "name": "stdout",
     "output_type": "stream",
     "text": [
      "\n",
      "      Epoch    GPU_mem   box_loss   cls_loss   dfl_loss  Instances       Size\n"
     ]
    },
    {
     "name": "stderr",
     "output_type": "stream",
     "text": [
      "    131/150       3.6G     0.5067     0.4025     0.9081         19        640: 100%|██████████| 8/8 [00:11<00:00,  1.46s/it]\n",
      "                 Class     Images  Instances      Box(P          R      mAP50  mAP50-95): 100%|██████████| 1/1 [00:00<00:00,  1.31it/s]"
     ]
    },
    {
     "name": "stdout",
     "output_type": "stream",
     "text": [
      "                   all         10         31      0.958        0.4      0.586      0.474\n"
     ]
    },
    {
     "name": "stderr",
     "output_type": "stream",
     "text": [
      "\n"
     ]
    },
    {
     "name": "stdout",
     "output_type": "stream",
     "text": [
      "\n",
      "      Epoch    GPU_mem   box_loss   cls_loss   dfl_loss  Instances       Size\n"
     ]
    },
    {
     "name": "stderr",
     "output_type": "stream",
     "text": [
      "    132/150      3.66G     0.4059     0.3148     0.8126         20        640: 100%|██████████| 8/8 [00:11<00:00,  1.47s/it]\n",
      "                 Class     Images  Instances      Box(P          R      mAP50  mAP50-95): 100%|██████████| 1/1 [00:00<00:00,  1.30it/s]"
     ]
    },
    {
     "name": "stdout",
     "output_type": "stream",
     "text": [
      "                   all         10         31      0.913      0.414      0.583      0.474\n"
     ]
    },
    {
     "name": "stderr",
     "output_type": "stream",
     "text": [
      "\n"
     ]
    },
    {
     "name": "stdout",
     "output_type": "stream",
     "text": [
      "\n",
      "      Epoch    GPU_mem   box_loss   cls_loss   dfl_loss  Instances       Size\n"
     ]
    },
    {
     "name": "stderr",
     "output_type": "stream",
     "text": [
      "    133/150      3.65G     0.3808     0.3038     0.8369         11        640: 100%|██████████| 8/8 [00:11<00:00,  1.47s/it]\n",
      "                 Class     Images  Instances      Box(P          R      mAP50  mAP50-95): 100%|██████████| 1/1 [00:00<00:00,  1.30it/s]"
     ]
    },
    {
     "name": "stdout",
     "output_type": "stream",
     "text": [
      "                   all         10         31      0.912      0.416      0.575      0.475\n"
     ]
    },
    {
     "name": "stderr",
     "output_type": "stream",
     "text": [
      "\n"
     ]
    },
    {
     "name": "stdout",
     "output_type": "stream",
     "text": [
      "\n",
      "      Epoch    GPU_mem   box_loss   cls_loss   dfl_loss  Instances       Size\n"
     ]
    },
    {
     "name": "stderr",
     "output_type": "stream",
     "text": [
      "    134/150      3.65G     0.3741     0.3168     0.8517         10        640: 100%|██████████| 8/8 [00:11<00:00,  1.46s/it]\n",
      "                 Class     Images  Instances      Box(P          R      mAP50  mAP50-95): 100%|██████████| 1/1 [00:00<00:00,  1.31it/s]"
     ]
    },
    {
     "name": "stdout",
     "output_type": "stream",
     "text": [
      "                   all         10         31      0.912      0.416      0.575      0.475\n"
     ]
    },
    {
     "name": "stderr",
     "output_type": "stream",
     "text": [
      "\n"
     ]
    },
    {
     "name": "stdout",
     "output_type": "stream",
     "text": [
      "\n",
      "      Epoch    GPU_mem   box_loss   cls_loss   dfl_loss  Instances       Size\n"
     ]
    },
    {
     "name": "stderr",
     "output_type": "stream",
     "text": [
      "    135/150      3.67G     0.4025      0.311     0.8392         24        640: 100%|██████████| 8/8 [00:11<00:00,  1.47s/it]\n",
      "                 Class     Images  Instances      Box(P          R      mAP50  mAP50-95): 100%|██████████| 1/1 [00:00<00:00,  1.31it/s]"
     ]
    },
    {
     "name": "stdout",
     "output_type": "stream",
     "text": [
      "                   all         10         31      0.917      0.416      0.593      0.484\n"
     ]
    },
    {
     "name": "stderr",
     "output_type": "stream",
     "text": [
      "\n"
     ]
    },
    {
     "name": "stdout",
     "output_type": "stream",
     "text": [
      "\n",
      "      Epoch    GPU_mem   box_loss   cls_loss   dfl_loss  Instances       Size\n"
     ]
    },
    {
     "name": "stderr",
     "output_type": "stream",
     "text": [
      "    136/150      3.67G      0.444     0.3385     0.8363         17        640: 100%|██████████| 8/8 [00:11<00:00,  1.47s/it]\n",
      "                 Class     Images  Instances      Box(P          R      mAP50  mAP50-95): 100%|██████████| 1/1 [00:00<00:00,  1.30it/s]"
     ]
    },
    {
     "name": "stdout",
     "output_type": "stream",
     "text": [
      "                   all         10         31      0.923      0.417      0.599      0.492\n"
     ]
    },
    {
     "name": "stderr",
     "output_type": "stream",
     "text": [
      "\n"
     ]
    },
    {
     "name": "stdout",
     "output_type": "stream",
     "text": [
      "\n",
      "      Epoch    GPU_mem   box_loss   cls_loss   dfl_loss  Instances       Size\n"
     ]
    },
    {
     "name": "stderr",
     "output_type": "stream",
     "text": [
      "    137/150      3.64G      0.383     0.3223     0.8446         13        640: 100%|██████████| 8/8 [00:11<00:00,  1.47s/it]\n",
      "                 Class     Images  Instances      Box(P          R      mAP50  mAP50-95): 100%|██████████| 1/1 [00:00<00:00,  1.29it/s]"
     ]
    },
    {
     "name": "stdout",
     "output_type": "stream",
     "text": [
      "                   all         10         31      0.926      0.417      0.592      0.492\n"
     ]
    },
    {
     "name": "stderr",
     "output_type": "stream",
     "text": [
      "\n"
     ]
    },
    {
     "name": "stdout",
     "output_type": "stream",
     "text": [
      "\n",
      "      Epoch    GPU_mem   box_loss   cls_loss   dfl_loss  Instances       Size\n"
     ]
    },
    {
     "name": "stderr",
     "output_type": "stream",
     "text": [
      "    138/150      3.67G     0.3631     0.2996     0.8264         12        640: 100%|██████████| 8/8 [00:11<00:00,  1.46s/it]\n",
      "                 Class     Images  Instances      Box(P          R      mAP50  mAP50-95): 100%|██████████| 1/1 [00:00<00:00,  1.30it/s]"
     ]
    },
    {
     "name": "stdout",
     "output_type": "stream",
     "text": [
      "                   all         10         31      0.926      0.417      0.592      0.492\n"
     ]
    },
    {
     "name": "stderr",
     "output_type": "stream",
     "text": [
      "\n"
     ]
    },
    {
     "name": "stdout",
     "output_type": "stream",
     "text": [
      "\n",
      "      Epoch    GPU_mem   box_loss   cls_loss   dfl_loss  Instances       Size\n"
     ]
    },
    {
     "name": "stderr",
     "output_type": "stream",
     "text": [
      "    139/150      3.67G     0.3694     0.2994     0.8317         15        640: 100%|██████████| 8/8 [00:11<00:00,  1.47s/it]\n",
      "                 Class     Images  Instances      Box(P          R      mAP50  mAP50-95): 100%|██████████| 1/1 [00:00<00:00,  1.27it/s]"
     ]
    },
    {
     "name": "stdout",
     "output_type": "stream",
     "text": [
      "                   all         10         31      0.926      0.418      0.596      0.495\n"
     ]
    },
    {
     "name": "stderr",
     "output_type": "stream",
     "text": [
      "\n"
     ]
    },
    {
     "name": "stdout",
     "output_type": "stream",
     "text": [
      "\n",
      "      Epoch    GPU_mem   box_loss   cls_loss   dfl_loss  Instances       Size\n"
     ]
    },
    {
     "name": "stderr",
     "output_type": "stream",
     "text": [
      "    140/150      3.67G     0.4228     0.3119     0.8512         15        640: 100%|██████████| 8/8 [00:11<00:00,  1.47s/it]\n",
      "                 Class     Images  Instances      Box(P          R      mAP50  mAP50-95): 100%|██████████| 1/1 [00:00<00:00,  1.27it/s]"
     ]
    },
    {
     "name": "stdout",
     "output_type": "stream",
     "text": [
      "                   all         10         31      0.937      0.419      0.601       0.49\n"
     ]
    },
    {
     "name": "stderr",
     "output_type": "stream",
     "text": [
      "\n"
     ]
    },
    {
     "name": "stdout",
     "output_type": "stream",
     "text": [
      "Closing dataloader mosaic\n",
      "\n",
      "      Epoch    GPU_mem   box_loss   cls_loss   dfl_loss  Instances       Size\n"
     ]
    },
    {
     "name": "stderr",
     "output_type": "stream",
     "text": [
      "    141/150      3.67G     0.3636     0.3305     0.8116         11        640: 100%|██████████| 8/8 [00:12<00:00,  1.55s/it]\n",
      "                 Class     Images  Instances      Box(P          R      mAP50  mAP50-95): 100%|██████████| 1/1 [00:00<00:00,  1.29it/s]"
     ]
    },
    {
     "name": "stdout",
     "output_type": "stream",
     "text": [
      "                   all         10         31      0.879      0.433      0.608      0.523\n"
     ]
    },
    {
     "name": "stderr",
     "output_type": "stream",
     "text": [
      "\n"
     ]
    },
    {
     "name": "stdout",
     "output_type": "stream",
     "text": [
      "\n",
      "      Epoch    GPU_mem   box_loss   cls_loss   dfl_loss  Instances       Size\n"
     ]
    },
    {
     "name": "stderr",
     "output_type": "stream",
     "text": [
      "    142/150      3.62G     0.3715     0.3004     0.8442         12        640: 100%|██████████| 8/8 [00:11<00:00,  1.46s/it]\n",
      "                 Class     Images  Instances      Box(P          R      mAP50  mAP50-95): 100%|██████████| 1/1 [00:00<00:00,  1.30it/s]"
     ]
    },
    {
     "name": "stdout",
     "output_type": "stream",
     "text": [
      "                   all         10         31      0.879      0.433      0.608      0.523\n"
     ]
    },
    {
     "name": "stderr",
     "output_type": "stream",
     "text": [
      "\n"
     ]
    },
    {
     "name": "stdout",
     "output_type": "stream",
     "text": [
      "\n",
      "      Epoch    GPU_mem   box_loss   cls_loss   dfl_loss  Instances       Size\n"
     ]
    },
    {
     "name": "stderr",
     "output_type": "stream",
     "text": [
      "    143/150      3.67G     0.3509     0.3018     0.8222          9        640: 100%|██████████| 8/8 [00:11<00:00,  1.46s/it]\n",
      "                 Class     Images  Instances      Box(P          R      mAP50  mAP50-95): 100%|██████████| 1/1 [00:00<00:00,  1.30it/s]"
     ]
    },
    {
     "name": "stdout",
     "output_type": "stream",
     "text": [
      "                   all         10         31      0.869      0.435       0.62      0.525\n"
     ]
    },
    {
     "name": "stderr",
     "output_type": "stream",
     "text": [
      "\n"
     ]
    },
    {
     "name": "stdout",
     "output_type": "stream",
     "text": [
      "\n",
      "      Epoch    GPU_mem   box_loss   cls_loss   dfl_loss  Instances       Size\n"
     ]
    },
    {
     "name": "stderr",
     "output_type": "stream",
     "text": [
      "    144/150      3.67G     0.3521     0.2636      0.823         10        640: 100%|██████████| 8/8 [00:11<00:00,  1.46s/it]\n",
      "                 Class     Images  Instances      Box(P          R      mAP50  mAP50-95): 100%|██████████| 1/1 [00:00<00:00,  1.30it/s]"
     ]
    },
    {
     "name": "stdout",
     "output_type": "stream",
     "text": [
      "                   all         10         31      0.867      0.435       0.62      0.509\n"
     ]
    },
    {
     "name": "stderr",
     "output_type": "stream",
     "text": [
      "\n"
     ]
    },
    {
     "name": "stdout",
     "output_type": "stream",
     "text": [
      "\n",
      "      Epoch    GPU_mem   box_loss   cls_loss   dfl_loss  Instances       Size\n"
     ]
    },
    {
     "name": "stderr",
     "output_type": "stream",
     "text": [
      "    145/150      3.67G     0.3354     0.2836     0.7958         17        640: 100%|██████████| 8/8 [00:11<00:00,  1.46s/it]\n",
      "                 Class     Images  Instances      Box(P          R      mAP50  mAP50-95): 100%|██████████| 1/1 [00:00<00:00,  1.30it/s]"
     ]
    },
    {
     "name": "stdout",
     "output_type": "stream",
     "text": [
      "                   all         10         31      0.867      0.435       0.62      0.509\n"
     ]
    },
    {
     "name": "stderr",
     "output_type": "stream",
     "text": [
      "\n"
     ]
    },
    {
     "name": "stdout",
     "output_type": "stream",
     "text": [
      "\n",
      "      Epoch    GPU_mem   box_loss   cls_loss   dfl_loss  Instances       Size\n"
     ]
    },
    {
     "name": "stderr",
     "output_type": "stream",
     "text": [
      "    146/150      3.66G     0.3412     0.2662     0.8048         23        640: 100%|██████████| 8/8 [00:11<00:00,  1.46s/it]\n",
      "                 Class     Images  Instances      Box(P          R      mAP50  mAP50-95): 100%|██████████| 1/1 [00:00<00:00,  1.29it/s]"
     ]
    },
    {
     "name": "stdout",
     "output_type": "stream",
     "text": [
      "                   all         10         31      0.796      0.445      0.628      0.516\n"
     ]
    },
    {
     "name": "stderr",
     "output_type": "stream",
     "text": [
      "\n"
     ]
    },
    {
     "name": "stdout",
     "output_type": "stream",
     "text": [
      "\n",
      "      Epoch    GPU_mem   box_loss   cls_loss   dfl_loss  Instances       Size\n"
     ]
    },
    {
     "name": "stderr",
     "output_type": "stream",
     "text": [
      "    147/150      3.67G       0.38     0.2829     0.8129         13        640: 100%|██████████| 8/8 [00:11<00:00,  1.46s/it]\n",
      "                 Class     Images  Instances      Box(P          R      mAP50  mAP50-95): 100%|██████████| 1/1 [00:00<00:00,  1.30it/s]"
     ]
    },
    {
     "name": "stdout",
     "output_type": "stream",
     "text": [
      "                   all         10         31      0.793      0.442      0.618      0.509\n"
     ]
    },
    {
     "name": "stderr",
     "output_type": "stream",
     "text": [
      "\n"
     ]
    },
    {
     "name": "stdout",
     "output_type": "stream",
     "text": [
      "\n",
      "      Epoch    GPU_mem   box_loss   cls_loss   dfl_loss  Instances       Size\n"
     ]
    },
    {
     "name": "stderr",
     "output_type": "stream",
     "text": [
      "    148/150      3.64G     0.3439     0.2644     0.7942         10        640: 100%|██████████| 8/8 [00:11<00:00,  1.46s/it]\n",
      "                 Class     Images  Instances      Box(P          R      mAP50  mAP50-95): 100%|██████████| 1/1 [00:00<00:00,  1.29it/s]"
     ]
    },
    {
     "name": "stdout",
     "output_type": "stream",
     "text": [
      "                   all         10         31       0.78      0.446      0.613      0.502\n"
     ]
    },
    {
     "name": "stderr",
     "output_type": "stream",
     "text": [
      "\n"
     ]
    },
    {
     "name": "stdout",
     "output_type": "stream",
     "text": [
      "\n",
      "      Epoch    GPU_mem   box_loss   cls_loss   dfl_loss  Instances       Size\n"
     ]
    },
    {
     "name": "stderr",
     "output_type": "stream",
     "text": [
      "    149/150      3.68G     0.3292     0.2526     0.8225         10        640: 100%|██████████| 8/8 [00:11<00:00,  1.46s/it]\n",
      "                 Class     Images  Instances      Box(P          R      mAP50  mAP50-95): 100%|██████████| 1/1 [00:00<00:00,  1.30it/s]"
     ]
    },
    {
     "name": "stdout",
     "output_type": "stream",
     "text": [
      "                   all         10         31       0.78      0.446      0.613      0.502\n"
     ]
    },
    {
     "name": "stderr",
     "output_type": "stream",
     "text": [
      "\n"
     ]
    },
    {
     "name": "stdout",
     "output_type": "stream",
     "text": [
      "\n",
      "      Epoch    GPU_mem   box_loss   cls_loss   dfl_loss  Instances       Size\n"
     ]
    },
    {
     "name": "stderr",
     "output_type": "stream",
     "text": [
      "    150/150      3.68G     0.3143      0.247     0.7878         10        640: 100%|██████████| 8/8 [00:11<00:00,  1.46s/it]\n",
      "                 Class     Images  Instances      Box(P          R      mAP50  mAP50-95): 100%|██████████| 1/1 [00:00<00:00,  1.30it/s]"
     ]
    },
    {
     "name": "stdout",
     "output_type": "stream",
     "text": [
      "                   all         10         31      0.714      0.454      0.621      0.508\n"
     ]
    },
    {
     "name": "stderr",
     "output_type": "stream",
     "text": [
      "\n"
     ]
    },
    {
     "name": "stdout",
     "output_type": "stream",
     "text": [
      "\n",
      "150 epochs completed in 0.485 hours.\n",
      "Optimizer stripped from runs/detect/train5/weights/last.pt, 40.5MB\n",
      "Optimizer stripped from runs/detect/train5/weights/best.pt, 40.5MB\n",
      "\n",
      "Validating runs/detect/train5/weights/best.pt...\n",
      "Ultralytics 8.3.29 🚀 Python-3.11.5 torch-2.3.1 CUDA:0 (NVIDIA GeForce RTX 3050 Laptop GPU, 3797MiB)\n",
      "YOLO11m summary (fused): 303 layers, 20,031,574 parameters, 0 gradients\n"
     ]
    },
    {
     "name": "stderr",
     "output_type": "stream",
     "text": [
      "                 Class     Images  Instances      Box(P          R      mAP50  mAP50-95): 100%|██████████| 1/1 [00:00<00:00,  1.42it/s]\n"
     ]
    },
    {
     "name": "stdout",
     "output_type": "stream",
     "text": [
      "                   all         10         31      0.837      0.421      0.687      0.558\n",
      "                Unripe          9         27          1      0.342       0.76      0.596\n",
      "                  Ripe          3          4      0.674        0.5      0.615      0.519\n",
      "Speed: 0.4ms preprocess, 67.2ms inference, 0.0ms loss, 0.6ms postprocess per image\n",
      "Results saved to \u001b[1mruns/detect/train5\u001b[0m\n"
     ]
    }
   ],
   "source": [
    "results_medium = model_medium.train(data=\"YOLOv8Lemons/data.yaml\", epochs=150,batch=6)"
   ]
  },
  {
   "cell_type": "code",
   "execution_count": 2,
   "metadata": {},
   "outputs": [],
   "source": [
    "model_small = YOLO(model=\"yolo11s.pt\")"
   ]
  },
  {
   "cell_type": "code",
   "execution_count": 3,
   "metadata": {},
   "outputs": [
    {
     "name": "stdout",
     "output_type": "stream",
     "text": [
      "Ultralytics 8.3.29 🚀 Python-3.11.5 torch-2.3.1 CUDA:0 (NVIDIA GeForce RTX 3050 Laptop GPU, 3797MiB)\n",
      "\u001b[34m\u001b[1mengine/trainer: \u001b[0mtask=detect, mode=train, model=yolo11s.pt, data=YOLOv8Lemons/data.yaml, epochs=150, time=None, patience=100, batch=12, imgsz=640, save=True, save_period=-1, cache=False, device=None, workers=8, project=None, name=train7, exist_ok=False, pretrained=True, optimizer=auto, verbose=True, seed=0, deterministic=True, single_cls=False, rect=False, cos_lr=False, close_mosaic=10, resume=False, amp=True, fraction=1.0, profile=False, freeze=None, multi_scale=False, overlap_mask=True, mask_ratio=4, dropout=0.0, val=True, split=val, save_json=False, save_hybrid=False, conf=None, iou=0.7, max_det=300, half=False, dnn=False, plots=True, source=None, vid_stride=1, stream_buffer=False, visualize=False, augment=False, agnostic_nms=False, classes=None, retina_masks=False, embed=None, show=False, save_frames=False, save_txt=False, save_conf=False, save_crop=False, show_labels=True, show_conf=True, show_boxes=True, line_width=None, format=torchscript, keras=False, optimize=False, int8=False, dynamic=False, simplify=True, opset=None, workspace=4, nms=False, lr0=0.01, lrf=0.01, momentum=0.937, weight_decay=0.0005, warmup_epochs=3.0, warmup_momentum=0.8, warmup_bias_lr=0.1, box=7.5, cls=0.5, dfl=1.5, pose=12.0, kobj=1.0, label_smoothing=0.0, nbs=64, hsv_h=0.015, hsv_s=0.7, hsv_v=0.4, degrees=0.0, translate=0.1, scale=0.5, shear=0.0, perspective=0.0, flipud=0.0, fliplr=0.5, bgr=0.0, mosaic=1.0, mixup=0.0, copy_paste=0.0, copy_paste_mode=flip, auto_augment=randaugment, erasing=0.4, crop_fraction=1.0, cfg=None, tracker=botsort.yaml, save_dir=runs/detect/train7\n",
      "Overriding model.yaml nc=80 with nc=2\n",
      "\n",
      "                   from  n    params  module                                       arguments                     \n",
      "  0                  -1  1       928  ultralytics.nn.modules.conv.Conv             [3, 32, 3, 2]                 \n",
      "  1                  -1  1     18560  ultralytics.nn.modules.conv.Conv             [32, 64, 3, 2]                \n",
      "  2                  -1  1     26080  ultralytics.nn.modules.block.C3k2            [64, 128, 1, False, 0.25]     \n",
      "  3                  -1  1    147712  ultralytics.nn.modules.conv.Conv             [128, 128, 3, 2]              \n",
      "  4                  -1  1    103360  ultralytics.nn.modules.block.C3k2            [128, 256, 1, False, 0.25]    \n",
      "  5                  -1  1    590336  ultralytics.nn.modules.conv.Conv             [256, 256, 3, 2]              \n",
      "  6                  -1  1    346112  ultralytics.nn.modules.block.C3k2            [256, 256, 1, True]           \n",
      "  7                  -1  1   1180672  ultralytics.nn.modules.conv.Conv             [256, 512, 3, 2]              \n",
      "  8                  -1  1   1380352  ultralytics.nn.modules.block.C3k2            [512, 512, 1, True]           \n",
      "  9                  -1  1    656896  ultralytics.nn.modules.block.SPPF            [512, 512, 5]                 \n",
      " 10                  -1  1    990976  ultralytics.nn.modules.block.C2PSA           [512, 512, 1]                 \n",
      " 11                  -1  1         0  torch.nn.modules.upsampling.Upsample         [None, 2, 'nearest']          \n",
      " 12             [-1, 6]  1         0  ultralytics.nn.modules.conv.Concat           [1]                           \n",
      " 13                  -1  1    443776  ultralytics.nn.modules.block.C3k2            [768, 256, 1, False]          \n",
      " 14                  -1  1         0  torch.nn.modules.upsampling.Upsample         [None, 2, 'nearest']          \n",
      " 15             [-1, 4]  1         0  ultralytics.nn.modules.conv.Concat           [1]                           \n",
      " 16                  -1  1    127680  ultralytics.nn.modules.block.C3k2            [512, 128, 1, False]          \n",
      " 17                  -1  1    147712  ultralytics.nn.modules.conv.Conv             [128, 128, 3, 2]              \n",
      " 18            [-1, 13]  1         0  ultralytics.nn.modules.conv.Concat           [1]                           \n",
      " 19                  -1  1    345472  ultralytics.nn.modules.block.C3k2            [384, 256, 1, False]          \n",
      " 20                  -1  1    590336  ultralytics.nn.modules.conv.Conv             [256, 256, 3, 2]              \n",
      " 21            [-1, 10]  1         0  ultralytics.nn.modules.conv.Concat           [1]                           \n",
      " 22                  -1  1   1511424  ultralytics.nn.modules.block.C3k2            [768, 512, 1, True]           \n",
      " 23        [16, 19, 22]  1    820182  ultralytics.nn.modules.head.Detect           [2, [128, 256, 512]]          \n",
      "YOLO11s summary: 319 layers, 9,428,566 parameters, 9,428,550 gradients\n",
      "\n",
      "Transferred 493/499 items from pretrained weights\n",
      "\u001b[34m\u001b[1mTensorBoard: \u001b[0mStart with 'tensorboard --logdir runs/detect/train7', view at http://localhost:6006/\n",
      "Freezing layer 'model.23.dfl.conv.weight'\n",
      "\u001b[34m\u001b[1mAMP: \u001b[0mrunning Automatic Mixed Precision (AMP) checks...\n",
      "\u001b[34m\u001b[1mAMP: \u001b[0mchecks passed ✅\n"
     ]
    },
    {
     "name": "stderr",
     "output_type": "stream",
     "text": [
      "\u001b[34m\u001b[1mtrain: \u001b[0mScanning /storage/Programming/PyTorch/LemonDetection/YOLOv8Lemons/data/labels/Train.cache... 47 images, 0 backgrounds, 0 corrupt: 100%|██████████| 47/47 [00:00<?, ?it/s]\n",
      "\u001b[34m\u001b[1mval: \u001b[0mScanning /storage/Programming/PyTorch/LemonDetection/YOLOv8Lemons/data/labels/Validation.cache... 10 images, 0 backgrounds, 0 corrupt: 100%|██████████| 10/10 [00:00<?, ?it/s]\n"
     ]
    },
    {
     "name": "stdout",
     "output_type": "stream",
     "text": [
      "Plotting labels to runs/detect/train7/labels.jpg... \n",
      "\u001b[34m\u001b[1moptimizer:\u001b[0m 'optimizer=auto' found, ignoring 'lr0=0.01' and 'momentum=0.937' and determining best 'optimizer', 'lr0' and 'momentum' automatically... \n",
      "\u001b[34m\u001b[1moptimizer:\u001b[0m AdamW(lr=0.001667, momentum=0.9) with parameter groups 81 weight(decay=0.0), 88 weight(decay=0.00046875), 87 bias(decay=0.0)\n",
      "\u001b[34m\u001b[1mTensorBoard: \u001b[0mmodel graph visualization added ✅\n",
      "Image sizes 640 train, 640 val\n",
      "Using 8 dataloader workers\n",
      "Logging results to \u001b[1mruns/detect/train7\u001b[0m\n",
      "Starting training for 150 epochs...\n",
      "\n",
      "      Epoch    GPU_mem   box_loss   cls_loss   dfl_loss  Instances       Size\n"
     ]
    },
    {
     "name": "stderr",
     "output_type": "stream",
     "text": [
      "      1/150      3.48G     0.9407      4.683      1.241         41        640: 100%|██████████| 4/4 [00:01<00:00,  2.49it/s]\n",
      "                 Class     Images  Instances      Box(P          R      mAP50  mAP50-95): 100%|██████████| 1/1 [00:00<00:00,  4.45it/s]"
     ]
    },
    {
     "name": "stdout",
     "output_type": "stream",
     "text": [
      "                   all         10         31      0.778      0.204      0.216      0.159\n"
     ]
    },
    {
     "name": "stderr",
     "output_type": "stream",
     "text": [
      "\n"
     ]
    },
    {
     "name": "stdout",
     "output_type": "stream",
     "text": [
      "\n",
      "      Epoch    GPU_mem   box_loss   cls_loss   dfl_loss  Instances       Size\n"
     ]
    },
    {
     "name": "stderr",
     "output_type": "stream",
     "text": [
      "      2/150      3.44G     0.9381      4.743      1.262         54        640: 100%|██████████| 4/4 [00:01<00:00,  3.44it/s]\n",
      "                 Class     Images  Instances      Box(P          R      mAP50  mAP50-95): 100%|██████████| 1/1 [00:00<00:00,  6.52it/s]"
     ]
    },
    {
     "name": "stdout",
     "output_type": "stream",
     "text": [
      "                   all         10         31      0.519      0.344      0.312      0.249\n"
     ]
    },
    {
     "name": "stderr",
     "output_type": "stream",
     "text": [
      "\n"
     ]
    },
    {
     "name": "stdout",
     "output_type": "stream",
     "text": [
      "\n",
      "      Epoch    GPU_mem   box_loss   cls_loss   dfl_loss  Instances       Size\n"
     ]
    },
    {
     "name": "stderr",
     "output_type": "stream",
     "text": [
      "      3/150      3.46G      0.777      3.088      1.012         37        640: 100%|██████████| 4/4 [00:01<00:00,  3.46it/s]\n",
      "                 Class     Images  Instances      Box(P          R      mAP50  mAP50-95): 100%|██████████| 1/1 [00:00<00:00,  6.42it/s]"
     ]
    },
    {
     "name": "stdout",
     "output_type": "stream",
     "text": [
      "                   all         10         31      0.428      0.676       0.49      0.357\n"
     ]
    },
    {
     "name": "stderr",
     "output_type": "stream",
     "text": [
      "\n"
     ]
    },
    {
     "name": "stdout",
     "output_type": "stream",
     "text": [
      "\n",
      "      Epoch    GPU_mem   box_loss   cls_loss   dfl_loss  Instances       Size\n"
     ]
    },
    {
     "name": "stderr",
     "output_type": "stream",
     "text": [
      "      4/150      3.47G     0.8927      2.332      1.054         56        640: 100%|██████████| 4/4 [00:01<00:00,  3.52it/s]\n",
      "                 Class     Images  Instances      Box(P          R      mAP50  mAP50-95): 100%|██████████| 1/1 [00:00<00:00,  7.67it/s]"
     ]
    },
    {
     "name": "stdout",
     "output_type": "stream",
     "text": [
      "                   all         10         31      0.826      0.461      0.578      0.436\n"
     ]
    },
    {
     "name": "stderr",
     "output_type": "stream",
     "text": [
      "\n"
     ]
    },
    {
     "name": "stdout",
     "output_type": "stream",
     "text": [
      "\n",
      "      Epoch    GPU_mem   box_loss   cls_loss   dfl_loss  Instances       Size\n"
     ]
    },
    {
     "name": "stderr",
     "output_type": "stream",
     "text": [
      "      5/150      3.47G      0.732      1.712      0.973         46        640: 100%|██████████| 4/4 [00:01<00:00,  3.53it/s]\n",
      "                 Class     Images  Instances      Box(P          R      mAP50  mAP50-95): 100%|██████████| 1/1 [00:00<00:00,  8.44it/s]"
     ]
    },
    {
     "name": "stdout",
     "output_type": "stream",
     "text": [
      "                   all         10         31      0.551      0.418      0.443      0.317\n"
     ]
    },
    {
     "name": "stderr",
     "output_type": "stream",
     "text": [
      "\n"
     ]
    },
    {
     "name": "stdout",
     "output_type": "stream",
     "text": [
      "\n",
      "      Epoch    GPU_mem   box_loss   cls_loss   dfl_loss  Instances       Size\n"
     ]
    },
    {
     "name": "stderr",
     "output_type": "stream",
     "text": [
      "      6/150      3.46G     0.8655      1.835      1.023         31        640: 100%|██████████| 4/4 [00:01<00:00,  3.50it/s]\n",
      "                 Class     Images  Instances      Box(P          R      mAP50  mAP50-95): 100%|██████████| 1/1 [00:00<00:00,  8.85it/s]"
     ]
    },
    {
     "name": "stdout",
     "output_type": "stream",
     "text": [
      "                   all         10         31      0.372      0.185      0.209       0.18\n"
     ]
    },
    {
     "name": "stderr",
     "output_type": "stream",
     "text": [
      "\n"
     ]
    },
    {
     "name": "stdout",
     "output_type": "stream",
     "text": [
      "\n",
      "      Epoch    GPU_mem   box_loss   cls_loss   dfl_loss  Instances       Size\n"
     ]
    },
    {
     "name": "stderr",
     "output_type": "stream",
     "text": [
      "      7/150      3.47G     0.9145      1.683      1.005         39        640: 100%|██████████| 4/4 [00:01<00:00,  3.50it/s]\n",
      "                 Class     Images  Instances      Box(P          R      mAP50  mAP50-95): 100%|██████████| 1/1 [00:00<00:00,  8.67it/s]"
     ]
    },
    {
     "name": "stdout",
     "output_type": "stream",
     "text": [
      "                   all         10         31      0.911      0.144      0.152      0.135\n"
     ]
    },
    {
     "name": "stderr",
     "output_type": "stream",
     "text": [
      "\n"
     ]
    },
    {
     "name": "stdout",
     "output_type": "stream",
     "text": [
      "\n",
      "      Epoch    GPU_mem   box_loss   cls_loss   dfl_loss  Instances       Size\n"
     ]
    },
    {
     "name": "stderr",
     "output_type": "stream",
     "text": [
      "      8/150      3.46G     0.8468       1.37      1.012         42        640: 100%|██████████| 4/4 [00:01<00:00,  3.49it/s]\n",
      "                 Class     Images  Instances      Box(P          R      mAP50  mAP50-95): 100%|██████████| 1/1 [00:00<00:00,  8.67it/s]"
     ]
    },
    {
     "name": "stdout",
     "output_type": "stream",
     "text": [
      "                   all         10         31      0.551      0.144      0.165      0.128\n"
     ]
    },
    {
     "name": "stderr",
     "output_type": "stream",
     "text": [
      "\n"
     ]
    },
    {
     "name": "stdout",
     "output_type": "stream",
     "text": [
      "\n",
      "      Epoch    GPU_mem   box_loss   cls_loss   dfl_loss  Instances       Size\n"
     ]
    },
    {
     "name": "stderr",
     "output_type": "stream",
     "text": [
      "      9/150      3.47G      0.817      1.447     0.9776         39        640: 100%|██████████| 4/4 [00:01<00:00,  3.55it/s]\n",
      "                 Class     Images  Instances      Box(P          R      mAP50  mAP50-95): 100%|██████████| 1/1 [00:00<00:00,  8.87it/s]"
     ]
    },
    {
     "name": "stdout",
     "output_type": "stream",
     "text": [
      "                   all         10         31      0.242       0.25      0.232      0.191\n"
     ]
    },
    {
     "name": "stderr",
     "output_type": "stream",
     "text": [
      "\n"
     ]
    },
    {
     "name": "stdout",
     "output_type": "stream",
     "text": [
      "\n",
      "      Epoch    GPU_mem   box_loss   cls_loss   dfl_loss  Instances       Size\n"
     ]
    },
    {
     "name": "stderr",
     "output_type": "stream",
     "text": [
      "     10/150       3.5G     0.7855      1.267     0.9547         26        640: 100%|██████████| 4/4 [00:01<00:00,  3.50it/s]\n",
      "                 Class     Images  Instances      Box(P          R      mAP50  mAP50-95): 100%|██████████| 1/1 [00:00<00:00,  9.46it/s]"
     ]
    },
    {
     "name": "stdout",
     "output_type": "stream",
     "text": [
      "                   all         10         31      0.585      0.283      0.294      0.232\n"
     ]
    },
    {
     "name": "stderr",
     "output_type": "stream",
     "text": [
      "\n"
     ]
    },
    {
     "name": "stdout",
     "output_type": "stream",
     "text": [
      "\n",
      "      Epoch    GPU_mem   box_loss   cls_loss   dfl_loss  Instances       Size\n"
     ]
    },
    {
     "name": "stderr",
     "output_type": "stream",
     "text": [
      "     11/150      3.46G     0.7649      1.161     0.9918         39        640: 100%|██████████| 4/4 [00:01<00:00,  3.54it/s]\n",
      "                 Class     Images  Instances      Box(P          R      mAP50  mAP50-95): 100%|██████████| 1/1 [00:00<00:00,  9.61it/s]"
     ]
    },
    {
     "name": "stdout",
     "output_type": "stream",
     "text": [
      "                   all         10         31      0.767      0.324      0.316      0.249\n"
     ]
    },
    {
     "name": "stderr",
     "output_type": "stream",
     "text": [
      "\n"
     ]
    },
    {
     "name": "stdout",
     "output_type": "stream",
     "text": [
      "\n",
      "      Epoch    GPU_mem   box_loss   cls_loss   dfl_loss  Instances       Size\n"
     ]
    },
    {
     "name": "stderr",
     "output_type": "stream",
     "text": [
      "     12/150       3.5G     0.6834     0.9957     0.9197         34        640: 100%|██████████| 4/4 [00:01<00:00,  3.53it/s]\n",
      "                 Class     Images  Instances      Box(P          R      mAP50  mAP50-95): 100%|██████████| 1/1 [00:00<00:00, 10.13it/s]"
     ]
    },
    {
     "name": "stdout",
     "output_type": "stream",
     "text": [
      "                   all         10         31      0.675      0.355      0.371      0.287\n"
     ]
    },
    {
     "name": "stderr",
     "output_type": "stream",
     "text": [
      "\n"
     ]
    },
    {
     "name": "stdout",
     "output_type": "stream",
     "text": [
      "\n",
      "      Epoch    GPU_mem   box_loss   cls_loss   dfl_loss  Instances       Size\n"
     ]
    },
    {
     "name": "stderr",
     "output_type": "stream",
     "text": [
      "     13/150       3.5G     0.7372     0.9797     0.9169         36        640: 100%|██████████| 4/4 [00:01<00:00,  3.47it/s]\n",
      "                 Class     Images  Instances      Box(P          R      mAP50  mAP50-95): 100%|██████████| 1/1 [00:00<00:00, 10.71it/s]"
     ]
    },
    {
     "name": "stdout",
     "output_type": "stream",
     "text": [
      "                   all         10         31      0.709       0.37        0.4      0.326\n"
     ]
    },
    {
     "name": "stderr",
     "output_type": "stream",
     "text": [
      "\n"
     ]
    },
    {
     "name": "stdout",
     "output_type": "stream",
     "text": [
      "\n",
      "      Epoch    GPU_mem   box_loss   cls_loss   dfl_loss  Instances       Size\n"
     ]
    },
    {
     "name": "stderr",
     "output_type": "stream",
     "text": [
      "     14/150      3.46G     0.7802     0.9489     0.9662         34        640: 100%|██████████| 4/4 [00:01<00:00,  3.51it/s]\n",
      "                 Class     Images  Instances      Box(P          R      mAP50  mAP50-95): 100%|██████████| 1/1 [00:00<00:00, 10.57it/s]"
     ]
    },
    {
     "name": "stdout",
     "output_type": "stream",
     "text": [
      "                   all         10         31      0.763      0.343       0.38      0.302\n"
     ]
    },
    {
     "name": "stderr",
     "output_type": "stream",
     "text": [
      "\n"
     ]
    },
    {
     "name": "stdout",
     "output_type": "stream",
     "text": [
      "\n",
      "      Epoch    GPU_mem   box_loss   cls_loss   dfl_loss  Instances       Size\n"
     ]
    },
    {
     "name": "stderr",
     "output_type": "stream",
     "text": [
      "     15/150      3.51G     0.7557      0.807     0.9521         37        640: 100%|██████████| 4/4 [00:01<00:00,  3.52it/s]\n",
      "                 Class     Images  Instances      Box(P          R      mAP50  mAP50-95): 100%|██████████| 1/1 [00:00<00:00, 10.78it/s]"
     ]
    },
    {
     "name": "stdout",
     "output_type": "stream",
     "text": [
      "                   all         10         31      0.628      0.372      0.448      0.356\n"
     ]
    },
    {
     "name": "stderr",
     "output_type": "stream",
     "text": [
      "\n"
     ]
    },
    {
     "name": "stdout",
     "output_type": "stream",
     "text": [
      "\n",
      "      Epoch    GPU_mem   box_loss   cls_loss   dfl_loss  Instances       Size\n"
     ]
    },
    {
     "name": "stderr",
     "output_type": "stream",
     "text": [
      "     16/150       3.5G     0.6909     0.8747     0.8989         28        640: 100%|██████████| 4/4 [00:01<00:00,  3.50it/s]\n",
      "                 Class     Images  Instances      Box(P          R      mAP50  mAP50-95): 100%|██████████| 1/1 [00:00<00:00, 11.44it/s]"
     ]
    },
    {
     "name": "stdout",
     "output_type": "stream",
     "text": [
      "                   all         10         31       0.81       0.46      0.481      0.388\n"
     ]
    },
    {
     "name": "stderr",
     "output_type": "stream",
     "text": [
      "\n"
     ]
    },
    {
     "name": "stdout",
     "output_type": "stream",
     "text": [
      "\n",
      "      Epoch    GPU_mem   box_loss   cls_loss   dfl_loss  Instances       Size\n"
     ]
    },
    {
     "name": "stderr",
     "output_type": "stream",
     "text": [
      "     17/150      3.47G     0.7907     0.8952     0.9413         25        640: 100%|██████████| 4/4 [00:01<00:00,  3.49it/s]\n",
      "                 Class     Images  Instances      Box(P          R      mAP50  mAP50-95): 100%|██████████| 1/1 [00:00<00:00, 11.63it/s]"
     ]
    },
    {
     "name": "stdout",
     "output_type": "stream",
     "text": [
      "                   all         10         31      0.631      0.222       0.36      0.293\n"
     ]
    },
    {
     "name": "stderr",
     "output_type": "stream",
     "text": [
      "\n"
     ]
    },
    {
     "name": "stdout",
     "output_type": "stream",
     "text": [
      "\n",
      "      Epoch    GPU_mem   box_loss   cls_loss   dfl_loss  Instances       Size\n"
     ]
    },
    {
     "name": "stderr",
     "output_type": "stream",
     "text": [
      "     18/150       3.5G     0.6734     0.7568      0.906         33        640: 100%|██████████| 4/4 [00:01<00:00,  3.47it/s]\n",
      "                 Class     Images  Instances      Box(P          R      mAP50  mAP50-95): 100%|██████████| 1/1 [00:00<00:00, 11.41it/s]"
     ]
    },
    {
     "name": "stdout",
     "output_type": "stream",
     "text": [
      "                   all         10         31      0.594      0.498      0.347      0.263\n"
     ]
    },
    {
     "name": "stderr",
     "output_type": "stream",
     "text": [
      "\n"
     ]
    },
    {
     "name": "stdout",
     "output_type": "stream",
     "text": [
      "\n",
      "      Epoch    GPU_mem   box_loss   cls_loss   dfl_loss  Instances       Size\n"
     ]
    },
    {
     "name": "stderr",
     "output_type": "stream",
     "text": [
      "     19/150       3.5G     0.7163     0.7042      0.923         46        640: 100%|██████████| 4/4 [00:01<00:00,  3.48it/s]\n",
      "                 Class     Images  Instances      Box(P          R      mAP50  mAP50-95): 100%|██████████| 1/1 [00:00<00:00, 11.54it/s]"
     ]
    },
    {
     "name": "stdout",
     "output_type": "stream",
     "text": [
      "                   all         10         31      0.688      0.435      0.428       0.32\n"
     ]
    },
    {
     "name": "stderr",
     "output_type": "stream",
     "text": [
      "\n"
     ]
    },
    {
     "name": "stdout",
     "output_type": "stream",
     "text": [
      "\n",
      "      Epoch    GPU_mem   box_loss   cls_loss   dfl_loss  Instances       Size\n"
     ]
    },
    {
     "name": "stderr",
     "output_type": "stream",
     "text": [
      "     20/150      3.47G     0.7804     0.7385     0.9355         32        640: 100%|██████████| 4/4 [00:01<00:00,  3.46it/s]\n",
      "                 Class     Images  Instances      Box(P          R      mAP50  mAP50-95): 100%|██████████| 1/1 [00:00<00:00, 11.75it/s]"
     ]
    },
    {
     "name": "stdout",
     "output_type": "stream",
     "text": [
      "                   all         10         31       0.43      0.435        0.4      0.315\n"
     ]
    },
    {
     "name": "stderr",
     "output_type": "stream",
     "text": [
      "\n"
     ]
    },
    {
     "name": "stdout",
     "output_type": "stream",
     "text": [
      "\n",
      "      Epoch    GPU_mem   box_loss   cls_loss   dfl_loss  Instances       Size\n"
     ]
    },
    {
     "name": "stderr",
     "output_type": "stream",
     "text": [
      "     21/150       3.5G     0.6743     0.6954     0.9243         32        640: 100%|██████████| 4/4 [00:01<00:00,  3.45it/s]\n",
      "                 Class     Images  Instances      Box(P          R      mAP50  mAP50-95): 100%|██████████| 1/1 [00:00<00:00, 11.78it/s]"
     ]
    },
    {
     "name": "stdout",
     "output_type": "stream",
     "text": [
      "                   all         10         31      0.905      0.379      0.472      0.379\n"
     ]
    },
    {
     "name": "stderr",
     "output_type": "stream",
     "text": [
      "\n"
     ]
    },
    {
     "name": "stdout",
     "output_type": "stream",
     "text": [
      "\n",
      "      Epoch    GPU_mem   box_loss   cls_loss   dfl_loss  Instances       Size\n"
     ]
    },
    {
     "name": "stderr",
     "output_type": "stream",
     "text": [
      "     22/150       3.5G     0.7332     0.7226     0.9538         51        640: 100%|██████████| 4/4 [00:01<00:00,  3.43it/s]\n",
      "                 Class     Images  Instances      Box(P          R      mAP50  mAP50-95): 100%|██████████| 1/1 [00:00<00:00, 12.08it/s]"
     ]
    },
    {
     "name": "stdout",
     "output_type": "stream",
     "text": [
      "                   all         10         31        0.5      0.398      0.327      0.264\n"
     ]
    },
    {
     "name": "stderr",
     "output_type": "stream",
     "text": [
      "\n"
     ]
    },
    {
     "name": "stdout",
     "output_type": "stream",
     "text": [
      "\n",
      "      Epoch    GPU_mem   box_loss   cls_loss   dfl_loss  Instances       Size\n"
     ]
    },
    {
     "name": "stderr",
     "output_type": "stream",
     "text": [
      "     23/150      3.46G      0.705      0.674      0.905         26        640: 100%|██████████| 4/4 [00:01<00:00,  3.47it/s]\n",
      "                 Class     Images  Instances      Box(P          R      mAP50  mAP50-95): 100%|██████████| 1/1 [00:00<00:00, 11.67it/s]"
     ]
    },
    {
     "name": "stdout",
     "output_type": "stream",
     "text": [
      "                   all         10         31        0.5      0.398      0.327      0.264\n"
     ]
    },
    {
     "name": "stderr",
     "output_type": "stream",
     "text": [
      "\n"
     ]
    },
    {
     "name": "stdout",
     "output_type": "stream",
     "text": [
      "\n",
      "      Epoch    GPU_mem   box_loss   cls_loss   dfl_loss  Instances       Size\n"
     ]
    },
    {
     "name": "stderr",
     "output_type": "stream",
     "text": [
      "     24/150       3.5G     0.7563     0.6917     0.9616         26        640: 100%|██████████| 4/4 [00:01<00:00,  3.44it/s]\n",
      "                 Class     Images  Instances      Box(P          R      mAP50  mAP50-95): 100%|██████████| 1/1 [00:00<00:00, 11.53it/s]"
     ]
    },
    {
     "name": "stdout",
     "output_type": "stream",
     "text": [
      "                   all         10         31      0.504      0.454      0.516      0.407\n"
     ]
    },
    {
     "name": "stderr",
     "output_type": "stream",
     "text": [
      "\n"
     ]
    },
    {
     "name": "stdout",
     "output_type": "stream",
     "text": [
      "\n",
      "      Epoch    GPU_mem   box_loss   cls_loss   dfl_loss  Instances       Size\n"
     ]
    },
    {
     "name": "stderr",
     "output_type": "stream",
     "text": [
      "     25/150      3.49G     0.7393      0.677     0.9212         43        640: 100%|██████████| 4/4 [00:01<00:00,  3.41it/s]\n",
      "                 Class     Images  Instances      Box(P          R      mAP50  mAP50-95): 100%|██████████| 1/1 [00:00<00:00, 11.25it/s]"
     ]
    },
    {
     "name": "stdout",
     "output_type": "stream",
     "text": [
      "                   all         10         31      0.764      0.462       0.54       0.42\n"
     ]
    },
    {
     "name": "stderr",
     "output_type": "stream",
     "text": [
      "\n"
     ]
    },
    {
     "name": "stdout",
     "output_type": "stream",
     "text": [
      "\n",
      "      Epoch    GPU_mem   box_loss   cls_loss   dfl_loss  Instances       Size\n"
     ]
    },
    {
     "name": "stderr",
     "output_type": "stream",
     "text": [
      "     26/150      3.49G      0.731     0.7299     0.9545         28        640: 100%|██████████| 4/4 [00:01<00:00,  3.42it/s]\n",
      "                 Class     Images  Instances      Box(P          R      mAP50  mAP50-95): 100%|██████████| 1/1 [00:00<00:00, 11.32it/s]"
     ]
    },
    {
     "name": "stdout",
     "output_type": "stream",
     "text": [
      "                   all         10         31      0.892      0.472      0.557      0.413\n"
     ]
    },
    {
     "name": "stderr",
     "output_type": "stream",
     "text": [
      "\n"
     ]
    },
    {
     "name": "stdout",
     "output_type": "stream",
     "text": [
      "\n",
      "      Epoch    GPU_mem   box_loss   cls_loss   dfl_loss  Instances       Size\n"
     ]
    },
    {
     "name": "stderr",
     "output_type": "stream",
     "text": [
      "     27/150       3.5G     0.7567     0.7533     0.9456         27        640: 100%|██████████| 4/4 [00:01<00:00,  3.38it/s]\n",
      "                 Class     Images  Instances      Box(P          R      mAP50  mAP50-95): 100%|██████████| 1/1 [00:00<00:00, 11.51it/s]"
     ]
    },
    {
     "name": "stdout",
     "output_type": "stream",
     "text": [
      "                   all         10         31      0.793       0.35      0.563       0.42\n"
     ]
    },
    {
     "name": "stderr",
     "output_type": "stream",
     "text": [
      "\n"
     ]
    },
    {
     "name": "stdout",
     "output_type": "stream",
     "text": [
      "\n",
      "      Epoch    GPU_mem   box_loss   cls_loss   dfl_loss  Instances       Size\n"
     ]
    },
    {
     "name": "stderr",
     "output_type": "stream",
     "text": [
      "     28/150      3.46G     0.7619      0.756     0.9412         35        640: 100%|██████████| 4/4 [00:01<00:00,  3.42it/s]\n",
      "                 Class     Images  Instances      Box(P          R      mAP50  mAP50-95): 100%|██████████| 1/1 [00:00<00:00, 11.13it/s]"
     ]
    },
    {
     "name": "stdout",
     "output_type": "stream",
     "text": [
      "                   all         10         31      0.793       0.35      0.563       0.42\n"
     ]
    },
    {
     "name": "stderr",
     "output_type": "stream",
     "text": [
      "\n"
     ]
    },
    {
     "name": "stdout",
     "output_type": "stream",
     "text": [
      "\n",
      "      Epoch    GPU_mem   box_loss   cls_loss   dfl_loss  Instances       Size\n"
     ]
    },
    {
     "name": "stderr",
     "output_type": "stream",
     "text": [
      "     29/150      3.39G     0.7841     0.7364     0.9585         34        640: 100%|██████████| 4/4 [00:01<00:00,  3.39it/s]\n",
      "                 Class     Images  Instances      Box(P          R      mAP50  mAP50-95): 100%|██████████| 1/1 [00:00<00:00, 11.14it/s]"
     ]
    },
    {
     "name": "stdout",
     "output_type": "stream",
     "text": [
      "                   all         10         31      0.669      0.516      0.561      0.427\n"
     ]
    },
    {
     "name": "stderr",
     "output_type": "stream",
     "text": [
      "\n"
     ]
    },
    {
     "name": "stdout",
     "output_type": "stream",
     "text": [
      "\n",
      "      Epoch    GPU_mem   box_loss   cls_loss   dfl_loss  Instances       Size\n"
     ]
    },
    {
     "name": "stderr",
     "output_type": "stream",
     "text": [
      "     30/150      3.39G      0.734     0.7006     0.9637         30        640: 100%|██████████| 4/4 [00:01<00:00,  3.41it/s]\n",
      "                 Class     Images  Instances      Box(P          R      mAP50  mAP50-95): 100%|██████████| 1/1 [00:00<00:00, 11.35it/s]"
     ]
    },
    {
     "name": "stdout",
     "output_type": "stream",
     "text": [
      "                   all         10         31      0.821      0.443      0.564      0.427\n"
     ]
    },
    {
     "name": "stderr",
     "output_type": "stream",
     "text": [
      "\n"
     ]
    },
    {
     "name": "stdout",
     "output_type": "stream",
     "text": [
      "\n",
      "      Epoch    GPU_mem   box_loss   cls_loss   dfl_loss  Instances       Size\n"
     ]
    },
    {
     "name": "stderr",
     "output_type": "stream",
     "text": [
      "     31/150      3.47G     0.6866     0.6817     0.9154         55        640: 100%|██████████| 4/4 [00:01<00:00,  3.39it/s]\n",
      "                 Class     Images  Instances      Box(P          R      mAP50  mAP50-95): 100%|██████████| 1/1 [00:00<00:00, 11.45it/s]"
     ]
    },
    {
     "name": "stdout",
     "output_type": "stream",
     "text": [
      "                   all         10         31       0.67      0.525      0.578      0.455\n"
     ]
    },
    {
     "name": "stderr",
     "output_type": "stream",
     "text": [
      "\n"
     ]
    },
    {
     "name": "stdout",
     "output_type": "stream",
     "text": [
      "\n",
      "      Epoch    GPU_mem   box_loss   cls_loss   dfl_loss  Instances       Size\n"
     ]
    },
    {
     "name": "stderr",
     "output_type": "stream",
     "text": [
      "     32/150       3.5G      0.666     0.6314     0.8895         42        640: 100%|██████████| 4/4 [00:01<00:00,  3.37it/s]\n",
      "                 Class     Images  Instances      Box(P          R      mAP50  mAP50-95): 100%|██████████| 1/1 [00:00<00:00, 11.62it/s]"
     ]
    },
    {
     "name": "stdout",
     "output_type": "stream",
     "text": [
      "                   all         10         31      0.411      0.509      0.556      0.434\n"
     ]
    },
    {
     "name": "stderr",
     "output_type": "stream",
     "text": [
      "\n"
     ]
    },
    {
     "name": "stdout",
     "output_type": "stream",
     "text": [
      "\n",
      "      Epoch    GPU_mem   box_loss   cls_loss   dfl_loss  Instances       Size\n"
     ]
    },
    {
     "name": "stderr",
     "output_type": "stream",
     "text": [
      "     33/150      3.46G      0.717     0.7077     0.9477         45        640: 100%|██████████| 4/4 [00:01<00:00,  3.40it/s]\n",
      "                 Class     Images  Instances      Box(P          R      mAP50  mAP50-95): 100%|██████████| 1/1 [00:00<00:00, 11.32it/s]"
     ]
    },
    {
     "name": "stdout",
     "output_type": "stream",
     "text": [
      "                   all         10         31      0.411      0.509      0.556      0.434\n"
     ]
    },
    {
     "name": "stderr",
     "output_type": "stream",
     "text": [
      "\n"
     ]
    },
    {
     "name": "stdout",
     "output_type": "stream",
     "text": [
      "\n",
      "      Epoch    GPU_mem   box_loss   cls_loss   dfl_loss  Instances       Size\n"
     ]
    },
    {
     "name": "stderr",
     "output_type": "stream",
     "text": [
      "     34/150      3.51G     0.7295     0.6683     0.9177         43        640: 100%|██████████| 4/4 [00:01<00:00,  3.36it/s]\n",
      "                 Class     Images  Instances      Box(P          R      mAP50  mAP50-95): 100%|██████████| 1/1 [00:00<00:00, 11.29it/s]"
     ]
    },
    {
     "name": "stdout",
     "output_type": "stream",
     "text": [
      "                   all         10         31       0.23      0.491      0.468      0.381\n"
     ]
    },
    {
     "name": "stderr",
     "output_type": "stream",
     "text": [
      "\n"
     ]
    },
    {
     "name": "stdout",
     "output_type": "stream",
     "text": [
      "\n",
      "      Epoch    GPU_mem   box_loss   cls_loss   dfl_loss  Instances       Size\n"
     ]
    },
    {
     "name": "stderr",
     "output_type": "stream",
     "text": [
      "     35/150      3.48G     0.7045      0.595     0.9192         62        640: 100%|██████████| 4/4 [00:01<00:00,  3.35it/s]\n",
      "                 Class     Images  Instances      Box(P          R      mAP50  mAP50-95): 100%|██████████| 1/1 [00:00<00:00, 11.26it/s]"
     ]
    },
    {
     "name": "stdout",
     "output_type": "stream",
     "text": [
      "                   all         10         31      0.287      0.438       0.39      0.298\n"
     ]
    },
    {
     "name": "stderr",
     "output_type": "stream",
     "text": [
      "\n"
     ]
    },
    {
     "name": "stdout",
     "output_type": "stream",
     "text": [
      "\n",
      "      Epoch    GPU_mem   box_loss   cls_loss   dfl_loss  Instances       Size\n"
     ]
    },
    {
     "name": "stderr",
     "output_type": "stream",
     "text": [
      "     36/150      3.47G     0.6652     0.6467     0.9158         53        640: 100%|██████████| 4/4 [00:01<00:00,  3.35it/s]\n",
      "                 Class     Images  Instances      Box(P          R      mAP50  mAP50-95): 100%|██████████| 1/1 [00:00<00:00, 11.20it/s]"
     ]
    },
    {
     "name": "stdout",
     "output_type": "stream",
     "text": [
      "                   all         10         31      0.311      0.417       0.42      0.321\n"
     ]
    },
    {
     "name": "stderr",
     "output_type": "stream",
     "text": [
      "\n"
     ]
    },
    {
     "name": "stdout",
     "output_type": "stream",
     "text": [
      "\n",
      "      Epoch    GPU_mem   box_loss   cls_loss   dfl_loss  Instances       Size\n"
     ]
    },
    {
     "name": "stderr",
     "output_type": "stream",
     "text": [
      "     37/150       3.5G     0.6767     0.6035     0.9153         33        640: 100%|██████████| 4/4 [00:01<00:00,  3.35it/s]\n",
      "                 Class     Images  Instances      Box(P          R      mAP50  mAP50-95): 100%|██████████| 1/1 [00:00<00:00, 11.43it/s]"
     ]
    },
    {
     "name": "stdout",
     "output_type": "stream",
     "text": [
      "                   all         10         31       0.25      0.343      0.375      0.274\n"
     ]
    },
    {
     "name": "stderr",
     "output_type": "stream",
     "text": [
      "\n"
     ]
    },
    {
     "name": "stdout",
     "output_type": "stream",
     "text": [
      "\n",
      "      Epoch    GPU_mem   box_loss   cls_loss   dfl_loss  Instances       Size\n"
     ]
    },
    {
     "name": "stderr",
     "output_type": "stream",
     "text": [
      "     38/150      3.48G     0.7185     0.6418     0.9353         36        640: 100%|██████████| 4/4 [00:01<00:00,  3.37it/s]\n",
      "                 Class     Images  Instances      Box(P          R      mAP50  mAP50-95): 100%|██████████| 1/1 [00:00<00:00, 11.13it/s]"
     ]
    },
    {
     "name": "stdout",
     "output_type": "stream",
     "text": [
      "                   all         10         31       0.25      0.343      0.375      0.274\n"
     ]
    },
    {
     "name": "stderr",
     "output_type": "stream",
     "text": [
      "\n"
     ]
    },
    {
     "name": "stdout",
     "output_type": "stream",
     "text": [
      "\n",
      "      Epoch    GPU_mem   box_loss   cls_loss   dfl_loss  Instances       Size\n"
     ]
    },
    {
     "name": "stderr",
     "output_type": "stream",
     "text": [
      "     39/150       3.5G     0.6772     0.5967     0.8906         42        640: 100%|██████████| 4/4 [00:01<00:00,  3.34it/s]\n",
      "                 Class     Images  Instances      Box(P          R      mAP50  mAP50-95): 100%|██████████| 1/1 [00:00<00:00, 11.13it/s]"
     ]
    },
    {
     "name": "stdout",
     "output_type": "stream",
     "text": [
      "                   all         10         31      0.657       0.25      0.238      0.189\n"
     ]
    },
    {
     "name": "stderr",
     "output_type": "stream",
     "text": [
      "\n"
     ]
    },
    {
     "name": "stdout",
     "output_type": "stream",
     "text": [
      "\n",
      "      Epoch    GPU_mem   box_loss   cls_loss   dfl_loss  Instances       Size\n"
     ]
    },
    {
     "name": "stderr",
     "output_type": "stream",
     "text": [
      "     40/150      3.49G     0.6242      0.579     0.8989         30        640: 100%|██████████| 4/4 [00:01<00:00,  3.34it/s]\n",
      "                 Class     Images  Instances      Box(P          R      mAP50  mAP50-95): 100%|██████████| 1/1 [00:00<00:00, 11.05it/s]"
     ]
    },
    {
     "name": "stdout",
     "output_type": "stream",
     "text": [
      "                   all         10         31      0.654       0.25      0.233      0.174\n"
     ]
    },
    {
     "name": "stderr",
     "output_type": "stream",
     "text": [
      "\n"
     ]
    },
    {
     "name": "stdout",
     "output_type": "stream",
     "text": [
      "\n",
      "      Epoch    GPU_mem   box_loss   cls_loss   dfl_loss  Instances       Size\n"
     ]
    },
    {
     "name": "stderr",
     "output_type": "stream",
     "text": [
      "     41/150      3.47G      0.686     0.5798     0.9078         28        640: 100%|██████████| 4/4 [00:01<00:00,  3.33it/s]\n",
      "                 Class     Images  Instances      Box(P          R      mAP50  mAP50-95): 100%|██████████| 1/1 [00:00<00:00, 11.27it/s]"
     ]
    },
    {
     "name": "stdout",
     "output_type": "stream",
     "text": [
      "                   all         10         31      0.826      0.239      0.282      0.196\n"
     ]
    },
    {
     "name": "stderr",
     "output_type": "stream",
     "text": [
      "\n"
     ]
    },
    {
     "name": "stdout",
     "output_type": "stream",
     "text": [
      "\n",
      "      Epoch    GPU_mem   box_loss   cls_loss   dfl_loss  Instances       Size\n"
     ]
    },
    {
     "name": "stderr",
     "output_type": "stream",
     "text": [
      "     42/150       3.5G     0.6927     0.5521      0.923         39        640: 100%|██████████| 4/4 [00:01<00:00,  3.33it/s]\n",
      "                 Class     Images  Instances      Box(P          R      mAP50  mAP50-95): 100%|██████████| 1/1 [00:00<00:00, 11.78it/s]"
     ]
    },
    {
     "name": "stdout",
     "output_type": "stream",
     "text": [
      "                   all         10         31      0.474      0.467      0.401      0.296\n"
     ]
    },
    {
     "name": "stderr",
     "output_type": "stream",
     "text": [
      "\n"
     ]
    },
    {
     "name": "stdout",
     "output_type": "stream",
     "text": [
      "\n",
      "      Epoch    GPU_mem   box_loss   cls_loss   dfl_loss  Instances       Size\n"
     ]
    },
    {
     "name": "stderr",
     "output_type": "stream",
     "text": [
      "     43/150      3.46G      0.639     0.5002     0.9366         34        640: 100%|██████████| 4/4 [00:01<00:00,  3.37it/s]\n",
      "                 Class     Images  Instances      Box(P          R      mAP50  mAP50-95): 100%|██████████| 1/1 [00:00<00:00, 11.32it/s]"
     ]
    },
    {
     "name": "stdout",
     "output_type": "stream",
     "text": [
      "                   all         10         31      0.474      0.467      0.401      0.296\n"
     ]
    },
    {
     "name": "stderr",
     "output_type": "stream",
     "text": [
      "\n"
     ]
    },
    {
     "name": "stdout",
     "output_type": "stream",
     "text": [
      "\n",
      "      Epoch    GPU_mem   box_loss   cls_loss   dfl_loss  Instances       Size\n"
     ]
    },
    {
     "name": "stderr",
     "output_type": "stream",
     "text": [
      "     44/150       3.5G     0.7228     0.5383     0.9463         49        640: 100%|██████████| 4/4 [00:01<00:00,  3.33it/s]\n",
      "                 Class     Images  Instances      Box(P          R      mAP50  mAP50-95): 100%|██████████| 1/1 [00:00<00:00, 11.23it/s]"
     ]
    },
    {
     "name": "stdout",
     "output_type": "stream",
     "text": [
      "                   all         10         31      0.387      0.549       0.49      0.365\n"
     ]
    },
    {
     "name": "stderr",
     "output_type": "stream",
     "text": [
      "\n"
     ]
    },
    {
     "name": "stdout",
     "output_type": "stream",
     "text": [
      "\n",
      "      Epoch    GPU_mem   box_loss   cls_loss   dfl_loss  Instances       Size\n"
     ]
    },
    {
     "name": "stderr",
     "output_type": "stream",
     "text": [
      "     45/150       3.4G     0.6798      0.513     0.8924         51        640: 100%|██████████| 4/4 [00:01<00:00,  3.31it/s]\n",
      "                 Class     Images  Instances      Box(P          R      mAP50  mAP50-95): 100%|██████████| 1/1 [00:00<00:00, 10.99it/s]"
     ]
    },
    {
     "name": "stdout",
     "output_type": "stream",
     "text": [
      "                   all         10         31      0.529      0.505      0.466      0.354\n"
     ]
    },
    {
     "name": "stderr",
     "output_type": "stream",
     "text": [
      "\n"
     ]
    },
    {
     "name": "stdout",
     "output_type": "stream",
     "text": [
      "\n",
      "      Epoch    GPU_mem   box_loss   cls_loss   dfl_loss  Instances       Size\n"
     ]
    },
    {
     "name": "stderr",
     "output_type": "stream",
     "text": [
      "     46/150      3.49G     0.6363     0.5358     0.9139         46        640: 100%|██████████| 4/4 [00:01<00:00,  3.31it/s]\n",
      "                 Class     Images  Instances      Box(P          R      mAP50  mAP50-95): 100%|██████████| 1/1 [00:00<00:00, 11.38it/s]"
     ]
    },
    {
     "name": "stdout",
     "output_type": "stream",
     "text": [
      "                   all         10         31      0.741      0.418      0.464      0.339\n"
     ]
    },
    {
     "name": "stderr",
     "output_type": "stream",
     "text": [
      "\n"
     ]
    },
    {
     "name": "stdout",
     "output_type": "stream",
     "text": [
      "\n",
      "      Epoch    GPU_mem   box_loss   cls_loss   dfl_loss  Instances       Size\n"
     ]
    },
    {
     "name": "stderr",
     "output_type": "stream",
     "text": [
      "     47/150      3.47G     0.7147     0.5921     0.9383         27        640: 100%|██████████| 4/4 [00:01<00:00,  3.29it/s]\n",
      "                 Class     Images  Instances      Box(P          R      mAP50  mAP50-95): 100%|██████████| 1/1 [00:00<00:00, 11.42it/s]"
     ]
    },
    {
     "name": "stdout",
     "output_type": "stream",
     "text": [
      "                   all         10         31      0.614      0.449       0.44       0.35\n"
     ]
    },
    {
     "name": "stderr",
     "output_type": "stream",
     "text": [
      "\n"
     ]
    },
    {
     "name": "stdout",
     "output_type": "stream",
     "text": [
      "\n",
      "      Epoch    GPU_mem   box_loss   cls_loss   dfl_loss  Instances       Size\n"
     ]
    },
    {
     "name": "stderr",
     "output_type": "stream",
     "text": [
      "     48/150      3.48G     0.6254      0.494     0.9041         37        640: 100%|██████████| 4/4 [00:01<00:00,  3.33it/s]\n",
      "                 Class     Images  Instances      Box(P          R      mAP50  mAP50-95): 100%|██████████| 1/1 [00:00<00:00, 11.36it/s]"
     ]
    },
    {
     "name": "stdout",
     "output_type": "stream",
     "text": [
      "                   all         10         31      0.614      0.449       0.44       0.35\n"
     ]
    },
    {
     "name": "stderr",
     "output_type": "stream",
     "text": [
      "\n"
     ]
    },
    {
     "name": "stdout",
     "output_type": "stream",
     "text": [
      "\n",
      "      Epoch    GPU_mem   box_loss   cls_loss   dfl_loss  Instances       Size\n"
     ]
    },
    {
     "name": "stderr",
     "output_type": "stream",
     "text": [
      "     49/150      3.48G     0.6412     0.5425     0.9139         39        640: 100%|██████████| 4/4 [00:01<00:00,  3.30it/s]\n",
      "                 Class     Images  Instances      Box(P          R      mAP50  mAP50-95): 100%|██████████| 1/1 [00:00<00:00, 11.22it/s]"
     ]
    },
    {
     "name": "stdout",
     "output_type": "stream",
     "text": [
      "                   all         10         31      0.657      0.449      0.527      0.427\n"
     ]
    },
    {
     "name": "stderr",
     "output_type": "stream",
     "text": [
      "\n"
     ]
    },
    {
     "name": "stdout",
     "output_type": "stream",
     "text": [
      "\n",
      "      Epoch    GPU_mem   box_loss   cls_loss   dfl_loss  Instances       Size\n"
     ]
    },
    {
     "name": "stderr",
     "output_type": "stream",
     "text": [
      "     50/150      3.47G     0.6973     0.6081     0.9205         28        640: 100%|██████████| 4/4 [00:01<00:00,  3.30it/s]\n",
      "                 Class     Images  Instances      Box(P          R      mAP50  mAP50-95): 100%|██████████| 1/1 [00:00<00:00, 11.41it/s]"
     ]
    },
    {
     "name": "stdout",
     "output_type": "stream",
     "text": [
      "                   all         10         31       0.88      0.287      0.331      0.285\n"
     ]
    },
    {
     "name": "stderr",
     "output_type": "stream",
     "text": [
      "\n"
     ]
    },
    {
     "name": "stdout",
     "output_type": "stream",
     "text": [
      "\n",
      "      Epoch    GPU_mem   box_loss   cls_loss   dfl_loss  Instances       Size\n"
     ]
    },
    {
     "name": "stderr",
     "output_type": "stream",
     "text": [
      "     51/150      3.47G     0.6817     0.5396     0.9102         44        640: 100%|██████████| 4/4 [00:01<00:00,  3.29it/s]\n",
      "                 Class     Images  Instances      Box(P          R      mAP50  mAP50-95): 100%|██████████| 1/1 [00:00<00:00, 11.29it/s]"
     ]
    },
    {
     "name": "stdout",
     "output_type": "stream",
     "text": [
      "                   all         10         31      0.967       0.25      0.293       0.25\n"
     ]
    },
    {
     "name": "stderr",
     "output_type": "stream",
     "text": [
      "\n"
     ]
    },
    {
     "name": "stdout",
     "output_type": "stream",
     "text": [
      "\n",
      "      Epoch    GPU_mem   box_loss   cls_loss   dfl_loss  Instances       Size\n"
     ]
    },
    {
     "name": "stderr",
     "output_type": "stream",
     "text": [
      "     52/150       3.5G     0.6053     0.4944     0.9114         27        640: 100%|██████████| 4/4 [00:01<00:00,  3.29it/s]\n",
      "                 Class     Images  Instances      Box(P          R      mAP50  mAP50-95): 100%|██████████| 1/1 [00:00<00:00, 11.68it/s]"
     ]
    },
    {
     "name": "stdout",
     "output_type": "stream",
     "text": [
      "                   all         10         31      0.975       0.25      0.261       0.22\n"
     ]
    },
    {
     "name": "stderr",
     "output_type": "stream",
     "text": [
      "\n"
     ]
    },
    {
     "name": "stdout",
     "output_type": "stream",
     "text": [
      "\n",
      "      Epoch    GPU_mem   box_loss   cls_loss   dfl_loss  Instances       Size\n"
     ]
    },
    {
     "name": "stderr",
     "output_type": "stream",
     "text": [
      "     53/150      3.48G     0.6411     0.5627     0.8858         69        640: 100%|██████████| 4/4 [00:01<00:00,  3.32it/s]\n",
      "                 Class     Images  Instances      Box(P          R      mAP50  mAP50-95): 100%|██████████| 1/1 [00:00<00:00, 11.34it/s]"
     ]
    },
    {
     "name": "stdout",
     "output_type": "stream",
     "text": [
      "                   all         10         31      0.975       0.25      0.261       0.22\n"
     ]
    },
    {
     "name": "stderr",
     "output_type": "stream",
     "text": [
      "\n"
     ]
    },
    {
     "name": "stdout",
     "output_type": "stream",
     "text": [
      "\n",
      "      Epoch    GPU_mem   box_loss   cls_loss   dfl_loss  Instances       Size\n"
     ]
    },
    {
     "name": "stderr",
     "output_type": "stream",
     "text": [
      "     54/150      3.39G      0.634     0.5382     0.8972         46        640: 100%|██████████| 4/4 [00:01<00:00,  3.30it/s]\n",
      "                 Class     Images  Instances      Box(P          R      mAP50  mAP50-95): 100%|██████████| 1/1 [00:00<00:00, 11.34it/s]"
     ]
    },
    {
     "name": "stdout",
     "output_type": "stream",
     "text": [
      "                   all         10         31      0.825      0.287      0.414      0.328\n"
     ]
    },
    {
     "name": "stderr",
     "output_type": "stream",
     "text": [
      "\n"
     ]
    },
    {
     "name": "stdout",
     "output_type": "stream",
     "text": [
      "\n",
      "      Epoch    GPU_mem   box_loss   cls_loss   dfl_loss  Instances       Size\n"
     ]
    },
    {
     "name": "stderr",
     "output_type": "stream",
     "text": [
      "     55/150      3.49G     0.5934     0.4677     0.8709         35        640: 100%|██████████| 4/4 [00:01<00:00,  3.28it/s]\n",
      "                 Class     Images  Instances      Box(P          R      mAP50  mAP50-95): 100%|██████████| 1/1 [00:00<00:00, 11.49it/s]"
     ]
    },
    {
     "name": "stdout",
     "output_type": "stream",
     "text": [
      "                   all         10         31      0.763      0.329      0.443      0.362\n"
     ]
    },
    {
     "name": "stderr",
     "output_type": "stream",
     "text": [
      "\n"
     ]
    },
    {
     "name": "stdout",
     "output_type": "stream",
     "text": [
      "\n",
      "      Epoch    GPU_mem   box_loss   cls_loss   dfl_loss  Instances       Size\n"
     ]
    },
    {
     "name": "stderr",
     "output_type": "stream",
     "text": [
      "     56/150      3.47G     0.5396      0.446      0.861         38        640: 100%|██████████| 4/4 [00:01<00:00,  3.28it/s]\n",
      "                 Class     Images  Instances      Box(P          R      mAP50  mAP50-95): 100%|██████████| 1/1 [00:00<00:00, 11.21it/s]"
     ]
    },
    {
     "name": "stdout",
     "output_type": "stream",
     "text": [
      "                   all         10         31      0.903       0.38      0.473      0.335\n"
     ]
    },
    {
     "name": "stderr",
     "output_type": "stream",
     "text": [
      "\n"
     ]
    },
    {
     "name": "stdout",
     "output_type": "stream",
     "text": [
      "\n",
      "      Epoch    GPU_mem   box_loss   cls_loss   dfl_loss  Instances       Size\n"
     ]
    },
    {
     "name": "stderr",
     "output_type": "stream",
     "text": [
      "     57/150       3.5G     0.6555     0.4834     0.8942         56        640: 100%|██████████| 4/4 [00:01<00:00,  3.27it/s]\n",
      "                 Class     Images  Instances      Box(P          R      mAP50  mAP50-95): 100%|██████████| 1/1 [00:00<00:00, 11.57it/s]"
     ]
    },
    {
     "name": "stdout",
     "output_type": "stream",
     "text": [
      "                   all         10         31      0.834      0.398      0.513      0.358\n"
     ]
    },
    {
     "name": "stderr",
     "output_type": "stream",
     "text": [
      "\n"
     ]
    },
    {
     "name": "stdout",
     "output_type": "stream",
     "text": [
      "\n",
      "      Epoch    GPU_mem   box_loss   cls_loss   dfl_loss  Instances       Size\n"
     ]
    },
    {
     "name": "stderr",
     "output_type": "stream",
     "text": [
      "     58/150      3.48G     0.6083     0.4938     0.8698         39        640: 100%|██████████| 4/4 [00:01<00:00,  3.31it/s]\n",
      "                 Class     Images  Instances      Box(P          R      mAP50  mAP50-95): 100%|██████████| 1/1 [00:00<00:00, 11.24it/s]"
     ]
    },
    {
     "name": "stdout",
     "output_type": "stream",
     "text": [
      "                   all         10         31      0.834      0.398      0.513      0.358\n"
     ]
    },
    {
     "name": "stderr",
     "output_type": "stream",
     "text": [
      "\n"
     ]
    },
    {
     "name": "stdout",
     "output_type": "stream",
     "text": [
      "\n",
      "      Epoch    GPU_mem   box_loss   cls_loss   dfl_loss  Instances       Size\n"
     ]
    },
    {
     "name": "stderr",
     "output_type": "stream",
     "text": [
      "     59/150       3.5G     0.6096     0.4898     0.9013         37        640: 100%|██████████| 4/4 [00:01<00:00,  3.28it/s]\n",
      "                 Class     Images  Instances      Box(P          R      mAP50  mAP50-95): 100%|██████████| 1/1 [00:00<00:00, 11.01it/s]"
     ]
    },
    {
     "name": "stdout",
     "output_type": "stream",
     "text": [
      "                   all         10         31      0.833      0.447      0.575      0.431\n"
     ]
    },
    {
     "name": "stderr",
     "output_type": "stream",
     "text": [
      "\n"
     ]
    },
    {
     "name": "stdout",
     "output_type": "stream",
     "text": [
      "\n",
      "      Epoch    GPU_mem   box_loss   cls_loss   dfl_loss  Instances       Size\n"
     ]
    },
    {
     "name": "stderr",
     "output_type": "stream",
     "text": [
      "     60/150       3.5G      0.562     0.4691     0.8729         28        640: 100%|██████████| 4/4 [00:01<00:00,  3.26it/s]\n",
      "                 Class     Images  Instances      Box(P          R      mAP50  mAP50-95): 100%|██████████| 1/1 [00:00<00:00, 10.74it/s]"
     ]
    },
    {
     "name": "stdout",
     "output_type": "stream",
     "text": [
      "                   all         10         31      0.801      0.463      0.582      0.448\n"
     ]
    },
    {
     "name": "stderr",
     "output_type": "stream",
     "text": [
      "\n"
     ]
    },
    {
     "name": "stdout",
     "output_type": "stream",
     "text": [
      "\n",
      "      Epoch    GPU_mem   box_loss   cls_loss   dfl_loss  Instances       Size\n"
     ]
    },
    {
     "name": "stderr",
     "output_type": "stream",
     "text": [
      "     61/150      3.47G     0.5976     0.5004     0.8928         38        640: 100%|██████████| 4/4 [00:01<00:00,  3.28it/s]\n",
      "                 Class     Images  Instances      Box(P          R      mAP50  mAP50-95): 100%|██████████| 1/1 [00:00<00:00, 11.16it/s]"
     ]
    },
    {
     "name": "stdout",
     "output_type": "stream",
     "text": [
      "                   all         10         31      0.695      0.491      0.546      0.428\n"
     ]
    },
    {
     "name": "stderr",
     "output_type": "stream",
     "text": [
      "\n"
     ]
    },
    {
     "name": "stdout",
     "output_type": "stream",
     "text": [
      "\n",
      "      Epoch    GPU_mem   box_loss   cls_loss   dfl_loss  Instances       Size\n"
     ]
    },
    {
     "name": "stderr",
     "output_type": "stream",
     "text": [
      "     62/150       3.5G      0.566     0.4641     0.8799         47        640: 100%|██████████| 4/4 [00:01<00:00,  3.25it/s]\n",
      "                 Class     Images  Instances      Box(P          R      mAP50  mAP50-95): 100%|██████████| 1/1 [00:00<00:00, 11.46it/s]"
     ]
    },
    {
     "name": "stdout",
     "output_type": "stream",
     "text": [
      "                   all         10         31       0.65      0.565       0.54      0.447\n"
     ]
    },
    {
     "name": "stderr",
     "output_type": "stream",
     "text": [
      "\n"
     ]
    },
    {
     "name": "stdout",
     "output_type": "stream",
     "text": [
      "\n",
      "      Epoch    GPU_mem   box_loss   cls_loss   dfl_loss  Instances       Size\n"
     ]
    },
    {
     "name": "stderr",
     "output_type": "stream",
     "text": [
      "     63/150      3.48G     0.5666     0.4467     0.8851         43        640: 100%|██████████| 4/4 [00:01<00:00,  3.29it/s]\n",
      "                 Class     Images  Instances      Box(P          R      mAP50  mAP50-95): 100%|██████████| 1/1 [00:00<00:00, 10.99it/s]"
     ]
    },
    {
     "name": "stdout",
     "output_type": "stream",
     "text": [
      "                   all         10         31       0.65      0.565       0.54      0.447\n"
     ]
    },
    {
     "name": "stderr",
     "output_type": "stream",
     "text": [
      "\n"
     ]
    },
    {
     "name": "stdout",
     "output_type": "stream",
     "text": [
      "\n",
      "      Epoch    GPU_mem   box_loss   cls_loss   dfl_loss  Instances       Size\n"
     ]
    },
    {
     "name": "stderr",
     "output_type": "stream",
     "text": [
      "     64/150      3.51G     0.6214     0.5288     0.8982         50        640: 100%|██████████| 4/4 [00:01<00:00,  3.24it/s]\n",
      "                 Class     Images  Instances      Box(P          R      mAP50  mAP50-95): 100%|██████████| 1/1 [00:00<00:00, 11.00it/s]"
     ]
    },
    {
     "name": "stdout",
     "output_type": "stream",
     "text": [
      "                   all         10         31      0.747      0.504      0.531      0.446\n"
     ]
    },
    {
     "name": "stderr",
     "output_type": "stream",
     "text": [
      "\n"
     ]
    },
    {
     "name": "stdout",
     "output_type": "stream",
     "text": [
      "\n",
      "      Epoch    GPU_mem   box_loss   cls_loss   dfl_loss  Instances       Size\n"
     ]
    },
    {
     "name": "stderr",
     "output_type": "stream",
     "text": [
      "     65/150       3.5G     0.5964     0.4516     0.9029         31        640: 100%|██████████| 4/4 [00:01<00:00,  3.26it/s]\n",
      "                 Class     Images  Instances      Box(P          R      mAP50  mAP50-95): 100%|██████████| 1/1 [00:00<00:00, 11.26it/s]"
     ]
    },
    {
     "name": "stdout",
     "output_type": "stream",
     "text": [
      "                   all         10         31      0.657      0.528      0.525      0.439\n"
     ]
    },
    {
     "name": "stderr",
     "output_type": "stream",
     "text": [
      "\n"
     ]
    },
    {
     "name": "stdout",
     "output_type": "stream",
     "text": [
      "\n",
      "      Epoch    GPU_mem   box_loss   cls_loss   dfl_loss  Instances       Size\n"
     ]
    },
    {
     "name": "stderr",
     "output_type": "stream",
     "text": [
      "     66/150      3.51G     0.5344     0.4264     0.8465         42        640: 100%|██████████| 4/4 [00:01<00:00,  2.71it/s]\n",
      "                 Class     Images  Instances      Box(P          R      mAP50  mAP50-95): 100%|██████████| 1/1 [00:00<00:00,  8.97it/s]"
     ]
    },
    {
     "name": "stdout",
     "output_type": "stream",
     "text": [
      "                   all         10         31       0.65      0.491      0.532      0.428\n"
     ]
    },
    {
     "name": "stderr",
     "output_type": "stream",
     "text": [
      "\n"
     ]
    },
    {
     "name": "stdout",
     "output_type": "stream",
     "text": [
      "\n",
      "      Epoch    GPU_mem   box_loss   cls_loss   dfl_loss  Instances       Size\n"
     ]
    },
    {
     "name": "stderr",
     "output_type": "stream",
     "text": [
      "     67/150       3.5G     0.5374     0.4234     0.8773         32        640: 100%|██████████| 4/4 [00:01<00:00,  3.04it/s]\n",
      "                 Class     Images  Instances      Box(P          R      mAP50  mAP50-95): 100%|██████████| 1/1 [00:00<00:00, 10.24it/s]"
     ]
    },
    {
     "name": "stdout",
     "output_type": "stream",
     "text": [
      "                   all         10         31       0.78      0.483      0.573      0.419\n"
     ]
    },
    {
     "name": "stderr",
     "output_type": "stream",
     "text": [
      "\n"
     ]
    },
    {
     "name": "stdout",
     "output_type": "stream",
     "text": [
      "\n",
      "      Epoch    GPU_mem   box_loss   cls_loss   dfl_loss  Instances       Size\n"
     ]
    },
    {
     "name": "stderr",
     "output_type": "stream",
     "text": [
      "     68/150      3.48G     0.5646     0.4513     0.8733         30        640: 100%|██████████| 4/4 [00:01<00:00,  2.91it/s]\n",
      "                 Class     Images  Instances      Box(P          R      mAP50  mAP50-95): 100%|██████████| 1/1 [00:00<00:00,  9.83it/s]"
     ]
    },
    {
     "name": "stdout",
     "output_type": "stream",
     "text": [
      "                   all         10         31       0.78      0.483      0.573      0.419\n"
     ]
    },
    {
     "name": "stderr",
     "output_type": "stream",
     "text": [
      "\n"
     ]
    },
    {
     "name": "stdout",
     "output_type": "stream",
     "text": [
      "\n",
      "      Epoch    GPU_mem   box_loss   cls_loss   dfl_loss  Instances       Size\n"
     ]
    },
    {
     "name": "stderr",
     "output_type": "stream",
     "text": [
      "     69/150      3.47G     0.5509     0.4281     0.8606         39        640: 100%|██████████| 4/4 [00:01<00:00,  2.87it/s]\n",
      "                 Class     Images  Instances      Box(P          R      mAP50  mAP50-95): 100%|██████████| 1/1 [00:00<00:00,  9.71it/s]"
     ]
    },
    {
     "name": "stdout",
     "output_type": "stream",
     "text": [
      "                   all         10         31      0.686      0.559      0.605      0.427\n"
     ]
    },
    {
     "name": "stderr",
     "output_type": "stream",
     "text": [
      "\n"
     ]
    },
    {
     "name": "stdout",
     "output_type": "stream",
     "text": [
      "\n",
      "      Epoch    GPU_mem   box_loss   cls_loss   dfl_loss  Instances       Size\n"
     ]
    },
    {
     "name": "stderr",
     "output_type": "stream",
     "text": [
      "     70/150      3.47G       0.53     0.4278     0.8584         39        640: 100%|██████████| 4/4 [00:01<00:00,  2.73it/s]\n",
      "                 Class     Images  Instances      Box(P          R      mAP50  mAP50-95): 100%|██████████| 1/1 [00:00<00:00,  8.58it/s]"
     ]
    },
    {
     "name": "stdout",
     "output_type": "stream",
     "text": [
      "                   all         10         31      0.638      0.546      0.593      0.428\n"
     ]
    },
    {
     "name": "stderr",
     "output_type": "stream",
     "text": [
      "\n"
     ]
    },
    {
     "name": "stdout",
     "output_type": "stream",
     "text": [
      "\n",
      "      Epoch    GPU_mem   box_loss   cls_loss   dfl_loss  Instances       Size\n"
     ]
    },
    {
     "name": "stderr",
     "output_type": "stream",
     "text": [
      "     71/150       3.4G     0.5105       0.44     0.8812         29        640: 100%|██████████| 4/4 [00:01<00:00,  2.95it/s]\n",
      "                 Class     Images  Instances      Box(P          R      mAP50  mAP50-95): 100%|██████████| 1/1 [00:00<00:00,  9.43it/s]"
     ]
    },
    {
     "name": "stdout",
     "output_type": "stream",
     "text": [
      "                   all         10         31      0.584      0.558      0.589      0.426\n"
     ]
    },
    {
     "name": "stderr",
     "output_type": "stream",
     "text": [
      "\n"
     ]
    },
    {
     "name": "stdout",
     "output_type": "stream",
     "text": [
      "\n",
      "      Epoch    GPU_mem   box_loss   cls_loss   dfl_loss  Instances       Size\n"
     ]
    },
    {
     "name": "stderr",
     "output_type": "stream",
     "text": [
      "     72/150       3.5G     0.4938     0.4219     0.8593         46        640: 100%|██████████| 4/4 [00:01<00:00,  2.79it/s]\n",
      "                 Class     Images  Instances      Box(P          R      mAP50  mAP50-95): 100%|██████████| 1/1 [00:00<00:00,  9.62it/s]"
     ]
    },
    {
     "name": "stdout",
     "output_type": "stream",
     "text": [
      "                   all         10         31      0.565      0.507      0.586      0.439\n"
     ]
    },
    {
     "name": "stderr",
     "output_type": "stream",
     "text": [
      "\n"
     ]
    },
    {
     "name": "stdout",
     "output_type": "stream",
     "text": [
      "\n",
      "      Epoch    GPU_mem   box_loss   cls_loss   dfl_loss  Instances       Size\n"
     ]
    },
    {
     "name": "stderr",
     "output_type": "stream",
     "text": [
      "     73/150      3.47G      0.554     0.4595     0.8721         36        640: 100%|██████████| 4/4 [00:01<00:00,  2.75it/s]\n",
      "                 Class     Images  Instances      Box(P          R      mAP50  mAP50-95): 100%|██████████| 1/1 [00:00<00:00,  8.43it/s]"
     ]
    },
    {
     "name": "stdout",
     "output_type": "stream",
     "text": [
      "                   all         10         31      0.565      0.507      0.586      0.439\n"
     ]
    },
    {
     "name": "stderr",
     "output_type": "stream",
     "text": [
      "\n"
     ]
    },
    {
     "name": "stdout",
     "output_type": "stream",
     "text": [
      "\n",
      "      Epoch    GPU_mem   box_loss   cls_loss   dfl_loss  Instances       Size\n"
     ]
    },
    {
     "name": "stderr",
     "output_type": "stream",
     "text": [
      "     74/150      3.51G     0.5327     0.4266     0.8523         33        640: 100%|██████████| 4/4 [00:01<00:00,  2.69it/s]\n",
      "                 Class     Images  Instances      Box(P          R      mAP50  mAP50-95): 100%|██████████| 1/1 [00:00<00:00,  8.42it/s]"
     ]
    },
    {
     "name": "stdout",
     "output_type": "stream",
     "text": [
      "                   all         10         31      0.597      0.407      0.557      0.437\n"
     ]
    },
    {
     "name": "stderr",
     "output_type": "stream",
     "text": [
      "\n"
     ]
    },
    {
     "name": "stdout",
     "output_type": "stream",
     "text": [
      "\n",
      "      Epoch    GPU_mem   box_loss   cls_loss   dfl_loss  Instances       Size\n"
     ]
    },
    {
     "name": "stderr",
     "output_type": "stream",
     "text": [
      "     75/150      3.39G     0.5479     0.4375     0.8752         36        640: 100%|██████████| 4/4 [00:01<00:00,  2.55it/s]\n",
      "                 Class     Images  Instances      Box(P          R      mAP50  mAP50-95): 100%|██████████| 1/1 [00:00<00:00,  8.49it/s]"
     ]
    },
    {
     "name": "stdout",
     "output_type": "stream",
     "text": [
      "                   all         10         31       0.56      0.429      0.532      0.422\n"
     ]
    },
    {
     "name": "stderr",
     "output_type": "stream",
     "text": [
      "\n"
     ]
    },
    {
     "name": "stdout",
     "output_type": "stream",
     "text": [
      "\n",
      "      Epoch    GPU_mem   box_loss   cls_loss   dfl_loss  Instances       Size\n"
     ]
    },
    {
     "name": "stderr",
     "output_type": "stream",
     "text": [
      "     76/150      3.47G     0.5097     0.4312      0.884         26        640: 100%|██████████| 4/4 [00:01<00:00,  2.65it/s]\n",
      "                 Class     Images  Instances      Box(P          R      mAP50  mAP50-95): 100%|██████████| 1/1 [00:00<00:00,  8.48it/s]"
     ]
    },
    {
     "name": "stdout",
     "output_type": "stream",
     "text": [
      "                   all         10         31      0.545      0.499      0.563      0.415\n"
     ]
    },
    {
     "name": "stderr",
     "output_type": "stream",
     "text": [
      "\n"
     ]
    },
    {
     "name": "stdout",
     "output_type": "stream",
     "text": [
      "\n",
      "      Epoch    GPU_mem   box_loss   cls_loss   dfl_loss  Instances       Size\n"
     ]
    },
    {
     "name": "stderr",
     "output_type": "stream",
     "text": [
      "     77/150       3.5G     0.5248     0.4535     0.8705         34        640: 100%|██████████| 4/4 [00:01<00:00,  2.59it/s]\n",
      "                 Class     Images  Instances      Box(P          R      mAP50  mAP50-95): 100%|██████████| 1/1 [00:00<00:00,  8.40it/s]"
     ]
    },
    {
     "name": "stdout",
     "output_type": "stream",
     "text": [
      "                   all         10         31      0.383      0.546      0.512      0.387\n"
     ]
    },
    {
     "name": "stderr",
     "output_type": "stream",
     "text": [
      "\n"
     ]
    },
    {
     "name": "stdout",
     "output_type": "stream",
     "text": [
      "\n",
      "      Epoch    GPU_mem   box_loss   cls_loss   dfl_loss  Instances       Size\n"
     ]
    },
    {
     "name": "stderr",
     "output_type": "stream",
     "text": [
      "     78/150      3.46G     0.5102     0.4076     0.8764         41        640: 100%|██████████| 4/4 [00:01<00:00,  2.65it/s]\n",
      "                 Class     Images  Instances      Box(P          R      mAP50  mAP50-95): 100%|██████████| 1/1 [00:00<00:00,  8.41it/s]"
     ]
    },
    {
     "name": "stdout",
     "output_type": "stream",
     "text": [
      "                   all         10         31      0.383      0.546      0.512      0.387\n"
     ]
    },
    {
     "name": "stderr",
     "output_type": "stream",
     "text": [
      "\n"
     ]
    },
    {
     "name": "stdout",
     "output_type": "stream",
     "text": [
      "\n",
      "      Epoch    GPU_mem   box_loss   cls_loss   dfl_loss  Instances       Size\n"
     ]
    },
    {
     "name": "stderr",
     "output_type": "stream",
     "text": [
      "     79/150      3.51G     0.5154     0.4396     0.8785         31        640: 100%|██████████| 4/4 [00:01<00:00,  2.64it/s]\n",
      "                 Class     Images  Instances      Box(P          R      mAP50  mAP50-95): 100%|██████████| 1/1 [00:00<00:00,  8.46it/s]"
     ]
    },
    {
     "name": "stdout",
     "output_type": "stream",
     "text": [
      "                   all         10         31      0.379      0.454      0.427      0.288\n"
     ]
    },
    {
     "name": "stderr",
     "output_type": "stream",
     "text": [
      "\n"
     ]
    },
    {
     "name": "stdout",
     "output_type": "stream",
     "text": [
      "\n",
      "      Epoch    GPU_mem   box_loss   cls_loss   dfl_loss  Instances       Size\n"
     ]
    },
    {
     "name": "stderr",
     "output_type": "stream",
     "text": [
      "     80/150      3.48G     0.5281     0.4226     0.8548         34        640: 100%|██████████| 4/4 [00:01<00:00,  2.56it/s]\n",
      "                 Class     Images  Instances      Box(P          R      mAP50  mAP50-95): 100%|██████████| 1/1 [00:00<00:00,  8.50it/s]"
     ]
    },
    {
     "name": "stdout",
     "output_type": "stream",
     "text": [
      "                   all         10         31       0.37      0.491      0.468      0.319\n"
     ]
    },
    {
     "name": "stderr",
     "output_type": "stream",
     "text": [
      "\n"
     ]
    },
    {
     "name": "stdout",
     "output_type": "stream",
     "text": [
      "\n",
      "      Epoch    GPU_mem   box_loss   cls_loss   dfl_loss  Instances       Size\n"
     ]
    },
    {
     "name": "stderr",
     "output_type": "stream",
     "text": [
      "     81/150      3.47G     0.5333     0.4641     0.8489         46        640: 100%|██████████| 4/4 [00:01<00:00,  2.52it/s]\n",
      "                 Class     Images  Instances      Box(P          R      mAP50  mAP50-95): 100%|██████████| 1/1 [00:00<00:00,  8.53it/s]"
     ]
    },
    {
     "name": "stdout",
     "output_type": "stream",
     "text": [
      "                   all         10         31      0.538      0.565      0.574      0.433\n"
     ]
    },
    {
     "name": "stderr",
     "output_type": "stream",
     "text": [
      "\n"
     ]
    },
    {
     "name": "stdout",
     "output_type": "stream",
     "text": [
      "\n",
      "      Epoch    GPU_mem   box_loss   cls_loss   dfl_loss  Instances       Size\n"
     ]
    },
    {
     "name": "stderr",
     "output_type": "stream",
     "text": [
      "     82/150       3.5G     0.5556     0.4395     0.8903         42        640: 100%|██████████| 4/4 [00:01<00:00,  2.52it/s]\n",
      "                 Class     Images  Instances      Box(P          R      mAP50  mAP50-95): 100%|██████████| 1/1 [00:00<00:00,  8.39it/s]"
     ]
    },
    {
     "name": "stdout",
     "output_type": "stream",
     "text": [
      "                   all         10         31      0.766      0.491      0.567      0.445\n"
     ]
    },
    {
     "name": "stderr",
     "output_type": "stream",
     "text": [
      "\n"
     ]
    },
    {
     "name": "stdout",
     "output_type": "stream",
     "text": [
      "\n",
      "      Epoch    GPU_mem   box_loss   cls_loss   dfl_loss  Instances       Size\n"
     ]
    },
    {
     "name": "stderr",
     "output_type": "stream",
     "text": [
      "     83/150      3.48G       0.48     0.4269     0.8428         48        640: 100%|██████████| 4/4 [00:01<00:00,  2.55it/s]\n",
      "                 Class     Images  Instances      Box(P          R      mAP50  mAP50-95): 100%|██████████| 1/1 [00:00<00:00,  8.30it/s]"
     ]
    },
    {
     "name": "stdout",
     "output_type": "stream",
     "text": [
      "                   all         10         31      0.766      0.491      0.567      0.445\n"
     ]
    },
    {
     "name": "stderr",
     "output_type": "stream",
     "text": [
      "\n"
     ]
    },
    {
     "name": "stdout",
     "output_type": "stream",
     "text": [
      "\n",
      "      Epoch    GPU_mem   box_loss   cls_loss   dfl_loss  Instances       Size\n"
     ]
    },
    {
     "name": "stderr",
     "output_type": "stream",
     "text": [
      "     84/150      3.48G     0.4796     0.4108     0.8531         40        640: 100%|██████████| 4/4 [00:01<00:00,  2.52it/s]\n",
      "                 Class     Images  Instances      Box(P          R      mAP50  mAP50-95): 100%|██████████| 1/1 [00:00<00:00,  8.50it/s]"
     ]
    },
    {
     "name": "stdout",
     "output_type": "stream",
     "text": [
      "                   all         10         31      0.794      0.472      0.553      0.444\n"
     ]
    },
    {
     "name": "stderr",
     "output_type": "stream",
     "text": [
      "\n"
     ]
    },
    {
     "name": "stdout",
     "output_type": "stream",
     "text": [
      "\n",
      "      Epoch    GPU_mem   box_loss   cls_loss   dfl_loss  Instances       Size\n"
     ]
    },
    {
     "name": "stderr",
     "output_type": "stream",
     "text": [
      "     85/150      3.47G     0.4664     0.3861     0.8663         28        640: 100%|██████████| 4/4 [00:01<00:00,  2.50it/s]\n",
      "                 Class     Images  Instances      Box(P          R      mAP50  mAP50-95): 100%|██████████| 1/1 [00:00<00:00,  8.48it/s]"
     ]
    },
    {
     "name": "stdout",
     "output_type": "stream",
     "text": [
      "                   all         10         31      0.808      0.436       0.53       0.43\n"
     ]
    },
    {
     "name": "stderr",
     "output_type": "stream",
     "text": [
      "\n"
     ]
    },
    {
     "name": "stdout",
     "output_type": "stream",
     "text": [
      "\n",
      "      Epoch    GPU_mem   box_loss   cls_loss   dfl_loss  Instances       Size\n"
     ]
    },
    {
     "name": "stderr",
     "output_type": "stream",
     "text": [
      "     86/150      3.49G     0.4956      0.368     0.8504         56        640: 100%|██████████| 4/4 [00:01<00:00,  2.51it/s]\n",
      "                 Class     Images  Instances      Box(P          R      mAP50  mAP50-95): 100%|██████████| 1/1 [00:00<00:00,  8.53it/s]"
     ]
    },
    {
     "name": "stdout",
     "output_type": "stream",
     "text": [
      "                   all         10         31      0.755      0.446       0.53      0.429\n"
     ]
    },
    {
     "name": "stderr",
     "output_type": "stream",
     "text": [
      "\n"
     ]
    },
    {
     "name": "stdout",
     "output_type": "stream",
     "text": [
      "\n",
      "      Epoch    GPU_mem   box_loss   cls_loss   dfl_loss  Instances       Size\n"
     ]
    },
    {
     "name": "stderr",
     "output_type": "stream",
     "text": [
      "     87/150       3.5G     0.4717     0.3663     0.8555         32        640: 100%|██████████| 4/4 [00:01<00:00,  2.52it/s]\n",
      "                 Class     Images  Instances      Box(P          R      mAP50  mAP50-95): 100%|██████████| 1/1 [00:00<00:00,  8.56it/s]"
     ]
    },
    {
     "name": "stdout",
     "output_type": "stream",
     "text": [
      "                   all         10         31      0.774      0.439       0.53      0.452\n"
     ]
    },
    {
     "name": "stderr",
     "output_type": "stream",
     "text": [
      "\n"
     ]
    },
    {
     "name": "stdout",
     "output_type": "stream",
     "text": [
      "\n",
      "      Epoch    GPU_mem   box_loss   cls_loss   dfl_loss  Instances       Size\n"
     ]
    },
    {
     "name": "stderr",
     "output_type": "stream",
     "text": [
      "     88/150      3.46G     0.4624     0.4115     0.8559         26        640: 100%|██████████| 4/4 [00:01<00:00,  2.54it/s]\n",
      "                 Class     Images  Instances      Box(P          R      mAP50  mAP50-95): 100%|██████████| 1/1 [00:00<00:00,  8.58it/s]"
     ]
    },
    {
     "name": "stdout",
     "output_type": "stream",
     "text": [
      "                   all         10         31      0.774      0.439       0.53      0.452\n"
     ]
    },
    {
     "name": "stderr",
     "output_type": "stream",
     "text": [
      "\n"
     ]
    },
    {
     "name": "stdout",
     "output_type": "stream",
     "text": [
      "\n",
      "      Epoch    GPU_mem   box_loss   cls_loss   dfl_loss  Instances       Size\n"
     ]
    },
    {
     "name": "stderr",
     "output_type": "stream",
     "text": [
      "     89/150       3.5G     0.4552     0.3754     0.8452         25        640: 100%|██████████| 4/4 [00:01<00:00,  2.51it/s]\n",
      "                 Class     Images  Instances      Box(P          R      mAP50  mAP50-95): 100%|██████████| 1/1 [00:00<00:00,  8.47it/s]"
     ]
    },
    {
     "name": "stdout",
     "output_type": "stream",
     "text": [
      "                   all         10         31       0.81      0.453      0.528      0.449\n"
     ]
    },
    {
     "name": "stderr",
     "output_type": "stream",
     "text": [
      "\n"
     ]
    },
    {
     "name": "stdout",
     "output_type": "stream",
     "text": [
      "\n",
      "      Epoch    GPU_mem   box_loss   cls_loss   dfl_loss  Instances       Size\n"
     ]
    },
    {
     "name": "stderr",
     "output_type": "stream",
     "text": [
      "     90/150       3.5G     0.4365     0.3461     0.8447         30        640: 100%|██████████| 4/4 [00:01<00:00,  2.51it/s]\n",
      "                 Class     Images  Instances      Box(P          R      mAP50  mAP50-95): 100%|██████████| 1/1 [00:00<00:00,  8.55it/s]"
     ]
    },
    {
     "name": "stdout",
     "output_type": "stream",
     "text": [
      "                   all         10         31      0.835      0.433      0.537      0.464\n"
     ]
    },
    {
     "name": "stderr",
     "output_type": "stream",
     "text": [
      "\n"
     ]
    },
    {
     "name": "stdout",
     "output_type": "stream",
     "text": [
      "\n",
      "      Epoch    GPU_mem   box_loss   cls_loss   dfl_loss  Instances       Size\n"
     ]
    },
    {
     "name": "stderr",
     "output_type": "stream",
     "text": [
      "     91/150       3.4G     0.4468     0.3542     0.8349         58        640: 100%|██████████| 4/4 [00:01<00:00,  2.51it/s]\n",
      "                 Class     Images  Instances      Box(P          R      mAP50  mAP50-95): 100%|██████████| 1/1 [00:00<00:00,  8.39it/s]"
     ]
    },
    {
     "name": "stdout",
     "output_type": "stream",
     "text": [
      "                   all         10         31      0.713      0.454      0.549      0.463\n"
     ]
    },
    {
     "name": "stderr",
     "output_type": "stream",
     "text": [
      "\n"
     ]
    },
    {
     "name": "stdout",
     "output_type": "stream",
     "text": [
      "\n",
      "      Epoch    GPU_mem   box_loss   cls_loss   dfl_loss  Instances       Size\n"
     ]
    },
    {
     "name": "stderr",
     "output_type": "stream",
     "text": [
      "     92/150      3.47G     0.4808     0.4525     0.8678         27        640: 100%|██████████| 4/4 [00:01<00:00,  2.50it/s]\n",
      "                 Class     Images  Instances      Box(P          R      mAP50  mAP50-95): 100%|██████████| 1/1 [00:00<00:00,  8.44it/s]"
     ]
    },
    {
     "name": "stdout",
     "output_type": "stream",
     "text": [
      "                   all         10         31        0.8      0.435      0.566      0.462\n"
     ]
    },
    {
     "name": "stderr",
     "output_type": "stream",
     "text": [
      "\n"
     ]
    },
    {
     "name": "stdout",
     "output_type": "stream",
     "text": [
      "\n",
      "      Epoch    GPU_mem   box_loss   cls_loss   dfl_loss  Instances       Size\n"
     ]
    },
    {
     "name": "stderr",
     "output_type": "stream",
     "text": [
      "     93/150      3.47G      0.447     0.3649     0.8718         30        640: 100%|██████████| 4/4 [00:01<00:00,  2.53it/s]\n",
      "                 Class     Images  Instances      Box(P          R      mAP50  mAP50-95): 100%|██████████| 1/1 [00:00<00:00,  8.44it/s]"
     ]
    },
    {
     "name": "stdout",
     "output_type": "stream",
     "text": [
      "                   all         10         31        0.8      0.435      0.566      0.462\n"
     ]
    },
    {
     "name": "stderr",
     "output_type": "stream",
     "text": [
      "\n"
     ]
    },
    {
     "name": "stdout",
     "output_type": "stream",
     "text": [
      "\n",
      "      Epoch    GPU_mem   box_loss   cls_loss   dfl_loss  Instances       Size\n"
     ]
    },
    {
     "name": "stderr",
     "output_type": "stream",
     "text": [
      "     94/150      3.51G     0.4906     0.4182     0.8741         35        640: 100%|██████████| 4/4 [00:01<00:00,  2.50it/s]\n",
      "                 Class     Images  Instances      Box(P          R      mAP50  mAP50-95): 100%|██████████| 1/1 [00:00<00:00,  8.45it/s]"
     ]
    },
    {
     "name": "stdout",
     "output_type": "stream",
     "text": [
      "                   all         10         31      0.836      0.435      0.577      0.468\n"
     ]
    },
    {
     "name": "stderr",
     "output_type": "stream",
     "text": [
      "\n"
     ]
    },
    {
     "name": "stdout",
     "output_type": "stream",
     "text": [
      "\n",
      "      Epoch    GPU_mem   box_loss   cls_loss   dfl_loss  Instances       Size\n"
     ]
    },
    {
     "name": "stderr",
     "output_type": "stream",
     "text": [
      "     95/150      3.39G     0.4648     0.4496     0.8685         37        640: 100%|██████████| 4/4 [00:01<00:00,  2.51it/s]\n",
      "                 Class     Images  Instances      Box(P          R      mAP50  mAP50-95): 100%|██████████| 1/1 [00:00<00:00,  8.45it/s]"
     ]
    },
    {
     "name": "stdout",
     "output_type": "stream",
     "text": [
      "                   all         10         31       0.78      0.472       0.58       0.44\n"
     ]
    },
    {
     "name": "stderr",
     "output_type": "stream",
     "text": [
      "\n"
     ]
    },
    {
     "name": "stdout",
     "output_type": "stream",
     "text": [
      "\n",
      "      Epoch    GPU_mem   box_loss   cls_loss   dfl_loss  Instances       Size\n"
     ]
    },
    {
     "name": "stderr",
     "output_type": "stream",
     "text": [
      "     96/150      3.51G     0.4267     0.3662     0.8345         38        640: 100%|██████████| 4/4 [00:01<00:00,  2.52it/s]\n",
      "                 Class     Images  Instances      Box(P          R      mAP50  mAP50-95): 100%|██████████| 1/1 [00:00<00:00,  8.55it/s]"
     ]
    },
    {
     "name": "stdout",
     "output_type": "stream",
     "text": [
      "                   all         10         31      0.812      0.485      0.614      0.449\n"
     ]
    },
    {
     "name": "stderr",
     "output_type": "stream",
     "text": [
      "\n"
     ]
    },
    {
     "name": "stdout",
     "output_type": "stream",
     "text": [
      "\n",
      "      Epoch    GPU_mem   box_loss   cls_loss   dfl_loss  Instances       Size\n"
     ]
    },
    {
     "name": "stderr",
     "output_type": "stream",
     "text": [
      "     97/150       3.5G     0.4357     0.3304     0.8254         54        640: 100%|██████████| 4/4 [00:01<00:00,  2.51it/s]\n",
      "                 Class     Images  Instances      Box(P          R      mAP50  mAP50-95): 100%|██████████| 1/1 [00:00<00:00,  8.35it/s]"
     ]
    },
    {
     "name": "stdout",
     "output_type": "stream",
     "text": [
      "                   all         10         31      0.774      0.509      0.598      0.441\n"
     ]
    },
    {
     "name": "stderr",
     "output_type": "stream",
     "text": [
      "\n"
     ]
    },
    {
     "name": "stdout",
     "output_type": "stream",
     "text": [
      "\n",
      "      Epoch    GPU_mem   box_loss   cls_loss   dfl_loss  Instances       Size\n"
     ]
    },
    {
     "name": "stderr",
     "output_type": "stream",
     "text": [
      "     98/150      3.48G     0.4637     0.4122     0.8474         24        640: 100%|██████████| 4/4 [00:01<00:00,  2.54it/s]\n",
      "                 Class     Images  Instances      Box(P          R      mAP50  mAP50-95): 100%|██████████| 1/1 [00:00<00:00,  8.52it/s]"
     ]
    },
    {
     "name": "stdout",
     "output_type": "stream",
     "text": [
      "                   all         10         31      0.774      0.509      0.598      0.441\n"
     ]
    },
    {
     "name": "stderr",
     "output_type": "stream",
     "text": [
      "\n"
     ]
    },
    {
     "name": "stdout",
     "output_type": "stream",
     "text": [
      "\n",
      "      Epoch    GPU_mem   box_loss   cls_loss   dfl_loss  Instances       Size\n"
     ]
    },
    {
     "name": "stderr",
     "output_type": "stream",
     "text": [
      "     99/150      3.47G     0.4801     0.4058     0.8559         40        640: 100%|██████████| 4/4 [00:01<00:00,  2.50it/s]\n",
      "                 Class     Images  Instances      Box(P          R      mAP50  mAP50-95): 100%|██████████| 1/1 [00:00<00:00,  8.45it/s]"
     ]
    },
    {
     "name": "stdout",
     "output_type": "stream",
     "text": [
      "                   all         10         31      0.835      0.509      0.591      0.444\n"
     ]
    },
    {
     "name": "stderr",
     "output_type": "stream",
     "text": [
      "\n"
     ]
    },
    {
     "name": "stdout",
     "output_type": "stream",
     "text": [
      "\n",
      "      Epoch    GPU_mem   box_loss   cls_loss   dfl_loss  Instances       Size\n"
     ]
    },
    {
     "name": "stderr",
     "output_type": "stream",
     "text": [
      "    100/150       3.5G     0.4589      0.388     0.8599         33        640: 100%|██████████| 4/4 [00:01<00:00,  2.52it/s]\n",
      "                 Class     Images  Instances      Box(P          R      mAP50  mAP50-95): 100%|██████████| 1/1 [00:00<00:00,  8.39it/s]"
     ]
    },
    {
     "name": "stdout",
     "output_type": "stream",
     "text": [
      "                   all         10         31      0.846      0.524      0.572      0.434\n"
     ]
    },
    {
     "name": "stderr",
     "output_type": "stream",
     "text": [
      "\n"
     ]
    },
    {
     "name": "stdout",
     "output_type": "stream",
     "text": [
      "\n",
      "      Epoch    GPU_mem   box_loss   cls_loss   dfl_loss  Instances       Size\n"
     ]
    },
    {
     "name": "stderr",
     "output_type": "stream",
     "text": [
      "    101/150       3.4G     0.4576     0.3752      0.848         35        640: 100%|██████████| 4/4 [00:01<00:00,  2.50it/s]\n",
      "                 Class     Images  Instances      Box(P          R      mAP50  mAP50-95): 100%|██████████| 1/1 [00:00<00:00,  8.47it/s]"
     ]
    },
    {
     "name": "stdout",
     "output_type": "stream",
     "text": [
      "                   all         10         31      0.863      0.509      0.569      0.451\n"
     ]
    },
    {
     "name": "stderr",
     "output_type": "stream",
     "text": [
      "\n"
     ]
    },
    {
     "name": "stdout",
     "output_type": "stream",
     "text": [
      "\n",
      "      Epoch    GPU_mem   box_loss   cls_loss   dfl_loss  Instances       Size\n"
     ]
    },
    {
     "name": "stderr",
     "output_type": "stream",
     "text": [
      "    102/150       3.5G     0.4269     0.3271     0.8376         34        640: 100%|██████████| 4/4 [00:01<00:00,  2.50it/s]\n",
      "                 Class     Images  Instances      Box(P          R      mAP50  mAP50-95): 100%|██████████| 1/1 [00:00<00:00,  8.45it/s]"
     ]
    },
    {
     "name": "stdout",
     "output_type": "stream",
     "text": [
      "                   all         10         31      0.802      0.509      0.571      0.434\n"
     ]
    },
    {
     "name": "stderr",
     "output_type": "stream",
     "text": [
      "\n"
     ]
    },
    {
     "name": "stdout",
     "output_type": "stream",
     "text": [
      "\n",
      "      Epoch    GPU_mem   box_loss   cls_loss   dfl_loss  Instances       Size\n"
     ]
    },
    {
     "name": "stderr",
     "output_type": "stream",
     "text": [
      "    103/150      3.45G     0.4129     0.3396      0.835         57        640: 100%|██████████| 4/4 [00:01<00:00,  2.54it/s]\n",
      "                 Class     Images  Instances      Box(P          R      mAP50  mAP50-95): 100%|██████████| 1/1 [00:00<00:00,  8.40it/s]"
     ]
    },
    {
     "name": "stdout",
     "output_type": "stream",
     "text": [
      "                   all         10         31      0.802      0.509      0.571      0.434\n"
     ]
    },
    {
     "name": "stderr",
     "output_type": "stream",
     "text": [
      "\n"
     ]
    },
    {
     "name": "stdout",
     "output_type": "stream",
     "text": [
      "\n",
      "      Epoch    GPU_mem   box_loss   cls_loss   dfl_loss  Instances       Size\n"
     ]
    },
    {
     "name": "stderr",
     "output_type": "stream",
     "text": [
      "    104/150       3.5G     0.4205     0.3377     0.8339         22        640: 100%|██████████| 4/4 [00:01<00:00,  2.52it/s]\n",
      "                 Class     Images  Instances      Box(P          R      mAP50  mAP50-95): 100%|██████████| 1/1 [00:00<00:00,  8.27it/s]"
     ]
    },
    {
     "name": "stdout",
     "output_type": "stream",
     "text": [
      "                   all         10         31      0.751      0.461      0.571      0.441\n"
     ]
    },
    {
     "name": "stderr",
     "output_type": "stream",
     "text": [
      "\n"
     ]
    },
    {
     "name": "stdout",
     "output_type": "stream",
     "text": [
      "\n",
      "      Epoch    GPU_mem   box_loss   cls_loss   dfl_loss  Instances       Size\n"
     ]
    },
    {
     "name": "stderr",
     "output_type": "stream",
     "text": [
      "    105/150      3.39G     0.4783     0.3537     0.8764         23        640: 100%|██████████| 4/4 [00:01<00:00,  2.51it/s]\n",
      "                 Class     Images  Instances      Box(P          R      mAP50  mAP50-95): 100%|██████████| 1/1 [00:00<00:00,  8.32it/s]"
     ]
    },
    {
     "name": "stdout",
     "output_type": "stream",
     "text": [
      "                   all         10         31        0.7      0.435      0.565      0.421\n"
     ]
    },
    {
     "name": "stderr",
     "output_type": "stream",
     "text": [
      "\n"
     ]
    },
    {
     "name": "stdout",
     "output_type": "stream",
     "text": [
      "\n",
      "      Epoch    GPU_mem   box_loss   cls_loss   dfl_loss  Instances       Size\n"
     ]
    },
    {
     "name": "stderr",
     "output_type": "stream",
     "text": [
      "    106/150       3.4G     0.4248     0.3691     0.8457         49        640: 100%|██████████| 4/4 [00:01<00:00,  2.51it/s]\n",
      "                 Class     Images  Instances      Box(P          R      mAP50  mAP50-95): 100%|██████████| 1/1 [00:00<00:00,  8.43it/s]"
     ]
    },
    {
     "name": "stdout",
     "output_type": "stream",
     "text": [
      "                   all         10         31      0.598       0.42      0.559      0.402\n"
     ]
    },
    {
     "name": "stderr",
     "output_type": "stream",
     "text": [
      "\n"
     ]
    },
    {
     "name": "stdout",
     "output_type": "stream",
     "text": [
      "\n",
      "      Epoch    GPU_mem   box_loss   cls_loss   dfl_loss  Instances       Size\n"
     ]
    },
    {
     "name": "stderr",
     "output_type": "stream",
     "text": [
      "    107/150       3.4G     0.4202     0.3454     0.8682         52        640: 100%|██████████| 4/4 [00:01<00:00,  2.51it/s]\n",
      "                 Class     Images  Instances      Box(P          R      mAP50  mAP50-95): 100%|██████████| 1/1 [00:00<00:00,  8.40it/s]"
     ]
    },
    {
     "name": "stdout",
     "output_type": "stream",
     "text": [
      "                   all         10         31      0.889      0.328      0.561      0.428\n"
     ]
    },
    {
     "name": "stderr",
     "output_type": "stream",
     "text": [
      "\n"
     ]
    },
    {
     "name": "stdout",
     "output_type": "stream",
     "text": [
      "\n",
      "      Epoch    GPU_mem   box_loss   cls_loss   dfl_loss  Instances       Size\n"
     ]
    },
    {
     "name": "stderr",
     "output_type": "stream",
     "text": [
      "    108/150      3.48G     0.4204     0.3409     0.8404         45        640: 100%|██████████| 4/4 [00:01<00:00,  2.54it/s]\n",
      "                 Class     Images  Instances      Box(P          R      mAP50  mAP50-95): 100%|██████████| 1/1 [00:00<00:00,  8.49it/s]"
     ]
    },
    {
     "name": "stdout",
     "output_type": "stream",
     "text": [
      "                   all         10         31      0.889      0.328      0.561      0.428\n"
     ]
    },
    {
     "name": "stderr",
     "output_type": "stream",
     "text": [
      "\n"
     ]
    },
    {
     "name": "stdout",
     "output_type": "stream",
     "text": [
      "\n",
      "      Epoch    GPU_mem   box_loss   cls_loss   dfl_loss  Instances       Size\n"
     ]
    },
    {
     "name": "stderr",
     "output_type": "stream",
     "text": [
      "    109/150      3.48G      0.408     0.3256      0.817         31        640: 100%|██████████| 4/4 [00:01<00:00,  2.51it/s]\n",
      "                 Class     Images  Instances      Box(P          R      mAP50  mAP50-95): 100%|██████████| 1/1 [00:00<00:00,  8.47it/s]"
     ]
    },
    {
     "name": "stdout",
     "output_type": "stream",
     "text": [
      "                   all         10         31       0.93      0.328       0.56      0.421\n"
     ]
    },
    {
     "name": "stderr",
     "output_type": "stream",
     "text": [
      "\n"
     ]
    },
    {
     "name": "stdout",
     "output_type": "stream",
     "text": [
      "\n",
      "      Epoch    GPU_mem   box_loss   cls_loss   dfl_loss  Instances       Size\n"
     ]
    },
    {
     "name": "stderr",
     "output_type": "stream",
     "text": [
      "    110/150      3.47G     0.4246     0.3415     0.8488         33        640: 100%|██████████| 4/4 [00:01<00:00,  2.51it/s]\n",
      "                 Class     Images  Instances      Box(P          R      mAP50  mAP50-95): 100%|██████████| 1/1 [00:00<00:00,  8.45it/s]"
     ]
    },
    {
     "name": "stdout",
     "output_type": "stream",
     "text": [
      "                   all         10         31      0.822       0.38      0.559      0.417\n"
     ]
    },
    {
     "name": "stderr",
     "output_type": "stream",
     "text": [
      "\n"
     ]
    },
    {
     "name": "stdout",
     "output_type": "stream",
     "text": [
      "\n",
      "      Epoch    GPU_mem   box_loss   cls_loss   dfl_loss  Instances       Size\n"
     ]
    },
    {
     "name": "stderr",
     "output_type": "stream",
     "text": [
      "    111/150      3.47G     0.3892     0.3339     0.8216         35        640: 100%|██████████| 4/4 [00:01<00:00,  2.51it/s]\n",
      "                 Class     Images  Instances      Box(P          R      mAP50  mAP50-95): 100%|██████████| 1/1 [00:00<00:00,  8.44it/s]"
     ]
    },
    {
     "name": "stdout",
     "output_type": "stream",
     "text": [
      "                   all         10         31      0.684      0.456      0.574      0.433\n"
     ]
    },
    {
     "name": "stderr",
     "output_type": "stream",
     "text": [
      "\n"
     ]
    },
    {
     "name": "stdout",
     "output_type": "stream",
     "text": [
      "\n",
      "      Epoch    GPU_mem   box_loss   cls_loss   dfl_loss  Instances       Size\n"
     ]
    },
    {
     "name": "stderr",
     "output_type": "stream",
     "text": [
      "    112/150       3.5G     0.4877      0.365     0.8769         40        640: 100%|██████████| 4/4 [00:01<00:00,  2.50it/s]\n",
      "                 Class     Images  Instances      Box(P          R      mAP50  mAP50-95): 100%|██████████| 1/1 [00:00<00:00,  3.37it/s]"
     ]
    },
    {
     "name": "stdout",
     "output_type": "stream",
     "text": [
      "                   all         10         31      0.712      0.462      0.581      0.446\n"
     ]
    },
    {
     "name": "stderr",
     "output_type": "stream",
     "text": [
      "\n"
     ]
    },
    {
     "name": "stdout",
     "output_type": "stream",
     "text": [
      "\n",
      "      Epoch    GPU_mem   box_loss   cls_loss   dfl_loss  Instances       Size\n"
     ]
    },
    {
     "name": "stderr",
     "output_type": "stream",
     "text": [
      "    113/150      3.48G     0.3996       0.32     0.8537         33        640: 100%|██████████| 4/4 [00:02<00:00,  1.35it/s]\n",
      "                 Class     Images  Instances      Box(P          R      mAP50  mAP50-95): 100%|██████████| 1/1 [00:00<00:00,  3.15it/s]"
     ]
    },
    {
     "name": "stdout",
     "output_type": "stream",
     "text": [
      "                   all         10         31      0.712      0.462      0.581      0.446\n"
     ]
    },
    {
     "name": "stderr",
     "output_type": "stream",
     "text": [
      "\n"
     ]
    },
    {
     "name": "stdout",
     "output_type": "stream",
     "text": [
      "\n",
      "      Epoch    GPU_mem   box_loss   cls_loss   dfl_loss  Instances       Size\n"
     ]
    },
    {
     "name": "stderr",
     "output_type": "stream",
     "text": [
      "    114/150      3.39G     0.3993     0.3449     0.8363         44        640: 100%|██████████| 4/4 [00:01<00:00,  2.51it/s]\n",
      "                 Class     Images  Instances      Box(P          R      mAP50  mAP50-95): 100%|██████████| 1/1 [00:00<00:00,  8.40it/s]"
     ]
    },
    {
     "name": "stdout",
     "output_type": "stream",
     "text": [
      "                   all         10         31      0.814      0.454      0.591      0.441\n"
     ]
    },
    {
     "name": "stderr",
     "output_type": "stream",
     "text": [
      "\n"
     ]
    },
    {
     "name": "stdout",
     "output_type": "stream",
     "text": [
      "\n",
      "      Epoch    GPU_mem   box_loss   cls_loss   dfl_loss  Instances       Size\n"
     ]
    },
    {
     "name": "stderr",
     "output_type": "stream",
     "text": [
      "    115/150      3.49G      0.433     0.3692       0.86         36        640: 100%|██████████| 4/4 [00:02<00:00,  1.89it/s]\n",
      "                 Class     Images  Instances      Box(P          R      mAP50  mAP50-95): 100%|██████████| 1/1 [00:00<00:00,  3.12it/s]"
     ]
    },
    {
     "name": "stdout",
     "output_type": "stream",
     "text": [
      "                   all         10         31      0.806      0.435        0.6      0.451\n"
     ]
    },
    {
     "name": "stderr",
     "output_type": "stream",
     "text": [
      "\n"
     ]
    },
    {
     "name": "stdout",
     "output_type": "stream",
     "text": [
      "\n",
      "      Epoch    GPU_mem   box_loss   cls_loss   dfl_loss  Instances       Size\n"
     ]
    },
    {
     "name": "stderr",
     "output_type": "stream",
     "text": [
      "    116/150      3.47G     0.3739     0.3455     0.8255         38        640: 100%|██████████| 4/4 [00:02<00:00,  1.83it/s]\n",
      "                 Class     Images  Instances      Box(P          R      mAP50  mAP50-95): 100%|██████████| 1/1 [00:00<00:00,  3.14it/s]"
     ]
    },
    {
     "name": "stdout",
     "output_type": "stream",
     "text": [
      "                   all         10         31       0.78      0.447      0.593      0.481\n"
     ]
    },
    {
     "name": "stderr",
     "output_type": "stream",
     "text": [
      "\n"
     ]
    },
    {
     "name": "stdout",
     "output_type": "stream",
     "text": [
      "\n",
      "      Epoch    GPU_mem   box_loss   cls_loss   dfl_loss  Instances       Size\n"
     ]
    },
    {
     "name": "stderr",
     "output_type": "stream",
     "text": [
      "    117/150       3.5G     0.4013     0.3129     0.8405         43        640: 100%|██████████| 4/4 [00:02<00:00,  1.73it/s]\n",
      "                 Class     Images  Instances      Box(P          R      mAP50  mAP50-95): 100%|██████████| 1/1 [00:00<00:00,  3.16it/s]"
     ]
    },
    {
     "name": "stdout",
     "output_type": "stream",
     "text": [
      "                   all         10         31      0.763       0.47      0.592      0.473\n"
     ]
    },
    {
     "name": "stderr",
     "output_type": "stream",
     "text": [
      "\n"
     ]
    },
    {
     "name": "stdout",
     "output_type": "stream",
     "text": [
      "\n",
      "      Epoch    GPU_mem   box_loss   cls_loss   dfl_loss  Instances       Size\n"
     ]
    },
    {
     "name": "stderr",
     "output_type": "stream",
     "text": [
      "    118/150      3.48G     0.4615     0.3416     0.8729         30        640: 100%|██████████| 4/4 [00:02<00:00,  1.77it/s]\n",
      "                 Class     Images  Instances      Box(P          R      mAP50  mAP50-95): 100%|██████████| 1/1 [00:00<00:00,  3.13it/s]"
     ]
    },
    {
     "name": "stdout",
     "output_type": "stream",
     "text": [
      "                   all         10         31      0.763       0.47      0.592      0.473\n"
     ]
    },
    {
     "name": "stderr",
     "output_type": "stream",
     "text": [
      "\n"
     ]
    },
    {
     "name": "stdout",
     "output_type": "stream",
     "text": [
      "\n",
      "      Epoch    GPU_mem   box_loss   cls_loss   dfl_loss  Instances       Size\n"
     ]
    },
    {
     "name": "stderr",
     "output_type": "stream",
     "text": [
      "    119/150      3.51G     0.4557     0.3381      0.864         52        640: 100%|██████████| 4/4 [00:01<00:00,  2.51it/s]\n",
      "                 Class     Images  Instances      Box(P          R      mAP50  mAP50-95): 100%|██████████| 1/1 [00:00<00:00,  8.50it/s]"
     ]
    },
    {
     "name": "stdout",
     "output_type": "stream",
     "text": [
      "                   all         10         31      0.808      0.485      0.579      0.473\n"
     ]
    },
    {
     "name": "stderr",
     "output_type": "stream",
     "text": [
      "\n"
     ]
    },
    {
     "name": "stdout",
     "output_type": "stream",
     "text": [
      "\n",
      "      Epoch    GPU_mem   box_loss   cls_loss   dfl_loss  Instances       Size\n"
     ]
    },
    {
     "name": "stderr",
     "output_type": "stream",
     "text": [
      "    120/150       3.5G      0.405     0.3475       0.85         39        640: 100%|██████████| 4/4 [00:01<00:00,  2.46it/s]\n",
      "                 Class     Images  Instances      Box(P          R      mAP50  mAP50-95): 100%|██████████| 1/1 [00:00<00:00,  3.13it/s]"
     ]
    },
    {
     "name": "stdout",
     "output_type": "stream",
     "text": [
      "                   all         10         31      0.822      0.491      0.588      0.502\n"
     ]
    },
    {
     "name": "stderr",
     "output_type": "stream",
     "text": [
      "\n"
     ]
    },
    {
     "name": "stdout",
     "output_type": "stream",
     "text": [
      "\n",
      "      Epoch    GPU_mem   box_loss   cls_loss   dfl_loss  Instances       Size\n"
     ]
    },
    {
     "name": "stderr",
     "output_type": "stream",
     "text": [
      "    121/150      3.47G     0.3536     0.2924     0.8049         28        640: 100%|██████████| 4/4 [00:02<00:00,  1.75it/s]\n",
      "                 Class     Images  Instances      Box(P          R      mAP50  mAP50-95): 100%|██████████| 1/1 [00:00<00:00,  3.12it/s]"
     ]
    },
    {
     "name": "stdout",
     "output_type": "stream",
     "text": [
      "                   all         10         31      0.785      0.504      0.581      0.496\n"
     ]
    },
    {
     "name": "stderr",
     "output_type": "stream",
     "text": [
      "\n"
     ]
    },
    {
     "name": "stdout",
     "output_type": "stream",
     "text": [
      "\n",
      "      Epoch    GPU_mem   box_loss   cls_loss   dfl_loss  Instances       Size\n"
     ]
    },
    {
     "name": "stderr",
     "output_type": "stream",
     "text": [
      "    122/150       3.5G     0.4887     0.3552      0.893         26        640: 100%|██████████| 4/4 [00:03<00:00,  1.29it/s]\n",
      "                 Class     Images  Instances      Box(P          R      mAP50  mAP50-95): 100%|██████████| 1/1 [00:00<00:00,  3.12it/s]"
     ]
    },
    {
     "name": "stdout",
     "output_type": "stream",
     "text": [
      "                   all         10         31      0.759      0.509      0.584      0.499\n"
     ]
    },
    {
     "name": "stderr",
     "output_type": "stream",
     "text": [
      "\n"
     ]
    },
    {
     "name": "stdout",
     "output_type": "stream",
     "text": [
      "\n",
      "      Epoch    GPU_mem   box_loss   cls_loss   dfl_loss  Instances       Size\n"
     ]
    },
    {
     "name": "stderr",
     "output_type": "stream",
     "text": [
      "    123/150      3.48G     0.4287     0.3196     0.8308         29        640: 100%|██████████| 4/4 [00:01<00:00,  2.54it/s]\n",
      "                 Class     Images  Instances      Box(P          R      mAP50  mAP50-95): 100%|██████████| 1/1 [00:00<00:00,  8.48it/s]"
     ]
    },
    {
     "name": "stdout",
     "output_type": "stream",
     "text": [
      "                   all         10         31      0.759      0.509      0.584      0.499\n"
     ]
    },
    {
     "name": "stderr",
     "output_type": "stream",
     "text": [
      "\n"
     ]
    },
    {
     "name": "stdout",
     "output_type": "stream",
     "text": [
      "\n",
      "      Epoch    GPU_mem   box_loss   cls_loss   dfl_loss  Instances       Size\n"
     ]
    },
    {
     "name": "stderr",
     "output_type": "stream",
     "text": [
      "    124/150      3.48G     0.4209     0.3205     0.8318         34        640: 100%|██████████| 4/4 [00:03<00:00,  1.30it/s]\n",
      "                 Class     Images  Instances      Box(P          R      mAP50  mAP50-95): 100%|██████████| 1/1 [00:00<00:00,  3.13it/s]"
     ]
    },
    {
     "name": "stdout",
     "output_type": "stream",
     "text": [
      "                   all         10         31      0.763      0.509      0.583       0.48\n"
     ]
    },
    {
     "name": "stderr",
     "output_type": "stream",
     "text": [
      "\n"
     ]
    },
    {
     "name": "stdout",
     "output_type": "stream",
     "text": [
      "\n",
      "      Epoch    GPU_mem   box_loss   cls_loss   dfl_loss  Instances       Size\n"
     ]
    },
    {
     "name": "stderr",
     "output_type": "stream",
     "text": [
      "    125/150      3.48G     0.4355     0.3565     0.8271         37        640: 100%|██████████| 4/4 [00:02<00:00,  1.85it/s]\n",
      "                 Class     Images  Instances      Box(P          R      mAP50  mAP50-95): 100%|██████████| 1/1 [00:00<00:00,  3.13it/s]"
     ]
    },
    {
     "name": "stdout",
     "output_type": "stream",
     "text": [
      "                   all         10         31      0.758      0.509      0.582       0.47\n"
     ]
    },
    {
     "name": "stderr",
     "output_type": "stream",
     "text": [
      "\n"
     ]
    },
    {
     "name": "stdout",
     "output_type": "stream",
     "text": [
      "\n",
      "      Epoch    GPU_mem   box_loss   cls_loss   dfl_loss  Instances       Size\n"
     ]
    },
    {
     "name": "stderr",
     "output_type": "stream",
     "text": [
      "    126/150      3.47G     0.3913     0.3033     0.8296         33        640: 100%|██████████| 4/4 [00:02<00:00,  1.74it/s]\n",
      "                 Class     Images  Instances      Box(P          R      mAP50  mAP50-95): 100%|██████████| 1/1 [00:00<00:00,  3.12it/s]"
     ]
    },
    {
     "name": "stdout",
     "output_type": "stream",
     "text": [
      "                   all         10         31      0.757      0.509      0.584      0.471\n"
     ]
    },
    {
     "name": "stderr",
     "output_type": "stream",
     "text": [
      "\n"
     ]
    },
    {
     "name": "stdout",
     "output_type": "stream",
     "text": [
      "\n",
      "      Epoch    GPU_mem   box_loss   cls_loss   dfl_loss  Instances       Size\n"
     ]
    },
    {
     "name": "stderr",
     "output_type": "stream",
     "text": [
      "    127/150       3.5G     0.3906      0.325      0.811         47        640: 100%|██████████| 4/4 [00:03<00:00,  1.30it/s]\n",
      "                 Class     Images  Instances      Box(P          R      mAP50  mAP50-95): 100%|██████████| 1/1 [00:00<00:00,  3.13it/s]"
     ]
    },
    {
     "name": "stdout",
     "output_type": "stream",
     "text": [
      "                   all         10         31      0.773      0.509      0.596      0.476\n"
     ]
    },
    {
     "name": "stderr",
     "output_type": "stream",
     "text": [
      "\n"
     ]
    },
    {
     "name": "stdout",
     "output_type": "stream",
     "text": [
      "\n",
      "      Epoch    GPU_mem   box_loss   cls_loss   dfl_loss  Instances       Size\n"
     ]
    },
    {
     "name": "stderr",
     "output_type": "stream",
     "text": [
      "    128/150      3.48G      0.361     0.2876     0.8055         30        640: 100%|██████████| 4/4 [00:02<00:00,  1.93it/s]\n",
      "                 Class     Images  Instances      Box(P          R      mAP50  mAP50-95): 100%|██████████| 1/1 [00:00<00:00,  3.11it/s]"
     ]
    },
    {
     "name": "stdout",
     "output_type": "stream",
     "text": [
      "                   all         10         31      0.773      0.509      0.596      0.476\n"
     ]
    },
    {
     "name": "stderr",
     "output_type": "stream",
     "text": [
      "\n"
     ]
    },
    {
     "name": "stdout",
     "output_type": "stream",
     "text": [
      "\n",
      "      Epoch    GPU_mem   box_loss   cls_loss   dfl_loss  Instances       Size\n"
     ]
    },
    {
     "name": "stderr",
     "output_type": "stream",
     "text": [
      "    129/150      3.48G     0.3957     0.3336     0.8402         35        640: 100%|██████████| 4/4 [00:02<00:00,  1.35it/s]\n",
      "                 Class     Images  Instances      Box(P          R      mAP50  mAP50-95): 100%|██████████| 1/1 [00:00<00:00,  3.14it/s]"
     ]
    },
    {
     "name": "stdout",
     "output_type": "stream",
     "text": [
      "                   all         10         31      0.775      0.491      0.594      0.477\n"
     ]
    },
    {
     "name": "stderr",
     "output_type": "stream",
     "text": [
      "\n"
     ]
    },
    {
     "name": "stdout",
     "output_type": "stream",
     "text": [
      "\n",
      "      Epoch    GPU_mem   box_loss   cls_loss   dfl_loss  Instances       Size\n"
     ]
    },
    {
     "name": "stderr",
     "output_type": "stream",
     "text": [
      "    130/150       3.4G     0.3828      0.292     0.8291         35        640: 100%|██████████| 4/4 [00:02<00:00,  1.79it/s]\n",
      "                 Class     Images  Instances      Box(P          R      mAP50  mAP50-95): 100%|██████████| 1/1 [00:00<00:00,  3.14it/s]"
     ]
    },
    {
     "name": "stdout",
     "output_type": "stream",
     "text": [
      "                   all         10         31      0.768      0.463      0.605      0.504\n"
     ]
    },
    {
     "name": "stderr",
     "output_type": "stream",
     "text": [
      "\n"
     ]
    },
    {
     "name": "stdout",
     "output_type": "stream",
     "text": [
      "\n",
      "      Epoch    GPU_mem   box_loss   cls_loss   dfl_loss  Instances       Size\n"
     ]
    },
    {
     "name": "stderr",
     "output_type": "stream",
     "text": [
      "    131/150      3.49G     0.3899     0.3103     0.8549         52        640: 100%|██████████| 4/4 [00:02<00:00,  1.43it/s]\n",
      "                 Class     Images  Instances      Box(P          R      mAP50  mAP50-95): 100%|██████████| 1/1 [00:00<00:00,  3.14it/s]"
     ]
    },
    {
     "name": "stdout",
     "output_type": "stream",
     "text": [
      "                   all         10         31      0.781      0.454      0.597      0.503\n"
     ]
    },
    {
     "name": "stderr",
     "output_type": "stream",
     "text": [
      "\n"
     ]
    },
    {
     "name": "stdout",
     "output_type": "stream",
     "text": [
      "\n",
      "      Epoch    GPU_mem   box_loss   cls_loss   dfl_loss  Instances       Size\n"
     ]
    },
    {
     "name": "stderr",
     "output_type": "stream",
     "text": [
      "    132/150      3.47G     0.3734     0.2936     0.8467         43        640: 100%|██████████| 4/4 [00:02<00:00,  1.35it/s]\n",
      "                 Class     Images  Instances      Box(P          R      mAP50  mAP50-95): 100%|██████████| 1/1 [00:00<00:00,  3.16it/s]"
     ]
    },
    {
     "name": "stdout",
     "output_type": "stream",
     "text": [
      "                   all         10         31      0.795      0.454      0.597      0.503\n"
     ]
    },
    {
     "name": "stderr",
     "output_type": "stream",
     "text": [
      "\n"
     ]
    },
    {
     "name": "stdout",
     "output_type": "stream",
     "text": [
      "\n",
      "      Epoch    GPU_mem   box_loss   cls_loss   dfl_loss  Instances       Size\n"
     ]
    },
    {
     "name": "stderr",
     "output_type": "stream",
     "text": [
      "    133/150      3.48G     0.4017     0.3063     0.8137         42        640: 100%|██████████| 4/4 [00:02<00:00,  1.35it/s]\n",
      "                 Class     Images  Instances      Box(P          R      mAP50  mAP50-95): 100%|██████████| 1/1 [00:00<00:00,  3.18it/s]"
     ]
    },
    {
     "name": "stdout",
     "output_type": "stream",
     "text": [
      "                   all         10         31      0.795      0.454      0.597      0.503\n"
     ]
    },
    {
     "name": "stderr",
     "output_type": "stream",
     "text": [
      "\n"
     ]
    },
    {
     "name": "stdout",
     "output_type": "stream",
     "text": [
      "\n",
      "      Epoch    GPU_mem   box_loss   cls_loss   dfl_loss  Instances       Size\n"
     ]
    },
    {
     "name": "stderr",
     "output_type": "stream",
     "text": [
      "    134/150      3.48G      0.334     0.2897     0.8362         30        640: 100%|██████████| 4/4 [00:03<00:00,  1.28it/s]\n",
      "                 Class     Images  Instances      Box(P          R      mAP50  mAP50-95): 100%|██████████| 1/1 [00:00<00:00,  3.14it/s]"
     ]
    },
    {
     "name": "stdout",
     "output_type": "stream",
     "text": [
      "                   all         10         31      0.784      0.414        0.6      0.507\n"
     ]
    },
    {
     "name": "stderr",
     "output_type": "stream",
     "text": [
      "\n"
     ]
    },
    {
     "name": "stdout",
     "output_type": "stream",
     "text": [
      "\n",
      "      Epoch    GPU_mem   box_loss   cls_loss   dfl_loss  Instances       Size\n"
     ]
    },
    {
     "name": "stderr",
     "output_type": "stream",
     "text": [
      "    135/150      3.47G     0.3559      0.289     0.8028         50        640: 100%|██████████| 4/4 [00:02<00:00,  1.75it/s]\n",
      "                 Class     Images  Instances      Box(P          R      mAP50  mAP50-95): 100%|██████████| 1/1 [00:00<00:00,  3.13it/s]"
     ]
    },
    {
     "name": "stdout",
     "output_type": "stream",
     "text": [
      "                   all         10         31      0.735      0.398      0.606      0.515\n"
     ]
    },
    {
     "name": "stderr",
     "output_type": "stream",
     "text": [
      "\n"
     ]
    },
    {
     "name": "stdout",
     "output_type": "stream",
     "text": [
      "\n",
      "      Epoch    GPU_mem   box_loss   cls_loss   dfl_loss  Instances       Size\n"
     ]
    },
    {
     "name": "stderr",
     "output_type": "stream",
     "text": [
      "    136/150      3.49G     0.3547      0.289     0.8254         44        640: 100%|██████████| 4/4 [00:02<00:00,  1.35it/s]\n",
      "                 Class     Images  Instances      Box(P          R      mAP50  mAP50-95): 100%|██████████| 1/1 [00:00<00:00,  3.13it/s]"
     ]
    },
    {
     "name": "stdout",
     "output_type": "stream",
     "text": [
      "                   all         10         31      0.845      0.373      0.606      0.512\n"
     ]
    },
    {
     "name": "stderr",
     "output_type": "stream",
     "text": [
      "\n"
     ]
    },
    {
     "name": "stdout",
     "output_type": "stream",
     "text": [
      "\n",
      "      Epoch    GPU_mem   box_loss   cls_loss   dfl_loss  Instances       Size\n"
     ]
    },
    {
     "name": "stderr",
     "output_type": "stream",
     "text": [
      "    137/150       3.5G     0.3571     0.2777     0.8215         19        640: 100%|██████████| 4/4 [00:03<00:00,  1.30it/s]\n",
      "                 Class     Images  Instances      Box(P          R      mAP50  mAP50-95): 100%|██████████| 1/1 [00:00<00:00,  3.16it/s]"
     ]
    },
    {
     "name": "stdout",
     "output_type": "stream",
     "text": [
      "                   all         10         31      0.717      0.398      0.603      0.509\n"
     ]
    },
    {
     "name": "stderr",
     "output_type": "stream",
     "text": [
      "\n"
     ]
    },
    {
     "name": "stdout",
     "output_type": "stream",
     "text": [
      "\n",
      "      Epoch    GPU_mem   box_loss   cls_loss   dfl_loss  Instances       Size\n"
     ]
    },
    {
     "name": "stderr",
     "output_type": "stream",
     "text": [
      "    138/150      3.47G     0.3802     0.2939     0.8245         19        640: 100%|██████████| 4/4 [00:02<00:00,  1.37it/s]\n",
      "                 Class     Images  Instances      Box(P          R      mAP50  mAP50-95): 100%|██████████| 1/1 [00:00<00:00,  3.17it/s]"
     ]
    },
    {
     "name": "stdout",
     "output_type": "stream",
     "text": [
      "                   all         10         31      0.717      0.398      0.603      0.509\n"
     ]
    },
    {
     "name": "stderr",
     "output_type": "stream",
     "text": [
      "\n"
     ]
    },
    {
     "name": "stdout",
     "output_type": "stream",
     "text": [
      "\n",
      "      Epoch    GPU_mem   box_loss   cls_loss   dfl_loss  Instances       Size\n"
     ]
    },
    {
     "name": "stderr",
     "output_type": "stream",
     "text": [
      "    139/150      3.51G     0.3379     0.2694     0.8256         59        640: 100%|██████████| 4/4 [00:02<00:00,  1.36it/s]\n",
      "                 Class     Images  Instances      Box(P          R      mAP50  mAP50-95): 100%|██████████| 1/1 [00:00<00:00,  3.16it/s]"
     ]
    },
    {
     "name": "stdout",
     "output_type": "stream",
     "text": [
      "                   all         10         31      0.778      0.398        0.6       0.49\n"
     ]
    },
    {
     "name": "stderr",
     "output_type": "stream",
     "text": [
      "\n"
     ]
    },
    {
     "name": "stdout",
     "output_type": "stream",
     "text": [
      "\n",
      "      Epoch    GPU_mem   box_loss   cls_loss   dfl_loss  Instances       Size\n"
     ]
    },
    {
     "name": "stderr",
     "output_type": "stream",
     "text": [
      "    140/150      3.49G     0.3352     0.2794     0.8387         31        640: 100%|██████████| 4/4 [00:02<00:00,  1.36it/s]\n",
      "                 Class     Images  Instances      Box(P          R      mAP50  mAP50-95): 100%|██████████| 1/1 [00:00<00:00,  3.18it/s]"
     ]
    },
    {
     "name": "stdout",
     "output_type": "stream",
     "text": [
      "                   all         10         31      0.765      0.408      0.592      0.489\n"
     ]
    },
    {
     "name": "stderr",
     "output_type": "stream",
     "text": [
      "\n"
     ]
    },
    {
     "name": "stdout",
     "output_type": "stream",
     "text": [
      "Closing dataloader mosaic\n",
      "\n",
      "      Epoch    GPU_mem   box_loss   cls_loss   dfl_loss  Instances       Size\n"
     ]
    },
    {
     "name": "stderr",
     "output_type": "stream",
     "text": [
      "    141/150      3.47G     0.3241     0.2577     0.7705         18        640: 100%|██████████| 4/4 [00:03<00:00,  1.28it/s]\n",
      "                 Class     Images  Instances      Box(P          R      mAP50  mAP50-95): 100%|██████████| 1/1 [00:00<00:00,  3.10it/s]"
     ]
    },
    {
     "name": "stdout",
     "output_type": "stream",
     "text": [
      "                   all         10         31      0.763      0.409      0.589      0.475\n"
     ]
    },
    {
     "name": "stderr",
     "output_type": "stream",
     "text": [
      "\n"
     ]
    },
    {
     "name": "stdout",
     "output_type": "stream",
     "text": [
      "\n",
      "      Epoch    GPU_mem   box_loss   cls_loss   dfl_loss  Instances       Size\n"
     ]
    },
    {
     "name": "stderr",
     "output_type": "stream",
     "text": [
      "    142/150       3.5G     0.3404     0.2759     0.7855         19        640: 100%|██████████| 4/4 [00:03<00:00,  1.10it/s]\n",
      "                 Class     Images  Instances      Box(P          R      mAP50  mAP50-95): 100%|██████████| 1/1 [00:00<00:00,  3.17it/s]"
     ]
    },
    {
     "name": "stdout",
     "output_type": "stream",
     "text": [
      "                   all         10         31      0.761       0.41      0.536       0.44\n"
     ]
    },
    {
     "name": "stderr",
     "output_type": "stream",
     "text": [
      "\n"
     ]
    },
    {
     "name": "stdout",
     "output_type": "stream",
     "text": [
      "\n",
      "      Epoch    GPU_mem   box_loss   cls_loss   dfl_loss  Instances       Size\n"
     ]
    },
    {
     "name": "stderr",
     "output_type": "stream",
     "text": [
      "    143/150      3.48G     0.3107     0.2525     0.7991         25        640: 100%|██████████| 4/4 [00:03<00:00,  1.05it/s]\n",
      "                 Class     Images  Instances      Box(P          R      mAP50  mAP50-95): 100%|██████████| 1/1 [00:00<00:00,  3.12it/s]"
     ]
    },
    {
     "name": "stdout",
     "output_type": "stream",
     "text": [
      "                   all         10         31      0.761       0.41      0.536       0.44\n"
     ]
    },
    {
     "name": "stderr",
     "output_type": "stream",
     "text": [
      "\n"
     ]
    },
    {
     "name": "stdout",
     "output_type": "stream",
     "text": [
      "\n",
      "      Epoch    GPU_mem   box_loss   cls_loss   dfl_loss  Instances       Size\n"
     ]
    },
    {
     "name": "stderr",
     "output_type": "stream",
     "text": [
      "    144/150      3.51G     0.3244     0.2542      0.802         32        640: 100%|██████████| 4/4 [00:03<00:00,  1.11it/s]\n",
      "                 Class     Images  Instances      Box(P          R      mAP50  mAP50-95): 100%|██████████| 1/1 [00:00<00:00,  3.12it/s]"
     ]
    },
    {
     "name": "stdout",
     "output_type": "stream",
     "text": [
      "                   all         10         31      0.747      0.409      0.526      0.433\n"
     ]
    },
    {
     "name": "stderr",
     "output_type": "stream",
     "text": [
      "\n"
     ]
    },
    {
     "name": "stdout",
     "output_type": "stream",
     "text": [
      "\n",
      "      Epoch    GPU_mem   box_loss   cls_loss   dfl_loss  Instances       Size\n"
     ]
    },
    {
     "name": "stderr",
     "output_type": "stream",
     "text": [
      "    145/150      3.51G     0.3396     0.2549     0.8219         27        640: 100%|██████████| 4/4 [00:04<00:00,  1.16s/it]\n",
      "                 Class     Images  Instances      Box(P          R      mAP50  mAP50-95): 100%|██████████| 1/1 [00:00<00:00,  3.12it/s]"
     ]
    },
    {
     "name": "stdout",
     "output_type": "stream",
     "text": [
      "                   all         10         31      0.706      0.417      0.497      0.415\n"
     ]
    },
    {
     "name": "stderr",
     "output_type": "stream",
     "text": [
      "\n"
     ]
    },
    {
     "name": "stdout",
     "output_type": "stream",
     "text": [
      "\n",
      "      Epoch    GPU_mem   box_loss   cls_loss   dfl_loss  Instances       Size\n"
     ]
    },
    {
     "name": "stderr",
     "output_type": "stream",
     "text": [
      "    146/150       3.5G     0.3354     0.2572     0.8091         20        640: 100%|██████████| 4/4 [00:03<00:00,  1.00it/s]\n",
      "                 Class     Images  Instances      Box(P          R      mAP50  mAP50-95): 100%|██████████| 1/1 [00:00<00:00,  3.13it/s]"
     ]
    },
    {
     "name": "stdout",
     "output_type": "stream",
     "text": [
      "                   all         10         31      0.724      0.417      0.494      0.412\n"
     ]
    },
    {
     "name": "stderr",
     "output_type": "stream",
     "text": [
      "\n"
     ]
    },
    {
     "name": "stdout",
     "output_type": "stream",
     "text": [
      "\n",
      "      Epoch    GPU_mem   box_loss   cls_loss   dfl_loss  Instances       Size\n"
     ]
    },
    {
     "name": "stderr",
     "output_type": "stream",
     "text": [
      "    147/150      3.48G     0.3082     0.2417     0.7793         21        640: 100%|██████████| 4/4 [00:03<00:00,  1.10it/s]\n",
      "                 Class     Images  Instances      Box(P          R      mAP50  mAP50-95): 100%|██████████| 1/1 [00:00<00:00,  3.16it/s]"
     ]
    },
    {
     "name": "stdout",
     "output_type": "stream",
     "text": [
      "                   all         10         31      0.725      0.417      0.517      0.421\n"
     ]
    },
    {
     "name": "stderr",
     "output_type": "stream",
     "text": [
      "\n"
     ]
    },
    {
     "name": "stdout",
     "output_type": "stream",
     "text": [
      "\n",
      "      Epoch    GPU_mem   box_loss   cls_loss   dfl_loss  Instances       Size\n"
     ]
    },
    {
     "name": "stderr",
     "output_type": "stream",
     "text": [
      "    148/150      3.46G     0.3326     0.2465     0.8335         24        640: 100%|██████████| 4/4 [00:04<00:00,  1.14s/it]\n",
      "                 Class     Images  Instances      Box(P          R      mAP50  mAP50-95): 100%|██████████| 1/1 [00:00<00:00,  3.13it/s]"
     ]
    },
    {
     "name": "stdout",
     "output_type": "stream",
     "text": [
      "                   all         10         31      0.725      0.417      0.517      0.421\n"
     ]
    },
    {
     "name": "stderr",
     "output_type": "stream",
     "text": [
      "\n"
     ]
    },
    {
     "name": "stdout",
     "output_type": "stream",
     "text": [
      "\n",
      "      Epoch    GPU_mem   box_loss   cls_loss   dfl_loss  Instances       Size\n"
     ]
    },
    {
     "name": "stderr",
     "output_type": "stream",
     "text": [
      "    149/150      3.51G     0.3299     0.2446     0.7989         23        640: 100%|██████████| 4/4 [00:03<00:00,  1.04it/s]\n",
      "                 Class     Images  Instances      Box(P          R      mAP50  mAP50-95): 100%|██████████| 1/1 [00:00<00:00,  3.12it/s]"
     ]
    },
    {
     "name": "stdout",
     "output_type": "stream",
     "text": [
      "                   all         10         31      0.728      0.417      0.511      0.417\n"
     ]
    },
    {
     "name": "stderr",
     "output_type": "stream",
     "text": [
      "\n"
     ]
    },
    {
     "name": "stdout",
     "output_type": "stream",
     "text": [
      "\n",
      "      Epoch    GPU_mem   box_loss   cls_loss   dfl_loss  Instances       Size\n"
     ]
    },
    {
     "name": "stderr",
     "output_type": "stream",
     "text": [
      "    150/150      3.47G     0.2761     0.2324     0.7613         19        640: 100%|██████████| 4/4 [00:03<00:00,  1.11it/s]\n",
      "                 Class     Images  Instances      Box(P          R      mAP50  mAP50-95): 100%|██████████| 1/1 [00:00<00:00,  3.13it/s]"
     ]
    },
    {
     "name": "stdout",
     "output_type": "stream",
     "text": [
      "                   all         10         31       0.73      0.409      0.512      0.418\n"
     ]
    },
    {
     "name": "stderr",
     "output_type": "stream",
     "text": [
      "\n"
     ]
    },
    {
     "name": "stdout",
     "output_type": "stream",
     "text": [
      "\n",
      "150 epochs completed in 0.106 hours.\n",
      "Optimizer stripped from runs/detect/train7/weights/last.pt, 19.2MB\n",
      "Optimizer stripped from runs/detect/train7/weights/best.pt, 19.2MB\n",
      "\n",
      "Validating runs/detect/train7/weights/best.pt...\n",
      "Ultralytics 8.3.29 🚀 Python-3.11.5 torch-2.3.1 CUDA:0 (NVIDIA GeForce RTX 3050 Laptop GPU, 3797MiB)\n",
      "YOLO11s summary (fused): 238 layers, 9,413,574 parameters, 0 gradients\n"
     ]
    },
    {
     "name": "stderr",
     "output_type": "stream",
     "text": [
      "                 Class     Images  Instances      Box(P          R      mAP50  mAP50-95): 100%|██████████| 1/1 [00:00<00:00,  8.89it/s]\n"
     ]
    },
    {
     "name": "stdout",
     "output_type": "stream",
     "text": [
      "                   all         10         31      0.737      0.398      0.606      0.515\n",
      "                Unripe          9         27      0.889      0.295      0.665      0.538\n",
      "                  Ripe          3          4      0.585        0.5      0.546      0.491\n",
      "Speed: 0.2ms preprocess, 8.8ms inference, 0.0ms loss, 0.5ms postprocess per image\n",
      "Results saved to \u001b[1mruns/detect/train7\u001b[0m\n"
     ]
    }
   ],
   "source": [
    "results_small = model_small.train(data=\"YOLOv8Lemons/data.yaml\", epochs=150,batch=12)"
   ]
  },
  {
   "cell_type": "code",
   "execution_count": 9,
   "metadata": {},
   "outputs": [
    {
     "name": "stdout",
     "output_type": "stream",
     "text": [
      "\n",
      "0: 480x640 (no detections), 28.0ms\n",
      "Speed: 1.0ms preprocess, 28.0ms inference, 9.1ms postprocess per image at shape (1, 3, 480, 640)\n",
      "tensor([], device='cuda:0', size=(0, 6))\n",
      "\n",
      "0: 480x640 (no detections), 27.4ms\n",
      "Speed: 0.9ms preprocess, 27.4ms inference, 2.2ms postprocess per image at shape (1, 3, 480, 640)\n",
      "tensor([], device='cuda:0', size=(0, 6))\n",
      "\n",
      "0: 480x640 (no detections), 27.4ms\n",
      "Speed: 1.1ms preprocess, 27.4ms inference, 2.3ms postprocess per image at shape (1, 3, 480, 640)\n",
      "tensor([], device='cuda:0', size=(0, 6))\n",
      "\n",
      "0: 480x640 (no detections), 22.4ms\n",
      "Speed: 1.0ms preprocess, 22.4ms inference, 2.5ms postprocess per image at shape (1, 3, 480, 640)\n",
      "tensor([], device='cuda:0', size=(0, 6))\n",
      "\n",
      "0: 480x640 (no detections), 21.4ms\n",
      "Speed: 0.9ms preprocess, 21.4ms inference, 2.3ms postprocess per image at shape (1, 3, 480, 640)\n",
      "tensor([], device='cuda:0', size=(0, 6))\n",
      "\n",
      "0: 480x640 (no detections), 20.4ms\n",
      "Speed: 0.9ms preprocess, 20.4ms inference, 1.7ms postprocess per image at shape (1, 3, 480, 640)\n",
      "tensor([], device='cuda:0', size=(0, 6))\n",
      "\n",
      "0: 480x640 (no detections), 20.4ms\n",
      "Speed: 0.9ms preprocess, 20.4ms inference, 1.7ms postprocess per image at shape (1, 3, 480, 640)\n",
      "tensor([], device='cuda:0', size=(0, 6))\n",
      "\n",
      "0: 480x640 (no detections), 20.4ms\n",
      "Speed: 1.0ms preprocess, 20.4ms inference, 1.7ms postprocess per image at shape (1, 3, 480, 640)\n",
      "tensor([], device='cuda:0', size=(0, 6))\n",
      "\n",
      "0: 480x640 (no detections), 20.4ms\n",
      "Speed: 1.0ms preprocess, 20.4ms inference, 1.8ms postprocess per image at shape (1, 3, 480, 640)\n",
      "tensor([], device='cuda:0', size=(0, 6))\n",
      "\n",
      "0: 480x640 (no detections), 20.4ms\n",
      "Speed: 1.0ms preprocess, 20.4ms inference, 1.5ms postprocess per image at shape (1, 3, 480, 640)\n",
      "tensor([], device='cuda:0', size=(0, 6))\n",
      "\n",
      "0: 480x640 (no detections), 20.4ms\n",
      "Speed: 1.0ms preprocess, 20.4ms inference, 1.8ms postprocess per image at shape (1, 3, 480, 640)\n",
      "tensor([], device='cuda:0', size=(0, 6))\n",
      "\n",
      "0: 480x640 (no detections), 20.4ms\n",
      "Speed: 1.1ms preprocess, 20.4ms inference, 1.7ms postprocess per image at shape (1, 3, 480, 640)\n",
      "tensor([], device='cuda:0', size=(0, 6))\n",
      "\n",
      "0: 480x640 (no detections), 20.5ms\n",
      "Speed: 1.0ms preprocess, 20.5ms inference, 1.7ms postprocess per image at shape (1, 3, 480, 640)\n",
      "tensor([], device='cuda:0', size=(0, 6))\n",
      "\n",
      "0: 480x640 (no detections), 20.4ms\n",
      "Speed: 1.4ms preprocess, 20.4ms inference, 1.8ms postprocess per image at shape (1, 3, 480, 640)\n",
      "tensor([], device='cuda:0', size=(0, 6))\n",
      "\n",
      "0: 480x640 (no detections), 20.4ms\n",
      "Speed: 0.9ms preprocess, 20.4ms inference, 1.8ms postprocess per image at shape (1, 3, 480, 640)\n",
      "tensor([], device='cuda:0', size=(0, 6))\n",
      "\n",
      "0: 480x640 (no detections), 20.4ms\n",
      "Speed: 0.9ms preprocess, 20.4ms inference, 1.7ms postprocess per image at shape (1, 3, 480, 640)\n",
      "tensor([], device='cuda:0', size=(0, 6))\n",
      "\n",
      "0: 480x640 (no detections), 20.4ms\n",
      "Speed: 1.0ms preprocess, 20.4ms inference, 1.7ms postprocess per image at shape (1, 3, 480, 640)\n",
      "tensor([], device='cuda:0', size=(0, 6))\n",
      "\n",
      "0: 480x640 (no detections), 20.4ms\n",
      "Speed: 0.9ms preprocess, 20.4ms inference, 1.7ms postprocess per image at shape (1, 3, 480, 640)\n",
      "tensor([], device='cuda:0', size=(0, 6))\n",
      "\n",
      "0: 480x640 (no detections), 20.4ms\n",
      "Speed: 0.9ms preprocess, 20.4ms inference, 1.8ms postprocess per image at shape (1, 3, 480, 640)\n",
      "tensor([], device='cuda:0', size=(0, 6))\n",
      "\n",
      "0: 480x640 (no detections), 20.4ms\n",
      "Speed: 0.9ms preprocess, 20.4ms inference, 1.8ms postprocess per image at shape (1, 3, 480, 640)\n",
      "tensor([], device='cuda:0', size=(0, 6))\n",
      "\n",
      "0: 480x640 (no detections), 20.4ms\n",
      "Speed: 1.0ms preprocess, 20.4ms inference, 1.8ms postprocess per image at shape (1, 3, 480, 640)\n",
      "tensor([], device='cuda:0', size=(0, 6))\n",
      "\n",
      "0: 480x640 (no detections), 20.4ms\n",
      "Speed: 0.9ms preprocess, 20.4ms inference, 1.8ms postprocess per image at shape (1, 3, 480, 640)\n",
      "tensor([], device='cuda:0', size=(0, 6))\n",
      "\n",
      "0: 480x640 (no detections), 27.4ms\n",
      "Speed: 0.9ms preprocess, 27.4ms inference, 1.7ms postprocess per image at shape (1, 3, 480, 640)\n",
      "tensor([], device='cuda:0', size=(0, 6))\n",
      "\n",
      "0: 480x640 (no detections), 27.5ms\n",
      "Speed: 1.3ms preprocess, 27.5ms inference, 1.8ms postprocess per image at shape (1, 3, 480, 640)\n",
      "tensor([], device='cuda:0', size=(0, 6))\n",
      "\n",
      "0: 480x640 (no detections), 27.4ms\n",
      "Speed: 1.0ms preprocess, 27.4ms inference, 2.3ms postprocess per image at shape (1, 3, 480, 640)\n",
      "tensor([], device='cuda:0', size=(0, 6))\n",
      "\n",
      "0: 480x640 (no detections), 27.4ms\n",
      "Speed: 1.0ms preprocess, 27.4ms inference, 1.9ms postprocess per image at shape (1, 3, 480, 640)\n",
      "tensor([], device='cuda:0', size=(0, 6))\n",
      "\n",
      "0: 480x640 (no detections), 27.4ms\n",
      "Speed: 0.9ms preprocess, 27.4ms inference, 1.9ms postprocess per image at shape (1, 3, 480, 640)\n",
      "tensor([], device='cuda:0', size=(0, 6))\n",
      "\n",
      "0: 480x640 (no detections), 27.4ms\n",
      "Speed: 0.9ms preprocess, 27.4ms inference, 1.6ms postprocess per image at shape (1, 3, 480, 640)\n",
      "tensor([], device='cuda:0', size=(0, 6))\n",
      "\n",
      "0: 480x640 (no detections), 27.4ms\n",
      "Speed: 0.9ms preprocess, 27.4ms inference, 1.9ms postprocess per image at shape (1, 3, 480, 640)\n",
      "tensor([], device='cuda:0', size=(0, 6))\n",
      "\n",
      "0: 480x640 (no detections), 27.4ms\n",
      "Speed: 1.0ms preprocess, 27.4ms inference, 1.8ms postprocess per image at shape (1, 3, 480, 640)\n",
      "tensor([], device='cuda:0', size=(0, 6))\n",
      "\n",
      "0: 480x640 (no detections), 27.4ms\n",
      "Speed: 0.9ms preprocess, 27.4ms inference, 1.9ms postprocess per image at shape (1, 3, 480, 640)\n",
      "tensor([], device='cuda:0', size=(0, 6))\n",
      "\n",
      "0: 480x640 (no detections), 27.5ms\n",
      "Speed: 1.0ms preprocess, 27.5ms inference, 1.9ms postprocess per image at shape (1, 3, 480, 640)\n",
      "tensor([], device='cuda:0', size=(0, 6))\n",
      "\n",
      "0: 480x640 (no detections), 27.5ms\n",
      "Speed: 1.0ms preprocess, 27.5ms inference, 2.1ms postprocess per image at shape (1, 3, 480, 640)\n",
      "tensor([], device='cuda:0', size=(0, 6))\n",
      "\n",
      "0: 480x640 (no detections), 27.4ms\n",
      "Speed: 1.1ms preprocess, 27.4ms inference, 9.6ms postprocess per image at shape (1, 3, 480, 640)\n",
      "tensor([], device='cuda:0', size=(0, 6))\n",
      "\n",
      "0: 480x640 (no detections), 27.4ms\n",
      "Speed: 1.0ms preprocess, 27.4ms inference, 1.9ms postprocess per image at shape (1, 3, 480, 640)\n",
      "tensor([], device='cuda:0', size=(0, 6))\n",
      "\n",
      "0: 480x640 (no detections), 27.4ms\n",
      "Speed: 0.9ms preprocess, 27.4ms inference, 1.8ms postprocess per image at shape (1, 3, 480, 640)\n",
      "tensor([], device='cuda:0', size=(0, 6))\n",
      "\n",
      "0: 480x640 (no detections), 27.4ms\n",
      "Speed: 1.0ms preprocess, 27.4ms inference, 1.9ms postprocess per image at shape (1, 3, 480, 640)\n",
      "tensor([], device='cuda:0', size=(0, 6))\n",
      "\n",
      "0: 480x640 (no detections), 27.4ms\n",
      "Speed: 0.9ms preprocess, 27.4ms inference, 1.9ms postprocess per image at shape (1, 3, 480, 640)\n",
      "tensor([], device='cuda:0', size=(0, 6))\n",
      "\n",
      "0: 480x640 (no detections), 27.4ms\n",
      "Speed: 1.0ms preprocess, 27.4ms inference, 1.9ms postprocess per image at shape (1, 3, 480, 640)\n",
      "tensor([], device='cuda:0', size=(0, 6))\n",
      "\n",
      "0: 480x640 (no detections), 27.5ms\n",
      "Speed: 1.0ms preprocess, 27.5ms inference, 1.9ms postprocess per image at shape (1, 3, 480, 640)\n",
      "tensor([], device='cuda:0', size=(0, 6))\n",
      "\n",
      "0: 480x640 (no detections), 27.5ms\n",
      "Speed: 1.0ms preprocess, 27.5ms inference, 1.8ms postprocess per image at shape (1, 3, 480, 640)\n",
      "tensor([], device='cuda:0', size=(0, 6))\n",
      "\n",
      "0: 480x640 (no detections), 27.5ms\n",
      "Speed: 1.0ms preprocess, 27.5ms inference, 1.7ms postprocess per image at shape (1, 3, 480, 640)\n",
      "tensor([], device='cuda:0', size=(0, 6))\n",
      "\n",
      "0: 480x640 (no detections), 27.4ms\n",
      "Speed: 1.0ms preprocess, 27.4ms inference, 1.8ms postprocess per image at shape (1, 3, 480, 640)\n",
      "tensor([], device='cuda:0', size=(0, 6))\n",
      "\n",
      "0: 480x640 (no detections), 27.4ms\n",
      "Speed: 1.0ms preprocess, 27.4ms inference, 9.8ms postprocess per image at shape (1, 3, 480, 640)\n",
      "tensor([], device='cuda:0', size=(0, 6))\n",
      "\n",
      "0: 480x640 (no detections), 27.5ms\n",
      "Speed: 1.0ms preprocess, 27.5ms inference, 1.8ms postprocess per image at shape (1, 3, 480, 640)\n",
      "tensor([], device='cuda:0', size=(0, 6))\n",
      "\n",
      "0: 480x640 (no detections), 27.4ms\n",
      "Speed: 1.0ms preprocess, 27.4ms inference, 1.8ms postprocess per image at shape (1, 3, 480, 640)\n",
      "tensor([], device='cuda:0', size=(0, 6))\n",
      "\n",
      "0: 480x640 (no detections), 27.4ms\n",
      "Speed: 1.1ms preprocess, 27.4ms inference, 2.0ms postprocess per image at shape (1, 3, 480, 640)\n",
      "tensor([], device='cuda:0', size=(0, 6))\n",
      "\n",
      "0: 480x640 (no detections), 27.4ms\n",
      "Speed: 1.0ms preprocess, 27.4ms inference, 2.4ms postprocess per image at shape (1, 3, 480, 640)\n",
      "tensor([], device='cuda:0', size=(0, 6))\n",
      "\n",
      "0: 480x640 (no detections), 27.5ms\n",
      "Speed: 1.1ms preprocess, 27.5ms inference, 1.8ms postprocess per image at shape (1, 3, 480, 640)\n",
      "tensor([], device='cuda:0', size=(0, 6))\n",
      "\n",
      "0: 480x640 (no detections), 27.4ms\n",
      "Speed: 1.0ms preprocess, 27.4ms inference, 1.8ms postprocess per image at shape (1, 3, 480, 640)\n",
      "tensor([], device='cuda:0', size=(0, 6))\n",
      "\n",
      "0: 480x640 (no detections), 27.4ms\n",
      "Speed: 0.9ms preprocess, 27.4ms inference, 1.7ms postprocess per image at shape (1, 3, 480, 640)\n",
      "tensor([], device='cuda:0', size=(0, 6))\n",
      "\n",
      "0: 480x640 (no detections), 27.5ms\n",
      "Speed: 1.0ms preprocess, 27.5ms inference, 1.9ms postprocess per image at shape (1, 3, 480, 640)\n",
      "tensor([], device='cuda:0', size=(0, 6))\n",
      "\n",
      "0: 480x640 (no detections), 27.4ms\n",
      "Speed: 0.9ms preprocess, 27.4ms inference, 1.7ms postprocess per image at shape (1, 3, 480, 640)\n",
      "tensor([], device='cuda:0', size=(0, 6))\n",
      "\n",
      "0: 480x640 (no detections), 27.4ms\n",
      "Speed: 1.0ms preprocess, 27.4ms inference, 10.0ms postprocess per image at shape (1, 3, 480, 640)\n",
      "tensor([], device='cuda:0', size=(0, 6))\n",
      "\n",
      "0: 480x640 (no detections), 27.5ms\n",
      "Speed: 1.0ms preprocess, 27.5ms inference, 1.8ms postprocess per image at shape (1, 3, 480, 640)\n",
      "tensor([], device='cuda:0', size=(0, 6))\n",
      "\n",
      "0: 480x640 (no detections), 27.5ms\n",
      "Speed: 1.0ms preprocess, 27.5ms inference, 1.9ms postprocess per image at shape (1, 3, 480, 640)\n",
      "tensor([], device='cuda:0', size=(0, 6))\n",
      "\n",
      "0: 480x640 (no detections), 27.4ms\n",
      "Speed: 1.0ms preprocess, 27.4ms inference, 1.6ms postprocess per image at shape (1, 3, 480, 640)\n",
      "tensor([], device='cuda:0', size=(0, 6))\n",
      "\n",
      "0: 480x640 (no detections), 27.4ms\n",
      "Speed: 1.0ms preprocess, 27.4ms inference, 1.9ms postprocess per image at shape (1, 3, 480, 640)\n",
      "tensor([], device='cuda:0', size=(0, 6))\n",
      "\n",
      "0: 480x640 (no detections), 27.5ms\n",
      "Speed: 1.1ms preprocess, 27.5ms inference, 2.1ms postprocess per image at shape (1, 3, 480, 640)\n",
      "tensor([], device='cuda:0', size=(0, 6))\n",
      "\n",
      "0: 480x640 (no detections), 27.4ms\n",
      "Speed: 1.0ms preprocess, 27.4ms inference, 1.8ms postprocess per image at shape (1, 3, 480, 640)\n",
      "tensor([], device='cuda:0', size=(0, 6))\n",
      "\n",
      "0: 480x640 (no detections), 27.4ms\n",
      "Speed: 1.0ms preprocess, 27.4ms inference, 2.1ms postprocess per image at shape (1, 3, 480, 640)\n",
      "tensor([], device='cuda:0', size=(0, 6))\n",
      "\n",
      "0: 480x640 (no detections), 27.4ms\n",
      "Speed: 0.9ms preprocess, 27.4ms inference, 1.8ms postprocess per image at shape (1, 3, 480, 640)\n",
      "tensor([], device='cuda:0', size=(0, 6))\n",
      "\n",
      "0: 480x640 (no detections), 27.4ms\n",
      "Speed: 1.0ms preprocess, 27.4ms inference, 2.1ms postprocess per image at shape (1, 3, 480, 640)\n",
      "tensor([], device='cuda:0', size=(0, 6))\n",
      "\n",
      "0: 480x640 (no detections), 27.5ms\n",
      "Speed: 1.1ms preprocess, 27.5ms inference, 2.0ms postprocess per image at shape (1, 3, 480, 640)\n",
      "tensor([], device='cuda:0', size=(0, 6))\n",
      "\n",
      "0: 480x640 (no detections), 27.4ms\n",
      "Speed: 0.9ms preprocess, 27.4ms inference, 8.8ms postprocess per image at shape (1, 3, 480, 640)\n",
      "tensor([], device='cuda:0', size=(0, 6))\n",
      "\n",
      "0: 480x640 (no detections), 26.4ms\n",
      "Speed: 1.0ms preprocess, 26.4ms inference, 2.5ms postprocess per image at shape (1, 3, 480, 640)\n",
      "tensor([], device='cuda:0', size=(0, 6))\n",
      "\n",
      "0: 480x640 (no detections), 26.4ms\n",
      "Speed: 1.2ms preprocess, 26.4ms inference, 2.0ms postprocess per image at shape (1, 3, 480, 640)\n",
      "tensor([], device='cuda:0', size=(0, 6))\n",
      "\n",
      "0: 480x640 (no detections), 26.3ms\n",
      "Speed: 1.0ms preprocess, 26.3ms inference, 1.9ms postprocess per image at shape (1, 3, 480, 640)\n",
      "tensor([], device='cuda:0', size=(0, 6))\n",
      "\n",
      "0: 480x640 (no detections), 26.1ms\n",
      "Speed: 1.1ms preprocess, 26.1ms inference, 2.2ms postprocess per image at shape (1, 3, 480, 640)\n",
      "tensor([], device='cuda:0', size=(0, 6))\n",
      "\n",
      "0: 480x640 (no detections), 26.1ms\n",
      "Speed: 0.9ms preprocess, 26.1ms inference, 1.8ms postprocess per image at shape (1, 3, 480, 640)\n",
      "tensor([], device='cuda:0', size=(0, 6))\n",
      "\n",
      "0: 480x640 (no detections), 26.1ms\n",
      "Speed: 1.0ms preprocess, 26.1ms inference, 2.8ms postprocess per image at shape (1, 3, 480, 640)\n",
      "tensor([], device='cuda:0', size=(0, 6))\n",
      "\n",
      "0: 480x640 (no detections), 25.2ms\n",
      "Speed: 1.2ms preprocess, 25.2ms inference, 1.6ms postprocess per image at shape (1, 3, 480, 640)\n",
      "tensor([], device='cuda:0', size=(0, 6))\n",
      "\n",
      "0: 480x640 (no detections), 23.2ms\n",
      "Speed: 0.9ms preprocess, 23.2ms inference, 2.0ms postprocess per image at shape (1, 3, 480, 640)\n",
      "tensor([], device='cuda:0', size=(0, 6))\n",
      "\n",
      "0: 480x640 (no detections), 23.3ms\n",
      "Speed: 0.9ms preprocess, 23.3ms inference, 1.6ms postprocess per image at shape (1, 3, 480, 640)\n",
      "tensor([], device='cuda:0', size=(0, 6))\n",
      "\n",
      "0: 480x640 (no detections), 23.3ms\n",
      "Speed: 1.0ms preprocess, 23.3ms inference, 2.0ms postprocess per image at shape (1, 3, 480, 640)\n",
      "tensor([], device='cuda:0', size=(0, 6))\n",
      "\n",
      "0: 480x640 (no detections), 22.8ms\n",
      "Speed: 1.2ms preprocess, 22.8ms inference, 2.1ms postprocess per image at shape (1, 3, 480, 640)\n",
      "tensor([], device='cuda:0', size=(0, 6))\n",
      "\n",
      "0: 480x640 (no detections), 22.8ms\n",
      "Speed: 1.2ms preprocess, 22.8ms inference, 2.1ms postprocess per image at shape (1, 3, 480, 640)\n",
      "tensor([], device='cuda:0', size=(0, 6))\n",
      "\n",
      "0: 480x640 (no detections), 22.8ms\n",
      "Speed: 1.0ms preprocess, 22.8ms inference, 2.3ms postprocess per image at shape (1, 3, 480, 640)\n",
      "tensor([], device='cuda:0', size=(0, 6))\n",
      "\n",
      "0: 480x640 (no detections), 22.8ms\n",
      "Speed: 1.3ms preprocess, 22.8ms inference, 1.7ms postprocess per image at shape (1, 3, 480, 640)\n",
      "tensor([], device='cuda:0', size=(0, 6))\n",
      "\n",
      "0: 480x640 (no detections), 22.8ms\n",
      "Speed: 1.1ms preprocess, 22.8ms inference, 2.3ms postprocess per image at shape (1, 3, 480, 640)\n",
      "tensor([], device='cuda:0', size=(0, 6))\n",
      "\n",
      "0: 480x640 (no detections), 22.8ms\n",
      "Speed: 1.0ms preprocess, 22.8ms inference, 2.4ms postprocess per image at shape (1, 3, 480, 640)\n",
      "tensor([], device='cuda:0', size=(0, 6))\n",
      "\n",
      "0: 480x640 (no detections), 22.6ms\n",
      "Speed: 1.0ms preprocess, 22.6ms inference, 8.7ms postprocess per image at shape (1, 3, 480, 640)\n",
      "tensor([], device='cuda:0', size=(0, 6))\n",
      "\n",
      "0: 480x640 (no detections), 22.1ms\n",
      "Speed: 1.0ms preprocess, 22.1ms inference, 2.2ms postprocess per image at shape (1, 3, 480, 640)\n",
      "tensor([], device='cuda:0', size=(0, 6))\n",
      "\n",
      "0: 480x640 (no detections), 22.0ms\n",
      "Speed: 1.1ms preprocess, 22.0ms inference, 1.9ms postprocess per image at shape (1, 3, 480, 640)\n",
      "tensor([], device='cuda:0', size=(0, 6))\n",
      "\n",
      "0: 480x640 (no detections), 22.0ms\n",
      "Speed: 1.1ms preprocess, 22.0ms inference, 2.1ms postprocess per image at shape (1, 3, 480, 640)\n",
      "tensor([], device='cuda:0', size=(0, 6))\n",
      "\n",
      "0: 480x640 (no detections), 22.0ms\n",
      "Speed: 1.0ms preprocess, 22.0ms inference, 2.1ms postprocess per image at shape (1, 3, 480, 640)\n",
      "tensor([], device='cuda:0', size=(0, 6))\n",
      "\n",
      "0: 480x640 (no detections), 22.0ms\n",
      "Speed: 1.2ms preprocess, 22.0ms inference, 1.6ms postprocess per image at shape (1, 3, 480, 640)\n",
      "tensor([], device='cuda:0', size=(0, 6))\n",
      "\n",
      "0: 480x640 (no detections), 22.0ms\n",
      "Speed: 1.0ms preprocess, 22.0ms inference, 2.2ms postprocess per image at shape (1, 3, 480, 640)\n",
      "tensor([], device='cuda:0', size=(0, 6))\n",
      "\n",
      "0: 480x640 (no detections), 22.0ms\n",
      "Speed: 1.2ms preprocess, 22.0ms inference, 1.8ms postprocess per image at shape (1, 3, 480, 640)\n",
      "tensor([], device='cuda:0', size=(0, 6))\n",
      "\n",
      "0: 480x640 (no detections), 22.0ms\n",
      "Speed: 1.1ms preprocess, 22.0ms inference, 2.0ms postprocess per image at shape (1, 3, 480, 640)\n",
      "tensor([], device='cuda:0', size=(0, 6))\n",
      "\n",
      "0: 480x640 (no detections), 22.0ms\n",
      "Speed: 1.0ms preprocess, 22.0ms inference, 2.3ms postprocess per image at shape (1, 3, 480, 640)\n",
      "tensor([], device='cuda:0', size=(0, 6))\n",
      "\n",
      "0: 480x640 (no detections), 22.0ms\n",
      "Speed: 1.0ms preprocess, 22.0ms inference, 1.9ms postprocess per image at shape (1, 3, 480, 640)\n",
      "tensor([], device='cuda:0', size=(0, 6))\n",
      "\n",
      "0: 480x640 (no detections), 21.2ms\n",
      "Speed: 1.0ms preprocess, 21.2ms inference, 2.3ms postprocess per image at shape (1, 3, 480, 640)\n",
      "tensor([], device='cuda:0', size=(0, 6))\n",
      "\n",
      "0: 480x640 (no detections), 21.2ms\n",
      "Speed: 1.1ms preprocess, 21.2ms inference, 1.8ms postprocess per image at shape (1, 3, 480, 640)\n",
      "tensor([], device='cuda:0', size=(0, 6))\n",
      "\n",
      "0: 480x640 (no detections), 21.3ms\n",
      "Speed: 1.2ms preprocess, 21.3ms inference, 2.0ms postprocess per image at shape (1, 3, 480, 640)\n",
      "tensor([], device='cuda:0', size=(0, 6))\n",
      "\n",
      "0: 480x640 (no detections), 21.3ms\n",
      "Speed: 1.0ms preprocess, 21.3ms inference, 2.2ms postprocess per image at shape (1, 3, 480, 640)\n",
      "tensor([], device='cuda:0', size=(0, 6))\n",
      "\n",
      "0: 480x640 (no detections), 21.3ms\n",
      "Speed: 1.4ms preprocess, 21.3ms inference, 1.8ms postprocess per image at shape (1, 3, 480, 640)\n",
      "tensor([], device='cuda:0', size=(0, 6))\n",
      "\n",
      "0: 480x640 (no detections), 21.3ms\n",
      "Speed: 1.1ms preprocess, 21.3ms inference, 2.2ms postprocess per image at shape (1, 3, 480, 640)\n",
      "tensor([], device='cuda:0', size=(0, 6))\n",
      "\n",
      "0: 480x640 (no detections), 21.2ms\n",
      "Speed: 1.1ms preprocess, 21.2ms inference, 10.3ms postprocess per image at shape (1, 3, 480, 640)\n",
      "tensor([], device='cuda:0', size=(0, 6))\n",
      "\n",
      "0: 480x640 (no detections), 21.3ms\n",
      "Speed: 1.6ms preprocess, 21.3ms inference, 1.8ms postprocess per image at shape (1, 3, 480, 640)\n",
      "tensor([], device='cuda:0', size=(0, 6))\n",
      "\n",
      "0: 480x640 (no detections), 21.2ms\n",
      "Speed: 1.0ms preprocess, 21.2ms inference, 1.9ms postprocess per image at shape (1, 3, 480, 640)\n",
      "tensor([], device='cuda:0', size=(0, 6))\n",
      "\n",
      "0: 480x640 (no detections), 21.2ms\n",
      "Speed: 1.3ms preprocess, 21.2ms inference, 1.8ms postprocess per image at shape (1, 3, 480, 640)\n",
      "tensor([], device='cuda:0', size=(0, 6))\n",
      "\n",
      "0: 480x640 (no detections), 21.2ms\n",
      "Speed: 1.0ms preprocess, 21.2ms inference, 2.2ms postprocess per image at shape (1, 3, 480, 640)\n",
      "tensor([], device='cuda:0', size=(0, 6))\n",
      "\n",
      "0: 480x640 (no detections), 21.2ms\n",
      "Speed: 1.0ms preprocess, 21.2ms inference, 1.8ms postprocess per image at shape (1, 3, 480, 640)\n",
      "tensor([], device='cuda:0', size=(0, 6))\n",
      "\n",
      "0: 480x640 (no detections), 21.2ms\n",
      "Speed: 1.2ms preprocess, 21.2ms inference, 2.6ms postprocess per image at shape (1, 3, 480, 640)\n",
      "tensor([], device='cuda:0', size=(0, 6))\n",
      "\n",
      "0: 480x640 (no detections), 21.2ms\n",
      "Speed: 1.0ms preprocess, 21.2ms inference, 2.2ms postprocess per image at shape (1, 3, 480, 640)\n",
      "tensor([], device='cuda:0', size=(0, 6))\n",
      "\n",
      "0: 480x640 (no detections), 21.2ms\n",
      "Speed: 1.1ms preprocess, 21.2ms inference, 1.9ms postprocess per image at shape (1, 3, 480, 640)\n",
      "tensor([], device='cuda:0', size=(0, 6))\n",
      "\n",
      "0: 480x640 (no detections), 21.2ms\n",
      "Speed: 1.0ms preprocess, 21.2ms inference, 1.9ms postprocess per image at shape (1, 3, 480, 640)\n",
      "tensor([], device='cuda:0', size=(0, 6))\n",
      "\n",
      "0: 480x640 (no detections), 21.2ms\n",
      "Speed: 1.0ms preprocess, 21.2ms inference, 1.8ms postprocess per image at shape (1, 3, 480, 640)\n",
      "tensor([], device='cuda:0', size=(0, 6))\n",
      "\n",
      "0: 480x640 (no detections), 21.2ms\n",
      "Speed: 1.2ms preprocess, 21.2ms inference, 1.8ms postprocess per image at shape (1, 3, 480, 640)\n",
      "tensor([], device='cuda:0', size=(0, 6))\n",
      "\n",
      "0: 480x640 (no detections), 21.2ms\n",
      "Speed: 1.5ms preprocess, 21.2ms inference, 2.8ms postprocess per image at shape (1, 3, 480, 640)\n",
      "tensor([], device='cuda:0', size=(0, 6))\n",
      "\n",
      "0: 480x640 (no detections), 21.2ms\n",
      "Speed: 1.1ms preprocess, 21.2ms inference, 1.8ms postprocess per image at shape (1, 3, 480, 640)\n",
      "tensor([], device='cuda:0', size=(0, 6))\n",
      "\n",
      "0: 480x640 (no detections), 21.3ms\n",
      "Speed: 1.2ms preprocess, 21.3ms inference, 2.2ms postprocess per image at shape (1, 3, 480, 640)\n",
      "tensor([], device='cuda:0', size=(0, 6))\n",
      "\n",
      "0: 480x640 (no detections), 21.2ms\n",
      "Speed: 1.0ms preprocess, 21.2ms inference, 1.9ms postprocess per image at shape (1, 3, 480, 640)\n",
      "tensor([], device='cuda:0', size=(0, 6))\n",
      "\n",
      "0: 480x640 (no detections), 21.3ms\n",
      "Speed: 1.5ms preprocess, 21.3ms inference, 2.1ms postprocess per image at shape (1, 3, 480, 640)\n",
      "tensor([], device='cuda:0', size=(0, 6))\n",
      "\n",
      "0: 480x640 (no detections), 21.2ms\n",
      "Speed: 1.0ms preprocess, 21.2ms inference, 10.3ms postprocess per image at shape (1, 3, 480, 640)\n",
      "tensor([], device='cuda:0', size=(0, 6))\n",
      "\n",
      "0: 480x640 (no detections), 21.3ms\n",
      "Speed: 1.1ms preprocess, 21.3ms inference, 1.9ms postprocess per image at shape (1, 3, 480, 640)\n",
      "tensor([], device='cuda:0', size=(0, 6))\n",
      "\n",
      "0: 480x640 (no detections), 21.2ms\n",
      "Speed: 1.0ms preprocess, 21.2ms inference, 2.4ms postprocess per image at shape (1, 3, 480, 640)\n",
      "tensor([], device='cuda:0', size=(0, 6))\n",
      "\n",
      "0: 480x640 (no detections), 21.2ms\n",
      "Speed: 1.3ms preprocess, 21.2ms inference, 1.9ms postprocess per image at shape (1, 3, 480, 640)\n",
      "tensor([], device='cuda:0', size=(0, 6))\n",
      "\n",
      "0: 480x640 (no detections), 21.3ms\n",
      "Speed: 1.4ms preprocess, 21.3ms inference, 2.0ms postprocess per image at shape (1, 3, 480, 640)\n",
      "tensor([], device='cuda:0', size=(0, 6))\n",
      "\n",
      "0: 480x640 (no detections), 21.2ms\n",
      "Speed: 1.0ms preprocess, 21.2ms inference, 2.6ms postprocess per image at shape (1, 3, 480, 640)\n",
      "tensor([], device='cuda:0', size=(0, 6))\n",
      "\n",
      "0: 480x640 (no detections), 21.3ms\n",
      "Speed: 1.4ms preprocess, 21.3ms inference, 2.4ms postprocess per image at shape (1, 3, 480, 640)\n",
      "tensor([], device='cuda:0', size=(0, 6))\n",
      "\n",
      "0: 480x640 (no detections), 21.5ms\n",
      "Speed: 1.1ms preprocess, 21.5ms inference, 2.3ms postprocess per image at shape (1, 3, 480, 640)\n",
      "tensor([], device='cuda:0', size=(0, 6))\n",
      "\n",
      "0: 480x640 (no detections), 21.5ms\n",
      "Speed: 1.1ms preprocess, 21.5ms inference, 2.1ms postprocess per image at shape (1, 3, 480, 640)\n",
      "tensor([], device='cuda:0', size=(0, 6))\n",
      "\n",
      "0: 480x640 (no detections), 21.5ms\n",
      "Speed: 1.5ms preprocess, 21.5ms inference, 2.0ms postprocess per image at shape (1, 3, 480, 640)\n",
      "tensor([], device='cuda:0', size=(0, 6))\n",
      "\n",
      "0: 480x640 (no detections), 21.6ms\n",
      "Speed: 1.0ms preprocess, 21.6ms inference, 2.6ms postprocess per image at shape (1, 3, 480, 640)\n",
      "tensor([], device='cuda:0', size=(0, 6))\n",
      "\n",
      "0: 480x640 (no detections), 21.6ms\n",
      "Speed: 1.1ms preprocess, 21.6ms inference, 1.8ms postprocess per image at shape (1, 3, 480, 640)\n",
      "tensor([], device='cuda:0', size=(0, 6))\n",
      "\n",
      "0: 480x640 (no detections), 21.5ms\n",
      "Speed: 1.0ms preprocess, 21.5ms inference, 2.1ms postprocess per image at shape (1, 3, 480, 640)\n",
      "tensor([], device='cuda:0', size=(0, 6))\n",
      "\n",
      "0: 480x640 (no detections), 21.7ms\n",
      "Speed: 0.9ms preprocess, 21.7ms inference, 1.6ms postprocess per image at shape (1, 3, 480, 640)\n",
      "tensor([], device='cuda:0', size=(0, 6))\n",
      "\n",
      "0: 480x640 (no detections), 21.7ms\n",
      "Speed: 1.7ms preprocess, 21.7ms inference, 1.6ms postprocess per image at shape (1, 3, 480, 640)\n",
      "tensor([], device='cuda:0', size=(0, 6))\n",
      "\n",
      "0: 480x640 (no detections), 21.9ms\n",
      "Speed: 1.5ms preprocess, 21.9ms inference, 2.4ms postprocess per image at shape (1, 3, 480, 640)\n",
      "tensor([], device='cuda:0', size=(0, 6))\n",
      "\n",
      "0: 480x640 (no detections), 21.8ms\n",
      "Speed: 1.3ms preprocess, 21.8ms inference, 1.6ms postprocess per image at shape (1, 3, 480, 640)\n",
      "tensor([], device='cuda:0', size=(0, 6))\n",
      "\n",
      "0: 480x640 (no detections), 21.8ms\n",
      "Speed: 0.9ms preprocess, 21.8ms inference, 8.6ms postprocess per image at shape (1, 3, 480, 640)\n",
      "tensor([], device='cuda:0', size=(0, 6))\n",
      "\n",
      "0: 480x640 (no detections), 21.8ms\n",
      "Speed: 1.1ms preprocess, 21.8ms inference, 1.6ms postprocess per image at shape (1, 3, 480, 640)\n",
      "tensor([], device='cuda:0', size=(0, 6))\n",
      "\n",
      "0: 480x640 (no detections), 21.8ms\n",
      "Speed: 1.7ms preprocess, 21.8ms inference, 1.9ms postprocess per image at shape (1, 3, 480, 640)\n",
      "tensor([], device='cuda:0', size=(0, 6))\n",
      "\n",
      "0: 480x640 (no detections), 21.8ms\n",
      "Speed: 1.0ms preprocess, 21.8ms inference, 2.5ms postprocess per image at shape (1, 3, 480, 640)\n",
      "tensor([], device='cuda:0', size=(0, 6))\n",
      "\n",
      "0: 480x640 (no detections), 21.8ms\n",
      "Speed: 0.9ms preprocess, 21.8ms inference, 1.6ms postprocess per image at shape (1, 3, 480, 640)\n",
      "tensor([], device='cuda:0', size=(0, 6))\n",
      "\n",
      "0: 480x640 (no detections), 21.8ms\n",
      "Speed: 0.9ms preprocess, 21.8ms inference, 1.9ms postprocess per image at shape (1, 3, 480, 640)\n",
      "tensor([], device='cuda:0', size=(0, 6))\n",
      "\n",
      "0: 480x640 (no detections), 21.8ms\n",
      "Speed: 1.0ms preprocess, 21.8ms inference, 1.8ms postprocess per image at shape (1, 3, 480, 640)\n",
      "tensor([], device='cuda:0', size=(0, 6))\n",
      "\n",
      "0: 480x640 (no detections), 21.8ms\n",
      "Speed: 1.2ms preprocess, 21.8ms inference, 2.1ms postprocess per image at shape (1, 3, 480, 640)\n",
      "tensor([], device='cuda:0', size=(0, 6))\n",
      "\n",
      "0: 480x640 (no detections), 21.8ms\n",
      "Speed: 1.0ms preprocess, 21.8ms inference, 2.6ms postprocess per image at shape (1, 3, 480, 640)\n",
      "tensor([], device='cuda:0', size=(0, 6))\n",
      "\n",
      "0: 480x640 (no detections), 21.8ms\n",
      "Speed: 1.1ms preprocess, 21.8ms inference, 1.8ms postprocess per image at shape (1, 3, 480, 640)\n",
      "tensor([], device='cuda:0', size=(0, 6))\n",
      "\n",
      "0: 480x640 (no detections), 21.7ms\n",
      "Speed: 0.9ms preprocess, 21.7ms inference, 2.0ms postprocess per image at shape (1, 3, 480, 640)\n",
      "tensor([], device='cuda:0', size=(0, 6))\n",
      "\n",
      "0: 480x640 (no detections), 21.7ms\n",
      "Speed: 1.0ms preprocess, 21.7ms inference, 1.8ms postprocess per image at shape (1, 3, 480, 640)\n",
      "tensor([], device='cuda:0', size=(0, 6))\n",
      "\n",
      "0: 480x640 (no detections), 21.7ms\n",
      "Speed: 1.2ms preprocess, 21.7ms inference, 1.9ms postprocess per image at shape (1, 3, 480, 640)\n",
      "tensor([], device='cuda:0', size=(0, 6))\n",
      "\n",
      "0: 480x640 (no detections), 21.7ms\n",
      "Speed: 0.9ms preprocess, 21.7ms inference, 2.6ms postprocess per image at shape (1, 3, 480, 640)\n",
      "tensor([], device='cuda:0', size=(0, 6))\n",
      "\n",
      "0: 480x640 (no detections), 21.7ms\n",
      "Speed: 1.0ms preprocess, 21.7ms inference, 1.9ms postprocess per image at shape (1, 3, 480, 640)\n",
      "tensor([], device='cuda:0', size=(0, 6))\n",
      "\n",
      "0: 480x640 (no detections), 21.7ms\n",
      "Speed: 1.0ms preprocess, 21.7ms inference, 2.1ms postprocess per image at shape (1, 3, 480, 640)\n",
      "tensor([], device='cuda:0', size=(0, 6))\n",
      "\n",
      "0: 480x640 (no detections), 21.8ms\n",
      "Speed: 1.0ms preprocess, 21.8ms inference, 1.8ms postprocess per image at shape (1, 3, 480, 640)\n",
      "tensor([], device='cuda:0', size=(0, 6))\n",
      "\n",
      "0: 480x640 (no detections), 21.8ms\n",
      "Speed: 1.3ms preprocess, 21.8ms inference, 13.6ms postprocess per image at shape (1, 3, 480, 640)\n",
      "tensor([], device='cuda:0', size=(0, 6))\n",
      "\n",
      "0: 480x640 (no detections), 21.7ms\n",
      "Speed: 1.1ms preprocess, 21.7ms inference, 3.2ms postprocess per image at shape (1, 3, 480, 640)\n",
      "tensor([], device='cuda:0', size=(0, 6))\n",
      "\n",
      "0: 480x640 (no detections), 21.7ms\n",
      "Speed: 1.0ms preprocess, 21.7ms inference, 2.9ms postprocess per image at shape (1, 3, 480, 640)\n",
      "tensor([], device='cuda:0', size=(0, 6))\n",
      "\n",
      "0: 480x640 (no detections), 21.8ms\n",
      "Speed: 1.1ms preprocess, 21.8ms inference, 2.7ms postprocess per image at shape (1, 3, 480, 640)\n",
      "tensor([], device='cuda:0', size=(0, 6))\n",
      "\n",
      "0: 480x640 (no detections), 21.8ms\n",
      "Speed: 1.3ms preprocess, 21.8ms inference, 5.5ms postprocess per image at shape (1, 3, 480, 640)\n",
      "tensor([], device='cuda:0', size=(0, 6))\n",
      "\n",
      "0: 480x640 (no detections), 21.9ms\n",
      "Speed: 1.6ms preprocess, 21.9ms inference, 4.4ms postprocess per image at shape (1, 3, 480, 640)\n",
      "tensor([], device='cuda:0', size=(0, 6))\n",
      "\n",
      "0: 480x640 (no detections), 21.7ms\n",
      "Speed: 1.0ms preprocess, 21.7ms inference, 3.6ms postprocess per image at shape (1, 3, 480, 640)\n",
      "tensor([], device='cuda:0', size=(0, 6))\n",
      "\n",
      "0: 480x640 (no detections), 21.7ms\n",
      "Speed: 1.0ms preprocess, 21.7ms inference, 2.7ms postprocess per image at shape (1, 3, 480, 640)\n",
      "tensor([], device='cuda:0', size=(0, 6))\n",
      "\n",
      "0: 480x640 (no detections), 21.7ms\n",
      "Speed: 0.9ms preprocess, 21.7ms inference, 2.9ms postprocess per image at shape (1, 3, 480, 640)\n",
      "tensor([], device='cuda:0', size=(0, 6))\n",
      "\n",
      "0: 480x640 (no detections), 21.7ms\n",
      "Speed: 0.9ms preprocess, 21.7ms inference, 4.0ms postprocess per image at shape (1, 3, 480, 640)\n",
      "tensor([], device='cuda:0', size=(0, 6))\n",
      "\n",
      "0: 480x640 (no detections), 21.7ms\n",
      "Speed: 1.1ms preprocess, 21.7ms inference, 2.6ms postprocess per image at shape (1, 3, 480, 640)\n",
      "tensor([], device='cuda:0', size=(0, 6))\n",
      "\n",
      "0: 480x640 (no detections), 21.7ms\n",
      "Speed: 1.0ms preprocess, 21.7ms inference, 3.5ms postprocess per image at shape (1, 3, 480, 640)\n",
      "tensor([], device='cuda:0', size=(0, 6))\n",
      "\n",
      "0: 480x640 (no detections), 21.7ms\n",
      "Speed: 0.9ms preprocess, 21.7ms inference, 2.7ms postprocess per image at shape (1, 3, 480, 640)\n",
      "tensor([], device='cuda:0', size=(0, 6))\n",
      "\n",
      "0: 480x640 (no detections), 21.7ms\n",
      "Speed: 0.9ms preprocess, 21.7ms inference, 2.9ms postprocess per image at shape (1, 3, 480, 640)\n",
      "tensor([], device='cuda:0', size=(0, 6))\n",
      "\n",
      "0: 480x640 (no detections), 21.7ms\n",
      "Speed: 1.2ms preprocess, 21.7ms inference, 3.5ms postprocess per image at shape (1, 3, 480, 640)\n",
      "tensor([], device='cuda:0', size=(0, 6))\n",
      "\n",
      "0: 480x640 (no detections), 21.7ms\n",
      "Speed: 1.1ms preprocess, 21.7ms inference, 2.6ms postprocess per image at shape (1, 3, 480, 640)\n",
      "tensor([], device='cuda:0', size=(0, 6))\n",
      "\n",
      "0: 480x640 (no detections), 21.7ms\n",
      "Speed: 1.0ms preprocess, 21.7ms inference, 3.3ms postprocess per image at shape (1, 3, 480, 640)\n",
      "tensor([], device='cuda:0', size=(0, 6))\n",
      "\n",
      "0: 480x640 (no detections), 21.7ms\n",
      "Speed: 1.1ms preprocess, 21.7ms inference, 8.9ms postprocess per image at shape (1, 3, 480, 640)\n",
      "tensor([], device='cuda:0', size=(0, 6))\n",
      "\n",
      "0: 480x640 (no detections), 24.8ms\n",
      "Speed: 1.3ms preprocess, 24.8ms inference, 2.0ms postprocess per image at shape (1, 3, 480, 640)\n",
      "tensor([], device='cuda:0', size=(0, 6))\n",
      "\n",
      "0: 480x640 (no detections), 21.7ms\n",
      "Speed: 0.9ms preprocess, 21.7ms inference, 1.8ms postprocess per image at shape (1, 3, 480, 640)\n",
      "tensor([], device='cuda:0', size=(0, 6))\n",
      "\n",
      "0: 480x640 (no detections), 21.7ms\n",
      "Speed: 1.4ms preprocess, 21.7ms inference, 1.8ms postprocess per image at shape (1, 3, 480, 640)\n",
      "tensor([], device='cuda:0', size=(0, 6))\n",
      "\n",
      "0: 480x640 (no detections), 21.7ms\n",
      "Speed: 1.1ms preprocess, 21.7ms inference, 2.5ms postprocess per image at shape (1, 3, 480, 640)\n",
      "tensor([], device='cuda:0', size=(0, 6))\n",
      "\n",
      "0: 480x640 (no detections), 21.7ms\n",
      "Speed: 1.0ms preprocess, 21.7ms inference, 1.9ms postprocess per image at shape (1, 3, 480, 640)\n",
      "tensor([], device='cuda:0', size=(0, 6))\n",
      "\n",
      "0: 480x640 (no detections), 21.7ms\n",
      "Speed: 1.0ms preprocess, 21.7ms inference, 2.0ms postprocess per image at shape (1, 3, 480, 640)\n",
      "tensor([], device='cuda:0', size=(0, 6))\n",
      "\n",
      "0: 480x640 (no detections), 21.7ms\n",
      "Speed: 1.0ms preprocess, 21.7ms inference, 1.9ms postprocess per image at shape (1, 3, 480, 640)\n",
      "tensor([], device='cuda:0', size=(0, 6))\n",
      "\n",
      "0: 480x640 (no detections), 21.7ms\n",
      "Speed: 1.2ms preprocess, 21.7ms inference, 2.0ms postprocess per image at shape (1, 3, 480, 640)\n",
      "tensor([], device='cuda:0', size=(0, 6))\n",
      "\n",
      "0: 480x640 (no detections), 21.8ms\n",
      "Speed: 0.9ms preprocess, 21.8ms inference, 2.2ms postprocess per image at shape (1, 3, 480, 640)\n",
      "tensor([], device='cuda:0', size=(0, 6))\n",
      "\n",
      "0: 480x640 (no detections), 21.8ms\n",
      "Speed: 1.0ms preprocess, 21.8ms inference, 1.8ms postprocess per image at shape (1, 3, 480, 640)\n",
      "tensor([], device='cuda:0', size=(0, 6))\n",
      "\n",
      "0: 480x640 1 Unripe, 21.8ms\n",
      "Speed: 1.0ms preprocess, 21.8ms inference, 2.6ms postprocess per image at shape (1, 3, 480, 640)\n",
      "tensor([[3.7699e+02, 2.6144e+02, 5.2237e+02, 4.1124e+02, 4.2279e-01, 0.0000e+00]], device='cuda:0')\n",
      "\n",
      "0: 480x640 (no detections), 22.0ms\n",
      "Speed: 0.9ms preprocess, 22.0ms inference, 2.0ms postprocess per image at shape (1, 3, 480, 640)\n",
      "tensor([], device='cuda:0', size=(0, 6))\n",
      "\n",
      "0: 480x640 1 Unripe, 22.0ms\n",
      "Speed: 1.3ms preprocess, 22.0ms inference, 2.3ms postprocess per image at shape (1, 3, 480, 640)\n",
      "tensor([[383.0849, 263.2634, 531.4199, 408.5226,   0.7111,   0.0000]], device='cuda:0')\n",
      "\n",
      "0: 480x640 1 Unripe, 22.0ms\n",
      "Speed: 0.9ms preprocess, 22.0ms inference, 2.3ms postprocess per image at shape (1, 3, 480, 640)\n",
      "tensor([[3.9060e+02, 2.6206e+02, 5.3598e+02, 4.0606e+02, 4.6133e-01, 0.0000e+00]], device='cuda:0')\n",
      "\n",
      "0: 480x640 1 Unripe, 22.1ms\n",
      "Speed: 0.9ms preprocess, 22.1ms inference, 2.3ms postprocess per image at shape (1, 3, 480, 640)\n",
      "tensor([[3.8564e+02, 2.6279e+02, 5.3848e+02, 4.0952e+02, 5.0486e-01, 0.0000e+00]], device='cuda:0')\n",
      "\n",
      "0: 480x640 (no detections), 22.8ms\n",
      "Speed: 0.9ms preprocess, 22.8ms inference, 1.8ms postprocess per image at shape (1, 3, 480, 640)\n",
      "tensor([], device='cuda:0', size=(0, 6))\n",
      "\n",
      "0: 480x640 (no detections), 21.9ms\n",
      "Speed: 0.9ms preprocess, 21.9ms inference, 1.8ms postprocess per image at shape (1, 3, 480, 640)\n",
      "tensor([], device='cuda:0', size=(0, 6))\n",
      "\n",
      "0: 480x640 1 Unripe, 20.9ms\n",
      "Speed: 0.9ms preprocess, 20.9ms inference, 2.3ms postprocess per image at shape (1, 3, 480, 640)\n",
      "tensor([[4.1749e+02, 2.5353e+02, 5.5429e+02, 4.1276e+02, 2.7931e-01, 0.0000e+00]], device='cuda:0')\n",
      "\n",
      "0: 480x640 1 Unripe, 22.4ms\n",
      "Speed: 0.9ms preprocess, 22.4ms inference, 3.0ms postprocess per image at shape (1, 3, 480, 640)\n",
      "tensor([[4.0926e+02, 2.6088e+02, 5.5820e+02, 4.1341e+02, 5.1345e-01, 0.0000e+00]], device='cuda:0')\n",
      "\n",
      "0: 480x640 1 Unripe, 20.4ms\n",
      "Speed: 1.5ms preprocess, 20.4ms inference, 4.9ms postprocess per image at shape (1, 3, 480, 640)\n",
      "tensor([[4.1349e+02, 2.6220e+02, 5.6139e+02, 4.1469e+02, 4.9680e-01, 0.0000e+00]], device='cuda:0')\n",
      "\n",
      "0: 480x640 1 Unripe, 20.8ms\n",
      "Speed: 0.9ms preprocess, 20.8ms inference, 4.4ms postprocess per image at shape (1, 3, 480, 640)\n",
      "tensor([[4.1256e+02, 2.6351e+02, 5.6789e+02, 4.1460e+02, 3.6973e-01, 0.0000e+00]], device='cuda:0')\n",
      "\n",
      "0: 480x640 1 Unripe, 21.1ms\n",
      "Speed: 1.9ms preprocess, 21.1ms inference, 4.4ms postprocess per image at shape (1, 3, 480, 640)\n",
      "tensor([[4.0807e+02, 2.6123e+02, 5.6479e+02, 4.1296e+02, 4.9169e-01, 0.0000e+00]], device='cuda:0')\n",
      "\n",
      "0: 480x640 1 Unripe, 21.1ms\n",
      "Speed: 1.1ms preprocess, 21.1ms inference, 4.5ms postprocess per image at shape (1, 3, 480, 640)\n",
      "tensor([[410.5812, 260.3468, 569.5940, 415.3062,   0.5927,   0.0000]], device='cuda:0')\n",
      "\n",
      "0: 480x640 1 Unripe, 21.4ms\n",
      "Speed: 0.9ms preprocess, 21.4ms inference, 4.3ms postprocess per image at shape (1, 3, 480, 640)\n",
      "tensor([[4.1570e+02, 2.6015e+02, 5.6942e+02, 4.1525e+02, 5.3684e-01, 0.0000e+00]], device='cuda:0')\n",
      "\n",
      "0: 480x640 1 Unripe, 22.1ms\n",
      "Speed: 1.3ms preprocess, 22.1ms inference, 3.6ms postprocess per image at shape (1, 3, 480, 640)\n",
      "tensor([[430.2033, 260.3673, 569.7027, 411.6559,   0.7540,   0.0000]], device='cuda:0')\n",
      "\n",
      "0: 480x640 1 Unripe, 21.6ms\n",
      "Speed: 1.2ms preprocess, 21.6ms inference, 3.2ms postprocess per image at shape (1, 3, 480, 640)\n",
      "tensor([[417.0187, 260.1291, 569.4092, 414.3619,   0.7030,   0.0000]], device='cuda:0')\n",
      "\n",
      "0: 480x640 1 Unripe, 21.6ms\n",
      "Speed: 0.9ms preprocess, 21.6ms inference, 3.8ms postprocess per image at shape (1, 3, 480, 640)\n",
      "tensor([[409.8121, 254.9138, 569.2736, 410.7741,   0.6273,   0.0000]], device='cuda:0')\n",
      "\n",
      "0: 480x640 1 Unripe, 20.9ms\n",
      "Speed: 0.9ms preprocess, 20.9ms inference, 4.2ms postprocess per image at shape (1, 3, 480, 640)\n",
      "tensor([[4.1996e+02, 2.5069e+02, 5.7004e+02, 4.1037e+02, 4.5671e-01, 0.0000e+00]], device='cuda:0')\n",
      "\n",
      "0: 480x640 1 Unripe, 20.6ms\n",
      "Speed: 0.9ms preprocess, 20.6ms inference, 3.7ms postprocess per image at shape (1, 3, 480, 640)\n",
      "tensor([[419.9541, 254.6360, 569.5541, 411.9358,   0.6564,   0.0000]], device='cuda:0')\n",
      "\n",
      "0: 480x640 1 Unripe, 21.8ms\n",
      "Speed: 0.9ms preprocess, 21.8ms inference, 3.3ms postprocess per image at shape (1, 3, 480, 640)\n",
      "tensor([[417.4456, 254.4483, 570.9067, 409.7709,   0.6407,   0.0000]], device='cuda:0')\n",
      "\n",
      "0: 480x640 1 Unripe, 22.5ms\n",
      "Speed: 1.0ms preprocess, 22.5ms inference, 3.3ms postprocess per image at shape (1, 3, 480, 640)\n",
      "tensor([[423.6041, 256.9321, 572.2131, 411.9479,   0.6710,   0.0000]], device='cuda:0')\n",
      "\n",
      "0: 480x640 1 Unripe, 21.5ms\n",
      "Speed: 1.0ms preprocess, 21.5ms inference, 3.0ms postprocess per image at shape (1, 3, 480, 640)\n",
      "tensor([[424.2444, 258.6140, 572.9009, 414.2639,   0.6452,   0.0000]], device='cuda:0')\n",
      "\n",
      "0: 480x640 1 Unripe, 20.9ms\n",
      "Speed: 0.9ms preprocess, 20.9ms inference, 2.9ms postprocess per image at shape (1, 3, 480, 640)\n",
      "tensor([[427.6354, 260.4613, 577.9274, 413.4017,   0.7237,   0.0000]], device='cuda:0')\n",
      "\n",
      "0: 480x640 1 Unripe, 21.2ms\n",
      "Speed: 0.9ms preprocess, 21.2ms inference, 3.0ms postprocess per image at shape (1, 3, 480, 640)\n",
      "tensor([[425.3307, 260.6286, 577.1548, 416.5570,   0.7128,   0.0000]], device='cuda:0')\n",
      "\n",
      "0: 480x640 1 Unripe, 22.4ms\n",
      "Speed: 0.9ms preprocess, 22.4ms inference, 3.8ms postprocess per image at shape (1, 3, 480, 640)\n",
      "tensor([[421.8508, 259.8973, 572.9980, 417.2853,   0.6805,   0.0000]], device='cuda:0')\n",
      "\n",
      "0: 480x640 1 Unripe, 21.9ms\n",
      "Speed: 0.9ms preprocess, 21.9ms inference, 4.1ms postprocess per image at shape (1, 3, 480, 640)\n",
      "tensor([[422.0818, 261.0993, 570.4902, 418.9409,   0.5835,   0.0000]], device='cuda:0')\n",
      "\n",
      "0: 480x640 1 Unripe, 21.1ms\n",
      "Speed: 0.9ms preprocess, 21.1ms inference, 3.7ms postprocess per image at shape (1, 3, 480, 640)\n",
      "tensor([[416.1114, 261.5036, 569.6879, 417.2689,   0.6772,   0.0000]], device='cuda:0')\n",
      "\n",
      "0: 480x640 1 Unripe, 20.9ms\n",
      "Speed: 0.9ms preprocess, 20.9ms inference, 3.1ms postprocess per image at shape (1, 3, 480, 640)\n",
      "tensor([[415.2661, 260.5598, 568.8341, 419.1480,   0.6534,   0.0000]], device='cuda:0')\n",
      "\n",
      "0: 480x640 1 Unripe, 22.3ms\n",
      "Speed: 1.0ms preprocess, 22.3ms inference, 3.2ms postprocess per image at shape (1, 3, 480, 640)\n",
      "tensor([[411.5620, 261.1885, 566.6407, 417.0504,   0.5703,   0.0000]], device='cuda:0')\n",
      "\n",
      "0: 480x640 1 Unripe, 22.0ms\n",
      "Speed: 1.1ms preprocess, 22.0ms inference, 3.1ms postprocess per image at shape (1, 3, 480, 640)\n",
      "tensor([[415.0699, 261.9993, 563.5761, 417.3074,   0.7952,   0.0000]], device='cuda:0')\n",
      "\n",
      "0: 480x640 1 Unripe, 21.3ms\n",
      "Speed: 0.9ms preprocess, 21.3ms inference, 3.1ms postprocess per image at shape (1, 3, 480, 640)\n",
      "tensor([[406.8234, 262.2281, 563.6916, 418.1577,   0.6911,   0.0000]], device='cuda:0')\n",
      "\n",
      "0: 480x640 1 Unripe, 20.8ms\n",
      "Speed: 1.0ms preprocess, 20.8ms inference, 3.0ms postprocess per image at shape (1, 3, 480, 640)\n",
      "tensor([[416.2878, 263.2657, 563.0565, 417.8309,   0.6724,   0.0000]], device='cuda:0')\n",
      "\n",
      "0: 480x640 1 Unripe, 21.8ms\n",
      "Speed: 0.9ms preprocess, 21.8ms inference, 3.7ms postprocess per image at shape (1, 3, 480, 640)\n",
      "tensor([[4.1012e+02, 2.6335e+02, 5.6427e+02, 4.1995e+02, 4.5857e-01, 0.0000e+00]], device='cuda:0')\n",
      "\n",
      "0: 480x640 1 Unripe, 22.4ms\n",
      "Speed: 1.4ms preprocess, 22.4ms inference, 6.3ms postprocess per image at shape (1, 3, 480, 640)\n",
      "tensor([[416.1940, 265.6724, 564.0820, 419.8054,   0.6786,   0.0000]], device='cuda:0')\n",
      "\n",
      "0: 480x640 1 Unripe, 20.6ms\n",
      "Speed: 1.2ms preprocess, 20.6ms inference, 3.5ms postprocess per image at shape (1, 3, 480, 640)\n",
      "tensor([[415.2202, 267.8665, 562.1959, 421.9023,   0.7648,   0.0000]], device='cuda:0')\n",
      "\n",
      "0: 480x640 1 Unripe, 22.3ms\n",
      "Speed: 0.9ms preprocess, 22.3ms inference, 4.8ms postprocess per image at shape (1, 3, 480, 640)\n",
      "tensor([[417.1838, 270.3460, 560.6967, 420.4272,   0.7977,   0.0000]], device='cuda:0')\n",
      "\n",
      "0: 480x640 1 Unripe, 21.9ms\n",
      "Speed: 0.9ms preprocess, 21.9ms inference, 9.8ms postprocess per image at shape (1, 3, 480, 640)\n",
      "tensor([[414.1295, 268.1705, 561.9962, 420.1680,   0.7667,   0.0000]], device='cuda:0')\n",
      "\n",
      "0: 480x640 1 Unripe, 20.7ms\n",
      "Speed: 1.1ms preprocess, 20.7ms inference, 2.5ms postprocess per image at shape (1, 3, 480, 640)\n",
      "tensor([[416.7266, 275.0082, 560.9232, 421.5923,   0.7822,   0.0000]], device='cuda:0')\n",
      "\n",
      "0: 480x640 1 Unripe, 21.8ms\n",
      "Speed: 0.9ms preprocess, 21.8ms inference, 2.5ms postprocess per image at shape (1, 3, 480, 640)\n",
      "tensor([[4.0210e+02, 2.7301e+02, 5.6592e+02, 4.2640e+02, 4.8574e-01, 0.0000e+00]], device='cuda:0')\n",
      "\n",
      "0: 480x640 1 Unripe, 20.9ms\n",
      "Speed: 1.0ms preprocess, 20.9ms inference, 2.5ms postprocess per image at shape (1, 3, 480, 640)\n",
      "tensor([[413.9451, 276.6791, 562.9869, 425.5356,   0.6278,   0.0000]], device='cuda:0')\n",
      "\n",
      "0: 480x640 1 Unripe, 21.6ms\n",
      "Speed: 1.0ms preprocess, 21.6ms inference, 3.0ms postprocess per image at shape (1, 3, 480, 640)\n",
      "tensor([[417.8876, 276.9378, 562.3744, 427.7136,   0.7465,   0.0000]], device='cuda:0')\n",
      "\n",
      "0: 480x640 1 Unripe, 22.6ms\n",
      "Speed: 0.9ms preprocess, 22.6ms inference, 3.2ms postprocess per image at shape (1, 3, 480, 640)\n",
      "tensor([[417.2067, 277.5594, 561.7773, 427.1597,   0.6481,   0.0000]], device='cuda:0')\n",
      "\n",
      "0: 480x640 1 Unripe, 21.8ms\n",
      "Speed: 1.0ms preprocess, 21.8ms inference, 3.4ms postprocess per image at shape (1, 3, 480, 640)\n",
      "tensor([[412.9908, 275.9968, 567.2925, 427.2872,   0.6746,   0.0000]], device='cuda:0')\n",
      "\n",
      "0: 480x640 1 Unripe, 21.0ms\n",
      "Speed: 1.1ms preprocess, 21.0ms inference, 2.7ms postprocess per image at shape (1, 3, 480, 640)\n",
      "tensor([[4.0568e+02, 2.7527e+02, 5.6559e+02, 4.2837e+02, 5.0216e-01, 0.0000e+00]], device='cuda:0')\n",
      "\n",
      "0: 480x640 1 Unripe, 21.4ms\n",
      "Speed: 1.0ms preprocess, 21.4ms inference, 2.6ms postprocess per image at shape (1, 3, 480, 640)\n",
      "tensor([[417.0397, 277.7529, 564.9293, 427.6080,   0.6374,   0.0000]], device='cuda:0')\n",
      "\n",
      "0: 480x640 1 Unripe, 22.7ms\n",
      "Speed: 1.1ms preprocess, 22.7ms inference, 2.3ms postprocess per image at shape (1, 3, 480, 640)\n",
      "tensor([[422.6686, 278.0901, 563.6148, 429.5826,   0.7690,   0.0000]], device='cuda:0')\n",
      "\n",
      "0: 480x640 1 Unripe, 21.6ms\n",
      "Speed: 1.0ms preprocess, 21.6ms inference, 2.2ms postprocess per image at shape (1, 3, 480, 640)\n",
      "tensor([[422.9164, 278.6704, 565.8030, 429.8318,   0.7917,   0.0000]], device='cuda:0')\n",
      "\n",
      "0: 480x640 1 Unripe, 20.9ms\n",
      "Speed: 1.1ms preprocess, 20.9ms inference, 2.8ms postprocess per image at shape (1, 3, 480, 640)\n",
      "tensor([[423.7926, 277.9987, 567.5553, 428.6349,   0.7690,   0.0000]], device='cuda:0')\n",
      "\n",
      "0: 480x640 1 Unripe, 21.8ms\n",
      "Speed: 1.4ms preprocess, 21.8ms inference, 2.3ms postprocess per image at shape (1, 3, 480, 640)\n",
      "tensor([[425.7848, 278.3447, 567.5322, 429.6876,   0.8179,   0.0000]], device='cuda:0')\n",
      "\n",
      "0: 480x640 1 Unripe, 22.6ms\n",
      "Speed: 1.1ms preprocess, 22.6ms inference, 2.5ms postprocess per image at shape (1, 3, 480, 640)\n",
      "tensor([[425.8217, 277.3082, 568.6021, 429.5138,   0.8228,   0.0000]], device='cuda:0')\n",
      "\n",
      "0: 480x640 1 Unripe, 21.7ms\n",
      "Speed: 0.9ms preprocess, 21.7ms inference, 2.5ms postprocess per image at shape (1, 3, 480, 640)\n",
      "tensor([[425.7064, 277.5809, 568.4631, 427.8267,   0.8393,   0.0000]], device='cuda:0')\n",
      "\n",
      "0: 480x640 1 Unripe, 20.9ms\n",
      "Speed: 1.0ms preprocess, 20.9ms inference, 2.5ms postprocess per image at shape (1, 3, 480, 640)\n",
      "tensor([[425.4121, 276.8022, 569.1110, 427.8018,   0.7965,   0.0000]], device='cuda:0')\n",
      "\n",
      "0: 480x640 1 Unripe, 22.1ms\n",
      "Speed: 0.9ms preprocess, 22.1ms inference, 2.8ms postprocess per image at shape (1, 3, 480, 640)\n",
      "tensor([[426.3644, 276.5136, 568.9514, 429.6052,   0.8122,   0.0000]], device='cuda:0')\n",
      "\n",
      "0: 480x640 1 Unripe, 22.5ms\n",
      "Speed: 0.9ms preprocess, 22.5ms inference, 2.9ms postprocess per image at shape (1, 3, 480, 640)\n",
      "tensor([[425.4730, 276.6112, 568.8088, 427.2681,   0.8023,   0.0000]], device='cuda:0')\n",
      "\n",
      "0: 480x640 1 Unripe, 21.4ms\n",
      "Speed: 0.9ms preprocess, 21.4ms inference, 3.3ms postprocess per image at shape (1, 3, 480, 640)\n",
      "tensor([[425.9633, 276.5693, 567.4324, 427.4496,   0.8549,   0.0000]], device='cuda:0')\n",
      "\n",
      "0: 480x640 1 Unripe, 21.0ms\n",
      "Speed: 0.9ms preprocess, 21.0ms inference, 3.0ms postprocess per image at shape (1, 3, 480, 640)\n",
      "tensor([[422.5978, 276.5993, 566.9829, 427.8111,   0.8407,   0.0000]], device='cuda:0')\n",
      "\n",
      "0: 480x640 1 Unripe, 22.6ms\n",
      "Speed: 0.9ms preprocess, 22.6ms inference, 3.3ms postprocess per image at shape (1, 3, 480, 640)\n",
      "tensor([[425.1396, 277.4639, 565.8636, 428.9287,   0.8499,   0.0000]], device='cuda:0')\n",
      "\n",
      "0: 480x640 1 Unripe, 22.3ms\n",
      "Speed: 1.2ms preprocess, 22.3ms inference, 3.5ms postprocess per image at shape (1, 3, 480, 640)\n",
      "tensor([[422.7908, 276.5511, 565.7541, 428.7737,   0.8316,   0.0000]], device='cuda:0')\n",
      "\n",
      "0: 480x640 1 Unripe, 20.9ms\n",
      "Speed: 1.2ms preprocess, 20.9ms inference, 2.4ms postprocess per image at shape (1, 3, 480, 640)\n",
      "tensor([[419.7580, 276.0853, 565.6994, 425.9853,   0.8416,   0.0000]], device='cuda:0')\n",
      "\n",
      "0: 480x640 1 Unripe, 21.3ms\n",
      "Speed: 1.2ms preprocess, 21.3ms inference, 2.5ms postprocess per image at shape (1, 3, 480, 640)\n",
      "tensor([[426.1274, 276.9352, 564.7219, 426.2054,   0.8674,   0.0000]], device='cuda:0')\n",
      "\n",
      "0: 480x640 1 Unripe, 22.4ms\n",
      "Speed: 0.9ms preprocess, 22.4ms inference, 3.2ms postprocess per image at shape (1, 3, 480, 640)\n",
      "tensor([[424.8320, 276.3557, 566.2556, 429.2837,   0.8407,   0.0000]], device='cuda:0')\n",
      "\n",
      "0: 480x640 1 Unripe, 22.1ms\n",
      "Speed: 0.9ms preprocess, 22.1ms inference, 2.7ms postprocess per image at shape (1, 3, 480, 640)\n",
      "tensor([[426.0762, 276.4669, 565.8172, 426.7443,   0.8439,   0.0000]], device='cuda:0')\n",
      "\n",
      "0: 480x640 1 Unripe, 21.3ms\n",
      "Speed: 0.9ms preprocess, 21.3ms inference, 3.2ms postprocess per image at shape (1, 3, 480, 640)\n",
      "tensor([[424.1208, 276.5230, 565.6890, 428.5154,   0.8584,   0.0000]], device='cuda:0')\n",
      "\n",
      "0: 480x640 1 Unripe, 21.0ms\n",
      "Speed: 1.0ms preprocess, 21.0ms inference, 2.9ms postprocess per image at shape (1, 3, 480, 640)\n",
      "tensor([[424.8672, 276.8151, 566.3036, 428.2467,   0.8463,   0.0000]], device='cuda:0')\n",
      "\n",
      "0: 480x640 1 Unripe, 22.1ms\n",
      "Speed: 1.2ms preprocess, 22.1ms inference, 11.6ms postprocess per image at shape (1, 3, 480, 640)\n",
      "tensor([[425.1960, 276.2297, 567.3865, 426.9109,   0.8448,   0.0000]], device='cuda:0')\n",
      "\n",
      "0: 480x640 1 Unripe, 20.8ms\n",
      "Speed: 1.0ms preprocess, 20.8ms inference, 3.2ms postprocess per image at shape (1, 3, 480, 640)\n",
      "tensor([[425.0366, 275.8434, 568.3070, 426.0188,   0.8362,   0.0000]], device='cuda:0')\n",
      "\n",
      "0: 480x640 1 Unripe, 22.4ms\n",
      "Speed: 0.9ms preprocess, 22.4ms inference, 3.1ms postprocess per image at shape (1, 3, 480, 640)\n",
      "tensor([[423.8876, 275.2112, 569.0217, 425.5015,   0.7174,   0.0000]], device='cuda:0')\n",
      "\n",
      "0: 480x640 1 Unripe, 22.5ms\n",
      "Speed: 1.1ms preprocess, 22.5ms inference, 3.0ms postprocess per image at shape (1, 3, 480, 640)\n",
      "tensor([[424.8200, 272.6537, 568.4243, 427.3721,   0.8427,   0.0000]], device='cuda:0')\n",
      "\n",
      "0: 480x640 1 Unripe, 21.6ms\n",
      "Speed: 1.1ms preprocess, 21.6ms inference, 2.5ms postprocess per image at shape (1, 3, 480, 640)\n",
      "tensor([[425.3369, 269.9267, 566.6416, 421.0845,   0.8711,   0.0000]], device='cuda:0')\n",
      "\n",
      "0: 480x640 1 Unripe, 20.9ms\n",
      "Speed: 1.0ms preprocess, 20.9ms inference, 2.6ms postprocess per image at shape (1, 3, 480, 640)\n",
      "tensor([[422.9518, 268.6281, 567.0587, 420.0915,   0.8301,   0.0000]], device='cuda:0')\n",
      "\n",
      "0: 480x640 1 Unripe, 21.3ms\n",
      "Speed: 1.1ms preprocess, 21.3ms inference, 2.5ms postprocess per image at shape (1, 3, 480, 640)\n",
      "tensor([[422.9633, 269.0479, 568.2838, 420.3861,   0.7798,   0.0000]], device='cuda:0')\n",
      "\n",
      "0: 480x640 1 Unripe, 22.4ms\n",
      "Speed: 1.0ms preprocess, 22.4ms inference, 3.2ms postprocess per image at shape (1, 3, 480, 640)\n",
      "tensor([[423.0847, 265.6736, 567.3691, 420.1786,   0.8210,   0.0000]], device='cuda:0')\n",
      "\n",
      "0: 480x640 1 Unripe, 22.1ms\n",
      "Speed: 0.9ms preprocess, 22.1ms inference, 3.0ms postprocess per image at shape (1, 3, 480, 640)\n",
      "tensor([[420.5554, 267.2628, 566.4953, 419.3550,   0.8210,   0.0000]], device='cuda:0')\n",
      "\n",
      "0: 480x640 1 Unripe, 21.4ms\n",
      "Speed: 0.9ms preprocess, 21.4ms inference, 3.2ms postprocess per image at shape (1, 3, 480, 640)\n",
      "tensor([[419.9159, 267.4330, 565.7610, 420.5557,   0.8382,   0.0000]], device='cuda:0')\n",
      "\n",
      "0: 480x640 1 Unripe, 20.9ms\n",
      "Speed: 1.4ms preprocess, 20.9ms inference, 2.8ms postprocess per image at shape (1, 3, 480, 640)\n",
      "tensor([[419.6200, 266.1946, 566.4681, 419.4591,   0.8061,   0.0000]], device='cuda:0')\n",
      "\n",
      "0: 480x640 1 Unripe, 21.7ms\n",
      "Speed: 1.1ms preprocess, 21.7ms inference, 2.7ms postprocess per image at shape (1, 3, 480, 640)\n",
      "tensor([[419.9650, 266.6971, 566.3647, 420.8828,   0.8195,   0.0000]], device='cuda:0')\n",
      "\n",
      "0: 480x640 1 Unripe, 22.6ms\n",
      "Speed: 1.3ms preprocess, 22.6ms inference, 3.2ms postprocess per image at shape (1, 3, 480, 640)\n",
      "tensor([[420.9299, 265.9330, 567.1244, 419.3292,   0.6554,   0.0000]], device='cuda:0')\n",
      "\n",
      "0: 480x640 1 Unripe, 21.9ms\n",
      "Speed: 0.9ms preprocess, 21.9ms inference, 2.7ms postprocess per image at shape (1, 3, 480, 640)\n",
      "tensor([[421.3001, 266.1650, 566.1946, 420.0571,   0.6957,   0.0000]], device='cuda:0')\n",
      "\n",
      "0: 480x640 1 Unripe, 21.3ms\n",
      "Speed: 1.0ms preprocess, 21.3ms inference, 3.0ms postprocess per image at shape (1, 3, 480, 640)\n",
      "tensor([[417.8547, 266.2070, 566.1387, 419.7069,   0.7840,   0.0000]], device='cuda:0')\n",
      "\n",
      "0: 480x640 1 Unripe, 20.8ms\n",
      "Speed: 1.0ms preprocess, 20.8ms inference, 2.8ms postprocess per image at shape (1, 3, 480, 640)\n",
      "tensor([[420.6620, 267.0971, 566.6503, 419.8833,   0.7745,   0.0000]], device='cuda:0')\n",
      "\n",
      "0: 480x640 1 Unripe, 21.4ms\n",
      "Speed: 1.1ms preprocess, 21.4ms inference, 3.6ms postprocess per image at shape (1, 3, 480, 640)\n",
      "tensor([[419.0400, 266.3502, 567.9899, 421.6265,   0.6418,   0.0000]], device='cuda:0')\n",
      "\n",
      "0: 480x640 1 Unripe, 20.7ms\n",
      "Speed: 2.8ms preprocess, 20.7ms inference, 3.1ms postprocess per image at shape (1, 3, 480, 640)\n",
      "tensor([[424.1825, 267.4527, 567.6079, 418.2714,   0.8138,   0.0000]], device='cuda:0')\n",
      "\n",
      "0: 480x640 1 Unripe, 21.2ms\n",
      "Speed: 0.9ms preprocess, 21.2ms inference, 2.7ms postprocess per image at shape (1, 3, 480, 640)\n",
      "tensor([[422.8540, 267.7910, 567.4272, 419.4467,   0.8613,   0.0000]], device='cuda:0')\n",
      "\n",
      "0: 480x640 1 Unripe, 20.8ms\n",
      "Speed: 1.0ms preprocess, 20.8ms inference, 2.7ms postprocess per image at shape (1, 3, 480, 640)\n",
      "tensor([[419.2052, 267.3372, 568.3208, 419.6451,   0.7985,   0.0000]], device='cuda:0')\n",
      "\n",
      "0: 480x640 1 Unripe, 21.2ms\n",
      "Speed: 0.9ms preprocess, 21.2ms inference, 3.0ms postprocess per image at shape (1, 3, 480, 640)\n",
      "tensor([[426.3611, 267.6005, 568.8447, 418.8843,   0.8703,   0.0000]], device='cuda:0')\n",
      "\n",
      "0: 480x640 1 Unripe, 24.0ms\n",
      "Speed: 0.9ms preprocess, 24.0ms inference, 2.9ms postprocess per image at shape (1, 3, 480, 640)\n",
      "tensor([[424.1806, 267.9808, 568.9378, 420.9705,   0.8775,   0.0000]], device='cuda:0')\n",
      "\n",
      "0: 480x640 1 Unripe, 22.1ms\n",
      "Speed: 1.2ms preprocess, 22.1ms inference, 2.9ms postprocess per image at shape (1, 3, 480, 640)\n",
      "tensor([[425.2453, 268.1600, 569.4958, 420.0454,   0.8674,   0.0000]], device='cuda:0')\n",
      "\n",
      "0: 480x640 1 Unripe, 21.7ms\n",
      "Speed: 1.1ms preprocess, 21.7ms inference, 2.7ms postprocess per image at shape (1, 3, 480, 640)\n",
      "tensor([[425.3787, 267.8940, 569.4780, 420.6006,   0.8400,   0.0000]], device='cuda:0')\n",
      "\n",
      "0: 480x640 1 Unripe, 21.1ms\n",
      "Speed: 1.0ms preprocess, 21.1ms inference, 2.6ms postprocess per image at shape (1, 3, 480, 640)\n",
      "tensor([[426.0070, 267.6022, 569.9564, 419.5691,   0.8149,   0.0000]], device='cuda:0')\n",
      "\n",
      "0: 480x640 1 Unripe, 20.9ms\n",
      "Speed: 1.0ms preprocess, 20.9ms inference, 2.7ms postprocess per image at shape (1, 3, 480, 640)\n",
      "tensor([[425.8889, 265.2722, 571.7636, 420.2819,   0.6957,   0.0000]], device='cuda:0')\n",
      "\n",
      "0: 480x640 1 Unripe, 22.3ms\n",
      "Speed: 1.0ms preprocess, 22.3ms inference, 3.1ms postprocess per image at shape (1, 3, 480, 640)\n",
      "tensor([[426.3994, 267.0699, 571.5766, 420.6870,   0.8043,   0.0000]], device='cuda:0')\n",
      "\n",
      "0: 480x640 1 Unripe, 21.6ms\n",
      "Speed: 1.7ms preprocess, 21.6ms inference, 13.4ms postprocess per image at shape (1, 3, 480, 640)\n",
      "tensor([[425.9011, 268.4817, 573.0132, 421.1047,   0.7806,   0.0000]], device='cuda:0')\n",
      "\n",
      "0: 480x640 1 Unripe, 20.6ms\n",
      "Speed: 1.0ms preprocess, 20.6ms inference, 3.2ms postprocess per image at shape (1, 3, 480, 640)\n",
      "tensor([[428.7307, 267.4102, 574.8815, 422.1727,   0.7957,   0.0000]], device='cuda:0')\n",
      "\n",
      "0: 480x640 1 Unripe, 21.8ms\n",
      "Speed: 1.0ms preprocess, 21.8ms inference, 2.8ms postprocess per image at shape (1, 3, 480, 640)\n",
      "tensor([[432.4703, 268.8295, 575.3289, 420.9781,   0.8489,   0.0000]], device='cuda:0')\n",
      "\n",
      "0: 480x640 1 Unripe, 22.3ms\n",
      "Speed: 1.2ms preprocess, 22.3ms inference, 2.7ms postprocess per image at shape (1, 3, 480, 640)\n",
      "tensor([[433.3007, 266.9009, 578.7150, 421.1292,   0.8643,   0.0000]], device='cuda:0')\n",
      "\n",
      "0: 480x640 1 Unripe, 22.3ms\n",
      "Speed: 1.0ms preprocess, 22.3ms inference, 2.5ms postprocess per image at shape (1, 3, 480, 640)\n",
      "tensor([[434.1786, 267.3824, 581.5414, 420.6386,   0.8673,   0.0000]], device='cuda:0')\n",
      "\n",
      "0: 480x640 1 Unripe, 21.6ms\n",
      "Speed: 1.0ms preprocess, 21.6ms inference, 3.3ms postprocess per image at shape (1, 3, 480, 640)\n",
      "tensor([[443.8398, 266.6219, 590.3989, 424.8540,   0.7948,   0.0000]], device='cuda:0')\n",
      "\n",
      "0: 480x640 1 Unripe, 20.9ms\n",
      "Speed: 1.0ms preprocess, 20.9ms inference, 3.2ms postprocess per image at shape (1, 3, 480, 640)\n",
      "tensor([[446.8022, 265.3741, 596.7701, 427.0798,   0.8017,   0.0000]], device='cuda:0')\n",
      "\n",
      "0: 480x640 1 Unripe, 21.3ms\n",
      "Speed: 0.9ms preprocess, 21.3ms inference, 2.9ms postprocess per image at shape (1, 3, 480, 640)\n",
      "tensor([[454.2675, 271.2808, 601.3344, 428.7063,   0.7754,   0.0000]], device='cuda:0')\n",
      "\n",
      "0: 480x640 1 Unripe, 22.5ms\n",
      "Speed: 1.2ms preprocess, 22.5ms inference, 2.6ms postprocess per image at shape (1, 3, 480, 640)\n",
      "tensor([[449.9278, 273.6673, 605.7288, 433.7033,   0.8218,   0.0000]], device='cuda:0')\n",
      "\n",
      "0: 480x640 1 Unripe, 25.0ms\n",
      "Speed: 1.5ms preprocess, 25.0ms inference, 3.0ms postprocess per image at shape (1, 3, 480, 640)\n",
      "tensor([[459.3687, 276.4750, 606.3630, 437.9570,   0.8736,   0.0000]], device='cuda:0')\n",
      "\n",
      "0: 480x640 1 Unripe, 20.1ms\n",
      "Speed: 1.1ms preprocess, 20.1ms inference, 3.5ms postprocess per image at shape (1, 3, 480, 640)\n",
      "tensor([[459.8099, 282.6732, 608.4066, 440.6346,   0.8543,   0.0000]], device='cuda:0')\n",
      "\n",
      "0: 480x640 1 Unripe, 20.7ms\n",
      "Speed: 1.3ms preprocess, 20.7ms inference, 3.4ms postprocess per image at shape (1, 3, 480, 640)\n",
      "tensor([[461.9718, 282.6906, 612.8273, 440.6413,   0.8233,   0.0000]], device='cuda:0')\n",
      "\n",
      "0: 480x640 1 Unripe, 21.3ms\n",
      "Speed: 1.1ms preprocess, 21.3ms inference, 2.6ms postprocess per image at shape (1, 3, 480, 640)\n",
      "tensor([[475.0147, 287.8711, 622.2335, 447.0077,   0.8467,   0.0000]], device='cuda:0')\n",
      "\n",
      "0: 480x640 1 Unripe, 20.9ms\n",
      "Speed: 1.0ms preprocess, 20.9ms inference, 3.5ms postprocess per image at shape (1, 3, 480, 640)\n",
      "tensor([[476.0708, 291.9622, 621.9677, 449.5836,   0.8917,   0.0000]], device='cuda:0')\n",
      "\n",
      "0: 480x640 1 Unripe, 21.0ms\n",
      "Speed: 0.9ms preprocess, 21.0ms inference, 3.2ms postprocess per image at shape (1, 3, 480, 640)\n",
      "tensor([[471.9764, 291.9199, 620.9469, 449.5988,   0.8526,   0.0000]], device='cuda:0')\n",
      "\n",
      "0: 480x640 1 Unripe, 22.1ms\n",
      "Speed: 1.0ms preprocess, 22.1ms inference, 3.0ms postprocess per image at shape (1, 3, 480, 640)\n",
      "tensor([[463.8041, 292.6537, 608.5585, 448.0480,   0.8732,   0.0000]], device='cuda:0')\n",
      "\n",
      "0: 480x640 1 Unripe, 22.3ms\n",
      "Speed: 1.3ms preprocess, 22.3ms inference, 2.5ms postprocess per image at shape (1, 3, 480, 640)\n",
      "tensor([[448.5441, 292.4626, 602.6315, 446.3185,   0.7252,   0.0000]], device='cuda:0')\n",
      "\n",
      "0: 480x640 1 Unripe, 22.0ms\n",
      "Speed: 1.2ms preprocess, 22.0ms inference, 2.6ms postprocess per image at shape (1, 3, 480, 640)\n",
      "tensor([[448.1765, 289.1445, 594.6323, 444.2092,   0.7770,   0.0000]], device='cuda:0')\n",
      "\n",
      "0: 480x640 1 Unripe, 21.4ms\n",
      "Speed: 0.9ms preprocess, 21.4ms inference, 2.5ms postprocess per image at shape (1, 3, 480, 640)\n",
      "tensor([[445.8972, 288.6367, 585.3635, 440.4190,   0.7565,   0.0000]], device='cuda:0')\n",
      "\n",
      "0: 480x640 (no detections), 21.0ms\n",
      "Speed: 0.9ms preprocess, 21.0ms inference, 2.0ms postprocess per image at shape (1, 3, 480, 640)\n",
      "tensor([], device='cuda:0', size=(0, 6))\n",
      "\n",
      "0: 480x640 (no detections), 22.6ms\n",
      "Speed: 0.9ms preprocess, 22.6ms inference, 2.2ms postprocess per image at shape (1, 3, 480, 640)\n",
      "tensor([], device='cuda:0', size=(0, 6))\n",
      "\n",
      "0: 480x640 (no detections), 22.4ms\n",
      "Speed: 1.0ms preprocess, 22.4ms inference, 2.4ms postprocess per image at shape (1, 3, 480, 640)\n",
      "tensor([], device='cuda:0', size=(0, 6))\n",
      "\n",
      "0: 480x640 1 Unripe, 21.2ms\n",
      "Speed: 1.0ms preprocess, 21.2ms inference, 2.7ms postprocess per image at shape (1, 3, 480, 640)\n",
      "tensor([[367.4055, 306.9462, 507.3899, 449.3384,   0.7752,   0.0000]], device='cuda:0')\n",
      "\n",
      "0: 480x640 (no detections), 20.1ms\n",
      "Speed: 1.0ms preprocess, 20.1ms inference, 2.3ms postprocess per image at shape (1, 3, 480, 640)\n",
      "tensor([], device='cuda:0', size=(0, 6))\n",
      "\n",
      "0: 480x640 1 Unripe, 20.0ms\n",
      "Speed: 1.4ms preprocess, 20.0ms inference, 3.1ms postprocess per image at shape (1, 3, 480, 640)\n",
      "tensor([[3.5275e+02, 2.9904e+02, 4.9075e+02, 4.4523e+02, 4.0591e-01, 0.0000e+00]], device='cuda:0')\n",
      "\n",
      "0: 480x640 1 Unripe, 20.8ms\n",
      "Speed: 0.9ms preprocess, 20.8ms inference, 2.5ms postprocess per image at shape (1, 3, 480, 640)\n",
      "tensor([[332.9101, 299.1798, 476.4251, 439.4691,   0.7471,   0.0000]], device='cuda:0')\n",
      "\n",
      "0: 480x640 1 Unripe, 21.0ms\n",
      "Speed: 1.1ms preprocess, 21.0ms inference, 12.8ms postprocess per image at shape (1, 3, 480, 640)\n",
      "tensor([[321.8389, 295.1572, 463.5657, 436.1213,   0.7238,   0.0000]], device='cuda:0')\n",
      "\n",
      "0: 480x640 1 Unripe, 21.0ms\n",
      "Speed: 1.1ms preprocess, 21.0ms inference, 2.8ms postprocess per image at shape (1, 3, 480, 640)\n",
      "tensor([[313.3937, 293.5461, 448.4592, 433.1974,   0.5046,   0.0000]], device='cuda:0')\n",
      "\n",
      "0: 480x640 1 Unripe, 21.3ms\n",
      "Speed: 1.3ms preprocess, 21.3ms inference, 2.3ms postprocess per image at shape (1, 3, 480, 640)\n",
      "tensor([[302.7238, 292.8983, 439.4140, 431.1331,   0.7680,   0.0000]], device='cuda:0')\n",
      "\n",
      "0: 480x640 1 Unripe, 22.4ms\n",
      "Speed: 1.0ms preprocess, 22.4ms inference, 2.4ms postprocess per image at shape (1, 3, 480, 640)\n",
      "tensor([[295.8995, 287.8372, 429.9940, 426.3760,   0.7482,   0.0000]], device='cuda:0')\n",
      "\n",
      "0: 480x640 1 Unripe, 22.7ms\n",
      "Speed: 1.0ms preprocess, 22.7ms inference, 2.5ms postprocess per image at shape (1, 3, 480, 640)\n",
      "tensor([[288.5042, 283.7672, 425.0399, 421.8332,   0.8570,   0.0000]], device='cuda:0')\n",
      "\n",
      "0: 480x640 1 Unripe, 21.8ms\n",
      "Speed: 1.0ms preprocess, 21.8ms inference, 3.8ms postprocess per image at shape (1, 3, 480, 640)\n",
      "tensor([[288.8667, 283.1538, 421.8981, 421.6896,   0.8679,   0.0000]], device='cuda:0')\n",
      "\n",
      "0: 480x640 1 Unripe, 34.4ms\n",
      "Speed: 1.4ms preprocess, 34.4ms inference, 3.4ms postprocess per image at shape (1, 3, 480, 640)\n",
      "tensor([[288.7396, 283.3418, 420.4608, 420.8601,   0.8556,   0.0000]], device='cuda:0')\n",
      "\n",
      "0: 480x640 1 Unripe, 19.8ms\n",
      "Speed: 1.7ms preprocess, 19.8ms inference, 3.6ms postprocess per image at shape (1, 3, 480, 640)\n",
      "tensor([[289.0981, 279.5002, 421.6578, 419.1161,   0.8995,   0.0000]], device='cuda:0')\n",
      "\n",
      "0: 480x640 1 Unripe, 20.9ms\n",
      "Speed: 1.3ms preprocess, 20.9ms inference, 2.9ms postprocess per image at shape (1, 3, 480, 640)\n",
      "tensor([[289.4451, 278.8568, 422.2685, 417.5801,   0.8952,   0.0000]], device='cuda:0')\n",
      "\n",
      "0: 480x640 1 Unripe, 21.3ms\n",
      "Speed: 1.2ms preprocess, 21.3ms inference, 3.5ms postprocess per image at shape (1, 3, 480, 640)\n",
      "tensor([[289.7398, 278.5669, 425.2859, 417.0276,   0.8597,   0.0000]], device='cuda:0')\n",
      "\n",
      "0: 480x640 1 Unripe, 21.1ms\n",
      "Speed: 1.0ms preprocess, 21.1ms inference, 3.0ms postprocess per image at shape (1, 3, 480, 640)\n",
      "tensor([[293.1252, 278.3809, 425.8318, 416.1693,   0.8734,   0.0000]], device='cuda:0')\n",
      "\n",
      "0: 480x640 1 Unripe, 20.9ms\n",
      "Speed: 1.0ms preprocess, 20.9ms inference, 2.9ms postprocess per image at shape (1, 3, 480, 640)\n",
      "tensor([[293.6551, 278.5801, 426.0418, 418.2885,   0.7933,   0.0000]], device='cuda:0')\n",
      "\n",
      "0: 480x640 1 Unripe, 22.2ms\n",
      "Speed: 1.6ms preprocess, 22.2ms inference, 2.7ms postprocess per image at shape (1, 3, 480, 640)\n",
      "tensor([[294.4153, 278.6333, 426.4841, 419.0768,   0.6414,   0.0000]], device='cuda:0')\n",
      "\n",
      "0: 480x640 1 Unripe, 22.4ms\n",
      "Speed: 1.2ms preprocess, 22.4ms inference, 2.7ms postprocess per image at shape (1, 3, 480, 640)\n",
      "tensor([[290.1042, 278.8610, 425.5645, 419.6258,   0.7955,   0.0000]], device='cuda:0')\n",
      "\n",
      "0: 480x640 1 Unripe, 22.0ms\n",
      "Speed: 1.2ms preprocess, 22.0ms inference, 3.1ms postprocess per image at shape (1, 3, 480, 640)\n",
      "tensor([[2.8776e+02, 2.7894e+02, 4.2559e+02, 4.1940e+02, 2.5869e-01, 0.0000e+00]], device='cuda:0')\n",
      "\n",
      "0: 480x640 1 Unripe, 21.4ms\n",
      "Speed: 0.9ms preprocess, 21.4ms inference, 2.7ms postprocess per image at shape (1, 3, 480, 640)\n",
      "tensor([[2.8902e+02, 2.8007e+02, 4.2582e+02, 4.1957e+02, 3.7184e-01, 0.0000e+00]], device='cuda:0')\n",
      "\n",
      "0: 480x640 1 Unripe, 21.0ms\n",
      "Speed: 1.1ms preprocess, 21.0ms inference, 2.9ms postprocess per image at shape (1, 3, 480, 640)\n",
      "tensor([[294.6462, 280.8724, 426.7646, 420.1711,   0.7569,   0.0000]], device='cuda:0')\n",
      "\n",
      "0: 480x640 1 Unripe, 22.0ms\n",
      "Speed: 1.2ms preprocess, 22.0ms inference, 2.7ms postprocess per image at shape (1, 3, 480, 640)\n",
      "tensor([[298.3890, 279.1653, 428.8301, 419.7091,   0.8203,   0.0000]], device='cuda:0')\n",
      "\n",
      "0: 480x640 1 Unripe, 22.5ms\n",
      "Speed: 1.3ms preprocess, 22.5ms inference, 2.6ms postprocess per image at shape (1, 3, 480, 640)\n",
      "tensor([[298.9301, 278.4083, 430.8229, 417.4907,   0.8123,   0.0000]], device='cuda:0')\n",
      "\n",
      "0: 480x640 1 Unripe, 22.2ms\n",
      "Speed: 1.2ms preprocess, 22.2ms inference, 2.8ms postprocess per image at shape (1, 3, 480, 640)\n",
      "tensor([[300.6437, 277.4672, 434.4142, 416.1028,   0.8669,   0.0000]], device='cuda:0')\n",
      "\n",
      "0: 480x640 1 Unripe, 21.4ms\n",
      "Speed: 1.1ms preprocess, 21.4ms inference, 3.1ms postprocess per image at shape (1, 3, 480, 640)\n",
      "tensor([[301.5197, 276.2349, 434.8920, 415.8435,   0.8898,   0.0000]], device='cuda:0')\n",
      "\n",
      "0: 480x640 1 Unripe, 20.9ms\n",
      "Speed: 1.1ms preprocess, 20.9ms inference, 2.7ms postprocess per image at shape (1, 3, 480, 640)\n",
      "tensor([[303.4676, 272.6155, 438.7053, 411.8840,   0.8408,   0.0000]], device='cuda:0')\n",
      "\n",
      "0: 480x640 1 Unripe, 21.5ms\n",
      "Speed: 1.0ms preprocess, 21.5ms inference, 2.6ms postprocess per image at shape (1, 3, 480, 640)\n",
      "tensor([[304.8542, 268.5371, 440.8297, 411.4736,   0.7729,   0.0000]], device='cuda:0')\n",
      "\n",
      "0: 480x640 1 Unripe, 22.6ms\n",
      "Speed: 1.2ms preprocess, 22.6ms inference, 2.3ms postprocess per image at shape (1, 3, 480, 640)\n",
      "tensor([[305.2205, 268.1866, 441.4217, 410.2733,   0.8132,   0.0000]], device='cuda:0')\n",
      "\n",
      "0: 480x640 1 Unripe, 22.4ms\n",
      "Speed: 1.4ms preprocess, 22.4ms inference, 2.4ms postprocess per image at shape (1, 3, 480, 640)\n",
      "tensor([[306.8202, 267.1439, 442.7493, 409.4340,   0.6829,   0.0000]], device='cuda:0')\n",
      "\n",
      "0: 480x640 1 Unripe, 21.6ms\n",
      "Speed: 0.9ms preprocess, 21.6ms inference, 2.3ms postprocess per image at shape (1, 3, 480, 640)\n",
      "tensor([[309.3299, 267.2111, 445.9906, 409.6721,   0.8400,   0.0000]], device='cuda:0')\n",
      "\n",
      "0: 480x640 (no detections), 21.1ms\n",
      "Speed: 1.1ms preprocess, 21.1ms inference, 2.0ms postprocess per image at shape (1, 3, 480, 640)\n",
      "tensor([], device='cuda:0', size=(0, 6))\n",
      "\n",
      "0: 480x640 1 Unripe, 22.7ms\n",
      "Speed: 1.1ms preprocess, 22.7ms inference, 12.4ms postprocess per image at shape (1, 3, 480, 640)\n",
      "tensor([[311.5248, 262.5168, 448.1132, 405.2769,   0.7657,   0.0000]], device='cuda:0')\n",
      "\n",
      "0: 480x640 1 Unripe, 20.2ms\n",
      "Speed: 1.4ms preprocess, 20.2ms inference, 5.9ms postprocess per image at shape (1, 3, 480, 640)\n",
      "tensor([[313.8879, 261.2171, 449.2205, 404.6355,   0.7304,   0.0000]], device='cuda:0')\n",
      "\n",
      "0: 480x640 1 Unripe, 20.9ms\n",
      "Speed: 1.9ms preprocess, 20.9ms inference, 4.6ms postprocess per image at shape (1, 3, 480, 640)\n",
      "tensor([[314.6834, 260.5393, 451.1674, 404.4404,   0.8039,   0.0000]], device='cuda:0')\n",
      "\n",
      "0: 480x640 1 Unripe, 21.6ms\n",
      "Speed: 1.3ms preprocess, 21.6ms inference, 4.2ms postprocess per image at shape (1, 3, 480, 640)\n",
      "tensor([[3.1655e+02, 2.5984e+02, 4.5346e+02, 4.0382e+02, 3.3183e-01, 0.0000e+00]], device='cuda:0')\n",
      "\n",
      "0: 480x640 1 Unripe, 21.8ms\n",
      "Speed: 1.2ms preprocess, 21.8ms inference, 3.6ms postprocess per image at shape (1, 3, 480, 640)\n",
      "tensor([[3.1805e+02, 2.6037e+02, 4.5514e+02, 4.0621e+02, 3.3012e-01, 0.0000e+00]], device='cuda:0')\n",
      "\n",
      "0: 480x640 1 Unripe, 22.2ms\n",
      "Speed: 0.9ms preprocess, 22.2ms inference, 3.7ms postprocess per image at shape (1, 3, 480, 640)\n",
      "tensor([[319.0258, 258.8527, 457.3494, 403.2590,   0.7018,   0.0000]], device='cuda:0')\n",
      "\n",
      "0: 480x640 1 Unripe, 21.9ms\n",
      "Speed: 0.9ms preprocess, 21.9ms inference, 3.8ms postprocess per image at shape (1, 3, 480, 640)\n",
      "tensor([[3.2041e+02, 2.5779e+02, 4.5997e+02, 4.0285e+02, 4.2801e-01, 0.0000e+00]], device='cuda:0')\n",
      "\n",
      "0: 480x640 1 Unripe, 21.3ms\n",
      "Speed: 1.1ms preprocess, 21.3ms inference, 4.3ms postprocess per image at shape (1, 3, 480, 640)\n",
      "tensor([[321.1049, 258.8715, 459.7713, 404.6174,   0.7137,   0.0000]], device='cuda:0')\n",
      "\n",
      "0: 480x640 1 Unripe, 21.0ms\n",
      "Speed: 1.3ms preprocess, 21.0ms inference, 3.8ms postprocess per image at shape (1, 3, 480, 640)\n",
      "tensor([[320.6111, 259.1220, 460.2496, 402.9781,   0.5005,   0.0000]], device='cuda:0')\n",
      "\n",
      "0: 480x640 1 Unripe, 20.9ms\n",
      "Speed: 0.9ms preprocess, 20.9ms inference, 4.3ms postprocess per image at shape (1, 3, 480, 640)\n",
      "tensor([[320.7437, 259.3743, 460.3927, 403.3226,   0.5418,   0.0000]], device='cuda:0')\n",
      "\n",
      "0: 480x640 1 Unripe, 21.3ms\n",
      "Speed: 0.9ms preprocess, 21.3ms inference, 4.9ms postprocess per image at shape (1, 3, 480, 640)\n",
      "tensor([[3.2017e+02, 2.5952e+02, 4.5895e+02, 4.0275e+02, 3.5660e-01, 0.0000e+00]], device='cuda:0')\n",
      "\n",
      "0: 480x640 1 Unripe, 21.7ms\n",
      "Speed: 1.2ms preprocess, 21.7ms inference, 3.5ms postprocess per image at shape (1, 3, 480, 640)\n",
      "tensor([[320.5515, 257.2657, 459.2742, 401.5335,   0.6069,   0.0000]], device='cuda:0')\n",
      "\n",
      "0: 480x640 1 Unripe, 22.4ms\n",
      "Speed: 1.0ms preprocess, 22.4ms inference, 3.7ms postprocess per image at shape (1, 3, 480, 640)\n",
      "tensor([[320.5255, 260.1521, 458.0717, 402.7666,   0.7883,   0.0000]], device='cuda:0')\n",
      "\n",
      "0: 480x640 1 Unripe, 22.3ms\n",
      "Speed: 1.0ms preprocess, 22.3ms inference, 4.0ms postprocess per image at shape (1, 3, 480, 640)\n",
      "tensor([[319.8721, 258.8624, 457.8320, 404.1011,   0.5618,   0.0000]], device='cuda:0')\n",
      "\n",
      "0: 480x640 1 Unripe, 22.1ms\n",
      "Speed: 0.9ms preprocess, 22.1ms inference, 4.6ms postprocess per image at shape (1, 3, 480, 640)\n",
      "tensor([[319.6746, 259.7386, 457.7095, 403.5031,   0.7093,   0.0000]], device='cuda:0')\n",
      "\n",
      "0: 480x640 1 Unripe, 21.5ms\n",
      "Speed: 1.2ms preprocess, 21.5ms inference, 3.4ms postprocess per image at shape (1, 3, 480, 640)\n",
      "tensor([[319.5257, 261.0935, 457.6790, 405.2430,   0.7073,   0.0000]], device='cuda:0')\n",
      "\n",
      "0: 480x640 1 Unripe, 21.2ms\n",
      "Speed: 1.3ms preprocess, 21.2ms inference, 3.6ms postprocess per image at shape (1, 3, 480, 640)\n",
      "tensor([[319.6227, 261.3198, 457.5518, 405.1063,   0.4828,   0.0000]], device='cuda:0')\n",
      "\n",
      "0: 480x640 1 Unripe, 21.1ms\n",
      "Speed: 1.0ms preprocess, 21.1ms inference, 3.5ms postprocess per image at shape (1, 3, 480, 640)\n",
      "tensor([[3.1972e+02, 2.5992e+02, 4.5756e+02, 4.0407e+02, 3.2008e-01, 0.0000e+00]], device='cuda:0')\n",
      "\n",
      "0: 480x640 1 Unripe, 21.6ms\n",
      "Speed: 0.9ms preprocess, 21.6ms inference, 4.6ms postprocess per image at shape (1, 3, 480, 640)\n",
      "tensor([[318.7769, 260.3522, 456.9310, 403.7588,   0.4992,   0.0000]], device='cuda:0')\n",
      "\n",
      "0: 480x640 1 Unripe, 21.9ms\n",
      "Speed: 1.0ms preprocess, 21.9ms inference, 3.5ms postprocess per image at shape (1, 3, 480, 640)\n",
      "tensor([[3.1935e+02, 2.5894e+02, 4.5731e+02, 4.0306e+02, 3.0605e-01, 0.0000e+00]], device='cuda:0')\n",
      "\n",
      "0: 480x640 1 Unripe, 22.4ms\n",
      "Speed: 0.9ms preprocess, 22.4ms inference, 3.5ms postprocess per image at shape (1, 3, 480, 640)\n",
      "tensor([[318.9477, 260.3693, 457.3646, 404.5078,   0.6079,   0.0000]], device='cuda:0')\n",
      "\n",
      "0: 480x640 1 Unripe, 22.1ms\n",
      "Speed: 1.0ms preprocess, 22.1ms inference, 3.7ms postprocess per image at shape (1, 3, 480, 640)\n",
      "tensor([[3.1958e+02, 2.5933e+02, 4.5755e+02, 4.0415e+02, 3.1290e-01, 0.0000e+00]], device='cuda:0')\n",
      "\n",
      "0: 480x640 1 Unripe, 21.5ms\n",
      "Speed: 1.4ms preprocess, 21.5ms inference, 4.5ms postprocess per image at shape (1, 3, 480, 640)\n",
      "tensor([[320.3577, 261.0997, 457.5864, 404.5617,   0.7181,   0.0000]], device='cuda:0')\n",
      "\n",
      "0: 480x640 1 Unripe, 21.1ms\n",
      "Speed: 1.2ms preprocess, 21.1ms inference, 3.7ms postprocess per image at shape (1, 3, 480, 640)\n",
      "tensor([[320.2399, 260.0358, 457.8504, 403.9249,   0.7567,   0.0000]], device='cuda:0')\n",
      "\n",
      "0: 480x640 1 Unripe, 20.9ms\n",
      "Speed: 1.2ms preprocess, 20.9ms inference, 3.7ms postprocess per image at shape (1, 3, 480, 640)\n",
      "tensor([[320.5429, 258.6946, 457.9998, 404.9191,   0.7041,   0.0000]], device='cuda:0')\n",
      "\n",
      "0: 480x640 1 Unripe, 21.3ms\n",
      "Speed: 0.9ms preprocess, 21.3ms inference, 3.7ms postprocess per image at shape (1, 3, 480, 640)\n",
      "tensor([[319.8941, 257.8936, 458.4868, 403.1725,   0.4953,   0.0000]], device='cuda:0')\n",
      "\n",
      "0: 480x640 1 Unripe, 22.3ms\n",
      "Speed: 0.9ms preprocess, 22.3ms inference, 10.3ms postprocess per image at shape (1, 3, 480, 640)\n",
      "tensor([[320.9790, 259.4962, 459.1255, 405.6953,   0.7664,   0.0000]], device='cuda:0')\n",
      "\n",
      "0: 480x640 1 Unripe, 21.2ms\n",
      "Speed: 1.2ms preprocess, 21.2ms inference, 2.5ms postprocess per image at shape (1, 3, 480, 640)\n",
      "tensor([[320.8650, 259.8621, 458.3770, 404.2140,   0.5538,   0.0000]], device='cuda:0')\n",
      "\n",
      "0: 480x640 1 Unripe, 22.6ms\n",
      "Speed: 1.0ms preprocess, 22.6ms inference, 2.3ms postprocess per image at shape (1, 3, 480, 640)\n",
      "tensor([[320.6593, 258.8784, 458.2740, 404.5731,   0.6235,   0.0000]], device='cuda:0')\n",
      "\n",
      "0: 480x640 1 Unripe, 22.3ms\n",
      "Speed: 1.0ms preprocess, 22.3ms inference, 2.5ms postprocess per image at shape (1, 3, 480, 640)\n",
      "tensor([[320.9022, 260.4659, 457.5717, 404.4820,   0.7928,   0.0000]], device='cuda:0')\n",
      "\n",
      "0: 480x640 1 Unripe, 21.6ms\n",
      "Speed: 0.9ms preprocess, 21.6ms inference, 2.7ms postprocess per image at shape (1, 3, 480, 640)\n",
      "tensor([[320.5197, 260.1680, 457.9283, 405.1727,   0.6017,   0.0000]], device='cuda:0')\n",
      "\n",
      "0: 480x640 1 Unripe, 21.0ms\n",
      "Speed: 1.0ms preprocess, 21.0ms inference, 2.6ms postprocess per image at shape (1, 3, 480, 640)\n",
      "tensor([[320.8976, 260.5223, 459.3244, 406.8253,   0.4704,   0.0000]], device='cuda:0')\n",
      "\n",
      "0: 480x640 1 Unripe, 22.1ms\n",
      "Speed: 1.1ms preprocess, 22.1ms inference, 2.7ms postprocess per image at shape (1, 3, 480, 640)\n",
      "tensor([[321.0552, 261.2819, 460.1558, 405.9437,   0.6355,   0.0000]], device='cuda:0')\n",
      "\n",
      "0: 480x640 1 Unripe, 22.6ms\n",
      "Speed: 1.0ms preprocess, 22.6ms inference, 2.8ms postprocess per image at shape (1, 3, 480, 640)\n",
      "tensor([[3.2168e+02, 2.5901e+02, 4.6075e+02, 4.0645e+02, 3.5140e-01, 0.0000e+00]], device='cuda:0')\n",
      "\n",
      "0: 480x640 1 Unripe, 22.1ms\n",
      "Speed: 1.2ms preprocess, 22.1ms inference, 2.6ms postprocess per image at shape (1, 3, 480, 640)\n",
      "tensor([[3.2120e+02, 2.6075e+02, 4.6051e+02, 4.0525e+02, 4.3001e-01, 0.0000e+00]], device='cuda:0')\n",
      "\n",
      "0: 480x640 1 Unripe, 21.4ms\n",
      "Speed: 1.2ms preprocess, 21.4ms inference, 2.5ms postprocess per image at shape (1, 3, 480, 640)\n",
      "tensor([[321.6752, 260.3585, 460.3832, 405.8623,   0.6327,   0.0000]], device='cuda:0')\n",
      "\n",
      "0: 480x640 1 Unripe, 21.1ms\n",
      "Speed: 1.0ms preprocess, 21.1ms inference, 2.5ms postprocess per image at shape (1, 3, 480, 640)\n",
      "tensor([[3.2061e+02, 2.5936e+02, 4.6042e+02, 4.0598e+02, 3.9612e-01, 0.0000e+00]], device='cuda:0')\n",
      "\n",
      "0: 480x640 (no detections), 22.3ms\n",
      "Speed: 0.9ms preprocess, 22.3ms inference, 2.0ms postprocess per image at shape (1, 3, 480, 640)\n",
      "tensor([], device='cuda:0', size=(0, 6))\n",
      "\n",
      "0: 480x640 1 Unripe, 23.0ms\n",
      "Speed: 1.1ms preprocess, 23.0ms inference, 3.4ms postprocess per image at shape (1, 3, 480, 640)\n",
      "tensor([[3.2080e+02, 2.5936e+02, 4.5994e+02, 4.0689e+02, 3.3025e-01, 0.0000e+00]], device='cuda:0')\n",
      "\n",
      "0: 480x640 1 Unripe, 21.8ms\n",
      "Speed: 1.1ms preprocess, 21.8ms inference, 3.1ms postprocess per image at shape (1, 3, 480, 640)\n",
      "tensor([[3.2134e+02, 2.6081e+02, 4.5977e+02, 4.0848e+02, 4.3991e-01, 0.0000e+00]], device='cuda:0')\n",
      "\n",
      "0: 480x640 1 Unripe, 21.3ms\n",
      "Speed: 1.5ms preprocess, 21.3ms inference, 2.6ms postprocess per image at shape (1, 3, 480, 640)\n",
      "tensor([[321.8022, 263.1289, 459.9316, 408.4958,   0.5354,   0.0000]], device='cuda:0')\n",
      "\n",
      "0: 480x640 (no detections), 21.1ms\n",
      "Speed: 1.2ms preprocess, 21.1ms inference, 2.0ms postprocess per image at shape (1, 3, 480, 640)\n",
      "tensor([], device='cuda:0', size=(0, 6))\n",
      "\n",
      "0: 480x640 1 Unripe, 22.3ms\n",
      "Speed: 1.2ms preprocess, 22.3ms inference, 3.2ms postprocess per image at shape (1, 3, 480, 640)\n",
      "tensor([[322.7106, 264.3862, 461.9901, 408.4476,   0.6558,   0.0000]], device='cuda:0')\n",
      "\n",
      "0: 480x640 1 Unripe, 20.7ms\n",
      "Speed: 1.2ms preprocess, 20.7ms inference, 3.2ms postprocess per image at shape (1, 3, 480, 640)\n",
      "tensor([[3.2373e+02, 2.6444e+02, 4.6249e+02, 4.0861e+02, 2.7249e-01, 0.0000e+00]], device='cuda:0')\n",
      "\n",
      "0: 480x640 1 Unripe, 20.6ms\n",
      "Speed: 1.3ms preprocess, 20.6ms inference, 2.8ms postprocess per image at shape (1, 3, 480, 640)\n",
      "tensor([[325.0355, 261.9493, 462.2407, 403.5910,   0.7905,   0.0000]], device='cuda:0')\n",
      "\n",
      "0: 480x640 (no detections), 21.5ms\n",
      "Speed: 1.1ms preprocess, 21.5ms inference, 2.0ms postprocess per image at shape (1, 3, 480, 640)\n",
      "tensor([], device='cuda:0', size=(0, 6))\n",
      "\n",
      "0: 480x640 1 Unripe, 21.0ms\n",
      "Speed: 1.1ms preprocess, 21.0ms inference, 2.6ms postprocess per image at shape (1, 3, 480, 640)\n",
      "tensor([[324.4152, 259.5565, 463.5983, 402.5826,   0.8122,   0.0000]], device='cuda:0')\n",
      "\n",
      "0: 480x640 1 Unripe, 21.6ms\n",
      "Speed: 1.1ms preprocess, 21.6ms inference, 2.7ms postprocess per image at shape (1, 3, 480, 640)\n",
      "tensor([[325.2213, 260.3845, 463.3724, 401.6736,   0.7974,   0.0000]], device='cuda:0')\n",
      "\n",
      "0: 480x640 1 Unripe, 22.6ms\n",
      "Speed: 1.1ms preprocess, 22.6ms inference, 2.4ms postprocess per image at shape (1, 3, 480, 640)\n",
      "tensor([[330.1470, 261.0256, 465.8865, 402.4040,   0.8711,   0.0000]], device='cuda:0')\n",
      "\n",
      "0: 480x640 1 Unripe, 22.6ms\n",
      "Speed: 1.0ms preprocess, 22.6ms inference, 2.7ms postprocess per image at shape (1, 3, 480, 640)\n",
      "tensor([[331.8323, 261.0745, 466.9045, 404.3002,   0.7953,   0.0000]], device='cuda:0')\n",
      "\n",
      "0: 480x640 1 Unripe, 21.8ms\n",
      "Speed: 1.2ms preprocess, 21.8ms inference, 2.6ms postprocess per image at shape (1, 3, 480, 640)\n",
      "tensor([[333.3622, 262.1623, 470.3311, 402.9926,   0.7891,   0.0000]], device='cuda:0')\n",
      "\n",
      "0: 480x640 1 Unripe, 21.3ms\n",
      "Speed: 1.1ms preprocess, 21.3ms inference, 2.3ms postprocess per image at shape (1, 3, 480, 640)\n",
      "tensor([[334.0334, 262.4119, 471.9307, 402.9520,   0.7967,   0.0000]], device='cuda:0')\n",
      "\n",
      "0: 480x640 1 Unripe, 21.5ms\n",
      "Speed: 1.1ms preprocess, 21.5ms inference, 2.3ms postprocess per image at shape (1, 3, 480, 640)\n",
      "tensor([[335.9847, 261.4753, 473.5182, 408.0497,   0.7812,   0.0000]], device='cuda:0')\n",
      "\n",
      "0: 480x640 1 Unripe, 22.7ms\n",
      "Speed: 1.1ms preprocess, 22.7ms inference, 2.8ms postprocess per image at shape (1, 3, 480, 640)\n",
      "tensor([[337.1929, 266.4346, 473.5461, 408.1180,   0.8010,   0.0000]], device='cuda:0')\n",
      "\n",
      "0: 480x640 1 Unripe, 20.8ms\n",
      "Speed: 1.2ms preprocess, 20.8ms inference, 2.4ms postprocess per image at shape (1, 3, 480, 640)\n",
      "tensor([[337.3538, 267.2365, 472.7714, 408.9174,   0.8421,   0.0000]], device='cuda:0')\n",
      "\n",
      "0: 480x640 1 Unripe, 22.4ms\n",
      "Speed: 1.1ms preprocess, 22.4ms inference, 2.5ms postprocess per image at shape (1, 3, 480, 640)\n",
      "tensor([[336.9839, 266.5157, 471.0064, 407.1855,   0.7701,   0.0000]], device='cuda:0')\n",
      "\n",
      "0: 480x640 1 Unripe, 22.5ms\n",
      "Speed: 1.1ms preprocess, 22.5ms inference, 2.6ms postprocess per image at shape (1, 3, 480, 640)\n",
      "tensor([[334.2327, 267.2725, 466.5383, 406.6934,   0.5422,   0.0000]], device='cuda:0')\n",
      "\n",
      "0: 480x640 1 Unripe, 21.8ms\n",
      "Speed: 1.1ms preprocess, 21.8ms inference, 3.0ms postprocess per image at shape (1, 3, 480, 640)\n",
      "tensor([[331.3627, 267.2615, 461.2759, 404.3228,   0.7476,   0.0000]], device='cuda:0')\n",
      "\n",
      "0: 480x640 1 Unripe, 21.2ms\n",
      "Speed: 1.1ms preprocess, 21.2ms inference, 3.0ms postprocess per image at shape (1, 3, 480, 640)\n",
      "tensor([[330.7644, 266.5493, 457.9337, 403.5466,   0.6927,   0.0000]], device='cuda:0')\n",
      "\n",
      "0: 480x640 1 Unripe, 21.2ms\n",
      "Speed: 1.1ms preprocess, 21.2ms inference, 2.6ms postprocess per image at shape (1, 3, 480, 640)\n",
      "tensor([[327.9516, 267.6471, 455.9923, 402.3352,   0.8445,   0.0000]], device='cuda:0')\n",
      "\n",
      "0: 480x640 1 Unripe, 22.5ms\n",
      "Speed: 1.3ms preprocess, 22.5ms inference, 2.3ms postprocess per image at shape (1, 3, 480, 640)\n",
      "tensor([[321.7531, 268.0042, 452.0501, 402.5627,   0.7631,   0.0000]], device='cuda:0')\n",
      "\n",
      "0: 480x640 1 Unripe, 22.7ms\n",
      "Speed: 1.2ms preprocess, 22.7ms inference, 3.0ms postprocess per image at shape (1, 3, 480, 640)\n",
      "tensor([[320.6275, 267.3687, 447.9561, 398.3704,   0.7422,   0.0000]], device='cuda:0')\n",
      "\n",
      "0: 480x640 1 Unripe, 20.5ms\n",
      "Speed: 2.8ms preprocess, 20.5ms inference, 4.1ms postprocess per image at shape (1, 3, 480, 640)\n",
      "tensor([[317.3665, 267.2714, 443.6045, 396.3036,   0.7576,   0.0000]], device='cuda:0')\n",
      "\n",
      "0: 480x640 1 Unripe, 21.7ms\n",
      "Speed: 1.5ms preprocess, 21.7ms inference, 2.9ms postprocess per image at shape (1, 3, 480, 640)\n",
      "tensor([[314.8077, 265.2804, 440.5661, 393.7907,   0.7286,   0.0000]], device='cuda:0')\n",
      "\n",
      "0: 480x640 1 Unripe, 22.5ms\n",
      "Speed: 1.1ms preprocess, 22.5ms inference, 3.5ms postprocess per image at shape (1, 3, 480, 640)\n",
      "tensor([[3.1337e+02, 2.6303e+02, 4.3283e+02, 3.8987e+02, 2.7329e-01, 0.0000e+00]], device='cuda:0')\n",
      "\n",
      "0: 480x640 1 Unripe, 22.6ms\n",
      "Speed: 1.0ms preprocess, 22.6ms inference, 3.4ms postprocess per image at shape (1, 3, 480, 640)\n",
      "tensor([[304.1564, 260.3002, 425.4192, 384.5890,   0.7561,   0.0000]], device='cuda:0')\n",
      "\n",
      "0: 480x640 1 Unripe, 21.3ms\n",
      "Speed: 1.5ms preprocess, 21.3ms inference, 2.7ms postprocess per image at shape (1, 3, 480, 640)\n",
      "tensor([[301.5269, 256.1469, 421.3502, 378.3427,   0.7623,   0.0000]], device='cuda:0')\n",
      "\n",
      "0: 480x640 1 Unripe, 21.4ms\n",
      "Speed: 1.2ms preprocess, 21.4ms inference, 2.8ms postprocess per image at shape (1, 3, 480, 640)\n",
      "tensor([[300.0070, 253.8674, 418.7917, 376.4357,   0.7079,   0.0000]], device='cuda:0')\n",
      "\n",
      "0: 480x640 1 Unripe, 21.0ms\n",
      "Speed: 1.0ms preprocess, 21.0ms inference, 2.9ms postprocess per image at shape (1, 3, 480, 640)\n",
      "tensor([[299.3910, 254.2402, 415.8307, 375.4694,   0.6526,   0.0000]], device='cuda:0')\n",
      "\n",
      "0: 480x640 1 Unripe, 21.3ms\n",
      "Speed: 1.1ms preprocess, 21.3ms inference, 2.9ms postprocess per image at shape (1, 3, 480, 640)\n",
      "tensor([[2.9879e+02, 2.5346e+02, 4.1364e+02, 3.7362e+02, 3.3267e-01, 0.0000e+00]], device='cuda:0')\n",
      "\n",
      "0: 480x640 1 Unripe, 22.6ms\n",
      "Speed: 1.1ms preprocess, 22.6ms inference, 2.9ms postprocess per image at shape (1, 3, 480, 640)\n",
      "tensor([[294.0668, 254.7078, 406.9610, 371.8723,   0.5128,   0.0000]], device='cuda:0')\n",
      "\n",
      "0: 480x640 1 Unripe, 22.5ms\n",
      "Speed: 1.3ms preprocess, 22.5ms inference, 2.7ms postprocess per image at shape (1, 3, 480, 640)\n",
      "tensor([[292.5461, 255.0688, 405.3736, 369.4327,   0.5945,   0.0000]], device='cuda:0')\n",
      "\n",
      "0: 480x640 1 Unripe, 22.1ms\n",
      "Speed: 1.2ms preprocess, 22.1ms inference, 2.7ms postprocess per image at shape (1, 3, 480, 640)\n",
      "tensor([[289.0449, 252.1990, 400.7946, 368.4078,   0.6563,   0.0000]], device='cuda:0')\n",
      "\n",
      "0: 480x640 1 Unripe, 21.4ms\n",
      "Speed: 1.0ms preprocess, 21.4ms inference, 2.9ms postprocess per image at shape (1, 3, 480, 640)\n",
      "tensor([[287.5703, 249.5530, 399.9624, 363.3462,   0.5652,   0.0000]], device='cuda:0')\n",
      "\n",
      "0: 480x640 1 Unripe, 21.1ms\n",
      "Speed: 0.9ms preprocess, 21.1ms inference, 2.5ms postprocess per image at shape (1, 3, 480, 640)\n",
      "tensor([[287.3746, 243.4677, 398.9339, 360.1785,   0.6868,   0.0000]], device='cuda:0')\n",
      "\n",
      "0: 480x640 1 Unripe, 21.9ms\n",
      "Speed: 1.1ms preprocess, 21.9ms inference, 3.0ms postprocess per image at shape (1, 3, 480, 640)\n",
      "tensor([[286.3497, 238.9461, 396.3152, 354.4833,   0.6015,   0.0000]], device='cuda:0')\n",
      "\n",
      "0: 480x640 1 Unripe, 22.6ms\n",
      "Speed: 1.2ms preprocess, 22.6ms inference, 2.6ms postprocess per image at shape (1, 3, 480, 640)\n",
      "tensor([[286.0765, 237.4343, 395.3835, 350.7496,   0.6377,   0.0000]], device='cuda:0')\n",
      "\n",
      "0: 480x640 1 Unripe, 22.4ms\n",
      "Speed: 1.1ms preprocess, 22.4ms inference, 2.5ms postprocess per image at shape (1, 3, 480, 640)\n",
      "tensor([[286.1258, 234.8221, 394.0287, 345.1188,   0.4165,   0.0000]], device='cuda:0')\n",
      "\n",
      "0: 480x640 1 Unripe, 21.6ms\n",
      "Speed: 1.1ms preprocess, 21.6ms inference, 2.7ms postprocess per image at shape (1, 3, 480, 640)\n",
      "tensor([[284.1490, 231.1529, 392.8165, 343.3890,   0.7006,   0.0000]], device='cuda:0')\n",
      "\n",
      "0: 480x640 1 Unripe, 21.0ms\n",
      "Speed: 1.1ms preprocess, 21.0ms inference, 2.7ms postprocess per image at shape (1, 3, 480, 640)\n",
      "tensor([[284.5682, 230.6400, 392.7469, 339.1839,   0.6485,   0.0000]], device='cuda:0')\n",
      "\n",
      "0: 480x640 1 Unripe, 21.8ms\n",
      "Speed: 1.0ms preprocess, 21.8ms inference, 2.8ms postprocess per image at shape (1, 3, 480, 640)\n",
      "tensor([[282.7192, 228.4220, 390.1295, 337.4877,   0.6690,   0.0000]], device='cuda:0')\n",
      "\n",
      "0: 480x640 (no detections), 22.7ms\n",
      "Speed: 1.3ms preprocess, 22.7ms inference, 8.0ms postprocess per image at shape (1, 3, 480, 640)\n",
      "tensor([], device='cuda:0', size=(0, 6))\n",
      "\n",
      "0: 480x640 1 Unripe, 19.8ms\n",
      "Speed: 1.2ms preprocess, 19.8ms inference, 4.9ms postprocess per image at shape (1, 3, 480, 640)\n",
      "tensor([[282.2659, 224.7395, 387.1021, 333.4714,   0.6557,   0.0000]], device='cuda:0')\n",
      "\n",
      "0: 480x640 1 Unripe, 21.3ms\n",
      "Speed: 1.1ms preprocess, 21.3ms inference, 4.2ms postprocess per image at shape (1, 3, 480, 640)\n",
      "tensor([[281.7551, 220.8043, 387.0852, 330.5464,   0.6521,   0.0000]], device='cuda:0')\n",
      "\n",
      "0: 480x640 1 Unripe, 21.5ms\n",
      "Speed: 1.0ms preprocess, 21.5ms inference, 4.8ms postprocess per image at shape (1, 3, 480, 640)\n",
      "tensor([[280.5938, 215.8294, 386.9861, 328.9416,   0.7150,   0.0000]], device='cuda:0')\n",
      "\n",
      "0: 480x640 1 Unripe, 21.8ms\n",
      "Speed: 0.9ms preprocess, 21.8ms inference, 3.7ms postprocess per image at shape (1, 3, 480, 640)\n",
      "tensor([[278.3284, 213.2916, 384.1243, 324.3250,   0.4354,   0.0000]], device='cuda:0')\n",
      "\n",
      "0: 480x640 1 Unripe, 22.4ms\n",
      "Speed: 1.0ms preprocess, 22.4ms inference, 3.7ms postprocess per image at shape (1, 3, 480, 640)\n",
      "tensor([[273.8790, 206.0721, 381.3141, 314.4427,   0.6690,   0.0000]], device='cuda:0')\n",
      "\n",
      "0: 480x640 1 Unripe, 22.4ms\n",
      "Speed: 0.9ms preprocess, 22.4ms inference, 3.6ms postprocess per image at shape (1, 3, 480, 640)\n",
      "tensor([[2.7450e+02, 2.0480e+02, 3.8115e+02, 3.1408e+02, 3.6480e-01, 0.0000e+00]], device='cuda:0')\n",
      "\n",
      "0: 480x640 1 Unripe, 22.2ms\n",
      "Speed: 1.0ms preprocess, 22.2ms inference, 3.8ms postprocess per image at shape (1, 3, 480, 640)\n",
      "tensor([[274.5092, 202.9575, 381.6183, 312.1952,   0.3896,   0.0000]], device='cuda:0')\n",
      "\n",
      "0: 480x640 (no detections), 21.5ms\n",
      "Speed: 0.9ms preprocess, 21.5ms inference, 3.8ms postprocess per image at shape (1, 3, 480, 640)\n",
      "tensor([], device='cuda:0', size=(0, 6))\n",
      "\n",
      "0: 480x640 1 Unripe, 21.0ms\n",
      "Speed: 1.0ms preprocess, 21.0ms inference, 3.4ms postprocess per image at shape (1, 3, 480, 640)\n",
      "tensor([[2.7909e+02, 2.0270e+02, 3.8273e+02, 3.1057e+02, 3.0183e-01, 0.0000e+00]], device='cuda:0')\n",
      "\n",
      "0: 480x640 (no detections), 21.6ms\n",
      "Speed: 1.2ms preprocess, 21.6ms inference, 3.8ms postprocess per image at shape (1, 3, 480, 640)\n",
      "tensor([], device='cuda:0', size=(0, 6))\n",
      "\n",
      "0: 480x640 (no detections), 22.2ms\n",
      "Speed: 1.1ms preprocess, 22.2ms inference, 3.0ms postprocess per image at shape (1, 3, 480, 640)\n",
      "tensor([], device='cuda:0', size=(0, 6))\n",
      "\n",
      "0: 480x640 (no detections), 22.6ms\n",
      "Speed: 0.9ms preprocess, 22.6ms inference, 3.4ms postprocess per image at shape (1, 3, 480, 640)\n",
      "tensor([], device='cuda:0', size=(0, 6))\n",
      "\n",
      "0: 480x640 1 Unripe, 22.2ms\n",
      "Speed: 0.9ms preprocess, 22.2ms inference, 3.8ms postprocess per image at shape (1, 3, 480, 640)\n",
      "tensor([[273.7995, 199.1567, 379.9262, 306.5977,   0.7798,   0.0000]], device='cuda:0')\n",
      "\n",
      "0: 480x640 1 Unripe, 21.5ms\n",
      "Speed: 1.0ms preprocess, 21.5ms inference, 3.8ms postprocess per image at shape (1, 3, 480, 640)\n",
      "tensor([[274.2508, 196.0570, 379.1837, 300.3373,   0.7780,   0.0000]], device='cuda:0')\n",
      "\n",
      "0: 480x640 1 Unripe, 21.1ms\n",
      "Speed: 0.9ms preprocess, 21.1ms inference, 3.4ms postprocess per image at shape (1, 3, 480, 640)\n",
      "tensor([[273.3699, 189.7071, 376.6826, 295.7680,   0.8590,   0.0000]], device='cuda:0')\n",
      "\n",
      "0: 480x640 1 Unripe, 21.5ms\n",
      "Speed: 1.0ms preprocess, 21.5ms inference, 3.6ms postprocess per image at shape (1, 3, 480, 640)\n",
      "tensor([[273.7756, 187.9265, 376.1502, 293.5117,   0.6609,   0.0000]], device='cuda:0')\n",
      "\n",
      "0: 480x640 1 Unripe, 22.6ms\n",
      "Speed: 0.9ms preprocess, 22.6ms inference, 3.9ms postprocess per image at shape (1, 3, 480, 640)\n",
      "tensor([[272.6808, 184.6690, 375.9952, 291.4050,   0.8540,   0.0000]], device='cuda:0')\n",
      "\n",
      "0: 480x640 1 Unripe, 22.5ms\n",
      "Speed: 0.9ms preprocess, 22.5ms inference, 4.9ms postprocess per image at shape (1, 3, 480, 640)\n",
      "tensor([[272.9253, 184.0336, 372.7992, 290.0030,   0.7872,   0.0000]], device='cuda:0')\n",
      "\n",
      "0: 480x640 1 Unripe, 21.3ms\n",
      "Speed: 1.7ms preprocess, 21.3ms inference, 3.6ms postprocess per image at shape (1, 3, 480, 640)\n",
      "tensor([[270.9066, 187.5853, 370.2744, 290.7304,   0.5823,   0.0000]], device='cuda:0')\n",
      "\n",
      "0: 480x640 1 Unripe, 22.0ms\n",
      "Speed: 0.9ms preprocess, 22.0ms inference, 3.7ms postprocess per image at shape (1, 3, 480, 640)\n",
      "tensor([[268.3333, 188.3639, 368.3393, 292.4336,   0.5357,   0.0000]], device='cuda:0')\n",
      "\n",
      "0: 480x640 1 Unripe, 21.8ms\n",
      "Speed: 1.0ms preprocess, 21.8ms inference, 4.0ms postprocess per image at shape (1, 3, 480, 640)\n",
      "tensor([[267.0883, 191.0700, 368.2278, 296.8025,   0.8062,   0.0000]], device='cuda:0')\n",
      "\n",
      "0: 480x640 1 Unripe, 21.3ms\n",
      "Speed: 0.9ms preprocess, 21.3ms inference, 3.5ms postprocess per image at shape (1, 3, 480, 640)\n",
      "tensor([[266.3810, 194.5345, 368.3481, 297.6550,   0.7483,   0.0000]], device='cuda:0')\n",
      "\n",
      "0: 480x640 1 Unripe, 21.1ms\n",
      "Speed: 1.0ms preprocess, 21.1ms inference, 3.4ms postprocess per image at shape (1, 3, 480, 640)\n",
      "tensor([[268.6668, 198.6591, 366.6339, 299.6415,   0.7017,   0.0000]], device='cuda:0')\n",
      "\n",
      "0: 480x640 1 Unripe, 21.4ms\n",
      "Speed: 1.0ms preprocess, 21.4ms inference, 3.7ms postprocess per image at shape (1, 3, 480, 640)\n",
      "tensor([[268.3074, 199.5524, 366.8878, 300.1137,   0.4051,   0.0000]], device='cuda:0')\n",
      "\n",
      "0: 480x640 1 Unripe, 22.4ms\n",
      "Speed: 0.9ms preprocess, 22.4ms inference, 4.0ms postprocess per image at shape (1, 3, 480, 640)\n",
      "tensor([[268.2579, 200.0763, 367.5719, 299.9283,   0.7308,   0.0000]], device='cuda:0')\n",
      "\n",
      "0: 480x640 1 Unripe, 22.5ms\n",
      "Speed: 0.9ms preprocess, 22.5ms inference, 10.0ms postprocess per image at shape (1, 3, 480, 640)\n",
      "tensor([[268.4165, 200.0044, 366.8361, 300.2512,   0.6029,   0.0000]], device='cuda:0')\n",
      "\n",
      "0: 480x640 1 Unripe, 21.2ms\n",
      "Speed: 1.0ms preprocess, 21.2ms inference, 2.1ms postprocess per image at shape (1, 3, 480, 640)\n",
      "tensor([[267.8853, 199.0427, 365.5998, 299.1992,   0.6070,   0.0000]], device='cuda:0')\n",
      "\n",
      "0: 480x640 1 Unripe, 22.6ms\n",
      "Speed: 1.1ms preprocess, 22.6ms inference, 2.4ms postprocess per image at shape (1, 3, 480, 640)\n",
      "tensor([[266.7074, 198.4176, 364.9399, 297.7013,   0.7041,   0.0000]], device='cuda:0')\n",
      "\n",
      "0: 480x640 1 Unripe, 21.8ms\n",
      "Speed: 1.1ms preprocess, 21.8ms inference, 3.0ms postprocess per image at shape (1, 3, 480, 640)\n",
      "tensor([[266.0756, 199.1640, 363.9337, 299.3908,   0.4491,   0.0000]], device='cuda:0')\n",
      "\n",
      "0: 480x640 (no detections), 21.1ms\n",
      "Speed: 1.0ms preprocess, 21.1ms inference, 2.0ms postprocess per image at shape (1, 3, 480, 640)\n",
      "tensor([], device='cuda:0', size=(0, 6))\n",
      "\n",
      "0: 480x640 1 Unripe, 22.4ms\n",
      "Speed: 1.0ms preprocess, 22.4ms inference, 2.6ms postprocess per image at shape (1, 3, 480, 640)\n",
      "tensor([[2.6627e+02, 1.9987e+02, 3.6370e+02, 2.9982e+02, 3.1547e-01, 0.0000e+00]], device='cuda:0')\n",
      "\n",
      "0: 480x640 1 Unripe, 22.8ms\n",
      "Speed: 0.9ms preprocess, 22.8ms inference, 2.7ms postprocess per image at shape (1, 3, 480, 640)\n",
      "tensor([[2.6671e+02, 2.0098e+02, 3.6375e+02, 2.9977e+02, 2.8385e-01, 0.0000e+00]], device='cuda:0')\n",
      "\n",
      "0: 480x640 (no detections), 22.1ms\n",
      "Speed: 1.1ms preprocess, 22.1ms inference, 2.0ms postprocess per image at shape (1, 3, 480, 640)\n",
      "tensor([], device='cuda:0', size=(0, 6))\n",
      "\n",
      "0: 480x640 (no detections), 21.3ms\n",
      "Speed: 1.3ms preprocess, 21.3ms inference, 2.0ms postprocess per image at shape (1, 3, 480, 640)\n",
      "tensor([], device='cuda:0', size=(0, 6))\n",
      "\n",
      "0: 480x640 (no detections), 21.8ms\n",
      "Speed: 1.1ms preprocess, 21.8ms inference, 2.3ms postprocess per image at shape (1, 3, 480, 640)\n",
      "tensor([], device='cuda:0', size=(0, 6))\n",
      "\n",
      "0: 480x640 (no detections), 21.6ms\n",
      "Speed: 1.2ms preprocess, 21.6ms inference, 2.7ms postprocess per image at shape (1, 3, 480, 640)\n",
      "tensor([], device='cuda:0', size=(0, 6))\n",
      "\n",
      "0: 480x640 (no detections), 23.0ms\n",
      "Speed: 1.1ms preprocess, 23.0ms inference, 2.4ms postprocess per image at shape (1, 3, 480, 640)\n",
      "tensor([], device='cuda:0', size=(0, 6))\n",
      "\n",
      "0: 480x640 1 Unripe, 26.8ms\n",
      "Speed: 1.5ms preprocess, 26.8ms inference, 3.0ms postprocess per image at shape (1, 3, 480, 640)\n",
      "tensor([[265.8960, 202.3611, 364.1782, 300.2259,   0.4305,   0.0000]], device='cuda:0')\n",
      "\n",
      "0: 480x640 (no detections), 20.9ms\n",
      "Speed: 1.4ms preprocess, 20.9ms inference, 2.3ms postprocess per image at shape (1, 3, 480, 640)\n",
      "tensor([], device='cuda:0', size=(0, 6))\n",
      "\n",
      "0: 480x640 1 Unripe, 21.3ms\n",
      "Speed: 1.2ms preprocess, 21.3ms inference, 3.2ms postprocess per image at shape (1, 3, 480, 640)\n",
      "tensor([[266.1545, 200.4534, 363.4719, 299.5639,   0.4543,   0.0000]], device='cuda:0')\n",
      "\n",
      "0: 480x640 (no detections), 21.9ms\n",
      "Speed: 1.0ms preprocess, 21.9ms inference, 2.5ms postprocess per image at shape (1, 3, 480, 640)\n",
      "tensor([], device='cuda:0', size=(0, 6))\n",
      "\n",
      "0: 480x640 1 Unripe, 23.0ms\n",
      "Speed: 1.0ms preprocess, 23.0ms inference, 2.7ms postprocess per image at shape (1, 3, 480, 640)\n",
      "tensor([[2.6595e+02, 2.0135e+02, 3.6296e+02, 3.0085e+02, 3.3101e-01, 0.0000e+00]], device='cuda:0')\n",
      "\n",
      "0: 480x640 (no detections), 22.3ms\n",
      "Speed: 1.5ms preprocess, 22.3ms inference, 2.0ms postprocess per image at shape (1, 3, 480, 640)\n",
      "tensor([], device='cuda:0', size=(0, 6))\n",
      "\n",
      "0: 480x640 1 Unripe, 21.8ms\n",
      "Speed: 1.3ms preprocess, 21.8ms inference, 2.7ms postprocess per image at shape (1, 3, 480, 640)\n",
      "tensor([[2.6670e+02, 2.0247e+02, 3.6325e+02, 3.0193e+02, 2.9611e-01, 0.0000e+00]], device='cuda:0')\n",
      "\n",
      "0: 480x640 (no detections), 21.2ms\n",
      "Speed: 0.9ms preprocess, 21.2ms inference, 1.6ms postprocess per image at shape (1, 3, 480, 640)\n",
      "tensor([], device='cuda:0', size=(0, 6))\n",
      "\n",
      "0: 480x640 (no detections), 22.2ms\n",
      "Speed: 1.0ms preprocess, 22.2ms inference, 1.9ms postprocess per image at shape (1, 3, 480, 640)\n",
      "tensor([], device='cuda:0', size=(0, 6))\n",
      "\n",
      "0: 480x640 (no detections), 23.0ms\n",
      "Speed: 1.2ms preprocess, 23.0ms inference, 2.0ms postprocess per image at shape (1, 3, 480, 640)\n",
      "tensor([], device='cuda:0', size=(0, 6))\n",
      "\n",
      "0: 480x640 (no detections), 22.0ms\n",
      "Speed: 1.0ms preprocess, 22.0ms inference, 2.8ms postprocess per image at shape (1, 3, 480, 640)\n",
      "tensor([], device='cuda:0', size=(0, 6))\n",
      "\n",
      "0: 480x640 (no detections), 21.2ms\n",
      "Speed: 1.0ms preprocess, 21.2ms inference, 2.6ms postprocess per image at shape (1, 3, 480, 640)\n",
      "tensor([], device='cuda:0', size=(0, 6))\n",
      "\n",
      "0: 480x640 1 Unripe, 22.3ms\n",
      "Speed: 1.0ms preprocess, 22.3ms inference, 2.6ms postprocess per image at shape (1, 3, 480, 640)\n",
      "tensor([[2.6622e+02, 2.0483e+02, 3.6233e+02, 3.0441e+02, 3.4716e-01, 0.0000e+00]], device='cuda:0')\n",
      "\n",
      "0: 480x640 1 Unripe, 22.9ms\n",
      "Speed: 0.9ms preprocess, 22.9ms inference, 2.5ms postprocess per image at shape (1, 3, 480, 640)\n",
      "tensor([[2.6621e+02, 2.0495e+02, 3.6262e+02, 3.0474e+02, 2.6112e-01, 0.0000e+00]], device='cuda:0')\n",
      "\n",
      "0: 480x640 1 Unripe, 22.0ms\n",
      "Speed: 1.6ms preprocess, 22.0ms inference, 2.3ms postprocess per image at shape (1, 3, 480, 640)\n",
      "tensor([[2.6610e+02, 2.0631e+02, 3.6282e+02, 3.0551e+02, 3.5550e-01, 0.0000e+00]], device='cuda:0')\n",
      "\n",
      "0: 480x640 1 Unripe, 21.3ms\n",
      "Speed: 1.2ms preprocess, 21.3ms inference, 2.6ms postprocess per image at shape (1, 3, 480, 640)\n",
      "tensor([[266.0751, 207.3584, 362.9854, 306.8235,   0.6535,   0.0000]], device='cuda:0')\n",
      "\n",
      "0: 480x640 (no detections), 21.0ms\n",
      "Speed: 1.6ms preprocess, 21.0ms inference, 1.9ms postprocess per image at shape (1, 3, 480, 640)\n",
      "tensor([], device='cuda:0', size=(0, 6))\n",
      "\n",
      "0: 480x640 1 Unripe, 21.4ms\n",
      "Speed: 1.6ms preprocess, 21.4ms inference, 2.8ms postprocess per image at shape (1, 3, 480, 640)\n",
      "tensor([[266.2466, 210.0612, 363.9182, 307.7197,   0.4925,   0.0000]], device='cuda:0')\n",
      "\n",
      "0: 480x640 (no detections), 21.2ms\n",
      "Speed: 1.0ms preprocess, 21.2ms inference, 2.4ms postprocess per image at shape (1, 3, 480, 640)\n",
      "tensor([], device='cuda:0', size=(0, 6))\n",
      "\n",
      "0: 480x640 (no detections), 21.9ms\n",
      "Speed: 1.1ms preprocess, 21.9ms inference, 2.0ms postprocess per image at shape (1, 3, 480, 640)\n",
      "tensor([], device='cuda:0', size=(0, 6))\n",
      "\n",
      "0: 480x640 (no detections), 23.0ms\n",
      "Speed: 1.1ms preprocess, 23.0ms inference, 2.5ms postprocess per image at shape (1, 3, 480, 640)\n",
      "tensor([], device='cuda:0', size=(0, 6))\n",
      "\n",
      "0: 480x640 1 Unripe, 21.3ms\n",
      "Speed: 1.7ms preprocess, 21.3ms inference, 3.4ms postprocess per image at shape (1, 3, 480, 640)\n",
      "tensor([[266.6351, 214.6091, 362.6624, 312.6385,   0.6161,   0.0000]], device='cuda:0')\n",
      "\n",
      "0: 480x640 1 Unripe, 22.2ms\n",
      "Speed: 1.1ms preprocess, 22.2ms inference, 3.2ms postprocess per image at shape (1, 3, 480, 640)\n",
      "tensor([[267.5236, 215.2060, 362.6761, 314.1712,   0.3922,   0.0000]], device='cuda:0')\n",
      "\n",
      "0: 480x640 1 Unripe, 22.1ms\n",
      "Speed: 1.0ms preprocess, 22.1ms inference, 2.7ms postprocess per image at shape (1, 3, 480, 640)\n",
      "tensor([[267.3483, 217.0404, 363.1213, 314.9959,   0.4372,   0.0000]], device='cuda:0')\n",
      "\n",
      "0: 480x640 (no detections), 22.2ms\n",
      "Speed: 1.1ms preprocess, 22.2ms inference, 2.2ms postprocess per image at shape (1, 3, 480, 640)\n",
      "tensor([], device='cuda:0', size=(0, 6))\n",
      "\n",
      "0: 480x640 1 Unripe, 21.5ms\n",
      "Speed: 1.3ms preprocess, 21.5ms inference, 2.9ms postprocess per image at shape (1, 3, 480, 640)\n",
      "tensor([[267.4894, 215.8282, 364.2126, 315.0628,   0.4171,   0.0000]], device='cuda:0')\n",
      "\n",
      "0: 480x640 (no detections), 21.2ms\n",
      "Speed: 1.0ms preprocess, 21.2ms inference, 2.2ms postprocess per image at shape (1, 3, 480, 640)\n",
      "tensor([], device='cuda:0', size=(0, 6))\n",
      "\n",
      "0: 480x640 (no detections), 22.2ms\n",
      "Speed: 1.3ms preprocess, 22.2ms inference, 2.0ms postprocess per image at shape (1, 3, 480, 640)\n",
      "tensor([], device='cuda:0', size=(0, 6))\n",
      "\n",
      "0: 480x640 1 Unripe, 23.0ms\n",
      "Speed: 1.0ms preprocess, 23.0ms inference, 3.3ms postprocess per image at shape (1, 3, 480, 640)\n",
      "tensor([[2.7099e+02, 2.1549e+02, 3.6456e+02, 3.1306e+02, 2.5494e-01, 0.0000e+00]], device='cuda:0')\n",
      "\n",
      "0: 480x640 (no detections), 22.1ms\n",
      "Speed: 1.0ms preprocess, 22.1ms inference, 2.1ms postprocess per image at shape (1, 3, 480, 640)\n",
      "tensor([], device='cuda:0', size=(0, 6))\n",
      "\n",
      "0: 480x640 (no detections), 21.6ms\n",
      "Speed: 1.0ms preprocess, 21.6ms inference, 2.3ms postprocess per image at shape (1, 3, 480, 640)\n",
      "tensor([], device='cuda:0', size=(0, 6))\n",
      "\n",
      "0: 480x640 (no detections), 21.5ms\n",
      "Speed: 1.0ms preprocess, 21.5ms inference, 2.1ms postprocess per image at shape (1, 3, 480, 640)\n",
      "tensor([], device='cuda:0', size=(0, 6))\n",
      "\n",
      "0: 480x640 (no detections), 23.1ms\n",
      "Speed: 1.0ms preprocess, 23.1ms inference, 1.9ms postprocess per image at shape (1, 3, 480, 640)\n",
      "tensor([], device='cuda:0', size=(0, 6))\n",
      "\n",
      "0: 480x640 1 Unripe, 22.5ms\n",
      "Speed: 1.3ms preprocess, 22.5ms inference, 2.7ms postprocess per image at shape (1, 3, 480, 640)\n",
      "tensor([[2.7177e+02, 2.1696e+02, 3.6598e+02, 3.1505e+02, 2.5827e-01, 0.0000e+00]], device='cuda:0')\n",
      "\n",
      "0: 480x640 1 Unripe, 21.6ms\n",
      "Speed: 1.0ms preprocess, 21.6ms inference, 2.6ms postprocess per image at shape (1, 3, 480, 640)\n",
      "tensor([[2.7155e+02, 2.1696e+02, 3.6572e+02, 3.1529e+02, 3.1095e-01, 0.0000e+00]], device='cuda:0')\n",
      "\n",
      "0: 480x640 1 Unripe, 21.2ms\n",
      "Speed: 1.1ms preprocess, 21.2ms inference, 2.5ms postprocess per image at shape (1, 3, 480, 640)\n",
      "tensor([[271.8373, 218.6568, 366.5891, 316.0945,   0.6160,   0.0000]], device='cuda:0')\n",
      "\n",
      "0: 480x640 1 Unripe, 22.2ms\n",
      "Speed: 1.0ms preprocess, 22.2ms inference, 3.0ms postprocess per image at shape (1, 3, 480, 640)\n",
      "tensor([[2.7234e+02, 2.1850e+02, 3.6738e+02, 3.1654e+02, 3.6324e-01, 0.0000e+00]], device='cuda:0')\n",
      "\n",
      "0: 480x640 1 Unripe, 22.8ms\n",
      "Speed: 0.9ms preprocess, 22.8ms inference, 2.6ms postprocess per image at shape (1, 3, 480, 640)\n",
      "tensor([[272.7334, 219.1574, 368.2300, 317.7988,   0.3711,   0.0000]], device='cuda:0')\n",
      "\n",
      "0: 480x640 1 Unripe, 22.4ms\n",
      "Speed: 1.3ms preprocess, 22.4ms inference, 2.7ms postprocess per image at shape (1, 3, 480, 640)\n",
      "tensor([[2.7279e+02, 2.1914e+02, 3.6826e+02, 3.1821e+02, 3.3949e-01, 0.0000e+00]], device='cuda:0')\n",
      "\n",
      "0: 480x640 1 Unripe, 25.5ms\n",
      "Speed: 1.3ms preprocess, 25.5ms inference, 6.5ms postprocess per image at shape (1, 3, 480, 640)\n",
      "tensor([[272.7039, 219.3434, 367.5016, 319.0026,   0.4038,   0.0000]], device='cuda:0')\n",
      "\n",
      "0: 480x640 (no detections), 20.5ms\n",
      "Speed: 1.0ms preprocess, 20.5ms inference, 2.7ms postprocess per image at shape (1, 3, 480, 640)\n",
      "tensor([], device='cuda:0', size=(0, 6))\n",
      "\n",
      "0: 480x640 (no detections), 21.4ms\n",
      "Speed: 1.1ms preprocess, 21.4ms inference, 2.4ms postprocess per image at shape (1, 3, 480, 640)\n",
      "tensor([], device='cuda:0', size=(0, 6))\n",
      "\n",
      "0: 480x640 (no detections), 22.4ms\n",
      "Speed: 1.4ms preprocess, 22.4ms inference, 11.8ms postprocess per image at shape (1, 3, 480, 640)\n",
      "tensor([], device='cuda:0', size=(0, 6))\n",
      "\n",
      "0: 480x640 1 Unripe, 20.9ms\n",
      "Speed: 1.3ms preprocess, 20.9ms inference, 3.4ms postprocess per image at shape (1, 3, 480, 640)\n",
      "tensor([[273.2550, 224.5097, 368.1601, 322.4592,   0.5211,   0.0000]], device='cuda:0')\n",
      "\n",
      "0: 480x640 (no detections), 22.0ms\n",
      "Speed: 1.0ms preprocess, 22.0ms inference, 2.3ms postprocess per image at shape (1, 3, 480, 640)\n",
      "tensor([], device='cuda:0', size=(0, 6))\n",
      "\n",
      "0: 480x640 (no detections), 23.1ms\n",
      "Speed: 1.0ms preprocess, 23.1ms inference, 2.0ms postprocess per image at shape (1, 3, 480, 640)\n",
      "tensor([], device='cuda:0', size=(0, 6))\n",
      "\n",
      "0: 480x640 1 Unripe, 22.4ms\n",
      "Speed: 1.5ms preprocess, 22.4ms inference, 2.6ms postprocess per image at shape (1, 3, 480, 640)\n",
      "tensor([[287.9075, 230.4590, 380.2347, 328.5399,   0.4994,   0.0000]], device='cuda:0')\n",
      "\n",
      "0: 480x640 1 Unripe, 21.5ms\n",
      "Speed: 1.0ms preprocess, 21.5ms inference, 2.6ms postprocess per image at shape (1, 3, 480, 640)\n",
      "tensor([[289.3447, 233.0502, 381.7534, 331.7184,   0.5535,   0.0000]], device='cuda:0')\n",
      "\n",
      "0: 480x640 (no detections), 21.4ms\n",
      "Speed: 0.9ms preprocess, 21.4ms inference, 1.9ms postprocess per image at shape (1, 3, 480, 640)\n",
      "tensor([], device='cuda:0', size=(0, 6))\n",
      "\n",
      "0: 480x640 (no detections), 22.6ms\n",
      "Speed: 1.1ms preprocess, 22.6ms inference, 2.0ms postprocess per image at shape (1, 3, 480, 640)\n",
      "tensor([], device='cuda:0', size=(0, 6))\n",
      "\n",
      "0: 480x640 (no detections), 22.9ms\n",
      "Speed: 0.9ms preprocess, 22.9ms inference, 2.6ms postprocess per image at shape (1, 3, 480, 640)\n",
      "tensor([], device='cuda:0', size=(0, 6))\n",
      "\n",
      "0: 480x640 (no detections), 21.8ms\n",
      "Speed: 0.9ms preprocess, 21.8ms inference, 2.5ms postprocess per image at shape (1, 3, 480, 640)\n",
      "tensor([], device='cuda:0', size=(0, 6))\n",
      "\n",
      "0: 480x640 (no detections), 21.5ms\n",
      "Speed: 1.1ms preprocess, 21.5ms inference, 2.6ms postprocess per image at shape (1, 3, 480, 640)\n",
      "tensor([], device='cuda:0', size=(0, 6))\n",
      "\n",
      "0: 480x640 (no detections), 23.0ms\n",
      "Speed: 1.0ms preprocess, 23.0ms inference, 2.2ms postprocess per image at shape (1, 3, 480, 640)\n",
      "tensor([], device='cuda:0', size=(0, 6))\n",
      "\n",
      "0: 480x640 (no detections), 22.8ms\n",
      "Speed: 1.0ms preprocess, 22.8ms inference, 2.2ms postprocess per image at shape (1, 3, 480, 640)\n",
      "tensor([], device='cuda:0', size=(0, 6))\n",
      "\n",
      "0: 480x640 (no detections), 22.0ms\n",
      "Speed: 1.3ms preprocess, 22.0ms inference, 2.0ms postprocess per image at shape (1, 3, 480, 640)\n",
      "tensor([], device='cuda:0', size=(0, 6))\n",
      "\n",
      "0: 480x640 (no detections), 21.4ms\n",
      "Speed: 1.4ms preprocess, 21.4ms inference, 2.4ms postprocess per image at shape (1, 3, 480, 640)\n",
      "tensor([], device='cuda:0', size=(0, 6))\n",
      "\n",
      "0: 480x640 1 Unripe, 21.3ms\n",
      "Speed: 1.2ms preprocess, 21.3ms inference, 3.4ms postprocess per image at shape (1, 3, 480, 640)\n",
      "tensor([[313.5490, 262.4253, 400.3325, 355.3554,   0.5898,   0.0000]], device='cuda:0')\n",
      "\n",
      "0: 480x640 1 Unripe, 21.5ms\n",
      "Speed: 1.3ms preprocess, 21.5ms inference, 2.8ms postprocess per image at shape (1, 3, 480, 640)\n",
      "tensor([[314.8069, 264.4261, 402.3102, 357.4087,   0.6105,   0.0000]], device='cuda:0')\n",
      "\n",
      "0: 480x640 1 Unripe, 22.0ms\n",
      "Speed: 1.0ms preprocess, 22.0ms inference, 2.7ms postprocess per image at shape (1, 3, 480, 640)\n",
      "tensor([[315.7176, 264.1542, 404.6600, 356.5486,   0.6408,   0.0000]], device='cuda:0')\n",
      "\n",
      "0: 480x640 (no detections), 22.6ms\n",
      "Speed: 1.2ms preprocess, 22.6ms inference, 2.2ms postprocess per image at shape (1, 3, 480, 640)\n",
      "tensor([], device='cuda:0', size=(0, 6))\n",
      "\n",
      "0: 480x640 (no detections), 22.9ms\n",
      "Speed: 1.0ms preprocess, 22.9ms inference, 2.7ms postprocess per image at shape (1, 3, 480, 640)\n",
      "tensor([], device='cuda:0', size=(0, 6))\n",
      "\n",
      "0: 480x640 (no detections), 21.9ms\n",
      "Speed: 1.0ms preprocess, 21.9ms inference, 2.6ms postprocess per image at shape (1, 3, 480, 640)\n",
      "tensor([], device='cuda:0', size=(0, 6))\n",
      "\n",
      "0: 480x640 (no detections), 21.4ms\n",
      "Speed: 1.0ms preprocess, 21.4ms inference, 2.5ms postprocess per image at shape (1, 3, 480, 640)\n",
      "tensor([], device='cuda:0', size=(0, 6))\n",
      "\n",
      "0: 480x640 (no detections), 21.3ms\n",
      "Speed: 1.1ms preprocess, 21.3ms inference, 2.6ms postprocess per image at shape (1, 3, 480, 640)\n",
      "tensor([], device='cuda:0', size=(0, 6))\n",
      "\n",
      "0: 480x640 (no detections), 22.1ms\n",
      "Speed: 0.9ms preprocess, 22.1ms inference, 2.4ms postprocess per image at shape (1, 3, 480, 640)\n",
      "tensor([], device='cuda:0', size=(0, 6))\n",
      "\n",
      "0: 480x640 (no detections), 23.0ms\n",
      "Speed: 1.0ms preprocess, 23.0ms inference, 2.8ms postprocess per image at shape (1, 3, 480, 640)\n",
      "tensor([], device='cuda:0', size=(0, 6))\n",
      "\n",
      "0: 480x640 (no detections), 22.6ms\n",
      "Speed: 1.0ms preprocess, 22.6ms inference, 2.1ms postprocess per image at shape (1, 3, 480, 640)\n",
      "tensor([], device='cuda:0', size=(0, 6))\n",
      "\n",
      "0: 480x640 (no detections), 21.7ms\n",
      "Speed: 1.0ms preprocess, 21.7ms inference, 2.1ms postprocess per image at shape (1, 3, 480, 640)\n",
      "tensor([], device='cuda:0', size=(0, 6))\n",
      "\n",
      "0: 480x640 (no detections), 21.8ms\n",
      "Speed: 1.0ms preprocess, 21.8ms inference, 2.1ms postprocess per image at shape (1, 3, 480, 640)\n",
      "tensor([], device='cuda:0', size=(0, 6))\n",
      "\n",
      "0: 480x640 (no detections), 23.1ms\n",
      "Speed: 1.1ms preprocess, 23.1ms inference, 13.0ms postprocess per image at shape (1, 3, 480, 640)\n",
      "tensor([], device='cuda:0', size=(0, 6))\n",
      "\n",
      "0: 480x640 (no detections), 20.7ms\n",
      "Speed: 1.1ms preprocess, 20.7ms inference, 2.7ms postprocess per image at shape (1, 3, 480, 640)\n",
      "tensor([], device='cuda:0', size=(0, 6))\n",
      "\n",
      "0: 480x640 (no detections), 22.9ms\n",
      "Speed: 1.0ms preprocess, 22.9ms inference, 2.1ms postprocess per image at shape (1, 3, 480, 640)\n",
      "tensor([], device='cuda:0', size=(0, 6))\n",
      "\n",
      "0: 480x640 (no detections), 22.4ms\n",
      "Speed: 1.0ms preprocess, 22.4ms inference, 2.1ms postprocess per image at shape (1, 3, 480, 640)\n",
      "tensor([], device='cuda:0', size=(0, 6))\n",
      "\n",
      "0: 480x640 (no detections), 21.4ms\n",
      "Speed: 8.1ms preprocess, 21.4ms inference, 2.5ms postprocess per image at shape (1, 3, 480, 640)\n",
      "tensor([], device='cuda:0', size=(0, 6))\n",
      "\n",
      "0: 480x640 (no detections), 19.9ms\n",
      "Speed: 1.1ms preprocess, 19.9ms inference, 2.7ms postprocess per image at shape (1, 3, 480, 640)\n",
      "tensor([], device='cuda:0', size=(0, 6))\n",
      "\n",
      "0: 480x640 (no detections), 21.8ms\n",
      "Speed: 1.0ms preprocess, 21.8ms inference, 3.1ms postprocess per image at shape (1, 3, 480, 640)\n",
      "tensor([], device='cuda:0', size=(0, 6))\n",
      "\n",
      "0: 480x640 (no detections), 22.8ms\n",
      "Speed: 1.0ms preprocess, 22.8ms inference, 2.0ms postprocess per image at shape (1, 3, 480, 640)\n",
      "tensor([], device='cuda:0', size=(0, 6))\n",
      "\n",
      "0: 480x640 (no detections), 22.4ms\n",
      "Speed: 1.0ms preprocess, 22.4ms inference, 2.0ms postprocess per image at shape (1, 3, 480, 640)\n",
      "tensor([], device='cuda:0', size=(0, 6))\n",
      "\n",
      "0: 480x640 (no detections), 21.5ms\n",
      "Speed: 1.6ms preprocess, 21.5ms inference, 2.4ms postprocess per image at shape (1, 3, 480, 640)\n",
      "tensor([], device='cuda:0', size=(0, 6))\n",
      "\n",
      "0: 480x640 (no detections), 21.7ms\n",
      "Speed: 1.5ms preprocess, 21.7ms inference, 2.5ms postprocess per image at shape (1, 3, 480, 640)\n",
      "tensor([], device='cuda:0', size=(0, 6))\n",
      "\n",
      "0: 480x640 (no detections), 22.8ms\n",
      "Speed: 1.3ms preprocess, 22.8ms inference, 2.1ms postprocess per image at shape (1, 3, 480, 640)\n",
      "tensor([], device='cuda:0', size=(0, 6))\n",
      "\n",
      "0: 480x640 (no detections), 20.9ms\n",
      "Speed: 1.4ms preprocess, 20.9ms inference, 2.5ms postprocess per image at shape (1, 3, 480, 640)\n",
      "tensor([], device='cuda:0', size=(0, 6))\n",
      "\n",
      "0: 480x640 (no detections), 19.9ms\n",
      "Speed: 1.0ms preprocess, 19.9ms inference, 2.0ms postprocess per image at shape (1, 3, 480, 640)\n",
      "tensor([], device='cuda:0', size=(0, 6))\n",
      "\n",
      "0: 480x640 (no detections), 20.9ms\n",
      "Speed: 1.0ms preprocess, 20.9ms inference, 2.0ms postprocess per image at shape (1, 3, 480, 640)\n",
      "tensor([], device='cuda:0', size=(0, 6))\n",
      "\n",
      "0: 480x640 (no detections), 20.9ms\n",
      "Speed: 1.0ms preprocess, 20.9ms inference, 2.3ms postprocess per image at shape (1, 3, 480, 640)\n",
      "tensor([], device='cuda:0', size=(0, 6))\n",
      "\n",
      "0: 480x640 (no detections), 20.9ms\n",
      "Speed: 1.3ms preprocess, 20.9ms inference, 2.1ms postprocess per image at shape (1, 3, 480, 640)\n",
      "tensor([], device='cuda:0', size=(0, 6))\n",
      "\n",
      "0: 480x640 (no detections), 20.9ms\n",
      "Speed: 1.5ms preprocess, 20.9ms inference, 2.0ms postprocess per image at shape (1, 3, 480, 640)\n",
      "tensor([], device='cuda:0', size=(0, 6))\n",
      "\n",
      "0: 480x640 (no detections), 21.0ms\n",
      "Speed: 0.9ms preprocess, 21.0ms inference, 2.9ms postprocess per image at shape (1, 3, 480, 640)\n",
      "tensor([], device='cuda:0', size=(0, 6))\n",
      "\n",
      "0: 480x640 (no detections), 25.7ms\n",
      "Speed: 1.2ms preprocess, 25.7ms inference, 2.3ms postprocess per image at shape (1, 3, 480, 640)\n",
      "tensor([], device='cuda:0', size=(0, 6))\n",
      "\n",
      "0: 480x640 (no detections), 21.1ms\n",
      "Speed: 1.5ms preprocess, 21.1ms inference, 2.6ms postprocess per image at shape (1, 3, 480, 640)\n",
      "tensor([], device='cuda:0', size=(0, 6))\n",
      "\n",
      "0: 480x640 (no detections), 21.0ms\n",
      "Speed: 1.0ms preprocess, 21.0ms inference, 13.9ms postprocess per image at shape (1, 3, 480, 640)\n",
      "tensor([], device='cuda:0', size=(0, 6))\n",
      "\n",
      "0: 480x640 (no detections), 21.0ms\n",
      "Speed: 1.7ms preprocess, 21.0ms inference, 2.2ms postprocess per image at shape (1, 3, 480, 640)\n",
      "tensor([], device='cuda:0', size=(0, 6))\n",
      "\n",
      "0: 480x640 (no detections), 21.0ms\n",
      "Speed: 1.0ms preprocess, 21.0ms inference, 2.8ms postprocess per image at shape (1, 3, 480, 640)\n",
      "tensor([], device='cuda:0', size=(0, 6))\n",
      "\n",
      "0: 480x640 (no detections), 21.0ms\n",
      "Speed: 1.0ms preprocess, 21.0ms inference, 2.4ms postprocess per image at shape (1, 3, 480, 640)\n",
      "tensor([], device='cuda:0', size=(0, 6))\n",
      "\n",
      "0: 480x640 (no detections), 21.0ms\n",
      "Speed: 0.9ms preprocess, 21.0ms inference, 2.6ms postprocess per image at shape (1, 3, 480, 640)\n",
      "tensor([], device='cuda:0', size=(0, 6))\n",
      "\n",
      "0: 480x640 (no detections), 21.0ms\n",
      "Speed: 1.1ms preprocess, 21.0ms inference, 2.0ms postprocess per image at shape (1, 3, 480, 640)\n",
      "tensor([], device='cuda:0', size=(0, 6))\n",
      "\n",
      "0: 480x640 (no detections), 21.0ms\n",
      "Speed: 1.5ms preprocess, 21.0ms inference, 2.4ms postprocess per image at shape (1, 3, 480, 640)\n",
      "tensor([], device='cuda:0', size=(0, 6))\n",
      "\n",
      "0: 480x640 (no detections), 21.0ms\n",
      "Speed: 1.0ms preprocess, 21.0ms inference, 2.9ms postprocess per image at shape (1, 3, 480, 640)\n",
      "tensor([], device='cuda:0', size=(0, 6))\n",
      "\n",
      "0: 480x640 (no detections), 21.1ms\n",
      "Speed: 1.2ms preprocess, 21.1ms inference, 2.1ms postprocess per image at shape (1, 3, 480, 640)\n",
      "tensor([], device='cuda:0', size=(0, 6))\n",
      "\n",
      "0: 480x640 (no detections), 21.1ms\n",
      "Speed: 1.0ms preprocess, 21.1ms inference, 2.2ms postprocess per image at shape (1, 3, 480, 640)\n",
      "tensor([], device='cuda:0', size=(0, 6))\n",
      "\n",
      "0: 480x640 (no detections), 21.1ms\n",
      "Speed: 1.1ms preprocess, 21.1ms inference, 2.0ms postprocess per image at shape (1, 3, 480, 640)\n",
      "tensor([], device='cuda:0', size=(0, 6))\n",
      "\n",
      "0: 480x640 (no detections), 32.8ms\n",
      "Speed: 1.3ms preprocess, 32.8ms inference, 2.7ms postprocess per image at shape (1, 3, 480, 640)\n",
      "tensor([], device='cuda:0', size=(0, 6))\n",
      "\n",
      "0: 480x640 (no detections), 21.3ms\n",
      "Speed: 1.7ms preprocess, 21.3ms inference, 2.4ms postprocess per image at shape (1, 3, 480, 640)\n",
      "tensor([], device='cuda:0', size=(0, 6))\n",
      "\n",
      "0: 480x640 (no detections), 21.1ms\n",
      "Speed: 1.1ms preprocess, 21.1ms inference, 2.2ms postprocess per image at shape (1, 3, 480, 640)\n",
      "tensor([], device='cuda:0', size=(0, 6))\n",
      "\n",
      "0: 480x640 (no detections), 21.1ms\n",
      "Speed: 1.0ms preprocess, 21.1ms inference, 2.4ms postprocess per image at shape (1, 3, 480, 640)\n",
      "tensor([], device='cuda:0', size=(0, 6))\n",
      "\n",
      "0: 480x640 (no detections), 21.0ms\n",
      "Speed: 1.0ms preprocess, 21.0ms inference, 2.0ms postprocess per image at shape (1, 3, 480, 640)\n",
      "tensor([], device='cuda:0', size=(0, 6))\n",
      "\n",
      "0: 480x640 (no detections), 21.1ms\n",
      "Speed: 1.6ms preprocess, 21.1ms inference, 2.2ms postprocess per image at shape (1, 3, 480, 640)\n",
      "tensor([], device='cuda:0', size=(0, 6))\n",
      "\n",
      "0: 480x640 (no detections), 21.0ms\n",
      "Speed: 1.1ms preprocess, 21.0ms inference, 14.1ms postprocess per image at shape (1, 3, 480, 640)\n",
      "tensor([], device='cuda:0', size=(0, 6))\n",
      "\n",
      "0: 480x640 (no detections), 21.0ms\n",
      "Speed: 1.4ms preprocess, 21.0ms inference, 2.0ms postprocess per image at shape (1, 3, 480, 640)\n",
      "tensor([], device='cuda:0', size=(0, 6))\n",
      "\n",
      "0: 480x640 (no detections), 21.0ms\n",
      "Speed: 0.9ms preprocess, 21.0ms inference, 2.2ms postprocess per image at shape (1, 3, 480, 640)\n",
      "tensor([], device='cuda:0', size=(0, 6))\n",
      "\n",
      "0: 480x640 (no detections), 21.0ms\n",
      "Speed: 0.9ms preprocess, 21.0ms inference, 2.1ms postprocess per image at shape (1, 3, 480, 640)\n",
      "tensor([], device='cuda:0', size=(0, 6))\n",
      "\n",
      "0: 480x640 (no detections), 21.0ms\n",
      "Speed: 1.1ms preprocess, 21.0ms inference, 2.0ms postprocess per image at shape (1, 3, 480, 640)\n",
      "tensor([], device='cuda:0', size=(0, 6))\n",
      "\n",
      "0: 480x640 (no detections), 21.0ms\n",
      "Speed: 1.0ms preprocess, 21.0ms inference, 2.7ms postprocess per image at shape (1, 3, 480, 640)\n",
      "tensor([], device='cuda:0', size=(0, 6))\n",
      "\n",
      "0: 480x640 (no detections), 28.8ms\n",
      "Speed: 1.2ms preprocess, 28.8ms inference, 2.5ms postprocess per image at shape (1, 3, 480, 640)\n",
      "tensor([], device='cuda:0', size=(0, 6))\n",
      "\n",
      "0: 480x640 (no detections), 21.0ms\n",
      "Speed: 0.9ms preprocess, 21.0ms inference, 2.4ms postprocess per image at shape (1, 3, 480, 640)\n",
      "tensor([], device='cuda:0', size=(0, 6))\n",
      "\n",
      "0: 480x640 (no detections), 21.0ms\n",
      "Speed: 0.9ms preprocess, 21.0ms inference, 2.2ms postprocess per image at shape (1, 3, 480, 640)\n",
      "tensor([], device='cuda:0', size=(0, 6))\n",
      "\n",
      "0: 480x640 (no detections), 21.2ms\n",
      "Speed: 1.3ms preprocess, 21.2ms inference, 2.0ms postprocess per image at shape (1, 3, 480, 640)\n",
      "tensor([], device='cuda:0', size=(0, 6))\n",
      "\n",
      "0: 480x640 (no detections), 21.0ms\n",
      "Speed: 0.9ms preprocess, 21.0ms inference, 2.8ms postprocess per image at shape (1, 3, 480, 640)\n",
      "tensor([], device='cuda:0', size=(0, 6))\n",
      "\n",
      "0: 480x640 (no detections), 20.9ms\n",
      "Speed: 1.1ms preprocess, 20.9ms inference, 2.0ms postprocess per image at shape (1, 3, 480, 640)\n",
      "tensor([], device='cuda:0', size=(0, 6))\n",
      "\n",
      "0: 480x640 (no detections), 20.9ms\n",
      "Speed: 1.0ms preprocess, 20.9ms inference, 2.5ms postprocess per image at shape (1, 3, 480, 640)\n",
      "tensor([], device='cuda:0', size=(0, 6))\n",
      "\n",
      "0: 480x640 (no detections), 20.9ms\n",
      "Speed: 0.9ms preprocess, 20.9ms inference, 2.1ms postprocess per image at shape (1, 3, 480, 640)\n",
      "tensor([], device='cuda:0', size=(0, 6))\n",
      "\n",
      "0: 480x640 (no detections), 20.9ms\n",
      "Speed: 1.3ms preprocess, 20.9ms inference, 2.5ms postprocess per image at shape (1, 3, 480, 640)\n",
      "tensor([], device='cuda:0', size=(0, 6))\n",
      "\n",
      "0: 480x640 (no detections), 21.0ms\n",
      "Speed: 0.9ms preprocess, 21.0ms inference, 2.8ms postprocess per image at shape (1, 3, 480, 640)\n",
      "tensor([], device='cuda:0', size=(0, 6))\n",
      "\n",
      "0: 480x640 (no detections), 21.0ms\n",
      "Speed: 0.9ms preprocess, 21.0ms inference, 2.6ms postprocess per image at shape (1, 3, 480, 640)\n",
      "tensor([], device='cuda:0', size=(0, 6))\n",
      "\n",
      "0: 480x640 (no detections), 21.0ms\n",
      "Speed: 1.0ms preprocess, 21.0ms inference, 11.4ms postprocess per image at shape (1, 3, 480, 640)\n",
      "tensor([], device='cuda:0', size=(0, 6))\n",
      "\n",
      "0: 480x640 (no detections), 20.9ms\n",
      "Speed: 1.2ms preprocess, 20.9ms inference, 3.6ms postprocess per image at shape (1, 3, 480, 640)\n",
      "tensor([], device='cuda:0', size=(0, 6))\n",
      "\n",
      "0: 480x640 (no detections), 21.3ms\n",
      "Speed: 1.3ms preprocess, 21.3ms inference, 2.1ms postprocess per image at shape (1, 3, 480, 640)\n",
      "tensor([], device='cuda:0', size=(0, 6))\n",
      "\n",
      "0: 480x640 (no detections), 21.2ms\n",
      "Speed: 1.3ms preprocess, 21.2ms inference, 2.5ms postprocess per image at shape (1, 3, 480, 640)\n",
      "tensor([], device='cuda:0', size=(0, 6))\n",
      "\n",
      "0: 480x640 (no detections), 21.2ms\n",
      "Speed: 1.0ms preprocess, 21.2ms inference, 1.9ms postprocess per image at shape (1, 3, 480, 640)\n",
      "tensor([], device='cuda:0', size=(0, 6))\n",
      "\n",
      "0: 480x640 (no detections), 21.2ms\n",
      "Speed: 1.0ms preprocess, 21.2ms inference, 2.2ms postprocess per image at shape (1, 3, 480, 640)\n",
      "tensor([], device='cuda:0', size=(0, 6))\n",
      "\n",
      "0: 480x640 (no detections), 21.2ms\n",
      "Speed: 1.1ms preprocess, 21.2ms inference, 2.1ms postprocess per image at shape (1, 3, 480, 640)\n",
      "tensor([], device='cuda:0', size=(0, 6))\n",
      "\n",
      "0: 480x640 (no detections), 21.2ms\n",
      "Speed: 1.1ms preprocess, 21.2ms inference, 2.7ms postprocess per image at shape (1, 3, 480, 640)\n",
      "tensor([], device='cuda:0', size=(0, 6))\n",
      "\n",
      "0: 480x640 (no detections), 21.2ms\n",
      "Speed: 1.3ms preprocess, 21.2ms inference, 2.4ms postprocess per image at shape (1, 3, 480, 640)\n",
      "tensor([], device='cuda:0', size=(0, 6))\n",
      "\n",
      "0: 480x640 (no detections), 21.2ms\n",
      "Speed: 1.0ms preprocess, 21.2ms inference, 2.1ms postprocess per image at shape (1, 3, 480, 640)\n",
      "tensor([], device='cuda:0', size=(0, 6))\n",
      "\n",
      "0: 480x640 (no detections), 21.3ms\n",
      "Speed: 0.9ms preprocess, 21.3ms inference, 2.3ms postprocess per image at shape (1, 3, 480, 640)\n",
      "tensor([], device='cuda:0', size=(0, 6))\n",
      "\n",
      "0: 480x640 (no detections), 21.1ms\n",
      "Speed: 1.1ms preprocess, 21.1ms inference, 2.5ms postprocess per image at shape (1, 3, 480, 640)\n",
      "tensor([], device='cuda:0', size=(0, 6))\n",
      "\n",
      "0: 480x640 (no detections), 21.2ms\n",
      "Speed: 1.3ms preprocess, 21.2ms inference, 2.6ms postprocess per image at shape (1, 3, 480, 640)\n",
      "tensor([], device='cuda:0', size=(0, 6))\n",
      "\n",
      "0: 480x640 (no detections), 21.2ms\n",
      "Speed: 1.0ms preprocess, 21.2ms inference, 2.8ms postprocess per image at shape (1, 3, 480, 640)\n",
      "tensor([], device='cuda:0', size=(0, 6))\n",
      "\n",
      "0: 480x640 (no detections), 21.2ms\n",
      "Speed: 1.0ms preprocess, 21.2ms inference, 2.0ms postprocess per image at shape (1, 3, 480, 640)\n",
      "tensor([], device='cuda:0', size=(0, 6))\n",
      "\n",
      "0: 480x640 (no detections), 21.3ms\n",
      "Speed: 1.5ms preprocess, 21.3ms inference, 2.6ms postprocess per image at shape (1, 3, 480, 640)\n",
      "tensor([], device='cuda:0', size=(0, 6))\n",
      "\n",
      "0: 480x640 (no detections), 21.3ms\n",
      "Speed: 1.2ms preprocess, 21.3ms inference, 3.6ms postprocess per image at shape (1, 3, 480, 640)\n",
      "tensor([], device='cuda:0', size=(0, 6))\n",
      "\n",
      "0: 480x640 (no detections), 21.2ms\n",
      "Speed: 1.2ms preprocess, 21.2ms inference, 14.4ms postprocess per image at shape (1, 3, 480, 640)\n",
      "tensor([], device='cuda:0', size=(0, 6))\n",
      "\n",
      "0: 480x640 (no detections), 21.2ms\n",
      "Speed: 0.9ms preprocess, 21.2ms inference, 2.8ms postprocess per image at shape (1, 3, 480, 640)\n",
      "tensor([], device='cuda:0', size=(0, 6))\n",
      "\n",
      "0: 480x640 (no detections), 21.2ms\n",
      "Speed: 0.9ms preprocess, 21.2ms inference, 2.0ms postprocess per image at shape (1, 3, 480, 640)\n",
      "tensor([], device='cuda:0', size=(0, 6))\n",
      "\n",
      "0: 480x640 (no detections), 21.2ms\n",
      "Speed: 1.0ms preprocess, 21.2ms inference, 2.0ms postprocess per image at shape (1, 3, 480, 640)\n",
      "tensor([], device='cuda:0', size=(0, 6))\n",
      "\n",
      "0: 480x640 (no detections), 21.2ms\n",
      "Speed: 1.2ms preprocess, 21.2ms inference, 2.1ms postprocess per image at shape (1, 3, 480, 640)\n",
      "tensor([], device='cuda:0', size=(0, 6))\n",
      "\n",
      "0: 480x640 (no detections), 21.2ms\n",
      "Speed: 1.1ms preprocess, 21.2ms inference, 2.6ms postprocess per image at shape (1, 3, 480, 640)\n",
      "tensor([], device='cuda:0', size=(0, 6))\n",
      "\n",
      "0: 480x640 (no detections), 21.2ms\n",
      "Speed: 1.0ms preprocess, 21.2ms inference, 2.5ms postprocess per image at shape (1, 3, 480, 640)\n",
      "tensor([], device='cuda:0', size=(0, 6))\n",
      "\n",
      "0: 480x640 (no detections), 21.2ms\n",
      "Speed: 1.1ms preprocess, 21.2ms inference, 2.5ms postprocess per image at shape (1, 3, 480, 640)\n",
      "tensor([], device='cuda:0', size=(0, 6))\n",
      "\n",
      "0: 480x640 (no detections), 21.2ms\n",
      "Speed: 1.3ms preprocess, 21.2ms inference, 2.4ms postprocess per image at shape (1, 3, 480, 640)\n",
      "tensor([], device='cuda:0', size=(0, 6))\n",
      "\n",
      "0: 480x640 (no detections), 21.3ms\n",
      "Speed: 1.3ms preprocess, 21.3ms inference, 2.2ms postprocess per image at shape (1, 3, 480, 640)\n",
      "tensor([], device='cuda:0', size=(0, 6))\n",
      "\n",
      "0: 480x640 (no detections), 21.3ms\n",
      "Speed: 1.2ms preprocess, 21.3ms inference, 2.4ms postprocess per image at shape (1, 3, 480, 640)\n",
      "tensor([], device='cuda:0', size=(0, 6))\n",
      "\n",
      "0: 480x640 (no detections), 21.2ms\n",
      "Speed: 1.2ms preprocess, 21.2ms inference, 2.8ms postprocess per image at shape (1, 3, 480, 640)\n",
      "tensor([], device='cuda:0', size=(0, 6))\n",
      "\n",
      "0: 480x640 (no detections), 21.2ms\n",
      "Speed: 1.1ms preprocess, 21.2ms inference, 2.3ms postprocess per image at shape (1, 3, 480, 640)\n",
      "tensor([], device='cuda:0', size=(0, 6))\n",
      "\n",
      "0: 480x640 (no detections), 21.3ms\n",
      "Speed: 1.1ms preprocess, 21.3ms inference, 2.3ms postprocess per image at shape (1, 3, 480, 640)\n",
      "tensor([], device='cuda:0', size=(0, 6))\n",
      "\n",
      "0: 480x640 (no detections), 21.2ms\n",
      "Speed: 1.0ms preprocess, 21.2ms inference, 2.7ms postprocess per image at shape (1, 3, 480, 640)\n",
      "tensor([], device='cuda:0', size=(0, 6))\n",
      "\n",
      "0: 480x640 (no detections), 21.2ms\n",
      "Speed: 1.2ms preprocess, 21.2ms inference, 2.2ms postprocess per image at shape (1, 3, 480, 640)\n",
      "tensor([], device='cuda:0', size=(0, 6))\n",
      "\n",
      "0: 480x640 (no detections), 21.4ms\n",
      "Speed: 1.0ms preprocess, 21.4ms inference, 2.7ms postprocess per image at shape (1, 3, 480, 640)\n",
      "tensor([], device='cuda:0', size=(0, 6))\n",
      "\n",
      "0: 480x640 (no detections), 21.3ms\n",
      "Speed: 1.1ms preprocess, 21.3ms inference, 12.5ms postprocess per image at shape (1, 3, 480, 640)\n",
      "tensor([], device='cuda:0', size=(0, 6))\n",
      "\n",
      "0: 480x640 (no detections), 21.4ms\n",
      "Speed: 1.3ms preprocess, 21.4ms inference, 2.1ms postprocess per image at shape (1, 3, 480, 640)\n",
      "tensor([], device='cuda:0', size=(0, 6))\n",
      "\n",
      "0: 480x640 (no detections), 21.4ms\n",
      "Speed: 1.0ms preprocess, 21.4ms inference, 2.3ms postprocess per image at shape (1, 3, 480, 640)\n",
      "tensor([], device='cuda:0', size=(0, 6))\n",
      "\n",
      "0: 480x640 (no detections), 21.4ms\n",
      "Speed: 1.2ms preprocess, 21.4ms inference, 2.1ms postprocess per image at shape (1, 3, 480, 640)\n",
      "tensor([], device='cuda:0', size=(0, 6))\n",
      "\n",
      "0: 480x640 (no detections), 21.3ms\n",
      "Speed: 0.9ms preprocess, 21.3ms inference, 2.4ms postprocess per image at shape (1, 3, 480, 640)\n",
      "tensor([], device='cuda:0', size=(0, 6))\n",
      "\n",
      "0: 480x640 (no detections), 21.5ms\n",
      "Speed: 1.4ms preprocess, 21.5ms inference, 3.4ms postprocess per image at shape (1, 3, 480, 640)\n",
      "tensor([], device='cuda:0', size=(0, 6))\n",
      "\n",
      "0: 480x640 (no detections), 21.4ms\n",
      "Speed: 1.0ms preprocess, 21.4ms inference, 2.1ms postprocess per image at shape (1, 3, 480, 640)\n",
      "tensor([], device='cuda:0', size=(0, 6))\n",
      "\n",
      "0: 480x640 (no detections), 21.4ms\n",
      "Speed: 1.1ms preprocess, 21.4ms inference, 2.9ms postprocess per image at shape (1, 3, 480, 640)\n",
      "tensor([], device='cuda:0', size=(0, 6))\n",
      "\n",
      "0: 480x640 (no detections), 21.4ms\n",
      "Speed: 1.1ms preprocess, 21.4ms inference, 2.1ms postprocess per image at shape (1, 3, 480, 640)\n",
      "tensor([], device='cuda:0', size=(0, 6))\n",
      "\n",
      "0: 480x640 (no detections), 21.1ms\n",
      "Speed: 1.0ms preprocess, 21.1ms inference, 2.9ms postprocess per image at shape (1, 3, 480, 640)\n",
      "tensor([], device='cuda:0', size=(0, 6))\n",
      "\n",
      "0: 480x640 (no detections), 21.1ms\n",
      "Speed: 1.2ms preprocess, 21.1ms inference, 2.2ms postprocess per image at shape (1, 3, 480, 640)\n",
      "tensor([], device='cuda:0', size=(0, 6))\n",
      "\n",
      "0: 480x640 (no detections), 21.1ms\n",
      "Speed: 1.7ms preprocess, 21.1ms inference, 2.6ms postprocess per image at shape (1, 3, 480, 640)\n",
      "tensor([], device='cuda:0', size=(0, 6))\n",
      "\n",
      "0: 480x640 (no detections), 21.0ms\n",
      "Speed: 1.1ms preprocess, 21.0ms inference, 2.2ms postprocess per image at shape (1, 3, 480, 640)\n",
      "tensor([], device='cuda:0', size=(0, 6))\n",
      "\n",
      "0: 480x640 (no detections), 21.1ms\n",
      "Speed: 1.1ms preprocess, 21.1ms inference, 2.0ms postprocess per image at shape (1, 3, 480, 640)\n",
      "tensor([], device='cuda:0', size=(0, 6))\n",
      "\n",
      "0: 480x640 (no detections), 21.1ms\n",
      "Speed: 1.2ms preprocess, 21.1ms inference, 2.5ms postprocess per image at shape (1, 3, 480, 640)\n",
      "tensor([], device='cuda:0', size=(0, 6))\n",
      "\n",
      "0: 480x640 (no detections), 21.1ms\n",
      "Speed: 1.1ms preprocess, 21.1ms inference, 2.2ms postprocess per image at shape (1, 3, 480, 640)\n",
      "tensor([], device='cuda:0', size=(0, 6))\n",
      "\n",
      "0: 480x640 (no detections), 21.2ms\n",
      "Speed: 1.2ms preprocess, 21.2ms inference, 2.3ms postprocess per image at shape (1, 3, 480, 640)\n",
      "tensor([], device='cuda:0', size=(0, 6))\n",
      "\n",
      "0: 480x640 (no detections), 21.2ms\n",
      "Speed: 1.6ms preprocess, 21.2ms inference, 15.6ms postprocess per image at shape (1, 3, 480, 640)\n",
      "tensor([], device='cuda:0', size=(0, 6))\n",
      "\n",
      "0: 480x640 (no detections), 21.2ms\n",
      "Speed: 1.2ms preprocess, 21.2ms inference, 4.6ms postprocess per image at shape (1, 3, 480, 640)\n",
      "tensor([], device='cuda:0', size=(0, 6))\n",
      "\n",
      "0: 480x640 (no detections), 21.0ms\n",
      "Speed: 0.9ms preprocess, 21.0ms inference, 3.5ms postprocess per image at shape (1, 3, 480, 640)\n",
      "tensor([], device='cuda:0', size=(0, 6))\n",
      "\n",
      "0: 480x640 (no detections), 21.1ms\n",
      "Speed: 1.0ms preprocess, 21.1ms inference, 3.5ms postprocess per image at shape (1, 3, 480, 640)\n",
      "tensor([], device='cuda:0', size=(0, 6))\n",
      "\n",
      "0: 480x640 (no detections), 21.1ms\n",
      "Speed: 1.1ms preprocess, 21.1ms inference, 3.5ms postprocess per image at shape (1, 3, 480, 640)\n",
      "tensor([], device='cuda:0', size=(0, 6))\n",
      "\n",
      "0: 480x640 (no detections), 21.0ms\n",
      "Speed: 1.1ms preprocess, 21.0ms inference, 4.2ms postprocess per image at shape (1, 3, 480, 640)\n",
      "tensor([], device='cuda:0', size=(0, 6))\n",
      "\n",
      "0: 480x640 (no detections), 21.2ms\n",
      "Speed: 1.2ms preprocess, 21.2ms inference, 3.0ms postprocess per image at shape (1, 3, 480, 640)\n",
      "tensor([], device='cuda:0', size=(0, 6))\n",
      "\n",
      "0: 480x640 (no detections), 21.1ms\n",
      "Speed: 0.9ms preprocess, 21.1ms inference, 3.4ms postprocess per image at shape (1, 3, 480, 640)\n",
      "tensor([], device='cuda:0', size=(0, 6))\n",
      "\n",
      "0: 480x640 (no detections), 21.1ms\n",
      "Speed: 0.9ms preprocess, 21.1ms inference, 3.4ms postprocess per image at shape (1, 3, 480, 640)\n",
      "tensor([], device='cuda:0', size=(0, 6))\n",
      "\n",
      "0: 480x640 (no detections), 21.2ms\n",
      "Speed: 1.5ms preprocess, 21.2ms inference, 2.8ms postprocess per image at shape (1, 3, 480, 640)\n",
      "tensor([], device='cuda:0', size=(0, 6))\n",
      "\n",
      "0: 480x640 (no detections), 21.1ms\n",
      "Speed: 1.0ms preprocess, 21.1ms inference, 4.2ms postprocess per image at shape (1, 3, 480, 640)\n",
      "tensor([], device='cuda:0', size=(0, 6))\n",
      "\n",
      "0: 480x640 (no detections), 21.1ms\n",
      "Speed: 1.1ms preprocess, 21.1ms inference, 4.5ms postprocess per image at shape (1, 3, 480, 640)\n",
      "tensor([], device='cuda:0', size=(0, 6))\n",
      "\n",
      "0: 480x640 (no detections), 21.2ms\n",
      "Speed: 1.0ms preprocess, 21.2ms inference, 3.2ms postprocess per image at shape (1, 3, 480, 640)\n",
      "tensor([], device='cuda:0', size=(0, 6))\n",
      "\n",
      "0: 480x640 (no detections), 21.1ms\n",
      "Speed: 1.2ms preprocess, 21.1ms inference, 2.7ms postprocess per image at shape (1, 3, 480, 640)\n",
      "tensor([], device='cuda:0', size=(0, 6))\n",
      "\n",
      "0: 480x640 (no detections), 21.3ms\n",
      "Speed: 1.2ms preprocess, 21.3ms inference, 3.0ms postprocess per image at shape (1, 3, 480, 640)\n",
      "tensor([], device='cuda:0', size=(0, 6))\n",
      "\n",
      "0: 480x640 (no detections), 21.2ms\n",
      "Speed: 0.9ms preprocess, 21.2ms inference, 4.2ms postprocess per image at shape (1, 3, 480, 640)\n",
      "tensor([], device='cuda:0', size=(0, 6))\n",
      "\n",
      "0: 480x640 (no detections), 21.2ms\n",
      "Speed: 0.9ms preprocess, 21.2ms inference, 5.6ms postprocess per image at shape (1, 3, 480, 640)\n",
      "tensor([], device='cuda:0', size=(0, 6))\n",
      "\n",
      "0: 480x640 (no detections), 21.2ms\n",
      "Speed: 0.9ms preprocess, 21.2ms inference, 9.6ms postprocess per image at shape (1, 3, 480, 640)\n",
      "tensor([], device='cuda:0', size=(0, 6))\n",
      "\n",
      "0: 480x640 (no detections), 21.2ms\n",
      "Speed: 1.1ms preprocess, 21.2ms inference, 2.0ms postprocess per image at shape (1, 3, 480, 640)\n",
      "tensor([], device='cuda:0', size=(0, 6))\n",
      "\n",
      "0: 480x640 (no detections), 21.2ms\n",
      "Speed: 1.6ms preprocess, 21.2ms inference, 2.1ms postprocess per image at shape (1, 3, 480, 640)\n",
      "tensor([], device='cuda:0', size=(0, 6))\n",
      "\n",
      "0: 480x640 (no detections), 21.2ms\n",
      "Speed: 1.0ms preprocess, 21.2ms inference, 2.4ms postprocess per image at shape (1, 3, 480, 640)\n",
      "tensor([], device='cuda:0', size=(0, 6))\n",
      "\n",
      "0: 480x640 (no detections), 21.2ms\n",
      "Speed: 1.0ms preprocess, 21.2ms inference, 2.0ms postprocess per image at shape (1, 3, 480, 640)\n",
      "tensor([], device='cuda:0', size=(0, 6))\n",
      "\n",
      "0: 480x640 (no detections), 21.3ms\n",
      "Speed: 1.0ms preprocess, 21.3ms inference, 2.5ms postprocess per image at shape (1, 3, 480, 640)\n",
      "tensor([], device='cuda:0', size=(0, 6))\n",
      "\n",
      "0: 480x640 (no detections), 26.0ms\n",
      "Speed: 1.2ms preprocess, 26.0ms inference, 3.3ms postprocess per image at shape (1, 3, 480, 640)\n",
      "tensor([], device='cuda:0', size=(0, 6))\n",
      "\n",
      "0: 480x640 (no detections), 21.4ms\n",
      "Speed: 1.4ms preprocess, 21.4ms inference, 2.3ms postprocess per image at shape (1, 3, 480, 640)\n",
      "tensor([], device='cuda:0', size=(0, 6))\n",
      "\n",
      "0: 480x640 (no detections), 21.3ms\n",
      "Speed: 1.1ms preprocess, 21.3ms inference, 2.9ms postprocess per image at shape (1, 3, 480, 640)\n",
      "tensor([], device='cuda:0', size=(0, 6))\n",
      "\n",
      "0: 480x640 (no detections), 21.4ms\n",
      "Speed: 1.1ms preprocess, 21.4ms inference, 2.1ms postprocess per image at shape (1, 3, 480, 640)\n",
      "tensor([], device='cuda:0', size=(0, 6))\n",
      "\n",
      "0: 480x640 (no detections), 21.3ms\n",
      "Speed: 0.9ms preprocess, 21.3ms inference, 2.4ms postprocess per image at shape (1, 3, 480, 640)\n",
      "tensor([], device='cuda:0', size=(0, 6))\n",
      "\n",
      "0: 480x640 (no detections), 21.3ms\n",
      "Speed: 1.0ms preprocess, 21.3ms inference, 2.0ms postprocess per image at shape (1, 3, 480, 640)\n",
      "tensor([], device='cuda:0', size=(0, 6))\n",
      "\n",
      "0: 480x640 (no detections), 21.3ms\n",
      "Speed: 1.7ms preprocess, 21.3ms inference, 2.2ms postprocess per image at shape (1, 3, 480, 640)\n",
      "tensor([], device='cuda:0', size=(0, 6))\n",
      "\n",
      "0: 480x640 (no detections), 21.3ms\n",
      "Speed: 1.0ms preprocess, 21.3ms inference, 2.8ms postprocess per image at shape (1, 3, 480, 640)\n",
      "tensor([], device='cuda:0', size=(0, 6))\n",
      "\n",
      "0: 480x640 (no detections), 21.3ms\n",
      "Speed: 1.1ms preprocess, 21.3ms inference, 2.1ms postprocess per image at shape (1, 3, 480, 640)\n",
      "tensor([], device='cuda:0', size=(0, 6))\n",
      "\n",
      "0: 480x640 (no detections), 21.3ms\n",
      "Speed: 1.1ms preprocess, 21.3ms inference, 2.2ms postprocess per image at shape (1, 3, 480, 640)\n",
      "tensor([], device='cuda:0', size=(0, 6))\n",
      "\n",
      "0: 480x640 (no detections), 21.4ms\n",
      "Speed: 1.0ms preprocess, 21.4ms inference, 2.3ms postprocess per image at shape (1, 3, 480, 640)\n",
      "tensor([], device='cuda:0', size=(0, 6))\n",
      "\n",
      "0: 480x640 (no detections), 21.4ms\n",
      "Speed: 1.1ms preprocess, 21.4ms inference, 3.9ms postprocess per image at shape (1, 3, 480, 640)\n",
      "tensor([], device='cuda:0', size=(0, 6))\n",
      "\n",
      "0: 480x640 (no detections), 21.4ms\n",
      "Speed: 1.0ms preprocess, 21.4ms inference, 4.0ms postprocess per image at shape (1, 3, 480, 640)\n",
      "tensor([], device='cuda:0', size=(0, 6))\n",
      "\n",
      "0: 480x640 (no detections), 21.4ms\n",
      "Speed: 1.1ms preprocess, 21.4ms inference, 4.2ms postprocess per image at shape (1, 3, 480, 640)\n",
      "tensor([], device='cuda:0', size=(0, 6))\n",
      "\n",
      "0: 480x640 (no detections), 21.4ms\n",
      "Speed: 1.0ms preprocess, 21.4ms inference, 3.3ms postprocess per image at shape (1, 3, 480, 640)\n",
      "tensor([], device='cuda:0', size=(0, 6))\n",
      "\n",
      "0: 480x640 (no detections), 21.3ms\n",
      "Speed: 1.1ms preprocess, 21.3ms inference, 2.9ms postprocess per image at shape (1, 3, 480, 640)\n",
      "tensor([], device='cuda:0', size=(0, 6))\n",
      "\n",
      "0: 480x640 (no detections), 21.4ms\n",
      "Speed: 1.3ms preprocess, 21.4ms inference, 3.4ms postprocess per image at shape (1, 3, 480, 640)\n",
      "tensor([], device='cuda:0', size=(0, 6))\n",
      "\n",
      "0: 480x640 (no detections), 21.5ms\n",
      "Speed: 1.0ms preprocess, 21.5ms inference, 3.1ms postprocess per image at shape (1, 3, 480, 640)\n",
      "tensor([], device='cuda:0', size=(0, 6))\n",
      "\n",
      "0: 480x640 (no detections), 21.4ms\n",
      "Speed: 1.1ms preprocess, 21.4ms inference, 3.0ms postprocess per image at shape (1, 3, 480, 640)\n",
      "tensor([], device='cuda:0', size=(0, 6))\n",
      "\n",
      "0: 480x640 (no detections), 21.5ms\n",
      "Speed: 0.9ms preprocess, 21.5ms inference, 3.2ms postprocess per image at shape (1, 3, 480, 640)\n",
      "tensor([], device='cuda:0', size=(0, 6))\n",
      "\n",
      "0: 480x640 (no detections), 21.4ms\n",
      "Speed: 1.0ms preprocess, 21.4ms inference, 3.3ms postprocess per image at shape (1, 3, 480, 640)\n",
      "tensor([], device='cuda:0', size=(0, 6))\n",
      "\n",
      "0: 480x640 (no detections), 21.5ms\n",
      "Speed: 1.2ms preprocess, 21.5ms inference, 3.0ms postprocess per image at shape (1, 3, 480, 640)\n",
      "tensor([], device='cuda:0', size=(0, 6))\n",
      "\n",
      "0: 480x640 (no detections), 21.4ms\n",
      "Speed: 1.1ms preprocess, 21.4ms inference, 4.2ms postprocess per image at shape (1, 3, 480, 640)\n",
      "tensor([], device='cuda:0', size=(0, 6))\n",
      "\n",
      "0: 480x640 (no detections), 21.5ms\n",
      "Speed: 1.1ms preprocess, 21.5ms inference, 2.8ms postprocess per image at shape (1, 3, 480, 640)\n",
      "tensor([], device='cuda:0', size=(0, 6))\n",
      "\n",
      "0: 480x640 (no detections), 21.4ms\n",
      "Speed: 0.9ms preprocess, 21.4ms inference, 3.8ms postprocess per image at shape (1, 3, 480, 640)\n",
      "tensor([], device='cuda:0', size=(0, 6))\n",
      "\n",
      "0: 480x640 (no detections), 21.5ms\n",
      "Speed: 1.6ms preprocess, 21.5ms inference, 5.2ms postprocess per image at shape (1, 3, 480, 640)\n",
      "tensor([], device='cuda:0', size=(0, 6))\n",
      "\n",
      "0: 480x640 (no detections), 21.6ms\n",
      "Speed: 1.3ms preprocess, 21.6ms inference, 3.3ms postprocess per image at shape (1, 3, 480, 640)\n",
      "tensor([], device='cuda:0', size=(0, 6))\n",
      "\n",
      "0: 480x640 (no detections), 21.5ms\n",
      "Speed: 0.9ms preprocess, 21.5ms inference, 4.0ms postprocess per image at shape (1, 3, 480, 640)\n",
      "tensor([], device='cuda:0', size=(0, 6))\n",
      "\n",
      "0: 480x640 (no detections), 21.5ms\n",
      "Speed: 1.0ms preprocess, 21.5ms inference, 2.2ms postprocess per image at shape (1, 3, 480, 640)\n",
      "tensor([], device='cuda:0', size=(0, 6))\n",
      "\n",
      "0: 480x640 (no detections), 21.4ms\n",
      "Speed: 1.0ms preprocess, 21.4ms inference, 2.1ms postprocess per image at shape (1, 3, 480, 640)\n",
      "tensor([], device='cuda:0', size=(0, 6))\n",
      "\n",
      "0: 480x640 (no detections), 21.4ms\n",
      "Speed: 1.0ms preprocess, 21.4ms inference, 1.9ms postprocess per image at shape (1, 3, 480, 640)\n",
      "tensor([], device='cuda:0', size=(0, 6))\n",
      "\n",
      "0: 480x640 (no detections), 21.6ms\n",
      "Speed: 1.5ms preprocess, 21.6ms inference, 1.8ms postprocess per image at shape (1, 3, 480, 640)\n",
      "tensor([], device='cuda:0', size=(0, 6))\n",
      "\n",
      "0: 480x640 (no detections), 21.5ms\n",
      "Speed: 1.6ms preprocess, 21.5ms inference, 2.0ms postprocess per image at shape (1, 3, 480, 640)\n",
      "tensor([], device='cuda:0', size=(0, 6))\n",
      "\n",
      "0: 480x640 (no detections), 21.5ms\n",
      "Speed: 1.0ms preprocess, 21.5ms inference, 2.1ms postprocess per image at shape (1, 3, 480, 640)\n",
      "tensor([], device='cuda:0', size=(0, 6))\n",
      "\n",
      "0: 480x640 (no detections), 21.4ms\n",
      "Speed: 1.0ms preprocess, 21.4ms inference, 2.4ms postprocess per image at shape (1, 3, 480, 640)\n",
      "tensor([], device='cuda:0', size=(0, 6))\n",
      "\n",
      "0: 480x640 (no detections), 21.4ms\n",
      "Speed: 1.1ms preprocess, 21.4ms inference, 2.0ms postprocess per image at shape (1, 3, 480, 640)\n",
      "tensor([], device='cuda:0', size=(0, 6))\n",
      "\n",
      "0: 480x640 (no detections), 21.4ms\n",
      "Speed: 3.6ms preprocess, 21.4ms inference, 3.6ms postprocess per image at shape (1, 3, 480, 640)\n",
      "tensor([], device='cuda:0', size=(0, 6))\n",
      "\n",
      "0: 480x640 (no detections), 21.5ms\n",
      "Speed: 1.6ms preprocess, 21.5ms inference, 2.3ms postprocess per image at shape (1, 3, 480, 640)\n",
      "tensor([], device='cuda:0', size=(0, 6))\n",
      "\n",
      "0: 480x640 (no detections), 21.5ms\n",
      "Speed: 1.0ms preprocess, 21.5ms inference, 2.5ms postprocess per image at shape (1, 3, 480, 640)\n",
      "tensor([], device='cuda:0', size=(0, 6))\n",
      "\n",
      "0: 480x640 (no detections), 21.2ms\n",
      "Speed: 1.1ms preprocess, 21.2ms inference, 3.3ms postprocess per image at shape (1, 3, 480, 640)\n",
      "tensor([], device='cuda:0', size=(0, 6))\n",
      "\n",
      "0: 480x640 (no detections), 21.1ms\n",
      "Speed: 1.0ms preprocess, 21.1ms inference, 2.0ms postprocess per image at shape (1, 3, 480, 640)\n",
      "tensor([], device='cuda:0', size=(0, 6))\n",
      "\n",
      "0: 480x640 (no detections), 21.2ms\n",
      "Speed: 1.4ms preprocess, 21.2ms inference, 2.1ms postprocess per image at shape (1, 3, 480, 640)\n",
      "tensor([], device='cuda:0', size=(0, 6))\n",
      "\n",
      "0: 480x640 (no detections), 21.2ms\n",
      "Speed: 1.1ms preprocess, 21.2ms inference, 2.4ms postprocess per image at shape (1, 3, 480, 640)\n",
      "tensor([], device='cuda:0', size=(0, 6))\n",
      "\n",
      "0: 480x640 (no detections), 21.2ms\n",
      "Speed: 0.9ms preprocess, 21.2ms inference, 2.0ms postprocess per image at shape (1, 3, 480, 640)\n",
      "tensor([], device='cuda:0', size=(0, 6))\n",
      "\n",
      "0: 480x640 (no detections), 21.2ms\n",
      "Speed: 1.0ms preprocess, 21.2ms inference, 2.3ms postprocess per image at shape (1, 3, 480, 640)\n",
      "tensor([], device='cuda:0', size=(0, 6))\n",
      "\n",
      "0: 480x640 (no detections), 21.2ms\n",
      "Speed: 1.0ms preprocess, 21.2ms inference, 2.6ms postprocess per image at shape (1, 3, 480, 640)\n",
      "tensor([], device='cuda:0', size=(0, 6))\n",
      "\n",
      "0: 480x640 (no detections), 21.2ms\n",
      "Speed: 1.5ms preprocess, 21.2ms inference, 2.2ms postprocess per image at shape (1, 3, 480, 640)\n",
      "tensor([], device='cuda:0', size=(0, 6))\n",
      "\n",
      "0: 480x640 (no detections), 25.1ms\n",
      "Speed: 1.1ms preprocess, 25.1ms inference, 6.3ms postprocess per image at shape (1, 3, 480, 640)\n",
      "tensor([], device='cuda:0', size=(0, 6))\n",
      "\n",
      "0: 480x640 (no detections), 21.3ms\n",
      "Speed: 7.5ms preprocess, 21.3ms inference, 2.8ms postprocess per image at shape (1, 3, 480, 640)\n",
      "tensor([], device='cuda:0', size=(0, 6))\n",
      "\n",
      "0: 480x640 (no detections), 21.2ms\n",
      "Speed: 1.3ms preprocess, 21.2ms inference, 2.3ms postprocess per image at shape (1, 3, 480, 640)\n",
      "tensor([], device='cuda:0', size=(0, 6))\n",
      "\n",
      "0: 480x640 (no detections), 21.2ms\n",
      "Speed: 1.0ms preprocess, 21.2ms inference, 2.3ms postprocess per image at shape (1, 3, 480, 640)\n",
      "tensor([], device='cuda:0', size=(0, 6))\n",
      "\n",
      "0: 480x640 (no detections), 21.2ms\n",
      "Speed: 1.2ms preprocess, 21.2ms inference, 1.9ms postprocess per image at shape (1, 3, 480, 640)\n",
      "tensor([], device='cuda:0', size=(0, 6))\n",
      "\n",
      "0: 480x640 (no detections), 21.0ms\n",
      "Speed: 1.0ms preprocess, 21.0ms inference, 2.2ms postprocess per image at shape (1, 3, 480, 640)\n",
      "tensor([], device='cuda:0', size=(0, 6))\n",
      "\n",
      "0: 480x640 (no detections), 21.0ms\n",
      "Speed: 1.2ms preprocess, 21.0ms inference, 2.7ms postprocess per image at shape (1, 3, 480, 640)\n",
      "tensor([], device='cuda:0', size=(0, 6))\n",
      "\n",
      "0: 480x640 (no detections), 21.0ms\n",
      "Speed: 1.2ms preprocess, 21.0ms inference, 2.6ms postprocess per image at shape (1, 3, 480, 640)\n",
      "tensor([], device='cuda:0', size=(0, 6))\n",
      "\n",
      "0: 480x640 (no detections), 21.0ms\n",
      "Speed: 1.0ms preprocess, 21.0ms inference, 2.2ms postprocess per image at shape (1, 3, 480, 640)\n",
      "tensor([], device='cuda:0', size=(0, 6))\n",
      "\n",
      "0: 480x640 (no detections), 21.0ms\n",
      "Speed: 1.1ms preprocess, 21.0ms inference, 2.1ms postprocess per image at shape (1, 3, 480, 640)\n",
      "tensor([], device='cuda:0', size=(0, 6))\n",
      "\n",
      "0: 480x640 (no detections), 20.9ms\n",
      "Speed: 0.9ms preprocess, 20.9ms inference, 2.4ms postprocess per image at shape (1, 3, 480, 640)\n",
      "tensor([], device='cuda:0', size=(0, 6))\n",
      "\n",
      "0: 480x640 (no detections), 20.9ms\n",
      "Speed: 1.1ms preprocess, 20.9ms inference, 2.1ms postprocess per image at shape (1, 3, 480, 640)\n",
      "tensor([], device='cuda:0', size=(0, 6))\n",
      "\n",
      "0: 480x640 (no detections), 21.4ms\n",
      "Speed: 1.0ms preprocess, 21.4ms inference, 5.7ms postprocess per image at shape (1, 3, 480, 640)\n",
      "tensor([], device='cuda:0', size=(0, 6))\n",
      "\n",
      "0: 480x640 (no detections), 21.6ms\n",
      "Speed: 1.0ms preprocess, 21.6ms inference, 3.2ms postprocess per image at shape (1, 3, 480, 640)\n",
      "tensor([], device='cuda:0', size=(0, 6))\n",
      "\n",
      "0: 480x640 (no detections), 23.3ms\n",
      "Speed: 1.4ms preprocess, 23.3ms inference, 3.0ms postprocess per image at shape (1, 3, 480, 640)\n",
      "tensor([], device='cuda:0', size=(0, 6))\n",
      "\n",
      "0: 480x640 (no detections), 21.4ms\n",
      "Speed: 1.2ms preprocess, 21.4ms inference, 2.8ms postprocess per image at shape (1, 3, 480, 640)\n",
      "tensor([], device='cuda:0', size=(0, 6))\n",
      "\n",
      "0: 480x640 (no detections), 21.6ms\n",
      "Speed: 1.0ms preprocess, 21.6ms inference, 2.3ms postprocess per image at shape (1, 3, 480, 640)\n",
      "tensor([], device='cuda:0', size=(0, 6))\n",
      "\n",
      "0: 480x640 (no detections), 21.4ms\n",
      "Speed: 1.2ms preprocess, 21.4ms inference, 2.1ms postprocess per image at shape (1, 3, 480, 640)\n",
      "tensor([], device='cuda:0', size=(0, 6))\n",
      "\n",
      "0: 480x640 (no detections), 21.4ms\n",
      "Speed: 1.0ms preprocess, 21.4ms inference, 2.2ms postprocess per image at shape (1, 3, 480, 640)\n",
      "tensor([], device='cuda:0', size=(0, 6))\n",
      "\n",
      "0: 480x640 (no detections), 21.4ms\n",
      "Speed: 1.0ms preprocess, 21.4ms inference, 2.1ms postprocess per image at shape (1, 3, 480, 640)\n",
      "tensor([], device='cuda:0', size=(0, 6))\n",
      "\n",
      "0: 480x640 (no detections), 21.5ms\n",
      "Speed: 1.1ms preprocess, 21.5ms inference, 2.5ms postprocess per image at shape (1, 3, 480, 640)\n",
      "tensor([], device='cuda:0', size=(0, 6))\n",
      "\n",
      "0: 480x640 (no detections), 21.4ms\n",
      "Speed: 1.1ms preprocess, 21.4ms inference, 2.2ms postprocess per image at shape (1, 3, 480, 640)\n",
      "tensor([], device='cuda:0', size=(0, 6))\n",
      "\n",
      "0: 480x640 (no detections), 21.5ms\n",
      "Speed: 1.1ms preprocess, 21.5ms inference, 2.2ms postprocess per image at shape (1, 3, 480, 640)\n",
      "tensor([], device='cuda:0', size=(0, 6))\n",
      "\n",
      "0: 480x640 (no detections), 21.5ms\n",
      "Speed: 1.1ms preprocess, 21.5ms inference, 2.1ms postprocess per image at shape (1, 3, 480, 640)\n",
      "tensor([], device='cuda:0', size=(0, 6))\n",
      "\n",
      "0: 480x640 (no detections), 21.6ms\n",
      "Speed: 1.3ms preprocess, 21.6ms inference, 2.2ms postprocess per image at shape (1, 3, 480, 640)\n",
      "tensor([], device='cuda:0', size=(0, 6))\n",
      "\n",
      "0: 480x640 (no detections), 21.5ms\n",
      "Speed: 1.1ms preprocess, 21.5ms inference, 4.1ms postprocess per image at shape (1, 3, 480, 640)\n",
      "tensor([], device='cuda:0', size=(0, 6))\n",
      "\n",
      "0: 480x640 (no detections), 21.5ms\n",
      "Speed: 1.3ms preprocess, 21.5ms inference, 3.1ms postprocess per image at shape (1, 3, 480, 640)\n",
      "tensor([], device='cuda:0', size=(0, 6))\n",
      "\n",
      "0: 480x640 (no detections), 21.5ms\n",
      "Speed: 1.2ms preprocess, 21.5ms inference, 2.4ms postprocess per image at shape (1, 3, 480, 640)\n",
      "tensor([], device='cuda:0', size=(0, 6))\n",
      "\n",
      "0: 480x640 (no detections), 21.6ms\n",
      "Speed: 1.1ms preprocess, 21.6ms inference, 2.8ms postprocess per image at shape (1, 3, 480, 640)\n",
      "tensor([], device='cuda:0', size=(0, 6))\n",
      "\n",
      "0: 480x640 (no detections), 21.6ms\n",
      "Speed: 1.2ms preprocess, 21.6ms inference, 2.3ms postprocess per image at shape (1, 3, 480, 640)\n",
      "tensor([], device='cuda:0', size=(0, 6))\n",
      "\n",
      "0: 480x640 (no detections), 21.5ms\n",
      "Speed: 1.1ms preprocess, 21.5ms inference, 2.3ms postprocess per image at shape (1, 3, 480, 640)\n",
      "tensor([], device='cuda:0', size=(0, 6))\n",
      "\n",
      "0: 480x640 (no detections), 21.4ms\n",
      "Speed: 1.1ms preprocess, 21.4ms inference, 2.1ms postprocess per image at shape (1, 3, 480, 640)\n",
      "tensor([], device='cuda:0', size=(0, 6))\n",
      "\n",
      "0: 480x640 (no detections), 21.3ms\n",
      "Speed: 1.0ms preprocess, 21.3ms inference, 2.1ms postprocess per image at shape (1, 3, 480, 640)\n",
      "tensor([], device='cuda:0', size=(0, 6))\n",
      "\n",
      "0: 480x640 (no detections), 21.3ms\n",
      "Speed: 1.0ms preprocess, 21.3ms inference, 2.4ms postprocess per image at shape (1, 3, 480, 640)\n",
      "tensor([], device='cuda:0', size=(0, 6))\n",
      "\n",
      "0: 480x640 (no detections), 21.4ms\n",
      "Speed: 1.0ms preprocess, 21.4ms inference, 2.4ms postprocess per image at shape (1, 3, 480, 640)\n",
      "tensor([], device='cuda:0', size=(0, 6))\n",
      "\n",
      "0: 480x640 (no detections), 21.4ms\n",
      "Speed: 1.0ms preprocess, 21.4ms inference, 2.5ms postprocess per image at shape (1, 3, 480, 640)\n",
      "tensor([], device='cuda:0', size=(0, 6))\n",
      "\n",
      "0: 480x640 (no detections), 21.4ms\n",
      "Speed: 1.0ms preprocess, 21.4ms inference, 2.2ms postprocess per image at shape (1, 3, 480, 640)\n",
      "tensor([], device='cuda:0', size=(0, 6))\n",
      "\n",
      "0: 480x640 (no detections), 21.4ms\n",
      "Speed: 1.3ms preprocess, 21.4ms inference, 2.9ms postprocess per image at shape (1, 3, 480, 640)\n",
      "tensor([], device='cuda:0', size=(0, 6))\n",
      "\n",
      "0: 480x640 (no detections), 21.3ms\n",
      "Speed: 1.3ms preprocess, 21.3ms inference, 3.0ms postprocess per image at shape (1, 3, 480, 640)\n",
      "tensor([], device='cuda:0', size=(0, 6))\n",
      "\n",
      "0: 480x640 (no detections), 21.4ms\n",
      "Speed: 1.4ms preprocess, 21.4ms inference, 2.2ms postprocess per image at shape (1, 3, 480, 640)\n",
      "tensor([], device='cuda:0', size=(0, 6))\n",
      "\n",
      "0: 480x640 (no detections), 21.4ms\n",
      "Speed: 1.4ms preprocess, 21.4ms inference, 2.6ms postprocess per image at shape (1, 3, 480, 640)\n",
      "tensor([], device='cuda:0', size=(0, 6))\n",
      "\n",
      "0: 480x640 (no detections), 21.4ms\n",
      "Speed: 1.2ms preprocess, 21.4ms inference, 1.9ms postprocess per image at shape (1, 3, 480, 640)\n",
      "tensor([], device='cuda:0', size=(0, 6))\n",
      "\n",
      "0: 480x640 (no detections), 21.4ms\n",
      "Speed: 1.3ms preprocess, 21.4ms inference, 2.1ms postprocess per image at shape (1, 3, 480, 640)\n",
      "tensor([], device='cuda:0', size=(0, 6))\n",
      "\n",
      "0: 480x640 (no detections), 21.4ms\n",
      "Speed: 0.9ms preprocess, 21.4ms inference, 2.1ms postprocess per image at shape (1, 3, 480, 640)\n",
      "tensor([], device='cuda:0', size=(0, 6))\n",
      "\n",
      "0: 480x640 (no detections), 21.4ms\n",
      "Speed: 1.3ms preprocess, 21.4ms inference, 2.2ms postprocess per image at shape (1, 3, 480, 640)\n",
      "tensor([], device='cuda:0', size=(0, 6))\n",
      "\n",
      "0: 480x640 (no detections), 21.3ms\n",
      "Speed: 1.0ms preprocess, 21.3ms inference, 2.2ms postprocess per image at shape (1, 3, 480, 640)\n",
      "tensor([], device='cuda:0', size=(0, 6))\n",
      "\n",
      "0: 480x640 (no detections), 21.4ms\n",
      "Speed: 1.1ms preprocess, 21.4ms inference, 4.5ms postprocess per image at shape (1, 3, 480, 640)\n",
      "tensor([], device='cuda:0', size=(0, 6))\n",
      "\n",
      "0: 480x640 (no detections), 21.5ms\n",
      "Speed: 1.4ms preprocess, 21.5ms inference, 2.4ms postprocess per image at shape (1, 3, 480, 640)\n",
      "tensor([], device='cuda:0', size=(0, 6))\n",
      "\n",
      "0: 480x640 (no detections), 21.4ms\n",
      "Speed: 1.0ms preprocess, 21.4ms inference, 2.5ms postprocess per image at shape (1, 3, 480, 640)\n",
      "tensor([], device='cuda:0', size=(0, 6))\n",
      "\n",
      "0: 480x640 (no detections), 24.6ms\n",
      "Speed: 1.4ms preprocess, 24.6ms inference, 5.2ms postprocess per image at shape (1, 3, 480, 640)\n",
      "tensor([], device='cuda:0', size=(0, 6))\n",
      "\n",
      "0: 480x640 (no detections), 21.5ms\n",
      "Speed: 1.1ms preprocess, 21.5ms inference, 4.4ms postprocess per image at shape (1, 3, 480, 640)\n",
      "tensor([], device='cuda:0', size=(0, 6))\n",
      "\n",
      "0: 480x640 (no detections), 21.5ms\n",
      "Speed: 1.1ms preprocess, 21.5ms inference, 5.0ms postprocess per image at shape (1, 3, 480, 640)\n",
      "tensor([], device='cuda:0', size=(0, 6))\n",
      "\n",
      "0: 480x640 (no detections), 21.4ms\n",
      "Speed: 1.1ms preprocess, 21.4ms inference, 4.4ms postprocess per image at shape (1, 3, 480, 640)\n",
      "tensor([], device='cuda:0', size=(0, 6))\n",
      "\n",
      "0: 480x640 (no detections), 21.4ms\n",
      "Speed: 1.0ms preprocess, 21.4ms inference, 3.7ms postprocess per image at shape (1, 3, 480, 640)\n",
      "tensor([], device='cuda:0', size=(0, 6))\n",
      "\n",
      "0: 480x640 (no detections), 21.4ms\n",
      "Speed: 1.0ms preprocess, 21.4ms inference, 3.3ms postprocess per image at shape (1, 3, 480, 640)\n",
      "tensor([], device='cuda:0', size=(0, 6))\n",
      "\n",
      "0: 480x640 (no detections), 21.4ms\n",
      "Speed: 0.9ms preprocess, 21.4ms inference, 3.4ms postprocess per image at shape (1, 3, 480, 640)\n",
      "tensor([], device='cuda:0', size=(0, 6))\n",
      "\n",
      "0: 480x640 (no detections), 21.4ms\n",
      "Speed: 0.9ms preprocess, 21.4ms inference, 3.0ms postprocess per image at shape (1, 3, 480, 640)\n",
      "tensor([], device='cuda:0', size=(0, 6))\n",
      "\n",
      "0: 480x640 (no detections), 21.4ms\n",
      "Speed: 1.0ms preprocess, 21.4ms inference, 2.9ms postprocess per image at shape (1, 3, 480, 640)\n",
      "tensor([], device='cuda:0', size=(0, 6))\n",
      "\n",
      "0: 480x640 (no detections), 21.4ms\n",
      "Speed: 0.9ms preprocess, 21.4ms inference, 3.3ms postprocess per image at shape (1, 3, 480, 640)\n",
      "tensor([], device='cuda:0', size=(0, 6))\n",
      "\n",
      "0: 480x640 (no detections), 21.4ms\n",
      "Speed: 1.0ms preprocess, 21.4ms inference, 3.4ms postprocess per image at shape (1, 3, 480, 640)\n",
      "tensor([], device='cuda:0', size=(0, 6))\n",
      "\n",
      "0: 480x640 (no detections), 21.3ms\n",
      "Speed: 1.4ms preprocess, 21.3ms inference, 4.6ms postprocess per image at shape (1, 3, 480, 640)\n",
      "tensor([], device='cuda:0', size=(0, 6))\n",
      "\n",
      "0: 480x640 (no detections), 21.4ms\n",
      "Speed: 1.0ms preprocess, 21.4ms inference, 3.9ms postprocess per image at shape (1, 3, 480, 640)\n",
      "tensor([], device='cuda:0', size=(0, 6))\n",
      "\n",
      "0: 480x640 (no detections), 21.4ms\n",
      "Speed: 1.6ms preprocess, 21.4ms inference, 3.3ms postprocess per image at shape (1, 3, 480, 640)\n",
      "tensor([], device='cuda:0', size=(0, 6))\n",
      "\n",
      "0: 480x640 (no detections), 21.3ms\n",
      "Speed: 1.0ms preprocess, 21.3ms inference, 3.2ms postprocess per image at shape (1, 3, 480, 640)\n",
      "tensor([], device='cuda:0', size=(0, 6))\n",
      "\n",
      "0: 480x640 (no detections), 21.4ms\n",
      "Speed: 1.0ms preprocess, 21.4ms inference, 2.9ms postprocess per image at shape (1, 3, 480, 640)\n",
      "tensor([], device='cuda:0', size=(0, 6))\n",
      "\n",
      "0: 480x640 (no detections), 21.4ms\n",
      "Speed: 0.9ms preprocess, 21.4ms inference, 3.3ms postprocess per image at shape (1, 3, 480, 640)\n",
      "tensor([], device='cuda:0', size=(0, 6))\n",
      "\n",
      "0: 480x640 (no detections), 21.3ms\n",
      "Speed: 1.0ms preprocess, 21.3ms inference, 2.1ms postprocess per image at shape (1, 3, 480, 640)\n",
      "tensor([], device='cuda:0', size=(0, 6))\n",
      "\n",
      "0: 480x640 (no detections), 21.4ms\n",
      "Speed: 1.3ms preprocess, 21.4ms inference, 2.7ms postprocess per image at shape (1, 3, 480, 640)\n",
      "tensor([], device='cuda:0', size=(0, 6))\n",
      "\n",
      "0: 480x640 (no detections), 21.5ms\n",
      "Speed: 1.2ms preprocess, 21.5ms inference, 2.9ms postprocess per image at shape (1, 3, 480, 640)\n",
      "tensor([], device='cuda:0', size=(0, 6))\n",
      "\n",
      "0: 480x640 (no detections), 21.4ms\n",
      "Speed: 1.0ms preprocess, 21.4ms inference, 7.9ms postprocess per image at shape (1, 3, 480, 640)\n",
      "tensor([], device='cuda:0', size=(0, 6))\n",
      "\n",
      "0: 480x640 (no detections), 21.4ms\n",
      "Speed: 3.7ms preprocess, 21.4ms inference, 2.5ms postprocess per image at shape (1, 3, 480, 640)\n",
      "tensor([], device='cuda:0', size=(0, 6))\n",
      "\n",
      "0: 480x640 (no detections), 21.3ms\n",
      "Speed: 1.0ms preprocess, 21.3ms inference, 2.5ms postprocess per image at shape (1, 3, 480, 640)\n",
      "tensor([], device='cuda:0', size=(0, 6))\n",
      "\n",
      "0: 480x640 (no detections), 21.3ms\n",
      "Speed: 1.4ms preprocess, 21.3ms inference, 2.4ms postprocess per image at shape (1, 3, 480, 640)\n",
      "tensor([], device='cuda:0', size=(0, 6))\n",
      "\n",
      "0: 480x640 (no detections), 21.3ms\n",
      "Speed: 1.0ms preprocess, 21.3ms inference, 2.5ms postprocess per image at shape (1, 3, 480, 640)\n",
      "tensor([], device='cuda:0', size=(0, 6))\n",
      "\n",
      "0: 480x640 (no detections), 21.3ms\n",
      "Speed: 1.4ms preprocess, 21.3ms inference, 2.3ms postprocess per image at shape (1, 3, 480, 640)\n",
      "tensor([], device='cuda:0', size=(0, 6))\n",
      "\n",
      "0: 480x640 (no detections), 21.4ms\n",
      "Speed: 1.2ms preprocess, 21.4ms inference, 2.5ms postprocess per image at shape (1, 3, 480, 640)\n",
      "tensor([], device='cuda:0', size=(0, 6))\n",
      "\n",
      "0: 480x640 (no detections), 21.3ms\n",
      "Speed: 1.0ms preprocess, 21.3ms inference, 2.4ms postprocess per image at shape (1, 3, 480, 640)\n",
      "tensor([], device='cuda:0', size=(0, 6))\n",
      "\n",
      "0: 480x640 (no detections), 21.3ms\n",
      "Speed: 1.4ms preprocess, 21.3ms inference, 3.0ms postprocess per image at shape (1, 3, 480, 640)\n",
      "tensor([], device='cuda:0', size=(0, 6))\n",
      "\n",
      "0: 480x640 (no detections), 21.4ms\n",
      "Speed: 1.2ms preprocess, 21.4ms inference, 2.4ms postprocess per image at shape (1, 3, 480, 640)\n",
      "tensor([], device='cuda:0', size=(0, 6))\n",
      "\n",
      "0: 480x640 (no detections), 23.1ms\n",
      "Speed: 1.0ms preprocess, 23.1ms inference, 2.5ms postprocess per image at shape (1, 3, 480, 640)\n",
      "tensor([], device='cuda:0', size=(0, 6))\n",
      "\n",
      "0: 480x640 (no detections), 21.6ms\n",
      "Speed: 1.3ms preprocess, 21.6ms inference, 2.5ms postprocess per image at shape (1, 3, 480, 640)\n",
      "tensor([], device='cuda:0', size=(0, 6))\n",
      "\n",
      "0: 480x640 (no detections), 21.3ms\n",
      "Speed: 1.0ms preprocess, 21.3ms inference, 3.0ms postprocess per image at shape (1, 3, 480, 640)\n",
      "tensor([], device='cuda:0', size=(0, 6))\n",
      "\n",
      "0: 480x640 (no detections), 21.4ms\n",
      "Speed: 1.2ms preprocess, 21.4ms inference, 2.3ms postprocess per image at shape (1, 3, 480, 640)\n",
      "tensor([], device='cuda:0', size=(0, 6))\n",
      "\n",
      "0: 480x640 (no detections), 21.2ms\n",
      "Speed: 1.0ms preprocess, 21.2ms inference, 2.2ms postprocess per image at shape (1, 3, 480, 640)\n",
      "tensor([], device='cuda:0', size=(0, 6))\n",
      "\n",
      "0: 480x640 (no detections), 21.3ms\n",
      "Speed: 1.2ms preprocess, 21.3ms inference, 2.2ms postprocess per image at shape (1, 3, 480, 640)\n",
      "tensor([], device='cuda:0', size=(0, 6))\n",
      "\n",
      "0: 480x640 (no detections), 21.3ms\n",
      "Speed: 0.9ms preprocess, 21.3ms inference, 2.4ms postprocess per image at shape (1, 3, 480, 640)\n",
      "tensor([], device='cuda:0', size=(0, 6))\n",
      "\n",
      "0: 480x640 (no detections), 21.3ms\n",
      "Speed: 1.0ms preprocess, 21.3ms inference, 2.1ms postprocess per image at shape (1, 3, 480, 640)\n",
      "tensor([], device='cuda:0', size=(0, 6))\n",
      "\n",
      "0: 480x640 (no detections), 21.2ms\n",
      "Speed: 1.4ms preprocess, 21.2ms inference, 2.3ms postprocess per image at shape (1, 3, 480, 640)\n",
      "tensor([], device='cuda:0', size=(0, 6))\n",
      "\n",
      "0: 480x640 (no detections), 21.4ms\n",
      "Speed: 1.2ms preprocess, 21.4ms inference, 2.9ms postprocess per image at shape (1, 3, 480, 640)\n",
      "tensor([], device='cuda:0', size=(0, 6))\n",
      "\n",
      "0: 480x640 (no detections), 21.3ms\n",
      "Speed: 1.2ms preprocess, 21.3ms inference, 2.1ms postprocess per image at shape (1, 3, 480, 640)\n",
      "tensor([], device='cuda:0', size=(0, 6))\n",
      "\n",
      "0: 480x640 (no detections), 21.3ms\n",
      "Speed: 1.0ms preprocess, 21.3ms inference, 2.7ms postprocess per image at shape (1, 3, 480, 640)\n",
      "tensor([], device='cuda:0', size=(0, 6))\n",
      "\n",
      "0: 480x640 (no detections), 21.2ms\n",
      "Speed: 0.9ms preprocess, 21.2ms inference, 2.7ms postprocess per image at shape (1, 3, 480, 640)\n",
      "tensor([], device='cuda:0', size=(0, 6))\n",
      "\n",
      "0: 480x640 (no detections), 23.7ms\n",
      "Speed: 1.1ms preprocess, 23.7ms inference, 3.6ms postprocess per image at shape (1, 3, 480, 640)\n",
      "tensor([], device='cuda:0', size=(0, 6))\n",
      "\n",
      "0: 480x640 (no detections), 34.5ms\n",
      "Speed: 1.3ms preprocess, 34.5ms inference, 10.2ms postprocess per image at shape (1, 3, 480, 640)\n",
      "tensor([], device='cuda:0', size=(0, 6))\n",
      "\n",
      "0: 480x640 (no detections), 21.4ms\n",
      "Speed: 3.6ms preprocess, 21.4ms inference, 3.1ms postprocess per image at shape (1, 3, 480, 640)\n",
      "tensor([], device='cuda:0', size=(0, 6))\n",
      "\n",
      "0: 480x640 (no detections), 21.5ms\n",
      "Speed: 1.1ms preprocess, 21.5ms inference, 2.6ms postprocess per image at shape (1, 3, 480, 640)\n",
      "tensor([], device='cuda:0', size=(0, 6))\n",
      "\n",
      "0: 480x640 (no detections), 21.5ms\n",
      "Speed: 1.1ms preprocess, 21.5ms inference, 2.3ms postprocess per image at shape (1, 3, 480, 640)\n",
      "tensor([], device='cuda:0', size=(0, 6))\n",
      "\n",
      "0: 480x640 (no detections), 21.4ms\n",
      "Speed: 1.2ms preprocess, 21.4ms inference, 2.1ms postprocess per image at shape (1, 3, 480, 640)\n",
      "tensor([], device='cuda:0', size=(0, 6))\n",
      "\n",
      "0: 480x640 (no detections), 21.4ms\n",
      "Speed: 0.9ms preprocess, 21.4ms inference, 2.8ms postprocess per image at shape (1, 3, 480, 640)\n",
      "tensor([], device='cuda:0', size=(0, 6))\n",
      "\n",
      "0: 480x640 (no detections), 21.4ms\n",
      "Speed: 1.2ms preprocess, 21.4ms inference, 2.4ms postprocess per image at shape (1, 3, 480, 640)\n",
      "tensor([], device='cuda:0', size=(0, 6))\n",
      "\n",
      "0: 480x640 (no detections), 22.9ms\n",
      "Speed: 0.9ms preprocess, 22.9ms inference, 2.8ms postprocess per image at shape (1, 3, 480, 640)\n",
      "tensor([], device='cuda:0', size=(0, 6))\n",
      "\n",
      "0: 480x640 (no detections), 21.4ms\n",
      "Speed: 1.1ms preprocess, 21.4ms inference, 2.3ms postprocess per image at shape (1, 3, 480, 640)\n",
      "tensor([], device='cuda:0', size=(0, 6))\n",
      "\n",
      "0: 480x640 (no detections), 21.6ms\n",
      "Speed: 1.1ms preprocess, 21.6ms inference, 2.2ms postprocess per image at shape (1, 3, 480, 640)\n",
      "tensor([], device='cuda:0', size=(0, 6))\n",
      "\n",
      "0: 480x640 (no detections), 21.6ms\n",
      "Speed: 1.0ms preprocess, 21.6ms inference, 2.7ms postprocess per image at shape (1, 3, 480, 640)\n",
      "tensor([], device='cuda:0', size=(0, 6))\n",
      "\n",
      "0: 480x640 (no detections), 21.6ms\n",
      "Speed: 1.4ms preprocess, 21.6ms inference, 2.5ms postprocess per image at shape (1, 3, 480, 640)\n",
      "tensor([], device='cuda:0', size=(0, 6))\n",
      "\n",
      "0: 480x640 (no detections), 21.6ms\n",
      "Speed: 1.2ms preprocess, 21.6ms inference, 2.1ms postprocess per image at shape (1, 3, 480, 640)\n",
      "tensor([], device='cuda:0', size=(0, 6))\n",
      "\n",
      "0: 480x640 (no detections), 21.6ms\n",
      "Speed: 1.0ms preprocess, 21.6ms inference, 2.3ms postprocess per image at shape (1, 3, 480, 640)\n",
      "tensor([], device='cuda:0', size=(0, 6))\n",
      "\n",
      "0: 480x640 (no detections), 21.7ms\n",
      "Speed: 1.5ms preprocess, 21.7ms inference, 2.2ms postprocess per image at shape (1, 3, 480, 640)\n",
      "tensor([], device='cuda:0', size=(0, 6))\n",
      "\n",
      "0: 480x640 (no detections), 21.6ms\n",
      "Speed: 1.3ms preprocess, 21.6ms inference, 2.6ms postprocess per image at shape (1, 3, 480, 640)\n",
      "tensor([], device='cuda:0', size=(0, 6))\n",
      "\n",
      "0: 480x640 (no detections), 21.7ms\n",
      "Speed: 1.0ms preprocess, 21.7ms inference, 1.9ms postprocess per image at shape (1, 3, 480, 640)\n",
      "tensor([], device='cuda:0', size=(0, 6))\n",
      "\n",
      "0: 480x640 (no detections), 21.6ms\n",
      "Speed: 1.0ms preprocess, 21.6ms inference, 2.3ms postprocess per image at shape (1, 3, 480, 640)\n",
      "tensor([], device='cuda:0', size=(0, 6))\n",
      "\n",
      "0: 480x640 (no detections), 21.5ms\n",
      "Speed: 1.1ms preprocess, 21.5ms inference, 2.8ms postprocess per image at shape (1, 3, 480, 640)\n",
      "tensor([], device='cuda:0', size=(0, 6))\n",
      "\n",
      "0: 480x640 (no detections), 21.7ms\n",
      "Speed: 1.4ms preprocess, 21.7ms inference, 2.3ms postprocess per image at shape (1, 3, 480, 640)\n",
      "tensor([], device='cuda:0', size=(0, 6))\n",
      "\n",
      "0: 480x640 (no detections), 21.8ms\n",
      "Speed: 0.9ms preprocess, 21.8ms inference, 10.4ms postprocess per image at shape (1, 3, 480, 640)\n",
      "tensor([], device='cuda:0', size=(0, 6))\n",
      "\n",
      "0: 480x640 (no detections), 35.0ms\n",
      "Speed: 1.2ms preprocess, 35.0ms inference, 9.3ms postprocess per image at shape (1, 3, 480, 640)\n",
      "tensor([], device='cuda:0', size=(0, 6))\n",
      "\n",
      "0: 480x640 (no detections), 21.7ms\n",
      "Speed: 1.2ms preprocess, 21.7ms inference, 2.7ms postprocess per image at shape (1, 3, 480, 640)\n",
      "tensor([], device='cuda:0', size=(0, 6))\n",
      "\n",
      "0: 480x640 (no detections), 21.7ms\n",
      "Speed: 1.1ms preprocess, 21.7ms inference, 2.3ms postprocess per image at shape (1, 3, 480, 640)\n",
      "tensor([], device='cuda:0', size=(0, 6))\n",
      "\n",
      "0: 480x640 (no detections), 21.6ms\n",
      "Speed: 0.9ms preprocess, 21.6ms inference, 2.9ms postprocess per image at shape (1, 3, 480, 640)\n",
      "tensor([], device='cuda:0', size=(0, 6))\n",
      "\n",
      "0: 480x640 (no detections), 21.7ms\n",
      "Speed: 1.1ms preprocess, 21.7ms inference, 2.4ms postprocess per image at shape (1, 3, 480, 640)\n",
      "tensor([], device='cuda:0', size=(0, 6))\n",
      "\n",
      "0: 480x640 (no detections), 21.6ms\n",
      "Speed: 1.0ms preprocess, 21.6ms inference, 2.1ms postprocess per image at shape (1, 3, 480, 640)\n",
      "tensor([], device='cuda:0', size=(0, 6))\n",
      "\n",
      "0: 480x640 (no detections), 21.6ms\n",
      "Speed: 1.2ms preprocess, 21.6ms inference, 2.2ms postprocess per image at shape (1, 3, 480, 640)\n",
      "tensor([], device='cuda:0', size=(0, 6))\n",
      "\n",
      "0: 480x640 (no detections), 21.6ms\n",
      "Speed: 1.1ms preprocess, 21.6ms inference, 2.2ms postprocess per image at shape (1, 3, 480, 640)\n",
      "tensor([], device='cuda:0', size=(0, 6))\n",
      "\n",
      "0: 480x640 (no detections), 21.7ms\n",
      "Speed: 1.3ms preprocess, 21.7ms inference, 1.8ms postprocess per image at shape (1, 3, 480, 640)\n",
      "tensor([], device='cuda:0', size=(0, 6))\n",
      "\n",
      "0: 480x640 (no detections), 21.7ms\n",
      "Speed: 1.0ms preprocess, 21.7ms inference, 2.3ms postprocess per image at shape (1, 3, 480, 640)\n",
      "tensor([], device='cuda:0', size=(0, 6))\n",
      "\n",
      "0: 480x640 (no detections), 21.7ms\n",
      "Speed: 1.0ms preprocess, 21.7ms inference, 2.0ms postprocess per image at shape (1, 3, 480, 640)\n",
      "tensor([], device='cuda:0', size=(0, 6))\n",
      "\n",
      "0: 480x640 (no detections), 28.2ms\n",
      "Speed: 1.3ms preprocess, 28.2ms inference, 2.9ms postprocess per image at shape (1, 3, 480, 640)\n",
      "tensor([], device='cuda:0', size=(0, 6))\n",
      "\n",
      "0: 480x640 (no detections), 21.7ms\n",
      "Speed: 1.6ms preprocess, 21.7ms inference, 2.2ms postprocess per image at shape (1, 3, 480, 640)\n",
      "tensor([], device='cuda:0', size=(0, 6))\n",
      "\n",
      "0: 480x640 (no detections), 21.8ms\n",
      "Speed: 1.6ms preprocess, 21.8ms inference, 1.9ms postprocess per image at shape (1, 3, 480, 640)\n",
      "tensor([], device='cuda:0', size=(0, 6))\n",
      "\n",
      "0: 480x640 (no detections), 21.7ms\n",
      "Speed: 1.2ms preprocess, 21.7ms inference, 2.4ms postprocess per image at shape (1, 3, 480, 640)\n",
      "tensor([], device='cuda:0', size=(0, 6))\n",
      "\n",
      "0: 480x640 (no detections), 21.7ms\n",
      "Speed: 1.1ms preprocess, 21.7ms inference, 2.3ms postprocess per image at shape (1, 3, 480, 640)\n",
      "tensor([], device='cuda:0', size=(0, 6))\n",
      "\n",
      "0: 480x640 (no detections), 21.7ms\n",
      "Speed: 1.1ms preprocess, 21.7ms inference, 2.1ms postprocess per image at shape (1, 3, 480, 640)\n",
      "tensor([], device='cuda:0', size=(0, 6))\n",
      "\n",
      "0: 480x640 (no detections), 21.6ms\n",
      "Speed: 1.0ms preprocess, 21.6ms inference, 2.3ms postprocess per image at shape (1, 3, 480, 640)\n",
      "tensor([], device='cuda:0', size=(0, 6))\n",
      "\n",
      "0: 480x640 (no detections), 21.5ms\n",
      "Speed: 1.3ms preprocess, 21.5ms inference, 2.1ms postprocess per image at shape (1, 3, 480, 640)\n",
      "tensor([], device='cuda:0', size=(0, 6))\n",
      "\n",
      "0: 480x640 (no detections), 21.6ms\n",
      "Speed: 1.5ms preprocess, 21.6ms inference, 1.8ms postprocess per image at shape (1, 3, 480, 640)\n",
      "tensor([], device='cuda:0', size=(0, 6))\n",
      "\n",
      "0: 480x640 (no detections), 21.6ms\n",
      "Speed: 1.7ms preprocess, 21.6ms inference, 2.1ms postprocess per image at shape (1, 3, 480, 640)\n",
      "tensor([], device='cuda:0', size=(0, 6))\n",
      "\n",
      "0: 480x640 (no detections), 21.7ms\n",
      "Speed: 1.2ms preprocess, 21.7ms inference, 2.2ms postprocess per image at shape (1, 3, 480, 640)\n",
      "tensor([], device='cuda:0', size=(0, 6))\n",
      "\n",
      "0: 480x640 (no detections), 21.6ms\n",
      "Speed: 1.2ms preprocess, 21.6ms inference, 2.5ms postprocess per image at shape (1, 3, 480, 640)\n",
      "tensor([], device='cuda:0', size=(0, 6))\n",
      "\n",
      "0: 480x640 (no detections), 21.6ms\n",
      "Speed: 1.3ms preprocess, 21.6ms inference, 2.0ms postprocess per image at shape (1, 3, 480, 640)\n",
      "tensor([], device='cuda:0', size=(0, 6))\n",
      "\n",
      "0: 480x640 (no detections), 21.6ms\n",
      "Speed: 1.2ms preprocess, 21.6ms inference, 2.5ms postprocess per image at shape (1, 3, 480, 640)\n",
      "tensor([], device='cuda:0', size=(0, 6))\n",
      "\n",
      "0: 480x640 (no detections), 21.6ms\n",
      "Speed: 1.2ms preprocess, 21.6ms inference, 2.2ms postprocess per image at shape (1, 3, 480, 640)\n",
      "tensor([], device='cuda:0', size=(0, 6))\n",
      "\n",
      "0: 480x640 (no detections), 21.6ms\n",
      "Speed: 1.5ms preprocess, 21.6ms inference, 2.5ms postprocess per image at shape (1, 3, 480, 640)\n",
      "tensor([], device='cuda:0', size=(0, 6))\n",
      "\n",
      "0: 480x640 (no detections), 21.6ms\n",
      "Speed: 1.1ms preprocess, 21.6ms inference, 2.4ms postprocess per image at shape (1, 3, 480, 640)\n",
      "tensor([], device='cuda:0', size=(0, 6))\n",
      "\n",
      "0: 480x640 (no detections), 21.5ms\n",
      "Speed: 1.3ms preprocess, 21.5ms inference, 2.1ms postprocess per image at shape (1, 3, 480, 640)\n",
      "tensor([], device='cuda:0', size=(0, 6))\n",
      "\n",
      "0: 480x640 (no detections), 21.6ms\n",
      "Speed: 1.1ms preprocess, 21.6ms inference, 2.2ms postprocess per image at shape (1, 3, 480, 640)\n",
      "tensor([], device='cuda:0', size=(0, 6))\n",
      "\n",
      "0: 480x640 (no detections), 21.6ms\n",
      "Speed: 1.1ms preprocess, 21.6ms inference, 2.1ms postprocess per image at shape (1, 3, 480, 640)\n",
      "tensor([], device='cuda:0', size=(0, 6))\n",
      "\n",
      "0: 480x640 (no detections), 21.6ms\n",
      "Speed: 1.5ms preprocess, 21.6ms inference, 2.9ms postprocess per image at shape (1, 3, 480, 640)\n",
      "tensor([], device='cuda:0', size=(0, 6))\n",
      "\n",
      "0: 480x640 (no detections), 21.6ms\n",
      "Speed: 1.1ms preprocess, 21.6ms inference, 2.1ms postprocess per image at shape (1, 3, 480, 640)\n",
      "tensor([], device='cuda:0', size=(0, 6))\n",
      "\n",
      "0: 480x640 (no detections), 29.6ms\n",
      "Speed: 2.8ms preprocess, 29.6ms inference, 7.4ms postprocess per image at shape (1, 3, 480, 640)\n",
      "tensor([], device='cuda:0', size=(0, 6))\n",
      "\n",
      "0: 480x640 (no detections), 21.7ms\n",
      "Speed: 1.7ms preprocess, 21.7ms inference, 2.0ms postprocess per image at shape (1, 3, 480, 640)\n",
      "tensor([], device='cuda:0', size=(0, 6))\n",
      "\n",
      "0: 480x640 (no detections), 21.6ms\n",
      "Speed: 1.0ms preprocess, 21.6ms inference, 2.2ms postprocess per image at shape (1, 3, 480, 640)\n",
      "tensor([], device='cuda:0', size=(0, 6))\n",
      "\n",
      "0: 480x640 (no detections), 21.6ms\n",
      "Speed: 1.6ms preprocess, 21.6ms inference, 2.6ms postprocess per image at shape (1, 3, 480, 640)\n",
      "tensor([], device='cuda:0', size=(0, 6))\n",
      "\n",
      "0: 480x640 (no detections), 21.5ms\n",
      "Speed: 1.2ms preprocess, 21.5ms inference, 2.3ms postprocess per image at shape (1, 3, 480, 640)\n",
      "tensor([], device='cuda:0', size=(0, 6))\n",
      "\n",
      "0: 480x640 (no detections), 21.6ms\n",
      "Speed: 1.2ms preprocess, 21.6ms inference, 2.1ms postprocess per image at shape (1, 3, 480, 640)\n",
      "tensor([], device='cuda:0', size=(0, 6))\n",
      "\n",
      "0: 480x640 (no detections), 21.6ms\n",
      "Speed: 1.5ms preprocess, 21.6ms inference, 2.0ms postprocess per image at shape (1, 3, 480, 640)\n",
      "tensor([], device='cuda:0', size=(0, 6))\n",
      "\n",
      "0: 480x640 (no detections), 21.7ms\n",
      "Speed: 1.1ms preprocess, 21.7ms inference, 2.1ms postprocess per image at shape (1, 3, 480, 640)\n",
      "tensor([], device='cuda:0', size=(0, 6))\n",
      "\n",
      "0: 480x640 (no detections), 21.1ms\n",
      "Speed: 1.3ms preprocess, 21.1ms inference, 2.5ms postprocess per image at shape (1, 3, 480, 640)\n",
      "tensor([], device='cuda:0', size=(0, 6))\n",
      "\n",
      "0: 480x640 (no detections), 21.0ms\n",
      "Speed: 1.0ms preprocess, 21.0ms inference, 2.5ms postprocess per image at shape (1, 3, 480, 640)\n",
      "tensor([], device='cuda:0', size=(0, 6))\n",
      "\n",
      "0: 480x640 (no detections), 21.8ms\n",
      "Speed: 1.4ms preprocess, 21.8ms inference, 3.3ms postprocess per image at shape (1, 3, 480, 640)\n",
      "tensor([], device='cuda:0', size=(0, 6))\n",
      "\n",
      "0: 480x640 (no detections), 21.0ms\n",
      "Speed: 1.3ms preprocess, 21.0ms inference, 2.1ms postprocess per image at shape (1, 3, 480, 640)\n",
      "tensor([], device='cuda:0', size=(0, 6))\n",
      "\n",
      "0: 480x640 (no detections), 21.1ms\n",
      "Speed: 1.0ms preprocess, 21.1ms inference, 2.3ms postprocess per image at shape (1, 3, 480, 640)\n",
      "tensor([], device='cuda:0', size=(0, 6))\n",
      "\n",
      "0: 480x640 (no detections), 21.1ms\n",
      "Speed: 1.3ms preprocess, 21.1ms inference, 2.5ms postprocess per image at shape (1, 3, 480, 640)\n",
      "tensor([], device='cuda:0', size=(0, 6))\n",
      "\n",
      "0: 480x640 (no detections), 21.0ms\n",
      "Speed: 1.0ms preprocess, 21.0ms inference, 2.4ms postprocess per image at shape (1, 3, 480, 640)\n",
      "tensor([], device='cuda:0', size=(0, 6))\n",
      "\n",
      "0: 480x640 (no detections), 21.2ms\n",
      "Speed: 1.1ms preprocess, 21.2ms inference, 1.8ms postprocess per image at shape (1, 3, 480, 640)\n",
      "tensor([], device='cuda:0', size=(0, 6))\n",
      "\n",
      "0: 480x640 (no detections), 21.1ms\n",
      "Speed: 1.0ms preprocess, 21.1ms inference, 2.1ms postprocess per image at shape (1, 3, 480, 640)\n",
      "tensor([], device='cuda:0', size=(0, 6))\n",
      "\n",
      "0: 480x640 (no detections), 21.1ms\n",
      "Speed: 1.1ms preprocess, 21.1ms inference, 2.0ms postprocess per image at shape (1, 3, 480, 640)\n",
      "tensor([], device='cuda:0', size=(0, 6))\n",
      "\n",
      "0: 480x640 (no detections), 21.0ms\n",
      "Speed: 1.2ms preprocess, 21.0ms inference, 2.2ms postprocess per image at shape (1, 3, 480, 640)\n",
      "tensor([], device='cuda:0', size=(0, 6))\n",
      "\n",
      "0: 480x640 (no detections), 21.0ms\n",
      "Speed: 1.0ms preprocess, 21.0ms inference, 2.7ms postprocess per image at shape (1, 3, 480, 640)\n",
      "tensor([], device='cuda:0', size=(0, 6))\n",
      "\n",
      "0: 480x640 (no detections), 21.0ms\n",
      "Speed: 1.3ms preprocess, 21.0ms inference, 2.4ms postprocess per image at shape (1, 3, 480, 640)\n",
      "tensor([], device='cuda:0', size=(0, 6))\n",
      "\n",
      "0: 480x640 (no detections), 21.0ms\n",
      "Speed: 1.4ms preprocess, 21.0ms inference, 4.3ms postprocess per image at shape (1, 3, 480, 640)\n",
      "tensor([], device='cuda:0', size=(0, 6))\n",
      "\n",
      "0: 480x640 (no detections), 21.1ms\n",
      "Speed: 1.1ms preprocess, 21.1ms inference, 4.1ms postprocess per image at shape (1, 3, 480, 640)\n",
      "tensor([], device='cuda:0', size=(0, 6))\n",
      "\n",
      "0: 480x640 (no detections), 21.0ms\n",
      "Speed: 1.1ms preprocess, 21.0ms inference, 3.7ms postprocess per image at shape (1, 3, 480, 640)\n",
      "tensor([], device='cuda:0', size=(0, 6))\n",
      "\n",
      "0: 480x640 (no detections), 21.0ms\n",
      "Speed: 1.1ms preprocess, 21.0ms inference, 4.6ms postprocess per image at shape (1, 3, 480, 640)\n",
      "tensor([], device='cuda:0', size=(0, 6))\n",
      "\n",
      "0: 480x640 (no detections), 21.0ms\n",
      "Speed: 1.1ms preprocess, 21.0ms inference, 3.3ms postprocess per image at shape (1, 3, 480, 640)\n",
      "tensor([], device='cuda:0', size=(0, 6))\n",
      "\n",
      "0: 480x640 (no detections), 21.1ms\n",
      "Speed: 0.9ms preprocess, 21.1ms inference, 3.7ms postprocess per image at shape (1, 3, 480, 640)\n",
      "tensor([], device='cuda:0', size=(0, 6))\n",
      "\n",
      "0: 480x640 (no detections), 21.0ms\n",
      "Speed: 1.0ms preprocess, 21.0ms inference, 3.3ms postprocess per image at shape (1, 3, 480, 640)\n",
      "tensor([], device='cuda:0', size=(0, 6))\n",
      "\n",
      "0: 480x640 (no detections), 21.1ms\n",
      "Speed: 1.0ms preprocess, 21.1ms inference, 2.9ms postprocess per image at shape (1, 3, 480, 640)\n",
      "tensor([], device='cuda:0', size=(0, 6))\n",
      "\n",
      "0: 480x640 (no detections), 21.0ms\n",
      "Speed: 0.9ms preprocess, 21.0ms inference, 3.4ms postprocess per image at shape (1, 3, 480, 640)\n",
      "tensor([], device='cuda:0', size=(0, 6))\n",
      "\n",
      "0: 480x640 (no detections), 21.2ms\n",
      "Speed: 1.3ms preprocess, 21.2ms inference, 3.5ms postprocess per image at shape (1, 3, 480, 640)\n",
      "tensor([], device='cuda:0', size=(0, 6))\n",
      "\n",
      "0: 480x640 (no detections), 21.0ms\n",
      "Speed: 1.8ms preprocess, 21.0ms inference, 6.0ms postprocess per image at shape (1, 3, 480, 640)\n",
      "tensor([], device='cuda:0', size=(0, 6))\n",
      "\n",
      "0: 480x640 (no detections), 21.0ms\n",
      "Speed: 1.0ms preprocess, 21.0ms inference, 3.4ms postprocess per image at shape (1, 3, 480, 640)\n",
      "tensor([], device='cuda:0', size=(0, 6))\n",
      "\n",
      "0: 480x640 (no detections), 21.0ms\n",
      "Speed: 1.2ms preprocess, 21.0ms inference, 3.2ms postprocess per image at shape (1, 3, 480, 640)\n",
      "tensor([], device='cuda:0', size=(0, 6))\n",
      "\n",
      "0: 480x640 (no detections), 21.0ms\n",
      "Speed: 1.0ms preprocess, 21.0ms inference, 3.0ms postprocess per image at shape (1, 3, 480, 640)\n",
      "tensor([], device='cuda:0', size=(0, 6))\n",
      "\n",
      "0: 480x640 (no detections), 21.1ms\n",
      "Speed: 1.2ms preprocess, 21.1ms inference, 2.8ms postprocess per image at shape (1, 3, 480, 640)\n",
      "tensor([], device='cuda:0', size=(0, 6))\n",
      "\n",
      "0: 480x640 (no detections), 21.1ms\n",
      "Speed: 1.0ms preprocess, 21.1ms inference, 3.4ms postprocess per image at shape (1, 3, 480, 640)\n",
      "tensor([], device='cuda:0', size=(0, 6))\n",
      "\n",
      "0: 480x640 (no detections), 21.0ms\n",
      "Speed: 1.2ms preprocess, 21.0ms inference, 3.6ms postprocess per image at shape (1, 3, 480, 640)\n",
      "tensor([], device='cuda:0', size=(0, 6))\n",
      "\n",
      "0: 480x640 (no detections), 21.4ms\n",
      "Speed: 0.9ms preprocess, 21.4ms inference, 2.0ms postprocess per image at shape (1, 3, 480, 640)\n",
      "tensor([], device='cuda:0', size=(0, 6))\n",
      "\n",
      "0: 480x640 (no detections), 21.5ms\n",
      "Speed: 1.0ms preprocess, 21.5ms inference, 2.4ms postprocess per image at shape (1, 3, 480, 640)\n",
      "tensor([], device='cuda:0', size=(0, 6))\n",
      "\n",
      "0: 480x640 (no detections), 21.5ms\n",
      "Speed: 1.3ms preprocess, 21.5ms inference, 2.3ms postprocess per image at shape (1, 3, 480, 640)\n",
      "tensor([], device='cuda:0', size=(0, 6))\n",
      "\n",
      "0: 480x640 (no detections), 21.7ms\n",
      "Speed: 1.3ms preprocess, 21.7ms inference, 4.4ms postprocess per image at shape (1, 3, 480, 640)\n",
      "tensor([], device='cuda:0', size=(0, 6))\n",
      "\n",
      "0: 480x640 (no detections), 21.7ms\n",
      "Speed: 1.1ms preprocess, 21.7ms inference, 2.1ms postprocess per image at shape (1, 3, 480, 640)\n",
      "tensor([], device='cuda:0', size=(0, 6))\n",
      "\n",
      "0: 480x640 (no detections), 21.7ms\n",
      "Speed: 1.7ms preprocess, 21.7ms inference, 1.9ms postprocess per image at shape (1, 3, 480, 640)\n",
      "tensor([], device='cuda:0', size=(0, 6))\n",
      "\n",
      "0: 480x640 (no detections), 21.7ms\n",
      "Speed: 1.3ms preprocess, 21.7ms inference, 2.4ms postprocess per image at shape (1, 3, 480, 640)\n",
      "tensor([], device='cuda:0', size=(0, 6))\n",
      "\n",
      "0: 480x640 (no detections), 21.7ms\n",
      "Speed: 1.1ms preprocess, 21.7ms inference, 2.1ms postprocess per image at shape (1, 3, 480, 640)\n",
      "tensor([], device='cuda:0', size=(0, 6))\n",
      "\n",
      "0: 480x640 (no detections), 21.7ms\n",
      "Speed: 1.2ms preprocess, 21.7ms inference, 2.6ms postprocess per image at shape (1, 3, 480, 640)\n",
      "tensor([], device='cuda:0', size=(0, 6))\n",
      "\n",
      "0: 480x640 (no detections), 21.7ms\n",
      "Speed: 1.0ms preprocess, 21.7ms inference, 2.2ms postprocess per image at shape (1, 3, 480, 640)\n",
      "tensor([], device='cuda:0', size=(0, 6))\n",
      "\n",
      "0: 480x640 (no detections), 21.7ms\n",
      "Speed: 1.5ms preprocess, 21.7ms inference, 2.2ms postprocess per image at shape (1, 3, 480, 640)\n",
      "tensor([], device='cuda:0', size=(0, 6))\n",
      "\n",
      "0: 480x640 (no detections), 21.7ms\n",
      "Speed: 1.1ms preprocess, 21.7ms inference, 2.5ms postprocess per image at shape (1, 3, 480, 640)\n",
      "tensor([], device='cuda:0', size=(0, 6))\n",
      "\n",
      "0: 480x640 (no detections), 21.7ms\n",
      "Speed: 1.3ms preprocess, 21.7ms inference, 2.1ms postprocess per image at shape (1, 3, 480, 640)\n",
      "tensor([], device='cuda:0', size=(0, 6))\n",
      "\n",
      "0: 480x640 (no detections), 28.7ms\n",
      "Speed: 1.3ms preprocess, 28.7ms inference, 3.7ms postprocess per image at shape (1, 3, 480, 640)\n",
      "tensor([], device='cuda:0', size=(0, 6))\n",
      "\n",
      "0: 480x640 (no detections), 22.0ms\n",
      "Speed: 1.5ms preprocess, 22.0ms inference, 2.3ms postprocess per image at shape (1, 3, 480, 640)\n",
      "tensor([], device='cuda:0', size=(0, 6))\n",
      "\n",
      "0: 480x640 (no detections), 21.9ms\n",
      "Speed: 1.2ms preprocess, 21.9ms inference, 2.2ms postprocess per image at shape (1, 3, 480, 640)\n",
      "tensor([], device='cuda:0', size=(0, 6))\n",
      "\n",
      "0: 480x640 (no detections), 21.9ms\n",
      "Speed: 1.0ms preprocess, 21.9ms inference, 2.9ms postprocess per image at shape (1, 3, 480, 640)\n",
      "tensor([], device='cuda:0', size=(0, 6))\n",
      "\n",
      "0: 480x640 (no detections), 22.0ms\n",
      "Speed: 1.7ms preprocess, 22.0ms inference, 2.9ms postprocess per image at shape (1, 3, 480, 640)\n",
      "tensor([], device='cuda:0', size=(0, 6))\n",
      "\n",
      "0: 480x640 (no detections), 22.0ms\n",
      "Speed: 1.0ms preprocess, 22.0ms inference, 2.3ms postprocess per image at shape (1, 3, 480, 640)\n",
      "tensor([], device='cuda:0', size=(0, 6))\n",
      "\n",
      "0: 480x640 (no detections), 21.9ms\n",
      "Speed: 1.1ms preprocess, 21.9ms inference, 2.4ms postprocess per image at shape (1, 3, 480, 640)\n",
      "tensor([], device='cuda:0', size=(0, 6))\n",
      "\n",
      "0: 480x640 (no detections), 21.9ms\n",
      "Speed: 1.0ms preprocess, 21.9ms inference, 2.8ms postprocess per image at shape (1, 3, 480, 640)\n",
      "tensor([], device='cuda:0', size=(0, 6))\n",
      "\n",
      "0: 480x640 (no detections), 22.4ms\n",
      "Speed: 1.0ms preprocess, 22.4ms inference, 2.6ms postprocess per image at shape (1, 3, 480, 640)\n",
      "tensor([], device='cuda:0', size=(0, 6))\n",
      "\n",
      "0: 480x640 (no detections), 23.2ms\n",
      "Speed: 1.0ms preprocess, 23.2ms inference, 2.5ms postprocess per image at shape (1, 3, 480, 640)\n",
      "tensor([], device='cuda:0', size=(0, 6))\n",
      "\n",
      "0: 480x640 (no detections), 22.5ms\n",
      "Speed: 0.9ms preprocess, 22.5ms inference, 2.0ms postprocess per image at shape (1, 3, 480, 640)\n",
      "tensor([], device='cuda:0', size=(0, 6))\n",
      "\n",
      "0: 480x640 (no detections), 21.9ms\n",
      "Speed: 1.3ms preprocess, 21.9ms inference, 2.1ms postprocess per image at shape (1, 3, 480, 640)\n",
      "tensor([], device='cuda:0', size=(0, 6))\n",
      "\n",
      "0: 480x640 (no detections), 22.4ms\n",
      "Speed: 1.3ms preprocess, 22.4ms inference, 2.6ms postprocess per image at shape (1, 3, 480, 640)\n",
      "tensor([], device='cuda:0', size=(0, 6))\n",
      "\n",
      "0: 480x640 (no detections), 21.9ms\n",
      "Speed: 1.5ms preprocess, 21.9ms inference, 2.6ms postprocess per image at shape (1, 3, 480, 640)\n",
      "tensor([], device='cuda:0', size=(0, 6))\n",
      "\n",
      "0: 480x640 (no detections), 21.7ms\n",
      "Speed: 1.5ms preprocess, 21.7ms inference, 2.1ms postprocess per image at shape (1, 3, 480, 640)\n",
      "tensor([], device='cuda:0', size=(0, 6))\n",
      "\n",
      "0: 480x640 (no detections), 21.5ms\n",
      "Speed: 1.1ms preprocess, 21.5ms inference, 2.0ms postprocess per image at shape (1, 3, 480, 640)\n",
      "tensor([], device='cuda:0', size=(0, 6))\n",
      "\n",
      "0: 480x640 (no detections), 22.6ms\n",
      "Speed: 1.0ms preprocess, 22.6ms inference, 2.9ms postprocess per image at shape (1, 3, 480, 640)\n",
      "tensor([], device='cuda:0', size=(0, 6))\n",
      "\n",
      "0: 480x640 (no detections), 21.2ms\n",
      "Speed: 1.8ms preprocess, 21.2ms inference, 2.2ms postprocess per image at shape (1, 3, 480, 640)\n",
      "tensor([], device='cuda:0', size=(0, 6))\n",
      "\n",
      "0: 480x640 (no detections), 23.2ms\n",
      "Speed: 0.9ms preprocess, 23.2ms inference, 2.2ms postprocess per image at shape (1, 3, 480, 640)\n",
      "tensor([], device='cuda:0', size=(0, 6))\n",
      "\n",
      "0: 480x640 (no detections), 23.2ms\n",
      "Speed: 1.0ms preprocess, 23.2ms inference, 2.6ms postprocess per image at shape (1, 3, 480, 640)\n",
      "tensor([], device='cuda:0', size=(0, 6))\n",
      "\n",
      "0: 480x640 (no detections), 22.2ms\n",
      "Speed: 0.9ms preprocess, 22.2ms inference, 2.9ms postprocess per image at shape (1, 3, 480, 640)\n",
      "tensor([], device='cuda:0', size=(0, 6))\n",
      "\n",
      "0: 480x640 (no detections), 21.6ms\n",
      "Speed: 1.3ms preprocess, 21.6ms inference, 2.5ms postprocess per image at shape (1, 3, 480, 640)\n",
      "tensor([], device='cuda:0', size=(0, 6))\n",
      "\n",
      "0: 480x640 (no detections), 22.6ms\n",
      "Speed: 1.0ms preprocess, 22.6ms inference, 2.1ms postprocess per image at shape (1, 3, 480, 640)\n",
      "tensor([], device='cuda:0', size=(0, 6))\n",
      "\n",
      "0: 480x640 (no detections), 23.5ms\n",
      "Speed: 0.9ms preprocess, 23.5ms inference, 2.1ms postprocess per image at shape (1, 3, 480, 640)\n",
      "tensor([], device='cuda:0', size=(0, 6))\n",
      "\n",
      "0: 480x640 (no detections), 22.5ms\n",
      "Speed: 1.3ms preprocess, 22.5ms inference, 2.1ms postprocess per image at shape (1, 3, 480, 640)\n",
      "tensor([], device='cuda:0', size=(0, 6))\n",
      "\n",
      "0: 480x640 (no detections), 21.9ms\n",
      "Speed: 1.1ms preprocess, 21.9ms inference, 3.5ms postprocess per image at shape (1, 3, 480, 640)\n",
      "tensor([], device='cuda:0', size=(0, 6))\n",
      "\n",
      "0: 480x640 (no detections), 38.3ms\n",
      "Speed: 1.7ms preprocess, 38.3ms inference, 3.6ms postprocess per image at shape (1, 3, 480, 640)\n",
      "tensor([], device='cuda:0', size=(0, 6))\n",
      "\n",
      "0: 480x640 (no detections), 20.0ms\n",
      "Speed: 1.4ms preprocess, 20.0ms inference, 2.3ms postprocess per image at shape (1, 3, 480, 640)\n",
      "tensor([], device='cuda:0', size=(0, 6))\n",
      "\n",
      "0: 480x640 (no detections), 23.1ms\n",
      "Speed: 1.0ms preprocess, 23.1ms inference, 2.2ms postprocess per image at shape (1, 3, 480, 640)\n",
      "tensor([], device='cuda:0', size=(0, 6))\n",
      "\n",
      "0: 480x640 (no detections), 23.0ms\n",
      "Speed: 1.0ms preprocess, 23.0ms inference, 12.9ms postprocess per image at shape (1, 3, 480, 640)\n",
      "tensor([], device='cuda:0', size=(0, 6))\n",
      "\n",
      "0: 480x640 (no detections), 20.8ms\n",
      "Speed: 1.1ms preprocess, 20.8ms inference, 2.5ms postprocess per image at shape (1, 3, 480, 640)\n",
      "tensor([], device='cuda:0', size=(0, 6))\n",
      "\n",
      "0: 480x640 (no detections), 22.4ms\n",
      "Speed: 1.0ms preprocess, 22.4ms inference, 2.1ms postprocess per image at shape (1, 3, 480, 640)\n",
      "tensor([], device='cuda:0', size=(0, 6))\n",
      "\n",
      "0: 480x640 (no detections), 23.5ms\n",
      "Speed: 1.3ms preprocess, 23.5ms inference, 3.0ms postprocess per image at shape (1, 3, 480, 640)\n",
      "tensor([], device='cuda:0', size=(0, 6))\n",
      "\n",
      "0: 480x640 (no detections), 22.8ms\n",
      "Speed: 1.0ms preprocess, 22.8ms inference, 2.2ms postprocess per image at shape (1, 3, 480, 640)\n",
      "tensor([], device='cuda:0', size=(0, 6))\n",
      "\n",
      "0: 480x640 (no detections), 21.9ms\n",
      "Speed: 1.0ms preprocess, 21.9ms inference, 2.1ms postprocess per image at shape (1, 3, 480, 640)\n",
      "tensor([], device='cuda:0', size=(0, 6))\n",
      "\n",
      "0: 480x640 (no detections), 22.0ms\n",
      "Speed: 1.1ms preprocess, 22.0ms inference, 2.2ms postprocess per image at shape (1, 3, 480, 640)\n",
      "tensor([], device='cuda:0', size=(0, 6))\n",
      "\n",
      "0: 480x640 (no detections), 23.6ms\n",
      "Speed: 1.3ms preprocess, 23.6ms inference, 2.1ms postprocess per image at shape (1, 3, 480, 640)\n",
      "tensor([], device='cuda:0', size=(0, 6))\n",
      "\n",
      "0: 480x640 (no detections), 22.9ms\n",
      "Speed: 1.2ms preprocess, 22.9ms inference, 2.0ms postprocess per image at shape (1, 3, 480, 640)\n",
      "tensor([], device='cuda:0', size=(0, 6))\n",
      "\n",
      "0: 480x640 (no detections), 22.0ms\n",
      "Speed: 1.0ms preprocess, 22.0ms inference, 2.6ms postprocess per image at shape (1, 3, 480, 640)\n",
      "tensor([], device='cuda:0', size=(0, 6))\n",
      "\n",
      "0: 480x640 (no detections), 29.4ms\n",
      "Speed: 1.2ms preprocess, 29.4ms inference, 3.9ms postprocess per image at shape (1, 3, 480, 640)\n",
      "tensor([], device='cuda:0', size=(0, 6))\n",
      "\n",
      "0: 480x640 (no detections), 20.8ms\n",
      "Speed: 1.3ms preprocess, 20.8ms inference, 2.8ms postprocess per image at shape (1, 3, 480, 640)\n",
      "tensor([], device='cuda:0', size=(0, 6))\n",
      "\n",
      "0: 480x640 (no detections), 22.8ms\n",
      "Speed: 0.9ms preprocess, 22.8ms inference, 2.3ms postprocess per image at shape (1, 3, 480, 640)\n",
      "tensor([], device='cuda:0', size=(0, 6))\n",
      "\n",
      "0: 480x640 (no detections), 22.0ms\n",
      "Speed: 1.5ms preprocess, 22.0ms inference, 2.2ms postprocess per image at shape (1, 3, 480, 640)\n",
      "tensor([], device='cuda:0', size=(0, 6))\n",
      "\n",
      "0: 480x640 (no detections), 21.5ms\n",
      "Speed: 1.4ms preprocess, 21.5ms inference, 2.2ms postprocess per image at shape (1, 3, 480, 640)\n",
      "tensor([], device='cuda:0', size=(0, 6))\n",
      "\n",
      "0: 480x640 (no detections), 22.5ms\n",
      "Speed: 1.1ms preprocess, 22.5ms inference, 2.3ms postprocess per image at shape (1, 3, 480, 640)\n",
      "tensor([], device='cuda:0', size=(0, 6))\n",
      "\n",
      "0: 480x640 (no detections), 23.2ms\n",
      "Speed: 1.3ms preprocess, 23.2ms inference, 3.0ms postprocess per image at shape (1, 3, 480, 640)\n",
      "tensor([], device='cuda:0', size=(0, 6))\n",
      "\n",
      "0: 480x640 (no detections), 22.9ms\n",
      "Speed: 1.1ms preprocess, 22.9ms inference, 2.4ms postprocess per image at shape (1, 3, 480, 640)\n",
      "tensor([], device='cuda:0', size=(0, 6))\n",
      "\n",
      "0: 480x640 (no detections), 22.5ms\n",
      "Speed: 0.9ms preprocess, 22.5ms inference, 2.4ms postprocess per image at shape (1, 3, 480, 640)\n",
      "tensor([], device='cuda:0', size=(0, 6))\n",
      "\n",
      "0: 480x640 (no detections), 21.7ms\n",
      "Speed: 1.4ms preprocess, 21.7ms inference, 2.3ms postprocess per image at shape (1, 3, 480, 640)\n",
      "tensor([], device='cuda:0', size=(0, 6))\n",
      "\n",
      "0: 480x640 (no detections), 22.0ms\n",
      "Speed: 1.2ms preprocess, 22.0ms inference, 2.0ms postprocess per image at shape (1, 3, 480, 640)\n",
      "tensor([], device='cuda:0', size=(0, 6))\n",
      "\n",
      "0: 480x640 (no detections), 23.4ms\n",
      "Speed: 1.1ms preprocess, 23.4ms inference, 2.5ms postprocess per image at shape (1, 3, 480, 640)\n",
      "tensor([], device='cuda:0', size=(0, 6))\n",
      "\n",
      "0: 480x640 (no detections), 23.0ms\n",
      "Speed: 1.0ms preprocess, 23.0ms inference, 2.2ms postprocess per image at shape (1, 3, 480, 640)\n",
      "tensor([], device='cuda:0', size=(0, 6))\n",
      "\n",
      "0: 480x640 (no detections), 22.1ms\n",
      "Speed: 1.1ms preprocess, 22.1ms inference, 5.8ms postprocess per image at shape (1, 3, 480, 640)\n",
      "tensor([], device='cuda:0', size=(0, 6))\n",
      "\n",
      "0: 480x640 (no detections), 21.4ms\n",
      "Speed: 1.1ms preprocess, 21.4ms inference, 2.0ms postprocess per image at shape (1, 3, 480, 640)\n",
      "tensor([], device='cuda:0', size=(0, 6))\n",
      "\n",
      "0: 480x640 (no detections), 21.4ms\n",
      "Speed: 1.1ms preprocess, 21.4ms inference, 2.4ms postprocess per image at shape (1, 3, 480, 640)\n",
      "tensor([], device='cuda:0', size=(0, 6))\n",
      "\n",
      "0: 480x640 (no detections), 21.6ms\n",
      "Speed: 1.2ms preprocess, 21.6ms inference, 2.4ms postprocess per image at shape (1, 3, 480, 640)\n",
      "tensor([], device='cuda:0', size=(0, 6))\n",
      "\n",
      "0: 480x640 (no detections), 23.1ms\n",
      "Speed: 1.1ms preprocess, 23.1ms inference, 25.1ms postprocess per image at shape (1, 3, 480, 640)\n",
      "tensor([], device='cuda:0', size=(0, 6))\n",
      "\n",
      "0: 480x640 (no detections), 20.1ms\n",
      "Speed: 1.4ms preprocess, 20.1ms inference, 4.9ms postprocess per image at shape (1, 3, 480, 640)\n",
      "tensor([], device='cuda:0', size=(0, 6))\n",
      "\n",
      "0: 480x640 (no detections), 20.4ms\n",
      "Speed: 1.1ms preprocess, 20.4ms inference, 3.9ms postprocess per image at shape (1, 3, 480, 640)\n",
      "tensor([], device='cuda:0', size=(0, 6))\n",
      "\n",
      "0: 480x640 (no detections), 21.4ms\n",
      "Speed: 1.1ms preprocess, 21.4ms inference, 4.1ms postprocess per image at shape (1, 3, 480, 640)\n",
      "tensor([], device='cuda:0', size=(0, 6))\n",
      "\n",
      "0: 480x640 (no detections), 21.6ms\n",
      "Speed: 1.1ms preprocess, 21.6ms inference, 3.8ms postprocess per image at shape (1, 3, 480, 640)\n",
      "tensor([], device='cuda:0', size=(0, 6))\n",
      "\n",
      "0: 480x640 (no detections), 21.5ms\n",
      "Speed: 1.0ms preprocess, 21.5ms inference, 3.2ms postprocess per image at shape (1, 3, 480, 640)\n",
      "tensor([], device='cuda:0', size=(0, 6))\n",
      "\n",
      "0: 480x640 (no detections), 22.3ms\n",
      "Speed: 0.9ms preprocess, 22.3ms inference, 3.2ms postprocess per image at shape (1, 3, 480, 640)\n",
      "tensor([], device='cuda:0', size=(0, 6))\n",
      "\n",
      "0: 480x640 (no detections), 23.4ms\n",
      "Speed: 1.0ms preprocess, 23.4ms inference, 5.9ms postprocess per image at shape (1, 3, 480, 640)\n",
      "tensor([], device='cuda:0', size=(0, 6))\n",
      "\n",
      "0: 480x640 (no detections), 22.1ms\n",
      "Speed: 1.1ms preprocess, 22.1ms inference, 4.2ms postprocess per image at shape (1, 3, 480, 640)\n",
      "tensor([], device='cuda:0', size=(0, 6))\n",
      "\n",
      "0: 480x640 (no detections), 22.2ms\n",
      "Speed: 1.2ms preprocess, 22.2ms inference, 3.1ms postprocess per image at shape (1, 3, 480, 640)\n",
      "tensor([], device='cuda:0', size=(0, 6))\n",
      "\n",
      "0: 480x640 (no detections), 22.9ms\n",
      "Speed: 1.1ms preprocess, 22.9ms inference, 3.7ms postprocess per image at shape (1, 3, 480, 640)\n",
      "tensor([], device='cuda:0', size=(0, 6))\n",
      "\n",
      "0: 480x640 (no detections), 22.6ms\n",
      "Speed: 0.9ms preprocess, 22.6ms inference, 3.6ms postprocess per image at shape (1, 3, 480, 640)\n",
      "tensor([], device='cuda:0', size=(0, 6))\n",
      "\n",
      "0: 480x640 (no detections), 21.9ms\n",
      "Speed: 1.0ms preprocess, 21.9ms inference, 3.2ms postprocess per image at shape (1, 3, 480, 640)\n",
      "tensor([], device='cuda:0', size=(0, 6))\n",
      "\n",
      "0: 480x640 (no detections), 21.6ms\n",
      "Speed: 1.0ms preprocess, 21.6ms inference, 2.9ms postprocess per image at shape (1, 3, 480, 640)\n",
      "tensor([], device='cuda:0', size=(0, 6))\n",
      "\n",
      "0: 480x640 (no detections), 22.5ms\n",
      "Speed: 1.1ms preprocess, 22.5ms inference, 3.2ms postprocess per image at shape (1, 3, 480, 640)\n",
      "tensor([], device='cuda:0', size=(0, 6))\n",
      "\n",
      "0: 480x640 (no detections), 22.7ms\n",
      "Speed: 1.3ms preprocess, 22.7ms inference, 5.0ms postprocess per image at shape (1, 3, 480, 640)\n",
      "tensor([], device='cuda:0', size=(0, 6))\n",
      "\n",
      "0: 480x640 (no detections), 22.4ms\n",
      "Speed: 1.4ms preprocess, 22.4ms inference, 3.4ms postprocess per image at shape (1, 3, 480, 640)\n",
      "tensor([], device='cuda:0', size=(0, 6))\n",
      "\n",
      "0: 480x640 (no detections), 22.9ms\n",
      "Speed: 1.1ms preprocess, 22.9ms inference, 3.4ms postprocess per image at shape (1, 3, 480, 640)\n",
      "tensor([], device='cuda:0', size=(0, 6))\n",
      "\n",
      "0: 480x640 (no detections), 22.6ms\n",
      "Speed: 1.1ms preprocess, 22.6ms inference, 5.9ms postprocess per image at shape (1, 3, 480, 640)\n",
      "tensor([], device='cuda:0', size=(0, 6))\n",
      "\n",
      "0: 480x640 (no detections), 21.7ms\n",
      "Speed: 0.9ms preprocess, 21.7ms inference, 3.6ms postprocess per image at shape (1, 3, 480, 640)\n",
      "tensor([], device='cuda:0', size=(0, 6))\n",
      "\n",
      "0: 480x640 (no detections), 21.5ms\n",
      "Speed: 1.0ms preprocess, 21.5ms inference, 3.5ms postprocess per image at shape (1, 3, 480, 640)\n",
      "tensor([], device='cuda:0', size=(0, 6))\n",
      "\n",
      "0: 480x640 (no detections), 21.7ms\n",
      "Speed: 1.1ms preprocess, 21.7ms inference, 3.8ms postprocess per image at shape (1, 3, 480, 640)\n",
      "tensor([], device='cuda:0', size=(0, 6))\n",
      "\n",
      "0: 480x640 (no detections), 22.4ms\n",
      "Speed: 0.9ms preprocess, 22.4ms inference, 3.0ms postprocess per image at shape (1, 3, 480, 640)\n",
      "tensor([], device='cuda:0', size=(0, 6))\n",
      "\n",
      "0: 480x640 (no detections), 23.2ms\n",
      "Speed: 1.0ms preprocess, 23.2ms inference, 3.5ms postprocess per image at shape (1, 3, 480, 640)\n",
      "tensor([], device='cuda:0', size=(0, 6))\n",
      "\n",
      "0: 480x640 (no detections), 22.9ms\n",
      "Speed: 0.9ms preprocess, 22.9ms inference, 3.4ms postprocess per image at shape (1, 3, 480, 640)\n",
      "tensor([], device='cuda:0', size=(0, 6))\n",
      "\n",
      "0: 480x640 (no detections), 22.2ms\n",
      "Speed: 0.9ms preprocess, 22.2ms inference, 3.7ms postprocess per image at shape (1, 3, 480, 640)\n",
      "tensor([], device='cuda:0', size=(0, 6))\n",
      "\n",
      "0: 480x640 (no detections), 21.5ms\n",
      "Speed: 1.1ms preprocess, 21.5ms inference, 9.4ms postprocess per image at shape (1, 3, 480, 640)\n",
      "tensor([], device='cuda:0', size=(0, 6))\n",
      "\n",
      "0: 480x640 (no detections), 21.7ms\n",
      "Speed: 1.2ms preprocess, 21.7ms inference, 2.5ms postprocess per image at shape (1, 3, 480, 640)\n",
      "tensor([], device='cuda:0', size=(0, 6))\n",
      "\n",
      "0: 480x640 (no detections), 21.7ms\n",
      "Speed: 1.0ms preprocess, 21.7ms inference, 2.3ms postprocess per image at shape (1, 3, 480, 640)\n",
      "tensor([], device='cuda:0', size=(0, 6))\n",
      "\n",
      "0: 480x640 (no detections), 23.0ms\n",
      "Speed: 1.0ms preprocess, 23.0ms inference, 2.0ms postprocess per image at shape (1, 3, 480, 640)\n",
      "tensor([], device='cuda:0', size=(0, 6))\n",
      "\n",
      "0: 480x640 (no detections), 23.4ms\n",
      "Speed: 1.0ms preprocess, 23.4ms inference, 2.3ms postprocess per image at shape (1, 3, 480, 640)\n",
      "tensor([], device='cuda:0', size=(0, 6))\n",
      "\n",
      "0: 480x640 (no detections), 20.4ms\n",
      "Speed: 1.3ms preprocess, 20.4ms inference, 2.7ms postprocess per image at shape (1, 3, 480, 640)\n",
      "tensor([], device='cuda:0', size=(0, 6))\n",
      "\n",
      "0: 480x640 (no detections), 22.2ms\n",
      "Speed: 1.6ms preprocess, 22.2ms inference, 2.2ms postprocess per image at shape (1, 3, 480, 640)\n",
      "tensor([], device='cuda:0', size=(0, 6))\n",
      "\n",
      "0: 480x640 (no detections), 23.0ms\n",
      "Speed: 1.1ms preprocess, 23.0ms inference, 2.1ms postprocess per image at shape (1, 3, 480, 640)\n",
      "tensor([], device='cuda:0', size=(0, 6))\n",
      "\n",
      "0: 480x640 (no detections), 23.0ms\n",
      "Speed: 0.9ms preprocess, 23.0ms inference, 2.1ms postprocess per image at shape (1, 3, 480, 640)\n",
      "tensor([], device='cuda:0', size=(0, 6))\n",
      "\n",
      "0: 480x640 (no detections), 22.2ms\n",
      "Speed: 1.0ms preprocess, 22.2ms inference, 2.8ms postprocess per image at shape (1, 3, 480, 640)\n",
      "tensor([], device='cuda:0', size=(0, 6))\n",
      "\n",
      "0: 480x640 (no detections), 21.6ms\n",
      "Speed: 1.0ms preprocess, 21.6ms inference, 2.3ms postprocess per image at shape (1, 3, 480, 640)\n",
      "tensor([], device='cuda:0', size=(0, 6))\n",
      "\n",
      "0: 480x640 (no detections), 22.5ms\n",
      "Speed: 1.1ms preprocess, 22.5ms inference, 2.3ms postprocess per image at shape (1, 3, 480, 640)\n",
      "tensor([], device='cuda:0', size=(0, 6))\n",
      "\n",
      "0: 480x640 (no detections), 23.3ms\n",
      "Speed: 1.6ms preprocess, 23.3ms inference, 2.0ms postprocess per image at shape (1, 3, 480, 640)\n",
      "tensor([], device='cuda:0', size=(0, 6))\n",
      "\n",
      "0: 480x640 (no detections), 22.9ms\n",
      "Speed: 1.0ms preprocess, 22.9ms inference, 2.2ms postprocess per image at shape (1, 3, 480, 640)\n",
      "tensor([], device='cuda:0', size=(0, 6))\n",
      "\n",
      "0: 480x640 (no detections), 22.1ms\n",
      "Speed: 1.0ms preprocess, 22.1ms inference, 2.0ms postprocess per image at shape (1, 3, 480, 640)\n",
      "tensor([], device='cuda:0', size=(0, 6))\n",
      "\n",
      "0: 480x640 (no detections), 21.7ms\n",
      "Speed: 1.0ms preprocess, 21.7ms inference, 2.0ms postprocess per image at shape (1, 3, 480, 640)\n",
      "tensor([], device='cuda:0', size=(0, 6))\n",
      "\n",
      "0: 480x640 (no detections), 23.0ms\n",
      "Speed: 1.0ms preprocess, 23.0ms inference, 2.7ms postprocess per image at shape (1, 3, 480, 640)\n",
      "tensor([], device='cuda:0', size=(0, 6))\n",
      "\n",
      "0: 480x640 (no detections), 23.0ms\n",
      "Speed: 1.0ms preprocess, 23.0ms inference, 4.0ms postprocess per image at shape (1, 3, 480, 640)\n",
      "tensor([], device='cuda:0', size=(0, 6))\n",
      "\n",
      "0: 480x640 (no detections), 21.2ms\n",
      "Speed: 1.2ms preprocess, 21.2ms inference, 2.3ms postprocess per image at shape (1, 3, 480, 640)\n",
      "tensor([], device='cuda:0', size=(0, 6))\n",
      "\n",
      "0: 480x640 (no detections), 22.9ms\n",
      "Speed: 1.1ms preprocess, 22.9ms inference, 2.5ms postprocess per image at shape (1, 3, 480, 640)\n",
      "tensor([], device='cuda:0', size=(0, 6))\n",
      "\n",
      "0: 480x640 (no detections), 23.2ms\n",
      "Speed: 1.1ms preprocess, 23.2ms inference, 3.1ms postprocess per image at shape (1, 3, 480, 640)\n",
      "tensor([], device='cuda:0', size=(0, 6))\n",
      "\n",
      "0: 480x640 (no detections), 20.8ms\n",
      "Speed: 1.2ms preprocess, 20.8ms inference, 2.8ms postprocess per image at shape (1, 3, 480, 640)\n",
      "tensor([], device='cuda:0', size=(0, 6))\n",
      "\n",
      "0: 480x640 (no detections), 22.9ms\n",
      "Speed: 1.2ms preprocess, 22.9ms inference, 2.3ms postprocess per image at shape (1, 3, 480, 640)\n",
      "tensor([], device='cuda:0', size=(0, 6))\n",
      "\n",
      "0: 480x640 (no detections), 23.0ms\n",
      "Speed: 1.1ms preprocess, 23.0ms inference, 2.1ms postprocess per image at shape (1, 3, 480, 640)\n",
      "tensor([], device='cuda:0', size=(0, 6))\n",
      "\n",
      "0: 480x640 (no detections), 23.0ms\n",
      "Speed: 1.1ms preprocess, 23.0ms inference, 2.8ms postprocess per image at shape (1, 3, 480, 640)\n",
      "tensor([], device='cuda:0', size=(0, 6))\n",
      "\n",
      "0: 480x640 (no detections), 22.3ms\n",
      "Speed: 1.0ms preprocess, 22.3ms inference, 2.4ms postprocess per image at shape (1, 3, 480, 640)\n",
      "tensor([], device='cuda:0', size=(0, 6))\n",
      "\n",
      "0: 480x640 (no detections), 21.6ms\n",
      "Speed: 1.0ms preprocess, 21.6ms inference, 2.1ms postprocess per image at shape (1, 3, 480, 640)\n",
      "tensor([], device='cuda:0', size=(0, 6))\n",
      "\n",
      "0: 480x640 (no detections), 22.2ms\n",
      "Speed: 1.1ms preprocess, 22.2ms inference, 15.5ms postprocess per image at shape (1, 3, 480, 640)\n",
      "tensor([], device='cuda:0', size=(0, 6))\n",
      "\n",
      "0: 480x640 (no detections), 21.1ms\n",
      "Speed: 1.8ms preprocess, 21.1ms inference, 3.9ms postprocess per image at shape (1, 3, 480, 640)\n",
      "tensor([], device='cuda:0', size=(0, 6))\n",
      "\n",
      "0: 480x640 (no detections), 22.1ms\n",
      "Speed: 1.1ms preprocess, 22.1ms inference, 3.9ms postprocess per image at shape (1, 3, 480, 640)\n",
      "tensor([], device='cuda:0', size=(0, 6))\n",
      "\n",
      "0: 480x640 (no detections), 21.7ms\n",
      "Speed: 1.3ms preprocess, 21.7ms inference, 4.7ms postprocess per image at shape (1, 3, 480, 640)\n",
      "tensor([], device='cuda:0', size=(0, 6))\n",
      "\n",
      "0: 480x640 (no detections), 21.2ms\n",
      "Speed: 1.2ms preprocess, 21.2ms inference, 4.2ms postprocess per image at shape (1, 3, 480, 640)\n",
      "tensor([], device='cuda:0', size=(0, 6))\n",
      "\n",
      "0: 480x640 (no detections), 21.9ms\n",
      "Speed: 1.1ms preprocess, 21.9ms inference, 3.9ms postprocess per image at shape (1, 3, 480, 640)\n",
      "tensor([], device='cuda:0', size=(0, 6))\n",
      "\n",
      "0: 480x640 (no detections), 22.4ms\n",
      "Speed: 1.2ms preprocess, 22.4ms inference, 3.5ms postprocess per image at shape (1, 3, 480, 640)\n",
      "tensor([], device='cuda:0', size=(0, 6))\n",
      "\n",
      "0: 480x640 (no detections), 21.8ms\n",
      "Speed: 1.0ms preprocess, 21.8ms inference, 3.4ms postprocess per image at shape (1, 3, 480, 640)\n",
      "tensor([], device='cuda:0', size=(0, 6))\n",
      "\n",
      "0: 480x640 (no detections), 21.5ms\n",
      "Speed: 0.9ms preprocess, 21.5ms inference, 4.0ms postprocess per image at shape (1, 3, 480, 640)\n",
      "tensor([], device='cuda:0', size=(0, 6))\n",
      "\n",
      "0: 480x640 (no detections), 21.9ms\n",
      "Speed: 0.9ms preprocess, 21.9ms inference, 4.1ms postprocess per image at shape (1, 3, 480, 640)\n",
      "tensor([], device='cuda:0', size=(0, 6))\n",
      "\n",
      "0: 480x640 (no detections), 23.2ms\n",
      "Speed: 0.9ms preprocess, 23.2ms inference, 3.2ms postprocess per image at shape (1, 3, 480, 640)\n",
      "tensor([], device='cuda:0', size=(0, 6))\n",
      "\n",
      "0: 480x640 (no detections), 23.0ms\n",
      "Speed: 1.4ms preprocess, 23.0ms inference, 5.0ms postprocess per image at shape (1, 3, 480, 640)\n",
      "tensor([], device='cuda:0', size=(0, 6))\n",
      "\n",
      "0: 480x640 (no detections), 22.4ms\n",
      "Speed: 1.2ms preprocess, 22.4ms inference, 3.6ms postprocess per image at shape (1, 3, 480, 640)\n",
      "tensor([], device='cuda:0', size=(0, 6))\n",
      "\n",
      "0: 480x640 (no detections), 22.8ms\n",
      "Speed: 0.9ms preprocess, 22.8ms inference, 3.5ms postprocess per image at shape (1, 3, 480, 640)\n",
      "tensor([], device='cuda:0', size=(0, 6))\n",
      "\n",
      "0: 480x640 (no detections), 22.1ms\n",
      "Speed: 0.9ms preprocess, 22.1ms inference, 3.2ms postprocess per image at shape (1, 3, 480, 640)\n",
      "tensor([], device='cuda:0', size=(0, 6))\n",
      "\n",
      "0: 480x640 (no detections), 21.5ms\n",
      "Speed: 1.6ms preprocess, 21.5ms inference, 3.4ms postprocess per image at shape (1, 3, 480, 640)\n",
      "tensor([], device='cuda:0', size=(0, 6))\n",
      "\n",
      "0: 480x640 (no detections), 21.8ms\n",
      "Speed: 1.4ms preprocess, 21.8ms inference, 4.8ms postprocess per image at shape (1, 3, 480, 640)\n",
      "tensor([], device='cuda:0', size=(0, 6))\n",
      "\n",
      "0: 480x640 (no detections), 22.0ms\n",
      "Speed: 1.3ms preprocess, 22.0ms inference, 3.5ms postprocess per image at shape (1, 3, 480, 640)\n",
      "tensor([], device='cuda:0', size=(0, 6))\n",
      "\n",
      "0: 480x640 (no detections), 22.4ms\n",
      "Speed: 1.0ms preprocess, 22.4ms inference, 3.7ms postprocess per image at shape (1, 3, 480, 640)\n",
      "tensor([], device='cuda:0', size=(0, 6))\n",
      "\n",
      "0: 480x640 (no detections), 22.3ms\n",
      "Speed: 1.1ms preprocess, 22.3ms inference, 3.3ms postprocess per image at shape (1, 3, 480, 640)\n",
      "tensor([], device='cuda:0', size=(0, 6))\n",
      "\n",
      "0: 480x640 (no detections), 23.2ms\n",
      "Speed: 0.9ms preprocess, 23.2ms inference, 4.2ms postprocess per image at shape (1, 3, 480, 640)\n",
      "tensor([], device='cuda:0', size=(0, 6))\n",
      "\n",
      "0: 480x640 (no detections), 22.9ms\n",
      "Speed: 0.9ms preprocess, 22.9ms inference, 3.2ms postprocess per image at shape (1, 3, 480, 640)\n",
      "tensor([], device='cuda:0', size=(0, 6))\n",
      "\n",
      "0: 480x640 (no detections), 22.7ms\n",
      "Speed: 1.0ms preprocess, 22.7ms inference, 3.2ms postprocess per image at shape (1, 3, 480, 640)\n",
      "tensor([], device='cuda:0', size=(0, 6))\n",
      "\n",
      "0: 480x640 (no detections), 21.9ms\n",
      "Speed: 1.1ms preprocess, 21.9ms inference, 3.4ms postprocess per image at shape (1, 3, 480, 640)\n",
      "tensor([], device='cuda:0', size=(0, 6))\n",
      "\n",
      "0: 480x640 (no detections), 21.7ms\n",
      "Speed: 0.9ms preprocess, 21.7ms inference, 5.4ms postprocess per image at shape (1, 3, 480, 640)\n",
      "tensor([], device='cuda:0', size=(0, 6))\n",
      "\n",
      "0: 480x640 (no detections), 21.8ms\n",
      "Speed: 1.0ms preprocess, 21.8ms inference, 3.2ms postprocess per image at shape (1, 3, 480, 640)\n",
      "tensor([], device='cuda:0', size=(0, 6))\n",
      "\n",
      "0: 480x640 (no detections), 22.6ms\n",
      "Speed: 0.9ms preprocess, 22.6ms inference, 10.1ms postprocess per image at shape (1, 3, 480, 640)\n",
      "tensor([], device='cuda:0', size=(0, 6))\n",
      "\n",
      "0: 480x640 (no detections), 21.7ms\n",
      "Speed: 1.0ms preprocess, 21.7ms inference, 2.2ms postprocess per image at shape (1, 3, 480, 640)\n",
      "tensor([], device='cuda:0', size=(0, 6))\n",
      "\n",
      "0: 480x640 (no detections), 23.1ms\n",
      "Speed: 1.0ms preprocess, 23.1ms inference, 3.2ms postprocess per image at shape (1, 3, 480, 640)\n",
      "tensor([], device='cuda:0', size=(0, 6))\n",
      "\n",
      "0: 480x640 (no detections), 24.7ms\n",
      "Speed: 1.2ms preprocess, 24.7ms inference, 2.7ms postprocess per image at shape (1, 3, 480, 640)\n",
      "tensor([], device='cuda:0', size=(0, 6))\n",
      "\n",
      "0: 480x640 (no detections), 21.5ms\n",
      "Speed: 1.2ms preprocess, 21.5ms inference, 2.1ms postprocess per image at shape (1, 3, 480, 640)\n",
      "tensor([], device='cuda:0', size=(0, 6))\n",
      "\n",
      "0: 480x640 (no detections), 21.7ms\n",
      "Speed: 1.0ms preprocess, 21.7ms inference, 2.4ms postprocess per image at shape (1, 3, 480, 640)\n",
      "tensor([], device='cuda:0', size=(0, 6))\n",
      "\n",
      "0: 480x640 (no detections), 21.9ms\n",
      "Speed: 1.1ms preprocess, 21.9ms inference, 2.5ms postprocess per image at shape (1, 3, 480, 640)\n",
      "tensor([], device='cuda:0', size=(0, 6))\n",
      "\n",
      "0: 480x640 (no detections), 23.3ms\n",
      "Speed: 1.0ms preprocess, 23.3ms inference, 3.3ms postprocess per image at shape (1, 3, 480, 640)\n",
      "tensor([], device='cuda:0', size=(0, 6))\n",
      "\n",
      "0: 480x640 (no detections), 22.7ms\n",
      "Speed: 1.2ms preprocess, 22.7ms inference, 2.4ms postprocess per image at shape (1, 3, 480, 640)\n",
      "tensor([], device='cuda:0', size=(0, 6))\n",
      "\n",
      "0: 480x640 (no detections), 21.1ms\n",
      "Speed: 1.3ms preprocess, 21.1ms inference, 2.6ms postprocess per image at shape (1, 3, 480, 640)\n",
      "tensor([], device='cuda:0', size=(0, 6))\n",
      "\n",
      "0: 480x640 (no detections), 23.4ms\n",
      "Speed: 1.1ms preprocess, 23.4ms inference, 2.3ms postprocess per image at shape (1, 3, 480, 640)\n",
      "tensor([], device='cuda:0', size=(0, 6))\n",
      "\n",
      "0: 480x640 (no detections), 23.3ms\n",
      "Speed: 0.9ms preprocess, 23.3ms inference, 2.4ms postprocess per image at shape (1, 3, 480, 640)\n",
      "tensor([], device='cuda:0', size=(0, 6))\n",
      "\n",
      "0: 480x640 (no detections), 22.4ms\n",
      "Speed: 1.6ms preprocess, 22.4ms inference, 2.3ms postprocess per image at shape (1, 3, 480, 640)\n",
      "tensor([], device='cuda:0', size=(0, 6))\n",
      "\n",
      "0: 480x640 (no detections), 28.1ms\n",
      "Speed: 1.1ms preprocess, 28.1ms inference, 7.3ms postprocess per image at shape (1, 3, 480, 640)\n",
      "tensor([], device='cuda:0', size=(0, 6))\n",
      "\n",
      "0: 480x640 (no detections), 20.1ms\n",
      "Speed: 1.2ms preprocess, 20.1ms inference, 3.6ms postprocess per image at shape (1, 3, 480, 640)\n",
      "tensor([], device='cuda:0', size=(0, 6))\n",
      "\n",
      "0: 480x640 (no detections), 21.6ms\n",
      "Speed: 1.0ms preprocess, 21.6ms inference, 2.2ms postprocess per image at shape (1, 3, 480, 640)\n",
      "tensor([], device='cuda:0', size=(0, 6))\n",
      "\n",
      "0: 480x640 (no detections), 22.3ms\n",
      "Speed: 1.1ms preprocess, 22.3ms inference, 2.1ms postprocess per image at shape (1, 3, 480, 640)\n",
      "tensor([], device='cuda:0', size=(0, 6))\n",
      "\n",
      "0: 480x640 (no detections), 23.4ms\n",
      "Speed: 1.0ms preprocess, 23.4ms inference, 2.8ms postprocess per image at shape (1, 3, 480, 640)\n",
      "tensor([], device='cuda:0', size=(0, 6))\n",
      "\n",
      "0: 480x640 (no detections), 23.2ms\n",
      "Speed: 1.0ms preprocess, 23.2ms inference, 3.0ms postprocess per image at shape (1, 3, 480, 640)\n",
      "tensor([], device='cuda:0', size=(0, 6))\n",
      "\n",
      "0: 480x640 (no detections), 21.1ms\n",
      "Speed: 1.1ms preprocess, 21.1ms inference, 2.4ms postprocess per image at shape (1, 3, 480, 640)\n",
      "tensor([], device='cuda:0', size=(0, 6))\n",
      "\n",
      "0: 480x640 (no detections), 22.9ms\n",
      "Speed: 1.0ms preprocess, 22.9ms inference, 3.4ms postprocess per image at shape (1, 3, 480, 640)\n",
      "tensor([], device='cuda:0', size=(0, 6))\n",
      "\n",
      "0: 480x640 (no detections), 22.4ms\n",
      "Speed: 1.3ms preprocess, 22.4ms inference, 2.1ms postprocess per image at shape (1, 3, 480, 640)\n",
      "tensor([], device='cuda:0', size=(0, 6))\n",
      "\n",
      "0: 480x640 (no detections), 21.9ms\n",
      "Speed: 1.0ms preprocess, 21.9ms inference, 2.3ms postprocess per image at shape (1, 3, 480, 640)\n",
      "tensor([], device='cuda:0', size=(0, 6))\n",
      "\n",
      "0: 480x640 (no detections), 22.1ms\n",
      "Speed: 1.5ms preprocess, 22.1ms inference, 2.6ms postprocess per image at shape (1, 3, 480, 640)\n",
      "tensor([], device='cuda:0', size=(0, 6))\n",
      "\n",
      "0: 480x640 (no detections), 22.4ms\n",
      "Speed: 1.4ms preprocess, 22.4ms inference, 2.4ms postprocess per image at shape (1, 3, 480, 640)\n",
      "tensor([], device='cuda:0', size=(0, 6))\n",
      "\n",
      "0: 480x640 (no detections), 23.2ms\n",
      "Speed: 1.1ms preprocess, 23.2ms inference, 3.0ms postprocess per image at shape (1, 3, 480, 640)\n",
      "tensor([], device='cuda:0', size=(0, 6))\n",
      "\n",
      "0: 480x640 (no detections), 23.0ms\n",
      "Speed: 1.0ms preprocess, 23.0ms inference, 12.3ms postprocess per image at shape (1, 3, 480, 640)\n",
      "tensor([], device='cuda:0', size=(0, 6))\n",
      "\n",
      "0: 480x640 (no detections), 21.1ms\n",
      "Speed: 0.9ms preprocess, 21.1ms inference, 2.5ms postprocess per image at shape (1, 3, 480, 640)\n",
      "tensor([], device='cuda:0', size=(0, 6))\n",
      "\n",
      "0: 480x640 (no detections), 35.8ms\n",
      "Speed: 1.2ms preprocess, 35.8ms inference, 6.0ms postprocess per image at shape (1, 3, 480, 640)\n",
      "tensor([], device='cuda:0', size=(0, 6))\n",
      "\n",
      "0: 480x640 (no detections), 29.8ms\n",
      "Speed: 1.2ms preprocess, 29.8ms inference, 2.4ms postprocess per image at shape (1, 3, 480, 640)\n",
      "tensor([], device='cuda:0', size=(0, 6))\n",
      "\n",
      "0: 480x640 (no detections), 20.7ms\n",
      "Speed: 1.6ms preprocess, 20.7ms inference, 2.2ms postprocess per image at shape (1, 3, 480, 640)\n",
      "tensor([], device='cuda:0', size=(0, 6))\n",
      "\n",
      "0: 480x640 (no detections), 22.8ms\n",
      "Speed: 1.6ms preprocess, 22.8ms inference, 2.0ms postprocess per image at shape (1, 3, 480, 640)\n",
      "tensor([], device='cuda:0', size=(0, 6))\n",
      "\n",
      "0: 480x640 (no detections), 23.1ms\n",
      "Speed: 1.4ms preprocess, 23.1ms inference, 2.5ms postprocess per image at shape (1, 3, 480, 640)\n",
      "tensor([], device='cuda:0', size=(0, 6))\n",
      "\n",
      "0: 480x640 (no detections), 22.5ms\n",
      "Speed: 1.0ms preprocess, 22.5ms inference, 3.1ms postprocess per image at shape (1, 3, 480, 640)\n",
      "tensor([], device='cuda:0', size=(0, 6))\n",
      "\n",
      "0: 480x640 (no detections), 21.9ms\n",
      "Speed: 1.2ms preprocess, 21.9ms inference, 2.1ms postprocess per image at shape (1, 3, 480, 640)\n",
      "tensor([], device='cuda:0', size=(0, 6))\n",
      "\n",
      "0: 480x640 (no detections), 21.6ms\n",
      "Speed: 1.0ms preprocess, 21.6ms inference, 2.1ms postprocess per image at shape (1, 3, 480, 640)\n",
      "tensor([], device='cuda:0', size=(0, 6))\n",
      "\n",
      "0: 480x640 (no detections), 23.0ms\n",
      "Speed: 1.6ms preprocess, 23.0ms inference, 2.2ms postprocess per image at shape (1, 3, 480, 640)\n",
      "tensor([], device='cuda:0', size=(0, 6))\n",
      "\n",
      "0: 480x640 (no detections), 23.3ms\n",
      "Speed: 1.2ms preprocess, 23.3ms inference, 2.1ms postprocess per image at shape (1, 3, 480, 640)\n",
      "tensor([], device='cuda:0', size=(0, 6))\n",
      "\n",
      "0: 480x640 (no detections), 22.9ms\n",
      "Speed: 1.1ms preprocess, 22.9ms inference, 2.3ms postprocess per image at shape (1, 3, 480, 640)\n",
      "tensor([], device='cuda:0', size=(0, 6))\n",
      "\n",
      "0: 480x640 (no detections), 22.0ms\n",
      "Speed: 1.0ms preprocess, 22.0ms inference, 2.6ms postprocess per image at shape (1, 3, 480, 640)\n",
      "tensor([], device='cuda:0', size=(0, 6))\n",
      "\n",
      "0: 480x640 (no detections), 22.0ms\n",
      "Speed: 1.2ms preprocess, 22.0ms inference, 3.1ms postprocess per image at shape (1, 3, 480, 640)\n",
      "tensor([], device='cuda:0', size=(0, 6))\n",
      "\n",
      "0: 480x640 (no detections), 21.3ms\n",
      "Speed: 1.0ms preprocess, 21.3ms inference, 2.6ms postprocess per image at shape (1, 3, 480, 640)\n",
      "tensor([], device='cuda:0', size=(0, 6))\n",
      "\n",
      "0: 480x640 (no detections), 20.3ms\n",
      "Speed: 1.2ms preprocess, 20.3ms inference, 2.6ms postprocess per image at shape (1, 3, 480, 640)\n",
      "tensor([], device='cuda:0', size=(0, 6))\n",
      "\n",
      "0: 480x640 (no detections), 19.8ms\n",
      "Speed: 2.2ms preprocess, 19.8ms inference, 3.3ms postprocess per image at shape (1, 3, 480, 640)\n",
      "tensor([], device='cuda:0', size=(0, 6))\n",
      "\n",
      "0: 480x640 (no detections), 21.0ms\n",
      "Speed: 1.1ms preprocess, 21.0ms inference, 2.9ms postprocess per image at shape (1, 3, 480, 640)\n",
      "tensor([], device='cuda:0', size=(0, 6))\n",
      "\n",
      "0: 480x640 (no detections), 20.3ms\n",
      "Speed: 1.2ms preprocess, 20.3ms inference, 2.5ms postprocess per image at shape (1, 3, 480, 640)\n",
      "tensor([], device='cuda:0', size=(0, 6))\n",
      "\n",
      "0: 480x640 (no detections), 20.3ms\n",
      "Speed: 1.0ms preprocess, 20.3ms inference, 2.4ms postprocess per image at shape (1, 3, 480, 640)\n",
      "tensor([], device='cuda:0', size=(0, 6))\n",
      "\n",
      "0: 480x640 (no detections), 20.6ms\n",
      "Speed: 1.0ms preprocess, 20.6ms inference, 2.5ms postprocess per image at shape (1, 3, 480, 640)\n",
      "tensor([], device='cuda:0', size=(0, 6))\n",
      "\n",
      "0: 480x640 (no detections), 20.6ms\n",
      "Speed: 1.2ms preprocess, 20.6ms inference, 14.1ms postprocess per image at shape (1, 3, 480, 640)\n",
      "tensor([], device='cuda:0', size=(0, 6))\n",
      "\n",
      "0: 480x640 (no detections), 21.0ms\n",
      "Speed: 1.1ms preprocess, 21.0ms inference, 2.4ms postprocess per image at shape (1, 3, 480, 640)\n",
      "tensor([], device='cuda:0', size=(0, 6))\n",
      "\n",
      "0: 480x640 (no detections), 23.2ms\n",
      "Speed: 1.1ms preprocess, 23.2ms inference, 2.3ms postprocess per image at shape (1, 3, 480, 640)\n",
      "tensor([], device='cuda:0', size=(0, 6))\n",
      "\n",
      "0: 480x640 (no detections), 23.3ms\n",
      "Speed: 1.0ms preprocess, 23.3ms inference, 2.1ms postprocess per image at shape (1, 3, 480, 640)\n",
      "tensor([], device='cuda:0', size=(0, 6))\n",
      "\n",
      "0: 480x640 (no detections), 22.2ms\n",
      "Speed: 1.3ms preprocess, 22.2ms inference, 2.8ms postprocess per image at shape (1, 3, 480, 640)\n",
      "tensor([], device='cuda:0', size=(0, 6))\n",
      "\n",
      "0: 480x640 (no detections), 20.8ms\n",
      "Speed: 1.3ms preprocess, 20.8ms inference, 6.9ms postprocess per image at shape (1, 3, 480, 640)\n",
      "tensor([], device='cuda:0', size=(0, 6))\n",
      "\n",
      "0: 480x640 (no detections), 22.0ms\n",
      "Speed: 1.2ms preprocess, 22.0ms inference, 3.0ms postprocess per image at shape (1, 3, 480, 640)\n",
      "tensor([], device='cuda:0', size=(0, 6))\n",
      "\n",
      "0: 480x640 (no detections), 22.8ms\n",
      "Speed: 1.2ms preprocess, 22.8ms inference, 2.1ms postprocess per image at shape (1, 3, 480, 640)\n",
      "tensor([], device='cuda:0', size=(0, 6))\n",
      "\n",
      "0: 480x640 (no detections), 22.9ms\n",
      "Speed: 1.4ms preprocess, 22.9ms inference, 2.4ms postprocess per image at shape (1, 3, 480, 640)\n",
      "tensor([], device='cuda:0', size=(0, 6))\n",
      "\n",
      "0: 480x640 (no detections), 22.2ms\n",
      "Speed: 1.1ms preprocess, 22.2ms inference, 2.2ms postprocess per image at shape (1, 3, 480, 640)\n",
      "tensor([], device='cuda:0', size=(0, 6))\n",
      "\n",
      "0: 480x640 (no detections), 21.6ms\n",
      "Speed: 1.0ms preprocess, 21.6ms inference, 2.1ms postprocess per image at shape (1, 3, 480, 640)\n",
      "tensor([], device='cuda:0', size=(0, 6))\n",
      "\n",
      "0: 480x640 (no detections), 22.3ms\n",
      "Speed: 1.0ms preprocess, 22.3ms inference, 3.1ms postprocess per image at shape (1, 3, 480, 640)\n",
      "tensor([], device='cuda:0', size=(0, 6))\n",
      "\n",
      "0: 480x640 (no detections), 21.7ms\n",
      "Speed: 1.5ms preprocess, 21.7ms inference, 2.1ms postprocess per image at shape (1, 3, 480, 640)\n",
      "tensor([], device='cuda:0', size=(0, 6))\n",
      "\n",
      "0: 480x640 (no detections), 23.1ms\n",
      "Speed: 1.0ms preprocess, 23.1ms inference, 2.6ms postprocess per image at shape (1, 3, 480, 640)\n",
      "tensor([], device='cuda:0', size=(0, 6))\n",
      "\n",
      "0: 480x640 (no detections), 23.4ms\n",
      "Speed: 1.1ms preprocess, 23.4ms inference, 2.7ms postprocess per image at shape (1, 3, 480, 640)\n",
      "tensor([], device='cuda:0', size=(0, 6))\n",
      "\n",
      "0: 480x640 (no detections), 21.6ms\n",
      "Speed: 1.4ms preprocess, 21.6ms inference, 2.8ms postprocess per image at shape (1, 3, 480, 640)\n",
      "tensor([], device='cuda:0', size=(0, 6))\n",
      "\n",
      "0: 480x640 (no detections), 21.4ms\n",
      "Speed: 1.3ms preprocess, 21.4ms inference, 6.2ms postprocess per image at shape (1, 3, 480, 640)\n",
      "tensor([], device='cuda:0', size=(0, 6))\n",
      "\n",
      "0: 480x640 (no detections), 21.9ms\n",
      "Speed: 1.3ms preprocess, 21.9ms inference, 2.2ms postprocess per image at shape (1, 3, 480, 640)\n",
      "tensor([], device='cuda:0', size=(0, 6))\n",
      "\n",
      "0: 480x640 (no detections), 22.9ms\n",
      "Speed: 1.0ms preprocess, 22.9ms inference, 2.2ms postprocess per image at shape (1, 3, 480, 640)\n",
      "tensor([], device='cuda:0', size=(0, 6))\n",
      "\n",
      "0: 480x640 (no detections), 23.5ms\n",
      "Speed: 1.0ms preprocess, 23.5ms inference, 2.2ms postprocess per image at shape (1, 3, 480, 640)\n",
      "tensor([], device='cuda:0', size=(0, 6))\n",
      "\n",
      "0: 480x640 (no detections), 22.9ms\n",
      "Speed: 1.1ms preprocess, 22.9ms inference, 2.9ms postprocess per image at shape (1, 3, 480, 640)\n",
      "tensor([], device='cuda:0', size=(0, 6))\n",
      "\n",
      "0: 480x640 (no detections), 22.2ms\n",
      "Speed: 1.3ms preprocess, 22.2ms inference, 2.2ms postprocess per image at shape (1, 3, 480, 640)\n",
      "tensor([], device='cuda:0', size=(0, 6))\n",
      "\n",
      "0: 480x640 1 Ripe, 21.8ms\n",
      "Speed: 1.1ms preprocess, 21.8ms inference, 2.8ms postprocess per image at shape (1, 3, 480, 640)\n",
      "tensor([[5.2585e+02, 3.3197e+02, 6.1056e+02, 4.2390e+02, 4.6620e-01, 1.0000e+00]], device='cuda:0')\n",
      "\n",
      "0: 480x640 (no detections), 21.7ms\n",
      "Speed: 1.2ms preprocess, 21.7ms inference, 2.6ms postprocess per image at shape (1, 3, 480, 640)\n",
      "tensor([], device='cuda:0', size=(0, 6))\n",
      "\n",
      "0: 480x640 1 Ripe, 21.7ms\n",
      "Speed: 1.2ms preprocess, 21.7ms inference, 2.8ms postprocess per image at shape (1, 3, 480, 640)\n",
      "tensor([[523.9355, 332.7704, 608.7351, 424.5139,   0.6680,   1.0000]], device='cuda:0')\n",
      "\n",
      "0: 480x640 (no detections), 22.0ms\n",
      "Speed: 1.7ms preprocess, 22.0ms inference, 2.1ms postprocess per image at shape (1, 3, 480, 640)\n",
      "tensor([], device='cuda:0', size=(0, 6))\n",
      "\n",
      "0: 480x640 (no detections), 23.1ms\n",
      "Speed: 1.0ms preprocess, 23.1ms inference, 13.1ms postprocess per image at shape (1, 3, 480, 640)\n",
      "tensor([], device='cuda:0', size=(0, 6))\n",
      "\n",
      "0: 480x640 (no detections), 21.5ms\n",
      "Speed: 1.6ms preprocess, 21.5ms inference, 2.5ms postprocess per image at shape (1, 3, 480, 640)\n",
      "tensor([], device='cuda:0', size=(0, 6))\n",
      "\n",
      "0: 480x640 (no detections), 22.6ms\n",
      "Speed: 1.1ms preprocess, 22.6ms inference, 2.1ms postprocess per image at shape (1, 3, 480, 640)\n",
      "tensor([], device='cuda:0', size=(0, 6))\n",
      "\n",
      "0: 480x640 (no detections), 23.4ms\n",
      "Speed: 1.1ms preprocess, 23.4ms inference, 2.0ms postprocess per image at shape (1, 3, 480, 640)\n",
      "tensor([], device='cuda:0', size=(0, 6))\n",
      "\n",
      "0: 480x640 (no detections), 23.3ms\n",
      "Speed: 1.0ms preprocess, 23.3ms inference, 3.2ms postprocess per image at shape (1, 3, 480, 640)\n",
      "tensor([], device='cuda:0', size=(0, 6))\n",
      "\n",
      "0: 480x640 (no detections), 22.3ms\n",
      "Speed: 1.2ms preprocess, 22.3ms inference, 2.4ms postprocess per image at shape (1, 3, 480, 640)\n",
      "tensor([], device='cuda:0', size=(0, 6))\n",
      "\n",
      "0: 480x640 (no detections), 22.0ms\n",
      "Speed: 1.5ms preprocess, 22.0ms inference, 2.8ms postprocess per image at shape (1, 3, 480, 640)\n",
      "tensor([], device='cuda:0', size=(0, 6))\n",
      "\n",
      "0: 480x640 (no detections), 22.0ms\n",
      "Speed: 1.2ms preprocess, 22.0ms inference, 2.3ms postprocess per image at shape (1, 3, 480, 640)\n",
      "tensor([], device='cuda:0', size=(0, 6))\n",
      "\n",
      "0: 480x640 (no detections), 22.6ms\n",
      "Speed: 1.7ms preprocess, 22.6ms inference, 2.6ms postprocess per image at shape (1, 3, 480, 640)\n",
      "tensor([], device='cuda:0', size=(0, 6))\n",
      "\n",
      "0: 480x640 (no detections), 21.2ms\n",
      "Speed: 1.4ms preprocess, 21.2ms inference, 2.3ms postprocess per image at shape (1, 3, 480, 640)\n",
      "tensor([], device='cuda:0', size=(0, 6))\n",
      "\n",
      "0: 480x640 (no detections), 23.3ms\n",
      "Speed: 1.0ms preprocess, 23.3ms inference, 2.5ms postprocess per image at shape (1, 3, 480, 640)\n",
      "tensor([], device='cuda:0', size=(0, 6))\n",
      "\n",
      "0: 480x640 (no detections), 23.8ms\n",
      "Speed: 1.0ms preprocess, 23.8ms inference, 2.9ms postprocess per image at shape (1, 3, 480, 640)\n",
      "tensor([], device='cuda:0', size=(0, 6))\n",
      "\n",
      "0: 480x640 (no detections), 23.6ms\n",
      "Speed: 1.3ms preprocess, 23.6ms inference, 2.2ms postprocess per image at shape (1, 3, 480, 640)\n",
      "tensor([], device='cuda:0', size=(0, 6))\n",
      "\n",
      "0: 480x640 (no detections), 23.6ms\n",
      "Speed: 1.7ms preprocess, 23.6ms inference, 2.5ms postprocess per image at shape (1, 3, 480, 640)\n",
      "tensor([], device='cuda:0', size=(0, 6))\n",
      "\n",
      "0: 480x640 (no detections), 23.1ms\n",
      "Speed: 1.0ms preprocess, 23.1ms inference, 2.1ms postprocess per image at shape (1, 3, 480, 640)\n",
      "tensor([], device='cuda:0', size=(0, 6))\n",
      "\n",
      "0: 480x640 (no detections), 22.9ms\n",
      "Speed: 1.1ms preprocess, 22.9ms inference, 2.8ms postprocess per image at shape (1, 3, 480, 640)\n",
      "tensor([], device='cuda:0', size=(0, 6))\n",
      "\n",
      "0: 480x640 (no detections), 23.0ms\n",
      "Speed: 1.0ms preprocess, 23.0ms inference, 2.4ms postprocess per image at shape (1, 3, 480, 640)\n",
      "tensor([], device='cuda:0', size=(0, 6))\n",
      "\n",
      "0: 480x640 (no detections), 23.8ms\n",
      "Speed: 1.2ms preprocess, 23.8ms inference, 2.1ms postprocess per image at shape (1, 3, 480, 640)\n",
      "tensor([], device='cuda:0', size=(0, 6))\n",
      "\n",
      "0: 480x640 (no detections), 24.2ms\n",
      "Speed: 1.5ms preprocess, 24.2ms inference, 2.3ms postprocess per image at shape (1, 3, 480, 640)\n",
      "tensor([], device='cuda:0', size=(0, 6))\n",
      "\n",
      "0: 480x640 (no detections), 24.1ms\n",
      "Speed: 1.1ms preprocess, 24.1ms inference, 3.4ms postprocess per image at shape (1, 3, 480, 640)\n",
      "tensor([], device='cuda:0', size=(0, 6))\n",
      "\n",
      "0: 480x640 (no detections), 21.7ms\n",
      "Speed: 1.8ms preprocess, 21.7ms inference, 2.8ms postprocess per image at shape (1, 3, 480, 640)\n",
      "tensor([], device='cuda:0', size=(0, 6))\n",
      "\n",
      "0: 480x640 (no detections), 22.1ms\n",
      "Speed: 1.6ms preprocess, 22.1ms inference, 3.1ms postprocess per image at shape (1, 3, 480, 640)\n",
      "tensor([], device='cuda:0', size=(0, 6))\n",
      "\n",
      "0: 480x640 (no detections), 23.6ms\n",
      "Speed: 1.0ms preprocess, 23.6ms inference, 2.3ms postprocess per image at shape (1, 3, 480, 640)\n",
      "tensor([], device='cuda:0', size=(0, 6))\n",
      "\n",
      "0: 480x640 (no detections), 23.6ms\n",
      "Speed: 1.8ms preprocess, 23.6ms inference, 2.2ms postprocess per image at shape (1, 3, 480, 640)\n",
      "tensor([], device='cuda:0', size=(0, 6))\n",
      "\n",
      "0: 480x640 (no detections), 23.4ms\n",
      "Speed: 1.0ms preprocess, 23.4ms inference, 2.2ms postprocess per image at shape (1, 3, 480, 640)\n",
      "tensor([], device='cuda:0', size=(0, 6))\n",
      "\n",
      "0: 480x640 (no detections), 23.1ms\n",
      "Speed: 1.0ms preprocess, 23.1ms inference, 3.1ms postprocess per image at shape (1, 3, 480, 640)\n",
      "tensor([], device='cuda:0', size=(0, 6))\n",
      "\n",
      "0: 480x640 (no detections), 22.5ms\n",
      "Speed: 1.1ms preprocess, 22.5ms inference, 2.1ms postprocess per image at shape (1, 3, 480, 640)\n",
      "tensor([], device='cuda:0', size=(0, 6))\n",
      "\n",
      "0: 480x640 (no detections), 23.5ms\n",
      "Speed: 1.0ms preprocess, 23.5ms inference, 3.0ms postprocess per image at shape (1, 3, 480, 640)\n",
      "tensor([], device='cuda:0', size=(0, 6))\n",
      "\n",
      "0: 480x640 (no detections), 23.0ms\n",
      "Speed: 1.0ms preprocess, 23.0ms inference, 2.4ms postprocess per image at shape (1, 3, 480, 640)\n",
      "tensor([], device='cuda:0', size=(0, 6))\n",
      "\n",
      "0: 480x640 (no detections), 23.0ms\n",
      "Speed: 1.0ms preprocess, 23.0ms inference, 2.2ms postprocess per image at shape (1, 3, 480, 640)\n",
      "tensor([], device='cuda:0', size=(0, 6))\n",
      "\n",
      "0: 480x640 (no detections), 23.7ms\n",
      "Speed: 1.6ms preprocess, 23.7ms inference, 2.1ms postprocess per image at shape (1, 3, 480, 640)\n",
      "tensor([], device='cuda:0', size=(0, 6))\n",
      "\n",
      "0: 480x640 (no detections), 24.0ms\n",
      "Speed: 1.1ms preprocess, 24.0ms inference, 2.1ms postprocess per image at shape (1, 3, 480, 640)\n",
      "tensor([], device='cuda:0', size=(0, 6))\n",
      "\n",
      "0: 480x640 (no detections), 23.8ms\n",
      "Speed: 1.0ms preprocess, 23.8ms inference, 2.4ms postprocess per image at shape (1, 3, 480, 640)\n",
      "tensor([], device='cuda:0', size=(0, 6))\n",
      "\n",
      "0: 480x640 (no detections), 23.1ms\n",
      "Speed: 1.1ms preprocess, 23.1ms inference, 2.4ms postprocess per image at shape (1, 3, 480, 640)\n",
      "tensor([], device='cuda:0', size=(0, 6))\n",
      "\n",
      "0: 480x640 (no detections), 23.3ms\n",
      "Speed: 1.2ms preprocess, 23.3ms inference, 2.3ms postprocess per image at shape (1, 3, 480, 640)\n",
      "tensor([], device='cuda:0', size=(0, 6))\n",
      "\n",
      "0: 480x640 (no detections), 23.1ms\n",
      "Speed: 1.0ms preprocess, 23.1ms inference, 2.3ms postprocess per image at shape (1, 3, 480, 640)\n",
      "tensor([], device='cuda:0', size=(0, 6))\n",
      "\n",
      "0: 480x640 (no detections), 22.9ms\n",
      "Speed: 1.0ms preprocess, 22.9ms inference, 3.0ms postprocess per image at shape (1, 3, 480, 640)\n",
      "tensor([], device='cuda:0', size=(0, 6))\n",
      "\n",
      "0: 480x640 (no detections), 23.3ms\n",
      "Speed: 1.2ms preprocess, 23.3ms inference, 2.4ms postprocess per image at shape (1, 3, 480, 640)\n",
      "tensor([], device='cuda:0', size=(0, 6))\n",
      "\n",
      "0: 480x640 (no detections), 23.7ms\n",
      "Speed: 1.6ms preprocess, 23.7ms inference, 2.3ms postprocess per image at shape (1, 3, 480, 640)\n",
      "tensor([], device='cuda:0', size=(0, 6))\n",
      "\n",
      "0: 480x640 (no detections), 23.9ms\n",
      "Speed: 1.0ms preprocess, 23.9ms inference, 2.1ms postprocess per image at shape (1, 3, 480, 640)\n",
      "tensor([], device='cuda:0', size=(0, 6))\n",
      "\n",
      "0: 480x640 (no detections), 23.8ms\n",
      "Speed: 1.0ms preprocess, 23.8ms inference, 2.3ms postprocess per image at shape (1, 3, 480, 640)\n",
      "tensor([], device='cuda:0', size=(0, 6))\n",
      "\n",
      "0: 480x640 (no detections), 24.1ms\n",
      "Speed: 1.1ms preprocess, 24.1ms inference, 6.6ms postprocess per image at shape (1, 3, 480, 640)\n",
      "tensor([], device='cuda:0', size=(0, 6))\n",
      "\n",
      "0: 480x640 (no detections), 21.3ms\n",
      "Speed: 1.5ms preprocess, 21.3ms inference, 2.7ms postprocess per image at shape (1, 3, 480, 640)\n",
      "tensor([], device='cuda:0', size=(0, 6))\n",
      "\n",
      "0: 480x640 (no detections), 21.8ms\n",
      "Speed: 1.6ms preprocess, 21.8ms inference, 2.2ms postprocess per image at shape (1, 3, 480, 640)\n",
      "tensor([], device='cuda:0', size=(0, 6))\n",
      "\n",
      "0: 480x640 (no detections), 23.7ms\n",
      "Speed: 1.0ms preprocess, 23.7ms inference, 3.1ms postprocess per image at shape (1, 3, 480, 640)\n",
      "tensor([], device='cuda:0', size=(0, 6))\n",
      "\n",
      "0: 480x640 (no detections), 23.4ms\n",
      "Speed: 1.4ms preprocess, 23.4ms inference, 2.5ms postprocess per image at shape (1, 3, 480, 640)\n",
      "tensor([], device='cuda:0', size=(0, 6))\n",
      "\n",
      "0: 480x640 (no detections), 23.7ms\n",
      "Speed: 1.6ms preprocess, 23.7ms inference, 2.2ms postprocess per image at shape (1, 3, 480, 640)\n",
      "tensor([], device='cuda:0', size=(0, 6))\n",
      "\n",
      "0: 480x640 (no detections), 23.4ms\n",
      "Speed: 1.0ms preprocess, 23.4ms inference, 2.2ms postprocess per image at shape (1, 3, 480, 640)\n",
      "tensor([], device='cuda:0', size=(0, 6))\n",
      "\n",
      "0: 480x640 (no detections), 22.9ms\n",
      "Speed: 1.1ms preprocess, 22.9ms inference, 2.7ms postprocess per image at shape (1, 3, 480, 640)\n",
      "tensor([], device='cuda:0', size=(0, 6))\n",
      "\n",
      "0: 480x640 (no detections), 22.9ms\n",
      "Speed: 1.1ms preprocess, 22.9ms inference, 2.5ms postprocess per image at shape (1, 3, 480, 640)\n",
      "tensor([], device='cuda:0', size=(0, 6))\n",
      "\n",
      "0: 480x640 (no detections), 23.5ms\n",
      "Speed: 1.1ms preprocess, 23.5ms inference, 2.2ms postprocess per image at shape (1, 3, 480, 640)\n",
      "tensor([], device='cuda:0', size=(0, 6))\n",
      "\n",
      "0: 480x640 (no detections), 23.8ms\n",
      "Speed: 1.2ms preprocess, 23.8ms inference, 2.3ms postprocess per image at shape (1, 3, 480, 640)\n",
      "tensor([], device='cuda:0', size=(0, 6))\n",
      "\n",
      "0: 480x640 (no detections), 22.1ms\n",
      "Speed: 1.0ms preprocess, 22.1ms inference, 2.0ms postprocess per image at shape (1, 3, 480, 640)\n",
      "tensor([], device='cuda:0', size=(0, 6))\n",
      "\n",
      "0: 480x640 (no detections), 24.0ms\n",
      "Speed: 1.1ms preprocess, 24.0ms inference, 2.2ms postprocess per image at shape (1, 3, 480, 640)\n",
      "tensor([], device='cuda:0', size=(0, 6))\n",
      "\n",
      "0: 480x640 (no detections), 24.1ms\n",
      "Speed: 1.2ms preprocess, 24.1ms inference, 2.1ms postprocess per image at shape (1, 3, 480, 640)\n",
      "tensor([], device='cuda:0', size=(0, 6))\n",
      "\n",
      "0: 480x640 (no detections), 23.3ms\n",
      "Speed: 1.1ms preprocess, 23.3ms inference, 3.1ms postprocess per image at shape (1, 3, 480, 640)\n",
      "tensor([], device='cuda:0', size=(0, 6))\n",
      "\n",
      "0: 480x640 (no detections), 27.0ms\n",
      "Speed: 1.1ms preprocess, 27.0ms inference, 2.8ms postprocess per image at shape (1, 3, 480, 640)\n",
      "tensor([], device='cuda:0', size=(0, 6))\n",
      "\n",
      "0: 480x640 (no detections), 22.6ms\n",
      "Speed: 1.2ms preprocess, 22.6ms inference, 2.2ms postprocess per image at shape (1, 3, 480, 640)\n",
      "tensor([], device='cuda:0', size=(0, 6))\n",
      "\n",
      "0: 480x640 (no detections), 22.9ms\n",
      "Speed: 1.0ms preprocess, 22.9ms inference, 2.9ms postprocess per image at shape (1, 3, 480, 640)\n",
      "tensor([], device='cuda:0', size=(0, 6))\n",
      "\n",
      "0: 480x640 (no detections), 23.1ms\n",
      "Speed: 0.9ms preprocess, 23.1ms inference, 2.7ms postprocess per image at shape (1, 3, 480, 640)\n",
      "tensor([], device='cuda:0', size=(0, 6))\n",
      "\n",
      "0: 480x640 (no detections), 23.9ms\n",
      "Speed: 1.1ms preprocess, 23.9ms inference, 2.4ms postprocess per image at shape (1, 3, 480, 640)\n",
      "tensor([], device='cuda:0', size=(0, 6))\n",
      "\n",
      "0: 480x640 (no detections), 23.8ms\n",
      "Speed: 1.2ms preprocess, 23.8ms inference, 2.1ms postprocess per image at shape (1, 3, 480, 640)\n",
      "tensor([], device='cuda:0', size=(0, 6))\n",
      "\n",
      "0: 480x640 (no detections), 23.7ms\n",
      "Speed: 1.1ms preprocess, 23.7ms inference, 2.5ms postprocess per image at shape (1, 3, 480, 640)\n",
      "tensor([], device='cuda:0', size=(0, 6))\n",
      "\n",
      "0: 480x640 (no detections), 23.4ms\n",
      "Speed: 1.0ms preprocess, 23.4ms inference, 3.1ms postprocess per image at shape (1, 3, 480, 640)\n",
      "tensor([], device='cuda:0', size=(0, 6))\n",
      "\n",
      "0: 480x640 (no detections), 23.1ms\n",
      "Speed: 1.0ms preprocess, 23.1ms inference, 2.2ms postprocess per image at shape (1, 3, 480, 640)\n",
      "tensor([], device='cuda:0', size=(0, 6))\n",
      "\n",
      "0: 480x640 (no detections), 23.1ms\n",
      "Speed: 1.1ms preprocess, 23.1ms inference, 2.1ms postprocess per image at shape (1, 3, 480, 640)\n",
      "tensor([], device='cuda:0', size=(0, 6))\n",
      "\n",
      "0: 480x640 (no detections), 23.4ms\n",
      "Speed: 1.6ms preprocess, 23.4ms inference, 2.4ms postprocess per image at shape (1, 3, 480, 640)\n",
      "tensor([], device='cuda:0', size=(0, 6))\n",
      "\n",
      "0: 480x640 (no detections), 23.7ms\n",
      "Speed: 1.1ms preprocess, 23.7ms inference, 2.7ms postprocess per image at shape (1, 3, 480, 640)\n",
      "tensor([], device='cuda:0', size=(0, 6))\n",
      "\n",
      "0: 480x640 (no detections), 23.7ms\n",
      "Speed: 1.0ms preprocess, 23.7ms inference, 2.2ms postprocess per image at shape (1, 3, 480, 640)\n",
      "tensor([], device='cuda:0', size=(0, 6))\n",
      "\n",
      "0: 480x640 (no detections), 43.0ms\n",
      "Speed: 1.2ms preprocess, 43.0ms inference, 3.1ms postprocess per image at shape (1, 3, 480, 640)\n",
      "tensor([], device='cuda:0', size=(0, 6))\n",
      "\n",
      "0: 480x640 (no detections), 21.1ms\n",
      "Speed: 0.9ms preprocess, 21.1ms inference, 2.9ms postprocess per image at shape (1, 3, 480, 640)\n",
      "tensor([], device='cuda:0', size=(0, 6))\n",
      "\n",
      "0: 480x640 (no detections), 22.8ms\n",
      "Speed: 1.3ms preprocess, 22.8ms inference, 2.5ms postprocess per image at shape (1, 3, 480, 640)\n",
      "tensor([], device='cuda:0', size=(0, 6))\n",
      "\n",
      "0: 480x640 (no detections), 22.9ms\n",
      "Speed: 1.2ms preprocess, 22.9ms inference, 2.3ms postprocess per image at shape (1, 3, 480, 640)\n",
      "tensor([], device='cuda:0', size=(0, 6))\n",
      "\n",
      "0: 480x640 (no detections), 23.3ms\n",
      "Speed: 1.1ms preprocess, 23.3ms inference, 2.3ms postprocess per image at shape (1, 3, 480, 640)\n",
      "tensor([], device='cuda:0', size=(0, 6))\n",
      "\n",
      "0: 480x640 (no detections), 23.8ms\n",
      "Speed: 1.4ms preprocess, 23.8ms inference, 2.1ms postprocess per image at shape (1, 3, 480, 640)\n",
      "tensor([], device='cuda:0', size=(0, 6))\n",
      "\n",
      "0: 480x640 (no detections), 23.8ms\n",
      "Speed: 1.0ms preprocess, 23.8ms inference, 2.6ms postprocess per image at shape (1, 3, 480, 640)\n",
      "tensor([], device='cuda:0', size=(0, 6))\n",
      "\n",
      "0: 480x640 (no detections), 23.5ms\n",
      "Speed: 1.0ms preprocess, 23.5ms inference, 2.6ms postprocess per image at shape (1, 3, 480, 640)\n",
      "tensor([], device='cuda:0', size=(0, 6))\n",
      "\n",
      "0: 480x640 (no detections), 25.8ms\n",
      "Speed: 1.3ms preprocess, 25.8ms inference, 11.7ms postprocess per image at shape (1, 3, 480, 640)\n",
      "tensor([], device='cuda:0', size=(0, 6))\n",
      "\n",
      "0: 480x640 (no detections), 25.5ms\n",
      "Speed: 1.2ms preprocess, 25.5ms inference, 2.4ms postprocess per image at shape (1, 3, 480, 640)\n",
      "tensor([], device='cuda:0', size=(0, 6))\n",
      "\n",
      "0: 480x640 (no detections), 28.5ms\n",
      "Speed: 1.1ms preprocess, 28.5ms inference, 2.5ms postprocess per image at shape (1, 3, 480, 640)\n",
      "tensor([], device='cuda:0', size=(0, 6))\n",
      "\n",
      "0: 480x640 (no detections), 28.8ms\n",
      "Speed: 1.2ms preprocess, 28.8ms inference, 2.5ms postprocess per image at shape (1, 3, 480, 640)\n",
      "tensor([], device='cuda:0', size=(0, 6))\n",
      "\n",
      "0: 480x640 (no detections), 29.0ms\n",
      "Speed: 1.4ms preprocess, 29.0ms inference, 2.4ms postprocess per image at shape (1, 3, 480, 640)\n",
      "tensor([], device='cuda:0', size=(0, 6))\n",
      "\n",
      "0: 480x640 (no detections), 25.3ms\n",
      "Speed: 1.3ms preprocess, 25.3ms inference, 7.9ms postprocess per image at shape (1, 3, 480, 640)\n",
      "tensor([], device='cuda:0', size=(0, 6))\n",
      "\n",
      "0: 480x640 (no detections), 24.6ms\n",
      "Speed: 2.9ms preprocess, 24.6ms inference, 1.9ms postprocess per image at shape (1, 3, 480, 640)\n",
      "tensor([], device='cuda:0', size=(0, 6))\n",
      "\n",
      "0: 480x640 (no detections), 28.3ms\n",
      "Speed: 1.1ms preprocess, 28.3ms inference, 2.3ms postprocess per image at shape (1, 3, 480, 640)\n",
      "tensor([], device='cuda:0', size=(0, 6))\n",
      "\n",
      "0: 480x640 (no detections), 28.5ms\n",
      "Speed: 1.0ms preprocess, 28.5ms inference, 2.4ms postprocess per image at shape (1, 3, 480, 640)\n",
      "tensor([], device='cuda:0', size=(0, 6))\n",
      "\n",
      "0: 480x640 (no detections), 28.8ms\n",
      "Speed: 1.5ms preprocess, 28.8ms inference, 2.1ms postprocess per image at shape (1, 3, 480, 640)\n",
      "tensor([], device='cuda:0', size=(0, 6))\n",
      "\n",
      "0: 480x640 (no detections), 28.8ms\n",
      "Speed: 1.0ms preprocess, 28.8ms inference, 2.1ms postprocess per image at shape (1, 3, 480, 640)\n",
      "tensor([], device='cuda:0', size=(0, 6))\n",
      "\n",
      "0: 480x640 (no detections), 28.7ms\n",
      "Speed: 1.4ms preprocess, 28.7ms inference, 2.1ms postprocess per image at shape (1, 3, 480, 640)\n",
      "tensor([], device='cuda:0', size=(0, 6))\n",
      "\n",
      "0: 480x640 (no detections), 28.4ms\n",
      "Speed: 1.0ms preprocess, 28.4ms inference, 2.1ms postprocess per image at shape (1, 3, 480, 640)\n",
      "tensor([], device='cuda:0', size=(0, 6))\n",
      "\n",
      "0: 480x640 (no detections), 26.2ms\n",
      "Speed: 1.2ms preprocess, 26.2ms inference, 2.2ms postprocess per image at shape (1, 3, 480, 640)\n",
      "tensor([], device='cuda:0', size=(0, 6))\n",
      "\n",
      "0: 480x640 (no detections), 28.4ms\n",
      "Speed: 1.1ms preprocess, 28.4ms inference, 2.5ms postprocess per image at shape (1, 3, 480, 640)\n",
      "tensor([], device='cuda:0', size=(0, 6))\n",
      "\n",
      "0: 480x640 (no detections), 29.1ms\n",
      "Speed: 1.1ms preprocess, 29.1ms inference, 3.3ms postprocess per image at shape (1, 3, 480, 640)\n",
      "tensor([], device='cuda:0', size=(0, 6))\n",
      "\n",
      "0: 480x640 (no detections), 28.2ms\n",
      "Speed: 1.3ms preprocess, 28.2ms inference, 2.6ms postprocess per image at shape (1, 3, 480, 640)\n",
      "tensor([], device='cuda:0', size=(0, 6))\n",
      "\n",
      "0: 480x640 (no detections), 26.6ms\n",
      "Speed: 1.1ms preprocess, 26.6ms inference, 2.7ms postprocess per image at shape (1, 3, 480, 640)\n",
      "tensor([], device='cuda:0', size=(0, 6))\n",
      "\n",
      "0: 480x640 (no detections), 28.5ms\n",
      "Speed: 1.6ms preprocess, 28.5ms inference, 2.2ms postprocess per image at shape (1, 3, 480, 640)\n",
      "tensor([], device='cuda:0', size=(0, 6))\n",
      "\n",
      "0: 480x640 (no detections), 28.9ms\n",
      "Speed: 1.0ms preprocess, 28.9ms inference, 2.1ms postprocess per image at shape (1, 3, 480, 640)\n",
      "tensor([], device='cuda:0', size=(0, 6))\n",
      "\n",
      "0: 480x640 (no detections), 28.6ms\n",
      "Speed: 1.4ms preprocess, 28.6ms inference, 6.6ms postprocess per image at shape (1, 3, 480, 640)\n",
      "tensor([], device='cuda:0', size=(0, 6))\n",
      "\n",
      "0: 480x640 (no detections), 26.9ms\n",
      "Speed: 1.3ms preprocess, 26.9ms inference, 2.4ms postprocess per image at shape (1, 3, 480, 640)\n",
      "tensor([], device='cuda:0', size=(0, 6))\n",
      "\n",
      "0: 480x640 (no detections), 28.5ms\n",
      "Speed: 1.1ms preprocess, 28.5ms inference, 2.5ms postprocess per image at shape (1, 3, 480, 640)\n",
      "tensor([], device='cuda:0', size=(0, 6))\n",
      "\n",
      "0: 480x640 (no detections), 27.9ms\n",
      "Speed: 1.4ms preprocess, 27.9ms inference, 12.4ms postprocess per image at shape (1, 3, 480, 640)\n",
      "tensor([], device='cuda:0', size=(0, 6))\n",
      "\n",
      "0: 480x640 (no detections), 27.7ms\n",
      "Speed: 1.5ms preprocess, 27.7ms inference, 2.7ms postprocess per image at shape (1, 3, 480, 640)\n",
      "tensor([], device='cuda:0', size=(0, 6))\n",
      "\n",
      "0: 480x640 (no detections), 28.0ms\n",
      "Speed: 1.2ms preprocess, 28.0ms inference, 2.4ms postprocess per image at shape (1, 3, 480, 640)\n",
      "tensor([], device='cuda:0', size=(0, 6))\n",
      "\n",
      "0: 480x640 (no detections), 28.5ms\n",
      "Speed: 1.4ms preprocess, 28.5ms inference, 2.4ms postprocess per image at shape (1, 3, 480, 640)\n",
      "tensor([], device='cuda:0', size=(0, 6))\n",
      "\n",
      "0: 480x640 (no detections), 28.8ms\n",
      "Speed: 1.0ms preprocess, 28.8ms inference, 2.1ms postprocess per image at shape (1, 3, 480, 640)\n",
      "tensor([], device='cuda:0', size=(0, 6))\n",
      "\n",
      "0: 480x640 (no detections), 28.2ms\n",
      "Speed: 1.9ms preprocess, 28.2ms inference, 2.9ms postprocess per image at shape (1, 3, 480, 640)\n",
      "tensor([], device='cuda:0', size=(0, 6))\n",
      "\n",
      "0: 480x640 (no detections), 28.3ms\n",
      "Speed: 1.0ms preprocess, 28.3ms inference, 2.1ms postprocess per image at shape (1, 3, 480, 640)\n",
      "tensor([], device='cuda:0', size=(0, 6))\n",
      "\n",
      "0: 480x640 (no detections), 28.7ms\n",
      "Speed: 1.3ms preprocess, 28.7ms inference, 2.9ms postprocess per image at shape (1, 3, 480, 640)\n",
      "tensor([], device='cuda:0', size=(0, 6))\n",
      "\n",
      "0: 480x640 (no detections), 28.8ms\n",
      "Speed: 1.0ms preprocess, 28.8ms inference, 2.9ms postprocess per image at shape (1, 3, 480, 640)\n",
      "tensor([], device='cuda:0', size=(0, 6))\n",
      "\n",
      "0: 480x640 (no detections), 27.4ms\n",
      "Speed: 1.1ms preprocess, 27.4ms inference, 8.2ms postprocess per image at shape (1, 3, 480, 640)\n",
      "tensor([], device='cuda:0', size=(0, 6))\n",
      "\n",
      "0: 480x640 (no detections), 22.3ms\n",
      "Speed: 1.3ms preprocess, 22.3ms inference, 2.4ms postprocess per image at shape (1, 3, 480, 640)\n",
      "tensor([], device='cuda:0', size=(0, 6))\n",
      "\n",
      "0: 480x640 (no detections), 23.2ms\n",
      "Speed: 1.2ms preprocess, 23.2ms inference, 2.6ms postprocess per image at shape (1, 3, 480, 640)\n",
      "tensor([], device='cuda:0', size=(0, 6))\n",
      "\n",
      "0: 480x640 (no detections), 23.6ms\n",
      "Speed: 1.1ms preprocess, 23.6ms inference, 2.4ms postprocess per image at shape (1, 3, 480, 640)\n",
      "tensor([], device='cuda:0', size=(0, 6))\n",
      "\n",
      "0: 480x640 (no detections), 23.4ms\n",
      "Speed: 1.0ms preprocess, 23.4ms inference, 2.2ms postprocess per image at shape (1, 3, 480, 640)\n",
      "tensor([], device='cuda:0', size=(0, 6))\n",
      "\n",
      "0: 480x640 (no detections), 23.5ms\n",
      "Speed: 1.5ms preprocess, 23.5ms inference, 2.3ms postprocess per image at shape (1, 3, 480, 640)\n",
      "tensor([], device='cuda:0', size=(0, 6))\n",
      "\n",
      "0: 480x640 (no detections), 24.2ms\n",
      "Speed: 1.0ms preprocess, 24.2ms inference, 2.4ms postprocess per image at shape (1, 3, 480, 640)\n",
      "tensor([], device='cuda:0', size=(0, 6))\n",
      "\n",
      "0: 480x640 (no detections), 24.2ms\n",
      "Speed: 1.0ms preprocess, 24.2ms inference, 3.1ms postprocess per image at shape (1, 3, 480, 640)\n",
      "tensor([], device='cuda:0', size=(0, 6))\n",
      "\n",
      "0: 480x640 (no detections), 24.0ms\n",
      "Speed: 1.3ms preprocess, 24.0ms inference, 2.2ms postprocess per image at shape (1, 3, 480, 640)\n",
      "tensor([], device='cuda:0', size=(0, 6))\n",
      "\n",
      "0: 480x640 (no detections), 22.7ms\n",
      "Speed: 1.0ms preprocess, 22.7ms inference, 2.7ms postprocess per image at shape (1, 3, 480, 640)\n",
      "tensor([], device='cuda:0', size=(0, 6))\n",
      "\n",
      "0: 480x640 (no detections), 23.9ms\n",
      "Speed: 1.2ms preprocess, 23.9ms inference, 2.2ms postprocess per image at shape (1, 3, 480, 640)\n",
      "tensor([], device='cuda:0', size=(0, 6))\n",
      "\n",
      "0: 480x640 (no detections), 24.0ms\n",
      "Speed: 1.2ms preprocess, 24.0ms inference, 2.3ms postprocess per image at shape (1, 3, 480, 640)\n",
      "tensor([], device='cuda:0', size=(0, 6))\n",
      "\n",
      "0: 480x640 (no detections), 24.4ms\n",
      "Speed: 1.2ms preprocess, 24.4ms inference, 3.2ms postprocess per image at shape (1, 3, 480, 640)\n",
      "tensor([], device='cuda:0', size=(0, 6))\n",
      "\n",
      "0: 480x640 (no detections), 27.1ms\n",
      "Speed: 1.2ms preprocess, 27.1ms inference, 2.7ms postprocess per image at shape (1, 3, 480, 640)\n",
      "tensor([], device='cuda:0', size=(0, 6))\n",
      "\n",
      "0: 480x640 (no detections), 23.1ms\n",
      "Speed: 1.1ms preprocess, 23.1ms inference, 2.3ms postprocess per image at shape (1, 3, 480, 640)\n",
      "tensor([], device='cuda:0', size=(0, 6))\n",
      "\n",
      "0: 480x640 (no detections), 23.8ms\n",
      "Speed: 1.1ms preprocess, 23.8ms inference, 12.9ms postprocess per image at shape (1, 3, 480, 640)\n",
      "tensor([], device='cuda:0', size=(0, 6))\n",
      "\n",
      "0: 480x640 (no detections), 22.6ms\n",
      "Speed: 1.0ms preprocess, 22.6ms inference, 2.4ms postprocess per image at shape (1, 3, 480, 640)\n",
      "tensor([], device='cuda:0', size=(0, 6))\n",
      "\n",
      "0: 480x640 (no detections), 24.0ms\n",
      "Speed: 1.1ms preprocess, 24.0ms inference, 2.4ms postprocess per image at shape (1, 3, 480, 640)\n",
      "tensor([], device='cuda:0', size=(0, 6))\n",
      "\n",
      "0: 480x640 (no detections), 23.5ms\n",
      "Speed: 1.2ms preprocess, 23.5ms inference, 2.2ms postprocess per image at shape (1, 3, 480, 640)\n",
      "tensor([], device='cuda:0', size=(0, 6))\n",
      "\n",
      "0: 480x640 (no detections), 24.1ms\n",
      "Speed: 1.0ms preprocess, 24.1ms inference, 2.2ms postprocess per image at shape (1, 3, 480, 640)\n",
      "tensor([], device='cuda:0', size=(0, 6))\n",
      "\n",
      "0: 480x640 (no detections), 23.8ms\n",
      "Speed: 1.2ms preprocess, 23.8ms inference, 2.8ms postprocess per image at shape (1, 3, 480, 640)\n",
      "tensor([], device='cuda:0', size=(0, 6))\n",
      "\n",
      "0: 480x640 (no detections), 23.5ms\n",
      "Speed: 1.3ms preprocess, 23.5ms inference, 2.7ms postprocess per image at shape (1, 3, 480, 640)\n",
      "tensor([], device='cuda:0', size=(0, 6))\n",
      "\n",
      "0: 480x640 (no detections), 23.4ms\n",
      "Speed: 1.2ms preprocess, 23.4ms inference, 2.4ms postprocess per image at shape (1, 3, 480, 640)\n",
      "tensor([], device='cuda:0', size=(0, 6))\n",
      "\n",
      "0: 480x640 (no detections), 23.4ms\n",
      "Speed: 1.0ms preprocess, 23.4ms inference, 3.2ms postprocess per image at shape (1, 3, 480, 640)\n",
      "tensor([], device='cuda:0', size=(0, 6))\n",
      "\n",
      "0: 480x640 (no detections), 23.5ms\n",
      "Speed: 1.2ms preprocess, 23.5ms inference, 2.2ms postprocess per image at shape (1, 3, 480, 640)\n",
      "tensor([], device='cuda:0', size=(0, 6))\n",
      "\n",
      "0: 480x640 (no detections), 24.5ms\n",
      "Speed: 1.0ms preprocess, 24.5ms inference, 2.2ms postprocess per image at shape (1, 3, 480, 640)\n",
      "tensor([], device='cuda:0', size=(0, 6))\n",
      "\n",
      "0: 480x640 (no detections), 24.6ms\n",
      "Speed: 1.6ms preprocess, 24.6ms inference, 2.2ms postprocess per image at shape (1, 3, 480, 640)\n",
      "tensor([], device='cuda:0', size=(0, 6))\n",
      "\n",
      "0: 480x640 (no detections), 24.2ms\n",
      "Speed: 1.1ms preprocess, 24.2ms inference, 2.6ms postprocess per image at shape (1, 3, 480, 640)\n",
      "tensor([], device='cuda:0', size=(0, 6))\n",
      "\n",
      "0: 480x640 (no detections), 22.1ms\n",
      "Speed: 1.1ms preprocess, 22.1ms inference, 2.2ms postprocess per image at shape (1, 3, 480, 640)\n",
      "tensor([], device='cuda:0', size=(0, 6))\n",
      "\n",
      "0: 480x640 (no detections), 25.6ms\n",
      "Speed: 1.4ms preprocess, 25.6ms inference, 2.9ms postprocess per image at shape (1, 3, 480, 640)\n",
      "tensor([], device='cuda:0', size=(0, 6))\n",
      "\n",
      "0: 480x640 (no detections), 23.5ms\n",
      "Speed: 1.2ms preprocess, 23.5ms inference, 3.0ms postprocess per image at shape (1, 3, 480, 640)\n",
      "tensor([], device='cuda:0', size=(0, 6))\n",
      "\n",
      "0: 480x640 (no detections), 23.7ms\n",
      "Speed: 1.2ms preprocess, 23.7ms inference, 2.3ms postprocess per image at shape (1, 3, 480, 640)\n",
      "tensor([], device='cuda:0', size=(0, 6))\n",
      "\n",
      "0: 480x640 (no detections), 23.6ms\n",
      "Speed: 1.3ms preprocess, 23.6ms inference, 2.2ms postprocess per image at shape (1, 3, 480, 640)\n",
      "tensor([], device='cuda:0', size=(0, 6))\n",
      "\n",
      "0: 480x640 (no detections), 23.5ms\n",
      "Speed: 1.1ms preprocess, 23.5ms inference, 2.7ms postprocess per image at shape (1, 3, 480, 640)\n",
      "tensor([], device='cuda:0', size=(0, 6))\n",
      "\n",
      "0: 480x640 (no detections), 23.5ms\n",
      "Speed: 1.4ms preprocess, 23.5ms inference, 2.3ms postprocess per image at shape (1, 3, 480, 640)\n",
      "tensor([], device='cuda:0', size=(0, 6))\n",
      "\n",
      "0: 480x640 (no detections), 23.6ms\n",
      "Speed: 1.1ms preprocess, 23.6ms inference, 2.8ms postprocess per image at shape (1, 3, 480, 640)\n",
      "tensor([], device='cuda:0', size=(0, 6))\n",
      "\n",
      "0: 480x640 (no detections), 24.0ms\n",
      "Speed: 1.0ms preprocess, 24.0ms inference, 2.6ms postprocess per image at shape (1, 3, 480, 640)\n",
      "tensor([], device='cuda:0', size=(0, 6))\n",
      "\n",
      "0: 480x640 (no detections), 24.9ms\n",
      "Speed: 1.0ms preprocess, 24.9ms inference, 2.2ms postprocess per image at shape (1, 3, 480, 640)\n",
      "tensor([], device='cuda:0', size=(0, 6))\n",
      "\n",
      "0: 480x640 (no detections), 24.6ms\n",
      "Speed: 1.1ms preprocess, 24.6ms inference, 3.2ms postprocess per image at shape (1, 3, 480, 640)\n",
      "tensor([], device='cuda:0', size=(0, 6))\n",
      "\n",
      "0: 480x640 (no detections), 24.8ms\n",
      "Speed: 1.4ms preprocess, 24.8ms inference, 3.0ms postprocess per image at shape (1, 3, 480, 640)\n",
      "tensor([], device='cuda:0', size=(0, 6))\n",
      "\n",
      "0: 480x640 (no detections), 24.4ms\n",
      "Speed: 1.1ms preprocess, 24.4ms inference, 16.2ms postprocess per image at shape (1, 3, 480, 640)\n",
      "tensor([], device='cuda:0', size=(0, 6))\n",
      "\n",
      "0: 480x640 (no detections), 22.5ms\n",
      "Speed: 1.0ms preprocess, 22.5ms inference, 2.3ms postprocess per image at shape (1, 3, 480, 640)\n",
      "tensor([], device='cuda:0', size=(0, 6))\n",
      "\n",
      "0: 480x640 (no detections), 25.0ms\n",
      "Speed: 1.1ms preprocess, 25.0ms inference, 3.0ms postprocess per image at shape (1, 3, 480, 640)\n",
      "tensor([], device='cuda:0', size=(0, 6))\n",
      "\n",
      "0: 480x640 (no detections), 22.0ms\n",
      "Speed: 1.2ms preprocess, 22.0ms inference, 2.9ms postprocess per image at shape (1, 3, 480, 640)\n",
      "tensor([], device='cuda:0', size=(0, 6))\n",
      "\n",
      "0: 480x640 (no detections), 23.7ms\n",
      "Speed: 3.5ms preprocess, 23.7ms inference, 2.4ms postprocess per image at shape (1, 3, 480, 640)\n",
      "tensor([], device='cuda:0', size=(0, 6))\n",
      "\n",
      "0: 480x640 (no detections), 25.5ms\n",
      "Speed: 0.9ms preprocess, 25.5ms inference, 2.9ms postprocess per image at shape (1, 3, 480, 640)\n",
      "tensor([], device='cuda:0', size=(0, 6))\n",
      "\n",
      "0: 480x640 (no detections), 24.3ms\n",
      "Speed: 1.3ms preprocess, 24.3ms inference, 2.3ms postprocess per image at shape (1, 3, 480, 640)\n",
      "tensor([], device='cuda:0', size=(0, 6))\n",
      "\n",
      "0: 480x640 (no detections), 24.2ms\n",
      "Speed: 1.3ms preprocess, 24.2ms inference, 2.9ms postprocess per image at shape (1, 3, 480, 640)\n",
      "tensor([], device='cuda:0', size=(0, 6))\n",
      "\n",
      "0: 480x640 (no detections), 24.3ms\n",
      "Speed: 1.0ms preprocess, 24.3ms inference, 2.2ms postprocess per image at shape (1, 3, 480, 640)\n",
      "tensor([], device='cuda:0', size=(0, 6))\n",
      "\n",
      "0: 480x640 (no detections), 24.6ms\n",
      "Speed: 1.1ms preprocess, 24.6ms inference, 2.5ms postprocess per image at shape (1, 3, 480, 640)\n",
      "tensor([], device='cuda:0', size=(0, 6))\n",
      "\n",
      "0: 480x640 (no detections), 24.4ms\n",
      "Speed: 1.0ms preprocess, 24.4ms inference, 2.4ms postprocess per image at shape (1, 3, 480, 640)\n",
      "tensor([], device='cuda:0', size=(0, 6))\n",
      "\n",
      "0: 480x640 (no detections), 24.5ms\n",
      "Speed: 1.3ms preprocess, 24.5ms inference, 3.0ms postprocess per image at shape (1, 3, 480, 640)\n",
      "tensor([], device='cuda:0', size=(0, 6))\n",
      "\n",
      "0: 480x640 (no detections), 24.9ms\n",
      "Speed: 1.3ms preprocess, 24.9ms inference, 2.9ms postprocess per image at shape (1, 3, 480, 640)\n",
      "tensor([], device='cuda:0', size=(0, 6))\n",
      "\n",
      "0: 480x640 (no detections), 25.1ms\n",
      "Speed: 1.1ms preprocess, 25.1ms inference, 2.3ms postprocess per image at shape (1, 3, 480, 640)\n",
      "tensor([], device='cuda:0', size=(0, 6))\n",
      "\n",
      "0: 480x640 (no detections), 25.0ms\n",
      "Speed: 1.0ms preprocess, 25.0ms inference, 2.2ms postprocess per image at shape (1, 3, 480, 640)\n",
      "tensor([], device='cuda:0', size=(0, 6))\n",
      "\n",
      "0: 480x640 (no detections), 25.1ms\n",
      "Speed: 1.0ms preprocess, 25.1ms inference, 2.3ms postprocess per image at shape (1, 3, 480, 640)\n",
      "tensor([], device='cuda:0', size=(0, 6))\n",
      "\n",
      "0: 480x640 (no detections), 25.1ms\n",
      "Speed: 1.0ms preprocess, 25.1ms inference, 2.2ms postprocess per image at shape (1, 3, 480, 640)\n",
      "tensor([], device='cuda:0', size=(0, 6))\n",
      "\n",
      "0: 480x640 (no detections), 28.4ms\n",
      "Speed: 1.3ms preprocess, 28.4ms inference, 6.3ms postprocess per image at shape (1, 3, 480, 640)\n",
      "tensor([], device='cuda:0', size=(0, 6))\n",
      "\n",
      "0: 480x640 (no detections), 21.9ms\n",
      "Speed: 1.5ms preprocess, 21.9ms inference, 3.8ms postprocess per image at shape (1, 3, 480, 640)\n",
      "tensor([], device='cuda:0', size=(0, 6))\n",
      "\n",
      "0: 480x640 (no detections), 24.0ms\n",
      "Speed: 1.2ms preprocess, 24.0ms inference, 3.4ms postprocess per image at shape (1, 3, 480, 640)\n",
      "tensor([], device='cuda:0', size=(0, 6))\n",
      "\n",
      "0: 480x640 (no detections), 24.3ms\n",
      "Speed: 1.6ms preprocess, 24.3ms inference, 2.7ms postprocess per image at shape (1, 3, 480, 640)\n",
      "tensor([], device='cuda:0', size=(0, 6))\n",
      "\n",
      "0: 480x640 (no detections), 24.8ms\n",
      "Speed: 1.0ms preprocess, 24.8ms inference, 3.1ms postprocess per image at shape (1, 3, 480, 640)\n",
      "tensor([], device='cuda:0', size=(0, 6))\n",
      "\n",
      "0: 480x640 (no detections), 25.1ms\n",
      "Speed: 1.3ms preprocess, 25.1ms inference, 2.9ms postprocess per image at shape (1, 3, 480, 640)\n",
      "tensor([], device='cuda:0', size=(0, 6))\n",
      "\n",
      "0: 480x640 (no detections), 25.1ms\n",
      "Speed: 1.2ms preprocess, 25.1ms inference, 2.5ms postprocess per image at shape (1, 3, 480, 640)\n",
      "tensor([], device='cuda:0', size=(0, 6))\n",
      "\n",
      "0: 480x640 (no detections), 25.0ms\n",
      "Speed: 1.1ms preprocess, 25.0ms inference, 14.7ms postprocess per image at shape (1, 3, 480, 640)\n",
      "tensor([], device='cuda:0', size=(0, 6))\n",
      "\n",
      "0: 480x640 (no detections), 24.2ms\n",
      "Speed: 1.0ms preprocess, 24.2ms inference, 2.8ms postprocess per image at shape (1, 3, 480, 640)\n",
      "tensor([], device='cuda:0', size=(0, 6))\n",
      "\n",
      "0: 480x640 (no detections), 25.1ms\n",
      "Speed: 1.2ms preprocess, 25.1ms inference, 2.1ms postprocess per image at shape (1, 3, 480, 640)\n",
      "tensor([], device='cuda:0', size=(0, 6))\n",
      "\n",
      "0: 480x640 (no detections), 25.2ms\n",
      "Speed: 1.4ms preprocess, 25.2ms inference, 2.2ms postprocess per image at shape (1, 3, 480, 640)\n",
      "tensor([], device='cuda:0', size=(0, 6))\n",
      "\n",
      "0: 480x640 (no detections), 24.8ms\n",
      "Speed: 1.0ms preprocess, 24.8ms inference, 2.8ms postprocess per image at shape (1, 3, 480, 640)\n",
      "tensor([], device='cuda:0', size=(0, 6))\n",
      "\n",
      "0: 480x640 (no detections), 24.6ms\n",
      "Speed: 1.1ms preprocess, 24.6ms inference, 2.2ms postprocess per image at shape (1, 3, 480, 640)\n",
      "tensor([], device='cuda:0', size=(0, 6))\n",
      "\n",
      "0: 480x640 (no detections), 24.7ms\n",
      "Speed: 0.9ms preprocess, 24.7ms inference, 2.1ms postprocess per image at shape (1, 3, 480, 640)\n",
      "tensor([], device='cuda:0', size=(0, 6))\n",
      "\n",
      "0: 480x640 (no detections), 25.0ms\n",
      "Speed: 1.3ms preprocess, 25.0ms inference, 2.4ms postprocess per image at shape (1, 3, 480, 640)\n",
      "tensor([], device='cuda:0', size=(0, 6))\n",
      "\n",
      "0: 480x640 (no detections), 25.3ms\n",
      "Speed: 1.2ms preprocess, 25.3ms inference, 3.0ms postprocess per image at shape (1, 3, 480, 640)\n",
      "tensor([], device='cuda:0', size=(0, 6))\n",
      "\n",
      "0: 480x640 (no detections), 24.2ms\n",
      "Speed: 1.3ms preprocess, 24.2ms inference, 2.7ms postprocess per image at shape (1, 3, 480, 640)\n",
      "tensor([], device='cuda:0', size=(0, 6))\n",
      "\n",
      "0: 480x640 (no detections), 26.0ms\n",
      "Speed: 1.2ms preprocess, 26.0ms inference, 2.9ms postprocess per image at shape (1, 3, 480, 640)\n",
      "tensor([], device='cuda:0', size=(0, 6))\n",
      "\n",
      "0: 480x640 (no detections), 23.7ms\n",
      "Speed: 1.7ms preprocess, 23.7ms inference, 2.7ms postprocess per image at shape (1, 3, 480, 640)\n",
      "tensor([], device='cuda:0', size=(0, 6))\n",
      "\n",
      "0: 480x640 (no detections), 29.6ms\n",
      "Speed: 1.2ms preprocess, 29.6ms inference, 2.6ms postprocess per image at shape (1, 3, 480, 640)\n",
      "tensor([], device='cuda:0', size=(0, 6))\n",
      "\n",
      "0: 480x640 (no detections), 24.7ms\n",
      "Speed: 1.7ms preprocess, 24.7ms inference, 2.2ms postprocess per image at shape (1, 3, 480, 640)\n",
      "tensor([], device='cuda:0', size=(0, 6))\n",
      "\n",
      "0: 480x640 (no detections), 24.6ms\n",
      "Speed: 1.0ms preprocess, 24.6ms inference, 2.4ms postprocess per image at shape (1, 3, 480, 640)\n",
      "tensor([], device='cuda:0', size=(0, 6))\n",
      "\n",
      "0: 480x640 (no detections), 24.4ms\n",
      "Speed: 1.0ms preprocess, 24.4ms inference, 2.1ms postprocess per image at shape (1, 3, 480, 640)\n",
      "tensor([], device='cuda:0', size=(0, 6))\n",
      "\n",
      "0: 480x640 (no detections), 24.5ms\n",
      "Speed: 1.4ms preprocess, 24.5ms inference, 2.6ms postprocess per image at shape (1, 3, 480, 640)\n",
      "tensor([], device='cuda:0', size=(0, 6))\n",
      "\n",
      "0: 480x640 (no detections), 24.9ms\n",
      "Speed: 1.0ms preprocess, 24.9ms inference, 3.0ms postprocess per image at shape (1, 3, 480, 640)\n",
      "tensor([], device='cuda:0', size=(0, 6))\n",
      "\n",
      "0: 480x640 (no detections), 24.8ms\n",
      "Speed: 1.2ms preprocess, 24.8ms inference, 2.6ms postprocess per image at shape (1, 3, 480, 640)\n",
      "tensor([], device='cuda:0', size=(0, 6))\n",
      "\n",
      "0: 480x640 (no detections), 24.8ms\n",
      "Speed: 1.1ms preprocess, 24.8ms inference, 2.4ms postprocess per image at shape (1, 3, 480, 640)\n",
      "tensor([], device='cuda:0', size=(0, 6))\n",
      "\n",
      "0: 480x640 (no detections), 25.0ms\n",
      "Speed: 1.0ms preprocess, 25.0ms inference, 2.3ms postprocess per image at shape (1, 3, 480, 640)\n",
      "tensor([], device='cuda:0', size=(0, 6))\n",
      "\n",
      "0: 480x640 (no detections), 25.1ms\n",
      "Speed: 1.0ms preprocess, 25.1ms inference, 2.4ms postprocess per image at shape (1, 3, 480, 640)\n",
      "tensor([], device='cuda:0', size=(0, 6))\n",
      "\n",
      "0: 480x640 (no detections), 25.0ms\n",
      "Speed: 1.2ms preprocess, 25.0ms inference, 2.6ms postprocess per image at shape (1, 3, 480, 640)\n",
      "tensor([], device='cuda:0', size=(0, 6))\n",
      "\n",
      "0: 480x640 (no detections), 27.9ms\n",
      "Speed: 1.1ms preprocess, 27.9ms inference, 2.9ms postprocess per image at shape (1, 3, 480, 640)\n",
      "tensor([], device='cuda:0', size=(0, 6))\n",
      "\n",
      "0: 480x640 (no detections), 23.2ms\n",
      "Speed: 4.4ms preprocess, 23.2ms inference, 13.2ms postprocess per image at shape (1, 3, 480, 640)\n",
      "tensor([], device='cuda:0', size=(0, 6))\n",
      "\n",
      "0: 480x640 (no detections), 22.9ms\n",
      "Speed: 1.1ms preprocess, 22.9ms inference, 2.4ms postprocess per image at shape (1, 3, 480, 640)\n",
      "tensor([], device='cuda:0', size=(0, 6))\n",
      "\n",
      "0: 480x640 (no detections), 24.8ms\n",
      "Speed: 1.2ms preprocess, 24.8ms inference, 2.5ms postprocess per image at shape (1, 3, 480, 640)\n",
      "tensor([], device='cuda:0', size=(0, 6))\n",
      "\n",
      "0: 480x640 (no detections), 24.8ms\n",
      "Speed: 1.5ms preprocess, 24.8ms inference, 2.5ms postprocess per image at shape (1, 3, 480, 640)\n",
      "tensor([], device='cuda:0', size=(0, 6))\n",
      "\n",
      "0: 480x640 (no detections), 24.8ms\n",
      "Speed: 1.1ms preprocess, 24.8ms inference, 2.3ms postprocess per image at shape (1, 3, 480, 640)\n",
      "tensor([], device='cuda:0', size=(0, 6))\n",
      "\n",
      "0: 480x640 (no detections), 24.9ms\n",
      "Speed: 1.1ms preprocess, 24.9ms inference, 2.2ms postprocess per image at shape (1, 3, 480, 640)\n",
      "tensor([], device='cuda:0', size=(0, 6))\n",
      "\n",
      "0: 480x640 (no detections), 24.8ms\n",
      "Speed: 1.2ms preprocess, 24.8ms inference, 2.3ms postprocess per image at shape (1, 3, 480, 640)\n",
      "tensor([], device='cuda:0', size=(0, 6))\n",
      "\n",
      "0: 480x640 (no detections), 25.0ms\n",
      "Speed: 1.0ms preprocess, 25.0ms inference, 2.4ms postprocess per image at shape (1, 3, 480, 640)\n",
      "tensor([], device='cuda:0', size=(0, 6))\n",
      "\n",
      "0: 480x640 (no detections), 25.5ms\n",
      "Speed: 1.0ms preprocess, 25.5ms inference, 2.7ms postprocess per image at shape (1, 3, 480, 640)\n",
      "tensor([], device='cuda:0', size=(0, 6))\n",
      "\n",
      "0: 480x640 (no detections), 24.1ms\n",
      "Speed: 1.3ms preprocess, 24.1ms inference, 2.6ms postprocess per image at shape (1, 3, 480, 640)\n",
      "tensor([], device='cuda:0', size=(0, 6))\n",
      "\n",
      "0: 480x640 (no detections), 23.7ms\n",
      "Speed: 1.2ms preprocess, 23.7ms inference, 3.4ms postprocess per image at shape (1, 3, 480, 640)\n",
      "tensor([], device='cuda:0', size=(0, 6))\n",
      "\n",
      "0: 480x640 (no detections), 24.6ms\n",
      "Speed: 1.3ms preprocess, 24.6ms inference, 4.6ms postprocess per image at shape (1, 3, 480, 640)\n",
      "tensor([], device='cuda:0', size=(0, 6))\n",
      "\n",
      "0: 480x640 (no detections), 22.9ms\n",
      "Speed: 1.1ms preprocess, 22.9ms inference, 2.8ms postprocess per image at shape (1, 3, 480, 640)\n",
      "tensor([], device='cuda:0', size=(0, 6))\n",
      "\n",
      "0: 480x640 (no detections), 24.7ms\n",
      "Speed: 1.1ms preprocess, 24.7ms inference, 2.1ms postprocess per image at shape (1, 3, 480, 640)\n",
      "tensor([], device='cuda:0', size=(0, 6))\n",
      "\n",
      "0: 480x640 (no detections), 25.1ms\n",
      "Speed: 1.2ms preprocess, 25.1ms inference, 2.5ms postprocess per image at shape (1, 3, 480, 640)\n",
      "tensor([], device='cuda:0', size=(0, 6))\n",
      "\n",
      "0: 480x640 (no detections), 25.1ms\n",
      "Speed: 1.0ms preprocess, 25.1ms inference, 2.9ms postprocess per image at shape (1, 3, 480, 640)\n",
      "tensor([], device='cuda:0', size=(0, 6))\n",
      "\n",
      "0: 480x640 (no detections), 25.2ms\n",
      "Speed: 1.3ms preprocess, 25.2ms inference, 2.2ms postprocess per image at shape (1, 3, 480, 640)\n",
      "tensor([], device='cuda:0', size=(0, 6))\n",
      "\n",
      "0: 480x640 (no detections), 25.4ms\n",
      "Speed: 1.2ms preprocess, 25.4ms inference, 2.4ms postprocess per image at shape (1, 3, 480, 640)\n",
      "tensor([], device='cuda:0', size=(0, 6))\n",
      "\n",
      "0: 480x640 (no detections), 25.3ms\n",
      "Speed: 1.0ms preprocess, 25.3ms inference, 2.7ms postprocess per image at shape (1, 3, 480, 640)\n",
      "tensor([], device='cuda:0', size=(0, 6))\n",
      "\n",
      "0: 480x640 (no detections), 25.4ms\n",
      "Speed: 1.0ms preprocess, 25.4ms inference, 2.4ms postprocess per image at shape (1, 3, 480, 640)\n",
      "tensor([], device='cuda:0', size=(0, 6))\n",
      "\n",
      "0: 480x640 (no detections), 27.9ms\n",
      "Speed: 1.7ms preprocess, 27.9ms inference, 3.6ms postprocess per image at shape (1, 3, 480, 640)\n",
      "tensor([], device='cuda:0', size=(0, 6))\n",
      "\n",
      "0: 480x640 (no detections), 22.6ms\n",
      "Speed: 1.7ms preprocess, 22.6ms inference, 2.4ms postprocess per image at shape (1, 3, 480, 640)\n",
      "tensor([], device='cuda:0', size=(0, 6))\n",
      "\n",
      "0: 480x640 (no detections), 24.6ms\n",
      "Speed: 1.1ms preprocess, 24.6ms inference, 2.4ms postprocess per image at shape (1, 3, 480, 640)\n",
      "tensor([], device='cuda:0', size=(0, 6))\n",
      "\n",
      "0: 480x640 (no detections), 24.6ms\n",
      "Speed: 1.0ms preprocess, 24.6ms inference, 2.4ms postprocess per image at shape (1, 3, 480, 640)\n",
      "tensor([], device='cuda:0', size=(0, 6))\n",
      "\n",
      "0: 480x640 (no detections), 24.8ms\n",
      "Speed: 1.2ms preprocess, 24.8ms inference, 14.8ms postprocess per image at shape (1, 3, 480, 640)\n",
      "tensor([], device='cuda:0', size=(0, 6))\n",
      "\n",
      "0: 480x640 (no detections), 23.3ms\n",
      "Speed: 1.5ms preprocess, 23.3ms inference, 2.2ms postprocess per image at shape (1, 3, 480, 640)\n",
      "tensor([], device='cuda:0', size=(0, 6))\n",
      "\n",
      "0: 480x640 (no detections), 24.8ms\n",
      "Speed: 1.1ms preprocess, 24.8ms inference, 1.8ms postprocess per image at shape (1, 3, 480, 640)\n",
      "tensor([], device='cuda:0', size=(0, 6))\n",
      "\n",
      "0: 480x640 (no detections), 25.6ms\n",
      "Speed: 1.0ms preprocess, 25.6ms inference, 2.2ms postprocess per image at shape (1, 3, 480, 640)\n",
      "tensor([], device='cuda:0', size=(0, 6))\n",
      "\n",
      "0: 480x640 (no detections), 26.4ms\n",
      "Speed: 1.0ms preprocess, 26.4ms inference, 2.5ms postprocess per image at shape (1, 3, 480, 640)\n",
      "tensor([], device='cuda:0', size=(0, 6))\n",
      "\n",
      "0: 480x640 (no detections), 30.0ms\n",
      "Speed: 1.2ms preprocess, 30.0ms inference, 2.5ms postprocess per image at shape (1, 3, 480, 640)\n",
      "tensor([], device='cuda:0', size=(0, 6))\n",
      "\n",
      "0: 480x640 (no detections), 23.8ms\n",
      "Speed: 1.1ms preprocess, 23.8ms inference, 2.6ms postprocess per image at shape (1, 3, 480, 640)\n",
      "tensor([], device='cuda:0', size=(0, 6))\n",
      "\n",
      "0: 480x640 (no detections), 24.7ms\n",
      "Speed: 1.2ms preprocess, 24.7ms inference, 2.2ms postprocess per image at shape (1, 3, 480, 640)\n",
      "tensor([], device='cuda:0', size=(0, 6))\n",
      "\n",
      "0: 480x640 (no detections), 25.3ms\n",
      "Speed: 1.0ms preprocess, 25.3ms inference, 2.0ms postprocess per image at shape (1, 3, 480, 640)\n",
      "tensor([], device='cuda:0', size=(0, 6))\n",
      "\n",
      "0: 480x640 (no detections), 25.1ms\n",
      "Speed: 1.0ms preprocess, 25.1ms inference, 2.2ms postprocess per image at shape (1, 3, 480, 640)\n",
      "tensor([], device='cuda:0', size=(0, 6))\n",
      "\n",
      "0: 480x640 (no detections), 23.8ms\n",
      "Speed: 1.2ms preprocess, 23.8ms inference, 2.4ms postprocess per image at shape (1, 3, 480, 640)\n",
      "tensor([], device='cuda:0', size=(0, 6))\n",
      "\n",
      "0: 480x640 (no detections), 24.8ms\n",
      "Speed: 1.2ms preprocess, 24.8ms inference, 2.2ms postprocess per image at shape (1, 3, 480, 640)\n",
      "tensor([], device='cuda:0', size=(0, 6))\n",
      "\n",
      "0: 480x640 (no detections), 25.2ms\n",
      "Speed: 1.0ms preprocess, 25.2ms inference, 2.4ms postprocess per image at shape (1, 3, 480, 640)\n",
      "tensor([], device='cuda:0', size=(0, 6))\n",
      "\n",
      "0: 480x640 (no detections), 25.2ms\n",
      "Speed: 1.0ms preprocess, 25.2ms inference, 2.4ms postprocess per image at shape (1, 3, 480, 640)\n",
      "tensor([], device='cuda:0', size=(0, 6))\n",
      "\n",
      "0: 480x640 (no detections), 25.1ms\n",
      "Speed: 1.1ms preprocess, 25.1ms inference, 2.0ms postprocess per image at shape (1, 3, 480, 640)\n",
      "tensor([], device='cuda:0', size=(0, 6))\n",
      "\n",
      "0: 480x640 (no detections), 24.7ms\n",
      "Speed: 1.1ms preprocess, 24.7ms inference, 2.2ms postprocess per image at shape (1, 3, 480, 640)\n",
      "tensor([], device='cuda:0', size=(0, 6))\n",
      "\n",
      "0: 480x640 (no detections), 24.5ms\n",
      "Speed: 1.1ms preprocess, 24.5ms inference, 3.1ms postprocess per image at shape (1, 3, 480, 640)\n",
      "tensor([], device='cuda:0', size=(0, 6))\n",
      "\n",
      "0: 480x640 (no detections), 22.6ms\n",
      "Speed: 1.2ms preprocess, 22.6ms inference, 6.6ms postprocess per image at shape (1, 3, 480, 640)\n",
      "tensor([], device='cuda:0', size=(0, 6))\n",
      "\n",
      "0: 480x640 (no detections), 24.2ms\n",
      "Speed: 1.2ms preprocess, 24.2ms inference, 3.3ms postprocess per image at shape (1, 3, 480, 640)\n",
      "tensor([], device='cuda:0', size=(0, 6))\n",
      "\n",
      "0: 480x640 (no detections), 24.8ms\n",
      "Speed: 1.1ms preprocess, 24.8ms inference, 3.3ms postprocess per image at shape (1, 3, 480, 640)\n",
      "tensor([], device='cuda:0', size=(0, 6))\n",
      "\n",
      "0: 480x640 (no detections), 25.1ms\n",
      "Speed: 1.5ms preprocess, 25.1ms inference, 2.4ms postprocess per image at shape (1, 3, 480, 640)\n",
      "tensor([], device='cuda:0', size=(0, 6))\n",
      "\n",
      "0: 480x640 (no detections), 24.9ms\n",
      "Speed: 1.2ms preprocess, 24.9ms inference, 2.3ms postprocess per image at shape (1, 3, 480, 640)\n",
      "tensor([], device='cuda:0', size=(0, 6))\n",
      "\n",
      "0: 480x640 (no detections), 24.8ms\n",
      "Speed: 1.7ms preprocess, 24.8ms inference, 2.3ms postprocess per image at shape (1, 3, 480, 640)\n",
      "tensor([], device='cuda:0', size=(0, 6))\n",
      "\n",
      "0: 480x640 (no detections), 24.9ms\n",
      "Speed: 1.0ms preprocess, 24.9ms inference, 2.7ms postprocess per image at shape (1, 3, 480, 640)\n",
      "tensor([], device='cuda:0', size=(0, 6))\n",
      "\n",
      "0: 480x640 (no detections), 25.0ms\n",
      "Speed: 1.2ms preprocess, 25.0ms inference, 2.5ms postprocess per image at shape (1, 3, 480, 640)\n",
      "tensor([], device='cuda:0', size=(0, 6))\n",
      "\n",
      "0: 480x640 (no detections), 24.4ms\n",
      "Speed: 0.9ms preprocess, 24.4ms inference, 2.3ms postprocess per image at shape (1, 3, 480, 640)\n",
      "tensor([], device='cuda:0', size=(0, 6))\n",
      "\n",
      "0: 480x640 (no detections), 24.8ms\n",
      "Speed: 1.0ms preprocess, 24.8ms inference, 2.4ms postprocess per image at shape (1, 3, 480, 640)\n",
      "tensor([], device='cuda:0', size=(0, 6))\n",
      "\n",
      "0: 480x640 (no detections), 24.5ms\n",
      "Speed: 1.0ms preprocess, 24.5ms inference, 2.1ms postprocess per image at shape (1, 3, 480, 640)\n",
      "tensor([], device='cuda:0', size=(0, 6))\n",
      "\n",
      "0: 480x640 (no detections), 23.7ms\n",
      "Speed: 1.8ms preprocess, 23.7ms inference, 2.1ms postprocess per image at shape (1, 3, 480, 640)\n",
      "tensor([], device='cuda:0', size=(0, 6))\n",
      "\n",
      "0: 480x640 (no detections), 25.0ms\n",
      "Speed: 1.2ms preprocess, 25.0ms inference, 2.4ms postprocess per image at shape (1, 3, 480, 640)\n",
      "tensor([], device='cuda:0', size=(0, 6))\n",
      "\n",
      "0: 480x640 (no detections), 25.3ms\n",
      "Speed: 1.1ms preprocess, 25.3ms inference, 2.4ms postprocess per image at shape (1, 3, 480, 640)\n",
      "tensor([], device='cuda:0', size=(0, 6))\n",
      "\n",
      "0: 480x640 (no detections), 25.1ms\n",
      "Speed: 1.1ms preprocess, 25.1ms inference, 2.8ms postprocess per image at shape (1, 3, 480, 640)\n",
      "tensor([], device='cuda:0', size=(0, 6))\n",
      "\n",
      "0: 480x640 (no detections), 22.4ms\n",
      "Speed: 1.3ms preprocess, 22.4ms inference, 3.8ms postprocess per image at shape (1, 3, 480, 640)\n",
      "tensor([], device='cuda:0', size=(0, 6))\n",
      "\n",
      "0: 480x640 (no detections), 24.7ms\n",
      "Speed: 1.5ms preprocess, 24.7ms inference, 2.1ms postprocess per image at shape (1, 3, 480, 640)\n",
      "tensor([], device='cuda:0', size=(0, 6))\n",
      "\n",
      "0: 480x640 (no detections), 24.9ms\n",
      "Speed: 1.1ms preprocess, 24.9ms inference, 2.2ms postprocess per image at shape (1, 3, 480, 640)\n",
      "tensor([], device='cuda:0', size=(0, 6))\n",
      "\n",
      "0: 480x640 (no detections), 24.7ms\n",
      "Speed: 0.9ms preprocess, 24.7ms inference, 2.4ms postprocess per image at shape (1, 3, 480, 640)\n",
      "tensor([], device='cuda:0', size=(0, 6))\n",
      "\n",
      "0: 480x640 (no detections), 24.7ms\n",
      "Speed: 1.1ms preprocess, 24.7ms inference, 2.2ms postprocess per image at shape (1, 3, 480, 640)\n",
      "tensor([], device='cuda:0', size=(0, 6))\n",
      "\n",
      "0: 480x640 (no detections), 24.4ms\n",
      "Speed: 1.0ms preprocess, 24.4ms inference, 2.7ms postprocess per image at shape (1, 3, 480, 640)\n",
      "tensor([], device='cuda:0', size=(0, 6))\n",
      "\n",
      "0: 480x640 (no detections), 24.9ms\n",
      "Speed: 1.4ms preprocess, 24.9ms inference, 2.1ms postprocess per image at shape (1, 3, 480, 640)\n",
      "tensor([], device='cuda:0', size=(0, 6))\n",
      "\n",
      "0: 480x640 (no detections), 24.8ms\n",
      "Speed: 1.1ms preprocess, 24.8ms inference, 2.0ms postprocess per image at shape (1, 3, 480, 640)\n",
      "tensor([], device='cuda:0', size=(0, 6))\n",
      "\n",
      "0: 480x640 (no detections), 24.7ms\n",
      "Speed: 1.1ms preprocess, 24.7ms inference, 2.9ms postprocess per image at shape (1, 3, 480, 640)\n",
      "tensor([], device='cuda:0', size=(0, 6))\n",
      "\n",
      "0: 480x640 (no detections), 24.5ms\n",
      "Speed: 1.8ms preprocess, 24.5ms inference, 2.2ms postprocess per image at shape (1, 3, 480, 640)\n",
      "tensor([], device='cuda:0', size=(0, 6))\n",
      "\n",
      "0: 480x640 (no detections), 23.3ms\n",
      "Speed: 1.2ms preprocess, 23.3ms inference, 9.9ms postprocess per image at shape (1, 3, 480, 640)\n",
      "tensor([], device='cuda:0', size=(0, 6))\n",
      "\n",
      "0: 480x640 (no detections), 23.3ms\n",
      "Speed: 1.2ms preprocess, 23.3ms inference, 2.1ms postprocess per image at shape (1, 3, 480, 640)\n",
      "tensor([], device='cuda:0', size=(0, 6))\n",
      "\n",
      "0: 480x640 (no detections), 24.6ms\n",
      "Speed: 1.2ms preprocess, 24.6ms inference, 2.2ms postprocess per image at shape (1, 3, 480, 640)\n",
      "tensor([], device='cuda:0', size=(0, 6))\n",
      "\n",
      "0: 480x640 (no detections), 24.6ms\n",
      "Speed: 1.1ms preprocess, 24.6ms inference, 2.4ms postprocess per image at shape (1, 3, 480, 640)\n",
      "tensor([], device='cuda:0', size=(0, 6))\n",
      "\n",
      "0: 480x640 (no detections), 24.8ms\n",
      "Speed: 0.9ms preprocess, 24.8ms inference, 2.5ms postprocess per image at shape (1, 3, 480, 640)\n",
      "tensor([], device='cuda:0', size=(0, 6))\n",
      "\n",
      "0: 480x640 (no detections), 24.3ms\n",
      "Speed: 1.1ms preprocess, 24.3ms inference, 2.5ms postprocess per image at shape (1, 3, 480, 640)\n",
      "tensor([], device='cuda:0', size=(0, 6))\n",
      "\n",
      "0: 480x640 (no detections), 24.9ms\n",
      "Speed: 1.0ms preprocess, 24.9ms inference, 2.1ms postprocess per image at shape (1, 3, 480, 640)\n",
      "tensor([], device='cuda:0', size=(0, 6))\n",
      "\n",
      "0: 480x640 (no detections), 24.7ms\n",
      "Speed: 1.1ms preprocess, 24.7ms inference, 12.8ms postprocess per image at shape (1, 3, 480, 640)\n",
      "tensor([], device='cuda:0', size=(0, 6))\n",
      "\n",
      "0: 480x640 (no detections), 24.4ms\n",
      "Speed: 1.4ms preprocess, 24.4ms inference, 2.0ms postprocess per image at shape (1, 3, 480, 640)\n",
      "tensor([], device='cuda:0', size=(0, 6))\n",
      "\n",
      "0: 480x640 (no detections), 24.7ms\n",
      "Speed: 1.2ms preprocess, 24.7ms inference, 2.2ms postprocess per image at shape (1, 3, 480, 640)\n",
      "tensor([], device='cuda:0', size=(0, 6))\n",
      "\n",
      "0: 480x640 (no detections), 24.7ms\n",
      "Speed: 1.1ms preprocess, 24.7ms inference, 1.9ms postprocess per image at shape (1, 3, 480, 640)\n",
      "tensor([], device='cuda:0', size=(0, 6))\n",
      "\n",
      "0: 480x640 (no detections), 25.2ms\n",
      "Speed: 1.2ms preprocess, 25.2ms inference, 2.2ms postprocess per image at shape (1, 3, 480, 640)\n",
      "tensor([], device='cuda:0', size=(0, 6))\n",
      "\n",
      "0: 480x640 (no detections), 25.2ms\n",
      "Speed: 1.0ms preprocess, 25.2ms inference, 2.4ms postprocess per image at shape (1, 3, 480, 640)\n",
      "tensor([], device='cuda:0', size=(0, 6))\n",
      "\n",
      "0: 480x640 (no detections), 25.3ms\n",
      "Speed: 1.1ms preprocess, 25.3ms inference, 2.8ms postprocess per image at shape (1, 3, 480, 640)\n",
      "tensor([], device='cuda:0', size=(0, 6))\n",
      "\n",
      "0: 480x640 (no detections), 25.1ms\n",
      "Speed: 1.0ms preprocess, 25.1ms inference, 5.5ms postprocess per image at shape (1, 3, 480, 640)\n",
      "tensor([], device='cuda:0', size=(0, 6))\n",
      "\n",
      "0: 480x640 (no detections), 21.7ms\n",
      "Speed: 1.0ms preprocess, 21.7ms inference, 4.0ms postprocess per image at shape (1, 3, 480, 640)\n",
      "tensor([], device='cuda:0', size=(0, 6))\n",
      "\n",
      "0: 480x640 (no detections), 23.9ms\n",
      "Speed: 1.1ms preprocess, 23.9ms inference, 2.4ms postprocess per image at shape (1, 3, 480, 640)\n",
      "tensor([], device='cuda:0', size=(0, 6))\n",
      "\n",
      "0: 480x640 (no detections), 24.7ms\n",
      "Speed: 1.2ms preprocess, 24.7ms inference, 2.0ms postprocess per image at shape (1, 3, 480, 640)\n",
      "tensor([], device='cuda:0', size=(0, 6))\n",
      "\n",
      "0: 480x640 (no detections), 24.6ms\n",
      "Speed: 0.9ms preprocess, 24.6ms inference, 2.4ms postprocess per image at shape (1, 3, 480, 640)\n",
      "tensor([], device='cuda:0', size=(0, 6))\n",
      "\n",
      "0: 480x640 (no detections), 26.7ms\n",
      "Speed: 1.1ms preprocess, 26.7ms inference, 2.0ms postprocess per image at shape (1, 3, 480, 640)\n",
      "tensor([], device='cuda:0', size=(0, 6))\n",
      "\n",
      "0: 480x640 (no detections), 28.5ms\n",
      "Speed: 1.0ms preprocess, 28.5ms inference, 2.4ms postprocess per image at shape (1, 3, 480, 640)\n",
      "tensor([], device='cuda:0', size=(0, 6))\n",
      "\n",
      "0: 480x640 (no detections), 28.6ms\n",
      "Speed: 1.4ms preprocess, 28.6ms inference, 2.7ms postprocess per image at shape (1, 3, 480, 640)\n",
      "tensor([], device='cuda:0', size=(0, 6))\n",
      "\n",
      "0: 480x640 (no detections), 28.7ms\n",
      "Speed: 1.0ms preprocess, 28.7ms inference, 2.1ms postprocess per image at shape (1, 3, 480, 640)\n",
      "tensor([], device='cuda:0', size=(0, 6))\n",
      "\n",
      "0: 480x640 (no detections), 29.2ms\n",
      "Speed: 1.1ms preprocess, 29.2ms inference, 2.2ms postprocess per image at shape (1, 3, 480, 640)\n",
      "tensor([], device='cuda:0', size=(0, 6))\n",
      "\n",
      "0: 480x640 (no detections), 29.0ms\n",
      "Speed: 1.0ms preprocess, 29.0ms inference, 2.6ms postprocess per image at shape (1, 3, 480, 640)\n",
      "tensor([], device='cuda:0', size=(0, 6))\n",
      "\n",
      "0: 480x640 (no detections), 29.0ms\n",
      "Speed: 1.1ms preprocess, 29.0ms inference, 2.3ms postprocess per image at shape (1, 3, 480, 640)\n",
      "tensor([], device='cuda:0', size=(0, 6))\n",
      "\n",
      "0: 480x640 (no detections), 29.2ms\n",
      "Speed: 1.5ms preprocess, 29.2ms inference, 2.4ms postprocess per image at shape (1, 3, 480, 640)\n",
      "tensor([], device='cuda:0', size=(0, 6))\n",
      "\n",
      "0: 480x640 (no detections), 29.6ms\n",
      "Speed: 1.0ms preprocess, 29.6ms inference, 2.5ms postprocess per image at shape (1, 3, 480, 640)\n",
      "tensor([], device='cuda:0', size=(0, 6))\n",
      "\n",
      "0: 480x640 (no detections), 29.1ms\n",
      "Speed: 1.0ms preprocess, 29.1ms inference, 3.0ms postprocess per image at shape (1, 3, 480, 640)\n",
      "tensor([], device='cuda:0', size=(0, 6))\n",
      "\n",
      "0: 480x640 (no detections), 28.5ms\n",
      "Speed: 1.2ms preprocess, 28.5ms inference, 2.9ms postprocess per image at shape (1, 3, 480, 640)\n",
      "tensor([], device='cuda:0', size=(0, 6))\n",
      "\n",
      "0: 480x640 (no detections), 28.2ms\n",
      "Speed: 1.1ms preprocess, 28.2ms inference, 2.3ms postprocess per image at shape (1, 3, 480, 640)\n",
      "tensor([], device='cuda:0', size=(0, 6))\n",
      "\n",
      "0: 480x640 (no detections), 28.8ms\n",
      "Speed: 1.5ms preprocess, 28.8ms inference, 13.2ms postprocess per image at shape (1, 3, 480, 640)\n",
      "tensor([], device='cuda:0', size=(0, 6))\n",
      "\n",
      "0: 480x640 (no detections), 27.9ms\n",
      "Speed: 1.0ms preprocess, 27.9ms inference, 2.6ms postprocess per image at shape (1, 3, 480, 640)\n",
      "tensor([], device='cuda:0', size=(0, 6))\n",
      "\n",
      "0: 480x640 (no detections), 29.1ms\n",
      "Speed: 1.0ms preprocess, 29.1ms inference, 2.0ms postprocess per image at shape (1, 3, 480, 640)\n",
      "tensor([], device='cuda:0', size=(0, 6))\n",
      "\n",
      "0: 480x640 (no detections), 28.8ms\n",
      "Speed: 1.4ms preprocess, 28.8ms inference, 2.2ms postprocess per image at shape (1, 3, 480, 640)\n",
      "tensor([], device='cuda:0', size=(0, 6))\n",
      "\n",
      "0: 480x640 (no detections), 28.8ms\n",
      "Speed: 1.2ms preprocess, 28.8ms inference, 2.3ms postprocess per image at shape (1, 3, 480, 640)\n",
      "tensor([], device='cuda:0', size=(0, 6))\n",
      "\n",
      "0: 480x640 (no detections), 29.2ms\n",
      "Speed: 1.2ms preprocess, 29.2ms inference, 2.2ms postprocess per image at shape (1, 3, 480, 640)\n",
      "tensor([], device='cuda:0', size=(0, 6))\n",
      "\n",
      "0: 480x640 (no detections), 29.3ms\n",
      "Speed: 1.3ms preprocess, 29.3ms inference, 2.9ms postprocess per image at shape (1, 3, 480, 640)\n",
      "tensor([], device='cuda:0', size=(0, 6))\n",
      "\n",
      "0: 480x640 (no detections), 29.0ms\n",
      "Speed: 1.0ms preprocess, 29.0ms inference, 2.2ms postprocess per image at shape (1, 3, 480, 640)\n",
      "tensor([], device='cuda:0', size=(0, 6))\n",
      "\n",
      "0: 480x640 (no detections), 29.0ms\n",
      "Speed: 1.0ms preprocess, 29.0ms inference, 2.6ms postprocess per image at shape (1, 3, 480, 640)\n",
      "tensor([], device='cuda:0', size=(0, 6))\n",
      "\n",
      "0: 480x640 (no detections), 28.8ms\n",
      "Speed: 1.2ms preprocess, 28.8ms inference, 2.3ms postprocess per image at shape (1, 3, 480, 640)\n",
      "tensor([], device='cuda:0', size=(0, 6))\n",
      "\n",
      "0: 480x640 (no detections), 28.8ms\n",
      "Speed: 1.0ms preprocess, 28.8ms inference, 2.1ms postprocess per image at shape (1, 3, 480, 640)\n",
      "tensor([], device='cuda:0', size=(0, 6))\n",
      "\n",
      "0: 480x640 (no detections), 27.6ms\n",
      "Speed: 1.1ms preprocess, 27.6ms inference, 2.4ms postprocess per image at shape (1, 3, 480, 640)\n",
      "tensor([], device='cuda:0', size=(0, 6))\n",
      "\n",
      "0: 480x640 (no detections), 27.1ms\n",
      "Speed: 1.2ms preprocess, 27.1ms inference, 2.8ms postprocess per image at shape (1, 3, 480, 640)\n",
      "tensor([], device='cuda:0', size=(0, 6))\n",
      "\n",
      "0: 480x640 (no detections), 29.0ms\n",
      "Speed: 1.1ms preprocess, 29.0ms inference, 2.5ms postprocess per image at shape (1, 3, 480, 640)\n",
      "tensor([], device='cuda:0', size=(0, 6))\n",
      "\n",
      "0: 480x640 (no detections), 28.0ms\n",
      "Speed: 1.4ms preprocess, 28.0ms inference, 2.4ms postprocess per image at shape (1, 3, 480, 640)\n",
      "tensor([], device='cuda:0', size=(0, 6))\n",
      "\n",
      "0: 480x640 (no detections), 28.4ms\n",
      "Speed: 1.0ms preprocess, 28.4ms inference, 2.1ms postprocess per image at shape (1, 3, 480, 640)\n",
      "tensor([], device='cuda:0', size=(0, 6))\n",
      "\n",
      "0: 480x640 (no detections), 28.8ms\n",
      "Speed: 1.6ms preprocess, 28.8ms inference, 2.0ms postprocess per image at shape (1, 3, 480, 640)\n",
      "tensor([], device='cuda:0', size=(0, 6))\n",
      "\n",
      "0: 480x640 (no detections), 28.9ms\n",
      "Speed: 1.0ms preprocess, 28.9ms inference, 2.2ms postprocess per image at shape (1, 3, 480, 640)\n",
      "tensor([], device='cuda:0', size=(0, 6))\n",
      "\n",
      "0: 480x640 (no detections), 28.6ms\n",
      "Speed: 1.3ms preprocess, 28.6ms inference, 2.9ms postprocess per image at shape (1, 3, 480, 640)\n",
      "tensor([], device='cuda:0', size=(0, 6))\n",
      "\n",
      "0: 480x640 (no detections), 29.4ms\n",
      "Speed: 1.0ms preprocess, 29.4ms inference, 1.9ms postprocess per image at shape (1, 3, 480, 640)\n",
      "tensor([], device='cuda:0', size=(0, 6))\n",
      "\n",
      "0: 480x640 (no detections), 29.7ms\n",
      "Speed: 1.2ms preprocess, 29.7ms inference, 2.5ms postprocess per image at shape (1, 3, 480, 640)\n",
      "tensor([], device='cuda:0', size=(0, 6))\n",
      "\n",
      "0: 480x640 (no detections), 29.2ms\n",
      "Speed: 1.3ms preprocess, 29.2ms inference, 2.2ms postprocess per image at shape (1, 3, 480, 640)\n",
      "tensor([], device='cuda:0', size=(0, 6))\n",
      "\n",
      "0: 480x640 (no detections), 28.8ms\n",
      "Speed: 1.0ms preprocess, 28.8ms inference, 3.1ms postprocess per image at shape (1, 3, 480, 640)\n",
      "tensor([], device='cuda:0', size=(0, 6))\n",
      "\n",
      "0: 480x640 (no detections), 26.8ms\n",
      "Speed: 1.3ms preprocess, 26.8ms inference, 15.2ms postprocess per image at shape (1, 3, 480, 640)\n",
      "tensor([], device='cuda:0', size=(0, 6))\n",
      "\n",
      "0: 480x640 (no detections), 27.7ms\n",
      "Speed: 1.1ms preprocess, 27.7ms inference, 5.3ms postprocess per image at shape (1, 3, 480, 640)\n",
      "tensor([], device='cuda:0', size=(0, 6))\n",
      "\n",
      "0: 480x640 (no detections), 26.5ms\n",
      "Speed: 1.1ms preprocess, 26.5ms inference, 3.8ms postprocess per image at shape (1, 3, 480, 640)\n",
      "tensor([], device='cuda:0', size=(0, 6))\n",
      "\n",
      "0: 480x640 (no detections), 28.5ms\n",
      "Speed: 1.2ms preprocess, 28.5ms inference, 4.5ms postprocess per image at shape (1, 3, 480, 640)\n",
      "tensor([], device='cuda:0', size=(0, 6))\n",
      "\n",
      "0: 480x640 (no detections), 27.5ms\n",
      "Speed: 1.2ms preprocess, 27.5ms inference, 5.7ms postprocess per image at shape (1, 3, 480, 640)\n",
      "tensor([], device='cuda:0', size=(0, 6))\n",
      "\n",
      "0: 480x640 (no detections), 27.6ms\n",
      "Speed: 1.3ms preprocess, 27.6ms inference, 3.4ms postprocess per image at shape (1, 3, 480, 640)\n",
      "tensor([], device='cuda:0', size=(0, 6))\n",
      "\n",
      "0: 480x640 (no detections), 28.8ms\n",
      "Speed: 1.3ms preprocess, 28.8ms inference, 3.1ms postprocess per image at shape (1, 3, 480, 640)\n",
      "tensor([], device='cuda:0', size=(0, 6))\n",
      "\n",
      "0: 480x640 (no detections), 28.7ms\n",
      "Speed: 0.9ms preprocess, 28.7ms inference, 3.5ms postprocess per image at shape (1, 3, 480, 640)\n",
      "tensor([], device='cuda:0', size=(0, 6))\n",
      "\n",
      "0: 480x640 (no detections), 28.4ms\n",
      "Speed: 0.9ms preprocess, 28.4ms inference, 3.0ms postprocess per image at shape (1, 3, 480, 640)\n",
      "tensor([], device='cuda:0', size=(0, 6))\n",
      "\n",
      "0: 480x640 (no detections), 29.1ms\n",
      "Speed: 0.9ms preprocess, 29.1ms inference, 3.0ms postprocess per image at shape (1, 3, 480, 640)\n",
      "tensor([], device='cuda:0', size=(0, 6))\n",
      "\n",
      "0: 480x640 (no detections), 29.1ms\n",
      "Speed: 1.0ms preprocess, 29.1ms inference, 3.0ms postprocess per image at shape (1, 3, 480, 640)\n",
      "tensor([], device='cuda:0', size=(0, 6))\n",
      "\n",
      "0: 480x640 (no detections), 29.1ms\n",
      "Speed: 0.9ms preprocess, 29.1ms inference, 3.0ms postprocess per image at shape (1, 3, 480, 640)\n",
      "tensor([], device='cuda:0', size=(0, 6))\n",
      "\n",
      "0: 480x640 (no detections), 29.2ms\n",
      "Speed: 1.1ms preprocess, 29.2ms inference, 4.2ms postprocess per image at shape (1, 3, 480, 640)\n",
      "tensor([], device='cuda:0', size=(0, 6))\n",
      "\n",
      "0: 480x640 (no detections), 29.0ms\n",
      "Speed: 0.9ms preprocess, 29.0ms inference, 4.9ms postprocess per image at shape (1, 3, 480, 640)\n",
      "tensor([], device='cuda:0', size=(0, 6))\n",
      "\n",
      "0: 480x640 (no detections), 25.6ms\n",
      "Speed: 1.6ms preprocess, 25.6ms inference, 3.6ms postprocess per image at shape (1, 3, 480, 640)\n",
      "tensor([], device='cuda:0', size=(0, 6))\n",
      "\n",
      "0: 480x640 (no detections), 28.1ms\n",
      "Speed: 1.1ms preprocess, 28.1ms inference, 3.0ms postprocess per image at shape (1, 3, 480, 640)\n",
      "tensor([], device='cuda:0', size=(0, 6))\n",
      "\n",
      "0: 480x640 (no detections), 28.8ms\n",
      "Speed: 1.2ms preprocess, 28.8ms inference, 3.9ms postprocess per image at shape (1, 3, 480, 640)\n",
      "tensor([], device='cuda:0', size=(0, 6))\n",
      "\n",
      "0: 480x640 (no detections), 28.7ms\n",
      "Speed: 1.1ms preprocess, 28.7ms inference, 3.0ms postprocess per image at shape (1, 3, 480, 640)\n",
      "tensor([], device='cuda:0', size=(0, 6))\n",
      "\n",
      "0: 480x640 (no detections), 29.1ms\n",
      "Speed: 1.0ms preprocess, 29.1ms inference, 3.3ms postprocess per image at shape (1, 3, 480, 640)\n",
      "tensor([], device='cuda:0', size=(0, 6))\n",
      "\n",
      "0: 480x640 (no detections), 28.9ms\n",
      "Speed: 1.0ms preprocess, 28.9ms inference, 3.0ms postprocess per image at shape (1, 3, 480, 640)\n",
      "tensor([], device='cuda:0', size=(0, 6))\n",
      "\n",
      "0: 480x640 (no detections), 29.1ms\n",
      "Speed: 0.9ms preprocess, 29.1ms inference, 3.0ms postprocess per image at shape (1, 3, 480, 640)\n",
      "tensor([], device='cuda:0', size=(0, 6))\n",
      "\n",
      "0: 480x640 (no detections), 29.5ms\n",
      "Speed: 1.3ms preprocess, 29.5ms inference, 3.9ms postprocess per image at shape (1, 3, 480, 640)\n",
      "tensor([], device='cuda:0', size=(0, 6))\n",
      "\n",
      "0: 480x640 (no detections), 29.3ms\n",
      "Speed: 0.9ms preprocess, 29.3ms inference, 10.9ms postprocess per image at shape (1, 3, 480, 640)\n",
      "tensor([], device='cuda:0', size=(0, 6))\n",
      "\n",
      "0: 480x640 (no detections), 27.5ms\n",
      "Speed: 1.1ms preprocess, 27.5ms inference, 1.9ms postprocess per image at shape (1, 3, 480, 640)\n",
      "tensor([], device='cuda:0', size=(0, 6))\n",
      "\n",
      "0: 480x640 (no detections), 28.9ms\n",
      "Speed: 1.6ms preprocess, 28.9ms inference, 2.7ms postprocess per image at shape (1, 3, 480, 640)\n",
      "tensor([], device='cuda:0', size=(0, 6))\n",
      "\n",
      "0: 480x640 (no detections), 28.9ms\n",
      "Speed: 1.0ms preprocess, 28.9ms inference, 2.6ms postprocess per image at shape (1, 3, 480, 640)\n",
      "tensor([], device='cuda:0', size=(0, 6))\n",
      "\n",
      "0: 480x640 (no detections), 32.5ms\n",
      "Speed: 1.2ms preprocess, 32.5ms inference, 5.4ms postprocess per image at shape (1, 3, 480, 640)\n",
      "tensor([], device='cuda:0', size=(0, 6))\n",
      "\n",
      "0: 480x640 (no detections), 27.0ms\n",
      "Speed: 1.5ms preprocess, 27.0ms inference, 2.7ms postprocess per image at shape (1, 3, 480, 640)\n",
      "tensor([], device='cuda:0', size=(0, 6))\n",
      "\n",
      "0: 480x640 (no detections), 29.0ms\n",
      "Speed: 1.0ms preprocess, 29.0ms inference, 2.4ms postprocess per image at shape (1, 3, 480, 640)\n",
      "tensor([], device='cuda:0', size=(0, 6))\n",
      "\n",
      "0: 480x640 (no detections), 29.7ms\n",
      "Speed: 1.0ms preprocess, 29.7ms inference, 2.2ms postprocess per image at shape (1, 3, 480, 640)\n",
      "tensor([], device='cuda:0', size=(0, 6))\n",
      "\n",
      "0: 480x640 (no detections), 29.2ms\n",
      "Speed: 1.0ms preprocess, 29.2ms inference, 2.6ms postprocess per image at shape (1, 3, 480, 640)\n",
      "tensor([], device='cuda:0', size=(0, 6))\n",
      "\n",
      "0: 480x640 (no detections), 25.7ms\n",
      "Speed: 1.3ms preprocess, 25.7ms inference, 2.3ms postprocess per image at shape (1, 3, 480, 640)\n",
      "tensor([], device='cuda:0', size=(0, 6))\n",
      "\n",
      "0: 480x640 (no detections), 28.9ms\n",
      "Speed: 1.5ms preprocess, 28.9ms inference, 2.3ms postprocess per image at shape (1, 3, 480, 640)\n",
      "tensor([], device='cuda:0', size=(0, 6))\n",
      "\n",
      "0: 480x640 (no detections), 29.0ms\n",
      "Speed: 1.0ms preprocess, 29.0ms inference, 2.0ms postprocess per image at shape (1, 3, 480, 640)\n",
      "tensor([], device='cuda:0', size=(0, 6))\n",
      "\n",
      "0: 480x640 (no detections), 29.2ms\n",
      "Speed: 1.6ms preprocess, 29.2ms inference, 2.2ms postprocess per image at shape (1, 3, 480, 640)\n",
      "tensor([], device='cuda:0', size=(0, 6))\n",
      "\n",
      "0: 480x640 (no detections), 29.0ms\n",
      "Speed: 0.9ms preprocess, 29.0ms inference, 2.4ms postprocess per image at shape (1, 3, 480, 640)\n",
      "tensor([], device='cuda:0', size=(0, 6))\n",
      "\n",
      "0: 480x640 (no detections), 28.8ms\n",
      "Speed: 1.4ms preprocess, 28.8ms inference, 2.4ms postprocess per image at shape (1, 3, 480, 640)\n",
      "tensor([], device='cuda:0', size=(0, 6))\n",
      "\n",
      "0: 480x640 (no detections), 28.9ms\n",
      "Speed: 1.0ms preprocess, 28.9ms inference, 2.2ms postprocess per image at shape (1, 3, 480, 640)\n",
      "tensor([], device='cuda:0', size=(0, 6))\n",
      "\n",
      "0: 480x640 (no detections), 30.6ms\n",
      "Speed: 1.3ms preprocess, 30.6ms inference, 2.6ms postprocess per image at shape (1, 3, 480, 640)\n",
      "tensor([], device='cuda:0', size=(0, 6))\n",
      "\n",
      "0: 480x640 (no detections), 27.6ms\n",
      "Speed: 1.2ms preprocess, 27.6ms inference, 3.1ms postprocess per image at shape (1, 3, 480, 640)\n",
      "tensor([], device='cuda:0', size=(0, 6))\n",
      "\n",
      "0: 480x640 (no detections), 28.7ms\n",
      "Speed: 1.0ms preprocess, 28.7ms inference, 2.6ms postprocess per image at shape (1, 3, 480, 640)\n",
      "tensor([], device='cuda:0', size=(0, 6))\n",
      "\n",
      "0: 480x640 (no detections), 28.6ms\n",
      "Speed: 1.1ms preprocess, 28.6ms inference, 2.4ms postprocess per image at shape (1, 3, 480, 640)\n",
      "tensor([], device='cuda:0', size=(0, 6))\n",
      "\n",
      "0: 480x640 (no detections), 28.7ms\n",
      "Speed: 1.0ms preprocess, 28.7ms inference, 1.9ms postprocess per image at shape (1, 3, 480, 640)\n",
      "tensor([], device='cuda:0', size=(0, 6))\n",
      "\n",
      "0: 480x640 (no detections), 29.3ms\n",
      "Speed: 1.0ms preprocess, 29.3ms inference, 5.2ms postprocess per image at shape (1, 3, 480, 640)\n",
      "tensor([], device='cuda:0', size=(0, 6))\n",
      "\n",
      "0: 480x640 (no detections), 28.5ms\n",
      "Speed: 1.0ms preprocess, 28.5ms inference, 2.1ms postprocess per image at shape (1, 3, 480, 640)\n",
      "tensor([], device='cuda:0', size=(0, 6))\n",
      "\n",
      "0: 480x640 (no detections), 28.8ms\n",
      "Speed: 1.1ms preprocess, 28.8ms inference, 12.6ms postprocess per image at shape (1, 3, 480, 640)\n",
      "tensor([], device='cuda:0', size=(0, 6))\n",
      "\n",
      "0: 480x640 (no detections), 26.9ms\n",
      "Speed: 1.0ms preprocess, 26.9ms inference, 2.2ms postprocess per image at shape (1, 3, 480, 640)\n",
      "tensor([], device='cuda:0', size=(0, 6))\n",
      "\n",
      "0: 480x640 (no detections), 29.0ms\n",
      "Speed: 1.0ms preprocess, 29.0ms inference, 2.4ms postprocess per image at shape (1, 3, 480, 640)\n",
      "tensor([], device='cuda:0', size=(0, 6))\n",
      "\n",
      "0: 480x640 (no detections), 28.4ms\n",
      "Speed: 1.1ms preprocess, 28.4ms inference, 2.2ms postprocess per image at shape (1, 3, 480, 640)\n",
      "tensor([], device='cuda:0', size=(0, 6))\n",
      "\n",
      "0: 480x640 (no detections), 28.8ms\n",
      "Speed: 1.6ms preprocess, 28.8ms inference, 2.6ms postprocess per image at shape (1, 3, 480, 640)\n",
      "tensor([], device='cuda:0', size=(0, 6))\n",
      "\n",
      "0: 480x640 (no detections), 29.2ms\n",
      "Speed: 1.0ms preprocess, 29.2ms inference, 2.7ms postprocess per image at shape (1, 3, 480, 640)\n",
      "tensor([], device='cuda:0', size=(0, 6))\n",
      "\n",
      "0: 480x640 (no detections), 27.2ms\n",
      "Speed: 1.1ms preprocess, 27.2ms inference, 2.3ms postprocess per image at shape (1, 3, 480, 640)\n",
      "tensor([], device='cuda:0', size=(0, 6))\n",
      "\n",
      "0: 480x640 (no detections), 28.7ms\n",
      "Speed: 1.5ms preprocess, 28.7ms inference, 2.6ms postprocess per image at shape (1, 3, 480, 640)\n",
      "tensor([], device='cuda:0', size=(0, 6))\n",
      "\n",
      "0: 480x640 (no detections), 28.8ms\n",
      "Speed: 1.0ms preprocess, 28.8ms inference, 2.3ms postprocess per image at shape (1, 3, 480, 640)\n",
      "tensor([], device='cuda:0', size=(0, 6))\n",
      "\n",
      "0: 480x640 (no detections), 33.6ms\n",
      "Speed: 1.3ms preprocess, 33.6ms inference, 2.6ms postprocess per image at shape (1, 3, 480, 640)\n",
      "tensor([], device='cuda:0', size=(0, 6))\n",
      "\n",
      "0: 480x640 (no detections), 26.6ms\n",
      "Speed: 1.2ms preprocess, 26.6ms inference, 2.6ms postprocess per image at shape (1, 3, 480, 640)\n",
      "tensor([], device='cuda:0', size=(0, 6))\n",
      "\n",
      "0: 480x640 (no detections), 28.5ms\n",
      "Speed: 1.1ms preprocess, 28.5ms inference, 2.6ms postprocess per image at shape (1, 3, 480, 640)\n",
      "tensor([], device='cuda:0', size=(0, 6))\n",
      "\n",
      "0: 480x640 (no detections), 29.1ms\n",
      "Speed: 1.2ms preprocess, 29.1ms inference, 2.4ms postprocess per image at shape (1, 3, 480, 640)\n",
      "tensor([], device='cuda:0', size=(0, 6))\n",
      "\n",
      "0: 480x640 (no detections), 27.6ms\n",
      "Speed: 1.1ms preprocess, 27.6ms inference, 2.2ms postprocess per image at shape (1, 3, 480, 640)\n",
      "tensor([], device='cuda:0', size=(0, 6))\n",
      "\n",
      "0: 480x640 (no detections), 29.1ms\n",
      "Speed: 1.1ms preprocess, 29.1ms inference, 2.3ms postprocess per image at shape (1, 3, 480, 640)\n",
      "tensor([], device='cuda:0', size=(0, 6))\n",
      "\n",
      "0: 480x640 (no detections), 29.4ms\n",
      "Speed: 1.0ms preprocess, 29.4ms inference, 2.1ms postprocess per image at shape (1, 3, 480, 640)\n",
      "tensor([], device='cuda:0', size=(0, 6))\n",
      "\n",
      "0: 480x640 (no detections), 29.2ms\n",
      "Speed: 1.2ms preprocess, 29.2ms inference, 2.2ms postprocess per image at shape (1, 3, 480, 640)\n",
      "tensor([], device='cuda:0', size=(0, 6))\n",
      "\n",
      "0: 480x640 (no detections), 28.8ms\n",
      "Speed: 1.0ms preprocess, 28.8ms inference, 2.2ms postprocess per image at shape (1, 3, 480, 640)\n",
      "tensor([], device='cuda:0', size=(0, 6))\n",
      "\n",
      "0: 480x640 (no detections), 28.9ms\n",
      "Speed: 1.1ms preprocess, 28.9ms inference, 2.7ms postprocess per image at shape (1, 3, 480, 640)\n",
      "tensor([], device='cuda:0', size=(0, 6))\n",
      "\n",
      "0: 480x640 (no detections), 28.7ms\n",
      "Speed: 1.0ms preprocess, 28.7ms inference, 2.0ms postprocess per image at shape (1, 3, 480, 640)\n",
      "tensor([], device='cuda:0', size=(0, 6))\n",
      "\n",
      "0: 480x640 (no detections), 29.7ms\n",
      "Speed: 1.3ms preprocess, 29.7ms inference, 2.5ms postprocess per image at shape (1, 3, 480, 640)\n",
      "tensor([], device='cuda:0', size=(0, 6))\n",
      "\n",
      "0: 480x640 (no detections), 29.3ms\n",
      "Speed: 1.0ms preprocess, 29.3ms inference, 2.5ms postprocess per image at shape (1, 3, 480, 640)\n",
      "tensor([], device='cuda:0', size=(0, 6))\n",
      "\n",
      "0: 480x640 (no detections), 28.2ms\n",
      "Speed: 1.5ms preprocess, 28.2ms inference, 6.5ms postprocess per image at shape (1, 3, 480, 640)\n",
      "tensor([], device='cuda:0', size=(0, 6))\n",
      "\n",
      "0: 480x640 (no detections), 25.7ms\n",
      "Speed: 1.3ms preprocess, 25.7ms inference, 15.0ms postprocess per image at shape (1, 3, 480, 640)\n",
      "tensor([], device='cuda:0', size=(0, 6))\n",
      "\n",
      "0: 480x640 (no detections), 25.4ms\n",
      "Speed: 1.4ms preprocess, 25.4ms inference, 4.0ms postprocess per image at shape (1, 3, 480, 640)\n",
      "tensor([], device='cuda:0', size=(0, 6))\n",
      "\n",
      "0: 480x640 (no detections), 27.7ms\n",
      "Speed: 1.2ms preprocess, 27.7ms inference, 3.9ms postprocess per image at shape (1, 3, 480, 640)\n",
      "tensor([], device='cuda:0', size=(0, 6))\n",
      "\n",
      "0: 480x640 (no detections), 27.6ms\n",
      "Speed: 1.1ms preprocess, 27.6ms inference, 4.4ms postprocess per image at shape (1, 3, 480, 640)\n",
      "tensor([], device='cuda:0', size=(0, 6))\n",
      "\n",
      "0: 480x640 (no detections), 27.7ms\n",
      "Speed: 1.2ms preprocess, 27.7ms inference, 3.7ms postprocess per image at shape (1, 3, 480, 640)\n",
      "tensor([], device='cuda:0', size=(0, 6))\n",
      "\n",
      "0: 480x640 (no detections), 28.8ms\n",
      "Speed: 0.9ms preprocess, 28.8ms inference, 4.8ms postprocess per image at shape (1, 3, 480, 640)\n",
      "tensor([], device='cuda:0', size=(0, 6))\n",
      "\n",
      "0: 480x640 (no detections), 28.5ms\n",
      "Speed: 1.8ms preprocess, 28.5ms inference, 3.7ms postprocess per image at shape (1, 3, 480, 640)\n",
      "tensor([], device='cuda:0', size=(0, 6))\n",
      "\n",
      "0: 480x640 (no detections), 28.3ms\n",
      "Speed: 1.3ms preprocess, 28.3ms inference, 3.3ms postprocess per image at shape (1, 3, 480, 640)\n",
      "tensor([], device='cuda:0', size=(0, 6))\n",
      "\n",
      "0: 480x640 (no detections), 28.8ms\n",
      "Speed: 0.9ms preprocess, 28.8ms inference, 3.1ms postprocess per image at shape (1, 3, 480, 640)\n",
      "tensor([], device='cuda:0', size=(0, 6))\n",
      "\n",
      "0: 480x640 (no detections), 28.3ms\n",
      "Speed: 1.1ms preprocess, 28.3ms inference, 3.6ms postprocess per image at shape (1, 3, 480, 640)\n",
      "tensor([], device='cuda:0', size=(0, 6))\n",
      "\n",
      "0: 480x640 (no detections), 29.4ms\n",
      "Speed: 0.9ms preprocess, 29.4ms inference, 4.7ms postprocess per image at shape (1, 3, 480, 640)\n",
      "tensor([], device='cuda:0', size=(0, 6))\n",
      "\n",
      "0: 480x640 (no detections), 28.6ms\n",
      "Speed: 1.0ms preprocess, 28.6ms inference, 3.3ms postprocess per image at shape (1, 3, 480, 640)\n",
      "tensor([], device='cuda:0', size=(0, 6))\n",
      "\n",
      "0: 480x640 (no detections), 28.6ms\n",
      "Speed: 1.2ms preprocess, 28.6ms inference, 3.7ms postprocess per image at shape (1, 3, 480, 640)\n",
      "tensor([], device='cuda:0', size=(0, 6))\n",
      "\n",
      "0: 480x640 (no detections), 29.0ms\n",
      "Speed: 0.9ms preprocess, 29.0ms inference, 3.1ms postprocess per image at shape (1, 3, 480, 640)\n",
      "tensor([], device='cuda:0', size=(0, 6))\n",
      "\n",
      "0: 480x640 (no detections), 28.3ms\n",
      "Speed: 1.1ms preprocess, 28.3ms inference, 4.7ms postprocess per image at shape (1, 3, 480, 640)\n",
      "tensor([], device='cuda:0', size=(0, 6))\n",
      "\n",
      "0: 480x640 (no detections), 29.0ms\n",
      "Speed: 1.4ms preprocess, 29.0ms inference, 3.2ms postprocess per image at shape (1, 3, 480, 640)\n",
      "tensor([], device='cuda:0', size=(0, 6))\n",
      "\n",
      "0: 480x640 (no detections), 29.1ms\n",
      "Speed: 0.9ms preprocess, 29.1ms inference, 3.2ms postprocess per image at shape (1, 3, 480, 640)\n",
      "tensor([], device='cuda:0', size=(0, 6))\n",
      "\n",
      "0: 480x640 (no detections), 28.6ms\n",
      "Speed: 1.0ms preprocess, 28.6ms inference, 3.4ms postprocess per image at shape (1, 3, 480, 640)\n",
      "tensor([], device='cuda:0', size=(0, 6))\n",
      "\n",
      "0: 480x640 (no detections), 28.7ms\n",
      "Speed: 0.9ms preprocess, 28.7ms inference, 3.2ms postprocess per image at shape (1, 3, 480, 640)\n",
      "tensor([], device='cuda:0', size=(0, 6))\n",
      "\n",
      "0: 480x640 (no detections), 28.9ms\n",
      "Speed: 1.2ms preprocess, 28.9ms inference, 3.2ms postprocess per image at shape (1, 3, 480, 640)\n",
      "tensor([], device='cuda:0', size=(0, 6))\n",
      "\n",
      "0: 480x640 (no detections), 28.8ms\n",
      "Speed: 0.9ms preprocess, 28.8ms inference, 2.9ms postprocess per image at shape (1, 3, 480, 640)\n",
      "tensor([], device='cuda:0', size=(0, 6))\n",
      "\n",
      "0: 480x640 (no detections), 28.9ms\n",
      "Speed: 0.9ms preprocess, 28.9ms inference, 3.6ms postprocess per image at shape (1, 3, 480, 640)\n",
      "tensor([], device='cuda:0', size=(0, 6))\n",
      "\n",
      "0: 480x640 (no detections), 29.3ms\n",
      "Speed: 1.2ms preprocess, 29.3ms inference, 4.3ms postprocess per image at shape (1, 3, 480, 640)\n",
      "tensor([], device='cuda:0', size=(0, 6))\n",
      "\n",
      "0: 480x640 (no detections), 28.9ms\n",
      "Speed: 0.9ms preprocess, 28.9ms inference, 9.8ms postprocess per image at shape (1, 3, 480, 640)\n",
      "tensor([], device='cuda:0', size=(0, 6))\n",
      "\n",
      "0: 480x640 (no detections), 26.5ms\n",
      "Speed: 1.2ms preprocess, 26.5ms inference, 2.7ms postprocess per image at shape (1, 3, 480, 640)\n",
      "tensor([], device='cuda:0', size=(0, 6))\n",
      "\n",
      "0: 480x640 (no detections), 27.1ms\n",
      "Speed: 1.2ms preprocess, 27.1ms inference, 2.1ms postprocess per image at shape (1, 3, 480, 640)\n",
      "tensor([], device='cuda:0', size=(0, 6))\n",
      "\n",
      "0: 480x640 (no detections), 28.6ms\n",
      "Speed: 1.4ms preprocess, 28.6ms inference, 2.5ms postprocess per image at shape (1, 3, 480, 640)\n",
      "tensor([], device='cuda:0', size=(0, 6))\n",
      "\n",
      "0: 480x640 (no detections), 29.2ms\n",
      "Speed: 1.3ms preprocess, 29.2ms inference, 2.1ms postprocess per image at shape (1, 3, 480, 640)\n",
      "tensor([], device='cuda:0', size=(0, 6))\n",
      "\n",
      "0: 480x640 (no detections), 29.3ms\n",
      "Speed: 1.0ms preprocess, 29.3ms inference, 2.7ms postprocess per image at shape (1, 3, 480, 640)\n",
      "tensor([], device='cuda:0', size=(0, 6))\n",
      "\n",
      "0: 480x640 (no detections), 28.3ms\n",
      "Speed: 1.2ms preprocess, 28.3ms inference, 2.3ms postprocess per image at shape (1, 3, 480, 640)\n",
      "tensor([], device='cuda:0', size=(0, 6))\n",
      "\n",
      "0: 480x640 (no detections), 28.9ms\n",
      "Speed: 1.0ms preprocess, 28.9ms inference, 2.2ms postprocess per image at shape (1, 3, 480, 640)\n",
      "tensor([], device='cuda:0', size=(0, 6))\n",
      "\n",
      "0: 480x640 (no detections), 29.2ms\n",
      "Speed: 1.0ms preprocess, 29.2ms inference, 2.3ms postprocess per image at shape (1, 3, 480, 640)\n",
      "tensor([], device='cuda:0', size=(0, 6))\n",
      "\n",
      "0: 480x640 (no detections), 29.5ms\n",
      "Speed: 1.0ms preprocess, 29.5ms inference, 2.1ms postprocess per image at shape (1, 3, 480, 640)\n",
      "tensor([], device='cuda:0', size=(0, 6))\n",
      "\n",
      "0: 480x640 (no detections), 29.3ms\n",
      "Speed: 1.3ms preprocess, 29.3ms inference, 2.3ms postprocess per image at shape (1, 3, 480, 640)\n",
      "tensor([], device='cuda:0', size=(0, 6))\n",
      "\n",
      "0: 480x640 (no detections), 29.2ms\n",
      "Speed: 1.5ms preprocess, 29.2ms inference, 4.5ms postprocess per image at shape (1, 3, 480, 640)\n",
      "tensor([], device='cuda:0', size=(0, 6))\n",
      "\n",
      "0: 480x640 (no detections), 26.8ms\n",
      "Speed: 1.4ms preprocess, 26.8ms inference, 2.7ms postprocess per image at shape (1, 3, 480, 640)\n",
      "tensor([], device='cuda:0', size=(0, 6))\n",
      "\n",
      "0: 480x640 (no detections), 31.1ms\n",
      "Speed: 1.5ms preprocess, 31.1ms inference, 5.0ms postprocess per image at shape (1, 3, 480, 640)\n",
      "tensor([], device='cuda:0', size=(0, 6))\n",
      "\n",
      "0: 480x640 (no detections), 28.3ms\n",
      "Speed: 1.7ms preprocess, 28.3ms inference, 2.8ms postprocess per image at shape (1, 3, 480, 640)\n",
      "tensor([], device='cuda:0', size=(0, 6))\n",
      "\n",
      "0: 480x640 (no detections), 28.3ms\n",
      "Speed: 1.4ms preprocess, 28.3ms inference, 2.7ms postprocess per image at shape (1, 3, 480, 640)\n",
      "tensor([], device='cuda:0', size=(0, 6))\n",
      "\n",
      "0: 480x640 (no detections), 28.3ms\n",
      "Speed: 1.1ms preprocess, 28.3ms inference, 2.7ms postprocess per image at shape (1, 3, 480, 640)\n",
      "tensor([], device='cuda:0', size=(0, 6))\n",
      "\n",
      "0: 480x640 (no detections), 28.9ms\n",
      "Speed: 1.3ms preprocess, 28.9ms inference, 2.4ms postprocess per image at shape (1, 3, 480, 640)\n",
      "tensor([], device='cuda:0', size=(0, 6))\n",
      "\n",
      "0: 480x640 (no detections), 29.3ms\n",
      "Speed: 1.0ms preprocess, 29.3ms inference, 2.4ms postprocess per image at shape (1, 3, 480, 640)\n",
      "tensor([], device='cuda:0', size=(0, 6))\n",
      "\n",
      "0: 480x640 (no detections), 28.9ms\n",
      "Speed: 1.4ms preprocess, 28.9ms inference, 2.4ms postprocess per image at shape (1, 3, 480, 640)\n",
      "tensor([], device='cuda:0', size=(0, 6))\n",
      "\n",
      "0: 480x640 (no detections), 28.7ms\n",
      "Speed: 1.2ms preprocess, 28.7ms inference, 2.7ms postprocess per image at shape (1, 3, 480, 640)\n",
      "tensor([], device='cuda:0', size=(0, 6))\n",
      "\n",
      "0: 480x640 (no detections), 28.8ms\n",
      "Speed: 1.2ms preprocess, 28.8ms inference, 2.3ms postprocess per image at shape (1, 3, 480, 640)\n",
      "tensor([], device='cuda:0', size=(0, 6))\n",
      "\n",
      "0: 480x640 (no detections), 27.7ms\n",
      "Speed: 1.2ms preprocess, 27.7ms inference, 2.8ms postprocess per image at shape (1, 3, 480, 640)\n",
      "tensor([], device='cuda:0', size=(0, 6))\n",
      "\n",
      "0: 480x640 (no detections), 25.7ms\n",
      "Speed: 1.8ms preprocess, 25.7ms inference, 2.6ms postprocess per image at shape (1, 3, 480, 640)\n",
      "tensor([], device='cuda:0', size=(0, 6))\n",
      "\n",
      "0: 480x640 (no detections), 28.5ms\n",
      "Speed: 1.3ms preprocess, 28.5ms inference, 2.6ms postprocess per image at shape (1, 3, 480, 640)\n",
      "tensor([], device='cuda:0', size=(0, 6))\n",
      "\n",
      "0: 480x640 (no detections), 28.6ms\n",
      "Speed: 1.1ms preprocess, 28.6ms inference, 2.4ms postprocess per image at shape (1, 3, 480, 640)\n",
      "tensor([], device='cuda:0', size=(0, 6))\n",
      "\n",
      "0: 480x640 (no detections), 28.6ms\n",
      "Speed: 1.2ms preprocess, 28.6ms inference, 2.4ms postprocess per image at shape (1, 3, 480, 640)\n",
      "tensor([], device='cuda:0', size=(0, 6))\n",
      "\n",
      "0: 480x640 (no detections), 29.1ms\n",
      "Speed: 1.0ms preprocess, 29.1ms inference, 2.0ms postprocess per image at shape (1, 3, 480, 640)\n",
      "tensor([], device='cuda:0', size=(0, 6))\n",
      "\n",
      "0: 480x640 (no detections), 29.3ms\n",
      "Speed: 1.2ms preprocess, 29.3ms inference, 2.6ms postprocess per image at shape (1, 3, 480, 640)\n",
      "tensor([], device='cuda:0', size=(0, 6))\n",
      "\n",
      "0: 480x640 (no detections), 29.2ms\n",
      "Speed: 1.0ms preprocess, 29.2ms inference, 2.1ms postprocess per image at shape (1, 3, 480, 640)\n",
      "tensor([], device='cuda:0', size=(0, 6))\n",
      "\n",
      "0: 480x640 (no detections), 28.7ms\n",
      "Speed: 1.1ms preprocess, 28.7ms inference, 2.1ms postprocess per image at shape (1, 3, 480, 640)\n",
      "tensor([], device='cuda:0', size=(0, 6))\n",
      "\n",
      "0: 480x640 (no detections), 28.5ms\n",
      "Speed: 1.0ms preprocess, 28.5ms inference, 3.1ms postprocess per image at shape (1, 3, 480, 640)\n",
      "tensor([], device='cuda:0', size=(0, 6))\n",
      "\n",
      "0: 480x640 (no detections), 26.4ms\n",
      "Speed: 1.7ms preprocess, 26.4ms inference, 2.5ms postprocess per image at shape (1, 3, 480, 640)\n",
      "tensor([], device='cuda:0', size=(0, 6))\n",
      "\n",
      "0: 480x640 (no detections), 25.2ms\n",
      "Speed: 1.2ms preprocess, 25.2ms inference, 2.0ms postprocess per image at shape (1, 3, 480, 640)\n",
      "tensor([], device='cuda:0', size=(0, 6))\n",
      "\n",
      "0: 480x640 (no detections), 28.4ms\n",
      "Speed: 1.0ms preprocess, 28.4ms inference, 2.2ms postprocess per image at shape (1, 3, 480, 640)\n",
      "tensor([], device='cuda:0', size=(0, 6))\n",
      "\n",
      "0: 480x640 (no detections), 29.5ms\n",
      "Speed: 1.2ms preprocess, 29.5ms inference, 2.3ms postprocess per image at shape (1, 3, 480, 640)\n",
      "tensor([], device='cuda:0', size=(0, 6))\n",
      "\n",
      "0: 480x640 (no detections), 29.0ms\n",
      "Speed: 1.4ms preprocess, 29.0ms inference, 2.1ms postprocess per image at shape (1, 3, 480, 640)\n",
      "tensor([], device='cuda:0', size=(0, 6))\n",
      "\n",
      "0: 480x640 (no detections), 28.8ms\n",
      "Speed: 1.1ms preprocess, 28.8ms inference, 2.1ms postprocess per image at shape (1, 3, 480, 640)\n",
      "tensor([], device='cuda:0', size=(0, 6))\n",
      "\n",
      "0: 480x640 (no detections), 28.6ms\n",
      "Speed: 1.1ms preprocess, 28.6ms inference, 2.2ms postprocess per image at shape (1, 3, 480, 640)\n",
      "tensor([], device='cuda:0', size=(0, 6))\n",
      "\n",
      "0: 480x640 (no detections), 29.2ms\n",
      "Speed: 1.0ms preprocess, 29.2ms inference, 2.3ms postprocess per image at shape (1, 3, 480, 640)\n",
      "tensor([], device='cuda:0', size=(0, 6))\n",
      "\n",
      "0: 480x640 (no detections), 29.1ms\n",
      "Speed: 1.2ms preprocess, 29.1ms inference, 2.6ms postprocess per image at shape (1, 3, 480, 640)\n",
      "tensor([], device='cuda:0', size=(0, 6))\n",
      "\n",
      "0: 480x640 (no detections), 28.9ms\n",
      "Speed: 1.0ms preprocess, 28.9ms inference, 2.3ms postprocess per image at shape (1, 3, 480, 640)\n",
      "tensor([], device='cuda:0', size=(0, 6))\n",
      "\n",
      "0: 480x640 (no detections), 28.0ms\n",
      "Speed: 1.3ms preprocess, 28.0ms inference, 2.3ms postprocess per image at shape (1, 3, 480, 640)\n",
      "tensor([], device='cuda:0', size=(0, 6))\n",
      "\n",
      "0: 480x640 (no detections), 27.7ms\n",
      "Speed: 1.6ms preprocess, 27.7ms inference, 2.5ms postprocess per image at shape (1, 3, 480, 640)\n",
      "tensor([], device='cuda:0', size=(0, 6))\n",
      "\n",
      "0: 480x640 (no detections), 28.7ms\n",
      "Speed: 1.2ms preprocess, 28.7ms inference, 2.2ms postprocess per image at shape (1, 3, 480, 640)\n",
      "tensor([], device='cuda:0', size=(0, 6))\n",
      "\n",
      "0: 480x640 (no detections), 29.1ms\n",
      "Speed: 1.0ms preprocess, 29.1ms inference, 13.3ms postprocess per image at shape (1, 3, 480, 640)\n",
      "tensor([], device='cuda:0', size=(0, 6))\n",
      "\n",
      "0: 480x640 (no detections), 27.7ms\n",
      "Speed: 1.0ms preprocess, 27.7ms inference, 2.1ms postprocess per image at shape (1, 3, 480, 640)\n",
      "tensor([], device='cuda:0', size=(0, 6))\n",
      "\n",
      "0: 480x640 (no detections), 28.9ms\n",
      "Speed: 1.0ms preprocess, 28.9ms inference, 2.2ms postprocess per image at shape (1, 3, 480, 640)\n",
      "tensor([], device='cuda:0', size=(0, 6))\n",
      "\n",
      "0: 480x640 (no detections), 29.2ms\n",
      "Speed: 1.0ms preprocess, 29.2ms inference, 2.0ms postprocess per image at shape (1, 3, 480, 640)\n",
      "tensor([], device='cuda:0', size=(0, 6))\n",
      "\n",
      "0: 480x640 (no detections), 28.9ms\n",
      "Speed: 1.4ms preprocess, 28.9ms inference, 2.6ms postprocess per image at shape (1, 3, 480, 640)\n",
      "tensor([], device='cuda:0', size=(0, 6))\n",
      "\n",
      "0: 480x640 (no detections), 31.1ms\n",
      "Speed: 1.1ms preprocess, 31.1ms inference, 4.8ms postprocess per image at shape (1, 3, 480, 640)\n",
      "tensor([], device='cuda:0', size=(0, 6))\n",
      "\n",
      "0: 480x640 (no detections), 27.5ms\n",
      "Speed: 1.1ms preprocess, 27.5ms inference, 2.1ms postprocess per image at shape (1, 3, 480, 640)\n",
      "tensor([], device='cuda:0', size=(0, 6))\n",
      "\n",
      "0: 480x640 (no detections), 28.8ms\n",
      "Speed: 1.0ms preprocess, 28.8ms inference, 2.7ms postprocess per image at shape (1, 3, 480, 640)\n",
      "tensor([], device='cuda:0', size=(0, 6))\n",
      "\n",
      "0: 480x640 (no detections), 26.8ms\n",
      "Speed: 2.2ms preprocess, 26.8ms inference, 3.2ms postprocess per image at shape (1, 3, 480, 640)\n",
      "tensor([], device='cuda:0', size=(0, 6))\n",
      "\n",
      "0: 480x640 (no detections), 28.3ms\n",
      "Speed: 1.3ms preprocess, 28.3ms inference, 2.6ms postprocess per image at shape (1, 3, 480, 640)\n",
      "tensor([], device='cuda:0', size=(0, 6))\n",
      "\n",
      "0: 480x640 (no detections), 28.8ms\n",
      "Speed: 1.1ms preprocess, 28.8ms inference, 2.2ms postprocess per image at shape (1, 3, 480, 640)\n",
      "tensor([], device='cuda:0', size=(0, 6))\n",
      "\n",
      "0: 480x640 (no detections), 28.7ms\n",
      "Speed: 1.2ms preprocess, 28.7ms inference, 2.1ms postprocess per image at shape (1, 3, 480, 640)\n",
      "tensor([], device='cuda:0', size=(0, 6))\n",
      "\n",
      "0: 480x640 (no detections), 28.5ms\n",
      "Speed: 1.2ms preprocess, 28.5ms inference, 2.1ms postprocess per image at shape (1, 3, 480, 640)\n",
      "tensor([], device='cuda:0', size=(0, 6))\n",
      "\n",
      "0: 480x640 (no detections), 28.6ms\n",
      "Speed: 1.2ms preprocess, 28.6ms inference, 2.4ms postprocess per image at shape (1, 3, 480, 640)\n",
      "tensor([], device='cuda:0', size=(0, 6))\n",
      "\n",
      "0: 480x640 (no detections), 29.4ms\n",
      "Speed: 1.1ms preprocess, 29.4ms inference, 2.3ms postprocess per image at shape (1, 3, 480, 640)\n",
      "tensor([], device='cuda:0', size=(0, 6))\n",
      "\n",
      "0: 480x640 (no detections), 29.4ms\n",
      "Speed: 1.2ms preprocess, 29.4ms inference, 2.1ms postprocess per image at shape (1, 3, 480, 640)\n",
      "tensor([], device='cuda:0', size=(0, 6))\n",
      "\n",
      "0: 480x640 (no detections), 28.9ms\n",
      "Speed: 1.3ms preprocess, 28.9ms inference, 2.1ms postprocess per image at shape (1, 3, 480, 640)\n",
      "tensor([], device='cuda:0', size=(0, 6))\n",
      "\n",
      "0: 480x640 (no detections), 28.7ms\n",
      "Speed: 1.0ms preprocess, 28.7ms inference, 2.3ms postprocess per image at shape (1, 3, 480, 640)\n",
      "tensor([], device='cuda:0', size=(0, 6))\n",
      "\n",
      "0: 480x640 (no detections), 26.9ms\n",
      "Speed: 1.0ms preprocess, 26.9ms inference, 2.3ms postprocess per image at shape (1, 3, 480, 640)\n",
      "tensor([], device='cuda:0', size=(0, 6))\n",
      "\n",
      "0: 480x640 (no detections), 25.9ms\n",
      "Speed: 1.0ms preprocess, 25.9ms inference, 2.2ms postprocess per image at shape (1, 3, 480, 640)\n",
      "tensor([], device='cuda:0', size=(0, 6))\n",
      "\n",
      "0: 480x640 (no detections), 25.5ms\n",
      "Speed: 1.1ms preprocess, 25.5ms inference, 2.2ms postprocess per image at shape (1, 3, 480, 640)\n",
      "tensor([], device='cuda:0', size=(0, 6))\n",
      "\n",
      "0: 480x640 (no detections), 25.2ms\n",
      "Speed: 1.1ms preprocess, 25.2ms inference, 2.4ms postprocess per image at shape (1, 3, 480, 640)\n",
      "tensor([], device='cuda:0', size=(0, 6))\n",
      "\n",
      "0: 480x640 (no detections), 23.4ms\n",
      "Speed: 1.6ms preprocess, 23.4ms inference, 4.6ms postprocess per image at shape (1, 3, 480, 640)\n",
      "tensor([], device='cuda:0', size=(0, 6))\n",
      "\n",
      "0: 480x640 (no detections), 27.7ms\n",
      "Speed: 1.3ms preprocess, 27.7ms inference, 4.0ms postprocess per image at shape (1, 3, 480, 640)\n",
      "tensor([], device='cuda:0', size=(0, 6))\n",
      "\n",
      "0: 480x640 (no detections), 25.2ms\n",
      "Speed: 1.1ms preprocess, 25.2ms inference, 4.4ms postprocess per image at shape (1, 3, 480, 640)\n",
      "tensor([], device='cuda:0', size=(0, 6))\n",
      "\n",
      "0: 480x640 (no detections), 27.3ms\n",
      "Speed: 1.4ms preprocess, 27.3ms inference, 3.6ms postprocess per image at shape (1, 3, 480, 640)\n",
      "tensor([], device='cuda:0', size=(0, 6))\n",
      "\n",
      "0: 480x640 (no detections), 27.0ms\n",
      "Speed: 1.0ms preprocess, 27.0ms inference, 3.7ms postprocess per image at shape (1, 3, 480, 640)\n",
      "tensor([], device='cuda:0', size=(0, 6))\n",
      "\n",
      "0: 480x640 (no detections), 27.1ms\n",
      "Speed: 1.2ms preprocess, 27.1ms inference, 4.8ms postprocess per image at shape (1, 3, 480, 640)\n",
      "tensor([], device='cuda:0', size=(0, 6))\n",
      "\n",
      "0: 480x640 (no detections), 27.1ms\n",
      "Speed: 0.9ms preprocess, 27.1ms inference, 3.1ms postprocess per image at shape (1, 3, 480, 640)\n",
      "tensor([], device='cuda:0', size=(0, 6))\n",
      "\n",
      "0: 480x640 (no detections), 27.2ms\n",
      "Speed: 1.0ms preprocess, 27.2ms inference, 4.0ms postprocess per image at shape (1, 3, 480, 640)\n",
      "tensor([], device='cuda:0', size=(0, 6))\n",
      "\n",
      "0: 480x640 (no detections), 27.1ms\n",
      "Speed: 0.9ms preprocess, 27.1ms inference, 2.9ms postprocess per image at shape (1, 3, 480, 640)\n",
      "tensor([], device='cuda:0', size=(0, 6))\n",
      "\n",
      "0: 480x640 (no detections), 26.6ms\n",
      "Speed: 1.6ms preprocess, 26.6ms inference, 5.7ms postprocess per image at shape (1, 3, 480, 640)\n",
      "tensor([], device='cuda:0', size=(0, 6))\n",
      "\n",
      "0: 480x640 (no detections), 25.0ms\n",
      "Speed: 1.6ms preprocess, 25.0ms inference, 3.2ms postprocess per image at shape (1, 3, 480, 640)\n",
      "tensor([], device='cuda:0', size=(0, 6))\n",
      "\n",
      "0: 480x640 (no detections), 25.2ms\n",
      "Speed: 0.9ms preprocess, 25.2ms inference, 3.4ms postprocess per image at shape (1, 3, 480, 640)\n",
      "tensor([], device='cuda:0', size=(0, 6))\n",
      "\n",
      "0: 480x640 (no detections), 24.7ms\n",
      "Speed: 1.2ms preprocess, 24.7ms inference, 3.1ms postprocess per image at shape (1, 3, 480, 640)\n",
      "tensor([], device='cuda:0', size=(0, 6))\n",
      "\n",
      "0: 480x640 (no detections), 26.0ms\n",
      "Speed: 0.9ms preprocess, 26.0ms inference, 3.2ms postprocess per image at shape (1, 3, 480, 640)\n",
      "tensor([], device='cuda:0', size=(0, 6))\n",
      "\n",
      "0: 480x640 (no detections), 26.3ms\n",
      "Speed: 1.1ms preprocess, 26.3ms inference, 4.7ms postprocess per image at shape (1, 3, 480, 640)\n",
      "tensor([], device='cuda:0', size=(0, 6))\n",
      "\n",
      "0: 480x640 (no detections), 26.3ms\n",
      "Speed: 1.4ms preprocess, 26.3ms inference, 3.5ms postprocess per image at shape (1, 3, 480, 640)\n",
      "tensor([], device='cuda:0', size=(0, 6))\n",
      "\n",
      "0: 480x640 (no detections), 27.1ms\n",
      "Speed: 0.9ms preprocess, 27.1ms inference, 2.9ms postprocess per image at shape (1, 3, 480, 640)\n",
      "tensor([], device='cuda:0', size=(0, 6))\n",
      "\n",
      "0: 480x640 (no detections), 27.4ms\n",
      "Speed: 1.0ms preprocess, 27.4ms inference, 2.0ms postprocess per image at shape (1, 3, 480, 640)\n",
      "tensor([], device='cuda:0', size=(0, 6))\n",
      "\n",
      "0: 480x640 (no detections), 27.2ms\n",
      "Speed: 1.0ms preprocess, 27.2ms inference, 2.5ms postprocess per image at shape (1, 3, 480, 640)\n",
      "tensor([], device='cuda:0', size=(0, 6))\n",
      "\n",
      "0: 480x640 (no detections), 26.5ms\n",
      "Speed: 1.7ms preprocess, 26.5ms inference, 5.7ms postprocess per image at shape (1, 3, 480, 640)\n",
      "tensor([], device='cuda:0', size=(0, 6))\n",
      "\n",
      "0: 480x640 (no detections), 25.3ms\n",
      "Speed: 1.2ms preprocess, 25.3ms inference, 2.8ms postprocess per image at shape (1, 3, 480, 640)\n",
      "tensor([], device='cuda:0', size=(0, 6))\n",
      "\n",
      "0: 480x640 (no detections), 25.8ms\n",
      "Speed: 1.0ms preprocess, 25.8ms inference, 2.5ms postprocess per image at shape (1, 3, 480, 640)\n",
      "tensor([], device='cuda:0', size=(0, 6))\n",
      "\n",
      "0: 480x640 (no detections), 24.7ms\n",
      "Speed: 1.2ms preprocess, 24.7ms inference, 4.3ms postprocess per image at shape (1, 3, 480, 640)\n",
      "tensor([], device='cuda:0', size=(0, 6))\n",
      "\n",
      "0: 480x640 (no detections), 25.5ms\n",
      "Speed: 1.2ms preprocess, 25.5ms inference, 2.4ms postprocess per image at shape (1, 3, 480, 640)\n",
      "tensor([], device='cuda:0', size=(0, 6))\n",
      "\n",
      "0: 480x640 (no detections), 25.5ms\n",
      "Speed: 1.0ms preprocess, 25.5ms inference, 2.8ms postprocess per image at shape (1, 3, 480, 640)\n",
      "tensor([], device='cuda:0', size=(0, 6))\n",
      "\n",
      "0: 480x640 (no detections), 25.5ms\n",
      "Speed: 1.3ms preprocess, 25.5ms inference, 2.2ms postprocess per image at shape (1, 3, 480, 640)\n",
      "tensor([], device='cuda:0', size=(0, 6))\n",
      "\n",
      "0: 480x640 (no detections), 25.4ms\n",
      "Speed: 1.0ms preprocess, 25.4ms inference, 2.4ms postprocess per image at shape (1, 3, 480, 640)\n",
      "tensor([], device='cuda:0', size=(0, 6))\n",
      "\n",
      "0: 480x640 (no detections), 25.4ms\n",
      "Speed: 1.1ms preprocess, 25.4ms inference, 2.5ms postprocess per image at shape (1, 3, 480, 640)\n",
      "tensor([], device='cuda:0', size=(0, 6))\n",
      "\n",
      "0: 480x640 (no detections), 25.5ms\n",
      "Speed: 1.1ms preprocess, 25.5ms inference, 2.3ms postprocess per image at shape (1, 3, 480, 640)\n",
      "tensor([], device='cuda:0', size=(0, 6))\n",
      "\n",
      "0: 480x640 (no detections), 26.8ms\n",
      "Speed: 1.5ms preprocess, 26.8ms inference, 2.6ms postprocess per image at shape (1, 3, 480, 640)\n",
      "tensor([], device='cuda:0', size=(0, 6))\n",
      "\n",
      "0: 480x640 (no detections), 22.1ms\n",
      "Speed: 1.5ms preprocess, 22.1ms inference, 2.1ms postprocess per image at shape (1, 3, 480, 640)\n",
      "tensor([], device='cuda:0', size=(0, 6))\n",
      "\n",
      "0: 480x640 (no detections), 22.3ms\n",
      "Speed: 1.0ms preprocess, 22.3ms inference, 2.4ms postprocess per image at shape (1, 3, 480, 640)\n",
      "tensor([], device='cuda:0', size=(0, 6))\n",
      "\n",
      "0: 480x640 (no detections), 23.2ms\n",
      "Speed: 1.2ms preprocess, 23.2ms inference, 3.0ms postprocess per image at shape (1, 3, 480, 640)\n",
      "tensor([], device='cuda:0', size=(0, 6))\n",
      "\n",
      "0: 480x640 (no detections), 23.4ms\n",
      "Speed: 1.0ms preprocess, 23.4ms inference, 2.7ms postprocess per image at shape (1, 3, 480, 640)\n",
      "tensor([], device='cuda:0', size=(0, 6))\n",
      "\n",
      "0: 480x640 (no detections), 22.5ms\n",
      "Speed: 1.4ms preprocess, 22.5ms inference, 2.1ms postprocess per image at shape (1, 3, 480, 640)\n",
      "tensor([], device='cuda:0', size=(0, 6))\n",
      "\n",
      "0: 480x640 (no detections), 22.8ms\n",
      "Speed: 1.0ms preprocess, 22.8ms inference, 2.2ms postprocess per image at shape (1, 3, 480, 640)\n",
      "tensor([], device='cuda:0', size=(0, 6))\n",
      "\n",
      "0: 480x640 (no detections), 22.2ms\n",
      "Speed: 1.0ms preprocess, 22.2ms inference, 12.4ms postprocess per image at shape (1, 3, 480, 640)\n",
      "tensor([], device='cuda:0', size=(0, 6))\n",
      "\n",
      "0: 480x640 (no detections), 21.1ms\n",
      "Speed: 1.1ms preprocess, 21.1ms inference, 2.7ms postprocess per image at shape (1, 3, 480, 640)\n",
      "tensor([], device='cuda:0', size=(0, 6))\n",
      "\n",
      "0: 480x640 (no detections), 24.8ms\n",
      "Speed: 5.5ms preprocess, 24.8ms inference, 2.2ms postprocess per image at shape (1, 3, 480, 640)\n",
      "tensor([], device='cuda:0', size=(0, 6))\n",
      "\n",
      "0: 480x640 (no detections), 21.1ms\n",
      "Speed: 1.5ms preprocess, 21.1ms inference, 2.2ms postprocess per image at shape (1, 3, 480, 640)\n",
      "tensor([], device='cuda:0', size=(0, 6))\n",
      "\n",
      "0: 480x640 (no detections), 22.9ms\n",
      "Speed: 1.0ms preprocess, 22.9ms inference, 2.4ms postprocess per image at shape (1, 3, 480, 640)\n",
      "tensor([], device='cuda:0', size=(0, 6))\n",
      "\n",
      "0: 480x640 (no detections), 22.2ms\n",
      "Speed: 1.3ms preprocess, 22.2ms inference, 3.1ms postprocess per image at shape (1, 3, 480, 640)\n",
      "tensor([], device='cuda:0', size=(0, 6))\n",
      "\n",
      "0: 480x640 (no detections), 21.6ms\n",
      "Speed: 1.1ms preprocess, 21.6ms inference, 2.6ms postprocess per image at shape (1, 3, 480, 640)\n",
      "tensor([], device='cuda:0', size=(0, 6))\n",
      "\n",
      "0: 480x640 (no detections), 22.0ms\n",
      "Speed: 1.2ms preprocess, 22.0ms inference, 2.1ms postprocess per image at shape (1, 3, 480, 640)\n",
      "tensor([], device='cuda:0', size=(0, 6))\n",
      "\n",
      "0: 480x640 (no detections), 23.2ms\n",
      "Speed: 1.1ms preprocess, 23.2ms inference, 2.1ms postprocess per image at shape (1, 3, 480, 640)\n",
      "tensor([], device='cuda:0', size=(0, 6))\n",
      "\n",
      "0: 480x640 (no detections), 37.3ms\n",
      "Speed: 1.0ms preprocess, 37.3ms inference, 2.0ms postprocess per image at shape (1, 3, 480, 640)\n",
      "tensor([], device='cuda:0', size=(0, 6))\n",
      "\n",
      "0: 480x640 (no detections), 37.3ms\n",
      "Speed: 1.2ms preprocess, 37.3ms inference, 2.0ms postprocess per image at shape (1, 3, 480, 640)\n",
      "tensor([], device='cuda:0', size=(0, 6))\n",
      "\n",
      "0: 480x640 (no detections), 37.2ms\n",
      "Speed: 1.1ms preprocess, 37.2ms inference, 2.0ms postprocess per image at shape (1, 3, 480, 640)\n",
      "tensor([], device='cuda:0', size=(0, 6))\n",
      "\n",
      "0: 480x640 (no detections), 37.3ms\n",
      "Speed: 1.1ms preprocess, 37.3ms inference, 2.2ms postprocess per image at shape (1, 3, 480, 640)\n",
      "tensor([], device='cuda:0', size=(0, 6))\n",
      "\n",
      "0: 480x640 (no detections), 37.2ms\n",
      "Speed: 1.1ms preprocess, 37.2ms inference, 2.6ms postprocess per image at shape (1, 3, 480, 640)\n",
      "tensor([], device='cuda:0', size=(0, 6))\n",
      "\n",
      "0: 480x640 (no detections), 37.3ms\n",
      "Speed: 1.4ms preprocess, 37.3ms inference, 2.6ms postprocess per image at shape (1, 3, 480, 640)\n",
      "tensor([], device='cuda:0', size=(0, 6))\n",
      "\n",
      "0: 480x640 (no detections), 37.3ms\n",
      "Speed: 1.2ms preprocess, 37.3ms inference, 2.8ms postprocess per image at shape (1, 3, 480, 640)\n",
      "tensor([], device='cuda:0', size=(0, 6))\n",
      "\n",
      "0: 480x640 (no detections), 37.2ms\n",
      "Speed: 1.0ms preprocess, 37.2ms inference, 2.0ms postprocess per image at shape (1, 3, 480, 640)\n",
      "tensor([], device='cuda:0', size=(0, 6))\n",
      "\n",
      "0: 480x640 (no detections), 37.2ms\n",
      "Speed: 0.9ms preprocess, 37.2ms inference, 2.0ms postprocess per image at shape (1, 3, 480, 640)\n",
      "tensor([], device='cuda:0', size=(0, 6))\n",
      "\n",
      "0: 480x640 (no detections), 37.4ms\n",
      "Speed: 1.0ms preprocess, 37.4ms inference, 2.4ms postprocess per image at shape (1, 3, 480, 640)\n",
      "tensor([], device='cuda:0', size=(0, 6))\n",
      "\n",
      "0: 480x640 (no detections), 37.2ms\n",
      "Speed: 1.1ms preprocess, 37.2ms inference, 2.2ms postprocess per image at shape (1, 3, 480, 640)\n",
      "tensor([], device='cuda:0', size=(0, 6))\n",
      "\n",
      "0: 480x640 (no detections), 37.2ms\n",
      "Speed: 1.0ms preprocess, 37.2ms inference, 1.9ms postprocess per image at shape (1, 3, 480, 640)\n",
      "tensor([], device='cuda:0', size=(0, 6))\n",
      "\n",
      "0: 480x640 (no detections), 37.2ms\n",
      "Speed: 1.2ms preprocess, 37.2ms inference, 2.1ms postprocess per image at shape (1, 3, 480, 640)\n",
      "tensor([], device='cuda:0', size=(0, 6))\n",
      "\n",
      "0: 480x640 (no detections), 37.3ms\n",
      "Speed: 1.6ms preprocess, 37.3ms inference, 2.0ms postprocess per image at shape (1, 3, 480, 640)\n",
      "tensor([], device='cuda:0', size=(0, 6))\n",
      "\n",
      "0: 480x640 (no detections), 37.3ms\n",
      "Speed: 1.7ms preprocess, 37.3ms inference, 2.1ms postprocess per image at shape (1, 3, 480, 640)\n",
      "tensor([], device='cuda:0', size=(0, 6))\n",
      "\n",
      "0: 480x640 (no detections), 37.3ms\n",
      "Speed: 1.2ms preprocess, 37.3ms inference, 2.6ms postprocess per image at shape (1, 3, 480, 640)\n",
      "tensor([], device='cuda:0', size=(0, 6))\n",
      "\n",
      "0: 480x640 (no detections), 35.2ms\n",
      "Speed: 1.5ms preprocess, 35.2ms inference, 2.2ms postprocess per image at shape (1, 3, 480, 640)\n",
      "tensor([], device='cuda:0', size=(0, 6))\n",
      "\n",
      "0: 480x640 (no detections), 37.3ms\n",
      "Speed: 1.2ms preprocess, 37.3ms inference, 2.0ms postprocess per image at shape (1, 3, 480, 640)\n",
      "tensor([], device='cuda:0', size=(0, 6))\n",
      "\n",
      "0: 480x640 (no detections), 37.3ms\n",
      "Speed: 1.0ms preprocess, 37.3ms inference, 2.0ms postprocess per image at shape (1, 3, 480, 640)\n",
      "tensor([], device='cuda:0', size=(0, 6))\n",
      "\n",
      "0: 480x640 (no detections), 37.3ms\n",
      "Speed: 1.0ms preprocess, 37.3ms inference, 1.9ms postprocess per image at shape (1, 3, 480, 640)\n",
      "tensor([], device='cuda:0', size=(0, 6))\n",
      "\n",
      "0: 480x640 (no detections), 37.3ms\n",
      "Speed: 1.0ms preprocess, 37.3ms inference, 2.0ms postprocess per image at shape (1, 3, 480, 640)\n",
      "tensor([], device='cuda:0', size=(0, 6))\n",
      "\n",
      "0: 480x640 (no detections), 37.3ms\n",
      "Speed: 0.9ms preprocess, 37.3ms inference, 2.9ms postprocess per image at shape (1, 3, 480, 640)\n",
      "tensor([], device='cuda:0', size=(0, 6))\n",
      "\n",
      "0: 480x640 (no detections), 37.2ms\n",
      "Speed: 1.0ms preprocess, 37.2ms inference, 2.9ms postprocess per image at shape (1, 3, 480, 640)\n",
      "tensor([], device='cuda:0', size=(0, 6))\n",
      "\n",
      "0: 480x640 (no detections), 37.2ms\n",
      "Speed: 0.9ms preprocess, 37.2ms inference, 2.5ms postprocess per image at shape (1, 3, 480, 640)\n",
      "tensor([], device='cuda:0', size=(0, 6))\n",
      "\n",
      "0: 480x640 (no detections), 37.2ms\n",
      "Speed: 1.0ms preprocess, 37.2ms inference, 2.5ms postprocess per image at shape (1, 3, 480, 640)\n",
      "tensor([], device='cuda:0', size=(0, 6))\n",
      "\n",
      "0: 480x640 (no detections), 37.3ms\n",
      "Speed: 1.0ms preprocess, 37.3ms inference, 3.0ms postprocess per image at shape (1, 3, 480, 640)\n",
      "tensor([], device='cuda:0', size=(0, 6))\n",
      "\n",
      "0: 480x640 (no detections), 37.3ms\n",
      "Speed: 1.5ms preprocess, 37.3ms inference, 2.5ms postprocess per image at shape (1, 3, 480, 640)\n",
      "tensor([], device='cuda:0', size=(0, 6))\n",
      "\n",
      "0: 480x640 (no detections), 36.2ms\n",
      "Speed: 1.0ms preprocess, 36.2ms inference, 9.0ms postprocess per image at shape (1, 3, 480, 640)\n",
      "tensor([], device='cuda:0', size=(0, 6))\n",
      "\n",
      "0: 480x640 (no detections), 26.3ms\n",
      "Speed: 1.6ms preprocess, 26.3ms inference, 2.2ms postprocess per image at shape (1, 3, 480, 640)\n",
      "tensor([], device='cuda:0', size=(0, 6))\n",
      "\n",
      "0: 480x640 (no detections), 27.4ms\n",
      "Speed: 1.0ms preprocess, 27.4ms inference, 2.2ms postprocess per image at shape (1, 3, 480, 640)\n",
      "tensor([], device='cuda:0', size=(0, 6))\n",
      "\n",
      "0: 480x640 (no detections), 27.4ms\n",
      "Speed: 1.0ms preprocess, 27.4ms inference, 2.1ms postprocess per image at shape (1, 3, 480, 640)\n",
      "tensor([], device='cuda:0', size=(0, 6))\n",
      "\n",
      "0: 480x640 (no detections), 27.3ms\n",
      "Speed: 1.0ms preprocess, 27.3ms inference, 2.8ms postprocess per image at shape (1, 3, 480, 640)\n",
      "tensor([], device='cuda:0', size=(0, 6))\n",
      "\n",
      "0: 480x640 (no detections), 27.2ms\n",
      "Speed: 1.0ms preprocess, 27.2ms inference, 11.4ms postprocess per image at shape (1, 3, 480, 640)\n",
      "tensor([], device='cuda:0', size=(0, 6))\n",
      "\n",
      "0: 480x640 (no detections), 25.2ms\n",
      "Speed: 1.0ms preprocess, 25.2ms inference, 2.1ms postprocess per image at shape (1, 3, 480, 640)\n",
      "tensor([], device='cuda:0', size=(0, 6))\n",
      "\n",
      "0: 480x640 (no detections), 27.5ms\n",
      "Speed: 1.0ms preprocess, 27.5ms inference, 2.1ms postprocess per image at shape (1, 3, 480, 640)\n",
      "tensor([], device='cuda:0', size=(0, 6))\n",
      "\n",
      "0: 480x640 (no detections), 27.5ms\n",
      "Speed: 1.1ms preprocess, 27.5ms inference, 2.7ms postprocess per image at shape (1, 3, 480, 640)\n",
      "tensor([], device='cuda:0', size=(0, 6))\n",
      "\n",
      "0: 480x640 (no detections), 25.6ms\n",
      "Speed: 1.1ms preprocess, 25.6ms inference, 3.1ms postprocess per image at shape (1, 3, 480, 640)\n",
      "tensor([], device='cuda:0', size=(0, 6))\n",
      "\n",
      "0: 480x640 (no detections), 25.5ms\n",
      "Speed: 1.2ms preprocess, 25.5ms inference, 2.6ms postprocess per image at shape (1, 3, 480, 640)\n",
      "tensor([], device='cuda:0', size=(0, 6))\n",
      "\n",
      "0: 480x640 (no detections), 25.5ms\n",
      "Speed: 1.1ms preprocess, 25.5ms inference, 2.5ms postprocess per image at shape (1, 3, 480, 640)\n",
      "tensor([], device='cuda:0', size=(0, 6))\n",
      "\n",
      "0: 480x640 (no detections), 27.2ms\n",
      "Speed: 0.9ms preprocess, 27.2ms inference, 2.1ms postprocess per image at shape (1, 3, 480, 640)\n",
      "tensor([], device='cuda:0', size=(0, 6))\n",
      "\n",
      "0: 480x640 (no detections), 27.3ms\n",
      "Speed: 1.1ms preprocess, 27.3ms inference, 3.1ms postprocess per image at shape (1, 3, 480, 640)\n",
      "tensor([], device='cuda:0', size=(0, 6))\n",
      "\n",
      "0: 480x640 (no detections), 27.4ms\n",
      "Speed: 0.9ms preprocess, 27.4ms inference, 2.3ms postprocess per image at shape (1, 3, 480, 640)\n",
      "tensor([], device='cuda:0', size=(0, 6))\n",
      "\n",
      "0: 480x640 (no detections), 26.8ms\n",
      "Speed: 1.2ms preprocess, 26.8ms inference, 2.8ms postprocess per image at shape (1, 3, 480, 640)\n",
      "tensor([], device='cuda:0', size=(0, 6))\n",
      "\n",
      "0: 480x640 (no detections), 27.6ms\n",
      "Speed: 1.3ms preprocess, 27.6ms inference, 2.4ms postprocess per image at shape (1, 3, 480, 640)\n",
      "tensor([], device='cuda:0', size=(0, 6))\n",
      "\n",
      "0: 480x640 (no detections), 28.0ms\n",
      "Speed: 0.9ms preprocess, 28.0ms inference, 2.6ms postprocess per image at shape (1, 3, 480, 640)\n",
      "tensor([], device='cuda:0', size=(0, 6))\n",
      "\n",
      "0: 480x640 (no detections), 27.6ms\n",
      "Speed: 1.0ms preprocess, 27.6ms inference, 2.1ms postprocess per image at shape (1, 3, 480, 640)\n",
      "tensor([], device='cuda:0', size=(0, 6))\n",
      "\n",
      "0: 480x640 (no detections), 27.4ms\n",
      "Speed: 1.1ms preprocess, 27.4ms inference, 2.8ms postprocess per image at shape (1, 3, 480, 640)\n",
      "tensor([], device='cuda:0', size=(0, 6))\n",
      "\n",
      "0: 480x640 (no detections), 26.6ms\n",
      "Speed: 1.3ms preprocess, 26.6ms inference, 2.3ms postprocess per image at shape (1, 3, 480, 640)\n",
      "tensor([], device='cuda:0', size=(0, 6))\n",
      "\n",
      "0: 480x640 (no detections), 26.4ms\n",
      "Speed: 1.2ms preprocess, 26.4ms inference, 2.2ms postprocess per image at shape (1, 3, 480, 640)\n",
      "tensor([], device='cuda:0', size=(0, 6))\n",
      "\n",
      "0: 480x640 (no detections), 24.0ms\n",
      "Speed: 2.0ms preprocess, 24.0ms inference, 2.5ms postprocess per image at shape (1, 3, 480, 640)\n",
      "tensor([], device='cuda:0', size=(0, 6))\n",
      "\n",
      "0: 480x640 (no detections), 25.3ms\n",
      "Speed: 0.9ms preprocess, 25.3ms inference, 2.9ms postprocess per image at shape (1, 3, 480, 640)\n",
      "tensor([], device='cuda:0', size=(0, 6))\n",
      "\n",
      "0: 480x640 (no detections), 24.1ms\n",
      "Speed: 1.0ms preprocess, 24.1ms inference, 2.3ms postprocess per image at shape (1, 3, 480, 640)\n",
      "tensor([], device='cuda:0', size=(0, 6))\n",
      "\n",
      "0: 480x640 (no detections), 24.2ms\n",
      "Speed: 1.3ms preprocess, 24.2ms inference, 2.0ms postprocess per image at shape (1, 3, 480, 640)\n",
      "tensor([], device='cuda:0', size=(0, 6))\n",
      "\n",
      "0: 480x640 (no detections), 22.9ms\n",
      "Speed: 1.1ms preprocess, 22.9ms inference, 2.0ms postprocess per image at shape (1, 3, 480, 640)\n",
      "tensor([], device='cuda:0', size=(0, 6))\n",
      "\n",
      "0: 480x640 (no detections), 25.1ms\n",
      "Speed: 1.5ms preprocess, 25.1ms inference, 2.2ms postprocess per image at shape (1, 3, 480, 640)\n",
      "tensor([], device='cuda:0', size=(0, 6))\n",
      "\n",
      "0: 480x640 (no detections), 23.5ms\n",
      "Speed: 1.2ms preprocess, 23.5ms inference, 2.5ms postprocess per image at shape (1, 3, 480, 640)\n",
      "tensor([], device='cuda:0', size=(0, 6))\n",
      "\n",
      "0: 480x640 (no detections), 25.3ms\n",
      "Speed: 1.3ms preprocess, 25.3ms inference, 7.2ms postprocess per image at shape (1, 3, 480, 640)\n",
      "tensor([], device='cuda:0', size=(0, 6))\n",
      "\n",
      "0: 480x640 (no detections), 23.6ms\n",
      "Speed: 1.4ms preprocess, 23.6ms inference, 3.4ms postprocess per image at shape (1, 3, 480, 640)\n",
      "tensor([], device='cuda:0', size=(0, 6))\n",
      "\n",
      "0: 480x640 (no detections), 25.9ms\n",
      "Speed: 1.2ms preprocess, 25.9ms inference, 2.6ms postprocess per image at shape (1, 3, 480, 640)\n",
      "tensor([], device='cuda:0', size=(0, 6))\n",
      "\n",
      "0: 480x640 (no detections), 24.6ms\n",
      "Speed: 1.5ms preprocess, 24.6ms inference, 2.1ms postprocess per image at shape (1, 3, 480, 640)\n",
      "tensor([], device='cuda:0', size=(0, 6))\n",
      "\n",
      "0: 480x640 (no detections), 24.3ms\n",
      "Speed: 1.0ms preprocess, 24.3ms inference, 2.5ms postprocess per image at shape (1, 3, 480, 640)\n",
      "tensor([], device='cuda:0', size=(0, 6))\n",
      "\n",
      "0: 480x640 (no detections), 23.9ms\n",
      "Speed: 1.0ms preprocess, 23.9ms inference, 2.4ms postprocess per image at shape (1, 3, 480, 640)\n",
      "tensor([], device='cuda:0', size=(0, 6))\n",
      "\n",
      "0: 480x640 (no detections), 24.2ms\n",
      "Speed: 1.3ms preprocess, 24.2ms inference, 2.1ms postprocess per image at shape (1, 3, 480, 640)\n",
      "tensor([], device='cuda:0', size=(0, 6))\n",
      "\n",
      "0: 480x640 (no detections), 24.2ms\n",
      "Speed: 1.0ms preprocess, 24.2ms inference, 2.9ms postprocess per image at shape (1, 3, 480, 640)\n",
      "tensor([], device='cuda:0', size=(0, 6))\n",
      "\n",
      "0: 480x640 (no detections), 24.0ms\n",
      "Speed: 1.7ms preprocess, 24.0ms inference, 2.6ms postprocess per image at shape (1, 3, 480, 640)\n",
      "tensor([], device='cuda:0', size=(0, 6))\n",
      "\n",
      "0: 480x640 (no detections), 24.0ms\n",
      "Speed: 0.9ms preprocess, 24.0ms inference, 2.5ms postprocess per image at shape (1, 3, 480, 640)\n",
      "tensor([], device='cuda:0', size=(0, 6))\n",
      "\n",
      "0: 480x640 (no detections), 23.9ms\n",
      "Speed: 1.0ms preprocess, 23.9ms inference, 2.2ms postprocess per image at shape (1, 3, 480, 640)\n",
      "tensor([], device='cuda:0', size=(0, 6))\n",
      "\n",
      "0: 480x640 (no detections), 24.3ms\n",
      "Speed: 1.2ms preprocess, 24.3ms inference, 8.9ms postprocess per image at shape (1, 3, 480, 640)\n",
      "tensor([], device='cuda:0', size=(0, 6))\n",
      "\n",
      "0: 480x640 (no detections), 23.5ms\n",
      "Speed: 2.0ms preprocess, 23.5ms inference, 3.1ms postprocess per image at shape (1, 3, 480, 640)\n",
      "tensor([], device='cuda:0', size=(0, 6))\n",
      "\n",
      "0: 480x640 (no detections), 25.3ms\n",
      "Speed: 1.3ms preprocess, 25.3ms inference, 2.4ms postprocess per image at shape (1, 3, 480, 640)\n",
      "tensor([], device='cuda:0', size=(0, 6))\n",
      "\n",
      "0: 480x640 (no detections), 23.4ms\n",
      "Speed: 1.5ms preprocess, 23.4ms inference, 4.1ms postprocess per image at shape (1, 3, 480, 640)\n",
      "tensor([], device='cuda:0', size=(0, 6))\n",
      "\n",
      "0: 480x640 (no detections), 25.6ms\n",
      "Speed: 1.0ms preprocess, 25.6ms inference, 5.0ms postprocess per image at shape (1, 3, 480, 640)\n",
      "tensor([], device='cuda:0', size=(0, 6))\n",
      "\n",
      "0: 480x640 (no detections), 24.7ms\n",
      "Speed: 1.2ms preprocess, 24.7ms inference, 3.9ms postprocess per image at shape (1, 3, 480, 640)\n",
      "tensor([], device='cuda:0', size=(0, 6))\n",
      "\n",
      "0: 480x640 (no detections), 24.5ms\n",
      "Speed: 0.9ms preprocess, 24.5ms inference, 4.0ms postprocess per image at shape (1, 3, 480, 640)\n",
      "tensor([], device='cuda:0', size=(0, 6))\n",
      "\n",
      "0: 480x640 (no detections), 23.6ms\n",
      "Speed: 1.1ms preprocess, 23.6ms inference, 4.9ms postprocess per image at shape (1, 3, 480, 640)\n",
      "tensor([], device='cuda:0', size=(0, 6))\n",
      "\n",
      "0: 480x640 (no detections), 24.4ms\n",
      "Speed: 0.9ms preprocess, 24.4ms inference, 3.0ms postprocess per image at shape (1, 3, 480, 640)\n",
      "tensor([], device='cuda:0', size=(0, 6))\n",
      "\n",
      "0: 480x640 (no detections), 23.9ms\n",
      "Speed: 0.9ms preprocess, 23.9ms inference, 3.8ms postprocess per image at shape (1, 3, 480, 640)\n",
      "tensor([], device='cuda:0', size=(0, 6))\n",
      "\n",
      "0: 480x640 (no detections), 24.1ms\n",
      "Speed: 1.1ms preprocess, 24.1ms inference, 3.0ms postprocess per image at shape (1, 3, 480, 640)\n",
      "tensor([], device='cuda:0', size=(0, 6))\n",
      "\n",
      "0: 480x640 (no detections), 22.9ms\n",
      "Speed: 1.4ms preprocess, 22.9ms inference, 4.6ms postprocess per image at shape (1, 3, 480, 640)\n",
      "tensor([], device='cuda:0', size=(0, 6))\n",
      "\n",
      "0: 480x640 (no detections), 24.6ms\n",
      "Speed: 1.1ms preprocess, 24.6ms inference, 3.5ms postprocess per image at shape (1, 3, 480, 640)\n",
      "tensor([], device='cuda:0', size=(0, 6))\n",
      "\n",
      "0: 480x640 (no detections), 24.6ms\n",
      "Speed: 0.9ms preprocess, 24.6ms inference, 3.5ms postprocess per image at shape (1, 3, 480, 640)\n",
      "tensor([], device='cuda:0', size=(0, 6))\n",
      "\n",
      "0: 480x640 (no detections), 24.0ms\n",
      "Speed: 1.2ms preprocess, 24.0ms inference, 3.7ms postprocess per image at shape (1, 3, 480, 640)\n",
      "tensor([], device='cuda:0', size=(0, 6))\n",
      "\n",
      "0: 480x640 (no detections), 24.2ms\n",
      "Speed: 1.1ms preprocess, 24.2ms inference, 3.2ms postprocess per image at shape (1, 3, 480, 640)\n",
      "tensor([], device='cuda:0', size=(0, 6))\n",
      "\n",
      "0: 480x640 (no detections), 24.5ms\n",
      "Speed: 0.9ms preprocess, 24.5ms inference, 3.7ms postprocess per image at shape (1, 3, 480, 640)\n",
      "tensor([], device='cuda:0', size=(0, 6))\n",
      "\n",
      "0: 480x640 (no detections), 23.6ms\n",
      "Speed: 1.1ms preprocess, 23.6ms inference, 3.9ms postprocess per image at shape (1, 3, 480, 640)\n",
      "tensor([], device='cuda:0', size=(0, 6))\n",
      "\n",
      "0: 480x640 (no detections), 23.2ms\n",
      "Speed: 1.7ms preprocess, 23.2ms inference, 5.0ms postprocess per image at shape (1, 3, 480, 640)\n",
      "tensor([], device='cuda:0', size=(0, 6))\n",
      "\n",
      "0: 480x640 (no detections), 25.5ms\n",
      "Speed: 0.9ms preprocess, 25.5ms inference, 4.7ms postprocess per image at shape (1, 3, 480, 640)\n",
      "tensor([], device='cuda:0', size=(0, 6))\n",
      "\n",
      "0: 480x640 (no detections), 23.8ms\n",
      "Speed: 1.0ms preprocess, 23.8ms inference, 2.4ms postprocess per image at shape (1, 3, 480, 640)\n",
      "tensor([], device='cuda:0', size=(0, 6))\n",
      "\n",
      "0: 480x640 (no detections), 25.7ms\n",
      "Speed: 1.0ms preprocess, 25.7ms inference, 2.7ms postprocess per image at shape (1, 3, 480, 640)\n",
      "tensor([], device='cuda:0', size=(0, 6))\n",
      "\n",
      "0: 480x640 (no detections), 24.3ms\n",
      "Speed: 1.6ms preprocess, 24.3ms inference, 1.9ms postprocess per image at shape (1, 3, 480, 640)\n",
      "tensor([], device='cuda:0', size=(0, 6))\n",
      "\n",
      "0: 480x640 (no detections), 24.4ms\n",
      "Speed: 0.9ms preprocess, 24.4ms inference, 2.3ms postprocess per image at shape (1, 3, 480, 640)\n",
      "tensor([], device='cuda:0', size=(0, 6))\n",
      "\n",
      "0: 480x640 (no detections), 23.9ms\n",
      "Speed: 1.0ms preprocess, 23.9ms inference, 2.1ms postprocess per image at shape (1, 3, 480, 640)\n",
      "tensor([], device='cuda:0', size=(0, 6))\n",
      "\n",
      "0: 480x640 (no detections), 25.3ms\n",
      "Speed: 1.0ms preprocess, 25.3ms inference, 2.4ms postprocess per image at shape (1, 3, 480, 640)\n",
      "tensor([], device='cuda:0', size=(0, 6))\n",
      "\n",
      "0: 480x640 (no detections), 34.9ms\n",
      "Speed: 1.2ms preprocess, 34.9ms inference, 3.2ms postprocess per image at shape (1, 3, 480, 640)\n",
      "tensor([], device='cuda:0', size=(0, 6))\n",
      "\n",
      "0: 480x640 (no detections), 24.3ms\n",
      "Speed: 1.3ms preprocess, 24.3ms inference, 2.0ms postprocess per image at shape (1, 3, 480, 640)\n",
      "tensor([], device='cuda:0', size=(0, 6))\n",
      "\n",
      "0: 480x640 (no detections), 24.8ms\n",
      "Speed: 1.2ms preprocess, 24.8ms inference, 2.1ms postprocess per image at shape (1, 3, 480, 640)\n",
      "tensor([], device='cuda:0', size=(0, 6))\n",
      "\n",
      "0: 480x640 (no detections), 24.3ms\n",
      "Speed: 0.9ms preprocess, 24.3ms inference, 2.2ms postprocess per image at shape (1, 3, 480, 640)\n",
      "tensor([], device='cuda:0', size=(0, 6))\n",
      "\n",
      "0: 480x640 (no detections), 24.2ms\n",
      "Speed: 1.1ms preprocess, 24.2ms inference, 2.1ms postprocess per image at shape (1, 3, 480, 640)\n",
      "tensor([], device='cuda:0', size=(0, 6))\n",
      "\n",
      "0: 480x640 (no detections), 25.3ms\n",
      "Speed: 1.0ms preprocess, 25.3ms inference, 2.6ms postprocess per image at shape (1, 3, 480, 640)\n",
      "tensor([], device='cuda:0', size=(0, 6))\n",
      "\n",
      "0: 480x640 (no detections), 25.7ms\n",
      "Speed: 1.3ms preprocess, 25.7ms inference, 2.4ms postprocess per image at shape (1, 3, 480, 640)\n",
      "tensor([], device='cuda:0', size=(0, 6))\n",
      "\n",
      "0: 480x640 (no detections), 25.7ms\n",
      "Speed: 1.1ms preprocess, 25.7ms inference, 2.1ms postprocess per image at shape (1, 3, 480, 640)\n",
      "tensor([], device='cuda:0', size=(0, 6))\n",
      "\n",
      "0: 480x640 (no detections), 36.4ms\n",
      "Speed: 1.3ms preprocess, 36.4ms inference, 2.3ms postprocess per image at shape (1, 3, 480, 640)\n",
      "tensor([], device='cuda:0', size=(0, 6))\n",
      "\n",
      "0: 480x640 (no detections), 25.9ms\n",
      "Speed: 1.2ms preprocess, 25.9ms inference, 2.4ms postprocess per image at shape (1, 3, 480, 640)\n",
      "tensor([], device='cuda:0', size=(0, 6))\n",
      "\n",
      "0: 480x640 (no detections), 26.4ms\n",
      "Speed: 1.1ms preprocess, 26.4ms inference, 2.3ms postprocess per image at shape (1, 3, 480, 640)\n",
      "tensor([], device='cuda:0', size=(0, 6))\n",
      "\n",
      "0: 480x640 (no detections), 26.0ms\n",
      "Speed: 1.2ms preprocess, 26.0ms inference, 2.1ms postprocess per image at shape (1, 3, 480, 640)\n",
      "tensor([], device='cuda:0', size=(0, 6))\n",
      "\n",
      "0: 480x640 (no detections), 25.6ms\n",
      "Speed: 0.9ms preprocess, 25.6ms inference, 1.9ms postprocess per image at shape (1, 3, 480, 640)\n",
      "tensor([], device='cuda:0', size=(0, 6))\n",
      "\n",
      "0: 480x640 (no detections), 24.5ms\n",
      "Speed: 1.0ms preprocess, 24.5ms inference, 2.1ms postprocess per image at shape (1, 3, 480, 640)\n",
      "tensor([], device='cuda:0', size=(0, 6))\n",
      "\n",
      "0: 480x640 (no detections), 24.4ms\n",
      "Speed: 1.0ms preprocess, 24.4ms inference, 2.1ms postprocess per image at shape (1, 3, 480, 640)\n",
      "tensor([], device='cuda:0', size=(0, 6))\n",
      "\n",
      "0: 480x640 (no detections), 26.9ms\n",
      "Speed: 1.0ms preprocess, 26.9ms inference, 2.6ms postprocess per image at shape (1, 3, 480, 640)\n",
      "tensor([], device='cuda:0', size=(0, 6))\n",
      "\n",
      "0: 480x640 (no detections), 26.1ms\n",
      "Speed: 5.3ms preprocess, 26.1ms inference, 2.2ms postprocess per image at shape (1, 3, 480, 640)\n",
      "tensor([], device='cuda:0', size=(0, 6))\n",
      "\n",
      "0: 480x640 (no detections), 26.0ms\n",
      "Speed: 1.6ms preprocess, 26.0ms inference, 2.4ms postprocess per image at shape (1, 3, 480, 640)\n",
      "tensor([], device='cuda:0', size=(0, 6))\n",
      "\n",
      "0: 480x640 (no detections), 25.9ms\n",
      "Speed: 1.2ms preprocess, 25.9ms inference, 2.8ms postprocess per image at shape (1, 3, 480, 640)\n",
      "tensor([], device='cuda:0', size=(0, 6))\n",
      "\n",
      "0: 480x640 (no detections), 22.8ms\n",
      "Speed: 1.0ms preprocess, 22.8ms inference, 2.2ms postprocess per image at shape (1, 3, 480, 640)\n",
      "tensor([], device='cuda:0', size=(0, 6))\n",
      "\n",
      "0: 480x640 (no detections), 22.8ms\n",
      "Speed: 1.0ms preprocess, 22.8ms inference, 2.7ms postprocess per image at shape (1, 3, 480, 640)\n",
      "tensor([], device='cuda:0', size=(0, 6))\n",
      "\n",
      "0: 480x640 (no detections), 22.8ms\n",
      "Speed: 1.1ms preprocess, 22.8ms inference, 1.9ms postprocess per image at shape (1, 3, 480, 640)\n",
      "tensor([], device='cuda:0', size=(0, 6))\n",
      "\n",
      "0: 480x640 (no detections), 22.9ms\n",
      "Speed: 1.0ms preprocess, 22.9ms inference, 2.5ms postprocess per image at shape (1, 3, 480, 640)\n",
      "tensor([], device='cuda:0', size=(0, 6))\n",
      "\n",
      "0: 480x640 (no detections), 22.9ms\n",
      "Speed: 1.1ms preprocess, 22.9ms inference, 1.8ms postprocess per image at shape (1, 3, 480, 640)\n",
      "tensor([], device='cuda:0', size=(0, 6))\n",
      "\n",
      "0: 480x640 (no detections), 26.2ms\n",
      "Speed: 1.2ms preprocess, 26.2ms inference, 8.7ms postprocess per image at shape (1, 3, 480, 640)\n",
      "tensor([], device='cuda:0', size=(0, 6))\n",
      "\n",
      "0: 480x640 (no detections), 22.9ms\n",
      "Speed: 1.5ms preprocess, 22.9ms inference, 2.5ms postprocess per image at shape (1, 3, 480, 640)\n",
      "tensor([], device='cuda:0', size=(0, 6))\n",
      "\n",
      "0: 480x640 (no detections), 22.9ms\n",
      "Speed: 1.2ms preprocess, 22.9ms inference, 2.2ms postprocess per image at shape (1, 3, 480, 640)\n",
      "tensor([], device='cuda:0', size=(0, 6))\n",
      "\n",
      "0: 480x640 (no detections), 22.9ms\n",
      "Speed: 1.1ms preprocess, 22.9ms inference, 2.2ms postprocess per image at shape (1, 3, 480, 640)\n",
      "tensor([], device='cuda:0', size=(0, 6))\n",
      "\n",
      "0: 480x640 (no detections), 22.9ms\n",
      "Speed: 1.6ms preprocess, 22.9ms inference, 2.5ms postprocess per image at shape (1, 3, 480, 640)\n",
      "tensor([], device='cuda:0', size=(0, 6))\n",
      "\n",
      "0: 480x640 (no detections), 22.7ms\n",
      "Speed: 1.6ms preprocess, 22.7ms inference, 2.1ms postprocess per image at shape (1, 3, 480, 640)\n",
      "tensor([], device='cuda:0', size=(0, 6))\n",
      "\n",
      "0: 480x640 (no detections), 22.6ms\n",
      "Speed: 1.0ms preprocess, 22.6ms inference, 2.7ms postprocess per image at shape (1, 3, 480, 640)\n",
      "tensor([], device='cuda:0', size=(0, 6))\n",
      "\n",
      "0: 480x640 (no detections), 22.7ms\n",
      "Speed: 1.2ms preprocess, 22.7ms inference, 2.2ms postprocess per image at shape (1, 3, 480, 640)\n",
      "tensor([], device='cuda:0', size=(0, 6))\n",
      "\n",
      "0: 480x640 (no detections), 22.6ms\n",
      "Speed: 1.3ms preprocess, 22.6ms inference, 2.4ms postprocess per image at shape (1, 3, 480, 640)\n",
      "tensor([], device='cuda:0', size=(0, 6))\n",
      "\n",
      "0: 480x640 (no detections), 22.6ms\n",
      "Speed: 1.0ms preprocess, 22.6ms inference, 2.6ms postprocess per image at shape (1, 3, 480, 640)\n",
      "tensor([], device='cuda:0', size=(0, 6))\n",
      "\n",
      "0: 480x640 (no detections), 26.1ms\n",
      "Speed: 1.3ms preprocess, 26.1ms inference, 2.3ms postprocess per image at shape (1, 3, 480, 640)\n",
      "tensor([], device='cuda:0', size=(0, 6))\n",
      "\n",
      "0: 480x640 (no detections), 22.7ms\n",
      "Speed: 1.0ms preprocess, 22.7ms inference, 2.3ms postprocess per image at shape (1, 3, 480, 640)\n",
      "tensor([], device='cuda:0', size=(0, 6))\n",
      "\n",
      "0: 480x640 (no detections), 22.6ms\n",
      "Speed: 1.4ms preprocess, 22.6ms inference, 2.3ms postprocess per image at shape (1, 3, 480, 640)\n",
      "tensor([], device='cuda:0', size=(0, 6))\n",
      "\n",
      "0: 480x640 (no detections), 22.6ms\n",
      "Speed: 1.4ms preprocess, 22.6ms inference, 2.2ms postprocess per image at shape (1, 3, 480, 640)\n",
      "tensor([], device='cuda:0', size=(0, 6))\n",
      "\n",
      "0: 480x640 (no detections), 24.7ms\n",
      "Speed: 1.2ms preprocess, 24.7ms inference, 2.3ms postprocess per image at shape (1, 3, 480, 640)\n",
      "tensor([], device='cuda:0', size=(0, 6))\n",
      "\n",
      "0: 480x640 (no detections), 22.8ms\n",
      "Speed: 1.3ms preprocess, 22.8ms inference, 2.2ms postprocess per image at shape (1, 3, 480, 640)\n",
      "tensor([], device='cuda:0', size=(0, 6))\n",
      "\n",
      "0: 480x640 (no detections), 22.7ms\n",
      "Speed: 1.0ms preprocess, 22.7ms inference, 2.7ms postprocess per image at shape (1, 3, 480, 640)\n",
      "tensor([], device='cuda:0', size=(0, 6))\n",
      "\n",
      "0: 480x640 (no detections), 22.6ms\n",
      "Speed: 1.2ms preprocess, 22.6ms inference, 2.2ms postprocess per image at shape (1, 3, 480, 640)\n",
      "tensor([], device='cuda:0', size=(0, 6))\n",
      "\n",
      "0: 480x640 (no detections), 22.7ms\n",
      "Speed: 1.4ms preprocess, 22.7ms inference, 2.6ms postprocess per image at shape (1, 3, 480, 640)\n",
      "tensor([], device='cuda:0', size=(0, 6))\n",
      "\n",
      "0: 480x640 (no detections), 22.7ms\n",
      "Speed: 1.8ms preprocess, 22.7ms inference, 2.4ms postprocess per image at shape (1, 3, 480, 640)\n",
      "tensor([], device='cuda:0', size=(0, 6))\n",
      "\n",
      "0: 480x640 (no detections), 22.8ms\n",
      "Speed: 1.7ms preprocess, 22.8ms inference, 2.3ms postprocess per image at shape (1, 3, 480, 640)\n",
      "tensor([], device='cuda:0', size=(0, 6))\n",
      "\n",
      "0: 480x640 (no detections), 22.8ms\n",
      "Speed: 1.1ms preprocess, 22.8ms inference, 1.9ms postprocess per image at shape (1, 3, 480, 640)\n",
      "tensor([], device='cuda:0', size=(0, 6))\n",
      "\n",
      "0: 480x640 (no detections), 22.7ms\n",
      "Speed: 1.0ms preprocess, 22.7ms inference, 2.0ms postprocess per image at shape (1, 3, 480, 640)\n",
      "tensor([], device='cuda:0', size=(0, 6))\n",
      "\n",
      "0: 480x640 (no detections), 22.7ms\n",
      "Speed: 1.1ms preprocess, 22.7ms inference, 2.1ms postprocess per image at shape (1, 3, 480, 640)\n",
      "tensor([], device='cuda:0', size=(0, 6))\n",
      "\n",
      "0: 480x640 (no detections), 22.7ms\n",
      "Speed: 1.1ms preprocess, 22.7ms inference, 2.7ms postprocess per image at shape (1, 3, 480, 640)\n",
      "tensor([], device='cuda:0', size=(0, 6))\n",
      "\n",
      "0: 480x640 (no detections), 21.3ms\n",
      "Speed: 1.3ms preprocess, 21.3ms inference, 2.3ms postprocess per image at shape (1, 3, 480, 640)\n",
      "tensor([], device='cuda:0', size=(0, 6))\n",
      "\n",
      "0: 480x640 (no detections), 21.2ms\n",
      "Speed: 1.2ms preprocess, 21.2ms inference, 2.5ms postprocess per image at shape (1, 3, 480, 640)\n",
      "tensor([], device='cuda:0', size=(0, 6))\n",
      "\n",
      "0: 480x640 (no detections), 21.0ms\n",
      "Speed: 1.2ms preprocess, 21.0ms inference, 3.0ms postprocess per image at shape (1, 3, 480, 640)\n",
      "tensor([], device='cuda:0', size=(0, 6))\n",
      "\n",
      "0: 480x640 (no detections), 21.7ms\n",
      "Speed: 1.4ms preprocess, 21.7ms inference, 2.1ms postprocess per image at shape (1, 3, 480, 640)\n",
      "tensor([], device='cuda:0', size=(0, 6))\n",
      "\n",
      "0: 480x640 (no detections), 21.3ms\n",
      "Speed: 1.0ms preprocess, 21.3ms inference, 2.2ms postprocess per image at shape (1, 3, 480, 640)\n",
      "tensor([], device='cuda:0', size=(0, 6))\n",
      "\n",
      "0: 480x640 (no detections), 21.2ms\n",
      "Speed: 1.6ms preprocess, 21.2ms inference, 2.1ms postprocess per image at shape (1, 3, 480, 640)\n",
      "tensor([], device='cuda:0', size=(0, 6))\n",
      "\n",
      "0: 480x640 (no detections), 30.9ms\n",
      "Speed: 0.9ms preprocess, 30.9ms inference, 2.3ms postprocess per image at shape (1, 3, 480, 640)\n",
      "tensor([], device='cuda:0', size=(0, 6))\n",
      "\n",
      "0: 480x640 (no detections), 37.2ms\n",
      "Speed: 0.9ms preprocess, 37.2ms inference, 2.6ms postprocess per image at shape (1, 3, 480, 640)\n",
      "tensor([], device='cuda:0', size=(0, 6))\n",
      "\n",
      "0: 480x640 (no detections), 37.3ms\n",
      "Speed: 1.2ms preprocess, 37.3ms inference, 2.4ms postprocess per image at shape (1, 3, 480, 640)\n",
      "tensor([], device='cuda:0', size=(0, 6))\n",
      "\n",
      "0: 480x640 (no detections), 37.2ms\n",
      "Speed: 1.1ms preprocess, 37.2ms inference, 2.4ms postprocess per image at shape (1, 3, 480, 640)\n",
      "tensor([], device='cuda:0', size=(0, 6))\n",
      "\n",
      "0: 480x640 (no detections), 37.4ms\n",
      "Speed: 1.2ms preprocess, 37.4ms inference, 2.1ms postprocess per image at shape (1, 3, 480, 640)\n",
      "tensor([], device='cuda:0', size=(0, 6))\n",
      "\n",
      "0: 480x640 (no detections), 37.3ms\n",
      "Speed: 1.3ms preprocess, 37.3ms inference, 3.3ms postprocess per image at shape (1, 3, 480, 640)\n",
      "tensor([], device='cuda:0', size=(0, 6))\n",
      "\n",
      "0: 480x640 (no detections), 37.3ms\n",
      "Speed: 1.1ms preprocess, 37.3ms inference, 14.6ms postprocess per image at shape (1, 3, 480, 640)\n",
      "tensor([], device='cuda:0', size=(0, 6))\n",
      "\n",
      "0: 480x640 (no detections), 37.3ms\n",
      "Speed: 6.2ms preprocess, 37.3ms inference, 2.5ms postprocess per image at shape (1, 3, 480, 640)\n",
      "tensor([], device='cuda:0', size=(0, 6))\n",
      "\n",
      "0: 480x640 (no detections), 37.3ms\n",
      "Speed: 1.4ms preprocess, 37.3ms inference, 2.6ms postprocess per image at shape (1, 3, 480, 640)\n",
      "tensor([], device='cuda:0', size=(0, 6))\n",
      "\n",
      "0: 480x640 (no detections), 37.3ms\n",
      "Speed: 1.3ms preprocess, 37.3ms inference, 2.2ms postprocess per image at shape (1, 3, 480, 640)\n",
      "tensor([], device='cuda:0', size=(0, 6))\n",
      "\n",
      "0: 480x640 (no detections), 37.3ms\n",
      "Speed: 1.1ms preprocess, 37.3ms inference, 3.0ms postprocess per image at shape (1, 3, 480, 640)\n",
      "tensor([], device='cuda:0', size=(0, 6))\n",
      "\n",
      "0: 480x640 (no detections), 37.2ms\n",
      "Speed: 1.1ms preprocess, 37.2ms inference, 2.1ms postprocess per image at shape (1, 3, 480, 640)\n",
      "tensor([], device='cuda:0', size=(0, 6))\n",
      "\n",
      "0: 480x640 (no detections), 37.3ms\n",
      "Speed: 1.1ms preprocess, 37.3ms inference, 2.5ms postprocess per image at shape (1, 3, 480, 640)\n",
      "tensor([], device='cuda:0', size=(0, 6))\n",
      "\n",
      "0: 480x640 (no detections), 37.2ms\n",
      "Speed: 1.0ms preprocess, 37.2ms inference, 2.4ms postprocess per image at shape (1, 3, 480, 640)\n",
      "tensor([], device='cuda:0', size=(0, 6))\n",
      "\n",
      "0: 480x640 (no detections), 37.2ms\n",
      "Speed: 1.2ms preprocess, 37.2ms inference, 2.4ms postprocess per image at shape (1, 3, 480, 640)\n",
      "tensor([], device='cuda:0', size=(0, 6))\n",
      "\n",
      "0: 480x640 (no detections), 37.3ms\n",
      "Speed: 1.3ms preprocess, 37.3ms inference, 3.1ms postprocess per image at shape (1, 3, 480, 640)\n",
      "tensor([], device='cuda:0', size=(0, 6))\n",
      "\n",
      "0: 480x640 (no detections), 37.3ms\n",
      "Speed: 1.3ms preprocess, 37.3ms inference, 2.3ms postprocess per image at shape (1, 3, 480, 640)\n",
      "tensor([], device='cuda:0', size=(0, 6))\n",
      "\n",
      "0: 480x640 (no detections), 37.6ms\n",
      "Speed: 1.5ms preprocess, 37.6ms inference, 2.9ms postprocess per image at shape (1, 3, 480, 640)\n",
      "tensor([], device='cuda:0', size=(0, 6))\n",
      "\n",
      "0: 480x640 (no detections), 40.5ms\n",
      "Speed: 1.2ms preprocess, 40.5ms inference, 2.4ms postprocess per image at shape (1, 3, 480, 640)\n",
      "tensor([], device='cuda:0', size=(0, 6))\n",
      "\n",
      "0: 480x640 (no detections), 37.2ms\n",
      "Speed: 1.2ms preprocess, 37.2ms inference, 2.2ms postprocess per image at shape (1, 3, 480, 640)\n",
      "tensor([], device='cuda:0', size=(0, 6))\n",
      "\n",
      "0: 480x640 (no detections), 37.3ms\n",
      "Speed: 1.1ms preprocess, 37.3ms inference, 2.9ms postprocess per image at shape (1, 3, 480, 640)\n",
      "tensor([], device='cuda:0', size=(0, 6))\n",
      "\n",
      "0: 480x640 (no detections), 34.9ms\n",
      "Speed: 1.2ms preprocess, 34.9ms inference, 2.1ms postprocess per image at shape (1, 3, 480, 640)\n",
      "tensor([], device='cuda:0', size=(0, 6))\n",
      "\n",
      "0: 480x640 (no detections), 33.3ms\n",
      "Speed: 1.1ms preprocess, 33.3ms inference, 2.4ms postprocess per image at shape (1, 3, 480, 640)\n",
      "tensor([], device='cuda:0', size=(0, 6))\n",
      "\n",
      "0: 480x640 (no detections), 31.6ms\n",
      "Speed: 1.1ms preprocess, 31.6ms inference, 13.1ms postprocess per image at shape (1, 3, 480, 640)\n",
      "tensor([], device='cuda:0', size=(0, 6))\n",
      "\n",
      "0: 480x640 (no detections), 31.6ms\n",
      "Speed: 1.4ms preprocess, 31.6ms inference, 2.5ms postprocess per image at shape (1, 3, 480, 640)\n",
      "tensor([], device='cuda:0', size=(0, 6))\n",
      "\n",
      "0: 480x640 (no detections), 31.2ms\n",
      "Speed: 0.9ms preprocess, 31.2ms inference, 2.2ms postprocess per image at shape (1, 3, 480, 640)\n",
      "tensor([], device='cuda:0', size=(0, 6))\n",
      "\n",
      "0: 480x640 (no detections), 31.6ms\n",
      "Speed: 1.2ms preprocess, 31.6ms inference, 3.1ms postprocess per image at shape (1, 3, 480, 640)\n",
      "tensor([], device='cuda:0', size=(0, 6))\n",
      "\n",
      "0: 480x640 (no detections), 29.6ms\n",
      "Speed: 2.1ms preprocess, 29.6ms inference, 9.2ms postprocess per image at shape (1, 3, 480, 640)\n",
      "tensor([], device='cuda:0', size=(0, 6))\n",
      "\n",
      "0: 480x640 (no detections), 27.5ms\n",
      "Speed: 1.2ms preprocess, 27.5ms inference, 2.5ms postprocess per image at shape (1, 3, 480, 640)\n",
      "tensor([], device='cuda:0', size=(0, 6))\n",
      "\n",
      "0: 480x640 (no detections), 27.3ms\n",
      "Speed: 1.3ms preprocess, 27.3ms inference, 2.3ms postprocess per image at shape (1, 3, 480, 640)\n",
      "tensor([], device='cuda:0', size=(0, 6))\n",
      "\n",
      "0: 480x640 (no detections), 26.4ms\n",
      "Speed: 1.0ms preprocess, 26.4ms inference, 2.2ms postprocess per image at shape (1, 3, 480, 640)\n",
      "tensor([], device='cuda:0', size=(0, 6))\n",
      "\n",
      "0: 480x640 (no detections), 26.1ms\n",
      "Speed: 1.4ms preprocess, 26.1ms inference, 2.9ms postprocess per image at shape (1, 3, 480, 640)\n",
      "tensor([], device='cuda:0', size=(0, 6))\n",
      "\n",
      "0: 480x640 (no detections), 26.1ms\n",
      "Speed: 1.3ms preprocess, 26.1ms inference, 2.4ms postprocess per image at shape (1, 3, 480, 640)\n",
      "tensor([], device='cuda:0', size=(0, 6))\n",
      "\n",
      "0: 480x640 (no detections), 26.2ms\n",
      "Speed: 1.3ms preprocess, 26.2ms inference, 2.7ms postprocess per image at shape (1, 3, 480, 640)\n",
      "tensor([], device='cuda:0', size=(0, 6))\n",
      "\n",
      "0: 480x640 (no detections), 23.4ms\n",
      "Speed: 1.4ms preprocess, 23.4ms inference, 2.3ms postprocess per image at shape (1, 3, 480, 640)\n",
      "tensor([], device='cuda:0', size=(0, 6))\n",
      "\n",
      "0: 480x640 (no detections), 23.2ms\n",
      "Speed: 1.3ms preprocess, 23.2ms inference, 3.2ms postprocess per image at shape (1, 3, 480, 640)\n",
      "tensor([], device='cuda:0', size=(0, 6))\n",
      "\n",
      "0: 480x640 (no detections), 23.1ms\n",
      "Speed: 1.3ms preprocess, 23.1ms inference, 2.6ms postprocess per image at shape (1, 3, 480, 640)\n",
      "tensor([], device='cuda:0', size=(0, 6))\n",
      "\n",
      "0: 480x640 (no detections), 23.4ms\n",
      "Speed: 0.9ms preprocess, 23.4ms inference, 3.3ms postprocess per image at shape (1, 3, 480, 640)\n",
      "tensor([], device='cuda:0', size=(0, 6))\n",
      "\n",
      "0: 480x640 (no detections), 23.1ms\n",
      "Speed: 1.2ms preprocess, 23.1ms inference, 2.5ms postprocess per image at shape (1, 3, 480, 640)\n",
      "tensor([], device='cuda:0', size=(0, 6))\n",
      "\n",
      "0: 480x640 (no detections), 23.1ms\n",
      "Speed: 1.5ms preprocess, 23.1ms inference, 2.1ms postprocess per image at shape (1, 3, 480, 640)\n",
      "tensor([], device='cuda:0', size=(0, 6))\n",
      "\n",
      "0: 480x640 (no detections), 23.1ms\n",
      "Speed: 0.9ms preprocess, 23.1ms inference, 10.6ms postprocess per image at shape (1, 3, 480, 640)\n",
      "tensor([], device='cuda:0', size=(0, 6))\n",
      "\n",
      "0: 480x640 (no detections), 23.0ms\n",
      "Speed: 1.5ms preprocess, 23.0ms inference, 2.1ms postprocess per image at shape (1, 3, 480, 640)\n",
      "tensor([], device='cuda:0', size=(0, 6))\n",
      "\n",
      "0: 480x640 (no detections), 23.2ms\n",
      "Speed: 1.2ms preprocess, 23.2ms inference, 2.0ms postprocess per image at shape (1, 3, 480, 640)\n",
      "tensor([], device='cuda:0', size=(0, 6))\n",
      "\n",
      "0: 480x640 (no detections), 23.3ms\n",
      "Speed: 1.1ms preprocess, 23.3ms inference, 9.5ms postprocess per image at shape (1, 3, 480, 640)\n",
      "tensor([], device='cuda:0', size=(0, 6))\n",
      "\n",
      "0: 480x640 (no detections), 23.2ms\n",
      "Speed: 1.6ms preprocess, 23.2ms inference, 2.5ms postprocess per image at shape (1, 3, 480, 640)\n",
      "tensor([], device='cuda:0', size=(0, 6))\n",
      "\n",
      "0: 480x640 (no detections), 23.3ms\n",
      "Speed: 1.0ms preprocess, 23.3ms inference, 2.7ms postprocess per image at shape (1, 3, 480, 640)\n",
      "tensor([], device='cuda:0', size=(0, 6))\n",
      "\n",
      "0: 480x640 (no detections), 23.1ms\n",
      "Speed: 1.0ms preprocess, 23.1ms inference, 1.9ms postprocess per image at shape (1, 3, 480, 640)\n",
      "tensor([], device='cuda:0', size=(0, 6))\n",
      "\n",
      "0: 480x640 (no detections), 23.9ms\n",
      "Speed: 1.0ms preprocess, 23.9ms inference, 2.2ms postprocess per image at shape (1, 3, 480, 640)\n",
      "tensor([], device='cuda:0', size=(0, 6))\n",
      "\n",
      "0: 480x640 (no detections), 23.9ms\n",
      "Speed: 1.0ms preprocess, 23.9ms inference, 2.4ms postprocess per image at shape (1, 3, 480, 640)\n",
      "tensor([], device='cuda:0', size=(0, 6))\n",
      "\n",
      "0: 480x640 (no detections), 23.9ms\n",
      "Speed: 1.1ms preprocess, 23.9ms inference, 2.1ms postprocess per image at shape (1, 3, 480, 640)\n",
      "tensor([], device='cuda:0', size=(0, 6))\n",
      "\n",
      "0: 480x640 (no detections), 24.0ms\n",
      "Speed: 1.0ms preprocess, 24.0ms inference, 2.3ms postprocess per image at shape (1, 3, 480, 640)\n",
      "tensor([], device='cuda:0', size=(0, 6))\n",
      "\n",
      "0: 480x640 (no detections), 24.3ms\n",
      "Speed: 1.2ms preprocess, 24.3ms inference, 2.3ms postprocess per image at shape (1, 3, 480, 640)\n",
      "tensor([], device='cuda:0', size=(0, 6))\n",
      "\n",
      "0: 480x640 (no detections), 24.2ms\n",
      "Speed: 1.0ms preprocess, 24.2ms inference, 2.2ms postprocess per image at shape (1, 3, 480, 640)\n",
      "tensor([], device='cuda:0', size=(0, 6))\n",
      "\n",
      "0: 480x640 (no detections), 24.1ms\n",
      "Speed: 1.1ms preprocess, 24.1ms inference, 3.0ms postprocess per image at shape (1, 3, 480, 640)\n",
      "tensor([], device='cuda:0', size=(0, 6))\n",
      "\n",
      "0: 480x640 (no detections), 22.4ms\n",
      "Speed: 1.2ms preprocess, 22.4ms inference, 2.2ms postprocess per image at shape (1, 3, 480, 640)\n",
      "tensor([], device='cuda:0', size=(0, 6))\n",
      "\n",
      "0: 480x640 (no detections), 23.2ms\n",
      "Speed: 1.0ms preprocess, 23.2ms inference, 2.3ms postprocess per image at shape (1, 3, 480, 640)\n",
      "tensor([], device='cuda:0', size=(0, 6))\n",
      "\n",
      "0: 480x640 (no detections), 22.6ms\n",
      "Speed: 1.0ms preprocess, 22.6ms inference, 2.3ms postprocess per image at shape (1, 3, 480, 640)\n",
      "tensor([], device='cuda:0', size=(0, 6))\n",
      "\n",
      "0: 480x640 (no detections), 25.4ms\n",
      "Speed: 2.0ms preprocess, 25.4ms inference, 16.1ms postprocess per image at shape (1, 3, 480, 640)\n",
      "tensor([], device='cuda:0', size=(0, 6))\n",
      "\n",
      "0: 480x640 (no detections), 27.7ms\n",
      "Speed: 1.3ms preprocess, 27.7ms inference, 4.4ms postprocess per image at shape (1, 3, 480, 640)\n",
      "tensor([], device='cuda:0', size=(0, 6))\n",
      "\n",
      "0: 480x640 (no detections), 22.6ms\n",
      "Speed: 1.2ms preprocess, 22.6ms inference, 4.0ms postprocess per image at shape (1, 3, 480, 640)\n",
      "tensor([], device='cuda:0', size=(0, 6))\n",
      "\n",
      "0: 480x640 (no detections), 22.8ms\n",
      "Speed: 1.0ms preprocess, 22.8ms inference, 3.5ms postprocess per image at shape (1, 3, 480, 640)\n",
      "tensor([], device='cuda:0', size=(0, 6))\n",
      "\n",
      "0: 480x640 (no detections), 22.7ms\n",
      "Speed: 1.0ms preprocess, 22.7ms inference, 3.3ms postprocess per image at shape (1, 3, 480, 640)\n",
      "tensor([], device='cuda:0', size=(0, 6))\n",
      "\n",
      "0: 480x640 (no detections), 22.7ms\n",
      "Speed: 1.1ms preprocess, 22.7ms inference, 3.3ms postprocess per image at shape (1, 3, 480, 640)\n",
      "tensor([], device='cuda:0', size=(0, 6))\n",
      "\n",
      "0: 480x640 (no detections), 22.6ms\n",
      "Speed: 1.0ms preprocess, 22.6ms inference, 4.4ms postprocess per image at shape (1, 3, 480, 640)\n",
      "tensor([], device='cuda:0', size=(0, 6))\n",
      "\n",
      "0: 480x640 (no detections), 22.3ms\n",
      "Speed: 1.2ms preprocess, 22.3ms inference, 3.2ms postprocess per image at shape (1, 3, 480, 640)\n",
      "tensor([], device='cuda:0', size=(0, 6))\n",
      "\n",
      "0: 480x640 (no detections), 22.6ms\n",
      "Speed: 1.1ms preprocess, 22.6ms inference, 4.5ms postprocess per image at shape (1, 3, 480, 640)\n",
      "tensor([], device='cuda:0', size=(0, 6))\n",
      "\n",
      "0: 480x640 (no detections), 22.2ms\n",
      "Speed: 1.3ms preprocess, 22.2ms inference, 3.5ms postprocess per image at shape (1, 3, 480, 640)\n",
      "tensor([], device='cuda:0', size=(0, 6))\n",
      "\n",
      "0: 480x640 (no detections), 23.0ms\n",
      "Speed: 1.4ms preprocess, 23.0ms inference, 3.2ms postprocess per image at shape (1, 3, 480, 640)\n",
      "tensor([], device='cuda:0', size=(0, 6))\n",
      "\n",
      "0: 480x640 (no detections), 22.5ms\n",
      "Speed: 1.4ms preprocess, 22.5ms inference, 4.8ms postprocess per image at shape (1, 3, 480, 640)\n",
      "tensor([], device='cuda:0', size=(0, 6))\n",
      "\n",
      "0: 480x640 (no detections), 22.4ms\n",
      "Speed: 1.1ms preprocess, 22.4ms inference, 3.8ms postprocess per image at shape (1, 3, 480, 640)\n",
      "tensor([], device='cuda:0', size=(0, 6))\n",
      "\n",
      "0: 480x640 (no detections), 22.9ms\n",
      "Speed: 1.0ms preprocess, 22.9ms inference, 3.3ms postprocess per image at shape (1, 3, 480, 640)\n",
      "tensor([], device='cuda:0', size=(0, 6))\n",
      "\n",
      "0: 480x640 (no detections), 22.5ms\n",
      "Speed: 1.0ms preprocess, 22.5ms inference, 3.7ms postprocess per image at shape (1, 3, 480, 640)\n",
      "tensor([], device='cuda:0', size=(0, 6))\n",
      "\n",
      "0: 480x640 (no detections), 22.4ms\n",
      "Speed: 1.5ms preprocess, 22.4ms inference, 3.3ms postprocess per image at shape (1, 3, 480, 640)\n",
      "tensor([], device='cuda:0', size=(0, 6))\n",
      "\n",
      "0: 480x640 (no detections), 22.5ms\n",
      "Speed: 1.0ms preprocess, 22.5ms inference, 6.2ms postprocess per image at shape (1, 3, 480, 640)\n",
      "tensor([], device='cuda:0', size=(0, 6))\n",
      "\n",
      "0: 480x640 (no detections), 22.6ms\n",
      "Speed: 1.1ms preprocess, 22.6ms inference, 10.4ms postprocess per image at shape (1, 3, 480, 640)\n",
      "tensor([], device='cuda:0', size=(0, 6))\n",
      "\n",
      "0: 480x640 (no detections), 26.8ms\n",
      "Speed: 1.1ms preprocess, 26.8ms inference, 2.3ms postprocess per image at shape (1, 3, 480, 640)\n",
      "tensor([], device='cuda:0', size=(0, 6))\n",
      "\n",
      "0: 480x640 (no detections), 35.7ms\n",
      "Speed: 1.0ms preprocess, 35.7ms inference, 2.3ms postprocess per image at shape (1, 3, 480, 640)\n",
      "tensor([], device='cuda:0', size=(0, 6))\n",
      "\n",
      "0: 480x640 (no detections), 37.1ms\n",
      "Speed: 2.4ms preprocess, 37.1ms inference, 2.8ms postprocess per image at shape (1, 3, 480, 640)\n",
      "tensor([], device='cuda:0', size=(0, 6))\n",
      "\n",
      "0: 480x640 (no detections), 37.2ms\n",
      "Speed: 1.1ms preprocess, 37.2ms inference, 2.4ms postprocess per image at shape (1, 3, 480, 640)\n",
      "tensor([], device='cuda:0', size=(0, 6))\n",
      "\n",
      "0: 480x640 (no detections), 37.2ms\n",
      "Speed: 1.3ms preprocess, 37.2ms inference, 2.2ms postprocess per image at shape (1, 3, 480, 640)\n",
      "tensor([], device='cuda:0', size=(0, 6))\n",
      "\n",
      "0: 480x640 (no detections), 37.2ms\n",
      "Speed: 1.1ms preprocess, 37.2ms inference, 21.5ms postprocess per image at shape (1, 3, 480, 640)\n",
      "tensor([], device='cuda:0', size=(0, 6))\n",
      "\n",
      "0: 480x640 (no detections), 37.1ms\n",
      "Speed: 1.3ms preprocess, 37.1ms inference, 2.6ms postprocess per image at shape (1, 3, 480, 640)\n",
      "tensor([], device='cuda:0', size=(0, 6))\n",
      "\n",
      "0: 480x640 (no detections), 37.3ms\n",
      "Speed: 1.1ms preprocess, 37.3ms inference, 2.4ms postprocess per image at shape (1, 3, 480, 640)\n",
      "tensor([], device='cuda:0', size=(0, 6))\n",
      "\n",
      "0: 480x640 (no detections), 37.3ms\n",
      "Speed: 1.0ms preprocess, 37.3ms inference, 2.2ms postprocess per image at shape (1, 3, 480, 640)\n",
      "tensor([], device='cuda:0', size=(0, 6))\n",
      "\n",
      "0: 480x640 (no detections), 37.2ms\n",
      "Speed: 1.2ms preprocess, 37.2ms inference, 2.3ms postprocess per image at shape (1, 3, 480, 640)\n",
      "tensor([], device='cuda:0', size=(0, 6))\n",
      "\n",
      "0: 480x640 (no detections), 36.5ms\n",
      "Speed: 1.1ms preprocess, 36.5ms inference, 2.7ms postprocess per image at shape (1, 3, 480, 640)\n",
      "tensor([], device='cuda:0', size=(0, 6))\n",
      "\n",
      "0: 480x640 (no detections), 26.6ms\n",
      "Speed: 1.1ms preprocess, 26.6ms inference, 2.3ms postprocess per image at shape (1, 3, 480, 640)\n",
      "tensor([], device='cuda:0', size=(0, 6))\n",
      "\n",
      "0: 480x640 (no detections), 25.6ms\n",
      "Speed: 1.2ms preprocess, 25.6ms inference, 2.2ms postprocess per image at shape (1, 3, 480, 640)\n",
      "tensor([], device='cuda:0', size=(0, 6))\n",
      "\n",
      "0: 480x640 (no detections), 25.6ms\n",
      "Speed: 1.0ms preprocess, 25.6ms inference, 3.0ms postprocess per image at shape (1, 3, 480, 640)\n",
      "tensor([], device='cuda:0', size=(0, 6))\n",
      "\n",
      "0: 480x640 (no detections), 25.5ms\n",
      "Speed: 1.2ms preprocess, 25.5ms inference, 2.1ms postprocess per image at shape (1, 3, 480, 640)\n",
      "tensor([], device='cuda:0', size=(0, 6))\n",
      "\n",
      "0: 480x640 (no detections), 26.0ms\n",
      "Speed: 1.2ms preprocess, 26.0ms inference, 2.3ms postprocess per image at shape (1, 3, 480, 640)\n",
      "tensor([], device='cuda:0', size=(0, 6))\n",
      "\n",
      "0: 480x640 (no detections), 27.0ms\n",
      "Speed: 1.2ms preprocess, 27.0ms inference, 40.6ms postprocess per image at shape (1, 3, 480, 640)\n",
      "tensor([], device='cuda:0', size=(0, 6))\n",
      "\n",
      "0: 480x640 (no detections), 25.7ms\n",
      "Speed: 1.2ms preprocess, 25.7ms inference, 3.5ms postprocess per image at shape (1, 3, 480, 640)\n",
      "tensor([], device='cuda:0', size=(0, 6))\n",
      "\n",
      "0: 480x640 (no detections), 26.8ms\n",
      "Speed: 1.0ms preprocess, 26.8ms inference, 4.7ms postprocess per image at shape (1, 3, 480, 640)\n",
      "tensor([], device='cuda:0', size=(0, 6))\n",
      "\n",
      "0: 480x640 (no detections), 25.4ms\n",
      "Speed: 1.1ms preprocess, 25.4ms inference, 3.6ms postprocess per image at shape (1, 3, 480, 640)\n",
      "tensor([], device='cuda:0', size=(0, 6))\n",
      "\n",
      "0: 480x640 (no detections), 25.0ms\n",
      "Speed: 1.1ms preprocess, 25.0ms inference, 3.5ms postprocess per image at shape (1, 3, 480, 640)\n",
      "tensor([], device='cuda:0', size=(0, 6))\n",
      "\n",
      "0: 480x640 (no detections), 24.9ms\n",
      "Speed: 0.9ms preprocess, 24.9ms inference, 3.8ms postprocess per image at shape (1, 3, 480, 640)\n",
      "tensor([], device='cuda:0', size=(0, 6))\n",
      "\n",
      "0: 480x640 (no detections), 24.3ms\n",
      "Speed: 1.6ms preprocess, 24.3ms inference, 3.7ms postprocess per image at shape (1, 3, 480, 640)\n",
      "tensor([], device='cuda:0', size=(0, 6))\n",
      "\n",
      "0: 480x640 (no detections), 24.4ms\n",
      "Speed: 0.9ms preprocess, 24.4ms inference, 3.6ms postprocess per image at shape (1, 3, 480, 640)\n",
      "tensor([], device='cuda:0', size=(0, 6))\n",
      "\n",
      "0: 480x640 (no detections), 24.1ms\n",
      "Speed: 1.1ms preprocess, 24.1ms inference, 4.1ms postprocess per image at shape (1, 3, 480, 640)\n",
      "tensor([], device='cuda:0', size=(0, 6))\n",
      "\n",
      "0: 480x640 (no detections), 24.3ms\n",
      "Speed: 1.7ms preprocess, 24.3ms inference, 4.7ms postprocess per image at shape (1, 3, 480, 640)\n",
      "tensor([], device='cuda:0', size=(0, 6))\n",
      "\n",
      "0: 480x640 (no detections), 24.1ms\n",
      "Speed: 1.3ms preprocess, 24.1ms inference, 3.5ms postprocess per image at shape (1, 3, 480, 640)\n",
      "tensor([], device='cuda:0', size=(0, 6))\n",
      "\n",
      "0: 480x640 (no detections), 24.1ms\n",
      "Speed: 1.2ms preprocess, 24.1ms inference, 3.3ms postprocess per image at shape (1, 3, 480, 640)\n",
      "tensor([], device='cuda:0', size=(0, 6))\n",
      "\n",
      "0: 480x640 (no detections), 24.0ms\n",
      "Speed: 1.2ms preprocess, 24.0ms inference, 3.7ms postprocess per image at shape (1, 3, 480, 640)\n",
      "tensor([], device='cuda:0', size=(0, 6))\n",
      "\n",
      "0: 480x640 (no detections), 24.2ms\n",
      "Speed: 1.0ms preprocess, 24.2ms inference, 3.3ms postprocess per image at shape (1, 3, 480, 640)\n",
      "tensor([], device='cuda:0', size=(0, 6))\n",
      "\n",
      "0: 480x640 (no detections), 24.2ms\n",
      "Speed: 1.1ms preprocess, 24.2ms inference, 3.4ms postprocess per image at shape (1, 3, 480, 640)\n",
      "tensor([], device='cuda:0', size=(0, 6))\n",
      "\n",
      "0: 480x640 (no detections), 24.0ms\n",
      "Speed: 1.1ms preprocess, 24.0ms inference, 4.1ms postprocess per image at shape (1, 3, 480, 640)\n",
      "tensor([], device='cuda:0', size=(0, 6))\n",
      "\n",
      "0: 480x640 (no detections), 23.9ms\n",
      "Speed: 1.0ms preprocess, 23.9ms inference, 3.5ms postprocess per image at shape (1, 3, 480, 640)\n",
      "tensor([], device='cuda:0', size=(0, 6))\n",
      "\n",
      "0: 480x640 (no detections), 23.9ms\n",
      "Speed: 1.1ms preprocess, 23.9ms inference, 9.8ms postprocess per image at shape (1, 3, 480, 640)\n",
      "tensor([], device='cuda:0', size=(0, 6))\n",
      "\n",
      "0: 480x640 (no detections), 24.4ms\n",
      "Speed: 1.0ms preprocess, 24.4ms inference, 2.0ms postprocess per image at shape (1, 3, 480, 640)\n",
      "tensor([], device='cuda:0', size=(0, 6))\n",
      "\n",
      "0: 480x640 (no detections), 23.9ms\n",
      "Speed: 1.2ms preprocess, 23.9ms inference, 2.9ms postprocess per image at shape (1, 3, 480, 640)\n",
      "tensor([], device='cuda:0', size=(0, 6))\n",
      "\n",
      "0: 480x640 (no detections), 24.1ms\n",
      "Speed: 2.9ms preprocess, 24.1ms inference, 2.8ms postprocess per image at shape (1, 3, 480, 640)\n",
      "tensor([], device='cuda:0', size=(0, 6))\n",
      "\n",
      "0: 480x640 (no detections), 25.4ms\n",
      "Speed: 1.1ms preprocess, 25.4ms inference, 2.2ms postprocess per image at shape (1, 3, 480, 640)\n",
      "tensor([], device='cuda:0', size=(0, 6))\n",
      "\n",
      "0: 480x640 (no detections), 24.5ms\n",
      "Speed: 1.0ms preprocess, 24.5ms inference, 2.3ms postprocess per image at shape (1, 3, 480, 640)\n",
      "tensor([], device='cuda:0', size=(0, 6))\n",
      "\n",
      "0: 480x640 (no detections), 24.1ms\n",
      "Speed: 1.0ms preprocess, 24.1ms inference, 2.2ms postprocess per image at shape (1, 3, 480, 640)\n",
      "tensor([], device='cuda:0', size=(0, 6))\n",
      "\n",
      "0: 480x640 (no detections), 24.1ms\n",
      "Speed: 1.1ms preprocess, 24.1ms inference, 2.9ms postprocess per image at shape (1, 3, 480, 640)\n",
      "tensor([], device='cuda:0', size=(0, 6))\n",
      "\n",
      "0: 480x640 (no detections), 24.0ms\n",
      "Speed: 1.3ms preprocess, 24.0ms inference, 2.3ms postprocess per image at shape (1, 3, 480, 640)\n",
      "tensor([], device='cuda:0', size=(0, 6))\n",
      "\n",
      "0: 480x640 (no detections), 34.7ms\n",
      "Speed: 10.6ms preprocess, 34.7ms inference, 6.9ms postprocess per image at shape (1, 3, 480, 640)\n",
      "tensor([], device='cuda:0', size=(0, 6))\n",
      "\n",
      "0: 480x640 (no detections), 25.3ms\n",
      "Speed: 1.5ms preprocess, 25.3ms inference, 2.6ms postprocess per image at shape (1, 3, 480, 640)\n",
      "tensor([], device='cuda:0', size=(0, 6))\n",
      "\n",
      "0: 480x640 (no detections), 25.5ms\n",
      "Speed: 1.3ms preprocess, 25.5ms inference, 2.7ms postprocess per image at shape (1, 3, 480, 640)\n",
      "tensor([], device='cuda:0', size=(0, 6))\n",
      "\n",
      "0: 480x640 (no detections), 24.7ms\n",
      "Speed: 1.2ms preprocess, 24.7ms inference, 2.5ms postprocess per image at shape (1, 3, 480, 640)\n",
      "tensor([], device='cuda:0', size=(0, 6))\n",
      "\n",
      "0: 480x640 (no detections), 24.1ms\n",
      "Speed: 1.2ms preprocess, 24.1ms inference, 2.6ms postprocess per image at shape (1, 3, 480, 640)\n",
      "tensor([], device='cuda:0', size=(0, 6))\n",
      "\n",
      "0: 480x640 (no detections), 24.1ms\n",
      "Speed: 1.3ms preprocess, 24.1ms inference, 2.2ms postprocess per image at shape (1, 3, 480, 640)\n",
      "tensor([], device='cuda:0', size=(0, 6))\n",
      "\n",
      "0: 480x640 (no detections), 24.4ms\n",
      "Speed: 1.1ms preprocess, 24.4ms inference, 2.5ms postprocess per image at shape (1, 3, 480, 640)\n",
      "tensor([], device='cuda:0', size=(0, 6))\n",
      "\n",
      "0: 480x640 (no detections), 23.8ms\n",
      "Speed: 1.0ms preprocess, 23.8ms inference, 2.2ms postprocess per image at shape (1, 3, 480, 640)\n",
      "tensor([], device='cuda:0', size=(0, 6))\n",
      "\n",
      "0: 480x640 (no detections), 24.4ms\n",
      "Speed: 1.0ms preprocess, 24.4ms inference, 13.1ms postprocess per image at shape (1, 3, 480, 640)\n",
      "tensor([], device='cuda:0', size=(0, 6))\n",
      "\n",
      "0: 480x640 (no detections), 24.1ms\n",
      "Speed: 1.0ms preprocess, 24.1ms inference, 2.3ms postprocess per image at shape (1, 3, 480, 640)\n",
      "tensor([], device='cuda:0', size=(0, 6))\n",
      "\n",
      "0: 480x640 (no detections), 23.9ms\n",
      "Speed: 1.7ms preprocess, 23.9ms inference, 2.4ms postprocess per image at shape (1, 3, 480, 640)\n",
      "tensor([], device='cuda:0', size=(0, 6))\n",
      "\n",
      "0: 480x640 (no detections), 24.3ms\n",
      "Speed: 1.0ms preprocess, 24.3ms inference, 2.4ms postprocess per image at shape (1, 3, 480, 640)\n",
      "tensor([], device='cuda:0', size=(0, 6))\n",
      "\n",
      "0: 480x640 (no detections), 25.3ms\n",
      "Speed: 5.1ms preprocess, 25.3ms inference, 2.3ms postprocess per image at shape (1, 3, 480, 640)\n",
      "tensor([], device='cuda:0', size=(0, 6))\n",
      "\n",
      "0: 480x640 (no detections), 24.6ms\n",
      "Speed: 1.1ms preprocess, 24.6ms inference, 2.7ms postprocess per image at shape (1, 3, 480, 640)\n",
      "tensor([], device='cuda:0', size=(0, 6))\n",
      "\n",
      "0: 480x640 (no detections), 24.4ms\n",
      "Speed: 1.0ms preprocess, 24.4ms inference, 3.0ms postprocess per image at shape (1, 3, 480, 640)\n",
      "tensor([], device='cuda:0', size=(0, 6))\n",
      "\n",
      "0: 480x640 (no detections), 24.1ms\n",
      "Speed: 1.3ms preprocess, 24.1ms inference, 2.2ms postprocess per image at shape (1, 3, 480, 640)\n",
      "tensor([], device='cuda:0', size=(0, 6))\n",
      "\n",
      "0: 480x640 (no detections), 24.4ms\n",
      "Speed: 1.1ms preprocess, 24.4ms inference, 2.5ms postprocess per image at shape (1, 3, 480, 640)\n",
      "tensor([], device='cuda:0', size=(0, 6))\n",
      "\n",
      "0: 480x640 (no detections), 23.9ms\n",
      "Speed: 1.0ms preprocess, 23.9ms inference, 2.5ms postprocess per image at shape (1, 3, 480, 640)\n",
      "tensor([], device='cuda:0', size=(0, 6))\n",
      "\n",
      "0: 480x640 (no detections), 24.4ms\n",
      "Speed: 1.0ms preprocess, 24.4ms inference, 2.2ms postprocess per image at shape (1, 3, 480, 640)\n",
      "tensor([], device='cuda:0', size=(0, 6))\n",
      "\n",
      "0: 480x640 (no detections), 23.9ms\n",
      "Speed: 1.0ms preprocess, 23.9ms inference, 2.9ms postprocess per image at shape (1, 3, 480, 640)\n",
      "tensor([], device='cuda:0', size=(0, 6))\n",
      "\n",
      "0: 480x640 (no detections), 38.9ms\n",
      "Speed: 1.2ms preprocess, 38.9ms inference, 2.8ms postprocess per image at shape (1, 3, 480, 640)\n",
      "tensor([], device='cuda:0', size=(0, 6))\n",
      "\n",
      "0: 480x640 (no detections), 26.9ms\n",
      "Speed: 3.4ms preprocess, 26.9ms inference, 2.4ms postprocess per image at shape (1, 3, 480, 640)\n",
      "tensor([], device='cuda:0', size=(0, 6))\n",
      "\n",
      "0: 480x640 (no detections), 24.3ms\n",
      "Speed: 1.0ms preprocess, 24.3ms inference, 3.0ms postprocess per image at shape (1, 3, 480, 640)\n",
      "tensor([], device='cuda:0', size=(0, 6))\n",
      "\n",
      "0: 480x640 (no detections), 24.2ms\n",
      "Speed: 1.0ms preprocess, 24.2ms inference, 2.1ms postprocess per image at shape (1, 3, 480, 640)\n",
      "tensor([], device='cuda:0', size=(0, 6))\n",
      "\n",
      "0: 480x640 (no detections), 24.5ms\n",
      "Speed: 0.9ms preprocess, 24.5ms inference, 2.3ms postprocess per image at shape (1, 3, 480, 640)\n",
      "tensor([], device='cuda:0', size=(0, 6))\n",
      "\n",
      "0: 480x640 (no detections), 23.8ms\n",
      "Speed: 1.4ms preprocess, 23.8ms inference, 12.0ms postprocess per image at shape (1, 3, 480, 640)\n",
      "tensor([], device='cuda:0', size=(0, 6))\n",
      "\n",
      "0: 480x640 (no detections), 26.5ms\n",
      "Speed: 1.1ms preprocess, 26.5ms inference, 2.3ms postprocess per image at shape (1, 3, 480, 640)\n",
      "tensor([], device='cuda:0', size=(0, 6))\n",
      "\n",
      "0: 480x640 (no detections), 24.2ms\n",
      "Speed: 0.9ms preprocess, 24.2ms inference, 2.2ms postprocess per image at shape (1, 3, 480, 640)\n",
      "tensor([], device='cuda:0', size=(0, 6))\n",
      "\n",
      "0: 480x640 (no detections), 24.5ms\n",
      "Speed: 1.0ms preprocess, 24.5ms inference, 2.1ms postprocess per image at shape (1, 3, 480, 640)\n",
      "tensor([], device='cuda:0', size=(0, 6))\n",
      "\n",
      "0: 480x640 (no detections), 27.7ms\n",
      "Speed: 1.4ms preprocess, 27.7ms inference, 2.1ms postprocess per image at shape (1, 3, 480, 640)\n",
      "tensor([], device='cuda:0', size=(0, 6))\n",
      "\n",
      "0: 480x640 (no detections), 28.0ms\n",
      "Speed: 1.0ms preprocess, 28.0ms inference, 2.2ms postprocess per image at shape (1, 3, 480, 640)\n",
      "tensor([], device='cuda:0', size=(0, 6))\n",
      "\n",
      "0: 480x640 (no detections), 28.1ms\n",
      "Speed: 1.4ms preprocess, 28.1ms inference, 6.2ms postprocess per image at shape (1, 3, 480, 640)\n",
      "tensor([], device='cuda:0', size=(0, 6))\n",
      "\n",
      "0: 480x640 (no detections), 24.4ms\n",
      "Speed: 1.2ms preprocess, 24.4ms inference, 3.1ms postprocess per image at shape (1, 3, 480, 640)\n",
      "tensor([], device='cuda:0', size=(0, 6))\n",
      "\n",
      "0: 480x640 (no detections), 27.3ms\n",
      "Speed: 1.4ms preprocess, 27.3ms inference, 2.5ms postprocess per image at shape (1, 3, 480, 640)\n",
      "tensor([], device='cuda:0', size=(0, 6))\n",
      "\n",
      "0: 480x640 (no detections), 28.3ms\n",
      "Speed: 1.0ms preprocess, 28.3ms inference, 2.2ms postprocess per image at shape (1, 3, 480, 640)\n",
      "tensor([], device='cuda:0', size=(0, 6))\n",
      "\n",
      "0: 480x640 (no detections), 28.7ms\n",
      "Speed: 1.5ms preprocess, 28.7ms inference, 2.5ms postprocess per image at shape (1, 3, 480, 640)\n",
      "tensor([], device='cuda:0', size=(0, 6))\n",
      "\n",
      "0: 480x640 (no detections), 28.4ms\n",
      "Speed: 1.1ms preprocess, 28.4ms inference, 2.4ms postprocess per image at shape (1, 3, 480, 640)\n",
      "tensor([], device='cuda:0', size=(0, 6))\n",
      "\n",
      "0: 480x640 (no detections), 28.1ms\n",
      "Speed: 1.5ms preprocess, 28.1ms inference, 3.2ms postprocess per image at shape (1, 3, 480, 640)\n",
      "tensor([], device='cuda:0', size=(0, 6))\n",
      "\n",
      "0: 480x640 (no detections), 27.9ms\n",
      "Speed: 1.1ms preprocess, 27.9ms inference, 2.9ms postprocess per image at shape (1, 3, 480, 640)\n",
      "tensor([], device='cuda:0', size=(0, 6))\n",
      "\n",
      "0: 480x640 (no detections), 27.0ms\n",
      "Speed: 1.0ms preprocess, 27.0ms inference, 2.5ms postprocess per image at shape (1, 3, 480, 640)\n",
      "tensor([], device='cuda:0', size=(0, 6))\n",
      "\n",
      "0: 480x640 (no detections), 27.8ms\n",
      "Speed: 1.1ms preprocess, 27.8ms inference, 2.7ms postprocess per image at shape (1, 3, 480, 640)\n",
      "tensor([], device='cuda:0', size=(0, 6))\n",
      "\n",
      "0: 480x640 (no detections), 27.9ms\n",
      "Speed: 1.2ms preprocess, 27.9ms inference, 2.7ms postprocess per image at shape (1, 3, 480, 640)\n",
      "tensor([], device='cuda:0', size=(0, 6))\n",
      "\n",
      "0: 480x640 (no detections), 28.4ms\n",
      "Speed: 1.3ms preprocess, 28.4ms inference, 2.3ms postprocess per image at shape (1, 3, 480, 640)\n",
      "tensor([], device='cuda:0', size=(0, 6))\n",
      "\n",
      "0: 480x640 (no detections), 28.2ms\n",
      "Speed: 1.3ms preprocess, 28.2ms inference, 2.5ms postprocess per image at shape (1, 3, 480, 640)\n",
      "tensor([], device='cuda:0', size=(0, 6))\n",
      "\n",
      "0: 480x640 (no detections), 28.0ms\n",
      "Speed: 1.1ms preprocess, 28.0ms inference, 2.3ms postprocess per image at shape (1, 3, 480, 640)\n",
      "tensor([], device='cuda:0', size=(0, 6))\n",
      "\n",
      "0: 480x640 (no detections), 27.9ms\n",
      "Speed: 1.0ms preprocess, 27.9ms inference, 6.7ms postprocess per image at shape (1, 3, 480, 640)\n",
      "tensor([], device='cuda:0', size=(0, 6))\n",
      "\n",
      "0: 480x640 (no detections), 25.6ms\n",
      "Speed: 1.0ms preprocess, 25.6ms inference, 3.0ms postprocess per image at shape (1, 3, 480, 640)\n",
      "tensor([], device='cuda:0', size=(0, 6))\n",
      "\n",
      "0: 480x640 (no detections), 28.5ms\n",
      "Speed: 1.2ms preprocess, 28.5ms inference, 14.9ms postprocess per image at shape (1, 3, 480, 640)\n",
      "tensor([], device='cuda:0', size=(0, 6))\n",
      "\n",
      "0: 480x640 (no detections), 25.4ms\n",
      "Speed: 1.3ms preprocess, 25.4ms inference, 3.3ms postprocess per image at shape (1, 3, 480, 640)\n",
      "tensor([], device='cuda:0', size=(0, 6))\n",
      "\n",
      "0: 480x640 (no detections), 27.3ms\n",
      "Speed: 1.0ms preprocess, 27.3ms inference, 2.9ms postprocess per image at shape (1, 3, 480, 640)\n",
      "tensor([], device='cuda:0', size=(0, 6))\n",
      "\n",
      "0: 480x640 (no detections), 27.8ms\n",
      "Speed: 1.6ms preprocess, 27.8ms inference, 2.8ms postprocess per image at shape (1, 3, 480, 640)\n",
      "tensor([], device='cuda:0', size=(0, 6))\n",
      "\n",
      "0: 480x640 (no detections), 27.6ms\n",
      "Speed: 1.2ms preprocess, 27.6ms inference, 4.3ms postprocess per image at shape (1, 3, 480, 640)\n",
      "tensor([], device='cuda:0', size=(0, 6))\n",
      "\n",
      "0: 480x640 (no detections), 26.6ms\n",
      "Speed: 1.2ms preprocess, 26.6ms inference, 4.5ms postprocess per image at shape (1, 3, 480, 640)\n",
      "tensor([], device='cuda:0', size=(0, 6))\n",
      "\n",
      "0: 480x640 (no detections), 28.3ms\n",
      "Speed: 1.6ms preprocess, 28.3ms inference, 4.3ms postprocess per image at shape (1, 3, 480, 640)\n",
      "tensor([], device='cuda:0', size=(0, 6))\n",
      "\n",
      "0: 480x640 (no detections), 27.8ms\n",
      "Speed: 1.2ms preprocess, 27.8ms inference, 3.3ms postprocess per image at shape (1, 3, 480, 640)\n",
      "tensor([], device='cuda:0', size=(0, 6))\n",
      "\n",
      "0: 480x640 (no detections), 27.8ms\n",
      "Speed: 1.0ms preprocess, 27.8ms inference, 4.1ms postprocess per image at shape (1, 3, 480, 640)\n",
      "tensor([], device='cuda:0', size=(0, 6))\n",
      "\n",
      "0: 480x640 (no detections), 25.9ms\n",
      "Speed: 1.4ms preprocess, 25.9ms inference, 4.6ms postprocess per image at shape (1, 3, 480, 640)\n",
      "tensor([], device='cuda:0', size=(0, 6))\n",
      "\n",
      "0: 480x640 (no detections), 26.6ms\n",
      "Speed: 1.2ms preprocess, 26.6ms inference, 4.8ms postprocess per image at shape (1, 3, 480, 640)\n",
      "tensor([], device='cuda:0', size=(0, 6))\n",
      "\n",
      "0: 480x640 (no detections), 26.2ms\n",
      "Speed: 1.3ms preprocess, 26.2ms inference, 4.5ms postprocess per image at shape (1, 3, 480, 640)\n",
      "tensor([], device='cuda:0', size=(0, 6))\n",
      "\n",
      "0: 480x640 (no detections), 28.0ms\n",
      "Speed: 1.2ms preprocess, 28.0ms inference, 4.4ms postprocess per image at shape (1, 3, 480, 640)\n",
      "tensor([], device='cuda:0', size=(0, 6))\n",
      "\n",
      "0: 480x640 (no detections), 27.7ms\n",
      "Speed: 0.9ms preprocess, 27.7ms inference, 3.2ms postprocess per image at shape (1, 3, 480, 640)\n",
      "tensor([], device='cuda:0', size=(0, 6))\n",
      "\n",
      "0: 480x640 (no detections), 27.8ms\n",
      "Speed: 1.1ms preprocess, 27.8ms inference, 3.5ms postprocess per image at shape (1, 3, 480, 640)\n",
      "tensor([], device='cuda:0', size=(0, 6))\n",
      "\n",
      "0: 480x640 (no detections), 27.9ms\n",
      "Speed: 1.0ms preprocess, 27.9ms inference, 3.1ms postprocess per image at shape (1, 3, 480, 640)\n",
      "tensor([], device='cuda:0', size=(0, 6))\n",
      "\n",
      "0: 480x640 (no detections), 27.9ms\n",
      "Speed: 1.0ms preprocess, 27.9ms inference, 3.3ms postprocess per image at shape (1, 3, 480, 640)\n",
      "tensor([], device='cuda:0', size=(0, 6))\n",
      "\n",
      "0: 480x640 (no detections), 27.8ms\n",
      "Speed: 1.0ms preprocess, 27.8ms inference, 5.2ms postprocess per image at shape (1, 3, 480, 640)\n",
      "tensor([], device='cuda:0', size=(0, 6))\n",
      "\n",
      "0: 480x640 (no detections), 27.0ms\n",
      "Speed: 1.8ms preprocess, 27.0ms inference, 3.6ms postprocess per image at shape (1, 3, 480, 640)\n",
      "tensor([], device='cuda:0', size=(0, 6))\n",
      "\n",
      "0: 480x640 (no detections), 27.6ms\n",
      "Speed: 1.3ms preprocess, 27.6ms inference, 4.3ms postprocess per image at shape (1, 3, 480, 640)\n",
      "tensor([], device='cuda:0', size=(0, 6))\n",
      "\n",
      "0: 480x640 (no detections), 26.3ms\n",
      "Speed: 1.1ms preprocess, 26.3ms inference, 3.8ms postprocess per image at shape (1, 3, 480, 640)\n",
      "tensor([], device='cuda:0', size=(0, 6))\n",
      "\n",
      "0: 480x640 (no detections), 27.2ms\n",
      "Speed: 1.4ms preprocess, 27.2ms inference, 5.5ms postprocess per image at shape (1, 3, 480, 640)\n",
      "tensor([], device='cuda:0', size=(0, 6))\n",
      "\n",
      "0: 480x640 (no detections), 27.3ms\n",
      "Speed: 1.0ms preprocess, 27.3ms inference, 11.1ms postprocess per image at shape (1, 3, 480, 640)\n",
      "tensor([], device='cuda:0', size=(0, 6))\n",
      "\n",
      "0: 480x640 (no detections), 26.3ms\n",
      "Speed: 1.0ms preprocess, 26.3ms inference, 1.7ms postprocess per image at shape (1, 3, 480, 640)\n",
      "tensor([], device='cuda:0', size=(0, 6))\n",
      "\n",
      "0: 480x640 (no detections), 28.3ms\n",
      "Speed: 1.0ms preprocess, 28.3ms inference, 2.0ms postprocess per image at shape (1, 3, 480, 640)\n",
      "tensor([], device='cuda:0', size=(0, 6))\n",
      "\n",
      "0: 480x640 (no detections), 28.6ms\n",
      "Speed: 1.0ms preprocess, 28.6ms inference, 2.0ms postprocess per image at shape (1, 3, 480, 640)\n",
      "tensor([], device='cuda:0', size=(0, 6))\n",
      "\n",
      "0: 480x640 (no detections), 27.7ms\n",
      "Speed: 1.1ms preprocess, 27.7ms inference, 2.4ms postprocess per image at shape (1, 3, 480, 640)\n",
      "tensor([], device='cuda:0', size=(0, 6))\n",
      "\n",
      "0: 480x640 (no detections), 26.6ms\n",
      "Speed: 1.0ms preprocess, 26.6ms inference, 2.3ms postprocess per image at shape (1, 3, 480, 640)\n",
      "tensor([], device='cuda:0', size=(0, 6))\n",
      "\n",
      "0: 480x640 (no detections), 28.6ms\n",
      "Speed: 1.2ms preprocess, 28.6ms inference, 2.5ms postprocess per image at shape (1, 3, 480, 640)\n",
      "tensor([], device='cuda:0', size=(0, 6))\n",
      "\n",
      "0: 480x640 (no detections), 30.4ms\n",
      "Speed: 1.1ms preprocess, 30.4ms inference, 2.3ms postprocess per image at shape (1, 3, 480, 640)\n",
      "tensor([], device='cuda:0', size=(0, 6))\n",
      "\n",
      "0: 480x640 (no detections), 37.2ms\n",
      "Speed: 1.2ms preprocess, 37.2ms inference, 2.1ms postprocess per image at shape (1, 3, 480, 640)\n",
      "tensor([], device='cuda:0', size=(0, 6))\n",
      "\n",
      "0: 480x640 (no detections), 37.2ms\n",
      "Speed: 1.1ms preprocess, 37.2ms inference, 2.1ms postprocess per image at shape (1, 3, 480, 640)\n",
      "tensor([], device='cuda:0', size=(0, 6))\n",
      "\n",
      "0: 480x640 (no detections), 37.3ms\n",
      "Speed: 1.3ms preprocess, 37.3ms inference, 2.0ms postprocess per image at shape (1, 3, 480, 640)\n",
      "tensor([], device='cuda:0', size=(0, 6))\n",
      "\n",
      "0: 480x640 (no detections), 37.2ms\n",
      "Speed: 1.0ms preprocess, 37.2ms inference, 2.1ms postprocess per image at shape (1, 3, 480, 640)\n",
      "tensor([], device='cuda:0', size=(0, 6))\n",
      "\n",
      "0: 480x640 (no detections), 37.3ms\n",
      "Speed: 1.0ms preprocess, 37.3ms inference, 2.3ms postprocess per image at shape (1, 3, 480, 640)\n",
      "tensor([], device='cuda:0', size=(0, 6))\n",
      "\n",
      "0: 480x640 (no detections), 37.2ms\n",
      "Speed: 1.3ms preprocess, 37.2ms inference, 2.0ms postprocess per image at shape (1, 3, 480, 640)\n",
      "tensor([], device='cuda:0', size=(0, 6))\n",
      "\n",
      "0: 480x640 (no detections), 37.7ms\n",
      "Speed: 1.0ms preprocess, 37.7ms inference, 2.9ms postprocess per image at shape (1, 3, 480, 640)\n",
      "tensor([], device='cuda:0', size=(0, 6))\n",
      "\n",
      "0: 480x640 (no detections), 37.3ms\n",
      "Speed: 1.5ms preprocess, 37.3ms inference, 2.1ms postprocess per image at shape (1, 3, 480, 640)\n",
      "tensor([], device='cuda:0', size=(0, 6))\n",
      "\n",
      "0: 480x640 (no detections), 37.3ms\n",
      "Speed: 1.2ms preprocess, 37.3ms inference, 2.3ms postprocess per image at shape (1, 3, 480, 640)\n",
      "tensor([], device='cuda:0', size=(0, 6))\n",
      "\n",
      "0: 480x640 (no detections), 37.2ms\n",
      "Speed: 1.0ms preprocess, 37.2ms inference, 2.6ms postprocess per image at shape (1, 3, 480, 640)\n",
      "tensor([], device='cuda:0', size=(0, 6))\n",
      "\n",
      "0: 480x640 (no detections), 37.3ms\n",
      "Speed: 1.0ms preprocess, 37.3ms inference, 2.2ms postprocess per image at shape (1, 3, 480, 640)\n",
      "tensor([], device='cuda:0', size=(0, 6))\n",
      "\n",
      "0: 480x640 (no detections), 37.3ms\n",
      "Speed: 1.0ms preprocess, 37.3ms inference, 2.3ms postprocess per image at shape (1, 3, 480, 640)\n",
      "tensor([], device='cuda:0', size=(0, 6))\n",
      "\n",
      "0: 480x640 (no detections), 37.3ms\n",
      "Speed: 0.9ms preprocess, 37.3ms inference, 2.7ms postprocess per image at shape (1, 3, 480, 640)\n",
      "tensor([], device='cuda:0', size=(0, 6))\n",
      "\n",
      "0: 480x640 (no detections), 37.3ms\n",
      "Speed: 1.0ms preprocess, 37.3ms inference, 3.2ms postprocess per image at shape (1, 3, 480, 640)\n",
      "tensor([], device='cuda:0', size=(0, 6))\n",
      "\n",
      "0: 480x640 (no detections), 37.3ms\n",
      "Speed: 1.2ms preprocess, 37.3ms inference, 3.5ms postprocess per image at shape (1, 3, 480, 640)\n",
      "tensor([], device='cuda:0', size=(0, 6))\n",
      "\n",
      "0: 480x640 (no detections), 37.3ms\n",
      "Speed: 1.2ms preprocess, 37.3ms inference, 3.2ms postprocess per image at shape (1, 3, 480, 640)\n",
      "tensor([], device='cuda:0', size=(0, 6))\n",
      "\n",
      "0: 480x640 (no detections), 37.3ms\n",
      "Speed: 1.3ms preprocess, 37.3ms inference, 2.3ms postprocess per image at shape (1, 3, 480, 640)\n",
      "tensor([], device='cuda:0', size=(0, 6))\n",
      "\n",
      "0: 480x640 (no detections), 37.2ms\n",
      "Speed: 1.0ms preprocess, 37.2ms inference, 3.0ms postprocess per image at shape (1, 3, 480, 640)\n",
      "tensor([], device='cuda:0', size=(0, 6))\n",
      "\n",
      "0: 480x640 (no detections), 37.3ms\n",
      "Speed: 1.0ms preprocess, 37.3ms inference, 2.3ms postprocess per image at shape (1, 3, 480, 640)\n",
      "tensor([], device='cuda:0', size=(0, 6))\n",
      "\n",
      "0: 480x640 (no detections), 37.3ms\n",
      "Speed: 1.0ms preprocess, 37.3ms inference, 3.4ms postprocess per image at shape (1, 3, 480, 640)\n",
      "tensor([], device='cuda:0', size=(0, 6))\n",
      "\n",
      "0: 480x640 (no detections), 37.2ms\n",
      "Speed: 1.6ms preprocess, 37.2ms inference, 2.2ms postprocess per image at shape (1, 3, 480, 640)\n",
      "tensor([], device='cuda:0', size=(0, 6))\n",
      "\n",
      "0: 480x640 (no detections), 37.3ms\n",
      "Speed: 1.7ms preprocess, 37.3ms inference, 2.2ms postprocess per image at shape (1, 3, 480, 640)\n",
      "tensor([], device='cuda:0', size=(0, 6))\n",
      "\n",
      "0: 480x640 (no detections), 37.2ms\n",
      "Speed: 1.5ms preprocess, 37.2ms inference, 2.2ms postprocess per image at shape (1, 3, 480, 640)\n",
      "tensor([], device='cuda:0', size=(0, 6))\n",
      "\n",
      "0: 480x640 (no detections), 37.3ms\n",
      "Speed: 1.4ms preprocess, 37.3ms inference, 3.6ms postprocess per image at shape (1, 3, 480, 640)\n",
      "tensor([], device='cuda:0', size=(0, 6))\n",
      "\n",
      "0: 480x640 (no detections), 37.3ms\n",
      "Speed: 1.2ms preprocess, 37.3ms inference, 3.0ms postprocess per image at shape (1, 3, 480, 640)\n",
      "tensor([], device='cuda:0', size=(0, 6))\n",
      "\n",
      "0: 480x640 (no detections), 37.2ms\n",
      "Speed: 0.9ms preprocess, 37.2ms inference, 3.3ms postprocess per image at shape (1, 3, 480, 640)\n",
      "tensor([], device='cuda:0', size=(0, 6))\n",
      "\n",
      "0: 480x640 (no detections), 37.2ms\n",
      "Speed: 0.9ms preprocess, 37.2ms inference, 4.8ms postprocess per image at shape (1, 3, 480, 640)\n",
      "tensor([], device='cuda:0', size=(0, 6))\n",
      "\n",
      "0: 480x640 (no detections), 37.2ms\n",
      "Speed: 0.9ms preprocess, 37.2ms inference, 3.7ms postprocess per image at shape (1, 3, 480, 640)\n",
      "tensor([], device='cuda:0', size=(0, 6))\n",
      "\n",
      "0: 480x640 (no detections), 37.3ms\n",
      "Speed: 1.1ms preprocess, 37.3ms inference, 3.7ms postprocess per image at shape (1, 3, 480, 640)\n",
      "tensor([], device='cuda:0', size=(0, 6))\n",
      "\n",
      "0: 480x640 (no detections), 37.3ms\n",
      "Speed: 1.2ms preprocess, 37.3ms inference, 3.1ms postprocess per image at shape (1, 3, 480, 640)\n",
      "tensor([], device='cuda:0', size=(0, 6))\n",
      "\n",
      "0: 480x640 (no detections), 37.2ms\n",
      "Speed: 1.0ms preprocess, 37.2ms inference, 3.1ms postprocess per image at shape (1, 3, 480, 640)\n",
      "tensor([], device='cuda:0', size=(0, 6))\n",
      "\n",
      "0: 480x640 (no detections), 37.2ms\n",
      "Speed: 0.9ms preprocess, 37.2ms inference, 3.0ms postprocess per image at shape (1, 3, 480, 640)\n",
      "tensor([], device='cuda:0', size=(0, 6))\n",
      "\n",
      "0: 480x640 (no detections), 37.3ms\n",
      "Speed: 0.9ms preprocess, 37.3ms inference, 2.5ms postprocess per image at shape (1, 3, 480, 640)\n",
      "tensor([], device='cuda:0', size=(0, 6))\n",
      "\n",
      "0: 480x640 (no detections), 37.3ms\n",
      "Speed: 1.0ms preprocess, 37.3ms inference, 3.1ms postprocess per image at shape (1, 3, 480, 640)\n",
      "tensor([], device='cuda:0', size=(0, 6))\n",
      "\n",
      "0: 480x640 (no detections), 37.2ms\n",
      "Speed: 1.0ms preprocess, 37.2ms inference, 2.4ms postprocess per image at shape (1, 3, 480, 640)\n",
      "tensor([], device='cuda:0', size=(0, 6))\n",
      "\n",
      "0: 480x640 (no detections), 37.3ms\n",
      "Speed: 0.9ms preprocess, 37.3ms inference, 2.6ms postprocess per image at shape (1, 3, 480, 640)\n",
      "tensor([], device='cuda:0', size=(0, 6))\n",
      "\n",
      "0: 480x640 (no detections), 37.2ms\n",
      "Speed: 1.2ms preprocess, 37.2ms inference, 2.8ms postprocess per image at shape (1, 3, 480, 640)\n",
      "tensor([], device='cuda:0', size=(0, 6))\n",
      "\n",
      "0: 480x640 (no detections), 37.2ms\n",
      "Speed: 1.2ms preprocess, 37.2ms inference, 2.5ms postprocess per image at shape (1, 3, 480, 640)\n",
      "tensor([], device='cuda:0', size=(0, 6))\n",
      "\n",
      "0: 480x640 (no detections), 37.3ms\n",
      "Speed: 1.1ms preprocess, 37.3ms inference, 2.5ms postprocess per image at shape (1, 3, 480, 640)\n",
      "tensor([], device='cuda:0', size=(0, 6))\n",
      "\n",
      "0: 480x640 (no detections), 37.3ms\n",
      "Speed: 1.4ms preprocess, 37.3ms inference, 2.4ms postprocess per image at shape (1, 3, 480, 640)\n",
      "tensor([], device='cuda:0', size=(0, 6))\n",
      "\n",
      "0: 480x640 (no detections), 37.2ms\n",
      "Speed: 1.1ms preprocess, 37.2ms inference, 2.5ms postprocess per image at shape (1, 3, 480, 640)\n",
      "tensor([], device='cuda:0', size=(0, 6))\n",
      "\n",
      "0: 480x640 (no detections), 37.3ms\n",
      "Speed: 1.0ms preprocess, 37.3ms inference, 1.9ms postprocess per image at shape (1, 3, 480, 640)\n",
      "tensor([], device='cuda:0', size=(0, 6))\n",
      "\n",
      "0: 480x640 (no detections), 37.3ms\n",
      "Speed: 1.0ms preprocess, 37.3ms inference, 2.0ms postprocess per image at shape (1, 3, 480, 640)\n",
      "tensor([], device='cuda:0', size=(0, 6))\n",
      "\n",
      "0: 480x640 (no detections), 37.2ms\n",
      "Speed: 1.0ms preprocess, 37.2ms inference, 2.0ms postprocess per image at shape (1, 3, 480, 640)\n",
      "tensor([], device='cuda:0', size=(0, 6))\n",
      "\n",
      "0: 480x640 (no detections), 37.2ms\n",
      "Speed: 1.0ms preprocess, 37.2ms inference, 2.0ms postprocess per image at shape (1, 3, 480, 640)\n",
      "tensor([], device='cuda:0', size=(0, 6))\n",
      "\n",
      "0: 480x640 (no detections), 37.2ms\n",
      "Speed: 1.0ms preprocess, 37.2ms inference, 2.5ms postprocess per image at shape (1, 3, 480, 640)\n",
      "tensor([], device='cuda:0', size=(0, 6))\n",
      "\n",
      "0: 480x640 (no detections), 37.4ms\n",
      "Speed: 1.9ms preprocess, 37.4ms inference, 2.5ms postprocess per image at shape (1, 3, 480, 640)\n",
      "tensor([], device='cuda:0', size=(0, 6))\n",
      "\n",
      "0: 480x640 (no detections), 37.3ms\n",
      "Speed: 1.4ms preprocess, 37.3ms inference, 2.6ms postprocess per image at shape (1, 3, 480, 640)\n",
      "tensor([], device='cuda:0', size=(0, 6))\n",
      "\n",
      "0: 480x640 (no detections), 37.3ms\n",
      "Speed: 1.3ms preprocess, 37.3ms inference, 2.4ms postprocess per image at shape (1, 3, 480, 640)\n",
      "tensor([], device='cuda:0', size=(0, 6))\n",
      "\n",
      "0: 480x640 (no detections), 37.3ms\n",
      "Speed: 1.5ms preprocess, 37.3ms inference, 2.3ms postprocess per image at shape (1, 3, 480, 640)\n",
      "tensor([], device='cuda:0', size=(0, 6))\n",
      "\n",
      "0: 480x640 (no detections), 37.3ms\n",
      "Speed: 1.1ms preprocess, 37.3ms inference, 13.6ms postprocess per image at shape (1, 3, 480, 640)\n",
      "tensor([], device='cuda:0', size=(0, 6))\n",
      "\n",
      "0: 480x640 (no detections), 37.3ms\n",
      "Speed: 1.6ms preprocess, 37.3ms inference, 2.0ms postprocess per image at shape (1, 3, 480, 640)\n",
      "tensor([], device='cuda:0', size=(0, 6))\n",
      "\n",
      "0: 480x640 (no detections), 37.2ms\n",
      "Speed: 1.4ms preprocess, 37.2ms inference, 2.3ms postprocess per image at shape (1, 3, 480, 640)\n",
      "tensor([], device='cuda:0', size=(0, 6))\n",
      "\n",
      "0: 480x640 (no detections), 37.2ms\n",
      "Speed: 1.2ms preprocess, 37.2ms inference, 1.9ms postprocess per image at shape (1, 3, 480, 640)\n",
      "tensor([], device='cuda:0', size=(0, 6))\n",
      "\n",
      "0: 480x640 (no detections), 37.3ms\n",
      "Speed: 0.9ms preprocess, 37.3ms inference, 1.7ms postprocess per image at shape (1, 3, 480, 640)\n",
      "tensor([], device='cuda:0', size=(0, 6))\n",
      "\n",
      "0: 480x640 (no detections), 37.2ms\n",
      "Speed: 1.1ms preprocess, 37.2ms inference, 2.5ms postprocess per image at shape (1, 3, 480, 640)\n",
      "tensor([], device='cuda:0', size=(0, 6))\n",
      "\n",
      "0: 480x640 (no detections), 37.3ms\n",
      "Speed: 1.6ms preprocess, 37.3ms inference, 2.8ms postprocess per image at shape (1, 3, 480, 640)\n",
      "tensor([], device='cuda:0', size=(0, 6))\n",
      "\n",
      "0: 480x640 (no detections), 37.2ms\n",
      "Speed: 1.0ms preprocess, 37.2ms inference, 2.8ms postprocess per image at shape (1, 3, 480, 640)\n",
      "tensor([], device='cuda:0', size=(0, 6))\n",
      "\n",
      "0: 480x640 (no detections), 37.2ms\n",
      "Speed: 1.5ms preprocess, 37.2ms inference, 2.0ms postprocess per image at shape (1, 3, 480, 640)\n",
      "tensor([], device='cuda:0', size=(0, 6))\n",
      "\n",
      "0: 480x640 1 Ripe, 37.3ms\n",
      "Speed: 0.9ms preprocess, 37.3ms inference, 2.5ms postprocess per image at shape (1, 3, 480, 640)\n",
      "tensor([[2.7321e+02, 3.3296e+02, 3.3866e+02, 4.2034e+02, 2.5008e-01, 1.0000e+00]], device='cuda:0')\n",
      "\n",
      "0: 480x640 (no detections), 37.2ms\n",
      "Speed: 1.0ms preprocess, 37.2ms inference, 2.1ms postprocess per image at shape (1, 3, 480, 640)\n",
      "tensor([], device='cuda:0', size=(0, 6))\n",
      "\n",
      "0: 480x640 (no detections), 37.2ms\n",
      "Speed: 1.0ms preprocess, 37.2ms inference, 2.4ms postprocess per image at shape (1, 3, 480, 640)\n",
      "tensor([], device='cuda:0', size=(0, 6))\n",
      "\n",
      "0: 480x640 (no detections), 37.2ms\n",
      "Speed: 1.0ms preprocess, 37.2ms inference, 2.9ms postprocess per image at shape (1, 3, 480, 640)\n",
      "tensor([], device='cuda:0', size=(0, 6))\n",
      "\n",
      "0: 480x640 (no detections), 37.2ms\n",
      "Speed: 1.0ms preprocess, 37.2ms inference, 2.7ms postprocess per image at shape (1, 3, 480, 640)\n",
      "tensor([], device='cuda:0', size=(0, 6))\n",
      "\n",
      "0: 480x640 (no detections), 37.2ms\n",
      "Speed: 0.9ms preprocess, 37.2ms inference, 7.6ms postprocess per image at shape (1, 3, 480, 640)\n",
      "tensor([], device='cuda:0', size=(0, 6))\n",
      "\n",
      "0: 480x640 1 Unripe, 37.3ms\n",
      "Speed: 2.8ms preprocess, 37.3ms inference, 2.8ms postprocess per image at shape (1, 3, 480, 640)\n",
      "tensor([[2.6359e+02, 3.3160e+02, 3.3180e+02, 4.1969e+02, 3.0603e-01, 0.0000e+00]], device='cuda:0')\n",
      "\n",
      "0: 480x640 (no detections), 37.4ms\n",
      "Speed: 1.6ms preprocess, 37.4ms inference, 2.1ms postprocess per image at shape (1, 3, 480, 640)\n",
      "tensor([], device='cuda:0', size=(0, 6))\n",
      "\n",
      "0: 480x640 (no detections), 37.3ms\n",
      "Speed: 1.0ms preprocess, 37.3ms inference, 2.0ms postprocess per image at shape (1, 3, 480, 640)\n",
      "tensor([], device='cuda:0', size=(0, 6))\n",
      "\n",
      "0: 480x640 (no detections), 37.3ms\n",
      "Speed: 1.0ms preprocess, 37.3ms inference, 2.0ms postprocess per image at shape (1, 3, 480, 640)\n",
      "tensor([], device='cuda:0', size=(0, 6))\n",
      "\n",
      "0: 480x640 (no detections), 37.2ms\n",
      "Speed: 1.0ms preprocess, 37.2ms inference, 11.0ms postprocess per image at shape (1, 3, 480, 640)\n",
      "tensor([], device='cuda:0', size=(0, 6))\n",
      "\n",
      "0: 480x640 (no detections), 37.3ms\n",
      "Speed: 1.0ms preprocess, 37.3ms inference, 2.6ms postprocess per image at shape (1, 3, 480, 640)\n",
      "tensor([], device='cuda:0', size=(0, 6))\n",
      "\n",
      "0: 480x640 (no detections), 37.2ms\n",
      "Speed: 1.0ms preprocess, 37.2ms inference, 2.4ms postprocess per image at shape (1, 3, 480, 640)\n",
      "tensor([], device='cuda:0', size=(0, 6))\n",
      "\n",
      "0: 480x640 (no detections), 37.2ms\n",
      "Speed: 1.0ms preprocess, 37.2ms inference, 2.6ms postprocess per image at shape (1, 3, 480, 640)\n",
      "tensor([], device='cuda:0', size=(0, 6))\n",
      "\n",
      "0: 480x640 (no detections), 37.2ms\n",
      "Speed: 1.0ms preprocess, 37.2ms inference, 2.5ms postprocess per image at shape (1, 3, 480, 640)\n",
      "tensor([], device='cuda:0', size=(0, 6))\n",
      "\n",
      "0: 480x640 (no detections), 37.2ms\n",
      "Speed: 1.1ms preprocess, 37.2ms inference, 2.8ms postprocess per image at shape (1, 3, 480, 640)\n",
      "tensor([], device='cuda:0', size=(0, 6))\n",
      "\n",
      "0: 480x640 (no detections), 37.3ms\n",
      "Speed: 1.1ms preprocess, 37.3ms inference, 2.9ms postprocess per image at shape (1, 3, 480, 640)\n",
      "tensor([], device='cuda:0', size=(0, 6))\n",
      "\n",
      "0: 480x640 (no detections), 37.3ms\n",
      "Speed: 1.1ms preprocess, 37.3ms inference, 2.7ms postprocess per image at shape (1, 3, 480, 640)\n",
      "tensor([], device='cuda:0', size=(0, 6))\n",
      "\n",
      "0: 480x640 (no detections), 37.3ms\n",
      "Speed: 1.3ms preprocess, 37.3ms inference, 2.1ms postprocess per image at shape (1, 3, 480, 640)\n",
      "tensor([], device='cuda:0', size=(0, 6))\n",
      "\n",
      "0: 480x640 (no detections), 37.3ms\n",
      "Speed: 1.3ms preprocess, 37.3ms inference, 2.1ms postprocess per image at shape (1, 3, 480, 640)\n",
      "tensor([], device='cuda:0', size=(0, 6))\n",
      "\n",
      "0: 480x640 (no detections), 37.2ms\n",
      "Speed: 1.2ms preprocess, 37.2ms inference, 2.1ms postprocess per image at shape (1, 3, 480, 640)\n",
      "tensor([], device='cuda:0', size=(0, 6))\n",
      "\n",
      "0: 480x640 (no detections), 37.2ms\n",
      "Speed: 1.1ms preprocess, 37.2ms inference, 2.0ms postprocess per image at shape (1, 3, 480, 640)\n",
      "tensor([], device='cuda:0', size=(0, 6))\n",
      "\n",
      "0: 480x640 (no detections), 37.2ms\n",
      "Speed: 1.0ms preprocess, 37.2ms inference, 2.0ms postprocess per image at shape (1, 3, 480, 640)\n",
      "tensor([], device='cuda:0', size=(0, 6))\n",
      "\n",
      "0: 480x640 (no detections), 37.2ms\n",
      "Speed: 1.0ms preprocess, 37.2ms inference, 1.9ms postprocess per image at shape (1, 3, 480, 640)\n",
      "tensor([], device='cuda:0', size=(0, 6))\n",
      "\n",
      "0: 480x640 (no detections), 37.3ms\n",
      "Speed: 1.1ms preprocess, 37.3ms inference, 6.2ms postprocess per image at shape (1, 3, 480, 640)\n",
      "tensor([], device='cuda:0', size=(0, 6))\n",
      "\n",
      "0: 480x640 (no detections), 37.3ms\n",
      "Speed: 1.3ms preprocess, 37.3ms inference, 2.2ms postprocess per image at shape (1, 3, 480, 640)\n",
      "tensor([], device='cuda:0', size=(0, 6))\n",
      "\n",
      "0: 480x640 (no detections), 37.3ms\n",
      "Speed: 1.0ms preprocess, 37.3ms inference, 2.2ms postprocess per image at shape (1, 3, 480, 640)\n",
      "tensor([], device='cuda:0', size=(0, 6))\n",
      "\n",
      "0: 480x640 (no detections), 37.2ms\n",
      "Speed: 1.0ms preprocess, 37.2ms inference, 2.2ms postprocess per image at shape (1, 3, 480, 640)\n",
      "tensor([], device='cuda:0', size=(0, 6))\n",
      "\n",
      "0: 480x640 1 Unripe, 37.2ms\n",
      "Speed: 1.2ms preprocess, 37.2ms inference, 2.8ms postprocess per image at shape (1, 3, 480, 640)\n",
      "tensor([[2.5193e+02, 4.2573e+02, 3.0969e+02, 4.7971e+02, 3.6837e-01, 0.0000e+00]], device='cuda:0')\n",
      "\n",
      "0: 480x640 (no detections), 37.3ms\n",
      "Speed: 1.1ms preprocess, 37.3ms inference, 2.4ms postprocess per image at shape (1, 3, 480, 640)\n",
      "tensor([], device='cuda:0', size=(0, 6))\n",
      "\n",
      "0: 480x640 (no detections), 37.3ms\n",
      "Speed: 1.0ms preprocess, 37.3ms inference, 1.9ms postprocess per image at shape (1, 3, 480, 640)\n",
      "tensor([], device='cuda:0', size=(0, 6))\n",
      "\n",
      "0: 480x640 (no detections), 37.3ms\n",
      "Speed: 1.1ms preprocess, 37.3ms inference, 2.5ms postprocess per image at shape (1, 3, 480, 640)\n",
      "tensor([], device='cuda:0', size=(0, 6))\n",
      "\n",
      "0: 480x640 (no detections), 37.3ms\n",
      "Speed: 1.4ms preprocess, 37.3ms inference, 2.3ms postprocess per image at shape (1, 3, 480, 640)\n",
      "tensor([], device='cuda:0', size=(0, 6))\n",
      "\n",
      "0: 480x640 (no detections), 37.2ms\n",
      "Speed: 1.2ms preprocess, 37.2ms inference, 2.2ms postprocess per image at shape (1, 3, 480, 640)\n",
      "tensor([], device='cuda:0', size=(0, 6))\n",
      "\n",
      "0: 480x640 (no detections), 37.3ms\n",
      "Speed: 1.1ms preprocess, 37.3ms inference, 2.2ms postprocess per image at shape (1, 3, 480, 640)\n",
      "tensor([], device='cuda:0', size=(0, 6))\n",
      "\n",
      "0: 480x640 (no detections), 37.2ms\n",
      "Speed: 1.0ms preprocess, 37.2ms inference, 2.0ms postprocess per image at shape (1, 3, 480, 640)\n",
      "tensor([], device='cuda:0', size=(0, 6))\n",
      "\n",
      "0: 480x640 (no detections), 37.3ms\n",
      "Speed: 1.0ms preprocess, 37.3ms inference, 2.0ms postprocess per image at shape (1, 3, 480, 640)\n",
      "tensor([], device='cuda:0', size=(0, 6))\n",
      "\n",
      "0: 480x640 (no detections), 37.2ms\n",
      "Speed: 1.0ms preprocess, 37.2ms inference, 2.0ms postprocess per image at shape (1, 3, 480, 640)\n",
      "tensor([], device='cuda:0', size=(0, 6))\n",
      "\n",
      "0: 480x640 (no detections), 37.3ms\n",
      "Speed: 1.0ms preprocess, 37.3ms inference, 1.9ms postprocess per image at shape (1, 3, 480, 640)\n",
      "tensor([], device='cuda:0', size=(0, 6))\n",
      "\n",
      "0: 480x640 (no detections), 37.2ms\n",
      "Speed: 1.1ms preprocess, 37.2ms inference, 2.8ms postprocess per image at shape (1, 3, 480, 640)\n",
      "tensor([], device='cuda:0', size=(0, 6))\n",
      "\n",
      "0: 480x640 (no detections), 37.4ms\n",
      "Speed: 1.8ms preprocess, 37.4ms inference, 2.6ms postprocess per image at shape (1, 3, 480, 640)\n",
      "tensor([], device='cuda:0', size=(0, 6))\n",
      "\n",
      "0: 480x640 (no detections), 37.2ms\n",
      "Speed: 1.3ms preprocess, 37.2ms inference, 2.5ms postprocess per image at shape (1, 3, 480, 640)\n",
      "tensor([], device='cuda:0', size=(0, 6))\n",
      "\n",
      "0: 480x640 (no detections), 37.4ms\n",
      "Speed: 1.3ms preprocess, 37.4ms inference, 3.6ms postprocess per image at shape (1, 3, 480, 640)\n",
      "tensor([], device='cuda:0', size=(0, 6))\n",
      "\n",
      "0: 480x640 (no detections), 37.3ms\n",
      "Speed: 1.1ms preprocess, 37.3ms inference, 2.5ms postprocess per image at shape (1, 3, 480, 640)\n",
      "tensor([], device='cuda:0', size=(0, 6))\n",
      "\n",
      "0: 480x640 (no detections), 37.2ms\n",
      "Speed: 1.5ms preprocess, 37.2ms inference, 2.1ms postprocess per image at shape (1, 3, 480, 640)\n",
      "tensor([], device='cuda:0', size=(0, 6))\n",
      "\n",
      "0: 480x640 (no detections), 37.3ms\n",
      "Speed: 1.6ms preprocess, 37.3ms inference, 2.2ms postprocess per image at shape (1, 3, 480, 640)\n",
      "tensor([], device='cuda:0', size=(0, 6))\n",
      "\n",
      "0: 480x640 (no detections), 37.3ms\n",
      "Speed: 1.3ms preprocess, 37.3ms inference, 2.2ms postprocess per image at shape (1, 3, 480, 640)\n",
      "tensor([], device='cuda:0', size=(0, 6))\n",
      "\n",
      "0: 480x640 (no detections), 37.2ms\n",
      "Speed: 1.1ms preprocess, 37.2ms inference, 2.1ms postprocess per image at shape (1, 3, 480, 640)\n",
      "tensor([], device='cuda:0', size=(0, 6))\n",
      "\n",
      "0: 480x640 (no detections), 37.2ms\n",
      "Speed: 1.1ms preprocess, 37.2ms inference, 12.5ms postprocess per image at shape (1, 3, 480, 640)\n",
      "tensor([], device='cuda:0', size=(0, 6))\n",
      "\n",
      "0: 480x640 (no detections), 37.2ms\n",
      "Speed: 1.0ms preprocess, 37.2ms inference, 2.0ms postprocess per image at shape (1, 3, 480, 640)\n",
      "tensor([], device='cuda:0', size=(0, 6))\n",
      "\n",
      "0: 480x640 (no detections), 37.3ms\n",
      "Speed: 1.1ms preprocess, 37.3ms inference, 1.8ms postprocess per image at shape (1, 3, 480, 640)\n",
      "tensor([], device='cuda:0', size=(0, 6))\n",
      "\n",
      "0: 480x640 (no detections), 37.3ms\n",
      "Speed: 1.2ms preprocess, 37.3ms inference, 2.1ms postprocess per image at shape (1, 3, 480, 640)\n",
      "tensor([], device='cuda:0', size=(0, 6))\n",
      "\n",
      "0: 480x640 (no detections), 37.2ms\n",
      "Speed: 1.1ms preprocess, 37.2ms inference, 2.6ms postprocess per image at shape (1, 3, 480, 640)\n",
      "tensor([], device='cuda:0', size=(0, 6))\n",
      "\n",
      "0: 480x640 (no detections), 37.3ms\n",
      "Speed: 1.6ms preprocess, 37.3ms inference, 2.9ms postprocess per image at shape (1, 3, 480, 640)\n",
      "tensor([], device='cuda:0', size=(0, 6))\n",
      "\n",
      "0: 480x640 (no detections), 37.3ms\n",
      "Speed: 1.2ms preprocess, 37.3ms inference, 3.3ms postprocess per image at shape (1, 3, 480, 640)\n",
      "tensor([], device='cuda:0', size=(0, 6))\n",
      "\n",
      "0: 480x640 (no detections), 37.3ms\n",
      "Speed: 1.0ms preprocess, 37.3ms inference, 2.2ms postprocess per image at shape (1, 3, 480, 640)\n",
      "tensor([], device='cuda:0', size=(0, 6))\n",
      "\n",
      "0: 480x640 (no detections), 37.3ms\n",
      "Speed: 1.0ms preprocess, 37.3ms inference, 2.2ms postprocess per image at shape (1, 3, 480, 640)\n",
      "tensor([], device='cuda:0', size=(0, 6))\n",
      "\n",
      "0: 480x640 (no detections), 37.3ms\n",
      "Speed: 0.9ms preprocess, 37.3ms inference, 2.8ms postprocess per image at shape (1, 3, 480, 640)\n",
      "tensor([], device='cuda:0', size=(0, 6))\n",
      "\n",
      "0: 480x640 (no detections), 37.2ms\n",
      "Speed: 1.0ms preprocess, 37.2ms inference, 2.3ms postprocess per image at shape (1, 3, 480, 640)\n",
      "tensor([], device='cuda:0', size=(0, 6))\n",
      "\n",
      "0: 480x640 (no detections), 37.2ms\n",
      "Speed: 1.2ms preprocess, 37.2ms inference, 2.3ms postprocess per image at shape (1, 3, 480, 640)\n",
      "tensor([], device='cuda:0', size=(0, 6))\n",
      "\n",
      "0: 480x640 (no detections), 37.2ms\n",
      "Speed: 1.1ms preprocess, 37.2ms inference, 2.1ms postprocess per image at shape (1, 3, 480, 640)\n",
      "tensor([], device='cuda:0', size=(0, 6))\n",
      "\n",
      "0: 480x640 (no detections), 37.2ms\n",
      "Speed: 1.2ms preprocess, 37.2ms inference, 2.1ms postprocess per image at shape (1, 3, 480, 640)\n",
      "tensor([], device='cuda:0', size=(0, 6))\n",
      "\n",
      "0: 480x640 (no detections), 37.2ms\n",
      "Speed: 1.0ms preprocess, 37.2ms inference, 2.0ms postprocess per image at shape (1, 3, 480, 640)\n",
      "tensor([], device='cuda:0', size=(0, 6))\n",
      "\n",
      "0: 480x640 (no detections), 37.2ms\n",
      "Speed: 1.0ms preprocess, 37.2ms inference, 1.9ms postprocess per image at shape (1, 3, 480, 640)\n",
      "tensor([], device='cuda:0', size=(0, 6))\n",
      "\n",
      "0: 480x640 (no detections), 39.0ms\n",
      "Speed: 1.1ms preprocess, 39.0ms inference, 7.3ms postprocess per image at shape (1, 3, 480, 640)\n",
      "tensor([], device='cuda:0', size=(0, 6))\n",
      "\n",
      "0: 480x640 (no detections), 37.3ms\n",
      "Speed: 1.2ms preprocess, 37.3ms inference, 2.5ms postprocess per image at shape (1, 3, 480, 640)\n",
      "tensor([], device='cuda:0', size=(0, 6))\n",
      "\n",
      "0: 480x640 (no detections), 37.3ms\n",
      "Speed: 1.0ms preprocess, 37.3ms inference, 2.3ms postprocess per image at shape (1, 3, 480, 640)\n",
      "tensor([], device='cuda:0', size=(0, 6))\n",
      "\n",
      "0: 480x640 (no detections), 37.3ms\n",
      "Speed: 1.0ms preprocess, 37.3ms inference, 12.2ms postprocess per image at shape (1, 3, 480, 640)\n",
      "tensor([], device='cuda:0', size=(0, 6))\n",
      "\n",
      "0: 480x640 (no detections), 37.3ms\n",
      "Speed: 1.1ms preprocess, 37.3ms inference, 2.5ms postprocess per image at shape (1, 3, 480, 640)\n",
      "tensor([], device='cuda:0', size=(0, 6))\n",
      "\n",
      "0: 480x640 (no detections), 37.2ms\n",
      "Speed: 1.3ms preprocess, 37.2ms inference, 2.7ms postprocess per image at shape (1, 3, 480, 640)\n",
      "tensor([], device='cuda:0', size=(0, 6))\n",
      "\n",
      "0: 480x640 (no detections), 37.3ms\n",
      "Speed: 1.3ms preprocess, 37.3ms inference, 2.5ms postprocess per image at shape (1, 3, 480, 640)\n",
      "tensor([], device='cuda:0', size=(0, 6))\n",
      "\n",
      "0: 480x640 (no detections), 37.2ms\n",
      "Speed: 1.0ms preprocess, 37.2ms inference, 2.1ms postprocess per image at shape (1, 3, 480, 640)\n",
      "tensor([], device='cuda:0', size=(0, 6))\n",
      "\n",
      "0: 480x640 (no detections), 37.2ms\n",
      "Speed: 1.0ms preprocess, 37.2ms inference, 2.3ms postprocess per image at shape (1, 3, 480, 640)\n",
      "tensor([], device='cuda:0', size=(0, 6))\n",
      "\n",
      "0: 480x640 (no detections), 37.3ms\n",
      "Speed: 1.0ms preprocess, 37.3ms inference, 2.0ms postprocess per image at shape (1, 3, 480, 640)\n",
      "tensor([], device='cuda:0', size=(0, 6))\n",
      "\n",
      "0: 480x640 (no detections), 37.3ms\n",
      "Speed: 1.1ms preprocess, 37.3ms inference, 2.6ms postprocess per image at shape (1, 3, 480, 640)\n",
      "tensor([], device='cuda:0', size=(0, 6))\n",
      "\n",
      "0: 480x640 (no detections), 37.3ms\n",
      "Speed: 0.9ms preprocess, 37.3ms inference, 2.7ms postprocess per image at shape (1, 3, 480, 640)\n",
      "tensor([], device='cuda:0', size=(0, 6))\n",
      "\n",
      "0: 480x640 (no detections), 40.6ms\n",
      "Speed: 4.9ms preprocess, 40.6ms inference, 2.1ms postprocess per image at shape (1, 3, 480, 640)\n",
      "tensor([], device='cuda:0', size=(0, 6))\n",
      "\n",
      "0: 480x640 (no detections), 37.3ms\n",
      "Speed: 1.6ms preprocess, 37.3ms inference, 1.9ms postprocess per image at shape (1, 3, 480, 640)\n",
      "tensor([], device='cuda:0', size=(0, 6))\n",
      "\n",
      "0: 480x640 (no detections), 37.2ms\n",
      "Speed: 0.9ms preprocess, 37.2ms inference, 2.0ms postprocess per image at shape (1, 3, 480, 640)\n",
      "tensor([], device='cuda:0', size=(0, 6))\n",
      "\n",
      "0: 480x640 (no detections), 37.2ms\n",
      "Speed: 1.0ms preprocess, 37.2ms inference, 2.0ms postprocess per image at shape (1, 3, 480, 640)\n",
      "tensor([], device='cuda:0', size=(0, 6))\n",
      "\n",
      "0: 480x640 (no detections), 37.2ms\n",
      "Speed: 1.5ms preprocess, 37.2ms inference, 2.4ms postprocess per image at shape (1, 3, 480, 640)\n",
      "tensor([], device='cuda:0', size=(0, 6))\n",
      "\n",
      "0: 480x640 (no detections), 37.3ms\n",
      "Speed: 1.2ms preprocess, 37.3ms inference, 2.6ms postprocess per image at shape (1, 3, 480, 640)\n",
      "tensor([], device='cuda:0', size=(0, 6))\n",
      "\n",
      "0: 480x640 (no detections), 37.2ms\n",
      "Speed: 1.1ms preprocess, 37.2ms inference, 2.1ms postprocess per image at shape (1, 3, 480, 640)\n",
      "tensor([], device='cuda:0', size=(0, 6))\n",
      "\n",
      "0: 480x640 (no detections), 37.2ms\n",
      "Speed: 0.9ms preprocess, 37.2ms inference, 2.5ms postprocess per image at shape (1, 3, 480, 640)\n",
      "tensor([], device='cuda:0', size=(0, 6))\n",
      "\n",
      "0: 480x640 (no detections), 37.3ms\n",
      "Speed: 1.0ms preprocess, 37.3ms inference, 2.1ms postprocess per image at shape (1, 3, 480, 640)\n",
      "tensor([], device='cuda:0', size=(0, 6))\n",
      "\n",
      "0: 480x640 (no detections), 37.3ms\n",
      "Speed: 1.0ms preprocess, 37.3ms inference, 3.0ms postprocess per image at shape (1, 3, 480, 640)\n",
      "tensor([], device='cuda:0', size=(0, 6))\n",
      "\n",
      "0: 480x640 (no detections), 37.3ms\n",
      "Speed: 1.5ms preprocess, 37.3ms inference, 15.4ms postprocess per image at shape (1, 3, 480, 640)\n",
      "tensor([], device='cuda:0', size=(0, 6))\n",
      "\n",
      "0: 480x640 (no detections), 37.2ms\n",
      "Speed: 1.1ms preprocess, 37.2ms inference, 4.3ms postprocess per image at shape (1, 3, 480, 640)\n",
      "tensor([], device='cuda:0', size=(0, 6))\n",
      "\n",
      "0: 480x640 (no detections), 37.3ms\n",
      "Speed: 1.5ms preprocess, 37.3ms inference, 4.2ms postprocess per image at shape (1, 3, 480, 640)\n",
      "tensor([], device='cuda:0', size=(0, 6))\n",
      "\n",
      "0: 480x640 (no detections), 37.3ms\n",
      "Speed: 1.4ms preprocess, 37.3ms inference, 3.3ms postprocess per image at shape (1, 3, 480, 640)\n",
      "tensor([], device='cuda:0', size=(0, 6))\n",
      "\n",
      "0: 480x640 (no detections), 37.2ms\n",
      "Speed: 1.0ms preprocess, 37.2ms inference, 3.2ms postprocess per image at shape (1, 3, 480, 640)\n",
      "tensor([], device='cuda:0', size=(0, 6))\n",
      "\n",
      "0: 480x640 (no detections), 37.2ms\n",
      "Speed: 1.1ms preprocess, 37.2ms inference, 3.5ms postprocess per image at shape (1, 3, 480, 640)\n",
      "tensor([], device='cuda:0', size=(0, 6))\n",
      "\n",
      "0: 480x640 (no detections), 37.2ms\n",
      "Speed: 0.9ms preprocess, 37.2ms inference, 4.3ms postprocess per image at shape (1, 3, 480, 640)\n",
      "tensor([], device='cuda:0', size=(0, 6))\n",
      "\n",
      "0: 480x640 (no detections), 37.2ms\n",
      "Speed: 1.1ms preprocess, 37.2ms inference, 3.2ms postprocess per image at shape (1, 3, 480, 640)\n",
      "tensor([], device='cuda:0', size=(0, 6))\n",
      "\n",
      "0: 480x640 (no detections), 37.2ms\n",
      "Speed: 1.1ms preprocess, 37.2ms inference, 3.2ms postprocess per image at shape (1, 3, 480, 640)\n",
      "tensor([], device='cuda:0', size=(0, 6))\n",
      "\n",
      "0: 480x640 (no detections), 37.2ms\n",
      "Speed: 0.9ms preprocess, 37.2ms inference, 3.3ms postprocess per image at shape (1, 3, 480, 640)\n",
      "tensor([], device='cuda:0', size=(0, 6))\n",
      "\n",
      "0: 480x640 (no detections), 37.2ms\n",
      "Speed: 1.0ms preprocess, 37.2ms inference, 5.2ms postprocess per image at shape (1, 3, 480, 640)\n",
      "tensor([], device='cuda:0', size=(0, 6))\n",
      "\n",
      "0: 480x640 (no detections), 37.3ms\n",
      "Speed: 1.1ms preprocess, 37.3ms inference, 3.4ms postprocess per image at shape (1, 3, 480, 640)\n",
      "tensor([], device='cuda:0', size=(0, 6))\n",
      "\n",
      "0: 480x640 (no detections), 37.3ms\n",
      "Speed: 0.9ms preprocess, 37.3ms inference, 4.0ms postprocess per image at shape (1, 3, 480, 640)\n",
      "tensor([], device='cuda:0', size=(0, 6))\n",
      "\n",
      "0: 480x640 (no detections), 37.3ms\n",
      "Speed: 1.0ms preprocess, 37.3ms inference, 3.5ms postprocess per image at shape (1, 3, 480, 640)\n",
      "tensor([], device='cuda:0', size=(0, 6))\n",
      "\n",
      "0: 480x640 (no detections), 37.3ms\n",
      "Speed: 1.2ms preprocess, 37.3ms inference, 3.5ms postprocess per image at shape (1, 3, 480, 640)\n",
      "tensor([], device='cuda:0', size=(0, 6))\n",
      "\n",
      "0: 480x640 (no detections), 37.3ms\n",
      "Speed: 1.0ms preprocess, 37.3ms inference, 3.0ms postprocess per image at shape (1, 3, 480, 640)\n",
      "tensor([], device='cuda:0', size=(0, 6))\n",
      "\n",
      "0: 480x640 (no detections), 37.3ms\n",
      "Speed: 1.1ms preprocess, 37.3ms inference, 2.9ms postprocess per image at shape (1, 3, 480, 640)\n",
      "tensor([], device='cuda:0', size=(0, 6))\n",
      "\n",
      "0: 480x640 (no detections), 37.2ms\n",
      "Speed: 0.9ms preprocess, 37.2ms inference, 3.0ms postprocess per image at shape (1, 3, 480, 640)\n",
      "tensor([], device='cuda:0', size=(0, 6))\n",
      "\n",
      "0: 480x640 (no detections), 37.3ms\n",
      "Speed: 1.0ms preprocess, 37.3ms inference, 4.2ms postprocess per image at shape (1, 3, 480, 640)\n",
      "tensor([], device='cuda:0', size=(0, 6))\n",
      "\n",
      "0: 480x640 1 Ripe, 37.4ms\n",
      "Speed: 1.3ms preprocess, 37.4ms inference, 15.5ms postprocess per image at shape (1, 3, 480, 640)\n",
      "tensor([[1.9531e+02, 4.4105e+02, 2.6392e+02, 4.7988e+02, 3.3935e-01, 1.0000e+00]], device='cuda:0')\n",
      "\n",
      "0: 480x640 (no detections), 37.3ms\n",
      "Speed: 1.1ms preprocess, 37.3ms inference, 2.4ms postprocess per image at shape (1, 3, 480, 640)\n",
      "tensor([], device='cuda:0', size=(0, 6))\n",
      "\n",
      "0: 480x640 (no detections), 37.2ms\n",
      "Speed: 1.1ms preprocess, 37.2ms inference, 2.1ms postprocess per image at shape (1, 3, 480, 640)\n",
      "tensor([], device='cuda:0', size=(0, 6))\n",
      "\n",
      "0: 480x640 (no detections), 37.3ms\n",
      "Speed: 1.2ms preprocess, 37.3ms inference, 2.2ms postprocess per image at shape (1, 3, 480, 640)\n",
      "tensor([], device='cuda:0', size=(0, 6))\n",
      "\n",
      "0: 480x640 (no detections), 37.2ms\n",
      "Speed: 1.0ms preprocess, 37.2ms inference, 3.3ms postprocess per image at shape (1, 3, 480, 640)\n",
      "tensor([], device='cuda:0', size=(0, 6))\n",
      "\n",
      "0: 480x640 (no detections), 37.3ms\n",
      "Speed: 1.2ms preprocess, 37.3ms inference, 2.0ms postprocess per image at shape (1, 3, 480, 640)\n",
      "tensor([], device='cuda:0', size=(0, 6))\n",
      "\n",
      "0: 480x640 (no detections), 37.2ms\n",
      "Speed: 1.2ms preprocess, 37.2ms inference, 2.2ms postprocess per image at shape (1, 3, 480, 640)\n",
      "tensor([], device='cuda:0', size=(0, 6))\n",
      "\n",
      "0: 480x640 (no detections), 37.2ms\n",
      "Speed: 1.1ms preprocess, 37.2ms inference, 1.7ms postprocess per image at shape (1, 3, 480, 640)\n",
      "tensor([], device='cuda:0', size=(0, 6))\n",
      "\n",
      "0: 480x640 (no detections), 37.3ms\n",
      "Speed: 1.2ms preprocess, 37.3ms inference, 2.0ms postprocess per image at shape (1, 3, 480, 640)\n",
      "tensor([], device='cuda:0', size=(0, 6))\n",
      "\n",
      "0: 480x640 (no detections), 37.3ms\n",
      "Speed: 1.1ms preprocess, 37.3ms inference, 2.0ms postprocess per image at shape (1, 3, 480, 640)\n",
      "tensor([], device='cuda:0', size=(0, 6))\n",
      "\n",
      "0: 480x640 1 Ripe, 37.2ms\n",
      "Speed: 1.1ms preprocess, 37.2ms inference, 3.0ms postprocess per image at shape (1, 3, 480, 640)\n",
      "tensor([[173.4884, 408.6840, 240.8833, 479.1113,   0.7700,   1.0000]], device='cuda:0')\n",
      "\n",
      "0: 480x640 1 Ripe, 37.3ms\n",
      "Speed: 1.2ms preprocess, 37.3ms inference, 2.5ms postprocess per image at shape (1, 3, 480, 640)\n",
      "tensor([[179.6003, 411.3489, 246.0008, 479.4108,   0.7535,   1.0000]], device='cuda:0')\n",
      "\n",
      "0: 480x640 1 Ripe, 37.2ms\n",
      "Speed: 1.0ms preprocess, 37.2ms inference, 3.6ms postprocess per image at shape (1, 3, 480, 640)\n",
      "tensor([[181.5627, 411.1631, 247.4018, 479.2961,   0.4936,   1.0000]], device='cuda:0')\n",
      "\n",
      "0: 480x640 1 Ripe, 37.3ms\n",
      "Speed: 1.4ms preprocess, 37.3ms inference, 3.5ms postprocess per image at shape (1, 3, 480, 640)\n",
      "tensor([[182.5533, 404.3984, 248.3926, 474.4422,   0.5790,   1.0000]], device='cuda:0')\n",
      "\n",
      "0: 480x640 1 Ripe, 37.3ms\n",
      "Speed: 1.5ms preprocess, 37.3ms inference, 3.0ms postprocess per image at shape (1, 3, 480, 640)\n",
      "tensor([[1.8181e+02, 4.0116e+02, 2.4794e+02, 4.7159e+02, 4.3320e-01, 1.0000e+00]], device='cuda:0')\n",
      "\n",
      "0: 480x640 1 Ripe, 37.3ms\n",
      "Speed: 1.1ms preprocess, 37.3ms inference, 2.7ms postprocess per image at shape (1, 3, 480, 640)\n",
      "tensor([[1.7617e+02, 3.9471e+02, 2.4253e+02, 4.6686e+02, 3.1010e-01, 1.0000e+00]], device='cuda:0')\n",
      "\n",
      "0: 480x640 1 Ripe, 37.3ms\n",
      "Speed: 1.1ms preprocess, 37.3ms inference, 3.6ms postprocess per image at shape (1, 3, 480, 640)\n",
      "tensor([[168.8913, 391.4174, 235.1995, 459.3788,   0.7979,   1.0000]], device='cuda:0')\n",
      "\n",
      "0: 480x640 (no detections), 37.2ms\n",
      "Speed: 1.3ms preprocess, 37.2ms inference, 2.4ms postprocess per image at shape (1, 3, 480, 640)\n",
      "tensor([], device='cuda:0', size=(0, 6))\n",
      "\n",
      "0: 480x640 1 Ripe, 37.2ms\n",
      "Speed: 1.0ms preprocess, 37.2ms inference, 3.2ms postprocess per image at shape (1, 3, 480, 640)\n",
      "tensor([[161.1967, 377.3884, 227.4982, 446.7652,   0.5748,   1.0000]], device='cuda:0')\n",
      "\n",
      "0: 480x640 1 Ripe, 37.3ms\n",
      "Speed: 1.4ms preprocess, 37.3ms inference, 13.3ms postprocess per image at shape (1, 3, 480, 640)\n",
      "tensor([[156.3804, 369.9916, 222.0681, 436.3694,   0.7102,   1.0000]], device='cuda:0')\n",
      "\n",
      "0: 480x640 1 Ripe, 37.3ms\n",
      "Speed: 1.1ms preprocess, 37.3ms inference, 3.0ms postprocess per image at shape (1, 3, 480, 640)\n",
      "tensor([[155.8471, 361.2438, 220.8258, 424.5214,   0.4793,   1.0000]], device='cuda:0')\n",
      "\n",
      "0: 480x640 1 Ripe, 37.2ms\n",
      "Speed: 0.9ms preprocess, 37.2ms inference, 2.5ms postprocess per image at shape (1, 3, 480, 640)\n",
      "tensor([[155.8280, 354.7001, 220.4943, 420.0592,   0.7752,   1.0000]], device='cuda:0')\n",
      "\n",
      "0: 480x640 1 Ripe, 37.2ms\n",
      "Speed: 1.2ms preprocess, 37.2ms inference, 3.8ms postprocess per image at shape (1, 3, 480, 640)\n",
      "tensor([[154.4548, 346.0436, 217.7987, 411.4072,   0.5538,   1.0000]], device='cuda:0')\n",
      "\n",
      "0: 480x640 1 Ripe, 37.2ms\n",
      "Speed: 1.2ms preprocess, 37.2ms inference, 2.7ms postprocess per image at shape (1, 3, 480, 640)\n",
      "tensor([[1.5378e+02, 3.3745e+02, 2.1615e+02, 4.0028e+02, 2.8168e-01, 1.0000e+00]], device='cuda:0')\n",
      "\n",
      "0: 480x640 1 Ripe, 39.1ms\n",
      "Speed: 1.1ms preprocess, 39.1ms inference, 3.0ms postprocess per image at shape (1, 3, 480, 640)\n",
      "tensor([[152.8514, 331.2456, 214.9235, 393.9950,   0.5355,   1.0000]], device='cuda:0')\n",
      "\n",
      "0: 480x640 (no detections), 37.4ms\n",
      "Speed: 1.6ms preprocess, 37.4ms inference, 2.6ms postprocess per image at shape (1, 3, 480, 640)\n",
      "tensor([], device='cuda:0', size=(0, 6))\n",
      "\n",
      "0: 480x640 (no detections), 37.2ms\n",
      "Speed: 1.1ms preprocess, 37.2ms inference, 2.5ms postprocess per image at shape (1, 3, 480, 640)\n",
      "tensor([], device='cuda:0', size=(0, 6))\n",
      "\n",
      "0: 480x640 (no detections), 37.3ms\n",
      "Speed: 1.0ms preprocess, 37.3ms inference, 3.0ms postprocess per image at shape (1, 3, 480, 640)\n",
      "tensor([], device='cuda:0', size=(0, 6))\n",
      "\n",
      "0: 480x640 (no detections), 37.4ms\n",
      "Speed: 1.5ms preprocess, 37.4ms inference, 2.0ms postprocess per image at shape (1, 3, 480, 640)\n",
      "tensor([], device='cuda:0', size=(0, 6))\n",
      "\n",
      "0: 480x640 (no detections), 37.3ms\n",
      "Speed: 1.4ms preprocess, 37.3ms inference, 2.4ms postprocess per image at shape (1, 3, 480, 640)\n",
      "tensor([], device='cuda:0', size=(0, 6))\n",
      "\n",
      "0: 480x640 (no detections), 37.3ms\n",
      "Speed: 1.3ms preprocess, 37.3ms inference, 1.7ms postprocess per image at shape (1, 3, 480, 640)\n",
      "tensor([], device='cuda:0', size=(0, 6))\n",
      "\n",
      "0: 480x640 (no detections), 37.3ms\n",
      "Speed: 1.3ms preprocess, 37.3ms inference, 1.8ms postprocess per image at shape (1, 3, 480, 640)\n",
      "tensor([], device='cuda:0', size=(0, 6))\n",
      "\n",
      "0: 480x640 1 Ripe, 37.2ms\n",
      "Speed: 1.1ms preprocess, 37.2ms inference, 2.8ms postprocess per image at shape (1, 3, 480, 640)\n",
      "tensor([[122.6010, 207.5624, 183.1648, 269.2577,   0.5358,   1.0000]], device='cuda:0')\n",
      "\n",
      "0: 480x640 1 Unripe, 1 Ripe, 37.2ms\n",
      "Speed: 1.1ms preprocess, 37.2ms inference, 3.1ms postprocess per image at shape (1, 3, 480, 640)\n",
      "tensor([[123.4963, 203.5585, 184.2738, 266.5049,   0.7801,   1.0000],\n",
      "        [123.3461, 203.8863, 184.2424, 266.4743,   0.3145,   0.0000]], device='cuda:0')\n",
      "\n",
      "0: 480x640 1 Ripe, 39.1ms\n",
      "Speed: 1.5ms preprocess, 39.1ms inference, 5.9ms postprocess per image at shape (1, 3, 480, 640)\n",
      "tensor([[125.7796, 200.7978, 186.5619, 265.5256,   0.5189,   1.0000]], device='cuda:0')\n",
      "\n",
      "0: 480x640 1 Ripe, 37.3ms\n",
      "Speed: 1.4ms preprocess, 37.3ms inference, 2.9ms postprocess per image at shape (1, 3, 480, 640)\n",
      "tensor([[127.3951, 201.3815, 187.9639, 264.4497,   0.2968,   1.0000]], device='cuda:0')\n",
      "\n",
      "0: 480x640 1 Ripe, 37.2ms\n",
      "Speed: 1.3ms preprocess, 37.2ms inference, 2.7ms postprocess per image at shape (1, 3, 480, 640)\n",
      "tensor([[131.1212, 202.8484, 191.0682, 266.2857,   0.7667,   1.0000]], device='cuda:0')\n",
      "\n",
      "0: 480x640 1 Ripe, 37.2ms\n",
      "Speed: 1.0ms preprocess, 37.2ms inference, 2.8ms postprocess per image at shape (1, 3, 480, 640)\n",
      "tensor([[135.3702, 205.6436, 194.6146, 268.0915,   0.5605,   1.0000]], device='cuda:0')\n",
      "\n",
      "0: 480x640 1 Unripe, 1 Ripe, 37.2ms\n",
      "Speed: 1.1ms preprocess, 37.2ms inference, 11.5ms postprocess per image at shape (1, 3, 480, 640)\n",
      "tensor([[143.6973, 213.8313, 202.3015, 274.5286,   0.6458,   1.0000],\n",
      "        [143.9682, 214.4968, 202.6927, 275.3363,   0.3973,   0.0000]], device='cuda:0')\n",
      "\n",
      "0: 480x640 1 Ripe, 37.3ms\n",
      "Speed: 1.4ms preprocess, 37.3ms inference, 2.7ms postprocess per image at shape (1, 3, 480, 640)\n",
      "tensor([[150.8176, 220.6814, 208.8801, 282.1350,   0.5035,   1.0000]], device='cuda:0')\n",
      "\n",
      "0: 480x640 1 Ripe, 37.2ms\n",
      "Speed: 1.2ms preprocess, 37.2ms inference, 2.9ms postprocess per image at shape (1, 3, 480, 640)\n",
      "tensor([[156.4593, 224.9296, 214.6436, 286.0904,   0.8202,   1.0000]], device='cuda:0')\n",
      "\n",
      "0: 480x640 1 Ripe, 37.3ms\n",
      "Speed: 1.1ms preprocess, 37.3ms inference, 2.8ms postprocess per image at shape (1, 3, 480, 640)\n",
      "tensor([[160.2625, 224.8959, 217.6507, 287.5800,   0.4126,   1.0000]], device='cuda:0')\n",
      "\n",
      "0: 480x640 1 Ripe, 37.2ms\n",
      "Speed: 1.1ms preprocess, 37.2ms inference, 3.5ms postprocess per image at shape (1, 3, 480, 640)\n",
      "tensor([[161.0612, 225.3510, 218.9740, 287.9544,   0.7274,   1.0000]], device='cuda:0')\n",
      "\n",
      "0: 480x640 1 Ripe, 37.3ms\n",
      "Speed: 1.0ms preprocess, 37.3ms inference, 5.0ms postprocess per image at shape (1, 3, 480, 640)\n",
      "tensor([[162.9534, 226.1123, 220.8262, 287.9139,   0.5186,   1.0000]], device='cuda:0')\n",
      "\n",
      "0: 480x640 1 Unripe, 1 Ripe, 37.4ms\n",
      "Speed: 1.4ms preprocess, 37.4ms inference, 4.0ms postprocess per image at shape (1, 3, 480, 640)\n",
      "tensor([[165.8793, 228.1921, 224.1376, 289.1414,   0.5886,   1.0000],\n",
      "        [165.3923, 228.0510, 224.6446, 288.3770,   0.5689,   0.0000]], device='cuda:0')\n",
      "\n",
      "0: 480x640 1 Unripe, 1 Ripe, 37.3ms\n",
      "Speed: 1.3ms preprocess, 37.3ms inference, 3.7ms postprocess per image at shape (1, 3, 480, 640)\n",
      "tensor([[167.5178, 229.4872, 225.3430, 291.0614,   0.7031,   1.0000],\n",
      "        [167.5996, 229.1440, 226.8941, 290.6365,   0.6192,   0.0000]], device='cuda:0')\n",
      "\n",
      "0: 480x640 1 Unripe, 1 Ripe, 37.3ms\n",
      "Speed: 1.5ms preprocess, 37.3ms inference, 3.1ms postprocess per image at shape (1, 3, 480, 640)\n",
      "tensor([[170.4866, 232.2274, 228.5912, 293.2111,   0.7732,   0.0000],\n",
      "        [171.1228, 232.0930, 228.9686, 293.5540,   0.7403,   1.0000]], device='cuda:0')\n",
      "\n",
      "0: 480x640 1 Unripe, 1 Ripe, 37.3ms\n",
      "Speed: 1.2ms preprocess, 37.3ms inference, 2.8ms postprocess per image at shape (1, 3, 480, 640)\n",
      "tensor([[171.9351, 232.3887, 230.0396, 294.6898,   0.7802,   1.0000],\n",
      "        [171.4716, 233.0040, 229.1423, 295.0936,   0.6580,   0.0000]], device='cuda:0')\n",
      "\n",
      "0: 480x640 1 Unripe, 37.2ms\n",
      "Speed: 1.1ms preprocess, 37.2ms inference, 3.1ms postprocess per image at shape (1, 3, 480, 640)\n",
      "tensor([[173.2812, 234.8257, 231.4392, 297.0681,   0.8032,   0.0000]], device='cuda:0')\n",
      "\n",
      "0: 480x640 1 Unripe, 1 Ripe, 37.3ms\n",
      "Speed: 1.1ms preprocess, 37.3ms inference, 2.8ms postprocess per image at shape (1, 3, 480, 640)\n",
      "tensor([[176.2395, 238.4184, 232.9198, 299.4628,   0.6267,   1.0000],\n",
      "        [175.5476, 239.0184, 233.2177, 299.0647,   0.3972,   0.0000]], device='cuda:0')\n",
      "\n",
      "0: 480x640 1 Ripe, 37.2ms\n",
      "Speed: 1.0ms preprocess, 37.2ms inference, 3.3ms postprocess per image at shape (1, 3, 480, 640)\n",
      "tensor([[176.0431, 239.7148, 232.2600, 301.0726,   0.3913,   1.0000]], device='cuda:0')\n",
      "\n",
      "0: 480x640 1 Ripe, 37.2ms\n",
      "Speed: 1.0ms preprocess, 37.2ms inference, 2.8ms postprocess per image at shape (1, 3, 480, 640)\n",
      "tensor([[175.8033, 239.4482, 231.9954, 300.7356,   0.5541,   1.0000]], device='cuda:0')\n",
      "\n",
      "0: 480x640 1 Unripe, 1 Ripe, 37.2ms\n",
      "Speed: 1.0ms preprocess, 37.2ms inference, 2.9ms postprocess per image at shape (1, 3, 480, 640)\n",
      "tensor([[175.4861, 238.3533, 231.8454, 300.5406,   0.6641,   1.0000],\n",
      "        [174.6108, 239.3273, 231.7158, 299.7292,   0.6290,   0.0000]], device='cuda:0')\n",
      "\n",
      "0: 480x640 1 Unripe, 1 Ripe, 37.3ms\n",
      "Speed: 1.0ms preprocess, 37.3ms inference, 3.1ms postprocess per image at shape (1, 3, 480, 640)\n",
      "tensor([[173.2289, 238.2764, 230.1765, 299.3639,   0.5996,   0.0000],\n",
      "        [174.1793, 237.2089, 230.7063, 299.9022,   0.5469,   1.0000]], device='cuda:0')\n",
      "\n",
      "0: 480x640 1 Unripe, 1 Ripe, 37.3ms\n",
      "Speed: 1.1ms preprocess, 37.3ms inference, 2.8ms postprocess per image at shape (1, 3, 480, 640)\n",
      "tensor([[174.3870, 239.5791, 230.5851, 301.4489,   0.6782,   1.0000],\n",
      "        [173.4290, 240.2726, 230.0122, 300.7339,   0.3720,   0.0000]], device='cuda:0')\n",
      "\n",
      "0: 480x640 1 Unripe, 1 Ripe, 37.3ms\n",
      "Speed: 1.2ms preprocess, 37.3ms inference, 3.4ms postprocess per image at shape (1, 3, 480, 640)\n",
      "tensor([[175.4696, 238.8614, 231.6528, 301.0343,   0.7108,   1.0000],\n",
      "        [174.6163, 239.7427, 231.2928, 300.1111,   0.3837,   0.0000]], device='cuda:0')\n",
      "\n",
      "0: 480x640 1 Unripe, 1 Ripe, 37.3ms\n",
      "Speed: 1.4ms preprocess, 37.3ms inference, 12.5ms postprocess per image at shape (1, 3, 480, 640)\n",
      "tensor([[177.3411, 240.0075, 233.6972, 299.8920,   0.7019,   1.0000],\n",
      "        [176.5572, 239.9556, 233.7299, 299.4054,   0.4680,   0.0000]], device='cuda:0')\n",
      "\n",
      "0: 480x640 1 Unripe, 1 Ripe, 37.3ms\n",
      "Speed: 1.3ms preprocess, 37.3ms inference, 3.8ms postprocess per image at shape (1, 3, 480, 640)\n",
      "tensor([[177.0465, 239.8810, 233.0931, 299.5941,   0.7683,   1.0000],\n",
      "        [176.1578, 239.8772, 233.3024, 299.0787,   0.3215,   0.0000]], device='cuda:0')\n",
      "\n",
      "0: 480x640 1 Unripe, 1 Ripe, 37.2ms\n",
      "Speed: 1.2ms preprocess, 37.2ms inference, 3.4ms postprocess per image at shape (1, 3, 480, 640)\n",
      "tensor([[176.8326, 238.1624, 233.5822, 299.4442,   0.5900,   1.0000],\n",
      "        [176.7713, 238.7560, 234.0102, 299.0364,   0.3624,   0.0000]], device='cuda:0')\n",
      "\n",
      "0: 480x640 1 Unripe, 1 Ripe, 37.3ms\n",
      "Speed: 1.3ms preprocess, 37.3ms inference, 3.3ms postprocess per image at shape (1, 3, 480, 640)\n",
      "tensor([[178.0053, 236.3959, 235.4833, 298.5449,   0.5264,   0.0000],\n",
      "        [178.5308, 236.3592, 235.0631, 298.6157,   0.5133,   1.0000]], device='cuda:0')\n",
      "\n",
      "0: 480x640 1 Unripe, 1 Ripe, 37.3ms\n",
      "Speed: 1.4ms preprocess, 37.3ms inference, 2.9ms postprocess per image at shape (1, 3, 480, 640)\n",
      "tensor([[178.5761, 238.0973, 235.7872, 298.7742,   0.6036,   1.0000],\n",
      "        [178.3196, 238.2489, 235.8379, 299.1197,   0.3886,   0.0000]], device='cuda:0')\n",
      "\n",
      "0: 480x640 1 Unripe, 1 Ripe, 37.3ms\n",
      "Speed: 1.1ms preprocess, 37.3ms inference, 2.6ms postprocess per image at shape (1, 3, 480, 640)\n",
      "tensor([[180.2767, 238.9623, 237.8347, 300.6414,   0.7071,   0.0000],\n",
      "        [181.1852, 238.3778, 237.6873, 300.8747,   0.5981,   1.0000]], device='cuda:0')\n",
      "\n",
      "0: 480x640 1 Unripe, 1 Ripe, 37.3ms\n",
      "Speed: 1.1ms preprocess, 37.3ms inference, 2.8ms postprocess per image at shape (1, 3, 480, 640)\n",
      "tensor([[182.4390, 240.2677, 238.9806, 301.3973,   0.5768,   1.0000],\n",
      "        [182.4121, 239.4054, 239.5014, 301.3588,   0.5226,   0.0000]], device='cuda:0')\n",
      "\n",
      "0: 480x640 1 Unripe, 1 Ripe, 37.2ms\n",
      "Speed: 1.0ms preprocess, 37.2ms inference, 2.8ms postprocess per image at shape (1, 3, 480, 640)\n",
      "tensor([[1.8453e+02, 2.4169e+02, 2.4054e+02, 3.0102e+02, 4.5290e-01, 0.0000e+00],\n",
      "        [1.8456e+02, 2.4075e+02, 2.4019e+02, 3.0118e+02, 2.7072e-01, 1.0000e+00]], device='cuda:0')\n",
      "\n",
      "0: 480x640 (no detections), 37.2ms\n",
      "Speed: 1.0ms preprocess, 37.2ms inference, 2.8ms postprocess per image at shape (1, 3, 480, 640)\n",
      "tensor([], device='cuda:0', size=(0, 6))\n",
      "\n",
      "0: 480x640 1 Unripe, 1 Ripe, 37.3ms\n",
      "Speed: 1.2ms preprocess, 37.3ms inference, 3.6ms postprocess per image at shape (1, 3, 480, 640)\n",
      "tensor([[184.5717, 241.1151, 240.7498, 301.7331,   0.4240,   0.0000],\n",
      "        [184.4081, 240.3906, 240.8024, 301.8927,   0.3746,   1.0000]], device='cuda:0')\n",
      "\n",
      "0: 480x640 1 Unripe, 1 Ripe, 37.3ms\n",
      "Speed: 1.3ms preprocess, 37.3ms inference, 3.5ms postprocess per image at shape (1, 3, 480, 640)\n",
      "tensor([[184.4993, 241.6495, 241.6461, 302.2050,   0.5995,   0.0000],\n",
      "        [184.5880, 242.3004, 240.6583, 302.2421,   0.4406,   1.0000]], device='cuda:0')\n",
      "\n",
      "0: 480x640 1 Unripe, 1 Ripe, 37.3ms\n",
      "Speed: 1.0ms preprocess, 37.3ms inference, 3.2ms postprocess per image at shape (1, 3, 480, 640)\n",
      "tensor([[184.7170, 242.0441, 240.6856, 303.1511,   0.4647,   0.0000],\n",
      "        [184.7782, 241.3160, 240.4011, 303.1649,   0.4144,   1.0000]], device='cuda:0')\n",
      "\n",
      "0: 480x640 1 Unripe, 1 Ripe, 37.2ms\n",
      "Speed: 1.1ms preprocess, 37.2ms inference, 2.7ms postprocess per image at shape (1, 3, 480, 640)\n",
      "tensor([[185.0801, 241.4495, 241.2962, 303.3380,   0.4234,   1.0000],\n",
      "        [184.9199, 242.4875, 241.2380, 303.3196,   0.4076,   0.0000]], device='cuda:0')\n",
      "\n",
      "0: 480x640 1 Ripe, 37.3ms\n",
      "Speed: 1.1ms preprocess, 37.3ms inference, 3.1ms postprocess per image at shape (1, 3, 480, 640)\n",
      "tensor([[185.6573, 240.3930, 241.0497, 300.4814,   0.6556,   1.0000]], device='cuda:0')\n",
      "\n",
      "0: 480x640 1 Unripe, 1 Ripe, 37.2ms\n",
      "Speed: 1.4ms preprocess, 37.2ms inference, 2.7ms postprocess per image at shape (1, 3, 480, 640)\n",
      "tensor([[184.6346, 239.8955, 241.1173, 300.0641,   0.6853,   0.0000],\n",
      "        [184.8449, 239.6992, 240.9443, 300.1669,   0.6546,   1.0000]], device='cuda:0')\n",
      "\n",
      "0: 480x640 1 Ripe, 37.3ms\n",
      "Speed: 1.2ms preprocess, 37.3ms inference, 2.6ms postprocess per image at shape (1, 3, 480, 640)\n",
      "tensor([[184.7478, 239.6676, 240.8529, 300.4200,   0.4492,   1.0000]], device='cuda:0')\n",
      "\n",
      "0: 480x640 1 Unripe, 1 Ripe, 37.3ms\n",
      "Speed: 1.0ms preprocess, 37.3ms inference, 2.8ms postprocess per image at shape (1, 3, 480, 640)\n",
      "tensor([[184.7421, 239.9685, 240.9570, 299.7828,   0.5501,   1.0000],\n",
      "        [184.6348, 240.2678, 241.3769, 299.7973,   0.5312,   0.0000]], device='cuda:0')\n",
      "\n",
      "0: 480x640 1 Unripe, 1 Ripe, 37.3ms\n",
      "Speed: 1.1ms preprocess, 37.3ms inference, 6.6ms postprocess per image at shape (1, 3, 480, 640)\n",
      "tensor([[185.3446, 239.8822, 241.3529, 299.7962,   0.6723,   1.0000],\n",
      "        [184.6550, 240.1328, 242.0857, 299.9040,   0.6546,   0.0000]], device='cuda:0')\n",
      "\n",
      "0: 480x640 1 Unripe, 1 Ripe, 37.3ms\n",
      "Speed: 1.3ms preprocess, 37.3ms inference, 3.6ms postprocess per image at shape (1, 3, 480, 640)\n",
      "tensor([[184.9958, 238.6833, 242.8129, 299.9417,   0.5092,   0.0000],\n",
      "        [185.6007, 238.0812, 241.5313, 299.9180,   0.4291,   1.0000]], device='cuda:0')\n",
      "\n",
      "0: 480x640 1 Unripe, 1 Ripe, 37.2ms\n",
      "Speed: 1.5ms preprocess, 37.2ms inference, 5.1ms postprocess per image at shape (1, 3, 480, 640)\n",
      "tensor([[185.4042, 237.1023, 241.8802, 299.4900,   0.6837,   1.0000],\n",
      "        [185.3075, 237.8060, 243.0670, 299.5308,   0.4482,   0.0000]], device='cuda:0')\n",
      "\n",
      "0: 480x640 1 Unripe, 1 Ripe, 37.3ms\n",
      "Speed: 1.1ms preprocess, 37.3ms inference, 4.0ms postprocess per image at shape (1, 3, 480, 640)\n",
      "tensor([[185.4987, 238.3570, 243.2220, 299.8990,   0.5347,   0.0000],\n",
      "        [185.6650, 237.7292, 242.0556, 299.8782,   0.3537,   1.0000]], device='cuda:0')\n",
      "\n",
      "0: 480x640 1 Unripe, 1 Ripe, 37.2ms\n",
      "Speed: 1.1ms preprocess, 37.2ms inference, 3.9ms postprocess per image at shape (1, 3, 480, 640)\n",
      "tensor([[187.2474, 239.7301, 243.2481, 300.0219,   0.7400,   1.0000],\n",
      "        [186.5480, 239.4719, 243.7975, 300.1233,   0.5401,   0.0000]], device='cuda:0')\n",
      "\n",
      "0: 480x640 1 Unripe, 1 Ripe, 37.2ms\n",
      "Speed: 1.3ms preprocess, 37.2ms inference, 4.7ms postprocess per image at shape (1, 3, 480, 640)\n",
      "tensor([[187.3267, 239.8401, 243.9645, 300.5153,   0.7441,   1.0000],\n",
      "        [186.7915, 239.6697, 244.5942, 300.5001,   0.4948,   0.0000]], device='cuda:0')\n",
      "\n",
      "0: 480x640 1 Unripe, 1 Ripe, 37.2ms\n",
      "Speed: 1.0ms preprocess, 37.2ms inference, 4.1ms postprocess per image at shape (1, 3, 480, 640)\n",
      "tensor([[187.3714, 239.9059, 243.8444, 300.0151,   0.6787,   1.0000],\n",
      "        [186.7640, 239.7039, 244.3712, 300.2103,   0.6257,   0.0000]], device='cuda:0')\n",
      "\n",
      "0: 480x640 1 Unripe, 1 Ripe, 37.3ms\n",
      "Speed: 1.0ms preprocess, 37.3ms inference, 3.9ms postprocess per image at shape (1, 3, 480, 640)\n",
      "tensor([[184.4761, 239.6862, 241.3051, 299.8257,   0.4541,   0.0000],\n",
      "        [184.2094, 239.1071, 240.3566, 299.8086,   0.4303,   1.0000]], device='cuda:0')\n",
      "\n",
      "0: 480x640 1 Unripe, 1 Ripe, 37.2ms\n",
      "Speed: 1.1ms preprocess, 37.2ms inference, 3.8ms postprocess per image at shape (1, 3, 480, 640)\n",
      "tensor([[183.3287, 239.7784, 239.2296, 300.2994,   0.4262,   0.0000],\n",
      "        [183.6023, 239.2458, 238.9584, 300.5711,   0.3989,   1.0000]], device='cuda:0')\n",
      "\n",
      "0: 480x640 1 Unripe, 1 Ripe, 37.2ms\n",
      "Speed: 1.0ms preprocess, 37.2ms inference, 3.9ms postprocess per image at shape (1, 3, 480, 640)\n",
      "tensor([[183.7916, 238.2699, 239.5873, 300.1740,   0.6781,   1.0000],\n",
      "        [183.2033, 239.0771, 239.7264, 300.0934,   0.6626,   0.0000]], device='cuda:0')\n",
      "\n",
      "0: 480x640 1 Unripe, 1 Ripe, 37.2ms\n",
      "Speed: 0.9ms preprocess, 37.2ms inference, 4.2ms postprocess per image at shape (1, 3, 480, 640)\n",
      "tensor([[185.1300, 238.5558, 240.9803, 299.3276,   0.4608,   1.0000],\n",
      "        [184.5678, 239.0993, 241.9568, 299.4507,   0.3630,   0.0000]], device='cuda:0')\n",
      "\n",
      "0: 480x640 1 Unripe, 1 Ripe, 37.3ms\n",
      "Speed: 1.4ms preprocess, 37.3ms inference, 5.8ms postprocess per image at shape (1, 3, 480, 640)\n",
      "tensor([[184.9110, 236.7406, 240.7577, 298.8919,   0.4690,   1.0000],\n",
      "        [185.0129, 237.3803, 242.2082, 298.7977,   0.4497,   0.0000]], device='cuda:0')\n",
      "\n",
      "0: 480x640 1 Unripe, 1 Ripe, 37.2ms\n",
      "Speed: 1.1ms preprocess, 37.2ms inference, 3.5ms postprocess per image at shape (1, 3, 480, 640)\n",
      "tensor([[185.2673, 238.0651, 242.1237, 299.2729,   0.4686,   0.0000],\n",
      "        [185.4942, 237.5863, 241.4304, 298.8670,   0.4239,   1.0000]], device='cuda:0')\n",
      "\n",
      "0: 480x640 1 Unripe, 1 Ripe, 37.2ms\n",
      "Speed: 0.9ms preprocess, 37.2ms inference, 4.6ms postprocess per image at shape (1, 3, 480, 640)\n",
      "tensor([[185.5677, 236.8179, 242.2459, 298.1759,   0.5091,   1.0000],\n",
      "        [185.3525, 237.4211, 242.8725, 298.4246,   0.5048,   0.0000]], device='cuda:0')\n",
      "\n",
      "0: 480x640 1 Unripe, 1 Ripe, 37.3ms\n",
      "Speed: 0.9ms preprocess, 37.3ms inference, 5.5ms postprocess per image at shape (1, 3, 480, 640)\n",
      "tensor([[185.7517, 236.6981, 243.8924, 297.9082,   0.6656,   0.0000],\n",
      "        [185.8562, 236.3648, 242.5740, 298.3024,   0.3471,   1.0000]], device='cuda:0')\n",
      "\n",
      "0: 480x640 1 Unripe, 1 Ripe, 37.2ms\n",
      "Speed: 1.2ms preprocess, 37.2ms inference, 5.1ms postprocess per image at shape (1, 3, 480, 640)\n",
      "tensor([[186.6281, 235.2907, 243.6652, 297.5204,   0.6891,   1.0000],\n",
      "        [186.3383, 236.0090, 244.0799, 297.6609,   0.6502,   0.0000]], device='cuda:0')\n",
      "\n",
      "0: 480x640 1 Unripe, 1 Ripe, 37.2ms\n",
      "Speed: 0.9ms preprocess, 37.2ms inference, 3.5ms postprocess per image at shape (1, 3, 480, 640)\n",
      "tensor([[186.4561, 235.8285, 244.2327, 297.9490,   0.5336,   0.0000],\n",
      "        [186.5974, 235.1653, 243.7617, 297.8681,   0.5292,   1.0000]], device='cuda:0')\n",
      "\n",
      "0: 480x640 1 Unripe, 1 Ripe, 37.3ms\n",
      "Speed: 0.9ms preprocess, 37.3ms inference, 5.7ms postprocess per image at shape (1, 3, 480, 640)\n",
      "tensor([[185.4261, 234.9742, 242.4182, 297.0497,   0.6603,   1.0000],\n",
      "        [185.2922, 235.6588, 243.0797, 296.8788,   0.6352,   0.0000]], device='cuda:0')\n",
      "\n",
      "0: 480x640 1 Unripe, 1 Ripe, 37.3ms\n",
      "Speed: 1.7ms preprocess, 37.3ms inference, 4.3ms postprocess per image at shape (1, 3, 480, 640)\n",
      "tensor([[184.9187, 234.6631, 241.3547, 297.0853,   0.5543,   1.0000],\n",
      "        [184.8071, 235.8250, 241.6138, 297.1358,   0.5496,   0.0000]], device='cuda:0')\n",
      "\n",
      "0: 480x640 1 Unripe, 1 Ripe, 37.3ms\n",
      "Speed: 1.0ms preprocess, 37.3ms inference, 3.4ms postprocess per image at shape (1, 3, 480, 640)\n",
      "tensor([[184.5051, 236.2624, 240.8995, 297.3951,   0.7092,   0.0000],\n",
      "        [184.6106, 235.2125, 240.7784, 297.3732,   0.3800,   1.0000]], device='cuda:0')\n",
      "\n",
      "0: 480x640 1 Unripe, 1 Ripe, 37.3ms\n",
      "Speed: 1.2ms preprocess, 37.3ms inference, 3.8ms postprocess per image at shape (1, 3, 480, 640)\n",
      "tensor([[1.8437e+02, 2.3711e+02, 2.4114e+02, 2.9744e+02, 7.2444e-01, 0.0000e+00],\n",
      "        [1.8430e+02, 2.3634e+02, 2.4116e+02, 2.9723e+02, 2.7477e-01, 1.0000e+00]], device='cuda:0')\n",
      "\n",
      "0: 480x640 1 Unripe, 1 Ripe, 37.3ms\n",
      "Speed: 1.3ms preprocess, 37.3ms inference, 2.5ms postprocess per image at shape (1, 3, 480, 640)\n",
      "tensor([[184.4503, 238.5025, 240.3714, 298.9096,   0.6014,   0.0000],\n",
      "        [184.6309, 237.7052, 239.7651, 298.8039,   0.5043,   1.0000]], device='cuda:0')\n",
      "\n",
      "0: 480x640 1 Unripe, 1 Ripe, 37.2ms\n",
      "Speed: 1.0ms preprocess, 37.2ms inference, 2.6ms postprocess per image at shape (1, 3, 480, 640)\n",
      "tensor([[185.1634, 238.2404, 242.8795, 299.4991,   0.4165,   0.0000],\n",
      "        [185.7528, 238.1100, 241.7219, 298.7942,   0.3912,   1.0000]], device='cuda:0')\n",
      "\n",
      "0: 480x640 1 Unripe, 1 Ripe, 37.2ms\n",
      "Speed: 0.9ms preprocess, 37.2ms inference, 2.7ms postprocess per image at shape (1, 3, 480, 640)\n",
      "tensor([[185.2862, 238.5724, 242.9081, 299.2244,   0.5997,   0.0000],\n",
      "        [185.3319, 237.7449, 241.6983, 299.2199,   0.4415,   1.0000]], device='cuda:0')\n",
      "\n",
      "0: 480x640 1 Unripe, 1 Ripe, 37.2ms\n",
      "Speed: 1.0ms preprocess, 37.2ms inference, 2.5ms postprocess per image at shape (1, 3, 480, 640)\n",
      "tensor([[184.6882, 238.7147, 241.5236, 299.3319,   0.6647,   0.0000],\n",
      "        [184.5882, 237.7962, 240.3754, 299.2959,   0.4108,   1.0000]], device='cuda:0')\n",
      "\n",
      "0: 480x640 1 Unripe, 1 Ripe, 37.2ms\n",
      "Speed: 0.9ms preprocess, 37.2ms inference, 2.6ms postprocess per image at shape (1, 3, 480, 640)\n",
      "tensor([[184.7588, 239.1866, 240.1832, 299.4859,   0.6185,   1.0000],\n",
      "        [184.6147, 239.3497, 240.6035, 299.5892,   0.5635,   0.0000]], device='cuda:0')\n",
      "\n",
      "0: 480x640 1 Unripe, 1 Ripe, 37.2ms\n",
      "Speed: 0.9ms preprocess, 37.2ms inference, 3.8ms postprocess per image at shape (1, 3, 480, 640)\n",
      "tensor([[184.8157, 238.6644, 240.3938, 299.3086,   0.5902,   1.0000],\n",
      "        [184.6372, 238.9299, 240.8386, 299.3480,   0.4272,   0.0000]], device='cuda:0')\n",
      "\n",
      "0: 480x640 1 Unripe, 1 Ripe, 37.3ms\n",
      "Speed: 1.1ms preprocess, 37.3ms inference, 2.9ms postprocess per image at shape (1, 3, 480, 640)\n",
      "tensor([[184.2887, 239.7598, 239.7465, 299.2328,   0.6745,   1.0000],\n",
      "        [184.4934, 239.7515, 240.1163, 299.3734,   0.5450,   0.0000]], device='cuda:0')\n",
      "\n",
      "0: 480x640 1 Unripe, 1 Ripe, 37.2ms\n",
      "Speed: 1.1ms preprocess, 37.2ms inference, 2.7ms postprocess per image at shape (1, 3, 480, 640)\n",
      "tensor([[184.0982, 238.5233, 239.5929, 299.1342,   0.4132,   0.0000],\n",
      "        [184.0002, 238.1896, 239.2453, 299.1066,   0.3119,   1.0000]], device='cuda:0')\n",
      "\n",
      "0: 480x640 1 Unripe, 1 Ripe, 37.2ms\n",
      "Speed: 1.4ms preprocess, 37.2ms inference, 2.9ms postprocess per image at shape (1, 3, 480, 640)\n",
      "tensor([[182.8389, 238.1507, 239.5733, 299.2909,   0.6711,   0.0000],\n",
      "        [183.5316, 237.5567, 239.2027, 299.2817,   0.5359,   1.0000]], device='cuda:0')\n",
      "\n",
      "0: 480x640 1 Unripe, 1 Ripe, 37.2ms\n",
      "Speed: 1.5ms preprocess, 37.2ms inference, 2.7ms postprocess per image at shape (1, 3, 480, 640)\n",
      "tensor([[184.3814, 238.3728, 239.9149, 299.5532,   0.6217,   0.0000],\n",
      "        [184.3055, 237.8573, 239.5737, 299.5262,   0.5643,   1.0000]], device='cuda:0')\n",
      "\n",
      "0: 480x640 1 Unripe, 1 Ripe, 37.2ms\n",
      "Speed: 1.0ms preprocess, 37.2ms inference, 3.1ms postprocess per image at shape (1, 3, 480, 640)\n",
      "tensor([[184.5878, 238.7039, 239.9366, 299.3329,   0.4404,   1.0000],\n",
      "        [184.5880, 238.8999, 240.3008, 299.3744,   0.3376,   0.0000]], device='cuda:0')\n",
      "\n",
      "0: 480x640 1 Unripe, 1 Ripe, 37.3ms\n",
      "Speed: 1.4ms preprocess, 37.3ms inference, 3.2ms postprocess per image at shape (1, 3, 480, 640)\n",
      "tensor([[186.0900, 237.2978, 241.6092, 298.1537,   0.6417,   1.0000],\n",
      "        [185.3666, 237.4928, 242.7374, 298.4718,   0.4265,   0.0000]], device='cuda:0')\n",
      "\n",
      "0: 480x640 1 Unripe, 1 Ripe, 37.3ms\n",
      "Speed: 1.2ms preprocess, 37.3ms inference, 3.7ms postprocess per image at shape (1, 3, 480, 640)\n",
      "tensor([[186.3148, 236.6914, 242.6158, 298.5540,   0.6364,   0.0000],\n",
      "        [186.0767, 235.9940, 242.6519, 298.3139,   0.3697,   1.0000]], device='cuda:0')\n",
      "\n",
      "0: 480x640 1 Unripe, 1 Ripe, 37.2ms\n",
      "Speed: 1.0ms preprocess, 37.2ms inference, 3.3ms postprocess per image at shape (1, 3, 480, 640)\n",
      "tensor([[185.8822, 235.3013, 242.9622, 297.3407,   0.6310,   1.0000],\n",
      "        [185.7385, 235.9218, 243.3633, 297.2021,   0.6275,   0.0000]], device='cuda:0')\n",
      "\n",
      "0: 480x640 1 Unripe, 1 Ripe, 37.3ms\n",
      "Speed: 1.3ms preprocess, 37.3ms inference, 2.8ms postprocess per image at shape (1, 3, 480, 640)\n",
      "tensor([[186.8914, 235.2547, 243.0138, 297.0858,   0.6573,   0.0000],\n",
      "        [186.8285, 234.8176, 243.3197, 296.9272,   0.4562,   1.0000]], device='cuda:0')\n",
      "\n",
      "0: 480x640 1 Unripe, 1 Ripe, 37.3ms\n",
      "Speed: 1.0ms preprocess, 37.3ms inference, 2.9ms postprocess per image at shape (1, 3, 480, 640)\n",
      "tensor([[187.7415, 235.3794, 244.3713, 296.8922,   0.7228,   0.0000],\n",
      "        [187.6475, 234.8017, 244.5478, 296.1538,   0.5613,   1.0000]], device='cuda:0')\n",
      "\n",
      "0: 480x640 1 Unripe, 1 Ripe, 37.2ms\n",
      "Speed: 1.1ms preprocess, 37.2ms inference, 2.8ms postprocess per image at shape (1, 3, 480, 640)\n",
      "tensor([[187.5768, 235.0552, 244.0135, 297.0516,   0.7262,   0.0000],\n",
      "        [187.4609, 234.7207, 244.2757, 296.6315,   0.5697,   1.0000]], device='cuda:0')\n",
      "\n",
      "0: 480x640 1 Unripe, 1 Ripe, 37.2ms\n",
      "Speed: 1.1ms preprocess, 37.2ms inference, 14.0ms postprocess per image at shape (1, 3, 480, 640)\n",
      "tensor([[187.0214, 234.0809, 244.1540, 296.1592,   0.6599,   1.0000],\n",
      "        [186.9751, 234.9105, 244.1681, 295.9070,   0.4713,   0.0000]], device='cuda:0')\n",
      "\n",
      "0: 480x640 1 Unripe, 1 Ripe, 37.3ms\n",
      "Speed: 1.0ms preprocess, 37.3ms inference, 3.4ms postprocess per image at shape (1, 3, 480, 640)\n",
      "tensor([[186.3275, 234.9949, 243.6078, 295.4778,   0.6660,   0.0000],\n",
      "        [186.5965, 233.9986, 243.5061, 295.6804,   0.4909,   1.0000]], device='cuda:0')\n",
      "\n",
      "0: 480x640 1 Unripe, 1 Ripe, 37.3ms\n",
      "Speed: 1.1ms preprocess, 37.3ms inference, 3.8ms postprocess per image at shape (1, 3, 480, 640)\n",
      "tensor([[185.7892, 234.5204, 243.2096, 295.7455,   0.6219,   0.0000],\n",
      "        [186.0692, 233.5916, 243.1578, 296.2189,   0.4800,   1.0000]], device='cuda:0')\n",
      "\n",
      "0: 480x640 1 Unripe, 1 Ripe, 37.3ms\n",
      "Speed: 1.2ms preprocess, 37.3ms inference, 2.7ms postprocess per image at shape (1, 3, 480, 640)\n",
      "tensor([[185.1965, 235.2456, 242.0744, 296.7025,   0.7161,   0.0000],\n",
      "        [185.4280, 234.6159, 241.8490, 296.8183,   0.6409,   1.0000]], device='cuda:0')\n",
      "\n",
      "0: 480x640 1 Unripe, 1 Ripe, 37.3ms\n",
      "Speed: 1.0ms preprocess, 37.3ms inference, 4.0ms postprocess per image at shape (1, 3, 480, 640)\n",
      "tensor([[186.7626, 235.0251, 242.4841, 296.9468,   0.5136,   1.0000],\n",
      "        [186.2674, 235.4018, 243.4385, 296.3460,   0.4883,   0.0000]], device='cuda:0')\n",
      "\n",
      "0: 480x640 1 Unripe, 1 Ripe, 37.4ms\n",
      "Speed: 1.3ms preprocess, 37.4ms inference, 3.2ms postprocess per image at shape (1, 3, 480, 640)\n",
      "tensor([[186.7092, 235.1345, 243.0012, 297.1604,   0.6781,   0.0000],\n",
      "        [186.4865, 234.4590, 243.3139, 297.0099,   0.3925,   1.0000]], device='cuda:0')\n",
      "\n",
      "0: 480x640 1 Unripe, 1 Ripe, 37.3ms\n",
      "Speed: 1.1ms preprocess, 37.3ms inference, 9.0ms postprocess per image at shape (1, 3, 480, 640)\n",
      "tensor([[186.6484, 235.1930, 242.8592, 297.4180,   0.6420,   0.0000],\n",
      "        [186.5440, 234.6363, 243.1953, 297.0739,   0.5573,   1.0000]], device='cuda:0')\n",
      "\n",
      "0: 480x640 1 Unripe, 1 Ripe, 37.4ms\n",
      "Speed: 1.5ms preprocess, 37.4ms inference, 2.8ms postprocess per image at shape (1, 3, 480, 640)\n",
      "tensor([[186.0179, 235.2338, 242.0262, 297.4117,   0.6221,   0.0000],\n",
      "        [185.6414, 234.3832, 242.0411, 297.0151,   0.3890,   1.0000]], device='cuda:0')\n",
      "\n",
      "0: 480x640 1 Unripe, 1 Ripe, 37.2ms\n",
      "Speed: 1.1ms preprocess, 37.2ms inference, 2.7ms postprocess per image at shape (1, 3, 480, 640)\n",
      "tensor([[185.1879, 235.1203, 241.7577, 295.6492,   0.7450,   0.0000],\n",
      "        [185.3322, 234.1560, 241.6278, 296.0814,   0.3194,   1.0000]], device='cuda:0')\n",
      "\n",
      "0: 480x640 1 Unripe, 1 Ripe, 37.3ms\n",
      "Speed: 1.0ms preprocess, 37.3ms inference, 2.5ms postprocess per image at shape (1, 3, 480, 640)\n",
      "tensor([[187.1190, 235.3039, 242.8867, 296.9931,   0.6362,   0.0000],\n",
      "        [187.0828, 234.5520, 243.2926, 296.5390,   0.5074,   1.0000]], device='cuda:0')\n",
      "\n",
      "0: 480x640 1 Unripe, 1 Ripe, 40.2ms\n",
      "Speed: 1.5ms preprocess, 40.2ms inference, 4.3ms postprocess per image at shape (1, 3, 480, 640)\n",
      "tensor([[187.1736, 235.3929, 243.5140, 297.2282,   0.7201,   0.0000],\n",
      "        [187.1844, 234.9302, 243.7943, 296.8496,   0.3353,   1.0000]], device='cuda:0')\n",
      "\n",
      "0: 480x640 1 Unripe, 1 Ripe, 37.3ms\n",
      "Speed: 1.2ms preprocess, 37.3ms inference, 3.9ms postprocess per image at shape (1, 3, 480, 640)\n",
      "tensor([[186.4836, 235.1172, 242.9063, 297.0932,   0.7235,   0.0000],\n",
      "        [186.2239, 234.6618, 243.2263, 296.6781,   0.4635,   1.0000]], device='cuda:0')\n",
      "\n",
      "0: 480x640 1 Unripe, 1 Ripe, 37.3ms\n",
      "Speed: 1.1ms preprocess, 37.3ms inference, 2.8ms postprocess per image at shape (1, 3, 480, 640)\n",
      "tensor([[184.7756, 234.8148, 241.6901, 295.4881,   0.7582,   0.0000],\n",
      "        [185.1997, 233.9028, 241.6221, 295.6766,   0.5197,   1.0000]], device='cuda:0')\n",
      "\n",
      "0: 480x640 1 Unripe, 37.4ms\n",
      "Speed: 1.5ms preprocess, 37.4ms inference, 3.4ms postprocess per image at shape (1, 3, 480, 640)\n",
      "tensor([[184.7062, 234.9972, 242.4720, 295.4264,   0.3239,   0.0000]], device='cuda:0')\n",
      "\n",
      "0: 480x640 1 Unripe, 37.3ms\n",
      "Speed: 1.1ms preprocess, 37.3ms inference, 2.7ms postprocess per image at shape (1, 3, 480, 640)\n",
      "tensor([[185.6024, 233.0723, 241.6274, 295.3802,   0.3487,   0.0000]], device='cuda:0')\n",
      "\n",
      "0: 480x640 1 Unripe, 1 Ripe, 37.3ms\n",
      "Speed: 1.0ms preprocess, 37.3ms inference, 2.7ms postprocess per image at shape (1, 3, 480, 640)\n",
      "tensor([[185.2289, 234.7887, 241.8568, 295.9202,   0.6954,   0.0000],\n",
      "        [185.5793, 233.6678, 241.2919, 296.5128,   0.4314,   1.0000]], device='cuda:0')\n",
      "\n",
      "0: 480x640 1 Unripe, 1 Ripe, 37.2ms\n",
      "Speed: 1.0ms preprocess, 37.2ms inference, 2.9ms postprocess per image at shape (1, 3, 480, 640)\n",
      "tensor([[184.3396, 235.6259, 240.3078, 296.1121,   0.7087,   0.0000],\n",
      "        [184.2697, 234.4128, 240.0960, 296.3688,   0.6213,   1.0000]], device='cuda:0')\n",
      "\n",
      "0: 480x640 1 Unripe, 1 Ripe, 37.3ms\n",
      "Speed: 1.0ms preprocess, 37.3ms inference, 3.3ms postprocess per image at shape (1, 3, 480, 640)\n",
      "tensor([[184.2863, 235.9912, 240.0790, 296.1284,   0.6724,   0.0000],\n",
      "        [184.0461, 234.8087, 240.1638, 296.2613,   0.3791,   1.0000]], device='cuda:0')\n",
      "\n",
      "0: 480x640 1 Unripe, 1 Ripe, 37.2ms\n",
      "Speed: 1.0ms preprocess, 37.2ms inference, 12.8ms postprocess per image at shape (1, 3, 480, 640)\n",
      "tensor([[1.8179e+02, 2.3505e+02, 2.3930e+02, 2.9672e+02, 7.6616e-01, 0.0000e+00],\n",
      "        [1.8244e+02, 2.3492e+02, 2.3893e+02, 2.9616e+02, 2.6373e-01, 1.0000e+00]], device='cuda:0')\n",
      "\n",
      "0: 480x640 1 Unripe, 37.2ms\n",
      "Speed: 1.0ms preprocess, 37.2ms inference, 2.8ms postprocess per image at shape (1, 3, 480, 640)\n",
      "tensor([[181.0879, 234.9961, 238.0186, 296.5512,   0.6918,   0.0000]], device='cuda:0')\n",
      "\n",
      "0: 480x640 1 Unripe, 1 Ripe, 37.3ms\n",
      "Speed: 1.0ms preprocess, 37.3ms inference, 3.6ms postprocess per image at shape (1, 3, 480, 640)\n",
      "tensor([[181.2990, 234.7125, 238.2095, 296.4563,   0.6587,   0.0000],\n",
      "        [181.9861, 234.4890, 238.4317, 296.0802,   0.4285,   1.0000]], device='cuda:0')\n",
      "\n",
      "0: 480x640 1 Unripe, 1 Ripe, 37.3ms\n",
      "Speed: 1.1ms preprocess, 37.3ms inference, 3.5ms postprocess per image at shape (1, 3, 480, 640)\n",
      "tensor([[181.2475, 235.1685, 239.3602, 296.3343,   0.5679,   0.0000],\n",
      "        [182.6592, 234.5797, 238.9671, 296.1252,   0.3575,   1.0000]], device='cuda:0')\n",
      "\n",
      "0: 480x640 1 Unripe, 1 Ripe, 37.3ms\n",
      "Speed: 1.5ms preprocess, 37.3ms inference, 3.1ms postprocess per image at shape (1, 3, 480, 640)\n",
      "tensor([[181.2472, 234.8194, 238.8009, 295.9942,   0.7815,   0.0000],\n",
      "        [182.1082, 234.7446, 238.2872, 295.6595,   0.4910,   1.0000]], device='cuda:0')\n",
      "\n",
      "0: 480x640 1 Unripe, 1 Ripe, 37.2ms\n",
      "Speed: 1.1ms preprocess, 37.2ms inference, 3.1ms postprocess per image at shape (1, 3, 480, 640)\n",
      "tensor([[180.9973, 234.1515, 237.3714, 295.0797,   0.7705,   1.0000],\n",
      "        [180.4669, 234.4639, 237.5336, 295.2029,   0.5875,   0.0000]], device='cuda:0')\n",
      "\n",
      "0: 480x640 1 Unripe, 1 Ripe, 37.3ms\n",
      "Speed: 1.1ms preprocess, 37.3ms inference, 4.1ms postprocess per image at shape (1, 3, 480, 640)\n",
      "tensor([[180.7565, 233.3448, 237.2905, 293.8370,   0.7872,   1.0000],\n",
      "        [179.7534, 233.1413, 237.7366, 293.4217,   0.5432,   0.0000]], device='cuda:0')\n",
      "\n",
      "0: 480x640 1 Unripe, 1 Ripe, 37.2ms\n",
      "Speed: 0.9ms preprocess, 37.2ms inference, 3.2ms postprocess per image at shape (1, 3, 480, 640)\n",
      "tensor([[180.1792, 233.5045, 237.2019, 293.6820,   0.7441,   1.0000],\n",
      "        [179.9181, 233.4655, 237.2237, 293.6073,   0.6712,   0.0000]], device='cuda:0')\n",
      "\n",
      "0: 480x640 1 Unripe, 1 Ripe, 37.3ms\n",
      "Speed: 1.1ms preprocess, 37.3ms inference, 3.0ms postprocess per image at shape (1, 3, 480, 640)\n",
      "tensor([[179.8462, 233.6577, 237.1628, 294.4615,   0.7917,   0.0000],\n",
      "        [180.3370, 233.8250, 236.6945, 294.4722,   0.6316,   1.0000]], device='cuda:0')\n",
      "\n",
      "0: 480x640 1 Unripe, 1 Ripe, 37.2ms\n",
      "Speed: 1.5ms preprocess, 37.2ms inference, 3.1ms postprocess per image at shape (1, 3, 480, 640)\n",
      "tensor([[181.4458, 234.4884, 237.6349, 295.7606,   0.6481,   1.0000],\n",
      "        [180.9279, 234.3354, 237.6478, 295.8327,   0.5547,   0.0000]], device='cuda:0')\n",
      "\n",
      "0: 480x640 1 Unripe, 1 Ripe, 37.2ms\n",
      "Speed: 1.1ms preprocess, 37.2ms inference, 3.0ms postprocess per image at shape (1, 3, 480, 640)\n",
      "tensor([[182.0583, 234.0211, 238.2021, 295.6473,   0.6892,   0.0000],\n",
      "        [182.5579, 234.0418, 238.5116, 295.5146,   0.5663,   1.0000]], device='cuda:0')\n",
      "\n",
      "0: 480x640 1 Unripe, 1 Ripe, 37.2ms\n",
      "Speed: 0.9ms preprocess, 37.2ms inference, 3.2ms postprocess per image at shape (1, 3, 480, 640)\n",
      "tensor([[183.0534, 233.3221, 239.1778, 294.5007,   0.7156,   1.0000],\n",
      "        [182.3508, 234.0378, 238.8954, 294.4734,   0.6413,   0.0000]], device='cuda:0')\n",
      "\n",
      "0: 480x640 1 Unripe, 37.3ms\n",
      "Speed: 1.4ms preprocess, 37.3ms inference, 3.1ms postprocess per image at shape (1, 3, 480, 640)\n",
      "tensor([[183.6819, 231.8825, 239.5097, 292.9206,   0.4824,   0.0000]], device='cuda:0')\n",
      "\n",
      "0: 480x640 1 Unripe, 1 Ripe, 37.2ms\n",
      "Speed: 1.0ms preprocess, 37.2ms inference, 5.5ms postprocess per image at shape (1, 3, 480, 640)\n",
      "tensor([[1.8308e+02, 2.3105e+02, 2.3931e+02, 2.9221e+02, 6.4392e-01, 0.0000e+00],\n",
      "        [1.8343e+02, 2.2951e+02, 2.3930e+02, 2.9162e+02, 2.7758e-01, 1.0000e+00]], device='cuda:0')\n",
      "\n",
      "0: 480x640 1 Unripe, 1 Ripe, 37.4ms\n",
      "Speed: 1.4ms preprocess, 37.4ms inference, 4.0ms postprocess per image at shape (1, 3, 480, 640)\n",
      "tensor([[182.2562, 231.2740, 238.9913, 292.6372,   0.7015,   0.0000],\n",
      "        [182.9344, 229.9946, 239.0739, 292.3599,   0.3406,   1.0000]], device='cuda:0')\n",
      "\n",
      "0: 480x640 1 Unripe, 1 Ripe, 37.3ms\n",
      "Speed: 1.2ms preprocess, 37.3ms inference, 5.4ms postprocess per image at shape (1, 3, 480, 640)\n",
      "tensor([[180.7847, 232.8663, 237.9490, 292.9459,   0.7280,   0.0000],\n",
      "        [181.5246, 231.7437, 238.0845, 292.5588,   0.5269,   1.0000]], device='cuda:0')\n",
      "\n",
      "0: 480x640 1 Unripe, 1 Ripe, 37.3ms\n",
      "Speed: 1.4ms preprocess, 37.3ms inference, 4.2ms postprocess per image at shape (1, 3, 480, 640)\n",
      "tensor([[180.4892, 233.3959, 237.7921, 293.8252,   0.7433,   0.0000],\n",
      "        [180.8990, 233.1923, 237.8896, 294.0034,   0.5389,   1.0000]], device='cuda:0')\n",
      "\n",
      "0: 480x640 1 Unripe, 1 Ripe, 37.4ms\n",
      "Speed: 1.1ms preprocess, 37.4ms inference, 4.3ms postprocess per image at shape (1, 3, 480, 640)\n",
      "tensor([[180.9969, 234.0530, 238.4769, 295.1907,   0.6512,   1.0000],\n",
      "        [180.5284, 234.4242, 238.2144, 295.2445,   0.6278,   0.0000]], device='cuda:0')\n",
      "\n",
      "0: 480x640 1 Unripe, 1 Ripe, 37.2ms\n",
      "Speed: 1.1ms preprocess, 37.2ms inference, 3.5ms postprocess per image at shape (1, 3, 480, 640)\n",
      "tensor([[180.9073, 234.6532, 238.3769, 295.4911,   0.6941,   0.0000],\n",
      "        [181.4742, 234.3163, 238.6827, 295.3105,   0.5804,   1.0000]], device='cuda:0')\n",
      "\n",
      "0: 480x640 1 Unripe, 1 Ripe, 37.3ms\n",
      "Speed: 0.9ms preprocess, 37.3ms inference, 3.0ms postprocess per image at shape (1, 3, 480, 640)\n",
      "tensor([[182.3468, 232.8289, 238.3464, 293.5644,   0.6974,   1.0000],\n",
      "        [181.3853, 233.3842, 238.0313, 293.6224,   0.6201,   0.0000]], device='cuda:0')\n",
      "\n",
      "0: 480x640 1 Unripe, 1 Ripe, 37.2ms\n",
      "Speed: 0.9ms preprocess, 37.2ms inference, 2.6ms postprocess per image at shape (1, 3, 480, 640)\n",
      "tensor([[181.9397, 231.7197, 238.3798, 292.7494,   0.7449,   1.0000],\n",
      "        [180.6823, 232.4485, 238.2687, 292.2358,   0.5497,   0.0000]], device='cuda:0')\n",
      "\n",
      "0: 480x640 1 Unripe, 1 Ripe, 37.2ms\n",
      "Speed: 0.9ms preprocess, 37.2ms inference, 2.8ms postprocess per image at shape (1, 3, 480, 640)\n",
      "tensor([[179.6642, 233.4315, 236.9654, 293.5948,   0.7326,   0.0000],\n",
      "        [180.0785, 233.1673, 236.8714, 293.6805,   0.7050,   1.0000]], device='cuda:0')\n",
      "\n",
      "0: 480x640 1 Unripe, 1 Ripe, 37.2ms\n",
      "Speed: 1.0ms preprocess, 37.2ms inference, 3.0ms postprocess per image at shape (1, 3, 480, 640)\n",
      "tensor([[180.1890, 234.5651, 236.4679, 295.0695,   0.7679,   1.0000],\n",
      "        [179.4644, 234.3814, 237.0677, 295.5283,   0.6472,   0.0000]], device='cuda:0')\n",
      "\n",
      "0: 480x640 1 Unripe, 1 Ripe, 37.3ms\n",
      "Speed: 1.3ms preprocess, 37.3ms inference, 2.8ms postprocess per image at shape (1, 3, 480, 640)\n",
      "tensor([[180.9000, 235.8702, 236.7549, 295.8926,   0.6980,   1.0000],\n",
      "        [180.4012, 235.7442, 236.7080, 296.7967,   0.6885,   0.0000]], device='cuda:0')\n",
      "\n",
      "0: 480x640 1 Unripe, 1 Ripe, 37.2ms\n",
      "Speed: 1.3ms preprocess, 37.2ms inference, 2.6ms postprocess per image at shape (1, 3, 480, 640)\n",
      "tensor([[179.9130, 235.8505, 237.3023, 297.5613,   0.8543,   0.0000],\n",
      "        [180.6624, 236.1725, 236.8526, 296.3435,   0.5025,   1.0000]], device='cuda:0')\n",
      "\n",
      "0: 480x640 1 Unripe, 1 Ripe, 37.2ms\n",
      "Speed: 1.1ms preprocess, 37.2ms inference, 2.6ms postprocess per image at shape (1, 3, 480, 640)\n",
      "tensor([[180.1810, 235.8120, 237.0723, 297.2266,   0.7801,   0.0000],\n",
      "        [180.7493, 235.9178, 236.9778, 296.4489,   0.5475,   1.0000]], device='cuda:0')\n",
      "\n",
      "0: 480x640 1 Unripe, 1 Ripe, 37.2ms\n",
      "Speed: 1.0ms preprocess, 37.2ms inference, 2.8ms postprocess per image at shape (1, 3, 480, 640)\n",
      "tensor([[179.4840, 235.0082, 237.2432, 296.3134,   0.7412,   0.0000],\n",
      "        [180.2758, 235.0638, 236.7044, 295.6826,   0.5646,   1.0000]], device='cuda:0')\n",
      "\n",
      "0: 480x640 1 Unripe, 1 Ripe, 37.2ms\n",
      "Speed: 1.0ms preprocess, 37.2ms inference, 3.2ms postprocess per image at shape (1, 3, 480, 640)\n",
      "tensor([[179.4884, 234.6075, 237.1787, 295.1596,   0.7676,   0.0000],\n",
      "        [180.1470, 234.7595, 236.6468, 294.8082,   0.7415,   1.0000]], device='cuda:0')\n",
      "\n",
      "0: 480x640 1 Unripe, 1 Ripe, 37.2ms\n",
      "Speed: 1.7ms preprocess, 37.2ms inference, 3.1ms postprocess per image at shape (1, 3, 480, 640)\n",
      "tensor([[179.0251, 234.1967, 236.5167, 295.2148,   0.8176,   0.0000],\n",
      "        [179.9682, 234.2983, 236.1008, 294.9134,   0.6214,   1.0000]], device='cuda:0')\n",
      "\n",
      "0: 480x640 1 Unripe, 1 Ripe, 37.3ms\n",
      "Speed: 1.1ms preprocess, 37.3ms inference, 3.5ms postprocess per image at shape (1, 3, 480, 640)\n",
      "tensor([[179.0166, 234.7640, 236.9393, 296.3484,   0.8226,   0.0000],\n",
      "        [179.9122, 234.8365, 236.3679, 295.8972,   0.6420,   1.0000]], device='cuda:0')\n",
      "\n",
      "0: 480x640 1 Unripe, 1 Ripe, 37.2ms\n",
      "Speed: 1.0ms preprocess, 37.2ms inference, 3.5ms postprocess per image at shape (1, 3, 480, 640)\n",
      "tensor([[179.2233, 235.3883, 237.0103, 297.3232,   0.7566,   0.0000],\n",
      "        [180.0186, 235.4973, 236.6929, 296.3704,   0.4747,   1.0000]], device='cuda:0')\n",
      "\n",
      "0: 480x640 1 Unripe, 1 Ripe, 37.3ms\n",
      "Speed: 1.0ms preprocess, 37.3ms inference, 2.8ms postprocess per image at shape (1, 3, 480, 640)\n",
      "tensor([[180.4200, 235.3136, 237.5547, 297.5468,   0.7935,   0.0000],\n",
      "        [180.9397, 235.3646, 237.5986, 296.6750,   0.3997,   1.0000]], device='cuda:0')\n",
      "\n",
      "0: 480x640 1 Unripe, 1 Ripe, 37.3ms\n",
      "Speed: 1.6ms preprocess, 37.3ms inference, 3.1ms postprocess per image at shape (1, 3, 480, 640)\n",
      "tensor([[181.4495, 235.0453, 238.3725, 296.4173,   0.6845,   1.0000],\n",
      "        [180.8085, 235.3659, 238.1031, 297.1678,   0.5696,   0.0000]], device='cuda:0')\n",
      "\n",
      "0: 480x640 1 Unripe, 1 Ripe, 37.3ms\n",
      "Speed: 1.4ms preprocess, 37.3ms inference, 2.7ms postprocess per image at shape (1, 3, 480, 640)\n",
      "tensor([[181.0316, 234.8628, 238.7804, 296.0859,   0.7842,   0.0000],\n",
      "        [181.9019, 234.7257, 238.1439, 295.8134,   0.6039,   1.0000]], device='cuda:0')\n",
      "\n",
      "0: 480x640 1 Unripe, 1 Ripe, 37.2ms\n",
      "Speed: 1.0ms preprocess, 37.2ms inference, 2.4ms postprocess per image at shape (1, 3, 480, 640)\n",
      "tensor([[181.9432, 233.8456, 238.4459, 294.8287,   0.5850,   1.0000],\n",
      "        [181.3568, 234.5694, 238.1362, 294.8958,   0.5567,   0.0000]], device='cuda:0')\n",
      "\n",
      "0: 480x640 1 Unripe, 1 Ripe, 37.3ms\n",
      "Speed: 1.0ms preprocess, 37.3ms inference, 4.4ms postprocess per image at shape (1, 3, 480, 640)\n",
      "tensor([[181.3325, 233.5343, 238.4174, 294.8898,   0.7451,   0.0000],\n",
      "        [182.3251, 232.7252, 238.7307, 294.8634,   0.4610,   1.0000]], device='cuda:0')\n",
      "\n",
      "0: 480x640 1 Unripe, 1 Ripe, 37.4ms\n",
      "Speed: 1.7ms preprocess, 37.4ms inference, 3.0ms postprocess per image at shape (1, 3, 480, 640)\n",
      "tensor([[180.6593, 234.2653, 237.3574, 295.0093,   0.7623,   1.0000],\n",
      "        [180.0630, 233.8981, 237.8890, 294.8813,   0.7349,   0.0000]], device='cuda:0')\n",
      "\n",
      "0: 480x640 1 Unripe, 1 Ripe, 37.3ms\n",
      "Speed: 1.2ms preprocess, 37.3ms inference, 13.8ms postprocess per image at shape (1, 3, 480, 640)\n",
      "tensor([[178.8837, 234.8571, 236.5389, 296.2815,   0.8061,   0.0000],\n",
      "        [179.8268, 234.8971, 236.2126, 295.6369,   0.6352,   1.0000]], device='cuda:0')\n",
      "\n",
      "0: 480x640 1 Unripe, 1 Ripe, 37.2ms\n",
      "Speed: 1.1ms preprocess, 37.2ms inference, 2.4ms postprocess per image at shape (1, 3, 480, 640)\n",
      "tensor([[178.2883, 234.7221, 236.3860, 297.1362,   0.7784,   0.0000],\n",
      "        [179.3341, 234.6883, 236.0114, 296.3193,   0.5907,   1.0000]], device='cuda:0')\n",
      "\n",
      "0: 480x640 1 Unripe, 1 Ripe, 37.2ms\n",
      "Speed: 1.0ms preprocess, 37.2ms inference, 2.7ms postprocess per image at shape (1, 3, 480, 640)\n",
      "tensor([[177.7451, 234.8289, 235.4991, 297.7897,   0.6851,   0.0000],\n",
      "        [178.7477, 234.7504, 235.0698, 296.8361,   0.6751,   1.0000]], device='cuda:0')\n",
      "\n",
      "0: 480x640 1 Unripe, 1 Ripe, 37.3ms\n",
      "Speed: 1.0ms preprocess, 37.3ms inference, 3.0ms postprocess per image at shape (1, 3, 480, 640)\n",
      "tensor([[178.4540, 235.5149, 236.7388, 297.9006,   0.6896,   0.0000],\n",
      "        [179.3926, 235.3198, 236.2459, 297.2993,   0.5502,   1.0000]], device='cuda:0')\n",
      "\n",
      "0: 480x640 1 Unripe, 1 Ripe, 37.3ms\n",
      "Speed: 1.3ms preprocess, 37.3ms inference, 5.5ms postprocess per image at shape (1, 3, 480, 640)\n",
      "tensor([[178.9557, 236.1055, 236.8858, 298.5135,   0.7736,   0.0000],\n",
      "        [179.7304, 235.9530, 236.4546, 297.8901,   0.3437,   1.0000]], device='cuda:0')\n",
      "\n",
      "0: 480x640 1 Unripe, 1 Ripe, 37.3ms\n",
      "Speed: 1.6ms preprocess, 37.3ms inference, 2.9ms postprocess per image at shape (1, 3, 480, 640)\n",
      "tensor([[180.8866, 235.8711, 238.0706, 297.7811,   0.7903,   0.0000],\n",
      "        [182.6056, 236.0385, 237.9832, 298.0978,   0.4821,   1.0000]], device='cuda:0')\n",
      "\n",
      "0: 480x640 1 Unripe, 1 Ripe, 37.3ms\n",
      "Speed: 1.1ms preprocess, 37.3ms inference, 3.0ms postprocess per image at shape (1, 3, 480, 640)\n",
      "tensor([[183.0490, 237.2470, 238.5648, 299.1474,   0.5721,   1.0000],\n",
      "        [182.3120, 237.6384, 238.6205, 299.1128,   0.4227,   0.0000]], device='cuda:0')\n",
      "\n",
      "0: 480x640 1 Unripe, 1 Ripe, 37.3ms\n",
      "Speed: 1.2ms preprocess, 37.3ms inference, 2.9ms postprocess per image at shape (1, 3, 480, 640)\n",
      "tensor([[183.3953, 237.5581, 239.5467, 299.0911,   0.4177,   0.0000],\n",
      "        [183.5458, 237.0354, 239.3143, 299.0474,   0.3287,   1.0000]], device='cuda:0')\n",
      "\n",
      "0: 480x640 1 Unripe, 1 Ripe, 37.2ms\n",
      "Speed: 1.0ms preprocess, 37.2ms inference, 3.5ms postprocess per image at shape (1, 3, 480, 640)\n",
      "tensor([[184.5480, 238.8790, 239.6041, 299.4585,   0.7445,   1.0000],\n",
      "        [184.5643, 239.0162, 239.8526, 299.4551,   0.6646,   0.0000]], device='cuda:0')\n",
      "\n",
      "0: 480x640 1 Unripe, 1 Ripe, 37.3ms\n",
      "Speed: 1.0ms preprocess, 37.3ms inference, 3.1ms postprocess per image at shape (1, 3, 480, 640)\n",
      "tensor([[183.0008, 238.8289, 238.5094, 299.6572,   0.4149,   0.0000],\n",
      "        [183.3876, 238.5607, 238.6212, 299.6904,   0.3261,   1.0000]], device='cuda:0')\n",
      "\n",
      "0: 480x640 1 Unripe, 1 Ripe, 37.3ms\n",
      "Speed: 1.8ms preprocess, 37.3ms inference, 2.9ms postprocess per image at shape (1, 3, 480, 640)\n",
      "tensor([[179.9835, 240.5691, 237.9612, 299.9829,   0.7547,   0.0000],\n",
      "        [181.2430, 240.6723, 237.3606, 300.1216,   0.5923,   1.0000]], device='cuda:0')\n",
      "\n",
      "0: 480x640 1 Unripe, 1 Ripe, 37.3ms\n",
      "Speed: 1.0ms preprocess, 37.3ms inference, 2.9ms postprocess per image at shape (1, 3, 480, 640)\n",
      "tensor([[181.2499, 240.8556, 236.4841, 300.8846,   0.7445,   1.0000],\n",
      "        [180.1235, 241.0438, 237.0479, 300.7469,   0.7231,   0.0000]], device='cuda:0')\n",
      "\n",
      "0: 480x640 1 Unripe, 1 Ripe, 37.3ms\n",
      "Speed: 1.1ms preprocess, 37.3ms inference, 2.7ms postprocess per image at shape (1, 3, 480, 640)\n",
      "tensor([[181.1923, 241.7618, 236.7453, 301.1410,   0.7363,   1.0000],\n",
      "        [180.3752, 242.0527, 237.1983, 300.6680,   0.5213,   0.0000]], device='cuda:0')\n",
      "\n",
      "0: 480x640 1 Unripe, 1 Ripe, 37.2ms\n",
      "Speed: 1.2ms preprocess, 37.2ms inference, 2.8ms postprocess per image at shape (1, 3, 480, 640)\n",
      "tensor([[180.5611, 242.4401, 236.2041, 301.7048,   0.8124,   1.0000],\n",
      "        [180.0412, 242.9420, 236.6750, 301.3710,   0.4839,   0.0000]], device='cuda:0')\n",
      "\n",
      "0: 480x640 1 Unripe, 1 Ripe, 40.7ms\n",
      "Speed: 1.3ms preprocess, 40.7ms inference, 6.7ms postprocess per image at shape (1, 3, 480, 640)\n",
      "tensor([[180.1675, 242.3666, 236.2108, 301.8319,   0.7780,   1.0000],\n",
      "        [179.6886, 242.8408, 236.6856, 301.4756,   0.5675,   0.0000]], device='cuda:0')\n",
      "\n",
      "0: 480x640 1 Unripe, 1 Ripe, 37.3ms\n",
      "Speed: 1.7ms preprocess, 37.3ms inference, 3.0ms postprocess per image at shape (1, 3, 480, 640)\n",
      "tensor([[181.0634, 242.1627, 236.9406, 301.8883,   0.7158,   1.0000],\n",
      "        [180.3558, 242.2598, 237.4258, 301.3827,   0.5336,   0.0000]], device='cuda:0')\n",
      "\n",
      "0: 480x640 1 Unripe, 1 Ripe, 37.3ms\n",
      "Speed: 1.2ms preprocess, 37.3ms inference, 3.1ms postprocess per image at shape (1, 3, 480, 640)\n",
      "tensor([[181.1647, 241.8208, 237.0380, 301.6504,   0.7968,   1.0000],\n",
      "        [180.2381, 241.4781, 237.5144, 301.1480,   0.5864,   0.0000]], device='cuda:0')\n",
      "\n",
      "0: 480x640 1 Unripe, 1 Ripe, 37.2ms\n",
      "Speed: 1.1ms preprocess, 37.2ms inference, 3.7ms postprocess per image at shape (1, 3, 480, 640)\n",
      "tensor([[180.8581, 241.7496, 236.3548, 301.1810,   0.7569,   1.0000],\n",
      "        [180.0196, 241.3586, 236.8849, 300.7651,   0.6525,   0.0000]], device='cuda:0')\n",
      "\n",
      "0: 480x640 1 Unripe, 1 Ripe, 37.3ms\n",
      "Speed: 1.1ms preprocess, 37.3ms inference, 17.9ms postprocess per image at shape (1, 3, 480, 640)\n",
      "tensor([[180.6171, 241.4749, 236.1728, 300.8924,   0.7829,   1.0000],\n",
      "        [179.7094, 240.8398, 236.7161, 300.5723,   0.5984,   0.0000]], device='cuda:0')\n",
      "\n",
      "0: 480x640 1 Unripe, 1 Ripe, 37.3ms\n",
      "Speed: 1.5ms preprocess, 37.3ms inference, 3.1ms postprocess per image at shape (1, 3, 480, 640)\n",
      "tensor([[180.1989, 241.6099, 235.5979, 300.3271,   0.8078,   1.0000],\n",
      "        [179.2235, 240.9485, 236.4101, 299.8975,   0.6553,   0.0000]], device='cuda:0')\n",
      "\n",
      "0: 480x640 1 Unripe, 1 Ripe, 37.3ms\n",
      "Speed: 1.1ms preprocess, 37.3ms inference, 3.0ms postprocess per image at shape (1, 3, 480, 640)\n",
      "tensor([[179.2740, 240.8358, 235.0085, 300.2071,   0.7465,   1.0000],\n",
      "        [178.5316, 240.5208, 234.9114, 299.7525,   0.3924,   0.0000]], device='cuda:0')\n",
      "\n",
      "0: 480x640 1 Unripe, 1 Ripe, 37.3ms\n",
      "Speed: 1.1ms preprocess, 37.3ms inference, 3.3ms postprocess per image at shape (1, 3, 480, 640)\n",
      "tensor([[178.9774, 240.7593, 234.5094, 300.6814,   0.7503,   1.0000],\n",
      "        [178.1496, 240.8259, 235.1240, 300.4227,   0.4240,   0.0000]], device='cuda:0')\n",
      "\n",
      "0: 480x640 1 Unripe, 1 Ripe, 37.2ms\n",
      "Speed: 1.1ms preprocess, 37.2ms inference, 3.4ms postprocess per image at shape (1, 3, 480, 640)\n",
      "tensor([[179.4037, 240.6022, 235.2324, 300.9312,   0.6569,   1.0000],\n",
      "        [178.5841, 240.5129, 235.6477, 300.6566,   0.5165,   0.0000]], device='cuda:0')\n",
      "\n",
      "0: 480x640 1 Unripe, 1 Ripe, 37.4ms\n",
      "Speed: 1.5ms preprocess, 37.4ms inference, 2.9ms postprocess per image at shape (1, 3, 480, 640)\n",
      "tensor([[179.1907, 243.6692, 235.5391, 302.3089,   0.7240,   0.0000],\n",
      "        [179.6885, 242.6915, 235.3685, 302.7830,   0.3888,   1.0000]], device='cuda:0')\n",
      "\n",
      "0: 480x640 1 Unripe, 1 Ripe, 37.2ms\n",
      "Speed: 1.0ms preprocess, 37.2ms inference, 3.4ms postprocess per image at shape (1, 3, 480, 640)\n",
      "tensor([[179.2379, 242.6516, 234.9882, 303.2892,   0.6370,   1.0000],\n",
      "        [178.6858, 243.7055, 235.2513, 302.8377,   0.5762,   0.0000]], device='cuda:0')\n",
      "\n",
      "0: 480x640 1 Unripe, 1 Ripe, 37.2ms\n",
      "Speed: 1.0ms preprocess, 37.2ms inference, 3.7ms postprocess per image at shape (1, 3, 480, 640)\n",
      "tensor([[178.4497, 242.6623, 233.4712, 303.1052,   0.6570,   1.0000],\n",
      "        [177.9565, 243.6930, 233.4946, 302.6668,   0.4355,   0.0000]], device='cuda:0')\n",
      "\n",
      "0: 480x640 1 Unripe, 1 Ripe, 37.3ms\n",
      "Speed: 1.0ms preprocess, 37.3ms inference, 3.3ms postprocess per image at shape (1, 3, 480, 640)\n",
      "tensor([[177.8092, 242.5052, 233.1012, 302.9923,   0.7869,   1.0000],\n",
      "        [177.1509, 243.2267, 232.9640, 302.6748,   0.4370,   0.0000]], device='cuda:0')\n",
      "\n",
      "0: 480x640 1 Unripe, 1 Ripe, 37.3ms\n",
      "Speed: 1.0ms preprocess, 37.3ms inference, 2.8ms postprocess per image at shape (1, 3, 480, 640)\n",
      "tensor([[177.6426, 242.1768, 232.6577, 303.6758,   0.5248,   1.0000],\n",
      "        [177.2309, 243.6260, 232.6906, 303.2554,   0.4809,   0.0000]], device='cuda:0')\n",
      "\n",
      "0: 480x640 1 Unripe, 1 Ripe, 37.3ms\n",
      "Speed: 1.6ms preprocess, 37.3ms inference, 3.3ms postprocess per image at shape (1, 3, 480, 640)\n",
      "tensor([[179.1612, 242.2948, 234.8237, 302.8854,   0.7221,   1.0000],\n",
      "        [178.7156, 243.5837, 235.2272, 302.5721,   0.5182,   0.0000]], device='cuda:0')\n",
      "\n",
      "0: 480x640 1 Unripe, 1 Ripe, 37.3ms\n",
      "Speed: 1.5ms preprocess, 37.3ms inference, 3.0ms postprocess per image at shape (1, 3, 480, 640)\n",
      "tensor([[179.4342, 242.4587, 234.7986, 302.9601,   0.5676,   1.0000],\n",
      "        [178.9681, 243.5606, 235.1100, 302.6424,   0.4263,   0.0000]], device='cuda:0')\n",
      "\n",
      "0: 480x640 1 Unripe, 1 Ripe, 37.3ms\n",
      "Speed: 1.1ms preprocess, 37.3ms inference, 3.4ms postprocess per image at shape (1, 3, 480, 640)\n",
      "tensor([[178.2805, 246.9475, 233.9306, 304.8542,   0.7004,   0.0000],\n",
      "        [178.9060, 246.3364, 232.9058, 305.7827,   0.6119,   1.0000]], device='cuda:0')\n",
      "\n",
      "0: 480x640 1 Unripe, 1 Ripe, 37.3ms\n",
      "Speed: 1.2ms preprocess, 37.3ms inference, 2.5ms postprocess per image at shape (1, 3, 480, 640)\n",
      "tensor([[178.1823, 248.2490, 234.2624, 305.4012,   0.6674,   0.0000],\n",
      "        [178.6144, 247.7743, 233.2206, 306.3188,   0.5914,   1.0000]], device='cuda:0')\n",
      "\n",
      "0: 480x640 1 Unripe, 1 Ripe, 37.3ms\n",
      "Speed: 1.4ms preprocess, 37.3ms inference, 3.1ms postprocess per image at shape (1, 3, 480, 640)\n",
      "tensor([[179.2630, 250.2933, 233.8766, 308.0791,   0.8184,   1.0000],\n",
      "        [178.5204, 250.4037, 233.9664, 308.4510,   0.6126,   0.0000]], device='cuda:0')\n",
      "\n",
      "0: 480x640 1 Unripe, 1 Ripe, 38.1ms\n",
      "Speed: 1.2ms preprocess, 38.1ms inference, 3.6ms postprocess per image at shape (1, 3, 480, 640)\n",
      "tensor([[179.4990, 251.0728, 235.6570, 312.1069,   0.8655,   0.0000],\n",
      "        [180.3199, 251.3851, 235.2473, 311.4785,   0.5205,   1.0000]], device='cuda:0')\n",
      "\n",
      "0: 480x640 1 Unripe, 1 Ripe, 37.3ms\n",
      "Speed: 1.3ms preprocess, 37.3ms inference, 3.1ms postprocess per image at shape (1, 3, 480, 640)\n",
      "tensor([[1.8066e+02, 2.5350e+02, 2.3596e+02, 3.1298e+02, 8.6606e-01, 0.0000e+00],\n",
      "        [1.8168e+02, 2.5324e+02, 2.3599e+02, 3.1220e+02, 2.5703e-01, 1.0000e+00]], device='cuda:0')\n",
      "\n",
      "0: 480x640 1 Unripe, 1 Ripe, 37.3ms\n",
      "Speed: 1.0ms preprocess, 37.3ms inference, 4.0ms postprocess per image at shape (1, 3, 480, 640)\n",
      "tensor([[183.5835, 255.7642, 237.1996, 314.2233,   0.6952,   1.0000],\n",
      "        [182.9355, 255.6037, 237.1395, 314.0638,   0.6852,   0.0000]], device='cuda:0')\n",
      "\n",
      "0: 480x640 1 Unripe, 1 Ripe, 37.3ms\n",
      "Speed: 1.2ms preprocess, 37.3ms inference, 3.7ms postprocess per image at shape (1, 3, 480, 640)\n",
      "tensor([[183.2497, 255.2364, 236.7977, 314.1933,   0.5842,   0.0000],\n",
      "        [183.6399, 255.4481, 237.0401, 314.2372,   0.4923,   1.0000]], device='cuda:0')\n",
      "\n",
      "0: 480x640 1 Unripe, 1 Ripe, 37.3ms\n",
      "Speed: 1.1ms preprocess, 37.3ms inference, 3.5ms postprocess per image at shape (1, 3, 480, 640)\n",
      "tensor([[182.0661, 256.2598, 236.7212, 314.9905,   0.7815,   0.0000],\n",
      "        [183.0983, 256.6923, 236.5121, 314.9340,   0.5306,   1.0000]], device='cuda:0')\n",
      "\n",
      "0: 480x640 1 Unripe, 1 Ripe, 37.3ms\n",
      "Speed: 1.1ms preprocess, 37.3ms inference, 3.2ms postprocess per image at shape (1, 3, 480, 640)\n",
      "tensor([[182.2027, 256.2117, 236.2157, 314.7239,   0.7456,   0.0000],\n",
      "        [183.0972, 256.3864, 236.0212, 314.7603,   0.6409,   1.0000]], device='cuda:0')\n",
      "\n",
      "0: 480x640 1 Unripe, 1 Ripe, 37.3ms\n",
      "Speed: 1.0ms preprocess, 37.3ms inference, 3.8ms postprocess per image at shape (1, 3, 480, 640)\n",
      "tensor([[184.1384, 256.1297, 237.5444, 314.5994,   0.7902,   0.0000],\n",
      "        [184.1312, 256.5760, 237.8814, 314.6558,   0.6659,   1.0000]], device='cuda:0')\n",
      "\n",
      "0: 480x640 1 Unripe, 1 Ripe, 37.2ms\n",
      "Speed: 0.9ms preprocess, 37.2ms inference, 4.2ms postprocess per image at shape (1, 3, 480, 640)\n",
      "tensor([[184.6219, 256.6624, 238.2186, 314.7971,   0.7588,   1.0000],\n",
      "        [184.5704, 256.2936, 238.0901, 314.7123,   0.7200,   0.0000]], device='cuda:0')\n",
      "\n",
      "0: 480x640 1 Unripe, 1 Ripe, 37.3ms\n",
      "Speed: 0.9ms preprocess, 37.3ms inference, 5.2ms postprocess per image at shape (1, 3, 480, 640)\n",
      "tensor([[184.6336, 257.1288, 238.1613, 315.5994,   0.6782,   1.0000],\n",
      "        [184.6141, 256.9162, 238.0170, 315.6961,   0.6289,   0.0000]], device='cuda:0')\n",
      "\n",
      "0: 480x640 1 Unripe, 1 Ripe, 37.3ms\n",
      "Speed: 1.4ms preprocess, 37.3ms inference, 5.1ms postprocess per image at shape (1, 3, 480, 640)\n",
      "tensor([[184.7173, 257.8245, 238.9320, 315.5770,   0.7044,   1.0000],\n",
      "        [184.6796, 257.7137, 238.8941, 315.7482,   0.6971,   0.0000]], device='cuda:0')\n",
      "\n",
      "0: 480x640 1 Unripe, 1 Ripe, 37.3ms\n",
      "Speed: 1.0ms preprocess, 37.3ms inference, 3.7ms postprocess per image at shape (1, 3, 480, 640)\n",
      "tensor([[185.3167, 257.7018, 239.0849, 315.4011,   0.7849,   1.0000],\n",
      "        [185.0654, 257.6353, 238.9875, 315.6643,   0.6412,   0.0000]], device='cuda:0')\n",
      "\n",
      "0: 480x640 1 Unripe, 1 Ripe, 37.2ms\n",
      "Speed: 0.9ms preprocess, 37.2ms inference, 6.6ms postprocess per image at shape (1, 3, 480, 640)\n",
      "tensor([[185.6584, 257.8133, 239.2535, 315.3618,   0.8203,   1.0000],\n",
      "        [185.0863, 257.7876, 239.4217, 315.5257,   0.5179,   0.0000]], device='cuda:0')\n",
      "\n",
      "0: 480x640 1 Ripe, 37.3ms\n",
      "Speed: 1.9ms preprocess, 37.3ms inference, 3.9ms postprocess per image at shape (1, 3, 480, 640)\n",
      "tensor([[186.7368, 256.7804, 239.9142, 315.1963,   0.7159,   1.0000]], device='cuda:0')\n",
      "\n",
      "0: 480x640 1 Unripe, 1 Ripe, 37.2ms\n",
      "Speed: 1.0ms preprocess, 37.2ms inference, 3.7ms postprocess per image at shape (1, 3, 480, 640)\n",
      "tensor([[1.8722e+02, 2.5741e+02, 2.4101e+02, 3.1568e+02, 7.5782e-01, 1.0000e+00],\n",
      "        [1.8659e+02, 2.5719e+02, 2.4108e+02, 3.1623e+02, 3.0292e-01, 0.0000e+00]], device='cuda:0')\n",
      "\n",
      "0: 480x640 1 Unripe, 1 Ripe, 37.2ms\n",
      "Speed: 1.0ms preprocess, 37.2ms inference, 5.9ms postprocess per image at shape (1, 3, 480, 640)\n",
      "tensor([[188.0080, 258.4535, 242.1737, 316.5419,   0.7599,   1.0000],\n",
      "        [187.5365, 258.8410, 242.3404, 316.2060,   0.5054,   0.0000]], device='cuda:0')\n",
      "\n",
      "0: 480x640 1 Unripe, 1 Ripe, 37.3ms\n",
      "Speed: 1.4ms preprocess, 37.3ms inference, 3.5ms postprocess per image at shape (1, 3, 480, 640)\n",
      "tensor([[189.7333, 260.1594, 243.6959, 319.1738,   0.6811,   1.0000],\n",
      "        [189.0541, 261.0928, 243.7316, 318.9636,   0.4531,   0.0000]], device='cuda:0')\n",
      "\n",
      "0: 480x640 1 Unripe, 1 Ripe, 37.3ms\n",
      "Speed: 1.1ms preprocess, 37.3ms inference, 3.5ms postprocess per image at shape (1, 3, 480, 640)\n",
      "tensor([[190.4439, 262.7119, 244.0778, 319.3204,   0.7278,   1.0000],\n",
      "        [191.4233, 262.9187, 244.9407, 318.9584,   0.4155,   0.0000]], device='cuda:0')\n",
      "\n",
      "0: 480x640 1 Unripe, 1 Ripe, 37.2ms\n",
      "Speed: 0.9ms preprocess, 37.2ms inference, 3.4ms postprocess per image at shape (1, 3, 480, 640)\n",
      "tensor([[1.9594e+02, 2.6682e+02, 2.4869e+02, 3.2481e+02, 6.4158e-01, 1.0000e+00],\n",
      "        [1.9574e+02, 2.6758e+02, 2.4857e+02, 3.2492e+02, 2.6420e-01, 0.0000e+00]], device='cuda:0')\n",
      "\n",
      "0: 480x640 1 Unripe, 37.2ms\n",
      "Speed: 0.9ms preprocess, 37.2ms inference, 3.9ms postprocess per image at shape (1, 3, 480, 640)\n",
      "tensor([[203.7701, 279.8390, 255.0796, 333.0389,   0.3859,   0.0000]], device='cuda:0')\n",
      "\n",
      "0: 480x640 (no detections), 37.3ms\n",
      "Speed: 1.1ms preprocess, 37.3ms inference, 3.3ms postprocess per image at shape (1, 3, 480, 640)\n",
      "tensor([], device='cuda:0', size=(0, 6))\n",
      "\n",
      "0: 480x640 (no detections), 37.3ms\n",
      "Speed: 1.0ms preprocess, 37.3ms inference, 4.1ms postprocess per image at shape (1, 3, 480, 640)\n",
      "tensor([], device='cuda:0', size=(0, 6))\n",
      "\n",
      "0: 480x640 (no detections), 37.2ms\n",
      "Speed: 1.1ms preprocess, 37.2ms inference, 10.4ms postprocess per image at shape (1, 3, 480, 640)\n",
      "tensor([], device='cuda:0', size=(0, 6))\n",
      "\n",
      "0: 480x640 (no detections), 37.2ms\n",
      "Speed: 1.0ms preprocess, 37.2ms inference, 2.7ms postprocess per image at shape (1, 3, 480, 640)\n",
      "tensor([], device='cuda:0', size=(0, 6))\n",
      "\n",
      "0: 480x640 (no detections), 37.3ms\n",
      "Speed: 1.0ms preprocess, 37.3ms inference, 2.5ms postprocess per image at shape (1, 3, 480, 640)\n",
      "tensor([], device='cuda:0', size=(0, 6))\n",
      "\n",
      "0: 480x640 (no detections), 37.3ms\n",
      "Speed: 1.3ms preprocess, 37.3ms inference, 2.2ms postprocess per image at shape (1, 3, 480, 640)\n",
      "tensor([], device='cuda:0', size=(0, 6))\n",
      "\n",
      "0: 480x640 (no detections), 37.4ms\n",
      "Speed: 1.3ms preprocess, 37.4ms inference, 6.0ms postprocess per image at shape (1, 3, 480, 640)\n",
      "tensor([], device='cuda:0', size=(0, 6))\n",
      "\n",
      "0: 480x640 (no detections), 37.3ms\n",
      "Speed: 1.2ms preprocess, 37.3ms inference, 2.7ms postprocess per image at shape (1, 3, 480, 640)\n",
      "tensor([], device='cuda:0', size=(0, 6))\n",
      "\n",
      "0: 480x640 (no detections), 37.2ms\n",
      "Speed: 1.0ms preprocess, 37.2ms inference, 2.2ms postprocess per image at shape (1, 3, 480, 640)\n",
      "tensor([], device='cuda:0', size=(0, 6))\n",
      "\n",
      "0: 480x640 (no detections), 37.3ms\n",
      "Speed: 1.0ms preprocess, 37.3ms inference, 2.2ms postprocess per image at shape (1, 3, 480, 640)\n",
      "tensor([], device='cuda:0', size=(0, 6))\n",
      "\n",
      "0: 480x640 (no detections), 37.2ms\n",
      "Speed: 1.0ms preprocess, 37.2ms inference, 2.1ms postprocess per image at shape (1, 3, 480, 640)\n",
      "tensor([], device='cuda:0', size=(0, 6))\n",
      "\n",
      "0: 480x640 (no detections), 37.2ms\n",
      "Speed: 1.0ms preprocess, 37.2ms inference, 2.4ms postprocess per image at shape (1, 3, 480, 640)\n",
      "tensor([], device='cuda:0', size=(0, 6))\n",
      "\n",
      "0: 480x640 (no detections), 37.2ms\n",
      "Speed: 1.1ms preprocess, 37.2ms inference, 2.9ms postprocess per image at shape (1, 3, 480, 640)\n",
      "tensor([], device='cuda:0', size=(0, 6))\n",
      "\n",
      "0: 480x640 (no detections), 37.2ms\n",
      "Speed: 1.0ms preprocess, 37.2ms inference, 3.5ms postprocess per image at shape (1, 3, 480, 640)\n",
      "tensor([], device='cuda:0', size=(0, 6))\n",
      "\n",
      "0: 480x640 (no detections), 37.3ms\n",
      "Speed: 1.2ms preprocess, 37.3ms inference, 2.5ms postprocess per image at shape (1, 3, 480, 640)\n",
      "tensor([], device='cuda:0', size=(0, 6))\n",
      "\n",
      "0: 480x640 1 Unripe, 37.3ms\n",
      "Speed: 1.5ms preprocess, 37.3ms inference, 6.6ms postprocess per image at shape (1, 3, 480, 640)\n",
      "tensor([[5.6151e+02, 4.5742e+02, 6.0371e+02, 4.7987e+02, 2.9315e-01, 0.0000e+00]], device='cuda:0')\n",
      "\n",
      "0: 480x640 (no detections), 37.3ms\n",
      "Speed: 1.8ms preprocess, 37.3ms inference, 2.2ms postprocess per image at shape (1, 3, 480, 640)\n",
      "tensor([], device='cuda:0', size=(0, 6))\n",
      "\n",
      "0: 480x640 (no detections), 37.2ms\n",
      "Speed: 1.4ms preprocess, 37.2ms inference, 2.2ms postprocess per image at shape (1, 3, 480, 640)\n",
      "tensor([], device='cuda:0', size=(0, 6))\n",
      "\n",
      "0: 480x640 (no detections), 37.2ms\n",
      "Speed: 1.0ms preprocess, 37.2ms inference, 2.2ms postprocess per image at shape (1, 3, 480, 640)\n",
      "tensor([], device='cuda:0', size=(0, 6))\n",
      "\n",
      "0: 480x640 (no detections), 37.2ms\n",
      "Speed: 1.0ms preprocess, 37.2ms inference, 2.5ms postprocess per image at shape (1, 3, 480, 640)\n",
      "tensor([], device='cuda:0', size=(0, 6))\n",
      "\n",
      "0: 480x640 (no detections), 37.3ms\n",
      "Speed: 1.1ms preprocess, 37.3ms inference, 2.8ms postprocess per image at shape (1, 3, 480, 640)\n",
      "tensor([], device='cuda:0', size=(0, 6))\n",
      "\n",
      "0: 480x640 (no detections), 37.2ms\n",
      "Speed: 1.0ms preprocess, 37.2ms inference, 11.2ms postprocess per image at shape (1, 3, 480, 640)\n",
      "tensor([], device='cuda:0', size=(0, 6))\n",
      "\n",
      "0: 480x640 (no detections), 37.2ms\n",
      "Speed: 1.0ms preprocess, 37.2ms inference, 2.1ms postprocess per image at shape (1, 3, 480, 640)\n",
      "tensor([], device='cuda:0', size=(0, 6))\n",
      "\n",
      "0: 480x640 (no detections), 37.2ms\n",
      "Speed: 1.0ms preprocess, 37.2ms inference, 3.0ms postprocess per image at shape (1, 3, 480, 640)\n",
      "tensor([], device='cuda:0', size=(0, 6))\n",
      "\n",
      "0: 480x640 (no detections), 37.5ms\n",
      "Speed: 1.3ms preprocess, 37.5ms inference, 2.4ms postprocess per image at shape (1, 3, 480, 640)\n",
      "tensor([], device='cuda:0', size=(0, 6))\n",
      "\n",
      "0: 480x640 (no detections), 37.3ms\n",
      "Speed: 1.4ms preprocess, 37.3ms inference, 2.7ms postprocess per image at shape (1, 3, 480, 640)\n",
      "tensor([], device='cuda:0', size=(0, 6))\n",
      "\n",
      "0: 480x640 (no detections), 37.3ms\n",
      "Speed: 1.3ms preprocess, 37.3ms inference, 2.3ms postprocess per image at shape (1, 3, 480, 640)\n",
      "tensor([], device='cuda:0', size=(0, 6))\n",
      "\n",
      "0: 480x640 (no detections), 37.2ms\n",
      "Speed: 1.0ms preprocess, 37.2ms inference, 2.5ms postprocess per image at shape (1, 3, 480, 640)\n",
      "tensor([], device='cuda:0', size=(0, 6))\n",
      "\n",
      "0: 480x640 (no detections), 37.2ms\n",
      "Speed: 1.0ms preprocess, 37.2ms inference, 2.6ms postprocess per image at shape (1, 3, 480, 640)\n",
      "tensor([], device='cuda:0', size=(0, 6))\n",
      "\n",
      "0: 480x640 (no detections), 37.2ms\n",
      "Speed: 1.0ms preprocess, 37.2ms inference, 2.5ms postprocess per image at shape (1, 3, 480, 640)\n",
      "tensor([], device='cuda:0', size=(0, 6))\n",
      "\n",
      "0: 480x640 (no detections), 37.4ms\n",
      "Speed: 2.3ms preprocess, 37.4ms inference, 2.8ms postprocess per image at shape (1, 3, 480, 640)\n",
      "tensor([], device='cuda:0', size=(0, 6))\n",
      "\n",
      "0: 480x640 (no detections), 37.3ms\n",
      "Speed: 1.3ms preprocess, 37.3ms inference, 2.6ms postprocess per image at shape (1, 3, 480, 640)\n",
      "tensor([], device='cuda:0', size=(0, 6))\n",
      "\n",
      "0: 480x640 (no detections), 37.3ms\n",
      "Speed: 1.0ms preprocess, 37.3ms inference, 2.9ms postprocess per image at shape (1, 3, 480, 640)\n",
      "tensor([], device='cuda:0', size=(0, 6))\n",
      "\n",
      "0: 480x640 (no detections), 37.3ms\n",
      "Speed: 1.7ms preprocess, 37.3ms inference, 1.9ms postprocess per image at shape (1, 3, 480, 640)\n",
      "tensor([], device='cuda:0', size=(0, 6))\n",
      "\n",
      "0: 480x640 (no detections), 37.3ms\n",
      "Speed: 1.3ms preprocess, 37.3ms inference, 5.7ms postprocess per image at shape (1, 3, 480, 640)\n",
      "tensor([], device='cuda:0', size=(0, 6))\n",
      "\n",
      "0: 480x640 (no detections), 37.2ms\n",
      "Speed: 1.1ms preprocess, 37.2ms inference, 2.2ms postprocess per image at shape (1, 3, 480, 640)\n",
      "tensor([], device='cuda:0', size=(0, 6))\n",
      "\n",
      "0: 480x640 (no detections), 37.3ms\n",
      "Speed: 1.2ms preprocess, 37.3ms inference, 2.9ms postprocess per image at shape (1, 3, 480, 640)\n",
      "tensor([], device='cuda:0', size=(0, 6))\n",
      "\n",
      "0: 480x640 (no detections), 37.3ms\n",
      "Speed: 1.3ms preprocess, 37.3ms inference, 2.7ms postprocess per image at shape (1, 3, 480, 640)\n",
      "tensor([], device='cuda:0', size=(0, 6))\n",
      "\n",
      "0: 480x640 (no detections), 37.3ms\n",
      "Speed: 1.2ms preprocess, 37.3ms inference, 2.3ms postprocess per image at shape (1, 3, 480, 640)\n",
      "tensor([], device='cuda:0', size=(0, 6))\n",
      "\n",
      "0: 480x640 (no detections), 37.2ms\n",
      "Speed: 1.0ms preprocess, 37.2ms inference, 2.5ms postprocess per image at shape (1, 3, 480, 640)\n",
      "tensor([], device='cuda:0', size=(0, 6))\n",
      "\n",
      "0: 480x640 (no detections), 37.2ms\n",
      "Speed: 1.1ms preprocess, 37.2ms inference, 2.3ms postprocess per image at shape (1, 3, 480, 640)\n",
      "tensor([], device='cuda:0', size=(0, 6))\n",
      "\n",
      "0: 480x640 (no detections), 37.3ms\n",
      "Speed: 1.1ms preprocess, 37.3ms inference, 2.7ms postprocess per image at shape (1, 3, 480, 640)\n",
      "tensor([], device='cuda:0', size=(0, 6))\n",
      "\n",
      "0: 480x640 (no detections), 37.3ms\n",
      "Speed: 1.1ms preprocess, 37.3ms inference, 2.5ms postprocess per image at shape (1, 3, 480, 640)\n",
      "tensor([], device='cuda:0', size=(0, 6))\n",
      "\n",
      "0: 480x640 (no detections), 37.2ms\n",
      "Speed: 1.1ms preprocess, 37.2ms inference, 2.3ms postprocess per image at shape (1, 3, 480, 640)\n",
      "tensor([], device='cuda:0', size=(0, 6))\n",
      "\n",
      "0: 480x640 (no detections), 37.2ms\n",
      "Speed: 0.9ms preprocess, 37.2ms inference, 2.4ms postprocess per image at shape (1, 3, 480, 640)\n",
      "tensor([], device='cuda:0', size=(0, 6))\n",
      "\n",
      "0: 480x640 (no detections), 37.2ms\n",
      "Speed: 1.2ms preprocess, 37.2ms inference, 2.3ms postprocess per image at shape (1, 3, 480, 640)\n",
      "tensor([], device='cuda:0', size=(0, 6))\n",
      "\n",
      "0: 480x640 (no detections), 37.3ms\n",
      "Speed: 1.3ms preprocess, 37.3ms inference, 5.2ms postprocess per image at shape (1, 3, 480, 640)\n",
      "tensor([], device='cuda:0', size=(0, 6))\n",
      "\n",
      "0: 480x640 (no detections), 37.3ms\n",
      "Speed: 1.3ms preprocess, 37.3ms inference, 2.7ms postprocess per image at shape (1, 3, 480, 640)\n",
      "tensor([], device='cuda:0', size=(0, 6))\n",
      "\n",
      "0: 480x640 (no detections), 37.3ms\n",
      "Speed: 1.1ms preprocess, 37.3ms inference, 2.6ms postprocess per image at shape (1, 3, 480, 640)\n",
      "tensor([], device='cuda:0', size=(0, 6))\n",
      "\n",
      "0: 480x640 (no detections), 37.3ms\n",
      "Speed: 1.2ms preprocess, 37.3ms inference, 2.3ms postprocess per image at shape (1, 3, 480, 640)\n",
      "tensor([], device='cuda:0', size=(0, 6))\n",
      "\n",
      "0: 480x640 (no detections), 37.3ms\n",
      "Speed: 1.2ms preprocess, 37.3ms inference, 2.2ms postprocess per image at shape (1, 3, 480, 640)\n",
      "tensor([], device='cuda:0', size=(0, 6))\n",
      "\n",
      "0: 480x640 (no detections), 37.2ms\n",
      "Speed: 1.7ms preprocess, 37.2ms inference, 2.2ms postprocess per image at shape (1, 3, 480, 640)\n",
      "tensor([], device='cuda:0', size=(0, 6))\n",
      "\n",
      "0: 480x640 (no detections), 37.3ms\n",
      "Speed: 1.0ms preprocess, 37.3ms inference, 2.7ms postprocess per image at shape (1, 3, 480, 640)\n",
      "tensor([], device='cuda:0', size=(0, 6))\n",
      "\n",
      "0: 480x640 (no detections), 37.3ms\n",
      "Speed: 1.1ms preprocess, 37.3ms inference, 3.1ms postprocess per image at shape (1, 3, 480, 640)\n",
      "tensor([], device='cuda:0', size=(0, 6))\n",
      "\n",
      "0: 480x640 (no detections), 37.3ms\n",
      "Speed: 8.0ms preprocess, 37.3ms inference, 2.8ms postprocess per image at shape (1, 3, 480, 640)\n",
      "tensor([], device='cuda:0', size=(0, 6))\n",
      "\n",
      "0: 480x640 (no detections), 37.3ms\n",
      "Speed: 1.3ms preprocess, 37.3ms inference, 2.9ms postprocess per image at shape (1, 3, 480, 640)\n",
      "tensor([], device='cuda:0', size=(0, 6))\n",
      "\n",
      "0: 480x640 (no detections), 37.3ms\n",
      "Speed: 1.9ms preprocess, 37.3ms inference, 13.7ms postprocess per image at shape (1, 3, 480, 640)\n",
      "tensor([], device='cuda:0', size=(0, 6))\n",
      "\n",
      "0: 480x640 (no detections), 37.3ms\n",
      "Speed: 1.4ms preprocess, 37.3ms inference, 2.1ms postprocess per image at shape (1, 3, 480, 640)\n",
      "tensor([], device='cuda:0', size=(0, 6))\n",
      "\n",
      "0: 480x640 (no detections), 37.3ms\n",
      "Speed: 1.3ms preprocess, 37.3ms inference, 2.3ms postprocess per image at shape (1, 3, 480, 640)\n",
      "tensor([], device='cuda:0', size=(0, 6))\n",
      "\n",
      "0: 480x640 (no detections), 37.3ms\n",
      "Speed: 1.1ms preprocess, 37.3ms inference, 2.7ms postprocess per image at shape (1, 3, 480, 640)\n",
      "tensor([], device='cuda:0', size=(0, 6))\n",
      "\n",
      "0: 480x640 (no detections), 37.3ms\n",
      "Speed: 1.1ms preprocess, 37.3ms inference, 2.6ms postprocess per image at shape (1, 3, 480, 640)\n",
      "tensor([], device='cuda:0', size=(0, 6))\n",
      "\n",
      "0: 480x640 (no detections), 37.2ms\n",
      "Speed: 1.2ms preprocess, 37.2ms inference, 2.6ms postprocess per image at shape (1, 3, 480, 640)\n",
      "tensor([], device='cuda:0', size=(0, 6))\n",
      "\n",
      "0: 480x640 (no detections), 37.2ms\n",
      "Speed: 1.3ms preprocess, 37.2ms inference, 8.0ms postprocess per image at shape (1, 3, 480, 640)\n",
      "tensor([], device='cuda:0', size=(0, 6))\n",
      "\n",
      "0: 480x640 (no detections), 37.3ms\n",
      "Speed: 1.3ms preprocess, 37.3ms inference, 2.3ms postprocess per image at shape (1, 3, 480, 640)\n",
      "tensor([], device='cuda:0', size=(0, 6))\n",
      "\n",
      "0: 480x640 (no detections), 37.2ms\n",
      "Speed: 1.1ms preprocess, 37.2ms inference, 2.2ms postprocess per image at shape (1, 3, 480, 640)\n",
      "tensor([], device='cuda:0', size=(0, 6))\n",
      "\n",
      "0: 480x640 (no detections), 37.2ms\n",
      "Speed: 1.0ms preprocess, 37.2ms inference, 2.4ms postprocess per image at shape (1, 3, 480, 640)\n",
      "tensor([], device='cuda:0', size=(0, 6))\n",
      "\n",
      "0: 480x640 (no detections), 37.4ms\n",
      "Speed: 1.4ms preprocess, 37.4ms inference, 3.4ms postprocess per image at shape (1, 3, 480, 640)\n",
      "tensor([], device='cuda:0', size=(0, 6))\n",
      "\n",
      "0: 480x640 (no detections), 37.2ms\n",
      "Speed: 1.2ms preprocess, 37.2ms inference, 3.0ms postprocess per image at shape (1, 3, 480, 640)\n",
      "tensor([], device='cuda:0', size=(0, 6))\n",
      "\n",
      "0: 480x640 (no detections), 37.3ms\n",
      "Speed: 1.1ms preprocess, 37.3ms inference, 2.2ms postprocess per image at shape (1, 3, 480, 640)\n",
      "tensor([], device='cuda:0', size=(0, 6))\n",
      "\n",
      "0: 480x640 (no detections), 37.3ms\n",
      "Speed: 1.5ms preprocess, 37.3ms inference, 2.6ms postprocess per image at shape (1, 3, 480, 640)\n",
      "tensor([], device='cuda:0', size=(0, 6))\n",
      "\n",
      "0: 480x640 (no detections), 37.9ms\n",
      "Speed: 1.6ms preprocess, 37.9ms inference, 2.9ms postprocess per image at shape (1, 3, 480, 640)\n",
      "tensor([], device='cuda:0', size=(0, 6))\n",
      "\n",
      "0: 480x640 (no detections), 37.3ms\n",
      "Speed: 1.2ms preprocess, 37.3ms inference, 2.3ms postprocess per image at shape (1, 3, 480, 640)\n",
      "tensor([], device='cuda:0', size=(0, 6))\n",
      "\n",
      "0: 480x640 (no detections), 37.2ms\n",
      "Speed: 1.1ms preprocess, 37.2ms inference, 2.7ms postprocess per image at shape (1, 3, 480, 640)\n",
      "tensor([], device='cuda:0', size=(0, 6))\n",
      "\n",
      "0: 480x640 (no detections), 37.3ms\n",
      "Speed: 1.1ms preprocess, 37.3ms inference, 13.5ms postprocess per image at shape (1, 3, 480, 640)\n",
      "tensor([], device='cuda:0', size=(0, 6))\n",
      "\n",
      "0: 480x640 (no detections), 37.3ms\n",
      "Speed: 1.7ms preprocess, 37.3ms inference, 2.3ms postprocess per image at shape (1, 3, 480, 640)\n",
      "tensor([], device='cuda:0', size=(0, 6))\n",
      "\n",
      "0: 480x640 (no detections), 37.3ms\n",
      "Speed: 1.2ms preprocess, 37.3ms inference, 2.3ms postprocess per image at shape (1, 3, 480, 640)\n",
      "tensor([], device='cuda:0', size=(0, 6))\n",
      "\n",
      "0: 480x640 (no detections), 37.3ms\n",
      "Speed: 1.5ms preprocess, 37.3ms inference, 2.2ms postprocess per image at shape (1, 3, 480, 640)\n",
      "tensor([], device='cuda:0', size=(0, 6))\n",
      "\n",
      "0: 480x640 (no detections), 37.3ms\n",
      "Speed: 1.1ms preprocess, 37.3ms inference, 3.0ms postprocess per image at shape (1, 3, 480, 640)\n",
      "tensor([], device='cuda:0', size=(0, 6))\n",
      "\n",
      "0: 480x640 (no detections), 37.3ms\n",
      "Speed: 1.1ms preprocess, 37.3ms inference, 2.2ms postprocess per image at shape (1, 3, 480, 640)\n",
      "tensor([], device='cuda:0', size=(0, 6))\n",
      "\n",
      "0: 480x640 (no detections), 37.2ms\n",
      "Speed: 1.2ms preprocess, 37.2ms inference, 2.7ms postprocess per image at shape (1, 3, 480, 640)\n",
      "tensor([], device='cuda:0', size=(0, 6))\n",
      "\n",
      "0: 480x640 (no detections), 37.7ms\n",
      "Speed: 1.1ms preprocess, 37.7ms inference, 13.1ms postprocess per image at shape (1, 3, 480, 640)\n",
      "tensor([], device='cuda:0', size=(0, 6))\n",
      "\n",
      "0: 480x640 (no detections), 37.3ms\n",
      "Speed: 1.5ms preprocess, 37.3ms inference, 2.4ms postprocess per image at shape (1, 3, 480, 640)\n",
      "tensor([], device='cuda:0', size=(0, 6))\n",
      "\n",
      "0: 480x640 (no detections), 37.4ms\n",
      "Speed: 1.2ms preprocess, 37.4ms inference, 2.8ms postprocess per image at shape (1, 3, 480, 640)\n",
      "tensor([], device='cuda:0', size=(0, 6))\n",
      "\n",
      "0: 480x640 (no detections), 37.4ms\n",
      "Speed: 1.7ms preprocess, 37.4ms inference, 2.5ms postprocess per image at shape (1, 3, 480, 640)\n",
      "tensor([], device='cuda:0', size=(0, 6))\n",
      "\n",
      "0: 480x640 (no detections), 37.3ms\n",
      "Speed: 1.1ms preprocess, 37.3ms inference, 2.4ms postprocess per image at shape (1, 3, 480, 640)\n",
      "tensor([], device='cuda:0', size=(0, 6))\n",
      "\n",
      "0: 480x640 (no detections), 37.3ms\n",
      "Speed: 1.1ms preprocess, 37.3ms inference, 2.3ms postprocess per image at shape (1, 3, 480, 640)\n",
      "tensor([], device='cuda:0', size=(0, 6))\n",
      "\n",
      "0: 480x640 (no detections), 37.3ms\n",
      "Speed: 1.2ms preprocess, 37.3ms inference, 2.3ms postprocess per image at shape (1, 3, 480, 640)\n",
      "tensor([], device='cuda:0', size=(0, 6))\n",
      "\n",
      "0: 480x640 (no detections), 37.3ms\n",
      "Speed: 1.1ms preprocess, 37.3ms inference, 2.3ms postprocess per image at shape (1, 3, 480, 640)\n",
      "tensor([], device='cuda:0', size=(0, 6))\n",
      "\n",
      "0: 480x640 (no detections), 37.2ms\n",
      "Speed: 1.0ms preprocess, 37.2ms inference, 2.4ms postprocess per image at shape (1, 3, 480, 640)\n",
      "tensor([], device='cuda:0', size=(0, 6))\n"
     ]
    }
   ],
   "source": [
    "import cv2\n",
    "cam = cv2.VideoCapture(0)\n",
    "import torch\n",
    "from torchvision.transforms.functional import normalize\n",
    "from ultralytics import YOLO\n",
    "model_test = YOLO(model=\"./runs/detect/train5/weights/best.pt\")\n",
    "\n",
    "while True:\n",
    "    ret, frame = cam.read()\n",
    "    frame_tensor = torch.from_numpy(frame.astype(float)/255)\n",
    "    frame_tensor = frame_tensor.permute(2,0,1)\n",
    "    cv2.imshow('Camera', frame)\n",
    "    detections = model_test(frame_tensor.unsqueeze(0))\n",
    "    for detection in detections:\n",
    "        print(detection.boxes.data)\n",
    "    if cv2.waitKey(1) == ord('q'):\n",
    "        break\n",
    "cam.release()\n",
    "cv2.destroyAllWindows()"
   ]
  },
  {
   "cell_type": "code",
   "execution_count": null,
   "metadata": {},
   "outputs": [],
   "source": []
  }
 ],
 "metadata": {
  "kernelspec": {
   "display_name": "base",
   "language": "python",
   "name": "python3"
  },
  "language_info": {
   "codemirror_mode": {
    "name": "ipython",
    "version": 3
   },
   "file_extension": ".py",
   "mimetype": "text/x-python",
   "name": "python",
   "nbconvert_exporter": "python",
   "pygments_lexer": "ipython3",
   "version": "3.11.5"
  }
 },
 "nbformat": 4,
 "nbformat_minor": 2
}
