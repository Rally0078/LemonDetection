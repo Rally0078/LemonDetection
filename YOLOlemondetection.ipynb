{
 "cells": [
  {
   "cell_type": "code",
   "execution_count": null,
   "metadata": {},
   "outputs": [],
   "source": []
  },
  {
   "cell_type": "code",
   "execution_count": 1,
   "metadata": {},
   "outputs": [],
   "source": [
    "from ultralytics import YOLO"
   ]
  },
  {
   "cell_type": "code",
   "execution_count": 2,
   "metadata": {},
   "outputs": [],
   "source": [
    "model = YOLO(model=\"yolo11n.pt\")"
   ]
  },
  {
   "cell_type": "code",
   "execution_count": 3,
   "metadata": {},
   "outputs": [
    {
     "name": "stdout",
     "output_type": "stream",
     "text": [
      "Ultralytics 8.3.29 🚀 Python-3.11.5 torch-2.3.1 CUDA:0 (NVIDIA GeForce RTX 3050 Laptop GPU, 3797MiB)\n",
      "\u001b[34m\u001b[1mengine/trainer: \u001b[0mtask=detect, mode=train, model=yolo11n.pt, data=YOLOv8Lemons/data.yaml, epochs=150, time=None, patience=100, batch=24, imgsz=640, save=True, save_period=-1, cache=False, device=None, workers=8, project=None, name=train, exist_ok=False, pretrained=True, optimizer=auto, verbose=True, seed=0, deterministic=True, single_cls=False, rect=False, cos_lr=False, close_mosaic=10, resume=False, amp=True, fraction=1.0, profile=False, freeze=None, multi_scale=False, overlap_mask=True, mask_ratio=4, dropout=0.0, val=True, split=val, save_json=False, save_hybrid=False, conf=None, iou=0.7, max_det=300, half=False, dnn=False, plots=True, source=None, vid_stride=1, stream_buffer=False, visualize=False, augment=False, agnostic_nms=False, classes=None, retina_masks=False, embed=None, show=False, save_frames=False, save_txt=False, save_conf=False, save_crop=False, show_labels=True, show_conf=True, show_boxes=True, line_width=None, format=torchscript, keras=False, optimize=False, int8=False, dynamic=False, simplify=True, opset=None, workspace=4, nms=False, lr0=0.01, lrf=0.01, momentum=0.937, weight_decay=0.0005, warmup_epochs=3.0, warmup_momentum=0.8, warmup_bias_lr=0.1, box=7.5, cls=0.5, dfl=1.5, pose=12.0, kobj=1.0, label_smoothing=0.0, nbs=64, hsv_h=0.015, hsv_s=0.7, hsv_v=0.4, degrees=0.0, translate=0.1, scale=0.5, shear=0.0, perspective=0.0, flipud=0.0, fliplr=0.5, bgr=0.0, mosaic=1.0, mixup=0.0, copy_paste=0.0, copy_paste_mode=flip, auto_augment=randaugment, erasing=0.4, crop_fraction=1.0, cfg=None, tracker=botsort.yaml, save_dir=runs/detect/train\n",
      "Overriding model.yaml nc=80 with nc=2\n",
      "\n",
      "                   from  n    params  module                                       arguments                     \n",
      "  0                  -1  1       464  ultralytics.nn.modules.conv.Conv             [3, 16, 3, 2]                 \n",
      "  1                  -1  1      4672  ultralytics.nn.modules.conv.Conv             [16, 32, 3, 2]                \n",
      "  2                  -1  1      6640  ultralytics.nn.modules.block.C3k2            [32, 64, 1, False, 0.25]      \n",
      "  3                  -1  1     36992  ultralytics.nn.modules.conv.Conv             [64, 64, 3, 2]                \n",
      "  4                  -1  1     26080  ultralytics.nn.modules.block.C3k2            [64, 128, 1, False, 0.25]     \n",
      "  5                  -1  1    147712  ultralytics.nn.modules.conv.Conv             [128, 128, 3, 2]              \n",
      "  6                  -1  1     87040  ultralytics.nn.modules.block.C3k2            [128, 128, 1, True]           \n",
      "  7                  -1  1    295424  ultralytics.nn.modules.conv.Conv             [128, 256, 3, 2]              \n",
      "  8                  -1  1    346112  ultralytics.nn.modules.block.C3k2            [256, 256, 1, True]           \n",
      "  9                  -1  1    164608  ultralytics.nn.modules.block.SPPF            [256, 256, 5]                 \n",
      " 10                  -1  1    249728  ultralytics.nn.modules.block.C2PSA           [256, 256, 1]                 \n",
      " 11                  -1  1         0  torch.nn.modules.upsampling.Upsample         [None, 2, 'nearest']          \n",
      " 12             [-1, 6]  1         0  ultralytics.nn.modules.conv.Concat           [1]                           \n",
      " 13                  -1  1    111296  ultralytics.nn.modules.block.C3k2            [384, 128, 1, False]          \n",
      " 14                  -1  1         0  torch.nn.modules.upsampling.Upsample         [None, 2, 'nearest']          \n",
      " 15             [-1, 4]  1         0  ultralytics.nn.modules.conv.Concat           [1]                           \n",
      " 16                  -1  1     32096  ultralytics.nn.modules.block.C3k2            [256, 64, 1, False]           \n",
      " 17                  -1  1     36992  ultralytics.nn.modules.conv.Conv             [64, 64, 3, 2]                \n",
      " 18            [-1, 13]  1         0  ultralytics.nn.modules.conv.Concat           [1]                           \n",
      " 19                  -1  1     86720  ultralytics.nn.modules.block.C3k2            [192, 128, 1, False]          \n",
      " 20                  -1  1    147712  ultralytics.nn.modules.conv.Conv             [128, 128, 3, 2]              \n",
      " 21            [-1, 10]  1         0  ultralytics.nn.modules.conv.Concat           [1]                           \n",
      " 22                  -1  1    378880  ultralytics.nn.modules.block.C3k2            [384, 256, 1, True]           \n",
      " 23        [16, 19, 22]  1    431062  ultralytics.nn.modules.head.Detect           [2, [64, 128, 256]]           \n",
      "YOLO11n summary: 319 layers, 2,590,230 parameters, 2,590,214 gradients\n",
      "\n",
      "Transferred 448/499 items from pretrained weights\n",
      "\u001b[34m\u001b[1mTensorBoard: \u001b[0mStart with 'tensorboard --logdir runs/detect/train', view at http://localhost:6006/\n",
      "Freezing layer 'model.23.dfl.conv.weight'\n",
      "\u001b[34m\u001b[1mAMP: \u001b[0mrunning Automatic Mixed Precision (AMP) checks...\n",
      "\u001b[34m\u001b[1mAMP: \u001b[0mchecks passed ✅\n"
     ]
    },
    {
     "name": "stderr",
     "output_type": "stream",
     "text": [
      "\u001b[34m\u001b[1mtrain: \u001b[0mScanning /storage/Programming/PyTorch/LemonDetection/YOLOv8Lemons/data/labels/Train.cache... 47 images, 0 backgrounds, 0 corrupt: 100%|██████████| 47/47 [00:00<?, ?it/s]\n",
      "\u001b[34m\u001b[1mval: \u001b[0mScanning /storage/Programming/PyTorch/LemonDetection/YOLOv8Lemons/data/labels/Validation.cache... 10 images, 0 backgrounds, 0 corrupt: 100%|██████████| 10/10 [00:00<?, ?it/s]\n"
     ]
    },
    {
     "name": "stdout",
     "output_type": "stream",
     "text": [
      "Plotting labels to runs/detect/train/labels.jpg... \n",
      "\u001b[34m\u001b[1moptimizer:\u001b[0m 'optimizer=auto' found, ignoring 'lr0=0.01' and 'momentum=0.937' and determining best 'optimizer', 'lr0' and 'momentum' automatically... \n",
      "\u001b[34m\u001b[1moptimizer:\u001b[0m AdamW(lr=0.001667, momentum=0.9) with parameter groups 81 weight(decay=0.0), 88 weight(decay=0.0005625000000000001), 87 bias(decay=0.0)\n",
      "\u001b[34m\u001b[1mTensorBoard: \u001b[0mmodel graph visualization added ✅\n",
      "Image sizes 640 train, 640 val\n",
      "Using 8 dataloader workers\n",
      "Logging results to \u001b[1mruns/detect/train\u001b[0m\n",
      "Starting training for 150 epochs...\n",
      "\n",
      "      Epoch    GPU_mem   box_loss   cls_loss   dfl_loss  Instances       Size\n"
     ]
    },
    {
     "name": "stderr",
     "output_type": "stream",
     "text": [
      "      1/150      3.51G     0.9727      3.825      1.119         94        640: 100%|██████████| 2/2 [00:01<00:00,  1.96it/s]\n",
      "                 Class     Images  Instances      Box(P          R      mAP50  mAP50-95): 100%|██████████| 1/1 [00:00<00:00,  5.33it/s]\n"
     ]
    },
    {
     "name": "stdout",
     "output_type": "stream",
     "text": [
      "                   all         10         31    0.00739      0.639     0.0739     0.0469\n",
      "\n",
      "      Epoch    GPU_mem   box_loss   cls_loss   dfl_loss  Instances       Size\n"
     ]
    },
    {
     "name": "stderr",
     "output_type": "stream",
     "text": [
      "      2/150      3.49G      1.043      3.797      1.215         83        640: 100%|██████████| 2/2 [00:00<00:00,  3.27it/s]\n",
      "                 Class     Images  Instances      Box(P          R      mAP50  mAP50-95): 100%|██████████| 1/1 [00:00<00:00, 16.07it/s]"
     ]
    },
    {
     "name": "stdout",
     "output_type": "stream",
     "text": [
      "                   all         10         31    0.00759      0.639     0.0645     0.0457\n"
     ]
    },
    {
     "name": "stderr",
     "output_type": "stream",
     "text": [
      "\n"
     ]
    },
    {
     "name": "stdout",
     "output_type": "stream",
     "text": [
      "\n",
      "      Epoch    GPU_mem   box_loss   cls_loss   dfl_loss  Instances       Size\n"
     ]
    },
    {
     "name": "stderr",
     "output_type": "stream",
     "text": [
      "      3/150      3.52G     0.9378      3.743      1.105         92        640: 100%|██████████| 2/2 [00:00<00:00,  3.15it/s]\n",
      "                 Class     Images  Instances      Box(P          R      mAP50  mAP50-95): 100%|██████████| 1/1 [00:00<00:00, 16.53it/s]"
     ]
    },
    {
     "name": "stdout",
     "output_type": "stream",
     "text": [
      "                   all         10         31    0.00807      0.657     0.0601     0.0438\n"
     ]
    },
    {
     "name": "stderr",
     "output_type": "stream",
     "text": [
      "\n"
     ]
    },
    {
     "name": "stdout",
     "output_type": "stream",
     "text": [
      "\n",
      "      Epoch    GPU_mem   box_loss   cls_loss   dfl_loss  Instances       Size\n"
     ]
    },
    {
     "name": "stderr",
     "output_type": "stream",
     "text": [
      "      4/150      3.51G     0.8642      3.654      1.103         71        640: 100%|██████████| 2/2 [00:00<00:00,  3.22it/s]\n",
      "                 Class     Images  Instances      Box(P          R      mAP50  mAP50-95): 100%|██████████| 1/1 [00:00<00:00, 16.37it/s]"
     ]
    },
    {
     "name": "stdout",
     "output_type": "stream",
     "text": [
      "                   all         10         31    0.00667       0.69     0.0577     0.0426\n"
     ]
    },
    {
     "name": "stderr",
     "output_type": "stream",
     "text": [
      "\n"
     ]
    },
    {
     "name": "stdout",
     "output_type": "stream",
     "text": [
      "\n",
      "      Epoch    GPU_mem   box_loss   cls_loss   dfl_loss  Instances       Size\n"
     ]
    },
    {
     "name": "stderr",
     "output_type": "stream",
     "text": [
      "      5/150      3.52G     0.9841      3.454      1.063         92        640: 100%|██████████| 2/2 [00:00<00:00,  3.25it/s]\n",
      "                 Class     Images  Instances      Box(P          R      mAP50  mAP50-95): 100%|██████████| 1/1 [00:00<00:00, 16.50it/s]"
     ]
    },
    {
     "name": "stdout",
     "output_type": "stream",
     "text": [
      "                   all         10         31     0.0063      0.565     0.0764     0.0504\n"
     ]
    },
    {
     "name": "stderr",
     "output_type": "stream",
     "text": [
      "\n"
     ]
    },
    {
     "name": "stdout",
     "output_type": "stream",
     "text": [
      "\n",
      "      Epoch    GPU_mem   box_loss   cls_loss   dfl_loss  Instances       Size\n"
     ]
    },
    {
     "name": "stderr",
     "output_type": "stream",
     "text": [
      "      6/150      3.52G     0.9095      3.083     0.9958         74        640: 100%|██████████| 2/2 [00:00<00:00,  3.25it/s]\n",
      "                 Class     Images  Instances      Box(P          R      mAP50  mAP50-95): 100%|██████████| 1/1 [00:00<00:00, 16.05it/s]"
     ]
    },
    {
     "name": "stdout",
     "output_type": "stream",
     "text": [
      "                   all         10         31    0.00687      0.708       0.13     0.0859\n"
     ]
    },
    {
     "name": "stderr",
     "output_type": "stream",
     "text": [
      "\n"
     ]
    },
    {
     "name": "stdout",
     "output_type": "stream",
     "text": [
      "\n",
      "      Epoch    GPU_mem   box_loss   cls_loss   dfl_loss  Instances       Size\n"
     ]
    },
    {
     "name": "stderr",
     "output_type": "stream",
     "text": [
      "      7/150      3.57G     0.9097      2.795      1.006         80        640: 100%|██████████| 2/2 [00:00<00:00,  3.16it/s]\n",
      "                 Class     Images  Instances      Box(P          R      mAP50  mAP50-95): 100%|██████████| 1/1 [00:00<00:00, 15.28it/s]"
     ]
    },
    {
     "name": "stdout",
     "output_type": "stream",
     "text": [
      "                   all         10         31    0.00772      0.745      0.336      0.239\n"
     ]
    },
    {
     "name": "stderr",
     "output_type": "stream",
     "text": [
      "\n"
     ]
    },
    {
     "name": "stdout",
     "output_type": "stream",
     "text": [
      "\n",
      "      Epoch    GPU_mem   box_loss   cls_loss   dfl_loss  Instances       Size\n"
     ]
    },
    {
     "name": "stderr",
     "output_type": "stream",
     "text": [
      "      8/150      3.51G     0.8981       2.56     0.9749         77        640: 100%|██████████| 2/2 [00:00<00:00,  3.19it/s]\n",
      "                 Class     Images  Instances      Box(P          R      mAP50  mAP50-95): 100%|██████████| 1/1 [00:00<00:00, 15.72it/s]"
     ]
    },
    {
     "name": "stdout",
     "output_type": "stream",
     "text": [
      "                   all         10         31     0.0081      0.657      0.412      0.317\n"
     ]
    },
    {
     "name": "stderr",
     "output_type": "stream",
     "text": [
      "\n"
     ]
    },
    {
     "name": "stdout",
     "output_type": "stream",
     "text": [
      "\n",
      "      Epoch    GPU_mem   box_loss   cls_loss   dfl_loss  Instances       Size\n"
     ]
    },
    {
     "name": "stderr",
     "output_type": "stream",
     "text": [
      "      9/150      3.52G     0.8804      2.391     0.9562        112        640: 100%|██████████| 2/2 [00:00<00:00,  3.18it/s]\n",
      "                 Class     Images  Instances      Box(P          R      mAP50  mAP50-95): 100%|██████████| 1/1 [00:00<00:00, 16.41it/s]"
     ]
    },
    {
     "name": "stdout",
     "output_type": "stream",
     "text": [
      "                   all         10         31    0.00856      0.801      0.368      0.243\n"
     ]
    },
    {
     "name": "stderr",
     "output_type": "stream",
     "text": [
      "\n"
     ]
    },
    {
     "name": "stdout",
     "output_type": "stream",
     "text": [
      "\n",
      "      Epoch    GPU_mem   box_loss   cls_loss   dfl_loss  Instances       Size\n"
     ]
    },
    {
     "name": "stderr",
     "output_type": "stream",
     "text": [
      "     10/150      3.53G     0.8958      2.273     0.9574        128        640: 100%|██████████| 2/2 [00:00<00:00,  3.17it/s]\n",
      "                 Class     Images  Instances      Box(P          R      mAP50  mAP50-95): 100%|██████████| 1/1 [00:00<00:00, 15.90it/s]"
     ]
    },
    {
     "name": "stdout",
     "output_type": "stream",
     "text": [
      "                   all         10         31    0.00833      0.801       0.34      0.231\n"
     ]
    },
    {
     "name": "stderr",
     "output_type": "stream",
     "text": [
      "\n"
     ]
    },
    {
     "name": "stdout",
     "output_type": "stream",
     "text": [
      "\n",
      "      Epoch    GPU_mem   box_loss   cls_loss   dfl_loss  Instances       Size\n"
     ]
    },
    {
     "name": "stderr",
     "output_type": "stream",
     "text": [
      "     11/150      3.51G     0.9669      2.023     0.9647         97        640: 100%|██████████| 2/2 [00:00<00:00,  3.18it/s]\n",
      "                 Class     Images  Instances      Box(P          R      mAP50  mAP50-95): 100%|██████████| 1/1 [00:00<00:00, 14.80it/s]"
     ]
    },
    {
     "name": "stdout",
     "output_type": "stream",
     "text": [
      "                   all         10         31     0.0083      0.782      0.404      0.242\n"
     ]
    },
    {
     "name": "stderr",
     "output_type": "stream",
     "text": [
      "\n"
     ]
    },
    {
     "name": "stdout",
     "output_type": "stream",
     "text": [
      "\n",
      "      Epoch    GPU_mem   box_loss   cls_loss   dfl_loss  Instances       Size\n"
     ]
    },
    {
     "name": "stderr",
     "output_type": "stream",
     "text": [
      "     12/150      3.53G      0.929       1.84     0.9597         74        640: 100%|██████████| 2/2 [00:00<00:00,  3.17it/s]\n",
      "                 Class     Images  Instances      Box(P          R      mAP50  mAP50-95): 100%|██████████| 1/1 [00:00<00:00, 15.45it/s]"
     ]
    },
    {
     "name": "stdout",
     "output_type": "stream",
     "text": [
      "                   all         10         31    0.00898      0.907      0.423      0.268\n"
     ]
    },
    {
     "name": "stderr",
     "output_type": "stream",
     "text": [
      "\n"
     ]
    },
    {
     "name": "stdout",
     "output_type": "stream",
     "text": [
      "\n",
      "      Epoch    GPU_mem   box_loss   cls_loss   dfl_loss  Instances       Size\n"
     ]
    },
    {
     "name": "stderr",
     "output_type": "stream",
     "text": [
      "     13/150      3.53G     0.8656      1.608     0.9669        100        640: 100%|██████████| 2/2 [00:00<00:00,  3.18it/s]\n",
      "                 Class     Images  Instances      Box(P          R      mAP50  mAP50-95): 100%|██████████| 1/1 [00:00<00:00, 16.07it/s]"
     ]
    },
    {
     "name": "stdout",
     "output_type": "stream",
     "text": [
      "                   all         10         31     0.0102      0.819      0.379      0.275\n"
     ]
    },
    {
     "name": "stderr",
     "output_type": "stream",
     "text": [
      "\n"
     ]
    },
    {
     "name": "stdout",
     "output_type": "stream",
     "text": [
      "\n",
      "      Epoch    GPU_mem   box_loss   cls_loss   dfl_loss  Instances       Size\n"
     ]
    },
    {
     "name": "stderr",
     "output_type": "stream",
     "text": [
      "     14/150      3.51G     0.9503       1.47     0.9745         89        640: 100%|██████████| 2/2 [00:00<00:00,  3.16it/s]\n",
      "                 Class     Images  Instances      Box(P          R      mAP50  mAP50-95): 100%|██████████| 1/1 [00:00<00:00, 16.30it/s]"
     ]
    },
    {
     "name": "stdout",
     "output_type": "stream",
     "text": [
      "                   all         10         31     0.0102      0.764      0.222      0.174\n"
     ]
    },
    {
     "name": "stderr",
     "output_type": "stream",
     "text": [
      "\n"
     ]
    },
    {
     "name": "stdout",
     "output_type": "stream",
     "text": [
      "\n",
      "      Epoch    GPU_mem   box_loss   cls_loss   dfl_loss  Instances       Size\n"
     ]
    },
    {
     "name": "stderr",
     "output_type": "stream",
     "text": [
      "     15/150      3.51G     0.8617      1.456     0.9634         82        640: 100%|██████████| 2/2 [00:00<00:00,  3.17it/s]\n",
      "                 Class     Images  Instances      Box(P          R      mAP50  mAP50-95): 100%|██████████| 1/1 [00:00<00:00, 15.97it/s]"
     ]
    },
    {
     "name": "stdout",
     "output_type": "stream",
     "text": [
      "                   all         10         31     0.0106      0.727      0.138       0.11\n"
     ]
    },
    {
     "name": "stderr",
     "output_type": "stream",
     "text": [
      "\n"
     ]
    },
    {
     "name": "stdout",
     "output_type": "stream",
     "text": [
      "\n",
      "      Epoch    GPU_mem   box_loss   cls_loss   dfl_loss  Instances       Size\n"
     ]
    },
    {
     "name": "stderr",
     "output_type": "stream",
     "text": [
      "     16/150      3.51G     0.8333      1.378      0.949         79        640: 100%|██████████| 2/2 [00:00<00:00,  3.24it/s]\n",
      "                 Class     Images  Instances      Box(P          R      mAP50  mAP50-95): 100%|██████████| 1/1 [00:00<00:00, 15.81it/s]"
     ]
    },
    {
     "name": "stdout",
     "output_type": "stream",
     "text": [
      "                   all         10         31    0.00978       0.69      0.132      0.105\n"
     ]
    },
    {
     "name": "stderr",
     "output_type": "stream",
     "text": [
      "\n"
     ]
    },
    {
     "name": "stdout",
     "output_type": "stream",
     "text": [
      "\n",
      "      Epoch    GPU_mem   box_loss   cls_loss   dfl_loss  Instances       Size\n"
     ]
    },
    {
     "name": "stderr",
     "output_type": "stream",
     "text": [
      "     17/150      3.51G     0.8229      1.468     0.9395         49        640: 100%|██████████| 2/2 [00:00<00:00,  3.24it/s]\n",
      "                 Class     Images  Instances      Box(P          R      mAP50  mAP50-95): 100%|██████████| 1/1 [00:00<00:00, 16.02it/s]"
     ]
    },
    {
     "name": "stdout",
     "output_type": "stream",
     "text": [
      "                   all         10         31       0.01       0.69     0.0344     0.0266\n"
     ]
    },
    {
     "name": "stderr",
     "output_type": "stream",
     "text": [
      "\n"
     ]
    },
    {
     "name": "stdout",
     "output_type": "stream",
     "text": [
      "\n",
      "      Epoch    GPU_mem   box_loss   cls_loss   dfl_loss  Instances       Size\n"
     ]
    },
    {
     "name": "stderr",
     "output_type": "stream",
     "text": [
      "     18/150      3.51G     0.8125      1.408     0.9379         71        640: 100%|██████████| 2/2 [00:00<00:00,  3.24it/s]\n",
      "                 Class     Images  Instances      Box(P          R      mAP50  mAP50-95): 100%|██████████| 1/1 [00:00<00:00, 16.01it/s]"
     ]
    },
    {
     "name": "stdout",
     "output_type": "stream",
     "text": [
      "                   all         10         31     0.0108      0.708     0.0314     0.0235\n"
     ]
    },
    {
     "name": "stderr",
     "output_type": "stream",
     "text": [
      "\n"
     ]
    },
    {
     "name": "stdout",
     "output_type": "stream",
     "text": [
      "\n",
      "      Epoch    GPU_mem   box_loss   cls_loss   dfl_loss  Instances       Size\n"
     ]
    },
    {
     "name": "stderr",
     "output_type": "stream",
     "text": [
      "     19/150      3.51G     0.7523      1.211     0.9257        104        640: 100%|██████████| 2/2 [00:00<00:00,  3.22it/s]\n",
      "                 Class     Images  Instances      Box(P          R      mAP50  mAP50-95): 100%|██████████| 1/1 [00:00<00:00, 16.18it/s]"
     ]
    },
    {
     "name": "stdout",
     "output_type": "stream",
     "text": [
      "                   all         10         31     0.0108      0.727     0.0262     0.0199\n"
     ]
    },
    {
     "name": "stderr",
     "output_type": "stream",
     "text": [
      "\n"
     ]
    },
    {
     "name": "stdout",
     "output_type": "stream",
     "text": [
      "\n",
      "      Epoch    GPU_mem   box_loss   cls_loss   dfl_loss  Instances       Size\n"
     ]
    },
    {
     "name": "stderr",
     "output_type": "stream",
     "text": [
      "     20/150      3.53G     0.7898      1.275      0.954         79        640: 100%|██████████| 2/2 [00:00<00:00,  3.22it/s]\n",
      "                 Class     Images  Instances      Box(P          R      mAP50  mAP50-95): 100%|██████████| 1/1 [00:00<00:00, 15.34it/s]"
     ]
    },
    {
     "name": "stdout",
     "output_type": "stream",
     "text": [
      "                   all         10         31     0.0107      0.764     0.0616     0.0338\n"
     ]
    },
    {
     "name": "stderr",
     "output_type": "stream",
     "text": [
      "\n"
     ]
    },
    {
     "name": "stdout",
     "output_type": "stream",
     "text": [
      "\n",
      "      Epoch    GPU_mem   box_loss   cls_loss   dfl_loss  Instances       Size\n"
     ]
    },
    {
     "name": "stderr",
     "output_type": "stream",
     "text": [
      "     21/150      3.53G      0.718      1.255     0.9625         63        640: 100%|██████████| 2/2 [00:00<00:00,  3.23it/s]\n",
      "                 Class     Images  Instances      Box(P          R      mAP50  mAP50-95): 100%|██████████| 1/1 [00:00<00:00, 15.85it/s]"
     ]
    },
    {
     "name": "stdout",
     "output_type": "stream",
     "text": [
      "                   all         10         31    0.00933      0.745     0.0794     0.0425\n"
     ]
    },
    {
     "name": "stderr",
     "output_type": "stream",
     "text": [
      "\n"
     ]
    },
    {
     "name": "stdout",
     "output_type": "stream",
     "text": [
      "\n",
      "      Epoch    GPU_mem   box_loss   cls_loss   dfl_loss  Instances       Size\n"
     ]
    },
    {
     "name": "stderr",
     "output_type": "stream",
     "text": [
      "     22/150      3.51G     0.8181      1.283     0.9292         73        640: 100%|██████████| 2/2 [00:00<00:00,  3.22it/s]\n",
      "                 Class     Images  Instances      Box(P          R      mAP50  mAP50-95): 100%|██████████| 1/1 [00:00<00:00, 15.31it/s]"
     ]
    },
    {
     "name": "stdout",
     "output_type": "stream",
     "text": [
      "                   all         10         31    0.00901      0.764      0.054     0.0298\n"
     ]
    },
    {
     "name": "stderr",
     "output_type": "stream",
     "text": [
      "\n"
     ]
    },
    {
     "name": "stdout",
     "output_type": "stream",
     "text": [
      "\n",
      "      Epoch    GPU_mem   box_loss   cls_loss   dfl_loss  Instances       Size\n"
     ]
    },
    {
     "name": "stderr",
     "output_type": "stream",
     "text": [
      "     23/150      3.53G     0.7387       1.22     0.9255         68        640: 100%|██████████| 2/2 [00:00<00:00,  3.22it/s]\n",
      "                 Class     Images  Instances      Box(P          R      mAP50  mAP50-95): 100%|██████████| 1/1 [00:00<00:00, 15.53it/s]"
     ]
    },
    {
     "name": "stdout",
     "output_type": "stream",
     "text": [
      "                   all         10         31     0.0084      0.745     0.0336     0.0177\n"
     ]
    },
    {
     "name": "stderr",
     "output_type": "stream",
     "text": [
      "\n"
     ]
    },
    {
     "name": "stdout",
     "output_type": "stream",
     "text": [
      "\n",
      "      Epoch    GPU_mem   box_loss   cls_loss   dfl_loss  Instances       Size\n"
     ]
    },
    {
     "name": "stderr",
     "output_type": "stream",
     "text": [
      "     24/150      3.51G     0.7684       1.07     0.9258         81        640: 100%|██████████| 2/2 [00:00<00:00,  3.20it/s]\n",
      "                 Class     Images  Instances      Box(P          R      mAP50  mAP50-95): 100%|██████████| 1/1 [00:00<00:00, 14.35it/s]"
     ]
    },
    {
     "name": "stdout",
     "output_type": "stream",
     "text": [
      "                   all         10         31    0.00778      0.708     0.0246     0.0161\n"
     ]
    },
    {
     "name": "stderr",
     "output_type": "stream",
     "text": [
      "\n"
     ]
    },
    {
     "name": "stdout",
     "output_type": "stream",
     "text": [
      "\n",
      "      Epoch    GPU_mem   box_loss   cls_loss   dfl_loss  Instances       Size\n"
     ]
    },
    {
     "name": "stderr",
     "output_type": "stream",
     "text": [
      "     25/150      3.51G     0.6816          1     0.8909        103        640: 100%|██████████| 2/2 [00:00<00:00,  3.20it/s]\n",
      "                 Class     Images  Instances      Box(P          R      mAP50  mAP50-95): 100%|██████████| 1/1 [00:00<00:00, 15.80it/s]"
     ]
    },
    {
     "name": "stdout",
     "output_type": "stream",
     "text": [
      "                   all         10         31      0.008       0.69     0.0137    0.00754\n"
     ]
    },
    {
     "name": "stderr",
     "output_type": "stream",
     "text": [
      "\n"
     ]
    },
    {
     "name": "stdout",
     "output_type": "stream",
     "text": [
      "\n",
      "      Epoch    GPU_mem   box_loss   cls_loss   dfl_loss  Instances       Size\n"
     ]
    },
    {
     "name": "stderr",
     "output_type": "stream",
     "text": [
      "     26/150      3.51G     0.7474      1.147     0.9325         75        640: 100%|██████████| 2/2 [00:00<00:00,  3.20it/s]\n",
      "                 Class     Images  Instances      Box(P          R      mAP50  mAP50-95): 100%|██████████| 1/1 [00:00<00:00, 16.03it/s]"
     ]
    },
    {
     "name": "stdout",
     "output_type": "stream",
     "text": [
      "                   all         10         31    0.00737      0.528    0.00733    0.00501\n"
     ]
    },
    {
     "name": "stderr",
     "output_type": "stream",
     "text": [
      "\n"
     ]
    },
    {
     "name": "stdout",
     "output_type": "stream",
     "text": [
      "\n",
      "      Epoch    GPU_mem   box_loss   cls_loss   dfl_loss  Instances       Size\n"
     ]
    },
    {
     "name": "stderr",
     "output_type": "stream",
     "text": [
      "     27/150      3.51G     0.7266      1.098     0.9363         65        640: 100%|██████████| 2/2 [00:00<00:00,  3.19it/s]\n",
      "                 Class     Images  Instances      Box(P          R      mAP50  mAP50-95): 100%|██████████| 1/1 [00:00<00:00, 15.35it/s]"
     ]
    },
    {
     "name": "stdout",
     "output_type": "stream",
     "text": [
      "                   all         10         31    0.00616      0.472    0.00514    0.00323\n"
     ]
    },
    {
     "name": "stderr",
     "output_type": "stream",
     "text": [
      "\n"
     ]
    },
    {
     "name": "stdout",
     "output_type": "stream",
     "text": [
      "\n",
      "      Epoch    GPU_mem   box_loss   cls_loss   dfl_loss  Instances       Size\n"
     ]
    },
    {
     "name": "stderr",
     "output_type": "stream",
     "text": [
      "     28/150      3.53G      0.722      1.114     0.9089         69        640: 100%|██████████| 2/2 [00:00<00:00,  3.21it/s]\n",
      "                 Class     Images  Instances      Box(P          R      mAP50  mAP50-95): 100%|██████████| 1/1 [00:00<00:00, 16.32it/s]"
     ]
    },
    {
     "name": "stdout",
     "output_type": "stream",
     "text": [
      "                   all         10         31    0.00645      0.491    0.00549    0.00372\n"
     ]
    },
    {
     "name": "stderr",
     "output_type": "stream",
     "text": [
      "\n"
     ]
    },
    {
     "name": "stdout",
     "output_type": "stream",
     "text": [
      "\n",
      "      Epoch    GPU_mem   box_loss   cls_loss   dfl_loss  Instances       Size\n"
     ]
    },
    {
     "name": "stderr",
     "output_type": "stream",
     "text": [
      "     29/150      3.53G      0.733      1.159     0.9389         60        640: 100%|██████████| 2/2 [00:00<00:00,  3.20it/s]\n",
      "                 Class     Images  Instances      Box(P          R      mAP50  mAP50-95): 100%|██████████| 1/1 [00:00<00:00, 15.30it/s]"
     ]
    },
    {
     "name": "stdout",
     "output_type": "stream",
     "text": [
      "                   all         10         31    0.00707      0.546     0.0128     0.0109\n"
     ]
    },
    {
     "name": "stderr",
     "output_type": "stream",
     "text": [
      "\n"
     ]
    },
    {
     "name": "stdout",
     "output_type": "stream",
     "text": [
      "\n",
      "      Epoch    GPU_mem   box_loss   cls_loss   dfl_loss  Instances       Size\n"
     ]
    },
    {
     "name": "stderr",
     "output_type": "stream",
     "text": [
      "     30/150      3.52G     0.6933      1.069      0.896        109        640: 100%|██████████| 2/2 [00:00<00:00,  3.19it/s]\n",
      "                 Class     Images  Instances      Box(P          R      mAP50  mAP50-95): 100%|██████████| 1/1 [00:00<00:00, 16.10it/s]"
     ]
    },
    {
     "name": "stdout",
     "output_type": "stream",
     "text": [
      "                   all         10         31    0.00739      0.583     0.0452     0.0397\n"
     ]
    },
    {
     "name": "stderr",
     "output_type": "stream",
     "text": [
      "\n"
     ]
    },
    {
     "name": "stdout",
     "output_type": "stream",
     "text": [
      "\n",
      "      Epoch    GPU_mem   box_loss   cls_loss   dfl_loss  Instances       Size\n"
     ]
    },
    {
     "name": "stderr",
     "output_type": "stream",
     "text": [
      "     31/150      3.52G     0.7235      1.064     0.8983         73        640: 100%|██████████| 2/2 [00:00<00:00,  3.15it/s]\n",
      "                 Class     Images  Instances      Box(P          R      mAP50  mAP50-95): 100%|██████████| 1/1 [00:00<00:00, 16.29it/s]"
     ]
    },
    {
     "name": "stdout",
     "output_type": "stream",
     "text": [
      "                   all         10         31    0.00805       0.62     0.0464     0.0407\n"
     ]
    },
    {
     "name": "stderr",
     "output_type": "stream",
     "text": [
      "\n"
     ]
    },
    {
     "name": "stdout",
     "output_type": "stream",
     "text": [
      "\n",
      "      Epoch    GPU_mem   box_loss   cls_loss   dfl_loss  Instances       Size\n"
     ]
    },
    {
     "name": "stderr",
     "output_type": "stream",
     "text": [
      "     32/150      3.51G     0.6592     0.9564     0.8788         82        640: 100%|██████████| 2/2 [00:00<00:00,  3.20it/s]\n",
      "                 Class     Images  Instances      Box(P          R      mAP50  mAP50-95): 100%|██████████| 1/1 [00:00<00:00, 15.98it/s]"
     ]
    },
    {
     "name": "stdout",
     "output_type": "stream",
     "text": [
      "                   all         10         31    0.00804      0.639     0.0457     0.0392\n"
     ]
    },
    {
     "name": "stderr",
     "output_type": "stream",
     "text": [
      "\n"
     ]
    },
    {
     "name": "stdout",
     "output_type": "stream",
     "text": [
      "\n",
      "      Epoch    GPU_mem   box_loss   cls_loss   dfl_loss  Instances       Size\n"
     ]
    },
    {
     "name": "stderr",
     "output_type": "stream",
     "text": [
      "     33/150      3.52G     0.6829     0.9802     0.9043         68        640: 100%|██████████| 2/2 [00:00<00:00,  3.16it/s]\n",
      "                 Class     Images  Instances      Box(P          R      mAP50  mAP50-95): 100%|██████████| 1/1 [00:00<00:00, 16.10it/s]"
     ]
    },
    {
     "name": "stdout",
     "output_type": "stream",
     "text": [
      "                   all         10         31    0.00901      0.713      0.169      0.137\n"
     ]
    },
    {
     "name": "stderr",
     "output_type": "stream",
     "text": [
      "\n"
     ]
    },
    {
     "name": "stdout",
     "output_type": "stream",
     "text": [
      "\n",
      "      Epoch    GPU_mem   box_loss   cls_loss   dfl_loss  Instances       Size\n"
     ]
    },
    {
     "name": "stderr",
     "output_type": "stream",
     "text": [
      "     34/150      3.51G     0.7247      0.973       0.91         96        640: 100%|██████████| 2/2 [00:00<00:00,  3.16it/s]\n",
      "                 Class     Images  Instances      Box(P          R      mAP50  mAP50-95): 100%|██████████| 1/1 [00:00<00:00, 15.38it/s]"
     ]
    },
    {
     "name": "stdout",
     "output_type": "stream",
     "text": [
      "                   all         10         31    0.00835      0.801      0.303      0.235\n"
     ]
    },
    {
     "name": "stderr",
     "output_type": "stream",
     "text": [
      "\n"
     ]
    },
    {
     "name": "stdout",
     "output_type": "stream",
     "text": [
      "\n",
      "      Epoch    GPU_mem   box_loss   cls_loss   dfl_loss  Instances       Size\n"
     ]
    },
    {
     "name": "stderr",
     "output_type": "stream",
     "text": [
      "     35/150      3.53G     0.6961      1.013     0.8971         94        640: 100%|██████████| 2/2 [00:00<00:00,  3.17it/s]\n",
      "                 Class     Images  Instances      Box(P          R      mAP50  mAP50-95): 100%|██████████| 1/1 [00:00<00:00, 14.19it/s]"
     ]
    },
    {
     "name": "stdout",
     "output_type": "stream",
     "text": [
      "                   all         10         31    0.00796      0.782      0.457       0.36\n"
     ]
    },
    {
     "name": "stderr",
     "output_type": "stream",
     "text": [
      "\n"
     ]
    },
    {
     "name": "stdout",
     "output_type": "stream",
     "text": [
      "\n",
      "      Epoch    GPU_mem   box_loss   cls_loss   dfl_loss  Instances       Size\n"
     ]
    },
    {
     "name": "stderr",
     "output_type": "stream",
     "text": [
      "     36/150      3.53G     0.7065     0.9719     0.8891         96        640: 100%|██████████| 2/2 [00:00<00:00,  3.15it/s]\n",
      "                 Class     Images  Instances      Box(P          R      mAP50  mAP50-95): 100%|██████████| 1/1 [00:00<00:00, 15.90it/s]"
     ]
    },
    {
     "name": "stdout",
     "output_type": "stream",
     "text": [
      "                   all         10         31    0.00847      0.801      0.457      0.365\n"
     ]
    },
    {
     "name": "stderr",
     "output_type": "stream",
     "text": [
      "\n"
     ]
    },
    {
     "name": "stdout",
     "output_type": "stream",
     "text": [
      "\n",
      "      Epoch    GPU_mem   box_loss   cls_loss   dfl_loss  Instances       Size\n"
     ]
    },
    {
     "name": "stderr",
     "output_type": "stream",
     "text": [
      "     37/150      3.51G     0.6955     0.9621     0.9127         96        640: 100%|██████████| 2/2 [00:00<00:00,  3.14it/s]\n",
      "                 Class     Images  Instances      Box(P          R      mAP50  mAP50-95): 100%|██████████| 1/1 [00:00<00:00, 15.71it/s]"
     ]
    },
    {
     "name": "stdout",
     "output_type": "stream",
     "text": [
      "                   all         10         31    0.00867      0.694      0.471      0.367\n"
     ]
    },
    {
     "name": "stderr",
     "output_type": "stream",
     "text": [
      "\n"
     ]
    },
    {
     "name": "stdout",
     "output_type": "stream",
     "text": [
      "\n",
      "      Epoch    GPU_mem   box_loss   cls_loss   dfl_loss  Instances       Size\n"
     ]
    },
    {
     "name": "stderr",
     "output_type": "stream",
     "text": [
      "     38/150      3.53G     0.7305     0.9457     0.9441         93        640: 100%|██████████| 2/2 [00:00<00:00,  3.16it/s]\n",
      "                 Class     Images  Instances      Box(P          R      mAP50  mAP50-95): 100%|██████████| 1/1 [00:00<00:00, 15.67it/s]"
     ]
    },
    {
     "name": "stdout",
     "output_type": "stream",
     "text": [
      "                   all         10         31      0.912      0.392       0.43       0.33\n"
     ]
    },
    {
     "name": "stderr",
     "output_type": "stream",
     "text": [
      "\n"
     ]
    },
    {
     "name": "stdout",
     "output_type": "stream",
     "text": [
      "\n",
      "      Epoch    GPU_mem   box_loss   cls_loss   dfl_loss  Instances       Size\n"
     ]
    },
    {
     "name": "stderr",
     "output_type": "stream",
     "text": [
      "     39/150      3.53G     0.6605     0.8978      0.916         77        640: 100%|██████████| 2/2 [00:00<00:00,  3.15it/s]\n",
      "                 Class     Images  Instances      Box(P          R      mAP50  mAP50-95): 100%|██████████| 1/1 [00:00<00:00, 15.34it/s]"
     ]
    },
    {
     "name": "stdout",
     "output_type": "stream",
     "text": [
      "                   all         10         31          1      0.282      0.432      0.358\n"
     ]
    },
    {
     "name": "stderr",
     "output_type": "stream",
     "text": [
      "\n"
     ]
    },
    {
     "name": "stdout",
     "output_type": "stream",
     "text": [
      "\n",
      "      Epoch    GPU_mem   box_loss   cls_loss   dfl_loss  Instances       Size\n"
     ]
    },
    {
     "name": "stderr",
     "output_type": "stream",
     "text": [
      "     40/150      3.51G     0.7973      1.045     0.9706         83        640: 100%|██████████| 2/2 [00:00<00:00,  3.16it/s]\n",
      "                 Class     Images  Instances      Box(P          R      mAP50  mAP50-95): 100%|██████████| 1/1 [00:00<00:00, 15.90it/s]"
     ]
    },
    {
     "name": "stdout",
     "output_type": "stream",
     "text": [
      "                   all         10         31      0.596      0.162      0.207       0.17\n"
     ]
    },
    {
     "name": "stderr",
     "output_type": "stream",
     "text": [
      "\n"
     ]
    },
    {
     "name": "stdout",
     "output_type": "stream",
     "text": [
      "\n",
      "      Epoch    GPU_mem   box_loss   cls_loss   dfl_loss  Instances       Size\n"
     ]
    },
    {
     "name": "stderr",
     "output_type": "stream",
     "text": [
      "     41/150      3.53G     0.7499     0.9756     0.9665         79        640: 100%|██████████| 2/2 [00:00<00:00,  3.16it/s]\n",
      "                 Class     Images  Instances      Box(P          R      mAP50  mAP50-95): 100%|██████████| 1/1 [00:00<00:00, 16.02it/s]"
     ]
    },
    {
     "name": "stdout",
     "output_type": "stream",
     "text": [
      "                   all         10         31    0.00875      0.745       0.15      0.121\n"
     ]
    },
    {
     "name": "stderr",
     "output_type": "stream",
     "text": [
      "\n"
     ]
    },
    {
     "name": "stdout",
     "output_type": "stream",
     "text": [
      "\n",
      "      Epoch    GPU_mem   box_loss   cls_loss   dfl_loss  Instances       Size\n"
     ]
    },
    {
     "name": "stderr",
     "output_type": "stream",
     "text": [
      "     42/150      3.53G     0.7583     0.9862      0.925         84        640: 100%|██████████| 2/2 [00:00<00:00,  3.17it/s]\n",
      "                 Class     Images  Instances      Box(P          R      mAP50  mAP50-95): 100%|██████████| 1/1 [00:00<00:00, 15.69it/s]"
     ]
    },
    {
     "name": "stdout",
     "output_type": "stream",
     "text": [
      "                   all         10         31    0.00942      0.764      0.234      0.171\n"
     ]
    },
    {
     "name": "stderr",
     "output_type": "stream",
     "text": [
      "\n"
     ]
    },
    {
     "name": "stdout",
     "output_type": "stream",
     "text": [
      "\n",
      "      Epoch    GPU_mem   box_loss   cls_loss   dfl_loss  Instances       Size\n"
     ]
    },
    {
     "name": "stderr",
     "output_type": "stream",
     "text": [
      "     43/150      3.51G     0.6877      0.876     0.9072         99        640: 100%|██████████| 2/2 [00:00<00:00,  2.59it/s]\n",
      "                 Class     Images  Instances      Box(P          R      mAP50  mAP50-95): 100%|██████████| 1/1 [00:00<00:00, 13.77it/s]"
     ]
    },
    {
     "name": "stdout",
     "output_type": "stream",
     "text": [
      "                   all         10         31      0.674      0.306      0.317      0.253\n"
     ]
    },
    {
     "name": "stderr",
     "output_type": "stream",
     "text": [
      "\n"
     ]
    },
    {
     "name": "stdout",
     "output_type": "stream",
     "text": [
      "\n",
      "      Epoch    GPU_mem   box_loss   cls_loss   dfl_loss  Instances       Size\n"
     ]
    },
    {
     "name": "stderr",
     "output_type": "stream",
     "text": [
      "     44/150      3.53G     0.7763     0.9289     0.9435         90        640: 100%|██████████| 2/2 [00:00<00:00,  3.12it/s]\n",
      "                 Class     Images  Instances      Box(P          R      mAP50  mAP50-95): 100%|██████████| 1/1 [00:00<00:00, 16.10it/s]"
     ]
    },
    {
     "name": "stdout",
     "output_type": "stream",
     "text": [
      "                   all         10         31      0.934      0.284      0.398      0.282\n"
     ]
    },
    {
     "name": "stderr",
     "output_type": "stream",
     "text": [
      "\n"
     ]
    },
    {
     "name": "stdout",
     "output_type": "stream",
     "text": [
      "\n",
      "      Epoch    GPU_mem   box_loss   cls_loss   dfl_loss  Instances       Size\n"
     ]
    },
    {
     "name": "stderr",
     "output_type": "stream",
     "text": [
      "     45/150      3.53G     0.7241      0.827     0.9151        118        640: 100%|██████████| 2/2 [00:00<00:00,  2.76it/s]\n",
      "                 Class     Images  Instances      Box(P          R      mAP50  mAP50-95): 100%|██████████| 1/1 [00:00<00:00, 14.34it/s]"
     ]
    },
    {
     "name": "stdout",
     "output_type": "stream",
     "text": [
      "                   all         10         31       0.81      0.125      0.325       0.23\n"
     ]
    },
    {
     "name": "stderr",
     "output_type": "stream",
     "text": [
      "\n"
     ]
    },
    {
     "name": "stdout",
     "output_type": "stream",
     "text": [
      "\n",
      "      Epoch    GPU_mem   box_loss   cls_loss   dfl_loss  Instances       Size\n"
     ]
    },
    {
     "name": "stderr",
     "output_type": "stream",
     "text": [
      "     46/150      3.51G     0.6706     0.9096     0.8842         54        640: 100%|██████████| 2/2 [00:00<00:00,  2.71it/s]\n",
      "                 Class     Images  Instances      Box(P          R      mAP50  mAP50-95): 100%|██████████| 1/1 [00:00<00:00, 13.67it/s]"
     ]
    },
    {
     "name": "stdout",
     "output_type": "stream",
     "text": [
      "                   all         10         31       0.81      0.125      0.325       0.23\n"
     ]
    },
    {
     "name": "stderr",
     "output_type": "stream",
     "text": [
      "\n"
     ]
    },
    {
     "name": "stdout",
     "output_type": "stream",
     "text": [
      "\n",
      "      Epoch    GPU_mem   box_loss   cls_loss   dfl_loss  Instances       Size\n"
     ]
    },
    {
     "name": "stderr",
     "output_type": "stream",
     "text": [
      "     47/150      3.55G     0.7212     0.8937     0.9106         68        640: 100%|██████████| 2/2 [00:00<00:00,  2.65it/s]\n",
      "                 Class     Images  Instances      Box(P          R      mAP50  mAP50-95): 100%|██████████| 1/1 [00:00<00:00, 13.75it/s]"
     ]
    },
    {
     "name": "stdout",
     "output_type": "stream",
     "text": [
      "                   all         10         31      0.767      0.125      0.332      0.233\n"
     ]
    },
    {
     "name": "stderr",
     "output_type": "stream",
     "text": [
      "\n"
     ]
    },
    {
     "name": "stdout",
     "output_type": "stream",
     "text": [
      "\n",
      "      Epoch    GPU_mem   box_loss   cls_loss   dfl_loss  Instances       Size\n"
     ]
    },
    {
     "name": "stderr",
     "output_type": "stream",
     "text": [
      "     48/150      3.52G     0.6351     0.8932     0.9278         80        640: 100%|██████████| 2/2 [00:00<00:00,  3.04it/s]\n",
      "                 Class     Images  Instances      Box(P          R      mAP50  mAP50-95): 100%|██████████| 1/1 [00:00<00:00, 13.58it/s]"
     ]
    },
    {
     "name": "stdout",
     "output_type": "stream",
     "text": [
      "                   all         10         31      0.806      0.209      0.377      0.292\n"
     ]
    },
    {
     "name": "stderr",
     "output_type": "stream",
     "text": [
      "\n"
     ]
    },
    {
     "name": "stdout",
     "output_type": "stream",
     "text": [
      "\n",
      "      Epoch    GPU_mem   box_loss   cls_loss   dfl_loss  Instances       Size\n"
     ]
    },
    {
     "name": "stderr",
     "output_type": "stream",
     "text": [
      "     49/150      3.53G     0.7689     0.9458     0.9293         89        640: 100%|██████████| 2/2 [00:00<00:00,  3.10it/s]\n",
      "                 Class     Images  Instances      Box(P          R      mAP50  mAP50-95): 100%|██████████| 1/1 [00:00<00:00, 13.15it/s]"
     ]
    },
    {
     "name": "stdout",
     "output_type": "stream",
     "text": [
      "                   all         10         31      0.806      0.209      0.377      0.292\n"
     ]
    },
    {
     "name": "stderr",
     "output_type": "stream",
     "text": [
      "\n"
     ]
    },
    {
     "name": "stdout",
     "output_type": "stream",
     "text": [
      "\n",
      "      Epoch    GPU_mem   box_loss   cls_loss   dfl_loss  Instances       Size\n"
     ]
    },
    {
     "name": "stderr",
     "output_type": "stream",
     "text": [
      "     50/150      3.53G     0.6601     0.8894     0.8959         77        640: 100%|██████████| 2/2 [00:00<00:00,  2.59it/s]\n",
      "                 Class     Images  Instances      Box(P          R      mAP50  mAP50-95): 100%|██████████| 1/1 [00:00<00:00, 13.19it/s]"
     ]
    },
    {
     "name": "stdout",
     "output_type": "stream",
     "text": [
      "                   all         10         31      0.797      0.301      0.433      0.319\n"
     ]
    },
    {
     "name": "stderr",
     "output_type": "stream",
     "text": [
      "\n"
     ]
    },
    {
     "name": "stdout",
     "output_type": "stream",
     "text": [
      "\n",
      "      Epoch    GPU_mem   box_loss   cls_loss   dfl_loss  Instances       Size\n"
     ]
    },
    {
     "name": "stderr",
     "output_type": "stream",
     "text": [
      "     51/150      3.53G     0.6854     0.8536     0.8925         76        640: 100%|██████████| 2/2 [00:00<00:00,  2.56it/s]\n",
      "                 Class     Images  Instances      Box(P          R      mAP50  mAP50-95): 100%|██████████| 1/1 [00:00<00:00, 14.27it/s]"
     ]
    },
    {
     "name": "stdout",
     "output_type": "stream",
     "text": [
      "                   all         10         31      0.784      0.361       0.42       0.33\n"
     ]
    },
    {
     "name": "stderr",
     "output_type": "stream",
     "text": [
      "\n"
     ]
    },
    {
     "name": "stdout",
     "output_type": "stream",
     "text": [
      "\n",
      "      Epoch    GPU_mem   box_loss   cls_loss   dfl_loss  Instances       Size\n"
     ]
    },
    {
     "name": "stderr",
     "output_type": "stream",
     "text": [
      "     52/150      3.53G     0.6741     0.9259      0.907         95        640: 100%|██████████| 2/2 [00:00<00:00,  2.52it/s]\n",
      "                 Class     Images  Instances      Box(P          R      mAP50  mAP50-95): 100%|██████████| 1/1 [00:00<00:00, 12.43it/s]"
     ]
    },
    {
     "name": "stdout",
     "output_type": "stream",
     "text": [
      "                   all         10         31      0.784      0.361       0.42       0.33\n"
     ]
    },
    {
     "name": "stderr",
     "output_type": "stream",
     "text": [
      "\n"
     ]
    },
    {
     "name": "stdout",
     "output_type": "stream",
     "text": [
      "\n",
      "      Epoch    GPU_mem   box_loss   cls_loss   dfl_loss  Instances       Size\n"
     ]
    },
    {
     "name": "stderr",
     "output_type": "stream",
     "text": [
      "     53/150      3.53G     0.6915     0.8762     0.9067         83        640: 100%|██████████| 2/2 [00:00<00:00,  2.62it/s]\n",
      "                 Class     Images  Instances      Box(P          R      mAP50  mAP50-95): 100%|██████████| 1/1 [00:00<00:00, 12.39it/s]"
     ]
    },
    {
     "name": "stdout",
     "output_type": "stream",
     "text": [
      "                   all         10         31      0.936      0.398      0.488      0.381\n"
     ]
    },
    {
     "name": "stderr",
     "output_type": "stream",
     "text": [
      "\n"
     ]
    },
    {
     "name": "stdout",
     "output_type": "stream",
     "text": [
      "\n",
      "      Epoch    GPU_mem   box_loss   cls_loss   dfl_loss  Instances       Size\n"
     ]
    },
    {
     "name": "stderr",
     "output_type": "stream",
     "text": [
      "     54/150      3.51G     0.6496     0.7947     0.8935         97        640: 100%|██████████| 2/2 [00:00<00:00,  2.48it/s]\n",
      "                 Class     Images  Instances      Box(P          R      mAP50  mAP50-95): 100%|██████████| 1/1 [00:00<00:00, 13.48it/s]"
     ]
    },
    {
     "name": "stdout",
     "output_type": "stream",
     "text": [
      "                   all         10         31      0.851      0.445      0.536      0.437\n"
     ]
    },
    {
     "name": "stderr",
     "output_type": "stream",
     "text": [
      "\n"
     ]
    },
    {
     "name": "stdout",
     "output_type": "stream",
     "text": [
      "\n",
      "      Epoch    GPU_mem   box_loss   cls_loss   dfl_loss  Instances       Size\n"
     ]
    },
    {
     "name": "stderr",
     "output_type": "stream",
     "text": [
      "     55/150      3.51G     0.5964     0.7714     0.8669         84        640: 100%|██████████| 2/2 [00:00<00:00,  2.54it/s]\n",
      "                 Class     Images  Instances      Box(P          R      mAP50  mAP50-95): 100%|██████████| 1/1 [00:00<00:00, 12.36it/s]"
     ]
    },
    {
     "name": "stdout",
     "output_type": "stream",
     "text": [
      "                   all         10         31      0.851      0.445      0.536      0.437\n"
     ]
    },
    {
     "name": "stderr",
     "output_type": "stream",
     "text": [
      "\n"
     ]
    },
    {
     "name": "stdout",
     "output_type": "stream",
     "text": [
      "\n",
      "      Epoch    GPU_mem   box_loss   cls_loss   dfl_loss  Instances       Size\n"
     ]
    },
    {
     "name": "stderr",
     "output_type": "stream",
     "text": [
      "     56/150      3.53G     0.6361     0.8247     0.8852         84        640: 100%|██████████| 2/2 [00:00<00:00,  2.46it/s]\n",
      "                 Class     Images  Instances      Box(P          R      mAP50  mAP50-95): 100%|██████████| 1/1 [00:00<00:00, 12.11it/s]"
     ]
    },
    {
     "name": "stdout",
     "output_type": "stream",
     "text": [
      "                   all         10         31      0.823      0.464      0.571      0.481\n"
     ]
    },
    {
     "name": "stderr",
     "output_type": "stream",
     "text": [
      "\n"
     ]
    },
    {
     "name": "stdout",
     "output_type": "stream",
     "text": [
      "\n",
      "      Epoch    GPU_mem   box_loss   cls_loss   dfl_loss  Instances       Size\n"
     ]
    },
    {
     "name": "stderr",
     "output_type": "stream",
     "text": [
      "     57/150      3.51G     0.6607     0.8891     0.8878        130        640: 100%|██████████| 2/2 [00:00<00:00,  2.46it/s]\n",
      "                 Class     Images  Instances      Box(P          R      mAP50  mAP50-95): 100%|██████████| 1/1 [00:00<00:00, 12.48it/s]"
     ]
    },
    {
     "name": "stdout",
     "output_type": "stream",
     "text": [
      "                   all         10         31      0.746      0.437      0.584      0.499\n"
     ]
    },
    {
     "name": "stderr",
     "output_type": "stream",
     "text": [
      "\n"
     ]
    },
    {
     "name": "stdout",
     "output_type": "stream",
     "text": [
      "\n",
      "      Epoch    GPU_mem   box_loss   cls_loss   dfl_loss  Instances       Size\n"
     ]
    },
    {
     "name": "stderr",
     "output_type": "stream",
     "text": [
      "     58/150      3.52G     0.6046     0.8643      0.889         89        640: 100%|██████████| 2/2 [00:00<00:00,  2.51it/s]\n",
      "                 Class     Images  Instances      Box(P          R      mAP50  mAP50-95): 100%|██████████| 1/1 [00:00<00:00, 12.39it/s]"
     ]
    },
    {
     "name": "stdout",
     "output_type": "stream",
     "text": [
      "                   all         10         31      0.746      0.437      0.584      0.499\n"
     ]
    },
    {
     "name": "stderr",
     "output_type": "stream",
     "text": [
      "\n"
     ]
    },
    {
     "name": "stdout",
     "output_type": "stream",
     "text": [
      "\n",
      "      Epoch    GPU_mem   box_loss   cls_loss   dfl_loss  Instances       Size\n"
     ]
    },
    {
     "name": "stderr",
     "output_type": "stream",
     "text": [
      "     59/150      3.51G     0.5859     0.7712     0.8796         88        640: 100%|██████████| 2/2 [00:00<00:00,  2.43it/s]\n",
      "                 Class     Images  Instances      Box(P          R      mAP50  mAP50-95): 100%|██████████| 1/1 [00:00<00:00, 12.57it/s]"
     ]
    },
    {
     "name": "stdout",
     "output_type": "stream",
     "text": [
      "                   all         10         31      0.901      0.412      0.603      0.517\n"
     ]
    },
    {
     "name": "stderr",
     "output_type": "stream",
     "text": [
      "\n"
     ]
    },
    {
     "name": "stdout",
     "output_type": "stream",
     "text": [
      "\n",
      "      Epoch    GPU_mem   box_loss   cls_loss   dfl_loss  Instances       Size\n"
     ]
    },
    {
     "name": "stderr",
     "output_type": "stream",
     "text": [
      "     60/150      3.57G     0.6142     0.7866     0.8786         85        640: 100%|██████████| 2/2 [00:00<00:00,  2.42it/s]\n",
      "                 Class     Images  Instances      Box(P          R      mAP50  mAP50-95): 100%|██████████| 1/1 [00:00<00:00, 12.46it/s]"
     ]
    },
    {
     "name": "stdout",
     "output_type": "stream",
     "text": [
      "                   all         10         31      0.839      0.452      0.618      0.521\n"
     ]
    },
    {
     "name": "stderr",
     "output_type": "stream",
     "text": [
      "\n"
     ]
    },
    {
     "name": "stdout",
     "output_type": "stream",
     "text": [
      "\n",
      "      Epoch    GPU_mem   box_loss   cls_loss   dfl_loss  Instances       Size\n"
     ]
    },
    {
     "name": "stderr",
     "output_type": "stream",
     "text": [
      "     61/150      3.51G     0.6358     0.8156     0.8838         77        640: 100%|██████████| 2/2 [00:00<00:00,  2.50it/s]\n",
      "                 Class     Images  Instances      Box(P          R      mAP50  mAP50-95): 100%|██████████| 1/1 [00:00<00:00, 12.63it/s]"
     ]
    },
    {
     "name": "stdout",
     "output_type": "stream",
     "text": [
      "                   all         10         31      0.839      0.452      0.618      0.521\n"
     ]
    },
    {
     "name": "stderr",
     "output_type": "stream",
     "text": [
      "\n"
     ]
    },
    {
     "name": "stdout",
     "output_type": "stream",
     "text": [
      "\n",
      "      Epoch    GPU_mem   box_loss   cls_loss   dfl_loss  Instances       Size\n"
     ]
    },
    {
     "name": "stderr",
     "output_type": "stream",
     "text": [
      "     62/150      3.53G     0.6666     0.7825     0.9119         83        640: 100%|██████████| 2/2 [00:00<00:00,  2.39it/s]\n",
      "                 Class     Images  Instances      Box(P          R      mAP50  mAP50-95): 100%|██████████| 1/1 [00:00<00:00, 12.47it/s]"
     ]
    },
    {
     "name": "stdout",
     "output_type": "stream",
     "text": [
      "                   all         10         31       0.83      0.462      0.572      0.482\n"
     ]
    },
    {
     "name": "stderr",
     "output_type": "stream",
     "text": [
      "\n"
     ]
    },
    {
     "name": "stdout",
     "output_type": "stream",
     "text": [
      "\n",
      "      Epoch    GPU_mem   box_loss   cls_loss   dfl_loss  Instances       Size\n"
     ]
    },
    {
     "name": "stderr",
     "output_type": "stream",
     "text": [
      "     63/150      3.52G     0.5691     0.7941     0.8846         50        640: 100%|██████████| 2/2 [00:00<00:00,  2.44it/s]\n",
      "                 Class     Images  Instances      Box(P          R      mAP50  mAP50-95): 100%|██████████| 1/1 [00:00<00:00, 12.34it/s]"
     ]
    },
    {
     "name": "stdout",
     "output_type": "stream",
     "text": [
      "                   all         10         31      0.672      0.307      0.562       0.48\n"
     ]
    },
    {
     "name": "stderr",
     "output_type": "stream",
     "text": [
      "\n"
     ]
    },
    {
     "name": "stdout",
     "output_type": "stream",
     "text": [
      "\n",
      "      Epoch    GPU_mem   box_loss   cls_loss   dfl_loss  Instances       Size\n"
     ]
    },
    {
     "name": "stderr",
     "output_type": "stream",
     "text": [
      "     64/150      3.53G     0.6439     0.7712     0.8838         70        640: 100%|██████████| 2/2 [00:00<00:00,  2.48it/s]\n",
      "                 Class     Images  Instances      Box(P          R      mAP50  mAP50-95): 100%|██████████| 1/1 [00:00<00:00, 12.71it/s]"
     ]
    },
    {
     "name": "stdout",
     "output_type": "stream",
     "text": [
      "                   all         10         31      0.672      0.307      0.562       0.48\n"
     ]
    },
    {
     "name": "stderr",
     "output_type": "stream",
     "text": [
      "\n"
     ]
    },
    {
     "name": "stdout",
     "output_type": "stream",
     "text": [
      "\n",
      "      Epoch    GPU_mem   box_loss   cls_loss   dfl_loss  Instances       Size\n"
     ]
    },
    {
     "name": "stderr",
     "output_type": "stream",
     "text": [
      "     65/150      3.52G     0.6003     0.7718     0.8678        103        640: 100%|██████████| 2/2 [00:00<00:00,  2.40it/s]\n",
      "                 Class     Images  Instances      Box(P          R      mAP50  mAP50-95): 100%|██████████| 1/1 [00:00<00:00, 12.60it/s]"
     ]
    },
    {
     "name": "stdout",
     "output_type": "stream",
     "text": [
      "                   all         10         31      0.615      0.307      0.523      0.438\n"
     ]
    },
    {
     "name": "stderr",
     "output_type": "stream",
     "text": [
      "\n"
     ]
    },
    {
     "name": "stdout",
     "output_type": "stream",
     "text": [
      "\n",
      "      Epoch    GPU_mem   box_loss   cls_loss   dfl_loss  Instances       Size\n"
     ]
    },
    {
     "name": "stderr",
     "output_type": "stream",
     "text": [
      "     66/150      3.52G      0.597     0.8069     0.8893         59        640: 100%|██████████| 2/2 [00:00<00:00,  2.44it/s]\n",
      "                 Class     Images  Instances      Box(P          R      mAP50  mAP50-95): 100%|██████████| 1/1 [00:00<00:00, 12.21it/s]"
     ]
    },
    {
     "name": "stdout",
     "output_type": "stream",
     "text": [
      "                   all         10         31      0.715      0.531       0.56      0.467\n"
     ]
    },
    {
     "name": "stderr",
     "output_type": "stream",
     "text": [
      "\n"
     ]
    },
    {
     "name": "stdout",
     "output_type": "stream",
     "text": [
      "\n",
      "      Epoch    GPU_mem   box_loss   cls_loss   dfl_loss  Instances       Size\n"
     ]
    },
    {
     "name": "stderr",
     "output_type": "stream",
     "text": [
      "     67/150      3.53G     0.6072     0.7618     0.8838         98        640: 100%|██████████| 2/2 [00:00<00:00,  2.47it/s]\n",
      "                 Class     Images  Instances      Box(P          R      mAP50  mAP50-95): 100%|██████████| 1/1 [00:00<00:00, 12.66it/s]"
     ]
    },
    {
     "name": "stdout",
     "output_type": "stream",
     "text": [
      "                   all         10         31      0.715      0.531       0.56      0.467\n"
     ]
    },
    {
     "name": "stderr",
     "output_type": "stream",
     "text": [
      "\n"
     ]
    },
    {
     "name": "stdout",
     "output_type": "stream",
     "text": [
      "\n",
      "      Epoch    GPU_mem   box_loss   cls_loss   dfl_loss  Instances       Size\n"
     ]
    },
    {
     "name": "stderr",
     "output_type": "stream",
     "text": [
      "     68/150      3.51G     0.5677     0.7751     0.8689         84        640: 100%|██████████| 2/2 [00:00<00:00,  2.42it/s]\n",
      "                 Class     Images  Instances      Box(P          R      mAP50  mAP50-95): 100%|██████████| 1/1 [00:00<00:00, 12.28it/s]"
     ]
    },
    {
     "name": "stdout",
     "output_type": "stream",
     "text": [
      "                   all         10         31        0.7      0.546      0.634      0.515\n"
     ]
    },
    {
     "name": "stderr",
     "output_type": "stream",
     "text": [
      "\n"
     ]
    },
    {
     "name": "stdout",
     "output_type": "stream",
     "text": [
      "\n",
      "      Epoch    GPU_mem   box_loss   cls_loss   dfl_loss  Instances       Size\n"
     ]
    },
    {
     "name": "stderr",
     "output_type": "stream",
     "text": [
      "     69/150      3.51G     0.5473     0.7601     0.8812         64        640: 100%|██████████| 2/2 [00:00<00:00,  2.44it/s]\n",
      "                 Class     Images  Instances      Box(P          R      mAP50  mAP50-95): 100%|██████████| 1/1 [00:00<00:00, 12.60it/s]"
     ]
    },
    {
     "name": "stdout",
     "output_type": "stream",
     "text": [
      "                   all         10         31      0.955      0.482      0.632      0.508\n"
     ]
    },
    {
     "name": "stderr",
     "output_type": "stream",
     "text": [
      "\n"
     ]
    },
    {
     "name": "stdout",
     "output_type": "stream",
     "text": [
      "\n",
      "      Epoch    GPU_mem   box_loss   cls_loss   dfl_loss  Instances       Size\n"
     ]
    },
    {
     "name": "stderr",
     "output_type": "stream",
     "text": [
      "     70/150      3.51G     0.6034     0.8029        0.9         66        640: 100%|██████████| 2/2 [00:00<00:00,  2.49it/s]\n",
      "                 Class     Images  Instances      Box(P          R      mAP50  mAP50-95): 100%|██████████| 1/1 [00:00<00:00, 12.41it/s]"
     ]
    },
    {
     "name": "stdout",
     "output_type": "stream",
     "text": [
      "                   all         10         31      0.955      0.482      0.632      0.508\n"
     ]
    },
    {
     "name": "stderr",
     "output_type": "stream",
     "text": [
      "\n"
     ]
    },
    {
     "name": "stdout",
     "output_type": "stream",
     "text": [
      "\n",
      "      Epoch    GPU_mem   box_loss   cls_loss   dfl_loss  Instances       Size\n"
     ]
    },
    {
     "name": "stderr",
     "output_type": "stream",
     "text": [
      "     71/150      3.52G     0.5434     0.6996     0.8824         91        640: 100%|██████████| 2/2 [00:00<00:00,  2.41it/s]\n",
      "                 Class     Images  Instances      Box(P          R      mAP50  mAP50-95): 100%|██████████| 1/1 [00:00<00:00, 12.48it/s]"
     ]
    },
    {
     "name": "stdout",
     "output_type": "stream",
     "text": [
      "                   all         10         31      0.832      0.554      0.628      0.507\n"
     ]
    },
    {
     "name": "stderr",
     "output_type": "stream",
     "text": [
      "\n"
     ]
    },
    {
     "name": "stdout",
     "output_type": "stream",
     "text": [
      "\n",
      "      Epoch    GPU_mem   box_loss   cls_loss   dfl_loss  Instances       Size\n"
     ]
    },
    {
     "name": "stderr",
     "output_type": "stream",
     "text": [
      "     72/150      3.57G     0.5763     0.7337     0.8491         61        640: 100%|██████████| 2/2 [00:00<00:00,  2.41it/s]\n",
      "                 Class     Images  Instances      Box(P          R      mAP50  mAP50-95): 100%|██████████| 1/1 [00:00<00:00, 12.43it/s]"
     ]
    },
    {
     "name": "stdout",
     "output_type": "stream",
     "text": [
      "                   all         10         31      0.974      0.491      0.612      0.493\n"
     ]
    },
    {
     "name": "stderr",
     "output_type": "stream",
     "text": [
      "\n"
     ]
    },
    {
     "name": "stdout",
     "output_type": "stream",
     "text": [
      "\n",
      "      Epoch    GPU_mem   box_loss   cls_loss   dfl_loss  Instances       Size\n"
     ]
    },
    {
     "name": "stderr",
     "output_type": "stream",
     "text": [
      "     73/150      3.51G     0.5915     0.7602     0.8974         95        640: 100%|██████████| 2/2 [00:00<00:00,  2.47it/s]\n",
      "                 Class     Images  Instances      Box(P          R      mAP50  mAP50-95): 100%|██████████| 1/1 [00:00<00:00, 12.76it/s]"
     ]
    },
    {
     "name": "stdout",
     "output_type": "stream",
     "text": [
      "                   all         10         31      0.974      0.491      0.612      0.493\n"
     ]
    },
    {
     "name": "stderr",
     "output_type": "stream",
     "text": [
      "\n"
     ]
    },
    {
     "name": "stdout",
     "output_type": "stream",
     "text": [
      "\n",
      "      Epoch    GPU_mem   box_loss   cls_loss   dfl_loss  Instances       Size\n"
     ]
    },
    {
     "name": "stderr",
     "output_type": "stream",
     "text": [
      "     74/150      3.51G       0.57     0.8461     0.8594         60        640: 100%|██████████| 2/2 [00:00<00:00,  2.43it/s]\n",
      "                 Class     Images  Instances      Box(P          R      mAP50  mAP50-95): 100%|██████████| 1/1 [00:00<00:00, 12.54it/s]"
     ]
    },
    {
     "name": "stdout",
     "output_type": "stream",
     "text": [
      "                   all         10         31       0.85      0.509        0.6      0.474\n"
     ]
    },
    {
     "name": "stderr",
     "output_type": "stream",
     "text": [
      "\n"
     ]
    },
    {
     "name": "stdout",
     "output_type": "stream",
     "text": [
      "\n",
      "      Epoch    GPU_mem   box_loss   cls_loss   dfl_loss  Instances       Size\n"
     ]
    },
    {
     "name": "stderr",
     "output_type": "stream",
     "text": [
      "     75/150      3.51G     0.5542     0.6875     0.8722         62        640: 100%|██████████| 2/2 [00:00<00:00,  2.42it/s]\n",
      "                 Class     Images  Instances      Box(P          R      mAP50  mAP50-95): 100%|██████████| 1/1 [00:00<00:00, 12.56it/s]"
     ]
    },
    {
     "name": "stdout",
     "output_type": "stream",
     "text": [
      "                   all         10         31      0.765      0.476      0.575       0.46\n"
     ]
    },
    {
     "name": "stderr",
     "output_type": "stream",
     "text": [
      "\n"
     ]
    },
    {
     "name": "stdout",
     "output_type": "stream",
     "text": [
      "\n",
      "      Epoch    GPU_mem   box_loss   cls_loss   dfl_loss  Instances       Size\n"
     ]
    },
    {
     "name": "stderr",
     "output_type": "stream",
     "text": [
      "     76/150      3.53G      0.528     0.7239     0.8666         71        640: 100%|██████████| 2/2 [00:00<00:00,  2.49it/s]\n",
      "                 Class     Images  Instances      Box(P          R      mAP50  mAP50-95): 100%|██████████| 1/1 [00:00<00:00, 12.83it/s]"
     ]
    },
    {
     "name": "stdout",
     "output_type": "stream",
     "text": [
      "                   all         10         31      0.765      0.476      0.575       0.46\n"
     ]
    },
    {
     "name": "stderr",
     "output_type": "stream",
     "text": [
      "\n"
     ]
    },
    {
     "name": "stdout",
     "output_type": "stream",
     "text": [
      "\n",
      "      Epoch    GPU_mem   box_loss   cls_loss   dfl_loss  Instances       Size\n"
     ]
    },
    {
     "name": "stderr",
     "output_type": "stream",
     "text": [
      "     77/150      3.51G      0.556     0.6906     0.8345         54        640: 100%|██████████| 2/2 [00:00<00:00,  2.42it/s]\n",
      "                 Class     Images  Instances      Box(P          R      mAP50  mAP50-95): 100%|██████████| 1/1 [00:00<00:00, 12.77it/s]"
     ]
    },
    {
     "name": "stdout",
     "output_type": "stream",
     "text": [
      "                   all         10         31      0.667      0.454      0.556      0.435\n"
     ]
    },
    {
     "name": "stderr",
     "output_type": "stream",
     "text": [
      "\n"
     ]
    },
    {
     "name": "stdout",
     "output_type": "stream",
     "text": [
      "\n",
      "      Epoch    GPU_mem   box_loss   cls_loss   dfl_loss  Instances       Size\n"
     ]
    },
    {
     "name": "stderr",
     "output_type": "stream",
     "text": [
      "     78/150      3.51G     0.5806     0.7099     0.9029         98        640: 100%|██████████| 2/2 [00:00<00:00,  2.42it/s]\n",
      "                 Class     Images  Instances      Box(P          R      mAP50  mAP50-95): 100%|██████████| 1/1 [00:00<00:00, 12.26it/s]"
     ]
    },
    {
     "name": "stdout",
     "output_type": "stream",
     "text": [
      "                   all         10         31      0.565       0.38      0.521      0.409\n"
     ]
    },
    {
     "name": "stderr",
     "output_type": "stream",
     "text": [
      "\n"
     ]
    },
    {
     "name": "stdout",
     "output_type": "stream",
     "text": [
      "\n",
      "      Epoch    GPU_mem   box_loss   cls_loss   dfl_loss  Instances       Size\n"
     ]
    },
    {
     "name": "stderr",
     "output_type": "stream",
     "text": [
      "     79/150      3.53G     0.5204     0.6679     0.8491         73        640: 100%|██████████| 2/2 [00:00<00:00,  2.49it/s]\n",
      "                 Class     Images  Instances      Box(P          R      mAP50  mAP50-95): 100%|██████████| 1/1 [00:00<00:00, 12.60it/s]"
     ]
    },
    {
     "name": "stdout",
     "output_type": "stream",
     "text": [
      "                   all         10         31      0.565       0.38      0.521      0.409\n"
     ]
    },
    {
     "name": "stderr",
     "output_type": "stream",
     "text": [
      "\n"
     ]
    },
    {
     "name": "stdout",
     "output_type": "stream",
     "text": [
      "\n",
      "      Epoch    GPU_mem   box_loss   cls_loss   dfl_loss  Instances       Size\n"
     ]
    },
    {
     "name": "stderr",
     "output_type": "stream",
     "text": [
      "     80/150      3.51G     0.5566     0.7292     0.8687         94        640: 100%|██████████| 2/2 [00:00<00:00,  2.43it/s]\n",
      "                 Class     Images  Instances      Box(P          R      mAP50  mAP50-95): 100%|██████████| 1/1 [00:00<00:00, 12.89it/s]"
     ]
    },
    {
     "name": "stdout",
     "output_type": "stream",
     "text": [
      "                   all         10         31      0.984      0.271      0.474      0.361\n"
     ]
    },
    {
     "name": "stderr",
     "output_type": "stream",
     "text": [
      "\n"
     ]
    },
    {
     "name": "stdout",
     "output_type": "stream",
     "text": [
      "\n",
      "      Epoch    GPU_mem   box_loss   cls_loss   dfl_loss  Instances       Size\n"
     ]
    },
    {
     "name": "stderr",
     "output_type": "stream",
     "text": [
      "     81/150      3.51G     0.5584     0.6754     0.8409         80        640: 100%|██████████| 2/2 [00:00<00:00,  2.43it/s]\n",
      "                 Class     Images  Instances      Box(P          R      mAP50  mAP50-95): 100%|██████████| 1/1 [00:00<00:00, 12.33it/s]"
     ]
    },
    {
     "name": "stdout",
     "output_type": "stream",
     "text": [
      "                   all         10         31      0.974      0.271      0.483      0.386\n"
     ]
    },
    {
     "name": "stderr",
     "output_type": "stream",
     "text": [
      "\n"
     ]
    },
    {
     "name": "stdout",
     "output_type": "stream",
     "text": [
      "\n",
      "      Epoch    GPU_mem   box_loss   cls_loss   dfl_loss  Instances       Size\n"
     ]
    },
    {
     "name": "stderr",
     "output_type": "stream",
     "text": [
      "     82/150      3.51G     0.5297     0.6403     0.8244         78        640: 100%|██████████| 2/2 [00:00<00:00,  2.47it/s]\n",
      "                 Class     Images  Instances      Box(P          R      mAP50  mAP50-95): 100%|██████████| 1/1 [00:00<00:00, 12.73it/s]"
     ]
    },
    {
     "name": "stdout",
     "output_type": "stream",
     "text": [
      "                   all         10         31      0.974      0.271      0.483      0.386\n"
     ]
    },
    {
     "name": "stderr",
     "output_type": "stream",
     "text": [
      "\n"
     ]
    },
    {
     "name": "stdout",
     "output_type": "stream",
     "text": [
      "\n",
      "      Epoch    GPU_mem   box_loss   cls_loss   dfl_loss  Instances       Size\n"
     ]
    },
    {
     "name": "stderr",
     "output_type": "stream",
     "text": [
      "     83/150      3.53G     0.5605     0.6803       0.91         99        640: 100%|██████████| 2/2 [00:00<00:00,  2.42it/s]\n",
      "                 Class     Images  Instances      Box(P          R      mAP50  mAP50-95): 100%|██████████| 1/1 [00:00<00:00, 12.39it/s]"
     ]
    },
    {
     "name": "stdout",
     "output_type": "stream",
     "text": [
      "                   all         10         31      0.501       0.38      0.519      0.423\n"
     ]
    },
    {
     "name": "stderr",
     "output_type": "stream",
     "text": [
      "\n"
     ]
    },
    {
     "name": "stdout",
     "output_type": "stream",
     "text": [
      "\n",
      "      Epoch    GPU_mem   box_loss   cls_loss   dfl_loss  Instances       Size\n"
     ]
    },
    {
     "name": "stderr",
     "output_type": "stream",
     "text": [
      "     84/150      3.53G     0.5984     0.6831      0.852         92        640: 100%|██████████| 2/2 [00:00<00:00,  2.42it/s]\n",
      "                 Class     Images  Instances      Box(P          R      mAP50  mAP50-95): 100%|██████████| 1/1 [00:00<00:00, 12.77it/s]"
     ]
    },
    {
     "name": "stdout",
     "output_type": "stream",
     "text": [
      "                   all         10         31      0.526      0.408      0.529      0.428\n"
     ]
    },
    {
     "name": "stderr",
     "output_type": "stream",
     "text": [
      "\n"
     ]
    },
    {
     "name": "stdout",
     "output_type": "stream",
     "text": [
      "\n",
      "      Epoch    GPU_mem   box_loss   cls_loss   dfl_loss  Instances       Size\n"
     ]
    },
    {
     "name": "stderr",
     "output_type": "stream",
     "text": [
      "     85/150      3.51G      0.504     0.6057     0.8568        103        640: 100%|██████████| 2/2 [00:00<00:00,  2.48it/s]\n",
      "                 Class     Images  Instances      Box(P          R      mAP50  mAP50-95): 100%|██████████| 1/1 [00:00<00:00, 12.38it/s]"
     ]
    },
    {
     "name": "stdout",
     "output_type": "stream",
     "text": [
      "                   all         10         31      0.526      0.408      0.529      0.428\n"
     ]
    },
    {
     "name": "stderr",
     "output_type": "stream",
     "text": [
      "\n"
     ]
    },
    {
     "name": "stdout",
     "output_type": "stream",
     "text": [
      "\n",
      "      Epoch    GPU_mem   box_loss   cls_loss   dfl_loss  Instances       Size\n"
     ]
    },
    {
     "name": "stderr",
     "output_type": "stream",
     "text": [
      "     86/150      3.53G     0.4633     0.6553     0.8502         77        640: 100%|██████████| 2/2 [00:00<00:00,  2.43it/s]\n",
      "                 Class     Images  Instances      Box(P          R      mAP50  mAP50-95): 100%|██████████| 1/1 [00:00<00:00, 12.43it/s]"
     ]
    },
    {
     "name": "stdout",
     "output_type": "stream",
     "text": [
      "                   all         10         31      0.558      0.423      0.502      0.401\n"
     ]
    },
    {
     "name": "stderr",
     "output_type": "stream",
     "text": [
      "\n"
     ]
    },
    {
     "name": "stdout",
     "output_type": "stream",
     "text": [
      "\n",
      "      Epoch    GPU_mem   box_loss   cls_loss   dfl_loss  Instances       Size\n"
     ]
    },
    {
     "name": "stderr",
     "output_type": "stream",
     "text": [
      "     87/150      3.53G     0.5072     0.6517     0.8586         85        640: 100%|██████████| 2/2 [00:00<00:00,  2.41it/s]\n",
      "                 Class     Images  Instances      Box(P          R      mAP50  mAP50-95): 100%|██████████| 1/1 [00:00<00:00, 12.28it/s]"
     ]
    },
    {
     "name": "stdout",
     "output_type": "stream",
     "text": [
      "                   all         10         31      0.631      0.454      0.543      0.438\n"
     ]
    },
    {
     "name": "stderr",
     "output_type": "stream",
     "text": [
      "\n"
     ]
    },
    {
     "name": "stdout",
     "output_type": "stream",
     "text": [
      "\n",
      "      Epoch    GPU_mem   box_loss   cls_loss   dfl_loss  Instances       Size\n"
     ]
    },
    {
     "name": "stderr",
     "output_type": "stream",
     "text": [
      "     88/150      3.51G     0.5368     0.7103      0.874         51        640: 100%|██████████| 2/2 [00:01<00:00,  1.88it/s]\n",
      "                 Class     Images  Instances      Box(P          R      mAP50  mAP50-95): 100%|██████████| 1/1 [00:00<00:00,  5.29it/s]\n"
     ]
    },
    {
     "name": "stdout",
     "output_type": "stream",
     "text": [
      "                   all         10         31      0.631      0.454      0.543      0.438\n",
      "\n",
      "      Epoch    GPU_mem   box_loss   cls_loss   dfl_loss  Instances       Size\n"
     ]
    },
    {
     "name": "stderr",
     "output_type": "stream",
     "text": [
      "     89/150      3.51G     0.5012     0.6043      0.833         74        640: 100%|██████████| 2/2 [00:01<00:00,  1.44it/s]\n",
      "                 Class     Images  Instances      Box(P          R      mAP50  mAP50-95): 100%|██████████| 1/1 [00:00<00:00,  5.38it/s]"
     ]
    },
    {
     "name": "stdout",
     "output_type": "stream",
     "text": [
      "                   all         10         31      0.662      0.472      0.552      0.447\n"
     ]
    },
    {
     "name": "stderr",
     "output_type": "stream",
     "text": [
      "\n"
     ]
    },
    {
     "name": "stdout",
     "output_type": "stream",
     "text": [
      "\n",
      "      Epoch    GPU_mem   box_loss   cls_loss   dfl_loss  Instances       Size\n"
     ]
    },
    {
     "name": "stderr",
     "output_type": "stream",
     "text": [
      "     90/150      3.52G     0.5354     0.6424     0.8896         66        640: 100%|██████████| 2/2 [00:01<00:00,  1.41it/s]\n",
      "                 Class     Images  Instances      Box(P          R      mAP50  mAP50-95): 100%|██████████| 1/1 [00:00<00:00,  5.59it/s]"
     ]
    },
    {
     "name": "stdout",
     "output_type": "stream",
     "text": [
      "                   all         10         31      0.672      0.498      0.583      0.468\n"
     ]
    },
    {
     "name": "stderr",
     "output_type": "stream",
     "text": [
      "\n"
     ]
    },
    {
     "name": "stdout",
     "output_type": "stream",
     "text": [
      "\n",
      "      Epoch    GPU_mem   box_loss   cls_loss   dfl_loss  Instances       Size\n"
     ]
    },
    {
     "name": "stderr",
     "output_type": "stream",
     "text": [
      "     91/150      3.55G     0.4944      0.623     0.8275         64        640: 100%|██████████| 2/2 [00:00<00:00,  2.46it/s]\n",
      "                 Class     Images  Instances      Box(P          R      mAP50  mAP50-95): 100%|██████████| 1/1 [00:00<00:00,  6.90it/s]"
     ]
    },
    {
     "name": "stdout",
     "output_type": "stream",
     "text": [
      "                   all         10         31      0.672      0.498      0.583      0.468\n"
     ]
    },
    {
     "name": "stderr",
     "output_type": "stream",
     "text": [
      "\n"
     ]
    },
    {
     "name": "stdout",
     "output_type": "stream",
     "text": [
      "\n",
      "      Epoch    GPU_mem   box_loss   cls_loss   dfl_loss  Instances       Size\n"
     ]
    },
    {
     "name": "stderr",
     "output_type": "stream",
     "text": [
      "     92/150      3.51G     0.5229     0.6461     0.8953         83        640: 100%|██████████| 2/2 [00:01<00:00,  1.33it/s]\n",
      "                 Class     Images  Instances      Box(P          R      mAP50  mAP50-95): 100%|██████████| 1/1 [00:00<00:00,  8.31it/s]"
     ]
    },
    {
     "name": "stdout",
     "output_type": "stream",
     "text": [
      "                   all         10         31      0.791      0.477      0.608      0.491\n"
     ]
    },
    {
     "name": "stderr",
     "output_type": "stream",
     "text": [
      "\n"
     ]
    },
    {
     "name": "stdout",
     "output_type": "stream",
     "text": [
      "\n",
      "      Epoch    GPU_mem   box_loss   cls_loss   dfl_loss  Instances       Size\n"
     ]
    },
    {
     "name": "stderr",
     "output_type": "stream",
     "text": [
      "     93/150      3.53G     0.5227     0.6362     0.8775         84        640: 100%|██████████| 2/2 [00:01<00:00,  1.40it/s]\n",
      "                 Class     Images  Instances      Box(P          R      mAP50  mAP50-95): 100%|██████████| 1/1 [00:00<00:00,  6.04it/s]"
     ]
    },
    {
     "name": "stdout",
     "output_type": "stream",
     "text": [
      "                   all         10         31      0.764      0.499      0.624      0.521\n"
     ]
    },
    {
     "name": "stderr",
     "output_type": "stream",
     "text": [
      "\n"
     ]
    },
    {
     "name": "stdout",
     "output_type": "stream",
     "text": [
      "\n",
      "      Epoch    GPU_mem   box_loss   cls_loss   dfl_loss  Instances       Size\n"
     ]
    },
    {
     "name": "stderr",
     "output_type": "stream",
     "text": [
      "     94/150      3.52G     0.5632     0.6606     0.8978         90        640: 100%|██████████| 2/2 [00:01<00:00,  1.58it/s]\n",
      "                 Class     Images  Instances      Box(P          R      mAP50  mAP50-95): 100%|██████████| 1/1 [00:00<00:00,  5.41it/s]"
     ]
    },
    {
     "name": "stdout",
     "output_type": "stream",
     "text": [
      "                   all         10         31      0.764      0.499      0.624      0.521\n"
     ]
    },
    {
     "name": "stderr",
     "output_type": "stream",
     "text": [
      "\n"
     ]
    },
    {
     "name": "stdout",
     "output_type": "stream",
     "text": [
      "\n",
      "      Epoch    GPU_mem   box_loss   cls_loss   dfl_loss  Instances       Size\n"
     ]
    },
    {
     "name": "stderr",
     "output_type": "stream",
     "text": [
      "     95/150      3.51G     0.4835      0.591     0.8476         93        640: 100%|██████████| 2/2 [00:01<00:00,  1.61it/s]\n",
      "                 Class     Images  Instances      Box(P          R      mAP50  mAP50-95): 100%|██████████| 1/1 [00:00<00:00,  5.44it/s]"
     ]
    },
    {
     "name": "stdout",
     "output_type": "stream",
     "text": [
      "                   all         10         31      0.657      0.565      0.628      0.533\n"
     ]
    },
    {
     "name": "stderr",
     "output_type": "stream",
     "text": [
      "\n"
     ]
    },
    {
     "name": "stdout",
     "output_type": "stream",
     "text": [
      "\n",
      "      Epoch    GPU_mem   box_loss   cls_loss   dfl_loss  Instances       Size\n"
     ]
    },
    {
     "name": "stderr",
     "output_type": "stream",
     "text": [
      "     96/150      3.52G     0.4746     0.6271     0.8502         64        640: 100%|██████████| 2/2 [00:01<00:00,  1.29it/s]\n",
      "                 Class     Images  Instances      Box(P          R      mAP50  mAP50-95): 100%|██████████| 1/1 [00:00<00:00,  5.40it/s]"
     ]
    },
    {
     "name": "stdout",
     "output_type": "stream",
     "text": [
      "                   all         10         31      0.623      0.583      0.626      0.521\n"
     ]
    },
    {
     "name": "stderr",
     "output_type": "stream",
     "text": [
      "\n"
     ]
    },
    {
     "name": "stdout",
     "output_type": "stream",
     "text": [
      "\n",
      "      Epoch    GPU_mem   box_loss   cls_loss   dfl_loss  Instances       Size\n"
     ]
    },
    {
     "name": "stderr",
     "output_type": "stream",
     "text": [
      "     97/150      3.52G     0.4957     0.6096     0.8434         91        640: 100%|██████████| 2/2 [00:01<00:00,  1.25it/s]\n",
      "                 Class     Images  Instances      Box(P          R      mAP50  mAP50-95): 100%|██████████| 1/1 [00:00<00:00,  5.34it/s]\n"
     ]
    },
    {
     "name": "stdout",
     "output_type": "stream",
     "text": [
      "                   all         10         31      0.623      0.583      0.626      0.521\n",
      "\n",
      "      Epoch    GPU_mem   box_loss   cls_loss   dfl_loss  Instances       Size\n"
     ]
    },
    {
     "name": "stderr",
     "output_type": "stream",
     "text": [
      "     98/150      3.52G     0.4634     0.5902     0.8382         90        640: 100%|██████████| 2/2 [00:01<00:00,  1.39it/s]\n",
      "                 Class     Images  Instances      Box(P          R      mAP50  mAP50-95): 100%|██████████| 1/1 [00:00<00:00,  5.32it/s]\n"
     ]
    },
    {
     "name": "stdout",
     "output_type": "stream",
     "text": [
      "                   all         10         31      0.605      0.588      0.626       0.53\n",
      "\n",
      "      Epoch    GPU_mem   box_loss   cls_loss   dfl_loss  Instances       Size\n"
     ]
    },
    {
     "name": "stderr",
     "output_type": "stream",
     "text": [
      "     99/150      3.51G     0.5134     0.6208     0.8842         68        640: 100%|██████████| 2/2 [00:01<00:00,  1.28it/s]\n",
      "                 Class     Images  Instances      Box(P          R      mAP50  mAP50-95): 100%|██████████| 1/1 [00:00<00:00,  5.33it/s]\n"
     ]
    },
    {
     "name": "stdout",
     "output_type": "stream",
     "text": [
      "                   all         10         31        0.6      0.565       0.62      0.524\n",
      "\n",
      "      Epoch    GPU_mem   box_loss   cls_loss   dfl_loss  Instances       Size\n"
     ]
    },
    {
     "name": "stderr",
     "output_type": "stream",
     "text": [
      "    100/150      3.51G     0.4936     0.6283     0.8425         78        640: 100%|██████████| 2/2 [00:01<00:00,  1.22it/s]\n",
      "                 Class     Images  Instances      Box(P          R      mAP50  mAP50-95): 100%|██████████| 1/1 [00:00<00:00,  5.29it/s]\n"
     ]
    },
    {
     "name": "stdout",
     "output_type": "stream",
     "text": [
      "                   all         10         31        0.6      0.565       0.62      0.524\n",
      "\n",
      "      Epoch    GPU_mem   box_loss   cls_loss   dfl_loss  Instances       Size\n"
     ]
    },
    {
     "name": "stderr",
     "output_type": "stream",
     "text": [
      "    101/150      3.53G     0.4636     0.6018     0.8609         65        640: 100%|██████████| 2/2 [00:01<00:00,  1.73it/s]\n",
      "                 Class     Images  Instances      Box(P          R      mAP50  mAP50-95): 100%|██████████| 1/1 [00:00<00:00,  5.35it/s]"
     ]
    },
    {
     "name": "stdout",
     "output_type": "stream",
     "text": [
      "                   all         10         31      0.604      0.494      0.596      0.487\n"
     ]
    },
    {
     "name": "stderr",
     "output_type": "stream",
     "text": [
      "\n"
     ]
    },
    {
     "name": "stdout",
     "output_type": "stream",
     "text": [
      "\n",
      "      Epoch    GPU_mem   box_loss   cls_loss   dfl_loss  Instances       Size\n"
     ]
    },
    {
     "name": "stderr",
     "output_type": "stream",
     "text": [
      "    102/150      3.51G     0.4459     0.6102     0.8476         64        640: 100%|██████████| 2/2 [00:02<00:00,  1.13s/it]\n",
      "                 Class     Images  Instances      Box(P          R      mAP50  mAP50-95): 100%|██████████| 1/1 [00:00<00:00,  5.43it/s]"
     ]
    },
    {
     "name": "stdout",
     "output_type": "stream",
     "text": [
      "                   all         10         31      0.658      0.437      0.576      0.475\n"
     ]
    },
    {
     "name": "stderr",
     "output_type": "stream",
     "text": [
      "\n"
     ]
    },
    {
     "name": "stdout",
     "output_type": "stream",
     "text": [
      "\n",
      "      Epoch    GPU_mem   box_loss   cls_loss   dfl_loss  Instances       Size\n"
     ]
    },
    {
     "name": "stderr",
     "output_type": "stream",
     "text": [
      "    103/150      3.53G     0.4757     0.5672     0.8728         91        640: 100%|██████████| 2/2 [00:01<00:00,  1.47it/s]\n",
      "                 Class     Images  Instances      Box(P          R      mAP50  mAP50-95): 100%|██████████| 1/1 [00:00<00:00,  5.37it/s]"
     ]
    },
    {
     "name": "stdout",
     "output_type": "stream",
     "text": [
      "                   all         10         31      0.658      0.437      0.576      0.475\n"
     ]
    },
    {
     "name": "stderr",
     "output_type": "stream",
     "text": [
      "\n"
     ]
    },
    {
     "name": "stdout",
     "output_type": "stream",
     "text": [
      "\n",
      "      Epoch    GPU_mem   box_loss   cls_loss   dfl_loss  Instances       Size\n"
     ]
    },
    {
     "name": "stderr",
     "output_type": "stream",
     "text": [
      "    104/150      3.51G     0.4882     0.5772     0.8785         83        640: 100%|██████████| 2/2 [00:01<00:00,  1.40it/s]\n",
      "                 Class     Images  Instances      Box(P          R      mAP50  mAP50-95): 100%|██████████| 1/1 [00:00<00:00,  5.44it/s]"
     ]
    },
    {
     "name": "stdout",
     "output_type": "stream",
     "text": [
      "                   all         10         31      0.572      0.427      0.548      0.468\n"
     ]
    },
    {
     "name": "stderr",
     "output_type": "stream",
     "text": [
      "\n"
     ]
    },
    {
     "name": "stdout",
     "output_type": "stream",
     "text": [
      "\n",
      "      Epoch    GPU_mem   box_loss   cls_loss   dfl_loss  Instances       Size\n"
     ]
    },
    {
     "name": "stderr",
     "output_type": "stream",
     "text": [
      "    105/150      3.53G     0.4552     0.5763     0.8474         77        640: 100%|██████████| 2/2 [00:02<00:00,  1.14s/it]\n",
      "                 Class     Images  Instances      Box(P          R      mAP50  mAP50-95): 100%|██████████| 1/1 [00:00<00:00,  5.54it/s]"
     ]
    },
    {
     "name": "stdout",
     "output_type": "stream",
     "text": [
      "                   all         10         31      0.547      0.361      0.531      0.444\n"
     ]
    },
    {
     "name": "stderr",
     "output_type": "stream",
     "text": [
      "\n"
     ]
    },
    {
     "name": "stdout",
     "output_type": "stream",
     "text": [
      "\n",
      "      Epoch    GPU_mem   box_loss   cls_loss   dfl_loss  Instances       Size\n"
     ]
    },
    {
     "name": "stderr",
     "output_type": "stream",
     "text": [
      "    106/150      3.51G      0.456     0.6013     0.8369         73        640: 100%|██████████| 2/2 [00:02<00:00,  1.12s/it]\n",
      "                 Class     Images  Instances      Box(P          R      mAP50  mAP50-95): 100%|██████████| 1/1 [00:00<00:00,  5.40it/s]"
     ]
    },
    {
     "name": "stdout",
     "output_type": "stream",
     "text": [
      "                   all         10         31      0.547      0.361      0.531      0.444\n"
     ]
    },
    {
     "name": "stderr",
     "output_type": "stream",
     "text": [
      "\n"
     ]
    },
    {
     "name": "stdout",
     "output_type": "stream",
     "text": [
      "\n",
      "      Epoch    GPU_mem   box_loss   cls_loss   dfl_loss  Instances       Size\n"
     ]
    },
    {
     "name": "stderr",
     "output_type": "stream",
     "text": [
      "    107/150      3.53G     0.4968     0.5854     0.8759         86        640: 100%|██████████| 2/2 [00:02<00:00,  1.13s/it]\n",
      "                 Class     Images  Instances      Box(P          R      mAP50  mAP50-95): 100%|██████████| 1/1 [00:00<00:00,  5.37it/s]"
     ]
    },
    {
     "name": "stdout",
     "output_type": "stream",
     "text": [
      "                   all         10         31      0.605      0.378      0.524      0.436\n"
     ]
    },
    {
     "name": "stderr",
     "output_type": "stream",
     "text": [
      "\n"
     ]
    },
    {
     "name": "stdout",
     "output_type": "stream",
     "text": [
      "\n",
      "      Epoch    GPU_mem   box_loss   cls_loss   dfl_loss  Instances       Size\n"
     ]
    },
    {
     "name": "stderr",
     "output_type": "stream",
     "text": [
      "    108/150      3.53G     0.4658     0.5857     0.8339         94        640: 100%|██████████| 2/2 [00:02<00:00,  1.13s/it]\n",
      "                 Class     Images  Instances      Box(P          R      mAP50  mAP50-95): 100%|██████████| 1/1 [00:00<00:00,  5.48it/s]"
     ]
    },
    {
     "name": "stdout",
     "output_type": "stream",
     "text": [
      "                   all         10         31      0.615      0.408       0.47      0.375\n"
     ]
    },
    {
     "name": "stderr",
     "output_type": "stream",
     "text": [
      "\n"
     ]
    },
    {
     "name": "stdout",
     "output_type": "stream",
     "text": [
      "\n",
      "      Epoch    GPU_mem   box_loss   cls_loss   dfl_loss  Instances       Size\n"
     ]
    },
    {
     "name": "stderr",
     "output_type": "stream",
     "text": [
      "    109/150      3.51G     0.4473     0.5624     0.8257         79        640: 100%|██████████| 2/2 [00:02<00:00,  1.13s/it]\n",
      "                 Class     Images  Instances      Box(P          R      mAP50  mAP50-95): 100%|██████████| 1/1 [00:00<00:00,  5.41it/s]"
     ]
    },
    {
     "name": "stdout",
     "output_type": "stream",
     "text": [
      "                   all         10         31      0.615      0.408       0.47      0.375\n"
     ]
    },
    {
     "name": "stderr",
     "output_type": "stream",
     "text": [
      "\n"
     ]
    },
    {
     "name": "stdout",
     "output_type": "stream",
     "text": [
      "\n",
      "      Epoch    GPU_mem   box_loss   cls_loss   dfl_loss  Instances       Size\n"
     ]
    },
    {
     "name": "stderr",
     "output_type": "stream",
     "text": [
      "    110/150      3.53G     0.4708     0.5512     0.8373         91        640: 100%|██████████| 2/2 [00:02<00:00,  1.14s/it]\n",
      "                 Class     Images  Instances      Box(P          R      mAP50  mAP50-95): 100%|██████████| 1/1 [00:00<00:00,  5.48it/s]"
     ]
    },
    {
     "name": "stdout",
     "output_type": "stream",
     "text": [
      "                   all         10         31      0.598      0.417      0.514      0.417\n"
     ]
    },
    {
     "name": "stderr",
     "output_type": "stream",
     "text": [
      "\n"
     ]
    },
    {
     "name": "stdout",
     "output_type": "stream",
     "text": [
      "\n",
      "      Epoch    GPU_mem   box_loss   cls_loss   dfl_loss  Instances       Size\n"
     ]
    },
    {
     "name": "stderr",
     "output_type": "stream",
     "text": [
      "    111/150      3.51G     0.5018     0.5851      0.854         93        640: 100%|██████████| 2/2 [00:02<00:00,  1.15s/it]\n",
      "                 Class     Images  Instances      Box(P          R      mAP50  mAP50-95): 100%|██████████| 1/1 [00:00<00:00,  5.57it/s]"
     ]
    },
    {
     "name": "stdout",
     "output_type": "stream",
     "text": [
      "                   all         10         31      0.626      0.452      0.548      0.463\n"
     ]
    },
    {
     "name": "stderr",
     "output_type": "stream",
     "text": [
      "\n"
     ]
    },
    {
     "name": "stdout",
     "output_type": "stream",
     "text": [
      "\n",
      "      Epoch    GPU_mem   box_loss   cls_loss   dfl_loss  Instances       Size\n"
     ]
    },
    {
     "name": "stderr",
     "output_type": "stream",
     "text": [
      "    112/150      3.53G     0.4737     0.5968     0.8479         91        640: 100%|██████████| 2/2 [00:02<00:00,  1.13s/it]\n",
      "                 Class     Images  Instances      Box(P          R      mAP50  mAP50-95): 100%|██████████| 1/1 [00:00<00:00,  5.36it/s]\n"
     ]
    },
    {
     "name": "stdout",
     "output_type": "stream",
     "text": [
      "                   all         10         31      0.626      0.452      0.548      0.463\n",
      "\n",
      "      Epoch    GPU_mem   box_loss   cls_loss   dfl_loss  Instances       Size\n"
     ]
    },
    {
     "name": "stderr",
     "output_type": "stream",
     "text": [
      "    113/150      3.53G     0.4515     0.5885     0.8478         75        640: 100%|██████████| 2/2 [00:02<00:00,  1.13s/it]\n",
      "                 Class     Images  Instances      Box(P          R      mAP50  mAP50-95): 100%|██████████| 1/1 [00:00<00:00,  5.44it/s]"
     ]
    },
    {
     "name": "stdout",
     "output_type": "stream",
     "text": [
      "                   all         10         31      0.611      0.472      0.571      0.481\n"
     ]
    },
    {
     "name": "stderr",
     "output_type": "stream",
     "text": [
      "\n"
     ]
    },
    {
     "name": "stdout",
     "output_type": "stream",
     "text": [
      "\n",
      "      Epoch    GPU_mem   box_loss   cls_loss   dfl_loss  Instances       Size\n"
     ]
    },
    {
     "name": "stderr",
     "output_type": "stream",
     "text": [
      "    114/150      3.51G      0.455     0.5592     0.8233         94        640: 100%|██████████| 2/2 [00:02<00:00,  1.15s/it]\n",
      "                 Class     Images  Instances      Box(P          R      mAP50  mAP50-95): 100%|██████████| 1/1 [00:00<00:00,  5.59it/s]"
     ]
    },
    {
     "name": "stdout",
     "output_type": "stream",
     "text": [
      "                   all         10         31      0.618      0.491      0.592      0.499\n"
     ]
    },
    {
     "name": "stderr",
     "output_type": "stream",
     "text": [
      "\n"
     ]
    },
    {
     "name": "stdout",
     "output_type": "stream",
     "text": [
      "\n",
      "      Epoch    GPU_mem   box_loss   cls_loss   dfl_loss  Instances       Size\n"
     ]
    },
    {
     "name": "stderr",
     "output_type": "stream",
     "text": [
      "    115/150      3.51G     0.4363     0.5563     0.8299         78        640: 100%|██████████| 2/2 [00:02<00:00,  1.13s/it]\n",
      "                 Class     Images  Instances      Box(P          R      mAP50  mAP50-95): 100%|██████████| 1/1 [00:00<00:00,  5.46it/s]"
     ]
    },
    {
     "name": "stdout",
     "output_type": "stream",
     "text": [
      "                   all         10         31      0.618      0.491      0.592      0.499\n"
     ]
    },
    {
     "name": "stderr",
     "output_type": "stream",
     "text": [
      "\n"
     ]
    },
    {
     "name": "stdout",
     "output_type": "stream",
     "text": [
      "\n",
      "      Epoch    GPU_mem   box_loss   cls_loss   dfl_loss  Instances       Size\n"
     ]
    },
    {
     "name": "stderr",
     "output_type": "stream",
     "text": [
      "    116/150      3.51G      0.441     0.5535     0.8464         71        640: 100%|██████████| 2/2 [00:02<00:00,  1.14s/it]\n",
      "                 Class     Images  Instances      Box(P          R      mAP50  mAP50-95): 100%|██████████| 1/1 [00:00<00:00,  5.46it/s]"
     ]
    },
    {
     "name": "stdout",
     "output_type": "stream",
     "text": [
      "                   all         10         31      0.598      0.493      0.615      0.509\n"
     ]
    },
    {
     "name": "stderr",
     "output_type": "stream",
     "text": [
      "\n"
     ]
    },
    {
     "name": "stdout",
     "output_type": "stream",
     "text": [
      "\n",
      "      Epoch    GPU_mem   box_loss   cls_loss   dfl_loss  Instances       Size\n"
     ]
    },
    {
     "name": "stderr",
     "output_type": "stream",
     "text": [
      "    117/150      3.52G     0.4452     0.5531     0.8415         87        640: 100%|██████████| 2/2 [00:02<00:00,  1.14s/it]\n",
      "                 Class     Images  Instances      Box(P          R      mAP50  mAP50-95): 100%|██████████| 1/1 [00:00<00:00,  5.56it/s]"
     ]
    },
    {
     "name": "stdout",
     "output_type": "stream",
     "text": [
      "                   all         10         31      0.603      0.496      0.621      0.503\n"
     ]
    },
    {
     "name": "stderr",
     "output_type": "stream",
     "text": [
      "\n"
     ]
    },
    {
     "name": "stdout",
     "output_type": "stream",
     "text": [
      "\n",
      "      Epoch    GPU_mem   box_loss   cls_loss   dfl_loss  Instances       Size\n"
     ]
    },
    {
     "name": "stderr",
     "output_type": "stream",
     "text": [
      "    118/150      3.53G     0.4254     0.5758     0.8506         60        640: 100%|██████████| 2/2 [00:02<00:00,  1.12s/it]\n",
      "                 Class     Images  Instances      Box(P          R      mAP50  mAP50-95): 100%|██████████| 1/1 [00:00<00:00,  5.43it/s]"
     ]
    },
    {
     "name": "stdout",
     "output_type": "stream",
     "text": [
      "                   all         10         31      0.603      0.496      0.621      0.503\n"
     ]
    },
    {
     "name": "stderr",
     "output_type": "stream",
     "text": [
      "\n"
     ]
    },
    {
     "name": "stdout",
     "output_type": "stream",
     "text": [
      "\n",
      "      Epoch    GPU_mem   box_loss   cls_loss   dfl_loss  Instances       Size\n"
     ]
    },
    {
     "name": "stderr",
     "output_type": "stream",
     "text": [
      "    119/150      3.51G     0.4117     0.5381     0.8428         72        640: 100%|██████████| 2/2 [00:02<00:00,  1.14s/it]\n",
      "                 Class     Images  Instances      Box(P          R      mAP50  mAP50-95): 100%|██████████| 1/1 [00:00<00:00,  5.38it/s]"
     ]
    },
    {
     "name": "stdout",
     "output_type": "stream",
     "text": [
      "                   all         10         31      0.599      0.509      0.625      0.504\n"
     ]
    },
    {
     "name": "stderr",
     "output_type": "stream",
     "text": [
      "\n"
     ]
    },
    {
     "name": "stdout",
     "output_type": "stream",
     "text": [
      "\n",
      "      Epoch    GPU_mem   box_loss   cls_loss   dfl_loss  Instances       Size\n"
     ]
    },
    {
     "name": "stderr",
     "output_type": "stream",
     "text": [
      "    120/150      3.53G     0.4551     0.5704     0.8549         82        640: 100%|██████████| 2/2 [00:02<00:00,  1.15s/it]\n",
      "                 Class     Images  Instances      Box(P          R      mAP50  mAP50-95): 100%|██████████| 1/1 [00:00<00:00,  5.53it/s]"
     ]
    },
    {
     "name": "stdout",
     "output_type": "stream",
     "text": [
      "                   all         10         31      0.599      0.521      0.636      0.523\n"
     ]
    },
    {
     "name": "stderr",
     "output_type": "stream",
     "text": [
      "\n"
     ]
    },
    {
     "name": "stdout",
     "output_type": "stream",
     "text": [
      "\n",
      "      Epoch    GPU_mem   box_loss   cls_loss   dfl_loss  Instances       Size\n"
     ]
    },
    {
     "name": "stderr",
     "output_type": "stream",
     "text": [
      "    121/150      3.53G     0.4445     0.5469     0.8474        103        640: 100%|██████████| 2/2 [00:02<00:00,  1.13s/it]\n",
      "                 Class     Images  Instances      Box(P          R      mAP50  mAP50-95): 100%|██████████| 1/1 [00:00<00:00,  5.43it/s]"
     ]
    },
    {
     "name": "stdout",
     "output_type": "stream",
     "text": [
      "                   all         10         31      0.599      0.521      0.636      0.523\n"
     ]
    },
    {
     "name": "stderr",
     "output_type": "stream",
     "text": [
      "\n"
     ]
    },
    {
     "name": "stdout",
     "output_type": "stream",
     "text": [
      "\n",
      "      Epoch    GPU_mem   box_loss   cls_loss   dfl_loss  Instances       Size\n"
     ]
    },
    {
     "name": "stderr",
     "output_type": "stream",
     "text": [
      "    122/150      3.51G      0.458     0.5585     0.8442         91        640: 100%|██████████| 2/2 [00:02<00:00,  1.14s/it]\n",
      "                 Class     Images  Instances      Box(P          R      mAP50  mAP50-95): 100%|██████████| 1/1 [00:00<00:00,  5.40it/s]"
     ]
    },
    {
     "name": "stdout",
     "output_type": "stream",
     "text": [
      "                   all         10         31      0.601      0.532      0.636      0.527\n"
     ]
    },
    {
     "name": "stderr",
     "output_type": "stream",
     "text": [
      "\n"
     ]
    },
    {
     "name": "stdout",
     "output_type": "stream",
     "text": [
      "\n",
      "      Epoch    GPU_mem   box_loss   cls_loss   dfl_loss  Instances       Size\n"
     ]
    },
    {
     "name": "stderr",
     "output_type": "stream",
     "text": [
      "    123/150      3.58G     0.4561     0.5563     0.8674         76        640: 100%|██████████| 2/2 [00:02<00:00,  1.16s/it]\n",
      "                 Class     Images  Instances      Box(P          R      mAP50  mAP50-95): 100%|██████████| 1/1 [00:00<00:00,  5.61it/s]"
     ]
    },
    {
     "name": "stdout",
     "output_type": "stream",
     "text": [
      "                   all         10         31      0.591      0.546      0.639      0.522\n"
     ]
    },
    {
     "name": "stderr",
     "output_type": "stream",
     "text": [
      "\n"
     ]
    },
    {
     "name": "stdout",
     "output_type": "stream",
     "text": [
      "\n",
      "      Epoch    GPU_mem   box_loss   cls_loss   dfl_loss  Instances       Size\n"
     ]
    },
    {
     "name": "stderr",
     "output_type": "stream",
     "text": [
      "    124/150      3.51G     0.4671      0.555     0.8575         82        640: 100%|██████████| 2/2 [00:02<00:00,  1.13s/it]\n",
      "                 Class     Images  Instances      Box(P          R      mAP50  mAP50-95): 100%|██████████| 1/1 [00:00<00:00,  5.36it/s]"
     ]
    },
    {
     "name": "stdout",
     "output_type": "stream",
     "text": [
      "                   all         10         31      0.591      0.546      0.639      0.522\n"
     ]
    },
    {
     "name": "stderr",
     "output_type": "stream",
     "text": [
      "\n"
     ]
    },
    {
     "name": "stdout",
     "output_type": "stream",
     "text": [
      "\n",
      "      Epoch    GPU_mem   box_loss   cls_loss   dfl_loss  Instances       Size\n"
     ]
    },
    {
     "name": "stderr",
     "output_type": "stream",
     "text": [
      "    125/150      3.53G     0.4206     0.5281     0.8134        100        640: 100%|██████████| 2/2 [00:02<00:00,  1.16s/it]\n",
      "                 Class     Images  Instances      Box(P          R      mAP50  mAP50-95): 100%|██████████| 1/1 [00:00<00:00,  5.34it/s]"
     ]
    },
    {
     "name": "stdout",
     "output_type": "stream",
     "text": [
      "                   all         10         31      0.604       0.55      0.638      0.521\n"
     ]
    },
    {
     "name": "stderr",
     "output_type": "stream",
     "text": [
      "\n"
     ]
    },
    {
     "name": "stdout",
     "output_type": "stream",
     "text": [
      "\n",
      "      Epoch    GPU_mem   box_loss   cls_loss   dfl_loss  Instances       Size\n"
     ]
    },
    {
     "name": "stderr",
     "output_type": "stream",
     "text": [
      "    126/150      3.51G     0.4264     0.5294     0.8372         81        640: 100%|██████████| 2/2 [00:02<00:00,  1.17s/it]\n",
      "                 Class     Images  Instances      Box(P          R      mAP50  mAP50-95): 100%|██████████| 1/1 [00:00<00:00,  5.39it/s]"
     ]
    },
    {
     "name": "stdout",
     "output_type": "stream",
     "text": [
      "                   all         10         31      0.608      0.552      0.636      0.512\n"
     ]
    },
    {
     "name": "stderr",
     "output_type": "stream",
     "text": [
      "\n"
     ]
    },
    {
     "name": "stdout",
     "output_type": "stream",
     "text": [
      "\n",
      "      Epoch    GPU_mem   box_loss   cls_loss   dfl_loss  Instances       Size\n"
     ]
    },
    {
     "name": "stderr",
     "output_type": "stream",
     "text": [
      "    127/150      3.53G      0.416     0.5041     0.8391         79        640: 100%|██████████| 2/2 [00:02<00:00,  1.15s/it]\n",
      "                 Class     Images  Instances      Box(P          R      mAP50  mAP50-95): 100%|██████████| 1/1 [00:00<00:00,  5.38it/s]"
     ]
    },
    {
     "name": "stdout",
     "output_type": "stream",
     "text": [
      "                   all         10         31      0.608      0.552      0.636      0.512\n"
     ]
    },
    {
     "name": "stderr",
     "output_type": "stream",
     "text": [
      "\n"
     ]
    },
    {
     "name": "stdout",
     "output_type": "stream",
     "text": [
      "\n",
      "      Epoch    GPU_mem   box_loss   cls_loss   dfl_loss  Instances       Size\n"
     ]
    },
    {
     "name": "stderr",
     "output_type": "stream",
     "text": [
      "    128/150      3.66G     0.4315     0.5296      0.836         90        640: 100%|██████████| 2/2 [00:02<00:00,  1.17s/it]\n",
      "                 Class     Images  Instances      Box(P          R      mAP50  mAP50-95): 100%|██████████| 1/1 [00:00<00:00,  5.40it/s]"
     ]
    },
    {
     "name": "stdout",
     "output_type": "stream",
     "text": [
      "                   all         10         31      0.848      0.435      0.637      0.508\n"
     ]
    },
    {
     "name": "stderr",
     "output_type": "stream",
     "text": [
      "\n"
     ]
    },
    {
     "name": "stdout",
     "output_type": "stream",
     "text": [
      "\n",
      "      Epoch    GPU_mem   box_loss   cls_loss   dfl_loss  Instances       Size\n"
     ]
    },
    {
     "name": "stderr",
     "output_type": "stream",
     "text": [
      "    129/150      3.53G     0.4691     0.6021     0.8599         84        640: 100%|██████████| 2/2 [00:02<00:00,  1.17s/it]\n",
      "                 Class     Images  Instances      Box(P          R      mAP50  mAP50-95): 100%|██████████| 1/1 [00:00<00:00,  5.44it/s]"
     ]
    },
    {
     "name": "stdout",
     "output_type": "stream",
     "text": [
      "                   all         10         31      0.608      0.565      0.633      0.507\n"
     ]
    },
    {
     "name": "stderr",
     "output_type": "stream",
     "text": [
      "\n"
     ]
    },
    {
     "name": "stdout",
     "output_type": "stream",
     "text": [
      "\n",
      "      Epoch    GPU_mem   box_loss   cls_loss   dfl_loss  Instances       Size\n"
     ]
    },
    {
     "name": "stderr",
     "output_type": "stream",
     "text": [
      "    130/150      3.53G     0.4685     0.5224     0.8497         83        640: 100%|██████████| 2/2 [00:02<00:00,  1.17s/it]\n",
      "                 Class     Images  Instances      Box(P          R      mAP50  mAP50-95): 100%|██████████| 1/1 [00:00<00:00,  5.40it/s]"
     ]
    },
    {
     "name": "stdout",
     "output_type": "stream",
     "text": [
      "                   all         10         31      0.608      0.565      0.633      0.507\n"
     ]
    },
    {
     "name": "stderr",
     "output_type": "stream",
     "text": [
      "\n"
     ]
    },
    {
     "name": "stdout",
     "output_type": "stream",
     "text": [
      "\n",
      "      Epoch    GPU_mem   box_loss   cls_loss   dfl_loss  Instances       Size\n"
     ]
    },
    {
     "name": "stderr",
     "output_type": "stream",
     "text": [
      "    131/150      3.53G      0.441     0.5536     0.8382         99        640: 100%|██████████| 2/2 [00:02<00:00,  1.17s/it]\n",
      "                 Class     Images  Instances      Box(P          R      mAP50  mAP50-95): 100%|██████████| 1/1 [00:00<00:00,  5.41it/s]"
     ]
    },
    {
     "name": "stdout",
     "output_type": "stream",
     "text": [
      "                   all         10         31      0.852      0.424       0.63      0.506\n"
     ]
    },
    {
     "name": "stderr",
     "output_type": "stream",
     "text": [
      "\n"
     ]
    },
    {
     "name": "stdout",
     "output_type": "stream",
     "text": [
      "\n",
      "      Epoch    GPU_mem   box_loss   cls_loss   dfl_loss  Instances       Size\n"
     ]
    },
    {
     "name": "stderr",
     "output_type": "stream",
     "text": [
      "    132/150      3.53G      0.422     0.5155     0.8481        114        640: 100%|██████████| 2/2 [00:02<00:00,  1.18s/it]\n",
      "                 Class     Images  Instances      Box(P          R      mAP50  mAP50-95): 100%|██████████| 1/1 [00:00<00:00,  5.44it/s]"
     ]
    },
    {
     "name": "stdout",
     "output_type": "stream",
     "text": [
      "                   all         10         31      0.587      0.565      0.623      0.514\n"
     ]
    },
    {
     "name": "stderr",
     "output_type": "stream",
     "text": [
      "\n"
     ]
    },
    {
     "name": "stdout",
     "output_type": "stream",
     "text": [
      "\n",
      "      Epoch    GPU_mem   box_loss   cls_loss   dfl_loss  Instances       Size\n"
     ]
    },
    {
     "name": "stderr",
     "output_type": "stream",
     "text": [
      "    133/150      3.51G     0.4199     0.5145     0.8382         76        640: 100%|██████████| 2/2 [00:02<00:00,  1.16s/it]\n",
      "                 Class     Images  Instances      Box(P          R      mAP50  mAP50-95): 100%|██████████| 1/1 [00:00<00:00,  5.33it/s]\n"
     ]
    },
    {
     "name": "stdout",
     "output_type": "stream",
     "text": [
      "                   all         10         31      0.587      0.565      0.623      0.514\n",
      "\n",
      "      Epoch    GPU_mem   box_loss   cls_loss   dfl_loss  Instances       Size\n"
     ]
    },
    {
     "name": "stderr",
     "output_type": "stream",
     "text": [
      "    134/150      3.53G     0.4306     0.5197     0.8527        102        640: 100%|██████████| 2/2 [00:02<00:00,  1.17s/it]\n",
      "                 Class     Images  Instances      Box(P          R      mAP50  mAP50-95): 100%|██████████| 1/1 [00:00<00:00,  5.40it/s]"
     ]
    },
    {
     "name": "stdout",
     "output_type": "stream",
     "text": [
      "                   all         10         31      0.581      0.567      0.622      0.493\n"
     ]
    },
    {
     "name": "stderr",
     "output_type": "stream",
     "text": [
      "\n"
     ]
    },
    {
     "name": "stdout",
     "output_type": "stream",
     "text": [
      "\n",
      "      Epoch    GPU_mem   box_loss   cls_loss   dfl_loss  Instances       Size\n"
     ]
    },
    {
     "name": "stderr",
     "output_type": "stream",
     "text": [
      "    135/150      3.52G     0.3959      0.492     0.8237         86        640: 100%|██████████| 2/2 [00:02<00:00,  1.17s/it]\n",
      "                 Class     Images  Instances      Box(P          R      mAP50  mAP50-95): 100%|██████████| 1/1 [00:00<00:00,  5.40it/s]"
     ]
    },
    {
     "name": "stdout",
     "output_type": "stream",
     "text": [
      "                   all         10         31      0.602      0.546      0.619      0.495\n"
     ]
    },
    {
     "name": "stderr",
     "output_type": "stream",
     "text": [
      "\n"
     ]
    },
    {
     "name": "stdout",
     "output_type": "stream",
     "text": [
      "\n",
      "      Epoch    GPU_mem   box_loss   cls_loss   dfl_loss  Instances       Size\n"
     ]
    },
    {
     "name": "stderr",
     "output_type": "stream",
     "text": [
      "    136/150      3.51G     0.3831     0.5005     0.8702         64        640: 100%|██████████| 2/2 [00:02<00:00,  1.15s/it]\n",
      "                 Class     Images  Instances      Box(P          R      mAP50  mAP50-95): 100%|██████████| 1/1 [00:00<00:00,  5.43it/s]"
     ]
    },
    {
     "name": "stdout",
     "output_type": "stream",
     "text": [
      "                   all         10         31      0.602      0.546      0.619      0.495\n"
     ]
    },
    {
     "name": "stderr",
     "output_type": "stream",
     "text": [
      "\n"
     ]
    },
    {
     "name": "stdout",
     "output_type": "stream",
     "text": [
      "\n",
      "      Epoch    GPU_mem   box_loss   cls_loss   dfl_loss  Instances       Size\n"
     ]
    },
    {
     "name": "stderr",
     "output_type": "stream",
     "text": [
      "    137/150       3.5G     0.3725     0.5084     0.8245         75        640: 100%|██████████| 2/2 [00:02<00:00,  1.16s/it]\n",
      "                 Class     Images  Instances      Box(P          R      mAP50  mAP50-95): 100%|██████████| 1/1 [00:00<00:00,  5.43it/s]"
     ]
    },
    {
     "name": "stdout",
     "output_type": "stream",
     "text": [
      "                   all         10         31      0.601      0.559      0.614      0.492\n"
     ]
    },
    {
     "name": "stderr",
     "output_type": "stream",
     "text": [
      "\n"
     ]
    },
    {
     "name": "stdout",
     "output_type": "stream",
     "text": [
      "\n",
      "      Epoch    GPU_mem   box_loss   cls_loss   dfl_loss  Instances       Size\n"
     ]
    },
    {
     "name": "stderr",
     "output_type": "stream",
     "text": [
      "    138/150      3.53G     0.4126     0.5267     0.8197         81        640: 100%|██████████| 2/2 [00:02<00:00,  1.18s/it]\n",
      "                 Class     Images  Instances      Box(P          R      mAP50  mAP50-95): 100%|██████████| 1/1 [00:00<00:00,  5.36it/s]"
     ]
    },
    {
     "name": "stdout",
     "output_type": "stream",
     "text": [
      "                   all         10         31      0.602      0.575      0.611      0.498\n"
     ]
    },
    {
     "name": "stderr",
     "output_type": "stream",
     "text": [
      "\n"
     ]
    },
    {
     "name": "stdout",
     "output_type": "stream",
     "text": [
      "\n",
      "      Epoch    GPU_mem   box_loss   cls_loss   dfl_loss  Instances       Size\n"
     ]
    },
    {
     "name": "stderr",
     "output_type": "stream",
     "text": [
      "    139/150      3.51G     0.4181     0.5239     0.8243         72        640: 100%|██████████| 2/2 [00:02<00:00,  1.16s/it]\n",
      "                 Class     Images  Instances      Box(P          R      mAP50  mAP50-95): 100%|██████████| 1/1 [00:00<00:00,  5.42it/s]"
     ]
    },
    {
     "name": "stdout",
     "output_type": "stream",
     "text": [
      "                   all         10         31      0.602      0.575      0.611      0.498\n"
     ]
    },
    {
     "name": "stderr",
     "output_type": "stream",
     "text": [
      "\n"
     ]
    },
    {
     "name": "stdout",
     "output_type": "stream",
     "text": [
      "\n",
      "      Epoch    GPU_mem   box_loss   cls_loss   dfl_loss  Instances       Size\n"
     ]
    },
    {
     "name": "stderr",
     "output_type": "stream",
     "text": [
      "    140/150      3.53G     0.3908     0.4863     0.8258         79        640: 100%|██████████| 2/2 [00:02<00:00,  1.17s/it]\n",
      "                 Class     Images  Instances      Box(P          R      mAP50  mAP50-95): 100%|██████████| 1/1 [00:00<00:00,  5.39it/s]"
     ]
    },
    {
     "name": "stdout",
     "output_type": "stream",
     "text": [
      "                   all         10         31        0.6      0.551      0.609      0.494\n"
     ]
    },
    {
     "name": "stderr",
     "output_type": "stream",
     "text": [
      "\n"
     ]
    },
    {
     "name": "stdout",
     "output_type": "stream",
     "text": [
      "Closing dataloader mosaic\n",
      "\n",
      "      Epoch    GPU_mem   box_loss   cls_loss   dfl_loss  Instances       Size\n"
     ]
    },
    {
     "name": "stderr",
     "output_type": "stream",
     "text": [
      "    141/150      3.51G     0.3888     0.6011      0.795         50        640: 100%|██████████| 2/2 [00:04<00:00,  2.42s/it]\n",
      "                 Class     Images  Instances      Box(P          R      mAP50  mAP50-95): 100%|██████████| 1/1 [00:00<00:00,  4.57it/s]"
     ]
    },
    {
     "name": "stdout",
     "output_type": "stream",
     "text": [
      "                   all         10         31      0.699      0.457      0.603      0.502\n"
     ]
    },
    {
     "name": "stderr",
     "output_type": "stream",
     "text": [
      "\n"
     ]
    },
    {
     "name": "stdout",
     "output_type": "stream",
     "text": [
      "\n",
      "      Epoch    GPU_mem   box_loss   cls_loss   dfl_loss  Instances       Size\n"
     ]
    },
    {
     "name": "stderr",
     "output_type": "stream",
     "text": [
      "    142/150      3.51G     0.4125     0.5916     0.8083         40        640: 100%|██████████| 2/2 [00:02<00:00,  1.16s/it]\n",
      "                 Class     Images  Instances      Box(P          R      mAP50  mAP50-95): 100%|██████████| 1/1 [00:00<00:00,  5.33it/s]\n"
     ]
    },
    {
     "name": "stdout",
     "output_type": "stream",
     "text": [
      "                   all         10         31      0.699      0.457      0.603      0.502\n",
      "\n",
      "      Epoch    GPU_mem   box_loss   cls_loss   dfl_loss  Instances       Size\n"
     ]
    },
    {
     "name": "stderr",
     "output_type": "stream",
     "text": [
      "    143/150      3.51G     0.3719      0.575     0.8188         42        640: 100%|██████████| 2/2 [00:02<00:00,  1.16s/it]\n",
      "                 Class     Images  Instances      Box(P          R      mAP50  mAP50-95): 100%|██████████| 1/1 [00:00<00:00,  5.40it/s]"
     ]
    },
    {
     "name": "stdout",
     "output_type": "stream",
     "text": [
      "                   all         10         31      0.681      0.462      0.597      0.496\n"
     ]
    },
    {
     "name": "stderr",
     "output_type": "stream",
     "text": [
      "\n"
     ]
    },
    {
     "name": "stdout",
     "output_type": "stream",
     "text": [
      "\n",
      "      Epoch    GPU_mem   box_loss   cls_loss   dfl_loss  Instances       Size\n"
     ]
    },
    {
     "name": "stderr",
     "output_type": "stream",
     "text": [
      "    144/150      3.53G     0.3914     0.5817     0.8028         57        640: 100%|██████████| 2/2 [00:02<00:00,  1.16s/it]\n",
      "                 Class     Images  Instances      Box(P          R      mAP50  mAP50-95): 100%|██████████| 1/1 [00:00<00:00,  5.37it/s]\n"
     ]
    },
    {
     "name": "stdout",
     "output_type": "stream",
     "text": [
      "                   all         10         31      0.857      0.387      0.591      0.495\n",
      "\n",
      "      Epoch    GPU_mem   box_loss   cls_loss   dfl_loss  Instances       Size\n"
     ]
    },
    {
     "name": "stderr",
     "output_type": "stream",
     "text": [
      "    145/150      3.51G     0.3834     0.5908     0.7777         49        640: 100%|██████████| 2/2 [00:02<00:00,  1.15s/it]\n",
      "                 Class     Images  Instances      Box(P          R      mAP50  mAP50-95): 100%|██████████| 1/1 [00:00<00:00,  5.38it/s]"
     ]
    },
    {
     "name": "stdout",
     "output_type": "stream",
     "text": [
      "                   all         10         31      0.857      0.387      0.591      0.495\n"
     ]
    },
    {
     "name": "stderr",
     "output_type": "stream",
     "text": [
      "\n"
     ]
    },
    {
     "name": "stdout",
     "output_type": "stream",
     "text": [
      "\n",
      "      Epoch    GPU_mem   box_loss   cls_loss   dfl_loss  Instances       Size\n"
     ]
    },
    {
     "name": "stderr",
     "output_type": "stream",
     "text": [
      "    146/150      3.51G     0.3661     0.5375     0.8093         40        640: 100%|██████████| 2/2 [00:02<00:00,  1.16s/it]\n",
      "                 Class     Images  Instances      Box(P          R      mAP50  mAP50-95): 100%|██████████| 1/1 [00:00<00:00,  5.43it/s]"
     ]
    },
    {
     "name": "stdout",
     "output_type": "stream",
     "text": [
      "                   all         10         31      0.717      0.461      0.584      0.496\n"
     ]
    },
    {
     "name": "stderr",
     "output_type": "stream",
     "text": [
      "\n"
     ]
    },
    {
     "name": "stdout",
     "output_type": "stream",
     "text": [
      "\n",
      "      Epoch    GPU_mem   box_loss   cls_loss   dfl_loss  Instances       Size\n"
     ]
    },
    {
     "name": "stderr",
     "output_type": "stream",
     "text": [
      "    147/150      3.51G     0.3448     0.5394     0.7905         44        640: 100%|██████████| 2/2 [00:02<00:00,  1.16s/it]\n",
      "                 Class     Images  Instances      Box(P          R      mAP50  mAP50-95): 100%|██████████| 1/1 [00:00<00:00,  5.43it/s]"
     ]
    },
    {
     "name": "stdout",
     "output_type": "stream",
     "text": [
      "                   all         10         31      0.715      0.452      0.579       0.49\n"
     ]
    },
    {
     "name": "stderr",
     "output_type": "stream",
     "text": [
      "\n"
     ]
    },
    {
     "name": "stdout",
     "output_type": "stream",
     "text": [
      "\n",
      "      Epoch    GPU_mem   box_loss   cls_loss   dfl_loss  Instances       Size\n"
     ]
    },
    {
     "name": "stderr",
     "output_type": "stream",
     "text": [
      "    148/150      3.53G     0.3637     0.5506     0.8051         53        640: 100%|██████████| 2/2 [00:02<00:00,  1.15s/it]\n",
      "                 Class     Images  Instances      Box(P          R      mAP50  mAP50-95): 100%|██████████| 1/1 [00:00<00:00,  5.43it/s]"
     ]
    },
    {
     "name": "stdout",
     "output_type": "stream",
     "text": [
      "                   all         10         31      0.715      0.452      0.579       0.49\n"
     ]
    },
    {
     "name": "stderr",
     "output_type": "stream",
     "text": [
      "\n"
     ]
    },
    {
     "name": "stdout",
     "output_type": "stream",
     "text": [
      "\n",
      "      Epoch    GPU_mem   box_loss   cls_loss   dfl_loss  Instances       Size\n"
     ]
    },
    {
     "name": "stderr",
     "output_type": "stream",
     "text": [
      "    149/150      3.53G     0.3692     0.5652     0.7998         47        640: 100%|██████████| 2/2 [00:02<00:00,  1.16s/it]\n",
      "                 Class     Images  Instances      Box(P          R      mAP50  mAP50-95): 100%|██████████| 1/1 [00:00<00:00,  5.42it/s]"
     ]
    },
    {
     "name": "stdout",
     "output_type": "stream",
     "text": [
      "                   all         10         31      0.739      0.442       0.57      0.483\n"
     ]
    },
    {
     "name": "stderr",
     "output_type": "stream",
     "text": [
      "\n"
     ]
    },
    {
     "name": "stdout",
     "output_type": "stream",
     "text": [
      "\n",
      "      Epoch    GPU_mem   box_loss   cls_loss   dfl_loss  Instances       Size\n"
     ]
    },
    {
     "name": "stderr",
     "output_type": "stream",
     "text": [
      "    150/150      3.53G     0.3405      0.519     0.7678         51        640: 100%|██████████| 2/2 [00:02<00:00,  1.16s/it]\n",
      "                 Class     Images  Instances      Box(P          R      mAP50  mAP50-95): 100%|██████████| 1/1 [00:00<00:00,  5.41it/s]"
     ]
    },
    {
     "name": "stdout",
     "output_type": "stream",
     "text": [
      "                   all         10         31      0.756      0.441      0.567      0.481\n"
     ]
    },
    {
     "name": "stderr",
     "output_type": "stream",
     "text": [
      "\n"
     ]
    },
    {
     "name": "stdout",
     "output_type": "stream",
     "text": [
      "\n",
      "150 epochs completed in 0.082 hours.\n",
      "Optimizer stripped from runs/detect/train/weights/last.pt, 5.5MB\n",
      "Optimizer stripped from runs/detect/train/weights/best.pt, 5.5MB\n",
      "\n",
      "Validating runs/detect/train/weights/best.pt...\n",
      "Ultralytics 8.3.29 🚀 Python-3.11.5 torch-2.3.1 CUDA:0 (NVIDIA GeForce RTX 3050 Laptop GPU, 3797MiB)\n",
      "YOLO11n summary (fused): 238 layers, 2,582,542 parameters, 0 gradients\n"
     ]
    },
    {
     "name": "stderr",
     "output_type": "stream",
     "text": [
      "                 Class     Images  Instances      Box(P          R      mAP50  mAP50-95): 100%|██████████| 1/1 [00:00<00:00,  5.60it/s]\n"
     ]
    },
    {
     "name": "stdout",
     "output_type": "stream",
     "text": [
      "                   all         10         31      0.656      0.565      0.628      0.533\n",
      "                Unripe          9         27       0.88       0.63      0.759      0.608\n",
      "                  Ripe          3          4      0.432        0.5      0.498      0.458\n",
      "Speed: 0.4ms preprocess, 13.2ms inference, 0.0ms loss, 1.8ms postprocess per image\n",
      "Results saved to \u001b[1mruns/detect/train\u001b[0m\n"
     ]
    }
   ],
   "source": [
    "results = model.train(data=\"YOLOv8Lemons/data.yaml\", epochs=150,batch=24)"
   ]
  },
  {
   "cell_type": "code",
   "execution_count": 2,
   "metadata": {},
   "outputs": [],
   "source": [
    "model_medium = YOLO(model=\"yolo11m.pt\")"
   ]
  },
  {
   "cell_type": "code",
   "execution_count": 3,
   "metadata": {},
   "outputs": [
    {
     "name": "stdout",
     "output_type": "stream",
     "text": [
      "Ultralytics 8.3.29 🚀 Python-3.11.5 torch-2.3.1 CUDA:0 (NVIDIA GeForce RTX 3050 Laptop GPU, 3797MiB)\n",
      "\u001b[34m\u001b[1mengine/trainer: \u001b[0mtask=detect, mode=train, model=yolo11m.pt, data=YOLOv8Lemons/data.yaml, epochs=150, time=None, patience=100, batch=6, imgsz=640, save=True, save_period=-1, cache=False, device=None, workers=8, project=None, name=train5, exist_ok=False, pretrained=True, optimizer=auto, verbose=True, seed=0, deterministic=True, single_cls=False, rect=False, cos_lr=False, close_mosaic=10, resume=False, amp=True, fraction=1.0, profile=False, freeze=None, multi_scale=False, overlap_mask=True, mask_ratio=4, dropout=0.0, val=True, split=val, save_json=False, save_hybrid=False, conf=None, iou=0.7, max_det=300, half=False, dnn=False, plots=True, source=None, vid_stride=1, stream_buffer=False, visualize=False, augment=False, agnostic_nms=False, classes=None, retina_masks=False, embed=None, show=False, save_frames=False, save_txt=False, save_conf=False, save_crop=False, show_labels=True, show_conf=True, show_boxes=True, line_width=None, format=torchscript, keras=False, optimize=False, int8=False, dynamic=False, simplify=True, opset=None, workspace=4, nms=False, lr0=0.01, lrf=0.01, momentum=0.937, weight_decay=0.0005, warmup_epochs=3.0, warmup_momentum=0.8, warmup_bias_lr=0.1, box=7.5, cls=0.5, dfl=1.5, pose=12.0, kobj=1.0, label_smoothing=0.0, nbs=64, hsv_h=0.015, hsv_s=0.7, hsv_v=0.4, degrees=0.0, translate=0.1, scale=0.5, shear=0.0, perspective=0.0, flipud=0.0, fliplr=0.5, bgr=0.0, mosaic=1.0, mixup=0.0, copy_paste=0.0, copy_paste_mode=flip, auto_augment=randaugment, erasing=0.4, crop_fraction=1.0, cfg=None, tracker=botsort.yaml, save_dir=runs/detect/train5\n",
      "Overriding model.yaml nc=80 with nc=2\n",
      "\n",
      "                   from  n    params  module                                       arguments                     \n",
      "  0                  -1  1      1856  ultralytics.nn.modules.conv.Conv             [3, 64, 3, 2]                 \n",
      "  1                  -1  1     73984  ultralytics.nn.modules.conv.Conv             [64, 128, 3, 2]               \n",
      "  2                  -1  1    111872  ultralytics.nn.modules.block.C3k2            [128, 256, 1, True, 0.25]     \n",
      "  3                  -1  1    590336  ultralytics.nn.modules.conv.Conv             [256, 256, 3, 2]              \n",
      "  4                  -1  1    444928  ultralytics.nn.modules.block.C3k2            [256, 512, 1, True, 0.25]     \n",
      "  5                  -1  1   2360320  ultralytics.nn.modules.conv.Conv             [512, 512, 3, 2]              \n",
      "  6                  -1  1   1380352  ultralytics.nn.modules.block.C3k2            [512, 512, 1, True]           \n",
      "  7                  -1  1   2360320  ultralytics.nn.modules.conv.Conv             [512, 512, 3, 2]              \n",
      "  8                  -1  1   1380352  ultralytics.nn.modules.block.C3k2            [512, 512, 1, True]           \n",
      "  9                  -1  1    656896  ultralytics.nn.modules.block.SPPF            [512, 512, 5]                 \n",
      " 10                  -1  1    990976  ultralytics.nn.modules.block.C2PSA           [512, 512, 1]                 \n",
      " 11                  -1  1         0  torch.nn.modules.upsampling.Upsample         [None, 2, 'nearest']          \n",
      " 12             [-1, 6]  1         0  ultralytics.nn.modules.conv.Concat           [1]                           \n",
      " 13                  -1  1   1642496  ultralytics.nn.modules.block.C3k2            [1024, 512, 1, True]          \n",
      " 14                  -1  1         0  torch.nn.modules.upsampling.Upsample         [None, 2, 'nearest']          \n",
      " 15             [-1, 4]  1         0  ultralytics.nn.modules.conv.Concat           [1]                           \n",
      " 16                  -1  1    542720  ultralytics.nn.modules.block.C3k2            [1024, 256, 1, True]          \n",
      " 17                  -1  1    590336  ultralytics.nn.modules.conv.Conv             [256, 256, 3, 2]              \n",
      " 18            [-1, 13]  1         0  ultralytics.nn.modules.conv.Concat           [1]                           \n",
      " 19                  -1  1   1511424  ultralytics.nn.modules.block.C3k2            [768, 512, 1, True]           \n",
      " 20                  -1  1   2360320  ultralytics.nn.modules.conv.Conv             [512, 512, 3, 2]              \n",
      " 21            [-1, 10]  1         0  ultralytics.nn.modules.conv.Concat           [1]                           \n",
      " 22                  -1  1   1642496  ultralytics.nn.modules.block.C3k2            [1024, 512, 1, True]          \n",
      " 23        [16, 19, 22]  1   1412566  ultralytics.nn.modules.head.Detect           [2, [256, 512, 512]]          \n",
      "YOLO11m summary: 409 layers, 20,054,550 parameters, 20,054,534 gradients\n",
      "\n",
      "Transferred 643/649 items from pretrained weights\n",
      "\u001b[34m\u001b[1mTensorBoard: \u001b[0mStart with 'tensorboard --logdir runs/detect/train5', view at http://localhost:6006/\n",
      "Freezing layer 'model.23.dfl.conv.weight'\n",
      "\u001b[34m\u001b[1mAMP: \u001b[0mrunning Automatic Mixed Precision (AMP) checks...\n",
      "\u001b[34m\u001b[1mAMP: \u001b[0mchecks passed ✅\n"
     ]
    },
    {
     "name": "stderr",
     "output_type": "stream",
     "text": [
      "\u001b[34m\u001b[1mtrain: \u001b[0mScanning /storage/Programming/PyTorch/LemonDetection/YOLOv8Lemons/data/labels/Train.cache... 47 images, 0 backgrounds, 0 corrupt: 100%|██████████| 47/47 [00:00<?, ?it/s]\n",
      "\u001b[34m\u001b[1mval: \u001b[0mScanning /storage/Programming/PyTorch/LemonDetection/YOLOv8Lemons/data/labels/Validation.cache... 10 images, 0 backgrounds, 0 corrupt: 100%|██████████| 10/10 [00:00<?, ?it/s]\n"
     ]
    },
    {
     "name": "stdout",
     "output_type": "stream",
     "text": [
      "Plotting labels to runs/detect/train5/labels.jpg... \n",
      "\u001b[34m\u001b[1moptimizer:\u001b[0m 'optimizer=auto' found, ignoring 'lr0=0.01' and 'momentum=0.937' and determining best 'optimizer', 'lr0' and 'momentum' automatically... \n",
      "\u001b[34m\u001b[1moptimizer:\u001b[0m AdamW(lr=0.001667, momentum=0.9) with parameter groups 106 weight(decay=0.0), 113 weight(decay=0.000515625), 112 bias(decay=0.0)\n",
      "\u001b[34m\u001b[1mTensorBoard: \u001b[0mmodel graph visualization added ✅\n",
      "Image sizes 640 train, 640 val\n",
      "Using 8 dataloader workers\n",
      "Logging results to \u001b[1mruns/detect/train5\u001b[0m\n",
      "Starting training for 150 epochs...\n",
      "\n",
      "      Epoch    GPU_mem   box_loss   cls_loss   dfl_loss  Instances       Size\n"
     ]
    },
    {
     "name": "stderr",
     "output_type": "stream",
     "text": [
      "      1/150      3.59G       1.05      3.861      1.269         18        640: 100%|██████████| 8/8 [00:03<00:00,  2.46it/s]\n",
      "                 Class     Images  Instances      Box(P          R      mAP50  mAP50-95): 100%|██████████| 1/1 [00:00<00:00,  4.22it/s]"
     ]
    },
    {
     "name": "stdout",
     "output_type": "stream",
     "text": [
      "                   all         10         31      0.344      0.639      0.355      0.292\n"
     ]
    },
    {
     "name": "stderr",
     "output_type": "stream",
     "text": [
      "\n"
     ]
    },
    {
     "name": "stdout",
     "output_type": "stream",
     "text": [
      "\n",
      "      Epoch    GPU_mem   box_loss   cls_loss   dfl_loss  Instances       Size\n"
     ]
    },
    {
     "name": "stderr",
     "output_type": "stream",
     "text": [
      "      2/150      3.61G     0.8037      2.217     0.9558         18        640: 100%|██████████| 8/8 [00:02<00:00,  2.86it/s]\n",
      "                 Class     Images  Instances      Box(P          R      mAP50  mAP50-95): 100%|██████████| 1/1 [00:00<00:00,  4.19it/s]"
     ]
    },
    {
     "name": "stdout",
     "output_type": "stream",
     "text": [
      "                   all         10         31      0.745      0.125      0.159      0.128\n"
     ]
    },
    {
     "name": "stderr",
     "output_type": "stream",
     "text": [
      "\n"
     ]
    },
    {
     "name": "stdout",
     "output_type": "stream",
     "text": [
      "\n",
      "      Epoch    GPU_mem   box_loss   cls_loss   dfl_loss  Instances       Size\n"
     ]
    },
    {
     "name": "stderr",
     "output_type": "stream",
     "text": [
      "      3/150       3.6G     0.9228      2.087      1.038         12        640: 100%|██████████| 8/8 [00:02<00:00,  2.89it/s]\n",
      "                 Class     Images  Instances      Box(P          R      mAP50  mAP50-95): 100%|██████████| 1/1 [00:00<00:00,  4.54it/s]"
     ]
    },
    {
     "name": "stdout",
     "output_type": "stream",
     "text": [
      "                   all         10         31      0.276      0.401      0.222      0.201\n"
     ]
    },
    {
     "name": "stderr",
     "output_type": "stream",
     "text": [
      "\n"
     ]
    },
    {
     "name": "stdout",
     "output_type": "stream",
     "text": [
      "\n",
      "      Epoch    GPU_mem   box_loss   cls_loss   dfl_loss  Instances       Size\n"
     ]
    },
    {
     "name": "stderr",
     "output_type": "stream",
     "text": [
      "      4/150      3.67G     0.8815      1.656     0.9888         18        640: 100%|██████████| 8/8 [00:02<00:00,  2.87it/s]\n",
      "                 Class     Images  Instances      Box(P          R      mAP50  mAP50-95): 100%|██████████| 1/1 [00:00<00:00,  4.40it/s]"
     ]
    },
    {
     "name": "stdout",
     "output_type": "stream",
     "text": [
      "                   all         10         31      0.399      0.236      0.164      0.141\n"
     ]
    },
    {
     "name": "stderr",
     "output_type": "stream",
     "text": [
      "\n"
     ]
    },
    {
     "name": "stdout",
     "output_type": "stream",
     "text": [
      "\n",
      "      Epoch    GPU_mem   box_loss   cls_loss   dfl_loss  Instances       Size\n"
     ]
    },
    {
     "name": "stderr",
     "output_type": "stream",
     "text": [
      "      5/150      3.67G     0.8753      1.494      1.034         14        640: 100%|██████████| 8/8 [00:02<00:00,  2.86it/s]\n",
      "                 Class     Images  Instances      Box(P          R      mAP50  mAP50-95): 100%|██████████| 1/1 [00:00<00:00,  4.33it/s]"
     ]
    },
    {
     "name": "stdout",
     "output_type": "stream",
     "text": [
      "                   all         10         31     0.0539     0.0926      0.059     0.0401\n"
     ]
    },
    {
     "name": "stderr",
     "output_type": "stream",
     "text": [
      "\n"
     ]
    },
    {
     "name": "stdout",
     "output_type": "stream",
     "text": [
      "\n",
      "      Epoch    GPU_mem   box_loss   cls_loss   dfl_loss  Instances       Size\n"
     ]
    },
    {
     "name": "stderr",
     "output_type": "stream",
     "text": [
      "      6/150      3.64G      1.034       1.41      1.074         17        640: 100%|██████████| 8/8 [00:02<00:00,  2.83it/s]\n",
      "                 Class     Images  Instances      Box(P          R      mAP50  mAP50-95): 100%|██████████| 1/1 [00:00<00:00,  4.64it/s]"
     ]
    },
    {
     "name": "stdout",
     "output_type": "stream",
     "text": [
      "                   all         10         31      0.683      0.347      0.357      0.235\n"
     ]
    },
    {
     "name": "stderr",
     "output_type": "stream",
     "text": [
      "\n"
     ]
    },
    {
     "name": "stdout",
     "output_type": "stream",
     "text": [
      "\n",
      "      Epoch    GPU_mem   box_loss   cls_loss   dfl_loss  Instances       Size\n"
     ]
    },
    {
     "name": "stderr",
     "output_type": "stream",
     "text": [
      "      7/150      3.66G      1.052      1.541      1.067         16        640: 100%|██████████| 8/8 [00:02<00:00,  2.84it/s]\n",
      "                 Class     Images  Instances      Box(P          R      mAP50  mAP50-95): 100%|██████████| 1/1 [00:00<00:00,  4.45it/s]"
     ]
    },
    {
     "name": "stdout",
     "output_type": "stream",
     "text": [
      "                   all         10         31     0.0323      0.204     0.0282     0.0144\n"
     ]
    },
    {
     "name": "stderr",
     "output_type": "stream",
     "text": [
      "\n"
     ]
    },
    {
     "name": "stdout",
     "output_type": "stream",
     "text": [
      "\n",
      "      Epoch    GPU_mem   box_loss   cls_loss   dfl_loss  Instances       Size\n"
     ]
    },
    {
     "name": "stderr",
     "output_type": "stream",
     "text": [
      "      8/150      3.67G     0.9897      1.626       1.03         11        640: 100%|██████████| 8/8 [00:02<00:00,  2.81it/s]\n",
      "                 Class     Images  Instances      Box(P          R      mAP50  mAP50-95): 100%|██████████| 1/1 [00:00<00:00,  4.38it/s]"
     ]
    },
    {
     "name": "stdout",
     "output_type": "stream",
     "text": [
      "                   all         10         31     0.0282      0.148     0.0159    0.00938\n"
     ]
    },
    {
     "name": "stderr",
     "output_type": "stream",
     "text": [
      "\n"
     ]
    },
    {
     "name": "stdout",
     "output_type": "stream",
     "text": [
      "\n",
      "      Epoch    GPU_mem   box_loss   cls_loss   dfl_loss  Instances       Size\n"
     ]
    },
    {
     "name": "stderr",
     "output_type": "stream",
     "text": [
      "      9/150      3.67G     0.9912      1.668      1.025         16        640: 100%|██████████| 8/8 [00:02<00:00,  2.80it/s]\n",
      "                 Class     Images  Instances      Box(P          R      mAP50  mAP50-95): 100%|██████████| 1/1 [00:00<00:00,  4.34it/s]"
     ]
    },
    {
     "name": "stdout",
     "output_type": "stream",
     "text": [
      "                   all         10         31    0.00758      0.222    0.00639    0.00393\n"
     ]
    },
    {
     "name": "stderr",
     "output_type": "stream",
     "text": [
      "\n"
     ]
    },
    {
     "name": "stdout",
     "output_type": "stream",
     "text": [
      "\n",
      "      Epoch    GPU_mem   box_loss   cls_loss   dfl_loss  Instances       Size\n"
     ]
    },
    {
     "name": "stderr",
     "output_type": "stream",
     "text": [
      "     10/150      3.67G     0.9122      1.717      1.089         13        640: 100%|██████████| 8/8 [00:02<00:00,  2.79it/s]\n",
      "                 Class     Images  Instances      Box(P          R      mAP50  mAP50-95): 100%|██████████| 1/1 [00:00<00:00,  4.19it/s]"
     ]
    },
    {
     "name": "stdout",
     "output_type": "stream",
     "text": [
      "                   all         10         31    0.00243      0.185    0.00165   0.000856\n"
     ]
    },
    {
     "name": "stderr",
     "output_type": "stream",
     "text": [
      "\n"
     ]
    },
    {
     "name": "stdout",
     "output_type": "stream",
     "text": [
      "\n",
      "      Epoch    GPU_mem   box_loss   cls_loss   dfl_loss  Instances       Size\n"
     ]
    },
    {
     "name": "stderr",
     "output_type": "stream",
     "text": [
      "     11/150      3.67G      1.059       1.68      1.052         16        640: 100%|██████████| 8/8 [00:02<00:00,  2.77it/s]\n",
      "                 Class     Images  Instances      Box(P          R      mAP50  mAP50-95): 100%|██████████| 1/1 [00:00<00:00,  4.13it/s]"
     ]
    },
    {
     "name": "stdout",
     "output_type": "stream",
     "text": [
      "                   all         10         31    0.00205     0.0926    0.00116   0.000581\n"
     ]
    },
    {
     "name": "stderr",
     "output_type": "stream",
     "text": [
      "\n"
     ]
    },
    {
     "name": "stdout",
     "output_type": "stream",
     "text": [
      "\n",
      "      Epoch    GPU_mem   box_loss   cls_loss   dfl_loss  Instances       Size\n"
     ]
    },
    {
     "name": "stderr",
     "output_type": "stream",
     "text": [
      "     12/150      3.65G      1.038      1.729      1.085         18        640: 100%|██████████| 8/8 [00:02<00:00,  2.76it/s]\n",
      "                 Class     Images  Instances      Box(P          R      mAP50  mAP50-95): 100%|██████████| 1/1 [00:00<00:00,  4.19it/s]"
     ]
    },
    {
     "name": "stdout",
     "output_type": "stream",
     "text": [
      "                   all         10         31    0.00398      0.384    0.00302    0.00199\n"
     ]
    },
    {
     "name": "stderr",
     "output_type": "stream",
     "text": [
      "\n"
     ]
    },
    {
     "name": "stdout",
     "output_type": "stream",
     "text": [
      "\n",
      "      Epoch    GPU_mem   box_loss   cls_loss   dfl_loss  Instances       Size\n"
     ]
    },
    {
     "name": "stderr",
     "output_type": "stream",
     "text": [
      "     13/150      3.67G      0.945      1.317      1.065          7        640: 100%|██████████| 8/8 [00:03<00:00,  2.24it/s]\n",
      "                 Class     Images  Instances      Box(P          R      mAP50  mAP50-95): 100%|██████████| 1/1 [00:00<00:00,  3.85it/s]"
     ]
    },
    {
     "name": "stdout",
     "output_type": "stream",
     "text": [
      "                   all         10         31    0.00398      0.384    0.00302    0.00199\n"
     ]
    },
    {
     "name": "stderr",
     "output_type": "stream",
     "text": [
      "\n"
     ]
    },
    {
     "name": "stdout",
     "output_type": "stream",
     "text": [
      "\n",
      "      Epoch    GPU_mem   box_loss   cls_loss   dfl_loss  Instances       Size\n"
     ]
    },
    {
     "name": "stderr",
     "output_type": "stream",
     "text": [
      "     14/150      3.67G      1.146      1.497      1.144         19        640: 100%|██████████| 8/8 [00:03<00:00,  2.34it/s]\n",
      "                 Class     Images  Instances      Box(P          R      mAP50  mAP50-95): 100%|██████████| 1/1 [00:00<00:00,  3.30it/s]"
     ]
    },
    {
     "name": "stdout",
     "output_type": "stream",
     "text": [
      "                   all         10         31    0.00617       0.31    0.00406    0.00295\n"
     ]
    },
    {
     "name": "stderr",
     "output_type": "stream",
     "text": [
      "\n"
     ]
    },
    {
     "name": "stdout",
     "output_type": "stream",
     "text": [
      "\n",
      "      Epoch    GPU_mem   box_loss   cls_loss   dfl_loss  Instances       Size\n"
     ]
    },
    {
     "name": "stderr",
     "output_type": "stream",
     "text": [
      "     15/150      3.67G      1.125      1.639      1.138         12        640: 100%|██████████| 8/8 [00:03<00:00,  2.19it/s]\n",
      "                 Class     Images  Instances      Box(P          R      mAP50  mAP50-95): 100%|██████████| 1/1 [00:00<00:00,  3.47it/s]"
     ]
    },
    {
     "name": "stdout",
     "output_type": "stream",
     "text": [
      "                   all         10         31    0.00617       0.31    0.00406    0.00295\n"
     ]
    },
    {
     "name": "stderr",
     "output_type": "stream",
     "text": [
      "\n"
     ]
    },
    {
     "name": "stdout",
     "output_type": "stream",
     "text": [
      "\n",
      "      Epoch    GPU_mem   box_loss   cls_loss   dfl_loss  Instances       Size\n"
     ]
    },
    {
     "name": "stderr",
     "output_type": "stream",
     "text": [
      "     16/150      3.65G      1.063      1.349      1.096         11        640: 100%|██████████| 8/8 [00:03<00:00,  2.09it/s]\n",
      "                 Class     Images  Instances      Box(P          R      mAP50  mAP50-95): 100%|██████████| 1/1 [00:00<00:00,  3.22it/s]"
     ]
    },
    {
     "name": "stdout",
     "output_type": "stream",
     "text": [
      "                   all         10         31     0.0156      0.125    0.00921    0.00354\n"
     ]
    },
    {
     "name": "stderr",
     "output_type": "stream",
     "text": [
      "\n"
     ]
    },
    {
     "name": "stdout",
     "output_type": "stream",
     "text": [
      "\n",
      "      Epoch    GPU_mem   box_loss   cls_loss   dfl_loss  Instances       Size\n"
     ]
    },
    {
     "name": "stderr",
     "output_type": "stream",
     "text": [
      "     17/150      3.68G     0.8723      1.243      1.011          8        640: 100%|██████████| 8/8 [00:03<00:00,  2.09it/s]\n",
      "                 Class     Images  Instances      Box(P          R      mAP50  mAP50-95): 100%|██████████| 1/1 [00:00<00:00,  3.22it/s]"
     ]
    },
    {
     "name": "stdout",
     "output_type": "stream",
     "text": [
      "                   all         10         31     0.0156      0.125    0.00921    0.00354\n"
     ]
    },
    {
     "name": "stderr",
     "output_type": "stream",
     "text": [
      "\n"
     ]
    },
    {
     "name": "stdout",
     "output_type": "stream",
     "text": [
      "\n",
      "      Epoch    GPU_mem   box_loss   cls_loss   dfl_loss  Instances       Size\n"
     ]
    },
    {
     "name": "stderr",
     "output_type": "stream",
     "text": [
      "     18/150      3.67G      1.082      1.442      1.095         15        640: 100%|██████████| 8/8 [00:03<00:00,  2.07it/s]\n",
      "                 Class     Images  Instances      Box(P          R      mAP50  mAP50-95): 100%|██████████| 1/1 [00:00<00:00,  3.28it/s]"
     ]
    },
    {
     "name": "stdout",
     "output_type": "stream",
     "text": [
      "                   all         10         31     0.0302      0.269     0.0215     0.0121\n"
     ]
    },
    {
     "name": "stderr",
     "output_type": "stream",
     "text": [
      "\n"
     ]
    },
    {
     "name": "stdout",
     "output_type": "stream",
     "text": [
      "\n",
      "      Epoch    GPU_mem   box_loss   cls_loss   dfl_loss  Instances       Size\n"
     ]
    },
    {
     "name": "stderr",
     "output_type": "stream",
     "text": [
      "     19/150      3.67G     0.9199      1.255      1.014          8        640: 100%|██████████| 8/8 [00:03<00:00,  2.07it/s]\n",
      "                 Class     Images  Instances      Box(P          R      mAP50  mAP50-95): 100%|██████████| 1/1 [00:00<00:00,  3.38it/s]"
     ]
    },
    {
     "name": "stdout",
     "output_type": "stream",
     "text": [
      "                   all         10         31       0.25      0.125      0.255      0.195\n"
     ]
    },
    {
     "name": "stderr",
     "output_type": "stream",
     "text": [
      "\n"
     ]
    },
    {
     "name": "stdout",
     "output_type": "stream",
     "text": [
      "\n",
      "      Epoch    GPU_mem   box_loss   cls_loss   dfl_loss  Instances       Size\n"
     ]
    },
    {
     "name": "stderr",
     "output_type": "stream",
     "text": [
      "     20/150      3.67G     0.8689      1.088      1.014         15        640: 100%|██████████| 8/8 [00:03<00:00,  2.06it/s]\n",
      "                 Class     Images  Instances      Box(P          R      mAP50  mAP50-95): 100%|██████████| 1/1 [00:00<00:00,  3.17it/s]"
     ]
    },
    {
     "name": "stdout",
     "output_type": "stream",
     "text": [
      "                   all         10         31      0.373      0.551      0.469      0.296\n"
     ]
    },
    {
     "name": "stderr",
     "output_type": "stream",
     "text": [
      "\n"
     ]
    },
    {
     "name": "stdout",
     "output_type": "stream",
     "text": [
      "\n",
      "      Epoch    GPU_mem   box_loss   cls_loss   dfl_loss  Instances       Size\n"
     ]
    },
    {
     "name": "stderr",
     "output_type": "stream",
     "text": [
      "     21/150      3.62G     0.9791      1.153      1.099         15        640: 100%|██████████| 8/8 [00:03<00:00,  2.08it/s]\n",
      "                 Class     Images  Instances      Box(P          R      mAP50  mAP50-95): 100%|██████████| 1/1 [00:00<00:00,  3.21it/s]"
     ]
    },
    {
     "name": "stdout",
     "output_type": "stream",
     "text": [
      "                   all         10         31      0.373      0.551      0.469      0.296\n"
     ]
    },
    {
     "name": "stderr",
     "output_type": "stream",
     "text": [
      "\n"
     ]
    },
    {
     "name": "stdout",
     "output_type": "stream",
     "text": [
      "\n",
      "      Epoch    GPU_mem   box_loss   cls_loss   dfl_loss  Instances       Size\n"
     ]
    },
    {
     "name": "stderr",
     "output_type": "stream",
     "text": [
      "     22/150      3.67G      0.937      1.015      1.034         14        640: 100%|██████████| 8/8 [00:03<00:00,  2.07it/s]\n",
      "                 Class     Images  Instances      Box(P          R      mAP50  mAP50-95): 100%|██████████| 1/1 [00:00<00:00,  3.26it/s]"
     ]
    },
    {
     "name": "stdout",
     "output_type": "stream",
     "text": [
      "                   all         10         31      0.495       0.48      0.487      0.351\n"
     ]
    },
    {
     "name": "stderr",
     "output_type": "stream",
     "text": [
      "\n"
     ]
    },
    {
     "name": "stdout",
     "output_type": "stream",
     "text": [
      "\n",
      "      Epoch    GPU_mem   box_loss   cls_loss   dfl_loss  Instances       Size\n"
     ]
    },
    {
     "name": "stderr",
     "output_type": "stream",
     "text": [
      "     23/150      3.66G      1.022     0.9895      1.078         18        640: 100%|██████████| 8/8 [00:03<00:00,  2.06it/s]\n",
      "                 Class     Images  Instances      Box(P          R      mAP50  mAP50-95): 100%|██████████| 1/1 [00:00<00:00,  3.14it/s]"
     ]
    },
    {
     "name": "stdout",
     "output_type": "stream",
     "text": [
      "                   all         10         31      0.569      0.515      0.549      0.374\n"
     ]
    },
    {
     "name": "stderr",
     "output_type": "stream",
     "text": [
      "\n"
     ]
    },
    {
     "name": "stdout",
     "output_type": "stream",
     "text": [
      "\n",
      "      Epoch    GPU_mem   box_loss   cls_loss   dfl_loss  Instances       Size\n"
     ]
    },
    {
     "name": "stderr",
     "output_type": "stream",
     "text": [
      "     24/150      3.66G      1.007      1.014      1.036         27        640: 100%|██████████| 8/8 [00:03<00:00,  2.07it/s]\n",
      "                 Class     Images  Instances      Box(P          R      mAP50  mAP50-95): 100%|██████████| 1/1 [00:00<00:00,  3.26it/s]"
     ]
    },
    {
     "name": "stdout",
     "output_type": "stream",
     "text": [
      "                   all         10         31      0.569      0.515      0.549      0.374\n"
     ]
    },
    {
     "name": "stderr",
     "output_type": "stream",
     "text": [
      "\n"
     ]
    },
    {
     "name": "stdout",
     "output_type": "stream",
     "text": [
      "\n",
      "      Epoch    GPU_mem   box_loss   cls_loss   dfl_loss  Instances       Size\n"
     ]
    },
    {
     "name": "stderr",
     "output_type": "stream",
     "text": [
      "     25/150      3.67G     0.9392      1.066      1.047         18        640: 100%|██████████| 8/8 [00:03<00:00,  2.06it/s]\n",
      "                 Class     Images  Instances      Box(P          R      mAP50  mAP50-95): 100%|██████████| 1/1 [00:00<00:00,  3.24it/s]"
     ]
    },
    {
     "name": "stdout",
     "output_type": "stream",
     "text": [
      "                   all         10         31      0.672      0.574      0.588      0.424\n"
     ]
    },
    {
     "name": "stderr",
     "output_type": "stream",
     "text": [
      "\n"
     ]
    },
    {
     "name": "stdout",
     "output_type": "stream",
     "text": [
      "\n",
      "      Epoch    GPU_mem   box_loss   cls_loss   dfl_loss  Instances       Size\n"
     ]
    },
    {
     "name": "stderr",
     "output_type": "stream",
     "text": [
      "     26/150      3.67G     0.8496      1.052      1.033         16        640: 100%|██████████| 8/8 [00:04<00:00,  1.60it/s]\n",
      "                 Class     Images  Instances      Box(P          R      mAP50  mAP50-95): 100%|██████████| 1/1 [00:00<00:00,  1.32it/s]"
     ]
    },
    {
     "name": "stdout",
     "output_type": "stream",
     "text": [
      "                   all         10         31      0.326      0.645       0.56      0.439\n"
     ]
    },
    {
     "name": "stderr",
     "output_type": "stream",
     "text": [
      "\n"
     ]
    },
    {
     "name": "stdout",
     "output_type": "stream",
     "text": [
      "\n",
      "      Epoch    GPU_mem   box_loss   cls_loss   dfl_loss  Instances       Size\n"
     ]
    },
    {
     "name": "stderr",
     "output_type": "stream",
     "text": [
      "     27/150      3.64G     0.8497      1.006      1.003         10        640: 100%|██████████| 8/8 [00:06<00:00,  1.28it/s]\n",
      "                 Class     Images  Instances      Box(P          R      mAP50  mAP50-95): 100%|██████████| 1/1 [00:00<00:00,  3.28it/s]"
     ]
    },
    {
     "name": "stdout",
     "output_type": "stream",
     "text": [
      "                   all         10         31      0.422      0.471      0.537      0.413\n"
     ]
    },
    {
     "name": "stderr",
     "output_type": "stream",
     "text": [
      "\n"
     ]
    },
    {
     "name": "stdout",
     "output_type": "stream",
     "text": [
      "\n",
      "      Epoch    GPU_mem   box_loss   cls_loss   dfl_loss  Instances       Size\n"
     ]
    },
    {
     "name": "stderr",
     "output_type": "stream",
     "text": [
      "     28/150      3.66G     0.8781     0.9025      1.014         10        640: 100%|██████████| 8/8 [00:07<00:00,  1.14it/s]\n",
      "                 Class     Images  Instances      Box(P          R      mAP50  mAP50-95): 100%|██████████| 1/1 [00:00<00:00,  1.30it/s]"
     ]
    },
    {
     "name": "stdout",
     "output_type": "stream",
     "text": [
      "                   all         10         31      0.422      0.471      0.537      0.413\n"
     ]
    },
    {
     "name": "stderr",
     "output_type": "stream",
     "text": [
      "\n"
     ]
    },
    {
     "name": "stdout",
     "output_type": "stream",
     "text": [
      "\n",
      "      Epoch    GPU_mem   box_loss   cls_loss   dfl_loss  Instances       Size\n"
     ]
    },
    {
     "name": "stderr",
     "output_type": "stream",
     "text": [
      "     29/150      3.66G     0.9459      1.054      1.039          6        640: 100%|██████████| 8/8 [00:08<00:00,  1.07s/it]\n",
      "                 Class     Images  Instances      Box(P          R      mAP50  mAP50-95): 100%|██████████| 1/1 [00:00<00:00,  3.24it/s]"
     ]
    },
    {
     "name": "stdout",
     "output_type": "stream",
     "text": [
      "                   all         10         31     0.0299      0.435      0.018     0.0123\n"
     ]
    },
    {
     "name": "stderr",
     "output_type": "stream",
     "text": [
      "\n"
     ]
    },
    {
     "name": "stdout",
     "output_type": "stream",
     "text": [
      "\n",
      "      Epoch    GPU_mem   box_loss   cls_loss   dfl_loss  Instances       Size\n"
     ]
    },
    {
     "name": "stderr",
     "output_type": "stream",
     "text": [
      "     30/150      3.67G     0.8838     0.8724     0.9949         24        640: 100%|██████████| 8/8 [00:08<00:00,  1.02s/it]\n",
      "                 Class     Images  Instances      Box(P          R      mAP50  mAP50-95): 100%|██████████| 1/1 [00:00<00:00,  3.21it/s]"
     ]
    },
    {
     "name": "stdout",
     "output_type": "stream",
     "text": [
      "                   all         10         31      0.142      0.306      0.178      0.145\n"
     ]
    },
    {
     "name": "stderr",
     "output_type": "stream",
     "text": [
      "\n"
     ]
    },
    {
     "name": "stdout",
     "output_type": "stream",
     "text": [
      "\n",
      "      Epoch    GPU_mem   box_loss   cls_loss   dfl_loss  Instances       Size\n"
     ]
    },
    {
     "name": "stderr",
     "output_type": "stream",
     "text": [
      "     31/150      3.65G     0.7738     0.7565     0.9804         24        640: 100%|██████████| 8/8 [00:07<00:00,  1.01it/s]\n",
      "                 Class     Images  Instances      Box(P          R      mAP50  mAP50-95): 100%|██████████| 1/1 [00:00<00:00,  3.19it/s]"
     ]
    },
    {
     "name": "stdout",
     "output_type": "stream",
     "text": [
      "                   all         10         31     0.0494      0.542      0.181      0.149\n"
     ]
    },
    {
     "name": "stderr",
     "output_type": "stream",
     "text": [
      "\n"
     ]
    },
    {
     "name": "stdout",
     "output_type": "stream",
     "text": [
      "\n",
      "      Epoch    GPU_mem   box_loss   cls_loss   dfl_loss  Instances       Size\n"
     ]
    },
    {
     "name": "stderr",
     "output_type": "stream",
     "text": [
      "     32/150      3.62G      1.032     0.8259      1.042         14        640: 100%|██████████| 8/8 [00:08<00:00,  1.07s/it]\n",
      "                 Class     Images  Instances      Box(P          R      mAP50  mAP50-95): 100%|██████████| 1/1 [00:00<00:00,  1.31it/s]"
     ]
    },
    {
     "name": "stdout",
     "output_type": "stream",
     "text": [
      "                   all         10         31     0.0494      0.542      0.181      0.149\n"
     ]
    },
    {
     "name": "stderr",
     "output_type": "stream",
     "text": [
      "\n"
     ]
    },
    {
     "name": "stdout",
     "output_type": "stream",
     "text": [
      "\n",
      "      Epoch    GPU_mem   box_loss   cls_loss   dfl_loss  Instances       Size\n"
     ]
    },
    {
     "name": "stderr",
     "output_type": "stream",
     "text": [
      "     33/150      3.67G     0.8608     0.8396     0.9809          9        640: 100%|██████████| 8/8 [00:08<00:00,  1.07s/it]\n",
      "                 Class     Images  Instances      Box(P          R      mAP50  mAP50-95): 100%|██████████| 1/1 [00:00<00:00,  1.30it/s]"
     ]
    },
    {
     "name": "stdout",
     "output_type": "stream",
     "text": [
      "                   all         10         31      0.467      0.556      0.551      0.393\n"
     ]
    },
    {
     "name": "stderr",
     "output_type": "stream",
     "text": [
      "\n"
     ]
    },
    {
     "name": "stdout",
     "output_type": "stream",
     "text": [
      "\n",
      "      Epoch    GPU_mem   box_loss   cls_loss   dfl_loss  Instances       Size\n"
     ]
    },
    {
     "name": "stderr",
     "output_type": "stream",
     "text": [
      "     34/150      3.66G     0.8077     0.7625     0.9791         32        640: 100%|██████████| 8/8 [00:08<00:00,  1.05s/it]\n",
      "                 Class     Images  Instances      Box(P          R      mAP50  mAP50-95): 100%|██████████| 1/1 [00:00<00:00,  1.31it/s]"
     ]
    },
    {
     "name": "stdout",
     "output_type": "stream",
     "text": [
      "                   all         10         31      0.481      0.687      0.553      0.402\n"
     ]
    },
    {
     "name": "stderr",
     "output_type": "stream",
     "text": [
      "\n"
     ]
    },
    {
     "name": "stdout",
     "output_type": "stream",
     "text": [
      "\n",
      "      Epoch    GPU_mem   box_loss   cls_loss   dfl_loss  Instances       Size\n"
     ]
    },
    {
     "name": "stderr",
     "output_type": "stream",
     "text": [
      "     35/150      3.65G     0.8585     0.7401      1.014         12        640: 100%|██████████| 8/8 [00:08<00:00,  1.05s/it]\n",
      "                 Class     Images  Instances      Box(P          R      mAP50  mAP50-95): 100%|██████████| 1/1 [00:00<00:00,  1.31it/s]"
     ]
    },
    {
     "name": "stdout",
     "output_type": "stream",
     "text": [
      "                   all         10         31      0.481      0.687      0.553      0.402\n"
     ]
    },
    {
     "name": "stderr",
     "output_type": "stream",
     "text": [
      "\n"
     ]
    },
    {
     "name": "stdout",
     "output_type": "stream",
     "text": [
      "\n",
      "      Epoch    GPU_mem   box_loss   cls_loss   dfl_loss  Instances       Size\n"
     ]
    },
    {
     "name": "stderr",
     "output_type": "stream",
     "text": [
      "     36/150      3.65G      0.809     0.6589     0.9882         16        640: 100%|██████████| 8/8 [00:09<00:00,  1.22s/it]\n",
      "                 Class     Images  Instances      Box(P          R      mAP50  mAP50-95): 100%|██████████| 1/1 [00:00<00:00,  1.34it/s]"
     ]
    },
    {
     "name": "stdout",
     "output_type": "stream",
     "text": [
      "                   all         10         31      0.708       0.38      0.477      0.377\n"
     ]
    },
    {
     "name": "stderr",
     "output_type": "stream",
     "text": [
      "\n"
     ]
    },
    {
     "name": "stdout",
     "output_type": "stream",
     "text": [
      "\n",
      "      Epoch    GPU_mem   box_loss   cls_loss   dfl_loss  Instances       Size\n"
     ]
    },
    {
     "name": "stderr",
     "output_type": "stream",
     "text": [
      "     37/150      3.64G     0.8355      0.728     0.9885         21        640: 100%|██████████| 8/8 [00:10<00:00,  1.32s/it]\n",
      "                 Class     Images  Instances      Box(P          R      mAP50  mAP50-95): 100%|██████████| 1/1 [00:00<00:00,  1.31it/s]"
     ]
    },
    {
     "name": "stdout",
     "output_type": "stream",
     "text": [
      "                   all         10         31       0.45       0.25      0.258      0.239\n"
     ]
    },
    {
     "name": "stderr",
     "output_type": "stream",
     "text": [
      "\n"
     ]
    },
    {
     "name": "stdout",
     "output_type": "stream",
     "text": [
      "\n",
      "      Epoch    GPU_mem   box_loss   cls_loss   dfl_loss  Instances       Size\n"
     ]
    },
    {
     "name": "stderr",
     "output_type": "stream",
     "text": [
      "     38/150      3.62G     0.9146     0.7648     0.9963         15        640: 100%|██████████| 8/8 [00:10<00:00,  1.31s/it]\n",
      "                 Class     Images  Instances      Box(P          R      mAP50  mAP50-95): 100%|██████████| 1/1 [00:00<00:00,  1.32it/s]"
     ]
    },
    {
     "name": "stdout",
     "output_type": "stream",
     "text": [
      "                   all         10         31      0.466       0.25      0.283      0.228\n"
     ]
    },
    {
     "name": "stderr",
     "output_type": "stream",
     "text": [
      "\n"
     ]
    },
    {
     "name": "stdout",
     "output_type": "stream",
     "text": [
      "\n",
      "      Epoch    GPU_mem   box_loss   cls_loss   dfl_loss  Instances       Size\n"
     ]
    },
    {
     "name": "stderr",
     "output_type": "stream",
     "text": [
      "     39/150      3.67G     0.8122     0.7517      0.965         16        640: 100%|██████████| 8/8 [00:10<00:00,  1.33s/it]\n",
      "                 Class     Images  Instances      Box(P          R      mAP50  mAP50-95): 100%|██████████| 1/1 [00:00<00:00,  1.33it/s]"
     ]
    },
    {
     "name": "stdout",
     "output_type": "stream",
     "text": [
      "                   all         10         31      0.466       0.25      0.283      0.228\n"
     ]
    },
    {
     "name": "stderr",
     "output_type": "stream",
     "text": [
      "\n"
     ]
    },
    {
     "name": "stdout",
     "output_type": "stream",
     "text": [
      "\n",
      "      Epoch    GPU_mem   box_loss   cls_loss   dfl_loss  Instances       Size\n"
     ]
    },
    {
     "name": "stderr",
     "output_type": "stream",
     "text": [
      "     40/150      3.67G     0.8195      0.759     0.9854         33        640: 100%|██████████| 8/8 [00:10<00:00,  1.33s/it]\n",
      "                 Class     Images  Instances      Box(P          R      mAP50  mAP50-95): 100%|██████████| 1/1 [00:00<00:00,  1.32it/s]"
     ]
    },
    {
     "name": "stdout",
     "output_type": "stream",
     "text": [
      "                   all         10         31      0.512      0.361      0.428      0.338\n"
     ]
    },
    {
     "name": "stderr",
     "output_type": "stream",
     "text": [
      "\n"
     ]
    },
    {
     "name": "stdout",
     "output_type": "stream",
     "text": [
      "\n",
      "      Epoch    GPU_mem   box_loss   cls_loss   dfl_loss  Instances       Size\n"
     ]
    },
    {
     "name": "stderr",
     "output_type": "stream",
     "text": [
      "     41/150      3.67G     0.8453      0.772      1.003         15        640: 100%|██████████| 8/8 [00:10<00:00,  1.35s/it]\n",
      "                 Class     Images  Instances      Box(P          R      mAP50  mAP50-95): 100%|██████████| 1/1 [00:00<00:00,  1.30it/s]"
     ]
    },
    {
     "name": "stdout",
     "output_type": "stream",
     "text": [
      "                   all         10         31      0.441      0.417      0.467      0.336\n"
     ]
    },
    {
     "name": "stderr",
     "output_type": "stream",
     "text": [
      "\n"
     ]
    },
    {
     "name": "stdout",
     "output_type": "stream",
     "text": [
      "\n",
      "      Epoch    GPU_mem   box_loss   cls_loss   dfl_loss  Instances       Size\n"
     ]
    },
    {
     "name": "stderr",
     "output_type": "stream",
     "text": [
      "     42/150      3.65G     0.8063     0.7497      1.002         25        640: 100%|██████████| 8/8 [00:11<00:00,  1.46s/it]\n",
      "                 Class     Images  Instances      Box(P          R      mAP50  mAP50-95): 100%|██████████| 1/1 [00:00<00:00,  1.29it/s]"
     ]
    },
    {
     "name": "stdout",
     "output_type": "stream",
     "text": [
      "                   all         10         31       0.66      0.306      0.469      0.348\n"
     ]
    },
    {
     "name": "stderr",
     "output_type": "stream",
     "text": [
      "\n"
     ]
    },
    {
     "name": "stdout",
     "output_type": "stream",
     "text": [
      "\n",
      "      Epoch    GPU_mem   box_loss   cls_loss   dfl_loss  Instances       Size\n"
     ]
    },
    {
     "name": "stderr",
     "output_type": "stream",
     "text": [
      "     43/150       3.6G     0.7881     0.6663     0.9933         17        640: 100%|██████████| 8/8 [00:11<00:00,  1.45s/it]\n",
      "                 Class     Images  Instances      Box(P          R      mAP50  mAP50-95): 100%|██████████| 1/1 [00:00<00:00,  1.30it/s]"
     ]
    },
    {
     "name": "stdout",
     "output_type": "stream",
     "text": [
      "                   all         10         31       0.66      0.306      0.469      0.348\n"
     ]
    },
    {
     "name": "stderr",
     "output_type": "stream",
     "text": [
      "\n"
     ]
    },
    {
     "name": "stdout",
     "output_type": "stream",
     "text": [
      "\n",
      "      Epoch    GPU_mem   box_loss   cls_loss   dfl_loss  Instances       Size\n"
     ]
    },
    {
     "name": "stderr",
     "output_type": "stream",
     "text": [
      "     44/150      3.67G     0.7801      0.715       0.97         16        640: 100%|██████████| 8/8 [00:11<00:00,  1.46s/it]\n",
      "                 Class     Images  Instances      Box(P          R      mAP50  mAP50-95): 100%|██████████| 1/1 [00:00<00:00,  1.30it/s]"
     ]
    },
    {
     "name": "stdout",
     "output_type": "stream",
     "text": [
      "                   all         10         31      0.661      0.448      0.515      0.403\n"
     ]
    },
    {
     "name": "stderr",
     "output_type": "stream",
     "text": [
      "\n"
     ]
    },
    {
     "name": "stdout",
     "output_type": "stream",
     "text": [
      "\n",
      "      Epoch    GPU_mem   box_loss   cls_loss   dfl_loss  Instances       Size\n"
     ]
    },
    {
     "name": "stderr",
     "output_type": "stream",
     "text": [
      "     45/150      3.66G     0.6892      0.664      0.932          6        640: 100%|██████████| 8/8 [00:11<00:00,  1.46s/it]\n",
      "                 Class     Images  Instances      Box(P          R      mAP50  mAP50-95): 100%|██████████| 1/1 [00:00<00:00,  1.31it/s]"
     ]
    },
    {
     "name": "stdout",
     "output_type": "stream",
     "text": [
      "                   all         10         31      0.706      0.405      0.523      0.411\n"
     ]
    },
    {
     "name": "stderr",
     "output_type": "stream",
     "text": [
      "\n"
     ]
    },
    {
     "name": "stdout",
     "output_type": "stream",
     "text": [
      "\n",
      "      Epoch    GPU_mem   box_loss   cls_loss   dfl_loss  Instances       Size\n"
     ]
    },
    {
     "name": "stderr",
     "output_type": "stream",
     "text": [
      "     46/150      3.65G     0.6976     0.6079     0.9298         20        640: 100%|██████████| 8/8 [00:11<00:00,  1.45s/it]\n",
      "                 Class     Images  Instances      Box(P          R      mAP50  mAP50-95): 100%|██████████| 1/1 [00:00<00:00,  1.31it/s]"
     ]
    },
    {
     "name": "stdout",
     "output_type": "stream",
     "text": [
      "                   all         10         31      0.706      0.405      0.523      0.411\n"
     ]
    },
    {
     "name": "stderr",
     "output_type": "stream",
     "text": [
      "\n"
     ]
    },
    {
     "name": "stdout",
     "output_type": "stream",
     "text": [
      "\n",
      "      Epoch    GPU_mem   box_loss   cls_loss   dfl_loss  Instances       Size\n"
     ]
    },
    {
     "name": "stderr",
     "output_type": "stream",
     "text": [
      "     47/150      3.65G     0.6819     0.5701     0.9118         23        640: 100%|██████████| 8/8 [00:11<00:00,  1.47s/it]\n",
      "                 Class     Images  Instances      Box(P          R      mAP50  mAP50-95): 100%|██████████| 1/1 [00:00<00:00,  1.28it/s]"
     ]
    },
    {
     "name": "stdout",
     "output_type": "stream",
     "text": [
      "                   all         10         31      0.594      0.472       0.54      0.422\n"
     ]
    },
    {
     "name": "stderr",
     "output_type": "stream",
     "text": [
      "\n"
     ]
    },
    {
     "name": "stdout",
     "output_type": "stream",
     "text": [
      "\n",
      "      Epoch    GPU_mem   box_loss   cls_loss   dfl_loss  Instances       Size\n"
     ]
    },
    {
     "name": "stderr",
     "output_type": "stream",
     "text": [
      "     48/150      3.65G      0.678       0.61      0.898         20        640: 100%|██████████| 8/8 [00:11<00:00,  1.47s/it]\n",
      "                 Class     Images  Instances      Box(P          R      mAP50  mAP50-95): 100%|██████████| 1/1 [00:00<00:00,  1.29it/s]"
     ]
    },
    {
     "name": "stdout",
     "output_type": "stream",
     "text": [
      "                   all         10         31      0.533      0.491      0.532      0.422\n"
     ]
    },
    {
     "name": "stderr",
     "output_type": "stream",
     "text": [
      "\n"
     ]
    },
    {
     "name": "stdout",
     "output_type": "stream",
     "text": [
      "\n",
      "      Epoch    GPU_mem   box_loss   cls_loss   dfl_loss  Instances       Size\n"
     ]
    },
    {
     "name": "stderr",
     "output_type": "stream",
     "text": [
      "     49/150      3.62G     0.7102     0.6116      0.949         23        640: 100%|██████████| 8/8 [00:11<00:00,  1.47s/it]\n",
      "                 Class     Images  Instances      Box(P          R      mAP50  mAP50-95): 100%|██████████| 1/1 [00:00<00:00,  1.34it/s]"
     ]
    },
    {
     "name": "stdout",
     "output_type": "stream",
     "text": [
      "                   all         10         31      0.841      0.472      0.593      0.474\n"
     ]
    },
    {
     "name": "stderr",
     "output_type": "stream",
     "text": [
      "\n"
     ]
    },
    {
     "name": "stdout",
     "output_type": "stream",
     "text": [
      "\n",
      "      Epoch    GPU_mem   box_loss   cls_loss   dfl_loss  Instances       Size\n"
     ]
    },
    {
     "name": "stderr",
     "output_type": "stream",
     "text": [
      "     50/150      3.65G     0.7592     0.6709     0.9633         23        640: 100%|██████████| 8/8 [00:11<00:00,  1.46s/it]\n",
      "                 Class     Images  Instances      Box(P          R      mAP50  mAP50-95): 100%|██████████| 1/1 [00:00<00:00,  1.31it/s]"
     ]
    },
    {
     "name": "stdout",
     "output_type": "stream",
     "text": [
      "                   all         10         31      0.841      0.472      0.593      0.474\n"
     ]
    },
    {
     "name": "stderr",
     "output_type": "stream",
     "text": [
      "\n"
     ]
    },
    {
     "name": "stdout",
     "output_type": "stream",
     "text": [
      "\n",
      "      Epoch    GPU_mem   box_loss   cls_loss   dfl_loss  Instances       Size\n"
     ]
    },
    {
     "name": "stderr",
     "output_type": "stream",
     "text": [
      "     51/150      3.65G     0.7112      0.629     0.9081         17        640: 100%|██████████| 8/8 [00:11<00:00,  1.47s/it]\n",
      "                 Class     Images  Instances      Box(P          R      mAP50  mAP50-95): 100%|██████████| 1/1 [00:00<00:00,  1.30it/s]"
     ]
    },
    {
     "name": "stdout",
     "output_type": "stream",
     "text": [
      "                   all         10         31       0.76      0.509      0.553      0.446\n"
     ]
    },
    {
     "name": "stderr",
     "output_type": "stream",
     "text": [
      "\n"
     ]
    },
    {
     "name": "stdout",
     "output_type": "stream",
     "text": [
      "\n",
      "      Epoch    GPU_mem   box_loss   cls_loss   dfl_loss  Instances       Size\n"
     ]
    },
    {
     "name": "stderr",
     "output_type": "stream",
     "text": [
      "     52/150      3.65G     0.6581     0.5596     0.8949         11        640: 100%|██████████| 8/8 [00:11<00:00,  1.46s/it]\n",
      "                 Class     Images  Instances      Box(P          R      mAP50  mAP50-95): 100%|██████████| 1/1 [00:00<00:00,  1.32it/s]"
     ]
    },
    {
     "name": "stdout",
     "output_type": "stream",
     "text": [
      "                   all         10         31      0.955      0.491      0.607      0.489\n"
     ]
    },
    {
     "name": "stderr",
     "output_type": "stream",
     "text": [
      "\n"
     ]
    },
    {
     "name": "stdout",
     "output_type": "stream",
     "text": [
      "\n",
      "      Epoch    GPU_mem   box_loss   cls_loss   dfl_loss  Instances       Size\n"
     ]
    },
    {
     "name": "stderr",
     "output_type": "stream",
     "text": [
      "     53/150      3.67G     0.6366      0.579     0.9202         21        640: 100%|██████████| 8/8 [00:11<00:00,  1.47s/it]\n",
      "                 Class     Images  Instances      Box(P          R      mAP50  mAP50-95): 100%|██████████| 1/1 [00:00<00:00,  1.28it/s]"
     ]
    },
    {
     "name": "stdout",
     "output_type": "stream",
     "text": [
      "                   all         10         31      0.846      0.385      0.556      0.448\n"
     ]
    },
    {
     "name": "stderr",
     "output_type": "stream",
     "text": [
      "\n"
     ]
    },
    {
     "name": "stdout",
     "output_type": "stream",
     "text": [
      "\n",
      "      Epoch    GPU_mem   box_loss   cls_loss   dfl_loss  Instances       Size\n"
     ]
    },
    {
     "name": "stderr",
     "output_type": "stream",
     "text": [
      "     54/150       3.6G     0.7172     0.7074     0.9707         11        640: 100%|██████████| 8/8 [00:11<00:00,  1.46s/it]\n",
      "                 Class     Images  Instances      Box(P          R      mAP50  mAP50-95): 100%|██████████| 1/1 [00:00<00:00,  1.29it/s]"
     ]
    },
    {
     "name": "stdout",
     "output_type": "stream",
     "text": [
      "                   all         10         31      0.846      0.385      0.556      0.448\n"
     ]
    },
    {
     "name": "stderr",
     "output_type": "stream",
     "text": [
      "\n"
     ]
    },
    {
     "name": "stdout",
     "output_type": "stream",
     "text": [
      "\n",
      "      Epoch    GPU_mem   box_loss   cls_loss   dfl_loss  Instances       Size\n"
     ]
    },
    {
     "name": "stderr",
     "output_type": "stream",
     "text": [
      "     55/150      3.67G      0.722     0.6672     0.9749         16        640: 100%|██████████| 8/8 [00:11<00:00,  1.47s/it]\n",
      "                 Class     Images  Instances      Box(P          R      mAP50  mAP50-95): 100%|██████████| 1/1 [00:00<00:00,  1.29it/s]"
     ]
    },
    {
     "name": "stdout",
     "output_type": "stream",
     "text": [
      "                   all         10         31      0.677      0.347      0.466      0.383\n"
     ]
    },
    {
     "name": "stderr",
     "output_type": "stream",
     "text": [
      "\n"
     ]
    },
    {
     "name": "stdout",
     "output_type": "stream",
     "text": [
      "\n",
      "      Epoch    GPU_mem   box_loss   cls_loss   dfl_loss  Instances       Size\n"
     ]
    },
    {
     "name": "stderr",
     "output_type": "stream",
     "text": [
      "     56/150      3.67G     0.6964      0.738     0.9321         10        640: 100%|██████████| 8/8 [00:11<00:00,  1.47s/it]\n",
      "                 Class     Images  Instances      Box(P          R      mAP50  mAP50-95): 100%|██████████| 1/1 [00:00<00:00,  1.30it/s]"
     ]
    },
    {
     "name": "stdout",
     "output_type": "stream",
     "text": [
      "                   all         10         31       0.52      0.379      0.415      0.331\n"
     ]
    },
    {
     "name": "stderr",
     "output_type": "stream",
     "text": [
      "\n"
     ]
    },
    {
     "name": "stdout",
     "output_type": "stream",
     "text": [
      "\n",
      "      Epoch    GPU_mem   box_loss   cls_loss   dfl_loss  Instances       Size\n"
     ]
    },
    {
     "name": "stderr",
     "output_type": "stream",
     "text": [
      "     57/150      3.66G     0.7091     0.7152     0.9566          7        640: 100%|██████████| 8/8 [00:11<00:00,  1.46s/it]\n",
      "                 Class     Images  Instances      Box(P          R      mAP50  mAP50-95): 100%|██████████| 1/1 [00:00<00:00,  1.31it/s]"
     ]
    },
    {
     "name": "stdout",
     "output_type": "stream",
     "text": [
      "                   all         10         31       0.52      0.379      0.415      0.331\n"
     ]
    },
    {
     "name": "stderr",
     "output_type": "stream",
     "text": [
      "\n"
     ]
    },
    {
     "name": "stdout",
     "output_type": "stream",
     "text": [
      "\n",
      "      Epoch    GPU_mem   box_loss   cls_loss   dfl_loss  Instances       Size\n"
     ]
    },
    {
     "name": "stderr",
     "output_type": "stream",
     "text": [
      "     58/150      3.65G     0.7095     0.6144     0.9245         22        640: 100%|██████████| 8/8 [00:11<00:00,  1.47s/it]\n",
      "                 Class     Images  Instances      Box(P          R      mAP50  mAP50-95): 100%|██████████| 1/1 [00:00<00:00,  1.32it/s]"
     ]
    },
    {
     "name": "stdout",
     "output_type": "stream",
     "text": [
      "                   all         10         31      0.475      0.398      0.439       0.35\n"
     ]
    },
    {
     "name": "stderr",
     "output_type": "stream",
     "text": [
      "\n"
     ]
    },
    {
     "name": "stdout",
     "output_type": "stream",
     "text": [
      "\n",
      "      Epoch    GPU_mem   box_loss   cls_loss   dfl_loss  Instances       Size\n"
     ]
    },
    {
     "name": "stderr",
     "output_type": "stream",
     "text": [
      "     59/150      3.65G     0.7446     0.6725      0.971         12        640: 100%|██████████| 8/8 [00:11<00:00,  1.47s/it]\n",
      "                 Class     Images  Instances      Box(P          R      mAP50  mAP50-95): 100%|██████████| 1/1 [00:00<00:00,  1.29it/s]"
     ]
    },
    {
     "name": "stdout",
     "output_type": "stream",
     "text": [
      "                   all         10         31      0.415      0.382      0.427       0.32\n"
     ]
    },
    {
     "name": "stderr",
     "output_type": "stream",
     "text": [
      "\n"
     ]
    },
    {
     "name": "stdout",
     "output_type": "stream",
     "text": [
      "\n",
      "      Epoch    GPU_mem   box_loss   cls_loss   dfl_loss  Instances       Size\n"
     ]
    },
    {
     "name": "stderr",
     "output_type": "stream",
     "text": [
      "     60/150      3.63G     0.6689     0.6446     0.9723         10        640: 100%|██████████| 8/8 [00:11<00:00,  1.46s/it]\n",
      "                 Class     Images  Instances      Box(P          R      mAP50  mAP50-95): 100%|██████████| 1/1 [00:00<00:00,  1.34it/s]"
     ]
    },
    {
     "name": "stdout",
     "output_type": "stream",
     "text": [
      "                   all         10         31      0.379       0.69      0.523      0.384\n"
     ]
    },
    {
     "name": "stderr",
     "output_type": "stream",
     "text": [
      "\n"
     ]
    },
    {
     "name": "stdout",
     "output_type": "stream",
     "text": [
      "\n",
      "      Epoch    GPU_mem   box_loss   cls_loss   dfl_loss  Instances       Size\n"
     ]
    },
    {
     "name": "stderr",
     "output_type": "stream",
     "text": [
      "     61/150      3.67G      0.643     0.6077     0.9263         14        640: 100%|██████████| 8/8 [00:11<00:00,  1.46s/it]\n",
      "                 Class     Images  Instances      Box(P          R      mAP50  mAP50-95): 100%|██████████| 1/1 [00:00<00:00,  1.31it/s]"
     ]
    },
    {
     "name": "stdout",
     "output_type": "stream",
     "text": [
      "                   all         10         31      0.379       0.69      0.523      0.384\n"
     ]
    },
    {
     "name": "stderr",
     "output_type": "stream",
     "text": [
      "\n"
     ]
    },
    {
     "name": "stdout",
     "output_type": "stream",
     "text": [
      "\n",
      "      Epoch    GPU_mem   box_loss   cls_loss   dfl_loss  Instances       Size\n"
     ]
    },
    {
     "name": "stderr",
     "output_type": "stream",
     "text": [
      "     62/150      3.67G     0.6415     0.6424     0.9302         23        640: 100%|██████████| 8/8 [00:11<00:00,  1.47s/it]\n",
      "                 Class     Images  Instances      Box(P          R      mAP50  mAP50-95): 100%|██████████| 1/1 [00:00<00:00,  1.30it/s]"
     ]
    },
    {
     "name": "stdout",
     "output_type": "stream",
     "text": [
      "                   all         10         31      0.525      0.517       0.59      0.436\n"
     ]
    },
    {
     "name": "stderr",
     "output_type": "stream",
     "text": [
      "\n"
     ]
    },
    {
     "name": "stdout",
     "output_type": "stream",
     "text": [
      "\n",
      "      Epoch    GPU_mem   box_loss   cls_loss   dfl_loss  Instances       Size\n"
     ]
    },
    {
     "name": "stderr",
     "output_type": "stream",
     "text": [
      "     63/150      3.66G     0.7225     0.5991     0.9387         12        640: 100%|██████████| 8/8 [00:11<00:00,  1.47s/it]\n",
      "                 Class     Images  Instances      Box(P          R      mAP50  mAP50-95): 100%|██████████| 1/1 [00:00<00:00,  1.29it/s]"
     ]
    },
    {
     "name": "stdout",
     "output_type": "stream",
     "text": [
      "                   all         10         31       0.49      0.544      0.536      0.436\n"
     ]
    },
    {
     "name": "stderr",
     "output_type": "stream",
     "text": [
      "\n"
     ]
    },
    {
     "name": "stdout",
     "output_type": "stream",
     "text": [
      "\n",
      "      Epoch    GPU_mem   box_loss   cls_loss   dfl_loss  Instances       Size\n"
     ]
    },
    {
     "name": "stderr",
     "output_type": "stream",
     "text": [
      "     64/150      3.67G     0.6111     0.5408     0.9197         25        640: 100%|██████████| 8/8 [00:11<00:00,  1.47s/it]\n",
      "                 Class     Images  Instances      Box(P          R      mAP50  mAP50-95): 100%|██████████| 1/1 [00:00<00:00,  1.28it/s]"
     ]
    },
    {
     "name": "stdout",
     "output_type": "stream",
     "text": [
      "                   all         10         31      0.572      0.404      0.466        0.4\n"
     ]
    },
    {
     "name": "stderr",
     "output_type": "stream",
     "text": [
      "\n"
     ]
    },
    {
     "name": "stdout",
     "output_type": "stream",
     "text": [
      "\n",
      "      Epoch    GPU_mem   box_loss   cls_loss   dfl_loss  Instances       Size\n"
     ]
    },
    {
     "name": "stderr",
     "output_type": "stream",
     "text": [
      "     65/150       3.6G     0.6883     0.6186     0.9379         17        640: 100%|██████████| 8/8 [00:11<00:00,  1.46s/it]\n",
      "                 Class     Images  Instances      Box(P          R      mAP50  mAP50-95): 100%|██████████| 1/1 [00:00<00:00,  1.29it/s]"
     ]
    },
    {
     "name": "stdout",
     "output_type": "stream",
     "text": [
      "                   all         10         31      0.572      0.404      0.466        0.4\n"
     ]
    },
    {
     "name": "stderr",
     "output_type": "stream",
     "text": [
      "\n"
     ]
    },
    {
     "name": "stdout",
     "output_type": "stream",
     "text": [
      "\n",
      "      Epoch    GPU_mem   box_loss   cls_loss   dfl_loss  Instances       Size\n"
     ]
    },
    {
     "name": "stderr",
     "output_type": "stream",
     "text": [
      "     66/150      3.67G      0.671     0.5559     0.9292         19        640: 100%|██████████| 8/8 [00:11<00:00,  1.47s/it]\n",
      "                 Class     Images  Instances      Box(P          R      mAP50  mAP50-95): 100%|██████████| 1/1 [00:00<00:00,  1.29it/s]"
     ]
    },
    {
     "name": "stdout",
     "output_type": "stream",
     "text": [
      "                   all         10         31      0.884       0.38      0.475       0.37\n"
     ]
    },
    {
     "name": "stderr",
     "output_type": "stream",
     "text": [
      "\n"
     ]
    },
    {
     "name": "stdout",
     "output_type": "stream",
     "text": [
      "\n",
      "      Epoch    GPU_mem   box_loss   cls_loss   dfl_loss  Instances       Size\n"
     ]
    },
    {
     "name": "stderr",
     "output_type": "stream",
     "text": [
      "     67/150      3.66G     0.5947       0.54     0.9149         18        640: 100%|██████████| 8/8 [00:11<00:00,  1.47s/it]\n",
      "                 Class     Images  Instances      Box(P          R      mAP50  mAP50-95): 100%|██████████| 1/1 [00:00<00:00,  1.30it/s]"
     ]
    },
    {
     "name": "stdout",
     "output_type": "stream",
     "text": [
      "                   all         10         31      0.643      0.432      0.455      0.377\n"
     ]
    },
    {
     "name": "stderr",
     "output_type": "stream",
     "text": [
      "\n"
     ]
    },
    {
     "name": "stdout",
     "output_type": "stream",
     "text": [
      "\n",
      "      Epoch    GPU_mem   box_loss   cls_loss   dfl_loss  Instances       Size\n"
     ]
    },
    {
     "name": "stderr",
     "output_type": "stream",
     "text": [
      "     68/150      3.67G     0.6366     0.4961     0.9357         13        640: 100%|██████████| 8/8 [00:11<00:00,  1.46s/it]\n",
      "                 Class     Images  Instances      Box(P          R      mAP50  mAP50-95): 100%|██████████| 1/1 [00:00<00:00,  1.30it/s]"
     ]
    },
    {
     "name": "stdout",
     "output_type": "stream",
     "text": [
      "                   all         10         31      0.643      0.432      0.455      0.377\n"
     ]
    },
    {
     "name": "stderr",
     "output_type": "stream",
     "text": [
      "\n"
     ]
    },
    {
     "name": "stdout",
     "output_type": "stream",
     "text": [
      "\n",
      "      Epoch    GPU_mem   box_loss   cls_loss   dfl_loss  Instances       Size\n"
     ]
    },
    {
     "name": "stderr",
     "output_type": "stream",
     "text": [
      "     69/150      3.67G     0.6523     0.5473     0.9329         41        640: 100%|██████████| 8/8 [00:11<00:00,  1.47s/it]\n",
      "                 Class     Images  Instances      Box(P          R      mAP50  mAP50-95): 100%|██████████| 1/1 [00:00<00:00,  1.30it/s]"
     ]
    },
    {
     "name": "stdout",
     "output_type": "stream",
     "text": [
      "                   all         10         31      0.562      0.442      0.468       0.37\n"
     ]
    },
    {
     "name": "stderr",
     "output_type": "stream",
     "text": [
      "\n"
     ]
    },
    {
     "name": "stdout",
     "output_type": "stream",
     "text": [
      "\n",
      "      Epoch    GPU_mem   box_loss   cls_loss   dfl_loss  Instances       Size\n"
     ]
    },
    {
     "name": "stderr",
     "output_type": "stream",
     "text": [
      "     70/150      3.65G     0.6026     0.5084     0.8952         11        640: 100%|██████████| 8/8 [00:11<00:00,  1.47s/it]\n",
      "                 Class     Images  Instances      Box(P          R      mAP50  mAP50-95): 100%|██████████| 1/1 [00:00<00:00,  1.32it/s]"
     ]
    },
    {
     "name": "stdout",
     "output_type": "stream",
     "text": [
      "                   all         10         31        0.7      0.454       0.54      0.421\n"
     ]
    },
    {
     "name": "stderr",
     "output_type": "stream",
     "text": [
      "\n"
     ]
    },
    {
     "name": "stdout",
     "output_type": "stream",
     "text": [
      "\n",
      "      Epoch    GPU_mem   box_loss   cls_loss   dfl_loss  Instances       Size\n"
     ]
    },
    {
     "name": "stderr",
     "output_type": "stream",
     "text": [
      "     71/150      3.63G     0.6186      0.533     0.8883         10        640: 100%|██████████| 8/8 [00:11<00:00,  1.47s/it]\n",
      "                 Class     Images  Instances      Box(P          R      mAP50  mAP50-95): 100%|██████████| 1/1 [00:00<00:00,  1.32it/s]"
     ]
    },
    {
     "name": "stdout",
     "output_type": "stream",
     "text": [
      "                   all         10         31      0.715      0.471        0.6      0.468\n"
     ]
    },
    {
     "name": "stderr",
     "output_type": "stream",
     "text": [
      "\n"
     ]
    },
    {
     "name": "stdout",
     "output_type": "stream",
     "text": [
      "\n",
      "      Epoch    GPU_mem   box_loss   cls_loss   dfl_loss  Instances       Size\n"
     ]
    },
    {
     "name": "stderr",
     "output_type": "stream",
     "text": [
      "     72/150      3.67G     0.6552      0.607     0.9227         31        640: 100%|██████████| 8/8 [00:11<00:00,  1.46s/it]\n",
      "                 Class     Images  Instances      Box(P          R      mAP50  mAP50-95): 100%|██████████| 1/1 [00:00<00:00,  1.31it/s]"
     ]
    },
    {
     "name": "stdout",
     "output_type": "stream",
     "text": [
      "                   all         10         31      0.715      0.471        0.6      0.468\n"
     ]
    },
    {
     "name": "stderr",
     "output_type": "stream",
     "text": [
      "\n"
     ]
    },
    {
     "name": "stdout",
     "output_type": "stream",
     "text": [
      "\n",
      "      Epoch    GPU_mem   box_loss   cls_loss   dfl_loss  Instances       Size\n"
     ]
    },
    {
     "name": "stderr",
     "output_type": "stream",
     "text": [
      "     73/150      3.67G     0.6744     0.6106     0.9397         11        640: 100%|██████████| 8/8 [00:11<00:00,  1.47s/it]\n",
      "                 Class     Images  Instances      Box(P          R      mAP50  mAP50-95): 100%|██████████| 1/1 [00:00<00:00,  1.30it/s]"
     ]
    },
    {
     "name": "stdout",
     "output_type": "stream",
     "text": [
      "                   all         10         31      0.561      0.546      0.629      0.485\n"
     ]
    },
    {
     "name": "stderr",
     "output_type": "stream",
     "text": [
      "\n"
     ]
    },
    {
     "name": "stdout",
     "output_type": "stream",
     "text": [
      "\n",
      "      Epoch    GPU_mem   box_loss   cls_loss   dfl_loss  Instances       Size\n"
     ]
    },
    {
     "name": "stderr",
     "output_type": "stream",
     "text": [
      "     74/150      3.66G     0.6435     0.5686     0.9211         14        640: 100%|██████████| 8/8 [00:11<00:00,  1.47s/it]\n",
      "                 Class     Images  Instances      Box(P          R      mAP50  mAP50-95): 100%|██████████| 1/1 [00:00<00:00,  1.30it/s]"
     ]
    },
    {
     "name": "stdout",
     "output_type": "stream",
     "text": [
      "                   all         10         31      0.857      0.454      0.613       0.47\n"
     ]
    },
    {
     "name": "stderr",
     "output_type": "stream",
     "text": [
      "\n"
     ]
    },
    {
     "name": "stdout",
     "output_type": "stream",
     "text": [
      "\n",
      "      Epoch    GPU_mem   box_loss   cls_loss   dfl_loss  Instances       Size\n"
     ]
    },
    {
     "name": "stderr",
     "output_type": "stream",
     "text": [
      "     75/150      3.66G     0.6123     0.5064     0.9302         14        640: 100%|██████████| 8/8 [00:11<00:00,  1.47s/it]\n",
      "                 Class     Images  Instances      Box(P          R      mAP50  mAP50-95): 100%|██████████| 1/1 [00:00<00:00,  1.28it/s]"
     ]
    },
    {
     "name": "stdout",
     "output_type": "stream",
     "text": [
      "                   all         10         31      0.926      0.444      0.628      0.477\n"
     ]
    },
    {
     "name": "stderr",
     "output_type": "stream",
     "text": [
      "\n"
     ]
    },
    {
     "name": "stdout",
     "output_type": "stream",
     "text": [
      "\n",
      "      Epoch    GPU_mem   box_loss   cls_loss   dfl_loss  Instances       Size\n"
     ]
    },
    {
     "name": "stderr",
     "output_type": "stream",
     "text": [
      "     76/150      3.62G     0.6012     0.4899     0.8992         11        640: 100%|██████████| 8/8 [00:11<00:00,  1.46s/it]\n",
      "                 Class     Images  Instances      Box(P          R      mAP50  mAP50-95): 100%|██████████| 1/1 [00:00<00:00,  1.30it/s]"
     ]
    },
    {
     "name": "stdout",
     "output_type": "stream",
     "text": [
      "                   all         10         31      0.926      0.444      0.628      0.477\n"
     ]
    },
    {
     "name": "stderr",
     "output_type": "stream",
     "text": [
      "\n"
     ]
    },
    {
     "name": "stdout",
     "output_type": "stream",
     "text": [
      "\n",
      "      Epoch    GPU_mem   box_loss   cls_loss   dfl_loss  Instances       Size\n"
     ]
    },
    {
     "name": "stderr",
     "output_type": "stream",
     "text": [
      "     77/150      3.65G     0.6138     0.5164     0.8872         29        640: 100%|██████████| 8/8 [00:11<00:00,  1.47s/it]\n",
      "                 Class     Images  Instances      Box(P          R      mAP50  mAP50-95): 100%|██████████| 1/1 [00:00<00:00,  1.30it/s]"
     ]
    },
    {
     "name": "stdout",
     "output_type": "stream",
     "text": [
      "                   all         10         31      0.822       0.44      0.572      0.459\n"
     ]
    },
    {
     "name": "stderr",
     "output_type": "stream",
     "text": [
      "\n"
     ]
    },
    {
     "name": "stdout",
     "output_type": "stream",
     "text": [
      "\n",
      "      Epoch    GPU_mem   box_loss   cls_loss   dfl_loss  Instances       Size\n"
     ]
    },
    {
     "name": "stderr",
     "output_type": "stream",
     "text": [
      "     78/150      3.67G     0.6392     0.5041     0.9004         28        640: 100%|██████████| 8/8 [00:11<00:00,  1.47s/it]\n",
      "                 Class     Images  Instances      Box(P          R      mAP50  mAP50-95): 100%|██████████| 1/1 [00:00<00:00,  1.30it/s]"
     ]
    },
    {
     "name": "stdout",
     "output_type": "stream",
     "text": [
      "                   all         10         31      0.687      0.472      0.538      0.419\n"
     ]
    },
    {
     "name": "stderr",
     "output_type": "stream",
     "text": [
      "\n"
     ]
    },
    {
     "name": "stdout",
     "output_type": "stream",
     "text": [
      "\n",
      "      Epoch    GPU_mem   box_loss   cls_loss   dfl_loss  Instances       Size\n"
     ]
    },
    {
     "name": "stderr",
     "output_type": "stream",
     "text": [
      "     79/150      3.66G     0.5912     0.4638     0.9182         16        640: 100%|██████████| 8/8 [00:11<00:00,  1.46s/it]\n",
      "                 Class     Images  Instances      Box(P          R      mAP50  mAP50-95): 100%|██████████| 1/1 [00:00<00:00,  1.31it/s]"
     ]
    },
    {
     "name": "stdout",
     "output_type": "stream",
     "text": [
      "                   all         10         31      0.687      0.472      0.538      0.419\n"
     ]
    },
    {
     "name": "stderr",
     "output_type": "stream",
     "text": [
      "\n"
     ]
    },
    {
     "name": "stdout",
     "output_type": "stream",
     "text": [
      "\n",
      "      Epoch    GPU_mem   box_loss   cls_loss   dfl_loss  Instances       Size\n"
     ]
    },
    {
     "name": "stderr",
     "output_type": "stream",
     "text": [
      "     80/150      3.66G     0.5858     0.5265     0.8883         10        640: 100%|██████████| 8/8 [00:11<00:00,  1.47s/it]\n",
      "                 Class     Images  Instances      Box(P          R      mAP50  mAP50-95): 100%|██████████| 1/1 [00:00<00:00,  1.30it/s]"
     ]
    },
    {
     "name": "stdout",
     "output_type": "stream",
     "text": [
      "                   all         10         31      0.735      0.472      0.499      0.399\n"
     ]
    },
    {
     "name": "stderr",
     "output_type": "stream",
     "text": [
      "\n"
     ]
    },
    {
     "name": "stdout",
     "output_type": "stream",
     "text": [
      "\n",
      "      Epoch    GPU_mem   box_loss   cls_loss   dfl_loss  Instances       Size\n"
     ]
    },
    {
     "name": "stderr",
     "output_type": "stream",
     "text": [
      "     81/150      3.66G     0.5981     0.5014       0.89         21        640: 100%|██████████| 8/8 [00:11<00:00,  1.47s/it]\n",
      "                 Class     Images  Instances      Box(P          R      mAP50  mAP50-95): 100%|██████████| 1/1 [00:00<00:00,  1.28it/s]"
     ]
    },
    {
     "name": "stdout",
     "output_type": "stream",
     "text": [
      "                   all         10         31      0.878      0.491      0.555      0.448\n"
     ]
    },
    {
     "name": "stderr",
     "output_type": "stream",
     "text": [
      "\n"
     ]
    },
    {
     "name": "stdout",
     "output_type": "stream",
     "text": [
      "\n",
      "      Epoch    GPU_mem   box_loss   cls_loss   dfl_loss  Instances       Size\n"
     ]
    },
    {
     "name": "stderr",
     "output_type": "stream",
     "text": [
      "     82/150      3.64G     0.6013     0.4734     0.8982         14        640: 100%|██████████| 8/8 [00:11<00:00,  1.47s/it]\n",
      "                 Class     Images  Instances      Box(P          R      mAP50  mAP50-95): 100%|██████████| 1/1 [00:00<00:00,  1.32it/s]"
     ]
    },
    {
     "name": "stdout",
     "output_type": "stream",
     "text": [
      "                   all         10         31      0.734      0.527      0.588      0.467\n"
     ]
    },
    {
     "name": "stderr",
     "output_type": "stream",
     "text": [
      "\n"
     ]
    },
    {
     "name": "stdout",
     "output_type": "stream",
     "text": [
      "\n",
      "      Epoch    GPU_mem   box_loss   cls_loss   dfl_loss  Instances       Size\n"
     ]
    },
    {
     "name": "stderr",
     "output_type": "stream",
     "text": [
      "     83/150      3.68G      0.645     0.5079     0.9172         14        640: 100%|██████████| 8/8 [00:11<00:00,  1.46s/it]\n",
      "                 Class     Images  Instances      Box(P          R      mAP50  mAP50-95): 100%|██████████| 1/1 [00:00<00:00,  1.30it/s]"
     ]
    },
    {
     "name": "stdout",
     "output_type": "stream",
     "text": [
      "                   all         10         31      0.734      0.527      0.588      0.467\n"
     ]
    },
    {
     "name": "stderr",
     "output_type": "stream",
     "text": [
      "\n"
     ]
    },
    {
     "name": "stdout",
     "output_type": "stream",
     "text": [
      "\n",
      "      Epoch    GPU_mem   box_loss   cls_loss   dfl_loss  Instances       Size\n"
     ]
    },
    {
     "name": "stderr",
     "output_type": "stream",
     "text": [
      "     84/150      3.66G     0.5996     0.4667     0.8968         27        640: 100%|██████████| 8/8 [00:11<00:00,  1.47s/it]\n",
      "                 Class     Images  Instances      Box(P          R      mAP50  mAP50-95): 100%|██████████| 1/1 [00:00<00:00,  1.31it/s]"
     ]
    },
    {
     "name": "stdout",
     "output_type": "stream",
     "text": [
      "                   all         10         31       0.64      0.528      0.567      0.442\n"
     ]
    },
    {
     "name": "stderr",
     "output_type": "stream",
     "text": [
      "\n"
     ]
    },
    {
     "name": "stdout",
     "output_type": "stream",
     "text": [
      "\n",
      "      Epoch    GPU_mem   box_loss   cls_loss   dfl_loss  Instances       Size\n"
     ]
    },
    {
     "name": "stderr",
     "output_type": "stream",
     "text": [
      "     85/150      3.66G     0.5978     0.5059     0.9094         22        640: 100%|██████████| 8/8 [00:11<00:00,  1.47s/it]\n",
      "                 Class     Images  Instances      Box(P          R      mAP50  mAP50-95): 100%|██████████| 1/1 [00:00<00:00,  1.30it/s]"
     ]
    },
    {
     "name": "stdout",
     "output_type": "stream",
     "text": [
      "                   all         10         31      0.621      0.453      0.554      0.427\n"
     ]
    },
    {
     "name": "stderr",
     "output_type": "stream",
     "text": [
      "\n"
     ]
    },
    {
     "name": "stdout",
     "output_type": "stream",
     "text": [
      "\n",
      "      Epoch    GPU_mem   box_loss   cls_loss   dfl_loss  Instances       Size\n"
     ]
    },
    {
     "name": "stderr",
     "output_type": "stream",
     "text": [
      "     86/150      3.67G     0.5728     0.4616     0.8882         12        640: 100%|██████████| 8/8 [00:11<00:00,  1.47s/it]\n",
      "                 Class     Images  Instances      Box(P          R      mAP50  mAP50-95): 100%|██████████| 1/1 [00:00<00:00,  1.27it/s]"
     ]
    },
    {
     "name": "stdout",
     "output_type": "stream",
     "text": [
      "                   all         10         31       0.66      0.417      0.539      0.402\n"
     ]
    },
    {
     "name": "stderr",
     "output_type": "stream",
     "text": [
      "\n"
     ]
    },
    {
     "name": "stdout",
     "output_type": "stream",
     "text": [
      "\n",
      "      Epoch    GPU_mem   box_loss   cls_loss   dfl_loss  Instances       Size\n"
     ]
    },
    {
     "name": "stderr",
     "output_type": "stream",
     "text": [
      "     87/150      3.62G     0.5708     0.4359     0.8717         17        640: 100%|██████████| 8/8 [00:11<00:00,  1.46s/it]\n",
      "                 Class     Images  Instances      Box(P          R      mAP50  mAP50-95): 100%|██████████| 1/1 [00:00<00:00,  1.30it/s]"
     ]
    },
    {
     "name": "stdout",
     "output_type": "stream",
     "text": [
      "                   all         10         31       0.66      0.417      0.539      0.402\n"
     ]
    },
    {
     "name": "stderr",
     "output_type": "stream",
     "text": [
      "\n"
     ]
    },
    {
     "name": "stdout",
     "output_type": "stream",
     "text": [
      "\n",
      "      Epoch    GPU_mem   box_loss   cls_loss   dfl_loss  Instances       Size\n"
     ]
    },
    {
     "name": "stderr",
     "output_type": "stream",
     "text": [
      "     88/150      3.65G      0.578     0.4513     0.9077         29        640: 100%|██████████| 8/8 [00:11<00:00,  1.47s/it]\n",
      "                 Class     Images  Instances      Box(P          R      mAP50  mAP50-95): 100%|██████████| 1/1 [00:00<00:00,  1.31it/s]"
     ]
    },
    {
     "name": "stdout",
     "output_type": "stream",
     "text": [
      "                   all         10         31      0.829      0.398      0.565      0.449\n"
     ]
    },
    {
     "name": "stderr",
     "output_type": "stream",
     "text": [
      "\n"
     ]
    },
    {
     "name": "stdout",
     "output_type": "stream",
     "text": [
      "\n",
      "      Epoch    GPU_mem   box_loss   cls_loss   dfl_loss  Instances       Size\n"
     ]
    },
    {
     "name": "stderr",
     "output_type": "stream",
     "text": [
      "     89/150      3.66G     0.5178     0.4405      0.866         20        640: 100%|██████████| 8/8 [00:11<00:00,  1.47s/it]\n",
      "                 Class     Images  Instances      Box(P          R      mAP50  mAP50-95): 100%|██████████| 1/1 [00:00<00:00,  1.31it/s]"
     ]
    },
    {
     "name": "stdout",
     "output_type": "stream",
     "text": [
      "                   all         10         31      0.838      0.417      0.603      0.504\n"
     ]
    },
    {
     "name": "stderr",
     "output_type": "stream",
     "text": [
      "\n"
     ]
    },
    {
     "name": "stdout",
     "output_type": "stream",
     "text": [
      "\n",
      "      Epoch    GPU_mem   box_loss   cls_loss   dfl_loss  Instances       Size\n"
     ]
    },
    {
     "name": "stderr",
     "output_type": "stream",
     "text": [
      "     90/150      3.66G     0.6069     0.4671      0.891         22        640: 100%|██████████| 8/8 [00:11<00:00,  1.46s/it]\n",
      "                 Class     Images  Instances      Box(P          R      mAP50  mAP50-95): 100%|██████████| 1/1 [00:00<00:00,  1.31it/s]"
     ]
    },
    {
     "name": "stdout",
     "output_type": "stream",
     "text": [
      "                   all         10         31      0.838      0.417      0.603      0.504\n"
     ]
    },
    {
     "name": "stderr",
     "output_type": "stream",
     "text": [
      "\n"
     ]
    },
    {
     "name": "stdout",
     "output_type": "stream",
     "text": [
      "\n",
      "      Epoch    GPU_mem   box_loss   cls_loss   dfl_loss  Instances       Size\n"
     ]
    },
    {
     "name": "stderr",
     "output_type": "stream",
     "text": [
      "     91/150      3.67G     0.5838     0.4678     0.9077         21        640: 100%|██████████| 8/8 [00:11<00:00,  1.47s/it]\n",
      "                 Class     Images  Instances      Box(P          R      mAP50  mAP50-95): 100%|██████████| 1/1 [00:00<00:00,  1.31it/s]"
     ]
    },
    {
     "name": "stdout",
     "output_type": "stream",
     "text": [
      "                   all         10         31      0.631      0.528       0.64      0.535\n"
     ]
    },
    {
     "name": "stderr",
     "output_type": "stream",
     "text": [
      "\n"
     ]
    },
    {
     "name": "stdout",
     "output_type": "stream",
     "text": [
      "\n",
      "      Epoch    GPU_mem   box_loss   cls_loss   dfl_loss  Instances       Size\n"
     ]
    },
    {
     "name": "stderr",
     "output_type": "stream",
     "text": [
      "     92/150      3.67G     0.5605     0.4568     0.8698         23        640: 100%|██████████| 8/8 [00:11<00:00,  1.47s/it]\n",
      "                 Class     Images  Instances      Box(P          R      mAP50  mAP50-95): 100%|██████████| 1/1 [00:00<00:00,  1.31it/s]"
     ]
    },
    {
     "name": "stdout",
     "output_type": "stream",
     "text": [
      "                   all         10         31      0.825       0.45      0.651      0.531\n"
     ]
    },
    {
     "name": "stderr",
     "output_type": "stream",
     "text": [
      "\n"
     ]
    },
    {
     "name": "stdout",
     "output_type": "stream",
     "text": [
      "\n",
      "      Epoch    GPU_mem   box_loss   cls_loss   dfl_loss  Instances       Size\n"
     ]
    },
    {
     "name": "stderr",
     "output_type": "stream",
     "text": [
      "     93/150      3.64G     0.5599     0.4513     0.8917         12        640: 100%|██████████| 8/8 [00:11<00:00,  1.47s/it]\n",
      "                 Class     Images  Instances      Box(P          R      mAP50  mAP50-95): 100%|██████████| 1/1 [00:00<00:00,  1.31it/s]"
     ]
    },
    {
     "name": "stdout",
     "output_type": "stream",
     "text": [
      "                   all         10         31      0.709      0.528      0.619      0.485\n"
     ]
    },
    {
     "name": "stderr",
     "output_type": "stream",
     "text": [
      "\n"
     ]
    },
    {
     "name": "stdout",
     "output_type": "stream",
     "text": [
      "\n",
      "      Epoch    GPU_mem   box_loss   cls_loss   dfl_loss  Instances       Size\n"
     ]
    },
    {
     "name": "stderr",
     "output_type": "stream",
     "text": [
      "     94/150      3.66G     0.5729     0.4358     0.8537         28        640: 100%|██████████| 8/8 [00:11<00:00,  1.46s/it]\n",
      "                 Class     Images  Instances      Box(P          R      mAP50  mAP50-95): 100%|██████████| 1/1 [00:00<00:00,  1.30it/s]"
     ]
    },
    {
     "name": "stdout",
     "output_type": "stream",
     "text": [
      "                   all         10         31      0.709      0.528      0.619      0.485\n"
     ]
    },
    {
     "name": "stderr",
     "output_type": "stream",
     "text": [
      "\n"
     ]
    },
    {
     "name": "stdout",
     "output_type": "stream",
     "text": [
      "\n",
      "      Epoch    GPU_mem   box_loss   cls_loss   dfl_loss  Instances       Size\n"
     ]
    },
    {
     "name": "stderr",
     "output_type": "stream",
     "text": [
      "     95/150      3.66G     0.5311      0.455     0.8797         25        640: 100%|██████████| 8/8 [00:11<00:00,  1.47s/it]\n",
      "                 Class     Images  Instances      Box(P          R      mAP50  mAP50-95): 100%|██████████| 1/1 [00:00<00:00,  1.30it/s]"
     ]
    },
    {
     "name": "stdout",
     "output_type": "stream",
     "text": [
      "                   all         10         31      0.768      0.491      0.599      0.464\n"
     ]
    },
    {
     "name": "stderr",
     "output_type": "stream",
     "text": [
      "\n"
     ]
    },
    {
     "name": "stdout",
     "output_type": "stream",
     "text": [
      "\n",
      "      Epoch    GPU_mem   box_loss   cls_loss   dfl_loss  Instances       Size\n"
     ]
    },
    {
     "name": "stderr",
     "output_type": "stream",
     "text": [
      "     96/150      3.67G     0.5254     0.4391     0.8837          8        640: 100%|██████████| 8/8 [00:11<00:00,  1.46s/it]\n",
      "                 Class     Images  Instances      Box(P          R      mAP50  mAP50-95): 100%|██████████| 1/1 [00:00<00:00,  1.31it/s]"
     ]
    },
    {
     "name": "stdout",
     "output_type": "stream",
     "text": [
      "                   all         10         31      0.749        0.5      0.595      0.451\n"
     ]
    },
    {
     "name": "stderr",
     "output_type": "stream",
     "text": [
      "\n"
     ]
    },
    {
     "name": "stdout",
     "output_type": "stream",
     "text": [
      "\n",
      "      Epoch    GPU_mem   box_loss   cls_loss   dfl_loss  Instances       Size\n"
     ]
    },
    {
     "name": "stderr",
     "output_type": "stream",
     "text": [
      "     97/150      3.67G      0.527     0.4094     0.8722          9        640: 100%|██████████| 8/8 [00:11<00:00,  1.47s/it]\n",
      "                 Class     Images  Instances      Box(P          R      mAP50  mAP50-95): 100%|██████████| 1/1 [00:00<00:00,  1.29it/s]"
     ]
    },
    {
     "name": "stdout",
     "output_type": "stream",
     "text": [
      "                   all         10         31      0.799      0.466      0.583      0.432\n"
     ]
    },
    {
     "name": "stderr",
     "output_type": "stream",
     "text": [
      "\n"
     ]
    },
    {
     "name": "stdout",
     "output_type": "stream",
     "text": [
      "\n",
      "      Epoch    GPU_mem   box_loss   cls_loss   dfl_loss  Instances       Size\n"
     ]
    },
    {
     "name": "stderr",
     "output_type": "stream",
     "text": [
      "     98/150      3.61G      0.534      0.444     0.8738          6        640: 100%|██████████| 8/8 [00:11<00:00,  1.46s/it]\n",
      "                 Class     Images  Instances      Box(P          R      mAP50  mAP50-95): 100%|██████████| 1/1 [00:00<00:00,  1.30it/s]"
     ]
    },
    {
     "name": "stdout",
     "output_type": "stream",
     "text": [
      "                   all         10         31      0.799      0.466      0.583      0.432\n"
     ]
    },
    {
     "name": "stderr",
     "output_type": "stream",
     "text": [
      "\n"
     ]
    },
    {
     "name": "stdout",
     "output_type": "stream",
     "text": [
      "\n",
      "      Epoch    GPU_mem   box_loss   cls_loss   dfl_loss  Instances       Size\n"
     ]
    },
    {
     "name": "stderr",
     "output_type": "stream",
     "text": [
      "     99/150      3.67G      0.516     0.4136     0.8695         18        640: 100%|██████████| 8/8 [00:11<00:00,  1.47s/it]\n",
      "                 Class     Images  Instances      Box(P          R      mAP50  mAP50-95): 100%|██████████| 1/1 [00:00<00:00,  1.26it/s]"
     ]
    },
    {
     "name": "stdout",
     "output_type": "stream",
     "text": [
      "                   all         10         31      0.844      0.452      0.563      0.423\n"
     ]
    },
    {
     "name": "stderr",
     "output_type": "stream",
     "text": [
      "\n"
     ]
    },
    {
     "name": "stdout",
     "output_type": "stream",
     "text": [
      "\n",
      "      Epoch    GPU_mem   box_loss   cls_loss   dfl_loss  Instances       Size\n"
     ]
    },
    {
     "name": "stderr",
     "output_type": "stream",
     "text": [
      "    100/150      3.67G     0.5367     0.4178     0.9073         10        640: 100%|██████████| 8/8 [00:11<00:00,  1.47s/it]\n",
      "                 Class     Images  Instances      Box(P          R      mAP50  mAP50-95): 100%|██████████| 1/1 [00:00<00:00,  1.29it/s]"
     ]
    },
    {
     "name": "stdout",
     "output_type": "stream",
     "text": [
      "                   all         10         31      0.799      0.454      0.554      0.422\n"
     ]
    },
    {
     "name": "stderr",
     "output_type": "stream",
     "text": [
      "\n"
     ]
    },
    {
     "name": "stdout",
     "output_type": "stream",
     "text": [
      "\n",
      "      Epoch    GPU_mem   box_loss   cls_loss   dfl_loss  Instances       Size\n"
     ]
    },
    {
     "name": "stderr",
     "output_type": "stream",
     "text": [
      "    101/150      3.67G      0.526     0.4181     0.9029         15        640: 100%|██████████| 8/8 [00:11<00:00,  1.46s/it]\n",
      "                 Class     Images  Instances      Box(P          R      mAP50  mAP50-95): 100%|██████████| 1/1 [00:00<00:00,  1.29it/s]"
     ]
    },
    {
     "name": "stdout",
     "output_type": "stream",
     "text": [
      "                   all         10         31      0.799      0.454      0.554      0.422\n"
     ]
    },
    {
     "name": "stderr",
     "output_type": "stream",
     "text": [
      "\n"
     ]
    },
    {
     "name": "stdout",
     "output_type": "stream",
     "text": [
      "\n",
      "      Epoch    GPU_mem   box_loss   cls_loss   dfl_loss  Instances       Size\n"
     ]
    },
    {
     "name": "stderr",
     "output_type": "stream",
     "text": [
      "    102/150      3.65G     0.5336     0.4509     0.8821         30        640: 100%|██████████| 8/8 [00:11<00:00,  1.47s/it]\n",
      "                 Class     Images  Instances      Box(P          R      mAP50  mAP50-95): 100%|██████████| 1/1 [00:00<00:00,  1.29it/s]"
     ]
    },
    {
     "name": "stdout",
     "output_type": "stream",
     "text": [
      "                   all         10         31      0.771      0.449       0.55      0.437\n"
     ]
    },
    {
     "name": "stderr",
     "output_type": "stream",
     "text": [
      "\n"
     ]
    },
    {
     "name": "stdout",
     "output_type": "stream",
     "text": [
      "\n",
      "      Epoch    GPU_mem   box_loss   cls_loss   dfl_loss  Instances       Size\n"
     ]
    },
    {
     "name": "stderr",
     "output_type": "stream",
     "text": [
      "    103/150      3.66G     0.5342     0.4085     0.8638         22        640: 100%|██████████| 8/8 [00:11<00:00,  1.47s/it]\n",
      "                 Class     Images  Instances      Box(P          R      mAP50  mAP50-95): 100%|██████████| 1/1 [00:00<00:00,  1.31it/s]"
     ]
    },
    {
     "name": "stdout",
     "output_type": "stream",
     "text": [
      "                   all         10         31      0.779      0.438      0.575      0.452\n"
     ]
    },
    {
     "name": "stderr",
     "output_type": "stream",
     "text": [
      "\n"
     ]
    },
    {
     "name": "stdout",
     "output_type": "stream",
     "text": [
      "\n",
      "      Epoch    GPU_mem   box_loss   cls_loss   dfl_loss  Instances       Size\n"
     ]
    },
    {
     "name": "stderr",
     "output_type": "stream",
     "text": [
      "    104/150      3.65G      0.509     0.3823     0.8833         12        640: 100%|██████████| 8/8 [00:11<00:00,  1.47s/it]\n",
      "                 Class     Images  Instances      Box(P          R      mAP50  mAP50-95): 100%|██████████| 1/1 [00:00<00:00,  1.32it/s]"
     ]
    },
    {
     "name": "stdout",
     "output_type": "stream",
     "text": [
      "                   all         10         31      0.674      0.487      0.596      0.474\n"
     ]
    },
    {
     "name": "stderr",
     "output_type": "stream",
     "text": [
      "\n"
     ]
    },
    {
     "name": "stdout",
     "output_type": "stream",
     "text": [
      "\n",
      "      Epoch    GPU_mem   box_loss   cls_loss   dfl_loss  Instances       Size\n"
     ]
    },
    {
     "name": "stderr",
     "output_type": "stream",
     "text": [
      "    105/150      3.65G     0.4772     0.3862     0.8624         24        640: 100%|██████████| 8/8 [00:11<00:00,  1.46s/it]\n",
      "                 Class     Images  Instances      Box(P          R      mAP50  mAP50-95): 100%|██████████| 1/1 [00:00<00:00,  1.31it/s]"
     ]
    },
    {
     "name": "stdout",
     "output_type": "stream",
     "text": [
      "                   all         10         31      0.674      0.487      0.596      0.474\n"
     ]
    },
    {
     "name": "stderr",
     "output_type": "stream",
     "text": [
      "\n"
     ]
    },
    {
     "name": "stdout",
     "output_type": "stream",
     "text": [
      "\n",
      "      Epoch    GPU_mem   box_loss   cls_loss   dfl_loss  Instances       Size\n"
     ]
    },
    {
     "name": "stderr",
     "output_type": "stream",
     "text": [
      "    106/150      3.65G     0.5139     0.4134     0.8775         18        640: 100%|██████████| 8/8 [00:11<00:00,  1.47s/it]\n",
      "                 Class     Images  Instances      Box(P          R      mAP50  mAP50-95): 100%|██████████| 1/1 [00:00<00:00,  1.32it/s]"
     ]
    },
    {
     "name": "stdout",
     "output_type": "stream",
     "text": [
      "                   all         10         31      0.698      0.491      0.592      0.478\n"
     ]
    },
    {
     "name": "stderr",
     "output_type": "stream",
     "text": [
      "\n"
     ]
    },
    {
     "name": "stdout",
     "output_type": "stream",
     "text": [
      "\n",
      "      Epoch    GPU_mem   box_loss   cls_loss   dfl_loss  Instances       Size\n"
     ]
    },
    {
     "name": "stderr",
     "output_type": "stream",
     "text": [
      "    107/150      3.67G     0.4464     0.3758     0.8619         10        640: 100%|██████████| 8/8 [00:11<00:00,  1.47s/it]\n",
      "                 Class     Images  Instances      Box(P          R      mAP50  mAP50-95): 100%|██████████| 1/1 [00:00<00:00,  1.31it/s]"
     ]
    },
    {
     "name": "stdout",
     "output_type": "stream",
     "text": [
      "                   all         10         31      0.733      0.435      0.599      0.464\n"
     ]
    },
    {
     "name": "stderr",
     "output_type": "stream",
     "text": [
      "\n"
     ]
    },
    {
     "name": "stdout",
     "output_type": "stream",
     "text": [
      "\n",
      "      Epoch    GPU_mem   box_loss   cls_loss   dfl_loss  Instances       Size\n"
     ]
    },
    {
     "name": "stderr",
     "output_type": "stream",
     "text": [
      "    108/150      3.64G      0.467     0.3929     0.8527         18        640: 100%|██████████| 8/8 [00:11<00:00,  1.47s/it]\n",
      "                 Class     Images  Instances      Box(P          R      mAP50  mAP50-95): 100%|██████████| 1/1 [00:00<00:00,  1.29it/s]"
     ]
    },
    {
     "name": "stdout",
     "output_type": "stream",
     "text": [
      "                   all         10         31       0.77      0.398      0.534      0.421\n"
     ]
    },
    {
     "name": "stderr",
     "output_type": "stream",
     "text": [
      "\n"
     ]
    },
    {
     "name": "stdout",
     "output_type": "stream",
     "text": [
      "\n",
      "      Epoch    GPU_mem   box_loss   cls_loss   dfl_loss  Instances       Size\n"
     ]
    },
    {
     "name": "stderr",
     "output_type": "stream",
     "text": [
      "    109/150       3.6G     0.5059     0.4212     0.9092          8        640: 100%|██████████| 8/8 [00:11<00:00,  1.46s/it]\n",
      "                 Class     Images  Instances      Box(P          R      mAP50  mAP50-95): 100%|██████████| 1/1 [00:00<00:00,  1.31it/s]"
     ]
    },
    {
     "name": "stdout",
     "output_type": "stream",
     "text": [
      "                   all         10         31       0.77      0.398      0.534      0.421\n"
     ]
    },
    {
     "name": "stderr",
     "output_type": "stream",
     "text": [
      "\n"
     ]
    },
    {
     "name": "stdout",
     "output_type": "stream",
     "text": [
      "\n",
      "      Epoch    GPU_mem   box_loss   cls_loss   dfl_loss  Instances       Size\n"
     ]
    },
    {
     "name": "stderr",
     "output_type": "stream",
     "text": [
      "    110/150      3.68G     0.5086     0.3944       0.88         13        640: 100%|██████████| 8/8 [00:11<00:00,  1.47s/it]\n",
      "                 Class     Images  Instances      Box(P          R      mAP50  mAP50-95): 100%|██████████| 1/1 [00:00<00:00,  1.29it/s]"
     ]
    },
    {
     "name": "stdout",
     "output_type": "stream",
     "text": [
      "                   all         10         31      0.701      0.401      0.544      0.432\n"
     ]
    },
    {
     "name": "stderr",
     "output_type": "stream",
     "text": [
      "\n"
     ]
    },
    {
     "name": "stdout",
     "output_type": "stream",
     "text": [
      "\n",
      "      Epoch    GPU_mem   box_loss   cls_loss   dfl_loss  Instances       Size\n"
     ]
    },
    {
     "name": "stderr",
     "output_type": "stream",
     "text": [
      "    111/150      3.67G     0.4942     0.4106     0.8762         14        640: 100%|██████████| 8/8 [00:11<00:00,  1.47s/it]\n",
      "                 Class     Images  Instances      Box(P          R      mAP50  mAP50-95): 100%|██████████| 1/1 [00:00<00:00,  1.29it/s]"
     ]
    },
    {
     "name": "stdout",
     "output_type": "stream",
     "text": [
      "                   all         10         31      0.701      0.407      0.544      0.434\n"
     ]
    },
    {
     "name": "stderr",
     "output_type": "stream",
     "text": [
      "\n"
     ]
    },
    {
     "name": "stdout",
     "output_type": "stream",
     "text": [
      "\n",
      "      Epoch    GPU_mem   box_loss   cls_loss   dfl_loss  Instances       Size\n"
     ]
    },
    {
     "name": "stderr",
     "output_type": "stream",
     "text": [
      "    112/150      3.67G     0.4757     0.3931     0.8548         27        640: 100%|██████████| 8/8 [00:11<00:00,  1.46s/it]\n",
      "                 Class     Images  Instances      Box(P          R      mAP50  mAP50-95): 100%|██████████| 1/1 [00:00<00:00,  1.29it/s]"
     ]
    },
    {
     "name": "stdout",
     "output_type": "stream",
     "text": [
      "                   all         10         31      0.701      0.407      0.544      0.434\n"
     ]
    },
    {
     "name": "stderr",
     "output_type": "stream",
     "text": [
      "\n"
     ]
    },
    {
     "name": "stdout",
     "output_type": "stream",
     "text": [
      "\n",
      "      Epoch    GPU_mem   box_loss   cls_loss   dfl_loss  Instances       Size\n"
     ]
    },
    {
     "name": "stderr",
     "output_type": "stream",
     "text": [
      "    113/150      3.67G     0.4899     0.3568     0.8585         23        640: 100%|██████████| 8/8 [00:11<00:00,  1.47s/it]\n",
      "                 Class     Images  Instances      Box(P          R      mAP50  mAP50-95): 100%|██████████| 1/1 [00:00<00:00,  1.30it/s]"
     ]
    },
    {
     "name": "stdout",
     "output_type": "stream",
     "text": [
      "                   all         10         31      0.676      0.467      0.612      0.492\n"
     ]
    },
    {
     "name": "stderr",
     "output_type": "stream",
     "text": [
      "\n"
     ]
    },
    {
     "name": "stdout",
     "output_type": "stream",
     "text": [
      "\n",
      "      Epoch    GPU_mem   box_loss   cls_loss   dfl_loss  Instances       Size\n"
     ]
    },
    {
     "name": "stderr",
     "output_type": "stream",
     "text": [
      "    114/150      3.66G     0.4621     0.4045     0.8832          7        640: 100%|██████████| 8/8 [00:11<00:00,  1.46s/it]\n",
      "                 Class     Images  Instances      Box(P          R      mAP50  mAP50-95): 100%|██████████| 1/1 [00:00<00:00,  1.31it/s]"
     ]
    },
    {
     "name": "stdout",
     "output_type": "stream",
     "text": [
      "                   all         10         31      0.723      0.587      0.663      0.523\n"
     ]
    },
    {
     "name": "stderr",
     "output_type": "stream",
     "text": [
      "\n"
     ]
    },
    {
     "name": "stdout",
     "output_type": "stream",
     "text": [
      "\n",
      "      Epoch    GPU_mem   box_loss   cls_loss   dfl_loss  Instances       Size\n"
     ]
    },
    {
     "name": "stderr",
     "output_type": "stream",
     "text": [
      "    115/150      3.64G     0.4495     0.3461     0.8564         17        640: 100%|██████████| 8/8 [00:11<00:00,  1.46s/it]\n",
      "                 Class     Images  Instances      Box(P          R      mAP50  mAP50-95): 100%|██████████| 1/1 [00:00<00:00,  1.33it/s]"
     ]
    },
    {
     "name": "stdout",
     "output_type": "stream",
     "text": [
      "                   all         10         31      0.705      0.586      0.686      0.523\n"
     ]
    },
    {
     "name": "stderr",
     "output_type": "stream",
     "text": [
      "\n"
     ]
    },
    {
     "name": "stdout",
     "output_type": "stream",
     "text": [
      "\n",
      "      Epoch    GPU_mem   box_loss   cls_loss   dfl_loss  Instances       Size\n"
     ]
    },
    {
     "name": "stderr",
     "output_type": "stream",
     "text": [
      "    116/150      3.65G     0.4228     0.3949     0.8641         16        640: 100%|██████████| 8/8 [00:11<00:00,  1.46s/it]\n",
      "                 Class     Images  Instances      Box(P          R      mAP50  mAP50-95): 100%|██████████| 1/1 [00:00<00:00,  1.31it/s]"
     ]
    },
    {
     "name": "stdout",
     "output_type": "stream",
     "text": [
      "                   all         10         31      0.705      0.586      0.686      0.523\n"
     ]
    },
    {
     "name": "stderr",
     "output_type": "stream",
     "text": [
      "\n"
     ]
    },
    {
     "name": "stdout",
     "output_type": "stream",
     "text": [
      "\n",
      "      Epoch    GPU_mem   box_loss   cls_loss   dfl_loss  Instances       Size\n"
     ]
    },
    {
     "name": "stderr",
     "output_type": "stream",
     "text": [
      "    117/150      3.67G     0.4702     0.3955     0.8608         32        640: 100%|██████████| 8/8 [00:11<00:00,  1.47s/it]\n",
      "                 Class     Images  Instances      Box(P          R      mAP50  mAP50-95): 100%|██████████| 1/1 [00:00<00:00,  1.31it/s]"
     ]
    },
    {
     "name": "stdout",
     "output_type": "stream",
     "text": [
      "                   all         10         31      0.706      0.568       0.69      0.533\n"
     ]
    },
    {
     "name": "stderr",
     "output_type": "stream",
     "text": [
      "\n"
     ]
    },
    {
     "name": "stdout",
     "output_type": "stream",
     "text": [
      "\n",
      "      Epoch    GPU_mem   box_loss   cls_loss   dfl_loss  Instances       Size\n"
     ]
    },
    {
     "name": "stderr",
     "output_type": "stream",
     "text": [
      "    118/150      3.67G     0.4536     0.3446     0.8839         13        640: 100%|██████████| 8/8 [00:11<00:00,  1.47s/it]\n",
      "                 Class     Images  Instances      Box(P          R      mAP50  mAP50-95): 100%|██████████| 1/1 [00:00<00:00,  1.32it/s]"
     ]
    },
    {
     "name": "stdout",
     "output_type": "stream",
     "text": [
      "                   all         10         31      0.716      0.578        0.7      0.555\n"
     ]
    },
    {
     "name": "stderr",
     "output_type": "stream",
     "text": [
      "\n"
     ]
    },
    {
     "name": "stdout",
     "output_type": "stream",
     "text": [
      "\n",
      "      Epoch    GPU_mem   box_loss   cls_loss   dfl_loss  Instances       Size\n"
     ]
    },
    {
     "name": "stderr",
     "output_type": "stream",
     "text": [
      "    119/150      3.66G     0.4753     0.3891     0.8493         40        640: 100%|██████████| 8/8 [00:11<00:00,  1.47s/it]\n",
      "                 Class     Images  Instances      Box(P          R      mAP50  mAP50-95): 100%|██████████| 1/1 [00:00<00:00,  1.29it/s]"
     ]
    },
    {
     "name": "stdout",
     "output_type": "stream",
     "text": [
      "                   all         10         31      0.836      0.421      0.687      0.557\n"
     ]
    },
    {
     "name": "stderr",
     "output_type": "stream",
     "text": [
      "\n"
     ]
    },
    {
     "name": "stdout",
     "output_type": "stream",
     "text": [
      "\n",
      "      Epoch    GPU_mem   box_loss   cls_loss   dfl_loss  Instances       Size\n"
     ]
    },
    {
     "name": "stderr",
     "output_type": "stream",
     "text": [
      "    120/150       3.6G     0.4613     0.3543     0.8663         33        640: 100%|██████████| 8/8 [00:11<00:00,  1.46s/it]\n",
      "                 Class     Images  Instances      Box(P          R      mAP50  mAP50-95): 100%|██████████| 1/1 [00:00<00:00,  1.30it/s]"
     ]
    },
    {
     "name": "stdout",
     "output_type": "stream",
     "text": [
      "                   all         10         31      0.836      0.421      0.687      0.557\n"
     ]
    },
    {
     "name": "stderr",
     "output_type": "stream",
     "text": [
      "\n"
     ]
    },
    {
     "name": "stdout",
     "output_type": "stream",
     "text": [
      "\n",
      "      Epoch    GPU_mem   box_loss   cls_loss   dfl_loss  Instances       Size\n"
     ]
    },
    {
     "name": "stderr",
     "output_type": "stream",
     "text": [
      "    121/150      3.66G     0.4486     0.3494     0.8663          9        640: 100%|██████████| 8/8 [00:11<00:00,  1.47s/it]\n",
      "                 Class     Images  Instances      Box(P          R      mAP50  mAP50-95): 100%|██████████| 1/1 [00:00<00:00,  1.29it/s]"
     ]
    },
    {
     "name": "stdout",
     "output_type": "stream",
     "text": [
      "                   all         10         31      0.848      0.421      0.691      0.555\n"
     ]
    },
    {
     "name": "stderr",
     "output_type": "stream",
     "text": [
      "\n"
     ]
    },
    {
     "name": "stdout",
     "output_type": "stream",
     "text": [
      "\n",
      "      Epoch    GPU_mem   box_loss   cls_loss   dfl_loss  Instances       Size\n"
     ]
    },
    {
     "name": "stderr",
     "output_type": "stream",
     "text": [
      "    122/150      3.67G     0.4416     0.3587     0.8904         12        640: 100%|██████████| 8/8 [00:11<00:00,  1.47s/it]\n",
      "                 Class     Images  Instances      Box(P          R      mAP50  mAP50-95): 100%|██████████| 1/1 [00:00<00:00,  1.29it/s]"
     ]
    },
    {
     "name": "stdout",
     "output_type": "stream",
     "text": [
      "                   all         10         31      0.879      0.422      0.667      0.551\n"
     ]
    },
    {
     "name": "stderr",
     "output_type": "stream",
     "text": [
      "\n"
     ]
    },
    {
     "name": "stdout",
     "output_type": "stream",
     "text": [
      "\n",
      "      Epoch    GPU_mem   box_loss   cls_loss   dfl_loss  Instances       Size\n"
     ]
    },
    {
     "name": "stderr",
     "output_type": "stream",
     "text": [
      "    123/150      3.67G     0.4394     0.3768     0.8684         24        640: 100%|██████████| 8/8 [00:11<00:00,  1.46s/it]\n",
      "                 Class     Images  Instances      Box(P          R      mAP50  mAP50-95): 100%|██████████| 1/1 [00:00<00:00,  1.30it/s]"
     ]
    },
    {
     "name": "stdout",
     "output_type": "stream",
     "text": [
      "                   all         10         31      0.879      0.422      0.667      0.551\n"
     ]
    },
    {
     "name": "stderr",
     "output_type": "stream",
     "text": [
      "\n"
     ]
    },
    {
     "name": "stdout",
     "output_type": "stream",
     "text": [
      "\n",
      "      Epoch    GPU_mem   box_loss   cls_loss   dfl_loss  Instances       Size\n"
     ]
    },
    {
     "name": "stderr",
     "output_type": "stream",
     "text": [
      "    124/150      3.67G      0.431     0.3523     0.8298         24        640: 100%|██████████| 8/8 [00:11<00:00,  1.47s/it]\n",
      "                 Class     Images  Instances      Box(P          R      mAP50  mAP50-95): 100%|██████████| 1/1 [00:00<00:00,  1.31it/s]"
     ]
    },
    {
     "name": "stdout",
     "output_type": "stream",
     "text": [
      "                   all         10         31      0.893      0.429       0.63      0.529\n"
     ]
    },
    {
     "name": "stderr",
     "output_type": "stream",
     "text": [
      "\n"
     ]
    },
    {
     "name": "stdout",
     "output_type": "stream",
     "text": [
      "\n",
      "      Epoch    GPU_mem   box_loss   cls_loss   dfl_loss  Instances       Size\n"
     ]
    },
    {
     "name": "stderr",
     "output_type": "stream",
     "text": [
      "    125/150      3.67G     0.4695     0.3949     0.8802         37        640: 100%|██████████| 8/8 [00:11<00:00,  1.47s/it]\n",
      "                 Class     Images  Instances      Box(P          R      mAP50  mAP50-95): 100%|██████████| 1/1 [00:00<00:00,  1.31it/s]"
     ]
    },
    {
     "name": "stdout",
     "output_type": "stream",
     "text": [
      "                   all         10         31      0.918      0.437      0.614      0.513\n"
     ]
    },
    {
     "name": "stderr",
     "output_type": "stream",
     "text": [
      "\n"
     ]
    },
    {
     "name": "stdout",
     "output_type": "stream",
     "text": [
      "\n",
      "      Epoch    GPU_mem   box_loss   cls_loss   dfl_loss  Instances       Size\n"
     ]
    },
    {
     "name": "stderr",
     "output_type": "stream",
     "text": [
      "    126/150      3.65G     0.4162     0.3254     0.8528          9        640: 100%|██████████| 8/8 [00:11<00:00,  1.47s/it]\n",
      "                 Class     Images  Instances      Box(P          R      mAP50  mAP50-95): 100%|██████████| 1/1 [00:00<00:00,  1.33it/s]"
     ]
    },
    {
     "name": "stdout",
     "output_type": "stream",
     "text": [
      "                   all         10         31      0.849      0.435      0.604      0.494\n"
     ]
    },
    {
     "name": "stderr",
     "output_type": "stream",
     "text": [
      "\n"
     ]
    },
    {
     "name": "stdout",
     "output_type": "stream",
     "text": [
      "\n",
      "      Epoch    GPU_mem   box_loss   cls_loss   dfl_loss  Instances       Size\n"
     ]
    },
    {
     "name": "stderr",
     "output_type": "stream",
     "text": [
      "    127/150      3.67G      0.464     0.3409     0.9018         23        640: 100%|██████████| 8/8 [00:11<00:00,  1.46s/it]\n",
      "                 Class     Images  Instances      Box(P          R      mAP50  mAP50-95): 100%|██████████| 1/1 [00:00<00:00,  1.32it/s]"
     ]
    },
    {
     "name": "stdout",
     "output_type": "stream",
     "text": [
      "                   all         10         31      0.849      0.435      0.604      0.494\n"
     ]
    },
    {
     "name": "stderr",
     "output_type": "stream",
     "text": [
      "\n"
     ]
    },
    {
     "name": "stdout",
     "output_type": "stream",
     "text": [
      "\n",
      "      Epoch    GPU_mem   box_loss   cls_loss   dfl_loss  Instances       Size\n"
     ]
    },
    {
     "name": "stderr",
     "output_type": "stream",
     "text": [
      "    128/150      3.67G     0.4307     0.3396     0.8459         13        640: 100%|██████████| 8/8 [00:11<00:00,  1.47s/it]\n",
      "                 Class     Images  Instances      Box(P          R      mAP50  mAP50-95): 100%|██████████| 1/1 [00:00<00:00,  1.31it/s]"
     ]
    },
    {
     "name": "stdout",
     "output_type": "stream",
     "text": [
      "                   all         10         31      0.943      0.401      0.598       0.49\n"
     ]
    },
    {
     "name": "stderr",
     "output_type": "stream",
     "text": [
      "\n"
     ]
    },
    {
     "name": "stdout",
     "output_type": "stream",
     "text": [
      "\n",
      "      Epoch    GPU_mem   box_loss   cls_loss   dfl_loss  Instances       Size\n"
     ]
    },
    {
     "name": "stderr",
     "output_type": "stream",
     "text": [
      "    129/150      3.67G     0.4553     0.3409     0.8508         13        640: 100%|██████████| 8/8 [00:11<00:00,  1.47s/it]\n",
      "                 Class     Images  Instances      Box(P          R      mAP50  mAP50-95): 100%|██████████| 1/1 [00:00<00:00,  1.31it/s]"
     ]
    },
    {
     "name": "stdout",
     "output_type": "stream",
     "text": [
      "                   all         10         31      0.957        0.4       0.59      0.473\n"
     ]
    },
    {
     "name": "stderr",
     "output_type": "stream",
     "text": [
      "\n"
     ]
    },
    {
     "name": "stdout",
     "output_type": "stream",
     "text": [
      "\n",
      "      Epoch    GPU_mem   box_loss   cls_loss   dfl_loss  Instances       Size\n"
     ]
    },
    {
     "name": "stderr",
     "output_type": "stream",
     "text": [
      "    130/150      3.66G     0.3886     0.3415     0.8494         11        640: 100%|██████████| 8/8 [00:11<00:00,  1.47s/it]\n",
      "                 Class     Images  Instances      Box(P          R      mAP50  mAP50-95): 100%|██████████| 1/1 [00:00<00:00,  1.29it/s]"
     ]
    },
    {
     "name": "stdout",
     "output_type": "stream",
     "text": [
      "                   all         10         31      0.958        0.4      0.586      0.474\n"
     ]
    },
    {
     "name": "stderr",
     "output_type": "stream",
     "text": [
      "\n"
     ]
    },
    {
     "name": "stdout",
     "output_type": "stream",
     "text": [
      "\n",
      "      Epoch    GPU_mem   box_loss   cls_loss   dfl_loss  Instances       Size\n"
     ]
    },
    {
     "name": "stderr",
     "output_type": "stream",
     "text": [
      "    131/150       3.6G     0.5067     0.4025     0.9081         19        640: 100%|██████████| 8/8 [00:11<00:00,  1.46s/it]\n",
      "                 Class     Images  Instances      Box(P          R      mAP50  mAP50-95): 100%|██████████| 1/1 [00:00<00:00,  1.31it/s]"
     ]
    },
    {
     "name": "stdout",
     "output_type": "stream",
     "text": [
      "                   all         10         31      0.958        0.4      0.586      0.474\n"
     ]
    },
    {
     "name": "stderr",
     "output_type": "stream",
     "text": [
      "\n"
     ]
    },
    {
     "name": "stdout",
     "output_type": "stream",
     "text": [
      "\n",
      "      Epoch    GPU_mem   box_loss   cls_loss   dfl_loss  Instances       Size\n"
     ]
    },
    {
     "name": "stderr",
     "output_type": "stream",
     "text": [
      "    132/150      3.66G     0.4059     0.3148     0.8126         20        640: 100%|██████████| 8/8 [00:11<00:00,  1.47s/it]\n",
      "                 Class     Images  Instances      Box(P          R      mAP50  mAP50-95): 100%|██████████| 1/1 [00:00<00:00,  1.30it/s]"
     ]
    },
    {
     "name": "stdout",
     "output_type": "stream",
     "text": [
      "                   all         10         31      0.913      0.414      0.583      0.474\n"
     ]
    },
    {
     "name": "stderr",
     "output_type": "stream",
     "text": [
      "\n"
     ]
    },
    {
     "name": "stdout",
     "output_type": "stream",
     "text": [
      "\n",
      "      Epoch    GPU_mem   box_loss   cls_loss   dfl_loss  Instances       Size\n"
     ]
    },
    {
     "name": "stderr",
     "output_type": "stream",
     "text": [
      "    133/150      3.65G     0.3808     0.3038     0.8369         11        640: 100%|██████████| 8/8 [00:11<00:00,  1.47s/it]\n",
      "                 Class     Images  Instances      Box(P          R      mAP50  mAP50-95): 100%|██████████| 1/1 [00:00<00:00,  1.30it/s]"
     ]
    },
    {
     "name": "stdout",
     "output_type": "stream",
     "text": [
      "                   all         10         31      0.912      0.416      0.575      0.475\n"
     ]
    },
    {
     "name": "stderr",
     "output_type": "stream",
     "text": [
      "\n"
     ]
    },
    {
     "name": "stdout",
     "output_type": "stream",
     "text": [
      "\n",
      "      Epoch    GPU_mem   box_loss   cls_loss   dfl_loss  Instances       Size\n"
     ]
    },
    {
     "name": "stderr",
     "output_type": "stream",
     "text": [
      "    134/150      3.65G     0.3741     0.3168     0.8517         10        640: 100%|██████████| 8/8 [00:11<00:00,  1.46s/it]\n",
      "                 Class     Images  Instances      Box(P          R      mAP50  mAP50-95): 100%|██████████| 1/1 [00:00<00:00,  1.31it/s]"
     ]
    },
    {
     "name": "stdout",
     "output_type": "stream",
     "text": [
      "                   all         10         31      0.912      0.416      0.575      0.475\n"
     ]
    },
    {
     "name": "stderr",
     "output_type": "stream",
     "text": [
      "\n"
     ]
    },
    {
     "name": "stdout",
     "output_type": "stream",
     "text": [
      "\n",
      "      Epoch    GPU_mem   box_loss   cls_loss   dfl_loss  Instances       Size\n"
     ]
    },
    {
     "name": "stderr",
     "output_type": "stream",
     "text": [
      "    135/150      3.67G     0.4025      0.311     0.8392         24        640: 100%|██████████| 8/8 [00:11<00:00,  1.47s/it]\n",
      "                 Class     Images  Instances      Box(P          R      mAP50  mAP50-95): 100%|██████████| 1/1 [00:00<00:00,  1.31it/s]"
     ]
    },
    {
     "name": "stdout",
     "output_type": "stream",
     "text": [
      "                   all         10         31      0.917      0.416      0.593      0.484\n"
     ]
    },
    {
     "name": "stderr",
     "output_type": "stream",
     "text": [
      "\n"
     ]
    },
    {
     "name": "stdout",
     "output_type": "stream",
     "text": [
      "\n",
      "      Epoch    GPU_mem   box_loss   cls_loss   dfl_loss  Instances       Size\n"
     ]
    },
    {
     "name": "stderr",
     "output_type": "stream",
     "text": [
      "    136/150      3.67G      0.444     0.3385     0.8363         17        640: 100%|██████████| 8/8 [00:11<00:00,  1.47s/it]\n",
      "                 Class     Images  Instances      Box(P          R      mAP50  mAP50-95): 100%|██████████| 1/1 [00:00<00:00,  1.30it/s]"
     ]
    },
    {
     "name": "stdout",
     "output_type": "stream",
     "text": [
      "                   all         10         31      0.923      0.417      0.599      0.492\n"
     ]
    },
    {
     "name": "stderr",
     "output_type": "stream",
     "text": [
      "\n"
     ]
    },
    {
     "name": "stdout",
     "output_type": "stream",
     "text": [
      "\n",
      "      Epoch    GPU_mem   box_loss   cls_loss   dfl_loss  Instances       Size\n"
     ]
    },
    {
     "name": "stderr",
     "output_type": "stream",
     "text": [
      "    137/150      3.64G      0.383     0.3223     0.8446         13        640: 100%|██████████| 8/8 [00:11<00:00,  1.47s/it]\n",
      "                 Class     Images  Instances      Box(P          R      mAP50  mAP50-95): 100%|██████████| 1/1 [00:00<00:00,  1.29it/s]"
     ]
    },
    {
     "name": "stdout",
     "output_type": "stream",
     "text": [
      "                   all         10         31      0.926      0.417      0.592      0.492\n"
     ]
    },
    {
     "name": "stderr",
     "output_type": "stream",
     "text": [
      "\n"
     ]
    },
    {
     "name": "stdout",
     "output_type": "stream",
     "text": [
      "\n",
      "      Epoch    GPU_mem   box_loss   cls_loss   dfl_loss  Instances       Size\n"
     ]
    },
    {
     "name": "stderr",
     "output_type": "stream",
     "text": [
      "    138/150      3.67G     0.3631     0.2996     0.8264         12        640: 100%|██████████| 8/8 [00:11<00:00,  1.46s/it]\n",
      "                 Class     Images  Instances      Box(P          R      mAP50  mAP50-95): 100%|██████████| 1/1 [00:00<00:00,  1.30it/s]"
     ]
    },
    {
     "name": "stdout",
     "output_type": "stream",
     "text": [
      "                   all         10         31      0.926      0.417      0.592      0.492\n"
     ]
    },
    {
     "name": "stderr",
     "output_type": "stream",
     "text": [
      "\n"
     ]
    },
    {
     "name": "stdout",
     "output_type": "stream",
     "text": [
      "\n",
      "      Epoch    GPU_mem   box_loss   cls_loss   dfl_loss  Instances       Size\n"
     ]
    },
    {
     "name": "stderr",
     "output_type": "stream",
     "text": [
      "    139/150      3.67G     0.3694     0.2994     0.8317         15        640: 100%|██████████| 8/8 [00:11<00:00,  1.47s/it]\n",
      "                 Class     Images  Instances      Box(P          R      mAP50  mAP50-95): 100%|██████████| 1/1 [00:00<00:00,  1.27it/s]"
     ]
    },
    {
     "name": "stdout",
     "output_type": "stream",
     "text": [
      "                   all         10         31      0.926      0.418      0.596      0.495\n"
     ]
    },
    {
     "name": "stderr",
     "output_type": "stream",
     "text": [
      "\n"
     ]
    },
    {
     "name": "stdout",
     "output_type": "stream",
     "text": [
      "\n",
      "      Epoch    GPU_mem   box_loss   cls_loss   dfl_loss  Instances       Size\n"
     ]
    },
    {
     "name": "stderr",
     "output_type": "stream",
     "text": [
      "    140/150      3.67G     0.4228     0.3119     0.8512         15        640: 100%|██████████| 8/8 [00:11<00:00,  1.47s/it]\n",
      "                 Class     Images  Instances      Box(P          R      mAP50  mAP50-95): 100%|██████████| 1/1 [00:00<00:00,  1.27it/s]"
     ]
    },
    {
     "name": "stdout",
     "output_type": "stream",
     "text": [
      "                   all         10         31      0.937      0.419      0.601       0.49\n"
     ]
    },
    {
     "name": "stderr",
     "output_type": "stream",
     "text": [
      "\n"
     ]
    },
    {
     "name": "stdout",
     "output_type": "stream",
     "text": [
      "Closing dataloader mosaic\n",
      "\n",
      "      Epoch    GPU_mem   box_loss   cls_loss   dfl_loss  Instances       Size\n"
     ]
    },
    {
     "name": "stderr",
     "output_type": "stream",
     "text": [
      "    141/150      3.67G     0.3636     0.3305     0.8116         11        640: 100%|██████████| 8/8 [00:12<00:00,  1.55s/it]\n",
      "                 Class     Images  Instances      Box(P          R      mAP50  mAP50-95): 100%|██████████| 1/1 [00:00<00:00,  1.29it/s]"
     ]
    },
    {
     "name": "stdout",
     "output_type": "stream",
     "text": [
      "                   all         10         31      0.879      0.433      0.608      0.523\n"
     ]
    },
    {
     "name": "stderr",
     "output_type": "stream",
     "text": [
      "\n"
     ]
    },
    {
     "name": "stdout",
     "output_type": "stream",
     "text": [
      "\n",
      "      Epoch    GPU_mem   box_loss   cls_loss   dfl_loss  Instances       Size\n"
     ]
    },
    {
     "name": "stderr",
     "output_type": "stream",
     "text": [
      "    142/150      3.62G     0.3715     0.3004     0.8442         12        640: 100%|██████████| 8/8 [00:11<00:00,  1.46s/it]\n",
      "                 Class     Images  Instances      Box(P          R      mAP50  mAP50-95): 100%|██████████| 1/1 [00:00<00:00,  1.30it/s]"
     ]
    },
    {
     "name": "stdout",
     "output_type": "stream",
     "text": [
      "                   all         10         31      0.879      0.433      0.608      0.523\n"
     ]
    },
    {
     "name": "stderr",
     "output_type": "stream",
     "text": [
      "\n"
     ]
    },
    {
     "name": "stdout",
     "output_type": "stream",
     "text": [
      "\n",
      "      Epoch    GPU_mem   box_loss   cls_loss   dfl_loss  Instances       Size\n"
     ]
    },
    {
     "name": "stderr",
     "output_type": "stream",
     "text": [
      "    143/150      3.67G     0.3509     0.3018     0.8222          9        640: 100%|██████████| 8/8 [00:11<00:00,  1.46s/it]\n",
      "                 Class     Images  Instances      Box(P          R      mAP50  mAP50-95): 100%|██████████| 1/1 [00:00<00:00,  1.30it/s]"
     ]
    },
    {
     "name": "stdout",
     "output_type": "stream",
     "text": [
      "                   all         10         31      0.869      0.435       0.62      0.525\n"
     ]
    },
    {
     "name": "stderr",
     "output_type": "stream",
     "text": [
      "\n"
     ]
    },
    {
     "name": "stdout",
     "output_type": "stream",
     "text": [
      "\n",
      "      Epoch    GPU_mem   box_loss   cls_loss   dfl_loss  Instances       Size\n"
     ]
    },
    {
     "name": "stderr",
     "output_type": "stream",
     "text": [
      "    144/150      3.67G     0.3521     0.2636      0.823         10        640: 100%|██████████| 8/8 [00:11<00:00,  1.46s/it]\n",
      "                 Class     Images  Instances      Box(P          R      mAP50  mAP50-95): 100%|██████████| 1/1 [00:00<00:00,  1.30it/s]"
     ]
    },
    {
     "name": "stdout",
     "output_type": "stream",
     "text": [
      "                   all         10         31      0.867      0.435       0.62      0.509\n"
     ]
    },
    {
     "name": "stderr",
     "output_type": "stream",
     "text": [
      "\n"
     ]
    },
    {
     "name": "stdout",
     "output_type": "stream",
     "text": [
      "\n",
      "      Epoch    GPU_mem   box_loss   cls_loss   dfl_loss  Instances       Size\n"
     ]
    },
    {
     "name": "stderr",
     "output_type": "stream",
     "text": [
      "    145/150      3.67G     0.3354     0.2836     0.7958         17        640: 100%|██████████| 8/8 [00:11<00:00,  1.46s/it]\n",
      "                 Class     Images  Instances      Box(P          R      mAP50  mAP50-95): 100%|██████████| 1/1 [00:00<00:00,  1.30it/s]"
     ]
    },
    {
     "name": "stdout",
     "output_type": "stream",
     "text": [
      "                   all         10         31      0.867      0.435       0.62      0.509\n"
     ]
    },
    {
     "name": "stderr",
     "output_type": "stream",
     "text": [
      "\n"
     ]
    },
    {
     "name": "stdout",
     "output_type": "stream",
     "text": [
      "\n",
      "      Epoch    GPU_mem   box_loss   cls_loss   dfl_loss  Instances       Size\n"
     ]
    },
    {
     "name": "stderr",
     "output_type": "stream",
     "text": [
      "    146/150      3.66G     0.3412     0.2662     0.8048         23        640: 100%|██████████| 8/8 [00:11<00:00,  1.46s/it]\n",
      "                 Class     Images  Instances      Box(P          R      mAP50  mAP50-95): 100%|██████████| 1/1 [00:00<00:00,  1.29it/s]"
     ]
    },
    {
     "name": "stdout",
     "output_type": "stream",
     "text": [
      "                   all         10         31      0.796      0.445      0.628      0.516\n"
     ]
    },
    {
     "name": "stderr",
     "output_type": "stream",
     "text": [
      "\n"
     ]
    },
    {
     "name": "stdout",
     "output_type": "stream",
     "text": [
      "\n",
      "      Epoch    GPU_mem   box_loss   cls_loss   dfl_loss  Instances       Size\n"
     ]
    },
    {
     "name": "stderr",
     "output_type": "stream",
     "text": [
      "    147/150      3.67G       0.38     0.2829     0.8129         13        640: 100%|██████████| 8/8 [00:11<00:00,  1.46s/it]\n",
      "                 Class     Images  Instances      Box(P          R      mAP50  mAP50-95): 100%|██████████| 1/1 [00:00<00:00,  1.30it/s]"
     ]
    },
    {
     "name": "stdout",
     "output_type": "stream",
     "text": [
      "                   all         10         31      0.793      0.442      0.618      0.509\n"
     ]
    },
    {
     "name": "stderr",
     "output_type": "stream",
     "text": [
      "\n"
     ]
    },
    {
     "name": "stdout",
     "output_type": "stream",
     "text": [
      "\n",
      "      Epoch    GPU_mem   box_loss   cls_loss   dfl_loss  Instances       Size\n"
     ]
    },
    {
     "name": "stderr",
     "output_type": "stream",
     "text": [
      "    148/150      3.64G     0.3439     0.2644     0.7942         10        640: 100%|██████████| 8/8 [00:11<00:00,  1.46s/it]\n",
      "                 Class     Images  Instances      Box(P          R      mAP50  mAP50-95): 100%|██████████| 1/1 [00:00<00:00,  1.29it/s]"
     ]
    },
    {
     "name": "stdout",
     "output_type": "stream",
     "text": [
      "                   all         10         31       0.78      0.446      0.613      0.502\n"
     ]
    },
    {
     "name": "stderr",
     "output_type": "stream",
     "text": [
      "\n"
     ]
    },
    {
     "name": "stdout",
     "output_type": "stream",
     "text": [
      "\n",
      "      Epoch    GPU_mem   box_loss   cls_loss   dfl_loss  Instances       Size\n"
     ]
    },
    {
     "name": "stderr",
     "output_type": "stream",
     "text": [
      "    149/150      3.68G     0.3292     0.2526     0.8225         10        640: 100%|██████████| 8/8 [00:11<00:00,  1.46s/it]\n",
      "                 Class     Images  Instances      Box(P          R      mAP50  mAP50-95): 100%|██████████| 1/1 [00:00<00:00,  1.30it/s]"
     ]
    },
    {
     "name": "stdout",
     "output_type": "stream",
     "text": [
      "                   all         10         31       0.78      0.446      0.613      0.502\n"
     ]
    },
    {
     "name": "stderr",
     "output_type": "stream",
     "text": [
      "\n"
     ]
    },
    {
     "name": "stdout",
     "output_type": "stream",
     "text": [
      "\n",
      "      Epoch    GPU_mem   box_loss   cls_loss   dfl_loss  Instances       Size\n"
     ]
    },
    {
     "name": "stderr",
     "output_type": "stream",
     "text": [
      "    150/150      3.68G     0.3143      0.247     0.7878         10        640: 100%|██████████| 8/8 [00:11<00:00,  1.46s/it]\n",
      "                 Class     Images  Instances      Box(P          R      mAP50  mAP50-95): 100%|██████████| 1/1 [00:00<00:00,  1.30it/s]"
     ]
    },
    {
     "name": "stdout",
     "output_type": "stream",
     "text": [
      "                   all         10         31      0.714      0.454      0.621      0.508\n"
     ]
    },
    {
     "name": "stderr",
     "output_type": "stream",
     "text": [
      "\n"
     ]
    },
    {
     "name": "stdout",
     "output_type": "stream",
     "text": [
      "\n",
      "150 epochs completed in 0.485 hours.\n",
      "Optimizer stripped from runs/detect/train5/weights/last.pt, 40.5MB\n",
      "Optimizer stripped from runs/detect/train5/weights/best.pt, 40.5MB\n",
      "\n",
      "Validating runs/detect/train5/weights/best.pt...\n",
      "Ultralytics 8.3.29 🚀 Python-3.11.5 torch-2.3.1 CUDA:0 (NVIDIA GeForce RTX 3050 Laptop GPU, 3797MiB)\n",
      "YOLO11m summary (fused): 303 layers, 20,031,574 parameters, 0 gradients\n"
     ]
    },
    {
     "name": "stderr",
     "output_type": "stream",
     "text": [
      "                 Class     Images  Instances      Box(P          R      mAP50  mAP50-95): 100%|██████████| 1/1 [00:00<00:00,  1.42it/s]\n"
     ]
    },
    {
     "name": "stdout",
     "output_type": "stream",
     "text": [
      "                   all         10         31      0.837      0.421      0.687      0.558\n",
      "                Unripe          9         27          1      0.342       0.76      0.596\n",
      "                  Ripe          3          4      0.674        0.5      0.615      0.519\n",
      "Speed: 0.4ms preprocess, 67.2ms inference, 0.0ms loss, 0.6ms postprocess per image\n",
      "Results saved to \u001b[1mruns/detect/train5\u001b[0m\n"
     ]
    }
   ],
   "source": [
    "results_medium = model_medium.train(data=\"YOLOv8Lemons/data.yaml\", epochs=150,batch=6)"
   ]
  },
  {
   "cell_type": "code",
   "execution_count": 2,
   "metadata": {},
   "outputs": [],
   "source": [
    "model_small = YOLO(model=\"yolo11s.pt\")"
   ]
  },
  {
   "cell_type": "code",
   "execution_count": 3,
   "metadata": {},
   "outputs": [
    {
     "name": "stdout",
     "output_type": "stream",
     "text": [
      "Ultralytics 8.3.29 🚀 Python-3.11.5 torch-2.3.1 CUDA:0 (NVIDIA GeForce RTX 3050 Laptop GPU, 3797MiB)\n",
      "\u001b[34m\u001b[1mengine/trainer: \u001b[0mtask=detect, mode=train, model=yolo11s.pt, data=YOLOv8Lemons/data.yaml, epochs=150, time=None, patience=100, batch=12, imgsz=640, save=True, save_period=-1, cache=False, device=None, workers=8, project=None, name=train7, exist_ok=False, pretrained=True, optimizer=auto, verbose=True, seed=0, deterministic=True, single_cls=False, rect=False, cos_lr=False, close_mosaic=10, resume=False, amp=True, fraction=1.0, profile=False, freeze=None, multi_scale=False, overlap_mask=True, mask_ratio=4, dropout=0.0, val=True, split=val, save_json=False, save_hybrid=False, conf=None, iou=0.7, max_det=300, half=False, dnn=False, plots=True, source=None, vid_stride=1, stream_buffer=False, visualize=False, augment=False, agnostic_nms=False, classes=None, retina_masks=False, embed=None, show=False, save_frames=False, save_txt=False, save_conf=False, save_crop=False, show_labels=True, show_conf=True, show_boxes=True, line_width=None, format=torchscript, keras=False, optimize=False, int8=False, dynamic=False, simplify=True, opset=None, workspace=4, nms=False, lr0=0.01, lrf=0.01, momentum=0.937, weight_decay=0.0005, warmup_epochs=3.0, warmup_momentum=0.8, warmup_bias_lr=0.1, box=7.5, cls=0.5, dfl=1.5, pose=12.0, kobj=1.0, label_smoothing=0.0, nbs=64, hsv_h=0.015, hsv_s=0.7, hsv_v=0.4, degrees=0.0, translate=0.1, scale=0.5, shear=0.0, perspective=0.0, flipud=0.0, fliplr=0.5, bgr=0.0, mosaic=1.0, mixup=0.0, copy_paste=0.0, copy_paste_mode=flip, auto_augment=randaugment, erasing=0.4, crop_fraction=1.0, cfg=None, tracker=botsort.yaml, save_dir=runs/detect/train7\n",
      "Overriding model.yaml nc=80 with nc=2\n",
      "\n",
      "                   from  n    params  module                                       arguments                     \n",
      "  0                  -1  1       928  ultralytics.nn.modules.conv.Conv             [3, 32, 3, 2]                 \n",
      "  1                  -1  1     18560  ultralytics.nn.modules.conv.Conv             [32, 64, 3, 2]                \n",
      "  2                  -1  1     26080  ultralytics.nn.modules.block.C3k2            [64, 128, 1, False, 0.25]     \n",
      "  3                  -1  1    147712  ultralytics.nn.modules.conv.Conv             [128, 128, 3, 2]              \n",
      "  4                  -1  1    103360  ultralytics.nn.modules.block.C3k2            [128, 256, 1, False, 0.25]    \n",
      "  5                  -1  1    590336  ultralytics.nn.modules.conv.Conv             [256, 256, 3, 2]              \n",
      "  6                  -1  1    346112  ultralytics.nn.modules.block.C3k2            [256, 256, 1, True]           \n",
      "  7                  -1  1   1180672  ultralytics.nn.modules.conv.Conv             [256, 512, 3, 2]              \n",
      "  8                  -1  1   1380352  ultralytics.nn.modules.block.C3k2            [512, 512, 1, True]           \n",
      "  9                  -1  1    656896  ultralytics.nn.modules.block.SPPF            [512, 512, 5]                 \n",
      " 10                  -1  1    990976  ultralytics.nn.modules.block.C2PSA           [512, 512, 1]                 \n",
      " 11                  -1  1         0  torch.nn.modules.upsampling.Upsample         [None, 2, 'nearest']          \n",
      " 12             [-1, 6]  1         0  ultralytics.nn.modules.conv.Concat           [1]                           \n",
      " 13                  -1  1    443776  ultralytics.nn.modules.block.C3k2            [768, 256, 1, False]          \n",
      " 14                  -1  1         0  torch.nn.modules.upsampling.Upsample         [None, 2, 'nearest']          \n",
      " 15             [-1, 4]  1         0  ultralytics.nn.modules.conv.Concat           [1]                           \n",
      " 16                  -1  1    127680  ultralytics.nn.modules.block.C3k2            [512, 128, 1, False]          \n",
      " 17                  -1  1    147712  ultralytics.nn.modules.conv.Conv             [128, 128, 3, 2]              \n",
      " 18            [-1, 13]  1         0  ultralytics.nn.modules.conv.Concat           [1]                           \n",
      " 19                  -1  1    345472  ultralytics.nn.modules.block.C3k2            [384, 256, 1, False]          \n",
      " 20                  -1  1    590336  ultralytics.nn.modules.conv.Conv             [256, 256, 3, 2]              \n",
      " 21            [-1, 10]  1         0  ultralytics.nn.modules.conv.Concat           [1]                           \n",
      " 22                  -1  1   1511424  ultralytics.nn.modules.block.C3k2            [768, 512, 1, True]           \n",
      " 23        [16, 19, 22]  1    820182  ultralytics.nn.modules.head.Detect           [2, [128, 256, 512]]          \n",
      "YOLO11s summary: 319 layers, 9,428,566 parameters, 9,428,550 gradients\n",
      "\n",
      "Transferred 493/499 items from pretrained weights\n",
      "\u001b[34m\u001b[1mTensorBoard: \u001b[0mStart with 'tensorboard --logdir runs/detect/train7', view at http://localhost:6006/\n",
      "Freezing layer 'model.23.dfl.conv.weight'\n",
      "\u001b[34m\u001b[1mAMP: \u001b[0mrunning Automatic Mixed Precision (AMP) checks...\n",
      "\u001b[34m\u001b[1mAMP: \u001b[0mchecks passed ✅\n"
     ]
    },
    {
     "name": "stderr",
     "output_type": "stream",
     "text": [
      "\u001b[34m\u001b[1mtrain: \u001b[0mScanning /storage/Programming/PyTorch/LemonDetection/YOLOv8Lemons/data/labels/Train.cache... 47 images, 0 backgrounds, 0 corrupt: 100%|██████████| 47/47 [00:00<?, ?it/s]\n",
      "\u001b[34m\u001b[1mval: \u001b[0mScanning /storage/Programming/PyTorch/LemonDetection/YOLOv8Lemons/data/labels/Validation.cache... 10 images, 0 backgrounds, 0 corrupt: 100%|██████████| 10/10 [00:00<?, ?it/s]\n"
     ]
    },
    {
     "name": "stdout",
     "output_type": "stream",
     "text": [
      "Plotting labels to runs/detect/train7/labels.jpg... \n",
      "\u001b[34m\u001b[1moptimizer:\u001b[0m 'optimizer=auto' found, ignoring 'lr0=0.01' and 'momentum=0.937' and determining best 'optimizer', 'lr0' and 'momentum' automatically... \n",
      "\u001b[34m\u001b[1moptimizer:\u001b[0m AdamW(lr=0.001667, momentum=0.9) with parameter groups 81 weight(decay=0.0), 88 weight(decay=0.00046875), 87 bias(decay=0.0)\n",
      "\u001b[34m\u001b[1mTensorBoard: \u001b[0mmodel graph visualization added ✅\n",
      "Image sizes 640 train, 640 val\n",
      "Using 8 dataloader workers\n",
      "Logging results to \u001b[1mruns/detect/train7\u001b[0m\n",
      "Starting training for 150 epochs...\n",
      "\n",
      "      Epoch    GPU_mem   box_loss   cls_loss   dfl_loss  Instances       Size\n"
     ]
    },
    {
     "name": "stderr",
     "output_type": "stream",
     "text": [
      "      1/150      3.48G     0.9407      4.683      1.241         41        640: 100%|██████████| 4/4 [00:01<00:00,  2.49it/s]\n",
      "                 Class     Images  Instances      Box(P          R      mAP50  mAP50-95): 100%|██████████| 1/1 [00:00<00:00,  4.45it/s]"
     ]
    },
    {
     "name": "stdout",
     "output_type": "stream",
     "text": [
      "                   all         10         31      0.778      0.204      0.216      0.159\n"
     ]
    },
    {
     "name": "stderr",
     "output_type": "stream",
     "text": [
      "\n"
     ]
    },
    {
     "name": "stdout",
     "output_type": "stream",
     "text": [
      "\n",
      "      Epoch    GPU_mem   box_loss   cls_loss   dfl_loss  Instances       Size\n"
     ]
    },
    {
     "name": "stderr",
     "output_type": "stream",
     "text": [
      "      2/150      3.44G     0.9381      4.743      1.262         54        640: 100%|██████████| 4/4 [00:01<00:00,  3.44it/s]\n",
      "                 Class     Images  Instances      Box(P          R      mAP50  mAP50-95): 100%|██████████| 1/1 [00:00<00:00,  6.52it/s]"
     ]
    },
    {
     "name": "stdout",
     "output_type": "stream",
     "text": [
      "                   all         10         31      0.519      0.344      0.312      0.249\n"
     ]
    },
    {
     "name": "stderr",
     "output_type": "stream",
     "text": [
      "\n"
     ]
    },
    {
     "name": "stdout",
     "output_type": "stream",
     "text": [
      "\n",
      "      Epoch    GPU_mem   box_loss   cls_loss   dfl_loss  Instances       Size\n"
     ]
    },
    {
     "name": "stderr",
     "output_type": "stream",
     "text": [
      "      3/150      3.46G      0.777      3.088      1.012         37        640: 100%|██████████| 4/4 [00:01<00:00,  3.46it/s]\n",
      "                 Class     Images  Instances      Box(P          R      mAP50  mAP50-95): 100%|██████████| 1/1 [00:00<00:00,  6.42it/s]"
     ]
    },
    {
     "name": "stdout",
     "output_type": "stream",
     "text": [
      "                   all         10         31      0.428      0.676       0.49      0.357\n"
     ]
    },
    {
     "name": "stderr",
     "output_type": "stream",
     "text": [
      "\n"
     ]
    },
    {
     "name": "stdout",
     "output_type": "stream",
     "text": [
      "\n",
      "      Epoch    GPU_mem   box_loss   cls_loss   dfl_loss  Instances       Size\n"
     ]
    },
    {
     "name": "stderr",
     "output_type": "stream",
     "text": [
      "      4/150      3.47G     0.8927      2.332      1.054         56        640: 100%|██████████| 4/4 [00:01<00:00,  3.52it/s]\n",
      "                 Class     Images  Instances      Box(P          R      mAP50  mAP50-95): 100%|██████████| 1/1 [00:00<00:00,  7.67it/s]"
     ]
    },
    {
     "name": "stdout",
     "output_type": "stream",
     "text": [
      "                   all         10         31      0.826      0.461      0.578      0.436\n"
     ]
    },
    {
     "name": "stderr",
     "output_type": "stream",
     "text": [
      "\n"
     ]
    },
    {
     "name": "stdout",
     "output_type": "stream",
     "text": [
      "\n",
      "      Epoch    GPU_mem   box_loss   cls_loss   dfl_loss  Instances       Size\n"
     ]
    },
    {
     "name": "stderr",
     "output_type": "stream",
     "text": [
      "      5/150      3.47G      0.732      1.712      0.973         46        640: 100%|██████████| 4/4 [00:01<00:00,  3.53it/s]\n",
      "                 Class     Images  Instances      Box(P          R      mAP50  mAP50-95): 100%|██████████| 1/1 [00:00<00:00,  8.44it/s]"
     ]
    },
    {
     "name": "stdout",
     "output_type": "stream",
     "text": [
      "                   all         10         31      0.551      0.418      0.443      0.317\n"
     ]
    },
    {
     "name": "stderr",
     "output_type": "stream",
     "text": [
      "\n"
     ]
    },
    {
     "name": "stdout",
     "output_type": "stream",
     "text": [
      "\n",
      "      Epoch    GPU_mem   box_loss   cls_loss   dfl_loss  Instances       Size\n"
     ]
    },
    {
     "name": "stderr",
     "output_type": "stream",
     "text": [
      "      6/150      3.46G     0.8655      1.835      1.023         31        640: 100%|██████████| 4/4 [00:01<00:00,  3.50it/s]\n",
      "                 Class     Images  Instances      Box(P          R      mAP50  mAP50-95): 100%|██████████| 1/1 [00:00<00:00,  8.85it/s]"
     ]
    },
    {
     "name": "stdout",
     "output_type": "stream",
     "text": [
      "                   all         10         31      0.372      0.185      0.209       0.18\n"
     ]
    },
    {
     "name": "stderr",
     "output_type": "stream",
     "text": [
      "\n"
     ]
    },
    {
     "name": "stdout",
     "output_type": "stream",
     "text": [
      "\n",
      "      Epoch    GPU_mem   box_loss   cls_loss   dfl_loss  Instances       Size\n"
     ]
    },
    {
     "name": "stderr",
     "output_type": "stream",
     "text": [
      "      7/150      3.47G     0.9145      1.683      1.005         39        640: 100%|██████████| 4/4 [00:01<00:00,  3.50it/s]\n",
      "                 Class     Images  Instances      Box(P          R      mAP50  mAP50-95): 100%|██████████| 1/1 [00:00<00:00,  8.67it/s]"
     ]
    },
    {
     "name": "stdout",
     "output_type": "stream",
     "text": [
      "                   all         10         31      0.911      0.144      0.152      0.135\n"
     ]
    },
    {
     "name": "stderr",
     "output_type": "stream",
     "text": [
      "\n"
     ]
    },
    {
     "name": "stdout",
     "output_type": "stream",
     "text": [
      "\n",
      "      Epoch    GPU_mem   box_loss   cls_loss   dfl_loss  Instances       Size\n"
     ]
    },
    {
     "name": "stderr",
     "output_type": "stream",
     "text": [
      "      8/150      3.46G     0.8468       1.37      1.012         42        640: 100%|██████████| 4/4 [00:01<00:00,  3.49it/s]\n",
      "                 Class     Images  Instances      Box(P          R      mAP50  mAP50-95): 100%|██████████| 1/1 [00:00<00:00,  8.67it/s]"
     ]
    },
    {
     "name": "stdout",
     "output_type": "stream",
     "text": [
      "                   all         10         31      0.551      0.144      0.165      0.128\n"
     ]
    },
    {
     "name": "stderr",
     "output_type": "stream",
     "text": [
      "\n"
     ]
    },
    {
     "name": "stdout",
     "output_type": "stream",
     "text": [
      "\n",
      "      Epoch    GPU_mem   box_loss   cls_loss   dfl_loss  Instances       Size\n"
     ]
    },
    {
     "name": "stderr",
     "output_type": "stream",
     "text": [
      "      9/150      3.47G      0.817      1.447     0.9776         39        640: 100%|██████████| 4/4 [00:01<00:00,  3.55it/s]\n",
      "                 Class     Images  Instances      Box(P          R      mAP50  mAP50-95): 100%|██████████| 1/1 [00:00<00:00,  8.87it/s]"
     ]
    },
    {
     "name": "stdout",
     "output_type": "stream",
     "text": [
      "                   all         10         31      0.242       0.25      0.232      0.191\n"
     ]
    },
    {
     "name": "stderr",
     "output_type": "stream",
     "text": [
      "\n"
     ]
    },
    {
     "name": "stdout",
     "output_type": "stream",
     "text": [
      "\n",
      "      Epoch    GPU_mem   box_loss   cls_loss   dfl_loss  Instances       Size\n"
     ]
    },
    {
     "name": "stderr",
     "output_type": "stream",
     "text": [
      "     10/150       3.5G     0.7855      1.267     0.9547         26        640: 100%|██████████| 4/4 [00:01<00:00,  3.50it/s]\n",
      "                 Class     Images  Instances      Box(P          R      mAP50  mAP50-95): 100%|██████████| 1/1 [00:00<00:00,  9.46it/s]"
     ]
    },
    {
     "name": "stdout",
     "output_type": "stream",
     "text": [
      "                   all         10         31      0.585      0.283      0.294      0.232\n"
     ]
    },
    {
     "name": "stderr",
     "output_type": "stream",
     "text": [
      "\n"
     ]
    },
    {
     "name": "stdout",
     "output_type": "stream",
     "text": [
      "\n",
      "      Epoch    GPU_mem   box_loss   cls_loss   dfl_loss  Instances       Size\n"
     ]
    },
    {
     "name": "stderr",
     "output_type": "stream",
     "text": [
      "     11/150      3.46G     0.7649      1.161     0.9918         39        640: 100%|██████████| 4/4 [00:01<00:00,  3.54it/s]\n",
      "                 Class     Images  Instances      Box(P          R      mAP50  mAP50-95): 100%|██████████| 1/1 [00:00<00:00,  9.61it/s]"
     ]
    },
    {
     "name": "stdout",
     "output_type": "stream",
     "text": [
      "                   all         10         31      0.767      0.324      0.316      0.249\n"
     ]
    },
    {
     "name": "stderr",
     "output_type": "stream",
     "text": [
      "\n"
     ]
    },
    {
     "name": "stdout",
     "output_type": "stream",
     "text": [
      "\n",
      "      Epoch    GPU_mem   box_loss   cls_loss   dfl_loss  Instances       Size\n"
     ]
    },
    {
     "name": "stderr",
     "output_type": "stream",
     "text": [
      "     12/150       3.5G     0.6834     0.9957     0.9197         34        640: 100%|██████████| 4/4 [00:01<00:00,  3.53it/s]\n",
      "                 Class     Images  Instances      Box(P          R      mAP50  mAP50-95): 100%|██████████| 1/1 [00:00<00:00, 10.13it/s]"
     ]
    },
    {
     "name": "stdout",
     "output_type": "stream",
     "text": [
      "                   all         10         31      0.675      0.355      0.371      0.287\n"
     ]
    },
    {
     "name": "stderr",
     "output_type": "stream",
     "text": [
      "\n"
     ]
    },
    {
     "name": "stdout",
     "output_type": "stream",
     "text": [
      "\n",
      "      Epoch    GPU_mem   box_loss   cls_loss   dfl_loss  Instances       Size\n"
     ]
    },
    {
     "name": "stderr",
     "output_type": "stream",
     "text": [
      "     13/150       3.5G     0.7372     0.9797     0.9169         36        640: 100%|██████████| 4/4 [00:01<00:00,  3.47it/s]\n",
      "                 Class     Images  Instances      Box(P          R      mAP50  mAP50-95): 100%|██████████| 1/1 [00:00<00:00, 10.71it/s]"
     ]
    },
    {
     "name": "stdout",
     "output_type": "stream",
     "text": [
      "                   all         10         31      0.709       0.37        0.4      0.326\n"
     ]
    },
    {
     "name": "stderr",
     "output_type": "stream",
     "text": [
      "\n"
     ]
    },
    {
     "name": "stdout",
     "output_type": "stream",
     "text": [
      "\n",
      "      Epoch    GPU_mem   box_loss   cls_loss   dfl_loss  Instances       Size\n"
     ]
    },
    {
     "name": "stderr",
     "output_type": "stream",
     "text": [
      "     14/150      3.46G     0.7802     0.9489     0.9662         34        640: 100%|██████████| 4/4 [00:01<00:00,  3.51it/s]\n",
      "                 Class     Images  Instances      Box(P          R      mAP50  mAP50-95): 100%|██████████| 1/1 [00:00<00:00, 10.57it/s]"
     ]
    },
    {
     "name": "stdout",
     "output_type": "stream",
     "text": [
      "                   all         10         31      0.763      0.343       0.38      0.302\n"
     ]
    },
    {
     "name": "stderr",
     "output_type": "stream",
     "text": [
      "\n"
     ]
    },
    {
     "name": "stdout",
     "output_type": "stream",
     "text": [
      "\n",
      "      Epoch    GPU_mem   box_loss   cls_loss   dfl_loss  Instances       Size\n"
     ]
    },
    {
     "name": "stderr",
     "output_type": "stream",
     "text": [
      "     15/150      3.51G     0.7557      0.807     0.9521         37        640: 100%|██████████| 4/4 [00:01<00:00,  3.52it/s]\n",
      "                 Class     Images  Instances      Box(P          R      mAP50  mAP50-95): 100%|██████████| 1/1 [00:00<00:00, 10.78it/s]"
     ]
    },
    {
     "name": "stdout",
     "output_type": "stream",
     "text": [
      "                   all         10         31      0.628      0.372      0.448      0.356\n"
     ]
    },
    {
     "name": "stderr",
     "output_type": "stream",
     "text": [
      "\n"
     ]
    },
    {
     "name": "stdout",
     "output_type": "stream",
     "text": [
      "\n",
      "      Epoch    GPU_mem   box_loss   cls_loss   dfl_loss  Instances       Size\n"
     ]
    },
    {
     "name": "stderr",
     "output_type": "stream",
     "text": [
      "     16/150       3.5G     0.6909     0.8747     0.8989         28        640: 100%|██████████| 4/4 [00:01<00:00,  3.50it/s]\n",
      "                 Class     Images  Instances      Box(P          R      mAP50  mAP50-95): 100%|██████████| 1/1 [00:00<00:00, 11.44it/s]"
     ]
    },
    {
     "name": "stdout",
     "output_type": "stream",
     "text": [
      "                   all         10         31       0.81       0.46      0.481      0.388\n"
     ]
    },
    {
     "name": "stderr",
     "output_type": "stream",
     "text": [
      "\n"
     ]
    },
    {
     "name": "stdout",
     "output_type": "stream",
     "text": [
      "\n",
      "      Epoch    GPU_mem   box_loss   cls_loss   dfl_loss  Instances       Size\n"
     ]
    },
    {
     "name": "stderr",
     "output_type": "stream",
     "text": [
      "     17/150      3.47G     0.7907     0.8952     0.9413         25        640: 100%|██████████| 4/4 [00:01<00:00,  3.49it/s]\n",
      "                 Class     Images  Instances      Box(P          R      mAP50  mAP50-95): 100%|██████████| 1/1 [00:00<00:00, 11.63it/s]"
     ]
    },
    {
     "name": "stdout",
     "output_type": "stream",
     "text": [
      "                   all         10         31      0.631      0.222       0.36      0.293\n"
     ]
    },
    {
     "name": "stderr",
     "output_type": "stream",
     "text": [
      "\n"
     ]
    },
    {
     "name": "stdout",
     "output_type": "stream",
     "text": [
      "\n",
      "      Epoch    GPU_mem   box_loss   cls_loss   dfl_loss  Instances       Size\n"
     ]
    },
    {
     "name": "stderr",
     "output_type": "stream",
     "text": [
      "     18/150       3.5G     0.6734     0.7568      0.906         33        640: 100%|██████████| 4/4 [00:01<00:00,  3.47it/s]\n",
      "                 Class     Images  Instances      Box(P          R      mAP50  mAP50-95): 100%|██████████| 1/1 [00:00<00:00, 11.41it/s]"
     ]
    },
    {
     "name": "stdout",
     "output_type": "stream",
     "text": [
      "                   all         10         31      0.594      0.498      0.347      0.263\n"
     ]
    },
    {
     "name": "stderr",
     "output_type": "stream",
     "text": [
      "\n"
     ]
    },
    {
     "name": "stdout",
     "output_type": "stream",
     "text": [
      "\n",
      "      Epoch    GPU_mem   box_loss   cls_loss   dfl_loss  Instances       Size\n"
     ]
    },
    {
     "name": "stderr",
     "output_type": "stream",
     "text": [
      "     19/150       3.5G     0.7163     0.7042      0.923         46        640: 100%|██████████| 4/4 [00:01<00:00,  3.48it/s]\n",
      "                 Class     Images  Instances      Box(P          R      mAP50  mAP50-95): 100%|██████████| 1/1 [00:00<00:00, 11.54it/s]"
     ]
    },
    {
     "name": "stdout",
     "output_type": "stream",
     "text": [
      "                   all         10         31      0.688      0.435      0.428       0.32\n"
     ]
    },
    {
     "name": "stderr",
     "output_type": "stream",
     "text": [
      "\n"
     ]
    },
    {
     "name": "stdout",
     "output_type": "stream",
     "text": [
      "\n",
      "      Epoch    GPU_mem   box_loss   cls_loss   dfl_loss  Instances       Size\n"
     ]
    },
    {
     "name": "stderr",
     "output_type": "stream",
     "text": [
      "     20/150      3.47G     0.7804     0.7385     0.9355         32        640: 100%|██████████| 4/4 [00:01<00:00,  3.46it/s]\n",
      "                 Class     Images  Instances      Box(P          R      mAP50  mAP50-95): 100%|██████████| 1/1 [00:00<00:00, 11.75it/s]"
     ]
    },
    {
     "name": "stdout",
     "output_type": "stream",
     "text": [
      "                   all         10         31       0.43      0.435        0.4      0.315\n"
     ]
    },
    {
     "name": "stderr",
     "output_type": "stream",
     "text": [
      "\n"
     ]
    },
    {
     "name": "stdout",
     "output_type": "stream",
     "text": [
      "\n",
      "      Epoch    GPU_mem   box_loss   cls_loss   dfl_loss  Instances       Size\n"
     ]
    },
    {
     "name": "stderr",
     "output_type": "stream",
     "text": [
      "     21/150       3.5G     0.6743     0.6954     0.9243         32        640: 100%|██████████| 4/4 [00:01<00:00,  3.45it/s]\n",
      "                 Class     Images  Instances      Box(P          R      mAP50  mAP50-95): 100%|██████████| 1/1 [00:00<00:00, 11.78it/s]"
     ]
    },
    {
     "name": "stdout",
     "output_type": "stream",
     "text": [
      "                   all         10         31      0.905      0.379      0.472      0.379\n"
     ]
    },
    {
     "name": "stderr",
     "output_type": "stream",
     "text": [
      "\n"
     ]
    },
    {
     "name": "stdout",
     "output_type": "stream",
     "text": [
      "\n",
      "      Epoch    GPU_mem   box_loss   cls_loss   dfl_loss  Instances       Size\n"
     ]
    },
    {
     "name": "stderr",
     "output_type": "stream",
     "text": [
      "     22/150       3.5G     0.7332     0.7226     0.9538         51        640: 100%|██████████| 4/4 [00:01<00:00,  3.43it/s]\n",
      "                 Class     Images  Instances      Box(P          R      mAP50  mAP50-95): 100%|██████████| 1/1 [00:00<00:00, 12.08it/s]"
     ]
    },
    {
     "name": "stdout",
     "output_type": "stream",
     "text": [
      "                   all         10         31        0.5      0.398      0.327      0.264\n"
     ]
    },
    {
     "name": "stderr",
     "output_type": "stream",
     "text": [
      "\n"
     ]
    },
    {
     "name": "stdout",
     "output_type": "stream",
     "text": [
      "\n",
      "      Epoch    GPU_mem   box_loss   cls_loss   dfl_loss  Instances       Size\n"
     ]
    },
    {
     "name": "stderr",
     "output_type": "stream",
     "text": [
      "     23/150      3.46G      0.705      0.674      0.905         26        640: 100%|██████████| 4/4 [00:01<00:00,  3.47it/s]\n",
      "                 Class     Images  Instances      Box(P          R      mAP50  mAP50-95): 100%|██████████| 1/1 [00:00<00:00, 11.67it/s]"
     ]
    },
    {
     "name": "stdout",
     "output_type": "stream",
     "text": [
      "                   all         10         31        0.5      0.398      0.327      0.264\n"
     ]
    },
    {
     "name": "stderr",
     "output_type": "stream",
     "text": [
      "\n"
     ]
    },
    {
     "name": "stdout",
     "output_type": "stream",
     "text": [
      "\n",
      "      Epoch    GPU_mem   box_loss   cls_loss   dfl_loss  Instances       Size\n"
     ]
    },
    {
     "name": "stderr",
     "output_type": "stream",
     "text": [
      "     24/150       3.5G     0.7563     0.6917     0.9616         26        640: 100%|██████████| 4/4 [00:01<00:00,  3.44it/s]\n",
      "                 Class     Images  Instances      Box(P          R      mAP50  mAP50-95): 100%|██████████| 1/1 [00:00<00:00, 11.53it/s]"
     ]
    },
    {
     "name": "stdout",
     "output_type": "stream",
     "text": [
      "                   all         10         31      0.504      0.454      0.516      0.407\n"
     ]
    },
    {
     "name": "stderr",
     "output_type": "stream",
     "text": [
      "\n"
     ]
    },
    {
     "name": "stdout",
     "output_type": "stream",
     "text": [
      "\n",
      "      Epoch    GPU_mem   box_loss   cls_loss   dfl_loss  Instances       Size\n"
     ]
    },
    {
     "name": "stderr",
     "output_type": "stream",
     "text": [
      "     25/150      3.49G     0.7393      0.677     0.9212         43        640: 100%|██████████| 4/4 [00:01<00:00,  3.41it/s]\n",
      "                 Class     Images  Instances      Box(P          R      mAP50  mAP50-95): 100%|██████████| 1/1 [00:00<00:00, 11.25it/s]"
     ]
    },
    {
     "name": "stdout",
     "output_type": "stream",
     "text": [
      "                   all         10         31      0.764      0.462       0.54       0.42\n"
     ]
    },
    {
     "name": "stderr",
     "output_type": "stream",
     "text": [
      "\n"
     ]
    },
    {
     "name": "stdout",
     "output_type": "stream",
     "text": [
      "\n",
      "      Epoch    GPU_mem   box_loss   cls_loss   dfl_loss  Instances       Size\n"
     ]
    },
    {
     "name": "stderr",
     "output_type": "stream",
     "text": [
      "     26/150      3.49G      0.731     0.7299     0.9545         28        640: 100%|██████████| 4/4 [00:01<00:00,  3.42it/s]\n",
      "                 Class     Images  Instances      Box(P          R      mAP50  mAP50-95): 100%|██████████| 1/1 [00:00<00:00, 11.32it/s]"
     ]
    },
    {
     "name": "stdout",
     "output_type": "stream",
     "text": [
      "                   all         10         31      0.892      0.472      0.557      0.413\n"
     ]
    },
    {
     "name": "stderr",
     "output_type": "stream",
     "text": [
      "\n"
     ]
    },
    {
     "name": "stdout",
     "output_type": "stream",
     "text": [
      "\n",
      "      Epoch    GPU_mem   box_loss   cls_loss   dfl_loss  Instances       Size\n"
     ]
    },
    {
     "name": "stderr",
     "output_type": "stream",
     "text": [
      "     27/150       3.5G     0.7567     0.7533     0.9456         27        640: 100%|██████████| 4/4 [00:01<00:00,  3.38it/s]\n",
      "                 Class     Images  Instances      Box(P          R      mAP50  mAP50-95): 100%|██████████| 1/1 [00:00<00:00, 11.51it/s]"
     ]
    },
    {
     "name": "stdout",
     "output_type": "stream",
     "text": [
      "                   all         10         31      0.793       0.35      0.563       0.42\n"
     ]
    },
    {
     "name": "stderr",
     "output_type": "stream",
     "text": [
      "\n"
     ]
    },
    {
     "name": "stdout",
     "output_type": "stream",
     "text": [
      "\n",
      "      Epoch    GPU_mem   box_loss   cls_loss   dfl_loss  Instances       Size\n"
     ]
    },
    {
     "name": "stderr",
     "output_type": "stream",
     "text": [
      "     28/150      3.46G     0.7619      0.756     0.9412         35        640: 100%|██████████| 4/4 [00:01<00:00,  3.42it/s]\n",
      "                 Class     Images  Instances      Box(P          R      mAP50  mAP50-95): 100%|██████████| 1/1 [00:00<00:00, 11.13it/s]"
     ]
    },
    {
     "name": "stdout",
     "output_type": "stream",
     "text": [
      "                   all         10         31      0.793       0.35      0.563       0.42\n"
     ]
    },
    {
     "name": "stderr",
     "output_type": "stream",
     "text": [
      "\n"
     ]
    },
    {
     "name": "stdout",
     "output_type": "stream",
     "text": [
      "\n",
      "      Epoch    GPU_mem   box_loss   cls_loss   dfl_loss  Instances       Size\n"
     ]
    },
    {
     "name": "stderr",
     "output_type": "stream",
     "text": [
      "     29/150      3.39G     0.7841     0.7364     0.9585         34        640: 100%|██████████| 4/4 [00:01<00:00,  3.39it/s]\n",
      "                 Class     Images  Instances      Box(P          R      mAP50  mAP50-95): 100%|██████████| 1/1 [00:00<00:00, 11.14it/s]"
     ]
    },
    {
     "name": "stdout",
     "output_type": "stream",
     "text": [
      "                   all         10         31      0.669      0.516      0.561      0.427\n"
     ]
    },
    {
     "name": "stderr",
     "output_type": "stream",
     "text": [
      "\n"
     ]
    },
    {
     "name": "stdout",
     "output_type": "stream",
     "text": [
      "\n",
      "      Epoch    GPU_mem   box_loss   cls_loss   dfl_loss  Instances       Size\n"
     ]
    },
    {
     "name": "stderr",
     "output_type": "stream",
     "text": [
      "     30/150      3.39G      0.734     0.7006     0.9637         30        640: 100%|██████████| 4/4 [00:01<00:00,  3.41it/s]\n",
      "                 Class     Images  Instances      Box(P          R      mAP50  mAP50-95): 100%|██████████| 1/1 [00:00<00:00, 11.35it/s]"
     ]
    },
    {
     "name": "stdout",
     "output_type": "stream",
     "text": [
      "                   all         10         31      0.821      0.443      0.564      0.427\n"
     ]
    },
    {
     "name": "stderr",
     "output_type": "stream",
     "text": [
      "\n"
     ]
    },
    {
     "name": "stdout",
     "output_type": "stream",
     "text": [
      "\n",
      "      Epoch    GPU_mem   box_loss   cls_loss   dfl_loss  Instances       Size\n"
     ]
    },
    {
     "name": "stderr",
     "output_type": "stream",
     "text": [
      "     31/150      3.47G     0.6866     0.6817     0.9154         55        640: 100%|██████████| 4/4 [00:01<00:00,  3.39it/s]\n",
      "                 Class     Images  Instances      Box(P          R      mAP50  mAP50-95): 100%|██████████| 1/1 [00:00<00:00, 11.45it/s]"
     ]
    },
    {
     "name": "stdout",
     "output_type": "stream",
     "text": [
      "                   all         10         31       0.67      0.525      0.578      0.455\n"
     ]
    },
    {
     "name": "stderr",
     "output_type": "stream",
     "text": [
      "\n"
     ]
    },
    {
     "name": "stdout",
     "output_type": "stream",
     "text": [
      "\n",
      "      Epoch    GPU_mem   box_loss   cls_loss   dfl_loss  Instances       Size\n"
     ]
    },
    {
     "name": "stderr",
     "output_type": "stream",
     "text": [
      "     32/150       3.5G      0.666     0.6314     0.8895         42        640: 100%|██████████| 4/4 [00:01<00:00,  3.37it/s]\n",
      "                 Class     Images  Instances      Box(P          R      mAP50  mAP50-95): 100%|██████████| 1/1 [00:00<00:00, 11.62it/s]"
     ]
    },
    {
     "name": "stdout",
     "output_type": "stream",
     "text": [
      "                   all         10         31      0.411      0.509      0.556      0.434\n"
     ]
    },
    {
     "name": "stderr",
     "output_type": "stream",
     "text": [
      "\n"
     ]
    },
    {
     "name": "stdout",
     "output_type": "stream",
     "text": [
      "\n",
      "      Epoch    GPU_mem   box_loss   cls_loss   dfl_loss  Instances       Size\n"
     ]
    },
    {
     "name": "stderr",
     "output_type": "stream",
     "text": [
      "     33/150      3.46G      0.717     0.7077     0.9477         45        640: 100%|██████████| 4/4 [00:01<00:00,  3.40it/s]\n",
      "                 Class     Images  Instances      Box(P          R      mAP50  mAP50-95): 100%|██████████| 1/1 [00:00<00:00, 11.32it/s]"
     ]
    },
    {
     "name": "stdout",
     "output_type": "stream",
     "text": [
      "                   all         10         31      0.411      0.509      0.556      0.434\n"
     ]
    },
    {
     "name": "stderr",
     "output_type": "stream",
     "text": [
      "\n"
     ]
    },
    {
     "name": "stdout",
     "output_type": "stream",
     "text": [
      "\n",
      "      Epoch    GPU_mem   box_loss   cls_loss   dfl_loss  Instances       Size\n"
     ]
    },
    {
     "name": "stderr",
     "output_type": "stream",
     "text": [
      "     34/150      3.51G     0.7295     0.6683     0.9177         43        640: 100%|██████████| 4/4 [00:01<00:00,  3.36it/s]\n",
      "                 Class     Images  Instances      Box(P          R      mAP50  mAP50-95): 100%|██████████| 1/1 [00:00<00:00, 11.29it/s]"
     ]
    },
    {
     "name": "stdout",
     "output_type": "stream",
     "text": [
      "                   all         10         31       0.23      0.491      0.468      0.381\n"
     ]
    },
    {
     "name": "stderr",
     "output_type": "stream",
     "text": [
      "\n"
     ]
    },
    {
     "name": "stdout",
     "output_type": "stream",
     "text": [
      "\n",
      "      Epoch    GPU_mem   box_loss   cls_loss   dfl_loss  Instances       Size\n"
     ]
    },
    {
     "name": "stderr",
     "output_type": "stream",
     "text": [
      "     35/150      3.48G     0.7045      0.595     0.9192         62        640: 100%|██████████| 4/4 [00:01<00:00,  3.35it/s]\n",
      "                 Class     Images  Instances      Box(P          R      mAP50  mAP50-95): 100%|██████████| 1/1 [00:00<00:00, 11.26it/s]"
     ]
    },
    {
     "name": "stdout",
     "output_type": "stream",
     "text": [
      "                   all         10         31      0.287      0.438       0.39      0.298\n"
     ]
    },
    {
     "name": "stderr",
     "output_type": "stream",
     "text": [
      "\n"
     ]
    },
    {
     "name": "stdout",
     "output_type": "stream",
     "text": [
      "\n",
      "      Epoch    GPU_mem   box_loss   cls_loss   dfl_loss  Instances       Size\n"
     ]
    },
    {
     "name": "stderr",
     "output_type": "stream",
     "text": [
      "     36/150      3.47G     0.6652     0.6467     0.9158         53        640: 100%|██████████| 4/4 [00:01<00:00,  3.35it/s]\n",
      "                 Class     Images  Instances      Box(P          R      mAP50  mAP50-95): 100%|██████████| 1/1 [00:00<00:00, 11.20it/s]"
     ]
    },
    {
     "name": "stdout",
     "output_type": "stream",
     "text": [
      "                   all         10         31      0.311      0.417       0.42      0.321\n"
     ]
    },
    {
     "name": "stderr",
     "output_type": "stream",
     "text": [
      "\n"
     ]
    },
    {
     "name": "stdout",
     "output_type": "stream",
     "text": [
      "\n",
      "      Epoch    GPU_mem   box_loss   cls_loss   dfl_loss  Instances       Size\n"
     ]
    },
    {
     "name": "stderr",
     "output_type": "stream",
     "text": [
      "     37/150       3.5G     0.6767     0.6035     0.9153         33        640: 100%|██████████| 4/4 [00:01<00:00,  3.35it/s]\n",
      "                 Class     Images  Instances      Box(P          R      mAP50  mAP50-95): 100%|██████████| 1/1 [00:00<00:00, 11.43it/s]"
     ]
    },
    {
     "name": "stdout",
     "output_type": "stream",
     "text": [
      "                   all         10         31       0.25      0.343      0.375      0.274\n"
     ]
    },
    {
     "name": "stderr",
     "output_type": "stream",
     "text": [
      "\n"
     ]
    },
    {
     "name": "stdout",
     "output_type": "stream",
     "text": [
      "\n",
      "      Epoch    GPU_mem   box_loss   cls_loss   dfl_loss  Instances       Size\n"
     ]
    },
    {
     "name": "stderr",
     "output_type": "stream",
     "text": [
      "     38/150      3.48G     0.7185     0.6418     0.9353         36        640: 100%|██████████| 4/4 [00:01<00:00,  3.37it/s]\n",
      "                 Class     Images  Instances      Box(P          R      mAP50  mAP50-95): 100%|██████████| 1/1 [00:00<00:00, 11.13it/s]"
     ]
    },
    {
     "name": "stdout",
     "output_type": "stream",
     "text": [
      "                   all         10         31       0.25      0.343      0.375      0.274\n"
     ]
    },
    {
     "name": "stderr",
     "output_type": "stream",
     "text": [
      "\n"
     ]
    },
    {
     "name": "stdout",
     "output_type": "stream",
     "text": [
      "\n",
      "      Epoch    GPU_mem   box_loss   cls_loss   dfl_loss  Instances       Size\n"
     ]
    },
    {
     "name": "stderr",
     "output_type": "stream",
     "text": [
      "     39/150       3.5G     0.6772     0.5967     0.8906         42        640: 100%|██████████| 4/4 [00:01<00:00,  3.34it/s]\n",
      "                 Class     Images  Instances      Box(P          R      mAP50  mAP50-95): 100%|██████████| 1/1 [00:00<00:00, 11.13it/s]"
     ]
    },
    {
     "name": "stdout",
     "output_type": "stream",
     "text": [
      "                   all         10         31      0.657       0.25      0.238      0.189\n"
     ]
    },
    {
     "name": "stderr",
     "output_type": "stream",
     "text": [
      "\n"
     ]
    },
    {
     "name": "stdout",
     "output_type": "stream",
     "text": [
      "\n",
      "      Epoch    GPU_mem   box_loss   cls_loss   dfl_loss  Instances       Size\n"
     ]
    },
    {
     "name": "stderr",
     "output_type": "stream",
     "text": [
      "     40/150      3.49G     0.6242      0.579     0.8989         30        640: 100%|██████████| 4/4 [00:01<00:00,  3.34it/s]\n",
      "                 Class     Images  Instances      Box(P          R      mAP50  mAP50-95): 100%|██████████| 1/1 [00:00<00:00, 11.05it/s]"
     ]
    },
    {
     "name": "stdout",
     "output_type": "stream",
     "text": [
      "                   all         10         31      0.654       0.25      0.233      0.174\n"
     ]
    },
    {
     "name": "stderr",
     "output_type": "stream",
     "text": [
      "\n"
     ]
    },
    {
     "name": "stdout",
     "output_type": "stream",
     "text": [
      "\n",
      "      Epoch    GPU_mem   box_loss   cls_loss   dfl_loss  Instances       Size\n"
     ]
    },
    {
     "name": "stderr",
     "output_type": "stream",
     "text": [
      "     41/150      3.47G      0.686     0.5798     0.9078         28        640: 100%|██████████| 4/4 [00:01<00:00,  3.33it/s]\n",
      "                 Class     Images  Instances      Box(P          R      mAP50  mAP50-95): 100%|██████████| 1/1 [00:00<00:00, 11.27it/s]"
     ]
    },
    {
     "name": "stdout",
     "output_type": "stream",
     "text": [
      "                   all         10         31      0.826      0.239      0.282      0.196\n"
     ]
    },
    {
     "name": "stderr",
     "output_type": "stream",
     "text": [
      "\n"
     ]
    },
    {
     "name": "stdout",
     "output_type": "stream",
     "text": [
      "\n",
      "      Epoch    GPU_mem   box_loss   cls_loss   dfl_loss  Instances       Size\n"
     ]
    },
    {
     "name": "stderr",
     "output_type": "stream",
     "text": [
      "     42/150       3.5G     0.6927     0.5521      0.923         39        640: 100%|██████████| 4/4 [00:01<00:00,  3.33it/s]\n",
      "                 Class     Images  Instances      Box(P          R      mAP50  mAP50-95): 100%|██████████| 1/1 [00:00<00:00, 11.78it/s]"
     ]
    },
    {
     "name": "stdout",
     "output_type": "stream",
     "text": [
      "                   all         10         31      0.474      0.467      0.401      0.296\n"
     ]
    },
    {
     "name": "stderr",
     "output_type": "stream",
     "text": [
      "\n"
     ]
    },
    {
     "name": "stdout",
     "output_type": "stream",
     "text": [
      "\n",
      "      Epoch    GPU_mem   box_loss   cls_loss   dfl_loss  Instances       Size\n"
     ]
    },
    {
     "name": "stderr",
     "output_type": "stream",
     "text": [
      "     43/150      3.46G      0.639     0.5002     0.9366         34        640: 100%|██████████| 4/4 [00:01<00:00,  3.37it/s]\n",
      "                 Class     Images  Instances      Box(P          R      mAP50  mAP50-95): 100%|██████████| 1/1 [00:00<00:00, 11.32it/s]"
     ]
    },
    {
     "name": "stdout",
     "output_type": "stream",
     "text": [
      "                   all         10         31      0.474      0.467      0.401      0.296\n"
     ]
    },
    {
     "name": "stderr",
     "output_type": "stream",
     "text": [
      "\n"
     ]
    },
    {
     "name": "stdout",
     "output_type": "stream",
     "text": [
      "\n",
      "      Epoch    GPU_mem   box_loss   cls_loss   dfl_loss  Instances       Size\n"
     ]
    },
    {
     "name": "stderr",
     "output_type": "stream",
     "text": [
      "     44/150       3.5G     0.7228     0.5383     0.9463         49        640: 100%|██████████| 4/4 [00:01<00:00,  3.33it/s]\n",
      "                 Class     Images  Instances      Box(P          R      mAP50  mAP50-95): 100%|██████████| 1/1 [00:00<00:00, 11.23it/s]"
     ]
    },
    {
     "name": "stdout",
     "output_type": "stream",
     "text": [
      "                   all         10         31      0.387      0.549       0.49      0.365\n"
     ]
    },
    {
     "name": "stderr",
     "output_type": "stream",
     "text": [
      "\n"
     ]
    },
    {
     "name": "stdout",
     "output_type": "stream",
     "text": [
      "\n",
      "      Epoch    GPU_mem   box_loss   cls_loss   dfl_loss  Instances       Size\n"
     ]
    },
    {
     "name": "stderr",
     "output_type": "stream",
     "text": [
      "     45/150       3.4G     0.6798      0.513     0.8924         51        640: 100%|██████████| 4/4 [00:01<00:00,  3.31it/s]\n",
      "                 Class     Images  Instances      Box(P          R      mAP50  mAP50-95): 100%|██████████| 1/1 [00:00<00:00, 10.99it/s]"
     ]
    },
    {
     "name": "stdout",
     "output_type": "stream",
     "text": [
      "                   all         10         31      0.529      0.505      0.466      0.354\n"
     ]
    },
    {
     "name": "stderr",
     "output_type": "stream",
     "text": [
      "\n"
     ]
    },
    {
     "name": "stdout",
     "output_type": "stream",
     "text": [
      "\n",
      "      Epoch    GPU_mem   box_loss   cls_loss   dfl_loss  Instances       Size\n"
     ]
    },
    {
     "name": "stderr",
     "output_type": "stream",
     "text": [
      "     46/150      3.49G     0.6363     0.5358     0.9139         46        640: 100%|██████████| 4/4 [00:01<00:00,  3.31it/s]\n",
      "                 Class     Images  Instances      Box(P          R      mAP50  mAP50-95): 100%|██████████| 1/1 [00:00<00:00, 11.38it/s]"
     ]
    },
    {
     "name": "stdout",
     "output_type": "stream",
     "text": [
      "                   all         10         31      0.741      0.418      0.464      0.339\n"
     ]
    },
    {
     "name": "stderr",
     "output_type": "stream",
     "text": [
      "\n"
     ]
    },
    {
     "name": "stdout",
     "output_type": "stream",
     "text": [
      "\n",
      "      Epoch    GPU_mem   box_loss   cls_loss   dfl_loss  Instances       Size\n"
     ]
    },
    {
     "name": "stderr",
     "output_type": "stream",
     "text": [
      "     47/150      3.47G     0.7147     0.5921     0.9383         27        640: 100%|██████████| 4/4 [00:01<00:00,  3.29it/s]\n",
      "                 Class     Images  Instances      Box(P          R      mAP50  mAP50-95): 100%|██████████| 1/1 [00:00<00:00, 11.42it/s]"
     ]
    },
    {
     "name": "stdout",
     "output_type": "stream",
     "text": [
      "                   all         10         31      0.614      0.449       0.44       0.35\n"
     ]
    },
    {
     "name": "stderr",
     "output_type": "stream",
     "text": [
      "\n"
     ]
    },
    {
     "name": "stdout",
     "output_type": "stream",
     "text": [
      "\n",
      "      Epoch    GPU_mem   box_loss   cls_loss   dfl_loss  Instances       Size\n"
     ]
    },
    {
     "name": "stderr",
     "output_type": "stream",
     "text": [
      "     48/150      3.48G     0.6254      0.494     0.9041         37        640: 100%|██████████| 4/4 [00:01<00:00,  3.33it/s]\n",
      "                 Class     Images  Instances      Box(P          R      mAP50  mAP50-95): 100%|██████████| 1/1 [00:00<00:00, 11.36it/s]"
     ]
    },
    {
     "name": "stdout",
     "output_type": "stream",
     "text": [
      "                   all         10         31      0.614      0.449       0.44       0.35\n"
     ]
    },
    {
     "name": "stderr",
     "output_type": "stream",
     "text": [
      "\n"
     ]
    },
    {
     "name": "stdout",
     "output_type": "stream",
     "text": [
      "\n",
      "      Epoch    GPU_mem   box_loss   cls_loss   dfl_loss  Instances       Size\n"
     ]
    },
    {
     "name": "stderr",
     "output_type": "stream",
     "text": [
      "     49/150      3.48G     0.6412     0.5425     0.9139         39        640: 100%|██████████| 4/4 [00:01<00:00,  3.30it/s]\n",
      "                 Class     Images  Instances      Box(P          R      mAP50  mAP50-95): 100%|██████████| 1/1 [00:00<00:00, 11.22it/s]"
     ]
    },
    {
     "name": "stdout",
     "output_type": "stream",
     "text": [
      "                   all         10         31      0.657      0.449      0.527      0.427\n"
     ]
    },
    {
     "name": "stderr",
     "output_type": "stream",
     "text": [
      "\n"
     ]
    },
    {
     "name": "stdout",
     "output_type": "stream",
     "text": [
      "\n",
      "      Epoch    GPU_mem   box_loss   cls_loss   dfl_loss  Instances       Size\n"
     ]
    },
    {
     "name": "stderr",
     "output_type": "stream",
     "text": [
      "     50/150      3.47G     0.6973     0.6081     0.9205         28        640: 100%|██████████| 4/4 [00:01<00:00,  3.30it/s]\n",
      "                 Class     Images  Instances      Box(P          R      mAP50  mAP50-95): 100%|██████████| 1/1 [00:00<00:00, 11.41it/s]"
     ]
    },
    {
     "name": "stdout",
     "output_type": "stream",
     "text": [
      "                   all         10         31       0.88      0.287      0.331      0.285\n"
     ]
    },
    {
     "name": "stderr",
     "output_type": "stream",
     "text": [
      "\n"
     ]
    },
    {
     "name": "stdout",
     "output_type": "stream",
     "text": [
      "\n",
      "      Epoch    GPU_mem   box_loss   cls_loss   dfl_loss  Instances       Size\n"
     ]
    },
    {
     "name": "stderr",
     "output_type": "stream",
     "text": [
      "     51/150      3.47G     0.6817     0.5396     0.9102         44        640: 100%|██████████| 4/4 [00:01<00:00,  3.29it/s]\n",
      "                 Class     Images  Instances      Box(P          R      mAP50  mAP50-95): 100%|██████████| 1/1 [00:00<00:00, 11.29it/s]"
     ]
    },
    {
     "name": "stdout",
     "output_type": "stream",
     "text": [
      "                   all         10         31      0.967       0.25      0.293       0.25\n"
     ]
    },
    {
     "name": "stderr",
     "output_type": "stream",
     "text": [
      "\n"
     ]
    },
    {
     "name": "stdout",
     "output_type": "stream",
     "text": [
      "\n",
      "      Epoch    GPU_mem   box_loss   cls_loss   dfl_loss  Instances       Size\n"
     ]
    },
    {
     "name": "stderr",
     "output_type": "stream",
     "text": [
      "     52/150       3.5G     0.6053     0.4944     0.9114         27        640: 100%|██████████| 4/4 [00:01<00:00,  3.29it/s]\n",
      "                 Class     Images  Instances      Box(P          R      mAP50  mAP50-95): 100%|██████████| 1/1 [00:00<00:00, 11.68it/s]"
     ]
    },
    {
     "name": "stdout",
     "output_type": "stream",
     "text": [
      "                   all         10         31      0.975       0.25      0.261       0.22\n"
     ]
    },
    {
     "name": "stderr",
     "output_type": "stream",
     "text": [
      "\n"
     ]
    },
    {
     "name": "stdout",
     "output_type": "stream",
     "text": [
      "\n",
      "      Epoch    GPU_mem   box_loss   cls_loss   dfl_loss  Instances       Size\n"
     ]
    },
    {
     "name": "stderr",
     "output_type": "stream",
     "text": [
      "     53/150      3.48G     0.6411     0.5627     0.8858         69        640: 100%|██████████| 4/4 [00:01<00:00,  3.32it/s]\n",
      "                 Class     Images  Instances      Box(P          R      mAP50  mAP50-95): 100%|██████████| 1/1 [00:00<00:00, 11.34it/s]"
     ]
    },
    {
     "name": "stdout",
     "output_type": "stream",
     "text": [
      "                   all         10         31      0.975       0.25      0.261       0.22\n"
     ]
    },
    {
     "name": "stderr",
     "output_type": "stream",
     "text": [
      "\n"
     ]
    },
    {
     "name": "stdout",
     "output_type": "stream",
     "text": [
      "\n",
      "      Epoch    GPU_mem   box_loss   cls_loss   dfl_loss  Instances       Size\n"
     ]
    },
    {
     "name": "stderr",
     "output_type": "stream",
     "text": [
      "     54/150      3.39G      0.634     0.5382     0.8972         46        640: 100%|██████████| 4/4 [00:01<00:00,  3.30it/s]\n",
      "                 Class     Images  Instances      Box(P          R      mAP50  mAP50-95): 100%|██████████| 1/1 [00:00<00:00, 11.34it/s]"
     ]
    },
    {
     "name": "stdout",
     "output_type": "stream",
     "text": [
      "                   all         10         31      0.825      0.287      0.414      0.328\n"
     ]
    },
    {
     "name": "stderr",
     "output_type": "stream",
     "text": [
      "\n"
     ]
    },
    {
     "name": "stdout",
     "output_type": "stream",
     "text": [
      "\n",
      "      Epoch    GPU_mem   box_loss   cls_loss   dfl_loss  Instances       Size\n"
     ]
    },
    {
     "name": "stderr",
     "output_type": "stream",
     "text": [
      "     55/150      3.49G     0.5934     0.4677     0.8709         35        640: 100%|██████████| 4/4 [00:01<00:00,  3.28it/s]\n",
      "                 Class     Images  Instances      Box(P          R      mAP50  mAP50-95): 100%|██████████| 1/1 [00:00<00:00, 11.49it/s]"
     ]
    },
    {
     "name": "stdout",
     "output_type": "stream",
     "text": [
      "                   all         10         31      0.763      0.329      0.443      0.362\n"
     ]
    },
    {
     "name": "stderr",
     "output_type": "stream",
     "text": [
      "\n"
     ]
    },
    {
     "name": "stdout",
     "output_type": "stream",
     "text": [
      "\n",
      "      Epoch    GPU_mem   box_loss   cls_loss   dfl_loss  Instances       Size\n"
     ]
    },
    {
     "name": "stderr",
     "output_type": "stream",
     "text": [
      "     56/150      3.47G     0.5396      0.446      0.861         38        640: 100%|██████████| 4/4 [00:01<00:00,  3.28it/s]\n",
      "                 Class     Images  Instances      Box(P          R      mAP50  mAP50-95): 100%|██████████| 1/1 [00:00<00:00, 11.21it/s]"
     ]
    },
    {
     "name": "stdout",
     "output_type": "stream",
     "text": [
      "                   all         10         31      0.903       0.38      0.473      0.335\n"
     ]
    },
    {
     "name": "stderr",
     "output_type": "stream",
     "text": [
      "\n"
     ]
    },
    {
     "name": "stdout",
     "output_type": "stream",
     "text": [
      "\n",
      "      Epoch    GPU_mem   box_loss   cls_loss   dfl_loss  Instances       Size\n"
     ]
    },
    {
     "name": "stderr",
     "output_type": "stream",
     "text": [
      "     57/150       3.5G     0.6555     0.4834     0.8942         56        640: 100%|██████████| 4/4 [00:01<00:00,  3.27it/s]\n",
      "                 Class     Images  Instances      Box(P          R      mAP50  mAP50-95): 100%|██████████| 1/1 [00:00<00:00, 11.57it/s]"
     ]
    },
    {
     "name": "stdout",
     "output_type": "stream",
     "text": [
      "                   all         10         31      0.834      0.398      0.513      0.358\n"
     ]
    },
    {
     "name": "stderr",
     "output_type": "stream",
     "text": [
      "\n"
     ]
    },
    {
     "name": "stdout",
     "output_type": "stream",
     "text": [
      "\n",
      "      Epoch    GPU_mem   box_loss   cls_loss   dfl_loss  Instances       Size\n"
     ]
    },
    {
     "name": "stderr",
     "output_type": "stream",
     "text": [
      "     58/150      3.48G     0.6083     0.4938     0.8698         39        640: 100%|██████████| 4/4 [00:01<00:00,  3.31it/s]\n",
      "                 Class     Images  Instances      Box(P          R      mAP50  mAP50-95): 100%|██████████| 1/1 [00:00<00:00, 11.24it/s]"
     ]
    },
    {
     "name": "stdout",
     "output_type": "stream",
     "text": [
      "                   all         10         31      0.834      0.398      0.513      0.358\n"
     ]
    },
    {
     "name": "stderr",
     "output_type": "stream",
     "text": [
      "\n"
     ]
    },
    {
     "name": "stdout",
     "output_type": "stream",
     "text": [
      "\n",
      "      Epoch    GPU_mem   box_loss   cls_loss   dfl_loss  Instances       Size\n"
     ]
    },
    {
     "name": "stderr",
     "output_type": "stream",
     "text": [
      "     59/150       3.5G     0.6096     0.4898     0.9013         37        640: 100%|██████████| 4/4 [00:01<00:00,  3.28it/s]\n",
      "                 Class     Images  Instances      Box(P          R      mAP50  mAP50-95): 100%|██████████| 1/1 [00:00<00:00, 11.01it/s]"
     ]
    },
    {
     "name": "stdout",
     "output_type": "stream",
     "text": [
      "                   all         10         31      0.833      0.447      0.575      0.431\n"
     ]
    },
    {
     "name": "stderr",
     "output_type": "stream",
     "text": [
      "\n"
     ]
    },
    {
     "name": "stdout",
     "output_type": "stream",
     "text": [
      "\n",
      "      Epoch    GPU_mem   box_loss   cls_loss   dfl_loss  Instances       Size\n"
     ]
    },
    {
     "name": "stderr",
     "output_type": "stream",
     "text": [
      "     60/150       3.5G      0.562     0.4691     0.8729         28        640: 100%|██████████| 4/4 [00:01<00:00,  3.26it/s]\n",
      "                 Class     Images  Instances      Box(P          R      mAP50  mAP50-95): 100%|██████████| 1/1 [00:00<00:00, 10.74it/s]"
     ]
    },
    {
     "name": "stdout",
     "output_type": "stream",
     "text": [
      "                   all         10         31      0.801      0.463      0.582      0.448\n"
     ]
    },
    {
     "name": "stderr",
     "output_type": "stream",
     "text": [
      "\n"
     ]
    },
    {
     "name": "stdout",
     "output_type": "stream",
     "text": [
      "\n",
      "      Epoch    GPU_mem   box_loss   cls_loss   dfl_loss  Instances       Size\n"
     ]
    },
    {
     "name": "stderr",
     "output_type": "stream",
     "text": [
      "     61/150      3.47G     0.5976     0.5004     0.8928         38        640: 100%|██████████| 4/4 [00:01<00:00,  3.28it/s]\n",
      "                 Class     Images  Instances      Box(P          R      mAP50  mAP50-95): 100%|██████████| 1/1 [00:00<00:00, 11.16it/s]"
     ]
    },
    {
     "name": "stdout",
     "output_type": "stream",
     "text": [
      "                   all         10         31      0.695      0.491      0.546      0.428\n"
     ]
    },
    {
     "name": "stderr",
     "output_type": "stream",
     "text": [
      "\n"
     ]
    },
    {
     "name": "stdout",
     "output_type": "stream",
     "text": [
      "\n",
      "      Epoch    GPU_mem   box_loss   cls_loss   dfl_loss  Instances       Size\n"
     ]
    },
    {
     "name": "stderr",
     "output_type": "stream",
     "text": [
      "     62/150       3.5G      0.566     0.4641     0.8799         47        640: 100%|██████████| 4/4 [00:01<00:00,  3.25it/s]\n",
      "                 Class     Images  Instances      Box(P          R      mAP50  mAP50-95): 100%|██████████| 1/1 [00:00<00:00, 11.46it/s]"
     ]
    },
    {
     "name": "stdout",
     "output_type": "stream",
     "text": [
      "                   all         10         31       0.65      0.565       0.54      0.447\n"
     ]
    },
    {
     "name": "stderr",
     "output_type": "stream",
     "text": [
      "\n"
     ]
    },
    {
     "name": "stdout",
     "output_type": "stream",
     "text": [
      "\n",
      "      Epoch    GPU_mem   box_loss   cls_loss   dfl_loss  Instances       Size\n"
     ]
    },
    {
     "name": "stderr",
     "output_type": "stream",
     "text": [
      "     63/150      3.48G     0.5666     0.4467     0.8851         43        640: 100%|██████████| 4/4 [00:01<00:00,  3.29it/s]\n",
      "                 Class     Images  Instances      Box(P          R      mAP50  mAP50-95): 100%|██████████| 1/1 [00:00<00:00, 10.99it/s]"
     ]
    },
    {
     "name": "stdout",
     "output_type": "stream",
     "text": [
      "                   all         10         31       0.65      0.565       0.54      0.447\n"
     ]
    },
    {
     "name": "stderr",
     "output_type": "stream",
     "text": [
      "\n"
     ]
    },
    {
     "name": "stdout",
     "output_type": "stream",
     "text": [
      "\n",
      "      Epoch    GPU_mem   box_loss   cls_loss   dfl_loss  Instances       Size\n"
     ]
    },
    {
     "name": "stderr",
     "output_type": "stream",
     "text": [
      "     64/150      3.51G     0.6214     0.5288     0.8982         50        640: 100%|██████████| 4/4 [00:01<00:00,  3.24it/s]\n",
      "                 Class     Images  Instances      Box(P          R      mAP50  mAP50-95): 100%|██████████| 1/1 [00:00<00:00, 11.00it/s]"
     ]
    },
    {
     "name": "stdout",
     "output_type": "stream",
     "text": [
      "                   all         10         31      0.747      0.504      0.531      0.446\n"
     ]
    },
    {
     "name": "stderr",
     "output_type": "stream",
     "text": [
      "\n"
     ]
    },
    {
     "name": "stdout",
     "output_type": "stream",
     "text": [
      "\n",
      "      Epoch    GPU_mem   box_loss   cls_loss   dfl_loss  Instances       Size\n"
     ]
    },
    {
     "name": "stderr",
     "output_type": "stream",
     "text": [
      "     65/150       3.5G     0.5964     0.4516     0.9029         31        640: 100%|██████████| 4/4 [00:01<00:00,  3.26it/s]\n",
      "                 Class     Images  Instances      Box(P          R      mAP50  mAP50-95): 100%|██████████| 1/1 [00:00<00:00, 11.26it/s]"
     ]
    },
    {
     "name": "stdout",
     "output_type": "stream",
     "text": [
      "                   all         10         31      0.657      0.528      0.525      0.439\n"
     ]
    },
    {
     "name": "stderr",
     "output_type": "stream",
     "text": [
      "\n"
     ]
    },
    {
     "name": "stdout",
     "output_type": "stream",
     "text": [
      "\n",
      "      Epoch    GPU_mem   box_loss   cls_loss   dfl_loss  Instances       Size\n"
     ]
    },
    {
     "name": "stderr",
     "output_type": "stream",
     "text": [
      "     66/150      3.51G     0.5344     0.4264     0.8465         42        640: 100%|██████████| 4/4 [00:01<00:00,  2.71it/s]\n",
      "                 Class     Images  Instances      Box(P          R      mAP50  mAP50-95): 100%|██████████| 1/1 [00:00<00:00,  8.97it/s]"
     ]
    },
    {
     "name": "stdout",
     "output_type": "stream",
     "text": [
      "                   all         10         31       0.65      0.491      0.532      0.428\n"
     ]
    },
    {
     "name": "stderr",
     "output_type": "stream",
     "text": [
      "\n"
     ]
    },
    {
     "name": "stdout",
     "output_type": "stream",
     "text": [
      "\n",
      "      Epoch    GPU_mem   box_loss   cls_loss   dfl_loss  Instances       Size\n"
     ]
    },
    {
     "name": "stderr",
     "output_type": "stream",
     "text": [
      "     67/150       3.5G     0.5374     0.4234     0.8773         32        640: 100%|██████████| 4/4 [00:01<00:00,  3.04it/s]\n",
      "                 Class     Images  Instances      Box(P          R      mAP50  mAP50-95): 100%|██████████| 1/1 [00:00<00:00, 10.24it/s]"
     ]
    },
    {
     "name": "stdout",
     "output_type": "stream",
     "text": [
      "                   all         10         31       0.78      0.483      0.573      0.419\n"
     ]
    },
    {
     "name": "stderr",
     "output_type": "stream",
     "text": [
      "\n"
     ]
    },
    {
     "name": "stdout",
     "output_type": "stream",
     "text": [
      "\n",
      "      Epoch    GPU_mem   box_loss   cls_loss   dfl_loss  Instances       Size\n"
     ]
    },
    {
     "name": "stderr",
     "output_type": "stream",
     "text": [
      "     68/150      3.48G     0.5646     0.4513     0.8733         30        640: 100%|██████████| 4/4 [00:01<00:00,  2.91it/s]\n",
      "                 Class     Images  Instances      Box(P          R      mAP50  mAP50-95): 100%|██████████| 1/1 [00:00<00:00,  9.83it/s]"
     ]
    },
    {
     "name": "stdout",
     "output_type": "stream",
     "text": [
      "                   all         10         31       0.78      0.483      0.573      0.419\n"
     ]
    },
    {
     "name": "stderr",
     "output_type": "stream",
     "text": [
      "\n"
     ]
    },
    {
     "name": "stdout",
     "output_type": "stream",
     "text": [
      "\n",
      "      Epoch    GPU_mem   box_loss   cls_loss   dfl_loss  Instances       Size\n"
     ]
    },
    {
     "name": "stderr",
     "output_type": "stream",
     "text": [
      "     69/150      3.47G     0.5509     0.4281     0.8606         39        640: 100%|██████████| 4/4 [00:01<00:00,  2.87it/s]\n",
      "                 Class     Images  Instances      Box(P          R      mAP50  mAP50-95): 100%|██████████| 1/1 [00:00<00:00,  9.71it/s]"
     ]
    },
    {
     "name": "stdout",
     "output_type": "stream",
     "text": [
      "                   all         10         31      0.686      0.559      0.605      0.427\n"
     ]
    },
    {
     "name": "stderr",
     "output_type": "stream",
     "text": [
      "\n"
     ]
    },
    {
     "name": "stdout",
     "output_type": "stream",
     "text": [
      "\n",
      "      Epoch    GPU_mem   box_loss   cls_loss   dfl_loss  Instances       Size\n"
     ]
    },
    {
     "name": "stderr",
     "output_type": "stream",
     "text": [
      "     70/150      3.47G       0.53     0.4278     0.8584         39        640: 100%|██████████| 4/4 [00:01<00:00,  2.73it/s]\n",
      "                 Class     Images  Instances      Box(P          R      mAP50  mAP50-95): 100%|██████████| 1/1 [00:00<00:00,  8.58it/s]"
     ]
    },
    {
     "name": "stdout",
     "output_type": "stream",
     "text": [
      "                   all         10         31      0.638      0.546      0.593      0.428\n"
     ]
    },
    {
     "name": "stderr",
     "output_type": "stream",
     "text": [
      "\n"
     ]
    },
    {
     "name": "stdout",
     "output_type": "stream",
     "text": [
      "\n",
      "      Epoch    GPU_mem   box_loss   cls_loss   dfl_loss  Instances       Size\n"
     ]
    },
    {
     "name": "stderr",
     "output_type": "stream",
     "text": [
      "     71/150       3.4G     0.5105       0.44     0.8812         29        640: 100%|██████████| 4/4 [00:01<00:00,  2.95it/s]\n",
      "                 Class     Images  Instances      Box(P          R      mAP50  mAP50-95): 100%|██████████| 1/1 [00:00<00:00,  9.43it/s]"
     ]
    },
    {
     "name": "stdout",
     "output_type": "stream",
     "text": [
      "                   all         10         31      0.584      0.558      0.589      0.426\n"
     ]
    },
    {
     "name": "stderr",
     "output_type": "stream",
     "text": [
      "\n"
     ]
    },
    {
     "name": "stdout",
     "output_type": "stream",
     "text": [
      "\n",
      "      Epoch    GPU_mem   box_loss   cls_loss   dfl_loss  Instances       Size\n"
     ]
    },
    {
     "name": "stderr",
     "output_type": "stream",
     "text": [
      "     72/150       3.5G     0.4938     0.4219     0.8593         46        640: 100%|██████████| 4/4 [00:01<00:00,  2.79it/s]\n",
      "                 Class     Images  Instances      Box(P          R      mAP50  mAP50-95): 100%|██████████| 1/1 [00:00<00:00,  9.62it/s]"
     ]
    },
    {
     "name": "stdout",
     "output_type": "stream",
     "text": [
      "                   all         10         31      0.565      0.507      0.586      0.439\n"
     ]
    },
    {
     "name": "stderr",
     "output_type": "stream",
     "text": [
      "\n"
     ]
    },
    {
     "name": "stdout",
     "output_type": "stream",
     "text": [
      "\n",
      "      Epoch    GPU_mem   box_loss   cls_loss   dfl_loss  Instances       Size\n"
     ]
    },
    {
     "name": "stderr",
     "output_type": "stream",
     "text": [
      "     73/150      3.47G      0.554     0.4595     0.8721         36        640: 100%|██████████| 4/4 [00:01<00:00,  2.75it/s]\n",
      "                 Class     Images  Instances      Box(P          R      mAP50  mAP50-95): 100%|██████████| 1/1 [00:00<00:00,  8.43it/s]"
     ]
    },
    {
     "name": "stdout",
     "output_type": "stream",
     "text": [
      "                   all         10         31      0.565      0.507      0.586      0.439\n"
     ]
    },
    {
     "name": "stderr",
     "output_type": "stream",
     "text": [
      "\n"
     ]
    },
    {
     "name": "stdout",
     "output_type": "stream",
     "text": [
      "\n",
      "      Epoch    GPU_mem   box_loss   cls_loss   dfl_loss  Instances       Size\n"
     ]
    },
    {
     "name": "stderr",
     "output_type": "stream",
     "text": [
      "     74/150      3.51G     0.5327     0.4266     0.8523         33        640: 100%|██████████| 4/4 [00:01<00:00,  2.69it/s]\n",
      "                 Class     Images  Instances      Box(P          R      mAP50  mAP50-95): 100%|██████████| 1/1 [00:00<00:00,  8.42it/s]"
     ]
    },
    {
     "name": "stdout",
     "output_type": "stream",
     "text": [
      "                   all         10         31      0.597      0.407      0.557      0.437\n"
     ]
    },
    {
     "name": "stderr",
     "output_type": "stream",
     "text": [
      "\n"
     ]
    },
    {
     "name": "stdout",
     "output_type": "stream",
     "text": [
      "\n",
      "      Epoch    GPU_mem   box_loss   cls_loss   dfl_loss  Instances       Size\n"
     ]
    },
    {
     "name": "stderr",
     "output_type": "stream",
     "text": [
      "     75/150      3.39G     0.5479     0.4375     0.8752         36        640: 100%|██████████| 4/4 [00:01<00:00,  2.55it/s]\n",
      "                 Class     Images  Instances      Box(P          R      mAP50  mAP50-95): 100%|██████████| 1/1 [00:00<00:00,  8.49it/s]"
     ]
    },
    {
     "name": "stdout",
     "output_type": "stream",
     "text": [
      "                   all         10         31       0.56      0.429      0.532      0.422\n"
     ]
    },
    {
     "name": "stderr",
     "output_type": "stream",
     "text": [
      "\n"
     ]
    },
    {
     "name": "stdout",
     "output_type": "stream",
     "text": [
      "\n",
      "      Epoch    GPU_mem   box_loss   cls_loss   dfl_loss  Instances       Size\n"
     ]
    },
    {
     "name": "stderr",
     "output_type": "stream",
     "text": [
      "     76/150      3.47G     0.5097     0.4312      0.884         26        640: 100%|██████████| 4/4 [00:01<00:00,  2.65it/s]\n",
      "                 Class     Images  Instances      Box(P          R      mAP50  mAP50-95): 100%|██████████| 1/1 [00:00<00:00,  8.48it/s]"
     ]
    },
    {
     "name": "stdout",
     "output_type": "stream",
     "text": [
      "                   all         10         31      0.545      0.499      0.563      0.415\n"
     ]
    },
    {
     "name": "stderr",
     "output_type": "stream",
     "text": [
      "\n"
     ]
    },
    {
     "name": "stdout",
     "output_type": "stream",
     "text": [
      "\n",
      "      Epoch    GPU_mem   box_loss   cls_loss   dfl_loss  Instances       Size\n"
     ]
    },
    {
     "name": "stderr",
     "output_type": "stream",
     "text": [
      "     77/150       3.5G     0.5248     0.4535     0.8705         34        640: 100%|██████████| 4/4 [00:01<00:00,  2.59it/s]\n",
      "                 Class     Images  Instances      Box(P          R      mAP50  mAP50-95): 100%|██████████| 1/1 [00:00<00:00,  8.40it/s]"
     ]
    },
    {
     "name": "stdout",
     "output_type": "stream",
     "text": [
      "                   all         10         31      0.383      0.546      0.512      0.387\n"
     ]
    },
    {
     "name": "stderr",
     "output_type": "stream",
     "text": [
      "\n"
     ]
    },
    {
     "name": "stdout",
     "output_type": "stream",
     "text": [
      "\n",
      "      Epoch    GPU_mem   box_loss   cls_loss   dfl_loss  Instances       Size\n"
     ]
    },
    {
     "name": "stderr",
     "output_type": "stream",
     "text": [
      "     78/150      3.46G     0.5102     0.4076     0.8764         41        640: 100%|██████████| 4/4 [00:01<00:00,  2.65it/s]\n",
      "                 Class     Images  Instances      Box(P          R      mAP50  mAP50-95): 100%|██████████| 1/1 [00:00<00:00,  8.41it/s]"
     ]
    },
    {
     "name": "stdout",
     "output_type": "stream",
     "text": [
      "                   all         10         31      0.383      0.546      0.512      0.387\n"
     ]
    },
    {
     "name": "stderr",
     "output_type": "stream",
     "text": [
      "\n"
     ]
    },
    {
     "name": "stdout",
     "output_type": "stream",
     "text": [
      "\n",
      "      Epoch    GPU_mem   box_loss   cls_loss   dfl_loss  Instances       Size\n"
     ]
    },
    {
     "name": "stderr",
     "output_type": "stream",
     "text": [
      "     79/150      3.51G     0.5154     0.4396     0.8785         31        640: 100%|██████████| 4/4 [00:01<00:00,  2.64it/s]\n",
      "                 Class     Images  Instances      Box(P          R      mAP50  mAP50-95): 100%|██████████| 1/1 [00:00<00:00,  8.46it/s]"
     ]
    },
    {
     "name": "stdout",
     "output_type": "stream",
     "text": [
      "                   all         10         31      0.379      0.454      0.427      0.288\n"
     ]
    },
    {
     "name": "stderr",
     "output_type": "stream",
     "text": [
      "\n"
     ]
    },
    {
     "name": "stdout",
     "output_type": "stream",
     "text": [
      "\n",
      "      Epoch    GPU_mem   box_loss   cls_loss   dfl_loss  Instances       Size\n"
     ]
    },
    {
     "name": "stderr",
     "output_type": "stream",
     "text": [
      "     80/150      3.48G     0.5281     0.4226     0.8548         34        640: 100%|██████████| 4/4 [00:01<00:00,  2.56it/s]\n",
      "                 Class     Images  Instances      Box(P          R      mAP50  mAP50-95): 100%|██████████| 1/1 [00:00<00:00,  8.50it/s]"
     ]
    },
    {
     "name": "stdout",
     "output_type": "stream",
     "text": [
      "                   all         10         31       0.37      0.491      0.468      0.319\n"
     ]
    },
    {
     "name": "stderr",
     "output_type": "stream",
     "text": [
      "\n"
     ]
    },
    {
     "name": "stdout",
     "output_type": "stream",
     "text": [
      "\n",
      "      Epoch    GPU_mem   box_loss   cls_loss   dfl_loss  Instances       Size\n"
     ]
    },
    {
     "name": "stderr",
     "output_type": "stream",
     "text": [
      "     81/150      3.47G     0.5333     0.4641     0.8489         46        640: 100%|██████████| 4/4 [00:01<00:00,  2.52it/s]\n",
      "                 Class     Images  Instances      Box(P          R      mAP50  mAP50-95): 100%|██████████| 1/1 [00:00<00:00,  8.53it/s]"
     ]
    },
    {
     "name": "stdout",
     "output_type": "stream",
     "text": [
      "                   all         10         31      0.538      0.565      0.574      0.433\n"
     ]
    },
    {
     "name": "stderr",
     "output_type": "stream",
     "text": [
      "\n"
     ]
    },
    {
     "name": "stdout",
     "output_type": "stream",
     "text": [
      "\n",
      "      Epoch    GPU_mem   box_loss   cls_loss   dfl_loss  Instances       Size\n"
     ]
    },
    {
     "name": "stderr",
     "output_type": "stream",
     "text": [
      "     82/150       3.5G     0.5556     0.4395     0.8903         42        640: 100%|██████████| 4/4 [00:01<00:00,  2.52it/s]\n",
      "                 Class     Images  Instances      Box(P          R      mAP50  mAP50-95): 100%|██████████| 1/1 [00:00<00:00,  8.39it/s]"
     ]
    },
    {
     "name": "stdout",
     "output_type": "stream",
     "text": [
      "                   all         10         31      0.766      0.491      0.567      0.445\n"
     ]
    },
    {
     "name": "stderr",
     "output_type": "stream",
     "text": [
      "\n"
     ]
    },
    {
     "name": "stdout",
     "output_type": "stream",
     "text": [
      "\n",
      "      Epoch    GPU_mem   box_loss   cls_loss   dfl_loss  Instances       Size\n"
     ]
    },
    {
     "name": "stderr",
     "output_type": "stream",
     "text": [
      "     83/150      3.48G       0.48     0.4269     0.8428         48        640: 100%|██████████| 4/4 [00:01<00:00,  2.55it/s]\n",
      "                 Class     Images  Instances      Box(P          R      mAP50  mAP50-95): 100%|██████████| 1/1 [00:00<00:00,  8.30it/s]"
     ]
    },
    {
     "name": "stdout",
     "output_type": "stream",
     "text": [
      "                   all         10         31      0.766      0.491      0.567      0.445\n"
     ]
    },
    {
     "name": "stderr",
     "output_type": "stream",
     "text": [
      "\n"
     ]
    },
    {
     "name": "stdout",
     "output_type": "stream",
     "text": [
      "\n",
      "      Epoch    GPU_mem   box_loss   cls_loss   dfl_loss  Instances       Size\n"
     ]
    },
    {
     "name": "stderr",
     "output_type": "stream",
     "text": [
      "     84/150      3.48G     0.4796     0.4108     0.8531         40        640: 100%|██████████| 4/4 [00:01<00:00,  2.52it/s]\n",
      "                 Class     Images  Instances      Box(P          R      mAP50  mAP50-95): 100%|██████████| 1/1 [00:00<00:00,  8.50it/s]"
     ]
    },
    {
     "name": "stdout",
     "output_type": "stream",
     "text": [
      "                   all         10         31      0.794      0.472      0.553      0.444\n"
     ]
    },
    {
     "name": "stderr",
     "output_type": "stream",
     "text": [
      "\n"
     ]
    },
    {
     "name": "stdout",
     "output_type": "stream",
     "text": [
      "\n",
      "      Epoch    GPU_mem   box_loss   cls_loss   dfl_loss  Instances       Size\n"
     ]
    },
    {
     "name": "stderr",
     "output_type": "stream",
     "text": [
      "     85/150      3.47G     0.4664     0.3861     0.8663         28        640: 100%|██████████| 4/4 [00:01<00:00,  2.50it/s]\n",
      "                 Class     Images  Instances      Box(P          R      mAP50  mAP50-95): 100%|██████████| 1/1 [00:00<00:00,  8.48it/s]"
     ]
    },
    {
     "name": "stdout",
     "output_type": "stream",
     "text": [
      "                   all         10         31      0.808      0.436       0.53       0.43\n"
     ]
    },
    {
     "name": "stderr",
     "output_type": "stream",
     "text": [
      "\n"
     ]
    },
    {
     "name": "stdout",
     "output_type": "stream",
     "text": [
      "\n",
      "      Epoch    GPU_mem   box_loss   cls_loss   dfl_loss  Instances       Size\n"
     ]
    },
    {
     "name": "stderr",
     "output_type": "stream",
     "text": [
      "     86/150      3.49G     0.4956      0.368     0.8504         56        640: 100%|██████████| 4/4 [00:01<00:00,  2.51it/s]\n",
      "                 Class     Images  Instances      Box(P          R      mAP50  mAP50-95): 100%|██████████| 1/1 [00:00<00:00,  8.53it/s]"
     ]
    },
    {
     "name": "stdout",
     "output_type": "stream",
     "text": [
      "                   all         10         31      0.755      0.446       0.53      0.429\n"
     ]
    },
    {
     "name": "stderr",
     "output_type": "stream",
     "text": [
      "\n"
     ]
    },
    {
     "name": "stdout",
     "output_type": "stream",
     "text": [
      "\n",
      "      Epoch    GPU_mem   box_loss   cls_loss   dfl_loss  Instances       Size\n"
     ]
    },
    {
     "name": "stderr",
     "output_type": "stream",
     "text": [
      "     87/150       3.5G     0.4717     0.3663     0.8555         32        640: 100%|██████████| 4/4 [00:01<00:00,  2.52it/s]\n",
      "                 Class     Images  Instances      Box(P          R      mAP50  mAP50-95): 100%|██████████| 1/1 [00:00<00:00,  8.56it/s]"
     ]
    },
    {
     "name": "stdout",
     "output_type": "stream",
     "text": [
      "                   all         10         31      0.774      0.439       0.53      0.452\n"
     ]
    },
    {
     "name": "stderr",
     "output_type": "stream",
     "text": [
      "\n"
     ]
    },
    {
     "name": "stdout",
     "output_type": "stream",
     "text": [
      "\n",
      "      Epoch    GPU_mem   box_loss   cls_loss   dfl_loss  Instances       Size\n"
     ]
    },
    {
     "name": "stderr",
     "output_type": "stream",
     "text": [
      "     88/150      3.46G     0.4624     0.4115     0.8559         26        640: 100%|██████████| 4/4 [00:01<00:00,  2.54it/s]\n",
      "                 Class     Images  Instances      Box(P          R      mAP50  mAP50-95): 100%|██████████| 1/1 [00:00<00:00,  8.58it/s]"
     ]
    },
    {
     "name": "stdout",
     "output_type": "stream",
     "text": [
      "                   all         10         31      0.774      0.439       0.53      0.452\n"
     ]
    },
    {
     "name": "stderr",
     "output_type": "stream",
     "text": [
      "\n"
     ]
    },
    {
     "name": "stdout",
     "output_type": "stream",
     "text": [
      "\n",
      "      Epoch    GPU_mem   box_loss   cls_loss   dfl_loss  Instances       Size\n"
     ]
    },
    {
     "name": "stderr",
     "output_type": "stream",
     "text": [
      "     89/150       3.5G     0.4552     0.3754     0.8452         25        640: 100%|██████████| 4/4 [00:01<00:00,  2.51it/s]\n",
      "                 Class     Images  Instances      Box(P          R      mAP50  mAP50-95): 100%|██████████| 1/1 [00:00<00:00,  8.47it/s]"
     ]
    },
    {
     "name": "stdout",
     "output_type": "stream",
     "text": [
      "                   all         10         31       0.81      0.453      0.528      0.449\n"
     ]
    },
    {
     "name": "stderr",
     "output_type": "stream",
     "text": [
      "\n"
     ]
    },
    {
     "name": "stdout",
     "output_type": "stream",
     "text": [
      "\n",
      "      Epoch    GPU_mem   box_loss   cls_loss   dfl_loss  Instances       Size\n"
     ]
    },
    {
     "name": "stderr",
     "output_type": "stream",
     "text": [
      "     90/150       3.5G     0.4365     0.3461     0.8447         30        640: 100%|██████████| 4/4 [00:01<00:00,  2.51it/s]\n",
      "                 Class     Images  Instances      Box(P          R      mAP50  mAP50-95): 100%|██████████| 1/1 [00:00<00:00,  8.55it/s]"
     ]
    },
    {
     "name": "stdout",
     "output_type": "stream",
     "text": [
      "                   all         10         31      0.835      0.433      0.537      0.464\n"
     ]
    },
    {
     "name": "stderr",
     "output_type": "stream",
     "text": [
      "\n"
     ]
    },
    {
     "name": "stdout",
     "output_type": "stream",
     "text": [
      "\n",
      "      Epoch    GPU_mem   box_loss   cls_loss   dfl_loss  Instances       Size\n"
     ]
    },
    {
     "name": "stderr",
     "output_type": "stream",
     "text": [
      "     91/150       3.4G     0.4468     0.3542     0.8349         58        640: 100%|██████████| 4/4 [00:01<00:00,  2.51it/s]\n",
      "                 Class     Images  Instances      Box(P          R      mAP50  mAP50-95): 100%|██████████| 1/1 [00:00<00:00,  8.39it/s]"
     ]
    },
    {
     "name": "stdout",
     "output_type": "stream",
     "text": [
      "                   all         10         31      0.713      0.454      0.549      0.463\n"
     ]
    },
    {
     "name": "stderr",
     "output_type": "stream",
     "text": [
      "\n"
     ]
    },
    {
     "name": "stdout",
     "output_type": "stream",
     "text": [
      "\n",
      "      Epoch    GPU_mem   box_loss   cls_loss   dfl_loss  Instances       Size\n"
     ]
    },
    {
     "name": "stderr",
     "output_type": "stream",
     "text": [
      "     92/150      3.47G     0.4808     0.4525     0.8678         27        640: 100%|██████████| 4/4 [00:01<00:00,  2.50it/s]\n",
      "                 Class     Images  Instances      Box(P          R      mAP50  mAP50-95): 100%|██████████| 1/1 [00:00<00:00,  8.44it/s]"
     ]
    },
    {
     "name": "stdout",
     "output_type": "stream",
     "text": [
      "                   all         10         31        0.8      0.435      0.566      0.462\n"
     ]
    },
    {
     "name": "stderr",
     "output_type": "stream",
     "text": [
      "\n"
     ]
    },
    {
     "name": "stdout",
     "output_type": "stream",
     "text": [
      "\n",
      "      Epoch    GPU_mem   box_loss   cls_loss   dfl_loss  Instances       Size\n"
     ]
    },
    {
     "name": "stderr",
     "output_type": "stream",
     "text": [
      "     93/150      3.47G      0.447     0.3649     0.8718         30        640: 100%|██████████| 4/4 [00:01<00:00,  2.53it/s]\n",
      "                 Class     Images  Instances      Box(P          R      mAP50  mAP50-95): 100%|██████████| 1/1 [00:00<00:00,  8.44it/s]"
     ]
    },
    {
     "name": "stdout",
     "output_type": "stream",
     "text": [
      "                   all         10         31        0.8      0.435      0.566      0.462\n"
     ]
    },
    {
     "name": "stderr",
     "output_type": "stream",
     "text": [
      "\n"
     ]
    },
    {
     "name": "stdout",
     "output_type": "stream",
     "text": [
      "\n",
      "      Epoch    GPU_mem   box_loss   cls_loss   dfl_loss  Instances       Size\n"
     ]
    },
    {
     "name": "stderr",
     "output_type": "stream",
     "text": [
      "     94/150      3.51G     0.4906     0.4182     0.8741         35        640: 100%|██████████| 4/4 [00:01<00:00,  2.50it/s]\n",
      "                 Class     Images  Instances      Box(P          R      mAP50  mAP50-95): 100%|██████████| 1/1 [00:00<00:00,  8.45it/s]"
     ]
    },
    {
     "name": "stdout",
     "output_type": "stream",
     "text": [
      "                   all         10         31      0.836      0.435      0.577      0.468\n"
     ]
    },
    {
     "name": "stderr",
     "output_type": "stream",
     "text": [
      "\n"
     ]
    },
    {
     "name": "stdout",
     "output_type": "stream",
     "text": [
      "\n",
      "      Epoch    GPU_mem   box_loss   cls_loss   dfl_loss  Instances       Size\n"
     ]
    },
    {
     "name": "stderr",
     "output_type": "stream",
     "text": [
      "     95/150      3.39G     0.4648     0.4496     0.8685         37        640: 100%|██████████| 4/4 [00:01<00:00,  2.51it/s]\n",
      "                 Class     Images  Instances      Box(P          R      mAP50  mAP50-95): 100%|██████████| 1/1 [00:00<00:00,  8.45it/s]"
     ]
    },
    {
     "name": "stdout",
     "output_type": "stream",
     "text": [
      "                   all         10         31       0.78      0.472       0.58       0.44\n"
     ]
    },
    {
     "name": "stderr",
     "output_type": "stream",
     "text": [
      "\n"
     ]
    },
    {
     "name": "stdout",
     "output_type": "stream",
     "text": [
      "\n",
      "      Epoch    GPU_mem   box_loss   cls_loss   dfl_loss  Instances       Size\n"
     ]
    },
    {
     "name": "stderr",
     "output_type": "stream",
     "text": [
      "     96/150      3.51G     0.4267     0.3662     0.8345         38        640: 100%|██████████| 4/4 [00:01<00:00,  2.52it/s]\n",
      "                 Class     Images  Instances      Box(P          R      mAP50  mAP50-95): 100%|██████████| 1/1 [00:00<00:00,  8.55it/s]"
     ]
    },
    {
     "name": "stdout",
     "output_type": "stream",
     "text": [
      "                   all         10         31      0.812      0.485      0.614      0.449\n"
     ]
    },
    {
     "name": "stderr",
     "output_type": "stream",
     "text": [
      "\n"
     ]
    },
    {
     "name": "stdout",
     "output_type": "stream",
     "text": [
      "\n",
      "      Epoch    GPU_mem   box_loss   cls_loss   dfl_loss  Instances       Size\n"
     ]
    },
    {
     "name": "stderr",
     "output_type": "stream",
     "text": [
      "     97/150       3.5G     0.4357     0.3304     0.8254         54        640: 100%|██████████| 4/4 [00:01<00:00,  2.51it/s]\n",
      "                 Class     Images  Instances      Box(P          R      mAP50  mAP50-95): 100%|██████████| 1/1 [00:00<00:00,  8.35it/s]"
     ]
    },
    {
     "name": "stdout",
     "output_type": "stream",
     "text": [
      "                   all         10         31      0.774      0.509      0.598      0.441\n"
     ]
    },
    {
     "name": "stderr",
     "output_type": "stream",
     "text": [
      "\n"
     ]
    },
    {
     "name": "stdout",
     "output_type": "stream",
     "text": [
      "\n",
      "      Epoch    GPU_mem   box_loss   cls_loss   dfl_loss  Instances       Size\n"
     ]
    },
    {
     "name": "stderr",
     "output_type": "stream",
     "text": [
      "     98/150      3.48G     0.4637     0.4122     0.8474         24        640: 100%|██████████| 4/4 [00:01<00:00,  2.54it/s]\n",
      "                 Class     Images  Instances      Box(P          R      mAP50  mAP50-95): 100%|██████████| 1/1 [00:00<00:00,  8.52it/s]"
     ]
    },
    {
     "name": "stdout",
     "output_type": "stream",
     "text": [
      "                   all         10         31      0.774      0.509      0.598      0.441\n"
     ]
    },
    {
     "name": "stderr",
     "output_type": "stream",
     "text": [
      "\n"
     ]
    },
    {
     "name": "stdout",
     "output_type": "stream",
     "text": [
      "\n",
      "      Epoch    GPU_mem   box_loss   cls_loss   dfl_loss  Instances       Size\n"
     ]
    },
    {
     "name": "stderr",
     "output_type": "stream",
     "text": [
      "     99/150      3.47G     0.4801     0.4058     0.8559         40        640: 100%|██████████| 4/4 [00:01<00:00,  2.50it/s]\n",
      "                 Class     Images  Instances      Box(P          R      mAP50  mAP50-95): 100%|██████████| 1/1 [00:00<00:00,  8.45it/s]"
     ]
    },
    {
     "name": "stdout",
     "output_type": "stream",
     "text": [
      "                   all         10         31      0.835      0.509      0.591      0.444\n"
     ]
    },
    {
     "name": "stderr",
     "output_type": "stream",
     "text": [
      "\n"
     ]
    },
    {
     "name": "stdout",
     "output_type": "stream",
     "text": [
      "\n",
      "      Epoch    GPU_mem   box_loss   cls_loss   dfl_loss  Instances       Size\n"
     ]
    },
    {
     "name": "stderr",
     "output_type": "stream",
     "text": [
      "    100/150       3.5G     0.4589      0.388     0.8599         33        640: 100%|██████████| 4/4 [00:01<00:00,  2.52it/s]\n",
      "                 Class     Images  Instances      Box(P          R      mAP50  mAP50-95): 100%|██████████| 1/1 [00:00<00:00,  8.39it/s]"
     ]
    },
    {
     "name": "stdout",
     "output_type": "stream",
     "text": [
      "                   all         10         31      0.846      0.524      0.572      0.434\n"
     ]
    },
    {
     "name": "stderr",
     "output_type": "stream",
     "text": [
      "\n"
     ]
    },
    {
     "name": "stdout",
     "output_type": "stream",
     "text": [
      "\n",
      "      Epoch    GPU_mem   box_loss   cls_loss   dfl_loss  Instances       Size\n"
     ]
    },
    {
     "name": "stderr",
     "output_type": "stream",
     "text": [
      "    101/150       3.4G     0.4576     0.3752      0.848         35        640: 100%|██████████| 4/4 [00:01<00:00,  2.50it/s]\n",
      "                 Class     Images  Instances      Box(P          R      mAP50  mAP50-95): 100%|██████████| 1/1 [00:00<00:00,  8.47it/s]"
     ]
    },
    {
     "name": "stdout",
     "output_type": "stream",
     "text": [
      "                   all         10         31      0.863      0.509      0.569      0.451\n"
     ]
    },
    {
     "name": "stderr",
     "output_type": "stream",
     "text": [
      "\n"
     ]
    },
    {
     "name": "stdout",
     "output_type": "stream",
     "text": [
      "\n",
      "      Epoch    GPU_mem   box_loss   cls_loss   dfl_loss  Instances       Size\n"
     ]
    },
    {
     "name": "stderr",
     "output_type": "stream",
     "text": [
      "    102/150       3.5G     0.4269     0.3271     0.8376         34        640: 100%|██████████| 4/4 [00:01<00:00,  2.50it/s]\n",
      "                 Class     Images  Instances      Box(P          R      mAP50  mAP50-95): 100%|██████████| 1/1 [00:00<00:00,  8.45it/s]"
     ]
    },
    {
     "name": "stdout",
     "output_type": "stream",
     "text": [
      "                   all         10         31      0.802      0.509      0.571      0.434\n"
     ]
    },
    {
     "name": "stderr",
     "output_type": "stream",
     "text": [
      "\n"
     ]
    },
    {
     "name": "stdout",
     "output_type": "stream",
     "text": [
      "\n",
      "      Epoch    GPU_mem   box_loss   cls_loss   dfl_loss  Instances       Size\n"
     ]
    },
    {
     "name": "stderr",
     "output_type": "stream",
     "text": [
      "    103/150      3.45G     0.4129     0.3396      0.835         57        640: 100%|██████████| 4/4 [00:01<00:00,  2.54it/s]\n",
      "                 Class     Images  Instances      Box(P          R      mAP50  mAP50-95): 100%|██████████| 1/1 [00:00<00:00,  8.40it/s]"
     ]
    },
    {
     "name": "stdout",
     "output_type": "stream",
     "text": [
      "                   all         10         31      0.802      0.509      0.571      0.434\n"
     ]
    },
    {
     "name": "stderr",
     "output_type": "stream",
     "text": [
      "\n"
     ]
    },
    {
     "name": "stdout",
     "output_type": "stream",
     "text": [
      "\n",
      "      Epoch    GPU_mem   box_loss   cls_loss   dfl_loss  Instances       Size\n"
     ]
    },
    {
     "name": "stderr",
     "output_type": "stream",
     "text": [
      "    104/150       3.5G     0.4205     0.3377     0.8339         22        640: 100%|██████████| 4/4 [00:01<00:00,  2.52it/s]\n",
      "                 Class     Images  Instances      Box(P          R      mAP50  mAP50-95): 100%|██████████| 1/1 [00:00<00:00,  8.27it/s]"
     ]
    },
    {
     "name": "stdout",
     "output_type": "stream",
     "text": [
      "                   all         10         31      0.751      0.461      0.571      0.441\n"
     ]
    },
    {
     "name": "stderr",
     "output_type": "stream",
     "text": [
      "\n"
     ]
    },
    {
     "name": "stdout",
     "output_type": "stream",
     "text": [
      "\n",
      "      Epoch    GPU_mem   box_loss   cls_loss   dfl_loss  Instances       Size\n"
     ]
    },
    {
     "name": "stderr",
     "output_type": "stream",
     "text": [
      "    105/150      3.39G     0.4783     0.3537     0.8764         23        640: 100%|██████████| 4/4 [00:01<00:00,  2.51it/s]\n",
      "                 Class     Images  Instances      Box(P          R      mAP50  mAP50-95): 100%|██████████| 1/1 [00:00<00:00,  8.32it/s]"
     ]
    },
    {
     "name": "stdout",
     "output_type": "stream",
     "text": [
      "                   all         10         31        0.7      0.435      0.565      0.421\n"
     ]
    },
    {
     "name": "stderr",
     "output_type": "stream",
     "text": [
      "\n"
     ]
    },
    {
     "name": "stdout",
     "output_type": "stream",
     "text": [
      "\n",
      "      Epoch    GPU_mem   box_loss   cls_loss   dfl_loss  Instances       Size\n"
     ]
    },
    {
     "name": "stderr",
     "output_type": "stream",
     "text": [
      "    106/150       3.4G     0.4248     0.3691     0.8457         49        640: 100%|██████████| 4/4 [00:01<00:00,  2.51it/s]\n",
      "                 Class     Images  Instances      Box(P          R      mAP50  mAP50-95): 100%|██████████| 1/1 [00:00<00:00,  8.43it/s]"
     ]
    },
    {
     "name": "stdout",
     "output_type": "stream",
     "text": [
      "                   all         10         31      0.598       0.42      0.559      0.402\n"
     ]
    },
    {
     "name": "stderr",
     "output_type": "stream",
     "text": [
      "\n"
     ]
    },
    {
     "name": "stdout",
     "output_type": "stream",
     "text": [
      "\n",
      "      Epoch    GPU_mem   box_loss   cls_loss   dfl_loss  Instances       Size\n"
     ]
    },
    {
     "name": "stderr",
     "output_type": "stream",
     "text": [
      "    107/150       3.4G     0.4202     0.3454     0.8682         52        640: 100%|██████████| 4/4 [00:01<00:00,  2.51it/s]\n",
      "                 Class     Images  Instances      Box(P          R      mAP50  mAP50-95): 100%|██████████| 1/1 [00:00<00:00,  8.40it/s]"
     ]
    },
    {
     "name": "stdout",
     "output_type": "stream",
     "text": [
      "                   all         10         31      0.889      0.328      0.561      0.428\n"
     ]
    },
    {
     "name": "stderr",
     "output_type": "stream",
     "text": [
      "\n"
     ]
    },
    {
     "name": "stdout",
     "output_type": "stream",
     "text": [
      "\n",
      "      Epoch    GPU_mem   box_loss   cls_loss   dfl_loss  Instances       Size\n"
     ]
    },
    {
     "name": "stderr",
     "output_type": "stream",
     "text": [
      "    108/150      3.48G     0.4204     0.3409     0.8404         45        640: 100%|██████████| 4/4 [00:01<00:00,  2.54it/s]\n",
      "                 Class     Images  Instances      Box(P          R      mAP50  mAP50-95): 100%|██████████| 1/1 [00:00<00:00,  8.49it/s]"
     ]
    },
    {
     "name": "stdout",
     "output_type": "stream",
     "text": [
      "                   all         10         31      0.889      0.328      0.561      0.428\n"
     ]
    },
    {
     "name": "stderr",
     "output_type": "stream",
     "text": [
      "\n"
     ]
    },
    {
     "name": "stdout",
     "output_type": "stream",
     "text": [
      "\n",
      "      Epoch    GPU_mem   box_loss   cls_loss   dfl_loss  Instances       Size\n"
     ]
    },
    {
     "name": "stderr",
     "output_type": "stream",
     "text": [
      "    109/150      3.48G      0.408     0.3256      0.817         31        640: 100%|██████████| 4/4 [00:01<00:00,  2.51it/s]\n",
      "                 Class     Images  Instances      Box(P          R      mAP50  mAP50-95): 100%|██████████| 1/1 [00:00<00:00,  8.47it/s]"
     ]
    },
    {
     "name": "stdout",
     "output_type": "stream",
     "text": [
      "                   all         10         31       0.93      0.328       0.56      0.421\n"
     ]
    },
    {
     "name": "stderr",
     "output_type": "stream",
     "text": [
      "\n"
     ]
    },
    {
     "name": "stdout",
     "output_type": "stream",
     "text": [
      "\n",
      "      Epoch    GPU_mem   box_loss   cls_loss   dfl_loss  Instances       Size\n"
     ]
    },
    {
     "name": "stderr",
     "output_type": "stream",
     "text": [
      "    110/150      3.47G     0.4246     0.3415     0.8488         33        640: 100%|██████████| 4/4 [00:01<00:00,  2.51it/s]\n",
      "                 Class     Images  Instances      Box(P          R      mAP50  mAP50-95): 100%|██████████| 1/1 [00:00<00:00,  8.45it/s]"
     ]
    },
    {
     "name": "stdout",
     "output_type": "stream",
     "text": [
      "                   all         10         31      0.822       0.38      0.559      0.417\n"
     ]
    },
    {
     "name": "stderr",
     "output_type": "stream",
     "text": [
      "\n"
     ]
    },
    {
     "name": "stdout",
     "output_type": "stream",
     "text": [
      "\n",
      "      Epoch    GPU_mem   box_loss   cls_loss   dfl_loss  Instances       Size\n"
     ]
    },
    {
     "name": "stderr",
     "output_type": "stream",
     "text": [
      "    111/150      3.47G     0.3892     0.3339     0.8216         35        640: 100%|██████████| 4/4 [00:01<00:00,  2.51it/s]\n",
      "                 Class     Images  Instances      Box(P          R      mAP50  mAP50-95): 100%|██████████| 1/1 [00:00<00:00,  8.44it/s]"
     ]
    },
    {
     "name": "stdout",
     "output_type": "stream",
     "text": [
      "                   all         10         31      0.684      0.456      0.574      0.433\n"
     ]
    },
    {
     "name": "stderr",
     "output_type": "stream",
     "text": [
      "\n"
     ]
    },
    {
     "name": "stdout",
     "output_type": "stream",
     "text": [
      "\n",
      "      Epoch    GPU_mem   box_loss   cls_loss   dfl_loss  Instances       Size\n"
     ]
    },
    {
     "name": "stderr",
     "output_type": "stream",
     "text": [
      "    112/150       3.5G     0.4877      0.365     0.8769         40        640: 100%|██████████| 4/4 [00:01<00:00,  2.50it/s]\n",
      "                 Class     Images  Instances      Box(P          R      mAP50  mAP50-95): 100%|██████████| 1/1 [00:00<00:00,  3.37it/s]"
     ]
    },
    {
     "name": "stdout",
     "output_type": "stream",
     "text": [
      "                   all         10         31      0.712      0.462      0.581      0.446\n"
     ]
    },
    {
     "name": "stderr",
     "output_type": "stream",
     "text": [
      "\n"
     ]
    },
    {
     "name": "stdout",
     "output_type": "stream",
     "text": [
      "\n",
      "      Epoch    GPU_mem   box_loss   cls_loss   dfl_loss  Instances       Size\n"
     ]
    },
    {
     "name": "stderr",
     "output_type": "stream",
     "text": [
      "    113/150      3.48G     0.3996       0.32     0.8537         33        640: 100%|██████████| 4/4 [00:02<00:00,  1.35it/s]\n",
      "                 Class     Images  Instances      Box(P          R      mAP50  mAP50-95): 100%|██████████| 1/1 [00:00<00:00,  3.15it/s]"
     ]
    },
    {
     "name": "stdout",
     "output_type": "stream",
     "text": [
      "                   all         10         31      0.712      0.462      0.581      0.446\n"
     ]
    },
    {
     "name": "stderr",
     "output_type": "stream",
     "text": [
      "\n"
     ]
    },
    {
     "name": "stdout",
     "output_type": "stream",
     "text": [
      "\n",
      "      Epoch    GPU_mem   box_loss   cls_loss   dfl_loss  Instances       Size\n"
     ]
    },
    {
     "name": "stderr",
     "output_type": "stream",
     "text": [
      "    114/150      3.39G     0.3993     0.3449     0.8363         44        640: 100%|██████████| 4/4 [00:01<00:00,  2.51it/s]\n",
      "                 Class     Images  Instances      Box(P          R      mAP50  mAP50-95): 100%|██████████| 1/1 [00:00<00:00,  8.40it/s]"
     ]
    },
    {
     "name": "stdout",
     "output_type": "stream",
     "text": [
      "                   all         10         31      0.814      0.454      0.591      0.441\n"
     ]
    },
    {
     "name": "stderr",
     "output_type": "stream",
     "text": [
      "\n"
     ]
    },
    {
     "name": "stdout",
     "output_type": "stream",
     "text": [
      "\n",
      "      Epoch    GPU_mem   box_loss   cls_loss   dfl_loss  Instances       Size\n"
     ]
    },
    {
     "name": "stderr",
     "output_type": "stream",
     "text": [
      "    115/150      3.49G      0.433     0.3692       0.86         36        640: 100%|██████████| 4/4 [00:02<00:00,  1.89it/s]\n",
      "                 Class     Images  Instances      Box(P          R      mAP50  mAP50-95): 100%|██████████| 1/1 [00:00<00:00,  3.12it/s]"
     ]
    },
    {
     "name": "stdout",
     "output_type": "stream",
     "text": [
      "                   all         10         31      0.806      0.435        0.6      0.451\n"
     ]
    },
    {
     "name": "stderr",
     "output_type": "stream",
     "text": [
      "\n"
     ]
    },
    {
     "name": "stdout",
     "output_type": "stream",
     "text": [
      "\n",
      "      Epoch    GPU_mem   box_loss   cls_loss   dfl_loss  Instances       Size\n"
     ]
    },
    {
     "name": "stderr",
     "output_type": "stream",
     "text": [
      "    116/150      3.47G     0.3739     0.3455     0.8255         38        640: 100%|██████████| 4/4 [00:02<00:00,  1.83it/s]\n",
      "                 Class     Images  Instances      Box(P          R      mAP50  mAP50-95): 100%|██████████| 1/1 [00:00<00:00,  3.14it/s]"
     ]
    },
    {
     "name": "stdout",
     "output_type": "stream",
     "text": [
      "                   all         10         31       0.78      0.447      0.593      0.481\n"
     ]
    },
    {
     "name": "stderr",
     "output_type": "stream",
     "text": [
      "\n"
     ]
    },
    {
     "name": "stdout",
     "output_type": "stream",
     "text": [
      "\n",
      "      Epoch    GPU_mem   box_loss   cls_loss   dfl_loss  Instances       Size\n"
     ]
    },
    {
     "name": "stderr",
     "output_type": "stream",
     "text": [
      "    117/150       3.5G     0.4013     0.3129     0.8405         43        640: 100%|██████████| 4/4 [00:02<00:00,  1.73it/s]\n",
      "                 Class     Images  Instances      Box(P          R      mAP50  mAP50-95): 100%|██████████| 1/1 [00:00<00:00,  3.16it/s]"
     ]
    },
    {
     "name": "stdout",
     "output_type": "stream",
     "text": [
      "                   all         10         31      0.763       0.47      0.592      0.473\n"
     ]
    },
    {
     "name": "stderr",
     "output_type": "stream",
     "text": [
      "\n"
     ]
    },
    {
     "name": "stdout",
     "output_type": "stream",
     "text": [
      "\n",
      "      Epoch    GPU_mem   box_loss   cls_loss   dfl_loss  Instances       Size\n"
     ]
    },
    {
     "name": "stderr",
     "output_type": "stream",
     "text": [
      "    118/150      3.48G     0.4615     0.3416     0.8729         30        640: 100%|██████████| 4/4 [00:02<00:00,  1.77it/s]\n",
      "                 Class     Images  Instances      Box(P          R      mAP50  mAP50-95): 100%|██████████| 1/1 [00:00<00:00,  3.13it/s]"
     ]
    },
    {
     "name": "stdout",
     "output_type": "stream",
     "text": [
      "                   all         10         31      0.763       0.47      0.592      0.473\n"
     ]
    },
    {
     "name": "stderr",
     "output_type": "stream",
     "text": [
      "\n"
     ]
    },
    {
     "name": "stdout",
     "output_type": "stream",
     "text": [
      "\n",
      "      Epoch    GPU_mem   box_loss   cls_loss   dfl_loss  Instances       Size\n"
     ]
    },
    {
     "name": "stderr",
     "output_type": "stream",
     "text": [
      "    119/150      3.51G     0.4557     0.3381      0.864         52        640: 100%|██████████| 4/4 [00:01<00:00,  2.51it/s]\n",
      "                 Class     Images  Instances      Box(P          R      mAP50  mAP50-95): 100%|██████████| 1/1 [00:00<00:00,  8.50it/s]"
     ]
    },
    {
     "name": "stdout",
     "output_type": "stream",
     "text": [
      "                   all         10         31      0.808      0.485      0.579      0.473\n"
     ]
    },
    {
     "name": "stderr",
     "output_type": "stream",
     "text": [
      "\n"
     ]
    },
    {
     "name": "stdout",
     "output_type": "stream",
     "text": [
      "\n",
      "      Epoch    GPU_mem   box_loss   cls_loss   dfl_loss  Instances       Size\n"
     ]
    },
    {
     "name": "stderr",
     "output_type": "stream",
     "text": [
      "    120/150       3.5G      0.405     0.3475       0.85         39        640: 100%|██████████| 4/4 [00:01<00:00,  2.46it/s]\n",
      "                 Class     Images  Instances      Box(P          R      mAP50  mAP50-95): 100%|██████████| 1/1 [00:00<00:00,  3.13it/s]"
     ]
    },
    {
     "name": "stdout",
     "output_type": "stream",
     "text": [
      "                   all         10         31      0.822      0.491      0.588      0.502\n"
     ]
    },
    {
     "name": "stderr",
     "output_type": "stream",
     "text": [
      "\n"
     ]
    },
    {
     "name": "stdout",
     "output_type": "stream",
     "text": [
      "\n",
      "      Epoch    GPU_mem   box_loss   cls_loss   dfl_loss  Instances       Size\n"
     ]
    },
    {
     "name": "stderr",
     "output_type": "stream",
     "text": [
      "    121/150      3.47G     0.3536     0.2924     0.8049         28        640: 100%|██████████| 4/4 [00:02<00:00,  1.75it/s]\n",
      "                 Class     Images  Instances      Box(P          R      mAP50  mAP50-95): 100%|██████████| 1/1 [00:00<00:00,  3.12it/s]"
     ]
    },
    {
     "name": "stdout",
     "output_type": "stream",
     "text": [
      "                   all         10         31      0.785      0.504      0.581      0.496\n"
     ]
    },
    {
     "name": "stderr",
     "output_type": "stream",
     "text": [
      "\n"
     ]
    },
    {
     "name": "stdout",
     "output_type": "stream",
     "text": [
      "\n",
      "      Epoch    GPU_mem   box_loss   cls_loss   dfl_loss  Instances       Size\n"
     ]
    },
    {
     "name": "stderr",
     "output_type": "stream",
     "text": [
      "    122/150       3.5G     0.4887     0.3552      0.893         26        640: 100%|██████████| 4/4 [00:03<00:00,  1.29it/s]\n",
      "                 Class     Images  Instances      Box(P          R      mAP50  mAP50-95): 100%|██████████| 1/1 [00:00<00:00,  3.12it/s]"
     ]
    },
    {
     "name": "stdout",
     "output_type": "stream",
     "text": [
      "                   all         10         31      0.759      0.509      0.584      0.499\n"
     ]
    },
    {
     "name": "stderr",
     "output_type": "stream",
     "text": [
      "\n"
     ]
    },
    {
     "name": "stdout",
     "output_type": "stream",
     "text": [
      "\n",
      "      Epoch    GPU_mem   box_loss   cls_loss   dfl_loss  Instances       Size\n"
     ]
    },
    {
     "name": "stderr",
     "output_type": "stream",
     "text": [
      "    123/150      3.48G     0.4287     0.3196     0.8308         29        640: 100%|██████████| 4/4 [00:01<00:00,  2.54it/s]\n",
      "                 Class     Images  Instances      Box(P          R      mAP50  mAP50-95): 100%|██████████| 1/1 [00:00<00:00,  8.48it/s]"
     ]
    },
    {
     "name": "stdout",
     "output_type": "stream",
     "text": [
      "                   all         10         31      0.759      0.509      0.584      0.499\n"
     ]
    },
    {
     "name": "stderr",
     "output_type": "stream",
     "text": [
      "\n"
     ]
    },
    {
     "name": "stdout",
     "output_type": "stream",
     "text": [
      "\n",
      "      Epoch    GPU_mem   box_loss   cls_loss   dfl_loss  Instances       Size\n"
     ]
    },
    {
     "name": "stderr",
     "output_type": "stream",
     "text": [
      "    124/150      3.48G     0.4209     0.3205     0.8318         34        640: 100%|██████████| 4/4 [00:03<00:00,  1.30it/s]\n",
      "                 Class     Images  Instances      Box(P          R      mAP50  mAP50-95): 100%|██████████| 1/1 [00:00<00:00,  3.13it/s]"
     ]
    },
    {
     "name": "stdout",
     "output_type": "stream",
     "text": [
      "                   all         10         31      0.763      0.509      0.583       0.48\n"
     ]
    },
    {
     "name": "stderr",
     "output_type": "stream",
     "text": [
      "\n"
     ]
    },
    {
     "name": "stdout",
     "output_type": "stream",
     "text": [
      "\n",
      "      Epoch    GPU_mem   box_loss   cls_loss   dfl_loss  Instances       Size\n"
     ]
    },
    {
     "name": "stderr",
     "output_type": "stream",
     "text": [
      "    125/150      3.48G     0.4355     0.3565     0.8271         37        640: 100%|██████████| 4/4 [00:02<00:00,  1.85it/s]\n",
      "                 Class     Images  Instances      Box(P          R      mAP50  mAP50-95): 100%|██████████| 1/1 [00:00<00:00,  3.13it/s]"
     ]
    },
    {
     "name": "stdout",
     "output_type": "stream",
     "text": [
      "                   all         10         31      0.758      0.509      0.582       0.47\n"
     ]
    },
    {
     "name": "stderr",
     "output_type": "stream",
     "text": [
      "\n"
     ]
    },
    {
     "name": "stdout",
     "output_type": "stream",
     "text": [
      "\n",
      "      Epoch    GPU_mem   box_loss   cls_loss   dfl_loss  Instances       Size\n"
     ]
    },
    {
     "name": "stderr",
     "output_type": "stream",
     "text": [
      "    126/150      3.47G     0.3913     0.3033     0.8296         33        640: 100%|██████████| 4/4 [00:02<00:00,  1.74it/s]\n",
      "                 Class     Images  Instances      Box(P          R      mAP50  mAP50-95): 100%|██████████| 1/1 [00:00<00:00,  3.12it/s]"
     ]
    },
    {
     "name": "stdout",
     "output_type": "stream",
     "text": [
      "                   all         10         31      0.757      0.509      0.584      0.471\n"
     ]
    },
    {
     "name": "stderr",
     "output_type": "stream",
     "text": [
      "\n"
     ]
    },
    {
     "name": "stdout",
     "output_type": "stream",
     "text": [
      "\n",
      "      Epoch    GPU_mem   box_loss   cls_loss   dfl_loss  Instances       Size\n"
     ]
    },
    {
     "name": "stderr",
     "output_type": "stream",
     "text": [
      "    127/150       3.5G     0.3906      0.325      0.811         47        640: 100%|██████████| 4/4 [00:03<00:00,  1.30it/s]\n",
      "                 Class     Images  Instances      Box(P          R      mAP50  mAP50-95): 100%|██████████| 1/1 [00:00<00:00,  3.13it/s]"
     ]
    },
    {
     "name": "stdout",
     "output_type": "stream",
     "text": [
      "                   all         10         31      0.773      0.509      0.596      0.476\n"
     ]
    },
    {
     "name": "stderr",
     "output_type": "stream",
     "text": [
      "\n"
     ]
    },
    {
     "name": "stdout",
     "output_type": "stream",
     "text": [
      "\n",
      "      Epoch    GPU_mem   box_loss   cls_loss   dfl_loss  Instances       Size\n"
     ]
    },
    {
     "name": "stderr",
     "output_type": "stream",
     "text": [
      "    128/150      3.48G      0.361     0.2876     0.8055         30        640: 100%|██████████| 4/4 [00:02<00:00,  1.93it/s]\n",
      "                 Class     Images  Instances      Box(P          R      mAP50  mAP50-95): 100%|██████████| 1/1 [00:00<00:00,  3.11it/s]"
     ]
    },
    {
     "name": "stdout",
     "output_type": "stream",
     "text": [
      "                   all         10         31      0.773      0.509      0.596      0.476\n"
     ]
    },
    {
     "name": "stderr",
     "output_type": "stream",
     "text": [
      "\n"
     ]
    },
    {
     "name": "stdout",
     "output_type": "stream",
     "text": [
      "\n",
      "      Epoch    GPU_mem   box_loss   cls_loss   dfl_loss  Instances       Size\n"
     ]
    },
    {
     "name": "stderr",
     "output_type": "stream",
     "text": [
      "    129/150      3.48G     0.3957     0.3336     0.8402         35        640: 100%|██████████| 4/4 [00:02<00:00,  1.35it/s]\n",
      "                 Class     Images  Instances      Box(P          R      mAP50  mAP50-95): 100%|██████████| 1/1 [00:00<00:00,  3.14it/s]"
     ]
    },
    {
     "name": "stdout",
     "output_type": "stream",
     "text": [
      "                   all         10         31      0.775      0.491      0.594      0.477\n"
     ]
    },
    {
     "name": "stderr",
     "output_type": "stream",
     "text": [
      "\n"
     ]
    },
    {
     "name": "stdout",
     "output_type": "stream",
     "text": [
      "\n",
      "      Epoch    GPU_mem   box_loss   cls_loss   dfl_loss  Instances       Size\n"
     ]
    },
    {
     "name": "stderr",
     "output_type": "stream",
     "text": [
      "    130/150       3.4G     0.3828      0.292     0.8291         35        640: 100%|██████████| 4/4 [00:02<00:00,  1.79it/s]\n",
      "                 Class     Images  Instances      Box(P          R      mAP50  mAP50-95): 100%|██████████| 1/1 [00:00<00:00,  3.14it/s]"
     ]
    },
    {
     "name": "stdout",
     "output_type": "stream",
     "text": [
      "                   all         10         31      0.768      0.463      0.605      0.504\n"
     ]
    },
    {
     "name": "stderr",
     "output_type": "stream",
     "text": [
      "\n"
     ]
    },
    {
     "name": "stdout",
     "output_type": "stream",
     "text": [
      "\n",
      "      Epoch    GPU_mem   box_loss   cls_loss   dfl_loss  Instances       Size\n"
     ]
    },
    {
     "name": "stderr",
     "output_type": "stream",
     "text": [
      "    131/150      3.49G     0.3899     0.3103     0.8549         52        640: 100%|██████████| 4/4 [00:02<00:00,  1.43it/s]\n",
      "                 Class     Images  Instances      Box(P          R      mAP50  mAP50-95): 100%|██████████| 1/1 [00:00<00:00,  3.14it/s]"
     ]
    },
    {
     "name": "stdout",
     "output_type": "stream",
     "text": [
      "                   all         10         31      0.781      0.454      0.597      0.503\n"
     ]
    },
    {
     "name": "stderr",
     "output_type": "stream",
     "text": [
      "\n"
     ]
    },
    {
     "name": "stdout",
     "output_type": "stream",
     "text": [
      "\n",
      "      Epoch    GPU_mem   box_loss   cls_loss   dfl_loss  Instances       Size\n"
     ]
    },
    {
     "name": "stderr",
     "output_type": "stream",
     "text": [
      "    132/150      3.47G     0.3734     0.2936     0.8467         43        640: 100%|██████████| 4/4 [00:02<00:00,  1.35it/s]\n",
      "                 Class     Images  Instances      Box(P          R      mAP50  mAP50-95): 100%|██████████| 1/1 [00:00<00:00,  3.16it/s]"
     ]
    },
    {
     "name": "stdout",
     "output_type": "stream",
     "text": [
      "                   all         10         31      0.795      0.454      0.597      0.503\n"
     ]
    },
    {
     "name": "stderr",
     "output_type": "stream",
     "text": [
      "\n"
     ]
    },
    {
     "name": "stdout",
     "output_type": "stream",
     "text": [
      "\n",
      "      Epoch    GPU_mem   box_loss   cls_loss   dfl_loss  Instances       Size\n"
     ]
    },
    {
     "name": "stderr",
     "output_type": "stream",
     "text": [
      "    133/150      3.48G     0.4017     0.3063     0.8137         42        640: 100%|██████████| 4/4 [00:02<00:00,  1.35it/s]\n",
      "                 Class     Images  Instances      Box(P          R      mAP50  mAP50-95): 100%|██████████| 1/1 [00:00<00:00,  3.18it/s]"
     ]
    },
    {
     "name": "stdout",
     "output_type": "stream",
     "text": [
      "                   all         10         31      0.795      0.454      0.597      0.503\n"
     ]
    },
    {
     "name": "stderr",
     "output_type": "stream",
     "text": [
      "\n"
     ]
    },
    {
     "name": "stdout",
     "output_type": "stream",
     "text": [
      "\n",
      "      Epoch    GPU_mem   box_loss   cls_loss   dfl_loss  Instances       Size\n"
     ]
    },
    {
     "name": "stderr",
     "output_type": "stream",
     "text": [
      "    134/150      3.48G      0.334     0.2897     0.8362         30        640: 100%|██████████| 4/4 [00:03<00:00,  1.28it/s]\n",
      "                 Class     Images  Instances      Box(P          R      mAP50  mAP50-95): 100%|██████████| 1/1 [00:00<00:00,  3.14it/s]"
     ]
    },
    {
     "name": "stdout",
     "output_type": "stream",
     "text": [
      "                   all         10         31      0.784      0.414        0.6      0.507\n"
     ]
    },
    {
     "name": "stderr",
     "output_type": "stream",
     "text": [
      "\n"
     ]
    },
    {
     "name": "stdout",
     "output_type": "stream",
     "text": [
      "\n",
      "      Epoch    GPU_mem   box_loss   cls_loss   dfl_loss  Instances       Size\n"
     ]
    },
    {
     "name": "stderr",
     "output_type": "stream",
     "text": [
      "    135/150      3.47G     0.3559      0.289     0.8028         50        640: 100%|██████████| 4/4 [00:02<00:00,  1.75it/s]\n",
      "                 Class     Images  Instances      Box(P          R      mAP50  mAP50-95): 100%|██████████| 1/1 [00:00<00:00,  3.13it/s]"
     ]
    },
    {
     "name": "stdout",
     "output_type": "stream",
     "text": [
      "                   all         10         31      0.735      0.398      0.606      0.515\n"
     ]
    },
    {
     "name": "stderr",
     "output_type": "stream",
     "text": [
      "\n"
     ]
    },
    {
     "name": "stdout",
     "output_type": "stream",
     "text": [
      "\n",
      "      Epoch    GPU_mem   box_loss   cls_loss   dfl_loss  Instances       Size\n"
     ]
    },
    {
     "name": "stderr",
     "output_type": "stream",
     "text": [
      "    136/150      3.49G     0.3547      0.289     0.8254         44        640: 100%|██████████| 4/4 [00:02<00:00,  1.35it/s]\n",
      "                 Class     Images  Instances      Box(P          R      mAP50  mAP50-95): 100%|██████████| 1/1 [00:00<00:00,  3.13it/s]"
     ]
    },
    {
     "name": "stdout",
     "output_type": "stream",
     "text": [
      "                   all         10         31      0.845      0.373      0.606      0.512\n"
     ]
    },
    {
     "name": "stderr",
     "output_type": "stream",
     "text": [
      "\n"
     ]
    },
    {
     "name": "stdout",
     "output_type": "stream",
     "text": [
      "\n",
      "      Epoch    GPU_mem   box_loss   cls_loss   dfl_loss  Instances       Size\n"
     ]
    },
    {
     "name": "stderr",
     "output_type": "stream",
     "text": [
      "    137/150       3.5G     0.3571     0.2777     0.8215         19        640: 100%|██████████| 4/4 [00:03<00:00,  1.30it/s]\n",
      "                 Class     Images  Instances      Box(P          R      mAP50  mAP50-95): 100%|██████████| 1/1 [00:00<00:00,  3.16it/s]"
     ]
    },
    {
     "name": "stdout",
     "output_type": "stream",
     "text": [
      "                   all         10         31      0.717      0.398      0.603      0.509\n"
     ]
    },
    {
     "name": "stderr",
     "output_type": "stream",
     "text": [
      "\n"
     ]
    },
    {
     "name": "stdout",
     "output_type": "stream",
     "text": [
      "\n",
      "      Epoch    GPU_mem   box_loss   cls_loss   dfl_loss  Instances       Size\n"
     ]
    },
    {
     "name": "stderr",
     "output_type": "stream",
     "text": [
      "    138/150      3.47G     0.3802     0.2939     0.8245         19        640: 100%|██████████| 4/4 [00:02<00:00,  1.37it/s]\n",
      "                 Class     Images  Instances      Box(P          R      mAP50  mAP50-95): 100%|██████████| 1/1 [00:00<00:00,  3.17it/s]"
     ]
    },
    {
     "name": "stdout",
     "output_type": "stream",
     "text": [
      "                   all         10         31      0.717      0.398      0.603      0.509\n"
     ]
    },
    {
     "name": "stderr",
     "output_type": "stream",
     "text": [
      "\n"
     ]
    },
    {
     "name": "stdout",
     "output_type": "stream",
     "text": [
      "\n",
      "      Epoch    GPU_mem   box_loss   cls_loss   dfl_loss  Instances       Size\n"
     ]
    },
    {
     "name": "stderr",
     "output_type": "stream",
     "text": [
      "    139/150      3.51G     0.3379     0.2694     0.8256         59        640: 100%|██████████| 4/4 [00:02<00:00,  1.36it/s]\n",
      "                 Class     Images  Instances      Box(P          R      mAP50  mAP50-95): 100%|██████████| 1/1 [00:00<00:00,  3.16it/s]"
     ]
    },
    {
     "name": "stdout",
     "output_type": "stream",
     "text": [
      "                   all         10         31      0.778      0.398        0.6       0.49\n"
     ]
    },
    {
     "name": "stderr",
     "output_type": "stream",
     "text": [
      "\n"
     ]
    },
    {
     "name": "stdout",
     "output_type": "stream",
     "text": [
      "\n",
      "      Epoch    GPU_mem   box_loss   cls_loss   dfl_loss  Instances       Size\n"
     ]
    },
    {
     "name": "stderr",
     "output_type": "stream",
     "text": [
      "    140/150      3.49G     0.3352     0.2794     0.8387         31        640: 100%|██████████| 4/4 [00:02<00:00,  1.36it/s]\n",
      "                 Class     Images  Instances      Box(P          R      mAP50  mAP50-95): 100%|██████████| 1/1 [00:00<00:00,  3.18it/s]"
     ]
    },
    {
     "name": "stdout",
     "output_type": "stream",
     "text": [
      "                   all         10         31      0.765      0.408      0.592      0.489\n"
     ]
    },
    {
     "name": "stderr",
     "output_type": "stream",
     "text": [
      "\n"
     ]
    },
    {
     "name": "stdout",
     "output_type": "stream",
     "text": [
      "Closing dataloader mosaic\n",
      "\n",
      "      Epoch    GPU_mem   box_loss   cls_loss   dfl_loss  Instances       Size\n"
     ]
    },
    {
     "name": "stderr",
     "output_type": "stream",
     "text": [
      "    141/150      3.47G     0.3241     0.2577     0.7705         18        640: 100%|██████████| 4/4 [00:03<00:00,  1.28it/s]\n",
      "                 Class     Images  Instances      Box(P          R      mAP50  mAP50-95): 100%|██████████| 1/1 [00:00<00:00,  3.10it/s]"
     ]
    },
    {
     "name": "stdout",
     "output_type": "stream",
     "text": [
      "                   all         10         31      0.763      0.409      0.589      0.475\n"
     ]
    },
    {
     "name": "stderr",
     "output_type": "stream",
     "text": [
      "\n"
     ]
    },
    {
     "name": "stdout",
     "output_type": "stream",
     "text": [
      "\n",
      "      Epoch    GPU_mem   box_loss   cls_loss   dfl_loss  Instances       Size\n"
     ]
    },
    {
     "name": "stderr",
     "output_type": "stream",
     "text": [
      "    142/150       3.5G     0.3404     0.2759     0.7855         19        640: 100%|██████████| 4/4 [00:03<00:00,  1.10it/s]\n",
      "                 Class     Images  Instances      Box(P          R      mAP50  mAP50-95): 100%|██████████| 1/1 [00:00<00:00,  3.17it/s]"
     ]
    },
    {
     "name": "stdout",
     "output_type": "stream",
     "text": [
      "                   all         10         31      0.761       0.41      0.536       0.44\n"
     ]
    },
    {
     "name": "stderr",
     "output_type": "stream",
     "text": [
      "\n"
     ]
    },
    {
     "name": "stdout",
     "output_type": "stream",
     "text": [
      "\n",
      "      Epoch    GPU_mem   box_loss   cls_loss   dfl_loss  Instances       Size\n"
     ]
    },
    {
     "name": "stderr",
     "output_type": "stream",
     "text": [
      "    143/150      3.48G     0.3107     0.2525     0.7991         25        640: 100%|██████████| 4/4 [00:03<00:00,  1.05it/s]\n",
      "                 Class     Images  Instances      Box(P          R      mAP50  mAP50-95): 100%|██████████| 1/1 [00:00<00:00,  3.12it/s]"
     ]
    },
    {
     "name": "stdout",
     "output_type": "stream",
     "text": [
      "                   all         10         31      0.761       0.41      0.536       0.44\n"
     ]
    },
    {
     "name": "stderr",
     "output_type": "stream",
     "text": [
      "\n"
     ]
    },
    {
     "name": "stdout",
     "output_type": "stream",
     "text": [
      "\n",
      "      Epoch    GPU_mem   box_loss   cls_loss   dfl_loss  Instances       Size\n"
     ]
    },
    {
     "name": "stderr",
     "output_type": "stream",
     "text": [
      "    144/150      3.51G     0.3244     0.2542      0.802         32        640: 100%|██████████| 4/4 [00:03<00:00,  1.11it/s]\n",
      "                 Class     Images  Instances      Box(P          R      mAP50  mAP50-95): 100%|██████████| 1/1 [00:00<00:00,  3.12it/s]"
     ]
    },
    {
     "name": "stdout",
     "output_type": "stream",
     "text": [
      "                   all         10         31      0.747      0.409      0.526      0.433\n"
     ]
    },
    {
     "name": "stderr",
     "output_type": "stream",
     "text": [
      "\n"
     ]
    },
    {
     "name": "stdout",
     "output_type": "stream",
     "text": [
      "\n",
      "      Epoch    GPU_mem   box_loss   cls_loss   dfl_loss  Instances       Size\n"
     ]
    },
    {
     "name": "stderr",
     "output_type": "stream",
     "text": [
      "    145/150      3.51G     0.3396     0.2549     0.8219         27        640: 100%|██████████| 4/4 [00:04<00:00,  1.16s/it]\n",
      "                 Class     Images  Instances      Box(P          R      mAP50  mAP50-95): 100%|██████████| 1/1 [00:00<00:00,  3.12it/s]"
     ]
    },
    {
     "name": "stdout",
     "output_type": "stream",
     "text": [
      "                   all         10         31      0.706      0.417      0.497      0.415\n"
     ]
    },
    {
     "name": "stderr",
     "output_type": "stream",
     "text": [
      "\n"
     ]
    },
    {
     "name": "stdout",
     "output_type": "stream",
     "text": [
      "\n",
      "      Epoch    GPU_mem   box_loss   cls_loss   dfl_loss  Instances       Size\n"
     ]
    },
    {
     "name": "stderr",
     "output_type": "stream",
     "text": [
      "    146/150       3.5G     0.3354     0.2572     0.8091         20        640: 100%|██████████| 4/4 [00:03<00:00,  1.00it/s]\n",
      "                 Class     Images  Instances      Box(P          R      mAP50  mAP50-95): 100%|██████████| 1/1 [00:00<00:00,  3.13it/s]"
     ]
    },
    {
     "name": "stdout",
     "output_type": "stream",
     "text": [
      "                   all         10         31      0.724      0.417      0.494      0.412\n"
     ]
    },
    {
     "name": "stderr",
     "output_type": "stream",
     "text": [
      "\n"
     ]
    },
    {
     "name": "stdout",
     "output_type": "stream",
     "text": [
      "\n",
      "      Epoch    GPU_mem   box_loss   cls_loss   dfl_loss  Instances       Size\n"
     ]
    },
    {
     "name": "stderr",
     "output_type": "stream",
     "text": [
      "    147/150      3.48G     0.3082     0.2417     0.7793         21        640: 100%|██████████| 4/4 [00:03<00:00,  1.10it/s]\n",
      "                 Class     Images  Instances      Box(P          R      mAP50  mAP50-95): 100%|██████████| 1/1 [00:00<00:00,  3.16it/s]"
     ]
    },
    {
     "name": "stdout",
     "output_type": "stream",
     "text": [
      "                   all         10         31      0.725      0.417      0.517      0.421\n"
     ]
    },
    {
     "name": "stderr",
     "output_type": "stream",
     "text": [
      "\n"
     ]
    },
    {
     "name": "stdout",
     "output_type": "stream",
     "text": [
      "\n",
      "      Epoch    GPU_mem   box_loss   cls_loss   dfl_loss  Instances       Size\n"
     ]
    },
    {
     "name": "stderr",
     "output_type": "stream",
     "text": [
      "    148/150      3.46G     0.3326     0.2465     0.8335         24        640: 100%|██████████| 4/4 [00:04<00:00,  1.14s/it]\n",
      "                 Class     Images  Instances      Box(P          R      mAP50  mAP50-95): 100%|██████████| 1/1 [00:00<00:00,  3.13it/s]"
     ]
    },
    {
     "name": "stdout",
     "output_type": "stream",
     "text": [
      "                   all         10         31      0.725      0.417      0.517      0.421\n"
     ]
    },
    {
     "name": "stderr",
     "output_type": "stream",
     "text": [
      "\n"
     ]
    },
    {
     "name": "stdout",
     "output_type": "stream",
     "text": [
      "\n",
      "      Epoch    GPU_mem   box_loss   cls_loss   dfl_loss  Instances       Size\n"
     ]
    },
    {
     "name": "stderr",
     "output_type": "stream",
     "text": [
      "    149/150      3.51G     0.3299     0.2446     0.7989         23        640: 100%|██████████| 4/4 [00:03<00:00,  1.04it/s]\n",
      "                 Class     Images  Instances      Box(P          R      mAP50  mAP50-95): 100%|██████████| 1/1 [00:00<00:00,  3.12it/s]"
     ]
    },
    {
     "name": "stdout",
     "output_type": "stream",
     "text": [
      "                   all         10         31      0.728      0.417      0.511      0.417\n"
     ]
    },
    {
     "name": "stderr",
     "output_type": "stream",
     "text": [
      "\n"
     ]
    },
    {
     "name": "stdout",
     "output_type": "stream",
     "text": [
      "\n",
      "      Epoch    GPU_mem   box_loss   cls_loss   dfl_loss  Instances       Size\n"
     ]
    },
    {
     "name": "stderr",
     "output_type": "stream",
     "text": [
      "    150/150      3.47G     0.2761     0.2324     0.7613         19        640: 100%|██████████| 4/4 [00:03<00:00,  1.11it/s]\n",
      "                 Class     Images  Instances      Box(P          R      mAP50  mAP50-95): 100%|██████████| 1/1 [00:00<00:00,  3.13it/s]"
     ]
    },
    {
     "name": "stdout",
     "output_type": "stream",
     "text": [
      "                   all         10         31       0.73      0.409      0.512      0.418\n"
     ]
    },
    {
     "name": "stderr",
     "output_type": "stream",
     "text": [
      "\n"
     ]
    },
    {
     "name": "stdout",
     "output_type": "stream",
     "text": [
      "\n",
      "150 epochs completed in 0.106 hours.\n",
      "Optimizer stripped from runs/detect/train7/weights/last.pt, 19.2MB\n",
      "Optimizer stripped from runs/detect/train7/weights/best.pt, 19.2MB\n",
      "\n",
      "Validating runs/detect/train7/weights/best.pt...\n",
      "Ultralytics 8.3.29 🚀 Python-3.11.5 torch-2.3.1 CUDA:0 (NVIDIA GeForce RTX 3050 Laptop GPU, 3797MiB)\n",
      "YOLO11s summary (fused): 238 layers, 9,413,574 parameters, 0 gradients\n"
     ]
    },
    {
     "name": "stderr",
     "output_type": "stream",
     "text": [
      "                 Class     Images  Instances      Box(P          R      mAP50  mAP50-95): 100%|██████████| 1/1 [00:00<00:00,  8.89it/s]\n"
     ]
    },
    {
     "name": "stdout",
     "output_type": "stream",
     "text": [
      "                   all         10         31      0.737      0.398      0.606      0.515\n",
      "                Unripe          9         27      0.889      0.295      0.665      0.538\n",
      "                  Ripe          3          4      0.585        0.5      0.546      0.491\n",
      "Speed: 0.2ms preprocess, 8.8ms inference, 0.0ms loss, 0.5ms postprocess per image\n",
      "Results saved to \u001b[1mruns/detect/train7\u001b[0m\n"
     ]
    }
   ],
   "source": [
    "results_small = model_small.train(data=\"YOLOv8Lemons/data.yaml\", epochs=150,batch=12)"
   ]
  },
  {
   "cell_type": "code",
   "execution_count": 30,
   "metadata": {},
   "outputs": [
    {
     "name": "stdout",
     "output_type": "stream",
     "text": [
      "\n",
      "0: 480x640 (no detections), 28.1ms\n",
      "Speed: 1.0ms preprocess, 28.1ms inference, 1.4ms postprocess per image at shape (1, 3, 480, 640)\n",
      "\n",
      "0: 480x640 (no detections), 27.4ms\n",
      "Speed: 1.0ms preprocess, 27.4ms inference, 1.8ms postprocess per image at shape (1, 3, 480, 640)\n",
      "\n",
      "0: 480x640 (no detections), 27.4ms\n",
      "Speed: 1.1ms preprocess, 27.4ms inference, 2.2ms postprocess per image at shape (1, 3, 480, 640)\n",
      "\n",
      "0: 480x640 (no detections), 20.9ms\n",
      "Speed: 1.0ms preprocess, 20.9ms inference, 2.1ms postprocess per image at shape (1, 3, 480, 640)\n",
      "\n",
      "0: 480x640 (no detections), 20.7ms\n",
      "Speed: 1.0ms preprocess, 20.7ms inference, 2.3ms postprocess per image at shape (1, 3, 480, 640)\n",
      "\n",
      "0: 480x640 (no detections), 21.6ms\n",
      "Speed: 1.0ms preprocess, 21.6ms inference, 2.5ms postprocess per image at shape (1, 3, 480, 640)\n",
      "\n",
      "0: 480x640 (no detections), 20.4ms\n",
      "Speed: 0.9ms preprocess, 20.4ms inference, 2.3ms postprocess per image at shape (1, 3, 480, 640)\n",
      "\n",
      "0: 480x640 (no detections), 20.3ms\n",
      "Speed: 2.1ms preprocess, 20.3ms inference, 4.2ms postprocess per image at shape (1, 3, 480, 640)\n",
      "\n",
      "0: 480x640 (no detections), 19.9ms\n",
      "Speed: 0.9ms preprocess, 19.9ms inference, 3.1ms postprocess per image at shape (1, 3, 480, 640)\n",
      "\n",
      "0: 480x640 (no detections), 19.5ms\n",
      "Speed: 0.9ms preprocess, 19.5ms inference, 2.9ms postprocess per image at shape (1, 3, 480, 640)\n",
      "\n",
      "0: 480x640 (no detections), 19.6ms\n",
      "Speed: 1.2ms preprocess, 19.6ms inference, 3.5ms postprocess per image at shape (1, 3, 480, 640)\n",
      "\n",
      "0: 480x640 (no detections), 19.5ms\n",
      "Speed: 0.9ms preprocess, 19.5ms inference, 2.8ms postprocess per image at shape (1, 3, 480, 640)\n",
      "\n",
      "0: 480x640 (no detections), 19.6ms\n",
      "Speed: 0.9ms preprocess, 19.6ms inference, 3.1ms postprocess per image at shape (1, 3, 480, 640)\n",
      "\n",
      "0: 480x640 (no detections), 19.5ms\n",
      "Speed: 0.9ms preprocess, 19.5ms inference, 4.1ms postprocess per image at shape (1, 3, 480, 640)\n",
      "\n",
      "0: 480x640 (no detections), 19.5ms\n",
      "Speed: 0.9ms preprocess, 19.5ms inference, 2.7ms postprocess per image at shape (1, 3, 480, 640)\n",
      "\n",
      "0: 480x640 (no detections), 19.6ms\n",
      "Speed: 1.0ms preprocess, 19.6ms inference, 3.0ms postprocess per image at shape (1, 3, 480, 640)\n",
      "\n",
      "0: 480x640 (no detections), 19.5ms\n",
      "Speed: 1.0ms preprocess, 19.5ms inference, 3.6ms postprocess per image at shape (1, 3, 480, 640)\n",
      "\n",
      "0: 480x640 (no detections), 19.5ms\n",
      "Speed: 0.9ms preprocess, 19.5ms inference, 2.6ms postprocess per image at shape (1, 3, 480, 640)\n",
      "\n",
      "0: 480x640 (no detections), 19.6ms\n",
      "Speed: 0.9ms preprocess, 19.6ms inference, 3.3ms postprocess per image at shape (1, 3, 480, 640)\n",
      "\n",
      "0: 480x640 (no detections), 19.5ms\n",
      "Speed: 0.9ms preprocess, 19.5ms inference, 2.5ms postprocess per image at shape (1, 3, 480, 640)\n",
      "\n",
      "0: 480x640 (no detections), 19.5ms\n",
      "Speed: 1.1ms preprocess, 19.5ms inference, 2.5ms postprocess per image at shape (1, 3, 480, 640)\n",
      "\n",
      "0: 480x640 (no detections), 19.5ms\n",
      "Speed: 0.9ms preprocess, 19.5ms inference, 3.5ms postprocess per image at shape (1, 3, 480, 640)\n",
      "\n",
      "0: 480x640 (no detections), 19.5ms\n",
      "Speed: 0.9ms preprocess, 19.5ms inference, 2.6ms postprocess per image at shape (1, 3, 480, 640)\n",
      "\n",
      "0: 480x640 (no detections), 19.5ms\n",
      "Speed: 0.9ms preprocess, 19.5ms inference, 2.8ms postprocess per image at shape (1, 3, 480, 640)\n",
      "\n",
      "0: 480x640 (no detections), 19.6ms\n",
      "Speed: 0.9ms preprocess, 19.6ms inference, 2.3ms postprocess per image at shape (1, 3, 480, 640)\n",
      "\n",
      "0: 480x640 (no detections), 19.6ms\n",
      "Speed: 1.5ms preprocess, 19.6ms inference, 2.1ms postprocess per image at shape (1, 3, 480, 640)\n",
      "\n",
      "0: 480x640 (no detections), 19.5ms\n",
      "Speed: 0.9ms preprocess, 19.5ms inference, 1.5ms postprocess per image at shape (1, 3, 480, 640)\n",
      "\n",
      "0: 480x640 (no detections), 19.5ms\n",
      "Speed: 0.9ms preprocess, 19.5ms inference, 1.8ms postprocess per image at shape (1, 3, 480, 640)\n",
      "\n",
      "0: 480x640 (no detections), 19.5ms\n",
      "Speed: 0.9ms preprocess, 19.5ms inference, 2.0ms postprocess per image at shape (1, 3, 480, 640)\n",
      "\n",
      "0: 480x640 (no detections), 19.5ms\n",
      "Speed: 0.9ms preprocess, 19.5ms inference, 1.6ms postprocess per image at shape (1, 3, 480, 640)\n",
      "\n",
      "0: 480x640 (no detections), 19.6ms\n",
      "Speed: 1.8ms preprocess, 19.6ms inference, 1.7ms postprocess per image at shape (1, 3, 480, 640)\n",
      "\n",
      "0: 480x640 (no detections), 19.5ms\n",
      "Speed: 1.0ms preprocess, 19.5ms inference, 1.4ms postprocess per image at shape (1, 3, 480, 640)\n",
      "\n",
      "0: 480x640 (no detections), 19.5ms\n",
      "Speed: 1.0ms preprocess, 19.5ms inference, 2.0ms postprocess per image at shape (1, 3, 480, 640)\n",
      "\n",
      "0: 480x640 (no detections), 19.5ms\n",
      "Speed: 0.9ms preprocess, 19.5ms inference, 2.2ms postprocess per image at shape (1, 3, 480, 640)\n",
      "\n",
      "0: 480x640 (no detections), 19.5ms\n",
      "Speed: 0.9ms preprocess, 19.5ms inference, 1.8ms postprocess per image at shape (1, 3, 480, 640)\n",
      "\n",
      "0: 480x640 (no detections), 19.5ms\n",
      "Speed: 1.1ms preprocess, 19.5ms inference, 2.1ms postprocess per image at shape (1, 3, 480, 640)\n",
      "\n",
      "0: 480x640 (no detections), 19.5ms\n",
      "Speed: 1.0ms preprocess, 19.5ms inference, 1.8ms postprocess per image at shape (1, 3, 480, 640)\n",
      "\n",
      "0: 480x640 (no detections), 19.5ms\n",
      "Speed: 1.0ms preprocess, 19.5ms inference, 2.1ms postprocess per image at shape (1, 3, 480, 640)\n",
      "\n",
      "0: 480x640 (no detections), 20.5ms\n",
      "Speed: 1.0ms preprocess, 20.5ms inference, 1.8ms postprocess per image at shape (1, 3, 480, 640)\n",
      "\n",
      "0: 480x640 (no detections), 20.5ms\n",
      "Speed: 1.0ms preprocess, 20.5ms inference, 1.7ms postprocess per image at shape (1, 3, 480, 640)\n",
      "\n",
      "0: 480x640 1 Unripe, 20.5ms\n",
      "Speed: 1.4ms preprocess, 20.5ms inference, 2.3ms postprocess per image at shape (1, 3, 480, 640)\n",
      "tensor([218.7245,  70.3225, 357.3371, 215.9954], device='cuda:0')\n",
      "tensor(0., device='cuda:0')\n",
      "218 70 357 215\n",
      "\n",
      "0: 480x640 1 Unripe, 20.7ms\n",
      "Speed: 0.9ms preprocess, 20.7ms inference, 2.3ms postprocess per image at shape (1, 3, 480, 640)\n",
      "tensor([217.7728,  66.1461, 351.8493, 202.2055], device='cuda:0')\n",
      "tensor(0., device='cuda:0')\n",
      "217 66 351 202\n",
      "\n",
      "0: 480x640 (no detections), 20.8ms\n",
      "Speed: 0.9ms preprocess, 20.8ms inference, 1.9ms postprocess per image at shape (1, 3, 480, 640)\n",
      "\n",
      "0: 480x640 (no detections), 20.8ms\n",
      "Speed: 1.0ms preprocess, 20.8ms inference, 1.8ms postprocess per image at shape (1, 3, 480, 640)\n",
      "\n",
      "0: 480x640 1 Unripe, 20.7ms\n",
      "Speed: 1.0ms preprocess, 20.7ms inference, 2.2ms postprocess per image at shape (1, 3, 480, 640)\n",
      "tensor([218.5077,  56.1047, 345.5297, 188.9863], device='cuda:0')\n",
      "tensor(0., device='cuda:0')\n",
      "218 56 345 188\n",
      "\n",
      "0: 480x640 (no detections), 20.6ms\n",
      "Speed: 1.3ms preprocess, 20.6ms inference, 1.5ms postprocess per image at shape (1, 3, 480, 640)\n",
      "\n",
      "0: 480x640 (no detections), 20.6ms\n",
      "Speed: 0.9ms preprocess, 20.6ms inference, 2.7ms postprocess per image at shape (1, 3, 480, 640)\n",
      "\n",
      "0: 480x640 (no detections), 20.6ms\n",
      "Speed: 1.0ms preprocess, 20.6ms inference, 1.8ms postprocess per image at shape (1, 3, 480, 640)\n",
      "\n",
      "0: 480x640 (no detections), 20.6ms\n",
      "Speed: 0.9ms preprocess, 20.6ms inference, 1.8ms postprocess per image at shape (1, 3, 480, 640)\n",
      "\n",
      "0: 480x640 (no detections), 20.6ms\n",
      "Speed: 0.9ms preprocess, 20.6ms inference, 1.7ms postprocess per image at shape (1, 3, 480, 640)\n",
      "\n",
      "0: 480x640 1 Unripe, 20.6ms\n",
      "Speed: 1.5ms preprocess, 20.6ms inference, 2.3ms postprocess per image at shape (1, 3, 480, 640)\n",
      "tensor([227.0950,  91.2480, 354.1793, 221.1016], device='cuda:0')\n",
      "tensor(0., device='cuda:0')\n",
      "227 91 354 221\n",
      "\n",
      "0: 480x640 (no detections), 20.6ms\n",
      "Speed: 1.0ms preprocess, 20.6ms inference, 2.4ms postprocess per image at shape (1, 3, 480, 640)\n",
      "\n",
      "0: 480x640 (no detections), 20.6ms\n",
      "Speed: 1.0ms preprocess, 20.6ms inference, 1.7ms postprocess per image at shape (1, 3, 480, 640)\n",
      "\n",
      "0: 480x640 (no detections), 20.6ms\n",
      "Speed: 0.9ms preprocess, 20.6ms inference, 1.8ms postprocess per image at shape (1, 3, 480, 640)\n",
      "\n",
      "0: 480x640 (no detections), 20.5ms\n",
      "Speed: 1.0ms preprocess, 20.5ms inference, 1.7ms postprocess per image at shape (1, 3, 480, 640)\n",
      "\n",
      "0: 480x640 (no detections), 20.7ms\n",
      "Speed: 1.2ms preprocess, 20.7ms inference, 1.8ms postprocess per image at shape (1, 3, 480, 640)\n",
      "\n",
      "0: 480x640 (no detections), 20.6ms\n",
      "Speed: 1.0ms preprocess, 20.6ms inference, 2.5ms postprocess per image at shape (1, 3, 480, 640)\n",
      "\n",
      "0: 480x640 (no detections), 20.6ms\n",
      "Speed: 0.9ms preprocess, 20.6ms inference, 2.1ms postprocess per image at shape (1, 3, 480, 640)\n",
      "\n",
      "0: 480x640 (no detections), 20.6ms\n",
      "Speed: 0.9ms preprocess, 20.6ms inference, 1.8ms postprocess per image at shape (1, 3, 480, 640)\n",
      "\n",
      "0: 480x640 (no detections), 20.6ms\n",
      "Speed: 1.0ms preprocess, 20.6ms inference, 1.7ms postprocess per image at shape (1, 3, 480, 640)\n",
      "\n",
      "0: 480x640 (no detections), 20.6ms\n",
      "Speed: 1.3ms preprocess, 20.6ms inference, 1.6ms postprocess per image at shape (1, 3, 480, 640)\n",
      "\n",
      "0: 480x640 (no detections), 20.7ms\n",
      "Speed: 1.1ms preprocess, 20.7ms inference, 2.3ms postprocess per image at shape (1, 3, 480, 640)\n",
      "\n",
      "0: 480x640 (no detections), 20.6ms\n",
      "Speed: 1.1ms preprocess, 20.6ms inference, 1.8ms postprocess per image at shape (1, 3, 480, 640)\n",
      "\n",
      "0: 480x640 (no detections), 20.6ms\n",
      "Speed: 1.0ms preprocess, 20.6ms inference, 2.0ms postprocess per image at shape (1, 3, 480, 640)\n",
      "\n",
      "0: 480x640 (no detections), 20.6ms\n",
      "Speed: 1.1ms preprocess, 20.6ms inference, 1.9ms postprocess per image at shape (1, 3, 480, 640)\n",
      "\n",
      "0: 480x640 (no detections), 20.7ms\n",
      "Speed: 1.4ms preprocess, 20.7ms inference, 2.2ms postprocess per image at shape (1, 3, 480, 640)\n",
      "\n",
      "0: 480x640 1 Unripe, 20.6ms\n",
      "Speed: 0.9ms preprocess, 20.6ms inference, 3.1ms postprocess per image at shape (1, 3, 480, 640)\n",
      "tensor([223.6107, 101.4092, 351.5579, 228.9730], device='cuda:0')\n",
      "tensor(0., device='cuda:0')\n",
      "223 101 351 228\n",
      "\n",
      "0: 480x640 (no detections), 20.8ms\n",
      "Speed: 1.2ms preprocess, 20.8ms inference, 2.3ms postprocess per image at shape (1, 3, 480, 640)\n",
      "\n",
      "0: 480x640 (no detections), 20.6ms\n",
      "Speed: 0.9ms preprocess, 20.6ms inference, 1.9ms postprocess per image at shape (1, 3, 480, 640)\n",
      "\n",
      "0: 480x640 (no detections), 20.6ms\n",
      "Speed: 1.2ms preprocess, 20.6ms inference, 1.7ms postprocess per image at shape (1, 3, 480, 640)\n",
      "\n",
      "0: 480x640 (no detections), 20.7ms\n",
      "Speed: 1.3ms preprocess, 20.7ms inference, 2.3ms postprocess per image at shape (1, 3, 480, 640)\n",
      "\n",
      "0: 480x640 (no detections), 20.6ms\n",
      "Speed: 0.9ms preprocess, 20.6ms inference, 2.5ms postprocess per image at shape (1, 3, 480, 640)\n",
      "\n",
      "0: 480x640 (no detections), 20.6ms\n",
      "Speed: 1.1ms preprocess, 20.6ms inference, 1.8ms postprocess per image at shape (1, 3, 480, 640)\n",
      "\n",
      "0: 480x640 (no detections), 20.6ms\n",
      "Speed: 1.0ms preprocess, 20.6ms inference, 2.3ms postprocess per image at shape (1, 3, 480, 640)\n",
      "\n",
      "0: 480x640 (no detections), 20.6ms\n",
      "Speed: 0.9ms preprocess, 20.6ms inference, 1.5ms postprocess per image at shape (1, 3, 480, 640)\n",
      "\n",
      "0: 480x640 (no detections), 20.6ms\n",
      "Speed: 0.9ms preprocess, 20.6ms inference, 1.8ms postprocess per image at shape (1, 3, 480, 640)\n",
      "\n",
      "0: 480x640 1 Unripe, 20.6ms\n",
      "Speed: 0.9ms preprocess, 20.6ms inference, 2.7ms postprocess per image at shape (1, 3, 480, 640)\n",
      "tensor([239.9347,  82.4833, 369.1160, 217.0034], device='cuda:0')\n",
      "tensor(0., device='cuda:0')\n",
      "239 82 369 217\n",
      "\n",
      "0: 480x640 (no detections), 20.6ms\n",
      "Speed: 1.0ms preprocess, 20.6ms inference, 1.8ms postprocess per image at shape (1, 3, 480, 640)\n",
      "\n",
      "0: 480x640 (no detections), 20.6ms\n",
      "Speed: 1.0ms preprocess, 20.6ms inference, 2.0ms postprocess per image at shape (1, 3, 480, 640)\n",
      "\n",
      "0: 480x640 (no detections), 20.6ms\n",
      "Speed: 1.1ms preprocess, 20.6ms inference, 1.7ms postprocess per image at shape (1, 3, 480, 640)\n",
      "\n",
      "0: 480x640 (no detections), 20.7ms\n",
      "Speed: 1.4ms preprocess, 20.7ms inference, 1.8ms postprocess per image at shape (1, 3, 480, 640)\n",
      "\n",
      "0: 480x640 (no detections), 20.6ms\n",
      "Speed: 1.0ms preprocess, 20.6ms inference, 2.1ms postprocess per image at shape (1, 3, 480, 640)\n",
      "\n",
      "0: 480x640 (no detections), 20.6ms\n",
      "Speed: 0.9ms preprocess, 20.6ms inference, 1.7ms postprocess per image at shape (1, 3, 480, 640)\n",
      "\n",
      "0: 480x640 (no detections), 20.7ms\n",
      "Speed: 1.0ms preprocess, 20.7ms inference, 2.2ms postprocess per image at shape (1, 3, 480, 640)\n",
      "\n",
      "0: 480x640 (no detections), 20.7ms\n",
      "Speed: 1.2ms preprocess, 20.7ms inference, 1.7ms postprocess per image at shape (1, 3, 480, 640)\n",
      "\n",
      "0: 480x640 (no detections), 20.7ms\n",
      "Speed: 1.3ms preprocess, 20.7ms inference, 1.9ms postprocess per image at shape (1, 3, 480, 640)\n",
      "\n",
      "0: 480x640 (no detections), 20.7ms\n",
      "Speed: 1.0ms preprocess, 20.7ms inference, 2.0ms postprocess per image at shape (1, 3, 480, 640)\n",
      "\n",
      "0: 480x640 (no detections), 20.7ms\n",
      "Speed: 1.0ms preprocess, 20.7ms inference, 1.8ms postprocess per image at shape (1, 3, 480, 640)\n",
      "\n",
      "0: 480x640 (no detections), 20.8ms\n",
      "Speed: 1.4ms preprocess, 20.8ms inference, 2.5ms postprocess per image at shape (1, 3, 480, 640)\n",
      "\n",
      "0: 480x640 (no detections), 20.7ms\n",
      "Speed: 1.0ms preprocess, 20.7ms inference, 1.8ms postprocess per image at shape (1, 3, 480, 640)\n",
      "\n",
      "0: 480x640 (no detections), 20.7ms\n",
      "Speed: 1.2ms preprocess, 20.7ms inference, 1.8ms postprocess per image at shape (1, 3, 480, 640)\n",
      "\n",
      "0: 480x640 (no detections), 20.7ms\n",
      "Speed: 1.0ms preprocess, 20.7ms inference, 2.0ms postprocess per image at shape (1, 3, 480, 640)\n",
      "\n",
      "0: 480x640 (no detections), 20.8ms\n",
      "Speed: 0.9ms preprocess, 20.8ms inference, 1.8ms postprocess per image at shape (1, 3, 480, 640)\n",
      "\n",
      "0: 480x640 (no detections), 20.7ms\n",
      "Speed: 1.1ms preprocess, 20.7ms inference, 2.2ms postprocess per image at shape (1, 3, 480, 640)\n",
      "\n",
      "0: 480x640 (no detections), 20.7ms\n",
      "Speed: 1.0ms preprocess, 20.7ms inference, 1.8ms postprocess per image at shape (1, 3, 480, 640)\n",
      "\n",
      "0: 480x640 (no detections), 20.7ms\n",
      "Speed: 1.1ms preprocess, 20.7ms inference, 2.0ms postprocess per image at shape (1, 3, 480, 640)\n",
      "\n",
      "0: 480x640 (no detections), 20.8ms\n",
      "Speed: 0.9ms preprocess, 20.8ms inference, 1.9ms postprocess per image at shape (1, 3, 480, 640)\n",
      "\n",
      "0: 480x640 (no detections), 20.8ms\n",
      "Speed: 0.9ms preprocess, 20.8ms inference, 1.6ms postprocess per image at shape (1, 3, 480, 640)\n",
      "\n",
      "0: 480x640 (no detections), 20.7ms\n",
      "Speed: 1.0ms preprocess, 20.7ms inference, 2.1ms postprocess per image at shape (1, 3, 480, 640)\n",
      "\n",
      "0: 480x640 (no detections), 20.7ms\n",
      "Speed: 0.9ms preprocess, 20.7ms inference, 1.5ms postprocess per image at shape (1, 3, 480, 640)\n",
      "\n",
      "0: 480x640 1 Unripe, 20.8ms\n",
      "Speed: 1.1ms preprocess, 20.8ms inference, 2.4ms postprocess per image at shape (1, 3, 480, 640)\n",
      "tensor([219.1181, 118.6604, 361.2128, 252.0855], device='cuda:0')\n",
      "tensor(0., device='cuda:0')\n",
      "219 118 361 252\n",
      "\n",
      "0: 480x640 (no detections), 20.7ms\n",
      "Speed: 0.9ms preprocess, 20.7ms inference, 1.9ms postprocess per image at shape (1, 3, 480, 640)\n",
      "\n",
      "0: 480x640 (no detections), 20.8ms\n",
      "Speed: 1.2ms preprocess, 20.8ms inference, 1.5ms postprocess per image at shape (1, 3, 480, 640)\n",
      "\n",
      "0: 480x640 1 Unripe, 20.8ms\n",
      "Speed: 1.1ms preprocess, 20.8ms inference, 3.0ms postprocess per image at shape (1, 3, 480, 640)\n",
      "tensor([189.8436, 113.9353, 329.0477, 249.8601], device='cuda:0')\n",
      "tensor(0., device='cuda:0')\n",
      "189 113 329 249\n",
      "\n",
      "0: 480x640 (no detections), 20.7ms\n",
      "Speed: 1.0ms preprocess, 20.7ms inference, 1.8ms postprocess per image at shape (1, 3, 480, 640)\n",
      "\n",
      "0: 480x640 (no detections), 20.8ms\n",
      "Speed: 1.0ms preprocess, 20.8ms inference, 2.0ms postprocess per image at shape (1, 3, 480, 640)\n",
      "\n",
      "0: 480x640 (no detections), 20.7ms\n",
      "Speed: 0.9ms preprocess, 20.7ms inference, 1.9ms postprocess per image at shape (1, 3, 480, 640)\n",
      "\n",
      "0: 480x640 (no detections), 21.1ms\n",
      "Speed: 1.1ms preprocess, 21.1ms inference, 1.8ms postprocess per image at shape (1, 3, 480, 640)\n",
      "\n",
      "0: 480x640 1 Unripe, 20.8ms\n",
      "Speed: 1.5ms preprocess, 20.8ms inference, 2.9ms postprocess per image at shape (1, 3, 480, 640)\n",
      "tensor([210.6026, 118.3005, 354.7839, 255.3480], device='cuda:0')\n",
      "tensor(0., device='cuda:0')\n",
      "210 118 354 255\n",
      "\n",
      "0: 480x640 (no detections), 20.8ms\n",
      "Speed: 1.0ms preprocess, 20.8ms inference, 1.9ms postprocess per image at shape (1, 3, 480, 640)\n",
      "\n",
      "0: 480x640 1 Unripe, 20.7ms\n",
      "Speed: 1.0ms preprocess, 20.7ms inference, 2.5ms postprocess per image at shape (1, 3, 480, 640)\n",
      "tensor([228.4052, 115.4451, 374.9772, 251.1443], device='cuda:0')\n",
      "tensor(0., device='cuda:0')\n",
      "228 115 374 251\n",
      "\n",
      "0: 480x640 1 Unripe, 20.8ms\n",
      "Speed: 1.0ms preprocess, 20.8ms inference, 2.3ms postprocess per image at shape (1, 3, 480, 640)\n",
      "tensor([240.5899, 109.1457, 384.3358, 247.5448], device='cuda:0')\n",
      "tensor(0., device='cuda:0')\n",
      "240 109 384 247\n",
      "\n",
      "0: 480x640 (no detections), 20.8ms\n",
      "Speed: 1.0ms preprocess, 20.8ms inference, 1.7ms postprocess per image at shape (1, 3, 480, 640)\n",
      "\n",
      "0: 480x640 (no detections), 20.8ms\n",
      "Speed: 1.5ms preprocess, 20.8ms inference, 2.0ms postprocess per image at shape (1, 3, 480, 640)\n",
      "\n",
      "0: 480x640 (no detections), 20.8ms\n",
      "Speed: 1.0ms preprocess, 20.8ms inference, 1.9ms postprocess per image at shape (1, 3, 480, 640)\n",
      "\n",
      "0: 480x640 (no detections), 20.8ms\n",
      "Speed: 1.2ms preprocess, 20.8ms inference, 2.2ms postprocess per image at shape (1, 3, 480, 640)\n",
      "\n",
      "0: 480x640 (no detections), 20.7ms\n",
      "Speed: 1.0ms preprocess, 20.7ms inference, 1.9ms postprocess per image at shape (1, 3, 480, 640)\n",
      "\n",
      "0: 480x640 (no detections), 20.7ms\n",
      "Speed: 0.9ms preprocess, 20.7ms inference, 2.1ms postprocess per image at shape (1, 3, 480, 640)\n",
      "\n",
      "0: 480x640 (no detections), 20.8ms\n",
      "Speed: 1.1ms preprocess, 20.8ms inference, 1.7ms postprocess per image at shape (1, 3, 480, 640)\n",
      "\n",
      "0: 480x640 (no detections), 20.7ms\n",
      "Speed: 1.2ms preprocess, 20.7ms inference, 2.2ms postprocess per image at shape (1, 3, 480, 640)\n",
      "\n",
      "0: 480x640 (no detections), 20.7ms\n",
      "Speed: 1.1ms preprocess, 20.7ms inference, 2.1ms postprocess per image at shape (1, 3, 480, 640)\n",
      "\n",
      "0: 480x640 (no detections), 20.7ms\n",
      "Speed: 1.0ms preprocess, 20.7ms inference, 2.2ms postprocess per image at shape (1, 3, 480, 640)\n",
      "\n",
      "0: 480x640 (no detections), 20.7ms\n",
      "Speed: 1.0ms preprocess, 20.7ms inference, 1.7ms postprocess per image at shape (1, 3, 480, 640)\n",
      "\n",
      "0: 480x640 (no detections), 20.7ms\n",
      "Speed: 1.0ms preprocess, 20.7ms inference, 2.1ms postprocess per image at shape (1, 3, 480, 640)\n",
      "\n",
      "0: 480x640 (no detections), 20.7ms\n",
      "Speed: 1.0ms preprocess, 20.7ms inference, 1.8ms postprocess per image at shape (1, 3, 480, 640)\n",
      "\n",
      "0: 480x640 (no detections), 20.8ms\n",
      "Speed: 1.3ms preprocess, 20.8ms inference, 2.1ms postprocess per image at shape (1, 3, 480, 640)\n",
      "\n",
      "0: 480x640 1 Unripe, 20.8ms\n",
      "Speed: 0.9ms preprocess, 20.8ms inference, 2.4ms postprocess per image at shape (1, 3, 480, 640)\n",
      "tensor([221.7488, 105.9512, 359.1098, 246.2447], device='cuda:0')\n",
      "tensor(0., device='cuda:0')\n",
      "221 105 359 246\n",
      "\n",
      "0: 480x640 (no detections), 20.7ms\n",
      "Speed: 1.1ms preprocess, 20.7ms inference, 1.7ms postprocess per image at shape (1, 3, 480, 640)\n",
      "\n",
      "0: 480x640 (no detections), 20.8ms\n",
      "Speed: 1.6ms preprocess, 20.8ms inference, 2.1ms postprocess per image at shape (1, 3, 480, 640)\n",
      "\n",
      "0: 480x640 (no detections), 20.7ms\n",
      "Speed: 1.0ms preprocess, 20.7ms inference, 1.9ms postprocess per image at shape (1, 3, 480, 640)\n",
      "\n",
      "0: 480x640 (no detections), 20.8ms\n",
      "Speed: 1.0ms preprocess, 20.8ms inference, 1.8ms postprocess per image at shape (1, 3, 480, 640)\n",
      "\n",
      "0: 480x640 (no detections), 20.8ms\n",
      "Speed: 1.0ms preprocess, 20.8ms inference, 2.2ms postprocess per image at shape (1, 3, 480, 640)\n",
      "\n",
      "0: 480x640 (no detections), 20.7ms\n",
      "Speed: 1.0ms preprocess, 20.7ms inference, 1.7ms postprocess per image at shape (1, 3, 480, 640)\n",
      "\n",
      "0: 480x640 (no detections), 20.8ms\n",
      "Speed: 1.1ms preprocess, 20.8ms inference, 1.8ms postprocess per image at shape (1, 3, 480, 640)\n",
      "\n",
      "0: 480x640 (no detections), 20.8ms\n",
      "Speed: 1.0ms preprocess, 20.8ms inference, 2.0ms postprocess per image at shape (1, 3, 480, 640)\n",
      "\n",
      "0: 480x640 (no detections), 20.9ms\n",
      "Speed: 1.1ms preprocess, 20.9ms inference, 1.8ms postprocess per image at shape (1, 3, 480, 640)\n",
      "\n",
      "0: 480x640 (no detections), 20.8ms\n",
      "Speed: 1.0ms preprocess, 20.8ms inference, 1.9ms postprocess per image at shape (1, 3, 480, 640)\n",
      "\n",
      "0: 480x640 (no detections), 20.8ms\n",
      "Speed: 0.9ms preprocess, 20.8ms inference, 1.6ms postprocess per image at shape (1, 3, 480, 640)\n",
      "\n",
      "0: 480x640 (no detections), 20.9ms\n",
      "Speed: 1.5ms preprocess, 20.9ms inference, 1.9ms postprocess per image at shape (1, 3, 480, 640)\n",
      "\n",
      "0: 480x640 (no detections), 20.8ms\n",
      "Speed: 0.9ms preprocess, 20.8ms inference, 1.6ms postprocess per image at shape (1, 3, 480, 640)\n",
      "\n",
      "0: 480x640 (no detections), 20.8ms\n",
      "Speed: 1.3ms preprocess, 20.8ms inference, 1.9ms postprocess per image at shape (1, 3, 480, 640)\n",
      "\n",
      "0: 480x640 (no detections), 20.8ms\n",
      "Speed: 1.0ms preprocess, 20.8ms inference, 2.0ms postprocess per image at shape (1, 3, 480, 640)\n",
      "\n",
      "0: 480x640 (no detections), 20.8ms\n",
      "Speed: 1.1ms preprocess, 20.8ms inference, 3.1ms postprocess per image at shape (1, 3, 480, 640)\n",
      "\n",
      "0: 480x640 1 Unripe, 20.8ms\n",
      "Speed: 1.0ms preprocess, 20.8ms inference, 2.4ms postprocess per image at shape (1, 3, 480, 640)\n",
      "tensor([231.4338, 114.2966, 369.2188, 251.3344], device='cuda:0')\n",
      "tensor(0., device='cuda:0')\n",
      "231 114 369 251\n",
      "\n",
      "0: 480x640 (no detections), 20.8ms\n",
      "Speed: 1.0ms preprocess, 20.8ms inference, 2.0ms postprocess per image at shape (1, 3, 480, 640)\n",
      "\n",
      "0: 480x640 1 Unripe, 20.9ms\n",
      "Speed: 1.0ms preprocess, 20.9ms inference, 2.4ms postprocess per image at shape (1, 3, 480, 640)\n",
      "tensor([231.2625, 113.1025, 371.6150, 249.9441], device='cuda:0')\n",
      "tensor(0., device='cuda:0')\n",
      "231 113 371 249\n",
      "\n",
      "0: 480x640 (no detections), 20.9ms\n",
      "Speed: 0.9ms preprocess, 20.9ms inference, 1.9ms postprocess per image at shape (1, 3, 480, 640)\n",
      "\n",
      "0: 480x640 (no detections), 20.9ms\n",
      "Speed: 0.9ms preprocess, 20.9ms inference, 1.5ms postprocess per image at shape (1, 3, 480, 640)\n",
      "\n",
      "0: 480x640 (no detections), 20.8ms\n",
      "Speed: 1.1ms preprocess, 20.8ms inference, 1.8ms postprocess per image at shape (1, 3, 480, 640)\n",
      "\n",
      "0: 480x640 (no detections), 20.8ms\n",
      "Speed: 0.9ms preprocess, 20.8ms inference, 1.8ms postprocess per image at shape (1, 3, 480, 640)\n",
      "\n",
      "0: 480x640 (no detections), 20.8ms\n",
      "Speed: 1.2ms preprocess, 20.8ms inference, 1.8ms postprocess per image at shape (1, 3, 480, 640)\n",
      "\n",
      "0: 480x640 (no detections), 20.8ms\n",
      "Speed: 0.9ms preprocess, 20.8ms inference, 1.6ms postprocess per image at shape (1, 3, 480, 640)\n",
      "\n",
      "0: 480x640 (no detections), 20.8ms\n",
      "Speed: 1.0ms preprocess, 20.8ms inference, 1.5ms postprocess per image at shape (1, 3, 480, 640)\n",
      "\n",
      "0: 480x640 (no detections), 20.9ms\n",
      "Speed: 1.4ms preprocess, 20.9ms inference, 2.2ms postprocess per image at shape (1, 3, 480, 640)\n",
      "\n",
      "0: 480x640 (no detections), 20.8ms\n",
      "Speed: 1.0ms preprocess, 20.8ms inference, 2.4ms postprocess per image at shape (1, 3, 480, 640)\n",
      "\n",
      "0: 480x640 1 Unripe, 20.9ms\n",
      "Speed: 1.4ms preprocess, 20.9ms inference, 2.4ms postprocess per image at shape (1, 3, 480, 640)\n",
      "tensor([234.3938, 110.0507, 369.5761, 248.4576], device='cuda:0')\n",
      "tensor(0., device='cuda:0')\n",
      "234 110 369 248\n",
      "\n",
      "0: 480x640 1 Unripe, 20.9ms\n",
      "Speed: 0.9ms preprocess, 20.9ms inference, 2.5ms postprocess per image at shape (1, 3, 480, 640)\n",
      "tensor([233.0436, 111.8518, 369.8046, 250.2223], device='cuda:0')\n",
      "tensor(0., device='cuda:0')\n",
      "233 111 369 250\n",
      "\n",
      "0: 480x640 1 Unripe, 20.9ms\n",
      "Speed: 1.1ms preprocess, 20.9ms inference, 2.6ms postprocess per image at shape (1, 3, 480, 640)\n",
      "tensor([230.5105, 112.8857, 370.6470, 249.6284], device='cuda:0')\n",
      "tensor(0., device='cuda:0')\n",
      "230 112 370 249\n",
      "\n",
      "0: 480x640 (no detections), 20.9ms\n",
      "Speed: 1.1ms preprocess, 20.9ms inference, 1.9ms postprocess per image at shape (1, 3, 480, 640)\n",
      "\n",
      "0: 480x640 (no detections), 20.9ms\n",
      "Speed: 1.0ms preprocess, 20.9ms inference, 2.5ms postprocess per image at shape (1, 3, 480, 640)\n",
      "\n",
      "0: 480x640 (no detections), 20.8ms\n",
      "Speed: 0.9ms preprocess, 20.8ms inference, 2.2ms postprocess per image at shape (1, 3, 480, 640)\n",
      "\n",
      "0: 480x640 1 Unripe, 20.9ms\n",
      "Speed: 1.2ms preprocess, 20.9ms inference, 3.0ms postprocess per image at shape (1, 3, 480, 640)\n",
      "tensor([225.7831, 107.5410, 362.9903, 249.0934], device='cuda:0')\n",
      "tensor(0., device='cuda:0')\n",
      "225 107 362 249\n",
      "\n",
      "0: 480x640 (no detections), 20.9ms\n",
      "Speed: 1.2ms preprocess, 20.9ms inference, 1.9ms postprocess per image at shape (1, 3, 480, 640)\n",
      "\n",
      "0: 480x640 (no detections), 20.9ms\n",
      "Speed: 1.4ms preprocess, 20.9ms inference, 1.9ms postprocess per image at shape (1, 3, 480, 640)\n",
      "\n",
      "0: 480x640 (no detections), 20.9ms\n",
      "Speed: 1.0ms preprocess, 20.9ms inference, 2.3ms postprocess per image at shape (1, 3, 480, 640)\n",
      "\n",
      "0: 480x640 (no detections), 20.9ms\n",
      "Speed: 1.3ms preprocess, 20.9ms inference, 1.8ms postprocess per image at shape (1, 3, 480, 640)\n",
      "\n",
      "0: 480x640 (no detections), 20.9ms\n",
      "Speed: 1.0ms preprocess, 20.9ms inference, 5.8ms postprocess per image at shape (1, 3, 480, 640)\n",
      "\n",
      "0: 480x640 1 Unripe, 20.9ms\n",
      "Speed: 1.0ms preprocess, 20.9ms inference, 3.0ms postprocess per image at shape (1, 3, 480, 640)\n",
      "tensor([232.3648, 113.0879, 370.2192, 249.4925], device='cuda:0')\n",
      "tensor(0., device='cuda:0')\n",
      "232 113 370 249\n",
      "\n",
      "0: 480x640 (no detections), 20.9ms\n",
      "Speed: 1.2ms preprocess, 20.9ms inference, 1.8ms postprocess per image at shape (1, 3, 480, 640)\n",
      "\n",
      "0: 480x640 (no detections), 20.9ms\n",
      "Speed: 1.0ms preprocess, 20.9ms inference, 2.6ms postprocess per image at shape (1, 3, 480, 640)\n",
      "\n",
      "0: 480x640 (no detections), 20.9ms\n",
      "Speed: 1.0ms preprocess, 20.9ms inference, 1.9ms postprocess per image at shape (1, 3, 480, 640)\n",
      "\n",
      "0: 480x640 (no detections), 20.9ms\n",
      "Speed: 1.0ms preprocess, 20.9ms inference, 1.8ms postprocess per image at shape (1, 3, 480, 640)\n",
      "\n",
      "0: 480x640 (no detections), 20.9ms\n",
      "Speed: 1.0ms preprocess, 20.9ms inference, 1.7ms postprocess per image at shape (1, 3, 480, 640)\n",
      "\n",
      "0: 480x640 (no detections), 20.9ms\n",
      "Speed: 1.6ms preprocess, 20.9ms inference, 2.2ms postprocess per image at shape (1, 3, 480, 640)\n",
      "\n",
      "0: 480x640 (no detections), 20.9ms\n",
      "Speed: 1.0ms preprocess, 20.9ms inference, 2.2ms postprocess per image at shape (1, 3, 480, 640)\n",
      "\n",
      "0: 480x640 (no detections), 20.9ms\n",
      "Speed: 1.0ms preprocess, 20.9ms inference, 1.9ms postprocess per image at shape (1, 3, 480, 640)\n",
      "\n",
      "0: 480x640 (no detections), 20.9ms\n",
      "Speed: 1.0ms preprocess, 20.9ms inference, 2.2ms postprocess per image at shape (1, 3, 480, 640)\n",
      "\n",
      "0: 480x640 (no detections), 20.9ms\n",
      "Speed: 1.0ms preprocess, 20.9ms inference, 2.0ms postprocess per image at shape (1, 3, 480, 640)\n",
      "\n",
      "0: 480x640 (no detections), 20.9ms\n",
      "Speed: 1.0ms preprocess, 20.9ms inference, 2.2ms postprocess per image at shape (1, 3, 480, 640)\n",
      "\n",
      "0: 480x640 (no detections), 20.9ms\n",
      "Speed: 1.0ms preprocess, 20.9ms inference, 2.2ms postprocess per image at shape (1, 3, 480, 640)\n",
      "\n",
      "0: 480x640 1 Unripe, 20.8ms\n",
      "Speed: 0.9ms preprocess, 20.8ms inference, 2.1ms postprocess per image at shape (1, 3, 480, 640)\n",
      "tensor([228.4845, 109.4614, 371.5161, 248.5078], device='cuda:0')\n",
      "tensor(0., device='cuda:0')\n",
      "228 109 371 248\n",
      "\n",
      "0: 480x640 (no detections), 20.8ms\n",
      "Speed: 0.9ms preprocess, 20.8ms inference, 1.7ms postprocess per image at shape (1, 3, 480, 640)\n",
      "\n",
      "0: 480x640 (no detections), 20.9ms\n",
      "Speed: 1.0ms preprocess, 20.9ms inference, 1.6ms postprocess per image at shape (1, 3, 480, 640)\n",
      "\n",
      "0: 480x640 (no detections), 20.9ms\n",
      "Speed: 1.4ms preprocess, 20.9ms inference, 1.9ms postprocess per image at shape (1, 3, 480, 640)\n",
      "\n",
      "0: 480x640 (no detections), 20.9ms\n",
      "Speed: 1.1ms preprocess, 20.9ms inference, 2.0ms postprocess per image at shape (1, 3, 480, 640)\n",
      "\n",
      "0: 480x640 (no detections), 20.9ms\n",
      "Speed: 1.0ms preprocess, 20.9ms inference, 1.6ms postprocess per image at shape (1, 3, 480, 640)\n",
      "\n",
      "0: 480x640 (no detections), 20.9ms\n",
      "Speed: 1.0ms preprocess, 20.9ms inference, 1.8ms postprocess per image at shape (1, 3, 480, 640)\n",
      "\n",
      "0: 480x640 (no detections), 20.9ms\n",
      "Speed: 0.9ms preprocess, 20.9ms inference, 1.5ms postprocess per image at shape (1, 3, 480, 640)\n",
      "\n",
      "0: 480x640 (no detections), 20.9ms\n",
      "Speed: 1.3ms preprocess, 20.9ms inference, 1.9ms postprocess per image at shape (1, 3, 480, 640)\n",
      "\n",
      "0: 480x640 (no detections), 20.9ms\n",
      "Speed: 1.0ms preprocess, 20.9ms inference, 1.9ms postprocess per image at shape (1, 3, 480, 640)\n",
      "\n",
      "0: 480x640 (no detections), 20.8ms\n",
      "Speed: 1.1ms preprocess, 20.8ms inference, 1.6ms postprocess per image at shape (1, 3, 480, 640)\n",
      "\n",
      "0: 480x640 (no detections), 20.9ms\n",
      "Speed: 1.0ms preprocess, 20.9ms inference, 2.1ms postprocess per image at shape (1, 3, 480, 640)\n",
      "\n",
      "0: 480x640 (no detections), 20.9ms\n",
      "Speed: 0.9ms preprocess, 20.9ms inference, 1.5ms postprocess per image at shape (1, 3, 480, 640)\n",
      "\n",
      "0: 480x640 1 Unripe, 20.9ms\n",
      "Speed: 1.2ms preprocess, 20.9ms inference, 2.7ms postprocess per image at shape (1, 3, 480, 640)\n",
      "tensor([235.9279, 113.5458, 375.2112, 250.9766], device='cuda:0')\n",
      "tensor(0., device='cuda:0')\n",
      "235 113 375 250\n",
      "\n",
      "0: 480x640 1 Unripe, 21.5ms\n",
      "Speed: 1.0ms preprocess, 21.5ms inference, 2.4ms postprocess per image at shape (1, 3, 480, 640)\n",
      "tensor([236.2536, 114.0684, 374.4980, 252.0310], device='cuda:0')\n",
      "tensor(0., device='cuda:0')\n",
      "236 114 374 252\n",
      "\n",
      "0: 480x640 1 Unripe, 21.6ms\n",
      "Speed: 1.1ms preprocess, 21.6ms inference, 2.3ms postprocess per image at shape (1, 3, 480, 640)\n",
      "tensor([229.1120, 113.1650, 374.8161, 250.7093], device='cuda:0')\n",
      "tensor(0., device='cuda:0')\n",
      "229 113 374 250\n",
      "\n",
      "0: 480x640 (no detections), 21.6ms\n",
      "Speed: 1.1ms preprocess, 21.6ms inference, 2.1ms postprocess per image at shape (1, 3, 480, 640)\n",
      "\n",
      "0: 480x640 (no detections), 21.6ms\n",
      "Speed: 1.0ms preprocess, 21.6ms inference, 1.5ms postprocess per image at shape (1, 3, 480, 640)\n",
      "\n",
      "0: 480x640 (no detections), 20.5ms\n",
      "Speed: 1.3ms preprocess, 20.5ms inference, 1.9ms postprocess per image at shape (1, 3, 480, 640)\n",
      "\n",
      "0: 480x640 (no detections), 20.5ms\n",
      "Speed: 0.9ms preprocess, 20.5ms inference, 2.2ms postprocess per image at shape (1, 3, 480, 640)\n",
      "\n",
      "0: 480x640 (no detections), 20.5ms\n",
      "Speed: 1.0ms preprocess, 20.5ms inference, 1.7ms postprocess per image at shape (1, 3, 480, 640)\n",
      "\n",
      "0: 480x640 (no detections), 20.5ms\n",
      "Speed: 0.9ms preprocess, 20.5ms inference, 2.1ms postprocess per image at shape (1, 3, 480, 640)\n",
      "\n",
      "0: 480x640 (no detections), 20.5ms\n",
      "Speed: 0.9ms preprocess, 20.5ms inference, 1.5ms postprocess per image at shape (1, 3, 480, 640)\n",
      "\n",
      "0: 480x640 (no detections), 20.5ms\n",
      "Speed: 1.0ms preprocess, 20.5ms inference, 1.8ms postprocess per image at shape (1, 3, 480, 640)\n",
      "\n",
      "0: 480x640 (no detections), 20.5ms\n",
      "Speed: 0.9ms preprocess, 20.5ms inference, 2.1ms postprocess per image at shape (1, 3, 480, 640)\n",
      "\n",
      "0: 480x640 (no detections), 20.5ms\n",
      "Speed: 1.0ms preprocess, 20.5ms inference, 1.8ms postprocess per image at shape (1, 3, 480, 640)\n",
      "\n",
      "0: 480x640 (no detections), 20.6ms\n",
      "Speed: 1.1ms preprocess, 20.6ms inference, 2.2ms postprocess per image at shape (1, 3, 480, 640)\n",
      "\n",
      "0: 480x640 (no detections), 20.5ms\n",
      "Speed: 1.0ms preprocess, 20.5ms inference, 1.7ms postprocess per image at shape (1, 3, 480, 640)\n",
      "\n",
      "0: 480x640 (no detections), 20.5ms\n",
      "Speed: 1.1ms preprocess, 20.5ms inference, 2.0ms postprocess per image at shape (1, 3, 480, 640)\n",
      "\n",
      "0: 480x640 (no detections), 20.5ms\n",
      "Speed: 1.0ms preprocess, 20.5ms inference, 2.0ms postprocess per image at shape (1, 3, 480, 640)\n",
      "\n",
      "0: 480x640 (no detections), 20.5ms\n",
      "Speed: 1.0ms preprocess, 20.5ms inference, 1.8ms postprocess per image at shape (1, 3, 480, 640)\n",
      "\n",
      "0: 480x640 (no detections), 20.5ms\n",
      "Speed: 0.9ms preprocess, 20.5ms inference, 1.8ms postprocess per image at shape (1, 3, 480, 640)\n",
      "\n",
      "0: 480x640 (no detections), 20.5ms\n",
      "Speed: 0.9ms preprocess, 20.5ms inference, 1.5ms postprocess per image at shape (1, 3, 480, 640)\n",
      "\n",
      "0: 480x640 (no detections), 20.5ms\n",
      "Speed: 1.0ms preprocess, 20.5ms inference, 1.9ms postprocess per image at shape (1, 3, 480, 640)\n",
      "\n",
      "0: 480x640 (no detections), 20.5ms\n",
      "Speed: 1.0ms preprocess, 20.5ms inference, 2.1ms postprocess per image at shape (1, 3, 480, 640)\n",
      "\n",
      "0: 480x640 (no detections), 20.5ms\n",
      "Speed: 1.2ms preprocess, 20.5ms inference, 1.7ms postprocess per image at shape (1, 3, 480, 640)\n",
      "\n",
      "0: 480x640 (no detections), 20.6ms\n",
      "Speed: 1.2ms preprocess, 20.6ms inference, 2.1ms postprocess per image at shape (1, 3, 480, 640)\n",
      "\n",
      "0: 480x640 (no detections), 20.5ms\n",
      "Speed: 1.0ms preprocess, 20.5ms inference, 1.8ms postprocess per image at shape (1, 3, 480, 640)\n",
      "\n",
      "0: 480x640 (no detections), 20.5ms\n",
      "Speed: 1.1ms preprocess, 20.5ms inference, 2.0ms postprocess per image at shape (1, 3, 480, 640)\n",
      "\n",
      "0: 480x640 (no detections), 20.5ms\n",
      "Speed: 1.0ms preprocess, 20.5ms inference, 1.8ms postprocess per image at shape (1, 3, 480, 640)\n",
      "\n",
      "0: 480x640 (no detections), 20.5ms\n",
      "Speed: 1.2ms preprocess, 20.5ms inference, 2.1ms postprocess per image at shape (1, 3, 480, 640)\n",
      "\n",
      "0: 480x640 (no detections), 20.5ms\n",
      "Speed: 1.5ms preprocess, 20.5ms inference, 2.3ms postprocess per image at shape (1, 3, 480, 640)\n",
      "\n",
      "0: 480x640 (no detections), 20.5ms\n",
      "Speed: 1.0ms preprocess, 20.5ms inference, 1.7ms postprocess per image at shape (1, 3, 480, 640)\n",
      "\n",
      "0: 480x640 (no detections), 20.5ms\n",
      "Speed: 1.3ms preprocess, 20.5ms inference, 2.2ms postprocess per image at shape (1, 3, 480, 640)\n",
      "\n",
      "0: 480x640 (no detections), 20.5ms\n",
      "Speed: 1.0ms preprocess, 20.5ms inference, 1.9ms postprocess per image at shape (1, 3, 480, 640)\n",
      "\n",
      "0: 480x640 1 Unripe, 20.5ms\n",
      "Speed: 1.3ms preprocess, 20.5ms inference, 2.3ms postprocess per image at shape (1, 3, 480, 640)\n",
      "tensor([262.3527, 112.2907, 399.5510, 249.9309], device='cuda:0')\n",
      "tensor(0., device='cuda:0')\n",
      "262 112 399 249\n",
      "\n",
      "0: 480x640 (no detections), 20.6ms\n",
      "Speed: 1.4ms preprocess, 20.6ms inference, 2.9ms postprocess per image at shape (1, 3, 480, 640)\n",
      "\n",
      "0: 480x640 (no detections), 20.5ms\n",
      "Speed: 1.0ms preprocess, 20.5ms inference, 1.8ms postprocess per image at shape (1, 3, 480, 640)\n",
      "\n",
      "0: 480x640 (no detections), 20.9ms\n",
      "Speed: 0.9ms preprocess, 20.9ms inference, 2.3ms postprocess per image at shape (1, 3, 480, 640)\n",
      "\n",
      "0: 480x640 (no detections), 20.9ms\n",
      "Speed: 1.0ms preprocess, 20.9ms inference, 1.9ms postprocess per image at shape (1, 3, 480, 640)\n",
      "\n",
      "0: 480x640 (no detections), 20.9ms\n",
      "Speed: 1.1ms preprocess, 20.9ms inference, 1.8ms postprocess per image at shape (1, 3, 480, 640)\n",
      "\n",
      "0: 480x640 (no detections), 21.1ms\n",
      "Speed: 1.5ms preprocess, 21.1ms inference, 2.9ms postprocess per image at shape (1, 3, 480, 640)\n",
      "\n",
      "0: 480x640 (no detections), 21.1ms\n",
      "Speed: 1.0ms preprocess, 21.1ms inference, 2.6ms postprocess per image at shape (1, 3, 480, 640)\n",
      "\n",
      "0: 480x640 (no detections), 21.1ms\n",
      "Speed: 1.1ms preprocess, 21.1ms inference, 2.1ms postprocess per image at shape (1, 3, 480, 640)\n",
      "\n",
      "0: 480x640 (no detections), 21.1ms\n",
      "Speed: 1.1ms preprocess, 21.1ms inference, 1.8ms postprocess per image at shape (1, 3, 480, 640)\n",
      "\n",
      "0: 480x640 (no detections), 21.1ms\n",
      "Speed: 1.2ms preprocess, 21.1ms inference, 1.8ms postprocess per image at shape (1, 3, 480, 640)\n",
      "\n",
      "0: 480x640 (no detections), 21.2ms\n",
      "Speed: 1.4ms preprocess, 21.2ms inference, 2.2ms postprocess per image at shape (1, 3, 480, 640)\n",
      "\n",
      "0: 480x640 (no detections), 21.1ms\n",
      "Speed: 1.1ms preprocess, 21.1ms inference, 2.0ms postprocess per image at shape (1, 3, 480, 640)\n",
      "\n",
      "0: 480x640 (no detections), 21.3ms\n",
      "Speed: 1.0ms preprocess, 21.3ms inference, 2.0ms postprocess per image at shape (1, 3, 480, 640)\n",
      "\n",
      "0: 480x640 (no detections), 21.3ms\n",
      "Speed: 1.0ms preprocess, 21.3ms inference, 1.8ms postprocess per image at shape (1, 3, 480, 640)\n",
      "\n",
      "0: 480x640 (no detections), 21.3ms\n",
      "Speed: 1.3ms preprocess, 21.3ms inference, 1.8ms postprocess per image at shape (1, 3, 480, 640)\n",
      "\n",
      "0: 480x640 (no detections), 21.5ms\n",
      "Speed: 1.5ms preprocess, 21.5ms inference, 2.2ms postprocess per image at shape (1, 3, 480, 640)\n",
      "\n",
      "0: 480x640 (no detections), 21.5ms\n",
      "Speed: 1.0ms preprocess, 21.5ms inference, 2.3ms postprocess per image at shape (1, 3, 480, 640)\n",
      "\n",
      "0: 480x640 (no detections), 21.4ms\n",
      "Speed: 0.9ms preprocess, 21.4ms inference, 1.7ms postprocess per image at shape (1, 3, 480, 640)\n",
      "\n",
      "0: 480x640 (no detections), 21.5ms\n",
      "Speed: 1.0ms preprocess, 21.5ms inference, 1.8ms postprocess per image at shape (1, 3, 480, 640)\n",
      "\n",
      "0: 480x640 (no detections), 21.4ms\n",
      "Speed: 0.9ms preprocess, 21.4ms inference, 1.7ms postprocess per image at shape (1, 3, 480, 640)\n",
      "\n",
      "0: 480x640 (no detections), 21.4ms\n",
      "Speed: 1.4ms preprocess, 21.4ms inference, 1.9ms postprocess per image at shape (1, 3, 480, 640)\n",
      "\n",
      "0: 480x640 (no detections), 21.5ms\n",
      "Speed: 1.2ms preprocess, 21.5ms inference, 4.1ms postprocess per image at shape (1, 3, 480, 640)\n",
      "\n",
      "0: 480x640 (no detections), 21.5ms\n",
      "Speed: 1.4ms preprocess, 21.5ms inference, 1.9ms postprocess per image at shape (1, 3, 480, 640)\n",
      "\n",
      "0: 480x640 (no detections), 21.5ms\n",
      "Speed: 1.0ms preprocess, 21.5ms inference, 1.9ms postprocess per image at shape (1, 3, 480, 640)\n",
      "\n",
      "0: 480x640 (no detections), 21.5ms\n",
      "Speed: 1.1ms preprocess, 21.5ms inference, 1.7ms postprocess per image at shape (1, 3, 480, 640)\n",
      "\n",
      "0: 480x640 (no detections), 21.5ms\n",
      "Speed: 1.4ms preprocess, 21.5ms inference, 2.1ms postprocess per image at shape (1, 3, 480, 640)\n",
      "\n",
      "0: 480x640 (no detections), 21.5ms\n",
      "Speed: 1.0ms preprocess, 21.5ms inference, 2.1ms postprocess per image at shape (1, 3, 480, 640)\n",
      "\n",
      "0: 480x640 (no detections), 21.4ms\n",
      "Speed: 1.0ms preprocess, 21.4ms inference, 2.0ms postprocess per image at shape (1, 3, 480, 640)\n",
      "\n",
      "0: 480x640 (no detections), 21.4ms\n",
      "Speed: 1.0ms preprocess, 21.4ms inference, 1.9ms postprocess per image at shape (1, 3, 480, 640)\n",
      "\n",
      "0: 480x640 (no detections), 21.4ms\n",
      "Speed: 1.1ms preprocess, 21.4ms inference, 1.8ms postprocess per image at shape (1, 3, 480, 640)\n",
      "\n",
      "0: 480x640 (no detections), 21.5ms\n",
      "Speed: 1.3ms preprocess, 21.5ms inference, 2.3ms postprocess per image at shape (1, 3, 480, 640)\n",
      "\n",
      "0: 480x640 (no detections), 21.5ms\n",
      "Speed: 1.0ms preprocess, 21.5ms inference, 1.9ms postprocess per image at shape (1, 3, 480, 640)\n",
      "\n",
      "0: 480x640 (no detections), 21.4ms\n",
      "Speed: 1.0ms preprocess, 21.4ms inference, 2.1ms postprocess per image at shape (1, 3, 480, 640)\n",
      "\n",
      "0: 480x640 (no detections), 21.4ms\n",
      "Speed: 1.0ms preprocess, 21.4ms inference, 1.9ms postprocess per image at shape (1, 3, 480, 640)\n",
      "\n",
      "0: 480x640 (no detections), 21.5ms\n",
      "Speed: 1.1ms preprocess, 21.5ms inference, 1.8ms postprocess per image at shape (1, 3, 480, 640)\n",
      "\n",
      "0: 480x640 (no detections), 21.5ms\n",
      "Speed: 1.1ms preprocess, 21.5ms inference, 2.2ms postprocess per image at shape (1, 3, 480, 640)\n",
      "\n",
      "0: 480x640 (no detections), 21.4ms\n",
      "Speed: 1.0ms preprocess, 21.4ms inference, 1.9ms postprocess per image at shape (1, 3, 480, 640)\n",
      "\n",
      "0: 480x640 (no detections), 21.4ms\n",
      "Speed: 1.3ms preprocess, 21.4ms inference, 1.9ms postprocess per image at shape (1, 3, 480, 640)\n",
      "\n",
      "0: 480x640 (no detections), 21.5ms\n",
      "Speed: 1.1ms preprocess, 21.5ms inference, 1.9ms postprocess per image at shape (1, 3, 480, 640)\n",
      "\n",
      "0: 480x640 (no detections), 21.5ms\n",
      "Speed: 1.3ms preprocess, 21.5ms inference, 1.8ms postprocess per image at shape (1, 3, 480, 640)\n",
      "\n",
      "0: 480x640 (no detections), 21.5ms\n",
      "Speed: 1.2ms preprocess, 21.5ms inference, 2.3ms postprocess per image at shape (1, 3, 480, 640)\n",
      "\n",
      "0: 480x640 (no detections), 21.4ms\n",
      "Speed: 1.0ms preprocess, 21.4ms inference, 2.2ms postprocess per image at shape (1, 3, 480, 640)\n",
      "\n",
      "0: 480x640 (no detections), 21.4ms\n",
      "Speed: 1.1ms preprocess, 21.4ms inference, 1.8ms postprocess per image at shape (1, 3, 480, 640)\n",
      "\n",
      "0: 480x640 (no detections), 21.5ms\n",
      "Speed: 1.0ms preprocess, 21.5ms inference, 1.8ms postprocess per image at shape (1, 3, 480, 640)\n",
      "\n",
      "0: 480x640 (no detections), 21.5ms\n",
      "Speed: 1.0ms preprocess, 21.5ms inference, 1.8ms postprocess per image at shape (1, 3, 480, 640)\n",
      "\n",
      "0: 480x640 (no detections), 21.5ms\n",
      "Speed: 1.3ms preprocess, 21.5ms inference, 1.9ms postprocess per image at shape (1, 3, 480, 640)\n",
      "\n",
      "0: 480x640 (no detections), 21.4ms\n",
      "Speed: 1.0ms preprocess, 21.4ms inference, 2.1ms postprocess per image at shape (1, 3, 480, 640)\n",
      "\n",
      "0: 480x640 (no detections), 21.5ms\n",
      "Speed: 1.2ms preprocess, 21.5ms inference, 4.0ms postprocess per image at shape (1, 3, 480, 640)\n",
      "\n",
      "0: 480x640 (no detections), 21.7ms\n",
      "Speed: 3.3ms preprocess, 21.7ms inference, 1.7ms postprocess per image at shape (1, 3, 480, 640)\n",
      "\n",
      "0: 480x640 (no detections), 21.9ms\n",
      "Speed: 0.9ms preprocess, 21.9ms inference, 1.6ms postprocess per image at shape (1, 3, 480, 640)\n",
      "\n",
      "0: 480x640 (no detections), 21.9ms\n",
      "Speed: 1.3ms preprocess, 21.9ms inference, 2.1ms postprocess per image at shape (1, 3, 480, 640)\n",
      "\n",
      "0: 480x640 (no detections), 21.8ms\n",
      "Speed: 1.0ms preprocess, 21.8ms inference, 1.9ms postprocess per image at shape (1, 3, 480, 640)\n",
      "\n",
      "0: 480x640 (no detections), 21.7ms\n",
      "Speed: 1.2ms preprocess, 21.7ms inference, 2.0ms postprocess per image at shape (1, 3, 480, 640)\n",
      "\n",
      "0: 480x640 (no detections), 21.7ms\n",
      "Speed: 0.9ms preprocess, 21.7ms inference, 1.6ms postprocess per image at shape (1, 3, 480, 640)\n",
      "\n",
      "0: 480x640 (no detections), 21.7ms\n",
      "Speed: 0.9ms preprocess, 21.7ms inference, 1.8ms postprocess per image at shape (1, 3, 480, 640)\n",
      "\n",
      "0: 480x640 (no detections), 21.7ms\n",
      "Speed: 1.1ms preprocess, 21.7ms inference, 1.8ms postprocess per image at shape (1, 3, 480, 640)\n",
      "\n",
      "0: 480x640 (no detections), 21.7ms\n",
      "Speed: 1.0ms preprocess, 21.7ms inference, 2.0ms postprocess per image at shape (1, 3, 480, 640)\n",
      "\n",
      "0: 480x640 (no detections), 21.7ms\n",
      "Speed: 1.3ms preprocess, 21.7ms inference, 1.9ms postprocess per image at shape (1, 3, 480, 640)\n",
      "\n",
      "0: 480x640 (no detections), 21.7ms\n",
      "Speed: 1.0ms preprocess, 21.7ms inference, 1.9ms postprocess per image at shape (1, 3, 480, 640)\n",
      "\n",
      "0: 480x640 (no detections), 21.6ms\n",
      "Speed: 1.0ms preprocess, 21.6ms inference, 1.8ms postprocess per image at shape (1, 3, 480, 640)\n",
      "\n",
      "0: 480x640 (no detections), 21.7ms\n",
      "Speed: 1.2ms preprocess, 21.7ms inference, 2.0ms postprocess per image at shape (1, 3, 480, 640)\n",
      "\n",
      "0: 480x640 (no detections), 21.7ms\n",
      "Speed: 1.0ms preprocess, 21.7ms inference, 2.6ms postprocess per image at shape (1, 3, 480, 640)\n",
      "\n",
      "0: 480x640 (no detections), 21.7ms\n",
      "Speed: 1.2ms preprocess, 21.7ms inference, 2.1ms postprocess per image at shape (1, 3, 480, 640)\n",
      "\n",
      "0: 480x640 (no detections), 21.7ms\n",
      "Speed: 1.1ms preprocess, 21.7ms inference, 2.1ms postprocess per image at shape (1, 3, 480, 640)\n",
      "\n",
      "0: 480x640 (no detections), 21.6ms\n",
      "Speed: 1.0ms preprocess, 21.6ms inference, 1.8ms postprocess per image at shape (1, 3, 480, 640)\n",
      "\n",
      "0: 480x640 (no detections), 21.7ms\n",
      "Speed: 1.3ms preprocess, 21.7ms inference, 2.4ms postprocess per image at shape (1, 3, 480, 640)\n",
      "\n",
      "0: 480x640 (no detections), 21.7ms\n",
      "Speed: 1.0ms preprocess, 21.7ms inference, 2.0ms postprocess per image at shape (1, 3, 480, 640)\n",
      "\n",
      "0: 480x640 (no detections), 21.7ms\n",
      "Speed: 1.4ms preprocess, 21.7ms inference, 1.8ms postprocess per image at shape (1, 3, 480, 640)\n",
      "\n",
      "0: 480x640 (no detections), 21.7ms\n",
      "Speed: 1.0ms preprocess, 21.7ms inference, 2.3ms postprocess per image at shape (1, 3, 480, 640)\n",
      "\n",
      "0: 480x640 (no detections), 21.6ms\n",
      "Speed: 1.1ms preprocess, 21.6ms inference, 1.9ms postprocess per image at shape (1, 3, 480, 640)\n",
      "\n",
      "0: 480x640 (no detections), 21.6ms\n",
      "Speed: 0.9ms preprocess, 21.6ms inference, 2.5ms postprocess per image at shape (1, 3, 480, 640)\n",
      "\n",
      "0: 480x640 (no detections), 21.7ms\n",
      "Speed: 1.0ms preprocess, 21.7ms inference, 2.0ms postprocess per image at shape (1, 3, 480, 640)\n",
      "\n",
      "0: 480x640 (no detections), 21.7ms\n",
      "Speed: 1.4ms preprocess, 21.7ms inference, 1.9ms postprocess per image at shape (1, 3, 480, 640)\n",
      "\n",
      "0: 480x640 (no detections), 21.6ms\n",
      "Speed: 1.0ms preprocess, 21.6ms inference, 2.0ms postprocess per image at shape (1, 3, 480, 640)\n",
      "\n",
      "0: 480x640 (no detections), 21.8ms\n",
      "Speed: 2.0ms preprocess, 21.8ms inference, 1.9ms postprocess per image at shape (1, 3, 480, 640)\n",
      "\n",
      "0: 480x640 (no detections), 21.6ms\n",
      "Speed: 1.0ms preprocess, 21.6ms inference, 1.8ms postprocess per image at shape (1, 3, 480, 640)\n",
      "\n",
      "0: 480x640 (no detections), 21.7ms\n",
      "Speed: 1.0ms preprocess, 21.7ms inference, 2.1ms postprocess per image at shape (1, 3, 480, 640)\n",
      "\n",
      "0: 480x640 (no detections), 21.7ms\n",
      "Speed: 1.0ms preprocess, 21.7ms inference, 2.2ms postprocess per image at shape (1, 3, 480, 640)\n",
      "\n",
      "0: 480x640 (no detections), 21.6ms\n",
      "Speed: 1.0ms preprocess, 21.6ms inference, 1.8ms postprocess per image at shape (1, 3, 480, 640)\n",
      "\n",
      "0: 480x640 (no detections), 21.6ms\n",
      "Speed: 1.0ms preprocess, 21.6ms inference, 1.5ms postprocess per image at shape (1, 3, 480, 640)\n",
      "\n",
      "0: 480x640 (no detections), 21.7ms\n",
      "Speed: 1.2ms preprocess, 21.7ms inference, 2.1ms postprocess per image at shape (1, 3, 480, 640)\n",
      "\n",
      "0: 480x640 (no detections), 21.6ms\n",
      "Speed: 1.0ms preprocess, 21.6ms inference, 1.9ms postprocess per image at shape (1, 3, 480, 640)\n",
      "\n",
      "0: 480x640 (no detections), 21.7ms\n",
      "Speed: 1.0ms preprocess, 21.7ms inference, 1.9ms postprocess per image at shape (1, 3, 480, 640)\n",
      "\n",
      "0: 480x640 (no detections), 21.7ms\n",
      "Speed: 1.1ms preprocess, 21.7ms inference, 1.8ms postprocess per image at shape (1, 3, 480, 640)\n",
      "\n",
      "0: 480x640 (no detections), 21.6ms\n",
      "Speed: 1.0ms preprocess, 21.6ms inference, 1.8ms postprocess per image at shape (1, 3, 480, 640)\n",
      "\n",
      "0: 480x640 (no detections), 21.7ms\n",
      "Speed: 1.1ms preprocess, 21.7ms inference, 1.9ms postprocess per image at shape (1, 3, 480, 640)\n",
      "\n",
      "0: 480x640 1 Unripe, 21.7ms\n",
      "Speed: 1.0ms preprocess, 21.7ms inference, 2.5ms postprocess per image at shape (1, 3, 480, 640)\n",
      "tensor([199.5537,   4.9861, 350.9623, 156.9849], device='cuda:0')\n",
      "tensor(0., device='cuda:0')\n",
      "199 4 350 156\n",
      "\n",
      "0: 480x640 (no detections), 21.6ms\n",
      "Speed: 0.9ms preprocess, 21.6ms inference, 2.0ms postprocess per image at shape (1, 3, 480, 640)\n",
      "\n",
      "0: 480x640 (no detections), 21.7ms\n",
      "Speed: 1.2ms preprocess, 21.7ms inference, 1.9ms postprocess per image at shape (1, 3, 480, 640)\n",
      "\n",
      "0: 480x640 (no detections), 21.7ms\n",
      "Speed: 1.0ms preprocess, 21.7ms inference, 1.9ms postprocess per image at shape (1, 3, 480, 640)\n",
      "\n",
      "0: 480x640 (no detections), 21.7ms\n",
      "Speed: 1.1ms preprocess, 21.7ms inference, 2.1ms postprocess per image at shape (1, 3, 480, 640)\n",
      "\n",
      "0: 480x640 (no detections), 21.7ms\n",
      "Speed: 1.0ms preprocess, 21.7ms inference, 1.9ms postprocess per image at shape (1, 3, 480, 640)\n",
      "\n",
      "0: 480x640 (no detections), 21.7ms\n",
      "Speed: 0.9ms preprocess, 21.7ms inference, 1.6ms postprocess per image at shape (1, 3, 480, 640)\n",
      "\n",
      "0: 480x640 (no detections), 21.8ms\n",
      "Speed: 1.0ms preprocess, 21.8ms inference, 1.7ms postprocess per image at shape (1, 3, 480, 640)\n",
      "\n",
      "0: 480x640 (no detections), 21.7ms\n",
      "Speed: 0.9ms preprocess, 21.7ms inference, 1.7ms postprocess per image at shape (1, 3, 480, 640)\n",
      "\n",
      "0: 480x640 (no detections), 22.0ms\n",
      "Speed: 1.1ms preprocess, 22.0ms inference, 1.8ms postprocess per image at shape (1, 3, 480, 640)\n",
      "\n",
      "0: 480x640 (no detections), 22.0ms\n",
      "Speed: 1.0ms preprocess, 22.0ms inference, 2.0ms postprocess per image at shape (1, 3, 480, 640)\n",
      "\n",
      "0: 480x640 (no detections), 22.0ms\n",
      "Speed: 1.1ms preprocess, 22.0ms inference, 1.8ms postprocess per image at shape (1, 3, 480, 640)\n",
      "\n",
      "0: 480x640 (no detections), 22.0ms\n",
      "Speed: 1.3ms preprocess, 22.0ms inference, 2.1ms postprocess per image at shape (1, 3, 480, 640)\n",
      "\n",
      "0: 480x640 (no detections), 22.0ms\n",
      "Speed: 0.9ms preprocess, 22.0ms inference, 1.8ms postprocess per image at shape (1, 3, 480, 640)\n",
      "\n",
      "0: 480x640 (no detections), 22.0ms\n",
      "Speed: 1.1ms preprocess, 22.0ms inference, 2.2ms postprocess per image at shape (1, 3, 480, 640)\n",
      "\n",
      "0: 480x640 (no detections), 22.0ms\n",
      "Speed: 1.5ms preprocess, 22.0ms inference, 3.0ms postprocess per image at shape (1, 3, 480, 640)\n",
      "\n",
      "0: 480x640 (no detections), 22.0ms\n",
      "Speed: 1.1ms preprocess, 22.0ms inference, 1.6ms postprocess per image at shape (1, 3, 480, 640)\n",
      "\n",
      "0: 480x640 (no detections), 22.0ms\n",
      "Speed: 1.0ms preprocess, 22.0ms inference, 1.7ms postprocess per image at shape (1, 3, 480, 640)\n",
      "\n",
      "0: 480x640 (no detections), 22.0ms\n",
      "Speed: 1.4ms preprocess, 22.0ms inference, 1.9ms postprocess per image at shape (1, 3, 480, 640)\n",
      "\n",
      "0: 480x640 (no detections), 22.3ms\n",
      "Speed: 0.9ms preprocess, 22.3ms inference, 1.8ms postprocess per image at shape (1, 3, 480, 640)\n",
      "\n",
      "0: 480x640 (no detections), 22.3ms\n",
      "Speed: 1.0ms preprocess, 22.3ms inference, 1.9ms postprocess per image at shape (1, 3, 480, 640)\n",
      "\n",
      "0: 480x640 (no detections), 22.2ms\n",
      "Speed: 1.0ms preprocess, 22.2ms inference, 1.8ms postprocess per image at shape (1, 3, 480, 640)\n",
      "\n",
      "0: 480x640 (no detections), 22.2ms\n",
      "Speed: 1.2ms preprocess, 22.2ms inference, 2.4ms postprocess per image at shape (1, 3, 480, 640)\n",
      "\n",
      "0: 480x640 (no detections), 22.2ms\n",
      "Speed: 1.0ms preprocess, 22.2ms inference, 2.0ms postprocess per image at shape (1, 3, 480, 640)\n",
      "\n",
      "0: 480x640 (no detections), 22.1ms\n",
      "Speed: 1.1ms preprocess, 22.1ms inference, 1.9ms postprocess per image at shape (1, 3, 480, 640)\n",
      "\n",
      "0: 480x640 1 Unripe, 22.1ms\n",
      "Speed: 1.0ms preprocess, 22.1ms inference, 2.7ms postprocess per image at shape (1, 3, 480, 640)\n",
      "tensor([192.6025,  37.7288, 327.5664, 172.8561], device='cuda:0')\n",
      "tensor(0., device='cuda:0')\n",
      "192 37 327 172\n",
      "\n",
      "0: 480x640 (no detections), 22.2ms\n",
      "Speed: 1.0ms preprocess, 22.2ms inference, 1.7ms postprocess per image at shape (1, 3, 480, 640)\n",
      "\n",
      "0: 480x640 1 Unripe, 22.2ms\n",
      "Speed: 1.3ms preprocess, 22.2ms inference, 2.3ms postprocess per image at shape (1, 3, 480, 640)\n",
      "tensor([176.7393,  56.3237, 305.1172, 191.2923], device='cuda:0')\n",
      "tensor(0., device='cuda:0')\n",
      "176 56 305 191\n",
      "\n",
      "0: 480x640 1 Unripe, 22.2ms\n",
      "Speed: 1.0ms preprocess, 22.2ms inference, 2.6ms postprocess per image at shape (1, 3, 480, 640)\n",
      "tensor([174.4467,  44.3188, 304.3068, 185.2762], device='cuda:0')\n",
      "tensor(0., device='cuda:0')\n",
      "174 44 304 185\n",
      "\n",
      "0: 480x640 1 Unripe, 22.1ms\n",
      "Speed: 0.9ms preprocess, 22.1ms inference, 2.0ms postprocess per image at shape (1, 3, 480, 640)\n",
      "tensor([174.9508,  35.3708, 303.3875, 169.7332], device='cuda:0')\n",
      "tensor(0., device='cuda:0')\n",
      "174 35 303 169\n",
      "\n",
      "0: 480x640 1 Unripe, 22.1ms\n",
      "Speed: 0.9ms preprocess, 22.1ms inference, 3.1ms postprocess per image at shape (1, 3, 480, 640)\n",
      "tensor([174.4567,  35.0725, 302.2597, 162.4834], device='cuda:0')\n",
      "tensor(0., device='cuda:0')\n",
      "174 35 302 162\n",
      "\n",
      "0: 480x640 1 Unripe, 22.2ms\n",
      "Speed: 1.0ms preprocess, 22.2ms inference, 2.1ms postprocess per image at shape (1, 3, 480, 640)\n",
      "tensor([166.8869,  34.9749, 297.4207, 166.9289], device='cuda:0')\n",
      "tensor(0., device='cuda:0')\n",
      "166 34 297 166\n",
      "\n",
      "0: 480x640 1 Unripe, 22.2ms\n",
      "Speed: 1.1ms preprocess, 22.2ms inference, 2.4ms postprocess per image at shape (1, 3, 480, 640)\n",
      "tensor([161.6687,  28.8620, 291.6208, 160.3409], device='cuda:0')\n",
      "tensor(0., device='cuda:0')\n",
      "161 28 291 160\n",
      "\n",
      "0: 480x640 1 Unripe, 22.0ms\n",
      "Speed: 1.0ms preprocess, 22.0ms inference, 2.5ms postprocess per image at shape (1, 3, 480, 640)\n",
      "tensor([156.6501,  31.5077, 287.1533, 165.3488], device='cuda:0')\n",
      "tensor(0., device='cuda:0')\n",
      "156 31 287 165\n",
      "\n",
      "0: 480x640 1 Unripe, 22.1ms\n",
      "Speed: 1.2ms preprocess, 22.1ms inference, 2.2ms postprocess per image at shape (1, 3, 480, 640)\n",
      "tensor([158.6233,  37.4001, 286.9908, 168.6832], device='cuda:0')\n",
      "tensor(0., device='cuda:0')\n",
      "158 37 286 168\n",
      "\n",
      "0: 480x640 (no detections), 22.1ms\n",
      "Speed: 1.0ms preprocess, 22.1ms inference, 2.4ms postprocess per image at shape (1, 3, 480, 640)\n",
      "\n",
      "0: 480x640 1 Unripe, 22.1ms\n",
      "Speed: 1.1ms preprocess, 22.1ms inference, 2.0ms postprocess per image at shape (1, 3, 480, 640)\n",
      "tensor([160.1811,  22.9102, 289.2523, 155.7310], device='cuda:0')\n",
      "tensor(0., device='cuda:0')\n",
      "160 22 289 155\n",
      "\n",
      "0: 480x640 1 Unripe, 22.2ms\n",
      "Speed: 1.3ms preprocess, 22.2ms inference, 2.9ms postprocess per image at shape (1, 3, 480, 640)\n",
      "tensor([158.6254,  23.3332, 289.2023, 157.6219], device='cuda:0')\n",
      "tensor(0., device='cuda:0')\n",
      "158 23 289 157\n",
      "\n",
      "0: 480x640 (no detections), 22.1ms\n",
      "Speed: 1.0ms preprocess, 22.1ms inference, 2.7ms postprocess per image at shape (1, 3, 480, 640)\n",
      "\n",
      "0: 480x640 1 Unripe, 22.1ms\n",
      "Speed: 1.4ms preprocess, 22.1ms inference, 2.0ms postprocess per image at shape (1, 3, 480, 640)\n",
      "tensor([143.4918,  25.6079, 277.6937, 157.8551], device='cuda:0')\n",
      "tensor(0., device='cuda:0')\n",
      "143 25 277 157\n",
      "\n",
      "0: 480x640 1 Unripe, 22.1ms\n",
      "Speed: 1.0ms preprocess, 22.1ms inference, 3.4ms postprocess per image at shape (1, 3, 480, 640)\n",
      "tensor([139.3641,  26.7498, 273.7776, 160.5755], device='cuda:0')\n",
      "tensor(0., device='cuda:0')\n",
      "139 26 273 160\n",
      "\n",
      "0: 480x640 1 Unripe, 22.1ms\n",
      "Speed: 1.1ms preprocess, 22.1ms inference, 2.3ms postprocess per image at shape (1, 3, 480, 640)\n",
      "tensor([134.4299,  32.2835, 271.0435, 165.2892], device='cuda:0')\n",
      "tensor(0., device='cuda:0')\n",
      "134 32 271 165\n",
      "\n",
      "0: 480x640 1 Unripe, 22.0ms\n",
      "Speed: 1.5ms preprocess, 22.0ms inference, 2.2ms postprocess per image at shape (1, 3, 480, 640)\n",
      "tensor([130.3656,  32.6431, 267.3952, 168.2650], device='cuda:0')\n",
      "tensor(0., device='cuda:0')\n",
      "130 32 267 168\n",
      "\n",
      "0: 480x640 1 Unripe, 22.0ms\n",
      "Speed: 1.0ms preprocess, 22.0ms inference, 2.7ms postprocess per image at shape (1, 3, 480, 640)\n",
      "tensor([129.3733,  26.7495, 262.9599, 164.8521], device='cuda:0')\n",
      "tensor(0., device='cuda:0')\n",
      "129 26 262 164\n",
      "\n",
      "0: 480x640 1 Unripe, 22.0ms\n",
      "Speed: 1.2ms preprocess, 22.0ms inference, 2.3ms postprocess per image at shape (1, 3, 480, 640)\n",
      "tensor([127.1803,  29.8601, 261.7992, 169.3582], device='cuda:0')\n",
      "tensor(0., device='cuda:0')\n",
      "127 29 261 169\n",
      "\n",
      "0: 480x640 1 Unripe, 22.0ms\n",
      "Speed: 1.0ms preprocess, 22.0ms inference, 2.7ms postprocess per image at shape (1, 3, 480, 640)\n",
      "tensor([127.1892,  35.9420, 260.0657, 172.6389], device='cuda:0')\n",
      "tensor(0., device='cuda:0')\n",
      "127 35 260 172\n",
      "\n",
      "0: 480x640 1 Unripe, 22.0ms\n",
      "Speed: 0.9ms preprocess, 22.0ms inference, 2.0ms postprocess per image at shape (1, 3, 480, 640)\n",
      "tensor([125.6826,  27.9713, 260.8260, 165.9090], device='cuda:0')\n",
      "tensor(0., device='cuda:0')\n",
      "125 27 260 165\n",
      "\n",
      "0: 480x640 1 Unripe, 22.0ms\n",
      "Speed: 1.5ms preprocess, 22.0ms inference, 2.5ms postprocess per image at shape (1, 3, 480, 640)\n",
      "tensor([126.2362,  26.5101, 260.5762, 164.8989], device='cuda:0')\n",
      "tensor(0., device='cuda:0')\n",
      "126 26 260 164\n",
      "\n",
      "0: 480x640 1 Unripe, 22.0ms\n",
      "Speed: 0.9ms preprocess, 22.0ms inference, 2.6ms postprocess per image at shape (1, 3, 480, 640)\n",
      "tensor([126.8673,  31.1244, 260.9416, 168.5001], device='cuda:0')\n",
      "tensor(0., device='cuda:0')\n",
      "126 31 260 168\n",
      "\n",
      "0: 480x640 1 Unripe, 22.0ms\n",
      "Speed: 1.2ms preprocess, 22.0ms inference, 2.3ms postprocess per image at shape (1, 3, 480, 640)\n",
      "tensor([126.3537,  31.3481, 262.3604, 167.6106], device='cuda:0')\n",
      "tensor(0., device='cuda:0')\n",
      "126 31 262 167\n",
      "\n",
      "0: 480x640 1 Unripe, 22.0ms\n",
      "Speed: 1.0ms preprocess, 22.0ms inference, 2.6ms postprocess per image at shape (1, 3, 480, 640)\n",
      "tensor([128.0136,  26.7471, 270.5191, 163.8381], device='cuda:0')\n",
      "tensor(0., device='cuda:0')\n",
      "128 26 270 163\n",
      "\n",
      "0: 480x640 1 Unripe, 22.0ms\n",
      "Speed: 1.1ms preprocess, 22.0ms inference, 2.4ms postprocess per image at shape (1, 3, 480, 640)\n",
      "tensor([132.1432,  27.8785, 278.1205, 166.4433], device='cuda:0')\n",
      "tensor(0., device='cuda:0')\n",
      "132 27 278 166\n",
      "\n",
      "0: 480x640 (no detections), 22.0ms\n",
      "Speed: 1.0ms preprocess, 22.0ms inference, 5.7ms postprocess per image at shape (1, 3, 480, 640)\n",
      "\n",
      "0: 480x640 (no detections), 22.1ms\n",
      "Speed: 1.2ms preprocess, 22.1ms inference, 2.5ms postprocess per image at shape (1, 3, 480, 640)\n",
      "\n",
      "0: 480x640 1 Unripe, 22.1ms\n",
      "Speed: 1.2ms preprocess, 22.1ms inference, 2.3ms postprocess per image at shape (1, 3, 480, 640)\n",
      "tensor([186.1467,  12.0033, 338.4819, 151.0888], device='cuda:0')\n",
      "tensor(0., device='cuda:0')\n",
      "186 12 338 151\n",
      "\n",
      "0: 480x640 1 Unripe, 22.0ms\n",
      "Speed: 1.0ms preprocess, 22.0ms inference, 2.9ms postprocess per image at shape (1, 3, 480, 640)\n",
      "tensor([201.9517,  12.5686, 338.1246, 149.4730], device='cuda:0')\n",
      "tensor(0., device='cuda:0')\n",
      "201 12 338 149\n",
      "\n",
      "0: 480x640 (no detections), 21.0ms\n",
      "Speed: 1.1ms preprocess, 21.0ms inference, 1.8ms postprocess per image at shape (1, 3, 480, 640)\n",
      "\n",
      "0: 480x640 (no detections), 21.1ms\n",
      "Speed: 1.3ms preprocess, 21.1ms inference, 1.8ms postprocess per image at shape (1, 3, 480, 640)\n",
      "\n",
      "0: 480x640 (no detections), 21.0ms\n",
      "Speed: 1.0ms preprocess, 21.0ms inference, 2.4ms postprocess per image at shape (1, 3, 480, 640)\n",
      "\n",
      "0: 480x640 1 Unripe, 21.0ms\n",
      "Speed: 1.3ms preprocess, 21.0ms inference, 2.3ms postprocess per image at shape (1, 3, 480, 640)\n",
      "tensor([219.3019,   0.8697, 350.3689, 132.9177], device='cuda:0')\n",
      "tensor(0., device='cuda:0')\n",
      "219 0 350 132\n",
      "\n",
      "0: 480x640 (no detections), 20.9ms\n",
      "Speed: 1.0ms preprocess, 20.9ms inference, 2.0ms postprocess per image at shape (1, 3, 480, 640)\n",
      "\n",
      "0: 480x640 (no detections), 21.0ms\n",
      "Speed: 1.1ms preprocess, 21.0ms inference, 1.8ms postprocess per image at shape (1, 3, 480, 640)\n",
      "\n",
      "0: 480x640 (no detections), 20.9ms\n",
      "Speed: 1.2ms preprocess, 20.9ms inference, 1.6ms postprocess per image at shape (1, 3, 480, 640)\n",
      "\n",
      "0: 480x640 (no detections), 21.0ms\n",
      "Speed: 1.0ms preprocess, 21.0ms inference, 2.4ms postprocess per image at shape (1, 3, 480, 640)\n",
      "\n",
      "0: 480x640 1 Unripe, 20.9ms\n",
      "Speed: 1.0ms preprocess, 20.9ms inference, 2.3ms postprocess per image at shape (1, 3, 480, 640)\n",
      "tensor([208.9250,  36.1349, 341.9780, 177.6775], device='cuda:0')\n",
      "tensor(0., device='cuda:0')\n",
      "208 36 341 177\n",
      "\n",
      "0: 480x640 1 Unripe, 20.9ms\n",
      "Speed: 0.9ms preprocess, 20.9ms inference, 2.6ms postprocess per image at shape (1, 3, 480, 640)\n",
      "tensor([211.2366,  39.5495, 345.1235, 183.8016], device='cuda:0')\n",
      "tensor(0., device='cuda:0')\n",
      "211 39 345 183\n",
      "\n",
      "0: 480x640 1 Unripe, 20.9ms\n",
      "Speed: 1.0ms preprocess, 20.9ms inference, 2.0ms postprocess per image at shape (1, 3, 480, 640)\n",
      "tensor([211.7109,  52.5854, 345.2542, 190.4446], device='cuda:0')\n",
      "tensor(0., device='cuda:0')\n",
      "211 52 345 190\n",
      "\n",
      "0: 480x640 1 Unripe, 21.0ms\n",
      "Speed: 1.2ms preprocess, 21.0ms inference, 2.3ms postprocess per image at shape (1, 3, 480, 640)\n",
      "tensor([211.4478,  53.8336, 347.4728, 188.4756], device='cuda:0')\n",
      "tensor(0., device='cuda:0')\n",
      "211 53 347 188\n",
      "\n",
      "0: 480x640 1 Unripe, 21.0ms\n",
      "Speed: 1.0ms preprocess, 21.0ms inference, 3.3ms postprocess per image at shape (1, 3, 480, 640)\n",
      "tensor([212.9503,  54.2813, 347.5264, 193.1746], device='cuda:0')\n",
      "tensor(0., device='cuda:0')\n",
      "212 54 347 193\n",
      "\n",
      "0: 480x640 (no detections), 21.0ms\n",
      "Speed: 1.0ms preprocess, 21.0ms inference, 2.1ms postprocess per image at shape (1, 3, 480, 640)\n",
      "\n",
      "0: 480x640 1 Unripe, 21.0ms\n",
      "Speed: 1.1ms preprocess, 21.0ms inference, 2.7ms postprocess per image at shape (1, 3, 480, 640)\n",
      "tensor([212.5424,  73.2838, 347.9599, 209.0692], device='cuda:0')\n",
      "tensor(0., device='cuda:0')\n",
      "212 73 347 209\n",
      "\n",
      "0: 480x640 1 Unripe, 21.0ms\n",
      "Speed: 1.3ms preprocess, 21.0ms inference, 2.5ms postprocess per image at shape (1, 3, 480, 640)\n",
      "tensor([213.6152,  74.1951, 351.0699, 213.0627], device='cuda:0')\n",
      "tensor(0., device='cuda:0')\n",
      "213 74 351 213\n",
      "\n",
      "0: 480x640 1 Unripe, 20.9ms\n",
      "Speed: 0.9ms preprocess, 20.9ms inference, 2.9ms postprocess per image at shape (1, 3, 480, 640)\n",
      "tensor([216.1957,  76.1008, 351.6504, 211.8592], device='cuda:0')\n",
      "tensor(0., device='cuda:0')\n",
      "216 76 351 211\n",
      "\n",
      "0: 480x640 1 Unripe, 20.9ms\n",
      "Speed: 1.1ms preprocess, 20.9ms inference, 2.4ms postprocess per image at shape (1, 3, 480, 640)\n",
      "tensor([213.5207,  74.4435, 351.7819, 212.1901], device='cuda:0')\n",
      "tensor(0., device='cuda:0')\n",
      "213 74 351 212\n",
      "\n",
      "0: 480x640 1 Unripe, 20.9ms\n",
      "Speed: 1.0ms preprocess, 20.9ms inference, 2.5ms postprocess per image at shape (1, 3, 480, 640)\n",
      "tensor([215.7493,  74.2228, 350.4759, 214.5630], device='cuda:0')\n",
      "tensor(0., device='cuda:0')\n",
      "215 74 350 214\n",
      "\n",
      "0: 480x640 1 Unripe, 20.9ms\n",
      "Speed: 1.0ms preprocess, 20.9ms inference, 2.5ms postprocess per image at shape (1, 3, 480, 640)\n",
      "tensor([212.9101,  77.1142, 349.0070, 214.4085], device='cuda:0')\n",
      "tensor(0., device='cuda:0')\n",
      "212 77 349 214\n",
      "\n",
      "0: 480x640 1 Unripe, 21.0ms\n",
      "Speed: 1.0ms preprocess, 21.0ms inference, 2.2ms postprocess per image at shape (1, 3, 480, 640)\n",
      "tensor([211.8693,  77.7251, 346.8372, 213.7966], device='cuda:0')\n",
      "tensor(0., device='cuda:0')\n",
      "211 77 346 213\n",
      "\n",
      "0: 480x640 1 Unripe, 20.9ms\n",
      "Speed: 1.0ms preprocess, 20.9ms inference, 2.3ms postprocess per image at shape (1, 3, 480, 640)\n",
      "tensor([209.7580,  76.2369, 345.7032, 213.0497], device='cuda:0')\n",
      "tensor(0., device='cuda:0')\n",
      "209 76 345 213\n",
      "\n",
      "0: 480x640 (no detections), 21.0ms\n",
      "Speed: 1.0ms preprocess, 21.0ms inference, 1.6ms postprocess per image at shape (1, 3, 480, 640)\n",
      "\n",
      "0: 480x640 (no detections), 20.9ms\n",
      "Speed: 1.3ms preprocess, 20.9ms inference, 2.0ms postprocess per image at shape (1, 3, 480, 640)\n",
      "\n",
      "0: 480x640 1 Unripe, 20.9ms\n",
      "Speed: 0.9ms preprocess, 20.9ms inference, 2.7ms postprocess per image at shape (1, 3, 480, 640)\n",
      "tensor([210.2122,  76.2472, 344.5839, 212.6380], device='cuda:0')\n",
      "tensor(0., device='cuda:0')\n",
      "210 76 344 212\n",
      "\n",
      "0: 480x640 (no detections), 21.0ms\n",
      "Speed: 1.1ms preprocess, 21.0ms inference, 1.9ms postprocess per image at shape (1, 3, 480, 640)\n",
      "\n",
      "0: 480x640 1 Unripe, 24.3ms\n",
      "Speed: 1.1ms preprocess, 24.3ms inference, 7.0ms postprocess per image at shape (1, 3, 480, 640)\n",
      "tensor([210.0743,  77.2662, 345.0816, 214.1272], device='cuda:0')\n",
      "tensor(0., device='cuda:0')\n",
      "210 77 345 214\n",
      "\n",
      "0: 480x640 (no detections), 20.9ms\n",
      "Speed: 1.0ms preprocess, 20.9ms inference, 1.7ms postprocess per image at shape (1, 3, 480, 640)\n",
      "\n",
      "0: 480x640 (no detections), 21.0ms\n",
      "Speed: 1.2ms preprocess, 21.0ms inference, 1.9ms postprocess per image at shape (1, 3, 480, 640)\n",
      "\n",
      "0: 480x640 1 Unripe, 21.3ms\n",
      "Speed: 1.1ms preprocess, 21.3ms inference, 2.3ms postprocess per image at shape (1, 3, 480, 640)\n",
      "tensor([208.5036,  74.3367, 344.9152, 211.4544], device='cuda:0')\n",
      "tensor(0., device='cuda:0')\n",
      "208 74 344 211\n",
      "\n",
      "0: 480x640 (no detections), 21.3ms\n",
      "Speed: 1.0ms preprocess, 21.3ms inference, 2.3ms postprocess per image at shape (1, 3, 480, 640)\n",
      "\n",
      "0: 480x640 1 Unripe, 21.3ms\n",
      "Speed: 1.1ms preprocess, 21.3ms inference, 2.5ms postprocess per image at shape (1, 3, 480, 640)\n",
      "tensor([210.2354,  70.3348, 344.9653, 205.9049], device='cuda:0')\n",
      "tensor(0., device='cuda:0')\n",
      "210 70 344 205\n",
      "\n",
      "0: 480x640 1 Unripe, 21.5ms\n",
      "Speed: 1.0ms preprocess, 21.5ms inference, 2.3ms postprocess per image at shape (1, 3, 480, 640)\n",
      "tensor([210.6472,  68.1593, 345.2124, 203.7747], device='cuda:0')\n",
      "tensor(0., device='cuda:0')\n",
      "210 68 345 203\n",
      "\n",
      "0: 480x640 1 Unripe, 21.5ms\n",
      "Speed: 1.4ms preprocess, 21.5ms inference, 2.5ms postprocess per image at shape (1, 3, 480, 640)\n",
      "tensor([210.3991,  69.0958, 345.5490, 203.6906], device='cuda:0')\n",
      "tensor(0., device='cuda:0')\n",
      "210 69 345 203\n",
      "\n",
      "0: 480x640 1 Unripe, 21.4ms\n",
      "Speed: 1.0ms preprocess, 21.4ms inference, 3.0ms postprocess per image at shape (1, 3, 480, 640)\n",
      "tensor([209.2745,  70.7854, 343.7146, 205.2873], device='cuda:0')\n",
      "tensor(0., device='cuda:0')\n",
      "209 70 343 205\n",
      "\n",
      "0: 480x640 1 Unripe, 21.5ms\n",
      "Speed: 1.1ms preprocess, 21.5ms inference, 2.4ms postprocess per image at shape (1, 3, 480, 640)\n",
      "tensor([209.7355,  70.2088, 341.3531, 205.0320], device='cuda:0')\n",
      "tensor(0., device='cuda:0')\n",
      "209 70 341 205\n",
      "\n",
      "0: 480x640 1 Unripe, 21.5ms\n",
      "Speed: 0.9ms preprocess, 21.5ms inference, 2.8ms postprocess per image at shape (1, 3, 480, 640)\n",
      "tensor([208.0762,  70.5187, 341.3261, 207.4528], device='cuda:0')\n",
      "tensor(0., device='cuda:0')\n",
      "208 70 341 207\n",
      "\n",
      "0: 480x640 1 Unripe, 21.5ms\n",
      "Speed: 1.0ms preprocess, 21.5ms inference, 2.8ms postprocess per image at shape (1, 3, 480, 640)\n",
      "tensor([208.0077,  72.4099, 342.5911, 209.9602], device='cuda:0')\n",
      "tensor(0., device='cuda:0')\n",
      "208 72 342 209\n",
      "\n",
      "0: 480x640 (no detections), 21.8ms\n",
      "Speed: 1.9ms preprocess, 21.8ms inference, 2.4ms postprocess per image at shape (1, 3, 480, 640)\n",
      "\n",
      "0: 480x640 1 Unripe, 21.4ms\n",
      "Speed: 1.0ms preprocess, 21.4ms inference, 2.9ms postprocess per image at shape (1, 3, 480, 640)\n",
      "tensor([209.4067,  73.0967, 343.8085, 209.5490], device='cuda:0')\n",
      "tensor(0., device='cuda:0')\n",
      "209 73 343 209\n",
      "\n",
      "0: 480x640 1 Unripe, 21.4ms\n",
      "Speed: 1.1ms preprocess, 21.4ms inference, 4.1ms postprocess per image at shape (1, 3, 480, 640)\n",
      "tensor([209.4342,  74.2686, 344.2454, 212.4650], device='cuda:0')\n",
      "tensor(0., device='cuda:0')\n",
      "209 74 344 212\n",
      "\n",
      "0: 480x640 (no detections), 21.3ms\n",
      "Speed: 1.1ms preprocess, 21.3ms inference, 2.0ms postprocess per image at shape (1, 3, 480, 640)\n",
      "\n",
      "0: 480x640 1 Unripe, 21.3ms\n",
      "Speed: 1.0ms preprocess, 21.3ms inference, 2.2ms postprocess per image at shape (1, 3, 480, 640)\n",
      "tensor([209.3177,  74.1590, 346.8745, 210.9897], device='cuda:0')\n",
      "tensor(0., device='cuda:0')\n",
      "209 74 346 210\n",
      "\n",
      "0: 480x640 1 Unripe, 21.4ms\n",
      "Speed: 1.3ms preprocess, 21.4ms inference, 2.9ms postprocess per image at shape (1, 3, 480, 640)\n",
      "tensor([210.5369,  74.1151, 347.7755, 211.2015], device='cuda:0')\n",
      "tensor(0., device='cuda:0')\n",
      "210 74 347 211\n",
      "\n",
      "0: 480x640 1 Unripe, 21.4ms\n",
      "Speed: 1.0ms preprocess, 21.4ms inference, 2.6ms postprocess per image at shape (1, 3, 480, 640)\n",
      "tensor([209.1797,  74.2430, 346.7551, 212.6551], device='cuda:0')\n",
      "tensor(0., device='cuda:0')\n",
      "209 74 346 212\n",
      "\n",
      "0: 480x640 1 Unripe, 21.4ms\n",
      "Speed: 1.4ms preprocess, 21.4ms inference, 3.1ms postprocess per image at shape (1, 3, 480, 640)\n",
      "tensor([209.9066,  73.6031, 345.2323, 210.8140], device='cuda:0')\n",
      "tensor(0., device='cuda:0')\n",
      "209 73 345 210\n",
      "\n",
      "0: 480x640 1 Unripe, 21.3ms\n",
      "Speed: 0.9ms preprocess, 21.3ms inference, 3.5ms postprocess per image at shape (1, 3, 480, 640)\n",
      "tensor([209.0850,  71.1125, 344.9392, 209.2870], device='cuda:0')\n",
      "tensor(0., device='cuda:0')\n",
      "209 71 344 209\n",
      "\n",
      "0: 480x640 1 Unripe, 21.4ms\n",
      "Speed: 0.9ms preprocess, 21.4ms inference, 3.9ms postprocess per image at shape (1, 3, 480, 640)\n",
      "tensor([209.6844,  71.4716, 345.3610, 210.5771], device='cuda:0')\n",
      "tensor(0., device='cuda:0')\n",
      "209 71 345 210\n",
      "\n",
      "0: 480x640 1 Unripe, 21.4ms\n",
      "Speed: 1.0ms preprocess, 21.4ms inference, 3.4ms postprocess per image at shape (1, 3, 480, 640)\n",
      "tensor([208.2389,  74.1304, 346.0813, 212.1766], device='cuda:0')\n",
      "tensor(0., device='cuda:0')\n",
      "208 74 346 212\n",
      "\n",
      "0: 480x640 1 Unripe, 21.2ms\n",
      "Speed: 0.9ms preprocess, 21.2ms inference, 4.0ms postprocess per image at shape (1, 3, 480, 640)\n",
      "tensor([209.9417,  73.5489, 345.4648, 211.1069], device='cuda:0')\n",
      "tensor(0., device='cuda:0')\n",
      "209 73 345 211\n",
      "\n",
      "0: 480x640 1 Unripe, 21.3ms\n",
      "Speed: 1.1ms preprocess, 21.3ms inference, 3.7ms postprocess per image at shape (1, 3, 480, 640)\n",
      "tensor([208.7110,  74.1328, 345.9213, 212.7485], device='cuda:0')\n",
      "tensor(0., device='cuda:0')\n",
      "208 74 345 212\n",
      "\n",
      "0: 480x640 1 Unripe, 21.3ms\n",
      "Speed: 0.9ms preprocess, 21.3ms inference, 4.1ms postprocess per image at shape (1, 3, 480, 640)\n",
      "tensor([209.9576,  75.4274, 345.6833, 213.1896], device='cuda:0')\n",
      "tensor(0., device='cuda:0')\n",
      "209 75 345 213\n",
      "\n",
      "0: 480x640 1 Unripe, 21.3ms\n",
      "Speed: 1.0ms preprocess, 21.3ms inference, 4.6ms postprocess per image at shape (1, 3, 480, 640)\n",
      "tensor([209.8634,  75.2509, 347.5081, 213.0812], device='cuda:0')\n",
      "tensor(0., device='cuda:0')\n",
      "209 75 347 213\n",
      "\n",
      "0: 480x640 (no detections), 21.2ms\n",
      "Speed: 1.2ms preprocess, 21.2ms inference, 2.7ms postprocess per image at shape (1, 3, 480, 640)\n",
      "\n",
      "0: 480x640 (no detections), 21.3ms\n",
      "Speed: 0.9ms preprocess, 21.3ms inference, 4.9ms postprocess per image at shape (1, 3, 480, 640)\n",
      "\n",
      "0: 480x640 1 Unripe, 21.2ms\n",
      "Speed: 0.9ms preprocess, 21.2ms inference, 3.5ms postprocess per image at shape (1, 3, 480, 640)\n",
      "tensor([214.4771,  69.8333, 349.9436, 205.1215], device='cuda:0')\n",
      "tensor(0., device='cuda:0')\n",
      "214 69 349 205\n",
      "\n",
      "0: 480x640 (no detections), 21.3ms\n",
      "Speed: 1.1ms preprocess, 21.3ms inference, 2.8ms postprocess per image at shape (1, 3, 480, 640)\n",
      "\n",
      "0: 480x640 1 Unripe, 21.3ms\n",
      "Speed: 0.9ms preprocess, 21.3ms inference, 3.7ms postprocess per image at shape (1, 3, 480, 640)\n",
      "tensor([215.4550,  63.5778, 352.9169, 202.0592], device='cuda:0')\n",
      "tensor(0., device='cuda:0')\n",
      "215 63 352 202\n",
      "\n",
      "0: 480x640 1 Unripe, 21.3ms\n",
      "Speed: 0.9ms preprocess, 21.3ms inference, 3.5ms postprocess per image at shape (1, 3, 480, 640)\n",
      "tensor([217.7493,  65.8344, 353.4418, 203.3648], device='cuda:0')\n",
      "tensor(0., device='cuda:0')\n",
      "217 65 353 203\n",
      "\n",
      "0: 480x640 1 Unripe, 21.2ms\n",
      "Speed: 0.9ms preprocess, 21.2ms inference, 4.1ms postprocess per image at shape (1, 3, 480, 640)\n",
      "tensor([216.8347,  65.9536, 353.9276, 203.4381], device='cuda:0')\n",
      "tensor(0., device='cuda:0')\n",
      "216 65 353 203\n",
      "\n",
      "0: 480x640 1 Unripe, 21.3ms\n",
      "Speed: 0.9ms preprocess, 21.3ms inference, 3.5ms postprocess per image at shape (1, 3, 480, 640)\n",
      "tensor([218.7945,  63.8667, 354.9655, 203.2212], device='cuda:0')\n",
      "tensor(0., device='cuda:0')\n",
      "218 63 354 203\n",
      "\n",
      "0: 480x640 1 Unripe, 21.2ms\n",
      "Speed: 0.9ms preprocess, 21.2ms inference, 3.6ms postprocess per image at shape (1, 3, 480, 640)\n",
      "tensor([217.3900,  63.2735, 354.8452, 202.6127], device='cuda:0')\n",
      "tensor(0., device='cuda:0')\n",
      "217 63 354 202\n",
      "\n",
      "0: 480x640 1 Unripe, 21.4ms\n",
      "Speed: 1.4ms preprocess, 21.4ms inference, 5.3ms postprocess per image at shape (1, 3, 480, 640)\n",
      "tensor([217.1413,  62.3372, 354.8556, 201.7504], device='cuda:0')\n",
      "tensor(0., device='cuda:0')\n",
      "217 62 354 201\n",
      "\n",
      "0: 480x640 1 Unripe, 21.3ms\n",
      "Speed: 1.3ms preprocess, 21.3ms inference, 2.7ms postprocess per image at shape (1, 3, 480, 640)\n",
      "tensor([219.0828,  60.5188, 355.3582, 200.3346], device='cuda:0')\n",
      "tensor(0., device='cuda:0')\n",
      "219 60 355 200\n",
      "\n",
      "0: 480x640 (no detections), 21.2ms\n",
      "Speed: 1.0ms preprocess, 21.2ms inference, 1.8ms postprocess per image at shape (1, 3, 480, 640)\n",
      "\n",
      "0: 480x640 (no detections), 21.3ms\n",
      "Speed: 1.2ms preprocess, 21.3ms inference, 2.0ms postprocess per image at shape (1, 3, 480, 640)\n",
      "\n",
      "0: 480x640 1 Unripe, 21.3ms\n",
      "Speed: 0.9ms preprocess, 21.3ms inference, 2.9ms postprocess per image at shape (1, 3, 480, 640)\n",
      "tensor([230.0747,  53.9037, 367.7108, 191.2566], device='cuda:0')\n",
      "tensor(0., device='cuda:0')\n",
      "230 53 367 191\n",
      "\n",
      "0: 480x640 1 Unripe, 21.3ms\n",
      "Speed: 1.2ms preprocess, 21.3ms inference, 2.5ms postprocess per image at shape (1, 3, 480, 640)\n",
      "tensor([231.2145,  51.5062, 367.8984, 188.5880], device='cuda:0')\n",
      "tensor(0., device='cuda:0')\n",
      "231 51 367 188\n",
      "\n",
      "0: 480x640 1 Unripe, 21.2ms\n",
      "Speed: 0.9ms preprocess, 21.2ms inference, 3.0ms postprocess per image at shape (1, 3, 480, 640)\n",
      "tensor([229.0124,  51.1541, 366.9647, 187.8880], device='cuda:0')\n",
      "tensor(0., device='cuda:0')\n",
      "229 51 366 187\n",
      "\n",
      "0: 480x640 1 Unripe, 21.2ms\n",
      "Speed: 1.1ms preprocess, 21.2ms inference, 2.0ms postprocess per image at shape (1, 3, 480, 640)\n",
      "tensor([226.1553,  50.3933, 365.0903, 187.9607], device='cuda:0')\n",
      "tensor(0., device='cuda:0')\n",
      "226 50 365 187\n",
      "\n",
      "0: 480x640 1 Unripe, 21.2ms\n",
      "Speed: 1.1ms preprocess, 21.2ms inference, 2.4ms postprocess per image at shape (1, 3, 480, 640)\n",
      "tensor([225.9409,  49.3108, 361.4247, 187.6960], device='cuda:0')\n",
      "tensor(0., device='cuda:0')\n",
      "225 49 361 187\n",
      "\n",
      "0: 480x640 1 Unripe, 21.2ms\n",
      "Speed: 1.0ms preprocess, 21.2ms inference, 2.8ms postprocess per image at shape (1, 3, 480, 640)\n",
      "tensor([223.7607,  47.0625, 360.2133, 186.8845], device='cuda:0')\n",
      "tensor(0., device='cuda:0')\n",
      "223 47 360 186\n",
      "\n",
      "0: 480x640 1 Unripe, 21.3ms\n",
      "Speed: 1.1ms preprocess, 21.3ms inference, 2.2ms postprocess per image at shape (1, 3, 480, 640)\n",
      "tensor([223.5719,  48.3134, 357.8114, 187.1381], device='cuda:0')\n",
      "tensor(0., device='cuda:0')\n",
      "223 48 357 187\n",
      "\n",
      "0: 480x640 1 Unripe, 21.3ms\n",
      "Speed: 1.0ms preprocess, 21.3ms inference, 3.2ms postprocess per image at shape (1, 3, 480, 640)\n",
      "tensor([223.2146,  50.6384, 357.3182, 187.3857], device='cuda:0')\n",
      "tensor(0., device='cuda:0')\n",
      "223 50 357 187\n",
      "\n",
      "0: 480x640 1 Unripe, 21.2ms\n",
      "Speed: 1.0ms preprocess, 21.2ms inference, 2.2ms postprocess per image at shape (1, 3, 480, 640)\n",
      "tensor([223.1317,  50.4403, 357.3359, 187.3084], device='cuda:0')\n",
      "tensor(0., device='cuda:0')\n",
      "223 50 357 187\n",
      "\n",
      "0: 480x640 1 Unripe, 21.3ms\n",
      "Speed: 1.1ms preprocess, 21.3ms inference, 2.4ms postprocess per image at shape (1, 3, 480, 640)\n",
      "tensor([223.4160,  48.4201, 357.9706, 187.0005], device='cuda:0')\n",
      "tensor(0., device='cuda:0')\n",
      "223 48 357 187\n",
      "\n",
      "0: 480x640 1 Unripe, 21.2ms\n",
      "Speed: 1.1ms preprocess, 21.2ms inference, 2.7ms postprocess per image at shape (1, 3, 480, 640)\n",
      "tensor([224.8251,  49.3569, 359.0175, 187.2705], device='cuda:0')\n",
      "tensor(0., device='cuda:0')\n",
      "224 49 359 187\n",
      "\n",
      "0: 480x640 1 Unripe, 21.4ms\n",
      "Speed: 1.3ms preprocess, 21.4ms inference, 3.4ms postprocess per image at shape (1, 3, 480, 640)\n",
      "tensor([224.7919,  49.2793, 359.3168, 187.3054], device='cuda:0')\n",
      "tensor(0., device='cuda:0')\n",
      "224 49 359 187\n",
      "\n",
      "0: 480x640 1 Unripe, 21.3ms\n",
      "Speed: 1.1ms preprocess, 21.3ms inference, 2.7ms postprocess per image at shape (1, 3, 480, 640)\n",
      "tensor([224.3000,  49.1239, 360.7539, 187.9423], device='cuda:0')\n",
      "tensor(0., device='cuda:0')\n",
      "224 49 360 187\n",
      "\n",
      "0: 480x640 1 Unripe, 21.6ms\n",
      "Speed: 1.0ms preprocess, 21.6ms inference, 2.5ms postprocess per image at shape (1, 3, 480, 640)\n",
      "tensor([227.1634,  48.5701, 362.4904, 186.9622], device='cuda:0')\n",
      "tensor(0., device='cuda:0')\n",
      "227 48 362 186\n",
      "\n",
      "0: 480x640 1 Unripe, 21.6ms\n",
      "Speed: 1.0ms preprocess, 21.6ms inference, 3.0ms postprocess per image at shape (1, 3, 480, 640)\n",
      "tensor([227.6538,  49.8534, 363.2714, 188.1824], device='cuda:0')\n",
      "tensor(0., device='cuda:0')\n",
      "227 49 363 188\n",
      "\n",
      "0: 480x640 1 Unripe, 21.6ms\n",
      "Speed: 1.0ms preprocess, 21.6ms inference, 2.4ms postprocess per image at shape (1, 3, 480, 640)\n",
      "tensor([225.4367,  51.0250, 364.1798, 188.2355], device='cuda:0')\n",
      "tensor(0., device='cuda:0')\n",
      "225 51 364 188\n",
      "\n",
      "0: 480x640 1 Unripe, 21.8ms\n",
      "Speed: 1.2ms preprocess, 21.8ms inference, 2.2ms postprocess per image at shape (1, 3, 480, 640)\n",
      "tensor([226.8378,  51.1144, 363.3658, 187.8389], device='cuda:0')\n",
      "tensor(0., device='cuda:0')\n",
      "226 51 363 187\n",
      "\n",
      "0: 480x640 1 Unripe, 21.8ms\n",
      "Speed: 1.0ms preprocess, 21.8ms inference, 3.3ms postprocess per image at shape (1, 3, 480, 640)\n",
      "tensor([226.7068,  51.3715, 363.6221, 188.4686], device='cuda:0')\n",
      "tensor(0., device='cuda:0')\n",
      "226 51 363 188\n",
      "\n",
      "0: 480x640 1 Unripe, 21.8ms\n",
      "Speed: 0.9ms preprocess, 21.8ms inference, 2.8ms postprocess per image at shape (1, 3, 480, 640)\n",
      "tensor([225.6507,  52.0175, 362.8003, 189.5575], device='cuda:0')\n",
      "tensor(0., device='cuda:0')\n",
      "225 52 362 189\n",
      "\n",
      "0: 480x640 1 Unripe, 21.9ms\n",
      "Speed: 1.0ms preprocess, 21.9ms inference, 2.7ms postprocess per image at shape (1, 3, 480, 640)\n",
      "tensor([224.2431,  54.0504, 360.9291, 192.1743], device='cuda:0')\n",
      "tensor(0., device='cuda:0')\n",
      "224 54 360 192\n",
      "\n",
      "0: 480x640 1 Unripe, 21.8ms\n",
      "Speed: 1.0ms preprocess, 21.8ms inference, 2.7ms postprocess per image at shape (1, 3, 480, 640)\n",
      "tensor([223.3634,  54.7405, 360.0674, 192.9825], device='cuda:0')\n",
      "tensor(0., device='cuda:0')\n",
      "223 54 360 192\n",
      "\n",
      "0: 480x640 1 Unripe, 21.9ms\n",
      "Speed: 1.4ms preprocess, 21.9ms inference, 2.5ms postprocess per image at shape (1, 3, 480, 640)\n",
      "tensor([224.0518,  55.4115, 359.6262, 193.7605], device='cuda:0')\n",
      "tensor(0., device='cuda:0')\n",
      "224 55 359 193\n",
      "\n",
      "0: 480x640 (no detections), 21.8ms\n",
      "Speed: 1.1ms preprocess, 21.8ms inference, 2.4ms postprocess per image at shape (1, 3, 480, 640)\n",
      "\n",
      "0: 480x640 1 Unripe, 21.9ms\n",
      "Speed: 1.0ms preprocess, 21.9ms inference, 3.1ms postprocess per image at shape (1, 3, 480, 640)\n",
      "tensor([221.0437,  58.6237, 360.7460, 200.3862], device='cuda:0')\n",
      "tensor(0., device='cuda:0')\n",
      "221 58 360 200\n",
      "\n",
      "0: 480x640 (no detections), 21.9ms\n",
      "Speed: 1.0ms preprocess, 21.9ms inference, 2.1ms postprocess per image at shape (1, 3, 480, 640)\n",
      "\n",
      "0: 480x640 1 Unripe, 21.9ms\n",
      "Speed: 1.2ms preprocess, 21.9ms inference, 2.9ms postprocess per image at shape (1, 3, 480, 640)\n",
      "tensor([222.6529,  61.0982, 360.7250, 203.0551], device='cuda:0')\n",
      "tensor(0., device='cuda:0')\n",
      "222 61 360 203\n",
      "\n",
      "0: 480x640 (no detections), 22.1ms\n",
      "Speed: 1.4ms preprocess, 22.1ms inference, 8.5ms postprocess per image at shape (1, 3, 480, 640)\n",
      "\n",
      "0: 480x640 (no detections), 22.1ms\n",
      "Speed: 1.3ms preprocess, 22.1ms inference, 2.7ms postprocess per image at shape (1, 3, 480, 640)\n",
      "\n",
      "0: 480x640 1 Unripe, 22.0ms\n",
      "Speed: 1.0ms preprocess, 22.0ms inference, 3.3ms postprocess per image at shape (1, 3, 480, 640)\n",
      "tensor([224.2227,  57.5081, 362.5953, 196.9711], device='cuda:0')\n",
      "tensor(0., device='cuda:0')\n",
      "224 57 362 196\n",
      "\n",
      "0: 480x640 1 Unripe, 22.1ms\n",
      "Speed: 1.2ms preprocess, 22.1ms inference, 2.3ms postprocess per image at shape (1, 3, 480, 640)\n",
      "tensor([224.9249,  55.7545, 363.3583, 195.2332], device='cuda:0')\n",
      "tensor(0., device='cuda:0')\n",
      "224 55 363 195\n",
      "\n",
      "0: 480x640 1 Unripe, 22.1ms\n",
      "Speed: 1.0ms preprocess, 22.1ms inference, 2.7ms postprocess per image at shape (1, 3, 480, 640)\n",
      "tensor([227.7110,  55.6676, 363.2092, 194.9693], device='cuda:0')\n",
      "tensor(0., device='cuda:0')\n",
      "227 55 363 194\n",
      "\n",
      "0: 480x640 1 Unripe, 22.1ms\n",
      "Speed: 1.0ms preprocess, 22.1ms inference, 2.9ms postprocess per image at shape (1, 3, 480, 640)\n",
      "tensor([227.0761,  56.5900, 366.0884, 196.4698], device='cuda:0')\n",
      "tensor(0., device='cuda:0')\n",
      "227 56 366 196\n",
      "\n",
      "0: 480x640 1 Unripe, 22.0ms\n",
      "Speed: 1.0ms preprocess, 22.0ms inference, 3.1ms postprocess per image at shape (1, 3, 480, 640)\n",
      "tensor([229.9257,  58.0859, 367.3594, 196.9870], device='cuda:0')\n",
      "tensor(0., device='cuda:0')\n",
      "229 58 367 196\n",
      "\n",
      "0: 480x640 1 Unripe, 22.1ms\n",
      "Speed: 1.2ms preprocess, 22.1ms inference, 3.4ms postprocess per image at shape (1, 3, 480, 640)\n",
      "tensor([229.4000,  58.2139, 369.7134, 198.1798], device='cuda:0')\n",
      "tensor(0., device='cuda:0')\n",
      "229 58 369 198\n",
      "\n",
      "0: 480x640 1 Unripe, 22.0ms\n",
      "Speed: 1.0ms preprocess, 22.0ms inference, 2.6ms postprocess per image at shape (1, 3, 480, 640)\n",
      "tensor([233.4027,  56.3725, 370.3910, 196.3972], device='cuda:0')\n",
      "tensor(0., device='cuda:0')\n",
      "233 56 370 196\n",
      "\n",
      "0: 480x640 1 Unripe, 22.0ms\n",
      "Speed: 0.9ms preprocess, 22.0ms inference, 2.8ms postprocess per image at shape (1, 3, 480, 640)\n",
      "tensor([234.0333,  54.8255, 370.9321, 195.9028], device='cuda:0')\n",
      "tensor(0., device='cuda:0')\n",
      "234 54 370 195\n",
      "\n",
      "0: 480x640 1 Unripe, 22.0ms\n",
      "Speed: 1.4ms preprocess, 22.0ms inference, 2.9ms postprocess per image at shape (1, 3, 480, 640)\n",
      "tensor([232.9825,  52.9480, 369.6166, 191.6128], device='cuda:0')\n",
      "tensor(0., device='cuda:0')\n",
      "232 52 369 191\n",
      "\n",
      "0: 480x640 1 Unripe, 22.1ms\n",
      "Speed: 1.8ms preprocess, 22.1ms inference, 3.0ms postprocess per image at shape (1, 3, 480, 640)\n",
      "tensor([226.7916,  50.4744, 368.5591, 188.2906], device='cuda:0')\n",
      "tensor(0., device='cuda:0')\n",
      "226 50 368 188\n",
      "\n",
      "0: 480x640 2 Unripes, 22.0ms\n",
      "Speed: 1.1ms preprocess, 22.0ms inference, 3.2ms postprocess per image at shape (1, 3, 480, 640)\n",
      "tensor([225.9132,  48.5014, 365.9605, 188.2184], device='cuda:0')\n",
      "tensor(0., device='cuda:0')\n",
      "225 48 365 188\n",
      "tensor([406.3978, 196.0792, 546.6367, 345.9008], device='cuda:0')\n",
      "tensor(0., device='cuda:0')\n",
      "406 196 546 345\n",
      "\n",
      "0: 480x640 1 Unripe, 22.0ms\n",
      "Speed: 1.1ms preprocess, 22.0ms inference, 2.7ms postprocess per image at shape (1, 3, 480, 640)\n",
      "tensor([223.3076,  46.3518, 362.9751, 188.5679], device='cuda:0')\n",
      "tensor(0., device='cuda:0')\n",
      "223 46 362 188\n",
      "\n",
      "0: 480x640 1 Unripe, 22.0ms\n",
      "Speed: 0.9ms preprocess, 22.0ms inference, 2.5ms postprocess per image at shape (1, 3, 480, 640)\n",
      "tensor([222.2166,  46.0601, 359.9224, 187.3125], device='cuda:0')\n",
      "tensor(0., device='cuda:0')\n",
      "222 46 359 187\n",
      "\n",
      "0: 480x640 1 Unripe, 22.1ms\n",
      "Speed: 1.1ms preprocess, 22.1ms inference, 2.6ms postprocess per image at shape (1, 3, 480, 640)\n",
      "tensor([222.0130,  47.2275, 358.8066, 187.9436], device='cuda:0')\n",
      "tensor(0., device='cuda:0')\n",
      "222 47 358 187\n",
      "\n",
      "0: 480x640 1 Unripe, 22.1ms\n",
      "Speed: 1.2ms preprocess, 22.1ms inference, 3.4ms postprocess per image at shape (1, 3, 480, 640)\n",
      "tensor([222.0669,  50.5503, 356.8650, 188.9931], device='cuda:0')\n",
      "tensor(0., device='cuda:0')\n",
      "222 50 356 188\n",
      "\n",
      "0: 480x640 1 Unripe, 22.2ms\n",
      "Speed: 1.2ms preprocess, 22.2ms inference, 6.7ms postprocess per image at shape (1, 3, 480, 640)\n",
      "tensor([221.5907,  51.3927, 356.7252, 189.0150], device='cuda:0')\n",
      "tensor(0., device='cuda:0')\n",
      "221 51 356 189\n",
      "\n",
      "0: 480x640 1 Unripe, 21.9ms\n",
      "Speed: 1.0ms preprocess, 21.9ms inference, 3.4ms postprocess per image at shape (1, 3, 480, 640)\n",
      "tensor([221.0934,  50.2343, 356.1069, 187.9969], device='cuda:0')\n",
      "tensor(0., device='cuda:0')\n",
      "221 50 356 187\n",
      "\n",
      "0: 480x640 1 Unripe, 21.9ms\n",
      "Speed: 1.2ms preprocess, 21.9ms inference, 2.5ms postprocess per image at shape (1, 3, 480, 640)\n",
      "tensor([221.5461,  51.0382, 356.9760, 188.5461], device='cuda:0')\n",
      "tensor(0., device='cuda:0')\n",
      "221 51 356 188\n",
      "\n",
      "0: 480x640 1 Unripe, 21.9ms\n",
      "Speed: 1.3ms preprocess, 21.9ms inference, 2.7ms postprocess per image at shape (1, 3, 480, 640)\n",
      "tensor([222.0329,  52.7577, 356.7453, 190.7630], device='cuda:0')\n",
      "tensor(0., device='cuda:0')\n",
      "222 52 356 190\n",
      "\n",
      "0: 480x640 1 Unripe, 21.9ms\n",
      "Speed: 1.1ms preprocess, 21.9ms inference, 3.0ms postprocess per image at shape (1, 3, 480, 640)\n",
      "tensor([221.9800,  54.9942, 357.6208, 194.9473], device='cuda:0')\n",
      "tensor(0., device='cuda:0')\n",
      "221 54 357 194\n",
      "\n",
      "0: 480x640 1 Unripe, 21.9ms\n",
      "Speed: 1.0ms preprocess, 21.9ms inference, 2.9ms postprocess per image at shape (1, 3, 480, 640)\n",
      "tensor([220.4026,  58.1670, 360.6597, 199.1377], device='cuda:0')\n",
      "tensor(0., device='cuda:0')\n",
      "220 58 360 199\n",
      "\n",
      "0: 480x640 1 Unripe, 21.9ms\n",
      "Speed: 1.1ms preprocess, 21.9ms inference, 2.7ms postprocess per image at shape (1, 3, 480, 640)\n",
      "tensor([220.9516,  58.9944, 361.3985, 201.2402], device='cuda:0')\n",
      "tensor(0., device='cuda:0')\n",
      "220 58 361 201\n",
      "\n",
      "0: 480x640 1 Unripe, 21.9ms\n",
      "Speed: 1.0ms preprocess, 21.9ms inference, 2.8ms postprocess per image at shape (1, 3, 480, 640)\n",
      "tensor([223.1425,  59.2992, 360.8849, 200.1365], device='cuda:0')\n",
      "tensor(0., device='cuda:0')\n",
      "223 59 360 200\n",
      "\n",
      "0: 480x640 1 Unripe, 21.9ms\n",
      "Speed: 1.1ms preprocess, 21.9ms inference, 2.7ms postprocess per image at shape (1, 3, 480, 640)\n",
      "tensor([222.8701,  59.1843, 360.7004, 199.9406], device='cuda:0')\n",
      "tensor(0., device='cuda:0')\n",
      "222 59 360 199\n",
      "\n",
      "0: 480x640 (no detections), 22.0ms\n",
      "Speed: 1.2ms preprocess, 22.0ms inference, 2.4ms postprocess per image at shape (1, 3, 480, 640)\n",
      "\n",
      "0: 480x640 1 Unripe, 21.9ms\n",
      "Speed: 1.2ms preprocess, 21.9ms inference, 2.9ms postprocess per image at shape (1, 3, 480, 640)\n",
      "tensor([221.6743,  61.4052, 360.5737, 204.6641], device='cuda:0')\n",
      "tensor(0., device='cuda:0')\n",
      "221 61 360 204\n",
      "\n",
      "0: 480x640 1 Unripe, 21.9ms\n",
      "Speed: 1.2ms preprocess, 21.9ms inference, 2.6ms postprocess per image at shape (1, 3, 480, 640)\n",
      "tensor([222.5543,  67.3828, 359.1209, 205.0491], device='cuda:0')\n",
      "tensor(0., device='cuda:0')\n",
      "222 67 359 205\n",
      "\n",
      "0: 480x640 1 Unripe, 21.9ms\n",
      "Speed: 1.0ms preprocess, 21.9ms inference, 2.8ms postprocess per image at shape (1, 3, 480, 640)\n",
      "tensor([222.8509,  68.9226, 360.8628, 208.5583], device='cuda:0')\n",
      "tensor(0., device='cuda:0')\n",
      "222 68 360 208\n",
      "\n",
      "0: 480x640 1 Unripe, 21.9ms\n",
      "Speed: 1.0ms preprocess, 21.9ms inference, 2.9ms postprocess per image at shape (1, 3, 480, 640)\n",
      "tensor([223.0574,  70.2064, 361.1519, 212.1097], device='cuda:0')\n",
      "tensor(0., device='cuda:0')\n",
      "223 70 361 212\n",
      "\n",
      "0: 480x640 (no detections), 21.9ms\n",
      "Speed: 1.1ms preprocess, 21.9ms inference, 2.1ms postprocess per image at shape (1, 3, 480, 640)\n",
      "\n",
      "0: 480x640 (no detections), 23.1ms\n",
      "Speed: 1.2ms preprocess, 23.1ms inference, 2.3ms postprocess per image at shape (1, 3, 480, 640)\n",
      "\n",
      "0: 480x640 1 Unripe, 21.9ms\n",
      "Speed: 1.2ms preprocess, 21.9ms inference, 3.1ms postprocess per image at shape (1, 3, 480, 640)\n",
      "tensor([222.6505,  69.0648, 360.9105, 207.8510], device='cuda:0')\n",
      "tensor(0., device='cuda:0')\n",
      "222 69 360 207\n",
      "\n",
      "0: 480x640 (no detections), 21.9ms\n",
      "Speed: 1.1ms preprocess, 21.9ms inference, 2.1ms postprocess per image at shape (1, 3, 480, 640)\n",
      "\n",
      "0: 480x640 1 Unripe, 21.9ms\n",
      "Speed: 1.3ms preprocess, 21.9ms inference, 2.6ms postprocess per image at shape (1, 3, 480, 640)\n",
      "tensor([224.2561,  70.2597, 361.5305, 209.7995], device='cuda:0')\n",
      "tensor(0., device='cuda:0')\n",
      "224 70 361 209\n",
      "\n",
      "0: 480x640 1 Unripe, 21.9ms\n",
      "Speed: 1.1ms preprocess, 21.9ms inference, 2.7ms postprocess per image at shape (1, 3, 480, 640)\n",
      "tensor([224.2234,  70.1349, 361.3689, 209.3925], device='cuda:0')\n",
      "tensor(0., device='cuda:0')\n",
      "224 70 361 209\n",
      "\n",
      "0: 480x640 (no detections), 20.6ms\n",
      "Speed: 1.2ms preprocess, 20.6ms inference, 2.3ms postprocess per image at shape (1, 3, 480, 640)\n",
      "\n",
      "0: 480x640 (no detections), 20.6ms\n",
      "Speed: 1.0ms preprocess, 20.6ms inference, 2.1ms postprocess per image at shape (1, 3, 480, 640)\n",
      "\n",
      "0: 480x640 1 Unripe, 20.6ms\n",
      "Speed: 1.0ms preprocess, 20.6ms inference, 2.6ms postprocess per image at shape (1, 3, 480, 640)\n",
      "tensor([226.1748,  69.9772, 363.3027, 209.6184], device='cuda:0')\n",
      "tensor(0., device='cuda:0')\n",
      "226 69 363 209\n",
      "\n",
      "0: 480x640 (no detections), 20.6ms\n",
      "Speed: 1.1ms preprocess, 20.6ms inference, 2.0ms postprocess per image at shape (1, 3, 480, 640)\n",
      "\n",
      "0: 480x640 (no detections), 20.6ms\n",
      "Speed: 1.0ms preprocess, 20.6ms inference, 1.8ms postprocess per image at shape (1, 3, 480, 640)\n",
      "\n",
      "0: 480x640 (no detections), 21.2ms\n",
      "Speed: 1.0ms preprocess, 21.2ms inference, 1.9ms postprocess per image at shape (1, 3, 480, 640)\n",
      "\n",
      "0: 480x640 1 Unripe, 20.7ms\n",
      "Speed: 1.1ms preprocess, 20.7ms inference, 2.4ms postprocess per image at shape (1, 3, 480, 640)\n",
      "tensor([223.2854,  68.5342, 362.2788, 206.3541], device='cuda:0')\n",
      "tensor(0., device='cuda:0')\n",
      "223 68 362 206\n",
      "\n",
      "0: 480x640 1 Unripe, 20.7ms\n",
      "Speed: 1.1ms preprocess, 20.7ms inference, 2.7ms postprocess per image at shape (1, 3, 480, 640)\n",
      "tensor([215.8586,  64.8635, 356.3392, 203.7884], device='cuda:0')\n",
      "tensor(0., device='cuda:0')\n",
      "215 64 356 203\n",
      "\n",
      "0: 480x640 (no detections), 20.8ms\n",
      "Speed: 1.1ms preprocess, 20.8ms inference, 2.9ms postprocess per image at shape (1, 3, 480, 640)\n",
      "\n",
      "0: 480x640 (no detections), 20.7ms\n",
      "Speed: 1.4ms preprocess, 20.7ms inference, 2.3ms postprocess per image at shape (1, 3, 480, 640)\n",
      "\n",
      "0: 480x640 (no detections), 20.6ms\n",
      "Speed: 1.1ms preprocess, 20.6ms inference, 2.5ms postprocess per image at shape (1, 3, 480, 640)\n",
      "\n",
      "0: 480x640 1 Unripe, 20.6ms\n",
      "Speed: 1.1ms preprocess, 20.6ms inference, 3.8ms postprocess per image at shape (1, 3, 480, 640)\n",
      "tensor([208.0249,  61.8390, 344.8214, 201.3620], device='cuda:0')\n",
      "tensor(0., device='cuda:0')\n",
      "208 61 344 201\n",
      "\n",
      "0: 480x640 1 Unripe, 20.8ms\n",
      "Speed: 1.3ms preprocess, 20.8ms inference, 8.1ms postprocess per image at shape (1, 3, 480, 640)\n",
      "tensor([208.2115,  64.3199, 348.6358, 202.1261], device='cuda:0')\n",
      "tensor(0., device='cuda:0')\n",
      "208 64 348 202\n",
      "\n",
      "0: 480x640 1 Unripe, 20.7ms\n",
      "Speed: 1.3ms preprocess, 20.7ms inference, 2.9ms postprocess per image at shape (1, 3, 480, 640)\n",
      "tensor([209.2573,  63.3785, 371.4338, 199.2646], device='cuda:0')\n",
      "tensor(0., device='cuda:0')\n",
      "209 63 371 199\n",
      "\n",
      "0: 480x640 (no detections), 20.6ms\n",
      "Speed: 1.2ms preprocess, 20.6ms inference, 2.1ms postprocess per image at shape (1, 3, 480, 640)\n",
      "\n",
      "0: 480x640 (no detections), 20.6ms\n",
      "Speed: 0.9ms preprocess, 20.6ms inference, 2.2ms postprocess per image at shape (1, 3, 480, 640)\n",
      "\n",
      "0: 480x640 1 Unripe, 20.6ms\n",
      "Speed: 1.2ms preprocess, 20.6ms inference, 2.7ms postprocess per image at shape (1, 3, 480, 640)\n",
      "tensor([242.4241,  62.0044, 379.9763, 199.8275], device='cuda:0')\n",
      "tensor(0., device='cuda:0')\n",
      "242 62 379 199\n",
      "\n",
      "0: 480x640 (no detections), 20.6ms\n",
      "Speed: 1.0ms preprocess, 20.6ms inference, 2.1ms postprocess per image at shape (1, 3, 480, 640)\n",
      "\n",
      "0: 480x640 (no detections), 20.6ms\n",
      "Speed: 1.0ms preprocess, 20.6ms inference, 1.9ms postprocess per image at shape (1, 3, 480, 640)\n",
      "\n",
      "0: 480x640 (no detections), 20.6ms\n",
      "Speed: 1.0ms preprocess, 20.6ms inference, 2.1ms postprocess per image at shape (1, 3, 480, 640)\n",
      "\n",
      "0: 480x640 1 Unripe, 20.6ms\n",
      "Speed: 1.1ms preprocess, 20.6ms inference, 3.3ms postprocess per image at shape (1, 3, 480, 640)\n",
      "tensor([226.8719,  52.3205, 353.1373, 183.4693], device='cuda:0')\n",
      "tensor(0., device='cuda:0')\n",
      "226 52 353 183\n",
      "\n",
      "0: 480x640 1 Unripe, 20.6ms\n",
      "Speed: 1.0ms preprocess, 20.6ms inference, 2.7ms postprocess per image at shape (1, 3, 480, 640)\n",
      "tensor([232.7460,  50.6554, 363.6106, 184.2527], device='cuda:0')\n",
      "tensor(0., device='cuda:0')\n",
      "232 50 363 184\n",
      "\n",
      "0: 480x640 1 Unripe, 20.6ms\n",
      "Speed: 1.0ms preprocess, 20.6ms inference, 2.8ms postprocess per image at shape (1, 3, 480, 640)\n",
      "tensor([234.7217,  45.4056, 367.0146, 183.1087], device='cuda:0')\n",
      "tensor(0., device='cuda:0')\n",
      "234 45 367 183\n",
      "\n",
      "0: 480x640 1 Unripe, 20.6ms\n",
      "Speed: 0.9ms preprocess, 20.6ms inference, 2.8ms postprocess per image at shape (1, 3, 480, 640)\n",
      "tensor([237.1784,  41.9715, 367.7697, 176.2850], device='cuda:0')\n",
      "tensor(0., device='cuda:0')\n",
      "237 41 367 176\n",
      "\n",
      "0: 480x640 1 Unripe, 20.6ms\n",
      "Speed: 1.4ms preprocess, 20.6ms inference, 2.5ms postprocess per image at shape (1, 3, 480, 640)\n",
      "tensor([234.1765,  38.1146, 366.8096, 172.1054], device='cuda:0')\n",
      "tensor(0., device='cuda:0')\n",
      "234 38 366 172\n",
      "\n",
      "0: 480x640 1 Unripe, 20.6ms\n",
      "Speed: 1.0ms preprocess, 20.6ms inference, 3.3ms postprocess per image at shape (1, 3, 480, 640)\n",
      "tensor([226.6502,  38.3927, 361.3674, 172.2916], device='cuda:0')\n",
      "tensor(0., device='cuda:0')\n",
      "226 38 361 172\n",
      "\n",
      "0: 480x640 (no detections), 20.6ms\n",
      "Speed: 1.2ms preprocess, 20.6ms inference, 2.0ms postprocess per image at shape (1, 3, 480, 640)\n",
      "\n",
      "0: 480x640 (no detections), 20.6ms\n",
      "Speed: 1.0ms preprocess, 20.6ms inference, 2.3ms postprocess per image at shape (1, 3, 480, 640)\n",
      "\n",
      "0: 480x640 1 Unripe, 20.7ms\n",
      "Speed: 1.2ms preprocess, 20.7ms inference, 3.5ms postprocess per image at shape (1, 3, 480, 640)\n",
      "tensor([227.2255,  40.2200, 362.9833, 173.9264], device='cuda:0')\n",
      "tensor(0., device='cuda:0')\n",
      "227 40 362 173\n",
      "\n",
      "0: 480x640 1 Unripe, 20.7ms\n",
      "Speed: 1.3ms preprocess, 20.7ms inference, 2.6ms postprocess per image at shape (1, 3, 480, 640)\n",
      "tensor([230.6286,  39.2030, 367.0991, 173.4723], device='cuda:0')\n",
      "tensor(0., device='cuda:0')\n",
      "230 39 367 173\n",
      "\n",
      "0: 480x640 1 Unripe, 21.3ms\n",
      "Speed: 1.0ms preprocess, 21.3ms inference, 3.2ms postprocess per image at shape (1, 3, 480, 640)\n",
      "tensor([238.8978,  36.1040, 372.5596, 170.2017], device='cuda:0')\n",
      "tensor(0., device='cuda:0')\n",
      "238 36 372 170\n",
      "\n",
      "0: 480x640 1 Unripe, 21.3ms\n",
      "Speed: 1.2ms preprocess, 21.3ms inference, 2.7ms postprocess per image at shape (1, 3, 480, 640)\n",
      "tensor([242.0036,  31.8233, 375.2163, 166.5474], device='cuda:0')\n",
      "tensor(0., device='cuda:0')\n",
      "242 31 375 166\n",
      "\n",
      "0: 480x640 (no detections), 21.3ms\n",
      "Speed: 1.0ms preprocess, 21.3ms inference, 2.2ms postprocess per image at shape (1, 3, 480, 640)\n",
      "\n",
      "0: 480x640 1 Unripe, 21.5ms\n",
      "Speed: 0.9ms preprocess, 21.5ms inference, 2.6ms postprocess per image at shape (1, 3, 480, 640)\n",
      "tensor([243.0385,  36.0215, 376.8762, 170.4247], device='cuda:0')\n",
      "tensor(0., device='cuda:0')\n",
      "243 36 376 170\n",
      "\n",
      "0: 480x640 1 Unripe, 21.5ms\n",
      "Speed: 1.3ms preprocess, 21.5ms inference, 3.0ms postprocess per image at shape (1, 3, 480, 640)\n",
      "tensor([236.9154,  39.3301, 371.3317, 175.8024], device='cuda:0')\n",
      "tensor(0., device='cuda:0')\n",
      "236 39 371 175\n",
      "\n",
      "0: 480x640 (no detections), 21.5ms\n",
      "Speed: 2.8ms preprocess, 21.5ms inference, 2.5ms postprocess per image at shape (1, 3, 480, 640)\n",
      "\n",
      "0: 480x640 (no detections), 21.7ms\n",
      "Speed: 1.1ms preprocess, 21.7ms inference, 2.0ms postprocess per image at shape (1, 3, 480, 640)\n",
      "\n",
      "0: 480x640 (no detections), 21.7ms\n",
      "Speed: 0.9ms preprocess, 21.7ms inference, 2.4ms postprocess per image at shape (1, 3, 480, 640)\n",
      "\n",
      "0: 480x640 (no detections), 21.7ms\n",
      "Speed: 1.0ms preprocess, 21.7ms inference, 2.0ms postprocess per image at shape (1, 3, 480, 640)\n",
      "\n",
      "0: 480x640 (no detections), 21.7ms\n",
      "Speed: 1.3ms preprocess, 21.7ms inference, 1.8ms postprocess per image at shape (1, 3, 480, 640)\n",
      "\n",
      "0: 480x640 (no detections), 20.4ms\n",
      "Speed: 1.0ms preprocess, 20.4ms inference, 2.4ms postprocess per image at shape (1, 3, 480, 640)\n",
      "\n",
      "0: 480x640 1 Unripe, 20.5ms\n",
      "Speed: 1.1ms preprocess, 20.5ms inference, 2.7ms postprocess per image at shape (1, 3, 480, 640)\n",
      "tensor([211.7473,  39.1982, 345.0897, 170.7185], device='cuda:0')\n",
      "tensor(0., device='cuda:0')\n",
      "211 39 345 170\n",
      "\n",
      "0: 480x640 (no detections), 20.6ms\n",
      "Speed: 1.1ms preprocess, 20.6ms inference, 2.0ms postprocess per image at shape (1, 3, 480, 640)\n",
      "\n",
      "0: 480x640 (no detections), 20.5ms\n",
      "Speed: 1.0ms preprocess, 20.5ms inference, 2.0ms postprocess per image at shape (1, 3, 480, 640)\n",
      "\n",
      "0: 480x640 (no detections), 20.5ms\n",
      "Speed: 1.3ms preprocess, 20.5ms inference, 2.3ms postprocess per image at shape (1, 3, 480, 640)\n",
      "\n",
      "0: 480x640 (no detections), 20.5ms\n",
      "Speed: 1.2ms preprocess, 20.5ms inference, 2.9ms postprocess per image at shape (1, 3, 480, 640)\n",
      "\n",
      "0: 480x640 (no detections), 20.4ms\n",
      "Speed: 1.0ms preprocess, 20.4ms inference, 2.1ms postprocess per image at shape (1, 3, 480, 640)\n",
      "\n",
      "0: 480x640 1 Unripe, 20.5ms\n",
      "Speed: 1.0ms preprocess, 20.5ms inference, 2.8ms postprocess per image at shape (1, 3, 480, 640)\n",
      "tensor([209.2135,  49.9412, 340.5358, 186.3333], device='cuda:0')\n",
      "tensor(0., device='cuda:0')\n",
      "209 49 340 186\n",
      "\n",
      "0: 480x640 (no detections), 21.0ms\n",
      "Speed: 1.1ms preprocess, 21.0ms inference, 2.0ms postprocess per image at shape (1, 3, 480, 640)\n",
      "\n",
      "0: 480x640 1 Unripe, 20.5ms\n",
      "Speed: 1.3ms preprocess, 20.5ms inference, 2.6ms postprocess per image at shape (1, 3, 480, 640)\n",
      "tensor([206.9230,  53.6952, 338.5189, 188.4072], device='cuda:0')\n",
      "tensor(0., device='cuda:0')\n",
      "206 53 338 188\n",
      "\n",
      "0: 480x640 1 Unripe, 20.4ms\n",
      "Speed: 1.0ms preprocess, 20.4ms inference, 3.1ms postprocess per image at shape (1, 3, 480, 640)\n",
      "tensor([206.6855,  54.4576, 338.4025, 193.1765], device='cuda:0')\n",
      "tensor(0., device='cuda:0')\n",
      "206 54 338 193\n",
      "\n",
      "0: 480x640 1 Unripe, 20.5ms\n",
      "Speed: 1.0ms preprocess, 20.5ms inference, 2.7ms postprocess per image at shape (1, 3, 480, 640)\n",
      "tensor([207.4515,  53.7412, 338.7584, 188.3387], device='cuda:0')\n",
      "tensor(0., device='cuda:0')\n",
      "207 53 338 188\n",
      "\n",
      "0: 480x640 1 Unripe, 20.5ms\n",
      "Speed: 1.6ms preprocess, 20.5ms inference, 2.6ms postprocess per image at shape (1, 3, 480, 640)\n",
      "tensor([206.9881,  50.6525, 339.0045, 186.9567], device='cuda:0')\n",
      "tensor(0., device='cuda:0')\n",
      "206 50 339 186\n",
      "\n",
      "0: 480x640 1 Unripe, 20.6ms\n",
      "Speed: 1.5ms preprocess, 20.6ms inference, 2.5ms postprocess per image at shape (1, 3, 480, 640)\n",
      "tensor([202.4966,  50.4448, 337.1979, 186.1422], device='cuda:0')\n",
      "tensor(0., device='cuda:0')\n",
      "202 50 337 186\n",
      "\n",
      "0: 480x640 1 Unripe, 20.5ms\n",
      "Speed: 1.2ms preprocess, 20.5ms inference, 2.7ms postprocess per image at shape (1, 3, 480, 640)\n",
      "tensor([201.6779,  53.1343, 335.2063, 191.9253], device='cuda:0')\n",
      "tensor(0., device='cuda:0')\n",
      "201 53 335 191\n",
      "\n",
      "0: 480x640 1 Unripe, 20.5ms\n",
      "Speed: 1.0ms preprocess, 20.5ms inference, 3.2ms postprocess per image at shape (1, 3, 480, 640)\n",
      "tensor([201.8720,  51.8657, 336.4251, 186.7614], device='cuda:0')\n",
      "tensor(0., device='cuda:0')\n",
      "201 51 336 186\n",
      "\n",
      "0: 480x640 1 Unripe, 20.5ms\n",
      "Speed: 1.0ms preprocess, 20.5ms inference, 2.7ms postprocess per image at shape (1, 3, 480, 640)\n",
      "tensor([206.1018,  50.1350, 336.0958, 186.7747], device='cuda:0')\n",
      "tensor(0., device='cuda:0')\n",
      "206 50 336 186\n",
      "\n",
      "0: 480x640 1 Unripe, 20.5ms\n",
      "Speed: 1.0ms preprocess, 20.5ms inference, 2.7ms postprocess per image at shape (1, 3, 480, 640)\n",
      "tensor([207.1712,  51.3022, 338.8759, 186.9576], device='cuda:0')\n",
      "tensor(0., device='cuda:0')\n",
      "207 51 338 186\n",
      "\n",
      "0: 480x640 (no detections), 20.5ms\n",
      "Speed: 1.0ms preprocess, 20.5ms inference, 2.6ms postprocess per image at shape (1, 3, 480, 640)\n",
      "\n",
      "0: 480x640 1 Unripe, 20.5ms\n",
      "Speed: 1.3ms preprocess, 20.5ms inference, 4.3ms postprocess per image at shape (1, 3, 480, 640)\n",
      "tensor([205.6311,  51.1661, 338.3598, 188.3557], device='cuda:0')\n",
      "tensor(0., device='cuda:0')\n",
      "205 51 338 188\n",
      "\n",
      "0: 480x640 1 Unripe, 20.5ms\n",
      "Speed: 1.1ms preprocess, 20.5ms inference, 3.1ms postprocess per image at shape (1, 3, 480, 640)\n",
      "tensor([202.0793,  54.2839, 337.2559, 193.2325], device='cuda:0')\n",
      "tensor(0., device='cuda:0')\n",
      "202 54 337 193\n",
      "\n",
      "0: 480x640 1 Unripe, 20.5ms\n",
      "Speed: 1.0ms preprocess, 20.5ms inference, 2.9ms postprocess per image at shape (1, 3, 480, 640)\n",
      "tensor([204.0942,  55.5670, 334.0185, 192.7901], device='cuda:0')\n",
      "tensor(0., device='cuda:0')\n",
      "204 55 334 192\n",
      "\n",
      "0: 480x640 (no detections), 20.5ms\n",
      "Speed: 1.4ms preprocess, 20.5ms inference, 2.2ms postprocess per image at shape (1, 3, 480, 640)\n",
      "\n",
      "0: 480x640 1 Unripe, 20.4ms\n",
      "Speed: 0.9ms preprocess, 20.4ms inference, 2.7ms postprocess per image at shape (1, 3, 480, 640)\n",
      "tensor([203.7998,  57.4351, 334.8809, 195.2348], device='cuda:0')\n",
      "tensor(0., device='cuda:0')\n",
      "203 57 334 195\n",
      "\n",
      "0: 480x640 1 Unripe, 20.5ms\n",
      "Speed: 1.2ms preprocess, 20.5ms inference, 2.8ms postprocess per image at shape (1, 3, 480, 640)\n",
      "tensor([204.3188,  58.5981, 337.1068, 195.6182], device='cuda:0')\n",
      "tensor(0., device='cuda:0')\n",
      "204 58 337 195\n",
      "\n",
      "0: 480x640 1 Unripe, 20.4ms\n",
      "Speed: 1.0ms preprocess, 20.4ms inference, 3.1ms postprocess per image at shape (1, 3, 480, 640)\n",
      "tensor([206.5168,  57.7490, 337.3206, 194.9840], device='cuda:0')\n",
      "tensor(0., device='cuda:0')\n",
      "206 57 337 194\n",
      "\n",
      "0: 480x640 1 Unripe, 20.5ms\n",
      "Speed: 1.0ms preprocess, 20.5ms inference, 2.7ms postprocess per image at shape (1, 3, 480, 640)\n",
      "tensor([208.5670,  56.6066, 339.6791, 193.2811], device='cuda:0')\n",
      "tensor(0., device='cuda:0')\n",
      "208 56 339 193\n",
      "\n",
      "0: 480x640 1 Unripe, 20.5ms\n",
      "Speed: 1.3ms preprocess, 20.5ms inference, 2.7ms postprocess per image at shape (1, 3, 480, 640)\n",
      "tensor([210.1553,  56.5619, 342.7194, 193.3398], device='cuda:0')\n",
      "tensor(0., device='cuda:0')\n",
      "210 56 342 193\n",
      "\n",
      "0: 480x640 1 Unripe, 20.5ms\n",
      "Speed: 1.2ms preprocess, 20.5ms inference, 2.6ms postprocess per image at shape (1, 3, 480, 640)\n",
      "tensor([210.4775,  57.1232, 342.0791, 193.6407], device='cuda:0')\n",
      "tensor(0., device='cuda:0')\n",
      "210 57 342 193\n",
      "\n",
      "0: 480x640 1 Unripe, 20.5ms\n",
      "Speed: 1.4ms preprocess, 20.5ms inference, 3.4ms postprocess per image at shape (1, 3, 480, 640)\n",
      "tensor([208.0453,  55.8823, 341.0877, 192.6500], device='cuda:0')\n",
      "tensor(0., device='cuda:0')\n",
      "208 55 341 192\n",
      "\n",
      "0: 480x640 1 Unripe, 21.1ms\n",
      "Speed: 1.3ms preprocess, 21.1ms inference, 2.5ms postprocess per image at shape (1, 3, 480, 640)\n",
      "tensor([206.9170,  57.7683, 338.3544, 195.2496], device='cuda:0')\n",
      "tensor(0., device='cuda:0')\n",
      "206 57 338 195\n",
      "\n",
      "0: 480x640 (no detections), 21.0ms\n",
      "Speed: 1.0ms preprocess, 21.0ms inference, 2.4ms postprocess per image at shape (1, 3, 480, 640)\n",
      "\n",
      "0: 480x640 1 Unripe, 21.2ms\n",
      "Speed: 1.1ms preprocess, 21.2ms inference, 3.1ms postprocess per image at shape (1, 3, 480, 640)\n",
      "tensor([202.9035,  59.9495, 335.5551, 198.3650], device='cuda:0')\n",
      "tensor(0., device='cuda:0')\n",
      "202 59 335 198\n",
      "\n",
      "0: 480x640 1 Unripe, 21.4ms\n",
      "Speed: 1.1ms preprocess, 21.4ms inference, 3.5ms postprocess per image at shape (1, 3, 480, 640)\n",
      "tensor([203.5961,  59.4954, 336.3419, 196.6805], device='cuda:0')\n",
      "tensor(0., device='cuda:0')\n",
      "203 59 336 196\n",
      "\n",
      "0: 480x640 1 Unripe, 21.4ms\n",
      "Speed: 1.2ms preprocess, 21.4ms inference, 3.0ms postprocess per image at shape (1, 3, 480, 640)\n",
      "tensor([199.8933,  58.3495, 335.6501, 196.2344], device='cuda:0')\n",
      "tensor(0., device='cuda:0')\n",
      "199 58 335 196\n",
      "\n",
      "0: 480x640 (no detections), 21.4ms\n",
      "Speed: 1.0ms preprocess, 21.4ms inference, 2.2ms postprocess per image at shape (1, 3, 480, 640)\n",
      "\n",
      "0: 480x640 (no detections), 21.4ms\n",
      "Speed: 1.0ms preprocess, 21.4ms inference, 2.1ms postprocess per image at shape (1, 3, 480, 640)\n",
      "\n",
      "0: 480x640 (no detections), 21.5ms\n",
      "Speed: 1.2ms preprocess, 21.5ms inference, 2.1ms postprocess per image at shape (1, 3, 480, 640)\n",
      "\n",
      "0: 480x640 (no detections), 21.5ms\n",
      "Speed: 1.3ms preprocess, 21.5ms inference, 2.9ms postprocess per image at shape (1, 3, 480, 640)\n",
      "\n",
      "0: 480x640 (no detections), 21.5ms\n",
      "Speed: 1.1ms preprocess, 21.5ms inference, 2.2ms postprocess per image at shape (1, 3, 480, 640)\n",
      "\n",
      "0: 480x640 (no detections), 21.5ms\n",
      "Speed: 1.1ms preprocess, 21.5ms inference, 2.1ms postprocess per image at shape (1, 3, 480, 640)\n",
      "\n",
      "0: 480x640 1 Unripe, 21.5ms\n",
      "Speed: 1.2ms preprocess, 21.5ms inference, 2.8ms postprocess per image at shape (1, 3, 480, 640)\n",
      "tensor([185.4499,  57.8041, 320.3190, 194.8250], device='cuda:0')\n",
      "tensor(0., device='cuda:0')\n",
      "185 57 320 194\n",
      "\n",
      "0: 480x640 1 Unripe, 21.6ms\n",
      "Speed: 1.3ms preprocess, 21.6ms inference, 3.4ms postprocess per image at shape (1, 3, 480, 640)\n",
      "tensor([185.5525,  59.2703, 321.0257, 197.3243], device='cuda:0')\n",
      "tensor(0., device='cuda:0')\n",
      "185 59 321 197\n",
      "\n",
      "0: 480x640 (no detections), 21.5ms\n",
      "Speed: 1.6ms preprocess, 21.5ms inference, 2.6ms postprocess per image at shape (1, 3, 480, 640)\n",
      "\n",
      "0: 480x640 (no detections), 21.5ms\n",
      "Speed: 1.1ms preprocess, 21.5ms inference, 2.0ms postprocess per image at shape (1, 3, 480, 640)\n",
      "\n",
      "0: 480x640 1 Unripe, 21.5ms\n",
      "Speed: 1.0ms preprocess, 21.5ms inference, 2.9ms postprocess per image at shape (1, 3, 480, 640)\n",
      "tensor([180.5839,  60.2943, 318.0629, 199.8236], device='cuda:0')\n",
      "tensor(0., device='cuda:0')\n",
      "180 60 318 199\n",
      "\n",
      "0: 480x640 1 Unripe, 21.5ms\n",
      "Speed: 1.0ms preprocess, 21.5ms inference, 3.5ms postprocess per image at shape (1, 3, 480, 640)\n",
      "tensor([181.0542,  63.3144, 317.7902, 200.0737], device='cuda:0')\n",
      "tensor(0., device='cuda:0')\n",
      "181 63 317 200\n",
      "\n",
      "0: 480x640 1 Unripe, 21.5ms\n",
      "Speed: 1.0ms preprocess, 21.5ms inference, 3.1ms postprocess per image at shape (1, 3, 480, 640)\n",
      "tensor([183.0483,  63.8736, 319.1681, 201.5027], device='cuda:0')\n",
      "tensor(0., device='cuda:0')\n",
      "183 63 319 201\n",
      "\n",
      "0: 480x640 1 Unripe, 21.5ms\n",
      "Speed: 1.1ms preprocess, 21.5ms inference, 3.3ms postprocess per image at shape (1, 3, 480, 640)\n",
      "tensor([185.2071,  66.5324, 320.5037, 203.5816], device='cuda:0')\n",
      "tensor(0., device='cuda:0')\n",
      "185 66 320 203\n",
      "\n",
      "0: 480x640 1 Unripe, 21.6ms\n",
      "Speed: 1.1ms preprocess, 21.6ms inference, 3.5ms postprocess per image at shape (1, 3, 480, 640)\n",
      "tensor([185.1787,  69.3636, 321.5500, 204.6765], device='cuda:0')\n",
      "tensor(0., device='cuda:0')\n",
      "185 69 321 204\n",
      "\n",
      "0: 480x640 1 Unripe, 21.6ms\n",
      "Speed: 1.7ms preprocess, 21.6ms inference, 3.7ms postprocess per image at shape (1, 3, 480, 640)\n",
      "tensor([188.5646,  68.7578, 323.5482, 204.8868], device='cuda:0')\n",
      "tensor(0., device='cuda:0')\n",
      "188 68 323 204\n",
      "\n",
      "0: 480x640 (no detections), 21.5ms\n",
      "Speed: 1.1ms preprocess, 21.5ms inference, 2.3ms postprocess per image at shape (1, 3, 480, 640)\n",
      "\n",
      "0: 480x640 1 Unripe, 21.5ms\n",
      "Speed: 1.3ms preprocess, 21.5ms inference, 3.0ms postprocess per image at shape (1, 3, 480, 640)\n",
      "tensor([194.3701,  61.1010, 341.6830, 199.5381], device='cuda:0')\n",
      "tensor(0., device='cuda:0')\n",
      "194 61 341 199\n",
      "\n",
      "0: 480x640 (no detections), 21.5ms\n",
      "Speed: 1.0ms preprocess, 21.5ms inference, 2.2ms postprocess per image at shape (1, 3, 480, 640)\n",
      "\n",
      "0: 480x640 (no detections), 21.5ms\n",
      "Speed: 1.1ms preprocess, 21.5ms inference, 2.1ms postprocess per image at shape (1, 3, 480, 640)\n",
      "\n",
      "0: 480x640 (no detections), 21.5ms\n",
      "Speed: 1.0ms preprocess, 21.5ms inference, 2.4ms postprocess per image at shape (1, 3, 480, 640)\n",
      "\n",
      "0: 480x640 (no detections), 21.5ms\n",
      "Speed: 1.1ms preprocess, 21.5ms inference, 2.0ms postprocess per image at shape (1, 3, 480, 640)\n",
      "\n",
      "0: 480x640 1 Unripe, 21.5ms\n",
      "Speed: 1.2ms preprocess, 21.5ms inference, 2.7ms postprocess per image at shape (1, 3, 480, 640)\n",
      "tensor([251.0943,  56.4612, 394.1265, 200.7667], device='cuda:0')\n",
      "tensor(0., device='cuda:0')\n",
      "251 56 394 200\n",
      "\n",
      "0: 480x640 (no detections), 21.5ms\n",
      "Speed: 1.1ms preprocess, 21.5ms inference, 2.3ms postprocess per image at shape (1, 3, 480, 640)\n",
      "\n",
      "0: 480x640 1 Unripe, 21.5ms\n",
      "Speed: 1.2ms preprocess, 21.5ms inference, 2.8ms postprocess per image at shape (1, 3, 480, 640)\n",
      "tensor([257.0166,  59.4704, 409.5034, 203.8674], device='cuda:0')\n",
      "tensor(0., device='cuda:0')\n",
      "257 59 409 203\n",
      "\n",
      "0: 480x640 (no detections), 21.4ms\n",
      "Speed: 1.6ms preprocess, 21.4ms inference, 2.5ms postprocess per image at shape (1, 3, 480, 640)\n",
      "\n",
      "0: 480x640 1 Unripe, 21.4ms\n",
      "Speed: 1.2ms preprocess, 21.4ms inference, 3.0ms postprocess per image at shape (1, 3, 480, 640)\n",
      "tensor([270.6878,  54.7544, 425.7905, 204.8830], device='cuda:0')\n",
      "tensor(0., device='cuda:0')\n",
      "270 54 425 204\n",
      "\n",
      "0: 480x640 1 Unripe, 21.5ms\n",
      "Speed: 1.4ms preprocess, 21.5ms inference, 2.9ms postprocess per image at shape (1, 3, 480, 640)\n",
      "tensor([281.8857,  55.6461, 446.2956, 205.6970], device='cuda:0')\n",
      "tensor(0., device='cuda:0')\n",
      "281 55 446 205\n",
      "\n",
      "0: 480x640 (no detections), 21.4ms\n",
      "Speed: 1.0ms preprocess, 21.4ms inference, 2.4ms postprocess per image at shape (1, 3, 480, 640)\n",
      "\n",
      "0: 480x640 (no detections), 21.5ms\n",
      "Speed: 1.6ms preprocess, 21.5ms inference, 4.3ms postprocess per image at shape (1, 3, 480, 640)\n",
      "\n",
      "0: 480x640 (no detections), 21.5ms\n",
      "Speed: 1.2ms preprocess, 21.5ms inference, 4.3ms postprocess per image at shape (1, 3, 480, 640)\n",
      "\n",
      "0: 480x640 1 Unripe, 21.5ms\n",
      "Speed: 1.3ms preprocess, 21.5ms inference, 5.0ms postprocess per image at shape (1, 3, 480, 640)\n",
      "tensor([317.8577,  56.1346, 473.6389, 212.0707], device='cuda:0')\n",
      "tensor(0., device='cuda:0')\n",
      "317 56 473 212\n",
      "\n",
      "0: 480x640 (no detections), 21.5ms\n",
      "Speed: 1.3ms preprocess, 21.5ms inference, 3.4ms postprocess per image at shape (1, 3, 480, 640)\n",
      "\n",
      "0: 480x640 1 Unripe, 21.4ms\n",
      "Speed: 1.0ms preprocess, 21.4ms inference, 5.0ms postprocess per image at shape (1, 3, 480, 640)\n",
      "tensor([316.5557,  59.0332, 473.1775, 215.4333], device='cuda:0')\n",
      "tensor(0., device='cuda:0')\n",
      "316 59 473 215\n",
      "\n",
      "0: 480x640 (no detections), 21.5ms\n",
      "Speed: 1.5ms preprocess, 21.5ms inference, 3.8ms postprocess per image at shape (1, 3, 480, 640)\n",
      "\n",
      "0: 480x640 1 Unripe, 21.2ms\n",
      "Speed: 1.2ms preprocess, 21.2ms inference, 5.2ms postprocess per image at shape (1, 3, 480, 640)\n",
      "tensor([303.5840,  62.9625, 464.4119, 218.2839], device='cuda:0')\n",
      "tensor(0., device='cuda:0')\n",
      "303 62 464 218\n",
      "\n",
      "0: 480x640 (no detections), 21.2ms\n",
      "Speed: 1.1ms preprocess, 21.2ms inference, 4.4ms postprocess per image at shape (1, 3, 480, 640)\n",
      "\n",
      "0: 480x640 (no detections), 21.5ms\n",
      "Speed: 1.2ms preprocess, 21.5ms inference, 3.7ms postprocess per image at shape (1, 3, 480, 640)\n",
      "\n",
      "0: 480x640 (no detections), 21.2ms\n",
      "Speed: 0.9ms preprocess, 21.2ms inference, 4.2ms postprocess per image at shape (1, 3, 480, 640)\n",
      "\n",
      "0: 480x640 1 Unripe, 21.2ms\n",
      "Speed: 0.9ms preprocess, 21.2ms inference, 4.8ms postprocess per image at shape (1, 3, 480, 640)\n",
      "tensor([287.9210,  64.8022, 442.9370, 217.5786], device='cuda:0')\n",
      "tensor(0., device='cuda:0')\n",
      "287 64 442 217\n",
      "\n",
      "0: 480x640 (no detections), 21.1ms\n",
      "Speed: 0.9ms preprocess, 21.1ms inference, 3.0ms postprocess per image at shape (1, 3, 480, 640)\n",
      "\n",
      "0: 480x640 (no detections), 21.2ms\n",
      "Speed: 1.1ms preprocess, 21.2ms inference, 2.7ms postprocess per image at shape (1, 3, 480, 640)\n",
      "\n",
      "0: 480x640 (no detections), 21.2ms\n",
      "Speed: 1.2ms preprocess, 21.2ms inference, 2.9ms postprocess per image at shape (1, 3, 480, 640)\n",
      "\n",
      "0: 480x640 1 Unripe, 21.2ms\n",
      "Speed: 0.9ms preprocess, 21.2ms inference, 4.0ms postprocess per image at shape (1, 3, 480, 640)\n",
      "tensor([276.2096,  56.5201, 427.4011, 209.7703], device='cuda:0')\n",
      "tensor(0., device='cuda:0')\n",
      "276 56 427 209\n",
      "\n",
      "0: 480x640 1 Unripe, 21.2ms\n",
      "Speed: 1.4ms preprocess, 21.2ms inference, 5.8ms postprocess per image at shape (1, 3, 480, 640)\n",
      "tensor([274.4692,  55.8819, 423.4665, 207.7716], device='cuda:0')\n",
      "tensor(0., device='cuda:0')\n",
      "274 55 423 207\n",
      "\n",
      "0: 480x640 1 Unripe, 21.3ms\n",
      "Speed: 1.1ms preprocess, 21.3ms inference, 4.6ms postprocess per image at shape (1, 3, 480, 640)\n",
      "tensor([272.8169,  53.2525, 423.5916, 203.2095], device='cuda:0')\n",
      "tensor(0., device='cuda:0')\n",
      "272 53 423 203\n",
      "\n",
      "0: 480x640 (no detections), 21.3ms\n",
      "Speed: 0.9ms preprocess, 21.3ms inference, 2.3ms postprocess per image at shape (1, 3, 480, 640)\n",
      "\n",
      "0: 480x640 1 Unripe, 21.4ms\n",
      "Speed: 1.4ms preprocess, 21.4ms inference, 3.3ms postprocess per image at shape (1, 3, 480, 640)\n",
      "tensor([269.0017,  55.1696, 417.7161, 205.3378], device='cuda:0')\n",
      "tensor(0., device='cuda:0')\n",
      "269 55 417 205\n",
      "\n",
      "0: 480x640 1 Unripe, 21.2ms\n",
      "Speed: 1.0ms preprocess, 21.2ms inference, 3.2ms postprocess per image at shape (1, 3, 480, 640)\n",
      "tensor([270.2192,  54.8583, 417.9299, 207.9953], device='cuda:0')\n",
      "tensor(0., device='cuda:0')\n",
      "270 54 417 207\n",
      "\n",
      "0: 480x640 1 Unripe, 21.3ms\n",
      "Speed: 1.0ms preprocess, 21.3ms inference, 3.0ms postprocess per image at shape (1, 3, 480, 640)\n",
      "tensor([270.1613,  55.0911, 426.2944, 209.4461], device='cuda:0')\n",
      "tensor(0., device='cuda:0')\n",
      "270 55 426 209\n",
      "\n",
      "0: 480x640 1 Unripe, 21.3ms\n",
      "Speed: 0.9ms preprocess, 21.3ms inference, 3.2ms postprocess per image at shape (1, 3, 480, 640)\n",
      "tensor([271.6700,  54.8013, 422.1481, 208.1029], device='cuda:0')\n",
      "tensor(0., device='cuda:0')\n",
      "271 54 422 208\n",
      "\n",
      "0: 480x640 1 Unripe, 21.3ms\n",
      "Speed: 1.0ms preprocess, 21.3ms inference, 2.9ms postprocess per image at shape (1, 3, 480, 640)\n",
      "tensor([270.5410,  55.0920, 419.9616, 207.2920], device='cuda:0')\n",
      "tensor(0., device='cuda:0')\n",
      "270 55 419 207\n",
      "\n",
      "0: 480x640 1 Unripe, 21.3ms\n",
      "Speed: 1.5ms preprocess, 21.3ms inference, 2.8ms postprocess per image at shape (1, 3, 480, 640)\n",
      "tensor([269.8592,  50.9538, 422.0972, 207.1593], device='cuda:0')\n",
      "tensor(0., device='cuda:0')\n",
      "269 50 422 207\n",
      "\n",
      "0: 480x640 1 Unripe, 21.3ms\n",
      "Speed: 1.1ms preprocess, 21.3ms inference, 6.5ms postprocess per image at shape (1, 3, 480, 640)\n",
      "tensor([270.5420,  56.5443, 420.2061, 208.8002], device='cuda:0')\n",
      "tensor(0., device='cuda:0')\n",
      "270 56 420 208\n",
      "\n",
      "0: 480x640 1 Unripe, 21.4ms\n",
      "Speed: 1.6ms preprocess, 21.4ms inference, 2.7ms postprocess per image at shape (1, 3, 480, 640)\n",
      "tensor([269.7797,  55.9047, 418.3945, 204.3536], device='cuda:0')\n",
      "tensor(0., device='cuda:0')\n",
      "269 55 418 204\n",
      "\n",
      "0: 480x640 1 Unripe, 21.3ms\n",
      "Speed: 0.9ms preprocess, 21.3ms inference, 2.9ms postprocess per image at shape (1, 3, 480, 640)\n",
      "tensor([267.5063,  55.1336, 416.3588, 206.1292], device='cuda:0')\n",
      "tensor(0., device='cuda:0')\n",
      "267 55 416 206\n",
      "\n",
      "0: 480x640 (no detections), 21.3ms\n",
      "Speed: 0.9ms preprocess, 21.3ms inference, 2.6ms postprocess per image at shape (1, 3, 480, 640)\n",
      "\n",
      "0: 480x640 1 Unripe, 22.2ms\n",
      "Speed: 1.2ms preprocess, 22.2ms inference, 3.8ms postprocess per image at shape (1, 3, 480, 640)\n",
      "tensor([259.4750,  56.2302, 411.7160, 206.2332], device='cuda:0')\n",
      "tensor(0., device='cuda:0')\n",
      "259 56 411 206\n",
      "\n",
      "0: 480x640 1 Unripe, 22.1ms\n",
      "Speed: 1.1ms preprocess, 22.1ms inference, 3.4ms postprocess per image at shape (1, 3, 480, 640)\n",
      "tensor([257.3725,  56.0614, 404.0872, 207.3991], device='cuda:0')\n",
      "tensor(0., device='cuda:0')\n",
      "257 56 404 207\n",
      "\n",
      "0: 480x640 (no detections), 21.3ms\n",
      "Speed: 1.1ms preprocess, 21.3ms inference, 2.6ms postprocess per image at shape (1, 3, 480, 640)\n",
      "\n",
      "0: 480x640 (no detections), 21.3ms\n",
      "Speed: 1.0ms preprocess, 21.3ms inference, 2.2ms postprocess per image at shape (1, 3, 480, 640)\n",
      "\n",
      "0: 480x640 (no detections), 21.3ms\n",
      "Speed: 1.0ms preprocess, 21.3ms inference, 2.0ms postprocess per image at shape (1, 3, 480, 640)\n",
      "\n",
      "0: 480x640 1 Unripe, 21.3ms\n",
      "Speed: 1.4ms preprocess, 21.3ms inference, 2.7ms postprocess per image at shape (1, 3, 480, 640)\n",
      "tensor([251.6461,  52.2889, 398.6251, 200.3053], device='cuda:0')\n",
      "tensor(0., device='cuda:0')\n",
      "251 52 398 200\n",
      "\n",
      "0: 480x640 (no detections), 21.3ms\n",
      "Speed: 1.3ms preprocess, 21.3ms inference, 2.2ms postprocess per image at shape (1, 3, 480, 640)\n",
      "\n",
      "0: 480x640 1 Unripe, 21.3ms\n",
      "Speed: 1.0ms preprocess, 21.3ms inference, 3.2ms postprocess per image at shape (1, 3, 480, 640)\n",
      "tensor([239.9202,  57.7945, 392.2634, 205.3927], device='cuda:0')\n",
      "tensor(0., device='cuda:0')\n",
      "239 57 392 205\n",
      "\n",
      "0: 480x640 1 Unripe, 21.3ms\n",
      "Speed: 1.2ms preprocess, 21.3ms inference, 2.8ms postprocess per image at shape (1, 3, 480, 640)\n",
      "tensor([237.9831,  56.4284, 391.5385, 205.4312], device='cuda:0')\n",
      "tensor(0., device='cuda:0')\n",
      "237 56 391 205\n",
      "\n",
      "0: 480x640 (no detections), 21.4ms\n",
      "Speed: 1.2ms preprocess, 21.4ms inference, 2.3ms postprocess per image at shape (1, 3, 480, 640)\n",
      "\n",
      "0: 480x640 1 Unripe, 21.3ms\n",
      "Speed: 1.5ms preprocess, 21.3ms inference, 2.5ms postprocess per image at shape (1, 3, 480, 640)\n",
      "tensor([237.3934,  69.4816, 379.2002, 211.0882], device='cuda:0')\n",
      "tensor(0., device='cuda:0')\n",
      "237 69 379 211\n",
      "\n",
      "0: 480x640 1 Unripe, 21.3ms\n",
      "Speed: 1.0ms preprocess, 21.3ms inference, 2.9ms postprocess per image at shape (1, 3, 480, 640)\n",
      "tensor([238.0246,  68.2181, 380.7599, 211.7924], device='cuda:0')\n",
      "tensor(0., device='cuda:0')\n",
      "238 68 380 211\n",
      "\n",
      "0: 480x640 1 Unripe, 21.3ms\n",
      "Speed: 1.0ms preprocess, 21.3ms inference, 2.7ms postprocess per image at shape (1, 3, 480, 640)\n",
      "tensor([239.0234,  70.2665, 383.0228, 213.0972], device='cuda:0')\n",
      "tensor(0., device='cuda:0')\n",
      "239 70 383 213\n",
      "\n",
      "0: 480x640 (no detections), 23.0ms\n",
      "Speed: 1.6ms preprocess, 23.0ms inference, 18.0ms postprocess per image at shape (1, 3, 480, 640)\n",
      "\n",
      "0: 480x640 1 Unripe, 21.3ms\n",
      "Speed: 1.3ms preprocess, 21.3ms inference, 6.4ms postprocess per image at shape (1, 3, 480, 640)\n",
      "tensor([236.2705,  77.1443, 375.4356, 220.8039], device='cuda:0')\n",
      "tensor(0., device='cuda:0')\n",
      "236 77 375 220\n",
      "\n",
      "0: 480x640 (no detections), 21.3ms\n",
      "Speed: 1.1ms preprocess, 21.3ms inference, 2.3ms postprocess per image at shape (1, 3, 480, 640)\n",
      "\n",
      "0: 480x640 1 Unripe, 21.3ms\n",
      "Speed: 1.1ms preprocess, 21.3ms inference, 3.1ms postprocess per image at shape (1, 3, 480, 640)\n",
      "tensor([235.8872,  82.8969, 373.0304, 223.3725], device='cuda:0')\n",
      "tensor(0., device='cuda:0')\n",
      "235 82 373 223\n",
      "\n",
      "0: 480x640 (no detections), 21.3ms\n",
      "Speed: 1.0ms preprocess, 21.3ms inference, 2.0ms postprocess per image at shape (1, 3, 480, 640)\n",
      "\n",
      "0: 480x640 (no detections), 20.2ms\n",
      "Speed: 1.1ms preprocess, 20.2ms inference, 2.2ms postprocess per image at shape (1, 3, 480, 640)\n",
      "\n",
      "0: 480x640 1 Unripe, 20.3ms\n",
      "Speed: 1.0ms preprocess, 20.3ms inference, 3.1ms postprocess per image at shape (1, 3, 480, 640)\n",
      "tensor([224.0089,  82.7194, 365.2661, 224.5986], device='cuda:0')\n",
      "tensor(0., device='cuda:0')\n",
      "224 82 365 224\n",
      "\n",
      "0: 480x640 (no detections), 20.3ms\n",
      "Speed: 1.1ms preprocess, 20.3ms inference, 2.0ms postprocess per image at shape (1, 3, 480, 640)\n",
      "\n",
      "0: 480x640 1 Unripe, 20.2ms\n",
      "Speed: 1.0ms preprocess, 20.2ms inference, 3.1ms postprocess per image at shape (1, 3, 480, 640)\n",
      "tensor([211.0786,  85.1337, 359.1948, 226.1493], device='cuda:0')\n",
      "tensor(0., device='cuda:0')\n",
      "211 85 359 226\n",
      "\n",
      "0: 480x640 (no detections), 20.2ms\n",
      "Speed: 1.0ms preprocess, 20.2ms inference, 2.0ms postprocess per image at shape (1, 3, 480, 640)\n",
      "\n",
      "0: 480x640 (no detections), 20.3ms\n",
      "Speed: 1.0ms preprocess, 20.3ms inference, 2.3ms postprocess per image at shape (1, 3, 480, 640)\n",
      "\n",
      "0: 480x640 (no detections), 20.4ms\n",
      "Speed: 1.1ms preprocess, 20.4ms inference, 2.3ms postprocess per image at shape (1, 3, 480, 640)\n",
      "\n",
      "0: 480x640 1 Unripe, 20.2ms\n",
      "Speed: 1.3ms preprocess, 20.2ms inference, 2.6ms postprocess per image at shape (1, 3, 480, 640)\n",
      "tensor([190.4026,  86.8764, 334.0398, 229.9100], device='cuda:0')\n",
      "tensor(0., device='cuda:0')\n",
      "190 86 334 229\n",
      "\n",
      "0: 480x640 1 Unripe, 20.3ms\n",
      "Speed: 1.2ms preprocess, 20.3ms inference, 3.3ms postprocess per image at shape (1, 3, 480, 640)\n",
      "tensor([193.3749,  86.8905, 340.7826, 228.7349], device='cuda:0')\n",
      "tensor(0., device='cuda:0')\n",
      "193 86 340 228\n",
      "\n",
      "0: 480x640 (no detections), 20.3ms\n",
      "Speed: 1.1ms preprocess, 20.3ms inference, 2.1ms postprocess per image at shape (1, 3, 480, 640)\n",
      "\n",
      "0: 480x640 (no detections), 20.2ms\n",
      "Speed: 0.9ms preprocess, 20.2ms inference, 2.5ms postprocess per image at shape (1, 3, 480, 640)\n",
      "\n",
      "0: 480x640 (no detections), 20.3ms\n",
      "Speed: 1.0ms preprocess, 20.3ms inference, 2.4ms postprocess per image at shape (1, 3, 480, 640)\n",
      "\n",
      "0: 480x640 1 Unripe, 20.3ms\n",
      "Speed: 1.4ms preprocess, 20.3ms inference, 2.4ms postprocess per image at shape (1, 3, 480, 640)\n",
      "tensor([189.5810,  96.9800, 326.9363, 234.8280], device='cuda:0')\n",
      "tensor(0., device='cuda:0')\n",
      "189 96 326 234\n",
      "\n",
      "0: 480x640 1 Unripe, 20.5ms\n",
      "Speed: 1.1ms preprocess, 20.5ms inference, 2.8ms postprocess per image at shape (1, 3, 480, 640)\n",
      "tensor([188.1791,  98.7892, 324.7026, 237.1198], device='cuda:0')\n",
      "tensor(0., device='cuda:0')\n",
      "188 98 324 237\n",
      "\n",
      "0: 480x640 (no detections), 20.2ms\n",
      "Speed: 1.0ms preprocess, 20.2ms inference, 7.3ms postprocess per image at shape (1, 3, 480, 640)\n",
      "\n",
      "0: 480x640 1 Unripe, 20.3ms\n",
      "Speed: 1.1ms preprocess, 20.3ms inference, 3.0ms postprocess per image at shape (1, 3, 480, 640)\n",
      "tensor([191.3348, 101.9839, 327.6076, 238.1693], device='cuda:0')\n",
      "tensor(0., device='cuda:0')\n",
      "191 101 327 238\n",
      "\n",
      "0: 480x640 1 Unripe, 20.3ms\n",
      "Speed: 1.1ms preprocess, 20.3ms inference, 2.7ms postprocess per image at shape (1, 3, 480, 640)\n",
      "tensor([196.4426, 106.1815, 334.5681, 240.7065], device='cuda:0')\n",
      "tensor(0., device='cuda:0')\n",
      "196 106 334 240\n",
      "\n",
      "0: 480x640 (no detections), 20.3ms\n",
      "Speed: 1.3ms preprocess, 20.3ms inference, 2.2ms postprocess per image at shape (1, 3, 480, 640)\n",
      "\n",
      "0: 480x640 1 Unripe, 20.2ms\n",
      "Speed: 1.0ms preprocess, 20.2ms inference, 3.3ms postprocess per image at shape (1, 3, 480, 640)\n",
      "tensor([210.7920, 109.4822, 348.5303, 248.7662], device='cuda:0')\n",
      "tensor(0., device='cuda:0')\n",
      "210 109 348 248\n",
      "\n",
      "0: 480x640 (no detections), 20.2ms\n",
      "Speed: 1.1ms preprocess, 20.2ms inference, 2.0ms postprocess per image at shape (1, 3, 480, 640)\n",
      "\n",
      "0: 480x640 (no detections), 20.3ms\n",
      "Speed: 1.1ms preprocess, 20.3ms inference, 2.1ms postprocess per image at shape (1, 3, 480, 640)\n",
      "\n",
      "0: 480x640 (no detections), 20.2ms\n",
      "Speed: 1.0ms preprocess, 20.2ms inference, 2.1ms postprocess per image at shape (1, 3, 480, 640)\n",
      "\n",
      "0: 480x640 (no detections), 20.3ms\n",
      "Speed: 1.1ms preprocess, 20.3ms inference, 2.1ms postprocess per image at shape (1, 3, 480, 640)\n",
      "\n",
      "0: 480x640 1 Unripe, 20.4ms\n",
      "Speed: 1.1ms preprocess, 20.4ms inference, 3.4ms postprocess per image at shape (1, 3, 480, 640)\n",
      "tensor([212.9606,  99.2490, 347.1218, 239.0891], device='cuda:0')\n",
      "tensor(0., device='cuda:0')\n",
      "212 99 347 239\n",
      "\n",
      "0: 480x640 1 Unripe, 20.2ms\n",
      "Speed: 1.1ms preprocess, 20.2ms inference, 2.6ms postprocess per image at shape (1, 3, 480, 640)\n",
      "tensor([213.5222,  93.0718, 347.1879, 234.8476], device='cuda:0')\n",
      "tensor(0., device='cuda:0')\n",
      "213 93 347 234\n",
      "\n",
      "0: 480x640 1 Unripe, 32.9ms\n",
      "Speed: 1.2ms preprocess, 32.9ms inference, 3.4ms postprocess per image at shape (1, 3, 480, 640)\n",
      "tensor([211.4224,  88.5575, 348.1498, 234.7772], device='cuda:0')\n",
      "tensor(0., device='cuda:0')\n",
      "211 88 348 234\n",
      "\n",
      "0: 480x640 (no detections), 20.3ms\n",
      "Speed: 1.3ms preprocess, 20.3ms inference, 2.3ms postprocess per image at shape (1, 3, 480, 640)\n",
      "\n",
      "0: 480x640 (no detections), 20.4ms\n",
      "Speed: 1.3ms preprocess, 20.4ms inference, 2.0ms postprocess per image at shape (1, 3, 480, 640)\n",
      "\n",
      "0: 480x640 (no detections), 20.3ms\n",
      "Speed: 1.3ms preprocess, 20.3ms inference, 2.5ms postprocess per image at shape (1, 3, 480, 640)\n",
      "\n",
      "0: 480x640 (no detections), 20.2ms\n",
      "Speed: 1.0ms preprocess, 20.2ms inference, 2.1ms postprocess per image at shape (1, 3, 480, 640)\n",
      "\n",
      "0: 480x640 (no detections), 20.8ms\n",
      "Speed: 1.1ms preprocess, 20.8ms inference, 2.2ms postprocess per image at shape (1, 3, 480, 640)\n",
      "\n",
      "0: 480x640 (no detections), 20.7ms\n",
      "Speed: 1.0ms preprocess, 20.7ms inference, 2.0ms postprocess per image at shape (1, 3, 480, 640)\n",
      "\n",
      "0: 480x640 1 Unripe, 20.7ms\n",
      "Speed: 1.1ms preprocess, 20.7ms inference, 3.2ms postprocess per image at shape (1, 3, 480, 640)\n",
      "tensor([212.6897,  83.1124, 349.4007, 223.3756], device='cuda:0')\n",
      "tensor(0., device='cuda:0')\n",
      "212 83 349 223\n",
      "\n",
      "0: 480x640 (no detections), 20.8ms\n",
      "Speed: 1.1ms preprocess, 20.8ms inference, 2.5ms postprocess per image at shape (1, 3, 480, 640)\n",
      "\n",
      "0: 480x640 (no detections), 20.8ms\n",
      "Speed: 0.9ms preprocess, 20.8ms inference, 2.1ms postprocess per image at shape (1, 3, 480, 640)\n",
      "\n",
      "0: 480x640 (no detections), 20.7ms\n",
      "Speed: 1.0ms preprocess, 20.7ms inference, 2.2ms postprocess per image at shape (1, 3, 480, 640)\n",
      "\n",
      "0: 480x640 (no detections), 20.7ms\n",
      "Speed: 1.0ms preprocess, 20.7ms inference, 2.0ms postprocess per image at shape (1, 3, 480, 640)\n",
      "\n",
      "0: 480x640 (no detections), 20.7ms\n",
      "Speed: 1.1ms preprocess, 20.7ms inference, 1.9ms postprocess per image at shape (1, 3, 480, 640)\n",
      "\n",
      "0: 480x640 1 Unripe, 20.7ms\n",
      "Speed: 1.0ms preprocess, 20.7ms inference, 3.0ms postprocess per image at shape (1, 3, 480, 640)\n",
      "tensor([213.2635,  85.8269, 348.7948, 225.1010], device='cuda:0')\n",
      "tensor(0., device='cuda:0')\n",
      "213 85 348 225\n",
      "\n",
      "0: 480x640 (no detections), 20.8ms\n",
      "Speed: 1.2ms preprocess, 20.8ms inference, 2.6ms postprocess per image at shape (1, 3, 480, 640)\n",
      "\n",
      "0: 480x640 (no detections), 20.8ms\n",
      "Speed: 1.4ms preprocess, 20.8ms inference, 2.2ms postprocess per image at shape (1, 3, 480, 640)\n",
      "\n",
      "0: 480x640 (no detections), 20.8ms\n",
      "Speed: 1.1ms preprocess, 20.8ms inference, 2.5ms postprocess per image at shape (1, 3, 480, 640)\n",
      "\n",
      "0: 480x640 (no detections), 20.8ms\n",
      "Speed: 1.2ms preprocess, 20.8ms inference, 2.0ms postprocess per image at shape (1, 3, 480, 640)\n",
      "\n",
      "0: 480x640 (no detections), 20.7ms\n",
      "Speed: 1.1ms preprocess, 20.7ms inference, 2.4ms postprocess per image at shape (1, 3, 480, 640)\n",
      "\n",
      "0: 480x640 (no detections), 20.7ms\n",
      "Speed: 1.0ms preprocess, 20.7ms inference, 2.1ms postprocess per image at shape (1, 3, 480, 640)\n",
      "\n",
      "0: 480x640 (no detections), 20.7ms\n",
      "Speed: 1.2ms preprocess, 20.7ms inference, 2.3ms postprocess per image at shape (1, 3, 480, 640)\n",
      "\n",
      "0: 480x640 (no detections), 20.7ms\n",
      "Speed: 1.0ms preprocess, 20.7ms inference, 2.1ms postprocess per image at shape (1, 3, 480, 640)\n",
      "\n",
      "0: 480x640 (no detections), 20.8ms\n",
      "Speed: 1.1ms preprocess, 20.8ms inference, 2.1ms postprocess per image at shape (1, 3, 480, 640)\n",
      "\n",
      "0: 480x640 (no detections), 20.7ms\n",
      "Speed: 0.9ms preprocess, 20.7ms inference, 2.3ms postprocess per image at shape (1, 3, 480, 640)\n",
      "\n",
      "0: 480x640 (no detections), 20.7ms\n",
      "Speed: 1.1ms preprocess, 20.7ms inference, 2.0ms postprocess per image at shape (1, 3, 480, 640)\n",
      "\n",
      "0: 480x640 (no detections), 20.8ms\n",
      "Speed: 1.2ms preprocess, 20.8ms inference, 2.1ms postprocess per image at shape (1, 3, 480, 640)\n",
      "\n",
      "0: 480x640 (no detections), 20.7ms\n",
      "Speed: 1.1ms preprocess, 20.7ms inference, 3.0ms postprocess per image at shape (1, 3, 480, 640)\n",
      "\n",
      "0: 480x640 (no detections), 20.8ms\n",
      "Speed: 1.2ms preprocess, 20.8ms inference, 2.2ms postprocess per image at shape (1, 3, 480, 640)\n",
      "\n",
      "0: 480x640 (no detections), 20.8ms\n",
      "Speed: 0.9ms preprocess, 20.8ms inference, 2.2ms postprocess per image at shape (1, 3, 480, 640)\n",
      "\n",
      "0: 480x640 (no detections), 20.7ms\n",
      "Speed: 1.0ms preprocess, 20.7ms inference, 1.9ms postprocess per image at shape (1, 3, 480, 640)\n",
      "\n",
      "0: 480x640 (no detections), 20.8ms\n",
      "Speed: 1.2ms preprocess, 20.8ms inference, 1.9ms postprocess per image at shape (1, 3, 480, 640)\n",
      "\n",
      "0: 480x640 (no detections), 20.8ms\n",
      "Speed: 1.1ms preprocess, 20.8ms inference, 2.5ms postprocess per image at shape (1, 3, 480, 640)\n",
      "\n",
      "0: 480x640 (no detections), 20.8ms\n",
      "Speed: 1.5ms preprocess, 20.8ms inference, 2.8ms postprocess per image at shape (1, 3, 480, 640)\n",
      "\n",
      "0: 480x640 (no detections), 20.9ms\n",
      "Speed: 1.2ms preprocess, 20.9ms inference, 2.7ms postprocess per image at shape (1, 3, 480, 640)\n",
      "\n",
      "0: 480x640 (no detections), 20.7ms\n",
      "Speed: 1.0ms preprocess, 20.7ms inference, 2.0ms postprocess per image at shape (1, 3, 480, 640)\n",
      "\n",
      "0: 480x640 (no detections), 20.3ms\n",
      "Speed: 1.4ms preprocess, 20.3ms inference, 1.9ms postprocess per image at shape (1, 3, 480, 640)\n",
      "\n",
      "0: 480x640 (no detections), 20.2ms\n",
      "Speed: 1.1ms preprocess, 20.2ms inference, 2.7ms postprocess per image at shape (1, 3, 480, 640)\n",
      "\n",
      "0: 480x640 (no detections), 20.2ms\n",
      "Speed: 1.3ms preprocess, 20.2ms inference, 2.1ms postprocess per image at shape (1, 3, 480, 640)\n",
      "\n",
      "0: 480x640 (no detections), 20.2ms\n",
      "Speed: 0.9ms preprocess, 20.2ms inference, 2.1ms postprocess per image at shape (1, 3, 480, 640)\n",
      "\n",
      "0: 480x640 (no detections), 20.2ms\n",
      "Speed: 1.0ms preprocess, 20.2ms inference, 2.0ms postprocess per image at shape (1, 3, 480, 640)\n",
      "\n",
      "0: 480x640 (no detections), 20.2ms\n",
      "Speed: 1.1ms preprocess, 20.2ms inference, 2.3ms postprocess per image at shape (1, 3, 480, 640)\n",
      "\n",
      "0: 480x640 (no detections), 20.2ms\n",
      "Speed: 1.1ms preprocess, 20.2ms inference, 2.0ms postprocess per image at shape (1, 3, 480, 640)\n",
      "\n",
      "0: 480x640 (no detections), 20.2ms\n",
      "Speed: 1.1ms preprocess, 20.2ms inference, 2.0ms postprocess per image at shape (1, 3, 480, 640)\n",
      "\n",
      "0: 480x640 (no detections), 20.2ms\n",
      "Speed: 1.0ms preprocess, 20.2ms inference, 2.3ms postprocess per image at shape (1, 3, 480, 640)\n",
      "\n",
      "0: 480x640 (no detections), 20.2ms\n",
      "Speed: 0.9ms preprocess, 20.2ms inference, 2.0ms postprocess per image at shape (1, 3, 480, 640)\n",
      "\n",
      "0: 480x640 (no detections), 20.2ms\n",
      "Speed: 1.3ms preprocess, 20.2ms inference, 2.1ms postprocess per image at shape (1, 3, 480, 640)\n",
      "\n",
      "0: 480x640 (no detections), 20.4ms\n",
      "Speed: 1.0ms preprocess, 20.4ms inference, 2.1ms postprocess per image at shape (1, 3, 480, 640)\n",
      "\n",
      "0: 480x640 (no detections), 23.7ms\n",
      "Speed: 1.1ms preprocess, 23.7ms inference, 3.3ms postprocess per image at shape (1, 3, 480, 640)\n",
      "\n",
      "0: 480x640 (no detections), 20.4ms\n",
      "Speed: 1.0ms preprocess, 20.4ms inference, 2.1ms postprocess per image at shape (1, 3, 480, 640)\n",
      "\n",
      "0: 480x640 (no detections), 20.4ms\n",
      "Speed: 1.0ms preprocess, 20.4ms inference, 2.0ms postprocess per image at shape (1, 3, 480, 640)\n",
      "\n",
      "0: 480x640 (no detections), 20.2ms\n",
      "Speed: 1.7ms preprocess, 20.2ms inference, 2.9ms postprocess per image at shape (1, 3, 480, 640)\n",
      "\n",
      "0: 480x640 (no detections), 20.2ms\n",
      "Speed: 1.3ms preprocess, 20.2ms inference, 2.2ms postprocess per image at shape (1, 3, 480, 640)\n",
      "\n",
      "0: 480x640 (no detections), 20.2ms\n",
      "Speed: 1.1ms preprocess, 20.2ms inference, 2.1ms postprocess per image at shape (1, 3, 480, 640)\n",
      "\n",
      "0: 480x640 (no detections), 20.2ms\n",
      "Speed: 1.0ms preprocess, 20.2ms inference, 2.2ms postprocess per image at shape (1, 3, 480, 640)\n",
      "\n",
      "0: 480x640 (no detections), 20.2ms\n",
      "Speed: 1.0ms preprocess, 20.2ms inference, 2.1ms postprocess per image at shape (1, 3, 480, 640)\n",
      "\n",
      "0: 480x640 (no detections), 20.2ms\n",
      "Speed: 1.8ms preprocess, 20.2ms inference, 2.3ms postprocess per image at shape (1, 3, 480, 640)\n",
      "\n",
      "0: 480x640 (no detections), 20.2ms\n",
      "Speed: 1.0ms preprocess, 20.2ms inference, 1.9ms postprocess per image at shape (1, 3, 480, 640)\n",
      "\n",
      "0: 480x640 (no detections), 20.3ms\n",
      "Speed: 1.1ms preprocess, 20.3ms inference, 1.9ms postprocess per image at shape (1, 3, 480, 640)\n",
      "\n",
      "0: 480x640 (no detections), 20.2ms\n",
      "Speed: 1.2ms preprocess, 20.2ms inference, 2.0ms postprocess per image at shape (1, 3, 480, 640)\n",
      "\n",
      "0: 480x640 (no detections), 20.2ms\n",
      "Speed: 1.0ms preprocess, 20.2ms inference, 2.1ms postprocess per image at shape (1, 3, 480, 640)\n",
      "\n",
      "0: 480x640 (no detections), 20.2ms\n",
      "Speed: 1.6ms preprocess, 20.2ms inference, 1.9ms postprocess per image at shape (1, 3, 480, 640)\n",
      "\n",
      "0: 480x640 (no detections), 20.2ms\n",
      "Speed: 1.0ms preprocess, 20.2ms inference, 2.0ms postprocess per image at shape (1, 3, 480, 640)\n",
      "\n",
      "0: 480x640 (no detections), 26.7ms\n",
      "Speed: 1.2ms preprocess, 26.7ms inference, 4.3ms postprocess per image at shape (1, 3, 480, 640)\n",
      "\n",
      "0: 480x640 (no detections), 20.4ms\n",
      "Speed: 3.1ms preprocess, 20.4ms inference, 2.1ms postprocess per image at shape (1, 3, 480, 640)\n",
      "\n",
      "0: 480x640 (no detections), 20.4ms\n",
      "Speed: 1.0ms preprocess, 20.4ms inference, 2.4ms postprocess per image at shape (1, 3, 480, 640)\n",
      "\n",
      "0: 480x640 (no detections), 21.3ms\n",
      "Speed: 1.1ms preprocess, 21.3ms inference, 2.2ms postprocess per image at shape (1, 3, 480, 640)\n",
      "\n",
      "0: 480x640 (no detections), 21.1ms\n",
      "Speed: 1.0ms preprocess, 21.1ms inference, 2.8ms postprocess per image at shape (1, 3, 480, 640)\n",
      "\n",
      "0: 480x640 (no detections), 21.1ms\n",
      "Speed: 1.0ms preprocess, 21.1ms inference, 1.9ms postprocess per image at shape (1, 3, 480, 640)\n",
      "\n",
      "0: 480x640 (no detections), 21.4ms\n",
      "Speed: 1.2ms preprocess, 21.4ms inference, 2.1ms postprocess per image at shape (1, 3, 480, 640)\n",
      "\n",
      "0: 480x640 (no detections), 21.4ms\n",
      "Speed: 1.0ms preprocess, 21.4ms inference, 2.0ms postprocess per image at shape (1, 3, 480, 640)\n",
      "\n",
      "0: 480x640 (no detections), 21.5ms\n",
      "Speed: 1.6ms preprocess, 21.5ms inference, 2.0ms postprocess per image at shape (1, 3, 480, 640)\n",
      "\n",
      "0: 480x640 (no detections), 21.4ms\n",
      "Speed: 0.9ms preprocess, 21.4ms inference, 2.7ms postprocess per image at shape (1, 3, 480, 640)\n",
      "\n",
      "0: 480x640 1 Unripe, 21.6ms\n",
      "Speed: 1.3ms preprocess, 21.6ms inference, 2.8ms postprocess per image at shape (1, 3, 480, 640)\n",
      "tensor([206.6670,  25.4461, 379.3659, 203.3437], device='cuda:0')\n",
      "tensor(0., device='cuda:0')\n",
      "206 25 379 203\n",
      "\n",
      "0: 480x640 1 Unripe, 21.6ms\n",
      "Speed: 1.1ms preprocess, 21.6ms inference, 3.7ms postprocess per image at shape (1, 3, 480, 640)\n",
      "tensor([202.0790,  25.1106, 376.6760, 199.8000], device='cuda:0')\n",
      "tensor(0., device='cuda:0')\n",
      "202 25 376 199\n",
      "\n",
      "0: 480x640 (no detections), 22.2ms\n",
      "Speed: 1.1ms preprocess, 22.2ms inference, 2.3ms postprocess per image at shape (1, 3, 480, 640)\n",
      "\n",
      "0: 480x640 1 Unripe, 21.4ms\n",
      "Speed: 1.3ms preprocess, 21.4ms inference, 2.7ms postprocess per image at shape (1, 3, 480, 640)\n",
      "tensor([182.7489,  16.5288, 361.3284, 192.4126], device='cuda:0')\n",
      "tensor(0., device='cuda:0')\n",
      "182 16 361 192\n",
      "\n",
      "0: 480x640 (no detections), 21.4ms\n",
      "Speed: 1.1ms preprocess, 21.4ms inference, 2.8ms postprocess per image at shape (1, 3, 480, 640)\n",
      "\n",
      "0: 480x640 (no detections), 22.3ms\n",
      "Speed: 1.1ms preprocess, 22.3ms inference, 2.7ms postprocess per image at shape (1, 3, 480, 640)\n",
      "\n",
      "0: 480x640 (no detections), 25.9ms\n",
      "Speed: 1.4ms preprocess, 25.9ms inference, 2.6ms postprocess per image at shape (1, 3, 480, 640)\n",
      "\n",
      "0: 480x640 (no detections), 21.4ms\n",
      "Speed: 1.0ms preprocess, 21.4ms inference, 2.0ms postprocess per image at shape (1, 3, 480, 640)\n",
      "\n",
      "0: 480x640 (no detections), 21.5ms\n",
      "Speed: 1.3ms preprocess, 21.5ms inference, 2.1ms postprocess per image at shape (1, 3, 480, 640)\n",
      "\n",
      "0: 480x640 (no detections), 21.4ms\n",
      "Speed: 1.0ms preprocess, 21.4ms inference, 2.5ms postprocess per image at shape (1, 3, 480, 640)\n",
      "\n",
      "0: 480x640 (no detections), 21.4ms\n",
      "Speed: 1.0ms preprocess, 21.4ms inference, 2.3ms postprocess per image at shape (1, 3, 480, 640)\n",
      "\n",
      "0: 480x640 (no detections), 21.3ms\n",
      "Speed: 1.0ms preprocess, 21.3ms inference, 2.1ms postprocess per image at shape (1, 3, 480, 640)\n",
      "\n",
      "0: 480x640 (no detections), 21.3ms\n",
      "Speed: 1.1ms preprocess, 21.3ms inference, 2.0ms postprocess per image at shape (1, 3, 480, 640)\n",
      "\n",
      "0: 480x640 (no detections), 21.2ms\n",
      "Speed: 1.2ms preprocess, 21.2ms inference, 2.1ms postprocess per image at shape (1, 3, 480, 640)\n",
      "\n",
      "0: 480x640 (no detections), 21.2ms\n",
      "Speed: 1.1ms preprocess, 21.2ms inference, 2.6ms postprocess per image at shape (1, 3, 480, 640)\n",
      "\n",
      "0: 480x640 (no detections), 21.2ms\n",
      "Speed: 1.1ms preprocess, 21.2ms inference, 2.1ms postprocess per image at shape (1, 3, 480, 640)\n",
      "\n",
      "0: 480x640 (no detections), 21.2ms\n",
      "Speed: 1.0ms preprocess, 21.2ms inference, 2.1ms postprocess per image at shape (1, 3, 480, 640)\n",
      "\n",
      "0: 480x640 (no detections), 21.2ms\n",
      "Speed: 1.0ms preprocess, 21.2ms inference, 2.0ms postprocess per image at shape (1, 3, 480, 640)\n",
      "\n",
      "0: 480x640 (no detections), 21.2ms\n",
      "Speed: 1.2ms preprocess, 21.2ms inference, 2.1ms postprocess per image at shape (1, 3, 480, 640)\n",
      "\n",
      "0: 480x640 (no detections), 21.3ms\n",
      "Speed: 1.3ms preprocess, 21.3ms inference, 2.5ms postprocess per image at shape (1, 3, 480, 640)\n",
      "\n",
      "0: 480x640 (no detections), 21.2ms\n",
      "Speed: 1.2ms preprocess, 21.2ms inference, 2.4ms postprocess per image at shape (1, 3, 480, 640)\n",
      "\n",
      "0: 480x640 (no detections), 21.2ms\n",
      "Speed: 1.5ms preprocess, 21.2ms inference, 2.4ms postprocess per image at shape (1, 3, 480, 640)\n",
      "\n",
      "0: 480x640 (no detections), 21.2ms\n",
      "Speed: 1.2ms preprocess, 21.2ms inference, 1.9ms postprocess per image at shape (1, 3, 480, 640)\n",
      "\n",
      "0: 480x640 (no detections), 21.1ms\n",
      "Speed: 1.1ms preprocess, 21.1ms inference, 2.2ms postprocess per image at shape (1, 3, 480, 640)\n",
      "\n",
      "0: 480x640 (no detections), 21.1ms\n",
      "Speed: 0.9ms preprocess, 21.1ms inference, 2.7ms postprocess per image at shape (1, 3, 480, 640)\n",
      "\n",
      "0: 480x640 (no detections), 21.1ms\n",
      "Speed: 1.0ms preprocess, 21.1ms inference, 2.1ms postprocess per image at shape (1, 3, 480, 640)\n",
      "\n",
      "0: 480x640 (no detections), 21.0ms\n",
      "Speed: 0.9ms preprocess, 21.0ms inference, 1.9ms postprocess per image at shape (1, 3, 480, 640)\n",
      "\n",
      "0: 480x640 (no detections), 21.1ms\n",
      "Speed: 1.4ms preprocess, 21.1ms inference, 2.7ms postprocess per image at shape (1, 3, 480, 640)\n",
      "\n",
      "0: 480x640 (no detections), 21.1ms\n",
      "Speed: 1.6ms preprocess, 21.1ms inference, 2.3ms postprocess per image at shape (1, 3, 480, 640)\n",
      "\n",
      "0: 480x640 (no detections), 21.1ms\n",
      "Speed: 1.1ms preprocess, 21.1ms inference, 2.2ms postprocess per image at shape (1, 3, 480, 640)\n",
      "\n",
      "0: 480x640 (no detections), 21.1ms\n",
      "Speed: 1.1ms preprocess, 21.1ms inference, 2.1ms postprocess per image at shape (1, 3, 480, 640)\n",
      "\n",
      "0: 480x640 (no detections), 21.1ms\n",
      "Speed: 1.0ms preprocess, 21.1ms inference, 2.1ms postprocess per image at shape (1, 3, 480, 640)\n",
      "\n",
      "0: 480x640 (no detections), 21.2ms\n",
      "Speed: 1.1ms preprocess, 21.2ms inference, 2.1ms postprocess per image at shape (1, 3, 480, 640)\n",
      "\n",
      "0: 480x640 (no detections), 21.2ms\n",
      "Speed: 1.0ms preprocess, 21.2ms inference, 2.1ms postprocess per image at shape (1, 3, 480, 640)\n",
      "\n",
      "0: 480x640 (no detections), 21.1ms\n",
      "Speed: 1.0ms preprocess, 21.1ms inference, 2.4ms postprocess per image at shape (1, 3, 480, 640)\n",
      "\n",
      "0: 480x640 (no detections), 21.2ms\n",
      "Speed: 1.1ms preprocess, 21.2ms inference, 2.2ms postprocess per image at shape (1, 3, 480, 640)\n",
      "\n",
      "0: 480x640 (no detections), 21.2ms\n",
      "Speed: 1.3ms preprocess, 21.2ms inference, 2.4ms postprocess per image at shape (1, 3, 480, 640)\n",
      "\n",
      "0: 480x640 (no detections), 21.2ms\n",
      "Speed: 1.2ms preprocess, 21.2ms inference, 2.7ms postprocess per image at shape (1, 3, 480, 640)\n",
      "\n",
      "0: 480x640 (no detections), 21.2ms\n",
      "Speed: 1.0ms preprocess, 21.2ms inference, 2.1ms postprocess per image at shape (1, 3, 480, 640)\n",
      "\n",
      "0: 480x640 (no detections), 21.2ms\n",
      "Speed: 1.1ms preprocess, 21.2ms inference, 2.5ms postprocess per image at shape (1, 3, 480, 640)\n",
      "\n",
      "0: 480x640 (no detections), 21.2ms\n",
      "Speed: 1.1ms preprocess, 21.2ms inference, 1.9ms postprocess per image at shape (1, 3, 480, 640)\n",
      "\n",
      "0: 480x640 (no detections), 21.2ms\n",
      "Speed: 1.0ms preprocess, 21.2ms inference, 2.0ms postprocess per image at shape (1, 3, 480, 640)\n",
      "\n",
      "0: 480x640 (no detections), 21.2ms\n",
      "Speed: 1.0ms preprocess, 21.2ms inference, 1.9ms postprocess per image at shape (1, 3, 480, 640)\n",
      "\n",
      "0: 480x640 (no detections), 21.2ms\n",
      "Speed: 1.3ms preprocess, 21.2ms inference, 2.1ms postprocess per image at shape (1, 3, 480, 640)\n",
      "\n",
      "0: 480x640 (no detections), 21.3ms\n",
      "Speed: 0.9ms preprocess, 21.3ms inference, 2.0ms postprocess per image at shape (1, 3, 480, 640)\n",
      "\n",
      "0: 480x640 (no detections), 21.2ms\n",
      "Speed: 1.0ms preprocess, 21.2ms inference, 2.0ms postprocess per image at shape (1, 3, 480, 640)\n",
      "\n",
      "0: 480x640 (no detections), 21.3ms\n",
      "Speed: 1.2ms preprocess, 21.3ms inference, 2.1ms postprocess per image at shape (1, 3, 480, 640)\n",
      "\n",
      "0: 480x640 (no detections), 21.2ms\n",
      "Speed: 1.0ms preprocess, 21.2ms inference, 2.0ms postprocess per image at shape (1, 3, 480, 640)\n",
      "\n",
      "0: 480x640 (no detections), 21.3ms\n",
      "Speed: 1.3ms preprocess, 21.3ms inference, 2.1ms postprocess per image at shape (1, 3, 480, 640)\n",
      "\n",
      "0: 480x640 (no detections), 21.3ms\n",
      "Speed: 1.0ms preprocess, 21.3ms inference, 2.3ms postprocess per image at shape (1, 3, 480, 640)\n",
      "\n",
      "0: 480x640 (no detections), 21.4ms\n",
      "Speed: 1.6ms preprocess, 21.4ms inference, 3.3ms postprocess per image at shape (1, 3, 480, 640)\n",
      "\n",
      "0: 480x640 (no detections), 21.3ms\n",
      "Speed: 1.2ms preprocess, 21.3ms inference, 2.1ms postprocess per image at shape (1, 3, 480, 640)\n",
      "\n",
      "0: 480x640 (no detections), 21.2ms\n",
      "Speed: 1.0ms preprocess, 21.2ms inference, 2.2ms postprocess per image at shape (1, 3, 480, 640)\n",
      "\n",
      "0: 480x640 (no detections), 21.3ms\n",
      "Speed: 1.3ms preprocess, 21.3ms inference, 2.2ms postprocess per image at shape (1, 3, 480, 640)\n",
      "\n",
      "0: 480x640 (no detections), 21.3ms\n",
      "Speed: 1.1ms preprocess, 21.3ms inference, 2.8ms postprocess per image at shape (1, 3, 480, 640)\n",
      "\n",
      "0: 480x640 (no detections), 21.4ms\n",
      "Speed: 1.1ms preprocess, 21.4ms inference, 2.4ms postprocess per image at shape (1, 3, 480, 640)\n",
      "\n",
      "0: 480x640 (no detections), 21.3ms\n",
      "Speed: 1.2ms preprocess, 21.3ms inference, 2.1ms postprocess per image at shape (1, 3, 480, 640)\n",
      "\n",
      "0: 480x640 (no detections), 21.3ms\n",
      "Speed: 1.0ms preprocess, 21.3ms inference, 2.2ms postprocess per image at shape (1, 3, 480, 640)\n",
      "\n",
      "0: 480x640 (no detections), 21.3ms\n",
      "Speed: 1.2ms preprocess, 21.3ms inference, 2.1ms postprocess per image at shape (1, 3, 480, 640)\n",
      "\n",
      "0: 480x640 (no detections), 21.3ms\n",
      "Speed: 1.0ms preprocess, 21.3ms inference, 2.2ms postprocess per image at shape (1, 3, 480, 640)\n",
      "\n",
      "0: 480x640 (no detections), 21.3ms\n",
      "Speed: 1.0ms preprocess, 21.3ms inference, 2.1ms postprocess per image at shape (1, 3, 480, 640)\n",
      "\n",
      "0: 480x640 (no detections), 21.3ms\n",
      "Speed: 1.0ms preprocess, 21.3ms inference, 2.1ms postprocess per image at shape (1, 3, 480, 640)\n",
      "\n",
      "0: 480x640 (no detections), 21.3ms\n",
      "Speed: 1.0ms preprocess, 21.3ms inference, 2.1ms postprocess per image at shape (1, 3, 480, 640)\n",
      "\n",
      "0: 480x640 (no detections), 21.2ms\n",
      "Speed: 1.1ms preprocess, 21.2ms inference, 2.1ms postprocess per image at shape (1, 3, 480, 640)\n",
      "\n",
      "0: 480x640 (no detections), 21.2ms\n",
      "Speed: 8.1ms preprocess, 21.2ms inference, 2.7ms postprocess per image at shape (1, 3, 480, 640)\n",
      "\n",
      "0: 480x640 (no detections), 21.2ms\n",
      "Speed: 1.4ms preprocess, 21.2ms inference, 2.5ms postprocess per image at shape (1, 3, 480, 640)\n",
      "\n",
      "0: 480x640 (no detections), 21.2ms\n",
      "Speed: 1.1ms preprocess, 21.2ms inference, 2.1ms postprocess per image at shape (1, 3, 480, 640)\n",
      "\n",
      "0: 480x640 (no detections), 21.1ms\n",
      "Speed: 1.0ms preprocess, 21.1ms inference, 2.1ms postprocess per image at shape (1, 3, 480, 640)\n",
      "\n",
      "0: 480x640 (no detections), 21.1ms\n",
      "Speed: 1.1ms preprocess, 21.1ms inference, 1.9ms postprocess per image at shape (1, 3, 480, 640)\n",
      "\n",
      "0: 480x640 (no detections), 21.2ms\n",
      "Speed: 1.3ms preprocess, 21.2ms inference, 2.3ms postprocess per image at shape (1, 3, 480, 640)\n",
      "\n",
      "0: 480x640 (no detections), 21.2ms\n",
      "Speed: 0.9ms preprocess, 21.2ms inference, 1.9ms postprocess per image at shape (1, 3, 480, 640)\n",
      "\n",
      "0: 480x640 (no detections), 21.2ms\n",
      "Speed: 1.2ms preprocess, 21.2ms inference, 2.1ms postprocess per image at shape (1, 3, 480, 640)\n",
      "\n",
      "0: 480x640 (no detections), 21.2ms\n",
      "Speed: 1.0ms preprocess, 21.2ms inference, 2.3ms postprocess per image at shape (1, 3, 480, 640)\n",
      "\n",
      "0: 480x640 (no detections), 21.2ms\n",
      "Speed: 4.9ms preprocess, 21.2ms inference, 2.1ms postprocess per image at shape (1, 3, 480, 640)\n",
      "\n",
      "0: 480x640 (no detections), 21.2ms\n",
      "Speed: 1.2ms preprocess, 21.2ms inference, 2.2ms postprocess per image at shape (1, 3, 480, 640)\n",
      "\n",
      "0: 480x640 (no detections), 21.2ms\n",
      "Speed: 1.1ms preprocess, 21.2ms inference, 2.3ms postprocess per image at shape (1, 3, 480, 640)\n",
      "\n",
      "0: 480x640 (no detections), 21.3ms\n",
      "Speed: 1.2ms preprocess, 21.3ms inference, 2.1ms postprocess per image at shape (1, 3, 480, 640)\n",
      "\n",
      "0: 480x640 (no detections), 21.2ms\n",
      "Speed: 1.1ms preprocess, 21.2ms inference, 2.3ms postprocess per image at shape (1, 3, 480, 640)\n",
      "\n",
      "0: 480x640 (no detections), 21.3ms\n",
      "Speed: 1.0ms preprocess, 21.3ms inference, 2.0ms postprocess per image at shape (1, 3, 480, 640)\n",
      "\n",
      "0: 480x640 (no detections), 27.1ms\n",
      "Speed: 1.4ms preprocess, 27.1ms inference, 2.6ms postprocess per image at shape (1, 3, 480, 640)\n",
      "\n",
      "0: 480x640 (no detections), 21.3ms\n",
      "Speed: 1.0ms preprocess, 21.3ms inference, 2.2ms postprocess per image at shape (1, 3, 480, 640)\n",
      "\n",
      "0: 480x640 (no detections), 21.3ms\n",
      "Speed: 1.2ms preprocess, 21.3ms inference, 1.9ms postprocess per image at shape (1, 3, 480, 640)\n",
      "\n",
      "0: 480x640 (no detections), 21.3ms\n",
      "Speed: 1.3ms preprocess, 21.3ms inference, 2.4ms postprocess per image at shape (1, 3, 480, 640)\n",
      "\n",
      "0: 480x640 (no detections), 20.9ms\n",
      "Speed: 1.1ms preprocess, 20.9ms inference, 1.9ms postprocess per image at shape (1, 3, 480, 640)\n",
      "\n",
      "0: 480x640 (no detections), 20.9ms\n",
      "Speed: 1.2ms preprocess, 20.9ms inference, 2.3ms postprocess per image at shape (1, 3, 480, 640)\n",
      "\n",
      "0: 480x640 (no detections), 20.9ms\n",
      "Speed: 1.0ms preprocess, 20.9ms inference, 2.1ms postprocess per image at shape (1, 3, 480, 640)\n",
      "\n",
      "0: 480x640 (no detections), 21.0ms\n",
      "Speed: 1.2ms preprocess, 21.0ms inference, 2.1ms postprocess per image at shape (1, 3, 480, 640)\n",
      "\n",
      "0: 480x640 (no detections), 20.9ms\n",
      "Speed: 1.2ms preprocess, 20.9ms inference, 2.4ms postprocess per image at shape (1, 3, 480, 640)\n",
      "\n",
      "0: 480x640 (no detections), 20.9ms\n",
      "Speed: 1.0ms preprocess, 20.9ms inference, 1.8ms postprocess per image at shape (1, 3, 480, 640)\n",
      "\n",
      "0: 480x640 (no detections), 21.0ms\n",
      "Speed: 1.3ms preprocess, 21.0ms inference, 2.2ms postprocess per image at shape (1, 3, 480, 640)\n",
      "\n",
      "0: 480x640 (no detections), 20.9ms\n",
      "Speed: 1.0ms preprocess, 20.9ms inference, 2.0ms postprocess per image at shape (1, 3, 480, 640)\n",
      "\n",
      "0: 480x640 (no detections), 20.9ms\n",
      "Speed: 1.3ms preprocess, 20.9ms inference, 2.5ms postprocess per image at shape (1, 3, 480, 640)\n",
      "\n",
      "0: 480x640 (no detections), 20.9ms\n",
      "Speed: 1.0ms preprocess, 20.9ms inference, 2.1ms postprocess per image at shape (1, 3, 480, 640)\n",
      "\n",
      "0: 480x640 (no detections), 21.7ms\n",
      "Speed: 1.1ms preprocess, 21.7ms inference, 3.1ms postprocess per image at shape (1, 3, 480, 640)\n",
      "\n",
      "0: 480x640 (no detections), 21.2ms\n",
      "Speed: 1.6ms preprocess, 21.2ms inference, 2.4ms postprocess per image at shape (1, 3, 480, 640)\n",
      "\n",
      "0: 480x640 (no detections), 21.3ms\n",
      "Speed: 1.0ms preprocess, 21.3ms inference, 2.2ms postprocess per image at shape (1, 3, 480, 640)\n",
      "\n",
      "0: 480x640 (no detections), 21.2ms\n",
      "Speed: 1.4ms preprocess, 21.2ms inference, 2.1ms postprocess per image at shape (1, 3, 480, 640)\n",
      "\n",
      "0: 480x640 (no detections), 21.1ms\n",
      "Speed: 1.0ms preprocess, 21.1ms inference, 2.6ms postprocess per image at shape (1, 3, 480, 640)\n",
      "\n",
      "0: 480x640 (no detections), 21.3ms\n",
      "Speed: 1.4ms preprocess, 21.3ms inference, 2.3ms postprocess per image at shape (1, 3, 480, 640)\n",
      "\n",
      "0: 480x640 (no detections), 21.2ms\n",
      "Speed: 1.1ms preprocess, 21.2ms inference, 2.4ms postprocess per image at shape (1, 3, 480, 640)\n",
      "\n",
      "0: 480x640 (no detections), 21.2ms\n",
      "Speed: 1.3ms preprocess, 21.2ms inference, 2.1ms postprocess per image at shape (1, 3, 480, 640)\n",
      "\n",
      "0: 480x640 (no detections), 21.2ms\n",
      "Speed: 1.4ms preprocess, 21.2ms inference, 2.1ms postprocess per image at shape (1, 3, 480, 640)\n",
      "\n",
      "0: 480x640 (no detections), 21.2ms\n",
      "Speed: 1.0ms preprocess, 21.2ms inference, 2.5ms postprocess per image at shape (1, 3, 480, 640)\n",
      "\n",
      "0: 480x640 (no detections), 21.3ms\n",
      "Speed: 1.2ms preprocess, 21.3ms inference, 2.1ms postprocess per image at shape (1, 3, 480, 640)\n",
      "\n",
      "0: 480x640 (no detections), 21.2ms\n",
      "Speed: 1.1ms preprocess, 21.2ms inference, 2.4ms postprocess per image at shape (1, 3, 480, 640)\n",
      "\n",
      "0: 480x640 (no detections), 21.2ms\n",
      "Speed: 1.0ms preprocess, 21.2ms inference, 1.8ms postprocess per image at shape (1, 3, 480, 640)\n",
      "\n",
      "0: 480x640 (no detections), 21.3ms\n",
      "Speed: 1.2ms preprocess, 21.3ms inference, 2.1ms postprocess per image at shape (1, 3, 480, 640)\n",
      "\n",
      "0: 480x640 (no detections), 21.2ms\n",
      "Speed: 1.0ms preprocess, 21.2ms inference, 2.6ms postprocess per image at shape (1, 3, 480, 640)\n",
      "\n",
      "0: 480x640 (no detections), 21.2ms\n",
      "Speed: 1.3ms preprocess, 21.2ms inference, 3.6ms postprocess per image at shape (1, 3, 480, 640)\n",
      "\n",
      "0: 480x640 (no detections), 22.2ms\n",
      "Speed: 1.1ms preprocess, 22.2ms inference, 2.3ms postprocess per image at shape (1, 3, 480, 640)\n",
      "\n",
      "0: 480x640 (no detections), 21.2ms\n",
      "Speed: 1.0ms preprocess, 21.2ms inference, 2.0ms postprocess per image at shape (1, 3, 480, 640)\n",
      "\n",
      "0: 480x640 (no detections), 21.2ms\n",
      "Speed: 1.2ms preprocess, 21.2ms inference, 2.1ms postprocess per image at shape (1, 3, 480, 640)\n",
      "\n",
      "0: 480x640 (no detections), 21.3ms\n",
      "Speed: 1.2ms preprocess, 21.3ms inference, 2.0ms postprocess per image at shape (1, 3, 480, 640)\n",
      "\n",
      "0: 480x640 (no detections), 21.3ms\n",
      "Speed: 1.0ms preprocess, 21.3ms inference, 2.2ms postprocess per image at shape (1, 3, 480, 640)\n",
      "\n",
      "0: 480x640 (no detections), 21.3ms\n",
      "Speed: 1.2ms preprocess, 21.3ms inference, 2.2ms postprocess per image at shape (1, 3, 480, 640)\n",
      "\n",
      "0: 480x640 (no detections), 21.2ms\n",
      "Speed: 1.0ms preprocess, 21.2ms inference, 2.0ms postprocess per image at shape (1, 3, 480, 640)\n",
      "\n",
      "0: 480x640 (no detections), 21.3ms\n",
      "Speed: 1.1ms preprocess, 21.3ms inference, 2.5ms postprocess per image at shape (1, 3, 480, 640)\n",
      "\n",
      "0: 480x640 (no detections), 21.2ms\n",
      "Speed: 1.1ms preprocess, 21.2ms inference, 2.5ms postprocess per image at shape (1, 3, 480, 640)\n",
      "\n",
      "0: 480x640 (no detections), 21.3ms\n",
      "Speed: 1.2ms preprocess, 21.3ms inference, 2.4ms postprocess per image at shape (1, 3, 480, 640)\n",
      "\n",
      "0: 480x640 (no detections), 21.2ms\n",
      "Speed: 1.0ms preprocess, 21.2ms inference, 2.2ms postprocess per image at shape (1, 3, 480, 640)\n",
      "\n",
      "0: 480x640 (no detections), 21.3ms\n",
      "Speed: 1.1ms preprocess, 21.3ms inference, 2.2ms postprocess per image at shape (1, 3, 480, 640)\n",
      "\n",
      "0: 480x640 (no detections), 21.2ms\n",
      "Speed: 1.1ms preprocess, 21.2ms inference, 2.1ms postprocess per image at shape (1, 3, 480, 640)\n",
      "\n",
      "0: 480x640 (no detections), 21.2ms\n",
      "Speed: 1.0ms preprocess, 21.2ms inference, 2.4ms postprocess per image at shape (1, 3, 480, 640)\n",
      "\n",
      "0: 480x640 (no detections), 21.2ms\n",
      "Speed: 1.3ms preprocess, 21.2ms inference, 2.3ms postprocess per image at shape (1, 3, 480, 640)\n",
      "\n",
      "0: 480x640 (no detections), 21.3ms\n",
      "Speed: 1.4ms preprocess, 21.3ms inference, 2.9ms postprocess per image at shape (1, 3, 480, 640)\n",
      "\n",
      "0: 480x640 (no detections), 21.2ms\n",
      "Speed: 1.3ms preprocess, 21.2ms inference, 2.2ms postprocess per image at shape (1, 3, 480, 640)\n",
      "\n",
      "0: 480x640 (no detections), 21.2ms\n",
      "Speed: 1.3ms preprocess, 21.2ms inference, 2.0ms postprocess per image at shape (1, 3, 480, 640)\n",
      "\n",
      "0: 480x640 (no detections), 21.2ms\n",
      "Speed: 1.0ms preprocess, 21.2ms inference, 2.7ms postprocess per image at shape (1, 3, 480, 640)\n",
      "\n",
      "0: 480x640 (no detections), 21.2ms\n",
      "Speed: 1.2ms preprocess, 21.2ms inference, 2.4ms postprocess per image at shape (1, 3, 480, 640)\n",
      "\n",
      "0: 480x640 (no detections), 21.2ms\n",
      "Speed: 1.0ms preprocess, 21.2ms inference, 2.0ms postprocess per image at shape (1, 3, 480, 640)\n",
      "\n",
      "0: 480x640 (no detections), 21.1ms\n",
      "Speed: 1.0ms preprocess, 21.1ms inference, 2.1ms postprocess per image at shape (1, 3, 480, 640)\n",
      "\n",
      "0: 480x640 (no detections), 21.2ms\n",
      "Speed: 1.2ms preprocess, 21.2ms inference, 2.0ms postprocess per image at shape (1, 3, 480, 640)\n",
      "\n",
      "0: 480x640 (no detections), 21.2ms\n",
      "Speed: 1.0ms preprocess, 21.2ms inference, 2.6ms postprocess per image at shape (1, 3, 480, 640)\n",
      "\n",
      "0: 480x640 (no detections), 20.6ms\n",
      "Speed: 1.1ms preprocess, 20.6ms inference, 2.2ms postprocess per image at shape (1, 3, 480, 640)\n",
      "\n",
      "0: 480x640 (no detections), 20.6ms\n",
      "Speed: 1.0ms preprocess, 20.6ms inference, 2.3ms postprocess per image at shape (1, 3, 480, 640)\n",
      "\n",
      "0: 480x640 (no detections), 20.5ms\n",
      "Speed: 1.0ms preprocess, 20.5ms inference, 2.1ms postprocess per image at shape (1, 3, 480, 640)\n",
      "\n",
      "0: 480x640 (no detections), 20.6ms\n",
      "Speed: 1.1ms preprocess, 20.6ms inference, 2.1ms postprocess per image at shape (1, 3, 480, 640)\n",
      "\n",
      "0: 480x640 (no detections), 23.3ms\n",
      "Speed: 1.2ms preprocess, 23.3ms inference, 2.3ms postprocess per image at shape (1, 3, 480, 640)\n",
      "\n",
      "0: 480x640 (no detections), 20.6ms\n",
      "Speed: 1.2ms preprocess, 20.6ms inference, 2.0ms postprocess per image at shape (1, 3, 480, 640)\n",
      "\n",
      "0: 480x640 (no detections), 21.1ms\n",
      "Speed: 1.3ms preprocess, 21.1ms inference, 2.6ms postprocess per image at shape (1, 3, 480, 640)\n",
      "\n",
      "0: 480x640 (no detections), 20.6ms\n",
      "Speed: 1.0ms preprocess, 20.6ms inference, 1.8ms postprocess per image at shape (1, 3, 480, 640)\n",
      "\n",
      "0: 480x640 (no detections), 20.6ms\n",
      "Speed: 1.2ms preprocess, 20.6ms inference, 2.9ms postprocess per image at shape (1, 3, 480, 640)\n",
      "\n",
      "0: 480x640 (no detections), 22.4ms\n",
      "Speed: 1.1ms preprocess, 22.4ms inference, 1.9ms postprocess per image at shape (1, 3, 480, 640)\n",
      "\n",
      "0: 480x640 (no detections), 22.4ms\n",
      "Speed: 1.1ms preprocess, 22.4ms inference, 2.3ms postprocess per image at shape (1, 3, 480, 640)\n",
      "\n",
      "0: 480x640 (no detections), 21.5ms\n",
      "Speed: 1.0ms preprocess, 21.5ms inference, 2.3ms postprocess per image at shape (1, 3, 480, 640)\n",
      "\n",
      "0: 480x640 (no detections), 21.5ms\n",
      "Speed: 1.0ms preprocess, 21.5ms inference, 2.4ms postprocess per image at shape (1, 3, 480, 640)\n",
      "\n",
      "0: 480x640 (no detections), 22.7ms\n",
      "Speed: 1.0ms preprocess, 22.7ms inference, 2.5ms postprocess per image at shape (1, 3, 480, 640)\n",
      "\n",
      "0: 480x640 (no detections), 22.4ms\n",
      "Speed: 1.1ms preprocess, 22.4ms inference, 2.2ms postprocess per image at shape (1, 3, 480, 640)\n",
      "\n",
      "0: 480x640 (no detections), 21.6ms\n",
      "Speed: 1.1ms preprocess, 21.6ms inference, 2.1ms postprocess per image at shape (1, 3, 480, 640)\n",
      "\n",
      "0: 480x640 (no detections), 21.0ms\n",
      "Speed: 1.0ms preprocess, 21.0ms inference, 1.8ms postprocess per image at shape (1, 3, 480, 640)\n",
      "\n",
      "0: 480x640 (no detections), 20.9ms\n",
      "Speed: 1.1ms preprocess, 20.9ms inference, 2.5ms postprocess per image at shape (1, 3, 480, 640)\n",
      "\n",
      "0: 480x640 (no detections), 21.8ms\n",
      "Speed: 1.1ms preprocess, 21.8ms inference, 2.6ms postprocess per image at shape (1, 3, 480, 640)\n",
      "\n",
      "0: 480x640 (no detections), 21.4ms\n",
      "Speed: 1.3ms preprocess, 21.4ms inference, 3.7ms postprocess per image at shape (1, 3, 480, 640)\n",
      "\n",
      "0: 480x640 (no detections), 21.4ms\n",
      "Speed: 1.2ms preprocess, 21.4ms inference, 2.4ms postprocess per image at shape (1, 3, 480, 640)\n",
      "\n",
      "0: 480x640 (no detections), 22.5ms\n",
      "Speed: 1.2ms preprocess, 22.5ms inference, 2.3ms postprocess per image at shape (1, 3, 480, 640)\n",
      "\n",
      "0: 480x640 (no detections), 22.7ms\n",
      "Speed: 1.1ms preprocess, 22.7ms inference, 2.4ms postprocess per image at shape (1, 3, 480, 640)\n",
      "\n",
      "0: 480x640 (no detections), 20.6ms\n",
      "Speed: 1.0ms preprocess, 20.6ms inference, 2.6ms postprocess per image at shape (1, 3, 480, 640)\n",
      "\n",
      "0: 480x640 (no detections), 22.5ms\n",
      "Speed: 1.1ms preprocess, 22.5ms inference, 2.3ms postprocess per image at shape (1, 3, 480, 640)\n",
      "\n",
      "0: 480x640 (no detections), 22.1ms\n",
      "Speed: 1.0ms preprocess, 22.1ms inference, 2.1ms postprocess per image at shape (1, 3, 480, 640)\n",
      "\n",
      "0: 480x640 (no detections), 21.2ms\n",
      "Speed: 1.1ms preprocess, 21.2ms inference, 2.1ms postprocess per image at shape (1, 3, 480, 640)\n",
      "\n",
      "0: 480x640 (no detections), 21.7ms\n",
      "Speed: 1.1ms preprocess, 21.7ms inference, 2.0ms postprocess per image at shape (1, 3, 480, 640)\n",
      "\n",
      "0: 480x640 (no detections), 22.8ms\n",
      "Speed: 1.1ms preprocess, 22.8ms inference, 2.1ms postprocess per image at shape (1, 3, 480, 640)\n",
      "\n",
      "0: 480x640 (no detections), 22.0ms\n",
      "Speed: 1.1ms preprocess, 22.0ms inference, 2.3ms postprocess per image at shape (1, 3, 480, 640)\n",
      "\n",
      "0: 480x640 (no detections), 20.0ms\n",
      "Speed: 1.2ms preprocess, 20.0ms inference, 2.3ms postprocess per image at shape (1, 3, 480, 640)\n",
      "\n",
      "0: 480x640 (no detections), 20.0ms\n",
      "Speed: 1.0ms preprocess, 20.0ms inference, 2.3ms postprocess per image at shape (1, 3, 480, 640)\n",
      "\n",
      "0: 480x640 (no detections), 19.9ms\n",
      "Speed: 1.1ms preprocess, 19.9ms inference, 2.1ms postprocess per image at shape (1, 3, 480, 640)\n",
      "\n",
      "0: 480x640 (no detections), 20.0ms\n",
      "Speed: 1.1ms preprocess, 20.0ms inference, 2.7ms postprocess per image at shape (1, 3, 480, 640)\n",
      "\n",
      "0: 480x640 (no detections), 19.7ms\n",
      "Speed: 8.6ms preprocess, 19.7ms inference, 2.3ms postprocess per image at shape (1, 3, 480, 640)\n",
      "\n",
      "0: 480x640 (no detections), 20.5ms\n",
      "Speed: 1.4ms preprocess, 20.5ms inference, 2.4ms postprocess per image at shape (1, 3, 480, 640)\n",
      "\n",
      "0: 480x640 (no detections), 20.1ms\n",
      "Speed: 1.2ms preprocess, 20.1ms inference, 2.4ms postprocess per image at shape (1, 3, 480, 640)\n",
      "\n",
      "0: 480x640 (no detections), 20.1ms\n",
      "Speed: 1.1ms preprocess, 20.1ms inference, 2.2ms postprocess per image at shape (1, 3, 480, 640)\n",
      "\n",
      "0: 480x640 (no detections), 20.3ms\n",
      "Speed: 1.0ms preprocess, 20.3ms inference, 2.3ms postprocess per image at shape (1, 3, 480, 640)\n",
      "\n",
      "0: 480x640 (no detections), 20.8ms\n",
      "Speed: 1.0ms preprocess, 20.8ms inference, 2.2ms postprocess per image at shape (1, 3, 480, 640)\n",
      "\n",
      "0: 480x640 (no detections), 20.4ms\n",
      "Speed: 1.2ms preprocess, 20.4ms inference, 2.1ms postprocess per image at shape (1, 3, 480, 640)\n",
      "\n",
      "0: 480x640 (no detections), 20.3ms\n",
      "Speed: 0.9ms preprocess, 20.3ms inference, 2.6ms postprocess per image at shape (1, 3, 480, 640)\n",
      "\n",
      "0: 480x640 (no detections), 20.3ms\n",
      "Speed: 1.0ms preprocess, 20.3ms inference, 2.1ms postprocess per image at shape (1, 3, 480, 640)\n",
      "\n",
      "0: 480x640 (no detections), 20.4ms\n",
      "Speed: 1.0ms preprocess, 20.4ms inference, 2.3ms postprocess per image at shape (1, 3, 480, 640)\n",
      "\n",
      "0: 480x640 (no detections), 20.4ms\n",
      "Speed: 1.1ms preprocess, 20.4ms inference, 1.8ms postprocess per image at shape (1, 3, 480, 640)\n",
      "\n",
      "0: 480x640 (no detections), 20.4ms\n",
      "Speed: 1.2ms preprocess, 20.4ms inference, 2.2ms postprocess per image at shape (1, 3, 480, 640)\n",
      "\n",
      "0: 480x640 (no detections), 20.4ms\n",
      "Speed: 1.1ms preprocess, 20.4ms inference, 2.7ms postprocess per image at shape (1, 3, 480, 640)\n",
      "\n",
      "0: 480x640 (no detections), 20.4ms\n",
      "Speed: 1.1ms preprocess, 20.4ms inference, 3.0ms postprocess per image at shape (1, 3, 480, 640)\n",
      "\n",
      "0: 480x640 (no detections), 20.7ms\n",
      "Speed: 1.2ms preprocess, 20.7ms inference, 2.5ms postprocess per image at shape (1, 3, 480, 640)\n",
      "\n",
      "0: 480x640 (no detections), 20.4ms\n",
      "Speed: 1.0ms preprocess, 20.4ms inference, 1.9ms postprocess per image at shape (1, 3, 480, 640)\n",
      "\n",
      "0: 480x640 (no detections), 20.3ms\n",
      "Speed: 1.1ms preprocess, 20.3ms inference, 2.0ms postprocess per image at shape (1, 3, 480, 640)\n",
      "\n",
      "0: 480x640 (no detections), 20.4ms\n",
      "Speed: 1.2ms preprocess, 20.4ms inference, 2.3ms postprocess per image at shape (1, 3, 480, 640)\n",
      "\n",
      "0: 480x640 (no detections), 20.7ms\n",
      "Speed: 1.2ms preprocess, 20.7ms inference, 2.4ms postprocess per image at shape (1, 3, 480, 640)\n",
      "\n",
      "0: 480x640 (no detections), 20.4ms\n",
      "Speed: 1.0ms preprocess, 20.4ms inference, 2.3ms postprocess per image at shape (1, 3, 480, 640)\n",
      "\n",
      "0: 480x640 (no detections), 21.0ms\n",
      "Speed: 1.0ms preprocess, 21.0ms inference, 2.3ms postprocess per image at shape (1, 3, 480, 640)\n",
      "\n",
      "0: 480x640 (no detections), 21.5ms\n",
      "Speed: 1.0ms preprocess, 21.5ms inference, 2.2ms postprocess per image at shape (1, 3, 480, 640)\n",
      "\n",
      "0: 480x640 (no detections), 21.1ms\n",
      "Speed: 1.1ms preprocess, 21.1ms inference, 2.4ms postprocess per image at shape (1, 3, 480, 640)\n",
      "\n",
      "0: 480x640 (no detections), 22.0ms\n",
      "Speed: 0.9ms preprocess, 22.0ms inference, 2.3ms postprocess per image at shape (1, 3, 480, 640)\n",
      "\n",
      "0: 480x640 (no detections), 22.8ms\n",
      "Speed: 1.0ms preprocess, 22.8ms inference, 2.5ms postprocess per image at shape (1, 3, 480, 640)\n",
      "\n",
      "0: 480x640 (no detections), 22.2ms\n",
      "Speed: 1.3ms preprocess, 22.2ms inference, 2.2ms postprocess per image at shape (1, 3, 480, 640)\n",
      "\n",
      "0: 480x640 (no detections), 21.6ms\n",
      "Speed: 1.1ms preprocess, 21.6ms inference, 2.0ms postprocess per image at shape (1, 3, 480, 640)\n",
      "\n",
      "0: 480x640 (no detections), 19.9ms\n",
      "Speed: 1.1ms preprocess, 19.9ms inference, 2.4ms postprocess per image at shape (1, 3, 480, 640)\n",
      "\n",
      "0: 480x640 (no detections), 20.0ms\n",
      "Speed: 1.5ms preprocess, 20.0ms inference, 2.5ms postprocess per image at shape (1, 3, 480, 640)\n",
      "\n",
      "0: 480x640 (no detections), 19.7ms\n",
      "Speed: 4.9ms preprocess, 19.7ms inference, 2.9ms postprocess per image at shape (1, 3, 480, 640)\n",
      "\n",
      "0: 480x640 (no detections), 20.8ms\n",
      "Speed: 1.0ms preprocess, 20.8ms inference, 3.0ms postprocess per image at shape (1, 3, 480, 640)\n",
      "\n",
      "0: 480x640 (no detections), 20.0ms\n",
      "Speed: 1.0ms preprocess, 20.0ms inference, 2.1ms postprocess per image at shape (1, 3, 480, 640)\n",
      "\n",
      "0: 480x640 (no detections), 19.9ms\n",
      "Speed: 1.0ms preprocess, 19.9ms inference, 2.1ms postprocess per image at shape (1, 3, 480, 640)\n",
      "\n",
      "0: 480x640 (no detections), 21.0ms\n",
      "Speed: 1.0ms preprocess, 21.0ms inference, 2.1ms postprocess per image at shape (1, 3, 480, 640)\n",
      "\n",
      "0: 480x640 (no detections), 20.5ms\n",
      "Speed: 1.4ms preprocess, 20.5ms inference, 1.9ms postprocess per image at shape (1, 3, 480, 640)\n",
      "\n",
      "0: 480x640 (no detections), 19.9ms\n",
      "Speed: 3.2ms preprocess, 19.9ms inference, 2.1ms postprocess per image at shape (1, 3, 480, 640)\n",
      "\n",
      "0: 480x640 (no detections), 20.4ms\n",
      "Speed: 1.1ms preprocess, 20.4ms inference, 2.1ms postprocess per image at shape (1, 3, 480, 640)\n",
      "\n",
      "0: 480x640 (no detections), 19.9ms\n",
      "Speed: 1.1ms preprocess, 19.9ms inference, 2.1ms postprocess per image at shape (1, 3, 480, 640)\n",
      "\n",
      "0: 480x640 (no detections), 19.9ms\n",
      "Speed: 1.1ms preprocess, 19.9ms inference, 2.1ms postprocess per image at shape (1, 3, 480, 640)\n",
      "\n",
      "0: 480x640 (no detections), 19.9ms\n",
      "Speed: 1.1ms preprocess, 19.9ms inference, 1.8ms postprocess per image at shape (1, 3, 480, 640)\n",
      "\n",
      "0: 480x640 (no detections), 19.9ms\n",
      "Speed: 1.0ms preprocess, 19.9ms inference, 13.0ms postprocess per image at shape (1, 3, 480, 640)\n",
      "\n",
      "0: 480x640 (no detections), 20.0ms\n",
      "Speed: 1.0ms preprocess, 20.0ms inference, 2.1ms postprocess per image at shape (1, 3, 480, 640)\n",
      "\n",
      "0: 480x640 (no detections), 19.9ms\n",
      "Speed: 1.2ms preprocess, 19.9ms inference, 2.1ms postprocess per image at shape (1, 3, 480, 640)\n",
      "\n",
      "0: 480x640 (no detections), 19.8ms\n",
      "Speed: 7.3ms preprocess, 19.8ms inference, 4.6ms postprocess per image at shape (1, 3, 480, 640)\n",
      "\n",
      "0: 480x640 (no detections), 20.4ms\n",
      "Speed: 1.4ms preprocess, 20.4ms inference, 4.7ms postprocess per image at shape (1, 3, 480, 640)\n",
      "\n",
      "0: 480x640 (no detections), 20.5ms\n",
      "Speed: 1.0ms preprocess, 20.5ms inference, 2.9ms postprocess per image at shape (1, 3, 480, 640)\n",
      "\n",
      "0: 480x640 (no detections), 19.9ms\n",
      "Speed: 1.1ms preprocess, 19.9ms inference, 2.1ms postprocess per image at shape (1, 3, 480, 640)\n",
      "\n",
      "0: 480x640 (no detections), 19.9ms\n",
      "Speed: 0.9ms preprocess, 19.9ms inference, 2.0ms postprocess per image at shape (1, 3, 480, 640)\n",
      "\n",
      "0: 480x640 (no detections), 20.0ms\n",
      "Speed: 1.1ms preprocess, 20.0ms inference, 1.9ms postprocess per image at shape (1, 3, 480, 640)\n",
      "\n",
      "0: 480x640 (no detections), 19.9ms\n",
      "Speed: 1.1ms preprocess, 19.9ms inference, 2.1ms postprocess per image at shape (1, 3, 480, 640)\n",
      "\n",
      "0: 480x640 (no detections), 19.9ms\n",
      "Speed: 1.0ms preprocess, 19.9ms inference, 3.1ms postprocess per image at shape (1, 3, 480, 640)\n",
      "\n",
      "0: 480x640 (no detections), 20.0ms\n",
      "Speed: 1.2ms preprocess, 20.0ms inference, 2.1ms postprocess per image at shape (1, 3, 480, 640)\n",
      "\n",
      "0: 480x640 (no detections), 20.0ms\n",
      "Speed: 1.0ms preprocess, 20.0ms inference, 2.1ms postprocess per image at shape (1, 3, 480, 640)\n",
      "\n",
      "0: 480x640 (no detections), 19.9ms\n",
      "Speed: 1.0ms preprocess, 19.9ms inference, 1.9ms postprocess per image at shape (1, 3, 480, 640)\n",
      "\n",
      "0: 480x640 (no detections), 20.0ms\n",
      "Speed: 1.1ms preprocess, 20.0ms inference, 2.1ms postprocess per image at shape (1, 3, 480, 640)\n",
      "\n",
      "0: 480x640 (no detections), 19.9ms\n",
      "Speed: 1.1ms preprocess, 19.9ms inference, 2.9ms postprocess per image at shape (1, 3, 480, 640)\n",
      "\n",
      "0: 480x640 (no detections), 20.0ms\n",
      "Speed: 1.3ms preprocess, 20.0ms inference, 2.1ms postprocess per image at shape (1, 3, 480, 640)\n",
      "\n",
      "0: 480x640 (no detections), 21.4ms\n",
      "Speed: 1.0ms preprocess, 21.4ms inference, 12.6ms postprocess per image at shape (1, 3, 480, 640)\n",
      "\n",
      "0: 480x640 (no detections), 21.4ms\n",
      "Speed: 1.3ms preprocess, 21.4ms inference, 3.4ms postprocess per image at shape (1, 3, 480, 640)\n",
      "\n",
      "0: 480x640 (no detections), 21.4ms\n",
      "Speed: 1.3ms preprocess, 21.4ms inference, 2.4ms postprocess per image at shape (1, 3, 480, 640)\n",
      "\n",
      "0: 480x640 (no detections), 21.5ms\n",
      "Speed: 1.4ms preprocess, 21.5ms inference, 2.9ms postprocess per image at shape (1, 3, 480, 640)\n",
      "\n",
      "0: 480x640 (no detections), 21.4ms\n",
      "Speed: 1.2ms preprocess, 21.4ms inference, 2.3ms postprocess per image at shape (1, 3, 480, 640)\n",
      "\n",
      "0: 480x640 (no detections), 21.4ms\n",
      "Speed: 1.1ms preprocess, 21.4ms inference, 2.5ms postprocess per image at shape (1, 3, 480, 640)\n",
      "\n",
      "0: 480x640 (no detections), 21.7ms\n",
      "Speed: 1.0ms preprocess, 21.7ms inference, 2.9ms postprocess per image at shape (1, 3, 480, 640)\n",
      "\n",
      "0: 480x640 (no detections), 21.7ms\n",
      "Speed: 1.2ms preprocess, 21.7ms inference, 2.6ms postprocess per image at shape (1, 3, 480, 640)\n",
      "\n",
      "0: 480x640 (no detections), 21.6ms\n",
      "Speed: 1.0ms preprocess, 21.6ms inference, 3.1ms postprocess per image at shape (1, 3, 480, 640)\n",
      "\n",
      "0: 480x640 (no detections), 21.7ms\n",
      "Speed: 1.1ms preprocess, 21.7ms inference, 2.6ms postprocess per image at shape (1, 3, 480, 640)\n",
      "\n",
      "0: 480x640 (no detections), 21.8ms\n",
      "Speed: 1.7ms preprocess, 21.8ms inference, 2.5ms postprocess per image at shape (1, 3, 480, 640)\n",
      "\n",
      "0: 480x640 (no detections), 21.7ms\n",
      "Speed: 1.0ms preprocess, 21.7ms inference, 2.9ms postprocess per image at shape (1, 3, 480, 640)\n",
      "\n",
      "0: 480x640 (no detections), 21.7ms\n",
      "Speed: 1.2ms preprocess, 21.7ms inference, 4.2ms postprocess per image at shape (1, 3, 480, 640)\n",
      "\n",
      "0: 480x640 (no detections), 21.7ms\n",
      "Speed: 0.9ms preprocess, 21.7ms inference, 3.6ms postprocess per image at shape (1, 3, 480, 640)\n",
      "\n",
      "0: 480x640 (no detections), 21.7ms\n",
      "Speed: 1.5ms preprocess, 21.7ms inference, 6.1ms postprocess per image at shape (1, 3, 480, 640)\n",
      "\n",
      "0: 480x640 (no detections), 21.7ms\n",
      "Speed: 1.1ms preprocess, 21.7ms inference, 4.1ms postprocess per image at shape (1, 3, 480, 640)\n",
      "\n",
      "0: 480x640 (no detections), 22.0ms\n",
      "Speed: 1.0ms preprocess, 22.0ms inference, 4.3ms postprocess per image at shape (1, 3, 480, 640)\n",
      "\n",
      "0: 480x640 (no detections), 21.9ms\n",
      "Speed: 1.0ms preprocess, 21.9ms inference, 11.7ms postprocess per image at shape (1, 3, 480, 640)\n",
      "\n",
      "0: 480x640 (no detections), 21.9ms\n",
      "Speed: 0.9ms preprocess, 21.9ms inference, 3.4ms postprocess per image at shape (1, 3, 480, 640)\n",
      "\n",
      "0: 480x640 (no detections), 21.9ms\n",
      "Speed: 1.1ms preprocess, 21.9ms inference, 4.4ms postprocess per image at shape (1, 3, 480, 640)\n",
      "\n",
      "0: 480x640 (no detections), 21.9ms\n",
      "Speed: 1.2ms preprocess, 21.9ms inference, 3.0ms postprocess per image at shape (1, 3, 480, 640)\n",
      "\n",
      "0: 480x640 (no detections), 21.9ms\n",
      "Speed: 0.9ms preprocess, 21.9ms inference, 4.2ms postprocess per image at shape (1, 3, 480, 640)\n",
      "\n",
      "0: 480x640 (no detections), 21.9ms\n",
      "Speed: 1.1ms preprocess, 21.9ms inference, 3.2ms postprocess per image at shape (1, 3, 480, 640)\n",
      "\n",
      "0: 480x640 (no detections), 22.0ms\n",
      "Speed: 0.9ms preprocess, 22.0ms inference, 3.7ms postprocess per image at shape (1, 3, 480, 640)\n",
      "\n",
      "0: 480x640 (no detections), 22.1ms\n",
      "Speed: 0.9ms preprocess, 22.1ms inference, 4.5ms postprocess per image at shape (1, 3, 480, 640)\n",
      "\n",
      "0: 480x640 (no detections), 22.1ms\n",
      "Speed: 1.2ms preprocess, 22.1ms inference, 3.0ms postprocess per image at shape (1, 3, 480, 640)\n",
      "\n",
      "0: 480x640 (no detections), 22.1ms\n",
      "Speed: 0.8ms preprocess, 22.1ms inference, 4.3ms postprocess per image at shape (1, 3, 480, 640)\n",
      "\n",
      "0: 480x640 (no detections), 22.1ms\n",
      "Speed: 1.1ms preprocess, 22.1ms inference, 3.1ms postprocess per image at shape (1, 3, 480, 640)\n",
      "\n",
      "0: 480x640 (no detections), 22.1ms\n",
      "Speed: 0.9ms preprocess, 22.1ms inference, 4.4ms postprocess per image at shape (1, 3, 480, 640)\n",
      "\n",
      "0: 480x640 (no detections), 22.2ms\n",
      "Speed: 1.2ms preprocess, 22.2ms inference, 3.9ms postprocess per image at shape (1, 3, 480, 640)\n",
      "\n",
      "0: 480x640 (no detections), 22.2ms\n",
      "Speed: 1.2ms preprocess, 22.2ms inference, 3.3ms postprocess per image at shape (1, 3, 480, 640)\n",
      "\n",
      "0: 480x640 (no detections), 22.2ms\n",
      "Speed: 0.9ms preprocess, 22.2ms inference, 4.1ms postprocess per image at shape (1, 3, 480, 640)\n",
      "\n",
      "0: 480x640 (no detections), 22.3ms\n",
      "Speed: 1.3ms preprocess, 22.3ms inference, 3.5ms postprocess per image at shape (1, 3, 480, 640)\n",
      "\n",
      "0: 480x640 (no detections), 21.6ms\n",
      "Speed: 1.1ms preprocess, 21.6ms inference, 3.3ms postprocess per image at shape (1, 3, 480, 640)\n",
      "\n",
      "0: 480x640 (no detections), 21.6ms\n",
      "Speed: 0.9ms preprocess, 21.6ms inference, 9.9ms postprocess per image at shape (1, 3, 480, 640)\n",
      "\n",
      "0: 480x640 (no detections), 21.6ms\n",
      "Speed: 1.1ms preprocess, 21.6ms inference, 2.3ms postprocess per image at shape (1, 3, 480, 640)\n",
      "\n",
      "0: 480x640 (no detections), 21.6ms\n",
      "Speed: 1.0ms preprocess, 21.6ms inference, 1.9ms postprocess per image at shape (1, 3, 480, 640)\n",
      "\n",
      "0: 480x640 (no detections), 21.6ms\n",
      "Speed: 1.1ms preprocess, 21.6ms inference, 2.1ms postprocess per image at shape (1, 3, 480, 640)\n",
      "\n",
      "0: 480x640 (no detections), 21.6ms\n",
      "Speed: 1.2ms preprocess, 21.6ms inference, 2.4ms postprocess per image at shape (1, 3, 480, 640)\n",
      "\n",
      "0: 480x640 (no detections), 21.6ms\n",
      "Speed: 1.1ms preprocess, 21.6ms inference, 2.1ms postprocess per image at shape (1, 3, 480, 640)\n",
      "\n",
      "0: 480x640 (no detections), 21.6ms\n",
      "Speed: 1.5ms preprocess, 21.6ms inference, 2.1ms postprocess per image at shape (1, 3, 480, 640)\n",
      "\n",
      "0: 480x640 (no detections), 21.5ms\n",
      "Speed: 1.1ms preprocess, 21.5ms inference, 2.5ms postprocess per image at shape (1, 3, 480, 640)\n",
      "\n",
      "0: 480x640 (no detections), 21.5ms\n",
      "Speed: 1.0ms preprocess, 21.5ms inference, 1.9ms postprocess per image at shape (1, 3, 480, 640)\n",
      "\n",
      "0: 480x640 (no detections), 22.7ms\n",
      "Speed: 1.9ms preprocess, 22.7ms inference, 2.2ms postprocess per image at shape (1, 3, 480, 640)\n",
      "\n",
      "0: 480x640 (no detections), 21.6ms\n",
      "Speed: 1.2ms preprocess, 21.6ms inference, 2.1ms postprocess per image at shape (1, 3, 480, 640)\n",
      "\n",
      "0: 480x640 (no detections), 21.5ms\n",
      "Speed: 1.1ms preprocess, 21.5ms inference, 2.0ms postprocess per image at shape (1, 3, 480, 640)\n",
      "\n",
      "0: 480x640 (no detections), 21.6ms\n",
      "Speed: 1.1ms preprocess, 21.6ms inference, 3.1ms postprocess per image at shape (1, 3, 480, 640)\n",
      "\n",
      "0: 480x640 (no detections), 21.6ms\n",
      "Speed: 1.0ms preprocess, 21.6ms inference, 2.1ms postprocess per image at shape (1, 3, 480, 640)\n",
      "\n",
      "0: 480x640 (no detections), 21.6ms\n",
      "Speed: 1.0ms preprocess, 21.6ms inference, 2.1ms postprocess per image at shape (1, 3, 480, 640)\n",
      "\n",
      "0: 480x640 (no detections), 21.6ms\n",
      "Speed: 1.0ms preprocess, 21.6ms inference, 1.9ms postprocess per image at shape (1, 3, 480, 640)\n",
      "\n",
      "0: 480x640 (no detections), 21.6ms\n",
      "Speed: 1.7ms preprocess, 21.6ms inference, 1.8ms postprocess per image at shape (1, 3, 480, 640)\n",
      "\n",
      "0: 480x640 (no detections), 21.5ms\n",
      "Speed: 1.0ms preprocess, 21.5ms inference, 13.4ms postprocess per image at shape (1, 3, 480, 640)\n",
      "\n",
      "0: 480x640 (no detections), 21.5ms\n",
      "Speed: 1.1ms preprocess, 21.5ms inference, 2.2ms postprocess per image at shape (1, 3, 480, 640)\n",
      "\n",
      "0: 480x640 (no detections), 21.6ms\n",
      "Speed: 1.3ms preprocess, 21.6ms inference, 2.1ms postprocess per image at shape (1, 3, 480, 640)\n",
      "\n",
      "0: 480x640 (no detections), 21.5ms\n",
      "Speed: 1.1ms preprocess, 21.5ms inference, 2.1ms postprocess per image at shape (1, 3, 480, 640)\n",
      "\n",
      "0: 480x640 (no detections), 21.7ms\n",
      "Speed: 2.2ms preprocess, 21.7ms inference, 2.2ms postprocess per image at shape (1, 3, 480, 640)\n",
      "\n",
      "0: 480x640 (no detections), 21.5ms\n",
      "Speed: 1.0ms preprocess, 21.5ms inference, 5.4ms postprocess per image at shape (1, 3, 480, 640)\n",
      "\n",
      "0: 480x640 (no detections), 21.7ms\n",
      "Speed: 1.2ms preprocess, 21.7ms inference, 4.9ms postprocess per image at shape (1, 3, 480, 640)\n",
      "\n",
      "0: 480x640 (no detections), 21.5ms\n",
      "Speed: 1.4ms preprocess, 21.5ms inference, 2.4ms postprocess per image at shape (1, 3, 480, 640)\n",
      "\n",
      "0: 480x640 (no detections), 21.5ms\n",
      "Speed: 1.1ms preprocess, 21.5ms inference, 2.1ms postprocess per image at shape (1, 3, 480, 640)\n",
      "\n",
      "0: 480x640 (no detections), 21.6ms\n",
      "Speed: 1.6ms preprocess, 21.6ms inference, 2.1ms postprocess per image at shape (1, 3, 480, 640)\n",
      "\n",
      "0: 480x640 (no detections), 21.6ms\n",
      "Speed: 1.0ms preprocess, 21.6ms inference, 3.0ms postprocess per image at shape (1, 3, 480, 640)\n",
      "\n",
      "0: 480x640 (no detections), 21.6ms\n",
      "Speed: 1.5ms preprocess, 21.6ms inference, 2.1ms postprocess per image at shape (1, 3, 480, 640)\n",
      "\n",
      "0: 480x640 (no detections), 21.9ms\n",
      "Speed: 1.0ms preprocess, 21.9ms inference, 2.1ms postprocess per image at shape (1, 3, 480, 640)\n",
      "\n",
      "0: 480x640 (no detections), 21.9ms\n",
      "Speed: 1.1ms preprocess, 21.9ms inference, 2.1ms postprocess per image at shape (1, 3, 480, 640)\n",
      "\n",
      "0: 480x640 (no detections), 21.9ms\n",
      "Speed: 1.7ms preprocess, 21.9ms inference, 1.9ms postprocess per image at shape (1, 3, 480, 640)\n",
      "\n",
      "0: 480x640 (no detections), 22.1ms\n",
      "Speed: 1.0ms preprocess, 22.1ms inference, 2.8ms postprocess per image at shape (1, 3, 480, 640)\n",
      "\n",
      "0: 480x640 (no detections), 22.1ms\n",
      "Speed: 1.0ms preprocess, 22.1ms inference, 2.1ms postprocess per image at shape (1, 3, 480, 640)\n",
      "\n",
      "0: 480x640 (no detections), 22.1ms\n",
      "Speed: 1.0ms preprocess, 22.1ms inference, 12.0ms postprocess per image at shape (1, 3, 480, 640)\n",
      "\n",
      "0: 480x640 (no detections), 25.6ms\n",
      "Speed: 1.0ms preprocess, 25.6ms inference, 2.9ms postprocess per image at shape (1, 3, 480, 640)\n",
      "\n",
      "0: 480x640 (no detections), 25.8ms\n",
      "Speed: 1.2ms preprocess, 25.8ms inference, 4.5ms postprocess per image at shape (1, 3, 480, 640)\n",
      "\n",
      "0: 480x640 (no detections), 22.2ms\n",
      "Speed: 1.4ms preprocess, 22.2ms inference, 2.1ms postprocess per image at shape (1, 3, 480, 640)\n",
      "\n",
      "0: 480x640 (no detections), 22.2ms\n",
      "Speed: 1.0ms preprocess, 22.2ms inference, 2.0ms postprocess per image at shape (1, 3, 480, 640)\n",
      "\n",
      "0: 480x640 (no detections), 22.1ms\n",
      "Speed: 1.0ms preprocess, 22.1ms inference, 2.2ms postprocess per image at shape (1, 3, 480, 640)\n",
      "\n",
      "0: 480x640 (no detections), 22.1ms\n",
      "Speed: 1.1ms preprocess, 22.1ms inference, 2.0ms postprocess per image at shape (1, 3, 480, 640)\n",
      "\n",
      "0: 480x640 (no detections), 22.2ms\n",
      "Speed: 1.7ms preprocess, 22.2ms inference, 2.1ms postprocess per image at shape (1, 3, 480, 640)\n",
      "\n",
      "0: 480x640 (no detections), 22.3ms\n",
      "Speed: 1.0ms preprocess, 22.3ms inference, 2.5ms postprocess per image at shape (1, 3, 480, 640)\n",
      "\n",
      "0: 480x640 (no detections), 22.3ms\n",
      "Speed: 1.1ms preprocess, 22.3ms inference, 2.2ms postprocess per image at shape (1, 3, 480, 640)\n",
      "\n",
      "0: 480x640 (no detections), 22.3ms\n",
      "Speed: 1.0ms preprocess, 22.3ms inference, 2.1ms postprocess per image at shape (1, 3, 480, 640)\n",
      "\n",
      "0: 480x640 (no detections), 22.3ms\n",
      "Speed: 1.0ms preprocess, 22.3ms inference, 2.1ms postprocess per image at shape (1, 3, 480, 640)\n",
      "\n",
      "0: 480x640 (no detections), 22.3ms\n",
      "Speed: 1.4ms preprocess, 22.3ms inference, 1.8ms postprocess per image at shape (1, 3, 480, 640)\n",
      "\n",
      "0: 480x640 (no detections), 22.3ms\n",
      "Speed: 1.1ms preprocess, 22.3ms inference, 2.3ms postprocess per image at shape (1, 3, 480, 640)\n",
      "\n",
      "0: 480x640 (no detections), 22.3ms\n",
      "Speed: 1.0ms preprocess, 22.3ms inference, 2.1ms postprocess per image at shape (1, 3, 480, 640)\n",
      "\n",
      "0: 480x640 (no detections), 33.0ms\n",
      "Speed: 1.2ms preprocess, 33.0ms inference, 2.2ms postprocess per image at shape (1, 3, 480, 640)\n",
      "\n",
      "0: 480x640 (no detections), 22.3ms\n",
      "Speed: 1.1ms preprocess, 22.3ms inference, 2.5ms postprocess per image at shape (1, 3, 480, 640)\n",
      "\n",
      "0: 480x640 (no detections), 22.3ms\n",
      "Speed: 1.4ms preprocess, 22.3ms inference, 13.0ms postprocess per image at shape (1, 3, 480, 640)\n",
      "\n",
      "0: 480x640 (no detections), 22.3ms\n",
      "Speed: 1.0ms preprocess, 22.3ms inference, 2.2ms postprocess per image at shape (1, 3, 480, 640)\n",
      "\n",
      "0: 480x640 (no detections), 22.3ms\n",
      "Speed: 1.0ms preprocess, 22.3ms inference, 1.9ms postprocess per image at shape (1, 3, 480, 640)\n",
      "\n",
      "0: 480x640 (no detections), 22.3ms\n",
      "Speed: 1.1ms preprocess, 22.3ms inference, 1.9ms postprocess per image at shape (1, 3, 480, 640)\n",
      "\n",
      "0: 480x640 (no detections), 22.3ms\n",
      "Speed: 1.0ms preprocess, 22.3ms inference, 2.2ms postprocess per image at shape (1, 3, 480, 640)\n",
      "\n",
      "0: 480x640 (no detections), 22.3ms\n",
      "Speed: 1.4ms preprocess, 22.3ms inference, 1.9ms postprocess per image at shape (1, 3, 480, 640)\n",
      "\n",
      "0: 480x640 (no detections), 22.3ms\n",
      "Speed: 1.1ms preprocess, 22.3ms inference, 2.3ms postprocess per image at shape (1, 3, 480, 640)\n",
      "\n",
      "0: 480x640 (no detections), 23.5ms\n",
      "Speed: 1.3ms preprocess, 23.5ms inference, 2.9ms postprocess per image at shape (1, 3, 480, 640)\n",
      "\n",
      "0: 480x640 (no detections), 22.2ms\n",
      "Speed: 1.1ms preprocess, 22.2ms inference, 2.3ms postprocess per image at shape (1, 3, 480, 640)\n",
      "\n",
      "0: 480x640 (no detections), 22.2ms\n",
      "Speed: 1.0ms preprocess, 22.2ms inference, 2.1ms postprocess per image at shape (1, 3, 480, 640)\n",
      "\n",
      "0: 480x640 (no detections), 22.2ms\n",
      "Speed: 1.2ms preprocess, 22.2ms inference, 2.2ms postprocess per image at shape (1, 3, 480, 640)\n",
      "\n",
      "0: 480x640 (no detections), 22.3ms\n",
      "Speed: 4.8ms preprocess, 22.3ms inference, 2.2ms postprocess per image at shape (1, 3, 480, 640)\n",
      "\n",
      "0: 480x640 (no detections), 22.2ms\n",
      "Speed: 1.0ms preprocess, 22.2ms inference, 2.2ms postprocess per image at shape (1, 3, 480, 640)\n",
      "\n",
      "0: 480x640 (no detections), 22.2ms\n",
      "Speed: 1.1ms preprocess, 22.2ms inference, 2.2ms postprocess per image at shape (1, 3, 480, 640)\n",
      "\n",
      "0: 480x640 (no detections), 22.2ms\n",
      "Speed: 1.1ms preprocess, 22.2ms inference, 2.2ms postprocess per image at shape (1, 3, 480, 640)\n",
      "\n",
      "0: 480x640 (no detections), 22.2ms\n",
      "Speed: 1.2ms preprocess, 22.2ms inference, 2.0ms postprocess per image at shape (1, 3, 480, 640)\n",
      "\n",
      "0: 480x640 (no detections), 22.2ms\n",
      "Speed: 1.0ms preprocess, 22.2ms inference, 2.2ms postprocess per image at shape (1, 3, 480, 640)\n",
      "\n",
      "0: 480x640 (no detections), 22.3ms\n",
      "Speed: 1.1ms preprocess, 22.3ms inference, 12.2ms postprocess per image at shape (1, 3, 480, 640)\n",
      "\n",
      "0: 480x640 (no detections), 22.2ms\n",
      "Speed: 1.0ms preprocess, 22.2ms inference, 2.0ms postprocess per image at shape (1, 3, 480, 640)\n",
      "\n",
      "0: 480x640 (no detections), 22.3ms\n",
      "Speed: 1.0ms preprocess, 22.3ms inference, 2.1ms postprocess per image at shape (1, 3, 480, 640)\n",
      "\n",
      "0: 480x640 (no detections), 22.2ms\n",
      "Speed: 1.2ms preprocess, 22.2ms inference, 2.0ms postprocess per image at shape (1, 3, 480, 640)\n",
      "\n",
      "0: 480x640 (no detections), 22.3ms\n",
      "Speed: 1.0ms preprocess, 22.3ms inference, 2.0ms postprocess per image at shape (1, 3, 480, 640)\n",
      "\n",
      "0: 480x640 (no detections), 22.3ms\n",
      "Speed: 1.2ms preprocess, 22.3ms inference, 2.2ms postprocess per image at shape (1, 3, 480, 640)\n",
      "\n",
      "0: 480x640 (no detections), 22.3ms\n",
      "Speed: 1.1ms preprocess, 22.3ms inference, 2.3ms postprocess per image at shape (1, 3, 480, 640)\n",
      "\n",
      "0: 480x640 (no detections), 23.5ms\n",
      "Speed: 1.3ms preprocess, 23.5ms inference, 1.9ms postprocess per image at shape (1, 3, 480, 640)\n",
      "\n",
      "0: 480x640 (no detections), 22.4ms\n",
      "Speed: 1.0ms preprocess, 22.4ms inference, 2.8ms postprocess per image at shape (1, 3, 480, 640)\n",
      "\n",
      "0: 480x640 (no detections), 22.7ms\n",
      "Speed: 1.2ms preprocess, 22.7ms inference, 2.1ms postprocess per image at shape (1, 3, 480, 640)\n",
      "\n",
      "0: 480x640 (no detections), 23.1ms\n",
      "Speed: 1.1ms preprocess, 23.1ms inference, 2.1ms postprocess per image at shape (1, 3, 480, 640)\n",
      "\n",
      "0: 480x640 (no detections), 22.7ms\n",
      "Speed: 1.0ms preprocess, 22.7ms inference, 2.4ms postprocess per image at shape (1, 3, 480, 640)\n",
      "\n",
      "0: 480x640 (no detections), 22.2ms\n",
      "Speed: 1.0ms preprocess, 22.2ms inference, 1.9ms postprocess per image at shape (1, 3, 480, 640)\n",
      "\n",
      "0: 480x640 (no detections), 21.2ms\n",
      "Speed: 1.0ms preprocess, 21.2ms inference, 2.1ms postprocess per image at shape (1, 3, 480, 640)\n",
      "\n",
      "0: 480x640 (no detections), 21.9ms\n",
      "Speed: 1.2ms preprocess, 21.9ms inference, 2.4ms postprocess per image at shape (1, 3, 480, 640)\n",
      "\n",
      "0: 480x640 (no detections), 21.2ms\n",
      "Speed: 1.3ms preprocess, 21.2ms inference, 2.2ms postprocess per image at shape (1, 3, 480, 640)\n",
      "\n",
      "0: 480x640 (no detections), 22.3ms\n",
      "Speed: 1.0ms preprocess, 22.3ms inference, 2.5ms postprocess per image at shape (1, 3, 480, 640)\n",
      "\n",
      "0: 480x640 (no detections), 22.6ms\n",
      "Speed: 1.0ms preprocess, 22.6ms inference, 2.9ms postprocess per image at shape (1, 3, 480, 640)\n",
      "\n",
      "0: 480x640 (no detections), 22.4ms\n",
      "Speed: 1.0ms preprocess, 22.4ms inference, 2.0ms postprocess per image at shape (1, 3, 480, 640)\n",
      "\n",
      "0: 480x640 (no detections), 21.7ms\n",
      "Speed: 1.0ms preprocess, 21.7ms inference, 2.2ms postprocess per image at shape (1, 3, 480, 640)\n",
      "\n",
      "0: 480x640 (no detections), 21.2ms\n",
      "Speed: 1.1ms preprocess, 21.2ms inference, 2.2ms postprocess per image at shape (1, 3, 480, 640)\n",
      "\n",
      "0: 480x640 (no detections), 22.3ms\n",
      "Speed: 1.7ms preprocess, 22.3ms inference, 2.2ms postprocess per image at shape (1, 3, 480, 640)\n",
      "\n",
      "0: 480x640 (no detections), 21.0ms\n",
      "Speed: 1.3ms preprocess, 21.0ms inference, 2.8ms postprocess per image at shape (1, 3, 480, 640)\n",
      "\n",
      "0: 480x640 (no detections), 20.5ms\n",
      "Speed: 1.7ms preprocess, 20.5ms inference, 3.0ms postprocess per image at shape (1, 3, 480, 640)\n",
      "\n",
      "0: 480x640 (no detections), 22.0ms\n",
      "Speed: 1.1ms preprocess, 22.0ms inference, 3.7ms postprocess per image at shape (1, 3, 480, 640)\n",
      "\n",
      "0: 480x640 (no detections), 22.3ms\n",
      "Speed: 1.0ms preprocess, 22.3ms inference, 3.3ms postprocess per image at shape (1, 3, 480, 640)\n",
      "\n",
      "0: 480x640 (no detections), 21.6ms\n",
      "Speed: 1.1ms preprocess, 21.6ms inference, 3.7ms postprocess per image at shape (1, 3, 480, 640)\n",
      "\n",
      "0: 480x640 (no detections), 21.3ms\n",
      "Speed: 1.2ms preprocess, 21.3ms inference, 3.5ms postprocess per image at shape (1, 3, 480, 640)\n",
      "\n",
      "0: 480x640 (no detections), 21.2ms\n",
      "Speed: 1.2ms preprocess, 21.2ms inference, 3.6ms postprocess per image at shape (1, 3, 480, 640)\n",
      "\n",
      "0: 480x640 (no detections), 21.3ms\n",
      "Speed: 1.2ms preprocess, 21.3ms inference, 4.2ms postprocess per image at shape (1, 3, 480, 640)\n",
      "\n",
      "0: 480x640 (no detections), 21.6ms\n",
      "Speed: 1.0ms preprocess, 21.6ms inference, 3.2ms postprocess per image at shape (1, 3, 480, 640)\n",
      "\n",
      "0: 480x640 (no detections), 22.1ms\n",
      "Speed: 1.2ms preprocess, 22.1ms inference, 3.4ms postprocess per image at shape (1, 3, 480, 640)\n",
      "\n",
      "0: 480x640 (no detections), 22.7ms\n",
      "Speed: 0.9ms preprocess, 22.7ms inference, 4.6ms postprocess per image at shape (1, 3, 480, 640)\n",
      "\n",
      "0: 480x640 (no detections), 22.5ms\n",
      "Speed: 1.0ms preprocess, 22.5ms inference, 3.3ms postprocess per image at shape (1, 3, 480, 640)\n",
      "\n",
      "0: 480x640 (no detections), 22.2ms\n",
      "Speed: 1.0ms preprocess, 22.2ms inference, 3.3ms postprocess per image at shape (1, 3, 480, 640)\n",
      "\n",
      "0: 480x640 (no detections), 21.6ms\n",
      "Speed: 1.3ms preprocess, 21.6ms inference, 3.3ms postprocess per image at shape (1, 3, 480, 640)\n",
      "\n",
      "0: 480x640 (no detections), 21.2ms\n",
      "Speed: 0.9ms preprocess, 21.2ms inference, 3.4ms postprocess per image at shape (1, 3, 480, 640)\n",
      "\n",
      "0: 480x640 (no detections), 21.8ms\n",
      "Speed: 0.9ms preprocess, 21.8ms inference, 5.6ms postprocess per image at shape (1, 3, 480, 640)\n",
      "\n",
      "0: 480x640 (no detections), 21.1ms\n",
      "Speed: 1.3ms preprocess, 21.1ms inference, 5.5ms postprocess per image at shape (1, 3, 480, 640)\n",
      "\n",
      "0: 480x640 (no detections), 21.5ms\n",
      "Speed: 0.9ms preprocess, 21.5ms inference, 4.9ms postprocess per image at shape (1, 3, 480, 640)\n",
      "\n",
      "0: 480x640 (no detections), 21.4ms\n",
      "Speed: 1.1ms preprocess, 21.4ms inference, 3.4ms postprocess per image at shape (1, 3, 480, 640)\n",
      "\n",
      "0: 480x640 (no detections), 21.5ms\n",
      "Speed: 0.9ms preprocess, 21.5ms inference, 3.7ms postprocess per image at shape (1, 3, 480, 640)\n",
      "\n",
      "0: 480x640 (no detections), 21.4ms\n",
      "Speed: 1.4ms preprocess, 21.4ms inference, 4.0ms postprocess per image at shape (1, 3, 480, 640)\n",
      "\n",
      "0: 480x640 (no detections), 21.5ms\n",
      "Speed: 1.2ms preprocess, 21.5ms inference, 3.7ms postprocess per image at shape (1, 3, 480, 640)\n",
      "\n",
      "0: 480x640 (no detections), 22.0ms\n",
      "Speed: 1.3ms preprocess, 22.0ms inference, 3.4ms postprocess per image at shape (1, 3, 480, 640)\n",
      "\n",
      "0: 480x640 (no detections), 22.7ms\n",
      "Speed: 0.9ms preprocess, 22.7ms inference, 4.1ms postprocess per image at shape (1, 3, 480, 640)\n",
      "\n",
      "0: 480x640 (no detections), 22.6ms\n",
      "Speed: 0.9ms preprocess, 22.6ms inference, 3.4ms postprocess per image at shape (1, 3, 480, 640)\n",
      "\n",
      "0: 480x640 (no detections), 22.4ms\n",
      "Speed: 0.9ms preprocess, 22.4ms inference, 3.2ms postprocess per image at shape (1, 3, 480, 640)\n",
      "\n",
      "0: 480x640 (no detections), 21.6ms\n",
      "Speed: 1.4ms preprocess, 21.6ms inference, 3.1ms postprocess per image at shape (1, 3, 480, 640)\n",
      "\n",
      "0: 480x640 (no detections), 21.4ms\n",
      "Speed: 1.1ms preprocess, 21.4ms inference, 9.9ms postprocess per image at shape (1, 3, 480, 640)\n",
      "\n",
      "0: 480x640 (no detections), 21.4ms\n",
      "Speed: 1.0ms preprocess, 21.4ms inference, 4.6ms postprocess per image at shape (1, 3, 480, 640)\n",
      "\n",
      "0: 480x640 (no detections), 21.2ms\n",
      "Speed: 1.3ms preprocess, 21.2ms inference, 2.8ms postprocess per image at shape (1, 3, 480, 640)\n",
      "\n",
      "0: 480x640 (no detections), 21.7ms\n",
      "Speed: 1.3ms preprocess, 21.7ms inference, 2.4ms postprocess per image at shape (1, 3, 480, 640)\n",
      "\n",
      "0: 480x640 (no detections), 20.9ms\n",
      "Speed: 1.2ms preprocess, 20.9ms inference, 2.5ms postprocess per image at shape (1, 3, 480, 640)\n",
      "\n",
      "0: 480x640 (no detections), 22.2ms\n",
      "Speed: 1.0ms preprocess, 22.2ms inference, 2.7ms postprocess per image at shape (1, 3, 480, 640)\n",
      "\n",
      "0: 480x640 (no detections), 21.5ms\n",
      "Speed: 1.2ms preprocess, 21.5ms inference, 2.6ms postprocess per image at shape (1, 3, 480, 640)\n",
      "\n",
      "0: 480x640 (no detections), 21.3ms\n",
      "Speed: 1.6ms preprocess, 21.3ms inference, 2.3ms postprocess per image at shape (1, 3, 480, 640)\n",
      "\n",
      "0: 480x640 (no detections), 22.1ms\n",
      "Speed: 1.4ms preprocess, 22.1ms inference, 2.2ms postprocess per image at shape (1, 3, 480, 640)\n",
      "\n",
      "0: 480x640 (no detections), 22.8ms\n",
      "Speed: 1.1ms preprocess, 22.8ms inference, 2.4ms postprocess per image at shape (1, 3, 480, 640)\n",
      "\n",
      "0: 480x640 (no detections), 22.6ms\n",
      "Speed: 1.0ms preprocess, 22.6ms inference, 2.5ms postprocess per image at shape (1, 3, 480, 640)\n",
      "\n",
      "0: 480x640 (no detections), 21.7ms\n",
      "Speed: 1.0ms preprocess, 21.7ms inference, 2.6ms postprocess per image at shape (1, 3, 480, 640)\n",
      "\n",
      "0: 480x640 (no detections), 21.2ms\n",
      "Speed: 1.0ms preprocess, 21.2ms inference, 2.4ms postprocess per image at shape (1, 3, 480, 640)\n",
      "\n",
      "0: 480x640 (no detections), 22.6ms\n",
      "Speed: 1.1ms preprocess, 22.6ms inference, 2.1ms postprocess per image at shape (1, 3, 480, 640)\n",
      "\n",
      "0: 480x640 (no detections), 23.1ms\n",
      "Speed: 1.1ms preprocess, 23.1ms inference, 2.1ms postprocess per image at shape (1, 3, 480, 640)\n",
      "\n",
      "0: 480x640 (no detections), 24.9ms\n",
      "Speed: 1.4ms preprocess, 24.9ms inference, 2.9ms postprocess per image at shape (1, 3, 480, 640)\n",
      "\n",
      "0: 480x640 (no detections), 19.9ms\n",
      "Speed: 1.3ms preprocess, 19.9ms inference, 2.7ms postprocess per image at shape (1, 3, 480, 640)\n",
      "\n",
      "0: 480x640 (no detections), 22.3ms\n",
      "Speed: 1.4ms preprocess, 22.3ms inference, 12.5ms postprocess per image at shape (1, 3, 480, 640)\n",
      "\n",
      "0: 480x640 (no detections), 21.4ms\n",
      "Speed: 1.0ms preprocess, 21.4ms inference, 2.8ms postprocess per image at shape (1, 3, 480, 640)\n",
      "\n",
      "0: 480x640 (no detections), 21.5ms\n",
      "Speed: 1.2ms preprocess, 21.5ms inference, 2.1ms postprocess per image at shape (1, 3, 480, 640)\n",
      "\n",
      "0: 480x640 (no detections), 21.2ms\n",
      "Speed: 1.6ms preprocess, 21.2ms inference, 2.5ms postprocess per image at shape (1, 3, 480, 640)\n",
      "\n",
      "0: 480x640 (no detections), 21.7ms\n",
      "Speed: 1.3ms preprocess, 21.7ms inference, 2.1ms postprocess per image at shape (1, 3, 480, 640)\n",
      "\n",
      "0: 480x640 (no detections), 22.7ms\n",
      "Speed: 1.0ms preprocess, 22.7ms inference, 2.3ms postprocess per image at shape (1, 3, 480, 640)\n",
      "\n",
      "0: 480x640 (no detections), 22.9ms\n",
      "Speed: 1.0ms preprocess, 22.9ms inference, 2.5ms postprocess per image at shape (1, 3, 480, 640)\n",
      "\n",
      "0: 480x640 (no detections), 22.1ms\n",
      "Speed: 1.0ms preprocess, 22.1ms inference, 2.4ms postprocess per image at shape (1, 3, 480, 640)\n",
      "\n",
      "0: 480x640 (no detections), 21.4ms\n",
      "Speed: 1.3ms preprocess, 21.4ms inference, 2.4ms postprocess per image at shape (1, 3, 480, 640)\n",
      "\n",
      "0: 480x640 (no detections), 21.7ms\n",
      "Speed: 1.2ms preprocess, 21.7ms inference, 2.3ms postprocess per image at shape (1, 3, 480, 640)\n",
      "\n",
      "0: 480x640 (no detections), 21.2ms\n",
      "Speed: 1.4ms preprocess, 21.2ms inference, 2.0ms postprocess per image at shape (1, 3, 480, 640)\n",
      "\n",
      "0: 480x640 (no detections), 21.2ms\n",
      "Speed: 1.1ms preprocess, 21.2ms inference, 2.1ms postprocess per image at shape (1, 3, 480, 640)\n",
      "\n",
      "0: 480x640 (no detections), 22.0ms\n",
      "Speed: 1.1ms preprocess, 22.0ms inference, 2.0ms postprocess per image at shape (1, 3, 480, 640)\n",
      "\n",
      "0: 480x640 (no detections), 22.8ms\n",
      "Speed: 1.1ms preprocess, 22.8ms inference, 2.3ms postprocess per image at shape (1, 3, 480, 640)\n",
      "\n",
      "0: 480x640 (no detections), 22.7ms\n",
      "Speed: 1.1ms preprocess, 22.7ms inference, 2.5ms postprocess per image at shape (1, 3, 480, 640)\n",
      "\n",
      "0: 480x640 (no detections), 21.5ms\n",
      "Speed: 1.1ms preprocess, 21.5ms inference, 2.8ms postprocess per image at shape (1, 3, 480, 640)\n",
      "\n",
      "0: 480x640 (no detections), 20.2ms\n",
      "Speed: 1.5ms preprocess, 20.2ms inference, 2.6ms postprocess per image at shape (1, 3, 480, 640)\n",
      "\n",
      "0: 480x640 (no detections), 21.8ms\n",
      "Speed: 1.1ms preprocess, 21.8ms inference, 2.3ms postprocess per image at shape (1, 3, 480, 640)\n",
      "\n",
      "0: 480x640 (no detections), 22.8ms\n",
      "Speed: 1.0ms preprocess, 22.8ms inference, 2.5ms postprocess per image at shape (1, 3, 480, 640)\n",
      "\n",
      "0: 480x640 (no detections), 22.7ms\n",
      "Speed: 1.2ms preprocess, 22.7ms inference, 2.3ms postprocess per image at shape (1, 3, 480, 640)\n",
      "\n",
      "0: 480x640 (no detections), 22.0ms\n",
      "Speed: 1.0ms preprocess, 22.0ms inference, 2.4ms postprocess per image at shape (1, 3, 480, 640)\n",
      "\n",
      "0: 480x640 (no detections), 21.3ms\n",
      "Speed: 1.2ms preprocess, 21.3ms inference, 2.3ms postprocess per image at shape (1, 3, 480, 640)\n",
      "\n",
      "0: 480x640 (no detections), 21.7ms\n",
      "Speed: 1.2ms preprocess, 21.7ms inference, 2.2ms postprocess per image at shape (1, 3, 480, 640)\n",
      "\n",
      "0: 480x640 (no detections), 22.9ms\n",
      "Speed: 1.3ms preprocess, 22.9ms inference, 2.0ms postprocess per image at shape (1, 3, 480, 640)\n",
      "\n",
      "0: 480x640 (no detections), 22.7ms\n",
      "Speed: 1.0ms preprocess, 22.7ms inference, 2.1ms postprocess per image at shape (1, 3, 480, 640)\n",
      "\n",
      "0: 480x640 1 Unripe, 22.0ms\n",
      "Speed: 1.2ms preprocess, 22.0ms inference, 3.1ms postprocess per image at shape (1, 3, 480, 640)\n",
      "tensor([190.7565, 178.9188, 348.7250, 350.8436], device='cuda:0')\n",
      "tensor(0., device='cuda:0')\n",
      "190 178 348 350\n",
      "\n",
      "0: 480x640 (no detections), 21.5ms\n",
      "Speed: 1.3ms preprocess, 21.5ms inference, 2.6ms postprocess per image at shape (1, 3, 480, 640)\n",
      "\n",
      "0: 480x640 (no detections), 21.3ms\n",
      "Speed: 1.5ms preprocess, 21.3ms inference, 2.3ms postprocess per image at shape (1, 3, 480, 640)\n",
      "\n",
      "0: 480x640 (no detections), 21.5ms\n",
      "Speed: 1.2ms preprocess, 21.5ms inference, 2.5ms postprocess per image at shape (1, 3, 480, 640)\n",
      "\n",
      "0: 480x640 (no detections), 22.7ms\n",
      "Speed: 1.0ms preprocess, 22.7ms inference, 2.3ms postprocess per image at shape (1, 3, 480, 640)\n",
      "\n",
      "0: 480x640 (no detections), 23.1ms\n",
      "Speed: 1.0ms preprocess, 23.1ms inference, 2.4ms postprocess per image at shape (1, 3, 480, 640)\n",
      "\n",
      "0: 480x640 (no detections), 22.2ms\n",
      "Speed: 1.1ms preprocess, 22.2ms inference, 2.7ms postprocess per image at shape (1, 3, 480, 640)\n",
      "\n",
      "0: 480x640 (no detections), 21.2ms\n",
      "Speed: 1.6ms preprocess, 21.2ms inference, 2.6ms postprocess per image at shape (1, 3, 480, 640)\n",
      "\n",
      "0: 480x640 (no detections), 20.6ms\n",
      "Speed: 1.6ms preprocess, 20.6ms inference, 2.8ms postprocess per image at shape (1, 3, 480, 640)\n",
      "\n",
      "0: 480x640 (no detections), 22.4ms\n",
      "Speed: 1.4ms preprocess, 22.4ms inference, 2.1ms postprocess per image at shape (1, 3, 480, 640)\n",
      "\n",
      "0: 480x640 (no detections), 22.5ms\n",
      "Speed: 1.0ms preprocess, 22.5ms inference, 2.5ms postprocess per image at shape (1, 3, 480, 640)\n",
      "\n",
      "0: 480x640 (no detections), 21.8ms\n",
      "Speed: 1.0ms preprocess, 21.8ms inference, 12.1ms postprocess per image at shape (1, 3, 480, 640)\n",
      "\n",
      "0: 480x640 (no detections), 20.2ms\n",
      "Speed: 1.3ms preprocess, 20.2ms inference, 2.7ms postprocess per image at shape (1, 3, 480, 640)\n",
      "\n",
      "0: 480x640 (no detections), 22.8ms\n",
      "Speed: 1.2ms preprocess, 22.8ms inference, 2.2ms postprocess per image at shape (1, 3, 480, 640)\n",
      "\n",
      "0: 480x640 (no detections), 22.5ms\n",
      "Speed: 1.0ms preprocess, 22.5ms inference, 2.1ms postprocess per image at shape (1, 3, 480, 640)\n",
      "\n",
      "0: 480x640 (no detections), 21.6ms\n",
      "Speed: 1.0ms preprocess, 21.6ms inference, 2.1ms postprocess per image at shape (1, 3, 480, 640)\n",
      "\n",
      "0: 480x640 (no detections), 21.7ms\n",
      "Speed: 1.1ms preprocess, 21.7ms inference, 2.4ms postprocess per image at shape (1, 3, 480, 640)\n",
      "\n",
      "0: 480x640 (no detections), 22.6ms\n",
      "Speed: 1.1ms preprocess, 22.6ms inference, 2.1ms postprocess per image at shape (1, 3, 480, 640)\n",
      "\n",
      "0: 480x640 (no detections), 23.0ms\n",
      "Speed: 1.0ms preprocess, 23.0ms inference, 2.5ms postprocess per image at shape (1, 3, 480, 640)\n",
      "\n",
      "0: 480x640 (no detections), 21.9ms\n",
      "Speed: 1.0ms preprocess, 21.9ms inference, 2.3ms postprocess per image at shape (1, 3, 480, 640)\n",
      "\n",
      "0: 480x640 (no detections), 21.3ms\n",
      "Speed: 0.9ms preprocess, 21.3ms inference, 2.3ms postprocess per image at shape (1, 3, 480, 640)\n",
      "\n",
      "0: 480x640 (no detections), 22.6ms\n",
      "Speed: 1.1ms preprocess, 22.6ms inference, 2.1ms postprocess per image at shape (1, 3, 480, 640)\n",
      "\n",
      "0: 480x640 (no detections), 22.9ms\n",
      "Speed: 1.5ms preprocess, 22.9ms inference, 2.1ms postprocess per image at shape (1, 3, 480, 640)\n",
      "\n",
      "0: 480x640 (no detections), 22.3ms\n",
      "Speed: 1.3ms preprocess, 22.3ms inference, 2.5ms postprocess per image at shape (1, 3, 480, 640)\n",
      "\n",
      "0: 480x640 (no detections), 21.5ms\n",
      "Speed: 2.0ms preprocess, 21.5ms inference, 2.5ms postprocess per image at shape (1, 3, 480, 640)\n",
      "\n",
      "0: 480x640 (no detections), 21.2ms\n",
      "Speed: 1.2ms preprocess, 21.2ms inference, 2.3ms postprocess per image at shape (1, 3, 480, 640)\n",
      "\n",
      "0: 480x640 (no detections), 21.6ms\n",
      "Speed: 1.1ms preprocess, 21.6ms inference, 2.6ms postprocess per image at shape (1, 3, 480, 640)\n",
      "\n",
      "0: 480x640 (no detections), 22.8ms\n",
      "Speed: 1.2ms preprocess, 22.8ms inference, 2.8ms postprocess per image at shape (1, 3, 480, 640)\n",
      "\n",
      "0: 480x640 (no detections), 30.0ms\n",
      "Speed: 1.4ms preprocess, 30.0ms inference, 3.1ms postprocess per image at shape (1, 3, 480, 640)\n",
      "\n",
      "0: 480x640 (no detections), 21.1ms\n",
      "Speed: 1.0ms preprocess, 21.1ms inference, 2.6ms postprocess per image at shape (1, 3, 480, 640)\n",
      "\n",
      "0: 480x640 (no detections), 21.0ms\n",
      "Speed: 0.9ms preprocess, 21.0ms inference, 2.1ms postprocess per image at shape (1, 3, 480, 640)\n",
      "\n",
      "0: 480x640 (no detections), 21.8ms\n",
      "Speed: 1.0ms preprocess, 21.8ms inference, 2.3ms postprocess per image at shape (1, 3, 480, 640)\n",
      "\n",
      "0: 480x640 (no detections), 23.0ms\n",
      "Speed: 1.2ms preprocess, 23.0ms inference, 2.2ms postprocess per image at shape (1, 3, 480, 640)\n",
      "\n",
      "0: 480x640 (no detections), 22.6ms\n",
      "Speed: 0.9ms preprocess, 22.6ms inference, 2.6ms postprocess per image at shape (1, 3, 480, 640)\n",
      "\n",
      "0: 480x640 (no detections), 21.8ms\n",
      "Speed: 1.2ms preprocess, 21.8ms inference, 2.6ms postprocess per image at shape (1, 3, 480, 640)\n",
      "\n",
      "0: 480x640 (no detections), 21.4ms\n",
      "Speed: 1.0ms preprocess, 21.4ms inference, 2.1ms postprocess per image at shape (1, 3, 480, 640)\n",
      "\n",
      "0: 480x640 (no detections), 22.3ms\n",
      "Speed: 1.0ms preprocess, 22.3ms inference, 2.7ms postprocess per image at shape (1, 3, 480, 640)\n",
      "\n",
      "0: 480x640 (no detections), 23.0ms\n",
      "Speed: 1.0ms preprocess, 23.0ms inference, 2.3ms postprocess per image at shape (1, 3, 480, 640)\n",
      "\n",
      "0: 480x640 (no detections), 22.6ms\n",
      "Speed: 1.2ms preprocess, 22.6ms inference, 12.8ms postprocess per image at shape (1, 3, 480, 640)\n",
      "\n",
      "0: 480x640 (no detections), 20.3ms\n",
      "Speed: 1.2ms preprocess, 20.3ms inference, 2.3ms postprocess per image at shape (1, 3, 480, 640)\n",
      "\n",
      "0: 480x640 (no detections), 22.2ms\n",
      "Speed: 1.2ms preprocess, 22.2ms inference, 2.5ms postprocess per image at shape (1, 3, 480, 640)\n",
      "\n",
      "0: 480x640 (no detections), 22.9ms\n",
      "Speed: 1.1ms preprocess, 22.9ms inference, 2.3ms postprocess per image at shape (1, 3, 480, 640)\n",
      "\n",
      "0: 480x640 (no detections), 22.3ms\n",
      "Speed: 1.1ms preprocess, 22.3ms inference, 2.6ms postprocess per image at shape (1, 3, 480, 640)\n",
      "\n",
      "0: 480x640 (no detections), 26.0ms\n",
      "Speed: 1.7ms preprocess, 26.0ms inference, 2.6ms postprocess per image at shape (1, 3, 480, 640)\n",
      "\n",
      "0: 480x640 (no detections), 21.1ms\n",
      "Speed: 1.1ms preprocess, 21.1ms inference, 2.4ms postprocess per image at shape (1, 3, 480, 640)\n",
      "\n",
      "0: 480x640 (no detections), 26.1ms\n",
      "Speed: 1.5ms preprocess, 26.1ms inference, 7.8ms postprocess per image at shape (1, 3, 480, 640)\n",
      "\n",
      "0: 480x640 (no detections), 20.8ms\n",
      "Speed: 1.0ms preprocess, 20.8ms inference, 2.5ms postprocess per image at shape (1, 3, 480, 640)\n",
      "\n",
      "0: 480x640 (no detections), 22.8ms\n",
      "Speed: 1.1ms preprocess, 22.8ms inference, 2.0ms postprocess per image at shape (1, 3, 480, 640)\n",
      "\n",
      "0: 480x640 (no detections), 22.7ms\n",
      "Speed: 1.3ms preprocess, 22.7ms inference, 2.1ms postprocess per image at shape (1, 3, 480, 640)\n",
      "\n",
      "0: 480x640 (no detections), 22.5ms\n",
      "Speed: 1.0ms preprocess, 22.5ms inference, 2.2ms postprocess per image at shape (1, 3, 480, 640)\n",
      "\n",
      "0: 480x640 (no detections), 21.8ms\n",
      "Speed: 1.0ms preprocess, 21.8ms inference, 2.3ms postprocess per image at shape (1, 3, 480, 640)\n",
      "\n",
      "0: 480x640 (no detections), 21.3ms\n",
      "Speed: 0.9ms preprocess, 21.3ms inference, 3.2ms postprocess per image at shape (1, 3, 480, 640)\n",
      "\n",
      "0: 480x640 (no detections), 22.2ms\n",
      "Speed: 1.0ms preprocess, 22.2ms inference, 2.5ms postprocess per image at shape (1, 3, 480, 640)\n",
      "\n",
      "0: 480x640 (no detections), 23.0ms\n",
      "Speed: 1.0ms preprocess, 23.0ms inference, 2.2ms postprocess per image at shape (1, 3, 480, 640)\n",
      "\n",
      "0: 480x640 (no detections), 22.5ms\n",
      "Speed: 1.0ms preprocess, 22.5ms inference, 2.1ms postprocess per image at shape (1, 3, 480, 640)\n",
      "\n",
      "0: 480x640 (no detections), 21.7ms\n",
      "Speed: 1.0ms preprocess, 21.7ms inference, 2.3ms postprocess per image at shape (1, 3, 480, 640)\n",
      "\n",
      "0: 480x640 (no detections), 21.3ms\n",
      "Speed: 1.1ms preprocess, 21.3ms inference, 2.7ms postprocess per image at shape (1, 3, 480, 640)\n",
      "\n",
      "0: 480x640 (no detections), 25.4ms\n",
      "Speed: 1.4ms preprocess, 25.4ms inference, 6.1ms postprocess per image at shape (1, 3, 480, 640)\n",
      "\n",
      "0: 480x640 (no detections), 20.4ms\n",
      "Speed: 1.8ms preprocess, 20.4ms inference, 7.2ms postprocess per image at shape (1, 3, 480, 640)\n",
      "\n",
      "0: 480x640 (no detections), 20.8ms\n",
      "Speed: 1.0ms preprocess, 20.8ms inference, 2.2ms postprocess per image at shape (1, 3, 480, 640)\n",
      "\n",
      "0: 480x640 (no detections), 22.2ms\n",
      "Speed: 1.5ms preprocess, 22.2ms inference, 2.4ms postprocess per image at shape (1, 3, 480, 640)\n",
      "\n",
      "0: 480x640 (no detections), 23.0ms\n",
      "Speed: 1.2ms preprocess, 23.0ms inference, 2.3ms postprocess per image at shape (1, 3, 480, 640)\n",
      "\n",
      "0: 480x640 (no detections), 22.4ms\n",
      "Speed: 1.3ms preprocess, 22.4ms inference, 2.5ms postprocess per image at shape (1, 3, 480, 640)\n",
      "\n",
      "0: 480x640 (no detections), 22.6ms\n",
      "Speed: 1.1ms preprocess, 22.6ms inference, 2.1ms postprocess per image at shape (1, 3, 480, 640)\n",
      "\n",
      "0: 480x640 (no detections), 21.8ms\n",
      "Speed: 1.1ms preprocess, 21.8ms inference, 12.7ms postprocess per image at shape (1, 3, 480, 640)\n",
      "\n",
      "0: 480x640 (no detections), 21.0ms\n",
      "Speed: 1.0ms preprocess, 21.0ms inference, 2.6ms postprocess per image at shape (1, 3, 480, 640)\n",
      "\n",
      "0: 480x640 (no detections), 21.7ms\n",
      "Speed: 1.0ms preprocess, 21.7ms inference, 2.4ms postprocess per image at shape (1, 3, 480, 640)\n",
      "\n",
      "0: 480x640 (no detections), 21.2ms\n",
      "Speed: 1.0ms preprocess, 21.2ms inference, 2.2ms postprocess per image at shape (1, 3, 480, 640)\n",
      "\n",
      "0: 480x640 (no detections), 22.7ms\n",
      "Speed: 1.0ms preprocess, 22.7ms inference, 2.1ms postprocess per image at shape (1, 3, 480, 640)\n",
      "\n",
      "0: 480x640 (no detections), 23.1ms\n",
      "Speed: 1.2ms preprocess, 23.1ms inference, 2.2ms postprocess per image at shape (1, 3, 480, 640)\n",
      "\n",
      "0: 480x640 (no detections), 22.0ms\n",
      "Speed: 1.4ms preprocess, 22.0ms inference, 2.4ms postprocess per image at shape (1, 3, 480, 640)\n",
      "\n",
      "0: 480x640 (no detections), 20.3ms\n",
      "Speed: 1.2ms preprocess, 20.3ms inference, 2.4ms postprocess per image at shape (1, 3, 480, 640)\n",
      "\n",
      "0: 480x640 (no detections), 21.6ms\n",
      "Speed: 1.3ms preprocess, 21.6ms inference, 3.4ms postprocess per image at shape (1, 3, 480, 640)\n",
      "\n",
      "0: 480x640 (no detections), 21.7ms\n",
      "Speed: 1.0ms preprocess, 21.7ms inference, 3.0ms postprocess per image at shape (1, 3, 480, 640)\n",
      "\n",
      "0: 480x640 (no detections), 21.6ms\n",
      "Speed: 1.1ms preprocess, 21.6ms inference, 2.5ms postprocess per image at shape (1, 3, 480, 640)\n",
      "\n",
      "0: 480x640 (no detections), 21.9ms\n",
      "Speed: 1.2ms preprocess, 21.9ms inference, 2.4ms postprocess per image at shape (1, 3, 480, 640)\n",
      "\n",
      "0: 480x640 (no detections), 22.6ms\n",
      "Speed: 1.2ms preprocess, 22.6ms inference, 2.0ms postprocess per image at shape (1, 3, 480, 640)\n",
      "\n",
      "0: 480x640 (no detections), 23.2ms\n",
      "Speed: 1.0ms preprocess, 23.2ms inference, 2.1ms postprocess per image at shape (1, 3, 480, 640)\n",
      "\n",
      "0: 480x640 (no detections), 22.7ms\n",
      "Speed: 1.1ms preprocess, 22.7ms inference, 2.2ms postprocess per image at shape (1, 3, 480, 640)\n",
      "\n",
      "0: 480x640 (no detections), 21.8ms\n",
      "Speed: 1.0ms preprocess, 21.8ms inference, 2.3ms postprocess per image at shape (1, 3, 480, 640)\n",
      "\n",
      "0: 480x640 (no detections), 21.6ms\n",
      "Speed: 1.0ms preprocess, 21.6ms inference, 2.7ms postprocess per image at shape (1, 3, 480, 640)\n",
      "\n",
      "0: 480x640 (no detections), 22.1ms\n",
      "Speed: 1.6ms preprocess, 22.1ms inference, 2.6ms postprocess per image at shape (1, 3, 480, 640)\n",
      "\n",
      "0: 480x640 (no detections), 22.8ms\n",
      "Speed: 1.1ms preprocess, 22.8ms inference, 2.2ms postprocess per image at shape (1, 3, 480, 640)\n",
      "\n",
      "0: 480x640 (no detections), 23.0ms\n",
      "Speed: 1.0ms preprocess, 23.0ms inference, 2.3ms postprocess per image at shape (1, 3, 480, 640)\n",
      "\n",
      "0: 480x640 (no detections), 22.1ms\n",
      "Speed: 1.0ms preprocess, 22.1ms inference, 2.2ms postprocess per image at shape (1, 3, 480, 640)\n",
      "\n",
      "0: 480x640 (no detections), 21.5ms\n",
      "Speed: 1.0ms preprocess, 21.5ms inference, 2.0ms postprocess per image at shape (1, 3, 480, 640)\n",
      "\n",
      "0: 480x640 (no detections), 21.6ms\n",
      "Speed: 1.2ms preprocess, 21.6ms inference, 4.5ms postprocess per image at shape (1, 3, 480, 640)\n",
      "\n",
      "0: 480x640 (no detections), 23.5ms\n",
      "Speed: 1.2ms preprocess, 23.5ms inference, 2.5ms postprocess per image at shape (1, 3, 480, 640)\n",
      "\n",
      "0: 480x640 (no detections), 22.0ms\n",
      "Speed: 1.3ms preprocess, 22.0ms inference, 2.2ms postprocess per image at shape (1, 3, 480, 640)\n",
      "\n",
      "0: 480x640 (no detections), 21.9ms\n",
      "Speed: 1.0ms preprocess, 21.9ms inference, 2.0ms postprocess per image at shape (1, 3, 480, 640)\n",
      "\n",
      "0: 480x640 (no detections), 23.0ms\n",
      "Speed: 1.1ms preprocess, 23.0ms inference, 2.5ms postprocess per image at shape (1, 3, 480, 640)\n",
      "\n",
      "0: 480x640 (no detections), 21.0ms\n",
      "Speed: 1.2ms preprocess, 21.0ms inference, 2.1ms postprocess per image at shape (1, 3, 480, 640)\n",
      "\n",
      "0: 480x640 (no detections), 22.6ms\n",
      "Speed: 1.1ms preprocess, 22.6ms inference, 2.1ms postprocess per image at shape (1, 3, 480, 640)\n",
      "\n",
      "0: 480x640 (no detections), 22.8ms\n",
      "Speed: 1.8ms preprocess, 22.8ms inference, 2.2ms postprocess per image at shape (1, 3, 480, 640)\n",
      "\n",
      "0: 480x640 (no detections), 22.6ms\n",
      "Speed: 1.0ms preprocess, 22.6ms inference, 2.8ms postprocess per image at shape (1, 3, 480, 640)\n",
      "\n",
      "0: 480x640 (no detections), 21.8ms\n",
      "Speed: 1.4ms preprocess, 21.8ms inference, 2.4ms postprocess per image at shape (1, 3, 480, 640)\n",
      "\n",
      "0: 480x640 (no detections), 21.3ms\n",
      "Speed: 1.1ms preprocess, 21.3ms inference, 2.4ms postprocess per image at shape (1, 3, 480, 640)\n",
      "\n",
      "0: 480x640 (no detections), 22.1ms\n",
      "Speed: 1.4ms preprocess, 22.1ms inference, 2.2ms postprocess per image at shape (1, 3, 480, 640)\n",
      "\n",
      "0: 480x640 (no detections), 23.2ms\n",
      "Speed: 1.1ms preprocess, 23.2ms inference, 2.7ms postprocess per image at shape (1, 3, 480, 640)\n",
      "\n",
      "0: 480x640 (no detections), 22.2ms\n",
      "Speed: 1.0ms preprocess, 22.2ms inference, 2.2ms postprocess per image at shape (1, 3, 480, 640)\n",
      "\n",
      "0: 480x640 (no detections), 22.7ms\n",
      "Speed: 0.9ms preprocess, 22.7ms inference, 2.5ms postprocess per image at shape (1, 3, 480, 640)\n",
      "\n",
      "0: 480x640 (no detections), 21.8ms\n",
      "Speed: 1.2ms preprocess, 21.8ms inference, 5.1ms postprocess per image at shape (1, 3, 480, 640)\n",
      "\n",
      "0: 480x640 (no detections), 20.5ms\n",
      "Speed: 1.9ms preprocess, 20.5ms inference, 2.7ms postprocess per image at shape (1, 3, 480, 640)\n",
      "\n",
      "0: 480x640 (no detections), 21.4ms\n",
      "Speed: 1.1ms preprocess, 21.4ms inference, 2.9ms postprocess per image at shape (1, 3, 480, 640)\n",
      "\n",
      "0: 480x640 (no detections), 21.6ms\n",
      "Speed: 1.3ms preprocess, 21.6ms inference, 2.1ms postprocess per image at shape (1, 3, 480, 640)\n",
      "\n",
      "0: 480x640 (no detections), 21.8ms\n",
      "Speed: 1.2ms preprocess, 21.8ms inference, 2.5ms postprocess per image at shape (1, 3, 480, 640)\n",
      "\n",
      "0: 480x640 (no detections), 22.5ms\n",
      "Speed: 1.2ms preprocess, 22.5ms inference, 2.5ms postprocess per image at shape (1, 3, 480, 640)\n",
      "\n",
      "0: 480x640 (no detections), 23.0ms\n",
      "Speed: 1.1ms preprocess, 23.0ms inference, 2.9ms postprocess per image at shape (1, 3, 480, 640)\n",
      "\n",
      "0: 480x640 (no detections), 22.5ms\n",
      "Speed: 1.4ms preprocess, 22.5ms inference, 2.1ms postprocess per image at shape (1, 3, 480, 640)\n",
      "\n",
      "0: 480x640 (no detections), 21.9ms\n",
      "Speed: 1.1ms preprocess, 21.9ms inference, 2.2ms postprocess per image at shape (1, 3, 480, 640)\n",
      "\n",
      "0: 480x640 (no detections), 21.3ms\n",
      "Speed: 1.0ms preprocess, 21.3ms inference, 2.4ms postprocess per image at shape (1, 3, 480, 640)\n",
      "\n",
      "0: 480x640 (no detections), 22.4ms\n",
      "Speed: 1.0ms preprocess, 22.4ms inference, 2.1ms postprocess per image at shape (1, 3, 480, 640)\n",
      "\n",
      "0: 480x640 (no detections), 23.2ms\n",
      "Speed: 0.9ms preprocess, 23.2ms inference, 2.7ms postprocess per image at shape (1, 3, 480, 640)\n",
      "\n",
      "0: 480x640 (no detections), 21.3ms\n",
      "Speed: 1.3ms preprocess, 21.3ms inference, 2.4ms postprocess per image at shape (1, 3, 480, 640)\n",
      "\n",
      "0: 480x640 (no detections), 22.8ms\n",
      "Speed: 1.1ms preprocess, 22.8ms inference, 2.4ms postprocess per image at shape (1, 3, 480, 640)\n",
      "\n",
      "0: 480x640 (no detections), 23.2ms\n",
      "Speed: 1.3ms preprocess, 23.2ms inference, 2.6ms postprocess per image at shape (1, 3, 480, 640)\n",
      "\n",
      "0: 480x640 (no detections), 23.4ms\n",
      "Speed: 1.7ms preprocess, 23.4ms inference, 12.2ms postprocess per image at shape (1, 3, 480, 640)\n",
      "\n",
      "0: 480x640 (no detections), 20.3ms\n",
      "Speed: 1.2ms preprocess, 20.3ms inference, 2.6ms postprocess per image at shape (1, 3, 480, 640)\n",
      "\n",
      "0: 480x640 (no detections), 22.8ms\n",
      "Speed: 1.0ms preprocess, 22.8ms inference, 2.0ms postprocess per image at shape (1, 3, 480, 640)\n",
      "\n",
      "0: 480x640 (no detections), 22.4ms\n",
      "Speed: 1.2ms preprocess, 22.4ms inference, 2.1ms postprocess per image at shape (1, 3, 480, 640)\n",
      "\n",
      "0: 480x640 (no detections), 21.8ms\n",
      "Speed: 1.0ms preprocess, 21.8ms inference, 2.6ms postprocess per image at shape (1, 3, 480, 640)\n",
      "\n",
      "0: 480x640 (no detections), 21.5ms\n",
      "Speed: 1.0ms preprocess, 21.5ms inference, 2.5ms postprocess per image at shape (1, 3, 480, 640)\n",
      "\n",
      "0: 480x640 (no detections), 22.7ms\n",
      "Speed: 1.0ms preprocess, 22.7ms inference, 2.2ms postprocess per image at shape (1, 3, 480, 640)\n",
      "\n",
      "0: 480x640 (no detections), 23.0ms\n",
      "Speed: 1.0ms preprocess, 23.0ms inference, 2.2ms postprocess per image at shape (1, 3, 480, 640)\n",
      "\n",
      "0: 480x640 (no detections), 20.9ms\n",
      "Speed: 1.1ms preprocess, 20.9ms inference, 2.8ms postprocess per image at shape (1, 3, 480, 640)\n",
      "\n",
      "0: 480x640 (no detections), 22.7ms\n",
      "Speed: 1.2ms preprocess, 22.7ms inference, 3.1ms postprocess per image at shape (1, 3, 480, 640)\n",
      "\n",
      "0: 480x640 (no detections), 22.4ms\n",
      "Speed: 1.2ms preprocess, 22.4ms inference, 2.1ms postprocess per image at shape (1, 3, 480, 640)\n",
      "\n",
      "0: 480x640 (no detections), 22.1ms\n",
      "Speed: 1.3ms preprocess, 22.1ms inference, 2.4ms postprocess per image at shape (1, 3, 480, 640)\n",
      "\n",
      "0: 480x640 (no detections), 21.6ms\n",
      "Speed: 1.0ms preprocess, 21.6ms inference, 2.3ms postprocess per image at shape (1, 3, 480, 640)\n",
      "\n",
      "0: 480x640 (no detections), 21.6ms\n",
      "Speed: 1.0ms preprocess, 21.6ms inference, 2.3ms postprocess per image at shape (1, 3, 480, 640)\n",
      "\n",
      "0: 480x640 (no detections), 33.0ms\n",
      "Speed: 1.3ms preprocess, 33.0ms inference, 5.5ms postprocess per image at shape (1, 3, 480, 640)\n",
      "\n",
      "0: 480x640 (no detections), 20.1ms\n",
      "Speed: 1.5ms preprocess, 20.1ms inference, 5.7ms postprocess per image at shape (1, 3, 480, 640)\n",
      "\n",
      "0: 480x640 (no detections), 21.7ms\n",
      "Speed: 1.4ms preprocess, 21.7ms inference, 2.5ms postprocess per image at shape (1, 3, 480, 640)\n",
      "\n",
      "0: 480x640 (no detections), 21.4ms\n",
      "Speed: 1.0ms preprocess, 21.4ms inference, 2.4ms postprocess per image at shape (1, 3, 480, 640)\n",
      "\n",
      "0: 480x640 (no detections), 22.5ms\n",
      "Speed: 1.2ms preprocess, 22.5ms inference, 2.2ms postprocess per image at shape (1, 3, 480, 640)\n",
      "\n",
      "0: 480x640 (no detections), 23.5ms\n",
      "Speed: 1.1ms preprocess, 23.5ms inference, 2.9ms postprocess per image at shape (1, 3, 480, 640)\n",
      "\n",
      "0: 480x640 (no detections), 22.4ms\n",
      "Speed: 1.0ms preprocess, 22.4ms inference, 2.5ms postprocess per image at shape (1, 3, 480, 640)\n",
      "\n",
      "0: 480x640 (no detections), 22.5ms\n",
      "Speed: 1.5ms preprocess, 22.5ms inference, 3.5ms postprocess per image at shape (1, 3, 480, 640)\n",
      "\n",
      "0: 480x640 (no detections), 21.7ms\n",
      "Speed: 1.0ms preprocess, 21.7ms inference, 2.1ms postprocess per image at shape (1, 3, 480, 640)\n",
      "\n",
      "0: 480x640 (no detections), 21.5ms\n",
      "Speed: 1.2ms preprocess, 21.5ms inference, 2.2ms postprocess per image at shape (1, 3, 480, 640)\n",
      "\n",
      "0: 480x640 (no detections), 22.8ms\n",
      "Speed: 1.0ms preprocess, 22.8ms inference, 2.4ms postprocess per image at shape (1, 3, 480, 640)\n",
      "\n",
      "0: 480x640 (no detections), 23.1ms\n",
      "Speed: 1.0ms preprocess, 23.1ms inference, 2.7ms postprocess per image at shape (1, 3, 480, 640)\n",
      "\n",
      "0: 480x640 (no detections), 22.0ms\n",
      "Speed: 1.1ms preprocess, 22.0ms inference, 12.6ms postprocess per image at shape (1, 3, 480, 640)\n",
      "\n",
      "0: 480x640 (no detections), 21.0ms\n",
      "Speed: 1.0ms preprocess, 21.0ms inference, 2.5ms postprocess per image at shape (1, 3, 480, 640)\n",
      "\n",
      "0: 480x640 (no detections), 20.8ms\n",
      "Speed: 1.3ms preprocess, 20.8ms inference, 2.6ms postprocess per image at shape (1, 3, 480, 640)\n",
      "\n",
      "0: 480x640 (no detections), 20.8ms\n",
      "Speed: 1.3ms preprocess, 20.8ms inference, 5.5ms postprocess per image at shape (1, 3, 480, 640)\n",
      "\n",
      "0: 480x640 (no detections), 21.7ms\n",
      "Speed: 1.0ms preprocess, 21.7ms inference, 2.8ms postprocess per image at shape (1, 3, 480, 640)\n",
      "\n",
      "0: 480x640 (no detections), 21.5ms\n",
      "Speed: 1.1ms preprocess, 21.5ms inference, 2.3ms postprocess per image at shape (1, 3, 480, 640)\n",
      "\n",
      "0: 480x640 (no detections), 21.8ms\n",
      "Speed: 1.1ms preprocess, 21.8ms inference, 2.8ms postprocess per image at shape (1, 3, 480, 640)\n",
      "\n",
      "0: 480x640 (no detections), 21.4ms\n",
      "Speed: 1.2ms preprocess, 21.4ms inference, 2.4ms postprocess per image at shape (1, 3, 480, 640)\n",
      "\n",
      "0: 480x640 (no detections), 21.5ms\n",
      "Speed: 1.4ms preprocess, 21.5ms inference, 2.2ms postprocess per image at shape (1, 3, 480, 640)\n",
      "\n",
      "0: 480x640 (no detections), 22.3ms\n",
      "Speed: 1.5ms preprocess, 22.3ms inference, 2.2ms postprocess per image at shape (1, 3, 480, 640)\n",
      "\n",
      "0: 480x640 (no detections), 23.0ms\n",
      "Speed: 1.1ms preprocess, 23.0ms inference, 2.3ms postprocess per image at shape (1, 3, 480, 640)\n",
      "\n",
      "0: 480x640 (no detections), 22.8ms\n",
      "Speed: 1.0ms preprocess, 22.8ms inference, 2.3ms postprocess per image at shape (1, 3, 480, 640)\n",
      "\n",
      "0: 480x640 (no detections), 22.0ms\n",
      "Speed: 0.9ms preprocess, 22.0ms inference, 2.6ms postprocess per image at shape (1, 3, 480, 640)\n",
      "\n",
      "0: 480x640 (no detections), 21.5ms\n",
      "Speed: 1.0ms preprocess, 21.5ms inference, 2.2ms postprocess per image at shape (1, 3, 480, 640)\n",
      "\n",
      "0: 480x640 (no detections), 22.4ms\n",
      "Speed: 1.2ms preprocess, 22.4ms inference, 2.1ms postprocess per image at shape (1, 3, 480, 640)\n",
      "\n",
      "0: 480x640 (no detections), 23.1ms\n",
      "Speed: 1.3ms preprocess, 23.1ms inference, 2.2ms postprocess per image at shape (1, 3, 480, 640)\n",
      "\n",
      "0: 480x640 (no detections), 22.7ms\n",
      "Speed: 1.1ms preprocess, 22.7ms inference, 2.0ms postprocess per image at shape (1, 3, 480, 640)\n",
      "\n",
      "0: 480x640 (no detections), 21.9ms\n",
      "Speed: 1.0ms preprocess, 21.9ms inference, 2.4ms postprocess per image at shape (1, 3, 480, 640)\n",
      "\n",
      "0: 480x640 (no detections), 21.4ms\n",
      "Speed: 1.3ms preprocess, 21.4ms inference, 2.2ms postprocess per image at shape (1, 3, 480, 640)\n",
      "\n",
      "0: 480x640 (no detections), 21.4ms\n",
      "Speed: 1.2ms preprocess, 21.4ms inference, 2.3ms postprocess per image at shape (1, 3, 480, 640)\n",
      "\n",
      "0: 480x640 (no detections), 21.3ms\n",
      "Speed: 1.0ms preprocess, 21.3ms inference, 2.4ms postprocess per image at shape (1, 3, 480, 640)\n",
      "\n",
      "0: 480x640 (no detections), 22.8ms\n",
      "Speed: 1.5ms preprocess, 22.8ms inference, 2.9ms postprocess per image at shape (1, 3, 480, 640)\n",
      "\n",
      "0: 480x640 (no detections), 20.0ms\n",
      "Speed: 5.1ms preprocess, 20.0ms inference, 2.9ms postprocess per image at shape (1, 3, 480, 640)\n",
      "\n",
      "0: 480x640 (no detections), 21.7ms\n",
      "Speed: 1.1ms preprocess, 21.7ms inference, 2.4ms postprocess per image at shape (1, 3, 480, 640)\n",
      "\n",
      "0: 480x640 (no detections), 23.5ms\n",
      "Speed: 1.3ms preprocess, 23.5ms inference, 2.1ms postprocess per image at shape (1, 3, 480, 640)\n",
      "\n",
      "0: 480x640 (no detections), 23.2ms\n",
      "Speed: 1.1ms preprocess, 23.2ms inference, 2.2ms postprocess per image at shape (1, 3, 480, 640)\n",
      "\n",
      "0: 480x640 (no detections), 22.2ms\n",
      "Speed: 1.2ms preprocess, 22.2ms inference, 15.5ms postprocess per image at shape (1, 3, 480, 640)\n",
      "\n",
      "0: 480x640 (no detections), 20.2ms\n",
      "Speed: 1.2ms preprocess, 20.2ms inference, 3.7ms postprocess per image at shape (1, 3, 480, 640)\n",
      "\n",
      "0: 480x640 (no detections), 22.4ms\n",
      "Speed: 0.9ms preprocess, 22.4ms inference, 3.8ms postprocess per image at shape (1, 3, 480, 640)\n",
      "\n",
      "0: 480x640 (no detections), 22.7ms\n",
      "Speed: 1.1ms preprocess, 22.7ms inference, 3.4ms postprocess per image at shape (1, 3, 480, 640)\n",
      "\n",
      "0: 480x640 (no detections), 22.4ms\n",
      "Speed: 1.2ms preprocess, 22.4ms inference, 3.4ms postprocess per image at shape (1, 3, 480, 640)\n",
      "\n",
      "0: 480x640 (no detections), 22.2ms\n",
      "Speed: 1.1ms preprocess, 22.2ms inference, 3.9ms postprocess per image at shape (1, 3, 480, 640)\n",
      "\n",
      "0: 480x640 (no detections), 21.8ms\n",
      "Speed: 1.4ms preprocess, 21.8ms inference, 3.6ms postprocess per image at shape (1, 3, 480, 640)\n",
      "\n",
      "0: 480x640 (no detections), 21.6ms\n",
      "Speed: 0.9ms preprocess, 21.6ms inference, 3.2ms postprocess per image at shape (1, 3, 480, 640)\n",
      "\n",
      "0: 480x640 (no detections), 21.5ms\n",
      "Speed: 1.0ms preprocess, 21.5ms inference, 3.2ms postprocess per image at shape (1, 3, 480, 640)\n",
      "\n",
      "0: 480x640 (no detections), 22.1ms\n",
      "Speed: 1.1ms preprocess, 22.1ms inference, 3.2ms postprocess per image at shape (1, 3, 480, 640)\n",
      "\n",
      "0: 480x640 (no detections), 22.6ms\n",
      "Speed: 0.9ms preprocess, 22.6ms inference, 5.6ms postprocess per image at shape (1, 3, 480, 640)\n",
      "\n",
      "0: 480x640 (no detections), 21.2ms\n",
      "Speed: 1.2ms preprocess, 21.2ms inference, 3.3ms postprocess per image at shape (1, 3, 480, 640)\n",
      "\n",
      "0: 480x640 (no detections), 22.6ms\n",
      "Speed: 1.0ms preprocess, 22.6ms inference, 3.6ms postprocess per image at shape (1, 3, 480, 640)\n",
      "\n",
      "0: 480x640 (no detections), 22.6ms\n",
      "Speed: 1.1ms preprocess, 22.6ms inference, 4.2ms postprocess per image at shape (1, 3, 480, 640)\n",
      "\n",
      "0: 480x640 (no detections), 22.4ms\n",
      "Speed: 1.0ms preprocess, 22.4ms inference, 3.3ms postprocess per image at shape (1, 3, 480, 640)\n",
      "\n",
      "0: 480x640 (no detections), 22.7ms\n",
      "Speed: 1.1ms preprocess, 22.7ms inference, 4.3ms postprocess per image at shape (1, 3, 480, 640)\n",
      "\n",
      "0: 480x640 (no detections), 22.3ms\n",
      "Speed: 0.9ms preprocess, 22.3ms inference, 3.2ms postprocess per image at shape (1, 3, 480, 640)\n",
      "\n",
      "0: 480x640 (no detections), 21.7ms\n",
      "Speed: 0.9ms preprocess, 21.7ms inference, 3.2ms postprocess per image at shape (1, 3, 480, 640)\n",
      "\n",
      "0: 480x640 (no detections), 21.4ms\n",
      "Speed: 0.9ms preprocess, 21.4ms inference, 3.4ms postprocess per image at shape (1, 3, 480, 640)\n",
      "\n",
      "0: 480x640 (no detections), 22.5ms\n",
      "Speed: 1.0ms preprocess, 22.5ms inference, 3.6ms postprocess per image at shape (1, 3, 480, 640)\n",
      "\n",
      "0: 480x640 (no detections), 22.3ms\n",
      "Speed: 1.3ms preprocess, 22.3ms inference, 3.5ms postprocess per image at shape (1, 3, 480, 640)\n",
      "\n",
      "0: 480x640 (no detections), 22.7ms\n",
      "Speed: 0.9ms preprocess, 22.7ms inference, 3.4ms postprocess per image at shape (1, 3, 480, 640)\n",
      "\n",
      "0: 480x640 (no detections), 22.6ms\n",
      "Speed: 0.9ms preprocess, 22.6ms inference, 3.6ms postprocess per image at shape (1, 3, 480, 640)\n",
      "\n",
      "0: 480x640 (no detections), 21.8ms\n",
      "Speed: 1.0ms preprocess, 21.8ms inference, 3.2ms postprocess per image at shape (1, 3, 480, 640)\n",
      "\n",
      "0: 480x640 (no detections), 21.5ms\n",
      "Speed: 1.1ms preprocess, 21.5ms inference, 5.1ms postprocess per image at shape (1, 3, 480, 640)\n",
      "\n",
      "0: 480x640 (no detections), 21.5ms\n",
      "Speed: 1.0ms preprocess, 21.5ms inference, 3.3ms postprocess per image at shape (1, 3, 480, 640)\n",
      "\n",
      "0: 480x640 (no detections), 21.6ms\n",
      "Speed: 1.5ms preprocess, 21.6ms inference, 6.2ms postprocess per image at shape (1, 3, 480, 640)\n",
      "\n",
      "0: 480x640 (no detections), 20.5ms\n",
      "Speed: 1.7ms preprocess, 20.5ms inference, 1.7ms postprocess per image at shape (1, 3, 480, 640)\n",
      "\n",
      "0: 480x640 (no detections), 22.9ms\n",
      "Speed: 1.2ms preprocess, 22.9ms inference, 2.4ms postprocess per image at shape (1, 3, 480, 640)\n",
      "\n",
      "0: 480x640 (no detections), 22.3ms\n",
      "Speed: 1.0ms preprocess, 22.3ms inference, 2.2ms postprocess per image at shape (1, 3, 480, 640)\n",
      "\n",
      "0: 480x640 (no detections), 21.6ms\n",
      "Speed: 1.0ms preprocess, 21.6ms inference, 2.4ms postprocess per image at shape (1, 3, 480, 640)\n",
      "\n",
      "0: 480x640 (no detections), 22.0ms\n",
      "Speed: 1.0ms preprocess, 22.0ms inference, 2.1ms postprocess per image at shape (1, 3, 480, 640)\n",
      "\n",
      "0: 480x640 (no detections), 23.1ms\n",
      "Speed: 1.1ms preprocess, 23.1ms inference, 2.2ms postprocess per image at shape (1, 3, 480, 640)\n",
      "\n",
      "0: 480x640 (no detections), 22.9ms\n",
      "Speed: 1.0ms preprocess, 22.9ms inference, 2.0ms postprocess per image at shape (1, 3, 480, 640)\n",
      "\n",
      "0: 480x640 (no detections), 22.2ms\n",
      "Speed: 1.3ms preprocess, 22.2ms inference, 2.3ms postprocess per image at shape (1, 3, 480, 640)\n",
      "\n",
      "0: 480x640 (no detections), 21.6ms\n",
      "Speed: 1.1ms preprocess, 21.6ms inference, 2.3ms postprocess per image at shape (1, 3, 480, 640)\n",
      "\n",
      "0: 480x640 (no detections), 21.6ms\n",
      "Speed: 1.1ms preprocess, 21.6ms inference, 2.0ms postprocess per image at shape (1, 3, 480, 640)\n",
      "\n",
      "0: 480x640 (no detections), 21.0ms\n",
      "Speed: 1.2ms preprocess, 21.0ms inference, 2.5ms postprocess per image at shape (1, 3, 480, 640)\n",
      "\n",
      "0: 480x640 (no detections), 22.2ms\n",
      "Speed: 1.4ms preprocess, 22.2ms inference, 2.1ms postprocess per image at shape (1, 3, 480, 640)\n",
      "\n",
      "0: 480x640 (no detections), 21.6ms\n",
      "Speed: 1.1ms preprocess, 21.6ms inference, 2.3ms postprocess per image at shape (1, 3, 480, 640)\n",
      "\n",
      "0: 480x640 1 Unripe, 21.5ms\n",
      "Speed: 1.3ms preprocess, 21.5ms inference, 3.4ms postprocess per image at shape (1, 3, 480, 640)\n",
      "tensor([ 68.0073, 196.2650, 233.5030, 357.6088], device='cuda:0')\n",
      "tensor(0., device='cuda:0')\n",
      "68 196 233 357\n",
      "\n",
      "0: 480x640 (no detections), 21.4ms\n",
      "Speed: 1.1ms preprocess, 21.4ms inference, 2.6ms postprocess per image at shape (1, 3, 480, 640)\n",
      "\n",
      "0: 480x640 (no detections), 21.5ms\n",
      "Speed: 1.3ms preprocess, 21.5ms inference, 2.0ms postprocess per image at shape (1, 3, 480, 640)\n",
      "\n",
      "0: 480x640 (no detections), 21.3ms\n",
      "Speed: 1.0ms preprocess, 21.3ms inference, 2.3ms postprocess per image at shape (1, 3, 480, 640)\n",
      "\n",
      "0: 480x640 (no detections), 22.4ms\n",
      "Speed: 1.0ms preprocess, 22.4ms inference, 2.2ms postprocess per image at shape (1, 3, 480, 640)\n",
      "\n",
      "0: 480x640 (no detections), 23.1ms\n",
      "Speed: 1.2ms preprocess, 23.1ms inference, 2.1ms postprocess per image at shape (1, 3, 480, 640)\n",
      "\n",
      "0: 480x640 (no detections), 22.7ms\n",
      "Speed: 1.2ms preprocess, 22.7ms inference, 2.3ms postprocess per image at shape (1, 3, 480, 640)\n",
      "\n",
      "0: 480x640 (no detections), 22.0ms\n",
      "Speed: 1.0ms preprocess, 22.0ms inference, 2.1ms postprocess per image at shape (1, 3, 480, 640)\n",
      "\n",
      "0: 480x640 (no detections), 21.4ms\n",
      "Speed: 1.3ms preprocess, 21.4ms inference, 2.3ms postprocess per image at shape (1, 3, 480, 640)\n",
      "\n",
      "0: 480x640 (no detections), 21.7ms\n",
      "Speed: 1.5ms preprocess, 21.7ms inference, 2.6ms postprocess per image at shape (1, 3, 480, 640)\n",
      "\n",
      "0: 480x640 (no detections), 21.8ms\n",
      "Speed: 1.3ms preprocess, 21.8ms inference, 1.8ms postprocess per image at shape (1, 3, 480, 640)\n",
      "\n",
      "0: 480x640 (no detections), 22.6ms\n",
      "Speed: 1.1ms preprocess, 22.6ms inference, 1.8ms postprocess per image at shape (1, 3, 480, 640)\n",
      "\n",
      "0: 480x640 (no detections), 23.3ms\n",
      "Speed: 1.1ms preprocess, 23.3ms inference, 1.8ms postprocess per image at shape (1, 3, 480, 640)\n",
      "\n",
      "0: 480x640 (no detections), 22.6ms\n",
      "Speed: 1.2ms preprocess, 22.6ms inference, 11.4ms postprocess per image at shape (1, 3, 480, 640)\n",
      "\n",
      "0: 480x640 (no detections), 21.2ms\n",
      "Speed: 1.1ms preprocess, 21.2ms inference, 2.1ms postprocess per image at shape (1, 3, 480, 640)\n",
      "\n",
      "0: 480x640 (no detections), 22.1ms\n",
      "Speed: 1.2ms preprocess, 22.1ms inference, 2.5ms postprocess per image at shape (1, 3, 480, 640)\n",
      "\n",
      "0: 480x640 (no detections), 21.6ms\n",
      "Speed: 2.1ms preprocess, 21.6ms inference, 2.9ms postprocess per image at shape (1, 3, 480, 640)\n",
      "\n",
      "0: 480x640 (no detections), 21.9ms\n",
      "Speed: 1.1ms preprocess, 21.9ms inference, 2.2ms postprocess per image at shape (1, 3, 480, 640)\n",
      "\n",
      "0: 480x640 (no detections), 21.6ms\n",
      "Speed: 1.1ms preprocess, 21.6ms inference, 2.3ms postprocess per image at shape (1, 3, 480, 640)\n",
      "\n",
      "0: 480x640 (no detections), 21.4ms\n",
      "Speed: 1.0ms preprocess, 21.4ms inference, 2.6ms postprocess per image at shape (1, 3, 480, 640)\n",
      "\n",
      "0: 480x640 (no detections), 21.8ms\n",
      "Speed: 1.1ms preprocess, 21.8ms inference, 2.1ms postprocess per image at shape (1, 3, 480, 640)\n",
      "\n",
      "0: 480x640 (no detections), 23.2ms\n",
      "Speed: 1.0ms preprocess, 23.2ms inference, 2.0ms postprocess per image at shape (1, 3, 480, 640)\n",
      "\n",
      "0: 480x640 (no detections), 23.2ms\n",
      "Speed: 1.1ms preprocess, 23.2ms inference, 2.0ms postprocess per image at shape (1, 3, 480, 640)\n",
      "\n",
      "0: 480x640 (no detections), 22.1ms\n",
      "Speed: 1.1ms preprocess, 22.1ms inference, 2.1ms postprocess per image at shape (1, 3, 480, 640)\n",
      "\n",
      "0: 480x640 (no detections), 21.4ms\n",
      "Speed: 1.1ms preprocess, 21.4ms inference, 2.3ms postprocess per image at shape (1, 3, 480, 640)\n",
      "\n",
      "0: 480x640 (no detections), 22.0ms\n",
      "Speed: 1.1ms preprocess, 22.0ms inference, 2.4ms postprocess per image at shape (1, 3, 480, 640)\n",
      "\n",
      "0: 480x640 (no detections), 23.0ms\n",
      "Speed: 1.0ms preprocess, 23.0ms inference, 2.8ms postprocess per image at shape (1, 3, 480, 640)\n",
      "\n",
      "0: 480x640 (no detections), 22.6ms\n",
      "Speed: 1.0ms preprocess, 22.6ms inference, 2.2ms postprocess per image at shape (1, 3, 480, 640)\n",
      "\n",
      "0: 480x640 (no detections), 22.5ms\n",
      "Speed: 1.2ms preprocess, 22.5ms inference, 2.0ms postprocess per image at shape (1, 3, 480, 640)\n",
      "\n",
      "0: 480x640 (no detections), 21.6ms\n",
      "Speed: 1.3ms preprocess, 21.6ms inference, 1.8ms postprocess per image at shape (1, 3, 480, 640)\n",
      "\n",
      "0: 480x640 (no detections), 21.6ms\n",
      "Speed: 1.0ms preprocess, 21.6ms inference, 1.8ms postprocess per image at shape (1, 3, 480, 640)\n",
      "\n",
      "0: 480x640 (no detections), 22.9ms\n",
      "Speed: 1.2ms preprocess, 22.9ms inference, 2.7ms postprocess per image at shape (1, 3, 480, 640)\n",
      "\n",
      "0: 480x640 (no detections), 20.9ms\n",
      "Speed: 1.3ms preprocess, 20.9ms inference, 2.4ms postprocess per image at shape (1, 3, 480, 640)\n",
      "\n",
      "0: 480x640 (no detections), 21.8ms\n",
      "Speed: 1.4ms preprocess, 21.8ms inference, 2.4ms postprocess per image at shape (1, 3, 480, 640)\n",
      "\n",
      "0: 480x640 (no detections), 22.2ms\n",
      "Speed: 1.2ms preprocess, 22.2ms inference, 2.1ms postprocess per image at shape (1, 3, 480, 640)\n",
      "\n",
      "0: 480x640 (no detections), 23.0ms\n",
      "Speed: 1.4ms preprocess, 23.0ms inference, 2.1ms postprocess per image at shape (1, 3, 480, 640)\n",
      "\n",
      "0: 480x640 (no detections), 23.0ms\n",
      "Speed: 1.0ms preprocess, 23.0ms inference, 2.4ms postprocess per image at shape (1, 3, 480, 640)\n",
      "\n",
      "0: 480x640 (no detections), 25.6ms\n",
      "Speed: 1.1ms preprocess, 25.6ms inference, 5.9ms postprocess per image at shape (1, 3, 480, 640)\n",
      "\n",
      "0: 480x640 (no detections), 21.2ms\n",
      "Speed: 1.0ms preprocess, 21.2ms inference, 2.0ms postprocess per image at shape (1, 3, 480, 640)\n",
      "\n",
      "0: 480x640 (no detections), 22.2ms\n",
      "Speed: 1.1ms preprocess, 22.2ms inference, 2.2ms postprocess per image at shape (1, 3, 480, 640)\n",
      "\n",
      "0: 480x640 (no detections), 22.0ms\n",
      "Speed: 1.0ms preprocess, 22.0ms inference, 12.7ms postprocess per image at shape (1, 3, 480, 640)\n",
      "\n",
      "0: 480x640 (no detections), 21.0ms\n",
      "Speed: 1.0ms preprocess, 21.0ms inference, 2.4ms postprocess per image at shape (1, 3, 480, 640)\n",
      "\n",
      "0: 480x640 (no detections), 22.1ms\n",
      "Speed: 1.0ms preprocess, 22.1ms inference, 2.3ms postprocess per image at shape (1, 3, 480, 640)\n",
      "\n",
      "0: 480x640 (no detections), 21.4ms\n",
      "Speed: 1.0ms preprocess, 21.4ms inference, 3.0ms postprocess per image at shape (1, 3, 480, 640)\n",
      "\n",
      "0: 480x640 (no detections), 21.8ms\n",
      "Speed: 1.0ms preprocess, 21.8ms inference, 2.1ms postprocess per image at shape (1, 3, 480, 640)\n",
      "\n",
      "0: 480x640 (no detections), 23.3ms\n",
      "Speed: 1.0ms preprocess, 23.3ms inference, 2.3ms postprocess per image at shape (1, 3, 480, 640)\n",
      "\n",
      "0: 480x640 (no detections), 24.0ms\n",
      "Speed: 1.2ms preprocess, 24.0ms inference, 3.3ms postprocess per image at shape (1, 3, 480, 640)\n",
      "\n",
      "0: 480x640 (no detections), 21.5ms\n",
      "Speed: 1.4ms preprocess, 21.5ms inference, 2.7ms postprocess per image at shape (1, 3, 480, 640)\n",
      "\n",
      "0: 480x640 (no detections), 21.0ms\n",
      "Speed: 1.0ms preprocess, 21.0ms inference, 5.1ms postprocess per image at shape (1, 3, 480, 640)\n",
      "\n",
      "0: 480x640 (no detections), 21.8ms\n",
      "Speed: 1.2ms preprocess, 21.8ms inference, 2.4ms postprocess per image at shape (1, 3, 480, 640)\n",
      "\n",
      "0: 480x640 (no detections), 23.0ms\n",
      "Speed: 1.0ms preprocess, 23.0ms inference, 2.2ms postprocess per image at shape (1, 3, 480, 640)\n",
      "\n",
      "0: 480x640 (no detections), 22.8ms\n",
      "Speed: 1.2ms preprocess, 22.8ms inference, 2.6ms postprocess per image at shape (1, 3, 480, 640)\n",
      "\n",
      "0: 480x640 (no detections), 22.7ms\n",
      "Speed: 1.1ms preprocess, 22.7ms inference, 2.2ms postprocess per image at shape (1, 3, 480, 640)\n",
      "\n",
      "0: 480x640 (no detections), 22.1ms\n",
      "Speed: 1.2ms preprocess, 22.1ms inference, 2.2ms postprocess per image at shape (1, 3, 480, 640)\n",
      "\n",
      "0: 480x640 (no detections), 21.4ms\n",
      "Speed: 1.7ms preprocess, 21.4ms inference, 2.1ms postprocess per image at shape (1, 3, 480, 640)\n",
      "\n",
      "0: 480x640 (no detections), 21.9ms\n",
      "Speed: 0.9ms preprocess, 21.9ms inference, 1.9ms postprocess per image at shape (1, 3, 480, 640)\n",
      "\n",
      "0: 480x640 (no detections), 23.3ms\n",
      "Speed: 1.1ms preprocess, 23.3ms inference, 2.2ms postprocess per image at shape (1, 3, 480, 640)\n",
      "\n",
      "0: 480x640 (no detections), 23.0ms\n",
      "Speed: 1.1ms preprocess, 23.0ms inference, 3.0ms postprocess per image at shape (1, 3, 480, 640)\n",
      "\n",
      "0: 480x640 (no detections), 22.4ms\n",
      "Speed: 1.2ms preprocess, 22.4ms inference, 2.1ms postprocess per image at shape (1, 3, 480, 640)\n",
      "\n",
      "0: 480x640 (no detections), 26.6ms\n",
      "Speed: 1.0ms preprocess, 26.6ms inference, 6.0ms postprocess per image at shape (1, 3, 480, 640)\n",
      "\n",
      "0: 480x640 (no detections), 20.0ms\n",
      "Speed: 1.3ms preprocess, 20.0ms inference, 2.6ms postprocess per image at shape (1, 3, 480, 640)\n",
      "\n",
      "0: 480x640 (no detections), 20.1ms\n",
      "Speed: 1.2ms preprocess, 20.1ms inference, 2.3ms postprocess per image at shape (1, 3, 480, 640)\n",
      "\n",
      "0: 480x640 (no detections), 23.1ms\n",
      "Speed: 1.2ms preprocess, 23.1ms inference, 2.1ms postprocess per image at shape (1, 3, 480, 640)\n",
      "\n",
      "0: 480x640 (no detections), 23.0ms\n",
      "Speed: 1.1ms preprocess, 23.0ms inference, 2.2ms postprocess per image at shape (1, 3, 480, 640)\n",
      "\n",
      "0: 480x640 (no detections), 22.4ms\n",
      "Speed: 1.0ms preprocess, 22.4ms inference, 2.1ms postprocess per image at shape (1, 3, 480, 640)\n",
      "\n",
      "0: 480x640 (no detections), 21.8ms\n",
      "Speed: 1.0ms preprocess, 21.8ms inference, 3.4ms postprocess per image at shape (1, 3, 480, 640)\n",
      "\n",
      "0: 480x640 (no detections), 21.0ms\n",
      "Speed: 1.2ms preprocess, 21.0ms inference, 2.1ms postprocess per image at shape (1, 3, 480, 640)\n",
      "\n",
      "0: 480x640 (no detections), 22.4ms\n",
      "Speed: 1.2ms preprocess, 22.4ms inference, 2.8ms postprocess per image at shape (1, 3, 480, 640)\n",
      "\n",
      "0: 480x640 (no detections), 21.8ms\n",
      "Speed: 0.9ms preprocess, 21.8ms inference, 2.0ms postprocess per image at shape (1, 3, 480, 640)\n",
      "\n",
      "0: 480x640 (no detections), 21.6ms\n",
      "Speed: 1.0ms preprocess, 21.6ms inference, 2.2ms postprocess per image at shape (1, 3, 480, 640)\n",
      "\n",
      "0: 480x640 (no detections), 23.0ms\n",
      "Speed: 1.3ms preprocess, 23.0ms inference, 2.2ms postprocess per image at shape (1, 3, 480, 640)\n",
      "\n",
      "0: 480x640 (no detections), 23.0ms\n",
      "Speed: 1.0ms preprocess, 23.0ms inference, 2.2ms postprocess per image at shape (1, 3, 480, 640)\n",
      "\n",
      "0: 480x640 (no detections), 22.7ms\n",
      "Speed: 1.0ms preprocess, 22.7ms inference, 1.9ms postprocess per image at shape (1, 3, 480, 640)\n",
      "\n",
      "0: 480x640 (no detections), 21.8ms\n",
      "Speed: 1.1ms preprocess, 21.8ms inference, 2.4ms postprocess per image at shape (1, 3, 480, 640)\n",
      "\n",
      "0: 480x640 (no detections), 32.8ms\n",
      "Speed: 1.4ms preprocess, 32.8ms inference, 3.9ms postprocess per image at shape (1, 3, 480, 640)\n",
      "\n",
      "0: 480x640 (no detections), 20.1ms\n",
      "Speed: 1.5ms preprocess, 20.1ms inference, 2.2ms postprocess per image at shape (1, 3, 480, 640)\n",
      "\n",
      "0: 480x640 (no detections), 21.5ms\n",
      "Speed: 1.2ms preprocess, 21.5ms inference, 2.0ms postprocess per image at shape (1, 3, 480, 640)\n",
      "\n",
      "0: 480x640 (no detections), 22.8ms\n",
      "Speed: 1.8ms preprocess, 22.8ms inference, 1.8ms postprocess per image at shape (1, 3, 480, 640)\n",
      "\n",
      "0: 480x640 (no detections), 23.1ms\n",
      "Speed: 1.4ms preprocess, 23.1ms inference, 2.1ms postprocess per image at shape (1, 3, 480, 640)\n",
      "\n",
      "0: 480x640 (no detections), 23.0ms\n",
      "Speed: 1.1ms preprocess, 23.0ms inference, 2.7ms postprocess per image at shape (1, 3, 480, 640)\n",
      "\n",
      "0: 480x640 (no detections), 22.1ms\n",
      "Speed: 1.1ms preprocess, 22.1ms inference, 2.2ms postprocess per image at shape (1, 3, 480, 640)\n",
      "\n",
      "0: 480x640 (no detections), 21.5ms\n",
      "Speed: 1.3ms preprocess, 21.5ms inference, 2.4ms postprocess per image at shape (1, 3, 480, 640)\n",
      "\n",
      "0: 480x640 (no detections), 21.7ms\n",
      "Speed: 1.5ms preprocess, 21.7ms inference, 2.3ms postprocess per image at shape (1, 3, 480, 640)\n",
      "\n",
      "0: 480x640 (no detections), 22.8ms\n",
      "Speed: 1.0ms preprocess, 22.8ms inference, 2.1ms postprocess per image at shape (1, 3, 480, 640)\n",
      "\n",
      "0: 480x640 (no detections), 22.9ms\n",
      "Speed: 1.2ms preprocess, 22.9ms inference, 2.7ms postprocess per image at shape (1, 3, 480, 640)\n",
      "\n",
      "0: 480x640 1 Unripe, 22.8ms\n",
      "Speed: 1.2ms preprocess, 22.8ms inference, 2.8ms postprocess per image at shape (1, 3, 480, 640)\n",
      "tensor([177.8526, 181.1418, 335.8834, 341.5242], device='cuda:0')\n",
      "tensor(0., device='cuda:0')\n",
      "177 181 335 341\n",
      "\n",
      "0: 480x640 (no detections), 22.5ms\n",
      "Speed: 1.1ms preprocess, 22.5ms inference, 2.2ms postprocess per image at shape (1, 3, 480, 640)\n",
      "\n",
      "0: 480x640 (no detections), 22.7ms\n",
      "Speed: 1.0ms preprocess, 22.7ms inference, 2.3ms postprocess per image at shape (1, 3, 480, 640)\n",
      "\n",
      "0: 480x640 (no detections), 32.6ms\n",
      "Speed: 1.4ms preprocess, 32.6ms inference, 2.0ms postprocess per image at shape (1, 3, 480, 640)\n",
      "\n",
      "0: 480x640 (no detections), 20.7ms\n",
      "Speed: 1.2ms preprocess, 20.7ms inference, 3.2ms postprocess per image at shape (1, 3, 480, 640)\n",
      "\n",
      "0: 480x640 (no detections), 21.6ms\n",
      "Speed: 1.0ms preprocess, 21.6ms inference, 10.9ms postprocess per image at shape (1, 3, 480, 640)\n",
      "\n",
      "0: 480x640 (no detections), 21.3ms\n",
      "Speed: 1.0ms preprocess, 21.3ms inference, 2.1ms postprocess per image at shape (1, 3, 480, 640)\n",
      "\n",
      "0: 480x640 (no detections), 21.3ms\n",
      "Speed: 1.0ms preprocess, 21.3ms inference, 2.3ms postprocess per image at shape (1, 3, 480, 640)\n",
      "\n",
      "0: 480x640 (no detections), 21.7ms\n",
      "Speed: 1.0ms preprocess, 21.7ms inference, 3.1ms postprocess per image at shape (1, 3, 480, 640)\n",
      "\n",
      "0: 480x640 (no detections), 22.4ms\n",
      "Speed: 1.1ms preprocess, 22.4ms inference, 2.2ms postprocess per image at shape (1, 3, 480, 640)\n",
      "\n",
      "0: 480x640 (no detections), 23.1ms\n",
      "Speed: 1.5ms preprocess, 23.1ms inference, 2.2ms postprocess per image at shape (1, 3, 480, 640)\n",
      "\n",
      "0: 480x640 (no detections), 22.9ms\n",
      "Speed: 1.0ms preprocess, 22.9ms inference, 2.5ms postprocess per image at shape (1, 3, 480, 640)\n",
      "\n",
      "0: 480x640 (no detections), 22.1ms\n",
      "Speed: 1.0ms preprocess, 22.1ms inference, 1.9ms postprocess per image at shape (1, 3, 480, 640)\n",
      "\n",
      "0: 480x640 (no detections), 21.6ms\n",
      "Speed: 1.0ms preprocess, 21.6ms inference, 2.4ms postprocess per image at shape (1, 3, 480, 640)\n",
      "\n",
      "0: 480x640 (no detections), 23.0ms\n",
      "Speed: 1.0ms preprocess, 23.0ms inference, 2.6ms postprocess per image at shape (1, 3, 480, 640)\n",
      "\n",
      "0: 480x640 (no detections), 23.2ms\n",
      "Speed: 1.0ms preprocess, 23.2ms inference, 2.1ms postprocess per image at shape (1, 3, 480, 640)\n",
      "\n",
      "0: 480x640 (no detections), 22.3ms\n",
      "Speed: 1.2ms preprocess, 22.3ms inference, 2.7ms postprocess per image at shape (1, 3, 480, 640)\n",
      "\n",
      "0: 480x640 (no detections), 21.3ms\n",
      "Speed: 1.4ms preprocess, 21.3ms inference, 2.8ms postprocess per image at shape (1, 3, 480, 640)\n",
      "\n",
      "0: 480x640 (no detections), 21.8ms\n",
      "Speed: 1.5ms preprocess, 21.8ms inference, 2.5ms postprocess per image at shape (1, 3, 480, 640)\n",
      "\n",
      "0: 480x640 (no detections), 21.3ms\n",
      "Speed: 2.0ms preprocess, 21.3ms inference, 2.2ms postprocess per image at shape (1, 3, 480, 640)\n",
      "\n",
      "0: 480x640 (no detections), 22.1ms\n",
      "Speed: 1.4ms preprocess, 22.1ms inference, 3.0ms postprocess per image at shape (1, 3, 480, 640)\n",
      "\n",
      "0: 480x640 (no detections), 22.5ms\n",
      "Speed: 1.3ms preprocess, 22.5ms inference, 2.4ms postprocess per image at shape (1, 3, 480, 640)\n",
      "\n",
      "0: 480x640 (no detections), 23.2ms\n",
      "Speed: 1.0ms preprocess, 23.2ms inference, 2.1ms postprocess per image at shape (1, 3, 480, 640)\n",
      "\n",
      "0: 480x640 (no detections), 23.0ms\n",
      "Speed: 1.1ms preprocess, 23.0ms inference, 2.0ms postprocess per image at shape (1, 3, 480, 640)\n",
      "\n",
      "0: 480x640 (no detections), 21.7ms\n",
      "Speed: 1.3ms preprocess, 21.7ms inference, 2.4ms postprocess per image at shape (1, 3, 480, 640)\n",
      "\n",
      "0: 480x640 (no detections), 22.2ms\n",
      "Speed: 1.0ms preprocess, 22.2ms inference, 2.2ms postprocess per image at shape (1, 3, 480, 640)\n",
      "\n",
      "0: 480x640 (no detections), 21.6ms\n",
      "Speed: 1.0ms preprocess, 21.6ms inference, 2.7ms postprocess per image at shape (1, 3, 480, 640)\n",
      "\n",
      "0: 480x640 (no detections), 22.0ms\n",
      "Speed: 1.0ms preprocess, 22.0ms inference, 2.2ms postprocess per image at shape (1, 3, 480, 640)\n",
      "\n",
      "0: 480x640 (no detections), 23.2ms\n",
      "Speed: 1.4ms preprocess, 23.2ms inference, 1.9ms postprocess per image at shape (1, 3, 480, 640)\n",
      "\n",
      "0: 480x640 (no detections), 23.2ms\n",
      "Speed: 1.2ms preprocess, 23.2ms inference, 3.1ms postprocess per image at shape (1, 3, 480, 640)\n",
      "\n",
      "0: 480x640 (no detections), 22.3ms\n",
      "Speed: 1.4ms preprocess, 22.3ms inference, 2.9ms postprocess per image at shape (1, 3, 480, 640)\n",
      "\n",
      "0: 480x640 (no detections), 22.3ms\n",
      "Speed: 1.2ms preprocess, 22.3ms inference, 2.7ms postprocess per image at shape (1, 3, 480, 640)\n",
      "\n",
      "0: 480x640 (no detections), 20.3ms\n",
      "Speed: 1.3ms preprocess, 20.3ms inference, 4.2ms postprocess per image at shape (1, 3, 480, 640)\n",
      "\n",
      "0: 480x640 (no detections), 20.7ms\n",
      "Speed: 1.1ms preprocess, 20.7ms inference, 3.4ms postprocess per image at shape (1, 3, 480, 640)\n",
      "\n",
      "0: 480x640 (no detections), 22.0ms\n",
      "Speed: 1.1ms preprocess, 22.0ms inference, 3.6ms postprocess per image at shape (1, 3, 480, 640)\n",
      "\n",
      "0: 480x640 (no detections), 20.7ms\n",
      "Speed: 1.9ms preprocess, 20.7ms inference, 4.3ms postprocess per image at shape (1, 3, 480, 640)\n",
      "\n",
      "0: 480x640 (no detections), 22.2ms\n",
      "Speed: 1.0ms preprocess, 22.2ms inference, 3.5ms postprocess per image at shape (1, 3, 480, 640)\n",
      "\n",
      "0: 480x640 (no detections), 22.9ms\n",
      "Speed: 1.1ms preprocess, 22.9ms inference, 3.3ms postprocess per image at shape (1, 3, 480, 640)\n",
      "\n",
      "0: 480x640 (no detections), 22.5ms\n",
      "Speed: 1.7ms preprocess, 22.5ms inference, 4.3ms postprocess per image at shape (1, 3, 480, 640)\n",
      "\n",
      "0: 480x640 (no detections), 22.5ms\n",
      "Speed: 1.0ms preprocess, 22.5ms inference, 5.6ms postprocess per image at shape (1, 3, 480, 640)\n",
      "\n",
      "0: 480x640 (no detections), 21.9ms\n",
      "Speed: 1.0ms preprocess, 21.9ms inference, 3.3ms postprocess per image at shape (1, 3, 480, 640)\n",
      "\n",
      "0: 480x640 (no detections), 22.4ms\n",
      "Speed: 1.1ms preprocess, 22.4ms inference, 3.9ms postprocess per image at shape (1, 3, 480, 640)\n",
      "\n",
      "0: 480x640 (no detections), 22.0ms\n",
      "Speed: 1.2ms preprocess, 22.0ms inference, 4.4ms postprocess per image at shape (1, 3, 480, 640)\n",
      "\n",
      "0: 480x640 (no detections), 21.7ms\n",
      "Speed: 1.2ms preprocess, 21.7ms inference, 5.0ms postprocess per image at shape (1, 3, 480, 640)\n",
      "\n",
      "0: 480x640 (no detections), 21.4ms\n",
      "Speed: 1.2ms preprocess, 21.4ms inference, 3.3ms postprocess per image at shape (1, 3, 480, 640)\n",
      "\n",
      "0: 480x640 (no detections), 21.5ms\n",
      "Speed: 1.2ms preprocess, 21.5ms inference, 5.3ms postprocess per image at shape (1, 3, 480, 640)\n",
      "\n",
      "0: 480x640 (no detections), 21.2ms\n",
      "Speed: 1.4ms preprocess, 21.2ms inference, 3.7ms postprocess per image at shape (1, 3, 480, 640)\n",
      "\n",
      "0: 480x640 (no detections), 21.8ms\n",
      "Speed: 1.1ms preprocess, 21.8ms inference, 4.5ms postprocess per image at shape (1, 3, 480, 640)\n",
      "\n",
      "0: 480x640 (no detections), 21.8ms\n",
      "Speed: 1.0ms preprocess, 21.8ms inference, 3.6ms postprocess per image at shape (1, 3, 480, 640)\n",
      "\n",
      "0: 480x640 (no detections), 21.5ms\n",
      "Speed: 1.1ms preprocess, 21.5ms inference, 3.3ms postprocess per image at shape (1, 3, 480, 640)\n",
      "\n",
      "0: 480x640 (no detections), 21.5ms\n",
      "Speed: 0.9ms preprocess, 21.5ms inference, 3.5ms postprocess per image at shape (1, 3, 480, 640)\n",
      "\n",
      "0: 480x640 (no detections), 21.5ms\n",
      "Speed: 1.0ms preprocess, 21.5ms inference, 4.0ms postprocess per image at shape (1, 3, 480, 640)\n",
      "\n",
      "0: 480x640 (no detections), 22.2ms\n",
      "Speed: 0.9ms preprocess, 22.2ms inference, 3.2ms postprocess per image at shape (1, 3, 480, 640)\n",
      "\n",
      "0: 480x640 (no detections), 23.2ms\n",
      "Speed: 0.9ms preprocess, 23.2ms inference, 3.0ms postprocess per image at shape (1, 3, 480, 640)\n",
      "\n",
      "0: 480x640 (no detections), 22.9ms\n",
      "Speed: 1.0ms preprocess, 22.9ms inference, 3.0ms postprocess per image at shape (1, 3, 480, 640)\n",
      "\n",
      "0: 480x640 (no detections), 22.5ms\n",
      "Speed: 0.9ms preprocess, 22.5ms inference, 3.3ms postprocess per image at shape (1, 3, 480, 640)\n",
      "\n",
      "0: 480x640 (no detections), 21.9ms\n",
      "Speed: 0.9ms preprocess, 21.9ms inference, 3.9ms postprocess per image at shape (1, 3, 480, 640)\n",
      "\n",
      "0: 480x640 (no detections), 21.6ms\n",
      "Speed: 1.1ms preprocess, 21.6ms inference, 10.3ms postprocess per image at shape (1, 3, 480, 640)\n",
      "\n",
      "0: 480x640 (no detections), 21.9ms\n",
      "Speed: 1.0ms preprocess, 21.9ms inference, 1.9ms postprocess per image at shape (1, 3, 480, 640)\n",
      "\n",
      "0: 480x640 (no detections), 21.7ms\n",
      "Speed: 1.2ms preprocess, 21.7ms inference, 8.6ms postprocess per image at shape (1, 3, 480, 640)\n",
      "\n",
      "0: 480x640 (no detections), 20.0ms\n",
      "Speed: 1.7ms preprocess, 20.0ms inference, 3.7ms postprocess per image at shape (1, 3, 480, 640)\n",
      "\n",
      "0: 480x640 (no detections), 21.7ms\n",
      "Speed: 1.4ms preprocess, 21.7ms inference, 3.5ms postprocess per image at shape (1, 3, 480, 640)\n",
      "\n",
      "0: 480x640 (no detections), 21.9ms\n",
      "Speed: 1.0ms preprocess, 21.9ms inference, 2.4ms postprocess per image at shape (1, 3, 480, 640)\n",
      "\n",
      "0: 480x640 (no detections), 23.4ms\n",
      "Speed: 1.4ms preprocess, 23.4ms inference, 2.2ms postprocess per image at shape (1, 3, 480, 640)\n",
      "\n",
      "0: 480x640 (no detections), 23.1ms\n",
      "Speed: 1.0ms preprocess, 23.1ms inference, 2.2ms postprocess per image at shape (1, 3, 480, 640)\n",
      "\n",
      "0: 480x640 (no detections), 22.8ms\n",
      "Speed: 1.0ms preprocess, 22.8ms inference, 2.1ms postprocess per image at shape (1, 3, 480, 640)\n",
      "\n",
      "0: 480x640 (no detections), 22.0ms\n",
      "Speed: 1.0ms preprocess, 22.0ms inference, 2.9ms postprocess per image at shape (1, 3, 480, 640)\n",
      "\n",
      "0: 480x640 (no detections), 21.7ms\n",
      "Speed: 1.0ms preprocess, 21.7ms inference, 2.4ms postprocess per image at shape (1, 3, 480, 640)\n",
      "\n",
      "0: 480x640 (no detections), 23.0ms\n",
      "Speed: 0.9ms preprocess, 23.0ms inference, 2.0ms postprocess per image at shape (1, 3, 480, 640)\n",
      "\n",
      "0: 480x640 (no detections), 23.2ms\n",
      "Speed: 1.1ms preprocess, 23.2ms inference, 4.7ms postprocess per image at shape (1, 3, 480, 640)\n",
      "\n",
      "0: 480x640 (no detections), 21.7ms\n",
      "Speed: 1.6ms preprocess, 21.7ms inference, 2.6ms postprocess per image at shape (1, 3, 480, 640)\n",
      "\n",
      "0: 480x640 (no detections), 22.4ms\n",
      "Speed: 1.2ms preprocess, 22.4ms inference, 2.6ms postprocess per image at shape (1, 3, 480, 640)\n",
      "\n",
      "0: 480x640 (no detections), 21.7ms\n",
      "Speed: 1.3ms preprocess, 21.7ms inference, 7.2ms postprocess per image at shape (1, 3, 480, 640)\n",
      "\n",
      "0: 480x640 (no detections), 20.4ms\n",
      "Speed: 2.3ms preprocess, 20.4ms inference, 2.8ms postprocess per image at shape (1, 3, 480, 640)\n",
      "\n",
      "0: 480x640 (no detections), 22.0ms\n",
      "Speed: 1.1ms preprocess, 22.0ms inference, 2.1ms postprocess per image at shape (1, 3, 480, 640)\n",
      "\n",
      "0: 480x640 (no detections), 23.1ms\n",
      "Speed: 1.2ms preprocess, 23.1ms inference, 2.7ms postprocess per image at shape (1, 3, 480, 640)\n",
      "\n",
      "0: 480x640 (no detections), 22.7ms\n",
      "Speed: 1.4ms preprocess, 22.7ms inference, 2.3ms postprocess per image at shape (1, 3, 480, 640)\n",
      "\n",
      "0: 480x640 (no detections), 22.6ms\n",
      "Speed: 1.7ms preprocess, 22.6ms inference, 2.1ms postprocess per image at shape (1, 3, 480, 640)\n",
      "\n",
      "0: 480x640 (no detections), 21.9ms\n",
      "Speed: 1.1ms preprocess, 21.9ms inference, 2.1ms postprocess per image at shape (1, 3, 480, 640)\n",
      "\n",
      "0: 480x640 (no detections), 21.4ms\n",
      "Speed: 1.0ms preprocess, 21.4ms inference, 2.7ms postprocess per image at shape (1, 3, 480, 640)\n",
      "\n",
      "0: 480x640 (no detections), 21.8ms\n",
      "Speed: 1.5ms preprocess, 21.8ms inference, 2.1ms postprocess per image at shape (1, 3, 480, 640)\n",
      "\n",
      "0: 480x640 (no detections), 21.7ms\n",
      "Speed: 1.2ms preprocess, 21.7ms inference, 2.1ms postprocess per image at shape (1, 3, 480, 640)\n",
      "\n",
      "0: 480x640 (no detections), 22.4ms\n",
      "Speed: 1.0ms preprocess, 22.4ms inference, 2.3ms postprocess per image at shape (1, 3, 480, 640)\n",
      "\n",
      "0: 480x640 (no detections), 23.5ms\n",
      "Speed: 1.0ms preprocess, 23.5ms inference, 11.1ms postprocess per image at shape (1, 3, 480, 640)\n",
      "\n",
      "0: 480x640 (no detections), 21.2ms\n",
      "Speed: 1.2ms preprocess, 21.2ms inference, 2.2ms postprocess per image at shape (1, 3, 480, 640)\n",
      "\n",
      "0: 480x640 (no detections), 23.2ms\n",
      "Speed: 1.0ms preprocess, 23.2ms inference, 2.1ms postprocess per image at shape (1, 3, 480, 640)\n",
      "\n",
      "0: 480x640 (no detections), 22.3ms\n",
      "Speed: 1.2ms preprocess, 22.3ms inference, 2.8ms postprocess per image at shape (1, 3, 480, 640)\n",
      "\n",
      "0: 480x640 (no detections), 21.7ms\n",
      "Speed: 1.2ms preprocess, 21.7ms inference, 2.4ms postprocess per image at shape (1, 3, 480, 640)\n",
      "\n",
      "0: 480x640 (no detections), 21.9ms\n",
      "Speed: 3.6ms preprocess, 21.9ms inference, 2.2ms postprocess per image at shape (1, 3, 480, 640)\n",
      "\n",
      "0: 480x640 (no detections), 21.7ms\n",
      "Speed: 1.1ms preprocess, 21.7ms inference, 2.5ms postprocess per image at shape (1, 3, 480, 640)\n",
      "\n",
      "0: 480x640 (no detections), 21.7ms\n",
      "Speed: 1.3ms preprocess, 21.7ms inference, 2.1ms postprocess per image at shape (1, 3, 480, 640)\n",
      "\n",
      "0: 480x640 (no detections), 21.9ms\n",
      "Speed: 1.4ms preprocess, 21.9ms inference, 2.6ms postprocess per image at shape (1, 3, 480, 640)\n",
      "\n",
      "0: 480x640 (no detections), 22.3ms\n",
      "Speed: 1.0ms preprocess, 22.3ms inference, 2.6ms postprocess per image at shape (1, 3, 480, 640)\n",
      "\n",
      "0: 480x640 (no detections), 23.2ms\n",
      "Speed: 1.0ms preprocess, 23.2ms inference, 2.8ms postprocess per image at shape (1, 3, 480, 640)\n",
      "\n",
      "0: 480x640 (no detections), 23.0ms\n",
      "Speed: 1.1ms preprocess, 23.0ms inference, 2.2ms postprocess per image at shape (1, 3, 480, 640)\n",
      "\n",
      "0: 480x640 (no detections), 22.8ms\n",
      "Speed: 1.6ms preprocess, 22.8ms inference, 2.2ms postprocess per image at shape (1, 3, 480, 640)\n",
      "\n",
      "0: 480x640 (no detections), 22.0ms\n",
      "Speed: 1.4ms preprocess, 22.0ms inference, 2.6ms postprocess per image at shape (1, 3, 480, 640)\n",
      "\n",
      "0: 480x640 (no detections), 21.6ms\n",
      "Speed: 1.0ms preprocess, 21.6ms inference, 2.3ms postprocess per image at shape (1, 3, 480, 640)\n",
      "\n",
      "0: 480x640 (no detections), 21.9ms\n",
      "Speed: 1.0ms preprocess, 21.9ms inference, 2.7ms postprocess per image at shape (1, 3, 480, 640)\n",
      "\n",
      "0: 480x640 (no detections), 24.2ms\n",
      "Speed: 0.9ms preprocess, 24.2ms inference, 2.6ms postprocess per image at shape (1, 3, 480, 640)\n",
      "\n",
      "0: 480x640 (no detections), 20.7ms\n",
      "Speed: 6.3ms preprocess, 20.7ms inference, 2.5ms postprocess per image at shape (1, 3, 480, 640)\n",
      "\n",
      "0: 480x640 (no detections), 20.5ms\n",
      "Speed: 1.1ms preprocess, 20.5ms inference, 2.8ms postprocess per image at shape (1, 3, 480, 640)\n",
      "\n",
      "0: 480x640 (no detections), 21.6ms\n",
      "Speed: 1.0ms preprocess, 21.6ms inference, 2.4ms postprocess per image at shape (1, 3, 480, 640)\n",
      "\n",
      "0: 480x640 (no detections), 22.3ms\n",
      "Speed: 1.1ms preprocess, 22.3ms inference, 2.2ms postprocess per image at shape (1, 3, 480, 640)\n",
      "\n",
      "0: 480x640 (no detections), 23.5ms\n",
      "Speed: 1.0ms preprocess, 23.5ms inference, 2.1ms postprocess per image at shape (1, 3, 480, 640)\n",
      "\n",
      "0: 480x640 (no detections), 23.1ms\n",
      "Speed: 1.1ms preprocess, 23.1ms inference, 2.2ms postprocess per image at shape (1, 3, 480, 640)\n",
      "\n",
      "0: 480x640 (no detections), 22.3ms\n",
      "Speed: 1.0ms preprocess, 22.3ms inference, 2.1ms postprocess per image at shape (1, 3, 480, 640)\n",
      "\n",
      "0: 480x640 (no detections), 21.7ms\n",
      "Speed: 1.1ms preprocess, 21.7ms inference, 2.1ms postprocess per image at shape (1, 3, 480, 640)\n",
      "\n",
      "0: 480x640 (no detections), 22.4ms\n",
      "Speed: 1.0ms preprocess, 22.4ms inference, 2.3ms postprocess per image at shape (1, 3, 480, 640)\n",
      "\n",
      "0: 480x640 (no detections), 23.3ms\n",
      "Speed: 1.2ms preprocess, 23.3ms inference, 12.6ms postprocess per image at shape (1, 3, 480, 640)\n",
      "\n",
      "0: 480x640 (no detections), 20.9ms\n",
      "Speed: 1.1ms preprocess, 20.9ms inference, 2.5ms postprocess per image at shape (1, 3, 480, 640)\n",
      "\n",
      "0: 480x640 (no detections), 21.5ms\n",
      "Speed: 1.0ms preprocess, 21.5ms inference, 2.3ms postprocess per image at shape (1, 3, 480, 640)\n",
      "\n",
      "0: 480x640 (no detections), 21.7ms\n",
      "Speed: 1.1ms preprocess, 21.7ms inference, 2.3ms postprocess per image at shape (1, 3, 480, 640)\n",
      "\n",
      "0: 480x640 (no detections), 22.8ms\n",
      "Speed: 1.0ms preprocess, 22.8ms inference, 2.6ms postprocess per image at shape (1, 3, 480, 640)\n",
      "\n",
      "0: 480x640 (no detections), 36.7ms\n",
      "Speed: 2.0ms preprocess, 36.7ms inference, 2.6ms postprocess per image at shape (1, 3, 480, 640)\n",
      "\n",
      "0: 480x640 (no detections), 20.1ms\n",
      "Speed: 1.1ms preprocess, 20.1ms inference, 2.3ms postprocess per image at shape (1, 3, 480, 640)\n",
      "\n",
      "0: 480x640 (no detections), 22.8ms\n",
      "Speed: 1.2ms preprocess, 22.8ms inference, 2.5ms postprocess per image at shape (1, 3, 480, 640)\n",
      "\n",
      "0: 480x640 (no detections), 23.0ms\n",
      "Speed: 1.3ms preprocess, 23.0ms inference, 2.1ms postprocess per image at shape (1, 3, 480, 640)\n",
      "\n",
      "0: 480x640 (no detections), 22.5ms\n",
      "Speed: 1.1ms preprocess, 22.5ms inference, 2.2ms postprocess per image at shape (1, 3, 480, 640)\n",
      "\n",
      "0: 480x640 (no detections), 21.6ms\n",
      "Speed: 1.1ms preprocess, 21.6ms inference, 2.3ms postprocess per image at shape (1, 3, 480, 640)\n",
      "\n",
      "0: 480x640 (no detections), 21.6ms\n",
      "Speed: 1.3ms preprocess, 21.6ms inference, 2.4ms postprocess per image at shape (1, 3, 480, 640)\n",
      "\n",
      "0: 480x640 (no detections), 21.6ms\n",
      "Speed: 1.3ms preprocess, 21.6ms inference, 2.1ms postprocess per image at shape (1, 3, 480, 640)\n",
      "\n",
      "0: 480x640 (no detections), 21.7ms\n",
      "Speed: 1.2ms preprocess, 21.7ms inference, 2.6ms postprocess per image at shape (1, 3, 480, 640)\n",
      "\n",
      "0: 480x640 (no detections), 21.7ms\n",
      "Speed: 1.2ms preprocess, 21.7ms inference, 2.5ms postprocess per image at shape (1, 3, 480, 640)\n",
      "\n",
      "0: 480x640 (no detections), 22.4ms\n",
      "Speed: 1.2ms preprocess, 22.4ms inference, 2.2ms postprocess per image at shape (1, 3, 480, 640)\n",
      "\n",
      "0: 480x640 (no detections), 23.3ms\n",
      "Speed: 1.2ms preprocess, 23.3ms inference, 2.1ms postprocess per image at shape (1, 3, 480, 640)\n",
      "\n",
      "0: 480x640 (no detections), 23.1ms\n",
      "Speed: 1.0ms preprocess, 23.1ms inference, 2.2ms postprocess per image at shape (1, 3, 480, 640)\n",
      "\n",
      "0: 480x640 (no detections), 22.2ms\n",
      "Speed: 1.2ms preprocess, 22.2ms inference, 3.1ms postprocess per image at shape (1, 3, 480, 640)\n",
      "\n",
      "0: 480x640 (no detections), 22.7ms\n",
      "Speed: 1.7ms preprocess, 22.7ms inference, 16.3ms postprocess per image at shape (1, 3, 480, 640)\n",
      "\n",
      "0: 480x640 (no detections), 20.0ms\n",
      "Speed: 1.6ms preprocess, 20.0ms inference, 2.3ms postprocess per image at shape (1, 3, 480, 640)\n",
      "\n",
      "0: 480x640 (no detections), 22.4ms\n",
      "Speed: 1.3ms preprocess, 22.4ms inference, 2.3ms postprocess per image at shape (1, 3, 480, 640)\n",
      "\n",
      "0: 480x640 (no detections), 22.8ms\n",
      "Speed: 1.4ms preprocess, 22.8ms inference, 2.4ms postprocess per image at shape (1, 3, 480, 640)\n",
      "\n",
      "0: 480x640 (no detections), 23.0ms\n",
      "Speed: 1.2ms preprocess, 23.0ms inference, 2.4ms postprocess per image at shape (1, 3, 480, 640)\n",
      "\n",
      "0: 480x640 (no detections), 22.4ms\n",
      "Speed: 1.3ms preprocess, 22.4ms inference, 2.2ms postprocess per image at shape (1, 3, 480, 640)\n",
      "\n",
      "0: 480x640 (no detections), 21.8ms\n",
      "Speed: 1.1ms preprocess, 21.8ms inference, 2.3ms postprocess per image at shape (1, 3, 480, 640)\n",
      "\n",
      "0: 480x640 (no detections), 21.6ms\n",
      "Speed: 1.1ms preprocess, 21.6ms inference, 2.2ms postprocess per image at shape (1, 3, 480, 640)\n",
      "\n",
      "0: 480x640 (no detections), 21.7ms\n",
      "Speed: 1.2ms preprocess, 21.7ms inference, 2.3ms postprocess per image at shape (1, 3, 480, 640)\n",
      "\n",
      "0: 480x640 (no detections), 21.7ms\n",
      "Speed: 1.2ms preprocess, 21.7ms inference, 2.3ms postprocess per image at shape (1, 3, 480, 640)\n",
      "\n",
      "0: 480x640 (no detections), 23.3ms\n",
      "Speed: 1.0ms preprocess, 23.3ms inference, 2.2ms postprocess per image at shape (1, 3, 480, 640)\n",
      "\n",
      "0: 480x640 (no detections), 23.2ms\n",
      "Speed: 1.0ms preprocess, 23.2ms inference, 2.5ms postprocess per image at shape (1, 3, 480, 640)\n",
      "\n",
      "0: 480x640 (no detections), 20.9ms\n",
      "Speed: 1.6ms preprocess, 20.9ms inference, 2.7ms postprocess per image at shape (1, 3, 480, 640)\n",
      "\n",
      "0: 480x640 (no detections), 28.1ms\n",
      "Speed: 1.5ms preprocess, 28.1ms inference, 3.6ms postprocess per image at shape (1, 3, 480, 640)\n",
      "\n",
      "0: 480x640 (no detections), 21.4ms\n",
      "Speed: 1.3ms preprocess, 21.4ms inference, 2.7ms postprocess per image at shape (1, 3, 480, 640)\n",
      "\n",
      "0: 480x640 (no detections), 22.3ms\n",
      "Speed: 1.2ms preprocess, 22.3ms inference, 2.4ms postprocess per image at shape (1, 3, 480, 640)\n",
      "\n",
      "0: 480x640 (no detections), 21.8ms\n",
      "Speed: 1.0ms preprocess, 21.8ms inference, 2.7ms postprocess per image at shape (1, 3, 480, 640)\n",
      "\n",
      "0: 480x640 (no detections), 21.5ms\n",
      "Speed: 1.1ms preprocess, 21.5ms inference, 2.3ms postprocess per image at shape (1, 3, 480, 640)\n",
      "\n",
      "0: 480x640 (no detections), 22.0ms\n",
      "Speed: 1.3ms preprocess, 22.0ms inference, 2.5ms postprocess per image at shape (1, 3, 480, 640)\n",
      "\n",
      "0: 480x640 (no detections), 22.8ms\n",
      "Speed: 1.2ms preprocess, 22.8ms inference, 2.4ms postprocess per image at shape (1, 3, 480, 640)\n",
      "\n",
      "0: 480x640 (no detections), 25.0ms\n",
      "Speed: 1.3ms preprocess, 25.0ms inference, 2.7ms postprocess per image at shape (1, 3, 480, 640)\n",
      "\n",
      "0: 480x640 (no detections), 22.2ms\n",
      "Speed: 1.2ms preprocess, 22.2ms inference, 3.2ms postprocess per image at shape (1, 3, 480, 640)\n",
      "\n",
      "0: 480x640 (no detections), 22.7ms\n",
      "Speed: 1.0ms preprocess, 22.7ms inference, 2.3ms postprocess per image at shape (1, 3, 480, 640)\n",
      "\n",
      "0: 480x640 (no detections), 22.9ms\n",
      "Speed: 1.4ms preprocess, 22.9ms inference, 2.2ms postprocess per image at shape (1, 3, 480, 640)\n",
      "\n",
      "0: 480x640 (no detections), 22.2ms\n",
      "Speed: 1.0ms preprocess, 22.2ms inference, 2.4ms postprocess per image at shape (1, 3, 480, 640)\n",
      "\n",
      "0: 480x640 (no detections), 21.6ms\n",
      "Speed: 1.0ms preprocess, 21.6ms inference, 2.4ms postprocess per image at shape (1, 3, 480, 640)\n",
      "\n",
      "0: 480x640 (no detections), 22.3ms\n",
      "Speed: 1.0ms preprocess, 22.3ms inference, 2.7ms postprocess per image at shape (1, 3, 480, 640)\n",
      "\n",
      "0: 480x640 (no detections), 23.4ms\n",
      "Speed: 0.9ms preprocess, 23.4ms inference, 2.8ms postprocess per image at shape (1, 3, 480, 640)\n",
      "\n",
      "0: 480x640 (no detections), 19.9ms\n",
      "Speed: 1.6ms preprocess, 19.9ms inference, 2.8ms postprocess per image at shape (1, 3, 480, 640)\n",
      "\n",
      "0: 480x640 (no detections), 21.1ms\n",
      "Speed: 1.6ms preprocess, 21.1ms inference, 3.2ms postprocess per image at shape (1, 3, 480, 640)\n",
      "\n",
      "0: 480x640 (no detections), 21.7ms\n",
      "Speed: 1.2ms preprocess, 21.7ms inference, 2.6ms postprocess per image at shape (1, 3, 480, 640)\n",
      "\n",
      "0: 480x640 (no detections), 21.6ms\n",
      "Speed: 1.4ms preprocess, 21.6ms inference, 2.7ms postprocess per image at shape (1, 3, 480, 640)\n",
      "\n",
      "0: 480x640 (no detections), 20.9ms\n",
      "Speed: 1.4ms preprocess, 20.9ms inference, 4.5ms postprocess per image at shape (1, 3, 480, 640)\n",
      "\n",
      "0: 480x640 (no detections), 21.9ms\n",
      "Speed: 1.3ms preprocess, 21.9ms inference, 4.3ms postprocess per image at shape (1, 3, 480, 640)\n",
      "\n",
      "0: 480x640 (no detections), 22.5ms\n",
      "Speed: 1.3ms preprocess, 22.5ms inference, 3.6ms postprocess per image at shape (1, 3, 480, 640)\n",
      "\n",
      "0: 480x640 (no detections), 22.9ms\n",
      "Speed: 1.0ms preprocess, 22.9ms inference, 3.8ms postprocess per image at shape (1, 3, 480, 640)\n",
      "\n",
      "0: 480x640 (no detections), 22.9ms\n",
      "Speed: 1.0ms preprocess, 22.9ms inference, 4.5ms postprocess per image at shape (1, 3, 480, 640)\n",
      "\n",
      "0: 480x640 (no detections), 22.5ms\n",
      "Speed: 1.0ms preprocess, 22.5ms inference, 4.4ms postprocess per image at shape (1, 3, 480, 640)\n",
      "\n",
      "0: 480x640 (no detections), 22.3ms\n",
      "Speed: 1.0ms preprocess, 22.3ms inference, 4.2ms postprocess per image at shape (1, 3, 480, 640)\n",
      "\n",
      "0: 480x640 (no detections), 22.2ms\n",
      "Speed: 0.9ms preprocess, 22.2ms inference, 5.4ms postprocess per image at shape (1, 3, 480, 640)\n",
      "\n",
      "0: 480x640 (no detections), 21.6ms\n",
      "Speed: 1.5ms preprocess, 21.6ms inference, 3.6ms postprocess per image at shape (1, 3, 480, 640)\n",
      "\n",
      "0: 480x640 (no detections), 21.8ms\n",
      "Speed: 0.9ms preprocess, 21.8ms inference, 5.9ms postprocess per image at shape (1, 3, 480, 640)\n",
      "\n",
      "0: 480x640 (no detections), 21.4ms\n",
      "Speed: 1.4ms preprocess, 21.4ms inference, 5.5ms postprocess per image at shape (1, 3, 480, 640)\n",
      "\n",
      "0: 480x640 (no detections), 21.4ms\n",
      "Speed: 1.0ms preprocess, 21.4ms inference, 3.3ms postprocess per image at shape (1, 3, 480, 640)\n",
      "\n",
      "0: 480x640 (no detections), 21.8ms\n",
      "Speed: 1.0ms preprocess, 21.8ms inference, 3.9ms postprocess per image at shape (1, 3, 480, 640)\n",
      "\n",
      "0: 480x640 (no detections), 21.5ms\n",
      "Speed: 0.9ms preprocess, 21.5ms inference, 3.5ms postprocess per image at shape (1, 3, 480, 640)\n",
      "\n",
      "0: 480x640 (no detections), 21.9ms\n",
      "Speed: 1.0ms preprocess, 21.9ms inference, 3.4ms postprocess per image at shape (1, 3, 480, 640)\n",
      "\n",
      "0: 480x640 (no detections), 23.1ms\n",
      "Speed: 1.0ms preprocess, 23.1ms inference, 2.8ms postprocess per image at shape (1, 3, 480, 640)\n",
      "\n",
      "0: 480x640 (no detections), 23.2ms\n",
      "Speed: 1.0ms preprocess, 23.2ms inference, 4.8ms postprocess per image at shape (1, 3, 480, 640)\n",
      "\n",
      "0: 480x640 (no detections), 21.9ms\n",
      "Speed: 1.5ms preprocess, 21.9ms inference, 3.0ms postprocess per image at shape (1, 3, 480, 640)\n",
      "\n",
      "0: 480x640 (no detections), 23.0ms\n",
      "Speed: 1.0ms preprocess, 23.0ms inference, 3.1ms postprocess per image at shape (1, 3, 480, 640)\n",
      "\n",
      "0: 480x640 (no detections), 22.4ms\n",
      "Speed: 0.9ms preprocess, 22.4ms inference, 2.9ms postprocess per image at shape (1, 3, 480, 640)\n",
      "\n",
      "0: 480x640 (no detections), 21.7ms\n",
      "Speed: 0.9ms preprocess, 21.7ms inference, 3.2ms postprocess per image at shape (1, 3, 480, 640)\n",
      "\n",
      "0: 480x640 (no detections), 21.9ms\n",
      "Speed: 0.9ms preprocess, 21.9ms inference, 3.8ms postprocess per image at shape (1, 3, 480, 640)\n",
      "\n",
      "0: 480x640 (no detections), 23.1ms\n",
      "Speed: 0.9ms preprocess, 23.1ms inference, 3.2ms postprocess per image at shape (1, 3, 480, 640)\n",
      "\n",
      "0: 480x640 (no detections), 23.1ms\n",
      "Speed: 0.9ms preprocess, 23.1ms inference, 3.6ms postprocess per image at shape (1, 3, 480, 640)\n",
      "\n",
      "0: 480x640 (no detections), 22.3ms\n",
      "Speed: 1.6ms preprocess, 22.3ms inference, 5.3ms postprocess per image at shape (1, 3, 480, 640)\n",
      "\n",
      "0: 480x640 (no detections), 22.1ms\n",
      "Speed: 0.9ms preprocess, 22.1ms inference, 3.6ms postprocess per image at shape (1, 3, 480, 640)\n",
      "\n",
      "0: 480x640 (no detections), 20.9ms\n",
      "Speed: 1.5ms preprocess, 20.9ms inference, 11.8ms postprocess per image at shape (1, 3, 480, 640)\n",
      "\n",
      "0: 480x640 (no detections), 21.6ms\n",
      "Speed: 1.2ms preprocess, 21.6ms inference, 2.2ms postprocess per image at shape (1, 3, 480, 640)\n",
      "\n",
      "0: 480x640 (no detections), 21.8ms\n",
      "Speed: 1.0ms preprocess, 21.8ms inference, 2.3ms postprocess per image at shape (1, 3, 480, 640)\n",
      "\n",
      "0: 480x640 (no detections), 22.5ms\n",
      "Speed: 1.0ms preprocess, 22.5ms inference, 2.7ms postprocess per image at shape (1, 3, 480, 640)\n",
      "\n",
      "0: 480x640 (no detections), 23.3ms\n",
      "Speed: 1.1ms preprocess, 23.3ms inference, 2.5ms postprocess per image at shape (1, 3, 480, 640)\n",
      "\n",
      "0: 480x640 (no detections), 23.0ms\n",
      "Speed: 1.1ms preprocess, 23.0ms inference, 2.3ms postprocess per image at shape (1, 3, 480, 640)\n",
      "\n",
      "0: 480x640 (no detections), 22.1ms\n",
      "Speed: 1.1ms preprocess, 22.1ms inference, 2.0ms postprocess per image at shape (1, 3, 480, 640)\n",
      "\n",
      "0: 480x640 (no detections), 21.8ms\n",
      "Speed: 1.2ms preprocess, 21.8ms inference, 2.1ms postprocess per image at shape (1, 3, 480, 640)\n",
      "\n",
      "0: 480x640 (no detections), 23.1ms\n",
      "Speed: 1.1ms preprocess, 23.1ms inference, 2.1ms postprocess per image at shape (1, 3, 480, 640)\n",
      "\n",
      "0: 480x640 (no detections), 23.3ms\n",
      "Speed: 1.0ms preprocess, 23.3ms inference, 2.6ms postprocess per image at shape (1, 3, 480, 640)\n",
      "\n",
      "0: 480x640 (no detections), 22.9ms\n",
      "Speed: 1.0ms preprocess, 22.9ms inference, 3.0ms postprocess per image at shape (1, 3, 480, 640)\n",
      "\n",
      "0: 480x640 (no detections), 21.4ms\n",
      "Speed: 1.1ms preprocess, 21.4ms inference, 2.9ms postprocess per image at shape (1, 3, 480, 640)\n",
      "\n",
      "0: 480x640 (no detections), 20.6ms\n",
      "Speed: 1.6ms preprocess, 20.6ms inference, 2.5ms postprocess per image at shape (1, 3, 480, 640)\n",
      "\n",
      "0: 480x640 (no detections), 21.7ms\n",
      "Speed: 1.3ms preprocess, 21.7ms inference, 2.6ms postprocess per image at shape (1, 3, 480, 640)\n",
      "\n",
      "0: 480x640 (no detections), 21.7ms\n",
      "Speed: 1.1ms preprocess, 21.7ms inference, 2.1ms postprocess per image at shape (1, 3, 480, 640)\n",
      "\n",
      "0: 480x640 (no detections), 22.0ms\n",
      "Speed: 1.0ms preprocess, 22.0ms inference, 2.2ms postprocess per image at shape (1, 3, 480, 640)\n",
      "\n",
      "0: 480x640 (no detections), 23.4ms\n",
      "Speed: 1.0ms preprocess, 23.4ms inference, 2.2ms postprocess per image at shape (1, 3, 480, 640)\n",
      "\n",
      "0: 480x640 (no detections), 23.2ms\n",
      "Speed: 1.0ms preprocess, 23.2ms inference, 2.6ms postprocess per image at shape (1, 3, 480, 640)\n",
      "\n",
      "0: 480x640 (no detections), 22.4ms\n",
      "Speed: 1.1ms preprocess, 22.4ms inference, 2.1ms postprocess per image at shape (1, 3, 480, 640)\n",
      "\n",
      "0: 480x640 (no detections), 21.4ms\n",
      "Speed: 1.1ms preprocess, 21.4ms inference, 2.1ms postprocess per image at shape (1, 3, 480, 640)\n",
      "\n",
      "0: 480x640 (no detections), 22.3ms\n",
      "Speed: 1.1ms preprocess, 22.3ms inference, 2.8ms postprocess per image at shape (1, 3, 480, 640)\n",
      "\n",
      "0: 480x640 (no detections), 21.7ms\n",
      "Speed: 1.3ms preprocess, 21.7ms inference, 2.4ms postprocess per image at shape (1, 3, 480, 640)\n",
      "\n",
      "0: 480x640 (no detections), 21.7ms\n",
      "Speed: 1.2ms preprocess, 21.7ms inference, 2.2ms postprocess per image at shape (1, 3, 480, 640)\n",
      "\n",
      "0: 480x640 (no detections), 22.6ms\n",
      "Speed: 1.1ms preprocess, 22.6ms inference, 2.3ms postprocess per image at shape (1, 3, 480, 640)\n",
      "\n",
      "0: 480x640 (no detections), 23.2ms\n",
      "Speed: 1.1ms preprocess, 23.2ms inference, 2.8ms postprocess per image at shape (1, 3, 480, 640)\n",
      "\n",
      "0: 480x640 (no detections), 23.0ms\n",
      "Speed: 1.1ms preprocess, 23.0ms inference, 3.0ms postprocess per image at shape (1, 3, 480, 640)\n",
      "\n",
      "0: 480x640 (no detections), 19.8ms\n",
      "Speed: 1.4ms preprocess, 19.8ms inference, 4.5ms postprocess per image at shape (1, 3, 480, 640)\n",
      "\n",
      "0: 480x640 (no detections), 21.6ms\n",
      "Speed: 1.1ms preprocess, 21.6ms inference, 4.7ms postprocess per image at shape (1, 3, 480, 640)\n",
      "\n",
      "0: 480x640 (no detections), 21.9ms\n",
      "Speed: 3.9ms preprocess, 21.9ms inference, 3.9ms postprocess per image at shape (1, 3, 480, 640)\n",
      "\n",
      "0: 480x640 (no detections), 21.8ms\n",
      "Speed: 1.2ms preprocess, 21.8ms inference, 4.2ms postprocess per image at shape (1, 3, 480, 640)\n",
      "\n",
      "0: 480x640 (no detections), 21.8ms\n",
      "Speed: 1.0ms preprocess, 21.8ms inference, 4.0ms postprocess per image at shape (1, 3, 480, 640)\n",
      "\n",
      "0: 480x640 (no detections), 21.9ms\n",
      "Speed: 0.9ms preprocess, 21.9ms inference, 3.4ms postprocess per image at shape (1, 3, 480, 640)\n",
      "\n",
      "0: 480x640 (no detections), 22.3ms\n",
      "Speed: 1.4ms preprocess, 22.3ms inference, 3.3ms postprocess per image at shape (1, 3, 480, 640)\n",
      "\n",
      "0: 480x640 (no detections), 22.7ms\n",
      "Speed: 1.1ms preprocess, 22.7ms inference, 3.9ms postprocess per image at shape (1, 3, 480, 640)\n",
      "\n",
      "0: 480x640 (no detections), 23.0ms\n",
      "Speed: 1.0ms preprocess, 23.0ms inference, 4.4ms postprocess per image at shape (1, 3, 480, 640)\n",
      "\n",
      "0: 480x640 (no detections), 23.0ms\n",
      "Speed: 1.1ms preprocess, 23.0ms inference, 3.5ms postprocess per image at shape (1, 3, 480, 640)\n",
      "\n",
      "0: 480x640 (no detections), 22.9ms\n",
      "Speed: 1.0ms preprocess, 22.9ms inference, 3.5ms postprocess per image at shape (1, 3, 480, 640)\n",
      "\n",
      "0: 480x640 (no detections), 22.7ms\n",
      "Speed: 1.0ms preprocess, 22.7ms inference, 5.7ms postprocess per image at shape (1, 3, 480, 640)\n",
      "\n",
      "0: 480x640 (no detections), 20.8ms\n",
      "Speed: 1.3ms preprocess, 20.8ms inference, 6.7ms postprocess per image at shape (1, 3, 480, 640)\n",
      "\n",
      "0: 480x640 (no detections), 21.9ms\n",
      "Speed: 1.0ms preprocess, 21.9ms inference, 3.6ms postprocess per image at shape (1, 3, 480, 640)\n",
      "\n",
      "0: 480x640 (no detections), 22.9ms\n",
      "Speed: 1.3ms preprocess, 22.9ms inference, 3.2ms postprocess per image at shape (1, 3, 480, 640)\n",
      "\n",
      "0: 480x640 (no detections), 23.0ms\n",
      "Speed: 0.9ms preprocess, 23.0ms inference, 3.2ms postprocess per image at shape (1, 3, 480, 640)\n",
      "\n",
      "0: 480x640 (no detections), 23.0ms\n",
      "Speed: 0.9ms preprocess, 23.0ms inference, 3.8ms postprocess per image at shape (1, 3, 480, 640)\n",
      "\n",
      "0: 480x640 (no detections), 22.4ms\n",
      "Speed: 0.9ms preprocess, 22.4ms inference, 3.2ms postprocess per image at shape (1, 3, 480, 640)\n",
      "\n",
      "0: 480x640 (no detections), 22.0ms\n",
      "Speed: 1.2ms preprocess, 22.0ms inference, 3.0ms postprocess per image at shape (1, 3, 480, 640)\n",
      "\n",
      "0: 480x640 (no detections), 21.9ms\n",
      "Speed: 1.0ms preprocess, 21.9ms inference, 2.9ms postprocess per image at shape (1, 3, 480, 640)\n",
      "\n",
      "0: 480x640 (no detections), 22.6ms\n",
      "Speed: 1.0ms preprocess, 22.6ms inference, 5.7ms postprocess per image at shape (1, 3, 480, 640)\n",
      "\n",
      "0: 480x640 (no detections), 21.9ms\n",
      "Speed: 1.6ms preprocess, 21.9ms inference, 3.4ms postprocess per image at shape (1, 3, 480, 640)\n",
      "\n",
      "0: 480x640 (no detections), 22.7ms\n",
      "Speed: 1.1ms preprocess, 22.7ms inference, 3.1ms postprocess per image at shape (1, 3, 480, 640)\n",
      "\n",
      "0: 480x640 (no detections), 23.2ms\n",
      "Speed: 1.0ms preprocess, 23.2ms inference, 3.4ms postprocess per image at shape (1, 3, 480, 640)\n",
      "\n",
      "0: 480x640 (no detections), 23.2ms\n",
      "Speed: 0.9ms preprocess, 23.2ms inference, 3.6ms postprocess per image at shape (1, 3, 480, 640)\n",
      "\n",
      "0: 480x640 (no detections), 22.8ms\n",
      "Speed: 0.9ms preprocess, 22.8ms inference, 14.3ms postprocess per image at shape (1, 3, 480, 640)\n",
      "\n",
      "0: 480x640 (no detections), 20.5ms\n",
      "Speed: 2.4ms preprocess, 20.5ms inference, 5.5ms postprocess per image at shape (1, 3, 480, 640)\n",
      "\n",
      "0: 480x640 (no detections), 21.7ms\n",
      "Speed: 1.1ms preprocess, 21.7ms inference, 2.1ms postprocess per image at shape (1, 3, 480, 640)\n",
      "\n",
      "0: 480x640 (no detections), 21.9ms\n",
      "Speed: 1.3ms preprocess, 21.9ms inference, 2.1ms postprocess per image at shape (1, 3, 480, 640)\n",
      "\n",
      "0: 480x640 (no detections), 21.9ms\n",
      "Speed: 1.3ms preprocess, 21.9ms inference, 2.1ms postprocess per image at shape (1, 3, 480, 640)\n",
      "\n",
      "0: 480x640 (no detections), 22.9ms\n",
      "Speed: 1.2ms preprocess, 22.9ms inference, 2.5ms postprocess per image at shape (1, 3, 480, 640)\n",
      "\n",
      "0: 480x640 (no detections), 22.5ms\n",
      "Speed: 1.1ms preprocess, 22.5ms inference, 2.4ms postprocess per image at shape (1, 3, 480, 640)\n",
      "\n",
      "0: 480x640 (no detections), 23.2ms\n",
      "Speed: 1.1ms preprocess, 23.2ms inference, 2.2ms postprocess per image at shape (1, 3, 480, 640)\n",
      "\n",
      "0: 480x640 (no detections), 22.9ms\n",
      "Speed: 1.1ms preprocess, 22.9ms inference, 2.2ms postprocess per image at shape (1, 3, 480, 640)\n",
      "\n",
      "0: 480x640 (no detections), 22.3ms\n",
      "Speed: 1.1ms preprocess, 22.3ms inference, 2.2ms postprocess per image at shape (1, 3, 480, 640)\n",
      "\n",
      "0: 480x640 (no detections), 21.8ms\n",
      "Speed: 1.2ms preprocess, 21.8ms inference, 2.3ms postprocess per image at shape (1, 3, 480, 640)\n",
      "\n",
      "0: 480x640 (no detections), 22.9ms\n",
      "Speed: 1.0ms preprocess, 22.9ms inference, 2.5ms postprocess per image at shape (1, 3, 480, 640)\n",
      "\n",
      "0: 480x640 (no detections), 23.3ms\n",
      "Speed: 1.0ms preprocess, 23.3ms inference, 3.2ms postprocess per image at shape (1, 3, 480, 640)\n",
      "\n",
      "0: 480x640 (no detections), 30.7ms\n",
      "Speed: 4.9ms preprocess, 30.7ms inference, 2.5ms postprocess per image at shape (1, 3, 480, 640)\n",
      "\n",
      "0: 480x640 (no detections), 21.5ms\n",
      "Speed: 1.2ms preprocess, 21.5ms inference, 2.7ms postprocess per image at shape (1, 3, 480, 640)\n",
      "\n",
      "0: 480x640 (no detections), 21.8ms\n",
      "Speed: 1.0ms preprocess, 21.8ms inference, 2.6ms postprocess per image at shape (1, 3, 480, 640)\n",
      "\n",
      "0: 480x640 (no detections), 20.8ms\n",
      "Speed: 5.5ms preprocess, 20.8ms inference, 2.1ms postprocess per image at shape (1, 3, 480, 640)\n",
      "\n",
      "0: 480x640 (no detections), 23.0ms\n",
      "Speed: 1.1ms preprocess, 23.0ms inference, 2.2ms postprocess per image at shape (1, 3, 480, 640)\n",
      "\n",
      "0: 480x640 (no detections), 23.2ms\n",
      "Speed: 1.3ms preprocess, 23.2ms inference, 2.1ms postprocess per image at shape (1, 3, 480, 640)\n",
      "\n",
      "0: 480x640 (no detections), 24.3ms\n",
      "Speed: 1.0ms preprocess, 24.3ms inference, 2.4ms postprocess per image at shape (1, 3, 480, 640)\n",
      "\n",
      "0: 480x640 (no detections), 24.3ms\n",
      "Speed: 1.0ms preprocess, 24.3ms inference, 2.4ms postprocess per image at shape (1, 3, 480, 640)\n",
      "\n",
      "0: 480x640 (no detections), 24.4ms\n",
      "Speed: 1.2ms preprocess, 24.4ms inference, 2.2ms postprocess per image at shape (1, 3, 480, 640)\n",
      "\n",
      "0: 480x640 (no detections), 24.5ms\n",
      "Speed: 1.1ms preprocess, 24.5ms inference, 2.7ms postprocess per image at shape (1, 3, 480, 640)\n",
      "\n",
      "0: 480x640 (no detections), 24.5ms\n",
      "Speed: 1.2ms preprocess, 24.5ms inference, 2.5ms postprocess per image at shape (1, 3, 480, 640)\n",
      "\n",
      "0: 480x640 (no detections), 24.4ms\n",
      "Speed: 1.1ms preprocess, 24.4ms inference, 2.1ms postprocess per image at shape (1, 3, 480, 640)\n",
      "\n",
      "0: 480x640 (no detections), 24.6ms\n",
      "Speed: 1.1ms preprocess, 24.6ms inference, 2.3ms postprocess per image at shape (1, 3, 480, 640)\n",
      "\n",
      "0: 480x640 (no detections), 23.2ms\n",
      "Speed: 1.4ms preprocess, 23.2ms inference, 5.1ms postprocess per image at shape (1, 3, 480, 640)\n",
      "\n",
      "0: 480x640 (no detections), 22.5ms\n",
      "Speed: 1.2ms preprocess, 22.5ms inference, 4.5ms postprocess per image at shape (1, 3, 480, 640)\n",
      "\n",
      "0: 480x640 (no detections), 24.0ms\n",
      "Speed: 1.1ms preprocess, 24.0ms inference, 3.8ms postprocess per image at shape (1, 3, 480, 640)\n",
      "\n",
      "0: 480x640 (no detections), 24.5ms\n",
      "Speed: 0.9ms preprocess, 24.5ms inference, 4.1ms postprocess per image at shape (1, 3, 480, 640)\n",
      "\n",
      "0: 480x640 (no detections), 24.5ms\n",
      "Speed: 1.0ms preprocess, 24.5ms inference, 4.2ms postprocess per image at shape (1, 3, 480, 640)\n",
      "\n",
      "0: 480x640 (no detections), 24.2ms\n",
      "Speed: 1.2ms preprocess, 24.2ms inference, 4.3ms postprocess per image at shape (1, 3, 480, 640)\n",
      "\n",
      "0: 480x640 (no detections), 24.2ms\n",
      "Speed: 1.1ms preprocess, 24.2ms inference, 3.3ms postprocess per image at shape (1, 3, 480, 640)\n",
      "\n",
      "0: 480x640 (no detections), 24.5ms\n",
      "Speed: 0.9ms preprocess, 24.5ms inference, 3.2ms postprocess per image at shape (1, 3, 480, 640)\n",
      "\n",
      "0: 480x640 (no detections), 24.3ms\n",
      "Speed: 1.0ms preprocess, 24.3ms inference, 3.3ms postprocess per image at shape (1, 3, 480, 640)\n",
      "\n",
      "0: 480x640 (no detections), 24.2ms\n",
      "Speed: 1.0ms preprocess, 24.2ms inference, 4.4ms postprocess per image at shape (1, 3, 480, 640)\n",
      "\n",
      "0: 480x640 (no detections), 24.2ms\n",
      "Speed: 1.0ms preprocess, 24.2ms inference, 4.1ms postprocess per image at shape (1, 3, 480, 640)\n",
      "\n",
      "0: 480x640 (no detections), 24.1ms\n",
      "Speed: 0.9ms preprocess, 24.1ms inference, 3.3ms postprocess per image at shape (1, 3, 480, 640)\n",
      "\n",
      "0: 480x640 (no detections), 24.2ms\n",
      "Speed: 1.0ms preprocess, 24.2ms inference, 2.9ms postprocess per image at shape (1, 3, 480, 640)\n",
      "\n",
      "0: 480x640 (no detections), 24.0ms\n",
      "Speed: 1.0ms preprocess, 24.0ms inference, 5.7ms postprocess per image at shape (1, 3, 480, 640)\n",
      "\n",
      "0: 480x640 (no detections), 24.5ms\n",
      "Speed: 0.9ms preprocess, 24.5ms inference, 3.2ms postprocess per image at shape (1, 3, 480, 640)\n",
      "\n",
      "0: 480x640 (no detections), 24.2ms\n",
      "Speed: 1.9ms preprocess, 24.2ms inference, 4.1ms postprocess per image at shape (1, 3, 480, 640)\n",
      "\n",
      "0: 480x640 (no detections), 24.3ms\n",
      "Speed: 1.4ms preprocess, 24.3ms inference, 3.6ms postprocess per image at shape (1, 3, 480, 640)\n",
      "\n",
      "0: 480x640 (no detections), 24.4ms\n",
      "Speed: 0.9ms preprocess, 24.4ms inference, 3.9ms postprocess per image at shape (1, 3, 480, 640)\n",
      "\n",
      "0: 480x640 (no detections), 24.7ms\n",
      "Speed: 0.9ms preprocess, 24.7ms inference, 3.0ms postprocess per image at shape (1, 3, 480, 640)\n",
      "\n",
      "0: 480x640 (no detections), 24.7ms\n",
      "Speed: 1.0ms preprocess, 24.7ms inference, 3.1ms postprocess per image at shape (1, 3, 480, 640)\n",
      "\n",
      "0: 480x640 (no detections), 24.6ms\n",
      "Speed: 1.0ms preprocess, 24.6ms inference, 3.4ms postprocess per image at shape (1, 3, 480, 640)\n",
      "\n",
      "0: 480x640 (no detections), 24.3ms\n",
      "Speed: 0.9ms preprocess, 24.3ms inference, 3.1ms postprocess per image at shape (1, 3, 480, 640)\n",
      "\n",
      "0: 480x640 (no detections), 24.2ms\n",
      "Speed: 0.9ms preprocess, 24.2ms inference, 4.6ms postprocess per image at shape (1, 3, 480, 640)\n",
      "\n",
      "0: 480x640 (no detections), 24.0ms\n",
      "Speed: 1.1ms preprocess, 24.0ms inference, 3.6ms postprocess per image at shape (1, 3, 480, 640)\n",
      "\n",
      "0: 480x640 (no detections), 24.2ms\n",
      "Speed: 1.0ms preprocess, 24.2ms inference, 9.6ms postprocess per image at shape (1, 3, 480, 640)\n",
      "\n",
      "0: 480x640 (no detections), 24.3ms\n",
      "Speed: 1.1ms preprocess, 24.3ms inference, 2.3ms postprocess per image at shape (1, 3, 480, 640)\n",
      "\n",
      "0: 480x640 (no detections), 22.1ms\n",
      "Speed: 1.3ms preprocess, 22.1ms inference, 2.6ms postprocess per image at shape (1, 3, 480, 640)\n",
      "\n",
      "0: 480x640 (no detections), 23.8ms\n",
      "Speed: 1.7ms preprocess, 23.8ms inference, 2.6ms postprocess per image at shape (1, 3, 480, 640)\n",
      "\n",
      "0: 480x640 (no detections), 24.2ms\n",
      "Speed: 1.3ms preprocess, 24.2ms inference, 2.2ms postprocess per image at shape (1, 3, 480, 640)\n",
      "\n",
      "0: 480x640 (no detections), 24.3ms\n",
      "Speed: 1.3ms preprocess, 24.3ms inference, 2.2ms postprocess per image at shape (1, 3, 480, 640)\n",
      "\n",
      "0: 480x640 (no detections), 24.2ms\n",
      "Speed: 1.1ms preprocess, 24.2ms inference, 7.2ms postprocess per image at shape (1, 3, 480, 640)\n",
      "\n",
      "0: 480x640 (no detections), 23.7ms\n",
      "Speed: 1.2ms preprocess, 23.7ms inference, 2.7ms postprocess per image at shape (1, 3, 480, 640)\n",
      "\n",
      "0: 480x640 (no detections), 24.2ms\n",
      "Speed: 1.3ms preprocess, 24.2ms inference, 2.4ms postprocess per image at shape (1, 3, 480, 640)\n",
      "\n",
      "0: 480x640 (no detections), 24.6ms\n",
      "Speed: 1.4ms preprocess, 24.6ms inference, 2.2ms postprocess per image at shape (1, 3, 480, 640)\n",
      "\n",
      "0: 480x640 (no detections), 24.8ms\n",
      "Speed: 1.1ms preprocess, 24.8ms inference, 2.4ms postprocess per image at shape (1, 3, 480, 640)\n",
      "\n",
      "0: 480x640 (no detections), 24.7ms\n",
      "Speed: 1.0ms preprocess, 24.7ms inference, 2.2ms postprocess per image at shape (1, 3, 480, 640)\n",
      "\n",
      "0: 480x640 (no detections), 24.3ms\n",
      "Speed: 1.3ms preprocess, 24.3ms inference, 2.0ms postprocess per image at shape (1, 3, 480, 640)\n",
      "\n",
      "0: 480x640 (no detections), 24.3ms\n",
      "Speed: 1.4ms preprocess, 24.3ms inference, 3.0ms postprocess per image at shape (1, 3, 480, 640)\n",
      "\n",
      "0: 480x640 (no detections), 25.1ms\n",
      "Speed: 1.3ms preprocess, 25.1ms inference, 2.5ms postprocess per image at shape (1, 3, 480, 640)\n",
      "\n",
      "0: 480x640 (no detections), 24.5ms\n",
      "Speed: 1.2ms preprocess, 24.5ms inference, 2.3ms postprocess per image at shape (1, 3, 480, 640)\n",
      "\n",
      "0: 480x640 (no detections), 25.1ms\n",
      "Speed: 1.2ms preprocess, 25.1ms inference, 2.5ms postprocess per image at shape (1, 3, 480, 640)\n",
      "\n",
      "0: 480x640 (no detections), 23.7ms\n",
      "Speed: 1.2ms preprocess, 23.7ms inference, 2.4ms postprocess per image at shape (1, 3, 480, 640)\n",
      "\n",
      "0: 480x640 (no detections), 24.3ms\n",
      "Speed: 1.2ms preprocess, 24.3ms inference, 2.0ms postprocess per image at shape (1, 3, 480, 640)\n",
      "\n",
      "0: 480x640 (no detections), 24.8ms\n",
      "Speed: 1.1ms preprocess, 24.8ms inference, 2.3ms postprocess per image at shape (1, 3, 480, 640)\n",
      "\n",
      "0: 480x640 (no detections), 25.0ms\n",
      "Speed: 1.0ms preprocess, 25.0ms inference, 2.1ms postprocess per image at shape (1, 3, 480, 640)\n",
      "\n",
      "0: 480x640 (no detections), 24.9ms\n",
      "Speed: 1.0ms preprocess, 24.9ms inference, 2.5ms postprocess per image at shape (1, 3, 480, 640)\n",
      "\n",
      "0: 480x640 (no detections), 24.9ms\n",
      "Speed: 1.0ms preprocess, 24.9ms inference, 2.4ms postprocess per image at shape (1, 3, 480, 640)\n",
      "\n",
      "0: 480x640 (no detections), 25.0ms\n",
      "Speed: 1.0ms preprocess, 25.0ms inference, 2.3ms postprocess per image at shape (1, 3, 480, 640)\n",
      "\n",
      "0: 480x640 (no detections), 24.7ms\n",
      "Speed: 1.1ms preprocess, 24.7ms inference, 2.3ms postprocess per image at shape (1, 3, 480, 640)\n",
      "\n",
      "0: 480x640 (no detections), 24.3ms\n",
      "Speed: 1.2ms preprocess, 24.3ms inference, 10.1ms postprocess per image at shape (1, 3, 480, 640)\n",
      "\n",
      "0: 480x640 (no detections), 22.6ms\n",
      "Speed: 1.3ms preprocess, 22.6ms inference, 7.6ms postprocess per image at shape (1, 3, 480, 640)\n",
      "\n",
      "0: 480x640 (no detections), 23.1ms\n",
      "Speed: 1.2ms preprocess, 23.1ms inference, 5.0ms postprocess per image at shape (1, 3, 480, 640)\n",
      "\n",
      "0: 480x640 (no detections), 22.7ms\n",
      "Speed: 1.1ms preprocess, 22.7ms inference, 4.2ms postprocess per image at shape (1, 3, 480, 640)\n",
      "\n",
      "0: 480x640 (no detections), 23.8ms\n",
      "Speed: 1.1ms preprocess, 23.8ms inference, 3.7ms postprocess per image at shape (1, 3, 480, 640)\n",
      "\n",
      "0: 480x640 (no detections), 24.1ms\n",
      "Speed: 1.4ms preprocess, 24.1ms inference, 3.6ms postprocess per image at shape (1, 3, 480, 640)\n",
      "\n",
      "0: 480x640 (no detections), 24.1ms\n",
      "Speed: 1.3ms preprocess, 24.1ms inference, 4.5ms postprocess per image at shape (1, 3, 480, 640)\n",
      "\n",
      "0: 480x640 (no detections), 24.4ms\n",
      "Speed: 0.9ms preprocess, 24.4ms inference, 4.2ms postprocess per image at shape (1, 3, 480, 640)\n",
      "\n",
      "0: 480x640 (no detections), 24.1ms\n",
      "Speed: 1.1ms preprocess, 24.1ms inference, 4.0ms postprocess per image at shape (1, 3, 480, 640)\n",
      "\n",
      "0: 480x640 (no detections), 24.3ms\n",
      "Speed: 0.9ms preprocess, 24.3ms inference, 3.1ms postprocess per image at shape (1, 3, 480, 640)\n",
      "\n",
      "0: 480x640 (no detections), 24.7ms\n",
      "Speed: 1.1ms preprocess, 24.7ms inference, 2.9ms postprocess per image at shape (1, 3, 480, 640)\n",
      "\n",
      "0: 480x640 (no detections), 24.8ms\n",
      "Speed: 0.9ms preprocess, 24.8ms inference, 3.3ms postprocess per image at shape (1, 3, 480, 640)\n",
      "\n",
      "0: 480x640 (no detections), 25.0ms\n",
      "Speed: 0.9ms preprocess, 25.0ms inference, 2.9ms postprocess per image at shape (1, 3, 480, 640)\n",
      "\n",
      "0: 480x640 (no detections), 25.1ms\n",
      "Speed: 1.2ms preprocess, 25.1ms inference, 2.9ms postprocess per image at shape (1, 3, 480, 640)\n",
      "\n",
      "0: 480x640 (no detections), 24.7ms\n",
      "Speed: 1.0ms preprocess, 24.7ms inference, 3.2ms postprocess per image at shape (1, 3, 480, 640)\n",
      "\n",
      "0: 480x640 (no detections), 24.9ms\n",
      "Speed: 0.9ms preprocess, 24.9ms inference, 3.6ms postprocess per image at shape (1, 3, 480, 640)\n",
      "\n",
      "0: 480x640 (no detections), 24.7ms\n",
      "Speed: 1.2ms preprocess, 24.7ms inference, 5.1ms postprocess per image at shape (1, 3, 480, 640)\n",
      "\n",
      "0: 480x640 (no detections), 23.2ms\n",
      "Speed: 1.0ms preprocess, 23.2ms inference, 3.1ms postprocess per image at shape (1, 3, 480, 640)\n",
      "\n",
      "0: 480x640 (no detections), 25.0ms\n",
      "Speed: 1.1ms preprocess, 25.0ms inference, 2.9ms postprocess per image at shape (1, 3, 480, 640)\n",
      "\n",
      "0: 480x640 (no detections), 24.5ms\n",
      "Speed: 1.1ms preprocess, 24.5ms inference, 4.1ms postprocess per image at shape (1, 3, 480, 640)\n",
      "\n",
      "0: 480x640 (no detections), 23.6ms\n",
      "Speed: 1.6ms preprocess, 23.6ms inference, 5.9ms postprocess per image at shape (1, 3, 480, 640)\n",
      "\n",
      "0: 480x640 (no detections), 24.2ms\n",
      "Speed: 1.3ms preprocess, 24.2ms inference, 3.8ms postprocess per image at shape (1, 3, 480, 640)\n",
      "\n",
      "0: 480x640 (no detections), 24.1ms\n",
      "Speed: 1.1ms preprocess, 24.1ms inference, 3.0ms postprocess per image at shape (1, 3, 480, 640)\n",
      "\n",
      "0: 480x640 (no detections), 24.5ms\n",
      "Speed: 1.0ms preprocess, 24.5ms inference, 3.1ms postprocess per image at shape (1, 3, 480, 640)\n",
      "\n",
      "0: 480x640 (no detections), 24.1ms\n",
      "Speed: 1.0ms preprocess, 24.1ms inference, 3.0ms postprocess per image at shape (1, 3, 480, 640)\n",
      "\n",
      "0: 480x640 (no detections), 23.9ms\n",
      "Speed: 1.0ms preprocess, 23.9ms inference, 2.6ms postprocess per image at shape (1, 3, 480, 640)\n",
      "\n",
      "0: 480x640 (no detections), 24.3ms\n",
      "Speed: 1.1ms preprocess, 24.3ms inference, 2.2ms postprocess per image at shape (1, 3, 480, 640)\n",
      "\n",
      "0: 480x640 (no detections), 24.4ms\n",
      "Speed: 1.1ms preprocess, 24.4ms inference, 2.5ms postprocess per image at shape (1, 3, 480, 640)\n",
      "\n",
      "0: 480x640 (no detections), 24.2ms\n",
      "Speed: 1.0ms preprocess, 24.2ms inference, 2.6ms postprocess per image at shape (1, 3, 480, 640)\n",
      "\n",
      "0: 480x640 (no detections), 24.5ms\n",
      "Speed: 1.2ms preprocess, 24.5ms inference, 2.5ms postprocess per image at shape (1, 3, 480, 640)\n",
      "\n",
      "0: 480x640 (no detections), 24.5ms\n",
      "Speed: 1.5ms preprocess, 24.5ms inference, 2.4ms postprocess per image at shape (1, 3, 480, 640)\n",
      "\n",
      "0: 480x640 (no detections), 24.8ms\n",
      "Speed: 1.2ms preprocess, 24.8ms inference, 2.5ms postprocess per image at shape (1, 3, 480, 640)\n",
      "\n",
      "0: 480x640 (no detections), 25.0ms\n",
      "Speed: 1.0ms preprocess, 25.0ms inference, 2.2ms postprocess per image at shape (1, 3, 480, 640)\n",
      "\n",
      "0: 480x640 (no detections), 25.4ms\n",
      "Speed: 1.1ms preprocess, 25.4ms inference, 2.1ms postprocess per image at shape (1, 3, 480, 640)\n",
      "\n",
      "0: 480x640 (no detections), 25.1ms\n",
      "Speed: 1.1ms preprocess, 25.1ms inference, 5.0ms postprocess per image at shape (1, 3, 480, 640)\n",
      "\n",
      "0: 480x640 (no detections), 23.5ms\n",
      "Speed: 1.4ms preprocess, 23.5ms inference, 2.4ms postprocess per image at shape (1, 3, 480, 640)\n",
      "\n",
      "0: 480x640 (no detections), 23.6ms\n",
      "Speed: 1.2ms preprocess, 23.6ms inference, 3.1ms postprocess per image at shape (1, 3, 480, 640)\n",
      "\n",
      "0: 480x640 (no detections), 24.5ms\n",
      "Speed: 1.2ms preprocess, 24.5ms inference, 2.8ms postprocess per image at shape (1, 3, 480, 640)\n",
      "\n",
      "0: 480x640 (no detections), 24.7ms\n",
      "Speed: 1.0ms preprocess, 24.7ms inference, 2.8ms postprocess per image at shape (1, 3, 480, 640)\n",
      "\n",
      "0: 480x640 (no detections), 24.4ms\n",
      "Speed: 1.1ms preprocess, 24.4ms inference, 2.4ms postprocess per image at shape (1, 3, 480, 640)\n",
      "\n",
      "0: 480x640 (no detections), 24.9ms\n",
      "Speed: 1.3ms preprocess, 24.9ms inference, 2.6ms postprocess per image at shape (1, 3, 480, 640)\n",
      "\n",
      "0: 480x640 (no detections), 24.6ms\n",
      "Speed: 1.1ms preprocess, 24.6ms inference, 2.9ms postprocess per image at shape (1, 3, 480, 640)\n",
      "\n",
      "0: 480x640 (no detections), 24.7ms\n",
      "Speed: 1.0ms preprocess, 24.7ms inference, 2.5ms postprocess per image at shape (1, 3, 480, 640)\n",
      "\n",
      "0: 480x640 (no detections), 24.9ms\n",
      "Speed: 1.2ms preprocess, 24.9ms inference, 2.6ms postprocess per image at shape (1, 3, 480, 640)\n",
      "\n",
      "0: 480x640 (no detections), 23.6ms\n",
      "Speed: 1.0ms preprocess, 23.6ms inference, 2.5ms postprocess per image at shape (1, 3, 480, 640)\n",
      "\n",
      "0: 480x640 (no detections), 24.5ms\n",
      "Speed: 1.2ms preprocess, 24.5ms inference, 2.7ms postprocess per image at shape (1, 3, 480, 640)\n",
      "\n",
      "0: 480x640 (no detections), 24.6ms\n",
      "Speed: 1.1ms preprocess, 24.6ms inference, 2.4ms postprocess per image at shape (1, 3, 480, 640)\n",
      "\n",
      "0: 480x640 (no detections), 21.8ms\n",
      "Speed: 1.4ms preprocess, 21.8ms inference, 2.7ms postprocess per image at shape (1, 3, 480, 640)\n",
      "\n",
      "0: 480x640 (no detections), 23.9ms\n",
      "Speed: 1.2ms preprocess, 23.9ms inference, 2.9ms postprocess per image at shape (1, 3, 480, 640)\n",
      "\n",
      "0: 480x640 (no detections), 24.6ms\n",
      "Speed: 1.1ms preprocess, 24.6ms inference, 14.4ms postprocess per image at shape (1, 3, 480, 640)\n",
      "\n",
      "0: 480x640 (no detections), 23.7ms\n",
      "Speed: 1.2ms preprocess, 23.7ms inference, 2.4ms postprocess per image at shape (1, 3, 480, 640)\n",
      "\n",
      "0: 480x640 (no detections), 24.2ms\n",
      "Speed: 1.1ms preprocess, 24.2ms inference, 2.7ms postprocess per image at shape (1, 3, 480, 640)\n",
      "\n",
      "0: 480x640 (no detections), 24.2ms\n",
      "Speed: 1.3ms preprocess, 24.2ms inference, 2.8ms postprocess per image at shape (1, 3, 480, 640)\n",
      "\n",
      "0: 480x640 (no detections), 24.2ms\n",
      "Speed: 1.4ms preprocess, 24.2ms inference, 2.5ms postprocess per image at shape (1, 3, 480, 640)\n",
      "\n",
      "0: 480x640 (no detections), 24.3ms\n",
      "Speed: 1.0ms preprocess, 24.3ms inference, 2.9ms postprocess per image at shape (1, 3, 480, 640)\n",
      "\n",
      "0: 480x640 (no detections), 24.3ms\n",
      "Speed: 1.3ms preprocess, 24.3ms inference, 2.6ms postprocess per image at shape (1, 3, 480, 640)\n",
      "\n",
      "0: 480x640 (no detections), 24.3ms\n",
      "Speed: 1.4ms preprocess, 24.3ms inference, 2.6ms postprocess per image at shape (1, 3, 480, 640)\n",
      "\n",
      "0: 480x640 (no detections), 24.3ms\n",
      "Speed: 1.1ms preprocess, 24.3ms inference, 3.3ms postprocess per image at shape (1, 3, 480, 640)\n",
      "\n",
      "0: 480x640 (no detections), 27.5ms\n",
      "Speed: 1.4ms preprocess, 27.5ms inference, 2.4ms postprocess per image at shape (1, 3, 480, 640)\n",
      "\n",
      "0: 480x640 (no detections), 23.1ms\n",
      "Speed: 1.5ms preprocess, 23.1ms inference, 2.2ms postprocess per image at shape (1, 3, 480, 640)\n",
      "\n",
      "0: 480x640 (no detections), 24.9ms\n",
      "Speed: 0.9ms preprocess, 24.9ms inference, 4.3ms postprocess per image at shape (1, 3, 480, 640)\n",
      "\n",
      "0: 480x640 (no detections), 23.4ms\n",
      "Speed: 1.6ms preprocess, 23.4ms inference, 2.4ms postprocess per image at shape (1, 3, 480, 640)\n",
      "\n",
      "0: 480x640 (no detections), 25.0ms\n",
      "Speed: 1.0ms preprocess, 25.0ms inference, 2.3ms postprocess per image at shape (1, 3, 480, 640)\n",
      "\n",
      "0: 480x640 (no detections), 24.6ms\n",
      "Speed: 1.0ms preprocess, 24.6ms inference, 2.1ms postprocess per image at shape (1, 3, 480, 640)\n",
      "\n",
      "0: 480x640 (no detections), 24.9ms\n",
      "Speed: 1.0ms preprocess, 24.9ms inference, 2.2ms postprocess per image at shape (1, 3, 480, 640)\n",
      "\n",
      "0: 480x640 (no detections), 25.1ms\n",
      "Speed: 1.0ms preprocess, 25.1ms inference, 2.4ms postprocess per image at shape (1, 3, 480, 640)\n",
      "\n",
      "0: 480x640 (no detections), 25.1ms\n",
      "Speed: 1.3ms preprocess, 25.1ms inference, 2.4ms postprocess per image at shape (1, 3, 480, 640)\n",
      "\n",
      "0: 480x640 (no detections), 25.5ms\n",
      "Speed: 1.2ms preprocess, 25.5ms inference, 2.4ms postprocess per image at shape (1, 3, 480, 640)\n",
      "\n",
      "0: 480x640 (no detections), 22.8ms\n",
      "Speed: 1.7ms preprocess, 22.8ms inference, 2.4ms postprocess per image at shape (1, 3, 480, 640)\n",
      "\n",
      "0: 480x640 (no detections), 24.1ms\n",
      "Speed: 1.1ms preprocess, 24.1ms inference, 3.0ms postprocess per image at shape (1, 3, 480, 640)\n",
      "\n",
      "0: 480x640 (no detections), 25.9ms\n",
      "Speed: 1.6ms preprocess, 25.9ms inference, 2.5ms postprocess per image at shape (1, 3, 480, 640)\n",
      "\n",
      "0: 480x640 (no detections), 23.9ms\n",
      "Speed: 1.3ms preprocess, 23.9ms inference, 2.6ms postprocess per image at shape (1, 3, 480, 640)\n",
      "\n",
      "0: 480x640 (no detections), 24.1ms\n",
      "Speed: 1.1ms preprocess, 24.1ms inference, 2.2ms postprocess per image at shape (1, 3, 480, 640)\n",
      "\n",
      "0: 480x640 (no detections), 24.5ms\n",
      "Speed: 1.0ms preprocess, 24.5ms inference, 11.3ms postprocess per image at shape (1, 3, 480, 640)\n",
      "\n",
      "0: 480x640 (no detections), 22.9ms\n",
      "Speed: 1.1ms preprocess, 22.9ms inference, 2.4ms postprocess per image at shape (1, 3, 480, 640)\n",
      "\n",
      "0: 480x640 (no detections), 24.5ms\n",
      "Speed: 1.0ms preprocess, 24.5ms inference, 2.1ms postprocess per image at shape (1, 3, 480, 640)\n",
      "\n",
      "0: 480x640 (no detections), 24.6ms\n",
      "Speed: 1.4ms preprocess, 24.6ms inference, 2.4ms postprocess per image at shape (1, 3, 480, 640)\n",
      "\n",
      "0: 480x640 (no detections), 24.6ms\n",
      "Speed: 1.2ms preprocess, 24.6ms inference, 3.0ms postprocess per image at shape (1, 3, 480, 640)\n",
      "\n",
      "0: 480x640 (no detections), 24.6ms\n",
      "Speed: 1.2ms preprocess, 24.6ms inference, 2.3ms postprocess per image at shape (1, 3, 480, 640)\n",
      "\n",
      "0: 480x640 (no detections), 24.9ms\n",
      "Speed: 1.0ms preprocess, 24.9ms inference, 2.2ms postprocess per image at shape (1, 3, 480, 640)\n",
      "\n",
      "0: 480x640 (no detections), 24.9ms\n",
      "Speed: 1.4ms preprocess, 24.9ms inference, 2.2ms postprocess per image at shape (1, 3, 480, 640)\n",
      "\n",
      "0: 480x640 (no detections), 23.9ms\n",
      "Speed: 1.4ms preprocess, 23.9ms inference, 2.6ms postprocess per image at shape (1, 3, 480, 640)\n",
      "\n",
      "0: 480x640 (no detections), 23.1ms\n",
      "Speed: 1.1ms preprocess, 23.1ms inference, 3.1ms postprocess per image at shape (1, 3, 480, 640)\n",
      "\n",
      "0: 480x640 (no detections), 21.7ms\n",
      "Speed: 1.2ms preprocess, 21.7ms inference, 2.4ms postprocess per image at shape (1, 3, 480, 640)\n",
      "\n",
      "0: 480x640 (no detections), 22.6ms\n",
      "Speed: 1.1ms preprocess, 22.6ms inference, 2.2ms postprocess per image at shape (1, 3, 480, 640)\n",
      "\n",
      "0: 480x640 (no detections), 22.2ms\n",
      "Speed: 1.0ms preprocess, 22.2ms inference, 2.5ms postprocess per image at shape (1, 3, 480, 640)\n",
      "\n",
      "0: 480x640 (no detections), 22.2ms\n",
      "Speed: 1.1ms preprocess, 22.2ms inference, 2.1ms postprocess per image at shape (1, 3, 480, 640)\n",
      "\n",
      "0: 480x640 (no detections), 22.1ms\n",
      "Speed: 1.0ms preprocess, 22.1ms inference, 2.8ms postprocess per image at shape (1, 3, 480, 640)\n",
      "\n",
      "0: 480x640 (no detections), 22.0ms\n",
      "Speed: 1.0ms preprocess, 22.0ms inference, 2.1ms postprocess per image at shape (1, 3, 480, 640)\n",
      "\n",
      "0: 480x640 (no detections), 22.2ms\n",
      "Speed: 1.2ms preprocess, 22.2ms inference, 2.1ms postprocess per image at shape (1, 3, 480, 640)\n",
      "\n",
      "0: 480x640 (no detections), 22.3ms\n",
      "Speed: 1.0ms preprocess, 22.3ms inference, 2.6ms postprocess per image at shape (1, 3, 480, 640)\n",
      "\n",
      "0: 480x640 (no detections), 22.0ms\n",
      "Speed: 1.6ms preprocess, 22.0ms inference, 2.1ms postprocess per image at shape (1, 3, 480, 640)\n",
      "\n",
      "0: 480x640 (no detections), 22.2ms\n",
      "Speed: 1.1ms preprocess, 22.2ms inference, 3.2ms postprocess per image at shape (1, 3, 480, 640)\n",
      "\n",
      "0: 480x640 (no detections), 21.6ms\n",
      "Speed: 1.0ms preprocess, 21.6ms inference, 3.5ms postprocess per image at shape (1, 3, 480, 640)\n",
      "\n",
      "0: 480x640 (no detections), 24.7ms\n",
      "Speed: 1.0ms preprocess, 24.7ms inference, 2.5ms postprocess per image at shape (1, 3, 480, 640)\n",
      "\n",
      "0: 480x640 (no detections), 22.4ms\n",
      "Speed: 1.1ms preprocess, 22.4ms inference, 2.5ms postprocess per image at shape (1, 3, 480, 640)\n",
      "\n",
      "0: 480x640 (no detections), 21.9ms\n",
      "Speed: 1.3ms preprocess, 21.9ms inference, 3.3ms postprocess per image at shape (1, 3, 480, 640)\n",
      "\n",
      "0: 480x640 (no detections), 22.0ms\n",
      "Speed: 1.1ms preprocess, 22.0ms inference, 3.9ms postprocess per image at shape (1, 3, 480, 640)\n",
      "\n",
      "0: 480x640 (no detections), 22.1ms\n",
      "Speed: 1.0ms preprocess, 22.1ms inference, 3.4ms postprocess per image at shape (1, 3, 480, 640)\n",
      "\n",
      "0: 480x640 (no detections), 22.1ms\n",
      "Speed: 1.1ms preprocess, 22.1ms inference, 3.3ms postprocess per image at shape (1, 3, 480, 640)\n",
      "\n",
      "0: 480x640 (no detections), 22.1ms\n",
      "Speed: 0.9ms preprocess, 22.1ms inference, 3.7ms postprocess per image at shape (1, 3, 480, 640)\n",
      "\n",
      "0: 480x640 (no detections), 22.0ms\n",
      "Speed: 1.6ms preprocess, 22.0ms inference, 3.6ms postprocess per image at shape (1, 3, 480, 640)\n",
      "\n",
      "0: 480x640 (no detections), 22.2ms\n",
      "Speed: 0.9ms preprocess, 22.2ms inference, 4.8ms postprocess per image at shape (1, 3, 480, 640)\n",
      "\n",
      "0: 480x640 (no detections), 22.0ms\n",
      "Speed: 0.9ms preprocess, 22.0ms inference, 3.4ms postprocess per image at shape (1, 3, 480, 640)\n",
      "\n",
      "0: 480x640 (no detections), 22.2ms\n",
      "Speed: 1.3ms preprocess, 22.2ms inference, 3.1ms postprocess per image at shape (1, 3, 480, 640)\n",
      "\n",
      "0: 480x640 (no detections), 22.1ms\n",
      "Speed: 0.9ms preprocess, 22.1ms inference, 3.3ms postprocess per image at shape (1, 3, 480, 640)\n",
      "\n",
      "0: 480x640 (no detections), 22.1ms\n",
      "Speed: 1.5ms preprocess, 22.1ms inference, 3.2ms postprocess per image at shape (1, 3, 480, 640)\n",
      "\n",
      "0: 480x640 (no detections), 22.1ms\n",
      "Speed: 1.7ms preprocess, 22.1ms inference, 5.2ms postprocess per image at shape (1, 3, 480, 640)\n",
      "\n",
      "0: 480x640 (no detections), 22.2ms\n",
      "Speed: 0.9ms preprocess, 22.2ms inference, 3.6ms postprocess per image at shape (1, 3, 480, 640)\n",
      "\n",
      "0: 480x640 (no detections), 22.2ms\n",
      "Speed: 1.3ms preprocess, 22.2ms inference, 3.3ms postprocess per image at shape (1, 3, 480, 640)\n",
      "\n",
      "0: 480x640 (no detections), 22.1ms\n",
      "Speed: 1.1ms preprocess, 22.1ms inference, 2.0ms postprocess per image at shape (1, 3, 480, 640)\n",
      "\n",
      "0: 480x640 (no detections), 23.1ms\n",
      "Speed: 1.1ms preprocess, 23.1ms inference, 2.2ms postprocess per image at shape (1, 3, 480, 640)\n",
      "\n",
      "0: 480x640 (no detections), 22.2ms\n",
      "Speed: 1.0ms preprocess, 22.2ms inference, 2.8ms postprocess per image at shape (1, 3, 480, 640)\n",
      "\n",
      "0: 480x640 (no detections), 22.1ms\n",
      "Speed: 1.3ms preprocess, 22.1ms inference, 1.9ms postprocess per image at shape (1, 3, 480, 640)\n",
      "\n",
      "0: 480x640 (no detections), 22.2ms\n",
      "Speed: 1.0ms preprocess, 22.2ms inference, 2.9ms postprocess per image at shape (1, 3, 480, 640)\n",
      "\n",
      "0: 480x640 (no detections), 22.3ms\n",
      "Speed: 1.0ms preprocess, 22.3ms inference, 2.2ms postprocess per image at shape (1, 3, 480, 640)\n",
      "\n",
      "0: 480x640 (no detections), 22.3ms\n",
      "Speed: 1.6ms preprocess, 22.3ms inference, 2.0ms postprocess per image at shape (1, 3, 480, 640)\n",
      "\n",
      "0: 480x640 (no detections), 25.0ms\n",
      "Speed: 1.2ms preprocess, 25.0ms inference, 9.9ms postprocess per image at shape (1, 3, 480, 640)\n",
      "\n",
      "0: 480x640 (no detections), 22.4ms\n",
      "Speed: 1.2ms preprocess, 22.4ms inference, 3.1ms postprocess per image at shape (1, 3, 480, 640)\n",
      "\n",
      "0: 480x640 (no detections), 23.1ms\n",
      "Speed: 1.1ms preprocess, 23.1ms inference, 2.5ms postprocess per image at shape (1, 3, 480, 640)\n",
      "\n",
      "0: 480x640 (no detections), 22.3ms\n",
      "Speed: 1.1ms preprocess, 22.3ms inference, 2.2ms postprocess per image at shape (1, 3, 480, 640)\n",
      "\n",
      "0: 480x640 (no detections), 22.3ms\n",
      "Speed: 1.6ms preprocess, 22.3ms inference, 2.1ms postprocess per image at shape (1, 3, 480, 640)\n",
      "\n",
      "0: 480x640 (no detections), 22.4ms\n",
      "Speed: 1.0ms preprocess, 22.4ms inference, 2.3ms postprocess per image at shape (1, 3, 480, 640)\n",
      "\n",
      "0: 480x640 (no detections), 22.3ms\n",
      "Speed: 1.0ms preprocess, 22.3ms inference, 2.1ms postprocess per image at shape (1, 3, 480, 640)\n",
      "\n",
      "0: 480x640 (no detections), 22.3ms\n",
      "Speed: 1.2ms preprocess, 22.3ms inference, 1.9ms postprocess per image at shape (1, 3, 480, 640)\n",
      "\n",
      "0: 480x640 (no detections), 22.2ms\n",
      "Speed: 1.0ms preprocess, 22.2ms inference, 2.7ms postprocess per image at shape (1, 3, 480, 640)\n",
      "\n",
      "0: 480x640 (no detections), 22.2ms\n",
      "Speed: 1.5ms preprocess, 22.2ms inference, 1.9ms postprocess per image at shape (1, 3, 480, 640)\n",
      "\n",
      "0: 480x640 (no detections), 22.2ms\n",
      "Speed: 1.2ms preprocess, 22.2ms inference, 2.4ms postprocess per image at shape (1, 3, 480, 640)\n",
      "\n",
      "0: 480x640 (no detections), 27.0ms\n",
      "Speed: 1.2ms preprocess, 27.0ms inference, 2.1ms postprocess per image at shape (1, 3, 480, 640)\n",
      "\n",
      "0: 480x640 (no detections), 22.6ms\n",
      "Speed: 1.3ms preprocess, 22.6ms inference, 9.1ms postprocess per image at shape (1, 3, 480, 640)\n",
      "\n",
      "0: 480x640 (no detections), 23.0ms\n",
      "Speed: 1.0ms preprocess, 23.0ms inference, 2.2ms postprocess per image at shape (1, 3, 480, 640)\n",
      "\n",
      "0: 480x640 (no detections), 22.2ms\n",
      "Speed: 1.4ms preprocess, 22.2ms inference, 2.1ms postprocess per image at shape (1, 3, 480, 640)\n",
      "\n",
      "0: 480x640 (no detections), 22.3ms\n",
      "Speed: 1.0ms preprocess, 22.3ms inference, 2.4ms postprocess per image at shape (1, 3, 480, 640)\n",
      "\n",
      "0: 480x640 (no detections), 22.2ms\n",
      "Speed: 1.4ms preprocess, 22.2ms inference, 2.0ms postprocess per image at shape (1, 3, 480, 640)\n",
      "\n",
      "0: 480x640 1 Unripe, 22.2ms\n",
      "Speed: 1.8ms preprocess, 22.2ms inference, 3.5ms postprocess per image at shape (1, 3, 480, 640)\n",
      "tensor([176.2455,  85.3274, 307.0319, 219.9253], device='cuda:0')\n",
      "tensor(0., device='cuda:0')\n",
      "176 85 307 219\n",
      "\n",
      "0: 480x640 1 Unripe, 23.0ms\n",
      "Speed: 1.0ms preprocess, 23.0ms inference, 3.0ms postprocess per image at shape (1, 3, 480, 640)\n",
      "tensor([177.7061,  85.5187, 308.6703, 216.6273], device='cuda:0')\n",
      "tensor(0., device='cuda:0')\n",
      "177 85 308 216\n",
      "\n",
      "0: 480x640 1 Unripe, 22.7ms\n",
      "Speed: 1.2ms preprocess, 22.7ms inference, 3.0ms postprocess per image at shape (1, 3, 480, 640)\n",
      "tensor([181.1841,  87.1949, 311.4027, 221.9995], device='cuda:0')\n",
      "tensor(0., device='cuda:0')\n",
      "181 87 311 221\n",
      "\n",
      "0: 480x640 (no detections), 22.6ms\n",
      "Speed: 1.1ms preprocess, 22.6ms inference, 2.6ms postprocess per image at shape (1, 3, 480, 640)\n",
      "\n",
      "0: 480x640 (no detections), 22.7ms\n",
      "Speed: 1.3ms preprocess, 22.7ms inference, 2.9ms postprocess per image at shape (1, 3, 480, 640)\n",
      "\n",
      "0: 480x640 1 Unripe, 22.7ms\n",
      "Speed: 1.2ms preprocess, 22.7ms inference, 3.5ms postprocess per image at shape (1, 3, 480, 640)\n",
      "tensor([178.5720,  93.4984, 308.5566, 220.5399], device='cuda:0')\n",
      "tensor(0., device='cuda:0')\n",
      "178 93 308 220\n",
      "\n",
      "0: 480x640 1 Unripe, 23.5ms\n",
      "Speed: 1.3ms preprocess, 23.5ms inference, 3.3ms postprocess per image at shape (1, 3, 480, 640)\n",
      "tensor([173.6036,  95.6547, 307.4197, 228.0447], device='cuda:0')\n",
      "tensor(0., device='cuda:0')\n",
      "173 95 307 228\n",
      "\n",
      "0: 480x640 (no detections), 22.7ms\n",
      "Speed: 1.2ms preprocess, 22.7ms inference, 2.1ms postprocess per image at shape (1, 3, 480, 640)\n",
      "\n",
      "0: 480x640 (no detections), 22.6ms\n",
      "Speed: 1.0ms preprocess, 22.6ms inference, 2.5ms postprocess per image at shape (1, 3, 480, 640)\n",
      "\n",
      "0: 480x640 (no detections), 22.7ms\n",
      "Speed: 1.1ms preprocess, 22.7ms inference, 2.5ms postprocess per image at shape (1, 3, 480, 640)\n",
      "\n",
      "0: 480x640 (no detections), 22.7ms\n",
      "Speed: 1.3ms preprocess, 22.7ms inference, 2.0ms postprocess per image at shape (1, 3, 480, 640)\n",
      "\n",
      "0: 480x640 (no detections), 23.5ms\n",
      "Speed: 1.0ms preprocess, 23.5ms inference, 2.2ms postprocess per image at shape (1, 3, 480, 640)\n",
      "\n",
      "0: 480x640 (no detections), 23.3ms\n",
      "Speed: 1.0ms preprocess, 23.3ms inference, 2.3ms postprocess per image at shape (1, 3, 480, 640)\n",
      "\n",
      "0: 480x640 (no detections), 23.3ms\n",
      "Speed: 1.0ms preprocess, 23.3ms inference, 2.4ms postprocess per image at shape (1, 3, 480, 640)\n",
      "\n",
      "0: 480x640 (no detections), 23.4ms\n",
      "Speed: 1.2ms preprocess, 23.4ms inference, 2.2ms postprocess per image at shape (1, 3, 480, 640)\n",
      "\n",
      "0: 480x640 (no detections), 23.4ms\n",
      "Speed: 1.1ms preprocess, 23.4ms inference, 2.3ms postprocess per image at shape (1, 3, 480, 640)\n",
      "\n",
      "0: 480x640 (no detections), 23.3ms\n",
      "Speed: 1.0ms preprocess, 23.3ms inference, 2.5ms postprocess per image at shape (1, 3, 480, 640)\n",
      "\n",
      "0: 480x640 (no detections), 23.4ms\n",
      "Speed: 1.6ms preprocess, 23.4ms inference, 6.2ms postprocess per image at shape (1, 3, 480, 640)\n",
      "\n",
      "0: 480x640 (no detections), 23.5ms\n",
      "Speed: 1.3ms preprocess, 23.5ms inference, 2.4ms postprocess per image at shape (1, 3, 480, 640)\n",
      "\n",
      "0: 480x640 1 Unripe, 23.4ms\n",
      "Speed: 1.3ms preprocess, 23.4ms inference, 2.8ms postprocess per image at shape (1, 3, 480, 640)\n",
      "tensor([165.5912, 100.3970, 298.5228, 235.8873], device='cuda:0')\n",
      "tensor(0., device='cuda:0')\n",
      "165 100 298 235\n",
      "\n",
      "0: 480x640 (no detections), 23.4ms\n",
      "Speed: 1.2ms preprocess, 23.4ms inference, 2.5ms postprocess per image at shape (1, 3, 480, 640)\n",
      "\n",
      "0: 480x640 (no detections), 22.2ms\n",
      "Speed: 1.1ms preprocess, 22.2ms inference, 2.4ms postprocess per image at shape (1, 3, 480, 640)\n",
      "\n",
      "0: 480x640 (no detections), 22.1ms\n",
      "Speed: 1.1ms preprocess, 22.1ms inference, 2.2ms postprocess per image at shape (1, 3, 480, 640)\n",
      "\n",
      "0: 480x640 (no detections), 22.1ms\n",
      "Speed: 2.8ms preprocess, 22.1ms inference, 2.0ms postprocess per image at shape (1, 3, 480, 640)\n",
      "\n",
      "0: 480x640 (no detections), 22.9ms\n",
      "Speed: 1.2ms preprocess, 22.9ms inference, 2.4ms postprocess per image at shape (1, 3, 480, 640)\n",
      "\n",
      "0: 480x640 (no detections), 22.2ms\n",
      "Speed: 1.1ms preprocess, 22.2ms inference, 2.5ms postprocess per image at shape (1, 3, 480, 640)\n",
      "\n",
      "0: 480x640 (no detections), 22.2ms\n",
      "Speed: 1.6ms preprocess, 22.2ms inference, 2.6ms postprocess per image at shape (1, 3, 480, 640)\n",
      "\n",
      "0: 480x640 (no detections), 22.2ms\n",
      "Speed: 1.4ms preprocess, 22.2ms inference, 3.1ms postprocess per image at shape (1, 3, 480, 640)\n",
      "\n",
      "0: 480x640 (no detections), 24.0ms\n",
      "Speed: 1.2ms preprocess, 24.0ms inference, 2.6ms postprocess per image at shape (1, 3, 480, 640)\n",
      "\n",
      "0: 480x640 (no detections), 23.2ms\n",
      "Speed: 1.2ms preprocess, 23.2ms inference, 2.9ms postprocess per image at shape (1, 3, 480, 640)\n",
      "\n",
      "0: 480x640 (no detections), 22.2ms\n",
      "Speed: 1.0ms preprocess, 22.2ms inference, 3.2ms postprocess per image at shape (1, 3, 480, 640)\n",
      "\n",
      "0: 480x640 (no detections), 22.0ms\n",
      "Speed: 1.0ms preprocess, 22.0ms inference, 4.3ms postprocess per image at shape (1, 3, 480, 640)\n",
      "\n",
      "0: 480x640 (no detections), 21.9ms\n",
      "Speed: 1.1ms preprocess, 21.9ms inference, 3.4ms postprocess per image at shape (1, 3, 480, 640)\n",
      "\n",
      "0: 480x640 (no detections), 22.0ms\n",
      "Speed: 1.3ms preprocess, 22.0ms inference, 3.5ms postprocess per image at shape (1, 3, 480, 640)\n",
      "\n",
      "0: 480x640 (no detections), 22.1ms\n",
      "Speed: 1.0ms preprocess, 22.1ms inference, 3.4ms postprocess per image at shape (1, 3, 480, 640)\n",
      "\n",
      "0: 480x640 (no detections), 22.1ms\n",
      "Speed: 1.0ms preprocess, 22.1ms inference, 3.2ms postprocess per image at shape (1, 3, 480, 640)\n",
      "\n",
      "0: 480x640 (no detections), 22.1ms\n",
      "Speed: 1.0ms preprocess, 22.1ms inference, 6.1ms postprocess per image at shape (1, 3, 480, 640)\n",
      "\n",
      "0: 480x640 (no detections), 22.0ms\n",
      "Speed: 1.2ms preprocess, 22.0ms inference, 3.4ms postprocess per image at shape (1, 3, 480, 640)\n",
      "\n",
      "0: 480x640 (no detections), 21.5ms\n",
      "Speed: 1.7ms preprocess, 21.5ms inference, 5.2ms postprocess per image at shape (1, 3, 480, 640)\n",
      "\n",
      "0: 480x640 (no detections), 22.4ms\n",
      "Speed: 1.1ms preprocess, 22.4ms inference, 3.5ms postprocess per image at shape (1, 3, 480, 640)\n",
      "\n",
      "0: 480x640 (no detections), 22.0ms\n",
      "Speed: 1.1ms preprocess, 22.0ms inference, 3.3ms postprocess per image at shape (1, 3, 480, 640)\n",
      "\n",
      "0: 480x640 (no detections), 22.2ms\n",
      "Speed: 0.9ms preprocess, 22.2ms inference, 4.1ms postprocess per image at shape (1, 3, 480, 640)\n",
      "\n",
      "0: 480x640 (no detections), 22.1ms\n",
      "Speed: 1.1ms preprocess, 22.1ms inference, 3.4ms postprocess per image at shape (1, 3, 480, 640)\n",
      "\n",
      "0: 480x640 (no detections), 22.2ms\n",
      "Speed: 1.1ms preprocess, 22.2ms inference, 3.8ms postprocess per image at shape (1, 3, 480, 640)\n",
      "\n",
      "0: 480x640 (no detections), 22.0ms\n",
      "Speed: 0.9ms preprocess, 22.0ms inference, 2.3ms postprocess per image at shape (1, 3, 480, 640)\n",
      "\n",
      "0: 480x640 (no detections), 22.9ms\n",
      "Speed: 1.1ms preprocess, 22.9ms inference, 2.2ms postprocess per image at shape (1, 3, 480, 640)\n",
      "\n",
      "0: 480x640 (no detections), 22.1ms\n",
      "Speed: 1.0ms preprocess, 22.1ms inference, 2.5ms postprocess per image at shape (1, 3, 480, 640)\n",
      "\n",
      "0: 480x640 (no detections), 22.1ms\n",
      "Speed: 1.3ms preprocess, 22.1ms inference, 2.4ms postprocess per image at shape (1, 3, 480, 640)\n",
      "\n",
      "0: 480x640 (no detections), 22.4ms\n",
      "Speed: 1.4ms preprocess, 22.4ms inference, 2.3ms postprocess per image at shape (1, 3, 480, 640)\n",
      "\n",
      "0: 480x640 (no detections), 23.2ms\n",
      "Speed: 1.2ms preprocess, 23.2ms inference, 2.0ms postprocess per image at shape (1, 3, 480, 640)\n",
      "\n",
      "0: 480x640 (no detections), 22.2ms\n",
      "Speed: 1.2ms preprocess, 22.2ms inference, 2.3ms postprocess per image at shape (1, 3, 480, 640)\n",
      "\n",
      "0: 480x640 (no detections), 22.1ms\n",
      "Speed: 1.0ms preprocess, 22.1ms inference, 2.5ms postprocess per image at shape (1, 3, 480, 640)\n",
      "\n",
      "0: 480x640 (no detections), 22.0ms\n",
      "Speed: 1.2ms preprocess, 22.0ms inference, 2.0ms postprocess per image at shape (1, 3, 480, 640)\n",
      "\n",
      "0: 480x640 (no detections), 22.2ms\n",
      "Speed: 1.3ms preprocess, 22.2ms inference, 2.3ms postprocess per image at shape (1, 3, 480, 640)\n",
      "\n",
      "0: 480x640 (no detections), 22.1ms\n",
      "Speed: 1.3ms preprocess, 22.1ms inference, 1.9ms postprocess per image at shape (1, 3, 480, 640)\n",
      "\n",
      "0: 480x640 (no detections), 22.2ms\n",
      "Speed: 1.0ms preprocess, 22.2ms inference, 2.1ms postprocess per image at shape (1, 3, 480, 640)\n",
      "\n",
      "0: 480x640 (no detections), 28.2ms\n",
      "Speed: 1.1ms preprocess, 28.2ms inference, 2.6ms postprocess per image at shape (1, 3, 480, 640)\n",
      "\n",
      "0: 480x640 (no detections), 22.6ms\n",
      "Speed: 1.1ms preprocess, 22.6ms inference, 2.2ms postprocess per image at shape (1, 3, 480, 640)\n",
      "\n",
      "0: 480x640 (no detections), 22.1ms\n",
      "Speed: 1.4ms preprocess, 22.1ms inference, 3.5ms postprocess per image at shape (1, 3, 480, 640)\n",
      "\n",
      "0: 480x640 (no detections), 23.2ms\n",
      "Speed: 1.7ms preprocess, 23.2ms inference, 2.3ms postprocess per image at shape (1, 3, 480, 640)\n",
      "\n",
      "0: 480x640 (no detections), 22.7ms\n",
      "Speed: 1.1ms preprocess, 22.7ms inference, 2.1ms postprocess per image at shape (1, 3, 480, 640)\n",
      "\n",
      "0: 480x640 (no detections), 21.8ms\n",
      "Speed: 1.3ms preprocess, 21.8ms inference, 2.2ms postprocess per image at shape (1, 3, 480, 640)\n",
      "\n",
      "0: 480x640 (no detections), 22.0ms\n",
      "Speed: 1.1ms preprocess, 22.0ms inference, 2.3ms postprocess per image at shape (1, 3, 480, 640)\n",
      "\n",
      "0: 480x640 (no detections), 21.7ms\n",
      "Speed: 1.2ms preprocess, 21.7ms inference, 2.5ms postprocess per image at shape (1, 3, 480, 640)\n",
      "\n",
      "0: 480x640 (no detections), 21.6ms\n",
      "Speed: 1.1ms preprocess, 21.6ms inference, 2.4ms postprocess per image at shape (1, 3, 480, 640)\n",
      "\n",
      "0: 480x640 (no detections), 21.6ms\n",
      "Speed: 1.1ms preprocess, 21.6ms inference, 2.1ms postprocess per image at shape (1, 3, 480, 640)\n",
      "\n",
      "0: 480x640 (no detections), 21.6ms\n",
      "Speed: 1.1ms preprocess, 21.6ms inference, 2.5ms postprocess per image at shape (1, 3, 480, 640)\n",
      "\n",
      "0: 480x640 (no detections), 21.5ms\n",
      "Speed: 1.2ms preprocess, 21.5ms inference, 2.1ms postprocess per image at shape (1, 3, 480, 640)\n",
      "\n",
      "0: 480x640 (no detections), 30.1ms\n",
      "Speed: 1.1ms preprocess, 30.1ms inference, 1.8ms postprocess per image at shape (1, 3, 480, 640)\n",
      "\n",
      "0: 480x640 (no detections), 37.2ms\n",
      "Speed: 1.2ms preprocess, 37.2ms inference, 2.3ms postprocess per image at shape (1, 3, 480, 640)\n",
      "\n",
      "0: 480x640 (no detections), 37.3ms\n",
      "Speed: 1.0ms preprocess, 37.3ms inference, 2.3ms postprocess per image at shape (1, 3, 480, 640)\n",
      "\n",
      "0: 480x640 (no detections), 37.3ms\n",
      "Speed: 5.2ms preprocess, 37.3ms inference, 2.8ms postprocess per image at shape (1, 3, 480, 640)\n",
      "\n",
      "0: 480x640 (no detections), 37.3ms\n",
      "Speed: 1.4ms preprocess, 37.3ms inference, 2.0ms postprocess per image at shape (1, 3, 480, 640)\n",
      "\n",
      "0: 480x640 (no detections), 37.3ms\n",
      "Speed: 1.1ms preprocess, 37.3ms inference, 2.3ms postprocess per image at shape (1, 3, 480, 640)\n",
      "\n",
      "0: 480x640 (no detections), 37.2ms\n",
      "Speed: 1.0ms preprocess, 37.2ms inference, 2.1ms postprocess per image at shape (1, 3, 480, 640)\n",
      "\n",
      "0: 480x640 (no detections), 37.3ms\n",
      "Speed: 1.7ms preprocess, 37.3ms inference, 2.2ms postprocess per image at shape (1, 3, 480, 640)\n",
      "\n",
      "0: 480x640 (no detections), 37.2ms\n",
      "Speed: 1.0ms preprocess, 37.2ms inference, 2.3ms postprocess per image at shape (1, 3, 480, 640)\n",
      "\n",
      "0: 480x640 (no detections), 37.2ms\n",
      "Speed: 1.0ms preprocess, 37.2ms inference, 12.7ms postprocess per image at shape (1, 3, 480, 640)\n",
      "\n",
      "0: 480x640 (no detections), 37.3ms\n",
      "Speed: 1.0ms preprocess, 37.3ms inference, 3.0ms postprocess per image at shape (1, 3, 480, 640)\n",
      "\n",
      "0: 480x640 (no detections), 35.1ms\n",
      "Speed: 1.2ms preprocess, 35.1ms inference, 2.2ms postprocess per image at shape (1, 3, 480, 640)\n",
      "\n",
      "0: 480x640 (no detections), 33.9ms\n",
      "Speed: 1.9ms preprocess, 33.9ms inference, 2.1ms postprocess per image at shape (1, 3, 480, 640)\n",
      "\n",
      "0: 480x640 (no detections), 34.6ms\n",
      "Speed: 1.0ms preprocess, 34.6ms inference, 2.5ms postprocess per image at shape (1, 3, 480, 640)\n",
      "\n",
      "0: 480x640 (no detections), 33.9ms\n",
      "Speed: 1.1ms preprocess, 33.9ms inference, 4.5ms postprocess per image at shape (1, 3, 480, 640)\n",
      "\n",
      "0: 480x640 (no detections), 32.4ms\n",
      "Speed: 1.3ms preprocess, 32.4ms inference, 2.6ms postprocess per image at shape (1, 3, 480, 640)\n",
      "\n",
      "0: 480x640 (no detections), 34.4ms\n",
      "Speed: 2.5ms preprocess, 34.4ms inference, 2.1ms postprocess per image at shape (1, 3, 480, 640)\n",
      "\n",
      "0: 480x640 (no detections), 31.1ms\n",
      "Speed: 1.8ms preprocess, 31.1ms inference, 3.0ms postprocess per image at shape (1, 3, 480, 640)\n",
      "\n",
      "0: 480x640 (no detections), 27.0ms\n",
      "Speed: 1.0ms preprocess, 27.0ms inference, 2.3ms postprocess per image at shape (1, 3, 480, 640)\n",
      "\n",
      "0: 480x640 (no detections), 26.4ms\n",
      "Speed: 1.1ms preprocess, 26.4ms inference, 2.5ms postprocess per image at shape (1, 3, 480, 640)\n",
      "\n",
      "0: 480x640 (no detections), 26.3ms\n",
      "Speed: 1.4ms preprocess, 26.3ms inference, 2.1ms postprocess per image at shape (1, 3, 480, 640)\n",
      "\n",
      "0: 480x640 (no detections), 26.2ms\n",
      "Speed: 1.0ms preprocess, 26.2ms inference, 3.0ms postprocess per image at shape (1, 3, 480, 640)\n",
      "\n",
      "0: 480x640 (no detections), 26.3ms\n",
      "Speed: 1.7ms preprocess, 26.3ms inference, 2.1ms postprocess per image at shape (1, 3, 480, 640)\n",
      "\n",
      "0: 480x640 (no detections), 22.5ms\n",
      "Speed: 1.1ms preprocess, 22.5ms inference, 3.3ms postprocess per image at shape (1, 3, 480, 640)\n",
      "\n",
      "0: 480x640 (no detections), 22.5ms\n",
      "Speed: 1.1ms preprocess, 22.5ms inference, 2.0ms postprocess per image at shape (1, 3, 480, 640)\n",
      "\n",
      "0: 480x640 (no detections), 28.3ms\n",
      "Speed: 1.3ms preprocess, 28.3ms inference, 3.9ms postprocess per image at shape (1, 3, 480, 640)\n",
      "\n",
      "0: 480x640 (no detections), 22.5ms\n",
      "Speed: 1.1ms preprocess, 22.5ms inference, 12.8ms postprocess per image at shape (1, 3, 480, 640)\n",
      "\n",
      "0: 480x640 (no detections), 22.5ms\n",
      "Speed: 1.2ms preprocess, 22.5ms inference, 2.2ms postprocess per image at shape (1, 3, 480, 640)\n",
      "\n",
      "0: 480x640 (no detections), 22.5ms\n",
      "Speed: 1.1ms preprocess, 22.5ms inference, 3.3ms postprocess per image at shape (1, 3, 480, 640)\n",
      "\n",
      "0: 480x640 (no detections), 22.5ms\n",
      "Speed: 1.3ms preprocess, 22.5ms inference, 2.1ms postprocess per image at shape (1, 3, 480, 640)\n",
      "\n",
      "0: 480x640 (no detections), 22.5ms\n",
      "Speed: 1.0ms preprocess, 22.5ms inference, 2.1ms postprocess per image at shape (1, 3, 480, 640)\n",
      "\n",
      "0: 480x640 (no detections), 22.5ms\n",
      "Speed: 1.0ms preprocess, 22.5ms inference, 2.1ms postprocess per image at shape (1, 3, 480, 640)\n",
      "\n",
      "0: 480x640 (no detections), 22.5ms\n",
      "Speed: 1.1ms preprocess, 22.5ms inference, 2.1ms postprocess per image at shape (1, 3, 480, 640)\n",
      "\n",
      "0: 480x640 (no detections), 21.6ms\n",
      "Speed: 1.1ms preprocess, 21.6ms inference, 2.7ms postprocess per image at shape (1, 3, 480, 640)\n",
      "\n",
      "0: 480x640 (no detections), 21.5ms\n",
      "Speed: 0.9ms preprocess, 21.5ms inference, 2.1ms postprocess per image at shape (1, 3, 480, 640)\n",
      "\n",
      "0: 480x640 (no detections), 21.6ms\n",
      "Speed: 1.0ms preprocess, 21.6ms inference, 2.1ms postprocess per image at shape (1, 3, 480, 640)\n",
      "\n",
      "0: 480x640 (no detections), 21.5ms\n",
      "Speed: 1.0ms preprocess, 21.5ms inference, 2.2ms postprocess per image at shape (1, 3, 480, 640)\n",
      "\n",
      "0: 480x640 (no detections), 21.7ms\n",
      "Speed: 1.1ms preprocess, 21.7ms inference, 2.1ms postprocess per image at shape (1, 3, 480, 640)\n",
      "\n",
      "0: 480x640 (no detections), 21.8ms\n",
      "Speed: 1.6ms preprocess, 21.8ms inference, 2.1ms postprocess per image at shape (1, 3, 480, 640)\n",
      "\n",
      "0: 480x640 (no detections), 25.4ms\n",
      "Speed: 1.3ms preprocess, 25.4ms inference, 10.0ms postprocess per image at shape (1, 3, 480, 640)\n",
      "\n",
      "0: 480x640 (no detections), 21.6ms\n",
      "Speed: 1.9ms preprocess, 21.6ms inference, 2.4ms postprocess per image at shape (1, 3, 480, 640)\n",
      "\n",
      "0: 480x640 (no detections), 31.6ms\n",
      "Speed: 1.1ms preprocess, 31.6ms inference, 2.1ms postprocess per image at shape (1, 3, 480, 640)\n",
      "\n",
      "0: 480x640 (no detections), 37.3ms\n",
      "Speed: 1.7ms preprocess, 37.3ms inference, 2.3ms postprocess per image at shape (1, 3, 480, 640)\n",
      "\n",
      "0: 480x640 (no detections), 37.3ms\n",
      "Speed: 1.1ms preprocess, 37.3ms inference, 13.1ms postprocess per image at shape (1, 3, 480, 640)\n",
      "\n",
      "0: 480x640 (no detections), 37.2ms\n",
      "Speed: 1.0ms preprocess, 37.2ms inference, 2.3ms postprocess per image at shape (1, 3, 480, 640)\n",
      "\n",
      "0: 480x640 (no detections), 37.2ms\n",
      "Speed: 1.0ms preprocess, 37.2ms inference, 2.2ms postprocess per image at shape (1, 3, 480, 640)\n",
      "\n",
      "0: 480x640 (no detections), 37.3ms\n",
      "Speed: 1.1ms preprocess, 37.3ms inference, 2.5ms postprocess per image at shape (1, 3, 480, 640)\n",
      "\n",
      "0: 480x640 (no detections), 37.2ms\n",
      "Speed: 1.8ms preprocess, 37.2ms inference, 2.1ms postprocess per image at shape (1, 3, 480, 640)\n",
      "\n",
      "0: 480x640 (no detections), 37.3ms\n",
      "Speed: 3.0ms preprocess, 37.3ms inference, 2.5ms postprocess per image at shape (1, 3, 480, 640)\n",
      "\n",
      "0: 480x640 (no detections), 37.3ms\n",
      "Speed: 1.1ms preprocess, 37.3ms inference, 2.4ms postprocess per image at shape (1, 3, 480, 640)\n",
      "\n",
      "0: 480x640 (no detections), 37.3ms\n",
      "Speed: 1.3ms preprocess, 37.3ms inference, 2.6ms postprocess per image at shape (1, 3, 480, 640)\n",
      "\n",
      "0: 480x640 (no detections), 38.3ms\n",
      "Speed: 1.2ms preprocess, 38.3ms inference, 2.8ms postprocess per image at shape (1, 3, 480, 640)\n",
      "\n",
      "0: 480x640 (no detections), 33.5ms\n",
      "Speed: 1.2ms preprocess, 33.5ms inference, 2.5ms postprocess per image at shape (1, 3, 480, 640)\n",
      "\n",
      "0: 480x640 (no detections), 32.4ms\n",
      "Speed: 1.1ms preprocess, 32.4ms inference, 2.3ms postprocess per image at shape (1, 3, 480, 640)\n",
      "\n",
      "0: 480x640 (no detections), 31.4ms\n",
      "Speed: 1.0ms preprocess, 31.4ms inference, 2.1ms postprocess per image at shape (1, 3, 480, 640)\n",
      "\n",
      "0: 480x640 (no detections), 30.4ms\n",
      "Speed: 1.6ms preprocess, 30.4ms inference, 2.3ms postprocess per image at shape (1, 3, 480, 640)\n",
      "\n",
      "0: 480x640 (no detections), 32.2ms\n",
      "Speed: 1.1ms preprocess, 32.2ms inference, 2.3ms postprocess per image at shape (1, 3, 480, 640)\n",
      "\n",
      "0: 480x640 (no detections), 31.3ms\n",
      "Speed: 1.5ms preprocess, 31.3ms inference, 2.5ms postprocess per image at shape (1, 3, 480, 640)\n",
      "\n",
      "0: 480x640 (no detections), 31.4ms\n",
      "Speed: 1.2ms preprocess, 31.4ms inference, 2.4ms postprocess per image at shape (1, 3, 480, 640)\n",
      "\n",
      "0: 480x640 (no detections), 31.2ms\n",
      "Speed: 1.1ms preprocess, 31.2ms inference, 2.7ms postprocess per image at shape (1, 3, 480, 640)\n",
      "\n",
      "0: 480x640 (no detections), 31.3ms\n",
      "Speed: 1.1ms preprocess, 31.3ms inference, 14.6ms postprocess per image at shape (1, 3, 480, 640)\n",
      "\n",
      "0: 480x640 (no detections), 30.7ms\n",
      "Speed: 1.1ms preprocess, 30.7ms inference, 2.1ms postprocess per image at shape (1, 3, 480, 640)\n",
      "\n",
      "0: 480x640 (no detections), 27.4ms\n",
      "Speed: 1.7ms preprocess, 27.4ms inference, 2.1ms postprocess per image at shape (1, 3, 480, 640)\n",
      "\n",
      "0: 480x640 (no detections), 32.0ms\n",
      "Speed: 1.3ms preprocess, 32.0ms inference, 7.5ms postprocess per image at shape (1, 3, 480, 640)\n",
      "\n",
      "0: 480x640 (no detections), 24.2ms\n",
      "Speed: 1.5ms preprocess, 24.2ms inference, 2.3ms postprocess per image at shape (1, 3, 480, 640)\n",
      "\n",
      "0: 480x640 (no detections), 24.3ms\n",
      "Speed: 1.0ms preprocess, 24.3ms inference, 1.9ms postprocess per image at shape (1, 3, 480, 640)\n",
      "\n",
      "0: 480x640 (no detections), 23.9ms\n",
      "Speed: 1.0ms preprocess, 23.9ms inference, 3.0ms postprocess per image at shape (1, 3, 480, 640)\n",
      "\n",
      "0: 480x640 (no detections), 24.0ms\n",
      "Speed: 1.8ms preprocess, 24.0ms inference, 1.9ms postprocess per image at shape (1, 3, 480, 640)\n",
      "\n",
      "0: 480x640 (no detections), 23.9ms\n",
      "Speed: 1.0ms preprocess, 23.9ms inference, 2.0ms postprocess per image at shape (1, 3, 480, 640)\n",
      "\n",
      "0: 480x640 (no detections), 23.9ms\n",
      "Speed: 1.0ms preprocess, 23.9ms inference, 2.2ms postprocess per image at shape (1, 3, 480, 640)\n",
      "\n",
      "0: 480x640 (no detections), 23.9ms\n",
      "Speed: 1.0ms preprocess, 23.9ms inference, 2.0ms postprocess per image at shape (1, 3, 480, 640)\n",
      "\n",
      "0: 480x640 (no detections), 23.9ms\n",
      "Speed: 1.0ms preprocess, 23.9ms inference, 3.0ms postprocess per image at shape (1, 3, 480, 640)\n",
      "\n",
      "0: 480x640 (no detections), 23.9ms\n",
      "Speed: 1.3ms preprocess, 23.9ms inference, 2.2ms postprocess per image at shape (1, 3, 480, 640)\n",
      "\n",
      "0: 480x640 (no detections), 22.9ms\n",
      "Speed: 3.5ms preprocess, 22.9ms inference, 9.5ms postprocess per image at shape (1, 3, 480, 640)\n",
      "\n",
      "0: 480x640 (no detections), 23.2ms\n",
      "Speed: 1.3ms preprocess, 23.2ms inference, 2.4ms postprocess per image at shape (1, 3, 480, 640)\n",
      "\n",
      "0: 480x640 (no detections), 22.6ms\n",
      "Speed: 1.1ms preprocess, 22.6ms inference, 2.0ms postprocess per image at shape (1, 3, 480, 640)\n",
      "\n",
      "0: 480x640 (no detections), 22.5ms\n",
      "Speed: 1.1ms preprocess, 22.5ms inference, 2.4ms postprocess per image at shape (1, 3, 480, 640)\n",
      "\n",
      "0: 480x640 (no detections), 22.5ms\n",
      "Speed: 1.2ms preprocess, 22.5ms inference, 13.6ms postprocess per image at shape (1, 3, 480, 640)\n",
      "\n",
      "0: 480x640 (no detections), 22.9ms\n",
      "Speed: 1.1ms preprocess, 22.9ms inference, 2.2ms postprocess per image at shape (1, 3, 480, 640)\n",
      "\n",
      "0: 480x640 (no detections), 22.6ms\n",
      "Speed: 1.1ms preprocess, 22.6ms inference, 2.3ms postprocess per image at shape (1, 3, 480, 640)\n",
      "\n",
      "0: 480x640 (no detections), 22.8ms\n",
      "Speed: 1.0ms preprocess, 22.8ms inference, 2.6ms postprocess per image at shape (1, 3, 480, 640)\n",
      "\n",
      "0: 480x640 (no detections), 23.6ms\n",
      "Speed: 1.0ms preprocess, 23.6ms inference, 2.6ms postprocess per image at shape (1, 3, 480, 640)\n",
      "\n",
      "0: 480x640 (no detections), 22.5ms\n",
      "Speed: 1.4ms preprocess, 22.5ms inference, 2.2ms postprocess per image at shape (1, 3, 480, 640)\n",
      "\n",
      "0: 480x640 (no detections), 22.7ms\n",
      "Speed: 1.3ms preprocess, 22.7ms inference, 2.7ms postprocess per image at shape (1, 3, 480, 640)\n",
      "\n",
      "0: 480x640 (no detections), 22.4ms\n",
      "Speed: 1.1ms preprocess, 22.4ms inference, 2.1ms postprocess per image at shape (1, 3, 480, 640)\n",
      "\n",
      "0: 480x640 (no detections), 22.5ms\n",
      "Speed: 1.0ms preprocess, 22.5ms inference, 2.0ms postprocess per image at shape (1, 3, 480, 640)\n",
      "\n",
      "0: 480x640 (no detections), 22.4ms\n",
      "Speed: 1.3ms preprocess, 22.4ms inference, 2.8ms postprocess per image at shape (1, 3, 480, 640)\n",
      "\n",
      "0: 480x640 (no detections), 22.3ms\n",
      "Speed: 1.2ms preprocess, 22.3ms inference, 3.0ms postprocess per image at shape (1, 3, 480, 640)\n",
      "\n",
      "0: 480x640 (no detections), 23.6ms\n",
      "Speed: 1.1ms preprocess, 23.6ms inference, 2.2ms postprocess per image at shape (1, 3, 480, 640)\n",
      "\n",
      "0: 480x640 (no detections), 22.6ms\n",
      "Speed: 1.0ms preprocess, 22.6ms inference, 2.5ms postprocess per image at shape (1, 3, 480, 640)\n",
      "\n",
      "0: 480x640 (no detections), 22.6ms\n",
      "Speed: 1.3ms preprocess, 22.6ms inference, 2.4ms postprocess per image at shape (1, 3, 480, 640)\n",
      "\n",
      "0: 480x640 (no detections), 22.7ms\n",
      "Speed: 1.0ms preprocess, 22.7ms inference, 2.4ms postprocess per image at shape (1, 3, 480, 640)\n",
      "\n",
      "0: 480x640 (no detections), 22.5ms\n",
      "Speed: 1.4ms preprocess, 22.5ms inference, 2.6ms postprocess per image at shape (1, 3, 480, 640)\n",
      "\n",
      "0: 480x640 (no detections), 22.7ms\n",
      "Speed: 1.0ms preprocess, 22.7ms inference, 2.6ms postprocess per image at shape (1, 3, 480, 640)\n",
      "\n",
      "0: 480x640 (no detections), 22.5ms\n",
      "Speed: 1.0ms preprocess, 22.5ms inference, 11.6ms postprocess per image at shape (1, 3, 480, 640)\n",
      "\n",
      "0: 480x640 (no detections), 22.7ms\n",
      "Speed: 1.1ms preprocess, 22.7ms inference, 2.2ms postprocess per image at shape (1, 3, 480, 640)\n",
      "\n",
      "0: 480x640 (no detections), 22.5ms\n",
      "Speed: 1.1ms preprocess, 22.5ms inference, 2.6ms postprocess per image at shape (1, 3, 480, 640)\n",
      "\n",
      "0: 480x640 (no detections), 28.3ms\n",
      "Speed: 1.3ms preprocess, 28.3ms inference, 11.1ms postprocess per image at shape (1, 3, 480, 640)\n",
      "\n",
      "0: 480x640 (no detections), 28.9ms\n",
      "Speed: 1.3ms preprocess, 28.9ms inference, 2.9ms postprocess per image at shape (1, 3, 480, 640)\n",
      "\n",
      "0: 480x640 (no detections), 22.6ms\n",
      "Speed: 1.1ms preprocess, 22.6ms inference, 2.8ms postprocess per image at shape (1, 3, 480, 640)\n",
      "\n",
      "0: 480x640 (no detections), 23.1ms\n",
      "Speed: 1.0ms preprocess, 23.1ms inference, 2.1ms postprocess per image at shape (1, 3, 480, 640)\n",
      "\n",
      "0: 480x640 (no detections), 22.8ms\n",
      "Speed: 1.1ms preprocess, 22.8ms inference, 2.8ms postprocess per image at shape (1, 3, 480, 640)\n",
      "\n",
      "0: 480x640 (no detections), 22.5ms\n",
      "Speed: 1.4ms preprocess, 22.5ms inference, 2.3ms postprocess per image at shape (1, 3, 480, 640)\n",
      "\n",
      "0: 480x640 (no detections), 22.7ms\n",
      "Speed: 1.1ms preprocess, 22.7ms inference, 2.5ms postprocess per image at shape (1, 3, 480, 640)\n",
      "\n",
      "0: 480x640 (no detections), 22.5ms\n",
      "Speed: 1.0ms preprocess, 22.5ms inference, 2.4ms postprocess per image at shape (1, 3, 480, 640)\n",
      "\n",
      "0: 480x640 (no detections), 22.6ms\n",
      "Speed: 1.0ms preprocess, 22.6ms inference, 2.1ms postprocess per image at shape (1, 3, 480, 640)\n",
      "\n",
      "0: 480x640 (no detections), 22.5ms\n",
      "Speed: 1.0ms preprocess, 22.5ms inference, 3.2ms postprocess per image at shape (1, 3, 480, 640)\n",
      "\n",
      "0: 480x640 (no detections), 22.1ms\n",
      "Speed: 1.3ms preprocess, 22.1ms inference, 2.7ms postprocess per image at shape (1, 3, 480, 640)\n",
      "\n",
      "0: 480x640 (no detections), 23.0ms\n",
      "Speed: 1.0ms preprocess, 23.0ms inference, 2.3ms postprocess per image at shape (1, 3, 480, 640)\n",
      "\n",
      "0: 480x640 (no detections), 22.7ms\n",
      "Speed: 1.0ms preprocess, 22.7ms inference, 2.4ms postprocess per image at shape (1, 3, 480, 640)\n",
      "\n",
      "0: 480x640 (no detections), 22.6ms\n",
      "Speed: 1.0ms preprocess, 22.6ms inference, 5.9ms postprocess per image at shape (1, 3, 480, 640)\n",
      "\n",
      "0: 480x640 (no detections), 23.6ms\n",
      "Speed: 1.2ms preprocess, 23.6ms inference, 15.5ms postprocess per image at shape (1, 3, 480, 640)\n",
      "\n",
      "0: 480x640 (no detections), 22.2ms\n",
      "Speed: 1.1ms preprocess, 22.2ms inference, 3.6ms postprocess per image at shape (1, 3, 480, 640)\n",
      "\n",
      "0: 480x640 (no detections), 23.3ms\n",
      "Speed: 1.2ms preprocess, 23.3ms inference, 3.6ms postprocess per image at shape (1, 3, 480, 640)\n",
      "\n",
      "0: 480x640 (no detections), 23.2ms\n",
      "Speed: 1.0ms preprocess, 23.2ms inference, 3.8ms postprocess per image at shape (1, 3, 480, 640)\n",
      "\n",
      "0: 480x640 (no detections), 23.1ms\n",
      "Speed: 1.3ms preprocess, 23.1ms inference, 4.5ms postprocess per image at shape (1, 3, 480, 640)\n",
      "\n",
      "0: 480x640 (no detections), 23.2ms\n",
      "Speed: 1.0ms preprocess, 23.2ms inference, 3.4ms postprocess per image at shape (1, 3, 480, 640)\n",
      "\n",
      "0: 480x640 (no detections), 23.2ms\n",
      "Speed: 1.3ms preprocess, 23.2ms inference, 3.1ms postprocess per image at shape (1, 3, 480, 640)\n",
      "\n",
      "0: 480x640 (no detections), 23.3ms\n",
      "Speed: 1.2ms preprocess, 23.3ms inference, 5.2ms postprocess per image at shape (1, 3, 480, 640)\n",
      "\n",
      "0: 480x640 (no detections), 23.3ms\n",
      "Speed: 1.2ms preprocess, 23.3ms inference, 3.9ms postprocess per image at shape (1, 3, 480, 640)\n",
      "\n",
      "0: 480x640 (no detections), 23.2ms\n",
      "Speed: 1.1ms preprocess, 23.2ms inference, 5.6ms postprocess per image at shape (1, 3, 480, 640)\n",
      "\n",
      "0: 480x640 (no detections), 23.1ms\n",
      "Speed: 1.4ms preprocess, 23.1ms inference, 5.2ms postprocess per image at shape (1, 3, 480, 640)\n",
      "\n",
      "0: 480x640 (no detections), 23.3ms\n",
      "Speed: 1.0ms preprocess, 23.3ms inference, 3.1ms postprocess per image at shape (1, 3, 480, 640)\n",
      "\n",
      "0: 480x640 (no detections), 22.6ms\n",
      "Speed: 0.9ms preprocess, 22.6ms inference, 4.4ms postprocess per image at shape (1, 3, 480, 640)\n",
      "\n",
      "0: 480x640 (no detections), 22.5ms\n",
      "Speed: 1.0ms preprocess, 22.5ms inference, 3.9ms postprocess per image at shape (1, 3, 480, 640)\n",
      "\n",
      "0: 480x640 (no detections), 22.6ms\n",
      "Speed: 1.1ms preprocess, 22.6ms inference, 3.1ms postprocess per image at shape (1, 3, 480, 640)\n",
      "\n",
      "0: 480x640 (no detections), 22.6ms\n",
      "Speed: 0.9ms preprocess, 22.6ms inference, 3.6ms postprocess per image at shape (1, 3, 480, 640)\n",
      "\n",
      "0: 480x640 (no detections), 22.5ms\n",
      "Speed: 1.4ms preprocess, 22.5ms inference, 4.0ms postprocess per image at shape (1, 3, 480, 640)\n",
      "\n",
      "0: 480x640 (no detections), 22.6ms\n",
      "Speed: 1.4ms preprocess, 22.6ms inference, 10.7ms postprocess per image at shape (1, 3, 480, 640)\n",
      "\n",
      "0: 480x640 (no detections), 22.7ms\n",
      "Speed: 1.1ms preprocess, 22.7ms inference, 2.2ms postprocess per image at shape (1, 3, 480, 640)\n",
      "\n",
      "0: 480x640 (no detections), 22.7ms\n",
      "Speed: 1.1ms preprocess, 22.7ms inference, 2.5ms postprocess per image at shape (1, 3, 480, 640)\n",
      "\n",
      "0: 480x640 (no detections), 22.6ms\n",
      "Speed: 1.0ms preprocess, 22.6ms inference, 2.4ms postprocess per image at shape (1, 3, 480, 640)\n",
      "\n",
      "0: 480x640 (no detections), 27.1ms\n",
      "Speed: 4.4ms preprocess, 27.1ms inference, 12.8ms postprocess per image at shape (1, 3, 480, 640)\n",
      "\n",
      "0: 480x640 (no detections), 24.0ms\n",
      "Speed: 1.2ms preprocess, 24.0ms inference, 2.5ms postprocess per image at shape (1, 3, 480, 640)\n",
      "\n",
      "0: 480x640 (no detections), 24.0ms\n",
      "Speed: 1.1ms preprocess, 24.0ms inference, 2.1ms postprocess per image at shape (1, 3, 480, 640)\n",
      "\n",
      "0: 480x640 (no detections), 23.8ms\n",
      "Speed: 1.2ms preprocess, 23.8ms inference, 2.3ms postprocess per image at shape (1, 3, 480, 640)\n",
      "\n",
      "0: 480x640 (no detections), 24.1ms\n",
      "Speed: 1.1ms preprocess, 24.1ms inference, 2.5ms postprocess per image at shape (1, 3, 480, 640)\n",
      "\n",
      "0: 480x640 (no detections), 24.3ms\n",
      "Speed: 1.7ms preprocess, 24.3ms inference, 2.6ms postprocess per image at shape (1, 3, 480, 640)\n",
      "\n",
      "0: 480x640 (no detections), 24.4ms\n",
      "Speed: 1.1ms preprocess, 24.4ms inference, 2.4ms postprocess per image at shape (1, 3, 480, 640)\n",
      "\n",
      "0: 480x640 (no detections), 24.2ms\n",
      "Speed: 1.2ms preprocess, 24.2ms inference, 3.0ms postprocess per image at shape (1, 3, 480, 640)\n",
      "\n",
      "0: 480x640 (no detections), 24.1ms\n",
      "Speed: 1.3ms preprocess, 24.1ms inference, 2.1ms postprocess per image at shape (1, 3, 480, 640)\n",
      "\n",
      "0: 480x640 (no detections), 26.5ms\n",
      "Speed: 1.0ms preprocess, 26.5ms inference, 2.6ms postprocess per image at shape (1, 3, 480, 640)\n",
      "\n",
      "0: 480x640 (no detections), 24.7ms\n",
      "Speed: 1.2ms preprocess, 24.7ms inference, 17.9ms postprocess per image at shape (1, 3, 480, 640)\n",
      "\n",
      "0: 480x640 (no detections), 24.0ms\n",
      "Speed: 1.1ms preprocess, 24.0ms inference, 2.7ms postprocess per image at shape (1, 3, 480, 640)\n",
      "\n",
      "0: 480x640 (no detections), 23.9ms\n",
      "Speed: 1.1ms preprocess, 23.9ms inference, 2.8ms postprocess per image at shape (1, 3, 480, 640)\n",
      "\n",
      "0: 480x640 (no detections), 23.8ms\n",
      "Speed: 1.5ms preprocess, 23.8ms inference, 13.0ms postprocess per image at shape (1, 3, 480, 640)\n",
      "\n",
      "0: 480x640 (no detections), 23.9ms\n",
      "Speed: 1.0ms preprocess, 23.9ms inference, 2.9ms postprocess per image at shape (1, 3, 480, 640)\n",
      "\n",
      "0: 480x640 (no detections), 23.9ms\n",
      "Speed: 1.3ms preprocess, 23.9ms inference, 2.7ms postprocess per image at shape (1, 3, 480, 640)\n",
      "\n",
      "0: 480x640 (no detections), 24.1ms\n",
      "Speed: 1.3ms preprocess, 24.1ms inference, 2.5ms postprocess per image at shape (1, 3, 480, 640)\n",
      "\n",
      "0: 480x640 (no detections), 24.0ms\n",
      "Speed: 1.2ms preprocess, 24.0ms inference, 2.4ms postprocess per image at shape (1, 3, 480, 640)\n",
      "\n",
      "0: 480x640 (no detections), 24.1ms\n",
      "Speed: 1.3ms preprocess, 24.1ms inference, 2.6ms postprocess per image at shape (1, 3, 480, 640)\n",
      "\n",
      "0: 480x640 (no detections), 23.9ms\n",
      "Speed: 1.0ms preprocess, 23.9ms inference, 2.4ms postprocess per image at shape (1, 3, 480, 640)\n",
      "\n",
      "0: 480x640 (no detections), 24.0ms\n",
      "Speed: 1.5ms preprocess, 24.0ms inference, 5.3ms postprocess per image at shape (1, 3, 480, 640)\n",
      "\n",
      "0: 480x640 (no detections), 24.5ms\n",
      "Speed: 1.4ms preprocess, 24.5ms inference, 2.4ms postprocess per image at shape (1, 3, 480, 640)\n",
      "\n",
      "0: 480x640 (no detections), 23.5ms\n",
      "Speed: 1.0ms preprocess, 23.5ms inference, 2.5ms postprocess per image at shape (1, 3, 480, 640)\n",
      "\n",
      "0: 480x640 (no detections), 23.4ms\n",
      "Speed: 1.4ms preprocess, 23.4ms inference, 2.8ms postprocess per image at shape (1, 3, 480, 640)\n",
      "\n",
      "0: 480x640 (no detections), 23.4ms\n",
      "Speed: 1.1ms preprocess, 23.4ms inference, 2.5ms postprocess per image at shape (1, 3, 480, 640)\n",
      "\n",
      "0: 480x640 (no detections), 23.3ms\n",
      "Speed: 1.2ms preprocess, 23.3ms inference, 3.1ms postprocess per image at shape (1, 3, 480, 640)\n",
      "\n",
      "0: 480x640 (no detections), 23.5ms\n",
      "Speed: 1.4ms preprocess, 23.5ms inference, 2.1ms postprocess per image at shape (1, 3, 480, 640)\n",
      "\n",
      "0: 480x640 (no detections), 23.4ms\n",
      "Speed: 1.1ms preprocess, 23.4ms inference, 3.0ms postprocess per image at shape (1, 3, 480, 640)\n",
      "\n",
      "0: 480x640 (no detections), 23.3ms\n",
      "Speed: 1.2ms preprocess, 23.3ms inference, 2.4ms postprocess per image at shape (1, 3, 480, 640)\n",
      "\n",
      "0: 480x640 (no detections), 23.4ms\n",
      "Speed: 1.2ms preprocess, 23.4ms inference, 9.3ms postprocess per image at shape (1, 3, 480, 640)\n",
      "\n",
      "0: 480x640 (no detections), 23.3ms\n",
      "Speed: 1.2ms preprocess, 23.3ms inference, 15.2ms postprocess per image at shape (1, 3, 480, 640)\n",
      "\n",
      "0: 480x640 (no detections), 23.5ms\n",
      "Speed: 1.6ms preprocess, 23.5ms inference, 4.2ms postprocess per image at shape (1, 3, 480, 640)\n",
      "\n",
      "0: 480x640 (no detections), 23.4ms\n",
      "Speed: 1.1ms preprocess, 23.4ms inference, 4.2ms postprocess per image at shape (1, 3, 480, 640)\n",
      "\n",
      "0: 480x640 (no detections), 23.3ms\n",
      "Speed: 1.0ms preprocess, 23.3ms inference, 3.5ms postprocess per image at shape (1, 3, 480, 640)\n",
      "\n",
      "0: 480x640 (no detections), 23.4ms\n",
      "Speed: 1.0ms preprocess, 23.4ms inference, 3.3ms postprocess per image at shape (1, 3, 480, 640)\n",
      "\n",
      "0: 480x640 (no detections), 23.3ms\n",
      "Speed: 1.0ms preprocess, 23.3ms inference, 3.2ms postprocess per image at shape (1, 3, 480, 640)\n",
      "\n",
      "0: 480x640 (no detections), 23.4ms\n",
      "Speed: 0.9ms preprocess, 23.4ms inference, 4.9ms postprocess per image at shape (1, 3, 480, 640)\n",
      "\n",
      "0: 480x640 (no detections), 23.3ms\n",
      "Speed: 1.1ms preprocess, 23.3ms inference, 3.3ms postprocess per image at shape (1, 3, 480, 640)\n",
      "\n",
      "0: 480x640 (no detections), 23.3ms\n",
      "Speed: 1.6ms preprocess, 23.3ms inference, 4.8ms postprocess per image at shape (1, 3, 480, 640)\n",
      "\n",
      "0: 480x640 (no detections), 23.3ms\n",
      "Speed: 1.3ms preprocess, 23.3ms inference, 5.6ms postprocess per image at shape (1, 3, 480, 640)\n",
      "\n",
      "0: 480x640 (no detections), 23.4ms\n",
      "Speed: 1.2ms preprocess, 23.4ms inference, 3.4ms postprocess per image at shape (1, 3, 480, 640)\n",
      "\n",
      "0: 480x640 (no detections), 22.7ms\n",
      "Speed: 1.0ms preprocess, 22.7ms inference, 3.8ms postprocess per image at shape (1, 3, 480, 640)\n",
      "\n",
      "0: 480x640 (no detections), 22.7ms\n",
      "Speed: 0.9ms preprocess, 22.7ms inference, 3.8ms postprocess per image at shape (1, 3, 480, 640)\n",
      "\n",
      "0: 480x640 (no detections), 22.6ms\n",
      "Speed: 1.0ms preprocess, 22.6ms inference, 3.3ms postprocess per image at shape (1, 3, 480, 640)\n",
      "\n",
      "0: 480x640 (no detections), 22.7ms\n",
      "Speed: 1.1ms preprocess, 22.7ms inference, 3.6ms postprocess per image at shape (1, 3, 480, 640)\n",
      "\n",
      "0: 480x640 (no detections), 22.8ms\n",
      "Speed: 1.3ms preprocess, 22.8ms inference, 4.1ms postprocess per image at shape (1, 3, 480, 640)\n",
      "\n",
      "0: 480x640 (no detections), 23.0ms\n",
      "Speed: 1.0ms preprocess, 23.0ms inference, 3.4ms postprocess per image at shape (1, 3, 480, 640)\n",
      "\n",
      "0: 480x640 (no detections), 22.7ms\n",
      "Speed: 1.0ms preprocess, 22.7ms inference, 16.3ms postprocess per image at shape (1, 3, 480, 640)\n",
      "\n",
      "0: 480x640 (no detections), 22.6ms\n",
      "Speed: 1.1ms preprocess, 22.6ms inference, 2.3ms postprocess per image at shape (1, 3, 480, 640)\n",
      "\n",
      "0: 480x640 (no detections), 22.6ms\n",
      "Speed: 1.1ms preprocess, 22.6ms inference, 2.5ms postprocess per image at shape (1, 3, 480, 640)\n",
      "\n",
      "0: 480x640 (no detections), 22.4ms\n",
      "Speed: 1.1ms preprocess, 22.4ms inference, 2.3ms postprocess per image at shape (1, 3, 480, 640)\n",
      "\n",
      "0: 480x640 (no detections), 22.0ms\n",
      "Speed: 1.0ms preprocess, 22.0ms inference, 2.4ms postprocess per image at shape (1, 3, 480, 640)\n",
      "\n",
      "0: 480x640 (no detections), 22.0ms\n",
      "Speed: 1.0ms preprocess, 22.0ms inference, 2.2ms postprocess per image at shape (1, 3, 480, 640)\n",
      "\n",
      "0: 480x640 (no detections), 22.0ms\n",
      "Speed: 1.2ms preprocess, 22.0ms inference, 2.1ms postprocess per image at shape (1, 3, 480, 640)\n",
      "\n",
      "0: 480x640 (no detections), 22.0ms\n",
      "Speed: 1.1ms preprocess, 22.0ms inference, 2.2ms postprocess per image at shape (1, 3, 480, 640)\n",
      "\n",
      "0: 480x640 (no detections), 22.0ms\n",
      "Speed: 1.3ms preprocess, 22.0ms inference, 2.2ms postprocess per image at shape (1, 3, 480, 640)\n",
      "\n",
      "0: 480x640 (no detections), 22.0ms\n",
      "Speed: 1.1ms preprocess, 22.0ms inference, 2.2ms postprocess per image at shape (1, 3, 480, 640)\n",
      "\n",
      "0: 480x640 (no detections), 21.9ms\n",
      "Speed: 1.0ms preprocess, 21.9ms inference, 2.3ms postprocess per image at shape (1, 3, 480, 640)\n",
      "\n",
      "0: 480x640 1 Unripe, 22.0ms\n",
      "Speed: 1.4ms preprocess, 22.0ms inference, 2.7ms postprocess per image at shape (1, 3, 480, 640)\n",
      "tensor([159.6158, 132.7839, 341.5856, 308.1691], device='cuda:0')\n",
      "tensor(0., device='cuda:0')\n",
      "159 132 341 308\n",
      "\n",
      "0: 480x640 (no detections), 22.1ms\n",
      "Speed: 1.2ms preprocess, 22.1ms inference, 2.3ms postprocess per image at shape (1, 3, 480, 640)\n",
      "\n",
      "0: 480x640 (no detections), 22.1ms\n",
      "Speed: 1.1ms preprocess, 22.1ms inference, 2.3ms postprocess per image at shape (1, 3, 480, 640)\n",
      "\n",
      "0: 480x640 (no detections), 24.9ms\n",
      "Speed: 1.3ms preprocess, 24.9ms inference, 2.8ms postprocess per image at shape (1, 3, 480, 640)\n",
      "\n",
      "0: 480x640 (no detections), 22.6ms\n",
      "Speed: 1.0ms preprocess, 22.6ms inference, 2.6ms postprocess per image at shape (1, 3, 480, 640)\n",
      "\n",
      "0: 480x640 (no detections), 37.2ms\n",
      "Speed: 1.0ms preprocess, 37.2ms inference, 2.1ms postprocess per image at shape (1, 3, 480, 640)\n",
      "\n",
      "0: 480x640 (no detections), 37.2ms\n",
      "Speed: 1.0ms preprocess, 37.2ms inference, 10.6ms postprocess per image at shape (1, 3, 480, 640)\n",
      "\n",
      "0: 480x640 (no detections), 37.3ms\n",
      "Speed: 1.2ms preprocess, 37.3ms inference, 2.8ms postprocess per image at shape (1, 3, 480, 640)\n",
      "\n",
      "0: 480x640 (no detections), 37.2ms\n",
      "Speed: 1.8ms preprocess, 37.2ms inference, 2.4ms postprocess per image at shape (1, 3, 480, 640)\n",
      "\n",
      "0: 480x640 (no detections), 37.2ms\n",
      "Speed: 1.0ms preprocess, 37.2ms inference, 2.4ms postprocess per image at shape (1, 3, 480, 640)\n",
      "\n",
      "0: 480x640 (no detections), 37.2ms\n",
      "Speed: 1.2ms preprocess, 37.2ms inference, 2.3ms postprocess per image at shape (1, 3, 480, 640)\n",
      "\n",
      "0: 480x640 (no detections), 42.7ms\n",
      "Speed: 1.2ms preprocess, 42.7ms inference, 2.8ms postprocess per image at shape (1, 3, 480, 640)\n",
      "\n",
      "0: 480x640 (no detections), 37.2ms\n",
      "Speed: 1.2ms preprocess, 37.2ms inference, 2.5ms postprocess per image at shape (1, 3, 480, 640)\n",
      "\n",
      "0: 480x640 (no detections), 37.2ms\n",
      "Speed: 1.3ms preprocess, 37.2ms inference, 2.2ms postprocess per image at shape (1, 3, 480, 640)\n",
      "\n",
      "0: 480x640 (no detections), 37.2ms\n",
      "Speed: 1.1ms preprocess, 37.2ms inference, 2.2ms postprocess per image at shape (1, 3, 480, 640)\n",
      "\n",
      "0: 480x640 (no detections), 37.2ms\n",
      "Speed: 1.2ms preprocess, 37.2ms inference, 2.3ms postprocess per image at shape (1, 3, 480, 640)\n",
      "\n",
      "0: 480x640 (no detections), 37.2ms\n",
      "Speed: 1.0ms preprocess, 37.2ms inference, 2.5ms postprocess per image at shape (1, 3, 480, 640)\n",
      "\n",
      "0: 480x640 (no detections), 37.2ms\n",
      "Speed: 1.1ms preprocess, 37.2ms inference, 2.2ms postprocess per image at shape (1, 3, 480, 640)\n",
      "\n",
      "0: 480x640 (no detections), 37.2ms\n",
      "Speed: 1.0ms preprocess, 37.2ms inference, 2.2ms postprocess per image at shape (1, 3, 480, 640)\n",
      "\n",
      "0: 480x640 (no detections), 37.2ms\n",
      "Speed: 1.3ms preprocess, 37.2ms inference, 2.3ms postprocess per image at shape (1, 3, 480, 640)\n",
      "\n",
      "0: 480x640 (no detections), 37.3ms\n",
      "Speed: 1.0ms preprocess, 37.3ms inference, 2.5ms postprocess per image at shape (1, 3, 480, 640)\n",
      "\n",
      "0: 480x640 (no detections), 37.2ms\n",
      "Speed: 1.2ms preprocess, 37.2ms inference, 2.2ms postprocess per image at shape (1, 3, 480, 640)\n",
      "\n",
      "0: 480x640 (no detections), 37.2ms\n",
      "Speed: 1.0ms preprocess, 37.2ms inference, 2.1ms postprocess per image at shape (1, 3, 480, 640)\n",
      "\n",
      "0: 480x640 (no detections), 37.2ms\n",
      "Speed: 4.8ms preprocess, 37.2ms inference, 14.7ms postprocess per image at shape (1, 3, 480, 640)\n",
      "\n",
      "0: 480x640 (no detections), 37.2ms\n",
      "Speed: 1.2ms preprocess, 37.2ms inference, 2.7ms postprocess per image at shape (1, 3, 480, 640)\n",
      "\n",
      "0: 480x640 (no detections), 37.2ms\n",
      "Speed: 1.2ms preprocess, 37.2ms inference, 2.5ms postprocess per image at shape (1, 3, 480, 640)\n",
      "\n",
      "0: 480x640 (no detections), 37.2ms\n",
      "Speed: 1.0ms preprocess, 37.2ms inference, 2.7ms postprocess per image at shape (1, 3, 480, 640)\n",
      "\n",
      "0: 480x640 (no detections), 37.2ms\n",
      "Speed: 1.0ms preprocess, 37.2ms inference, 2.4ms postprocess per image at shape (1, 3, 480, 640)\n",
      "\n",
      "0: 480x640 (no detections), 37.2ms\n",
      "Speed: 1.0ms preprocess, 37.2ms inference, 2.7ms postprocess per image at shape (1, 3, 480, 640)\n",
      "\n",
      "0: 480x640 (no detections), 37.3ms\n",
      "Speed: 1.1ms preprocess, 37.3ms inference, 2.6ms postprocess per image at shape (1, 3, 480, 640)\n",
      "\n",
      "0: 480x640 (no detections), 37.2ms\n",
      "Speed: 1.1ms preprocess, 37.2ms inference, 2.6ms postprocess per image at shape (1, 3, 480, 640)\n",
      "\n",
      "0: 480x640 (no detections), 37.2ms\n",
      "Speed: 1.1ms preprocess, 37.2ms inference, 2.5ms postprocess per image at shape (1, 3, 480, 640)\n",
      "\n",
      "0: 480x640 (no detections), 37.2ms\n",
      "Speed: 1.0ms preprocess, 37.2ms inference, 2.2ms postprocess per image at shape (1, 3, 480, 640)\n",
      "\n",
      "0: 480x640 (no detections), 37.2ms\n",
      "Speed: 1.0ms preprocess, 37.2ms inference, 3.6ms postprocess per image at shape (1, 3, 480, 640)\n",
      "\n",
      "0: 480x640 (no detections), 37.3ms\n",
      "Speed: 1.2ms preprocess, 37.3ms inference, 2.8ms postprocess per image at shape (1, 3, 480, 640)\n",
      "\n",
      "0: 480x640 (no detections), 37.3ms\n",
      "Speed: 1.9ms preprocess, 37.3ms inference, 3.0ms postprocess per image at shape (1, 3, 480, 640)\n",
      "\n",
      "0: 480x640 (no detections), 37.2ms\n",
      "Speed: 1.3ms preprocess, 37.2ms inference, 2.4ms postprocess per image at shape (1, 3, 480, 640)\n",
      "\n",
      "0: 480x640 (no detections), 37.2ms\n",
      "Speed: 1.2ms preprocess, 37.2ms inference, 2.3ms postprocess per image at shape (1, 3, 480, 640)\n",
      "\n",
      "0: 480x640 (no detections), 37.2ms\n",
      "Speed: 1.5ms preprocess, 37.2ms inference, 2.3ms postprocess per image at shape (1, 3, 480, 640)\n",
      "\n",
      "0: 480x640 (no detections), 37.2ms\n",
      "Speed: 1.0ms preprocess, 37.2ms inference, 2.5ms postprocess per image at shape (1, 3, 480, 640)\n",
      "\n",
      "0: 480x640 (no detections), 37.2ms\n",
      "Speed: 1.0ms preprocess, 37.2ms inference, 12.6ms postprocess per image at shape (1, 3, 480, 640)\n",
      "\n",
      "0: 480x640 (no detections), 37.2ms\n",
      "Speed: 1.0ms preprocess, 37.2ms inference, 2.5ms postprocess per image at shape (1, 3, 480, 640)\n",
      "\n",
      "0: 480x640 (no detections), 37.2ms\n",
      "Speed: 1.2ms preprocess, 37.2ms inference, 2.3ms postprocess per image at shape (1, 3, 480, 640)\n",
      "\n",
      "0: 480x640 (no detections), 42.9ms\n",
      "Speed: 1.1ms preprocess, 42.9ms inference, 2.5ms postprocess per image at shape (1, 3, 480, 640)\n",
      "\n",
      "0: 480x640 (no detections), 37.2ms\n",
      "Speed: 1.4ms preprocess, 37.2ms inference, 2.3ms postprocess per image at shape (1, 3, 480, 640)\n",
      "\n",
      "0: 480x640 (no detections), 37.3ms\n",
      "Speed: 1.3ms preprocess, 37.3ms inference, 2.3ms postprocess per image at shape (1, 3, 480, 640)\n",
      "\n",
      "0: 480x640 (no detections), 37.2ms\n",
      "Speed: 1.1ms preprocess, 37.2ms inference, 2.5ms postprocess per image at shape (1, 3, 480, 640)\n",
      "\n",
      "0: 480x640 (no detections), 37.2ms\n",
      "Speed: 1.1ms preprocess, 37.2ms inference, 2.2ms postprocess per image at shape (1, 3, 480, 640)\n",
      "\n",
      "0: 480x640 (no detections), 37.2ms\n",
      "Speed: 1.2ms preprocess, 37.2ms inference, 2.4ms postprocess per image at shape (1, 3, 480, 640)\n",
      "\n",
      "0: 480x640 (no detections), 37.2ms\n",
      "Speed: 1.0ms preprocess, 37.2ms inference, 2.5ms postprocess per image at shape (1, 3, 480, 640)\n",
      "\n",
      "0: 480x640 (no detections), 37.2ms\n",
      "Speed: 1.4ms preprocess, 37.2ms inference, 2.6ms postprocess per image at shape (1, 3, 480, 640)\n",
      "\n",
      "0: 480x640 (no detections), 37.3ms\n",
      "Speed: 1.7ms preprocess, 37.3ms inference, 2.7ms postprocess per image at shape (1, 3, 480, 640)\n",
      "\n",
      "0: 480x640 (no detections), 37.3ms\n",
      "Speed: 1.4ms preprocess, 37.3ms inference, 3.6ms postprocess per image at shape (1, 3, 480, 640)\n",
      "\n",
      "0: 480x640 (no detections), 37.3ms\n",
      "Speed: 1.4ms preprocess, 37.3ms inference, 2.1ms postprocess per image at shape (1, 3, 480, 640)\n",
      "\n",
      "0: 480x640 (no detections), 37.2ms\n",
      "Speed: 1.1ms preprocess, 37.2ms inference, 2.6ms postprocess per image at shape (1, 3, 480, 640)\n",
      "\n",
      "0: 480x640 (no detections), 37.2ms\n",
      "Speed: 1.4ms preprocess, 37.2ms inference, 2.3ms postprocess per image at shape (1, 3, 480, 640)\n",
      "\n",
      "0: 480x640 (no detections), 37.2ms\n",
      "Speed: 1.1ms preprocess, 37.2ms inference, 2.3ms postprocess per image at shape (1, 3, 480, 640)\n",
      "\n",
      "0: 480x640 (no detections), 37.2ms\n",
      "Speed: 1.0ms preprocess, 37.2ms inference, 12.1ms postprocess per image at shape (1, 3, 480, 640)\n",
      "\n",
      "0: 480x640 (no detections), 37.2ms\n",
      "Speed: 1.2ms preprocess, 37.2ms inference, 2.2ms postprocess per image at shape (1, 3, 480, 640)\n",
      "\n",
      "0: 480x640 (no detections), 37.2ms\n",
      "Speed: 1.0ms preprocess, 37.2ms inference, 2.7ms postprocess per image at shape (1, 3, 480, 640)\n",
      "\n",
      "0: 480x640 (no detections), 32.1ms\n",
      "Speed: 1.2ms preprocess, 32.1ms inference, 2.3ms postprocess per image at shape (1, 3, 480, 640)\n",
      "\n",
      "0: 480x640 (no detections), 29.1ms\n",
      "Speed: 1.3ms preprocess, 29.1ms inference, 8.4ms postprocess per image at shape (1, 3, 480, 640)\n",
      "\n",
      "0: 480x640 (no detections), 28.8ms\n",
      "Speed: 1.2ms preprocess, 28.8ms inference, 2.1ms postprocess per image at shape (1, 3, 480, 640)\n",
      "\n",
      "0: 480x640 (no detections), 29.0ms\n",
      "Speed: 1.2ms preprocess, 29.0ms inference, 2.3ms postprocess per image at shape (1, 3, 480, 640)\n",
      "\n",
      "0: 480x640 (no detections), 29.3ms\n",
      "Speed: 1.0ms preprocess, 29.3ms inference, 2.6ms postprocess per image at shape (1, 3, 480, 640)\n",
      "\n",
      "0: 480x640 (no detections), 29.0ms\n",
      "Speed: 1.1ms preprocess, 29.0ms inference, 2.3ms postprocess per image at shape (1, 3, 480, 640)\n",
      "\n",
      "0: 480x640 (no detections), 28.9ms\n",
      "Speed: 1.1ms preprocess, 28.9ms inference, 2.2ms postprocess per image at shape (1, 3, 480, 640)\n",
      "\n",
      "0: 480x640 (no detections), 29.5ms\n",
      "Speed: 1.0ms preprocess, 29.5ms inference, 2.1ms postprocess per image at shape (1, 3, 480, 640)\n",
      "\n",
      "0: 480x640 (no detections), 29.4ms\n",
      "Speed: 1.4ms preprocess, 29.4ms inference, 2.2ms postprocess per image at shape (1, 3, 480, 640)\n",
      "\n",
      "0: 480x640 (no detections), 28.4ms\n",
      "Speed: 1.2ms preprocess, 28.4ms inference, 2.0ms postprocess per image at shape (1, 3, 480, 640)\n",
      "\n",
      "0: 480x640 (no detections), 27.6ms\n",
      "Speed: 8.4ms preprocess, 27.6ms inference, 3.2ms postprocess per image at shape (1, 3, 480, 640)\n",
      "\n",
      "0: 480x640 (no detections), 27.5ms\n",
      "Speed: 1.0ms preprocess, 27.5ms inference, 2.3ms postprocess per image at shape (1, 3, 480, 640)\n",
      "\n",
      "0: 480x640 (no detections), 27.1ms\n",
      "Speed: 1.1ms preprocess, 27.1ms inference, 2.3ms postprocess per image at shape (1, 3, 480, 640)\n",
      "\n",
      "0: 480x640 (no detections), 23.0ms\n",
      "Speed: 1.5ms preprocess, 23.0ms inference, 2.8ms postprocess per image at shape (1, 3, 480, 640)\n",
      "\n",
      "0: 480x640 (no detections), 22.9ms\n",
      "Speed: 1.0ms preprocess, 22.9ms inference, 11.6ms postprocess per image at shape (1, 3, 480, 640)\n",
      "\n",
      "0: 480x640 (no detections), 22.9ms\n",
      "Speed: 1.1ms preprocess, 22.9ms inference, 2.2ms postprocess per image at shape (1, 3, 480, 640)\n",
      "\n",
      "0: 480x640 (no detections), 22.9ms\n",
      "Speed: 1.1ms preprocess, 22.9ms inference, 2.1ms postprocess per image at shape (1, 3, 480, 640)\n",
      "\n",
      "0: 480x640 (no detections), 22.9ms\n",
      "Speed: 1.1ms preprocess, 22.9ms inference, 2.6ms postprocess per image at shape (1, 3, 480, 640)\n",
      "\n",
      "0: 480x640 (no detections), 23.2ms\n",
      "Speed: 1.2ms preprocess, 23.2ms inference, 2.6ms postprocess per image at shape (1, 3, 480, 640)\n",
      "\n",
      "0: 480x640 1 Unripe, 23.0ms\n",
      "Speed: 1.1ms preprocess, 23.0ms inference, 3.1ms postprocess per image at shape (1, 3, 480, 640)\n",
      "tensor([223.7040, 142.3726, 412.1929, 314.2475], device='cuda:0')\n",
      "tensor(0., device='cuda:0')\n",
      "223 142 412 314\n",
      "\n",
      "0: 480x640 (no detections), 22.9ms\n",
      "Speed: 1.2ms preprocess, 22.9ms inference, 2.6ms postprocess per image at shape (1, 3, 480, 640)\n",
      "\n",
      "0: 480x640 (no detections), 28.1ms\n",
      "Speed: 1.4ms preprocess, 28.1ms inference, 2.6ms postprocess per image at shape (1, 3, 480, 640)\n",
      "\n",
      "0: 480x640 (no detections), 24.4ms\n",
      "Speed: 1.0ms preprocess, 24.4ms inference, 2.8ms postprocess per image at shape (1, 3, 480, 640)\n",
      "\n",
      "0: 480x640 (no detections), 24.1ms\n",
      "Speed: 1.4ms preprocess, 24.1ms inference, 2.5ms postprocess per image at shape (1, 3, 480, 640)\n",
      "\n",
      "0: 480x640 (no detections), 30.1ms\n",
      "Speed: 1.0ms preprocess, 30.1ms inference, 2.0ms postprocess per image at shape (1, 3, 480, 640)\n",
      "\n",
      "0: 480x640 (no detections), 32.0ms\n",
      "Speed: 1.2ms preprocess, 32.0ms inference, 2.4ms postprocess per image at shape (1, 3, 480, 640)\n",
      "\n",
      "0: 480x640 (no detections), 32.6ms\n",
      "Speed: 1.0ms preprocess, 32.6ms inference, 2.7ms postprocess per image at shape (1, 3, 480, 640)\n",
      "\n",
      "0: 480x640 (no detections), 32.7ms\n",
      "Speed: 1.2ms preprocess, 32.7ms inference, 2.1ms postprocess per image at shape (1, 3, 480, 640)\n",
      "\n",
      "0: 480x640 (no detections), 32.9ms\n",
      "Speed: 1.5ms preprocess, 32.9ms inference, 2.8ms postprocess per image at shape (1, 3, 480, 640)\n",
      "\n",
      "0: 480x640 (no detections), 33.1ms\n",
      "Speed: 1.1ms preprocess, 33.1ms inference, 2.1ms postprocess per image at shape (1, 3, 480, 640)\n",
      "\n",
      "0: 480x640 (no detections), 45.5ms\n",
      "Speed: 1.5ms preprocess, 45.5ms inference, 2.4ms postprocess per image at shape (1, 3, 480, 640)\n",
      "\n",
      "0: 480x640 (no detections), 27.7ms\n",
      "Speed: 1.4ms preprocess, 27.7ms inference, 4.0ms postprocess per image at shape (1, 3, 480, 640)\n",
      "\n",
      "0: 480x640 1 Unripe, 34.5ms\n",
      "Speed: 1.0ms preprocess, 34.5ms inference, 4.8ms postprocess per image at shape (1, 3, 480, 640)\n",
      "tensor([202.5255, 138.3499, 387.3793, 312.2598], device='cuda:0')\n",
      "tensor(0., device='cuda:0')\n",
      "202 138 387 312\n",
      "\n",
      "0: 480x640 (no detections), 35.6ms\n",
      "Speed: 1.0ms preprocess, 35.6ms inference, 3.5ms postprocess per image at shape (1, 3, 480, 640)\n",
      "\n",
      "0: 480x640 1 Unripe, 36.2ms\n",
      "Speed: 1.0ms preprocess, 36.2ms inference, 4.1ms postprocess per image at shape (1, 3, 480, 640)\n",
      "tensor([200.6155, 134.9650, 384.7961, 308.6261], device='cuda:0')\n",
      "tensor(0., device='cuda:0')\n",
      "200 134 384 308\n",
      "\n",
      "0: 480x640 (no detections), 34.0ms\n",
      "Speed: 1.1ms preprocess, 34.0ms inference, 4.0ms postprocess per image at shape (1, 3, 480, 640)\n",
      "\n",
      "0: 480x640 (no detections), 32.9ms\n",
      "Speed: 0.9ms preprocess, 32.9ms inference, 4.1ms postprocess per image at shape (1, 3, 480, 640)\n",
      "\n",
      "0: 480x640 (no detections), 32.0ms\n",
      "Speed: 1.0ms preprocess, 32.0ms inference, 3.7ms postprocess per image at shape (1, 3, 480, 640)\n",
      "\n",
      "0: 480x640 1 Unripe, 32.4ms\n",
      "Speed: 1.1ms preprocess, 32.4ms inference, 4.0ms postprocess per image at shape (1, 3, 480, 640)\n",
      "tensor([201.3200, 127.9868, 386.8449, 305.4285], device='cuda:0')\n",
      "tensor(0., device='cuda:0')\n",
      "201 127 386 305\n",
      "\n",
      "0: 480x640 (no detections), 32.5ms\n",
      "Speed: 1.0ms preprocess, 32.5ms inference, 3.0ms postprocess per image at shape (1, 3, 480, 640)\n",
      "\n",
      "0: 480x640 1 Unripe, 28.0ms\n",
      "Speed: 1.6ms preprocess, 28.0ms inference, 6.2ms postprocess per image at shape (1, 3, 480, 640)\n",
      "tensor([199.0988, 123.5409, 386.1161, 301.4978], device='cuda:0')\n",
      "tensor(0., device='cuda:0')\n",
      "199 123 386 301\n",
      "\n",
      "0: 480x640 1 Unripe, 27.5ms\n",
      "Speed: 1.7ms preprocess, 27.5ms inference, 4.1ms postprocess per image at shape (1, 3, 480, 640)\n",
      "tensor([199.9443, 122.8503, 385.7945, 299.5293], device='cuda:0')\n",
      "tensor(0., device='cuda:0')\n",
      "199 122 385 299\n",
      "\n",
      "0: 480x640 1 Unripe, 26.8ms\n",
      "Speed: 1.0ms preprocess, 26.8ms inference, 4.2ms postprocess per image at shape (1, 3, 480, 640)\n",
      "tensor([199.2926, 122.4734, 384.6057, 300.4597], device='cuda:0')\n",
      "tensor(0., device='cuda:0')\n",
      "199 122 384 300\n",
      "\n",
      "0: 480x640 1 Unripe, 23.7ms\n",
      "Speed: 1.1ms preprocess, 23.7ms inference, 4.3ms postprocess per image at shape (1, 3, 480, 640)\n",
      "tensor([200.9222, 122.6059, 387.1627, 299.0856], device='cuda:0')\n",
      "tensor(0., device='cuda:0')\n",
      "200 122 387 299\n",
      "\n",
      "0: 480x640 1 Unripe, 23.6ms\n",
      "Speed: 1.1ms preprocess, 23.6ms inference, 4.4ms postprocess per image at shape (1, 3, 480, 640)\n",
      "tensor([201.0600, 123.5527, 387.7329, 300.5526], device='cuda:0')\n",
      "tensor(0., device='cuda:0')\n",
      "201 123 387 300\n",
      "\n",
      "0: 480x640 (no detections), 23.7ms\n",
      "Speed: 0.9ms preprocess, 23.7ms inference, 3.9ms postprocess per image at shape (1, 3, 480, 640)\n",
      "\n",
      "0: 480x640 (no detections), 25.0ms\n",
      "Speed: 1.2ms preprocess, 25.0ms inference, 3.3ms postprocess per image at shape (1, 3, 480, 640)\n",
      "\n",
      "0: 480x640 1 Unripe, 24.8ms\n",
      "Speed: 0.9ms preprocess, 24.8ms inference, 4.2ms postprocess per image at shape (1, 3, 480, 640)\n",
      "tensor([200.6109, 125.9497, 386.8524, 303.0179], device='cuda:0')\n",
      "tensor(0., device='cuda:0')\n",
      "200 125 386 303\n",
      "\n",
      "0: 480x640 1 Unripe, 24.9ms\n",
      "Speed: 1.1ms preprocess, 24.9ms inference, 3.0ms postprocess per image at shape (1, 3, 480, 640)\n",
      "tensor([201.6209, 125.9058, 386.6481, 303.1163], device='cuda:0')\n",
      "tensor(0., device='cuda:0')\n",
      "201 125 386 303\n",
      "\n",
      "0: 480x640 1 Unripe, 24.9ms\n",
      "Speed: 1.1ms preprocess, 24.9ms inference, 2.6ms postprocess per image at shape (1, 3, 480, 640)\n",
      "tensor([200.2874, 124.3160, 386.3306, 302.2321], device='cuda:0')\n",
      "tensor(0., device='cuda:0')\n",
      "200 124 386 302\n",
      "\n",
      "0: 480x640 1 Unripe, 37.2ms\n",
      "Speed: 1.4ms preprocess, 37.2ms inference, 2.6ms postprocess per image at shape (1, 3, 480, 640)\n",
      "tensor([200.1421, 123.5030, 385.2455, 299.7516], device='cuda:0')\n",
      "tensor(0., device='cuda:0')\n",
      "200 123 385 299\n",
      "\n",
      "0: 480x640 (no detections), 25.0ms\n",
      "Speed: 1.8ms preprocess, 25.0ms inference, 2.3ms postprocess per image at shape (1, 3, 480, 640)\n",
      "\n",
      "0: 480x640 (no detections), 24.9ms\n",
      "Speed: 1.1ms preprocess, 24.9ms inference, 2.5ms postprocess per image at shape (1, 3, 480, 640)\n",
      "\n",
      "0: 480x640 (no detections), 22.8ms\n",
      "Speed: 1.2ms preprocess, 22.8ms inference, 10.3ms postprocess per image at shape (1, 3, 480, 640)\n",
      "\n",
      "0: 480x640 (no detections), 22.6ms\n",
      "Speed: 1.1ms preprocess, 22.6ms inference, 2.3ms postprocess per image at shape (1, 3, 480, 640)\n",
      "\n",
      "0: 480x640 1 Unripe, 22.6ms\n",
      "Speed: 1.1ms preprocess, 22.6ms inference, 2.8ms postprocess per image at shape (1, 3, 480, 640)\n",
      "tensor([198.8826, 124.1170, 382.1613, 300.6721], device='cuda:0')\n",
      "tensor(0., device='cuda:0')\n",
      "198 124 382 300\n",
      "\n",
      "0: 480x640 1 Unripe, 22.7ms\n",
      "Speed: 1.1ms preprocess, 22.7ms inference, 2.9ms postprocess per image at shape (1, 3, 480, 640)\n",
      "tensor([197.2497, 123.8474, 382.7474, 299.8286], device='cuda:0')\n",
      "tensor(0., device='cuda:0')\n",
      "197 123 382 299\n",
      "\n",
      "0: 480x640 1 Unripe, 22.5ms\n",
      "Speed: 1.0ms preprocess, 22.5ms inference, 7.6ms postprocess per image at shape (1, 3, 480, 640)\n",
      "tensor([197.2268, 123.7638, 380.9097, 301.7888], device='cuda:0')\n",
      "tensor(0., device='cuda:0')\n",
      "197 123 380 301\n",
      "\n",
      "0: 480x640 (no detections), 22.6ms\n",
      "Speed: 1.4ms preprocess, 22.6ms inference, 2.3ms postprocess per image at shape (1, 3, 480, 640)\n",
      "\n",
      "0: 480x640 1 Unripe, 25.1ms\n",
      "Speed: 1.7ms preprocess, 25.1ms inference, 6.5ms postprocess per image at shape (1, 3, 480, 640)\n",
      "tensor([193.0848, 123.6527, 383.7566, 303.3801], device='cuda:0')\n",
      "tensor(0., device='cuda:0')\n",
      "193 123 383 303\n",
      "\n",
      "0: 480x640 (no detections), 23.3ms\n",
      "Speed: 1.3ms preprocess, 23.3ms inference, 2.3ms postprocess per image at shape (1, 3, 480, 640)\n",
      "\n",
      "0: 480x640 (no detections), 23.7ms\n",
      "Speed: 1.0ms preprocess, 23.7ms inference, 2.1ms postprocess per image at shape (1, 3, 480, 640)\n",
      "\n",
      "0: 480x640 (no detections), 22.5ms\n",
      "Speed: 1.5ms preprocess, 22.5ms inference, 2.3ms postprocess per image at shape (1, 3, 480, 640)\n",
      "\n",
      "0: 480x640 (no detections), 23.1ms\n",
      "Speed: 1.3ms preprocess, 23.1ms inference, 2.5ms postprocess per image at shape (1, 3, 480, 640)\n",
      "\n",
      "0: 480x640 1 Unripe, 30.1ms\n",
      "Speed: 1.0ms preprocess, 30.1ms inference, 2.8ms postprocess per image at shape (1, 3, 480, 640)\n",
      "tensor([192.1190, 113.3389, 381.6832, 291.1388], device='cuda:0')\n",
      "tensor(0., device='cuda:0')\n",
      "192 113 381 291\n",
      "\n",
      "0: 480x640 (no detections), 37.2ms\n",
      "Speed: 1.3ms preprocess, 37.2ms inference, 2.2ms postprocess per image at shape (1, 3, 480, 640)\n",
      "\n",
      "0: 480x640 (no detections), 37.2ms\n",
      "Speed: 1.3ms preprocess, 37.2ms inference, 2.1ms postprocess per image at shape (1, 3, 480, 640)\n",
      "\n",
      "0: 480x640 1 Unripe, 37.2ms\n",
      "Speed: 1.0ms preprocess, 37.2ms inference, 3.0ms postprocess per image at shape (1, 3, 480, 640)\n",
      "tensor([183.9299, 110.8332, 371.2917, 291.0464], device='cuda:0')\n",
      "tensor(0., device='cuda:0')\n",
      "183 110 371 291\n",
      "\n",
      "0: 480x640 (no detections), 37.2ms\n",
      "Speed: 1.3ms preprocess, 37.2ms inference, 2.8ms postprocess per image at shape (1, 3, 480, 640)\n",
      "\n",
      "0: 480x640 (no detections), 37.2ms\n",
      "Speed: 1.4ms preprocess, 37.2ms inference, 2.6ms postprocess per image at shape (1, 3, 480, 640)\n",
      "\n",
      "0: 480x640 (no detections), 37.3ms\n",
      "Speed: 1.1ms preprocess, 37.3ms inference, 2.4ms postprocess per image at shape (1, 3, 480, 640)\n",
      "\n",
      "0: 480x640 1 Unripe, 37.2ms\n",
      "Speed: 1.2ms preprocess, 37.2ms inference, 3.5ms postprocess per image at shape (1, 3, 480, 640)\n",
      "tensor([184.4624, 109.8960, 372.8299, 289.5544], device='cuda:0')\n",
      "tensor(0., device='cuda:0')\n",
      "184 109 372 289\n",
      "\n",
      "0: 480x640 1 Unripe, 37.2ms\n",
      "Speed: 1.0ms preprocess, 37.2ms inference, 3.3ms postprocess per image at shape (1, 3, 480, 640)\n",
      "tensor([188.6334, 109.9915, 376.0573, 288.3054], device='cuda:0')\n",
      "tensor(0., device='cuda:0')\n",
      "188 109 376 288\n",
      "\n",
      "0: 480x640 1 Unripe, 37.3ms\n",
      "Speed: 1.2ms preprocess, 37.3ms inference, 3.3ms postprocess per image at shape (1, 3, 480, 640)\n",
      "tensor([188.1045, 109.2558, 371.5891, 289.2647], device='cuda:0')\n",
      "tensor(0., device='cuda:0')\n",
      "188 109 371 289\n",
      "\n",
      "0: 480x640 1 Unripe, 37.3ms\n",
      "Speed: 1.1ms preprocess, 37.3ms inference, 3.5ms postprocess per image at shape (1, 3, 480, 640)\n",
      "tensor([189.1776, 106.9367, 373.6281, 282.5019], device='cuda:0')\n",
      "tensor(0., device='cuda:0')\n",
      "189 106 373 282\n",
      "\n",
      "0: 480x640 1 Unripe, 37.2ms\n",
      "Speed: 1.1ms preprocess, 37.2ms inference, 3.1ms postprocess per image at shape (1, 3, 480, 640)\n",
      "tensor([189.9576, 107.5688, 373.0488, 285.2896], device='cuda:0')\n",
      "tensor(0., device='cuda:0')\n",
      "189 107 373 285\n",
      "\n",
      "0: 480x640 1 Unripe, 37.3ms\n",
      "Speed: 1.2ms preprocess, 37.3ms inference, 3.8ms postprocess per image at shape (1, 3, 480, 640)\n",
      "tensor([189.2703, 107.7806, 377.1350, 286.6356], device='cuda:0')\n",
      "tensor(0., device='cuda:0')\n",
      "189 107 377 286\n",
      "\n",
      "0: 480x640 1 Unripe, 40.0ms\n",
      "Speed: 1.2ms preprocess, 40.0ms inference, 3.2ms postprocess per image at shape (1, 3, 480, 640)\n",
      "tensor([187.8756, 108.2147, 371.8738, 286.5578], device='cuda:0')\n",
      "tensor(0., device='cuda:0')\n",
      "187 108 371 286\n",
      "\n",
      "0: 480x640 1 Unripe, 32.4ms\n",
      "Speed: 1.5ms preprocess, 32.4ms inference, 3.4ms postprocess per image at shape (1, 3, 480, 640)\n",
      "tensor([188.3010, 108.4708, 374.1763, 286.4598], device='cuda:0')\n",
      "tensor(0., device='cuda:0')\n",
      "188 108 374 286\n",
      "\n",
      "0: 480x640 1 Unripe, 31.6ms\n",
      "Speed: 1.3ms preprocess, 31.6ms inference, 3.5ms postprocess per image at shape (1, 3, 480, 640)\n",
      "tensor([188.4139, 108.2046, 372.1816, 285.9728], device='cuda:0')\n",
      "tensor(0., device='cuda:0')\n",
      "188 108 372 285\n",
      "\n",
      "0: 480x640 (no detections), 28.8ms\n",
      "Speed: 1.1ms preprocess, 28.8ms inference, 2.3ms postprocess per image at shape (1, 3, 480, 640)\n",
      "\n",
      "0: 480x640 (no detections), 28.5ms\n",
      "Speed: 1.1ms preprocess, 28.5ms inference, 2.8ms postprocess per image at shape (1, 3, 480, 640)\n",
      "\n",
      "0: 480x640 (no detections), 27.0ms\n",
      "Speed: 1.0ms preprocess, 27.0ms inference, 2.5ms postprocess per image at shape (1, 3, 480, 640)\n",
      "\n",
      "0: 480x640 1 Unripe, 28.6ms\n",
      "Speed: 1.3ms preprocess, 28.6ms inference, 3.3ms postprocess per image at shape (1, 3, 480, 640)\n",
      "tensor([193.1846, 107.9124, 380.5025, 286.3539], device='cuda:0')\n",
      "tensor(0., device='cuda:0')\n",
      "193 107 380 286\n",
      "\n",
      "0: 480x640 (no detections), 27.6ms\n",
      "Speed: 1.6ms preprocess, 27.6ms inference, 2.7ms postprocess per image at shape (1, 3, 480, 640)\n",
      "\n",
      "0: 480x640 1 Unripe, 27.4ms\n",
      "Speed: 1.2ms preprocess, 27.4ms inference, 14.3ms postprocess per image at shape (1, 3, 480, 640)\n",
      "tensor([192.1738, 105.4413, 376.3314, 284.0406], device='cuda:0')\n",
      "tensor(0., device='cuda:0')\n",
      "192 105 376 284\n",
      "\n",
      "0: 480x640 1 Unripe, 28.3ms\n",
      "Speed: 1.2ms preprocess, 28.3ms inference, 3.1ms postprocess per image at shape (1, 3, 480, 640)\n",
      "tensor([191.0320, 107.3173, 378.4314, 285.9760], device='cuda:0')\n",
      "tensor(0., device='cuda:0')\n",
      "191 107 378 285\n",
      "\n",
      "0: 480x640 (no detections), 27.1ms\n",
      "Speed: 2.6ms preprocess, 27.1ms inference, 2.2ms postprocess per image at shape (1, 3, 480, 640)\n",
      "\n",
      "0: 480x640 (no detections), 26.9ms\n",
      "Speed: 1.2ms preprocess, 26.9ms inference, 2.2ms postprocess per image at shape (1, 3, 480, 640)\n",
      "\n",
      "0: 480x640 1 Unripe, 28.7ms\n",
      "Speed: 1.1ms preprocess, 28.7ms inference, 4.0ms postprocess per image at shape (1, 3, 480, 640)\n",
      "tensor([190.6230, 108.8765, 371.6743, 287.1046], device='cuda:0')\n",
      "tensor(0., device='cuda:0')\n",
      "190 108 371 287\n",
      "\n",
      "0: 480x640 1 Unripe, 28.6ms\n",
      "Speed: 1.3ms preprocess, 28.6ms inference, 3.3ms postprocess per image at shape (1, 3, 480, 640)\n",
      "tensor([187.4756, 109.1843, 372.2859, 287.1337], device='cuda:0')\n",
      "tensor(0., device='cuda:0')\n",
      "187 109 372 287\n",
      "\n",
      "0: 480x640 (no detections), 28.5ms\n",
      "Speed: 1.2ms preprocess, 28.5ms inference, 2.5ms postprocess per image at shape (1, 3, 480, 640)\n",
      "\n",
      "0: 480x640 (no detections), 27.7ms\n",
      "Speed: 1.1ms preprocess, 27.7ms inference, 2.9ms postprocess per image at shape (1, 3, 480, 640)\n",
      "\n",
      "0: 480x640 1 Unripe, 27.3ms\n",
      "Speed: 1.1ms preprocess, 27.3ms inference, 3.8ms postprocess per image at shape (1, 3, 480, 640)\n",
      "tensor([188.9418, 108.6319, 377.1481, 287.1090], device='cuda:0')\n",
      "tensor(0., device='cuda:0')\n",
      "188 108 377 287\n",
      "\n",
      "0: 480x640 1 Unripe, 27.1ms\n",
      "Speed: 2.4ms preprocess, 27.1ms inference, 3.3ms postprocess per image at shape (1, 3, 480, 640)\n",
      "tensor([189.2725, 108.7545, 375.7560, 287.8152], device='cuda:0')\n",
      "tensor(0., device='cuda:0')\n",
      "189 108 375 287\n",
      "\n",
      "0: 480x640 1 Unripe, 27.3ms\n",
      "Speed: 2.1ms preprocess, 27.3ms inference, 3.1ms postprocess per image at shape (1, 3, 480, 640)\n",
      "tensor([187.0320, 109.4351, 372.9399, 289.5003], device='cuda:0')\n",
      "tensor(0., device='cuda:0')\n",
      "187 109 372 289\n",
      "\n",
      "0: 480x640 (no detections), 27.5ms\n",
      "Speed: 1.3ms preprocess, 27.5ms inference, 2.4ms postprocess per image at shape (1, 3, 480, 640)\n",
      "\n",
      "0: 480x640 1 Unripe, 27.2ms\n",
      "Speed: 1.1ms preprocess, 27.2ms inference, 2.9ms postprocess per image at shape (1, 3, 480, 640)\n",
      "tensor([186.3278, 109.8559, 372.7094, 289.9198], device='cuda:0')\n",
      "tensor(0., device='cuda:0')\n",
      "186 109 372 289\n",
      "\n",
      "0: 480x640 1 Unripe, 27.3ms\n",
      "Speed: 1.2ms preprocess, 27.3ms inference, 3.4ms postprocess per image at shape (1, 3, 480, 640)\n",
      "tensor([187.5177, 109.6367, 374.2017, 284.7437], device='cuda:0')\n",
      "tensor(0., device='cuda:0')\n",
      "187 109 374 284\n",
      "\n",
      "0: 480x640 1 Unripe, 27.6ms\n",
      "Speed: 1.1ms preprocess, 27.6ms inference, 3.3ms postprocess per image at shape (1, 3, 480, 640)\n",
      "tensor([186.3938, 112.2554, 371.1646, 290.2605], device='cuda:0')\n",
      "tensor(0., device='cuda:0')\n",
      "186 112 371 290\n",
      "\n",
      "0: 480x640 1 Unripe, 28.7ms\n",
      "Speed: 1.0ms preprocess, 28.7ms inference, 2.9ms postprocess per image at shape (1, 3, 480, 640)\n",
      "tensor([186.8076, 112.5825, 370.9417, 290.2549], device='cuda:0')\n",
      "tensor(0., device='cuda:0')\n",
      "186 112 370 290\n",
      "\n",
      "0: 480x640 (no detections), 28.5ms\n",
      "Speed: 1.6ms preprocess, 28.5ms inference, 2.3ms postprocess per image at shape (1, 3, 480, 640)\n",
      "\n",
      "0: 480x640 1 Unripe, 27.5ms\n",
      "Speed: 1.0ms preprocess, 27.5ms inference, 3.4ms postprocess per image at shape (1, 3, 480, 640)\n",
      "tensor([185.5886, 106.6692, 370.6716, 286.5108], device='cuda:0')\n",
      "tensor(0., device='cuda:0')\n",
      "185 106 370 286\n",
      "\n",
      "0: 480x640 (no detections), 31.5ms\n",
      "Speed: 1.4ms preprocess, 31.5ms inference, 2.6ms postprocess per image at shape (1, 3, 480, 640)\n",
      "\n",
      "0: 480x640 (no detections), 27.0ms\n",
      "Speed: 1.0ms preprocess, 27.0ms inference, 2.6ms postprocess per image at shape (1, 3, 480, 640)\n",
      "\n",
      "0: 480x640 (no detections), 26.8ms\n",
      "Speed: 1.1ms preprocess, 26.8ms inference, 2.4ms postprocess per image at shape (1, 3, 480, 640)\n",
      "\n",
      "0: 480x640 1 Unripe, 26.9ms\n",
      "Speed: 1.2ms preprocess, 26.9ms inference, 2.7ms postprocess per image at shape (1, 3, 480, 640)\n",
      "tensor([174.9217,  91.9326, 363.1428, 271.5860], device='cuda:0')\n",
      "tensor(0., device='cuda:0')\n",
      "174 91 363 271\n",
      "\n",
      "0: 480x640 1 Unripe, 26.8ms\n",
      "Speed: 1.1ms preprocess, 26.8ms inference, 2.8ms postprocess per image at shape (1, 3, 480, 640)\n",
      "tensor([172.1378,  90.1034, 360.2706, 270.6596], device='cuda:0')\n",
      "tensor(0., device='cuda:0')\n",
      "172 90 360 270\n",
      "\n",
      "0: 480x640 (no detections), 27.1ms\n",
      "Speed: 1.1ms preprocess, 27.1ms inference, 2.3ms postprocess per image at shape (1, 3, 480, 640)\n",
      "\n",
      "0: 480x640 1 Unripe, 28.6ms\n",
      "Speed: 1.3ms preprocess, 28.6ms inference, 3.1ms postprocess per image at shape (1, 3, 480, 640)\n",
      "tensor([169.0560,  93.1067, 349.4744, 272.8409], device='cuda:0')\n",
      "tensor(0., device='cuda:0')\n",
      "169 93 349 272\n",
      "\n",
      "0: 480x640 (no detections), 28.6ms\n",
      "Speed: 1.1ms preprocess, 28.6ms inference, 2.2ms postprocess per image at shape (1, 3, 480, 640)\n",
      "\n",
      "0: 480x640 1 Unripe, 28.6ms\n",
      "Speed: 1.1ms preprocess, 28.6ms inference, 2.5ms postprocess per image at shape (1, 3, 480, 640)\n",
      "tensor([173.1544, 101.1160, 354.9720, 275.0864], device='cuda:0')\n",
      "tensor(0., device='cuda:0')\n",
      "173 101 354 275\n",
      "\n",
      "0: 480x640 1 Unripe, 27.6ms\n",
      "Speed: 1.0ms preprocess, 27.6ms inference, 4.1ms postprocess per image at shape (1, 3, 480, 640)\n",
      "tensor([175.5931, 103.2543, 355.9098, 276.4326], device='cuda:0')\n",
      "tensor(0., device='cuda:0')\n",
      "175 103 355 276\n",
      "\n",
      "0: 480x640 1 Unripe, 37.1ms\n",
      "Speed: 1.1ms preprocess, 37.1ms inference, 4.0ms postprocess per image at shape (1, 3, 480, 640)\n",
      "tensor([178.2582, 100.8927, 360.5964, 276.0684], device='cuda:0')\n",
      "tensor(0., device='cuda:0')\n",
      "178 100 360 276\n",
      "\n",
      "0: 480x640 (no detections), 28.0ms\n",
      "Speed: 1.1ms preprocess, 28.0ms inference, 2.5ms postprocess per image at shape (1, 3, 480, 640)\n",
      "\n",
      "0: 480x640 (no detections), 27.2ms\n",
      "Speed: 1.0ms preprocess, 27.2ms inference, 2.8ms postprocess per image at shape (1, 3, 480, 640)\n",
      "\n",
      "0: 480x640 (no detections), 26.9ms\n",
      "Speed: 1.0ms preprocess, 26.9ms inference, 3.5ms postprocess per image at shape (1, 3, 480, 640)\n",
      "\n",
      "0: 480x640 (no detections), 27.5ms\n",
      "Speed: 1.1ms preprocess, 27.5ms inference, 2.6ms postprocess per image at shape (1, 3, 480, 640)\n",
      "\n",
      "0: 480x640 (no detections), 26.9ms\n",
      "Speed: 1.0ms preprocess, 26.9ms inference, 2.5ms postprocess per image at shape (1, 3, 480, 640)\n",
      "\n",
      "0: 480x640 (no detections), 28.7ms\n",
      "Speed: 1.2ms preprocess, 28.7ms inference, 2.2ms postprocess per image at shape (1, 3, 480, 640)\n",
      "\n",
      "0: 480x640 (no detections), 28.5ms\n",
      "Speed: 1.2ms preprocess, 28.5ms inference, 2.2ms postprocess per image at shape (1, 3, 480, 640)\n",
      "\n",
      "0: 480x640 (no detections), 27.5ms\n",
      "Speed: 1.2ms preprocess, 27.5ms inference, 2.8ms postprocess per image at shape (1, 3, 480, 640)\n",
      "\n",
      "0: 480x640 (no detections), 27.8ms\n",
      "Speed: 1.0ms preprocess, 27.8ms inference, 2.4ms postprocess per image at shape (1, 3, 480, 640)\n",
      "\n",
      "0: 480x640 (no detections), 27.3ms\n",
      "Speed: 1.1ms preprocess, 27.3ms inference, 2.4ms postprocess per image at shape (1, 3, 480, 640)\n",
      "\n",
      "0: 480x640 (no detections), 26.0ms\n",
      "Speed: 1.2ms preprocess, 26.0ms inference, 5.5ms postprocess per image at shape (1, 3, 480, 640)\n",
      "\n",
      "0: 480x640 (no detections), 28.0ms\n",
      "Speed: 1.2ms preprocess, 28.0ms inference, 3.0ms postprocess per image at shape (1, 3, 480, 640)\n",
      "\n",
      "0: 480x640 1 Unripe, 27.5ms\n",
      "Speed: 1.2ms preprocess, 27.5ms inference, 6.5ms postprocess per image at shape (1, 3, 480, 640)\n",
      "tensor([143.5315, 107.1844, 329.5239, 273.9376], device='cuda:0')\n",
      "tensor(0., device='cuda:0')\n",
      "143 107 329 273\n",
      "\n",
      "0: 480x640 (no detections), 27.1ms\n",
      "Speed: 1.1ms preprocess, 27.1ms inference, 2.3ms postprocess per image at shape (1, 3, 480, 640)\n",
      "\n",
      "0: 480x640 (no detections), 27.2ms\n",
      "Speed: 1.1ms preprocess, 27.2ms inference, 2.2ms postprocess per image at shape (1, 3, 480, 640)\n",
      "\n",
      "0: 480x640 1 Unripe, 28.8ms\n",
      "Speed: 1.1ms preprocess, 28.8ms inference, 2.7ms postprocess per image at shape (1, 3, 480, 640)\n",
      "tensor([177.5970,  95.9404, 336.0897, 261.4689], device='cuda:0')\n",
      "tensor(0., device='cuda:0')\n",
      "177 95 336 261\n",
      "\n",
      "0: 480x640 1 Unripe, 28.6ms\n",
      "Speed: 1.2ms preprocess, 28.6ms inference, 3.5ms postprocess per image at shape (1, 3, 480, 640)\n",
      "tensor([192.3770,  99.8766, 337.5964, 263.9948], device='cuda:0')\n",
      "tensor(0., device='cuda:0')\n",
      "192 99 337 263\n",
      "\n",
      "0: 480x640 1 Unripe, 28.5ms\n",
      "Speed: 1.4ms preprocess, 28.5ms inference, 3.1ms postprocess per image at shape (1, 3, 480, 640)\n",
      "tensor([156.9236, 102.5533, 340.1099, 255.6286], device='cuda:0')\n",
      "tensor(0., device='cuda:0')\n",
      "156 102 340 255\n",
      "\n",
      "0: 480x640 (no detections), 27.4ms\n",
      "Speed: 1.0ms preprocess, 27.4ms inference, 2.2ms postprocess per image at shape (1, 3, 480, 640)\n",
      "\n",
      "0: 480x640 (no detections), 26.8ms\n",
      "Speed: 1.0ms preprocess, 26.8ms inference, 2.1ms postprocess per image at shape (1, 3, 480, 640)\n",
      "\n",
      "0: 480x640 (no detections), 27.2ms\n",
      "Speed: 1.1ms preprocess, 27.2ms inference, 6.2ms postprocess per image at shape (1, 3, 480, 640)\n",
      "\n",
      "0: 480x640 (no detections), 27.5ms\n",
      "Speed: 1.2ms preprocess, 27.5ms inference, 2.5ms postprocess per image at shape (1, 3, 480, 640)\n",
      "\n",
      "0: 480x640 1 Unripe, 27.1ms\n",
      "Speed: 1.7ms preprocess, 27.1ms inference, 2.8ms postprocess per image at shape (1, 3, 480, 640)\n",
      "tensor([192.9190,  99.0945, 378.5131, 275.4477], device='cuda:0')\n",
      "tensor(0., device='cuda:0')\n",
      "192 99 378 275\n",
      "\n",
      "0: 480x640 (no detections), 26.8ms\n",
      "Speed: 1.0ms preprocess, 26.8ms inference, 6.3ms postprocess per image at shape (1, 3, 480, 640)\n",
      "\n",
      "0: 480x640 1 Unripe, 26.9ms\n",
      "Speed: 1.0ms preprocess, 26.9ms inference, 4.0ms postprocess per image at shape (1, 3, 480, 640)\n",
      "tensor([194.5254,  92.8293, 380.7483, 272.2765], device='cuda:0')\n",
      "tensor(0., device='cuda:0')\n",
      "194 92 380 272\n",
      "\n",
      "0: 480x640 1 Unripe, 28.7ms\n",
      "Speed: 1.4ms preprocess, 28.7ms inference, 3.0ms postprocess per image at shape (1, 3, 480, 640)\n",
      "tensor([193.8190,  93.0913, 381.8389, 273.6665], device='cuda:0')\n",
      "tensor(0., device='cuda:0')\n",
      "193 93 381 273\n",
      "\n",
      "0: 480x640 (no detections), 28.6ms\n",
      "Speed: 1.2ms preprocess, 28.6ms inference, 2.5ms postprocess per image at shape (1, 3, 480, 640)\n",
      "\n",
      "0: 480x640 (no detections), 28.5ms\n",
      "Speed: 1.5ms preprocess, 28.5ms inference, 2.4ms postprocess per image at shape (1, 3, 480, 640)\n",
      "\n",
      "0: 480x640 (no detections), 27.6ms\n",
      "Speed: 1.5ms preprocess, 27.6ms inference, 2.4ms postprocess per image at shape (1, 3, 480, 640)\n",
      "\n",
      "0: 480x640 (no detections), 27.5ms\n",
      "Speed: 1.0ms preprocess, 27.5ms inference, 2.9ms postprocess per image at shape (1, 3, 480, 640)\n",
      "\n",
      "0: 480x640 (no detections), 27.0ms\n",
      "Speed: 1.0ms preprocess, 27.0ms inference, 2.2ms postprocess per image at shape (1, 3, 480, 640)\n",
      "\n",
      "0: 480x640 (no detections), 26.4ms\n",
      "Speed: 1.2ms preprocess, 26.4ms inference, 4.2ms postprocess per image at shape (1, 3, 480, 640)\n",
      "\n",
      "0: 480x640 (no detections), 27.4ms\n",
      "Speed: 1.9ms preprocess, 27.4ms inference, 2.7ms postprocess per image at shape (1, 3, 480, 640)\n",
      "\n",
      "0: 480x640 (no detections), 27.2ms\n",
      "Speed: 1.0ms preprocess, 27.2ms inference, 2.6ms postprocess per image at shape (1, 3, 480, 640)\n",
      "\n",
      "0: 480x640 (no detections), 27.3ms\n",
      "Speed: 1.1ms preprocess, 27.3ms inference, 2.4ms postprocess per image at shape (1, 3, 480, 640)\n",
      "\n",
      "0: 480x640 (no detections), 28.7ms\n",
      "Speed: 1.1ms preprocess, 28.7ms inference, 2.1ms postprocess per image at shape (1, 3, 480, 640)\n",
      "\n",
      "0: 480x640 (no detections), 27.6ms\n",
      "Speed: 1.4ms preprocess, 27.6ms inference, 2.0ms postprocess per image at shape (1, 3, 480, 640)\n",
      "\n",
      "0: 480x640 (no detections), 28.5ms\n",
      "Speed: 1.7ms preprocess, 28.5ms inference, 6.9ms postprocess per image at shape (1, 3, 480, 640)\n",
      "\n",
      "0: 480x640 (no detections), 27.4ms\n",
      "Speed: 1.0ms preprocess, 27.4ms inference, 2.7ms postprocess per image at shape (1, 3, 480, 640)\n",
      "\n",
      "0: 480x640 (no detections), 27.2ms\n",
      "Speed: 1.0ms preprocess, 27.2ms inference, 3.0ms postprocess per image at shape (1, 3, 480, 640)\n",
      "\n",
      "0: 480x640 (no detections), 26.9ms\n",
      "Speed: 1.1ms preprocess, 26.9ms inference, 2.6ms postprocess per image at shape (1, 3, 480, 640)\n",
      "\n",
      "0: 480x640 1 Unripe, 24.8ms\n",
      "Speed: 1.2ms preprocess, 24.8ms inference, 3.6ms postprocess per image at shape (1, 3, 480, 640)\n",
      "tensor([166.8126, 109.0149, 352.4063, 289.6236], device='cuda:0')\n",
      "tensor(0., device='cuda:0')\n",
      "166 109 352 289\n",
      "\n",
      "0: 480x640 1 Unripe, 29.0ms\n",
      "Speed: 1.2ms preprocess, 29.0ms inference, 3.0ms postprocess per image at shape (1, 3, 480, 640)\n",
      "tensor([172.1856, 109.4943, 355.1927, 286.4253], device='cuda:0')\n",
      "tensor(0., device='cuda:0')\n",
      "172 109 355 286\n",
      "\n",
      "0: 480x640 1 Unripe, 27.6ms\n",
      "Speed: 1.2ms preprocess, 27.6ms inference, 3.1ms postprocess per image at shape (1, 3, 480, 640)\n",
      "tensor([173.7653, 109.4189, 357.0800, 266.9358], device='cuda:0')\n",
      "tensor(0., device='cuda:0')\n",
      "173 109 357 266\n",
      "\n",
      "0: 480x640 (no detections), 27.7ms\n",
      "Speed: 1.0ms preprocess, 27.7ms inference, 2.9ms postprocess per image at shape (1, 3, 480, 640)\n",
      "\n",
      "0: 480x640 (no detections), 28.4ms\n",
      "Speed: 1.0ms preprocess, 28.4ms inference, 2.2ms postprocess per image at shape (1, 3, 480, 640)\n",
      "\n",
      "0: 480x640 (no detections), 28.2ms\n",
      "Speed: 1.0ms preprocess, 28.2ms inference, 2.3ms postprocess per image at shape (1, 3, 480, 640)\n",
      "\n",
      "0: 480x640 (no detections), 28.1ms\n",
      "Speed: 1.5ms preprocess, 28.1ms inference, 2.6ms postprocess per image at shape (1, 3, 480, 640)\n",
      "\n",
      "0: 480x640 (no detections), 27.0ms\n",
      "Speed: 1.1ms preprocess, 27.0ms inference, 2.8ms postprocess per image at shape (1, 3, 480, 640)\n",
      "\n",
      "0: 480x640 (no detections), 27.3ms\n",
      "Speed: 1.3ms preprocess, 27.3ms inference, 2.4ms postprocess per image at shape (1, 3, 480, 640)\n",
      "\n",
      "0: 480x640 (no detections), 26.9ms\n",
      "Speed: 1.0ms preprocess, 26.9ms inference, 2.8ms postprocess per image at shape (1, 3, 480, 640)\n",
      "\n",
      "0: 480x640 (no detections), 26.9ms\n",
      "Speed: 1.0ms preprocess, 26.9ms inference, 2.1ms postprocess per image at shape (1, 3, 480, 640)\n",
      "\n",
      "0: 480x640 1 Unripe, 27.0ms\n",
      "Speed: 1.3ms preprocess, 27.0ms inference, 24.3ms postprocess per image at shape (1, 3, 480, 640)\n",
      "tensor([174.1413, 104.5412, 357.7366, 284.6387], device='cuda:0')\n",
      "tensor(0., device='cuda:0')\n",
      "174 104 357 284\n",
      "\n",
      "0: 480x640 1 Unripe, 26.8ms\n",
      "Speed: 1.2ms preprocess, 26.8ms inference, 4.9ms postprocess per image at shape (1, 3, 480, 640)\n",
      "tensor([173.0540, 107.6544, 360.1249, 289.5084], device='cuda:0')\n",
      "tensor(0., device='cuda:0')\n",
      "173 107 360 289\n",
      "\n",
      "0: 480x640 (no detections), 29.0ms\n",
      "Speed: 1.0ms preprocess, 29.0ms inference, 4.7ms postprocess per image at shape (1, 3, 480, 640)\n",
      "\n",
      "0: 480x640 (no detections), 28.6ms\n",
      "Speed: 1.4ms preprocess, 28.6ms inference, 5.2ms postprocess per image at shape (1, 3, 480, 640)\n",
      "\n",
      "0: 480x640 (no detections), 28.2ms\n",
      "Speed: 1.2ms preprocess, 28.2ms inference, 3.5ms postprocess per image at shape (1, 3, 480, 640)\n",
      "\n",
      "0: 480x640 1 Unripe, 28.2ms\n",
      "Speed: 1.0ms preprocess, 28.2ms inference, 5.0ms postprocess per image at shape (1, 3, 480, 640)\n",
      "tensor([172.2519, 116.7765, 355.2622, 286.4285], device='cuda:0')\n",
      "tensor(0., device='cuda:0')\n",
      "172 116 355 286\n",
      "\n",
      "0: 480x640 1 Unripe, 27.4ms\n",
      "Speed: 1.0ms preprocess, 27.4ms inference, 3.9ms postprocess per image at shape (1, 3, 480, 640)\n",
      "tensor([172.0581, 116.1668, 352.6837, 269.5912], device='cuda:0')\n",
      "tensor(0., device='cuda:0')\n",
      "172 116 352 269\n",
      "\n",
      "0: 480x640 (no detections), 27.3ms\n",
      "Speed: 1.0ms preprocess, 27.3ms inference, 5.7ms postprocess per image at shape (1, 3, 480, 640)\n",
      "\n",
      "0: 480x640 (no detections), 27.1ms\n",
      "Speed: 1.0ms preprocess, 27.1ms inference, 3.9ms postprocess per image at shape (1, 3, 480, 640)\n",
      "\n",
      "0: 480x640 (no detections), 26.9ms\n",
      "Speed: 1.0ms preprocess, 26.9ms inference, 3.3ms postprocess per image at shape (1, 3, 480, 640)\n",
      "\n",
      "0: 480x640 1 Unripe, 26.8ms\n",
      "Speed: 1.5ms preprocess, 26.8ms inference, 4.1ms postprocess per image at shape (1, 3, 480, 640)\n",
      "tensor([158.0369, 112.3052, 341.0262, 270.6014], device='cuda:0')\n",
      "tensor(0., device='cuda:0')\n",
      "158 112 341 270\n",
      "\n",
      "0: 480x640 1 Unripe, 27.2ms\n",
      "Speed: 1.1ms preprocess, 27.2ms inference, 4.1ms postprocess per image at shape (1, 3, 480, 640)\n",
      "tensor([155.2557, 109.0377, 341.3951, 284.3153], device='cuda:0')\n",
      "tensor(0., device='cuda:0')\n",
      "155 109 341 284\n",
      "\n",
      "0: 480x640 (no detections), 26.9ms\n",
      "Speed: 1.0ms preprocess, 26.9ms inference, 3.9ms postprocess per image at shape (1, 3, 480, 640)\n",
      "\n",
      "0: 480x640 (no detections), 28.6ms\n",
      "Speed: 1.0ms preprocess, 28.6ms inference, 3.9ms postprocess per image at shape (1, 3, 480, 640)\n",
      "\n",
      "0: 480x640 1 Unripe, 28.4ms\n",
      "Speed: 0.9ms preprocess, 28.4ms inference, 4.6ms postprocess per image at shape (1, 3, 480, 640)\n",
      "tensor([154.1669, 108.8901, 339.3683, 289.1707], device='cuda:0')\n",
      "tensor(0., device='cuda:0')\n",
      "154 108 339 289\n",
      "\n",
      "0: 480x640 1 Unripe, 28.3ms\n",
      "Speed: 1.1ms preprocess, 28.3ms inference, 4.9ms postprocess per image at shape (1, 3, 480, 640)\n",
      "tensor([159.4515, 109.3214, 344.3301, 272.7549], device='cuda:0')\n",
      "tensor(0., device='cuda:0')\n",
      "159 109 344 272\n",
      "\n",
      "0: 480x640 (no detections), 27.5ms\n",
      "Speed: 1.0ms preprocess, 27.5ms inference, 3.2ms postprocess per image at shape (1, 3, 480, 640)\n",
      "\n",
      "0: 480x640 (no detections), 27.3ms\n",
      "Speed: 1.0ms preprocess, 27.3ms inference, 15.3ms postprocess per image at shape (1, 3, 480, 640)\n",
      "\n",
      "0: 480x640 1 Unripe, 29.4ms\n",
      "Speed: 1.4ms preprocess, 29.4ms inference, 5.5ms postprocess per image at shape (1, 3, 480, 640)\n",
      "tensor([172.3537, 118.3516, 351.5612, 271.4868], device='cuda:0')\n",
      "tensor(0., device='cuda:0')\n",
      "172 118 351 271\n",
      "\n",
      "0: 480x640 (no detections), 26.9ms\n",
      "Speed: 1.2ms preprocess, 26.9ms inference, 2.4ms postprocess per image at shape (1, 3, 480, 640)\n",
      "\n",
      "0: 480x640 (no detections), 27.1ms\n",
      "Speed: 1.4ms preprocess, 27.1ms inference, 2.1ms postprocess per image at shape (1, 3, 480, 640)\n",
      "\n",
      "0: 480x640 (no detections), 27.0ms\n",
      "Speed: 1.1ms preprocess, 27.0ms inference, 2.1ms postprocess per image at shape (1, 3, 480, 640)\n",
      "\n",
      "0: 480x640 (no detections), 27.0ms\n",
      "Speed: 1.1ms preprocess, 27.0ms inference, 2.5ms postprocess per image at shape (1, 3, 480, 640)\n",
      "\n",
      "0: 480x640 1 Unripe, 28.6ms\n",
      "Speed: 1.2ms preprocess, 28.6ms inference, 3.0ms postprocess per image at shape (1, 3, 480, 640)\n",
      "tensor([160.9205, 109.0170, 349.6264, 290.8603], device='cuda:0')\n",
      "tensor(0., device='cuda:0')\n",
      "160 109 349 290\n",
      "\n",
      "0: 480x640 (no detections), 28.5ms\n",
      "Speed: 1.0ms preprocess, 28.5ms inference, 2.1ms postprocess per image at shape (1, 3, 480, 640)\n",
      "\n",
      "0: 480x640 (no detections), 27.5ms\n",
      "Speed: 1.5ms preprocess, 27.5ms inference, 6.9ms postprocess per image at shape (1, 3, 480, 640)\n",
      "\n",
      "0: 480x640 (no detections), 27.7ms\n",
      "Speed: 1.3ms preprocess, 27.7ms inference, 2.8ms postprocess per image at shape (1, 3, 480, 640)\n",
      "\n",
      "0: 480x640 1 Unripe, 27.2ms\n",
      "Speed: 1.2ms preprocess, 27.2ms inference, 3.7ms postprocess per image at shape (1, 3, 480, 640)\n",
      "tensor([159.1894, 106.5372, 348.8813, 286.7751], device='cuda:0')\n",
      "tensor(0., device='cuda:0')\n",
      "159 106 348 286\n",
      "\n",
      "0: 480x640 (no detections), 27.1ms\n",
      "Speed: 2.0ms preprocess, 27.1ms inference, 2.5ms postprocess per image at shape (1, 3, 480, 640)\n",
      "\n",
      "0: 480x640 1 Unripe, 27.1ms\n",
      "Speed: 1.3ms preprocess, 27.1ms inference, 2.9ms postprocess per image at shape (1, 3, 480, 640)\n",
      "tensor([157.7509, 111.0056, 340.6085, 270.1835], device='cuda:0')\n",
      "tensor(0., device='cuda:0')\n",
      "157 111 340 270\n",
      "\n",
      "0: 480x640 1 Unripe, 27.3ms\n",
      "Speed: 1.0ms preprocess, 27.3ms inference, 3.3ms postprocess per image at shape (1, 3, 480, 640)\n",
      "tensor([150.0509, 110.1425, 338.7457, 291.0398], device='cuda:0')\n",
      "tensor(0., device='cuda:0')\n",
      "150 110 338 291\n",
      "\n",
      "0: 480x640 1 Unripe, 27.0ms\n",
      "Speed: 1.0ms preprocess, 27.0ms inference, 3.7ms postprocess per image at shape (1, 3, 480, 640)\n",
      "tensor([150.2715, 111.0367, 337.7267, 290.9261], device='cuda:0')\n",
      "tensor(0., device='cuda:0')\n",
      "150 111 337 290\n",
      "\n",
      "0: 480x640 1 Unripe, 27.2ms\n",
      "Speed: 1.2ms preprocess, 27.2ms inference, 3.5ms postprocess per image at shape (1, 3, 480, 640)\n",
      "tensor([154.1990, 110.3031, 340.9402, 280.8944], device='cuda:0')\n",
      "tensor(0., device='cuda:0')\n",
      "154 110 340 280\n",
      "\n",
      "0: 480x640 1 Unripe, 28.7ms\n",
      "Speed: 1.1ms preprocess, 28.7ms inference, 3.3ms postprocess per image at shape (1, 3, 480, 640)\n",
      "tensor([155.8819, 110.7970, 341.8515, 285.0424], device='cuda:0')\n",
      "tensor(0., device='cuda:0')\n",
      "155 110 341 285\n",
      "\n",
      "0: 480x640 1 Unripe, 28.4ms\n",
      "Speed: 1.2ms preprocess, 28.4ms inference, 16.0ms postprocess per image at shape (1, 3, 480, 640)\n",
      "tensor([156.4743, 107.6604, 345.6638, 284.6929], device='cuda:0')\n",
      "tensor(0., device='cuda:0')\n",
      "156 107 345 284\n",
      "\n",
      "0: 480x640 1 Unripe, 32.9ms\n",
      "Speed: 1.3ms preprocess, 32.9ms inference, 7.2ms postprocess per image at shape (1, 3, 480, 640)\n",
      "tensor([160.3116, 108.7323, 343.3506, 270.9322], device='cuda:0')\n",
      "tensor(0., device='cuda:0')\n",
      "160 108 343 270\n",
      "\n",
      "0: 480x640 1 Unripe, 27.7ms\n",
      "Speed: 1.8ms preprocess, 27.7ms inference, 5.2ms postprocess per image at shape (1, 3, 480, 640)\n",
      "tensor([158.7281, 107.1192, 346.5045, 282.4725], device='cuda:0')\n",
      "tensor(0., device='cuda:0')\n",
      "158 107 346 282\n",
      "\n",
      "0: 480x640 1 Unripe, 30.3ms\n",
      "Speed: 1.2ms preprocess, 30.3ms inference, 5.4ms postprocess per image at shape (1, 3, 480, 640)\n",
      "tensor([159.9318, 108.9437, 340.7964, 270.4139], device='cuda:0')\n",
      "tensor(0., device='cuda:0')\n",
      "159 108 340 270\n",
      "\n",
      "0: 480x640 (no detections), 28.4ms\n",
      "Speed: 1.2ms preprocess, 28.4ms inference, 4.7ms postprocess per image at shape (1, 3, 480, 640)\n",
      "\n",
      "0: 480x640 1 Unripe, 27.8ms\n",
      "Speed: 1.3ms preprocess, 27.8ms inference, 4.6ms postprocess per image at shape (1, 3, 480, 640)\n",
      "tensor([156.5013, 109.2686, 340.6406, 283.4202], device='cuda:0')\n",
      "tensor(0., device='cuda:0')\n",
      "156 109 340 283\n",
      "\n",
      "0: 480x640 1 Unripe, 26.9ms\n",
      "Speed: 1.5ms preprocess, 26.9ms inference, 5.6ms postprocess per image at shape (1, 3, 480, 640)\n",
      "tensor([157.9967, 110.5410, 337.7568, 264.1873], device='cuda:0')\n",
      "tensor(0., device='cuda:0')\n",
      "157 110 337 264\n",
      "\n",
      "0: 480x640 1 Unripe, 27.1ms\n",
      "Speed: 1.5ms preprocess, 27.1ms inference, 4.0ms postprocess per image at shape (1, 3, 480, 640)\n",
      "tensor([152.0933, 109.4704, 337.0144, 285.9794], device='cuda:0')\n",
      "tensor(0., device='cuda:0')\n",
      "152 109 337 285\n",
      "\n",
      "0: 480x640 1 Unripe, 27.2ms\n",
      "Speed: 0.9ms preprocess, 27.2ms inference, 4.1ms postprocess per image at shape (1, 3, 480, 640)\n",
      "tensor([155.2299, 109.3187, 338.9891, 280.3297], device='cuda:0')\n",
      "tensor(0., device='cuda:0')\n",
      "155 109 338 280\n",
      "\n",
      "0: 480x640 1 Unripe, 28.2ms\n",
      "Speed: 1.4ms preprocess, 28.2ms inference, 5.3ms postprocess per image at shape (1, 3, 480, 640)\n",
      "tensor([154.4177, 109.7911, 338.9680, 281.6553], device='cuda:0')\n",
      "tensor(0., device='cuda:0')\n",
      "154 109 338 281\n",
      "\n",
      "0: 480x640 1 Unripe, 28.3ms\n",
      "Speed: 1.0ms preprocess, 28.3ms inference, 3.8ms postprocess per image at shape (1, 3, 480, 640)\n",
      "tensor([154.6546, 111.2413, 338.7085, 279.5430], device='cuda:0')\n",
      "tensor(0., device='cuda:0')\n",
      "154 111 338 279\n",
      "\n",
      "0: 480x640 1 Unripe, 28.4ms\n",
      "Speed: 1.0ms preprocess, 28.4ms inference, 6.8ms postprocess per image at shape (1, 3, 480, 640)\n",
      "tensor([150.5116, 110.3674, 336.8287, 288.2424], device='cuda:0')\n",
      "tensor(0., device='cuda:0')\n",
      "150 110 336 288\n",
      "\n",
      "0: 480x640 1 Unripe, 27.0ms\n",
      "Speed: 1.4ms preprocess, 27.0ms inference, 5.1ms postprocess per image at shape (1, 3, 480, 640)\n",
      "tensor([154.2569, 109.7416, 338.7886, 283.4692], device='cuda:0')\n",
      "tensor(0., device='cuda:0')\n",
      "154 109 338 283\n",
      "\n",
      "0: 480x640 1 Unripe, 28.4ms\n",
      "Speed: 1.1ms preprocess, 28.4ms inference, 4.1ms postprocess per image at shape (1, 3, 480, 640)\n",
      "tensor([154.3875, 109.5713, 339.6770, 279.5840], device='cuda:0')\n",
      "tensor(0., device='cuda:0')\n",
      "154 109 339 279\n",
      "\n",
      "0: 480x640 1 Unripe, 27.3ms\n",
      "Speed: 1.4ms preprocess, 27.3ms inference, 6.3ms postprocess per image at shape (1, 3, 480, 640)\n",
      "tensor([154.7660, 110.1166, 340.4514, 286.0188], device='cuda:0')\n",
      "tensor(0., device='cuda:0')\n",
      "154 110 340 286\n",
      "\n",
      "0: 480x640 1 Unripe, 27.1ms\n",
      "Speed: 1.1ms preprocess, 27.1ms inference, 4.7ms postprocess per image at shape (1, 3, 480, 640)\n",
      "tensor([153.2312, 114.7325, 337.1290, 290.2421], device='cuda:0')\n",
      "tensor(0., device='cuda:0')\n",
      "153 114 337 290\n",
      "\n",
      "0: 480x640 1 Unripe, 27.1ms\n",
      "Speed: 1.0ms preprocess, 27.1ms inference, 4.4ms postprocess per image at shape (1, 3, 480, 640)\n",
      "tensor([156.6028, 113.4880, 341.9777, 288.0503], device='cuda:0')\n",
      "tensor(0., device='cuda:0')\n",
      "156 113 341 288\n",
      "\n",
      "0: 480x640 1 Unripe, 27.0ms\n",
      "Speed: 1.0ms preprocess, 27.0ms inference, 11.5ms postprocess per image at shape (1, 3, 480, 640)\n",
      "tensor([157.8000, 115.4159, 342.8862, 290.0204], device='cuda:0')\n",
      "tensor(0., device='cuda:0')\n",
      "157 115 342 290\n",
      "\n",
      "0: 480x640 1 Unripe, 26.9ms\n",
      "Speed: 1.0ms preprocess, 26.9ms inference, 3.7ms postprocess per image at shape (1, 3, 480, 640)\n",
      "tensor([161.7958, 113.2629, 342.4717, 290.2057], device='cuda:0')\n",
      "tensor(0., device='cuda:0')\n",
      "161 113 342 290\n",
      "\n",
      "0: 480x640 1 Unripe, 36.3ms\n",
      "Speed: 1.3ms preprocess, 36.3ms inference, 4.5ms postprocess per image at shape (1, 3, 480, 640)\n",
      "tensor([158.5665, 109.4223, 346.3228, 289.0197], device='cuda:0')\n",
      "tensor(0., device='cuda:0')\n",
      "158 109 346 289\n",
      "\n",
      "0: 480x640 (no detections), 27.5ms\n",
      "Speed: 3.9ms preprocess, 27.5ms inference, 2.6ms postprocess per image at shape (1, 3, 480, 640)\n",
      "\n",
      "0: 480x640 1 Unripe, 28.4ms\n",
      "Speed: 1.1ms preprocess, 28.4ms inference, 3.5ms postprocess per image at shape (1, 3, 480, 640)\n",
      "tensor([156.9735, 102.5793, 341.5877, 274.9207], device='cuda:0')\n",
      "tensor(0., device='cuda:0')\n",
      "156 102 341 274\n",
      "\n",
      "0: 480x640 1 Unripe, 28.0ms\n",
      "Speed: 1.2ms preprocess, 28.0ms inference, 3.1ms postprocess per image at shape (1, 3, 480, 640)\n",
      "tensor([145.2083,  99.3516, 337.2480, 275.7108], device='cuda:0')\n",
      "tensor(0., device='cuda:0')\n",
      "145 99 337 275\n",
      "\n",
      "0: 480x640 (no detections), 27.3ms\n",
      "Speed: 1.1ms preprocess, 27.3ms inference, 2.9ms postprocess per image at shape (1, 3, 480, 640)\n",
      "\n",
      "0: 480x640 (no detections), 27.2ms\n",
      "Speed: 1.3ms preprocess, 27.2ms inference, 2.5ms postprocess per image at shape (1, 3, 480, 640)\n",
      "\n",
      "0: 480x640 (no detections), 27.0ms\n",
      "Speed: 1.0ms preprocess, 27.0ms inference, 2.2ms postprocess per image at shape (1, 3, 480, 640)\n",
      "\n",
      "0: 480x640 (no detections), 27.0ms\n",
      "Speed: 1.1ms preprocess, 27.0ms inference, 2.6ms postprocess per image at shape (1, 3, 480, 640)\n",
      "\n",
      "0: 480x640 (no detections), 27.0ms\n",
      "Speed: 1.3ms preprocess, 27.0ms inference, 2.3ms postprocess per image at shape (1, 3, 480, 640)\n",
      "\n",
      "0: 480x640 (no detections), 32.1ms\n",
      "Speed: 1.5ms preprocess, 32.1ms inference, 2.7ms postprocess per image at shape (1, 3, 480, 640)\n",
      "\n",
      "0: 480x640 (no detections), 27.6ms\n",
      "Speed: 1.1ms preprocess, 27.6ms inference, 2.9ms postprocess per image at shape (1, 3, 480, 640)\n",
      "\n",
      "0: 480x640 (no detections), 28.6ms\n",
      "Speed: 1.0ms preprocess, 28.6ms inference, 2.2ms postprocess per image at shape (1, 3, 480, 640)\n",
      "\n",
      "0: 480x640 (no detections), 28.4ms\n",
      "Speed: 1.0ms preprocess, 28.4ms inference, 2.9ms postprocess per image at shape (1, 3, 480, 640)\n",
      "\n",
      "0: 480x640 (no detections), 27.5ms\n",
      "Speed: 1.1ms preprocess, 27.5ms inference, 2.2ms postprocess per image at shape (1, 3, 480, 640)\n",
      "\n",
      "0: 480x640 (no detections), 27.3ms\n",
      "Speed: 1.5ms preprocess, 27.3ms inference, 2.2ms postprocess per image at shape (1, 3, 480, 640)\n",
      "\n",
      "0: 480x640 (no detections), 27.2ms\n",
      "Speed: 1.8ms preprocess, 27.2ms inference, 13.5ms postprocess per image at shape (1, 3, 480, 640)\n",
      "\n",
      "0: 480x640 (no detections), 27.1ms\n",
      "Speed: 1.0ms preprocess, 27.1ms inference, 2.6ms postprocess per image at shape (1, 3, 480, 640)\n",
      "\n",
      "0: 480x640 (no detections), 26.9ms\n",
      "Speed: 1.1ms preprocess, 26.9ms inference, 2.7ms postprocess per image at shape (1, 3, 480, 640)\n",
      "\n",
      "0: 480x640 (no detections), 27.1ms\n",
      "Speed: 0.9ms preprocess, 27.1ms inference, 4.7ms postprocess per image at shape (1, 3, 480, 640)\n",
      "\n",
      "0: 480x640 (no detections), 26.0ms\n",
      "Speed: 1.5ms preprocess, 26.0ms inference, 4.6ms postprocess per image at shape (1, 3, 480, 640)\n",
      "\n",
      "0: 480x640 (no detections), 27.5ms\n",
      "Speed: 1.2ms preprocess, 27.5ms inference, 3.7ms postprocess per image at shape (1, 3, 480, 640)\n",
      "\n",
      "0: 480x640 (no detections), 28.5ms\n",
      "Speed: 1.0ms preprocess, 28.5ms inference, 3.6ms postprocess per image at shape (1, 3, 480, 640)\n",
      "\n",
      "0: 480x640 (no detections), 28.3ms\n",
      "Speed: 1.0ms preprocess, 28.3ms inference, 3.7ms postprocess per image at shape (1, 3, 480, 640)\n",
      "\n",
      "0: 480x640 (no detections), 27.4ms\n",
      "Speed: 1.0ms preprocess, 27.4ms inference, 4.3ms postprocess per image at shape (1, 3, 480, 640)\n",
      "\n",
      "0: 480x640 (no detections), 27.1ms\n",
      "Speed: 1.2ms preprocess, 27.1ms inference, 3.5ms postprocess per image at shape (1, 3, 480, 640)\n",
      "\n",
      "0: 480x640 (no detections), 27.3ms\n",
      "Speed: 1.2ms preprocess, 27.3ms inference, 3.6ms postprocess per image at shape (1, 3, 480, 640)\n",
      "\n",
      "0: 480x640 (no detections), 27.0ms\n",
      "Speed: 1.5ms preprocess, 27.0ms inference, 5.0ms postprocess per image at shape (1, 3, 480, 640)\n",
      "\n",
      "0: 480x640 (no detections), 25.9ms\n",
      "Speed: 1.6ms preprocess, 25.9ms inference, 4.1ms postprocess per image at shape (1, 3, 480, 640)\n",
      "\n",
      "0: 480x640 (no detections), 28.3ms\n",
      "Speed: 1.0ms preprocess, 28.3ms inference, 3.4ms postprocess per image at shape (1, 3, 480, 640)\n",
      "\n",
      "0: 480x640 (no detections), 27.2ms\n",
      "Speed: 1.1ms preprocess, 27.2ms inference, 3.7ms postprocess per image at shape (1, 3, 480, 640)\n",
      "\n",
      "0: 480x640 (no detections), 28.3ms\n",
      "Speed: 1.1ms preprocess, 28.3ms inference, 4.4ms postprocess per image at shape (1, 3, 480, 640)\n",
      "\n",
      "0: 480x640 (no detections), 28.5ms\n",
      "Speed: 1.0ms preprocess, 28.5ms inference, 3.4ms postprocess per image at shape (1, 3, 480, 640)\n",
      "\n",
      "0: 480x640 (no detections), 28.3ms\n",
      "Speed: 0.9ms preprocess, 28.3ms inference, 10.1ms postprocess per image at shape (1, 3, 480, 640)\n",
      "\n",
      "0: 480x640 (no detections), 27.5ms\n",
      "Speed: 1.0ms preprocess, 27.5ms inference, 2.1ms postprocess per image at shape (1, 3, 480, 640)\n",
      "\n",
      "0: 480x640 (no detections), 27.1ms\n",
      "Speed: 1.1ms preprocess, 27.1ms inference, 2.6ms postprocess per image at shape (1, 3, 480, 640)\n",
      "\n",
      "0: 480x640 (no detections), 26.9ms\n",
      "Speed: 1.2ms preprocess, 26.9ms inference, 2.1ms postprocess per image at shape (1, 3, 480, 640)\n",
      "\n",
      "0: 480x640 (no detections), 34.7ms\n",
      "Speed: 1.3ms preprocess, 34.7ms inference, 2.7ms postprocess per image at shape (1, 3, 480, 640)\n",
      "\n",
      "0: 480x640 (no detections), 27.9ms\n",
      "Speed: 1.0ms preprocess, 27.9ms inference, 2.6ms postprocess per image at shape (1, 3, 480, 640)\n",
      "\n",
      "0: 480x640 (no detections), 27.9ms\n",
      "Speed: 1.3ms preprocess, 27.9ms inference, 3.4ms postprocess per image at shape (1, 3, 480, 640)\n",
      "\n",
      "0: 480x640 (no detections), 28.2ms\n",
      "Speed: 1.0ms preprocess, 28.2ms inference, 2.6ms postprocess per image at shape (1, 3, 480, 640)\n",
      "\n",
      "0: 480x640 (no detections), 27.4ms\n",
      "Speed: 1.9ms preprocess, 27.4ms inference, 2.3ms postprocess per image at shape (1, 3, 480, 640)\n",
      "\n",
      "0: 480x640 (no detections), 27.3ms\n",
      "Speed: 1.0ms preprocess, 27.3ms inference, 2.2ms postprocess per image at shape (1, 3, 480, 640)\n",
      "\n",
      "0: 480x640 (no detections), 27.2ms\n",
      "Speed: 0.9ms preprocess, 27.2ms inference, 3.0ms postprocess per image at shape (1, 3, 480, 640)\n",
      "\n",
      "0: 480x640 (no detections), 26.5ms\n",
      "Speed: 1.1ms preprocess, 26.5ms inference, 2.8ms postprocess per image at shape (1, 3, 480, 640)\n",
      "\n",
      "0: 480x640 (no detections), 27.4ms\n",
      "Speed: 1.1ms preprocess, 27.4ms inference, 2.3ms postprocess per image at shape (1, 3, 480, 640)\n",
      "\n",
      "0: 480x640 (no detections), 27.3ms\n",
      "Speed: 1.7ms preprocess, 27.3ms inference, 2.9ms postprocess per image at shape (1, 3, 480, 640)\n",
      "\n",
      "0: 480x640 (no detections), 26.6ms\n",
      "Speed: 1.3ms preprocess, 26.6ms inference, 2.7ms postprocess per image at shape (1, 3, 480, 640)\n",
      "\n",
      "0: 480x640 (no detections), 27.2ms\n",
      "Speed: 1.1ms preprocess, 27.2ms inference, 2.2ms postprocess per image at shape (1, 3, 480, 640)\n",
      "\n",
      "0: 480x640 (no detections), 27.9ms\n",
      "Speed: 1.2ms preprocess, 27.9ms inference, 2.5ms postprocess per image at shape (1, 3, 480, 640)\n",
      "\n",
      "0: 480x640 (no detections), 27.3ms\n",
      "Speed: 1.4ms preprocess, 27.3ms inference, 13.8ms postprocess per image at shape (1, 3, 480, 640)\n",
      "\n",
      "0: 480x640 (no detections), 28.5ms\n",
      "Speed: 1.7ms preprocess, 28.5ms inference, 3.1ms postprocess per image at shape (1, 3, 480, 640)\n",
      "\n",
      "0: 480x640 (no detections), 28.3ms\n",
      "Speed: 1.3ms preprocess, 28.3ms inference, 2.1ms postprocess per image at shape (1, 3, 480, 640)\n",
      "\n",
      "0: 480x640 (no detections), 28.6ms\n",
      "Speed: 1.1ms preprocess, 28.6ms inference, 2.4ms postprocess per image at shape (1, 3, 480, 640)\n",
      "\n",
      "0: 480x640 (no detections), 27.7ms\n",
      "Speed: 1.1ms preprocess, 27.7ms inference, 2.2ms postprocess per image at shape (1, 3, 480, 640)\n",
      "\n",
      "0: 480x640 (no detections), 26.1ms\n",
      "Speed: 1.3ms preprocess, 26.1ms inference, 11.9ms postprocess per image at shape (1, 3, 480, 640)\n",
      "\n",
      "0: 480x640 (no detections), 27.7ms\n",
      "Speed: 1.2ms preprocess, 27.7ms inference, 3.1ms postprocess per image at shape (1, 3, 480, 640)\n",
      "\n",
      "0: 480x640 (no detections), 28.0ms\n",
      "Speed: 1.0ms preprocess, 28.0ms inference, 2.0ms postprocess per image at shape (1, 3, 480, 640)\n",
      "\n",
      "0: 480x640 (no detections), 26.5ms\n",
      "Speed: 1.3ms preprocess, 26.5ms inference, 2.2ms postprocess per image at shape (1, 3, 480, 640)\n",
      "\n",
      "0: 480x640 (no detections), 27.7ms\n",
      "Speed: 1.0ms preprocess, 27.7ms inference, 2.2ms postprocess per image at shape (1, 3, 480, 640)\n",
      "\n",
      "0: 480x640 (no detections), 27.2ms\n",
      "Speed: 1.0ms preprocess, 27.2ms inference, 2.4ms postprocess per image at shape (1, 3, 480, 640)\n",
      "\n",
      "0: 480x640 (no detections), 28.4ms\n",
      "Speed: 1.3ms preprocess, 28.4ms inference, 2.5ms postprocess per image at shape (1, 3, 480, 640)\n",
      "\n",
      "0: 480x640 (no detections), 27.4ms\n",
      "Speed: 1.3ms preprocess, 27.4ms inference, 2.5ms postprocess per image at shape (1, 3, 480, 640)\n",
      "\n",
      "0: 480x640 (no detections), 28.2ms\n",
      "Speed: 1.0ms preprocess, 28.2ms inference, 2.4ms postprocess per image at shape (1, 3, 480, 640)\n",
      "\n",
      "0: 480x640 (no detections), 27.4ms\n",
      "Speed: 1.0ms preprocess, 27.4ms inference, 2.6ms postprocess per image at shape (1, 3, 480, 640)\n",
      "\n",
      "0: 480x640 (no detections), 27.0ms\n",
      "Speed: 1.2ms preprocess, 27.0ms inference, 2.4ms postprocess per image at shape (1, 3, 480, 640)\n",
      "\n",
      "0: 480x640 (no detections), 27.2ms\n",
      "Speed: 1.3ms preprocess, 27.2ms inference, 2.2ms postprocess per image at shape (1, 3, 480, 640)\n",
      "\n",
      "0: 480x640 (no detections), 27.8ms\n",
      "Speed: 1.4ms preprocess, 27.8ms inference, 13.8ms postprocess per image at shape (1, 3, 480, 640)\n",
      "\n",
      "0: 480x640 (no detections), 26.2ms\n",
      "Speed: 1.6ms preprocess, 26.2ms inference, 2.7ms postprocess per image at shape (1, 3, 480, 640)\n",
      "\n",
      "0: 480x640 (no detections), 29.8ms\n",
      "Speed: 1.2ms preprocess, 29.8ms inference, 2.6ms postprocess per image at shape (1, 3, 480, 640)\n",
      "\n",
      "0: 480x640 (no detections), 27.4ms\n",
      "Speed: 1.0ms preprocess, 27.4ms inference, 2.8ms postprocess per image at shape (1, 3, 480, 640)\n",
      "\n",
      "0: 480x640 (no detections), 28.1ms\n",
      "Speed: 1.4ms preprocess, 28.1ms inference, 2.7ms postprocess per image at shape (1, 3, 480, 640)\n",
      "\n",
      "0: 480x640 (no detections), 27.8ms\n",
      "Speed: 0.9ms preprocess, 27.8ms inference, 2.5ms postprocess per image at shape (1, 3, 480, 640)\n",
      "\n",
      "0: 480x640 (no detections), 27.8ms\n",
      "Speed: 1.2ms preprocess, 27.8ms inference, 2.9ms postprocess per image at shape (1, 3, 480, 640)\n",
      "\n",
      "0: 480x640 (no detections), 27.1ms\n",
      "Speed: 1.0ms preprocess, 27.1ms inference, 3.2ms postprocess per image at shape (1, 3, 480, 640)\n",
      "\n",
      "0: 480x640 (no detections), 27.2ms\n",
      "Speed: 1.0ms preprocess, 27.2ms inference, 2.6ms postprocess per image at shape (1, 3, 480, 640)\n",
      "\n",
      "0: 480x640 (no detections), 27.2ms\n",
      "Speed: 1.6ms preprocess, 27.2ms inference, 2.9ms postprocess per image at shape (1, 3, 480, 640)\n",
      "\n",
      "0: 480x640 (no detections), 27.4ms\n",
      "Speed: 1.3ms preprocess, 27.4ms inference, 3.0ms postprocess per image at shape (1, 3, 480, 640)\n",
      "\n",
      "0: 480x640 (no detections), 27.3ms\n",
      "Speed: 1.1ms preprocess, 27.3ms inference, 4.2ms postprocess per image at shape (1, 3, 480, 640)\n",
      "\n",
      "0: 480x640 (no detections), 26.5ms\n",
      "Speed: 1.9ms preprocess, 26.5ms inference, 3.0ms postprocess per image at shape (1, 3, 480, 640)\n",
      "\n",
      "0: 480x640 (no detections), 28.1ms\n",
      "Speed: 1.0ms preprocess, 28.1ms inference, 3.9ms postprocess per image at shape (1, 3, 480, 640)\n",
      "\n",
      "0: 480x640 (no detections), 27.5ms\n",
      "Speed: 1.1ms preprocess, 27.5ms inference, 3.6ms postprocess per image at shape (1, 3, 480, 640)\n",
      "\n",
      "0: 480x640 (no detections), 28.4ms\n",
      "Speed: 1.0ms preprocess, 28.4ms inference, 4.3ms postprocess per image at shape (1, 3, 480, 640)\n",
      "\n",
      "0: 480x640 (no detections), 28.1ms\n",
      "Speed: 1.0ms preprocess, 28.1ms inference, 3.4ms postprocess per image at shape (1, 3, 480, 640)\n",
      "\n",
      "0: 480x640 (no detections), 27.5ms\n",
      "Speed: 1.1ms preprocess, 27.5ms inference, 10.6ms postprocess per image at shape (1, 3, 480, 640)\n",
      "\n",
      "0: 480x640 (no detections), 27.3ms\n",
      "Speed: 1.1ms preprocess, 27.3ms inference, 2.2ms postprocess per image at shape (1, 3, 480, 640)\n",
      "\n",
      "0: 480x640 (no detections), 26.9ms\n",
      "Speed: 1.1ms preprocess, 26.9ms inference, 2.6ms postprocess per image at shape (1, 3, 480, 640)\n",
      "\n",
      "0: 480x640 (no detections), 25.2ms\n",
      "Speed: 1.5ms preprocess, 25.2ms inference, 8.0ms postprocess per image at shape (1, 3, 480, 640)\n",
      "\n",
      "0: 480x640 (no detections), 28.9ms\n",
      "Speed: 1.3ms preprocess, 28.9ms inference, 2.3ms postprocess per image at shape (1, 3, 480, 640)\n",
      "\n",
      "0: 480x640 (no detections), 28.3ms\n",
      "Speed: 1.2ms preprocess, 28.3ms inference, 2.4ms postprocess per image at shape (1, 3, 480, 640)\n",
      "\n",
      "0: 480x640 (no detections), 27.4ms\n",
      "Speed: 1.3ms preprocess, 27.4ms inference, 2.6ms postprocess per image at shape (1, 3, 480, 640)\n",
      "\n",
      "0: 480x640 (no detections), 27.2ms\n",
      "Speed: 1.2ms preprocess, 27.2ms inference, 2.2ms postprocess per image at shape (1, 3, 480, 640)\n",
      "\n",
      "0: 480x640 (no detections), 27.1ms\n",
      "Speed: 1.0ms preprocess, 27.1ms inference, 2.1ms postprocess per image at shape (1, 3, 480, 640)\n",
      "\n",
      "0: 480x640 (no detections), 27.5ms\n",
      "Speed: 1.2ms preprocess, 27.5ms inference, 2.7ms postprocess per image at shape (1, 3, 480, 640)\n",
      "\n",
      "0: 480x640 (no detections), 27.1ms\n",
      "Speed: 1.3ms preprocess, 27.1ms inference, 2.5ms postprocess per image at shape (1, 3, 480, 640)\n",
      "\n",
      "0: 480x640 (no detections), 31.7ms\n",
      "Speed: 1.1ms preprocess, 31.7ms inference, 2.7ms postprocess per image at shape (1, 3, 480, 640)\n",
      "\n",
      "0: 480x640 (no detections), 26.4ms\n",
      "Speed: 1.4ms preprocess, 26.4ms inference, 2.8ms postprocess per image at shape (1, 3, 480, 640)\n",
      "\n",
      "0: 480x640 (no detections), 27.7ms\n",
      "Speed: 1.5ms preprocess, 27.7ms inference, 2.8ms postprocess per image at shape (1, 3, 480, 640)\n",
      "\n",
      "0: 480x640 (no detections), 27.2ms\n",
      "Speed: 1.4ms preprocess, 27.2ms inference, 2.5ms postprocess per image at shape (1, 3, 480, 640)\n",
      "\n",
      "0: 480x640 (no detections), 27.0ms\n",
      "Speed: 1.8ms preprocess, 27.0ms inference, 2.4ms postprocess per image at shape (1, 3, 480, 640)\n",
      "\n",
      "0: 480x640 (no detections), 26.9ms\n",
      "Speed: 1.1ms preprocess, 26.9ms inference, 2.5ms postprocess per image at shape (1, 3, 480, 640)\n",
      "\n",
      "0: 480x640 (no detections), 28.5ms\n",
      "Speed: 1.1ms preprocess, 28.5ms inference, 11.7ms postprocess per image at shape (1, 3, 480, 640)\n",
      "\n",
      "0: 480x640 (no detections), 28.4ms\n",
      "Speed: 1.1ms preprocess, 28.4ms inference, 2.2ms postprocess per image at shape (1, 3, 480, 640)\n",
      "\n",
      "0: 480x640 (no detections), 28.3ms\n",
      "Speed: 1.0ms preprocess, 28.3ms inference, 2.8ms postprocess per image at shape (1, 3, 480, 640)\n",
      "\n",
      "0: 480x640 (no detections), 28.9ms\n",
      "Speed: 1.3ms preprocess, 28.9ms inference, 6.4ms postprocess per image at shape (1, 3, 480, 640)\n",
      "\n",
      "0: 480x640 (no detections), 28.4ms\n",
      "Speed: 1.8ms preprocess, 28.4ms inference, 2.9ms postprocess per image at shape (1, 3, 480, 640)\n",
      "\n",
      "0: 480x640 (no detections), 30.4ms\n",
      "Speed: 1.1ms preprocess, 30.4ms inference, 2.4ms postprocess per image at shape (1, 3, 480, 640)\n",
      "\n",
      "0: 480x640 (no detections), 28.3ms\n",
      "Speed: 1.2ms preprocess, 28.3ms inference, 2.7ms postprocess per image at shape (1, 3, 480, 640)\n"
     ]
    }
   ],
   "source": [
    "import cv2\n",
    "cam = cv2.VideoCapture(0)\n",
    "import torch\n",
    "from torchvision.transforms.functional import normalize\n",
    "from ultralytics import YOLO\n",
    "model_test = YOLO(model=\"./runs/detect/train5/weights/best.pt\")\n",
    "\n",
    "color_dict = [(0,255,0), (255,255,0)]\n",
    "\n",
    "while True:\n",
    "    ret, frame = cam.read()\n",
    "    frame_tensor = torch.from_numpy(frame.astype(float)/255)\n",
    "    frame_tensor = frame_tensor.permute(2,0,1)\n",
    "    \n",
    "    detections = model_test(frame_tensor.unsqueeze(0))\n",
    "    for detection in detections:\n",
    "        if detection.boxes.data.numel() != 0:\n",
    "            boxes = detection.boxes.xyxy\n",
    "            cls_names = detection.boxes.cls\n",
    "            for i in range(detection.boxes.xyxy.shape[0]):\n",
    "                print(boxes[i, :])\n",
    "                print(cls_names[i])\n",
    "                #x1, y1, x2, y2 = boxes[i, :].view(float)\n",
    "                x1, y1, x2, y2 = (boxes[i, :].detach().cpu().numpy())\n",
    "                x1, y1, x2, y2 = int(x1), int(y1), int(x2), int(y2)\n",
    "                print(x1, y1, x2, y2)\n",
    "                cv2.rectangle(frame, (x1,y1), (x2,y2), color=color_dict[int(cls_names[i])])\n",
    "    cv2.imshow('Camera', frame)\n",
    "    if cv2.waitKey(1) == ord('q'):\n",
    "        break\n",
    "cam.release()\n",
    "cv2.destroyAllWindows()"
   ]
  },
  {
   "cell_type": "code",
   "execution_count": null,
   "metadata": {},
   "outputs": [],
   "source": []
  }
 ],
 "metadata": {
  "kernelspec": {
   "display_name": "base",
   "language": "python",
   "name": "python3"
  },
  "language_info": {
   "codemirror_mode": {
    "name": "ipython",
    "version": 3
   },
   "file_extension": ".py",
   "mimetype": "text/x-python",
   "name": "python",
   "nbconvert_exporter": "python",
   "pygments_lexer": "ipython3",
   "version": "3.11.5"
  }
 },
 "nbformat": 4,
 "nbformat_minor": 2
}
